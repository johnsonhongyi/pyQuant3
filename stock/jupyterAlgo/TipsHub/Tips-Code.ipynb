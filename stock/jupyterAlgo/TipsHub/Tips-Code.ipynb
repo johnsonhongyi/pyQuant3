{
 "cells": [
  {
   "cell_type": "markdown",
   "metadata": {
    "tags": [],
    "toc": "true"
   },
   "source": [
    "<h1>Table of Contents<span class=\"tocSkip\"></span></h1>\n",
    "<div class=\"toc\"><ul class=\"toc-item\"><li><span><a href=\"#GDB-Debug\" data-toc-modified-id=\"GDB-Debug-1\"><span class=\"toc-item-num\">1&nbsp;&nbsp;</span>GDB Debug</a></span><ul class=\"toc-item\"><li><span><a href=\"#传统pdb\" data-toc-modified-id=\"传统pdb-1.1\"><span class=\"toc-item-num\">1.1&nbsp;&nbsp;</span>传统pdb</a></span></li><li><span><a href=\"#Jupyter-ipdb\" data-toc-modified-id=\"Jupyter-ipdb-1.2\"><span class=\"toc-item-num\">1.2&nbsp;&nbsp;</span>Jupyter ipdb</a></span></li><li><span><a href=\"#SET-Jupter-outputLog\" data-toc-modified-id=\"SET-Jupter-outputLog-1.3\"><span class=\"toc-item-num\">1.3&nbsp;&nbsp;</span>SET Jupter outputLog</a></span></li></ul></li><li><span><a href=\"#Matplotlab-realtime-interactive\" data-toc-modified-id=\"Matplotlab-realtime-interactive-2\"><span class=\"toc-item-num\">2&nbsp;&nbsp;</span>Matplotlab realtime interactive</a></span></li><li><span><a href=\"#设置中文\" data-toc-modified-id=\"设置中文-3\"><span class=\"toc-item-num\">3&nbsp;&nbsp;</span>设置中文</a></span><ul class=\"toc-item\"><li><span><a href=\"#系统内置类型\" data-toc-modified-id=\"系统内置类型-3.1\"><span class=\"toc-item-num\">3.1&nbsp;&nbsp;</span>系统内置类型</a></span></li><li><span><a href=\"#设置rc\" data-toc-modified-id=\"设置rc-3.2\"><span class=\"toc-item-num\">3.2&nbsp;&nbsp;</span>设置rc</a></span></li></ul></li><li><span><a href=\"#Logger-to-Console-not-webpage\" data-toc-modified-id=\"Logger-to-Console-not-webpage-4\"><span class=\"toc-item-num\">4&nbsp;&nbsp;</span>Logger to Console not webpage</a></span><ul class=\"toc-item\"><li><span><a href=\"#check-Logger-stderr\" data-toc-modified-id=\"check-Logger-stderr-4.1\"><span class=\"toc-item-num\">4.1&nbsp;&nbsp;</span>check Logger stderr</a></span></li><li><span><a href=\"#Init-Logger-logging.StreamHandler-and-Format-out\" data-toc-modified-id=\"Init-Logger-logging.StreamHandler-and-Format-out-4.2\"><span class=\"toc-item-num\">4.2&nbsp;&nbsp;</span>Init Logger logging.StreamHandler and Format out</a></span></li><li><span><a href=\"#Loger-to-Console-fd\" data-toc-modified-id=\"Loger-to-Console-fd-4.3\"><span class=\"toc-item-num\">4.3&nbsp;&nbsp;</span>Loger to Console fd</a></span></li><li><span><a href=\"#Init-Tdd-and-Logger-To-webpage\" data-toc-modified-id=\"Init-Tdd-and-Logger-To-webpage-4.4\"><span class=\"toc-item-num\">4.4&nbsp;&nbsp;</span>Init Tdd and Logger To webpage</a></span></li><li><span><a href=\"#Ipython-Display-Notebook-cell\" data-toc-modified-id=\"Ipython-Display-Notebook-cell-4.5\"><span class=\"toc-item-num\">4.5&nbsp;&nbsp;</span>Ipython Display Notebook cell</a></span></li></ul></li><li><span><a href=\"#normalize_code\" data-toc-modified-id=\"normalize_code-5\"><span class=\"toc-item-num\">5&nbsp;&nbsp;</span>normalize_code</a></span><ul class=\"toc-item\"><li><span><a href=\"#normalize_code\" data-toc-modified-id=\"normalize_code-5.1\"><span class=\"toc-item-num\">5.1&nbsp;&nbsp;</span>normalize_code</a></span></li></ul></li></ul></div>"
   ]
  },
  {
   "cell_type": "markdown",
   "metadata": {},
   "source": [
    "# GDB Debug"
   ]
  },
  {
   "cell_type": "markdown",
   "metadata": {},
   "source": [
    "## 传统pdb"
   ]
  },
  {
   "cell_type": "code",
   "execution_count": 4,
   "metadata": {},
   "outputs": [
    {
     "name": "stdout",
     "output_type": "stream",
     "text": [
      "--Return--\n",
      "> <ipython-input-4-cfa1e75612c6>(2)<module>()->None\n",
      "-> pdb.set_trace()\n"
     ]
    },
    {
     "name": "stdin",
     "output_type": "stream",
     "text": [
      "(Pdb)  c\n"
     ]
    },
    {
     "name": "stdout",
     "output_type": "stream",
     "text": [
      "new:\n"
     ]
    }
   ],
   "source": [
    "import pdb \n",
    "pdb.set_trace() \n",
    "print 'new:'"
   ]
  },
  {
   "cell_type": "markdown",
   "metadata": {},
   "source": [
    "## Jupyter ipdb"
   ]
  },
  {
   "cell_type": "code",
   "execution_count": 7,
   "metadata": {},
   "outputs": [
    {
     "name": "stdout",
     "output_type": "stream",
     "text": [
      "--Return--\n",
      "None\n",
      "> \u001b[1;32m<ipython-input-7-2c6a8f968603>\u001b[0m(2)\u001b[0;36m<module>\u001b[1;34m()\u001b[0m\n",
      "\u001b[1;32m      1 \u001b[1;33m\u001b[1;32mfrom\u001b[0m \u001b[0mIPython\u001b[0m\u001b[1;33m.\u001b[0m\u001b[0mcore\u001b[0m\u001b[1;33m.\u001b[0m\u001b[0mdebugger\u001b[0m \u001b[1;32mimport\u001b[0m \u001b[0mTracer\u001b[0m\u001b[1;33m\u001b[0m\u001b[0m\n",
      "\u001b[0m\u001b[1;32m----> 2 \u001b[1;33m\u001b[0mTracer\u001b[0m\u001b[1;33m(\u001b[0m\u001b[1;33m)\u001b[0m\u001b[1;33m(\u001b[0m\u001b[1;33m)\u001b[0m \u001b[1;31m#this one triggers the debugger\u001b[0m\u001b[1;33m\u001b[0m\u001b[0m\n",
      "\u001b[0m\u001b[1;32m      3 \u001b[1;33m\u001b[1;32mprint\u001b[0m\u001b[1;33m(\u001b[0m\u001b[1;34m'new'\u001b[0m\u001b[1;33m)\u001b[0m\u001b[1;33m\u001b[0m\u001b[0m\n",
      "\u001b[0m\n"
     ]
    },
    {
     "name": "stdin",
     "output_type": "stream",
     "text": [
      "ipdb>  c\n"
     ]
    },
    {
     "name": "stdout",
     "output_type": "stream",
     "text": [
      "new\n"
     ]
    }
   ],
   "source": [
    "from IPython.core.debugger import Tracer\n",
    "Tracer()() #this one triggers the debugger\n",
    "print('new')"
   ]
  },
  {
   "cell_type": "code",
   "execution_count": null,
   "metadata": {},
   "outputs": [],
   "source": [
    "import IPython.core.debugger\n",
    "dbg = IPython.core.debugger.Pdb()\n",
    "dbg.set_trace()\n",
    "print 'new:'"
   ]
  },
  {
   "cell_type": "code",
   "execution_count": null,
   "metadata": {
    "ExecuteTime": {
     "start_time": "2017-09-18T09:16:54.740Z"
    }
   },
   "outputs": [
    {
     "name": "stdout",
     "output_type": "stream",
     "text": [
      "--Return--\n",
      "> <ipython-input-1-f48fd496c6b7>(8)<module>()->None\n",
      "-> import pdb;pdb.set_trace()\n",
      "(Pdb) n\n",
      "> /Users/Johnson/anaconda/lib/python2.7/site-packages/IPython/core/interactiveshell.py(2884)run_code()\n",
      "-> sys.excepthook = old_excepthook\n"
     ]
    }
   ],
   "source": [
    "import sys\n",
    "old_excepthook = sys.excepthook\n",
    "def new_excepthook(exception_type, exception_value, traceback):\n",
    "    if hasattr(exception_type, 'on_raise'):\n",
    "        exception_type.on_raise(exception_value)\n",
    "    old_excepthook(exception_type, exception_value, traceback)\n",
    "sys.excepthook = new_excepthook\n",
    "import pdb;pdb.set_trace()\n",
    "print 'new:',sys.excepthook"
   ]
  },
  {
   "cell_type": "markdown",
   "metadata": {},
   "source": [
    "## SET Jupter outputLog"
   ]
  },
  {
   "cell_type": "code",
   "execution_count": null,
   "metadata": {},
   "outputs": [],
   "source": [
    "# set up logging #####################################\n",
    "import sys,logging,logging.handlers,os.path\n",
    "logfile = os.path.splitext(os.path.basename(sys.argv[0]))[0]+\".log\"\n",
    "l = logging.getLogger()\n",
    "l.setLevel(logging.DEBUG)\n",
    "f = logging.Formatter('%(asctime)s %(process)d:%(thread)d %(name)s %(levelname)-8s %(message)s')\n",
    "h=logging.StreamHandler(sys.stdout)\n",
    "h.setLevel(logging.NOTSET)\n",
    "h.setFormatter(f)\n",
    "l.addHandler(h)\n",
    "h=logging.handlers.RotatingFileHandler(logfile,maxBytes=1024**2,backupCount=1)\n",
    "h.setLevel(logging.NOTSET)\n",
    "h.setFormatter(f)\n",
    "l.addHandler(h)\n",
    "del h,f\n",
    "#hook to log unhandled exceptions\n",
    "def excepthook(type,value,traceback):\n",
    "    logging.error(\"Unhandled exception occured\",exc_info=(type,value,traceback))\n",
    "    #Don't need another copy of traceback on stderr\n",
    "    if old_excepthook!=sys.__excepthook__:\n",
    "        old_excepthook(type,value,traceback)\n",
    "old_excepthook = sys.excepthook\n",
    "sys.excepthook = excepthook\n",
    "del excepthook,logfile\n",
    "# ####################################################"
   ]
  },
  {
   "cell_type": "markdown",
   "metadata": {},
   "source": [
    "# 显示系统参数,执行路径及,matplotlib"
   ]
  },
  {
   "cell_type": "code",
   "execution_count": 1,
   "metadata": {
    "execution": {
     "iopub.execute_input": "2023-01-16T08:13:41.111521Z",
     "iopub.status.busy": "2023-01-16T08:13:41.111521Z",
     "iopub.status.idle": "2023-01-16T08:13:41.120471Z",
     "shell.execute_reply": "2023-01-16T08:13:41.119474Z",
     "shell.execute_reply.started": "2023-01-16T08:13:41.111521Z"
    },
    "tags": []
   },
   "outputs": [
    {
     "data": {
      "text/plain": [
       "'C:\\\\Users\\\\Johnson\\\\Anaconda2\\\\envs\\\\pytorch_gpu\\\\python.exe'"
      ]
     },
     "execution_count": 1,
     "metadata": {},
     "output_type": "execute_result"
    }
   ],
   "source": [
    "import sys\n",
    "sys.executable"
   ]
  },
  {
   "cell_type": "code",
   "execution_count": 10,
   "metadata": {
    "execution": {
     "iopub.execute_input": "2023-01-16T16:12:09.731000+08:00",
     "iopub.status.busy": "2023-01-16T16:12:09.730000+08:00",
     "iopub.status.idle": "2023-01-16T16:12:23.874000+08:00",
     "shell.execute_reply": "2023-01-16T16:12:23.874000+08:00",
     "shell.execute_reply.started": "2023-01-16T16:12:09.731000"
    }
   },
   "outputs": [
    {
     "name": "stdout",
     "output_type": "stream",
     "text": [
      "# packages in environment at C:\\Users\\Johnson\\Anaconda2\\envs\\pytorch_gpu:\n",
      "#\n",
      "# Name                    Version                   Build  Channel\n",
      "ipympl                    0.9.2                    pypi_0    pypi\n"
     ]
    }
   ],
   "source": [
    "!conda list ipympl"
   ]
  },
  {
   "cell_type": "markdown",
   "metadata": {
    "tags": []
   },
   "source": [
    "# Matplotlab realtime interactive"
   ]
  },
  {
   "cell_type": "code",
   "execution_count": 2,
   "metadata": {
    "execution": {
     "iopub.execute_input": "2023-01-16T08:14:19.662406Z",
     "iopub.status.busy": "2023-01-16T08:14:19.662406Z",
     "iopub.status.idle": "2023-01-16T08:14:20.723566Z",
     "shell.execute_reply": "2023-01-16T08:14:20.722613Z",
     "shell.execute_reply.started": "2023-01-16T08:14:19.662406Z"
    },
    "tags": []
   },
   "outputs": [
    {
     "name": "stdout",
     "output_type": "stream",
     "text": [
      "module://ipykernel.pylab.backend_inline\n"
     ]
    }
   ],
   "source": [
    "import matplotlib\n",
    "# matplotlib.use('TkAgg')\n",
    "print(matplotlib.get_backend())\n",
    "%matplotlib widget"
   ]
  },
  {
   "cell_type": "code",
   "execution_count": null,
   "metadata": {
    "ExecuteTime": {
     "start_time": "2017-08-25T05:56:09.112Z"
    },
    "execution": {
     "iopub.execute_input": "2023-01-16T08:14:44.883973Z",
     "iopub.status.busy": "2023-01-16T08:14:44.883973Z"
    },
    "tags": []
   },
   "outputs": [
    {
     "data": {
      "image/png": "[encoded data removed]",
      "text/plain": [
       "<Figure size 640x480 with 1 Axes>"
      ]
     },
     "metadata": {},
     "output_type": "display_data"
    }
   ],
   "source": [
    "\n",
    "\n",
    "import numpy as np\n",
    "import matplotlib.pyplot as plt\n",
    "\n",
    "from random import randint\n",
    "from time import sleep\n",
    "\n",
    "from ipywidgets import FloatProgress\n",
    "from IPython.display import display, clear_output\n",
    "\n",
    "siz = 10\n",
    "dat = np.zeros((siz, siz))\n",
    "\n",
    "fig = plt.figure()\n",
    "axe = fig.add_subplot(111)\n",
    "img = axe.imshow(dat)\n",
    "\n",
    "num = 1000\n",
    "\n",
    "prgBar = FloatProgress(min=0, max=num-1)\n",
    "display(prgBar)\n",
    "\n",
    "for i in range(num):\n",
    "    clear_output(wait = True)\n",
    "    prgBar.value = i\n",
    "    pos = (randint(0, siz-1), randint(0, siz-1))\n",
    "    dat[pos] += 1\n",
    "    img.set_data(dat)\n",
    "    img.autoscale()\n",
    "    display(fig)"
   ]
  },
  {
   "cell_type": "markdown",
   "metadata": {},
   "source": [
    "# 设置中文"
   ]
  },
  {
   "cell_type": "markdown",
   "metadata": {},
   "source": [
    "## 系统内置类型"
   ]
  },
  {
   "cell_type": "code",
   "execution_count": 5,
   "metadata": {
    "ExecuteTime": {
     "end_time": "2017-08-25T10:04:18.650894Z",
     "start_time": "2017-08-25T10:04:17.466505Z"
    }
   },
   "outputs": [],
   "source": [
    "import pandas as pd\n",
    "import matplotlib.font_manager\n",
    "fonts = matplotlib.font_manager.findSystemFonts()\n",
    "l = []\n",
    "for f in fonts:\n",
    "    try:\n",
    "        font =matplotlib.font_manager.FontProperties(fname=f)\n",
    "        #print(font.get_family())\n",
    "        l.append((f, font.get_name(), font.get_family(), font.get_weight()))\n",
    "    except:\n",
    "        pass\n",
    "df = pd.DataFrame(l, columns=['path', 'name', 'family', 'weight'])"
   ]
  },
  {
   "cell_type": "markdown",
   "metadata": {},
   "source": [
    "## 设置rc"
   ]
  },
  {
   "cell_type": "code",
   "execution_count": 7,
   "metadata": {
    "ExecuteTime": {
     "end_time": "2017-08-25T10:04:41.303128Z",
     "start_time": "2017-08-25T10:04:41.299834Z"
    }
   },
   "outputs": [],
   "source": [
    "# import matplotlib as mpl\n",
    "# mpl.rc('font', family='STHeiti') \n",
    "# 设置内部编码reload(sys)\n",
    "# sys.setdefaultencoding('utf8')\n",
    "#中文字体显示  \n",
    "import matplotlib.pyplot as plt  \n",
    "plt.rc('font', family='SimHei', size=13)"
   ]
  },
  {
   "cell_type": "markdown",
   "metadata": {},
   "source": [
    "#Tips"
   ]
  },
  {
   "cell_type": "code",
   "execution_count": 2,
   "metadata": {
    "ExecuteTime": {
     "end_time": "2017-08-24T15:23:44.337977Z",
     "start_time": "2017-08-24T15:23:44.026212Z"
    }
   },
   "outputs": [],
   "source": [
    "import numpy as np\n",
    "import pylab as pl\n",
    "%matplotlib inline"
   ]
  },
  {
   "cell_type": "markdown",
   "metadata": {},
   "source": [
    "# Logger to Console not webpage"
   ]
  },
  {
   "cell_type": "markdown",
   "metadata": {},
   "source": [
    "## check Logger stderr"
   ]
  },
  {
   "cell_type": "code",
   "execution_count": 5,
   "metadata": {
    "ExecuteTime": {
     "end_time": "2017-09-18T16:35:50.561503Z",
     "start_time": "2017-09-18T16:35:50.546108Z"
    }
   },
   "outputs": [
    {
     "name": "stdout",
     "output_type": "stream",
     "text": [
      "sys.stderr: <ipykernel.iostream.OutStream object at 0x1066470d0>\n",
      "sys.stdout: <ipykernel.iostream.OutStream object at 0x106647090>\n",
      "checkhandlers:<ipykernel.iostream.OutStream object at 0x1066470d0> std:<ipykernel.iostream.OutStream object at 0x106647090>\n"
     ]
    }
   ],
   "source": [
    "import logging\n",
    "import sys\n",
    "stdout = sys.stdout\n",
    "print 'sys.stderr:', sys.stderr\n",
    "print 'sys.stdout:', sys.stdout\n",
    "\n",
    "# Get root logger (all other loggers will be derived from this logger's\n",
    "# properties)\n",
    "logger = logging.getLogger()\n",
    "logger.warning(\"I will output to terminal\")  # No output in notebook, goes to terminal\n",
    "\n",
    "# assuming only a single handler has been setup (seems \n",
    "# to be default in notebook), set that handler to go to stdout.\n",
    "if len(logger.handlers) > 0:\n",
    "    for ix in logger.handlers:\n",
    "        print (\"checkhandlers:%s std:%s\"%(ix.stream,sys.stdout))\n",
    "    sys.stdout = logger.handlers[0].stream\n",
    "    sys.stderr = logger.handlers[0].stream\n",
    "logger.setLevel(logging.ERROR)\n",
    "logger.warning(\"FOO\")  # Prints: WARNING:root:FOO\n",
    "# Other loggers derive from the root logger, so you can also do:\n"
   ]
  },
  {
   "cell_type": "markdown",
   "metadata": {},
   "source": [
    "## Init Logger logging.StreamHandler and Format out"
   ]
  },
  {
   "cell_type": "code",
   "execution_count": 2,
   "metadata": {
    "ExecuteTime": {
     "end_time": "2017-09-18T16:34:59.660626Z",
     "start_time": "2017-09-18T16:34:59.642610Z"
    }
   },
   "outputs": [
    {
     "name": "stdout",
     "output_type": "stream",
     "text": [
      "not handlers\n"
     ]
    }
   ],
   "source": [
    "import logging\n",
    "import sys\n",
    "\n",
    "# logging.StreamHandler(stream=sys.stdout).addHandler(logging.NullHandler())\n",
    "# Create logger\n",
    "logger = logging.getLogger()\n",
    "if len(logger.handlers) > 0:\n",
    "    for ix in logger.handlers:\n",
    "        print (\"handlers:%s std:%s\"%(ix.stream,sys.stdout))\n",
    "    print \"handlers:%s\"%(logger.handlers)\n",
    "#     logger.handlers.pop()\n",
    "else:\n",
    "    print \"not handlers\"\n",
    "#     logger.propagate = False\n",
    "logger.setLevel(logging.ERROR)\n",
    "# Create STDERR handler\n",
    "handler = logging.StreamHandler()\n",
    "# ch.setLevel(logging.DEBUG)\n",
    "\n",
    "# Create formatter and add it to the handler\n",
    "formatter = logging.Formatter('%(name)s - %(levelname)s - %(message)s')\n",
    "handler.setFormatter(formatter)\n",
    "\n",
    "# Set STDERR handler as the only handler \n",
    "logger.handlers = [handler]\n",
    "logger.info('Init Loger')\n",
    "logger.info('stderr:%s'%(sys.stderr))"
   ]
  },
  {
   "cell_type": "markdown",
   "metadata": {},
   "source": [
    "## Loger to Console fd"
   ]
  },
  {
   "cell_type": "code",
   "execution_count": 3,
   "metadata": {
    "ExecuteTime": {
     "end_time": "2017-09-18T16:35:13.706560Z",
     "start_time": "2017-09-18T16:35:13.699321Z"
    }
   },
   "outputs": [
    {
     "name": "stdout",
     "output_type": "stream",
     "text": [
      "[<logging.StreamHandler object at 0x106922910>] <ipykernel.iostream.OutStream object at 0x106647090>\n"
     ]
    }
   ],
   "source": [
    "import os\n",
    "root = logging.getLogger()\n",
    "# root.addHandler(logging.StreamHandler(os.fdopen(1, \"w\")))\n",
    "#now, logging.debug log into the console\n",
    "print root.handlers,sys.stdout\n"
   ]
  },
  {
   "cell_type": "markdown",
   "metadata": {},
   "source": [
    "## Init Tdd and Logger To webpage"
   ]
  },
  {
   "cell_type": "code",
   "execution_count": 3,
   "metadata": {
    "ExecuteTime": {
     "end_time": "2017-09-18T16:36:59.060780Z",
     "start_time": "2017-09-18T16:36:59.002355Z"
    },
    "execution": {
     "iopub.execute_input": "2023-01-16T22:34:23.479000+08:00",
     "iopub.status.busy": "2023-01-16T22:34:23.479000+08:00",
     "iopub.status.idle": "2023-01-16T22:34:25.028000+08:00",
     "shell.execute_reply": "2023-01-16T22:34:25.028000+08:00",
     "shell.execute_reply.started": "2023-01-16T22:34:23.479000"
    },
    "tags": []
   },
   "outputs": [
    {
     "name": "stdout",
     "output_type": "stream",
     "text": [
      "handlers:<ipykernel.iostream.OutStream object at 0x00000000045E54E0> std:<ipykernel.iostream.OutStream object at 0x0000000002DD4C50>\n",
      "handlers:<ipykernel.iostream.OutStream object at 0x00000000045E54E0> std:<ipykernel.iostream.OutStream object at 0x0000000002DD4C50>\n",
      "handlers:<open file 'G:\\\\stock.log.2023-01-16.log', mode 'a+' at 0x000000000C8ADB70> std:<ipykernel.iostream.OutStream object at 0x0000000002DD4C50>\n",
      "('nb:', <win_unicode_console.streams.StrStreamWrapper name='<stderr>' encoding='utf-8'>)\n"
     ]
    }
   ],
   "source": [
    "import sys,logging\n",
    "stdout = sys.stdout\n",
    "sys.path.append('../../')\n",
    "import JSONData.tdx_data_Day as tdd\n",
    "sys.stdout = stdout\n",
    "#Delete Jupyter notebook root logger handler\n",
    "mylogger = logging.getLogger()\n",
    "if len(mylogger.handlers) > 0:\n",
    "    for ix in mylogger.handlers:\n",
    "        print (\"handlers:%s std:%s\"%(ix.stream,sys.stdout))\n",
    "else:\n",
    "    print(\"nb not handlers\")\n",
    "#     mylogger.propagate = False\n",
    "mylogger.setLevel(logging.ERROR)\n",
    "print(\"nb:\",sys.stderr)\n",
    "#Create logger as usual\n"
   ]
  },
  {
   "cell_type": "markdown",
   "metadata": {},
   "source": [
    "## Ipython Display Notebook cell"
   ]
  },
  {
   "cell_type": "code",
   "execution_count": 4,
   "metadata": {
    "ExecuteTime": {
     "end_time": "2017-08-24T18:02:35.986054Z",
     "start_time": "2017-08-24T18:02:35.930888Z"
    },
    "execution": {
     "iopub.execute_input": "2023-01-16T22:34:31.075000+08:00",
     "iopub.status.busy": "2023-01-16T22:34:31.075000+08:00",
     "iopub.status.idle": "2023-01-16T22:34:31.163000+08:00",
     "shell.execute_reply": "2023-01-16T22:34:31.163000+08:00",
     "shell.execute_reply.started": "2023-01-16T22:34:31.075000"
    },
    "scrolled": true,
    "tags": []
   },
   "outputs": [
    {
     "name": "stdout",
     "output_type": "stream",
     "text": [
      "              code     open     high      low    close        vol  \\\n",
      "date                                                                \n",
      "2023-01-16  999999  3198.52  3251.37  3197.32  3227.59  306749549   \n",
      "\n",
      "                  amount  ma5d  ma10d  ma20d    ...      top10  ma5dcum  ra  \\\n",
      "date                                            ...                           \n",
      "2023-01-16  4.132196e+11     0      0      0    ...          0        0   0   \n",
      "\n",
      "            hmax     max5    lmin    min5    cmean         hv         lv  \n",
      "date                                                                      \n",
      "2023-01-16     0  3195.31  3153.4  3153.4  3173.53  220226897  220226897  \n",
      "\n",
      "[1 rows x 74 columns]\n"
     ]
    }
   ],
   "source": [
    "from IPython.display import display\n",
    "df = tdd.get_tdx_Exp_day_to_df('999999',dl=2)\n",
    "print df[:1]\n",
    "# display(df)"
   ]
  },
  {
   "cell_type": "code",
   "execution_count": 12,
   "metadata": {
    "ExecuteTime": {
     "end_time": "2017-09-18T16:41:12.130832Z",
     "start_time": "2017-09-18T16:41:12.122019Z"
    }
   },
   "outputs": [
    {
     "name": "stderr",
     "output_type": "stream",
     "text": [
      "Hello World!：0\n",
      "Hello World!：1\n",
      "Hello World!：2\n",
      "Hello World!：3\n",
      "Hello World!：4\n"
     ]
    }
   ],
   "source": [
    "from IPython.display import clear_output\n",
    "from IPython.core.interactiveshell import InteractiveShell\n",
    "InteractiveShell.ast_node_interactivity = \"last_expr_or_assign\"\n",
    "# ‘all’, ‘last’, ‘last_expr’ or ‘none’\n",
    "# 'last_expr_or_assign'\n",
    "# InteractiveShell.ast_node_interactivity = \"all\"\n",
    "# clear_output(wait=True)\n",
    "# import sys\n",
    "# stdout = sys.stdout\n",
    "# reload(sys)\n",
    "# sys.setdefaultencoding('utf-8')\n",
    "# sys.stdout = stdout\n",
    "for i in range(5):\n",
    "#     clear_output()\n",
    "    print(\"Hello World!：%s\"%(i))"
   ]
  },
  {
   "cell_type": "code",
   "execution_count": null,
   "metadata": {},
   "outputs": [],
   "source": [
    "from IPython.core.magics.namespace import NamespaceMagics\n",
    "class VariableInspectorWindow(object):\n",
    "    instance = None\n",
    "    \n",
    "    def __init__(self, ipython):\n",
    "        \"\"\"Public constructor.\"\"\"\n",
    "        if VariableInspectorWindow.instance is not None:\n",
    "            raise Exception(\"\"\"Only one instance of the Variable Inspector can exist at a \n",
    "                time.  Call close() on the active instance before creating a new instance.\n",
    "                If you have lost the handle to the active instance, you can re-obtain it\n",
    "                via `VariableInspectorWindow.instance`.\"\"\")\n",
    "        \n",
    "        VariableInspectorWindow.instance = self\n",
    "        self.closed = False\n",
    "        self.namespace = NamespaceMagics()\n",
    "        self.namespace.shell = ipython.kernel.shell\n",
    "        \n",
    "        self._box = widgets.Box()\n",
    "        self._box.layout.overflow_y = 'scroll'\n",
    "        self._table = widgets.HTML(value = 'Not hooked')\n",
    "        self._box.children = [self._table]\n",
    "        \n",
    "        self._ipython = ipython\n",
    "        self._ipython.events.register('post_run_cell', self._fill)\n",
    "        \n",
    "    def close(self):\n",
    "        \"\"\"Close and remove hooks.\"\"\"\n",
    "        if not self.closed:\n",
    "            self._ipython.events.unregister('post_run_cell', self._fill)\n",
    "            self._box.close()\n",
    "            self.closed = True\n",
    "            VariableInspectorWindow.instance = None\n",
    "\n",
    "    def _fill(self):\n",
    "        \"\"\"Fill self with variable information.\"\"\"\n",
    "        values = self.namespace.who_ls()\n",
    "        self._table.value = '<div class=\"rendered_html jp-RenderedHTMLCommon\"><table><thead><tr><th>Name</th><th>Type</th><th>Value</th></tr></thead><tr><td>' + \\\n",
    "            '</td></tr><tr><td>'.join(['{0}</td><td>{1}</td><td>{2}'.format(v, type(eval(v)).__name__, str(eval(v))) for v in values]) + \\\n",
    "            '</td></tr></table></div>'\n",
    "\n",
    "    def _ipython_display_(self):\n",
    "        \"\"\"Called when display() or pyout is used to display the Variable \n",
    "        Inspector.\"\"\"\n",
    "        self._box._ipython_display_()"
   ]
  },
  {
   "cell_type": "markdown",
   "metadata": {},
   "source": [
    "# normalize_code"
   ]
  },
  {
   "cell_type": "markdown",
   "metadata": {},
   "source": [
    "## normalize_code"
   ]
  },
  {
   "cell_type": "code",
   "execution_count": null,
   "metadata": {},
   "outputs": [],
   "source": [
    "# 作者：阿财\n",
    "# 链接：https://zhuanlan.zhihu.com/p/260369082\n",
    "# 来源：知乎\n",
    "# 著作权归作者所有。商业转载请联系作者获得授权，非商业转载请注明出处。\n",
    "\n",
    "class EXCHANGE(_const):\n",
    "    XSHG = 'XSHG'\n",
    "    SSE = 'XSHG'\n",
    "    SH = 'XSHG'\n",
    "    XSHE = 'XSHE'\n",
    "    SZ = 'XSHE'\n",
    "    SZE = 'XSHE'\n",
    "\n",
    "def normalize_code(symbol, pre_close=None):\n",
    "    \"\"\"\n",
    "    归一化证券代码\n",
    "\n",
    "    :param code 如000001\n",
    "    :return 证券代码的全称 如000001.XSHE\n",
    "    \"\"\"\n",
    "    if (not isinstance(symbol, str)):\n",
    "        return symbol\n",
    "\n",
    "    if (symbol.startswith('sz') and (len(symbol) == 8)):\n",
    "        ret_normalize_code = '{}.{}'.format(symbol[2:8], EXCHANGE.SZ)\n",
    "    elif (symbol.startswith('sh') and (len(symbol) == 8)):\n",
    "        ret_normalize_code = '{}.{}'.format(symbol[2:8], EXCHANGE.SH)\n",
    "    elif (symbol.startswith('00') and (len(symbol) == 6)):\n",
    "        if ((pre_close is not None) and (pre_close > 2000)):\n",
    "            # 推断是上证指数\n",
    "            ret_normalize_code = '{}.{}'.format(symbol, EXCHANGE.SH)\n",
    "        else:\n",
    "            ret_normalize_code = '{}.{}'.format(symbol, EXCHANGE.SZ)\n",
    "    elif ((symbol.startswith('399') or symbol.startswith('159') or \\\n",
    "        symbol.startswith('150')) and (len(symbol) == 6)):\n",
    "        ret_normalize_code = '{}.{}'.format(symbol, EXCHANGE.SH)\n",
    "    elif ((len(symbol) == 6) and (symbol.startswith('399') or \\\n",
    "        symbol.startswith('159') or symbol.startswith('150') or \\\n",
    "        symbol.startswith('16') or symbol.startswith('184801') or \\\n",
    "        symbol.startswith('201872'))):\n",
    "        ret_normalize_code = '{}.{}'.format(symbol, EXCHANGE.SZ)\n",
    "    elif ((len(symbol) == 6) and (symbol.startswith('50') or \\\n",
    "        symbol.startswith('51') or symbol.startswith('60') or \\\n",
    "        symbol.startswith('688') or symbol.startswith('900') or \\\n",
    "        (symbol == '751038'))):\n",
    "        ret_normalize_code = '{}.{}'.format(symbol, EXCHANGE.SH)\n",
    "    elif ((len(symbol) == 6) and (symbol[:3] in ['000', '001', '002', \n",
    "                                                 '200', '300'])):\n",
    "        ret_normalize_code = '{}.{}'.format(symbol, EXCHANGE.SZ)\n",
    "    else:\n",
    "        print(symbol)\n",
    "        ret_normalize_code = symbol\n",
    "\n",
    "    return ret_normalize_code"
   ]
  }
 ],
 "metadata": {
  "kernelspec": {
   "display_name": "python3.9",
   "language": "python",
   "name": "python3"
  },
  "language_info": {
   "codemirror_mode": {
    "name": "ipython",
    "version": 3
   },
   "file_extension": ".py",
   "mimetype": "text/x-python",
   "name": "python",
   "nbconvert_exporter": "python",
   "pygments_lexer": "ipython3",
   "version": "3.9.13"
  },
  "nbTranslate": {
   "displayLangs": [
    "*"
   ],
   "hotkey": "alt-t",
   "langInMainMenu": true,
   "sourceLang": "en",
   "targetLang": "fr",
   "useGoogleTranslate": true
  },
  "toc": {
   "base_numbering": 1,
   "nav_menu": {
    "height": "12px",
    "width": "252px"
   },
   "number_sections": true,
   "sideBar": true,
   "skip_h1_title": false,
   "title_cell": "Table of Contents",
   "title_sidebar": "Contents",
   "toc_cell": true,
   "toc_position": {
    "height": "304px",
    "left": "1070.1875px",
    "right": "20px",
    "top": "96px",
    "width": "252px"
   },
   "toc_section_display": true,
   "toc_window_display": true
  },
  "toc-autonumbering": true,
  "toc-showmarkdowntxt": false,
  "varInspector": {
   "cols": {
    "lenName": 16,
    "lenType": 16,
    "lenVar": 40
   },
   "kernels_config": {
    "python": {
     "delete_cmd_postfix": "",
     "delete_cmd_prefix": "del ",
     "library": "var_list.py",
     "varRefreshCmd": "print(var_dic_list())"
    },
    "r": {
     "delete_cmd_postfix": ") ",
     "delete_cmd_prefix": "rm(",
     "library": "var_list.r",
     "varRefreshCmd": "cat(var_dic_list()) "
    }
   },
   "types_to_exclude": [
    "module",
    "function",
    "builtin_function_or_method",
    "instance",
    "_Feature"
   ],
   "window_display": false
  }
 },
 "nbformat": 4,
 "nbformat_minor": 4
}
