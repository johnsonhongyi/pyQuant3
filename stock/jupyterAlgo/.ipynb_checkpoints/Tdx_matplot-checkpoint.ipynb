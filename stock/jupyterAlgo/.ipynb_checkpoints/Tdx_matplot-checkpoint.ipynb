{
 "cells": [
  {
   "cell_type": "code",
   "execution_count": 1,
   "metadata": {
    "ExecuteTime": {
     "end_time": "2018-05-22T16:06:14.108767Z",
     "start_time": "2018-05-22T16:06:12.762175Z"
    },
    "collapsed": false,
    "execution": {
     "iopub.execute_input": "2023-01-16T20:12:09.454000+08:00",
     "iopub.status.busy": "2023-01-16T20:12:09.454000+08:00",
     "iopub.status.idle": "2023-01-16T20:12:10.335000+08:00",
     "shell.execute_reply": "2023-01-16T20:12:10.334000+08:00",
     "shell.execute_reply.started": "2023-01-16T20:12:09.454000"
    },
    "jupyter": {
     "outputs_hidden": false
    },
    "tags": []
   },
   "outputs": [],
   "source": [
    "import math\n",
    "import warnings\n",
    "\n",
    "import matplotlib.pyplot as plt\n",
    "import numpy as np\n",
    "import pandas as pd\n",
    "import scipy.io as sio\n",
    "import scipy.optimize as optimize\n",
    "from six import StringIO\n",
    "\n",
    "warnings.filterwarnings(\"ignore\")"
   ]
  },
  {
   "cell_type": "code",
   "execution_count": 3,
   "metadata": {
    "ExecuteTime": {
     "start_time": "2018-05-22T08:08:37.546Z"
    },
    "collapsed": false,
    "execution": {
     "iopub.execute_input": "2023-01-16T20:13:53.646000+08:00",
     "iopub.status.busy": "2023-01-16T20:13:53.646000+08:00",
     "iopub.status.idle": "2023-01-16T20:13:53.782000+08:00",
     "shell.execute_reply": "2023-01-16T20:13:53.782000+08:00",
     "shell.execute_reply.started": "2023-01-16T20:13:53.646000"
    },
    "jupyter": {
     "outputs_hidden": false
    },
    "tags": []
   },
   "outputs": [
    {
     "name": "stdout",
     "output_type": "stream",
     "text": [
      "(1148, 104)               code     open     high      low    close        vol  \\\n",
      "date                                                                \n",
      "2023-01-12  999999  3167.27  3171.59  3153.40  3163.45  216671305   \n",
      "2023-01-13  999999  3170.35  3195.31  3167.51  3195.31  220226897   \n",
      "2023-01-16  999999  3198.52  3251.37  3197.32  3227.59  306749549   \n",
      "\n",
      "                  amount     ma5d    ma10d    ma20d    ...      top10  \\\n",
      "date                                                   ...              \n",
      "2023-01-12  2.753718e+11  3165.70  3138.67  3116.17    ...          0   \n",
      "2023-01-13  2.880625e+11  3173.24  3150.83  3117.50    ...          0   \n",
      "2023-01-16  4.132196e+11  3183.54  3164.67  3120.49    ...          0   \n",
      "\n",
      "            ma5dcum  ra     hmax     max5     lmin    min5    cmean  \\\n",
      "date                                                                  \n",
      "2023-01-12  3147.43   0  3715.37  3195.31  3073.05  3153.4  3172.53   \n",
      "2023-01-13  3147.43   0  3715.37  3195.31  3073.05  3153.4  3172.53   \n",
      "2023-01-16  3147.43   0  3715.37  3195.31  3073.05  3153.4  3172.53   \n",
      "\n",
      "                   hv         lv  \n",
      "date                              \n",
      "2023-01-12  281370362  216671305  \n",
      "2023-01-13  281370362  216671305  \n",
      "2023-01-16  281370362  216671305  \n",
      "\n",
      "[3 rows x 104 columns]\n"
     ]
    }
   ],
   "source": [
    "# -*- coding:utf-8 -*-\n",
    "import sys\n",
    "\n",
    "sys.path.append('../')\n",
    "%matplotlib inline\n",
    "stdout = sys.stdout\n",
    "import JSONData.tdx_data_Day as tdd\n",
    "from ipykernel.iostream import OutStream\n",
    "\n",
    "if isinstance(stdout,OutStream):\n",
    "    sys.stdout = stdout\n",
    "else:\n",
    "    raise \"no OutStream:%s\"%(sys.stdout)\n",
    "# mpl.rcParams['font.sans-serif'] = ['STHeiti']\n",
    "# mpl.rcParams['axes.unicode_minus'] = False\n",
    "#中文字体显示  \n",
    "import matplotlib.pyplot as plt\n",
    "import pandas as pd\n",
    "from JSONData import sina_data\n",
    "\n",
    "plt.ion()\n",
    "plt.rc('font', family='SimHei', size=13)\n",
    "from IPython.core.pylabtools import figsize\n",
    "\n",
    "figsize(8, 5)\n",
    "# from IPython.core.interactiveshell import InteractiveShell\n",
    "# InteractiveShell.ast_node_interactivity = \"all\"\n",
    "\n",
    "df = tdd.get_tdx_Exp_day_to_df('999999',start=20180502,end=None).sort_index(ascending=True)\n",
    "print df.shape,df[-3:]\n",
    "# dates = [i.replace('-','') for i in df.index.tolist()]\n",
    "# prices = df.close.apply(lambda x:round(x,2)).tolist()"
   ]
  },
  {
   "cell_type": "code",
   "execution_count": null,
   "metadata": {
    "ExecuteTime": {
     "start_time": "2018-05-22T08:09:08.467Z"
    },
    "collapsed": false,
    "jupyter": {
     "outputs_hidden": false
    }
   },
   "outputs": [],
   "source": [
    "from IPython.core.debugger import Tracer\n",
    "\n",
    "Tracer()() #this one triggers the debugger\n",
    "print 'new:"
   ]
  },
  {
   "cell_type": "code",
   "execution_count": null,
   "metadata": {
    "collapsed": false,
    "jupyter": {
     "outputs_hidden": false
    }
   },
   "outputs": [],
   "source": []
  }
 ],
 "metadata": {
  "kernelspec": {
   "display_name": "Python 2",
   "language": "python",
   "name": "python2"
  },
  "language_info": {
   "codemirror_mode": {
    "name": "ipython",
    "version": 2
   },
   "file_extension": ".py",
   "mimetype": "text/x-python",
   "name": "python",
   "nbconvert_exporter": "python",
   "pygments_lexer": "ipython2",
   "version": "2.7.13"
  },
  "nbTranslate": {
   "displayLangs": [
    "*"
   ],
   "hotkey": "alt-t",
   "langInMainMenu": true,
   "sourceLang": "en",
   "targetLang": "fr",
   "useGoogleTranslate": true
  },
  "toc": {
   "colors": {
    "hover_highlight": "#DAA520",
    "running_highlight": "#FF0000",
    "selected_highlight": "#FFD700"
   },
   "moveMenuLeft": true,
   "nav_menu": {
    "height": "12px",
    "width": "252px"
   },
   "navigate_menu": true,
   "number_sections": true,
   "sideBar": false,
   "threshold": 4,
   "toc_cell": false,
   "toc_section_display": "block",
   "toc_window_display": false,
   "widenNotebook": false
  },
  "varInspector": {
   "cols": {
    "lenName": 16,
    "lenType": 16,
    "lenVar": 40
   },
   "kernels_config": {
    "python": {
     "delete_cmd_postfix": "",
     "delete_cmd_prefix": "del ",
     "library": "var_list.py",
     "varRefreshCmd": "print(var_dic_list())"
    },
    "r": {
     "delete_cmd_postfix": ") ",
     "delete_cmd_prefix": "rm(",
     "library": "var_list.r",
     "varRefreshCmd": "cat(var_dic_list()) "
    }
   },
   "types_to_exclude": [
    "module",
    "function",
    "builtin_function_or_method",
    "instance",
    "_Feature"
   ],
   "window_display": true
  },
  "widgets": {
   "application/vnd.jupyter.widget-state+json": {
    "state": {},
    "version_major": 2,
    "version_minor": 0
   }
  }
 },
 "nbformat": 4,
 "nbformat_minor": 4
}
