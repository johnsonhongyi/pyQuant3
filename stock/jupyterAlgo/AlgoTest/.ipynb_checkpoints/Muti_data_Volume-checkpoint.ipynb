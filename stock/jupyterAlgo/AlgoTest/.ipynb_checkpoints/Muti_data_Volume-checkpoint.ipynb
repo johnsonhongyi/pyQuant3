{
 "cells": [
  {
   "cell_type": "code",
   "execution_count": 3,
   "metadata": {
    "ExecuteTime": {
     "end_time": "2018-07-04T11:42:17.572167Z",
     "start_time": "2018-07-04T11:42:17.562186Z"
    },
    "collapsed": true
   },
   "outputs": [],
   "source": [
    "#查询多单"
   ]
  },
  {
   "cell_type": "code",
   "execution_count": 1,
   "metadata": {
    "ExecuteTime": {
     "end_time": "2019-01-15T12:00:43.177906Z",
     "start_time": "2019-01-15T12:00:40.548669Z"
    },
    "collapsed": true
   },
   "outputs": [],
   "source": [
    "# -*- coding:utf-8 -*-\n",
    "import sys\n",
    "sys.path.append('../../')\n",
    "%matplotlib inline\n",
    "stdout = sys.stdout\n",
    "import JSONData.tdx_data_Day as tdd\n",
    "import JSONData.tdx_hdf5_api as h5a\n",
    "from JohnsonUtil import commonTips as cct\n",
    "\n",
    "from ipykernel.iostream import OutStream\n",
    "if isinstance(stdout,OutStream):\n",
    "    sys.stdout = stdout\n",
    "else:\n",
    "    raise \"no OutStream:%s\"%(sys.stdout)\n",
    "from  JSONData import sina_data \n",
    "import pandas as pd\n",
    "# mpl.rcParams['font.sans-serif'] = ['STHeiti']\n",
    "# mpl.rcParams['axes.unicode_minus'] = False\n",
    "#中文字体显示  \n",
    "import matplotlib.pyplot as plt\n",
    "plt.ion()\n",
    "plt.rc('font', family='SimHei', size=13)\n",
    "from IPython.core.pylabtools import figsize\n",
    "figsize(8, 5)\n",
    "from IPython.core.interactiveshell import InteractiveShell\n",
    "InteractiveShell.ast_node_interactivity = \"all\"\n",
    "\n"
   ]
  },
  {
   "cell_type": "code",
   "execution_count": 2,
   "metadata": {
    "ExecuteTime": {
     "end_time": "2019-01-15T12:00:43.228762Z",
     "start_time": "2019-01-15T12:00:43.180206Z"
    },
    "collapsed": true
   },
   "outputs": [],
   "source": [
    "def get_quotes_tdx(code, start=None, end=None, dl=120, resample='d', show_name=False,power=False):\n",
    "\n",
    "        if resample in ['d', 'w', 'm']:\n",
    "            quotes = tdd.get_tdx_append_now_df_api(code=code, start=start, end=end, dl=dl,power=power).sort_index(ascending=True)\n",
    "        else:\n",
    "            h5_fname = 'sina_MultiIndex_data'\n",
    "            h5_table = 'all_10'\n",
    "            time_s = time.time()\n",
    "            h5 = h5a.load_hdf_db(h5_fname, table=h5_table, code_l=None, timelimit=False, dratio_limit=0.12)\n",
    "            quotes = cct.get_limit_multiIndex_freq(h5, freq=resample.upper(), col='all', start=start, end=end, code=code)\n",
    "            quotes = quotes.reset_index().set_index('ticktime')\n",
    "            # period_stock_data['close'] = stock_data['close'].resample(period_type, how='last')\n",
    "            if 'volume' in quotes.columns:\n",
    "#                 quotes.rename(columns={'volume': 'vol'}, inplace=True)\n",
    "                quotes['amount'] = (map(lambda x, y: round((x * y), 1), quotes.close.values, quotes.vol.values))            \n",
    "        \n",
    "        if not resample == 'd' and resample in tdd.resample_dtype:\n",
    "            quotes = tdd.get_tdx_stock_period_to_type(quotes, period_day=resample)\n",
    "        if str(quotes.index.dtype) <> 'datetime64[ns]':\n",
    "            quotes.index = quotes.index.astype('datetime64')\n",
    "\n",
    "        if show_name:\n",
    "            if 'name' in quotes.columns:\n",
    "                cname = quotes.name[0]\n",
    "                # cname_g =cname\n",
    "            else:\n",
    "                dm = tdd.get_sina_data_df(code)\n",
    "                if 'name' in dm.columns:\n",
    "                    cname = dm.name[0]\n",
    "                else:\n",
    "                    cname = '-'\n",
    "        else:\n",
    "            cname = None\n",
    "        if quotes is not None and len(quotes) > 0:\n",
    "            quotes= quotes.loc[:, ['open', 'close', 'high', 'low', 'volume', 'amount']]\n",
    "        else:\n",
    "            # log.error(\"quotes is None check:%s\"%(code))\n",
    "            raise Exception(\"Code:%s error, df is None\" % (code))\n",
    "        return quotes"
   ]
  },
  {
   "cell_type": "code",
   "execution_count": 7,
   "metadata": {
    "ExecuteTime": {
     "end_time": "2019-01-15T13:04:10.719872Z",
     "start_time": "2019-01-15T13:04:09.267728Z"
    }
   },
   "outputs": [
    {
     "name": "stdout",
     "output_type": "stream",
     "text": [
      "                     close  high   low  llastp    volume  lastbuy\n",
      "ticktime                                                         \n",
      "2019-01-15 09:25:03   2.90  2.90  2.90    2.77   6821200      2.9\n",
      "2019-01-15 09:30:36   2.96  2.99  2.85    2.77  19709796      2.9\n",
      "2019-01-15 09:31:48   2.99  3.00  2.85    2.77  28542085      2.9\n",
      "2019-01-15 09:33:00   3.05  3.05  2.85    2.77  54195245      2.9\n",
      "2019-01-15 09:34:06   3.05  3.05  2.85    2.77  63659445      2.9\n",
      "2019-01-15 09:35:12   3.05  3.05  2.85    2.77  70490144      2.9\n",
      "2019-01-15 09:36:15   3.05  3.05  2.85    2.77  76599741      2.9\n",
      "2019-01-15 09:37:18   3.05  3.05  2.85    2.77  77692545      2.9\n",
      "2019-01-15 09:38:24   3.05  3.05  2.85    2.77  78192145      2.9\n",
      "2019-01-15 09:39:27   3.05  3.05  2.85    2.77  78413445      2.9\n",
      "2019-01-15 09:40:27   3.05  3.05  2.85    2.77  78504345      2.9\n",
      "2019-01-15 09:41:33   3.05  3.05  2.85    2.77  78598045      2.9\n",
      "2019-01-15 09:42:36   3.05  3.05  2.85    2.77  78668645      2.9\n",
      "2019-01-15 09:44:48   3.05  3.05  2.85    2.77  79027045      2.9\n",
      "2019-01-15 09:45:54   3.05  3.05  2.85    2.77  79183545      2.9\n",
      "2019-01-15 09:46:57   3.05  3.05  2.85    2.77  79409645      2.9\n",
      "2019-01-15 09:48:03   3.05  3.05  2.85    2.77  79510445      2.9\n",
      "2019-01-15 09:49:12   3.05  3.05  2.85    2.77  79568145      2.9\n",
      "2019-01-15 09:49:39   3.05  3.05  2.85    2.77  79587445      2.9\n",
      "2019-01-15 09:50:18   3.05  3.05  2.85    2.77  79603645      2.9\n",
      "                     close  high   low  llastp     volume  lastbuy\n",
      "ticktime                                                          \n",
      "2019-01-15 11:20:03   2.92  3.05  2.85    2.77  150345700     2.96\n",
      "2019-01-15 11:20:51   2.93  3.05  2.85    2.77  150673206     2.96\n",
      "2019-01-15 11:21:12   2.93  3.05  2.85    2.77  150714806     2.96\n",
      "2019-01-15 11:22:03   2.94  3.05  2.85    2.77  150831906     2.96\n",
      "2019-01-15 11:22:18   2.95  3.05  2.85    2.77  150911006     2.96\n",
      "2019-01-15 11:23:12   2.96  3.05  2.85    2.77  151021706     2.96\n",
      "2019-01-15 11:23:42   2.95  3.05  2.85    2.77  151070106     2.96\n",
      "2019-01-15 11:24:21   2.96  3.05  2.85    2.77  151126106     2.96\n",
      "2019-01-15 11:25:09   2.95  3.05  2.85    2.77  151255106     2.96\n",
      "2019-01-15 11:25:39   2.95  3.05  2.85    2.77  151281006     2.96\n",
      "2019-01-15 11:26:27   2.94  3.05  2.85    2.77  151353306     2.96\n",
      "2019-01-15 11:26:48   2.95  3.05  2.85    2.77  151368206     2.96\n",
      "2019-01-15 11:28:15   2.95  3.05  2.85    2.77  151445106     2.96\n",
      "2019-01-15 11:27:57   2.95  3.05  2.85    2.77  151435006     2.96\n",
      "2019-01-15 11:29:24   2.95  3.05  2.85    2.77  151687806     2.96\n",
      "2019-01-15 13:01:15   2.95  3.05  2.85    2.77  152642646     2.95\n",
      "2019-01-15 13:02:06   2.95  3.05  2.85    2.77  152707346     2.95\n",
      "2019-01-15 13:02:30   2.95  3.05  2.85    2.77  152754346     2.95\n",
      "2019-01-15 13:03:15   2.95  3.05  2.85    2.77  152831337     2.95\n",
      "2019-01-15 13:03:36   2.95  3.05  2.85    2.77  152865246     2.95\n",
      "2.96    50\n",
      "3.02    35\n",
      "2.92    34\n",
      "2.90    33\n",
      "2.95     5\n",
      "Name: lastbuy, dtype: int64\n",
      "median: 2.96\n",
      "last TDD: date\n",
      "2019-01-14    65530686.750903\n",
      "dtype: float64 date\n",
      "2019-01-14    2.685\n",
      "dtype: float64 date\n",
      "2019-01-14    2.77\n",
      "Name: close, dtype: float64\n",
      "                            high  close  open   low    volume\n",
      "code   ticktime                                              \n",
      "000018 2019-01-15 09:30:00  2.90   2.90  2.90  2.90   6821200\n",
      "       2019-01-15 09:35:00  3.05   3.05  2.96  2.96  56838245\n",
      "       2019-01-15 09:40:00  3.05   3.05  3.05  3.05  14754000\n",
      "       2019-01-15 09:45:00  3.05   3.05  3.05  3.05    613600\n",
      "       2019-01-15 09:50:00  3.05   3.05  3.05  3.05    560400\n",
      "                            high  close  open   low   volume\n",
      "code   ticktime                                             \n",
      "000018 2019-01-15 11:15:00  2.97   2.96  2.96  2.96   791000\n",
      "       2019-01-15 11:20:00  2.95   2.92  2.95  2.91  1903774\n",
      "       2019-01-15 11:25:00  2.96   2.96  2.92  2.92  1125706\n",
      "       2019-01-15 11:30:00  2.95   2.95  2.95  2.94   561700\n",
      "       2019-01-15 13:05:00  2.95   2.95  2.95  2.95  1177440\n",
      "volume Max:                             high  close  open   low    volume\n",
      "code   ticktime                                              \n",
      "000018 2019-01-15 09:35:00  3.05   3.05  2.96  2.96  56838245\n",
      "       2019-01-15 10:05:00  3.05   3.05  3.02  3.02  15170773\n",
      "       2019-01-15 09:40:00  3.05   3.05  3.05  3.05  14754000\n",
      "volume Min:                             high  close  open   low  volume\n",
      "code   ticktime                                            \n",
      "000018 2019-01-15 11:30:00  2.95   2.95  2.95  2.94  561700\n",
      "       2019-01-15 09:50:00  3.05   3.05  3.05  3.05  560400\n",
      "       2019-01-15 09:55:00  3.05   3.05  3.05  3.05  277700\n",
      "mean:3.01146332503 mean2:2.97653846154 median:2.96\n"
     ]
    }
   ],
   "source": [
    "# import pandas as pd\n",
    "# tpp='/Volumes/RamDisk/sina_MultiIndex_data.h5'\n",
    "# spp=pd.HDFStore(tpp)\n",
    "# code='002673'\n",
    "# code='600629'\n",
    "code='000018'\n",
    "resample='d'\n",
    "# dfm = spp.all_10\n",
    "# df_freq = cct.get_limit_multiIndex_freq(dfm)\n",
    "\n",
    "h5_fname = 'sina_MultiIndex_data'\n",
    "h5_table = 'all_10'\n",
    "h5 = h5a.load_hdf_db(h5_fname, table=h5_table, code_l=None, timelimit=False, dratio_limit=0.12)\n",
    "# h5 = h5.drop_duplicates('volume')\n",
    "# h5.volume = h5.volume - h5.volume.shift(1)\n",
    "print h5.loc[code][:2]\n",
    "print h5.loc[code][-2:]\n",
    "print h5.loc[code].lastbuy.value_counts()\n",
    "print \"median:\",h5.loc[code].close.median()\n",
    "df_freq = cct.get_limit_multiIndex_freq(h5,freq='5T', col='all',start='09:25:00',end=None, code=code)\n",
    "df_tdx = get_quotes_tdx(code,dl=30,resample=resample)\n",
    "print \"last TDD:\",df_tdx[-1:].amount/df_tdx[-1:].close,(df_tdx[-1:].high+df_tdx[-1:].low)/2,df_tdx[-1:].close\n",
    "# #no use df_freq['volume'] = df_freq['volume'] - df_freq['volume'].shift(1)\n",
    "# print df_freq.sort_values('volume',ascending=False)\n",
    "print df_freq[:5]\n",
    "print df_freq[-5:]\n",
    "\n",
    "# print df_freq.low.cummin(),df_freq.volume.sum()/100\n",
    "print \"volume Max:\",df_freq.sort_values('volume',ascending=False)[:3]\n",
    "print \"volume Min:\",df_freq.sort_values('volume',ascending=False)[-3:]\n",
    "# print df_freq.loc[:,['close','volume']][-30:]\n",
    "df_freq['amount'] = (map(lambda x, y: round((x * y), 1), df_freq.close.values, df_freq.volume.values)) \n",
    "print \"mean:%s mean2:%s median:%s\"%(df_freq.amount.sum()/df_freq.volume.sum(),df_freq.close.mean(),df_freq.close.median())\n",
    "# print df_freq.volume.value_counts().T\n",
    "# df = tdd.get_tdx_Exp_day_to_df('999999',start=20170602,end=None).sort_index(ascending=True)\n",
    "# print df[-2:]"
   ]
  },
  {
   "cell_type": "code",
   "execution_count": null,
   "metadata": {
    "collapsed": true
   },
   "outputs": [],
   "source": []
  },
  {
   "cell_type": "code",
   "execution_count": null,
   "metadata": {
    "collapsed": true
   },
   "outputs": [],
   "source": []
  },
  {
   "cell_type": "code",
   "execution_count": null,
   "metadata": {
    "collapsed": true
   },
   "outputs": [],
   "source": []
  },
  {
   "cell_type": "code",
   "execution_count": null,
   "metadata": {
    "collapsed": true
   },
   "outputs": [],
   "source": []
  }
 ],
 "metadata": {
  "kernelspec": {
   "display_name": "Python 2",
   "language": "python",
   "name": "python2"
  },
  "language_info": {
   "codemirror_mode": {
    "name": "ipython",
    "version": 2
   },
   "file_extension": ".py",
   "mimetype": "text/x-python",
   "name": "python",
   "nbconvert_exporter": "python",
   "pygments_lexer": "ipython2",
   "version": "2.7.11"
  },
  "toc": {
   "colors": {
    "hover_highlight": "#DAA520",
    "navigate_num": "#000000",
    "navigate_text": "#333333",
    "running_highlight": "#FF0000",
    "selected_highlight": "#FFD700",
    "sidebar_border": "#EEEEEE",
    "wrapper_background": "#FFFFFF"
   },
   "moveMenuLeft": true,
   "nav_menu": {
    "height": "12px",
    "width": "252px"
   },
   "navigate_menu": true,
   "number_sections": true,
   "sideBar": false,
   "threshold": 4,
   "toc_cell": false,
   "toc_section_display": "block",
   "toc_window_display": false,
   "widenNotebook": false
  }
 },
 "nbformat": 4,
 "nbformat_minor": 2
}
