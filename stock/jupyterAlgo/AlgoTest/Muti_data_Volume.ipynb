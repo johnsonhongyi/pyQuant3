{
 "cells": [
  {
   "cell_type": "code",
   "execution_count": 3,
   "metadata": {
    "ExecuteTime": {
     "end_time": "2018-07-04T11:42:17.572167Z",
     "start_time": "2018-07-04T11:42:17.562186Z"
    },
    "collapsed": true
   },
   "outputs": [],
   "source": [
    "#查询多单"
   ]
  },
  {
   "cell_type": "code",
   "execution_count": 1,
   "metadata": {
    "ExecuteTime": {
     "end_time": "2019-04-08T13:50:50.258149Z",
     "start_time": "2019-04-08T13:50:47.444742Z"
    },
    "collapsed": true
   },
   "outputs": [],
   "source": [
    "# -*- coding:utf-8 -*-\n",
    "import sys\n",
    "sys.path.append('../../')\n",
    "%matplotlib inline\n",
    "stdout = sys.stdout\n",
    "import JSONData.tdx_data_Day as tdd\n",
    "import JSONData.tdx_hdf5_api as h5a\n",
    "from JohnsonUtil import commonTips as cct\n",
    "\n",
    "from ipykernel.iostream import OutStream\n",
    "if isinstance(stdout,OutStream):\n",
    "    sys.stdout = stdout\n",
    "else:\n",
    "    raise \"no OutStream:%s\"%(sys.stdout)\n",
    "from  JSONData import sina_data \n",
    "import pandas as pd\n",
    "# mpl.rcParams['font.sans-serif'] = ['STHeiti']\n",
    "# mpl.rcParams['axes.unicode_minus'] = False\n",
    "#中文字体显示  \n",
    "import matplotlib.pyplot as plt\n",
    "plt.ion()\n",
    "plt.rc('font', family='SimHei', size=13)\n",
    "from IPython.core.pylabtools import figsize\n",
    "figsize(8, 5)\n",
    "from IPython.core.interactiveshell import InteractiveShell\n",
    "InteractiveShell.ast_node_interactivity = \"all\"\n",
    "\n"
   ]
  },
  {
   "cell_type": "code",
   "execution_count": 2,
   "metadata": {
    "ExecuteTime": {
     "end_time": "2019-04-08T13:50:50.315735Z",
     "start_time": "2019-04-08T13:50:50.260908Z"
    },
    "collapsed": true
   },
   "outputs": [],
   "source": [
    "def get_quotes_tdx(code, start=None, end=None, dl=120, resample='d', show_name=False,power=False):\n",
    "\n",
    "        if resample in ['d', 'w', 'm']:\n",
    "            quotes = tdd.get_tdx_append_now_df_api(code=code, start=start, end=end, dl=dl,power=power).sort_index(ascending=True)\n",
    "        else:\n",
    "            h5_fname = 'sina_MultiIndex_data'\n",
    "            h5_table = 'all_10'\n",
    "            time_s = time.time()\n",
    "            h5 = h5a.load_hdf_db(h5_fname, table=h5_table, code_l=None, timelimit=False, dratio_limit=0.12)\n",
    "            quotes = cct.get_limit_multiIndex_freq(h5, freq=resample.upper(), col='all', start=start, end=end, code=code)\n",
    "            quotes = quotes.reset_index().set_index('ticktime')\n",
    "            # period_stock_data['close'] = stock_data['close'].resample(period_type, how='last')\n",
    "            if 'volume' in quotes.columns:\n",
    "#                 quotes.rename(columns={'volume': 'vol'}, inplace=True)\n",
    "                quotes['amount'] = (map(lambda x, y: round((x * y), 1), quotes.close.values, quotes.vol.values))            \n",
    "        \n",
    "        if not resample == 'd' and resample in tdd.resample_dtype:\n",
    "            quotes = tdd.get_tdx_stock_period_to_type(quotes, period_day=resample)\n",
    "        if str(quotes.index.dtype) <> 'datetime64[ns]':\n",
    "            quotes.index = quotes.index.astype('datetime64')\n",
    "\n",
    "        if show_name:\n",
    "            if 'name' in quotes.columns:\n",
    "                cname = quotes.name[0]\n",
    "                # cname_g =cname\n",
    "            else:\n",
    "                dm = tdd.get_sina_data_df(code)\n",
    "                if 'name' in dm.columns:\n",
    "                    cname = dm.name[0]\n",
    "                else:\n",
    "                    cname = '-'\n",
    "        else:\n",
    "            cname = None\n",
    "        if quotes is not None and len(quotes) > 0:\n",
    "            quotes= quotes.loc[:, ['open', 'close', 'high', 'low', 'volume', 'amount']]\n",
    "        else:\n",
    "            # log.error(\"quotes is None check:%s\"%(code))\n",
    "            raise Exception(\"Code:%s error, df is None\" % (code))\n",
    "        return quotes"
   ]
  },
  {
   "cell_type": "code",
   "execution_count": 3,
   "metadata": {
    "ExecuteTime": {
     "end_time": "2019-04-08T13:50:59.121093Z",
     "start_time": "2019-04-08T13:50:56.426578Z"
    }
   },
   "outputs": [
    {
     "name": "stdout",
     "output_type": "stream",
     "text": [
      "                     close   high    low  llastp  volume  lastbuy\n",
      "ticktime                                                         \n",
      "2019-04-08 09:25:03  27.77  27.77  27.77   27.59    8400    27.77\n",
      "2019-04-08 09:33:48  27.54  27.77  27.50   27.59  144400    27.77\n",
      "                     close   high   low  llastp   volume  lastbuy\n",
      "ticktime                                                         \n",
      "2019-04-08 13:48:54  26.62  27.77  26.5   27.59  2205428    26.67\n",
      "2019-04-08 13:50:03  26.64  27.77  26.5   27.59  2209628    26.67\n",
      "27.77    42\n",
      "27.01    34\n",
      "27.22    33\n",
      "27.30    31\n",
      "27.56    22\n",
      "26.67    20\n",
      "27.05     1\n",
      "Name: lastbuy, dtype: int64\n",
      "median: 27.19\n",
      "last TDD: date\n",
      "2019-04-04    3912570.253715\n",
      "dtype: float64 date\n",
      "2019-04-04    27.26\n",
      "dtype: float64 date\n",
      "2019-04-04    27.59\n",
      "Name: close, dtype: float64\n",
      "                             high  close   open    low  volume\n",
      "code   ticktime                                               \n",
      "300649 2019-04-08 09:30:00  27.77  27.77  27.77  27.77    8400\n",
      "       2019-04-08 09:35:00  27.54  27.43  27.54  27.43  174700\n",
      "       2019-04-08 09:40:00  27.44  27.44  27.35  27.35  111600\n",
      "       2019-04-08 09:45:00  27.40  27.36  27.40  27.30  178000\n",
      "       2019-04-08 09:50:00  27.36  27.34  27.35  27.34   67600\n",
      "                             high  close   open    low  volume\n",
      "code   ticktime                                               \n",
      "300649 2019-04-08 13:35:00  26.74  26.74  26.67  26.67   31600\n",
      "       2019-04-08 13:40:00  26.64  26.61  26.64  26.60   37760\n",
      "       2019-04-08 13:45:00  26.82  26.70  26.68  26.68   68600\n",
      "       2019-04-08 13:50:00  26.78  26.62  26.78  26.62   51700\n",
      "       2019-04-08 13:55:00  26.64  26.64  26.64  26.64    4200\n",
      "volume Max:                              high  close   open    low  volume\n",
      "code   ticktime                                               \n",
      "300649 2019-04-08 09:45:00  27.40  27.36  27.40  27.30  178000\n",
      "       2019-04-08 09:35:00  27.54  27.43  27.54  27.43  174700\n",
      "       2019-04-08 09:55:00  27.65  27.58  27.45  27.45  115666\n",
      "volume Min:                              high  close   open    low  volume\n",
      "code   ticktime                                               \n",
      "300649 2019-04-08 09:30:00  27.77  27.77  27.77  27.77    8400\n",
      "       2019-04-08 13:55:00  26.64  26.64  26.64  26.64    4200\n",
      "       2019-04-08 11:35:00  27.05  27.05  27.05  27.05       0\n",
      "mean:27.1874222267 mean2:27.1402702703 median:27.18\n"
     ]
    }
   ],
   "source": [
    "# import pandas as pd\n",
    "# tpp='/Volumes/RamDisk/sina_MultiIndex_data.h5'\n",
    "# spp=pd.HDFStore(tpp)\n",
    "# code='002673'\n",
    "# code='600559'\n",
    "# code='002342'\n",
    "code='300649'\n",
    "\n",
    "# code='002691'\n",
    "# code='000555'\n",
    "\n",
    "resample='d'\n",
    "# dfm = spp.all_10\n",
    "# df_freq = cct.get_limit_multiIndex_freq(dfm)\n",
    "\n",
    "h5_fname = 'sina_MultiIndex_data'\n",
    "h5_table = 'all_10'\n",
    "h5 = h5a.load_hdf_db(h5_fname, table=h5_table, code_l=None, timelimit=False, dratio_limit=0.12)\n",
    "# h5 = h5.drop_duplicates('volume')\n",
    "# h5.volume = h5.volume - h5.volume.shift(1)\n",
    "print h5.loc[code][:2]\n",
    "print h5.loc[code][-2:]\n",
    "print h5.loc[code].lastbuy.value_counts()\n",
    "print \"median:\",h5.loc[code].close.median()\n",
    "df_freq = cct.get_limit_multiIndex_freq(h5,freq='5T', col='all',start='09:25:00',end=None, code=code)\n",
    "df_tdx = get_quotes_tdx(code,dl=30,resample=resample)\n",
    "print \"last TDD:\",df_tdx[-1:].amount/df_tdx[-1:].close,(df_tdx[-1:].high+df_tdx[-1:].low)/2,df_tdx[-1:].close\n",
    "# #no use df_freq['volume'] = df_freq['volume'] - df_freq['volume'].shift(1)\n",
    "# print df_freq.sort_values('volume',ascending=False)\n",
    "print df_freq[:5]\n",
    "print df_freq[-5:]\n",
    "\n",
    "# print df_freq.low.cummin(),df_freq.volume.sum()/100\n",
    "print \"volume Max:\",df_freq.sort_values('volume',ascending=False)[:3]\n",
    "print \"volume Min:\",df_freq.sort_values('volume',ascending=False)[-3:]\n",
    "# print df_freq.loc[:,['close','volume']][-30:]\n",
    "df_freq['amount'] = (map(lambda x, y: round((x * y), 1), df_freq.close.values, df_freq.volume.values)) \n",
    "print \"mean:%s mean2:%s median:%s\"%(df_freq.amount.sum()/df_freq.volume.sum(),df_freq.close.mean(),df_freq.close.median())\n",
    "# print df_freq.volume.value_counts().T\n",
    "# df = tdd.get_tdx_Exp_day_to_df('999999',start=20170602,end=None).sort_index(ascending=True)\n",
    "# print df[-2:]"
   ]
  },
  {
   "cell_type": "code",
   "execution_count": null,
   "metadata": {
    "collapsed": true
   },
   "outputs": [],
   "source": []
  },
  {
   "cell_type": "code",
   "execution_count": null,
   "metadata": {
    "collapsed": true
   },
   "outputs": [],
   "source": []
  },
  {
   "cell_type": "code",
   "execution_count": null,
   "metadata": {
    "collapsed": true
   },
   "outputs": [],
   "source": []
  },
  {
   "cell_type": "code",
   "execution_count": null,
   "metadata": {
    "collapsed": true
   },
   "outputs": [],
   "source": []
  }
 ],
 "metadata": {
  "kernelspec": {
   "display_name": "Python 2",
   "language": "python",
   "name": "python2"
  },
  "language_info": {
   "codemirror_mode": {
    "name": "ipython",
    "version": 2
   },
   "file_extension": ".py",
   "mimetype": "text/x-python",
   "name": "python",
   "nbconvert_exporter": "python",
   "pygments_lexer": "ipython2",
   "version": "2.7.11"
  },
  "toc": {
   "colors": {
    "hover_highlight": "#DAA520",
    "navigate_num": "#000000",
    "navigate_text": "#333333",
    "running_highlight": "#FF0000",
    "selected_highlight": "#FFD700",
    "sidebar_border": "#EEEEEE",
    "wrapper_background": "#FFFFFF"
   },
   "moveMenuLeft": true,
   "nav_menu": {
    "height": "12px",
    "width": "252px"
   },
   "navigate_menu": true,
   "number_sections": true,
   "sideBar": false,
   "threshold": 4,
   "toc_cell": false,
   "toc_section_display": "block",
   "toc_window_display": false,
   "widenNotebook": false
  }
 },
 "nbformat": 4,
 "nbformat_minor": 2
}
