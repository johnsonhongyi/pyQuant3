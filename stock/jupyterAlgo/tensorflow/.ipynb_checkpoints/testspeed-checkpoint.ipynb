{
 "cells": [
  {
   "cell_type": "markdown",
   "metadata": {},
   "source": [
    "# Cpu GPU speed"
   ]
  },
  {
   "cell_type": "markdown",
   "metadata": {},
   "source": [
    "##  TensorFlow and tf.keras"
   ]
  },
  {
   "cell_type": "code",
   "execution_count": 2,
   "metadata": {
    "ExecuteTime": {
     "end_time": "2020-01-19T08:11:04.670559Z",
     "start_time": "2020-01-19T08:10:47.072834Z"
    }
   },
   "outputs": [
    {
     "name": "stdout",
     "output_type": "stream",
     "text": [
      "1.14.0\n",
      "(60000, 28, 28)\n",
      "60000\n",
      "[9 0 0 ... 3 0 5]\n",
      "WARNING:tensorflow:From /usr/local/lib/python3.7/site-packages/tensorflow/python/ops/init_ops.py:1251: calling VarianceScaling.__init__ (from tensorflow.python.ops.init_ops) with dtype is deprecated and will be removed in a future version.\n",
      "Instructions for updating:\n",
      "Call initializer instance with the dtype argument instead of passing it to the constructor\n",
      "Epoch 1/5\n",
      "60000/60000 [==============================] - 3s 55us/sample - loss: 0.5029 - acc: 0.8233\n",
      "Epoch 2/5\n",
      "60000/60000 [==============================] - 3s 52us/sample - loss: 0.3766 - acc: 0.8637\n",
      "Epoch 3/5\n",
      "60000/60000 [==============================] - 3s 52us/sample - loss: 0.3375 - acc: 0.8773\n",
      "Epoch 4/5\n",
      "60000/60000 [==============================] - 3s 52us/sample - loss: 0.3115 - acc: 0.8861\n",
      "Epoch 5/5\n",
      "60000/60000 [==============================] - 3s 52us/sample - loss: 0.2961 - acc: 0.8904\n",
      "10000/10000 [==============================] - 0s 29us/sample - loss: 0.3547 - acc: 0.8728\n",
      "Test accuracy: 0.8728\n",
      "9\n",
      "9\n"
     ]
    }
   ],
   "source": [
    "# TensorFlow and tf.keras\n",
    "import tensorflow as tf\n",
    "from tensorflow import keras\n",
    "\n",
    "# Helper libraries\n",
    "import numpy as np\n",
    "\n",
    "print(tf.__version__)\n",
    "\n",
    "# 加载数据、区分出测试数据和训练数据\n",
    "# 注意：如果已经下过，重复下载的话，可能会出现EOFError: Compressed file ended before the end-of-stream marker was reached错误\n",
    "\n",
    "fashion_mnist = keras.datasets.fashion_mnist\n",
    "(train_images, train_labels), (test_images, test_labels) = fashion_mnist.load_data()\n",
    "\n",
    "# 分类的列表\n",
    "class_names = ['T-shirt/top', 'Trouser', 'Pullover', 'Dress', 'Coat',\n",
    "               'Sandal', 'Shirt', 'Sneaker', 'Bag', 'Ankle boot']\n",
    "\n",
    "# 查看数据的值\n",
    "print(train_images.shape)  # 样本的shape(可以看出有多少条样本、维度)\n",
    "print(len(train_labels))  # label的个数，有多少个样本，就应该有多少个label\n",
    "print(train_labels)  # label的值，对应上面分类列表(从0到9)\n",
    "\n",
    "\n",
    "# 对测试数据和训练数据进行预处理(实际上就是归一化)\n",
    "train_images = train_images / 255.0\n",
    "test_images = test_images / 255.0\n",
    "\n",
    "# 设置层  (初始处理)--- 建立神经层\n",
    "model = keras.Sequential([\n",
    "    keras.layers.Flatten(input_shape=(28, 28)),\n",
    "    keras.layers.Dense(128, activation=tf.nn.relu),\n",
    "    keras.layers.Dense(10, activation=tf.nn.softmax)\n",
    "])\n",
    "\n",
    "\n",
    "# 损失函数、优化器、指标\n",
    "model.compile(optimizer=tf.train.AdamOptimizer(),\n",
    "              loss='sparse_categorical_crossentropy',\n",
    "              metrics=['accuracy'])\n",
    "\n",
    "# 将训练集丢进去，训练出模型(Model)\n",
    "model.fit(train_images, train_labels, epochs=5)\n",
    "\n",
    "# 将测试数据丢到模型中，评估一下得分(准确率)\n",
    "test_loss, test_acc = model.evaluate(test_images, test_labels)\n",
    "print('Test accuracy:', test_acc)\n",
    "\n",
    "# 评估完准确率以后，我们可以对测试数据进行预测\n",
    "predictions = model.predict(test_images)\n",
    "\n",
    "# 选第一个样本预测后的得出最有可能结果\n",
    "print(np.argmax(predictions[0]))\n",
    "\n",
    "# 对比结果\n",
    "print(test_labels[0])"
   ]
  },
  {
   "cell_type": "markdown",
   "metadata": {},
   "source": [
    "## with tf.device('/cpu:0')"
   ]
  },
  {
   "cell_type": "code",
   "execution_count": 9,
   "metadata": {
    "ExecuteTime": {
     "end_time": "2020-01-19T08:01:22.416471Z",
     "start_time": "2020-01-19T08:00:02.894815Z"
    }
   },
   "outputs": [
    {
     "name": "stdout",
     "output_type": "stream",
     "text": [
      "WARNING:tensorflow:From /usr/local/lib/python3.7/site-packages/tensorflow/python/ops/init_ops.py:1251: calling VarianceScaling.__init__ (from tensorflow.python.ops.init_ops) with dtype is deprecated and will be removed in a future version.\n",
      "Instructions for updating:\n",
      "Call initializer instance with the dtype argument instead of passing it to the constructor\n",
      "Epoch 1/10\n",
      "60000/60000 [==============================] - 4s 59us/sample - loss: 0.2931 - acc: 0.9131\n",
      "Epoch 2/10\n",
      "60000/60000 [==============================] - 3s 55us/sample - loss: 0.1439 - acc: 0.9564\n",
      "Epoch 3/10\n",
      "60000/60000 [==============================] - 6s 102us/sample - loss: 0.1075 - acc: 0.9674\n",
      "Epoch 4/10\n",
      "60000/60000 [==============================] - 3s 56us/sample - loss: 0.0857 - acc: 0.9734\n",
      "Epoch 5/10\n",
      "60000/60000 [==============================] - 5s 79us/sample - loss: 0.0751 - acc: 0.9765\n",
      "Epoch 6/10\n",
      "60000/60000 [==============================] - 3s 57us/sample - loss: 0.0635 - acc: 0.9799\n",
      "Epoch 7/10\n",
      "60000/60000 [==============================] - 3s 54us/sample - loss: 0.0587 - acc: 0.9805\n",
      "Epoch 8/10\n",
      "60000/60000 [==============================] - 3s 53us/sample - loss: 0.0516 - acc: 0.98272s - loss: 0.0494 - acc:  \n",
      "Epoch 9/10\n",
      "60000/60000 [==============================] - 5s 80us/sample - loss: 0.0470 - acc: 0.9844\n",
      "Epoch 10/10\n",
      "60000/60000 [==============================] - 4s 69us/sample - loss: 0.0449 - acc: 0.9851\n",
      "10000/10000 [==============================] - 0s 27us/sample - loss: 0.0775 - acc: 0.9780\n",
      "Epoch 1/10\n",
      "60000/60000 [==============================] - 3s 54us/sample - loss: 0.2991 - acc: 0.9136\n",
      "Epoch 2/10\n",
      "60000/60000 [==============================] - 3s 53us/sample - loss: 0.1429 - acc: 0.9573\n",
      "Epoch 3/10\n",
      "60000/60000 [==============================] - ETA: 0s - loss: 0.1070 - acc: 0.967 - 4s 69us/sample - loss: 0.1073 - acc: 0.9674\n",
      "Epoch 4/10\n",
      "60000/60000 [==============================] - 3s 53us/sample - loss: 0.0887 - acc: 0.9722\n",
      "Epoch 5/10\n",
      "60000/60000 [==============================] - 4s 69us/sample - loss: 0.0746 - acc: 0.9764\n",
      "Epoch 6/10\n",
      "60000/60000 [==============================] - 3s 54us/sample - loss: 0.0660 - acc: 0.9790\n",
      "Epoch 7/10\n",
      "60000/60000 [==============================] - 4s 60us/sample - loss: 0.0586 - acc: 0.9813\n",
      "Epoch 8/10\n",
      "60000/60000 [==============================] - 4s 64us/sample - loss: 0.0544 - acc: 0.9823\n",
      "Epoch 9/10\n",
      "60000/60000 [==============================] - 4s 66us/sample - loss: 0.0478 - acc: 0.9843\n",
      "Epoch 10/10\n",
      "60000/60000 [==============================] - 5s 79us/sample - loss: 0.0437 - acc: 0.9856\n",
      "10000/10000 [==============================] - 0s 30us/sample - loss: 0.0668 - acc: 0.9788\n",
      "使用cpu花的时间： 40.697715044021606\n",
      "使用gpu花的时间： 38.149970293045044\n"
     ]
    }
   ],
   "source": [
    "#TensorFlow and tf.keras\n",
    "import tensorflow as tf\n",
    "#Helper libraries\n",
    "import numpy as np\n",
    "# import matplotlib.pyplot as plt\n",
    "from time import time\n",
    "\n",
    "mnist = tf.keras.datasets.mnist\n",
    "(x_train, y_train), (x_test, y_test) = mnist.load_data()\n",
    "x_train, x_test = x_train / 255.0, x_test / 255.0\n",
    "\n",
    "#用CPU运算\n",
    "startTime1 = time()\n",
    "\n",
    "with tf.device('/cpu:0'):\n",
    "    model = tf.keras.models.Sequential([\n",
    "      tf.keras.layers.Flatten(input_shape=(28, 28)),\n",
    "      tf.keras.layers.Dense(128, activation='relu'),\n",
    "      tf.keras.layers.Dropout(0.2),\n",
    "      tf.keras.layers.Dense(10, activation='softmax')\n",
    "    ])\n",
    "    model.compile(optimizer='adam',\n",
    "                  loss='sparse_categorical_crossentropy',\n",
    "                  metrics=['accuracy'])\n",
    "    model.fit(x_train, y_train, epochs=10)\n",
    "    model.evaluate(x_test, y_test)\n",
    "t1 = time() - startTime1\n",
    "\n",
    "#用GPU运算\n",
    "startTime2 = time()\n",
    "\n",
    "with tf.device('/gpu:0'):\n",
    "    model = tf.keras.models.Sequential([\n",
    "      tf.keras.layers.Flatten(input_shape=(28, 28)),\n",
    "      tf.keras.layers.Dense(128, activation='relu'),\n",
    "      tf.keras.layers.Dropout(0.2),\n",
    "      tf.keras.layers.Dense(10, activation='softmax')\n",
    "    ])\n",
    "    model.compile(optimizer='adam',\n",
    "                  loss='sparse_categorical_crossentropy',\n",
    "                  metrics=['accuracy'])\n",
    "    model.fit(x_train, y_train, epochs=10)\n",
    "    model.evaluate(x_test, y_test)\n",
    "\n",
    "t2 = time() - startTime2\n",
    "\n",
    "#打印运行时间\n",
    "print('使用cpu花的时间：', t1)\n",
    "print('使用gpu花的时间：', t2)\n"
   ]
  },
  {
   "cell_type": "markdown",
   "metadata": {},
   "source": [
    "## # Creates a graph."
   ]
  },
  {
   "cell_type": "code",
   "execution_count": 5,
   "metadata": {
    "ExecuteTime": {
     "end_time": "2020-01-19T08:11:39.464685Z",
     "start_time": "2020-01-19T08:11:39.423431Z"
    }
   },
   "outputs": [
    {
     "name": "stdout",
     "output_type": "stream",
     "text": [
      "[[22. 28.]\n",
      " [49. 64.]]\n"
     ]
    }
   ],
   "source": [
    "import tensorflow as tf\n",
    "\n",
    "## Creates a graph.\n",
    "\n",
    "with tf.device('/cpu:0'):\n",
    "  a = tf.constant([1.0, 2.0, 3.0, 4.0, 5.0, 6.0], shape=[2, 3], name='a')\n",
    "  b = tf.constant([1.0, 2.0, 3.0, 4.0, 5.0, 6.0], shape=[3, 2], name='b')\n",
    "c = tf.matmul(a, b)\n",
    "# Creates a session with log_device_placement set to True.\n",
    "sess = tf.Session(config=tf.ConfigProto(log_device_placement=True))\n",
    "# Runs the op.\n",
    "print(sess.run(c))\n"
   ]
  },
  {
   "cell_type": "code",
   "execution_count": null,
   "metadata": {},
   "outputs": [],
   "source": [
    "wanted_data = tf.cast(origin_data, tf.float32)"
   ]
  }
 ],
 "metadata": {
  "kernelspec": {
   "display_name": "Python 3",
   "language": "python",
   "name": "python3"
  },
  "language_info": {
   "codemirror_mode": {
    "name": "ipython",
    "version": 3
   },
   "file_extension": ".py",
   "mimetype": "text/x-python",
   "name": "python",
   "nbconvert_exporter": "python",
   "pygments_lexer": "ipython3",
   "version": "3.7.4"
  },
  "toc": {
   "colors": {
    "hover_highlight": "#DAA520",
    "navigate_num": "#000000",
    "navigate_text": "#333333",
    "running_highlight": "#FF0000",
    "selected_highlight": "#FFD700",
    "sidebar_border": "#EEEEEE",
    "wrapper_background": "#FFFFFF"
   },
   "moveMenuLeft": true,
   "nav_menu": {
    "height": "12px",
    "width": "252px"
   },
   "navigate_menu": true,
   "number_sections": true,
   "sideBar": true,
   "threshold": 4,
   "toc_cell": false,
   "toc_position": {
    "height": "592px",
    "left": "0px",
    "right": "1129.98px",
    "top": "66px",
    "width": "156.016px"
   },
   "toc_section_display": "block",
   "toc_window_display": true,
   "widenNotebook": false
  }
 },
 "nbformat": 4,
 "nbformat_minor": 4
}
