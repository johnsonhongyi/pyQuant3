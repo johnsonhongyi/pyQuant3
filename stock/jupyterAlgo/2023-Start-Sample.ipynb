{
 "cells": [
  {
   "cell_type": "code",
   "execution_count": null,
   "id": "45e78187-8214-4abf-aa21-1065532d13df",
   "metadata": {},
   "outputs": [],
   "source": [
    "# 2023 测试移动平均线"
   ]
  },
  {
   "cell_type": "code",
   "execution_count": 10,
   "id": "03db22bc-c473-462e-9297-d632680e33df",
   "metadata": {
    "execution": {
     "iopub.execute_input": "2023-01-18T19:03:13.031000+08:00",
     "iopub.status.busy": "2023-01-18T19:03:13.031000+08:00",
     "iopub.status.idle": "2023-01-18T19:03:13.037000+08:00",
     "shell.execute_reply": "2023-01-18T19:03:13.037000+08:00",
     "shell.execute_reply.started": "2023-01-18T19:03:13.031000"
    },
    "tags": []
   },
   "outputs": [
    {
     "data": {
      "text/plain": [
       "'C:\\\\Users\\\\Johnson\\\\Anaconda2\\\\python.exe'"
      ]
     },
     "execution_count": 10,
     "metadata": {},
     "output_type": "execute_result"
    },
    {
     "name": "stdout",
     "output_type": "stream",
     "text": [
      "(<open file '<stdin>', mode 'r' at 0x000000000264B030>, <ipykernel.iostream.OutStream object at 0x00000000045E2F98>, <ipykernel.iostream.OutStream object at 0x00000000046304A8>)\n"
     ]
    }
   ],
   "source": [
    "from IPython.core.interactiveshell import InteractiveShell\n",
    "InteractiveShell.ast_node_interactivity = \"all\"\n",
    "import sys\n",
    "sys.executable\n",
    "stdi, stdo, stde = sys.stdin, sys.stdout, sys.stderr\n",
    "print(stdi, stdo, stde)"
   ]
  },
  {
   "cell_type": "code",
   "execution_count": 4,
   "id": "1afc212b-b2a6-4d9e-b710-23d786a5fcc0",
   "metadata": {
    "execution": {
     "iopub.execute_input": "2023-01-16T21:59:31.366000+08:00",
     "iopub.status.busy": "2023-01-16T21:59:31.366000+08:00",
     "iopub.status.idle": "2023-01-16T21:59:31.372000+08:00",
     "shell.execute_reply": "2023-01-16T21:59:31.372000+08:00",
     "shell.execute_reply.started": "2023-01-16T21:59:31.366000"
    },
    "tags": []
   },
   "outputs": [
    {
     "name": "stdout",
     "output_type": "stream",
     "text": [
      "module://ipykernel.pylab.backend_inline\n"
     ]
    }
   ],
   "source": [
    "import matplotlib\n",
    "import matplotlib.pyplot as plt\n",
    "\n",
    "print(matplotlib.get_backend())\n",
    "plt.rcParams[\"font.sans-serif\"] = [\"SimHei\"]  # 指定默认字体为黑体\n",
    "plt.rcParams[\"axes.unicode_minus\"] = False  # 解决保存图像是负号'-'显示为方块的问题\n",
    "%matplotlib inline\n",
    "# %matplotlib widget"
   ]
  },
  {
   "cell_type": "code",
   "execution_count": 19,
   "id": "e63a1757-68e0-452a-b622-fece40885f5e",
   "metadata": {
    "execution": {
     "iopub.execute_input": "2023-01-16T22:04:29.782000+08:00",
     "iopub.status.busy": "2023-01-16T22:04:29.782000+08:00",
     "iopub.status.idle": "2023-01-16T22:04:29.795000+08:00",
     "shell.execute_reply": "2023-01-16T22:04:29.795000+08:00",
     "shell.execute_reply.started": "2023-01-16T22:04:29.782000"
    },
    "tags": []
   },
   "outputs": [],
   "source": [
    "def src_step1():\n",
    "    import sys\n",
    "\n",
    "    import matplotlib.pyplot as plt\n",
    "    import numpy as np\n",
    "    import pandas as pd\n",
    "    import tushare as ts\n",
    "\n",
    "    sys.path.append(\"..\")\n",
    "    from JSONData import tdx_data_Day as tdd\n",
    "\n",
    "    # http://stackoverflow.com/questions/21058333/compute-rolling-maximum-drawdown-of-pandas-series\n",
    "    def max_dd(ser):\n",
    "        max2here = pd.expanding_max(ser)\n",
    "        dd2here = ser - max2here\n",
    "        return dd2here.min()\n",
    "\n",
    "    np.random.seed(0)\n",
    "    n = 100\n",
    "    s = pd.Series(np.random.randn(n).cumsum())\n",
    "    # s.plot()\n",
    "    # plt.show()\n",
    "\n",
    "    code = \"999999\"\n",
    "    # d=ts.get_hist_data(code).sort_index()\n",
    "    # d=tdd.get_tdx_Exp_day_to_df(code, 'f').sort_index()\n",
    "    data = tdd.get_tdx_Exp_day_to_df(\"999999\", dl=160).sort_index()\n",
    "    rolling_dd = pd.rolling_apply(data.close, 20, max_dd, min_periods=0)\n",
    "    df = pd.concat([data.close, rolling_dd], axis=1)\n",
    "    df.columns = [code, \"rol_dd_10\"]\n",
    "    df.plot()\n",
    "\n",
    "    plt.show()"
   ]
  },
  {
   "cell_type": "code",
   "execution_count": 20,
   "id": "fb31dced-e357-4622-80f9-755e7bbdd3c8",
   "metadata": {
    "execution": {
     "iopub.execute_input": "2023-01-16T22:04:31.094000+08:00",
     "iopub.status.busy": "2023-01-16T22:04:31.094000+08:00",
     "iopub.status.idle": "2023-01-16T22:04:31.306000+08:00",
     "shell.execute_reply": "2023-01-16T22:04:31.306000+08:00",
     "shell.execute_reply.started": "2023-01-16T22:04:31.094000"
    },
    "tags": []
   },
   "outputs": [
    {
     "data": {
      "image/png": "[encoded data removed]",
      "text/plain": [
       "<matplotlib.figure.Figure at 0x1138d1d0>"
      ]
     },
     "metadata": {},
     "output_type": "display_data"
    }
   ],
   "source": [
    "src_step1()"
   ]
  },
  {
   "cell_type": "code",
   "execution_count": 7,
   "id": "9b26ade1-344c-4b2d-95a9-717a60af1b0d",
   "metadata": {
    "execution": {
     "iopub.execute_input": "2023-01-16T22:00:20.650000+08:00",
     "iopub.status.busy": "2023-01-16T22:00:20.650000+08:00",
     "iopub.status.idle": "2023-01-16T22:00:20.677000+08:00",
     "shell.execute_reply": "2023-01-16T22:00:20.677000+08:00",
     "shell.execute_reply.started": "2023-01-16T22:00:20.650000"
    },
    "tags": []
   },
   "outputs": [],
   "source": [
    "def src_step2():\n",
    "    import matplotlib.pyplot as plt\n",
    "    import numpy as np\n",
    "    import pandas as pd\n",
    "    from numpy.lib.stride_tricks import as_strided\n",
    "\n",
    "    def windowed_view(x, window_size):\n",
    "        \"\"\"Creat a 2d windowed view of a 1d array.\n",
    "\n",
    "        `x` must be a 1d numpy array.\n",
    "\n",
    "        `numpy.lib.stride_tricks.as_strided` is used to create the view.\n",
    "        The data is not copied.\n",
    "\n",
    "        Example:\n",
    "\n",
    "        >>> x = np.array([1, 2, 3, 4, 5, 6])\n",
    "        >>> windowed_view(x, 3)\n",
    "        array([[1, 2, 3],\n",
    "               [2, 3, 4],\n",
    "               [3, 4, 5],\n",
    "               [4, 5, 6]])\n",
    "        \"\"\"\n",
    "        y = as_strided(\n",
    "            x,\n",
    "            shape=(x.size - window_size + 1, window_size),\n",
    "            strides=(x.strides[0], x.strides[0]),\n",
    "        )\n",
    "        return y\n",
    "\n",
    "    def rolling_max_dd(x, window_size, min_periods=1):\n",
    "        \"\"\"Compute the rolling maximum drawdown of `x`.\n",
    "\n",
    "        `x` must be a 1d numpy array.\n",
    "        `min_periods` should satisfy `1 <= min_periods <= window_size`.\n",
    "\n",
    "        Returns an 1d array with length `len(x) - min_periods + 1`.\n",
    "        \"\"\"\n",
    "        if min_periods < window_size:\n",
    "            pad = np.empty(window_size - min_periods)\n",
    "            pad.fill(x[0])\n",
    "            x = np.concatenate((pad, x))\n",
    "        y = windowed_view(x, window_size)\n",
    "        running_max_y = np.maximum.accumulate(y, axis=1)\n",
    "        dd = y - running_max_y\n",
    "        return dd.min(axis=1)\n",
    "\n",
    "    def max_dd(ser):\n",
    "        max2here = pd.expanding_max(ser)\n",
    "        dd2here = ser - max2here\n",
    "        return dd2here.min()\n",
    "\n",
    "    # if __name__ == \"__main__\":\n",
    "    np.random.seed(0)\n",
    "    n = 100\n",
    "    s = pd.Series(np.random.randn(n).cumsum())\n",
    "\n",
    "    window_length = 10\n",
    "\n",
    "    rolling_dd = pd.rolling_apply(s, window_length, max_dd, min_periods=0)\n",
    "    df = pd.concat([s, rolling_dd], axis=1)\n",
    "    df.columns = [\"s\", \"rol_dd_%d\" % window_length]\n",
    "    df.plot(linewidth=3, alpha=0.4)\n",
    "\n",
    "    my_rmdd = rolling_max_dd(s.values, window_length, min_periods=1)\n",
    "    plt.plot(my_rmdd, \"g.\")\n",
    "\n",
    "    plt.show()"
   ]
  },
  {
   "cell_type": "code",
   "execution_count": 8,
   "id": "4bae17d8-8cc9-4088-8eeb-eaff4e11bed4",
   "metadata": {
    "execution": {
     "iopub.execute_input": "2023-01-16T22:00:22.698000+08:00",
     "iopub.status.busy": "2023-01-16T22:00:22.698000+08:00",
     "iopub.status.idle": "2023-01-16T22:00:22.800000+08:00",
     "shell.execute_reply": "2023-01-16T22:00:22.799000+08:00",
     "shell.execute_reply.started": "2023-01-16T22:00:22.698000"
    },
    "tags": []
   },
   "outputs": [
    {
     "data": {
      "image/png": "[encoded data removed]",
      "text/plain": [
       "<matplotlib.figure.Figure at 0x113e7e80>"
      ]
     },
     "metadata": {},
     "output_type": "display_data"
    }
   ],
   "source": [
    "%matplotlib inline\n",
    "src_step2()"
   ]
  },
  {
   "cell_type": "code",
   "execution_count": null,
   "id": "e4199f1d-ba86-4b7a-9aab-7525854f3b96",
   "metadata": {},
   "outputs": [],
   "source": []
  }
 ],
 "metadata": {
  "kernelspec": {
   "display_name": "Python 2",
   "language": "python",
   "name": "python2"
  },
  "language_info": {
   "codemirror_mode": {
    "name": "ipython",
    "version": 2
   },
   "file_extension": ".py",
   "mimetype": "text/x-python",
   "name": "python",
   "nbconvert_exporter": "python",
   "pygments_lexer": "ipython2",
   "version": "2.7.13"
  },
  "widgets": {
   "application/vnd.jupyter.widget-state+json": {
    "state": {},
    "version_major": 2,
    "version_minor": 0
   }
  }
 },
 "nbformat": 4,
 "nbformat_minor": 5
}
