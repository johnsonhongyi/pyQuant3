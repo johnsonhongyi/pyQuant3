{
 "cells": [
  {
   "cell_type": "markdown",
   "metadata": {},
   "source": [
    "# 飞狐交易师"
   ]
  },
  {
   "cell_type": "code",
   "execution_count": 128,
   "metadata": {
    "execution": {
     "iopub.execute_input": "2023-10-24T13:33:52.431892Z",
     "iopub.status.busy": "2023-10-24T13:33:52.431892Z",
     "iopub.status.idle": "2023-10-24T13:33:52.449875Z",
     "shell.execute_reply": "2023-10-24T13:33:52.449875Z",
     "shell.execute_reply.started": "2023-10-24T13:33:52.431892Z"
    },
    "tags": []
   },
   "outputs": [],
   "source": [
    "zxg = 'D:\\\\MacTools\\\\WinTools\\\\Foxtrader\\\\stkblock\\\\自选股src.SBK'\n",
    "zxg2 = 'D:\\\\MacTools\\\\WinTools\\\\Foxtrader\\\\stkblock\\\\自选缠周[自].SBK'\n",
    "zxg4 = 'D:\\\\MacTools\\\\WinTools\\\\Foxtrader\\\\stkblock\\\\自选-B1B日周[自].SBK'\n",
    "\n",
    "import struct\n",
    "\n",
    "file = open(zxg, \"rb\")\n",
    "data = file.read()\n",
    "file.close()\n",
    "\n",
    "file2 = open(zxg2, \"rb\")\n",
    "data2 = file2.read()\n",
    "file2.close()\n",
    "\n",
    "file4 = open(zxg4, \"rb\")\n",
    "data4 = file4.read()\n",
    "file4.close()\n"
   ]
  },
  {
   "cell_type": "code",
   "execution_count": 119,
   "metadata": {
    "execution": {
     "iopub.execute_input": "2023-10-24T13:29:17.953500Z",
     "iopub.status.busy": "2023-10-24T13:29:17.953500Z",
     "iopub.status.idle": "2023-10-24T13:29:17.960519Z",
     "shell.execute_reply": "2023-10-24T13:29:17.960519Z",
     "shell.execute_reply.started": "2023-10-24T13:29:17.953500Z"
    },
    "tags": []
   },
   "outputs": [],
   "source": [
    "zxg3 = 'D:\\\\MacTools\\\\WinTools\\\\Foxtrader\\\\stkblock\\\\自选股.SBK'\n",
    "# zxg2 = 'D:\\\\MacTools\\\\WinTools\\\\Foxtrader\\\\stkblock\\\\自选缠周[自].SBK'\n",
    "# import struct\n",
    "\n",
    "file3 = open(zxg3, \"rb\")\n",
    "data3 = file3.read()\n",
    "file3.close()"
   ]
  },
  {
   "cell_type": "code",
   "execution_count": 120,
   "metadata": {
    "execution": {
     "iopub.execute_input": "2023-10-24T13:29:18.639699Z",
     "iopub.status.busy": "2023-10-24T13:29:18.639699Z",
     "iopub.status.idle": "2023-10-24T13:29:18.656620Z",
     "shell.execute_reply": "2023-10-24T13:29:18.656620Z",
     "shell.execute_reply.started": "2023-10-24T13:29:18.639699Z"
    },
    "tags": []
   },
   "outputs": [
    {
     "data": {
      "text/plain": [
       "b'\\xfb\\xff\\xff\\xff\\x01\\x01\\x00\\x00\\x02\\x01\\x00\\x00\\x03ZXG\\x00\\x01\\x00\\x00\\x00SH000001\\x00\\xf8\\x19\\x00'"
      ]
     },
     "execution_count": 120,
     "metadata": {},
     "output_type": "execute_result"
    }
   ],
   "source": [
    "data3"
   ]
  },
  {
   "cell_type": "code",
   "execution_count": 123,
   "metadata": {
    "execution": {
     "iopub.execute_input": "2023-10-24T13:31:40.567951Z",
     "iopub.status.busy": "2023-10-24T13:31:40.566954Z",
     "iopub.status.idle": "2023-10-24T13:31:40.575967Z",
     "shell.execute_reply": "2023-10-24T13:31:40.575967Z",
     "shell.execute_reply.started": "2023-10-24T13:31:40.567951Z"
    },
    "tags": []
   },
   "outputs": [
    {
     "data": {
      "text/plain": [
       "8"
      ]
     },
     "execution_count": 123,
     "metadata": {},
     "output_type": "execute_result"
    }
   ],
   "source": [
    "len(b'\\xfb\\xff\\xff\\xff\\x01\\x01\\x00\\x00\\x02\\x01\\x00\\x00\\x03')\n",
    "len(b'ZXG\\x00\\x01\\x00\\x00\\x00')"
   ]
  },
  {
   "cell_type": "code",
   "execution_count": 110,
   "metadata": {
    "execution": {
     "iopub.execute_input": "2023-10-24T11:58:27.420246Z",
     "iopub.status.busy": "2023-10-24T11:58:27.420246Z",
     "iopub.status.idle": "2023-10-24T11:58:27.426229Z",
     "shell.execute_reply": "2023-10-24T11:58:27.426229Z",
     "shell.execute_reply.started": "2023-10-24T11:58:27.420246Z"
    }
   },
   "outputs": [
    {
     "data": {
      "text/plain": [
       "b'\\xfb\\xff\\xff\\xff\\x01\\x01\\x00\\x00\\x02\\x01\\x00\\x00\\x03ZXG\\x00\\x0b\\x00\\x00\\x00SZ301128\\x00\\xf8\\x19\\x00SH600323\\x00\\xf8\\x19\\x00SH600355\\x00\\xf8\\x19\\x00SH600371\\x00\\xf8\\x19\\x00SH600681\\x00\\xf8\\x19\\x00SH600859\\x00\\xf8\\x19\\x00SH600302\\x00\\xf8\\x19\\x00SH600329\\x00\\xf8\\x19\\x00SH600340\\x00\\xf8\\x19\\x00SZ000603\\x00\\xf8\\x19\\x00SZ000878\\x00\\xf8\\x19\\x00'"
      ]
     },
     "execution_count": 110,
     "metadata": {},
     "output_type": "execute_result"
    }
   ],
   "source": [
    "data3"
   ]
  },
  {
   "cell_type": "code",
   "execution_count": 108,
   "metadata": {
    "execution": {
     "iopub.execute_input": "2023-10-24T11:56:44.978175Z",
     "iopub.status.busy": "2023-10-24T11:56:44.978175Z",
     "iopub.status.idle": "2023-10-24T11:56:44.984159Z",
     "shell.execute_reply": "2023-10-24T11:56:44.984159Z",
     "shell.execute_reply.started": "2023-10-24T11:56:44.978175Z"
    }
   },
   "outputs": [
    {
     "data": {
      "text/plain": [
       "b'\\xfb\\xff\\xff\\xff\\x01\\x01\\x00\\x00\\x02\\x01\\x00\\x00\\x03ZXG\\x00\\t\\x00\\x00\\x00SZ301128\\x00\\xf8\\x19\\x00SH600323\\x00\\xf8\\x19\\x00SH600355\\x00\\xf8\\x19\\x00SH600371\\x00\\xf8\\x19\\x00SH600681\\x00\\xf8\\x19\\x00SH600859\\x00\\xf8\\x19\\x00SH600302\\x00\\xf8\\x19\\x00SH600329\\x00\\xf8\\x19\\x00SH600340\\x00\\xf8\\x19\\x00'"
      ]
     },
     "execution_count": 108,
     "metadata": {},
     "output_type": "execute_result"
    }
   ],
   "source": [
    "data3"
   ]
  },
  {
   "cell_type": "code",
   "execution_count": 106,
   "metadata": {
    "execution": {
     "iopub.execute_input": "2023-10-24T11:54:42.691492Z",
     "iopub.status.busy": "2023-10-24T11:54:42.690495Z",
     "iopub.status.idle": "2023-10-24T11:54:42.709444Z",
     "shell.execute_reply": "2023-10-24T11:54:42.709444Z",
     "shell.execute_reply.started": "2023-10-24T11:54:42.691492Z"
    }
   },
   "outputs": [
    {
     "data": {
      "text/plain": [
       "b'\\xfb\\xff\\xff\\xff\\x01\\x01\\x00\\x00\\x02\\x01\\x00\\x00\\x03ZXG\\x00\\x06\\x00\\x00\\x00SZ301128\\x00\\xf8\\x19\\x00SH600323\\x00\\xf8\\x19\\x00SH600355\\x00\\xf8\\x19\\x00SH600371\\x00\\xf8\\x19\\x00SH600681\\x00\\xf8\\x19\\x00SH600859\\x00\\xf8\\x19\\x00'"
      ]
     },
     "execution_count": 106,
     "metadata": {},
     "output_type": "execute_result"
    }
   ],
   "source": [
    "data3"
   ]
  },
  {
   "cell_type": "code",
   "execution_count": 101,
   "metadata": {
    "execution": {
     "iopub.execute_input": "2023-10-24T11:50:34.810323Z",
     "iopub.status.busy": "2023-10-24T11:50:34.810323Z",
     "iopub.status.idle": "2023-10-24T11:50:34.818302Z",
     "shell.execute_reply": "2023-10-24T11:50:34.818302Z",
     "shell.execute_reply.started": "2023-10-24T11:50:34.810323Z"
    },
    "tags": []
   },
   "outputs": [
    {
     "data": {
      "text/plain": [
       "b'\\xfb\\xff\\xff\\xff\\x01\\x01\\x00\\x00\\x02\\x01\\x00\\x00\\x03ZXG\\x00\\x01\\x00\\x00\\x00SZ301128\\x00\\xfb\\x19\\x00'"
      ]
     },
     "execution_count": 101,
     "metadata": {},
     "output_type": "execute_result"
    }
   ],
   "source": [
    "data3"
   ]
  },
  {
   "cell_type": "code",
   "execution_count": 124,
   "metadata": {
    "execution": {
     "iopub.execute_input": "2023-10-24T13:32:13.167097Z",
     "iopub.status.busy": "2023-10-24T13:32:13.167097Z",
     "iopub.status.idle": "2023-10-24T13:32:13.179067Z",
     "shell.execute_reply": "2023-10-24T13:32:13.179067Z",
     "shell.execute_reply.started": "2023-10-24T13:32:13.167097Z"
    },
    "tags": []
   },
   "outputs": [
    {
     "data": {
      "text/plain": [
       "b'\\xfb\\xff\\xff\\xff\\x01\\x01\\x00\\x00\\x02\\x01\\x00\\x00\\x05ZXCZZ\\x008\\x00\\x00\\x00SH600011\\x00\\xfb\\x19\\x00SH600039\\x00\\xfb\\x19\\x00SH600056\\x00\\xfb\\x19\\x00SH600094\\x00\\xfb\\x19\\x00SH600108\\x00\\xfb\\x19\\x00SH600112\\x00\\xfb\\x19\\x00SH600166\\x00\\xfb\\x19\\x00SH600210\\x00\\xfb\\x19\\x00SH600248\\x00\\xfb\\x19\\x00SH600259\\x00\\xfb\\x19\\x00SH600323\\x00\\xfb\\x19\\x00SH600355\\x00\\xfb\\x19\\x00SH600371\\x00\\xfb\\x19\\x00SH600638\\x00\\xfb\\x19\\x00SH600681\\x00\\xfb\\x19\\x00SH600800\\x00\\xfb\\x19\\x00SH600859\\x00\\xfb\\x19\\x00SH600961\\x00\\xfb\\x19\\x00SH601222\\x00\\xfb\\x19\\x00SH601377\\x00\\xfb\\x19\\x00SH601933\\x00\\xfb\\x19\\x00SZ000023\\x00\\xfb\\x19\\x00SZ000025\\x00\\xfb\\x19\\x00SZ000157\\x00\\xfb\\x19\\x00SZ000502\\x00\\xfb\\x19\\x00SZ000546\\x00\\xfb\\x19\\x00SZ000563\\x00\\xfb\\x19\\x00SZ000590\\x00\\xfb\\x19\\x00SZ000608\\x00\\xfb\\x19\\x00SZ000617\\x00\\xfb\\x19\\x00SZ000705\\x00\\xfb\\x19\\x00SZ000776\\x00\\xfb\\x19\\x00SZ000852\\x00\\xfb\\x19\\x00SZ000869\\x00\\xfb\\x19\\x00SZ000877\\x00\\xfb\\x19\\x00SZ000915\\x00\\xfb\\x19\\x00SZ000966\\x00\\xfb\\x19\\x00SZ000989\\x00\\xfb\\x19\\x00SZ002014\\x00\\xfb\\x19\\x00SZ002081\\x00\\xfb\\x19\\x00SZ002112\\x00\\xfb\\x19\\x00SZ002133\\x00\\xfb\\x19\\x00SZ002174\\x00\\xfb\\x19\\x00SZ002259\\x00\\xfb\\x19\\x00SZ002324\\x00\\xfb\\x19\\x00SZ002391\\x00\\xfb\\x19\\x00SZ002401\\x00\\xfb\\x19\\x00SZ002455\\x00\\xfb\\x19\\x00SZ002465\\x00\\xfb\\x19\\x00SZ002477\\x00\\xfb\\x19\\x00SZ002511\\x00\\xfb\\x19\\x00SZ002582\\x00\\xfb\\x19\\x00SZ002589\\x00\\xfb\\x19\\x00SZ300040\\x00\\xfb\\x19\\x00SZ300123\\x00\\xfb\\x19\\x00SZ300130\\x00\\xfb\\x19\\x00'"
      ]
     },
     "execution_count": 124,
     "metadata": {},
     "output_type": "execute_result"
    }
   ],
   "source": [
    "data2"
   ]
  },
  {
   "cell_type": "code",
   "execution_count": 131,
   "metadata": {
    "execution": {
     "iopub.execute_input": "2023-10-24T13:34:56.560905Z",
     "iopub.status.busy": "2023-10-24T13:34:56.559908Z",
     "iopub.status.idle": "2023-10-24T13:34:56.575866Z",
     "shell.execute_reply": "2023-10-24T13:34:56.575866Z",
     "shell.execute_reply.started": "2023-10-24T13:34:56.560905Z"
    },
    "tags": []
   },
   "outputs": [
    {
     "data": {
      "text/plain": [
       "12"
      ]
     },
     "execution_count": 131,
     "metadata": {},
     "output_type": "execute_result"
    }
   ],
   "source": [
    "len(b'\\xfb\\xff\\xff\\xff\\x01\\x01\\x00\\x00\\x02\\x01\\x00\\x00\\x05')\n",
    "len(b'ZXCZZ\\x008\\x00\\x00\\x00')\n",
    "len(b'\\xfb\\xff\\xff\\xff\\x01\\x01\\x00\\x00\\x02\\x01\\x00\\x00\\x07')\n",
    "len(b'ZXB3B60\\x00\\x07\\x00\\x00\\x00')"
   ]
  },
  {
   "cell_type": "code",
   "execution_count": 129,
   "metadata": {
    "execution": {
     "iopub.execute_input": "2023-10-24T13:34:12.759996Z",
     "iopub.status.busy": "2023-10-24T13:34:12.759996Z",
     "iopub.status.idle": "2023-10-24T13:34:12.774957Z",
     "shell.execute_reply": "2023-10-24T13:34:12.774957Z",
     "shell.execute_reply.started": "2023-10-24T13:34:12.759996Z"
    }
   },
   "outputs": [
    {
     "data": {
      "text/plain": [
       "b'\\xfb\\xff\\xff\\xff\\x01\\x01\\x00\\x00\\x02\\x01\\x00\\x00\\x07ZXB3B60\\x00\\x07\\x00\\x00\\x00SH600210\\x00\\xea\\x12\\x00SH600220\\x00\\xea\\x12\\x00SH600497\\x00\\xea\\x12\\x00SH601010\\x00\\xea\\x12\\x00SH601600\\x00\\xea\\x12\\x00SH601919\\x00\\xea\\x12\\x00SZ000878\\x00\\xea\\x12\\x00'"
      ]
     },
     "execution_count": 129,
     "metadata": {},
     "output_type": "execute_result"
    }
   ],
   "source": [
    "data4"
   ]
  },
  {
   "cell_type": "code",
   "execution_count": 13,
   "metadata": {
    "execution": {
     "iopub.execute_input": "2023-10-24T10:43:58.547358Z",
     "iopub.status.busy": "2023-10-24T10:43:58.547358Z",
     "iopub.status.idle": "2023-10-24T10:43:58.556370Z",
     "shell.execute_reply": "2023-10-24T10:43:58.556370Z",
     "shell.execute_reply.started": "2023-10-24T10:43:58.547358Z"
    },
    "tags": []
   },
   "outputs": [
    {
     "data": {
      "text/plain": [
       "b'\\xfb\\xff\\xff\\xff\\x01\\x01\\x00\\x00\\x02\\x01\\x00\\x00\\x03ZXG\\x00$\\x00\\x00\\x00SH600008\\x00\\xf8\\x19\\x00SH600006\\x00\\xf8\\x19\\x00SZ002385\\x00\\xf8\\x19\\x00SZ000968\\x00\\xf8\\x19\\x00SH601898\\x00\\xf8\\x19\\x00SZ000559\\x00\\xf8\\x19\\x00SH600958\\x00\\xf8\\x19\\x00SH601628\\x00\\xf8\\x19\\x00SH601318\\x00\\xf8\\x19\\x00SH601600\\x00\\xf8\\x19\\x00SH601919\\x00\\xf8\\x19\\x00SH600028\\x00\\xf8\\x19\\x00SH600111\\x00\\xf8\\x19\\x00SH601766\\x00\\xf8\\x19\\x00SZ002118\\x00\\xf8\\x19\\x00SH600962\\x00\\xf8\\x19\\x00SH600767\\x00\\xf8\\x19\\x00SH600448\\x00\\xf8\\x19\\x00SH600516\\x00\\xf8\\x19\\x00SH603599\\x00\\xf8\\x19\\x00SH603789\\x00\\xf8\\x19\\x00SH600959\\x00\\xf8\\x19\\x00SH601599\\x00\\xf8\\x19\\x00SH600986\\x00\\xf8\\x19\\x00SZ002243\\x00\\xf8\\x19\\x00SZ000505\\x00\\xf8\\x19\\x00SH600766\\x00\\xf8\\x19\\x00SH600603\\x00\\xf8\\x19\\x00SH600306\\x00\\xf8\\x19\\x00SZ300004\\x00\\xf8\\x19\\x00SH600250\\x00\\xf8\\x19\\x00SH600083\\x00\\xf8\\x19\\x00SZ000525\\x00\\xf8\\x19\\x00SH601608\\x00\\xf8\\x19\\x00SH601616\\x00\\xf8\\x19\\x00SZ300045\\x00\\xf8\\x19\\x00'"
      ]
     },
     "execution_count": 13,
     "metadata": {},
     "output_type": "execute_result"
    }
   ],
   "source": [
    "data"
   ]
  },
  {
   "cell_type": "code",
   "execution_count": 46,
   "metadata": {
    "execution": {
     "iopub.execute_input": "2023-10-24T11:03:12.645521Z",
     "iopub.status.busy": "2023-10-24T11:03:12.644524Z",
     "iopub.status.idle": "2023-10-24T11:03:12.664511Z",
     "shell.execute_reply": "2023-10-24T11:03:12.664511Z",
     "shell.execute_reply.started": "2023-10-24T11:03:12.644524Z"
    },
    "tags": []
   },
   "outputs": [
    {
     "data": {
      "text/plain": [
       "b'\\xfb\\xff\\xff\\xff\\x01\\x01\\x00\\x00\\x02\\x01\\x00\\x00\\x05ZXCZZ\\x00=\\x00\\x00\\x00SH600011\\x00\\xea\\x12\\x00SH600039\\x00\\xea\\x12\\x00SH600056\\x00\\xea\\x12\\x00SH600094\\x00\\xea\\x12\\x00SH600108\\x00\\xea\\x12\\x00SH600112\\x00\\xea\\x12\\x00SH600166\\x00\\xea\\x12\\x00SH600210\\x00\\xea\\x12\\x00SH600248\\x00\\xea\\x12\\x00SH600259\\x00\\xea\\x12\\x00SH600323\\x00\\xea\\x12\\x00SH600355\\x00\\xea\\x12\\x00SH600371\\x00\\xea\\x12\\x00SH600458\\x00\\xea\\x12\\x00SH600511\\x00\\xea\\x12\\x00SH600521\\x00\\xea\\x12\\x00SH600638\\x00\\xea\\x12\\x00SH600652\\x00\\xea\\x12\\x00SH600656\\x00\\xea\\x12\\x00SH600681\\x00\\xea\\x12\\x00SH600800\\x00\\xea\\x12\\x00SH600859\\x00\\xea\\x12\\x00SH600961\\x00\\xea\\x12\\x00SH601222\\x00\\xea\\x12\\x00SH601377\\x00\\xea\\x12\\x00SH601933\\x00\\xea\\x12\\x00SZ000023\\x00\\xea\\x12\\x00SZ000025\\x00\\xea\\x12\\x00SZ000157\\x00\\xea\\x12\\x00SZ000502\\x00\\xea\\x12\\x00SZ000546\\x00\\xea\\x12\\x00SZ000563\\x00\\xea\\x12\\x00SZ000590\\x00\\xea\\x12\\x00SZ000608\\x00\\xea\\x12\\x00SZ000617\\x00\\xea\\x12\\x00SZ000705\\x00\\xea\\x12\\x00SZ000776\\x00\\xea\\x12\\x00SZ000852\\x00\\xea\\x12\\x00SZ000869\\x00\\xea\\x12\\x00SZ000877\\x00\\xea\\x12\\x00SZ000915\\x00\\xea\\x12\\x00SZ000966\\x00\\xea\\x12\\x00SZ000989\\x00\\xea\\x12\\x00SZ002014\\x00\\xea\\x12\\x00SZ002081\\x00\\xea\\x12\\x00SZ002112\\x00\\xea\\x12\\x00SZ002133\\x00\\xea\\x12\\x00SZ002174\\x00\\xea\\x12\\x00SZ002259\\x00\\xea\\x12\\x00SZ002324\\x00\\xea\\x12\\x00SZ002391\\x00\\xea\\x12\\x00SZ002401\\x00\\xea\\x12\\x00SZ002455\\x00\\xea\\x12\\x00SZ002465\\x00\\xea\\x12\\x00SZ002477\\x00\\xea\\x12\\x00SZ002511\\x00\\xea\\x12\\x00SZ002582\\x00\\xea\\x12\\x00SZ002589\\x00\\xea\\x12\\x00SZ300040\\x00\\xea\\x12\\x00SZ300123\\x00\\xea\\x12\\x00SZ300130\\x00\\xea\\x12\\x00'"
      ]
     },
     "execution_count": 46,
     "metadata": {},
     "output_type": "execute_result"
    }
   ],
   "source": [
    "data2"
   ]
  },
  {
   "cell_type": "code",
   "execution_count": 104,
   "metadata": {
    "execution": {
     "iopub.execute_input": "2023-10-24T11:53:08.372931Z",
     "iopub.status.busy": "2023-10-24T11:53:08.371934Z",
     "iopub.status.idle": "2023-10-24T11:53:08.380909Z",
     "shell.execute_reply": "2023-10-24T11:53:08.380909Z",
     "shell.execute_reply.started": "2023-10-24T11:53:08.371934Z"
    },
    "tags": []
   },
   "outputs": [
    {
     "data": {
      "text/plain": [
       "(1,)"
      ]
     },
     "execution_count": 104,
     "metadata": {},
     "output_type": "execute_result"
    }
   ],
   "source": [
    "# x05ZXCZZ\n",
    "struct.unpack('>H3B',b'\\x008\\x00\\x00\\x00')\n",
    "# 56\n",
    "# \\x00\\xfb\\x19\\x00\n",
    "\n",
    "\n",
    "struct.unpack('>H3B',b'\\x00$\\x00\\x00\\x00')\n",
    "\n",
    "# 36\n",
    "# \\x00\\xf8\\x19\\x00\n",
    "\n",
    "# struct.unpack('>H3B',b'\\x00=\\x00\\x00\\x00')   \n",
    "#61\n",
    "# \\x00\\xea\\x12\\x00\n",
    "\n",
    "\n",
    "# 1\n",
    "struct.unpack('xBxxx',b'\\x00\\x01\\x00\\x00\\x00')\n",
    "\n",
    "# \\x00\\xfb\\x19\\x00\n",
    "\n",
    "# 2->9 x00\\xf8\\x19\\x00\n",
    "\n",
    "# <10\n",
    "# struct.unpack('1B3B',b'\\x00\\x02\\x00\\x00')\n",
    "\n",
    "\n",
    "# struct.unpack('xBBx',b'\\x00\\xea\\x12\\x00')\n",
    "\n",
    "\n",
    "# struct.unpack('>H3B',b'\\x00=\\x00\\x00\\x00')\n",
    "\n"
   ]
  },
  {
   "cell_type": "code",
   "execution_count": 65,
   "metadata": {
    "execution": {
     "iopub.execute_input": "2023-10-24T11:19:07.602035Z",
     "iopub.status.busy": "2023-10-24T11:19:07.602035Z",
     "iopub.status.idle": "2023-10-24T11:19:07.615997Z",
     "shell.execute_reply": "2023-10-24T11:19:07.615029Z",
     "shell.execute_reply.started": "2023-10-24T11:19:07.602035Z"
    },
    "tags": []
   },
   "outputs": [
    {
     "ename": "error",
     "evalue": "bad char in struct format",
     "output_type": "error",
     "traceback": [
      "\u001b[1;31m---------------------------------------------------------------------------\u001b[0m",
      "\u001b[1;31merror\u001b[0m                                     Traceback (most recent call last)",
      "\u001b[1;32mG:\\Temp\\ipykernel_15160\\732555981.py\u001b[0m in \u001b[0;36m<module>\u001b[1;34m\u001b[0m\n\u001b[1;32m----> 1\u001b[1;33m \u001b[0mstruct\u001b[0m\u001b[1;33m.\u001b[0m\u001b[0munpack\u001b[0m\u001b[1;33m(\u001b[0m\u001b[1;34m'1B<H'\u001b[0m\u001b[1;33m,\u001b[0m\u001b[1;34mb'\\x00\\xd1'\u001b[0m\u001b[1;33m)\u001b[0m\u001b[1;33m\u001b[0m\u001b[1;33m\u001b[0m\u001b[0m\n\u001b[0m",
      "\u001b[1;31merror\u001b[0m: bad char in struct format"
     ]
    }
   ],
   "source": [
    "struct.unpack('1B<H',b'\\x00\\xd1')"
   ]
  },
  {
   "cell_type": "code",
   "execution_count": 21,
   "metadata": {
    "execution": {
     "iopub.execute_input": "2023-10-24T10:49:38.553673Z",
     "iopub.status.busy": "2023-10-24T10:49:38.553673Z",
     "iopub.status.idle": "2023-10-24T10:49:38.561691Z",
     "shell.execute_reply": "2023-10-24T10:49:38.561691Z",
     "shell.execute_reply.started": "2023-10-24T10:49:38.553673Z"
    },
    "tags": []
   },
   "outputs": [],
   "source": [
    "\n",
    "\n",
    "# with open(zxg3, 'ab') as f:\n",
    "#     # data = file.read(len(data))\n",
    "#     # packed_data = file.read()\n",
    "#     # number = struct.unpack('I', packed_data)[0]\n",
    "#     # print(data.decode())\n",
    "#     # print(number)\n",
    "#     f.write('SZ300045'.encode())\n",
    "#     f.write(b'\\x00\\xfb\\x19\\x00')\n",
    "# f.close()"
   ]
  },
  {
   "cell_type": "markdown",
   "metadata": {},
   "source": [
    "# 同花顺自选"
   ]
  },
  {
   "cell_type": "code",
   "execution_count": 202,
   "metadata": {
    "execution": {
     "iopub.execute_input": "2023-10-24T14:15:56.545342Z",
     "iopub.status.busy": "2023-10-24T14:15:56.545342Z",
     "iopub.status.idle": "2023-10-24T14:15:56.554319Z",
     "shell.execute_reply": "2023-10-24T14:15:56.553321Z",
     "shell.execute_reply.started": "2023-10-24T14:15:56.545342Z"
    },
    "tags": []
   },
   "outputs": [],
   "source": [
    "import datetime\n",
    "import json\n",
    "\n",
    "import numpy as np\n",
    "\n",
    "ths_path = 'D:\\\\MacTools\\\\WinTools\\\\同花顺\\\\mx_149958484\\\\SelfStockInfo.json'\n",
    "ths_path_back = 'D:\\\\MacTools\\\\WinTools\\\\同花顺\\\\mx_149958484\\\\SelfStockInfo_back.json'\n",
    "\n",
    "\n",
    "def load_dict(filename):\n",
    "    '''load dict from json file'''\n",
    "    with open(filename, \"r\") as json_file:\n",
    "        dic = json.load(json_file)\n",
    "    return dic\n",
    "\n",
    "\n",
    "class JsonEncoder(json.JSONEncoder):\n",
    "    def default(self, obj):\n",
    "        if isinstance(obj, np.integer):\n",
    "            return int(obj)\n",
    "        elif isinstance(obj, np.floating):\n",
    "            return float(obj)\n",
    "        elif isinstance(obj, np.ndarray):\n",
    "            return obj.tolist()\n",
    "        elif isinstance(obj, datetime):\n",
    "            return obj.__str__()\n",
    "        else:\n",
    "            return super(MyEncoder, self).default(obj)\n",
    "\n",
    "\n",
    "def save_dict(filename, dic):\n",
    "    '''save dict into json file'''\n",
    "    with open(filename, 'w') as json_file:\n",
    "        json.dump(dic, json_file, ensure_ascii=False, cls=JsonEncoder)"
   ]
  },
  {
   "cell_type": "code",
   "execution_count": 203,
   "metadata": {
    "execution": {
     "iopub.execute_input": "2023-10-24T14:15:57.718734Z",
     "iopub.status.busy": "2023-10-24T14:15:57.718734Z",
     "iopub.status.idle": "2023-10-24T14:15:57.727748Z",
     "shell.execute_reply": "2023-10-24T14:15:57.727748Z",
     "shell.execute_reply.started": "2023-10-24T14:15:57.718734Z"
    },
    "tags": []
   },
   "outputs": [],
   "source": [
    "del(ths)"
   ]
  },
  {
   "cell_type": "code",
   "execution_count": 204,
   "metadata": {
    "execution": {
     "iopub.execute_input": "2023-10-24T14:15:58.596858Z",
     "iopub.status.busy": "2023-10-24T14:15:58.596858Z",
     "iopub.status.idle": "2023-10-24T14:15:58.602838Z",
     "shell.execute_reply": "2023-10-24T14:15:58.602838Z",
     "shell.execute_reply.started": "2023-10-24T14:15:58.596858Z"
    },
    "tags": []
   },
   "outputs": [],
   "source": [
    "ths = load_dict(ths_path)\n",
    "# save_dict(ths_path_back,ths)"
   ]
  },
  {
   "cell_type": "code",
   "execution_count": 205,
   "metadata": {
    "execution": {
     "iopub.execute_input": "2023-10-24T14:15:59.251296Z",
     "iopub.status.busy": "2023-10-24T14:15:59.251296Z",
     "iopub.status.idle": "2023-10-24T14:15:59.257280Z",
     "shell.execute_reply": "2023-10-24T14:15:59.256282Z",
     "shell.execute_reply.started": "2023-10-24T14:15:59.251296Z"
    },
    "tags": []
   },
   "outputs": [
    {
     "name": "stdout",
     "output_type": "stream",
     "text": [
      "300275\n"
     ]
    }
   ],
   "source": [
    "for x in ths:\n",
    "    print(x['C'])\n",
    "    break"
   ]
  },
  {
   "cell_type": "code",
   "execution_count": 206,
   "metadata": {
    "execution": {
     "iopub.execute_input": "2023-10-24T14:16:20.946465Z",
     "iopub.status.busy": "2023-10-24T14:16:20.946465Z",
     "iopub.status.idle": "2023-10-24T14:16:20.964455Z",
     "shell.execute_reply": "2023-10-24T14:16:20.964455Z",
     "shell.execute_reply.started": "2023-10-24T14:16:20.946465Z"
    },
    "tags": []
   },
   "outputs": [
    {
     "data": {
      "text/plain": [
       "[{'C': '000631', 'M': '33', 'P': '3.590000', 'T': '20231024'},\n",
       " {'C': '300275', 'M': '33', 'P': '13.660000', 'T': '20231024'},\n",
       " {'C': '300456', 'M': '33', 'P': '', 'T': ''}]"
      ]
     },
     "execution_count": 206,
     "metadata": {},
     "output_type": "execute_result"
    }
   ],
   "source": [
    "ths.insert(0,({\"C\":\"000631\",\"M\":\"33\",\"P\":\"3.590000\",\"T\":\"20231024\"}))\n",
    "ths[:3]"
   ]
  },
  {
   "cell_type": "code",
   "execution_count": 207,
   "metadata": {
    "execution": {
     "iopub.execute_input": "2023-10-24T14:16:25.519237Z",
     "iopub.status.busy": "2023-10-24T14:16:25.518239Z",
     "iopub.status.idle": "2023-10-24T14:16:25.535227Z",
     "shell.execute_reply": "2023-10-24T14:16:25.535227Z",
     "shell.execute_reply.started": "2023-10-24T14:16:25.519237Z"
    },
    "tags": []
   },
   "outputs": [],
   "source": [
    "# save_dict(ths_path,ths)"
   ]
  },
  {
   "cell_type": "markdown",
   "metadata": {},
   "source": [
    "# 通达信 pytdx"
   ]
  },
  {
   "cell_type": "code",
   "execution_count": 2,
   "metadata": {
    "execution": {
     "iopub.execute_input": "2023-12-21T14:30:16.776129Z",
     "iopub.status.busy": "2023-12-21T14:30:16.775128Z",
     "iopub.status.idle": "2023-12-21T14:30:17.003179Z",
     "shell.execute_reply": "2023-12-21T14:30:17.003179Z",
     "shell.execute_reply.started": "2023-12-21T14:30:16.776129Z"
    },
    "tags": []
   },
   "outputs": [],
   "source": [
    "from pytdx.hq import TdxHq_API\n",
    "\n",
    "api = TdxHq_API()\n",
    "# if api.connect('119.147.212.81', 7709):\n",
    "# api.disconnect()\n",
    "with api.connect('119.147.212.81', 7709):\n",
    "    data = api.to_df(api.get_security_quotes(\n",
    "        [(0, '300750'), (1, '600519'), (2, '835368')]))"
   ]
  },
  {
   "cell_type": "code",
   "execution_count": 3,
   "metadata": {
    "execution": {
     "iopub.execute_input": "2023-12-21T14:30:17.844474Z",
     "iopub.status.busy": "2023-12-21T14:30:17.844474Z",
     "iopub.status.idle": "2023-12-21T14:30:17.875949Z",
     "shell.execute_reply": "2023-12-21T14:30:17.875949Z",
     "shell.execute_reply.started": "2023-12-21T14:30:17.844474Z"
    },
    "tags": []
   },
   "outputs": [
    {
     "data": {
      "text/html": [
       "<div>\n",
       "<style scoped>\n",
       "    .dataframe tbody tr th:only-of-type {\n",
       "        vertical-align: middle;\n",
       "    }\n",
       "\n",
       "    .dataframe tbody tr th {\n",
       "        vertical-align: top;\n",
       "    }\n",
       "\n",
       "    .dataframe thead th {\n",
       "        text-align: right;\n",
       "    }\n",
       "</style>\n",
       "<table border=\"1\" class=\"dataframe\">\n",
       "  <thead>\n",
       "    <tr style=\"text-align: right;\">\n",
       "      <th></th>\n",
       "      <th>market</th>\n",
       "      <th>code</th>\n",
       "      <th>active1</th>\n",
       "      <th>price</th>\n",
       "      <th>last_close</th>\n",
       "      <th>open</th>\n",
       "      <th>high</th>\n",
       "      <th>low</th>\n",
       "      <th>servertime</th>\n",
       "      <th>reversed_bytes0</th>\n",
       "      <th>...</th>\n",
       "      <th>ask5</th>\n",
       "      <th>bid_vol5</th>\n",
       "      <th>ask_vol5</th>\n",
       "      <th>reversed_bytes4</th>\n",
       "      <th>reversed_bytes5</th>\n",
       "      <th>reversed_bytes6</th>\n",
       "      <th>reversed_bytes7</th>\n",
       "      <th>reversed_bytes8</th>\n",
       "      <th>reversed_bytes9</th>\n",
       "      <th>active2</th>\n",
       "    </tr>\n",
       "  </thead>\n",
       "  <tbody>\n",
       "    <tr>\n",
       "      <th>0</th>\n",
       "      <td>0</td>\n",
       "      <td>300750</td>\n",
       "      <td>4755</td>\n",
       "      <td>154.39</td>\n",
       "      <td>148.45</td>\n",
       "      <td>147.57</td>\n",
       "      <td>155.33</td>\n",
       "      <td>147.57</td>\n",
       "      <td>15:28:27.372</td>\n",
       "      <td>15284562</td>\n",
       "      <td>...</td>\n",
       "      <td>154.44</td>\n",
       "      <td>119</td>\n",
       "      <td>53</td>\n",
       "      <td>(86,)</td>\n",
       "      <td>0</td>\n",
       "      <td>0</td>\n",
       "      <td>0</td>\n",
       "      <td>0</td>\n",
       "      <td>-0.03</td>\n",
       "      <td>4755</td>\n",
       "    </tr>\n",
       "    <tr>\n",
       "      <th>1</th>\n",
       "      <td>1</td>\n",
       "      <td>600519</td>\n",
       "      <td>4023</td>\n",
       "      <td>1670.00</td>\n",
       "      <td>1649.79</td>\n",
       "      <td>1640.01</td>\n",
       "      <td>1672.32</td>\n",
       "      <td>1640.01</td>\n",
       "      <td>14:49:59.884</td>\n",
       "      <td>14833301</td>\n",
       "      <td>...</td>\n",
       "      <td>1670.60</td>\n",
       "      <td>1</td>\n",
       "      <td>2</td>\n",
       "      <td>(4374,)</td>\n",
       "      <td>0</td>\n",
       "      <td>0</td>\n",
       "      <td>0</td>\n",
       "      <td>0</td>\n",
       "      <td>-0.01</td>\n",
       "      <td>4023</td>\n",
       "    </tr>\n",
       "    <tr>\n",
       "      <th>2</th>\n",
       "      <td>2</td>\n",
       "      <td>835368</td>\n",
       "      <td>2179</td>\n",
       "      <td>39.85</td>\n",
       "      <td>37.73</td>\n",
       "      <td>37.69</td>\n",
       "      <td>41.84</td>\n",
       "      <td>37.37</td>\n",
       "      <td>14:59:46.378</td>\n",
       "      <td>14996216</td>\n",
       "      <td>...</td>\n",
       "      <td>39.90</td>\n",
       "      <td>125</td>\n",
       "      <td>1</td>\n",
       "      <td>(386,)</td>\n",
       "      <td>0</td>\n",
       "      <td>0</td>\n",
       "      <td>0</td>\n",
       "      <td>0</td>\n",
       "      <td>-0.12</td>\n",
       "      <td>2179</td>\n",
       "    </tr>\n",
       "  </tbody>\n",
       "</table>\n",
       "<p>3 rows × 45 columns</p>\n",
       "</div>"
      ],
      "text/plain": [
       "   market    code  active1    price  last_close     open     high      low  \\\n",
       "0       0  300750     4755   154.39      148.45   147.57   155.33   147.57   \n",
       "1       1  600519     4023  1670.00     1649.79  1640.01  1672.32  1640.01   \n",
       "2       2  835368     2179    39.85       37.73    37.69    41.84    37.37   \n",
       "\n",
       "     servertime  reversed_bytes0  ...     ask5  bid_vol5  ask_vol5  \\\n",
       "0  15:28:27.372         15284562  ...   154.44       119        53   \n",
       "1  14:49:59.884         14833301  ...  1670.60         1         2   \n",
       "2  14:59:46.378         14996216  ...    39.90       125         1   \n",
       "\n",
       "   reversed_bytes4  reversed_bytes5  reversed_bytes6  reversed_bytes7  \\\n",
       "0            (86,)                0                0                0   \n",
       "1          (4374,)                0                0                0   \n",
       "2           (386,)                0                0                0   \n",
       "\n",
       "   reversed_bytes8  reversed_bytes9  active2  \n",
       "0                0            -0.03     4755  \n",
       "1                0            -0.01     4023  \n",
       "2                0            -0.12     2179  \n",
       "\n",
       "[3 rows x 45 columns]"
      ]
     },
     "execution_count": 3,
     "metadata": {},
     "output_type": "execute_result"
    }
   ],
   "source": [
    "data"
   ]
  },
  {
   "cell_type": "markdown",
   "metadata": {
    "execution": {
     "iopub.execute_input": "2023-10-13T02:29:47.301102Z",
     "iopub.status.busy": "2023-10-13T02:29:47.301102Z",
     "iopub.status.idle": "2023-10-13T02:29:47.311076Z",
     "shell.execute_reply": "2023-10-13T02:29:47.311076Z",
     "shell.execute_reply.started": "2023-10-13T02:29:47.301102Z"
    }
   },
   "source": [
    "# 通达信本地"
   ]
  },
  {
   "cell_type": "code",
   "execution_count": 6,
   "metadata": {
    "execution": {
     "iopub.execute_input": "2023-12-21T14:32:30.140452Z",
     "iopub.status.busy": "2023-12-21T14:32:30.140452Z",
     "iopub.status.idle": "2023-12-21T14:32:30.329582Z",
     "shell.execute_reply": "2023-12-21T14:32:30.329582Z",
     "shell.execute_reply.started": "2023-12-21T14:32:30.140452Z"
    },
    "tags": []
   },
   "outputs": [
    {
     "name": "stdout",
     "output_type": "stream",
     "text": [
      "     name    code    block block5  num  \\\n",
      "0      煤炭  880301    T0101  T0101   33   \n",
      "1    煤炭开采  880302  T010101  T0101   25   \n",
      "2    焦炭加工  880303  T010102  T0101    8   \n",
      "3      电力  880305    T0102  T0102   72   \n",
      "4    水力发电  880306  T010201  T0102   18   \n",
      "..    ...     ...      ...    ...  ...   \n",
      "127   半导体  880491    T1203  T1203  171   \n",
      "128   元器件  880492    T1204  T1204  287   \n",
      "129  软件服务  880493    T1205  T1205  298   \n",
      "130   互联网  880494    T1206  T1206   87   \n",
      "131   综合类  880497    T1301  T1301   18   \n",
      "\n",
      "                                                stocks  \n",
      "0    ['000552', '000571', '000723', '000937', '0009...  \n",
      "1    ['000552', '000571', '000937', '000983', '6001...  \n",
      "2    ['000723', '600408', '600740', '600792', '6009...  \n",
      "3    ['000027', '000037', '000040', '000155', '0005...  \n",
      "4    ['000601', '000791', '000993', '002039', '6000...  \n",
      "..                                                 ...  \n",
      "127  ['001270', '001309', '002049', '002077', '0020...  \n",
      "128  ['000020', '000021', '000045', '000050', '0000...  \n",
      "129  ['000004', '000034', '000158', '000409', '0005...  \n",
      "130  ['000676', '000681', '000971', '002095', '0021...  \n",
      "131  ['000631', '000632', '000839', '000881', '0009...  \n",
      "\n",
      "[132 rows x 6 columns]\n"
     ]
    }
   ],
   "source": [
    "import os\n",
    "from struct import unpack\n",
    "\n",
    "import pandas as pd\n",
    "\n",
    "#PATH = 'C:/Program Files/tdx/T0002/hq_cache/'\n",
    "DATAPATH = 'D:/MacTools/WinTools/new_tdx/T0002/hq_cache/'\n",
    "# PATH = os.path.expanduser('~') + DATAPATH\n",
    "PATH = DATAPATH\n",
    "# print(PATH)\n",
    "\n",
    "\n",
    "def read_file_loc(file_name, splits):\n",
    "    with open(file_name, 'r') as f:\n",
    "        buf_lis = f.read().split('\\n')\n",
    "    return [x.split(splits) for x in buf_lis[:-1]]\n",
    "\n",
    "\n",
    "def get_block_zs_tdx_loc(block='hy'):\n",
    "    \"\"\" ��� �Ӧ��ָ������ ��\n",
    "    hy=��ҵ��dy=����, gn=����, fg=���, sw=����\n",
    "    \"\"\"\n",
    "    buf_line = read_file_loc(PATH + 'tdxzs3.cfg', '|')\n",
    "\n",
    "    mapping = {'hy': '2', 'dq': '3', 'gn': '4',\n",
    "               'fg': '5', 'yjhy': '12', 'zs': '6'}\n",
    "    df = pd.DataFrame(buf_line, columns=[\n",
    "                      'name', 'code', 'type', 't1', 't2', 'block'])\n",
    "    dg = df.groupby(by='type')\n",
    "    # df.to_excel('block.xlsx')\n",
    "    if (block == 'zs'):\n",
    "        return df\n",
    "    temp = dg.get_group(mapping[block]).reset_index(drop=True)\n",
    "    temp.drop(temp.columns[[2, 3, 4]], axis=1, inplace=True)\n",
    "    #temp.to_excel('tdxzs3.xlsx', index=False)\n",
    "    return temp\n",
    "\n",
    "\n",
    "def get_block_file(block='gn'):\n",
    "    \"\"\" ������ļ�  block_gn.dat,_fg.dat,_zs.dat  \"\"\"\n",
    "\n",
    "    file_name = f'block_{block}.dat'\n",
    "    #print(PATH + file_name)\n",
    "    with open(PATH + file_name, 'rb') as f:\n",
    "        buff = f.read()\n",
    "\n",
    "    head = unpack('<384sh', buff[:386])\n",
    "    blk = buff[386:]\n",
    "    blocks = [blk[i * 2813:(i + 1) * 2813] for i in range(head[1])]\n",
    "    bk_list = []\n",
    "    for bk in blocks:\n",
    "        name = bk[:8].decode('gbk').strip('\\x00')\n",
    "        num, t = unpack('<2h', bk[9:13])\n",
    "        stks = bk[13:(12 + 7 * num)].decode('gbk').split('\\x00')\n",
    "        bk_list = bk_list + [[name, block, num, stks]]\n",
    "    return pd.DataFrame(bk_list, columns=['name', 'tp', 'num', 'stocks'])\n",
    "\n",
    "# 文件头：384字节\n",
    "# 板块个数：2字节\n",
    "# 各板块数据存储结构(紧跟板块数目依次存放)，\n",
    "# 每个板块占据的存储空间为2813个字节，可最多包含400只个股\n",
    "# 板块名称：9字节\n",
    "# 该板块包含的个股个数：2字节\n",
    "# 板块类别：2字节\n",
    "# 该板块下个股代码列表(连续存放，直到代码为空)\n",
    "# 个股代码：7字节\n",
    "\n",
    "\n",
    "def gn_block(blk='gn'):\n",
    "    del_row = {\n",
    "        'gn': ['��GDR'],\n",
    "        'fg': ['����ͨSH', '���ͨSZ', '������ȯ'],\n",
    "        'zs': [''], }\n",
    "    mapping = {'gn': {\n",
    "        '�����뵼': '�������뵼��',\n",
    "        'Ԫ����': 'Ԫ�������',\n",
    "        '������': '����������',\n",
    "        '���ž�': '�����ݸ˾�',\n",
    "        '�¹�ҩ': '�¹�ҩ����',\n",
    "        '�л���': '�л������',\n",
    "        '��� ���': '����Ⱦ����',\n",
    "        '�������': '�������֤',\n",
    "        'װ�佨��': 'װ��ʽ����'\n",
    "    }, 'fg': {\n",
    "        '���Ͻ�': '���Ͻ�ֹ�',\n",
    "        '�½��ɷ�': '�½�ָ���',\n",
    "    },\n",
    "        'zs': {''\n",
    "\n",
    "               }, }\n",
    "\n",
    "    bf = get_block_file(blk)\n",
    "    bf.drop(bf[bf['name'].isin(del_row[blk])].index, inplace=True)\n",
    "    bf['name'] = bf['name'].replace(mapping[blk], regex=True)\n",
    "\n",
    "    t = get_block_zs_tdx_loc(blk)\n",
    "\n",
    "    if (blk == 'zs'):\n",
    "        return bf\n",
    "    del t['block']\n",
    "    # print(bf)\n",
    "    # print(t)\n",
    "    df = pd.merge(t, bf, on='name')\n",
    "    # print(df)\n",
    "    return df\n",
    "\n",
    "\n",
    "def hy_block(blk='hy'):\n",
    "    #begintime = datetime.datetime.now()\n",
    "    stocklist = get_stock_hyblock_tdx_loc()\n",
    "    # print(stocklist)\n",
    "    blocklist = get_block_zs_tdx_loc(blk)\n",
    "    #blocklist = blocklist.drop(blocklist[blocklist['name'].str.contains('TDX')].index)\n",
    "    blocklist['block5'] = blocklist['block'].str[0:5]\n",
    "    # print(blocklist)\n",
    "    blocklist['num'] = 0\n",
    "    blocklist['stocks'] = ''\n",
    "    for i in range(len(blocklist)):\n",
    "        blockkey = blocklist.iat[i, 2]\n",
    "        if (len(blockkey) == 5):\n",
    "            datai = stocklist[stocklist['block5'] == blockkey]  # 根据板块名称过滤\n",
    "        else:\n",
    "            datai = stocklist[stocklist['block'] == blockkey]  # 根据板块名称过滤\n",
    "        # 板块内进行排序填序号\n",
    "        datai = datai.sort_values(by=['code'], ascending=[True])\n",
    "        #datai.reset_index(drop=True, inplace=True)\n",
    "        codelist = datai['code'].tolist()\n",
    "\n",
    "        blocklist.iat[i, 4] = len(codelist)\n",
    "        blocklist.iat[i, 5] = str(codelist)\n",
    "    blocklist = blocklist.drop(blocklist[blocklist['num'] == 0].index)\n",
    "    #endtime = datetime.datetime.now()\n",
    "    #print('Cost ' + str((endtime - begintime).seconds) + ' seconds')\n",
    "    # print(blocklist)\n",
    "\n",
    "    return blocklist\n",
    "\n",
    "\n",
    "def get_stock_hyblock_tdx_loc():\n",
    "    buf_line = read_file_loc(PATH + 'tdxhy.cfg', '|')\n",
    "    buf_lis = []\n",
    "    mapping = {'0': 'sz.', '1': 'sh.', '2': 'bj.'}\n",
    "    for x in buf_line:\n",
    "        # x[1] = mapping[x[0]] + x[1]\n",
    "        buf_lis.append(x)\n",
    "\n",
    "    df = pd.DataFrame(buf_lis, columns=[\n",
    "                      'c0', 'code', 'block', 'c1', 'c2', 'c3'])\n",
    "    # print(df)\n",
    "    df.drop(df.columns[[0, 3, 4, 5]], axis=1, inplace=True)\n",
    "\n",
    "    df = df[(df['block'] != '')]\n",
    "    # df = df[df.code.str.startswith(('sz','sh'))]\n",
    "    df['block5'] = df['block'].str[0:5]\n",
    "\n",
    "    #df.to_excel('tdxhy.xlsx', index=False)\n",
    "    return df\n",
    "\n",
    "\n",
    "if __name__ == '__main__':\n",
    "    blocks = ['fg']  # , 'zs', 'fg']\n",
    "    for block in blocks:\n",
    "        blocklist = gn_block(block)  # 读取tdx目录下的板块信息 gn, fg, zs\n",
    "        # print(blocklist)\n",
    "        # blocklist.to_excel(block + 'block.xlsx', index=False)\n",
    "    hyblock = hy_block('hy')\n",
    "    # hyblock.to_excel('hyblock.xlsx', index=False)\n",
    "    print(hyblock)"
   ]
  },
  {
   "cell_type": "markdown",
   "metadata": {
    "tags": []
   },
   "source": [
    "# 东方财富自选"
   ]
  },
  {
   "cell_type": "code",
   "execution_count": 5,
   "metadata": {
    "execution": {
     "iopub.execute_input": "2023-11-15T14:26:12.345220Z",
     "iopub.status.busy": "2023-11-15T14:26:12.345220Z",
     "iopub.status.idle": "2023-11-15T14:26:12.363169Z",
     "shell.execute_reply": "2023-11-15T14:26:12.363169Z",
     "shell.execute_reply.started": "2023-11-15T14:26:12.345220Z"
    },
    "tags": []
   },
   "outputs": [],
   "source": [
    "import os\n",
    "\n",
    "from configobj import ConfigObj\n",
    "\n",
    "conf_ini = 'D:\\\\MacTools\\\\WinTools\\\\eastmoney\\\\swc8\\\\config\\\\User\\\\6327113578970854\\\\StockwayStock_bak2.ini'\n",
    "\n",
    "\n",
    "def code_to_symbol_dfcf(code):\n",
    "    \"\"\"\n",
    "        生成symbol代码标志\n",
    "    \"\"\"\n",
    "    # if code in ct.INDEX_LABELS:\n",
    "    #     return ct.INDEX_LIST_TDX[code]\n",
    "    # else:\n",
    "    if len(code) != 6:\n",
    "        return ''\n",
    "    else:\n",
    "        return '1.%s' % code if code[:1] in ['5', '6', '9'] else '0.%s' % code\n",
    "\n",
    "# if os.path.exists(conf_ini):\n",
    "#     # config = ConfigObj(conf_ini, encoding='UTF8')\n",
    "#     config = ConfigObj(conf_ini, encoding='UTF-16')\n",
    "#     print(config)"
   ]
  },
  {
   "cell_type": "code",
   "execution_count": 6,
   "metadata": {
    "execution": {
     "iopub.execute_input": "2023-11-15T14:26:13.398084Z",
     "iopub.status.busy": "2023-11-15T14:26:13.397086Z",
     "iopub.status.idle": "2023-11-15T14:26:13.413043Z",
     "shell.execute_reply": "2023-11-15T14:26:13.413043Z",
     "shell.execute_reply.started": "2023-11-15T14:26:13.398084Z"
    },
    "tags": []
   },
   "outputs": [
    {
     "data": {
      "text/plain": [
       "'1.601825'"
      ]
     },
     "execution_count": 6,
     "metadata": {},
     "output_type": "execute_result"
    }
   ],
   "source": [
    "code_to_symbol_dfcf('601825')"
   ]
  },
  {
   "cell_type": "code",
   "execution_count": 19,
   "metadata": {
    "execution": {
     "iopub.execute_input": "2023-11-15T14:31:32.438191Z",
     "iopub.status.busy": "2023-11-15T14:31:32.438191Z",
     "iopub.status.idle": "2023-11-15T14:31:32.455182Z",
     "shell.execute_reply": "2023-11-15T14:31:32.455182Z",
     "shell.execute_reply.started": "2023-11-15T14:31:32.438191Z"
    },
    "tags": []
   },
   "outputs": [],
   "source": [
    "import configparser\n",
    "\n",
    "\n",
    "def read_blk_dfcf(conf_ini=conf_ini,blk='inboll1'):\n",
    "    cf = configparser.ConfigParser()  # 实例化 ConfigParser 对象\n",
    "    # cf.read(\"test.ini\")\n",
    "    cf.read(conf_ini, encoding='UTF-16')\n",
    "    # cf.read(conf_ini,encoding='GB2312')\n",
    "    # return all section\n",
    "    secs = cf.sections()\n",
    "    print('sections:', secs, type(secs))\n",
    "\n",
    "    opts = cf.options(\"\\\\SelfSelect\")  # 获取db section下的 options，返回list\n",
    "    # print('options:', opts, type(opts))\n",
    "    # 获取db section 下的所有键值对，返回list 如下，每个list元素为键值对元组\n",
    "    kvs = cf.items(\"\\\\SelfSelect\")\n",
    "    print('db:', dict(kvs).keys())\n",
    "    truer = cf.get(\"\\\\SelfSelect\", blk)\n",
    "    print('len:%s truer:%s'%(len(truer.split(',')), truer))\n",
    "def write_blk_dfcf(codel,conf_ini=conf_ini,blk=''):\n",
    "    cf = configparser.ConfigParser()  # 实例化 ConfigParser 对象\n",
    "    # cf.read(\"test.ini\")\n",
    "    cf.read(conf_ini, encoding='UTF-16')\n",
    "    # cf.read(conf_ini,encoding='GB2312')\n",
    "    # return all section\n",
    "    secs = cf.sections()\n",
    "    print('sections:', secs, type(secs))\n",
    "\n",
    "    opts = cf.options(\"\\\\SelfSelect\")  # 获取db section下的 options，返回list\n",
    "    # print('options:', opts, type(opts))\n",
    "    # 获取db section 下的所有键值对，返回list 如下，每个list元素为键值对元组\n",
    "    kvs = cf.items(\"\\\\SelfSelect\")\n",
    "    print('db:', dict(kvs).keys())\n",
    "    # read by type\n",
    "    truer = cf.get(\"\\\\SelfSelect\", \"truer\")\n",
    "    print('truer:', truer)\n",
    "    truer_n = truer\n",
    "    idx = 0\n",
    "    if isinstance(codel, list):\n",
    "        for co in codel:\n",
    "            if code_to_symbol_dfcf(co) not in truer:\n",
    "                idx += 1\n",
    "                # print(idx)\n",
    "                truer_n = code_to_symbol_dfcf(co) + ',' + truer_n\n",
    "            else:\n",
    "                print(\"no change co\")\n",
    "                # truer_n = truer\n",
    "    else:\n",
    "        if code_to_symbol_dfcf(codel) not in truer:\n",
    "            idx += 1\n",
    "            truer_n = code_to_symbol_dfcf(codel) + ',' + truer\n",
    "        else:\n",
    "            print(\"no change co\")\n",
    "            # truer_n = truer\n",
    "\n",
    "    print(\"truer_n add:\", idx)\n",
    "    cf.set(\"\\\\SelfSelect\", \"truer\", truer_n)\n",
    "    # print('instock:',cf.get(\"\\\\SelfSelect\", \"instock\"))\n",
    "    # cf.write(open(conf_ini,\"w\",encoding='UTF-16'))"
   ]
  },
  {
   "cell_type": "code",
   "execution_count": 20,
   "metadata": {
    "execution": {
     "iopub.execute_input": "2023-11-15T14:31:33.638046Z",
     "iopub.status.busy": "2023-11-15T14:31:33.638046Z",
     "iopub.status.idle": "2023-11-15T14:31:33.651011Z",
     "shell.execute_reply": "2023-11-15T14:31:33.651011Z",
     "shell.execute_reply.started": "2023-11-15T14:31:33.638046Z"
    },
    "tags": []
   },
   "outputs": [
    {
     "name": "stdout",
     "output_type": "stream",
     "text": [
      "sections: ['\\\\SelfSelect', '\\\\SelfSelect_Date_Price', '\\\\SysGroup'] <class 'list'>\n",
      "db: dict_keys(['count', '自选股名称0', '自选股', '自选股名称1', 'truer', '自选股名称2', 'instock', '自选股名称3', '小散逆袭', '自选股名称4', 'inboll1', '自选股名称5', '股神', '自选股名称6', '蓝筹', '自选股名称7', '黄金资源', '自选股名称8', '观察', '自选股名称9', '2021蓝筹', '自选股名称10', '汽车'])\n",
      "len:22 truer:0.300184,0.002235,1.603901,0.002424,0.002322,0.300228,0.002251,0.002456,0.002512,1.600740,1.603222,100.HSI,1.603286,0.002175,1.600190,1.600000,0.300129,0.300517,1.600723,0.000797,0.000620,\n"
     ]
    }
   ],
   "source": [
    "read_blk_dfcf()"
   ]
  },
  {
   "cell_type": "code",
   "execution_count": 46,
   "metadata": {
    "execution": {
     "iopub.execute_input": "2023-10-13T08:44:27.005508Z",
     "iopub.status.busy": "2023-10-13T08:44:27.005508Z",
     "iopub.status.idle": "2023-10-13T08:44:27.015450Z",
     "shell.execute_reply": "2023-10-13T08:44:27.014481Z",
     "shell.execute_reply.started": "2023-10-13T08:44:27.005508Z"
    },
    "tags": []
   },
   "outputs": [
    {
     "name": "stdout",
     "output_type": "stream",
     "text": [
      "sections: ['\\\\SelfSelect', '\\\\SelfSelect_Date_Price', '\\\\SysGroup'] <class 'list'>\n",
      "db: dict_keys(['count', '自选股名称0', '自选股', '自选股名称1', 'truer', '自选股名称2', 'instock', '自选股名称3', '小散逆袭', '自选股名称4', 'inboll1', '自选股名称5', '股神', '自选股名称6', '蓝筹', '自选股名称7', '黄金资源', '自选股名称8', '观察', '自选股名称9', '2021蓝筹', '自选股名称10', '汽车'])\n",
      "truer: 1.605116,0.002235,0.000727,0.002885,0.300098,1.600114,0.300798,1.601702,\n",
      "truer_n add: 2\n"
     ]
    }
   ],
   "source": [
    "write_blk_dfcf(conf_ini, ['002236', '000002'])"
   ]
  },
  {
   "cell_type": "code",
   "execution_count": 49,
   "metadata": {
    "execution": {
     "iopub.execute_input": "2023-10-12T13:40:11.873279Z",
     "iopub.status.busy": "2023-10-12T13:40:11.872243Z",
     "iopub.status.idle": "2023-10-12T13:40:12.002996Z",
     "shell.execute_reply": "2023-10-12T13:40:12.002996Z",
     "shell.execute_reply.started": "2023-10-12T13:40:11.873279Z"
    },
    "tags": []
   },
   "outputs": [
    {
     "data": {
      "text/plain": [
       "<_io.TextIOWrapper name='D:\\\\MacTools\\\\WinTools\\\\eastmoney\\\\swc8\\\\config\\\\User\\\\6327113578970854\\\\StockwayStock_bak.ini' mode='r' encoding='GB2312'>"
      ]
     },
     "execution_count": 49,
     "metadata": {},
     "output_type": "execute_result"
    }
   ],
   "source": [
    "from chardet import detect\n",
    "\n",
    "\n",
    "# get file encoding type\n",
    "def get_encoding_type(file):\n",
    "    with open(file, 'rb') as f:\n",
    "        rawdata = f.read()\n",
    "    return detect(rawdata)['encoding']\n",
    "\n",
    "\n",
    "open(conf_ini, 'r', encoding=get_encoding_type(conf_ini), errors='ignore')"
   ]
  },
  {
   "cell_type": "markdown",
   "metadata": {},
   "source": [
    "# 情绪测试"
   ]
  },
  {
   "cell_type": "code",
   "execution_count": 10,
   "metadata": {
    "execution": {
     "iopub.execute_input": "2023-12-21T14:34:57.048395Z",
     "iopub.status.busy": "2023-12-21T14:34:57.048395Z",
     "iopub.status.idle": "2023-12-21T14:34:57.093807Z",
     "shell.execute_reply": "2023-12-21T14:34:57.092807Z",
     "shell.execute_reply.started": "2023-12-21T14:34:57.048395Z"
    },
    "tags": []
   },
   "outputs": [
    {
     "ename": "NameError",
     "evalue": "name 'pro' is not defined",
     "output_type": "error",
     "traceback": [
      "\u001b[1;31m---------------------------------------------------------------------------\u001b[0m",
      "\u001b[1;31mNameError\u001b[0m                                 Traceback (most recent call last)",
      "\u001b[1;32mG:\\Temp\\ipykernel_27352\\1797329712.py\u001b[0m in \u001b[0;36m<module>\u001b[1;34m\u001b[0m\n\u001b[0;32m     87\u001b[0m \u001b[1;33m\u001b[0m\u001b[0m\n\u001b[0;32m     88\u001b[0m \u001b[1;33m\u001b[0m\u001b[0m\n\u001b[1;32m---> 89\u001b[1;33m \u001b[0mplot_arbr\u001b[0m\u001b[1;33m(\u001b[0m\u001b[1;34m'上证综指'\u001b[0m\u001b[1;33m)\u001b[0m\u001b[1;33m\u001b[0m\u001b[1;33m\u001b[0m\u001b[0m\n\u001b[0m\u001b[0;32m     90\u001b[0m \u001b[1;33m\u001b[0m\u001b[0m\n\u001b[0;32m     91\u001b[0m \u001b[0mplot_arbr\u001b[0m\u001b[1;33m(\u001b[0m\u001b[1;34m'上证综指'\u001b[0m\u001b[1;33m,\u001b[0m \u001b[0mn\u001b[0m\u001b[1;33m=\u001b[0m\u001b[1;36m250\u001b[0m\u001b[1;33m)\u001b[0m\u001b[1;33m\u001b[0m\u001b[1;33m\u001b[0m\u001b[0m\n",
      "\u001b[1;32mG:\\Temp\\ipykernel_27352\\1797329712.py\u001b[0m in \u001b[0;36mplot_arbr\u001b[1;34m(stock, n)\u001b[0m\n\u001b[0;32m     78\u001b[0m \u001b[1;33m\u001b[0m\u001b[0m\n\u001b[0;32m     79\u001b[0m \u001b[1;32mdef\u001b[0m \u001b[0mplot_arbr\u001b[0m\u001b[1;33m(\u001b[0m\u001b[0mstock\u001b[0m\u001b[1;33m,\u001b[0m \u001b[0mn\u001b[0m\u001b[1;33m=\u001b[0m\u001b[1;36m120\u001b[0m\u001b[1;33m)\u001b[0m\u001b[1;33m:\u001b[0m\u001b[1;33m\u001b[0m\u001b[1;33m\u001b[0m\u001b[0m\n\u001b[1;32m---> 80\u001b[1;33m     \u001b[0mdf\u001b[0m \u001b[1;33m=\u001b[0m \u001b[0marbr\u001b[0m\u001b[1;33m(\u001b[0m\u001b[0mstock\u001b[0m\u001b[1;33m,\u001b[0m \u001b[0mn\u001b[0m\u001b[1;33m)\u001b[0m\u001b[1;33m\u001b[0m\u001b[1;33m\u001b[0m\u001b[0m\n\u001b[0m\u001b[0;32m     81\u001b[0m     \u001b[0mdf\u001b[0m\u001b[1;33m[\u001b[0m\u001b[1;34m'close'\u001b[0m\u001b[1;33m]\u001b[0m\u001b[1;33m.\u001b[0m\u001b[0mplot\u001b[0m\u001b[1;33m(\u001b[0m\u001b[0mcolor\u001b[0m\u001b[1;33m=\u001b[0m\u001b[1;34m'r'\u001b[0m\u001b[1;33m,\u001b[0m \u001b[0mfigsize\u001b[0m\u001b[1;33m=\u001b[0m\u001b[1;33m(\u001b[0m\u001b[1;36m14\u001b[0m\u001b[1;33m,\u001b[0m \u001b[1;36m5\u001b[0m\u001b[1;33m)\u001b[0m\u001b[1;33m)\u001b[0m\u001b[1;33m\u001b[0m\u001b[1;33m\u001b[0m\u001b[0m\n\u001b[0;32m     82\u001b[0m     \u001b[0mplt\u001b[0m\u001b[1;33m.\u001b[0m\u001b[0mxlabel\u001b[0m\u001b[1;33m(\u001b[0m\u001b[1;34m''\u001b[0m\u001b[1;33m)\u001b[0m\u001b[1;33m\u001b[0m\u001b[1;33m\u001b[0m\u001b[0m\n",
      "\u001b[1;32mG:\\Temp\\ipykernel_27352\\1797329712.py\u001b[0m in \u001b[0;36marbr\u001b[1;34m(stock, n)\u001b[0m\n\u001b[0;32m     61\u001b[0m \u001b[1;33m\u001b[0m\u001b[0m\n\u001b[0;32m     62\u001b[0m \u001b[1;32mdef\u001b[0m \u001b[0marbr\u001b[0m\u001b[1;33m(\u001b[0m\u001b[0mstock\u001b[0m\u001b[1;33m,\u001b[0m \u001b[0mn\u001b[0m\u001b[1;33m=\u001b[0m\u001b[1;36m120\u001b[0m\u001b[1;33m)\u001b[0m\u001b[1;33m:\u001b[0m\u001b[1;33m\u001b[0m\u001b[1;33m\u001b[0m\u001b[0m\n\u001b[1;32m---> 63\u001b[1;33m     \u001b[0mcode\u001b[0m \u001b[1;33m=\u001b[0m \u001b[0mget_code\u001b[0m\u001b[1;33m(\u001b[0m\u001b[1;33m)\u001b[0m\u001b[1;33m[\u001b[0m\u001b[0mstock\u001b[0m\u001b[1;33m]\u001b[0m\u001b[1;33m\u001b[0m\u001b[1;33m\u001b[0m\u001b[0m\n\u001b[0m\u001b[0;32m     64\u001b[0m     \u001b[0mdf\u001b[0m \u001b[1;33m=\u001b[0m \u001b[0mget_data\u001b[0m\u001b[1;33m(\u001b[0m\u001b[0mcode\u001b[0m\u001b[1;33m,\u001b[0m \u001b[0mn\u001b[0m\u001b[1;33m)\u001b[0m\u001b[1;33m[\u001b[0m\u001b[1;33m[\u001b[0m\u001b[1;34m'open'\u001b[0m\u001b[1;33m,\u001b[0m \u001b[1;34m'high'\u001b[0m\u001b[1;33m,\u001b[0m \u001b[1;34m'low'\u001b[0m\u001b[1;33m,\u001b[0m \u001b[1;34m'close'\u001b[0m\u001b[1;33m]\u001b[0m\u001b[1;33m]\u001b[0m\u001b[1;33m\u001b[0m\u001b[1;33m\u001b[0m\u001b[0m\n\u001b[0;32m     65\u001b[0m     \u001b[0mdf\u001b[0m\u001b[1;33m[\u001b[0m\u001b[1;34m'HO'\u001b[0m\u001b[1;33m]\u001b[0m \u001b[1;33m=\u001b[0m \u001b[0mdf\u001b[0m\u001b[1;33m.\u001b[0m\u001b[0mhigh\u001b[0m \u001b[1;33m-\u001b[0m \u001b[0mdf\u001b[0m\u001b[1;33m.\u001b[0m\u001b[0mopen\u001b[0m\u001b[1;33m\u001b[0m\u001b[1;33m\u001b[0m\u001b[0m\n",
      "\u001b[1;32mG:\\Temp\\ipykernel_27352\\1797329712.py\u001b[0m in \u001b[0;36mget_code\u001b[1;34m()\u001b[0m\n\u001b[0;32m     28\u001b[0m \u001b[1;33m\u001b[0m\u001b[0m\n\u001b[0;32m     29\u001b[0m \u001b[1;32mdef\u001b[0m \u001b[0mget_code\u001b[0m\u001b[1;33m(\u001b[0m\u001b[1;33m)\u001b[0m\u001b[1;33m:\u001b[0m\u001b[1;33m\u001b[0m\u001b[1;33m\u001b[0m\u001b[0m\n\u001b[1;32m---> 30\u001b[1;33m     \u001b[0mdf\u001b[0m \u001b[1;33m=\u001b[0m \u001b[0mpro\u001b[0m\u001b[1;33m.\u001b[0m\u001b[0mstock_basic\u001b[0m\u001b[1;33m(\u001b[0m\u001b[0mexchange\u001b[0m\u001b[1;33m=\u001b[0m\u001b[1;34m''\u001b[0m\u001b[1;33m,\u001b[0m \u001b[0mlist_status\u001b[0m\u001b[1;33m=\u001b[0m\u001b[1;34m'L'\u001b[0m\u001b[1;33m)\u001b[0m\u001b[1;33m\u001b[0m\u001b[1;33m\u001b[0m\u001b[0m\n\u001b[0m\u001b[0;32m     31\u001b[0m     \u001b[0mcodes\u001b[0m \u001b[1;33m=\u001b[0m \u001b[0mdf\u001b[0m\u001b[1;33m.\u001b[0m\u001b[0mts_code\u001b[0m\u001b[1;33m.\u001b[0m\u001b[0mvalues\u001b[0m\u001b[1;33m\u001b[0m\u001b[1;33m\u001b[0m\u001b[0m\n\u001b[0;32m     32\u001b[0m     \u001b[0mnames\u001b[0m \u001b[1;33m=\u001b[0m \u001b[0mdf\u001b[0m\u001b[1;33m.\u001b[0m\u001b[0mname\u001b[0m\u001b[1;33m.\u001b[0m\u001b[0mvalues\u001b[0m\u001b[1;33m\u001b[0m\u001b[1;33m\u001b[0m\u001b[0m\n",
      "\u001b[1;31mNameError\u001b[0m: name 'pro' is not defined"
     ]
    }
   ],
   "source": [
    "import matplotlib.pyplot as plt\n",
    "import numpy as np\n",
    "import pandas as pd\n",
    "import talib as ta\n",
    "import tushare as ts\n",
    "# 正常显示画图时出现的中文和负号\n",
    "from pylab import mpl\n",
    "\n",
    "%matplotlib inline\n",
    "\n",
    "mpl.rcParams['font.sans-serif'] = ['SimHei']\n",
    "mpl.rcParams['axes.unicode_minus'] = False\n",
    "\n",
    "# 引入TA-Lib库\n",
    "import talib as ta\n",
    "\n",
    "# 设置token\n",
    "# token='输入你的token'\n",
    "# pro=ts.pro_api(token)\n",
    "\n",
    "index = {'上证综指': '000001.SH', '深证成指': '399001.SZ',\n",
    "         '沪深300': '000300.SH', '创业板指': '399006.SZ',\n",
    "         '上证50': '000016.SH', '中证500': '000905.SH',\n",
    "         '中小板指': '399005.SZ', '上证180': '000010.SH'}\n",
    "\n",
    "# 获取当前交易的股票代码和名称\n",
    "\n",
    "\n",
    "def get_code():\n",
    "    df = pro.stock_basic(exchange='', list_status='L')\n",
    "    codes = df.ts_code.values\n",
    "    names = df.name.values\n",
    "    stock = dict(zip(names, codes))\n",
    "    stocks = dict(stock, **index)\n",
    "    return stocks\n",
    "\n",
    "# 默认设定时间周期为当前时间往前推120个交易日\n",
    "# 日期可以根据需要自己改动\n",
    "\n",
    "\n",
    "def get_data(code, n=120):\n",
    "    from datetime import datetime, timedelta\n",
    "    t = datetime.now()\n",
    "    t0 = t - timedelta(n)\n",
    "    start = t0.strftime('%Y%m%d')\n",
    "    end = t.strftime('%Y%m%d')\n",
    "    # 如果代码在字典index里，则取的是指数数据\n",
    "    if code in index.values():\n",
    "        df = pro.index_daily(ts_code=code, start_date=start, end_date=end)\n",
    "    # 否则取的是个股数据\n",
    "    else:\n",
    "        df = pro.daily(ts_code=code, start_date=start, end_date=end)\n",
    "    # 将交易日期设置为索引值\n",
    "    df.index = pd.to_datetime(df.trade_date)\n",
    "    df = df.sort_index()\n",
    "    # 计算收益率\n",
    "    return df\n",
    "\n",
    "# 计算AR、BR指标\n",
    "\n",
    "\n",
    "def arbr(stock, n=120):\n",
    "    code = get_code()[stock]\n",
    "    df = get_data(code, n)[['open', 'high', 'low', 'close']]\n",
    "    df['HO'] = df.high - df.open\n",
    "    df['OL'] = df.open - df.low\n",
    "    df['HCY'] = df.high - df.close.shift(1)\n",
    "    df['CYL'] = df.close.shift(1) - df.low\n",
    "    # 计算AR、BR指标\n",
    "    df['AR'] = ta.SUM(df.HO, timeperiod=26) / ta.SUM(df.OL,\n",
    "                                                     timeperiod=26) * 100\n",
    "    df['BR'] = ta.SUM(df.HCY, timeperiod=26) / ta.SUM(df.CYL,\n",
    "                                                      timeperiod=26) * 100\n",
    "    return df[['close', 'AR', 'BR']].dropna()\n",
    "\n",
    "# 对价格和ARBR进行可视化\n",
    "\n",
    "\n",
    "def plot_arbr(stock, n=120):\n",
    "    df = arbr(stock, n)\n",
    "    df['close'].plot(color='r', figsize=(14, 5))\n",
    "    plt.xlabel('')\n",
    "    plt.title(stock + '价格走势', fontsize=15)\n",
    "    df[['AR', 'BR']].plot(figsize=(14, 5))\n",
    "    plt.xlabel('')\n",
    "    plt.show()\n",
    "\n",
    "\n",
    "plot_arbr('上证综指')\n",
    "\n",
    "plot_arbr('上证综指', n=250)\n",
    "\n",
    "plot_arbr('创业板指', n=250)\n",
    "\n",
    "plot_arbr('沪深300', n=250)\n",
    "\n",
    "plot_arbr('东方通信', n=250)"
   ]
  },
  {
   "cell_type": "code",
   "execution_count": 1,
   "metadata": {
    "execution": {
     "iopub.execute_input": "2023-09-21T09:01:41.157619Z",
     "iopub.status.busy": "2023-09-21T09:01:41.157619Z",
     "iopub.status.idle": "2023-09-21T09:01:41.701151Z",
     "shell.execute_reply": "2023-09-21T09:01:41.701151Z",
     "shell.execute_reply.started": "2023-09-21T09:01:41.157619Z"
    },
    "tags": []
   },
   "outputs": [
    {
     "name": "stdout",
     "output_type": "stream",
     "text": [
      "close    152.0\n",
      "dtype: float64\n"
     ]
    }
   ],
   "source": [
    "# 导入pandas库\n",
    "import pandas as pd\n",
    "\n",
    "# 创建一个多重索引的数据框\n",
    "df = pd.DataFrame({\n",
    "    'date': ['2023-01-01', '2023-01-02', '2023-01-03', '2023-01-04', '2023-01-05',\n",
    "             '2023-01-06', '2023-01-07', '2023-01-08', '2023-01-09', '2023-01-10'],\n",
    "    'stock': ['AAPL', 'AAPL', 'AAPL', 'AAPL', 'AAPL',\n",
    "              'MSFT', 'MSFT', 'MSFT', 'MSFT', 'MSFT'],\n",
    "    'close': [100, 101, 102, 103, 104,\n",
    "              200, 201, 202, 203, 204]\n",
    "})\n",
    "\n",
    "# 设置多重索引\n",
    "df = df.set_index(['date', 'stock'])\n",
    "\n",
    "# 定义一个自定义函数，求最近10天的close数据的平均值\n",
    "\n",
    "\n",
    "def last_10_days_mean(x):\n",
    "    return x[-10:].mean()\n",
    "\n",
    "\n",
    "# 使用agg方法，传入自定义函数，对多重索引的数据框进行聚合，并生成新列\n",
    "df_agg = df.agg(last_10_days_mean)\n",
    "\n",
    "# 打印结果\n",
    "print(df_agg)"
   ]
  },
  {
   "cell_type": "code",
   "execution_count": 11,
   "metadata": {
    "execution": {
     "iopub.execute_input": "2023-12-21T14:35:18.774856Z",
     "iopub.status.busy": "2023-12-21T14:35:18.773823Z",
     "iopub.status.idle": "2023-12-21T14:35:18.811919Z",
     "shell.execute_reply": "2023-12-21T14:35:18.811919Z",
     "shell.execute_reply.started": "2023-12-21T14:35:18.774856Z"
    },
    "tags": []
   },
   "outputs": [
    {
     "name": "stdout",
     "output_type": "stream",
     "text": [
      "symbol  date      \n",
      "AAPL    2023-01-01    0.427374\n",
      "dtype: float64\n"
     ]
    },
    {
     "ename": "TypeError",
     "evalue": "cannot convert the series to <class 'float'>",
     "output_type": "error",
     "traceback": [
      "\u001b[1;31m---------------------------------------------------------------------------\u001b[0m",
      "\u001b[1;31mTypeError\u001b[0m                                 Traceback (most recent call last)",
      "\u001b[1;32mG:\\Temp\\ipykernel_27352\\662692186.py\u001b[0m in \u001b[0;36m<module>\u001b[1;34m\u001b[0m\n\u001b[0;32m     61\u001b[0m \u001b[1;31m# 应用自定义函数，生成每天的前十天的统计数据\u001b[0m\u001b[1;33m\u001b[0m\u001b[1;33m\u001b[0m\u001b[0m\n\u001b[0;32m     62\u001b[0m \u001b[1;31m# df[['last_10_days_mean', 'last_10_days_max', 'last_10_days_min']] = df.groupby('symbol')['close'].apply(last_10_days_stats)\u001b[0m\u001b[1;33m\u001b[0m\u001b[1;33m\u001b[0m\u001b[0m\n\u001b[1;32m---> 63\u001b[1;33m df[['last_10_days_mean', 'last_10_days_max', 'last_10_days_min']] = df.groupby(\n\u001b[0m\u001b[0;32m     64\u001b[0m     'symbol')['close'].rolling(10).apply(last_10_days_stats)\n\u001b[0;32m     65\u001b[0m \u001b[1;33m\u001b[0m\u001b[0m\n",
      "\u001b[1;32m~\\anaconda3\\lib\\site-packages\\pandas\\core\\window\\rolling.py\u001b[0m in \u001b[0;36mapply\u001b[1;34m(self, func, raw, engine, engine_kwargs, args, kwargs)\u001b[0m\n\u001b[0;32m   1841\u001b[0m         \u001b[0mkwargs\u001b[0m\u001b[1;33m:\u001b[0m \u001b[0mdict\u001b[0m\u001b[1;33m[\u001b[0m\u001b[0mstr\u001b[0m\u001b[1;33m,\u001b[0m \u001b[0mAny\u001b[0m\u001b[1;33m]\u001b[0m \u001b[1;33m|\u001b[0m \u001b[1;32mNone\u001b[0m \u001b[1;33m=\u001b[0m \u001b[1;32mNone\u001b[0m\u001b[1;33m,\u001b[0m\u001b[1;33m\u001b[0m\u001b[1;33m\u001b[0m\u001b[0m\n\u001b[0;32m   1842\u001b[0m     ):\n\u001b[1;32m-> 1843\u001b[1;33m         return super().apply(\n\u001b[0m\u001b[0;32m   1844\u001b[0m             \u001b[0mfunc\u001b[0m\u001b[1;33m,\u001b[0m\u001b[1;33m\u001b[0m\u001b[1;33m\u001b[0m\u001b[0m\n\u001b[0;32m   1845\u001b[0m             \u001b[0mraw\u001b[0m\u001b[1;33m=\u001b[0m\u001b[0mraw\u001b[0m\u001b[1;33m,\u001b[0m\u001b[1;33m\u001b[0m\u001b[1;33m\u001b[0m\u001b[0m\n",
      "\u001b[1;32m~\\anaconda3\\lib\\site-packages\\pandas\\core\\window\\rolling.py\u001b[0m in \u001b[0;36mapply\u001b[1;34m(self, func, raw, engine, engine_kwargs, args, kwargs)\u001b[0m\n\u001b[0;32m   1313\u001b[0m             \u001b[1;32mraise\u001b[0m \u001b[0mValueError\u001b[0m\u001b[1;33m(\u001b[0m\u001b[1;34m\"engine must be either 'numba' or 'cython'\"\u001b[0m\u001b[1;33m)\u001b[0m\u001b[1;33m\u001b[0m\u001b[1;33m\u001b[0m\u001b[0m\n\u001b[0;32m   1314\u001b[0m \u001b[1;33m\u001b[0m\u001b[0m\n\u001b[1;32m-> 1315\u001b[1;33m         return self._apply(\n\u001b[0m\u001b[0;32m   1316\u001b[0m             \u001b[0mapply_func\u001b[0m\u001b[1;33m,\u001b[0m\u001b[1;33m\u001b[0m\u001b[1;33m\u001b[0m\u001b[0m\n\u001b[0;32m   1317\u001b[0m             \u001b[0mnumba_cache_key\u001b[0m\u001b[1;33m=\u001b[0m\u001b[0mnumba_cache_key\u001b[0m\u001b[1;33m,\u001b[0m\u001b[1;33m\u001b[0m\u001b[1;33m\u001b[0m\u001b[0m\n",
      "\u001b[1;32m~\\anaconda3\\lib\\site-packages\\pandas\\core\\window\\rolling.py\u001b[0m in \u001b[0;36m_apply\u001b[1;34m(self, func, name, numba_cache_key, numba_args, **kwargs)\u001b[0m\n\u001b[0;32m    678\u001b[0m         \u001b[1;33m**\u001b[0m\u001b[0mkwargs\u001b[0m\u001b[1;33m,\u001b[0m\u001b[1;33m\u001b[0m\u001b[1;33m\u001b[0m\u001b[0m\n\u001b[0;32m    679\u001b[0m     ) -> DataFrame | Series:\n\u001b[1;32m--> 680\u001b[1;33m         result = super()._apply(\n\u001b[0m\u001b[0;32m    681\u001b[0m             \u001b[0mfunc\u001b[0m\u001b[1;33m,\u001b[0m\u001b[1;33m\u001b[0m\u001b[1;33m\u001b[0m\u001b[0m\n\u001b[0;32m    682\u001b[0m             \u001b[0mname\u001b[0m\u001b[1;33m,\u001b[0m\u001b[1;33m\u001b[0m\u001b[1;33m\u001b[0m\u001b[0m\n",
      "\u001b[1;32m~\\anaconda3\\lib\\site-packages\\pandas\\core\\window\\rolling.py\u001b[0m in \u001b[0;36m_apply\u001b[1;34m(self, func, name, numba_cache_key, numba_args, **kwargs)\u001b[0m\n\u001b[0;32m    588\u001b[0m \u001b[1;33m\u001b[0m\u001b[0m\n\u001b[0;32m    589\u001b[0m         \u001b[1;32mif\u001b[0m \u001b[0mself\u001b[0m\u001b[1;33m.\u001b[0m\u001b[0mmethod\u001b[0m \u001b[1;33m==\u001b[0m \u001b[1;34m\"single\"\u001b[0m\u001b[1;33m:\u001b[0m\u001b[1;33m\u001b[0m\u001b[1;33m\u001b[0m\u001b[0m\n\u001b[1;32m--> 590\u001b[1;33m             \u001b[1;32mreturn\u001b[0m \u001b[0mself\u001b[0m\u001b[1;33m.\u001b[0m\u001b[0m_apply_blockwise\u001b[0m\u001b[1;33m(\u001b[0m\u001b[0mhomogeneous_func\u001b[0m\u001b[1;33m,\u001b[0m \u001b[0mname\u001b[0m\u001b[1;33m)\u001b[0m\u001b[1;33m\u001b[0m\u001b[1;33m\u001b[0m\u001b[0m\n\u001b[0m\u001b[0;32m    591\u001b[0m         \u001b[1;32melse\u001b[0m\u001b[1;33m:\u001b[0m\u001b[1;33m\u001b[0m\u001b[1;33m\u001b[0m\u001b[0m\n\u001b[0;32m    592\u001b[0m             \u001b[1;32mreturn\u001b[0m \u001b[0mself\u001b[0m\u001b[1;33m.\u001b[0m\u001b[0m_apply_tablewise\u001b[0m\u001b[1;33m(\u001b[0m\u001b[0mhomogeneous_func\u001b[0m\u001b[1;33m,\u001b[0m \u001b[0mname\u001b[0m\u001b[1;33m)\u001b[0m\u001b[1;33m\u001b[0m\u001b[1;33m\u001b[0m\u001b[0m\n",
      "\u001b[1;32m~\\anaconda3\\lib\\site-packages\\pandas\\core\\window\\rolling.py\u001b[0m in \u001b[0;36m_apply_blockwise\u001b[1;34m(self, homogeneous_func, name)\u001b[0m\n\u001b[0;32m    440\u001b[0m         \"\"\"\n\u001b[0;32m    441\u001b[0m         \u001b[1;32mif\u001b[0m \u001b[0mself\u001b[0m\u001b[1;33m.\u001b[0m\u001b[0m_selected_obj\u001b[0m\u001b[1;33m.\u001b[0m\u001b[0mndim\u001b[0m \u001b[1;33m==\u001b[0m \u001b[1;36m1\u001b[0m\u001b[1;33m:\u001b[0m\u001b[1;33m\u001b[0m\u001b[1;33m\u001b[0m\u001b[0m\n\u001b[1;32m--> 442\u001b[1;33m             \u001b[1;32mreturn\u001b[0m \u001b[0mself\u001b[0m\u001b[1;33m.\u001b[0m\u001b[0m_apply_series\u001b[0m\u001b[1;33m(\u001b[0m\u001b[0mhomogeneous_func\u001b[0m\u001b[1;33m,\u001b[0m \u001b[0mname\u001b[0m\u001b[1;33m)\u001b[0m\u001b[1;33m\u001b[0m\u001b[1;33m\u001b[0m\u001b[0m\n\u001b[0m\u001b[0;32m    443\u001b[0m \u001b[1;33m\u001b[0m\u001b[0m\n\u001b[0;32m    444\u001b[0m         \u001b[0mobj\u001b[0m \u001b[1;33m=\u001b[0m \u001b[0mself\u001b[0m\u001b[1;33m.\u001b[0m\u001b[0m_create_data\u001b[0m\u001b[1;33m(\u001b[0m\u001b[0mself\u001b[0m\u001b[1;33m.\u001b[0m\u001b[0m_selected_obj\u001b[0m\u001b[1;33m)\u001b[0m\u001b[1;33m\u001b[0m\u001b[1;33m\u001b[0m\u001b[0m\n",
      "\u001b[1;32m~\\anaconda3\\lib\\site-packages\\pandas\\core\\window\\rolling.py\u001b[0m in \u001b[0;36m_apply_series\u001b[1;34m(self, homogeneous_func, name)\u001b[0m\n\u001b[0;32m    429\u001b[0m             \u001b[1;32mraise\u001b[0m \u001b[0mDataError\u001b[0m\u001b[1;33m(\u001b[0m\u001b[1;34m\"No numeric types to aggregate\"\u001b[0m\u001b[1;33m)\u001b[0m \u001b[1;32mfrom\u001b[0m \u001b[0merr\u001b[0m\u001b[1;33m\u001b[0m\u001b[1;33m\u001b[0m\u001b[0m\n\u001b[0;32m    430\u001b[0m \u001b[1;33m\u001b[0m\u001b[0m\n\u001b[1;32m--> 431\u001b[1;33m         \u001b[0mresult\u001b[0m \u001b[1;33m=\u001b[0m \u001b[0mhomogeneous_func\u001b[0m\u001b[1;33m(\u001b[0m\u001b[0mvalues\u001b[0m\u001b[1;33m)\u001b[0m\u001b[1;33m\u001b[0m\u001b[1;33m\u001b[0m\u001b[0m\n\u001b[0m\u001b[0;32m    432\u001b[0m         \u001b[1;32mreturn\u001b[0m \u001b[0mobj\u001b[0m\u001b[1;33m.\u001b[0m\u001b[0m_constructor\u001b[0m\u001b[1;33m(\u001b[0m\u001b[0mresult\u001b[0m\u001b[1;33m,\u001b[0m \u001b[0mindex\u001b[0m\u001b[1;33m=\u001b[0m\u001b[0mobj\u001b[0m\u001b[1;33m.\u001b[0m\u001b[0mindex\u001b[0m\u001b[1;33m,\u001b[0m \u001b[0mname\u001b[0m\u001b[1;33m=\u001b[0m\u001b[0mobj\u001b[0m\u001b[1;33m.\u001b[0m\u001b[0mname\u001b[0m\u001b[1;33m)\u001b[0m\u001b[1;33m\u001b[0m\u001b[1;33m\u001b[0m\u001b[0m\n\u001b[0;32m    433\u001b[0m \u001b[1;33m\u001b[0m\u001b[0m\n",
      "\u001b[1;32m~\\anaconda3\\lib\\site-packages\\pandas\\core\\window\\rolling.py\u001b[0m in \u001b[0;36mhomogeneous_func\u001b[1;34m(values)\u001b[0m\n\u001b[0;32m    580\u001b[0m \u001b[1;33m\u001b[0m\u001b[0m\n\u001b[0;32m    581\u001b[0m             \u001b[1;32mwith\u001b[0m \u001b[0mnp\u001b[0m\u001b[1;33m.\u001b[0m\u001b[0merrstate\u001b[0m\u001b[1;33m(\u001b[0m\u001b[0mall\u001b[0m\u001b[1;33m=\u001b[0m\u001b[1;34m\"ignore\"\u001b[0m\u001b[1;33m)\u001b[0m\u001b[1;33m:\u001b[0m\u001b[1;33m\u001b[0m\u001b[1;33m\u001b[0m\u001b[0m\n\u001b[1;32m--> 582\u001b[1;33m                 \u001b[0mresult\u001b[0m \u001b[1;33m=\u001b[0m \u001b[0mcalc\u001b[0m\u001b[1;33m(\u001b[0m\u001b[0mvalues\u001b[0m\u001b[1;33m)\u001b[0m\u001b[1;33m\u001b[0m\u001b[1;33m\u001b[0m\u001b[0m\n\u001b[0m\u001b[0;32m    583\u001b[0m \u001b[1;33m\u001b[0m\u001b[0m\n\u001b[0;32m    584\u001b[0m             \u001b[1;32mif\u001b[0m \u001b[0mnumba_cache_key\u001b[0m \u001b[1;32mis\u001b[0m \u001b[1;32mnot\u001b[0m \u001b[1;32mNone\u001b[0m\u001b[1;33m:\u001b[0m\u001b[1;33m\u001b[0m\u001b[1;33m\u001b[0m\u001b[0m\n",
      "\u001b[1;32m~\\anaconda3\\lib\\site-packages\\pandas\\core\\window\\rolling.py\u001b[0m in \u001b[0;36mcalc\u001b[1;34m(x)\u001b[0m\n\u001b[0;32m    577\u001b[0m                 \u001b[0mself\u001b[0m\u001b[1;33m.\u001b[0m\u001b[0m_check_window_bounds\u001b[0m\u001b[1;33m(\u001b[0m\u001b[0mstart\u001b[0m\u001b[1;33m,\u001b[0m \u001b[0mend\u001b[0m\u001b[1;33m,\u001b[0m \u001b[0mlen\u001b[0m\u001b[1;33m(\u001b[0m\u001b[0mx\u001b[0m\u001b[1;33m)\u001b[0m\u001b[1;33m)\u001b[0m\u001b[1;33m\u001b[0m\u001b[1;33m\u001b[0m\u001b[0m\n\u001b[0;32m    578\u001b[0m \u001b[1;33m\u001b[0m\u001b[0m\n\u001b[1;32m--> 579\u001b[1;33m                 \u001b[1;32mreturn\u001b[0m \u001b[0mfunc\u001b[0m\u001b[1;33m(\u001b[0m\u001b[0mx\u001b[0m\u001b[1;33m,\u001b[0m \u001b[0mstart\u001b[0m\u001b[1;33m,\u001b[0m \u001b[0mend\u001b[0m\u001b[1;33m,\u001b[0m \u001b[0mmin_periods\u001b[0m\u001b[1;33m,\u001b[0m \u001b[1;33m*\u001b[0m\u001b[0mnumba_args\u001b[0m\u001b[1;33m)\u001b[0m\u001b[1;33m\u001b[0m\u001b[1;33m\u001b[0m\u001b[0m\n\u001b[0m\u001b[0;32m    580\u001b[0m \u001b[1;33m\u001b[0m\u001b[0m\n\u001b[0;32m    581\u001b[0m             \u001b[1;32mwith\u001b[0m \u001b[0mnp\u001b[0m\u001b[1;33m.\u001b[0m\u001b[0merrstate\u001b[0m\u001b[1;33m(\u001b[0m\u001b[0mall\u001b[0m\u001b[1;33m=\u001b[0m\u001b[1;34m\"ignore\"\u001b[0m\u001b[1;33m)\u001b[0m\u001b[1;33m:\u001b[0m\u001b[1;33m\u001b[0m\u001b[1;33m\u001b[0m\u001b[0m\n",
      "\u001b[1;32m~\\anaconda3\\lib\\site-packages\\pandas\\core\\window\\rolling.py\u001b[0m in \u001b[0;36mapply_func\u001b[1;34m(values, begin, end, min_periods, raw)\u001b[0m\n\u001b[0;32m   1340\u001b[0m                 \u001b[1;31m# GH 45912\u001b[0m\u001b[1;33m\u001b[0m\u001b[1;33m\u001b[0m\u001b[0m\n\u001b[0;32m   1341\u001b[0m                 \u001b[0mvalues\u001b[0m \u001b[1;33m=\u001b[0m \u001b[0mSeries\u001b[0m\u001b[1;33m(\u001b[0m\u001b[0mvalues\u001b[0m\u001b[1;33m,\u001b[0m \u001b[0mindex\u001b[0m\u001b[1;33m=\u001b[0m\u001b[0mself\u001b[0m\u001b[1;33m.\u001b[0m\u001b[0m_on\u001b[0m\u001b[1;33m)\u001b[0m\u001b[1;33m\u001b[0m\u001b[1;33m\u001b[0m\u001b[0m\n\u001b[1;32m-> 1342\u001b[1;33m             \u001b[1;32mreturn\u001b[0m \u001b[0mwindow_func\u001b[0m\u001b[1;33m(\u001b[0m\u001b[0mvalues\u001b[0m\u001b[1;33m,\u001b[0m \u001b[0mbegin\u001b[0m\u001b[1;33m,\u001b[0m \u001b[0mend\u001b[0m\u001b[1;33m,\u001b[0m \u001b[0mmin_periods\u001b[0m\u001b[1;33m)\u001b[0m\u001b[1;33m\u001b[0m\u001b[1;33m\u001b[0m\u001b[0m\n\u001b[0m\u001b[0;32m   1343\u001b[0m \u001b[1;33m\u001b[0m\u001b[0m\n\u001b[0;32m   1344\u001b[0m         \u001b[1;32mreturn\u001b[0m \u001b[0mapply_func\u001b[0m\u001b[1;33m\u001b[0m\u001b[1;33m\u001b[0m\u001b[0m\n",
      "\u001b[1;32m~\\anaconda3\\lib\\site-packages\\pandas\\_libs\\window\\aggregations.pyx\u001b[0m in \u001b[0;36mpandas._libs.window.aggregations.roll_apply\u001b[1;34m()\u001b[0m\n",
      "\u001b[1;32m~\\anaconda3\\lib\\site-packages\\pandas\\core\\series.py\u001b[0m in \u001b[0;36mwrapper\u001b[1;34m(self)\u001b[0m\n\u001b[0;32m    189\u001b[0m         \u001b[1;32mif\u001b[0m \u001b[0mlen\u001b[0m\u001b[1;33m(\u001b[0m\u001b[0mself\u001b[0m\u001b[1;33m)\u001b[0m \u001b[1;33m==\u001b[0m \u001b[1;36m1\u001b[0m\u001b[1;33m:\u001b[0m\u001b[1;33m\u001b[0m\u001b[1;33m\u001b[0m\u001b[0m\n\u001b[0;32m    190\u001b[0m             \u001b[1;32mreturn\u001b[0m \u001b[0mconverter\u001b[0m\u001b[1;33m(\u001b[0m\u001b[0mself\u001b[0m\u001b[1;33m.\u001b[0m\u001b[0miloc\u001b[0m\u001b[1;33m[\u001b[0m\u001b[1;36m0\u001b[0m\u001b[1;33m]\u001b[0m\u001b[1;33m)\u001b[0m\u001b[1;33m\u001b[0m\u001b[1;33m\u001b[0m\u001b[0m\n\u001b[1;32m--> 191\u001b[1;33m         \u001b[1;32mraise\u001b[0m \u001b[0mTypeError\u001b[0m\u001b[1;33m(\u001b[0m\u001b[1;34mf\"cannot convert the series to {converter}\"\u001b[0m\u001b[1;33m)\u001b[0m\u001b[1;33m\u001b[0m\u001b[1;33m\u001b[0m\u001b[0m\n\u001b[0m\u001b[0;32m    192\u001b[0m \u001b[1;33m\u001b[0m\u001b[0m\n\u001b[0;32m    193\u001b[0m     \u001b[0mwrapper\u001b[0m\u001b[1;33m.\u001b[0m\u001b[0m__name__\u001b[0m \u001b[1;33m=\u001b[0m \u001b[1;34mf\"__{converter.__name__}__\"\u001b[0m\u001b[1;33m\u001b[0m\u001b[1;33m\u001b[0m\u001b[0m\n",
      "\u001b[1;31mTypeError\u001b[0m: cannot convert the series to <class 'float'>"
     ]
    }
   ],
   "source": [
    "import numpy as np\n",
    "import pandas as pd\n",
    "\n",
    "# 创建一个示例数据集\n",
    "data = {'date': pd.date_range('2023-01-01', '2023-01-20'),\n",
    "        'symbol': ['AAPL'] * 20,\n",
    "        'close': np.random.rand(20)}\n",
    "df = pd.DataFrame(data)\n",
    "\n",
    "\n",
    "'''单索引\n",
    "# # 生成完整的日期范围\n",
    "# full_range = pd.date_range(start='2022-12-01', end='2023-01-20', freq='D')\n",
    "# print(full_range)\n",
    "# # 对数据框重新索引以填充缺失日期\n",
    "# df = df.reindex(full_range)\n",
    "'''\n",
    "\n",
    "# 将日期设置为索引，以便使用rolling函数\n",
    "df.set_index(['symbol', 'date'], inplace=True)\n",
    "\n",
    "\n",
    "# # 生成完整的日期范围\n",
    "# full_range = pd.date_range(start='2022-12-01', end='2022-12-20', freq='D')\n",
    "# # 对数据框重新索引以填充缺失日期\n",
    "# df = df.reindex(index=pd.MultiIndex.from_product([df.index.levels[0],full_range]))\n",
    "\n",
    "\n",
    "# 计算每个symbol的最近10天的移动平均值\n",
    "df['10_day_ma'] = df.groupby('symbol')['close'].rolling(\n",
    "    window=10).mean().reset_index(level=0, drop=True)\n",
    "\n",
    "# 自定义函数，生成每天的前十天的统计数据\n",
    "\n",
    "\n",
    "def last_10_days_stats(x):\n",
    "    # 获取当前日期\n",
    "    date = x.index.get_level_values('date')[0]\n",
    "    # 获取最近10天的数据\n",
    "    # last_10_days = x.loc[date-pd.Timedelta(days=10):date-pd.Timedelta(days=1)]\n",
    "    print(x.loc[x.index.get_level_values('date') <= date])\n",
    "    last_10_days = x.loc[x.index.get_level_values('date') <= date]\n",
    "    # 计算统计数据\n",
    "    return pd.Series({'last_10_days_mean': last_10_days.mean(),\n",
    "                      'last_10_days_max': last_10_days.max(),\n",
    "                      'last_10_days_min': last_10_days.min()})\n",
    "\n",
    "# def last_10_days_stats(df):\n",
    "#     # 按照日期进行分组\n",
    "#     grouped = df.groupby(level='date')\n",
    "\n",
    "#     # 计算每个日期前10天的统计数据\n",
    "#     stats = grouped.apply(lambda x: x.loc[x.index.get_level_values('date') - pd.Timedelta(days=10) : x.index.get_level_values('date') - pd.Timedelta(days=1)].close.agg(['mean', 'std']))\n",
    "\n",
    "#     # 将统计数据添加为新的列\n",
    "#     df = pd.concat([df, stats.add_prefix('last_10_days_')], axis=1)\n",
    "\n",
    "#     return df\n",
    "\n",
    "\n",
    "# 应用自定义函数，生成每天的前十天的统计数据\n",
    "# df[['last_10_days_mean', 'last_10_days_max', 'last_10_days_min']] = df.groupby('symbol')['close'].apply(last_10_days_stats)\n",
    "df[['last_10_days_mean', 'last_10_days_max', 'last_10_days_min']] = df.groupby(\n",
    "    'symbol')['close'].rolling(10).apply(last_10_days_stats)\n",
    "\n",
    "# df = last_10_days_stats(df)\n",
    "\n",
    "# 打印结果\n",
    "print(df.head(15))"
   ]
  },
  {
   "cell_type": "code",
   "execution_count": 12,
   "metadata": {
    "execution": {
     "iopub.execute_input": "2023-12-21T14:35:32.170748Z",
     "iopub.status.busy": "2023-12-21T14:35:32.169746Z",
     "iopub.status.idle": "2023-12-21T14:35:32.186742Z",
     "shell.execute_reply": "2023-12-21T14:35:32.186742Z",
     "shell.execute_reply.started": "2023-12-21T14:35:32.170748Z"
    },
    "tags": []
   },
   "outputs": [
    {
     "data": {
      "text/html": [
       "<div>\n",
       "<style scoped>\n",
       "    .dataframe tbody tr th:only-of-type {\n",
       "        vertical-align: middle;\n",
       "    }\n",
       "\n",
       "    .dataframe tbody tr th {\n",
       "        vertical-align: top;\n",
       "    }\n",
       "\n",
       "    .dataframe thead th {\n",
       "        text-align: right;\n",
       "    }\n",
       "</style>\n",
       "<table border=\"1\" class=\"dataframe\">\n",
       "  <thead>\n",
       "    <tr style=\"text-align: right;\">\n",
       "      <th></th>\n",
       "      <th></th>\n",
       "      <th>close</th>\n",
       "      <th>10_day_ma</th>\n",
       "    </tr>\n",
       "    <tr>\n",
       "      <th>symbol</th>\n",
       "      <th>date</th>\n",
       "      <th></th>\n",
       "      <th></th>\n",
       "    </tr>\n",
       "  </thead>\n",
       "  <tbody>\n",
       "    <tr>\n",
       "      <th rowspan=\"20\" valign=\"top\">AAPL</th>\n",
       "      <th>2023-01-01</th>\n",
       "      <td>0.427374</td>\n",
       "      <td>NaN</td>\n",
       "    </tr>\n",
       "    <tr>\n",
       "      <th>2023-01-02</th>\n",
       "      <td>0.371009</td>\n",
       "      <td>NaN</td>\n",
       "    </tr>\n",
       "    <tr>\n",
       "      <th>2023-01-03</th>\n",
       "      <td>0.845552</td>\n",
       "      <td>NaN</td>\n",
       "    </tr>\n",
       "    <tr>\n",
       "      <th>2023-01-04</th>\n",
       "      <td>0.042560</td>\n",
       "      <td>NaN</td>\n",
       "    </tr>\n",
       "    <tr>\n",
       "      <th>2023-01-05</th>\n",
       "      <td>0.459456</td>\n",
       "      <td>NaN</td>\n",
       "    </tr>\n",
       "    <tr>\n",
       "      <th>2023-01-06</th>\n",
       "      <td>0.269693</td>\n",
       "      <td>NaN</td>\n",
       "    </tr>\n",
       "    <tr>\n",
       "      <th>2023-01-07</th>\n",
       "      <td>0.648413</td>\n",
       "      <td>NaN</td>\n",
       "    </tr>\n",
       "    <tr>\n",
       "      <th>2023-01-08</th>\n",
       "      <td>0.334086</td>\n",
       "      <td>NaN</td>\n",
       "    </tr>\n",
       "    <tr>\n",
       "      <th>2023-01-09</th>\n",
       "      <td>0.238530</td>\n",
       "      <td>NaN</td>\n",
       "    </tr>\n",
       "    <tr>\n",
       "      <th>2023-01-10</th>\n",
       "      <td>0.412985</td>\n",
       "      <td>0.404966</td>\n",
       "    </tr>\n",
       "    <tr>\n",
       "      <th>2023-01-11</th>\n",
       "      <td>0.550736</td>\n",
       "      <td>0.417302</td>\n",
       "    </tr>\n",
       "    <tr>\n",
       "      <th>2023-01-12</th>\n",
       "      <td>0.970632</td>\n",
       "      <td>0.477264</td>\n",
       "    </tr>\n",
       "    <tr>\n",
       "      <th>2023-01-13</th>\n",
       "      <td>0.510648</td>\n",
       "      <td>0.443774</td>\n",
       "    </tr>\n",
       "    <tr>\n",
       "      <th>2023-01-14</th>\n",
       "      <td>0.189454</td>\n",
       "      <td>0.458463</td>\n",
       "    </tr>\n",
       "    <tr>\n",
       "      <th>2023-01-15</th>\n",
       "      <td>0.456758</td>\n",
       "      <td>0.458193</td>\n",
       "    </tr>\n",
       "    <tr>\n",
       "      <th>2023-01-16</th>\n",
       "      <td>0.666311</td>\n",
       "      <td>0.497855</td>\n",
       "    </tr>\n",
       "    <tr>\n",
       "      <th>2023-01-17</th>\n",
       "      <td>0.313616</td>\n",
       "      <td>0.464376</td>\n",
       "    </tr>\n",
       "    <tr>\n",
       "      <th>2023-01-18</th>\n",
       "      <td>0.613594</td>\n",
       "      <td>0.492326</td>\n",
       "    </tr>\n",
       "    <tr>\n",
       "      <th>2023-01-19</th>\n",
       "      <td>0.684514</td>\n",
       "      <td>0.536925</td>\n",
       "    </tr>\n",
       "    <tr>\n",
       "      <th>2023-01-20</th>\n",
       "      <td>0.271347</td>\n",
       "      <td>0.522761</td>\n",
       "    </tr>\n",
       "  </tbody>\n",
       "</table>\n",
       "</div>"
      ],
      "text/plain": [
       "                      close  10_day_ma\n",
       "symbol date                           \n",
       "AAPL   2023-01-01  0.427374        NaN\n",
       "       2023-01-02  0.371009        NaN\n",
       "       2023-01-03  0.845552        NaN\n",
       "       2023-01-04  0.042560        NaN\n",
       "       2023-01-05  0.459456        NaN\n",
       "       2023-01-06  0.269693        NaN\n",
       "       2023-01-07  0.648413        NaN\n",
       "       2023-01-08  0.334086        NaN\n",
       "       2023-01-09  0.238530        NaN\n",
       "       2023-01-10  0.412985   0.404966\n",
       "       2023-01-11  0.550736   0.417302\n",
       "       2023-01-12  0.970632   0.477264\n",
       "       2023-01-13  0.510648   0.443774\n",
       "       2023-01-14  0.189454   0.458463\n",
       "       2023-01-15  0.456758   0.458193\n",
       "       2023-01-16  0.666311   0.497855\n",
       "       2023-01-17  0.313616   0.464376\n",
       "       2023-01-18  0.613594   0.492326\n",
       "       2023-01-19  0.684514   0.536925\n",
       "       2023-01-20  0.271347   0.522761"
      ]
     },
     "execution_count": 12,
     "metadata": {},
     "output_type": "execute_result"
    }
   ],
   "source": [
    "df"
   ]
  },
  {
   "cell_type": "markdown",
   "metadata": {},
   "source": [
    "# 多索引填充日期数据"
   ]
  },
  {
   "cell_type": "code",
   "execution_count": 46,
   "metadata": {
    "execution": {
     "iopub.execute_input": "2023-02-20T07:59:22.073229Z",
     "iopub.status.busy": "2023-02-20T07:59:22.073229Z",
     "iopub.status.idle": "2023-02-20T07:59:22.092162Z",
     "shell.execute_reply": "2023-02-20T07:59:22.092162Z",
     "shell.execute_reply.started": "2023-02-20T07:59:22.073229Z"
    },
    "tags": []
   },
   "outputs": [
    {
     "name": "stdout",
     "output_type": "stream",
     "text": [
      "                      price  10_day_mean\n",
      "           symbol                       \n",
      "2022-12-19 GOOG    0.475015    -0.265067\n",
      "           TSLA    0.385763    -0.361953\n",
      "2022-12-20 AAPL    0.742337    -0.419962\n",
      "           GOOG   -0.667889    -0.389066\n",
      "           TSLA   -0.492812    -0.294622\n"
     ]
    }
   ],
   "source": [
    "import numpy as np\n",
    "import pandas as pd\n",
    "\n",
    "dates = pd.date_range('2022-12-01', periods=20, freq='D')\n",
    "stocks = ['AAPL', 'GOOG', 'TSLA']\n",
    "multi_index = pd.MultiIndex.from_product(\n",
    "    [dates, stocks], names=['date', 'symbol'])\n",
    "prices = np.random.randn(len(multi_index))\n",
    "df = pd.DataFrame({'price': prices}, index=multi_index)\n",
    "\n",
    "# 生成完整的日期范围\n",
    "full_range = pd.date_range(start='2022-12-01', end='2022-12-20', freq='D')\n",
    "\n",
    "# 对数据框重新索引以填充缺失日期\n",
    "df = df.reindex(index=pd.MultiIndex.from_product(\n",
    "    [full_range, df.index.levels[1]]))\n",
    "\n",
    "# 计算每个日期前10天的平均价格\n",
    "df['10_day_mean'] = df.groupby(\n",
    "    level='symbol')['price'].rolling(\n",
    "    window=10).mean().values\n",
    "\n",
    "# 打印结果\n",
    "print(df[-5:])"
   ]
  },
  {
   "cell_type": "markdown",
   "metadata": {},
   "source": [
    "## 它演示了如何在具有多层索引的 Pandas DataFrame 上计算 last 10 天的 close 数据的统计信息，并将结果重新封装回多层索引格式"
   ]
  },
  {
   "cell_type": "code",
   "execution_count": 13,
   "metadata": {
    "execution": {
     "iopub.execute_input": "2023-12-21T14:36:12.429671Z",
     "iopub.status.busy": "2023-12-21T14:36:12.429671Z",
     "iopub.status.idle": "2023-12-21T14:36:12.465896Z",
     "shell.execute_reply": "2023-12-21T14:36:12.465896Z",
     "shell.execute_reply.started": "2023-12-21T14:36:12.429671Z"
    },
    "tags": []
   },
   "outputs": [
    {
     "name": "stdout",
     "output_type": "stream",
     "text": [
      "date                         \n",
      "2022-01-01  last_10_days_mean    0.492634\n",
      "            last_10_days_max     0.492634\n",
      "            last_10_days_min     0.492634\n",
      "2022-01-02  last_10_days_mean   -0.571848\n",
      "            last_10_days_max    -0.571848\n",
      "dtype: float64\n"
     ]
    }
   ],
   "source": [
    "import numpy as np\n",
    "import pandas as pd\n",
    "\n",
    "# 创建示例数据\n",
    "dates = pd.date_range(\"2022-01-01\", \"2022-01-20\")\n",
    "symbols = [\"AAPL\", \"GOOG\"]\n",
    "index = pd.MultiIndex.from_product([dates, symbols], names=[\"date\", \"symbol\"])\n",
    "data = np.random.randn(len(index), 1)\n",
    "df = pd.DataFrame(data, index=index, columns=[\"close\"])\n",
    "\n",
    "# 计算 last 10 天的 close 数据的统计信息\n",
    "\n",
    "\n",
    "def last_10_days_stats(x):\n",
    "    last_10_days = x.iloc[-10:-1]\n",
    "    return pd.Series({\n",
    "        \"mean\": last_10_days.mean(),\n",
    "        \"std\": last_10_days.std(),\n",
    "        \"max\": last_10_days.max(),\n",
    "        \"min\": last_10_days.min()\n",
    "    })\n",
    "\n",
    "\n",
    "df_unstacked = df.unstack()\n",
    "df_stats = df_unstacked.apply(last_10_days_stats, axis=1, result_type=\"expand\")\n",
    "df_stats.columns = [\"last_10_days_\" + col for col in df_stats.columns]  # 重命名列\n",
    "df_restacked = df_stats.stack()  # 重新转换为多层索引\n",
    "\n",
    "# 打印结果\n",
    "print(df_restacked[:5])"
   ]
  },
  {
   "cell_type": "code",
   "execution_count": 71,
   "metadata": {
    "execution": {
     "iopub.execute_input": "2023-02-20T08:30:18.241175Z",
     "iopub.status.busy": "2023-02-20T08:30:18.241175Z",
     "iopub.status.idle": "2023-02-20T08:30:18.277080Z",
     "shell.execute_reply": "2023-02-20T08:30:18.277080Z",
     "shell.execute_reply.started": "2023-02-20T08:30:18.241175Z"
    },
    "tags": []
   },
   "outputs": [
    {
     "name": "stdout",
     "output_type": "stream",
     "text": [
      "MultiIndex([('2022-01-01', 'last_10_days_mean'),\n",
      "            ('2022-01-01',  'last_10_days_max')],\n",
      "           names=['symbol', 'date']) symbol      date             \n",
      "2022-01-01  last_10_days_mean   -1.209622\n",
      "            last_10_days_max    -1.209622\n",
      "dtype: float64\n"
     ]
    }
   ],
   "source": [
    "import numpy as np\n",
    "import pandas as pd\n",
    "\n",
    "# 创建示例数据\n",
    "dates = pd.date_range(\"2022-01-01\", \"2022-01-20\")\n",
    "symbols = [\"AAPL\", \"GOOG\"]\n",
    "index = pd.MultiIndex.from_product([dates, symbols], names=[\"date\", \"symbol\"])\n",
    "data = np.random.randn(len(index), 1)\n",
    "df = pd.DataFrame(data, index=index, columns=[\"close\"])\n",
    "\n",
    "# 计算 last 10 天的 close 数据的统计信息\n",
    "\n",
    "\n",
    "def last_10_days_stats(x):\n",
    "    last_10_days = x.iloc[-10:-1]\n",
    "    return pd.Series({\n",
    "        \"mean\": last_10_days.mean(),\n",
    "        \"std\": last_10_days.std(),\n",
    "        \"max\": last_10_days.max(),\n",
    "        \"min\": last_10_days.min()\n",
    "    })\n",
    "\n",
    "\n",
    "df_unstacked = df.unstack()\n",
    "df_stats = df_unstacked.apply(last_10_days_stats, axis=1, result_type=\"expand\")\n",
    "df_stats.columns = [\"last_10_days_\" + col for col in df_stats.columns]  # 重命名列\n",
    "df_restacked = df_stats.stack()\n",
    "df_restacked.index = df_restacked.index.rename([\"symbol\", \"date\"])  # 重命名索引\n",
    "df_restacked = df_restacked.reorder_levels([\"symbol\", \"date\"])  # 重新排序索引\n",
    "\n",
    "# 打印结果\n",
    "print(df_restacked.index[:2], df_restacked[:2])"
   ]
  },
  {
   "cell_type": "code",
   "execution_count": 73,
   "metadata": {
    "execution": {
     "iopub.execute_input": "2023-02-20T08:30:53.121168Z",
     "iopub.status.busy": "2023-02-20T08:30:53.121168Z",
     "iopub.status.idle": "2023-02-20T08:30:53.144105Z",
     "shell.execute_reply": "2023-02-20T08:30:53.143107Z",
     "shell.execute_reply.started": "2023-02-20T08:30:53.121168Z"
    },
    "tags": []
   },
   "outputs": [
    {
     "ename": "ValueError",
     "evalue": "Length of new names must be 1, got 2",
     "output_type": "error",
     "traceback": [
      "\u001b[1;31m---------------------------------------------------------------------------\u001b[0m",
      "\u001b[1;31mValueError\u001b[0m                                Traceback (most recent call last)",
      "\u001b[1;32mG:\\Temp\\ipykernel_4268\\4239572315.py\u001b[0m in \u001b[0;36m<module>\u001b[1;34m\u001b[0m\n\u001b[0;32m     22\u001b[0m \u001b[0mdf_grouped\u001b[0m \u001b[1;33m=\u001b[0m \u001b[0mdf\u001b[0m\u001b[1;33m.\u001b[0m\u001b[0mgroupby\u001b[0m\u001b[1;33m(\u001b[0m\u001b[1;34m\"symbol\"\u001b[0m\u001b[1;33m)\u001b[0m\u001b[1;33m\u001b[0m\u001b[1;33m\u001b[0m\u001b[0m\n\u001b[0;32m     23\u001b[0m \u001b[0mdf_stats\u001b[0m \u001b[1;33m=\u001b[0m \u001b[0mdf_grouped\u001b[0m\u001b[1;33m.\u001b[0m\u001b[0mapply\u001b[0m\u001b[1;33m(\u001b[0m\u001b[0mlast_10_days_stats\u001b[0m\u001b[1;33m)\u001b[0m\u001b[1;33m\u001b[0m\u001b[1;33m\u001b[0m\u001b[0m\n\u001b[1;32m---> 24\u001b[1;33m \u001b[0mdf_stats\u001b[0m\u001b[1;33m.\u001b[0m\u001b[0mindex\u001b[0m\u001b[1;33m.\u001b[0m\u001b[0mnames\u001b[0m \u001b[1;33m=\u001b[0m \u001b[1;33m[\u001b[0m\u001b[1;34m\"symbol\"\u001b[0m\u001b[1;33m,\u001b[0m \u001b[1;34m\"stat\"\u001b[0m\u001b[1;33m]\u001b[0m  \u001b[1;31m# 重命名索引\u001b[0m\u001b[1;33m\u001b[0m\u001b[1;33m\u001b[0m\u001b[0m\n\u001b[0m\u001b[0;32m     25\u001b[0m \u001b[0mdf_stats\u001b[0m\u001b[1;33m.\u001b[0m\u001b[0mcolumns\u001b[0m \u001b[1;33m=\u001b[0m \u001b[0mpd\u001b[0m\u001b[1;33m.\u001b[0m\u001b[0mMultiIndex\u001b[0m\u001b[1;33m.\u001b[0m\u001b[0mfrom_product\u001b[0m\u001b[1;33m(\u001b[0m\u001b[1;33m[\u001b[0m\u001b[1;33m[\u001b[0m\u001b[1;34m\"last_10_days\"\u001b[0m\u001b[1;33m]\u001b[0m\u001b[1;33m,\u001b[0m \u001b[0mdf_stats\u001b[0m\u001b[1;33m.\u001b[0m\u001b[0mcolumns\u001b[0m\u001b[1;33m]\u001b[0m\u001b[1;33m)\u001b[0m  \u001b[1;31m# 重命名列\u001b[0m\u001b[1;33m\u001b[0m\u001b[1;33m\u001b[0m\u001b[0m\n\u001b[0;32m     26\u001b[0m \u001b[1;33m\u001b[0m\u001b[0m\n",
      "\u001b[1;32m~\\anaconda3\\lib\\site-packages\\pandas\\core\\indexes\\base.py\u001b[0m in \u001b[0;36m_set_names\u001b[1;34m(self, values, level)\u001b[0m\n\u001b[0;32m   1729\u001b[0m             \u001b[1;32mraise\u001b[0m \u001b[0mValueError\u001b[0m\u001b[1;33m(\u001b[0m\u001b[1;34m\"Names must be a list-like\"\u001b[0m\u001b[1;33m)\u001b[0m\u001b[1;33m\u001b[0m\u001b[1;33m\u001b[0m\u001b[0m\n\u001b[0;32m   1730\u001b[0m         \u001b[1;32mif\u001b[0m \u001b[0mlen\u001b[0m\u001b[1;33m(\u001b[0m\u001b[0mvalues\u001b[0m\u001b[1;33m)\u001b[0m \u001b[1;33m!=\u001b[0m \u001b[1;36m1\u001b[0m\u001b[1;33m:\u001b[0m\u001b[1;33m\u001b[0m\u001b[1;33m\u001b[0m\u001b[0m\n\u001b[1;32m-> 1731\u001b[1;33m             \u001b[1;32mraise\u001b[0m \u001b[0mValueError\u001b[0m\u001b[1;33m(\u001b[0m\u001b[1;34mf\"Length of new names must be 1, got {len(values)}\"\u001b[0m\u001b[1;33m)\u001b[0m\u001b[1;33m\u001b[0m\u001b[1;33m\u001b[0m\u001b[0m\n\u001b[0m\u001b[0;32m   1732\u001b[0m \u001b[1;33m\u001b[0m\u001b[0m\n\u001b[0;32m   1733\u001b[0m         \u001b[1;31m# GH 20527\u001b[0m\u001b[1;33m\u001b[0m\u001b[1;33m\u001b[0m\u001b[0m\n",
      "\u001b[1;31mValueError\u001b[0m: Length of new names must be 1, got 2"
     ]
    }
   ],
   "source": [
    "import numpy as np\n",
    "import pandas as pd\n",
    "\n",
    "# 创建示例数据\n",
    "dates = pd.date_range(\"2022-01-01\", \"2022-01-20\")\n",
    "symbols = [\"AAPL\", \"GOOG\"]\n",
    "index = pd.MultiIndex.from_product([dates, symbols], names=[\"date\", \"symbol\"])\n",
    "data = np.random.randn(len(index), 1)\n",
    "df = pd.DataFrame(data, index=index, columns=[\"close\"])\n",
    "\n",
    "# 计算 last 10 天的 close 数据的统计信息\n",
    "\n",
    "\n",
    "def last_10_days_stats(x):\n",
    "    last_10_days = x.iloc[-10:-1]\n",
    "    return pd.Series({\n",
    "        \"mean\": last_10_days.mean(),\n",
    "        \"std\": last_10_days.std(),\n",
    "        \"max\": last_10_days.max(),\n",
    "        \"min\": last_10_days.min()\n",
    "    })\n",
    "\n",
    "\n",
    "# 按 symbol 进行分组，计算 last 10 天的统计信息\n",
    "df_grouped = df.groupby(\"symbol\")\n",
    "df_stats = df_grouped.apply(last_10_days_stats)\n",
    "df_stats.index.names = [\"symbol\", \"stat\"]  # 重命名索引\n",
    "df_stats.columns = pd.MultiIndex.from_product(\n",
    "    [[\"last_10_days\"], df_stats.columns])  # 重命名列\n",
    "\n",
    "# 合并统计信息和原始数据\n",
    "df_merged = pd.concat([df, df_stats], axis=1)\n",
    "\n",
    "# 打印结果\n",
    "print(df_merged)"
   ]
  },
  {
   "cell_type": "code",
   "execution_count": 82,
   "metadata": {
    "execution": {
     "iopub.execute_input": "2023-02-20T08:35:46.222078Z",
     "iopub.status.busy": "2023-02-20T08:35:46.222078Z",
     "iopub.status.idle": "2023-02-20T08:35:46.253952Z",
     "shell.execute_reply": "2023-02-20T08:35:46.252957Z",
     "shell.execute_reply.started": "2023-02-20T08:35:46.222078Z"
    },
    "tags": []
   },
   "outputs": [
    {
     "name": "stdout",
     "output_type": "stream",
     "text": [
      "MultiIndex([('A', 'A'),\n",
      "            ('G', 'O')],\n",
      "           names=['date', 'symbol'])\n"
     ]
    }
   ],
   "source": [
    "import numpy as np\n",
    "import pandas as pd\n",
    "\n",
    "# 创建示例数据\n",
    "dates = pd.date_range(\"2022-01-01\", \"2022-01-20\")\n",
    "symbols = [\"AAPL\", \"GOOG\"]\n",
    "index = pd.MultiIndex.from_product([dates, symbols], names=[\"date\", \"symbol\"])\n",
    "data = np.random.randn(len(index), 1)\n",
    "df = pd.DataFrame(data, index=index, columns=[\"close\"])\n",
    "\n",
    "# 计算 last 10 天的 close 数据的统计信息\n",
    "\n",
    "\n",
    "def last_10_days_stats(x):\n",
    "    last_10_days = x.iloc[-10:-1]\n",
    "    return pd.Series({\n",
    "        \"mean\": last_10_days.mean(),\n",
    "        \"std\": last_10_days.std(),\n",
    "        \"max\": last_10_days.max(),\n",
    "        \"min\": last_10_days.min()\n",
    "    })\n",
    "\n",
    "\n",
    "# 按 symbol 进行分组，计算 last 10 天的统计信息\n",
    "df_grouped = df.groupby(\"symbol\")\n",
    "df_stats = df_grouped.apply(last_10_days_stats)\n",
    "df_stats.columns = pd.MultiIndex.from_product(\n",
    "    [[\"last_10_days\"], df_stats.columns])  # 重命名列\n",
    "\n",
    "# 合并统计信息和原始数据\n",
    "df_merged = pd.concat([df, df_stats], axis=1)\n",
    "\n",
    "# 重命名最后一层的列名\n",
    "df_merged.columns = pd.MultiIndex.from_tuples(\n",
    "    [(t[0], t[1] if t[1] != \"close\" else \"raw_data\") for t in df_merged.columns])\n",
    "\n",
    "df_merged.index = df_merged.index.rename([\"date\", \"symbol\"])\n",
    "# 打印结果\n",
    "print(df_merged.index[-2:])"
   ]
  },
  {
   "cell_type": "code",
   "execution_count": 83,
   "metadata": {
    "execution": {
     "iopub.execute_input": "2023-02-20T08:35:55.027675Z",
     "iopub.status.busy": "2023-02-20T08:35:55.026678Z",
     "iopub.status.idle": "2023-02-20T08:35:55.058592Z",
     "shell.execute_reply": "2023-02-20T08:35:55.058592Z",
     "shell.execute_reply.started": "2023-02-20T08:35:55.027675Z"
    },
    "tags": []
   },
   "outputs": [
    {
     "data": {
      "text/html": [
       "<div>\n",
       "<style scoped>\n",
       "    .dataframe tbody tr th:only-of-type {\n",
       "        vertical-align: middle;\n",
       "    }\n",
       "\n",
       "    .dataframe tbody tr th {\n",
       "        vertical-align: top;\n",
       "    }\n",
       "\n",
       "    .dataframe thead tr th {\n",
       "        text-align: left;\n",
       "    }\n",
       "\n",
       "    .dataframe thead tr:last-of-type th {\n",
       "        text-align: right;\n",
       "    }\n",
       "</style>\n",
       "<table border=\"1\" class=\"dataframe\">\n",
       "  <thead>\n",
       "    <tr>\n",
       "      <th></th>\n",
       "      <th></th>\n",
       "      <th>c</th>\n",
       "      <th colspan=\"4\" halign=\"left\">last_10_days</th>\n",
       "    </tr>\n",
       "    <tr>\n",
       "      <th></th>\n",
       "      <th></th>\n",
       "      <th>l</th>\n",
       "      <th>mean</th>\n",
       "      <th>std</th>\n",
       "      <th>max</th>\n",
       "      <th>min</th>\n",
       "    </tr>\n",
       "    <tr>\n",
       "      <th>symbol</th>\n",
       "      <th>date</th>\n",
       "      <th></th>\n",
       "      <th></th>\n",
       "      <th></th>\n",
       "      <th></th>\n",
       "      <th></th>\n",
       "    </tr>\n",
       "  </thead>\n",
       "  <tbody>\n",
       "    <tr>\n",
       "      <th>AAPL</th>\n",
       "      <th>2022-01-01 00:00:00</th>\n",
       "      <td>0.613259</td>\n",
       "      <td>NaN</td>\n",
       "      <td>NaN</td>\n",
       "      <td>NaN</td>\n",
       "      <td>NaN</td>\n",
       "    </tr>\n",
       "    <tr>\n",
       "      <th>GOOG</th>\n",
       "      <th>2022-01-01 00:00:00</th>\n",
       "      <td>0.516983</td>\n",
       "      <td>NaN</td>\n",
       "      <td>NaN</td>\n",
       "      <td>NaN</td>\n",
       "      <td>NaN</td>\n",
       "    </tr>\n",
       "    <tr>\n",
       "      <th>AAPL</th>\n",
       "      <th>2022-01-02 00:00:00</th>\n",
       "      <td>0.372147</td>\n",
       "      <td>NaN</td>\n",
       "      <td>NaN</td>\n",
       "      <td>NaN</td>\n",
       "      <td>NaN</td>\n",
       "    </tr>\n",
       "    <tr>\n",
       "      <th>GOOG</th>\n",
       "      <th>2022-01-02 00:00:00</th>\n",
       "      <td>1.498249</td>\n",
       "      <td>NaN</td>\n",
       "      <td>NaN</td>\n",
       "      <td>NaN</td>\n",
       "      <td>NaN</td>\n",
       "    </tr>\n",
       "    <tr>\n",
       "      <th>AAPL</th>\n",
       "      <th>2022-01-03 00:00:00</th>\n",
       "      <td>0.589313</td>\n",
       "      <td>NaN</td>\n",
       "      <td>NaN</td>\n",
       "      <td>NaN</td>\n",
       "      <td>NaN</td>\n",
       "    </tr>\n",
       "    <tr>\n",
       "      <th>GOOG</th>\n",
       "      <th>2022-01-03 00:00:00</th>\n",
       "      <td>0.123421</td>\n",
       "      <td>NaN</td>\n",
       "      <td>NaN</td>\n",
       "      <td>NaN</td>\n",
       "      <td>NaN</td>\n",
       "    </tr>\n",
       "    <tr>\n",
       "      <th>AAPL</th>\n",
       "      <th>2022-01-04 00:00:00</th>\n",
       "      <td>0.990085</td>\n",
       "      <td>NaN</td>\n",
       "      <td>NaN</td>\n",
       "      <td>NaN</td>\n",
       "      <td>NaN</td>\n",
       "    </tr>\n",
       "    <tr>\n",
       "      <th>GOOG</th>\n",
       "      <th>2022-01-04 00:00:00</th>\n",
       "      <td>-0.100646</td>\n",
       "      <td>NaN</td>\n",
       "      <td>NaN</td>\n",
       "      <td>NaN</td>\n",
       "      <td>NaN</td>\n",
       "    </tr>\n",
       "    <tr>\n",
       "      <th>AAPL</th>\n",
       "      <th>2022-01-05 00:00:00</th>\n",
       "      <td>-1.878037</td>\n",
       "      <td>NaN</td>\n",
       "      <td>NaN</td>\n",
       "      <td>NaN</td>\n",
       "      <td>NaN</td>\n",
       "    </tr>\n",
       "    <tr>\n",
       "      <th>GOOG</th>\n",
       "      <th>2022-01-05 00:00:00</th>\n",
       "      <td>0.134636</td>\n",
       "      <td>NaN</td>\n",
       "      <td>NaN</td>\n",
       "      <td>NaN</td>\n",
       "      <td>NaN</td>\n",
       "    </tr>\n",
       "    <tr>\n",
       "      <th>AAPL</th>\n",
       "      <th>2022-01-06 00:00:00</th>\n",
       "      <td>-0.327897</td>\n",
       "      <td>NaN</td>\n",
       "      <td>NaN</td>\n",
       "      <td>NaN</td>\n",
       "      <td>NaN</td>\n",
       "    </tr>\n",
       "    <tr>\n",
       "      <th>GOOG</th>\n",
       "      <th>2022-01-06 00:00:00</th>\n",
       "      <td>0.073190</td>\n",
       "      <td>NaN</td>\n",
       "      <td>NaN</td>\n",
       "      <td>NaN</td>\n",
       "      <td>NaN</td>\n",
       "    </tr>\n",
       "    <tr>\n",
       "      <th>AAPL</th>\n",
       "      <th>2022-01-07 00:00:00</th>\n",
       "      <td>-0.093530</td>\n",
       "      <td>NaN</td>\n",
       "      <td>NaN</td>\n",
       "      <td>NaN</td>\n",
       "      <td>NaN</td>\n",
       "    </tr>\n",
       "    <tr>\n",
       "      <th>GOOG</th>\n",
       "      <th>2022-01-07 00:00:00</th>\n",
       "      <td>2.148563</td>\n",
       "      <td>NaN</td>\n",
       "      <td>NaN</td>\n",
       "      <td>NaN</td>\n",
       "      <td>NaN</td>\n",
       "    </tr>\n",
       "    <tr>\n",
       "      <th>AAPL</th>\n",
       "      <th>2022-01-08 00:00:00</th>\n",
       "      <td>0.155540</td>\n",
       "      <td>NaN</td>\n",
       "      <td>NaN</td>\n",
       "      <td>NaN</td>\n",
       "      <td>NaN</td>\n",
       "    </tr>\n",
       "    <tr>\n",
       "      <th>GOOG</th>\n",
       "      <th>2022-01-08 00:00:00</th>\n",
       "      <td>-1.205108</td>\n",
       "      <td>NaN</td>\n",
       "      <td>NaN</td>\n",
       "      <td>NaN</td>\n",
       "      <td>NaN</td>\n",
       "    </tr>\n",
       "    <tr>\n",
       "      <th>AAPL</th>\n",
       "      <th>2022-01-09 00:00:00</th>\n",
       "      <td>-0.682814</td>\n",
       "      <td>NaN</td>\n",
       "      <td>NaN</td>\n",
       "      <td>NaN</td>\n",
       "      <td>NaN</td>\n",
       "    </tr>\n",
       "    <tr>\n",
       "      <th>GOOG</th>\n",
       "      <th>2022-01-09 00:00:00</th>\n",
       "      <td>0.431274</td>\n",
       "      <td>NaN</td>\n",
       "      <td>NaN</td>\n",
       "      <td>NaN</td>\n",
       "      <td>NaN</td>\n",
       "    </tr>\n",
       "    <tr>\n",
       "      <th>AAPL</th>\n",
       "      <th>2022-01-10 00:00:00</th>\n",
       "      <td>-0.571911</td>\n",
       "      <td>NaN</td>\n",
       "      <td>NaN</td>\n",
       "      <td>NaN</td>\n",
       "      <td>NaN</td>\n",
       "    </tr>\n",
       "    <tr>\n",
       "      <th>GOOG</th>\n",
       "      <th>2022-01-10 00:00:00</th>\n",
       "      <td>0.077296</td>\n",
       "      <td>NaN</td>\n",
       "      <td>NaN</td>\n",
       "      <td>NaN</td>\n",
       "      <td>NaN</td>\n",
       "    </tr>\n",
       "    <tr>\n",
       "      <th>AAPL</th>\n",
       "      <th>2022-01-11 00:00:00</th>\n",
       "      <td>1.952414</td>\n",
       "      <td>NaN</td>\n",
       "      <td>NaN</td>\n",
       "      <td>NaN</td>\n",
       "      <td>NaN</td>\n",
       "    </tr>\n",
       "    <tr>\n",
       "      <th>GOOG</th>\n",
       "      <th>2022-01-11 00:00:00</th>\n",
       "      <td>0.944074</td>\n",
       "      <td>NaN</td>\n",
       "      <td>NaN</td>\n",
       "      <td>NaN</td>\n",
       "      <td>NaN</td>\n",
       "    </tr>\n",
       "    <tr>\n",
       "      <th>AAPL</th>\n",
       "      <th>2022-01-12 00:00:00</th>\n",
       "      <td>0.333684</td>\n",
       "      <td>NaN</td>\n",
       "      <td>NaN</td>\n",
       "      <td>NaN</td>\n",
       "      <td>NaN</td>\n",
       "    </tr>\n",
       "    <tr>\n",
       "      <th>GOOG</th>\n",
       "      <th>2022-01-12 00:00:00</th>\n",
       "      <td>0.438217</td>\n",
       "      <td>NaN</td>\n",
       "      <td>NaN</td>\n",
       "      <td>NaN</td>\n",
       "      <td>NaN</td>\n",
       "    </tr>\n",
       "    <tr>\n",
       "      <th>AAPL</th>\n",
       "      <th>2022-01-13 00:00:00</th>\n",
       "      <td>-1.618139</td>\n",
       "      <td>NaN</td>\n",
       "      <td>NaN</td>\n",
       "      <td>NaN</td>\n",
       "      <td>NaN</td>\n",
       "    </tr>\n",
       "    <tr>\n",
       "      <th>GOOG</th>\n",
       "      <th>2022-01-13 00:00:00</th>\n",
       "      <td>1.158494</td>\n",
       "      <td>NaN</td>\n",
       "      <td>NaN</td>\n",
       "      <td>NaN</td>\n",
       "      <td>NaN</td>\n",
       "    </tr>\n",
       "    <tr>\n",
       "      <th>AAPL</th>\n",
       "      <th>2022-01-14 00:00:00</th>\n",
       "      <td>0.991937</td>\n",
       "      <td>NaN</td>\n",
       "      <td>NaN</td>\n",
       "      <td>NaN</td>\n",
       "      <td>NaN</td>\n",
       "    </tr>\n",
       "    <tr>\n",
       "      <th>GOOG</th>\n",
       "      <th>2022-01-14 00:00:00</th>\n",
       "      <td>-1.274382</td>\n",
       "      <td>NaN</td>\n",
       "      <td>NaN</td>\n",
       "      <td>NaN</td>\n",
       "      <td>NaN</td>\n",
       "    </tr>\n",
       "    <tr>\n",
       "      <th>AAPL</th>\n",
       "      <th>2022-01-15 00:00:00</th>\n",
       "      <td>0.343689</td>\n",
       "      <td>NaN</td>\n",
       "      <td>NaN</td>\n",
       "      <td>NaN</td>\n",
       "      <td>NaN</td>\n",
       "    </tr>\n",
       "    <tr>\n",
       "      <th>GOOG</th>\n",
       "      <th>2022-01-15 00:00:00</th>\n",
       "      <td>-1.673685</td>\n",
       "      <td>NaN</td>\n",
       "      <td>NaN</td>\n",
       "      <td>NaN</td>\n",
       "      <td>NaN</td>\n",
       "    </tr>\n",
       "    <tr>\n",
       "      <th>AAPL</th>\n",
       "      <th>2022-01-16 00:00:00</th>\n",
       "      <td>1.043965</td>\n",
       "      <td>NaN</td>\n",
       "      <td>NaN</td>\n",
       "      <td>NaN</td>\n",
       "      <td>NaN</td>\n",
       "    </tr>\n",
       "    <tr>\n",
       "      <th>GOOG</th>\n",
       "      <th>2022-01-16 00:00:00</th>\n",
       "      <td>0.330685</td>\n",
       "      <td>NaN</td>\n",
       "      <td>NaN</td>\n",
       "      <td>NaN</td>\n",
       "      <td>NaN</td>\n",
       "    </tr>\n",
       "    <tr>\n",
       "      <th>AAPL</th>\n",
       "      <th>2022-01-17 00:00:00</th>\n",
       "      <td>0.812513</td>\n",
       "      <td>NaN</td>\n",
       "      <td>NaN</td>\n",
       "      <td>NaN</td>\n",
       "      <td>NaN</td>\n",
       "    </tr>\n",
       "    <tr>\n",
       "      <th>GOOG</th>\n",
       "      <th>2022-01-17 00:00:00</th>\n",
       "      <td>-0.049729</td>\n",
       "      <td>NaN</td>\n",
       "      <td>NaN</td>\n",
       "      <td>NaN</td>\n",
       "      <td>NaN</td>\n",
       "    </tr>\n",
       "    <tr>\n",
       "      <th>AAPL</th>\n",
       "      <th>2022-01-18 00:00:00</th>\n",
       "      <td>1.255885</td>\n",
       "      <td>NaN</td>\n",
       "      <td>NaN</td>\n",
       "      <td>NaN</td>\n",
       "      <td>NaN</td>\n",
       "    </tr>\n",
       "    <tr>\n",
       "      <th>GOOG</th>\n",
       "      <th>2022-01-18 00:00:00</th>\n",
       "      <td>-1.350050</td>\n",
       "      <td>NaN</td>\n",
       "      <td>NaN</td>\n",
       "      <td>NaN</td>\n",
       "      <td>NaN</td>\n",
       "    </tr>\n",
       "    <tr>\n",
       "      <th>AAPL</th>\n",
       "      <th>2022-01-19 00:00:00</th>\n",
       "      <td>1.687019</td>\n",
       "      <td>NaN</td>\n",
       "      <td>NaN</td>\n",
       "      <td>NaN</td>\n",
       "      <td>NaN</td>\n",
       "    </tr>\n",
       "    <tr>\n",
       "      <th>GOOG</th>\n",
       "      <th>2022-01-19 00:00:00</th>\n",
       "      <td>-0.056667</td>\n",
       "      <td>NaN</td>\n",
       "      <td>NaN</td>\n",
       "      <td>NaN</td>\n",
       "      <td>NaN</td>\n",
       "    </tr>\n",
       "    <tr>\n",
       "      <th>AAPL</th>\n",
       "      <th>2022-01-20 00:00:00</th>\n",
       "      <td>1.185144</td>\n",
       "      <td>NaN</td>\n",
       "      <td>NaN</td>\n",
       "      <td>NaN</td>\n",
       "      <td>NaN</td>\n",
       "    </tr>\n",
       "    <tr>\n",
       "      <th>GOOG</th>\n",
       "      <th>2022-01-20 00:00:00</th>\n",
       "      <td>-1.813818</td>\n",
       "      <td>NaN</td>\n",
       "      <td>NaN</td>\n",
       "      <td>NaN</td>\n",
       "      <td>NaN</td>\n",
       "    </tr>\n",
       "    <tr>\n",
       "      <th>A</th>\n",
       "      <th>A</th>\n",
       "      <td>NaN</td>\n",
       "      <td>NaN</td>\n",
       "      <td>NaN</td>\n",
       "      <td>NaN</td>\n",
       "      <td>NaN</td>\n",
       "    </tr>\n",
       "    <tr>\n",
       "      <th>O</th>\n",
       "      <th>G</th>\n",
       "      <td>NaN</td>\n",
       "      <td>NaN</td>\n",
       "      <td>NaN</td>\n",
       "      <td>NaN</td>\n",
       "      <td>NaN</td>\n",
       "    </tr>\n",
       "  </tbody>\n",
       "</table>\n",
       "</div>"
      ],
      "text/plain": [
       "                                   c last_10_days               \n",
       "                                   l         mean  std  max  min\n",
       "symbol date                                                     \n",
       "AAPL   2022-01-01 00:00:00  0.613259          NaN  NaN  NaN  NaN\n",
       "GOOG   2022-01-01 00:00:00  0.516983          NaN  NaN  NaN  NaN\n",
       "AAPL   2022-01-02 00:00:00  0.372147          NaN  NaN  NaN  NaN\n",
       "GOOG   2022-01-02 00:00:00  1.498249          NaN  NaN  NaN  NaN\n",
       "AAPL   2022-01-03 00:00:00  0.589313          NaN  NaN  NaN  NaN\n",
       "GOOG   2022-01-03 00:00:00  0.123421          NaN  NaN  NaN  NaN\n",
       "AAPL   2022-01-04 00:00:00  0.990085          NaN  NaN  NaN  NaN\n",
       "GOOG   2022-01-04 00:00:00 -0.100646          NaN  NaN  NaN  NaN\n",
       "AAPL   2022-01-05 00:00:00 -1.878037          NaN  NaN  NaN  NaN\n",
       "GOOG   2022-01-05 00:00:00  0.134636          NaN  NaN  NaN  NaN\n",
       "AAPL   2022-01-06 00:00:00 -0.327897          NaN  NaN  NaN  NaN\n",
       "GOOG   2022-01-06 00:00:00  0.073190          NaN  NaN  NaN  NaN\n",
       "AAPL   2022-01-07 00:00:00 -0.093530          NaN  NaN  NaN  NaN\n",
       "GOOG   2022-01-07 00:00:00  2.148563          NaN  NaN  NaN  NaN\n",
       "AAPL   2022-01-08 00:00:00  0.155540          NaN  NaN  NaN  NaN\n",
       "GOOG   2022-01-08 00:00:00 -1.205108          NaN  NaN  NaN  NaN\n",
       "AAPL   2022-01-09 00:00:00 -0.682814          NaN  NaN  NaN  NaN\n",
       "GOOG   2022-01-09 00:00:00  0.431274          NaN  NaN  NaN  NaN\n",
       "AAPL   2022-01-10 00:00:00 -0.571911          NaN  NaN  NaN  NaN\n",
       "GOOG   2022-01-10 00:00:00  0.077296          NaN  NaN  NaN  NaN\n",
       "AAPL   2022-01-11 00:00:00  1.952414          NaN  NaN  NaN  NaN\n",
       "GOOG   2022-01-11 00:00:00  0.944074          NaN  NaN  NaN  NaN\n",
       "AAPL   2022-01-12 00:00:00  0.333684          NaN  NaN  NaN  NaN\n",
       "GOOG   2022-01-12 00:00:00  0.438217          NaN  NaN  NaN  NaN\n",
       "AAPL   2022-01-13 00:00:00 -1.618139          NaN  NaN  NaN  NaN\n",
       "GOOG   2022-01-13 00:00:00  1.158494          NaN  NaN  NaN  NaN\n",
       "AAPL   2022-01-14 00:00:00  0.991937          NaN  NaN  NaN  NaN\n",
       "GOOG   2022-01-14 00:00:00 -1.274382          NaN  NaN  NaN  NaN\n",
       "AAPL   2022-01-15 00:00:00  0.343689          NaN  NaN  NaN  NaN\n",
       "GOOG   2022-01-15 00:00:00 -1.673685          NaN  NaN  NaN  NaN\n",
       "AAPL   2022-01-16 00:00:00  1.043965          NaN  NaN  NaN  NaN\n",
       "GOOG   2022-01-16 00:00:00  0.330685          NaN  NaN  NaN  NaN\n",
       "AAPL   2022-01-17 00:00:00  0.812513          NaN  NaN  NaN  NaN\n",
       "GOOG   2022-01-17 00:00:00 -0.049729          NaN  NaN  NaN  NaN\n",
       "AAPL   2022-01-18 00:00:00  1.255885          NaN  NaN  NaN  NaN\n",
       "GOOG   2022-01-18 00:00:00 -1.350050          NaN  NaN  NaN  NaN\n",
       "AAPL   2022-01-19 00:00:00  1.687019          NaN  NaN  NaN  NaN\n",
       "GOOG   2022-01-19 00:00:00 -0.056667          NaN  NaN  NaN  NaN\n",
       "AAPL   2022-01-20 00:00:00  1.185144          NaN  NaN  NaN  NaN\n",
       "GOOG   2022-01-20 00:00:00 -1.813818          NaN  NaN  NaN  NaN\n",
       "A      A                         NaN          NaN  NaN  NaN  NaN\n",
       "O      G                         NaN          NaN  NaN  NaN  NaN"
      ]
     },
     "execution_count": 83,
     "metadata": {},
     "output_type": "execute_result"
    }
   ],
   "source": [
    "df_merged.reset_index().set_index(['symbol', 'date'])"
   ]
  },
  {
   "cell_type": "code",
   "execution_count": null,
   "metadata": {},
   "outputs": [],
   "source": [
    "# 读取同花顺"
   ]
  },
  {
   "cell_type": "code",
   "execution_count": 14,
   "metadata": {
    "execution": {
     "iopub.execute_input": "2023-12-21T14:36:36.058896Z",
     "iopub.status.busy": "2023-12-21T14:36:36.058896Z",
     "iopub.status.idle": "2023-12-21T14:36:36.314092Z",
     "shell.execute_reply": "2023-12-21T14:36:36.313515Z",
     "shell.execute_reply.started": "2023-12-21T14:36:36.058896Z"
    },
    "tags": []
   },
   "outputs": [],
   "source": [
    "# encoding:utf-8\n",
    "from IPython.core.interactiveshell import InteractiveShell\n",
    "\n",
    "InteractiveShell.ast_node_interactivity = \"all\"\n",
    "# InteractiveShell.ast_node_interactivity = \"last_expr\"\n",
    "\n",
    "import pandas as pd\n",
    "\n",
    "fpath = r'../JohnsonUtil\\wencai\\同花顺板块行业.xls'\n",
    "df = pd.read_excel(fpath)"
   ]
  },
  {
   "cell_type": "code",
   "execution_count": 15,
   "metadata": {
    "execution": {
     "iopub.execute_input": "2023-12-21T14:36:39.209893Z",
     "iopub.status.busy": "2023-12-21T14:36:39.208895Z",
     "iopub.status.idle": "2023-12-21T14:36:39.234047Z",
     "shell.execute_reply": "2023-12-21T14:36:39.234047Z",
     "shell.execute_reply.started": "2023-12-21T14:36:39.208895Z"
    },
    "tags": []
   },
   "outputs": [
    {
     "data": {
      "text/html": [
       "<div>\n",
       "<style scoped>\n",
       "    .dataframe tbody tr th:only-of-type {\n",
       "        vertical-align: middle;\n",
       "    }\n",
       "\n",
       "    .dataframe tbody tr th {\n",
       "        vertical-align: top;\n",
       "    }\n",
       "\n",
       "    .dataframe thead th {\n",
       "        text-align: right;\n",
       "    }\n",
       "</style>\n",
       "<table border=\"1\" class=\"dataframe\">\n",
       "  <thead>\n",
       "    <tr style=\"text-align: right;\">\n",
       "      <th></th>\n",
       "      <th>股票代码</th>\n",
       "      <th>股票简称</th>\n",
       "      <th>现价(元)</th>\n",
       "      <th>涨跌幅(%)</th>\n",
       "      <th>主营产品名称</th>\n",
       "      <th>所属概念</th>\n",
       "      <th>所属同花顺行业</th>\n",
       "      <th>经营范围</th>\n",
       "      <th>公司网站</th>\n",
       "      <th>所属概念数量(个)</th>\n",
       "      <th>a股流通市值 (元)2023.01.31</th>\n",
       "    </tr>\n",
       "  </thead>\n",
       "  <tbody>\n",
       "    <tr>\n",
       "      <th>0</th>\n",
       "      <td>605128.SH</td>\n",
       "      <td>上海沿浦</td>\n",
       "      <td>54.99</td>\n",
       "      <td>-0.92</td>\n",
       "      <td>座椅骨架总成||座椅滑轨||座椅骨架配件||锁闭系统配件||安全系统零件||注塑零部件||模...</td>\n",
       "      <td>高铁;新能源汽车</td>\n",
       "      <td>交运设备-汽车零部件-汽车零部件Ⅲ</td>\n",
       "      <td>电动座椅骨架总成、汽车座椅骨架及总成、汽车零部件、五金冲压件、钣金件、模具的加工、生产及销售...</td>\n",
       "      <td>www.shyanpu.com</td>\n",
       "      <td>2</td>\n",
       "      <td>2293632900</td>\n",
       "    </tr>\n",
       "  </tbody>\n",
       "</table>\n",
       "</div>"
      ],
      "text/plain": [
       "        股票代码  股票简称  现价(元) 涨跌幅(%)  \\\n",
       "0  605128.SH  上海沿浦  54.99  -0.92   \n",
       "\n",
       "                                              主营产品名称      所属概念  \\\n",
       "0  座椅骨架总成||座椅滑轨||座椅骨架配件||锁闭系统配件||安全系统零件||注塑零部件||模...  高铁;新能源汽车   \n",
       "\n",
       "             所属同花顺行业                                               经营范围  \\\n",
       "0  交运设备-汽车零部件-汽车零部件Ⅲ  电动座椅骨架总成、汽车座椅骨架及总成、汽车零部件、五金冲压件、钣金件、模具的加工、生产及销售...   \n",
       "\n",
       "              公司网站  所属概念数量(个) a股流通市值 (元)2023.01.31  \n",
       "0  www.shyanpu.com          2           2293632900  "
      ]
     },
     "execution_count": 15,
     "metadata": {},
     "output_type": "execute_result"
    },
    {
     "data": {
      "text/plain": [
       "(5091, 11)"
      ]
     },
     "execution_count": 15,
     "metadata": {},
     "output_type": "execute_result"
    },
    {
     "data": {
      "text/plain": [
       "Index(['股票代码', '股票简称', '现价(元)', '涨跌幅(%)', '主营产品名称', '所属概念', '所属同花顺行业', '经营范围',\n",
       "       '公司网站', '所属概念数量(个)', 'a股流通市值 (元)2023.01.31'],\n",
       "      dtype='object')"
      ]
     },
     "execution_count": 15,
     "metadata": {},
     "output_type": "execute_result"
    }
   ],
   "source": [
    "df[:1]\n",
    "df.shape\n",
    "df.columns"
   ]
  },
  {
   "cell_type": "code",
   "execution_count": 45,
   "metadata": {
    "execution": {
     "iopub.execute_input": "2023-12-21T14:55:42.761159Z",
     "iopub.status.busy": "2023-12-21T14:55:42.761159Z",
     "iopub.status.idle": "2023-12-21T14:55:42.783497Z",
     "shell.execute_reply": "2023-12-21T14:55:42.783497Z",
     "shell.execute_reply.started": "2023-12-21T14:55:42.761159Z"
    },
    "tags": []
   },
   "outputs": [
    {
     "data": {
      "text/html": [
       "<div>\n",
       "<style scoped>\n",
       "    .dataframe tbody tr th:only-of-type {\n",
       "        vertical-align: middle;\n",
       "    }\n",
       "\n",
       "    .dataframe tbody tr th {\n",
       "        vertical-align: top;\n",
       "    }\n",
       "\n",
       "    .dataframe thead th {\n",
       "        text-align: right;\n",
       "    }\n",
       "</style>\n",
       "<table border=\"1\" class=\"dataframe\">\n",
       "  <thead>\n",
       "    <tr style=\"text-align: right;\">\n",
       "      <th></th>\n",
       "      <th>股票简称</th>\n",
       "      <th>现价(元)</th>\n",
       "      <th>主营产品名称</th>\n",
       "      <th>所属概念</th>\n",
       "      <th>所属同花顺行业</th>\n",
       "      <th>经营范围</th>\n",
       "      <th>公司网站</th>\n",
       "      <th>所属概念数量(个)</th>\n",
       "    </tr>\n",
       "    <tr>\n",
       "      <th>股票代码</th>\n",
       "      <th></th>\n",
       "      <th></th>\n",
       "      <th></th>\n",
       "      <th></th>\n",
       "      <th></th>\n",
       "      <th></th>\n",
       "      <th></th>\n",
       "      <th></th>\n",
       "    </tr>\n",
       "  </thead>\n",
       "  <tbody>\n",
       "    <tr>\n",
       "      <th>603608.SH</th>\n",
       "      <td>天创时尚</td>\n",
       "      <td>4.35</td>\n",
       "      <td>鞋||包||互联网数字营销</td>\n",
       "      <td>电子商务;广告营销;文化传媒;新零售;网红经济;C2M概念;工业机器人;机器人概念;抖音概念</td>\n",
       "      <td>纺织服装-服装家纺-鞋帽及其他</td>\n",
       "      <td>主营项目类别：皮革、毛皮、羽毛及其制品和制鞋业；一般经营项目：皮鞋制造；皮革服装制造；皮箱、...</td>\n",
       "      <td>www.topscore.com.cn</td>\n",
       "      <td>9</td>\n",
       "    </tr>\n",
       "  </tbody>\n",
       "</table>\n",
       "</div>"
      ],
      "text/plain": [
       "           股票简称 现价(元)         主营产品名称  \\\n",
       "股票代码                                   \n",
       "603608.SH  天创时尚  4.35  鞋||包||互联网数字营销   \n",
       "\n",
       "                                                     所属概念          所属同花顺行业  \\\n",
       "股票代码                                                                         \n",
       "603608.SH  电子商务;广告营销;文化传媒;新零售;网红经济;C2M概念;工业机器人;机器人概念;抖音概念  纺织服装-服装家纺-鞋帽及其他   \n",
       "\n",
       "                                                        经营范围  \\\n",
       "股票代码                                                           \n",
       "603608.SH  主营项目类别：皮革、毛皮、羽毛及其制品和制鞋业；一般经营项目：皮鞋制造；皮革服装制造；皮箱、...   \n",
       "\n",
       "                          公司网站  所属概念数量(个)  \n",
       "股票代码                                       \n",
       "603608.SH  www.topscore.com.cn          9  "
      ]
     },
     "execution_count": 45,
     "metadata": {},
     "output_type": "execute_result"
    }
   ],
   "source": [
    "df = df.reset_index().set_index('股票代码')\n",
    "# df[df['股票代码'] == '603608.SH'].iloc[:,[0,1,2,3,4,5,6,7,8,9]]\n",
    "# df.iloc[10] = df.iloc[10]/ 1000/1000/1000\n",
    "df[df.index == '603608.SH'].iloc[:,[1,2,4,5,6,7,8,9]]"
   ]
  },
  {
   "cell_type": "code",
   "execution_count": 1,
   "metadata": {
    "ExecuteTime": {
     "end_time": "2023-01-15T10:37:42.183000Z",
     "start_time": "2023-01-15T10:37:40.534000Z"
    },
    "collapsed": false,
    "execution": {
     "iopub.execute_input": "2023-01-16T16:26:07.117000+08:00",
     "iopub.status.busy": "2023-01-16T16:26:07.117000+08:00",
     "iopub.status.idle": "2023-01-16T16:26:08.860000+08:00",
     "shell.execute_reply": "2023-01-16T16:26:08.859000+08:00",
     "shell.execute_reply.started": "2023-01-16T16:26:07.117000"
    },
    "jupyter": {
     "outputs_hidden": false
    }
   },
   "outputs": [
    {
     "name": "stderr",
     "output_type": "stream",
     "text": [
      "ERROR:root:error:C:\\Users\\Johnson\\Anaconda2\\lib\\site-packages\\ipykernel cwd:D:\\MacTools\\WorkFile\\WorkSpace\\pyQuant\\tdx_all_df_300.h5\n",
      "[2023-01-16 16:26:08,065] ERROR:commonTips.py(get_run_path_tdx:126): error:C:\\Users\\Johnson\\Anaconda2\\lib\\site-packages\\ipykernel cwd:D:\\MacTools\\WorkFile\\WorkSpace\\pyQuant\\tdx_all_df_300.h5\n"
     ]
    },
    {
     "name": "stdout",
     "output_type": "stream",
     "text": [
      "              code     open     high      low    close        vol  \\\n",
      "date                                                                \n",
      "2023-01-16  999999  3198.52  3251.37  3197.32  3227.59  306749549   \n",
      "2023-01-13  999999  3170.35  3195.31  3167.51  3195.31  220226897   \n",
      "2023-01-12  999999  3167.27  3171.59  3153.40  3163.45  216671305   \n",
      "2023-01-11  999999  3172.38  3184.76  3160.89  3161.84  237742869   \n",
      "2023-01-10  999999  3178.02  3178.16  3165.14  3169.51  232984175   \n",
      "\n",
      "                  amount     ma5d  ma10d  ma20d    ...      top10     ma5dcum  \\\n",
      "date                                               ...                          \n",
      "2023-01-16  4.132196e+11  3183.54      0      0    ...          0  353.726667   \n",
      "2023-01-13  2.880625e+11     0.00      0      0    ...          0  353.726667   \n",
      "2023-01-12  2.753718e+11     0.00      0      0    ...          0  353.726667   \n",
      "2023-01-11  3.092489e+11     0.00      0      0    ...          0  353.726667   \n",
      "2023-01-10  3.103577e+11     0.00      0      0    ...          0  353.726667   \n",
      "\n",
      "            ra  hmax     max5    lmin    min5    cmean         hv         lv  \n",
      "date                                                                          \n",
      "2023-01-16   0     0  3195.31  3153.4  3153.4  3172.53  237742869  216671305  \n",
      "2023-01-13   0     0  3195.31  3153.4  3153.4  3172.53  237742869  216671305  \n",
      "2023-01-12   0     0  3195.31  3153.4  3153.4  3172.53  237742869  216671305  \n",
      "2023-01-11   0     0  3195.31  3153.4  3153.4  3172.53  237742869  216671305  \n",
      "2023-01-10   0     0  3195.31  3153.4  3153.4  3172.53  237742869  216671305  \n",
      "\n",
      "[5 rows x 79 columns]\n"
     ]
    },
    {
     "name": "stderr",
     "output_type": "stream",
     "text": [
      "ERROR:root:error:C:\\Users\\Johnson\\Anaconda2\\lib\\site-packages\\ipykernel cwd:D:\\MacTools\\WorkFile\\WorkSpace\\pyQuant\\tdx_all_df_300.h5\n",
      "[2023-01-16 16:26:20,865] ERROR:commonTips.py(get_run_path_tdx:126): error:C:\\Users\\Johnson\\Anaconda2\\lib\\site-packages\\ipykernel cwd:D:\\MacTools\\WorkFile\\WorkSpace\\pyQuant\\tdx_all_df_300.h5\n",
      "ERROR:root:col is None\n",
      "[2023-01-16 16:26:23,181] ERROR:commonTips.py(get_limit_multiIndex_Row:2541): col is None\n"
     ]
    }
   ],
   "source": [
    "# %%debug\n",
    "# import pdb\n",
    "# from pdb import set_trace as bp\n",
    "\n",
    "import logging\n",
    "import sys\n",
    "\n",
    "stdout = sys.stdout\n",
    "sys.path.append('../')\n",
    "import JSONData.tdx_data_Day as tdd\n",
    "import pandas as pd\n",
    "from JSONData import sina_data\n",
    "\n",
    "sys.stdout = stdout\n",
    "\n",
    "from IPython.core.interactiveshell import InteractiveShell\n",
    "\n",
    "InteractiveShell.ast_node_interactivity = \"all\"\n",
    "\n",
    "# def excepthook(type,value,traceback):\n",
    "#     logging.error(\"Unhandled exception occured\",exc_info=(type,value,traceback))\n",
    "#     #Don't need another copy of traceback on stderr\n",
    "#     if old_excepthook!=sys.__excepthook__:\n",
    "#         old_excepthook(type,value,traceback)\n",
    "# print 'new:',sys.excepthook\n",
    "# sys.excepthook = excepthook\n",
    "# print 'new:',sys.excepthook\n",
    "\n",
    "# Delete Jupyter notebook root logger handler\n",
    "# mylogger = logging.getLogger()\n",
    "# if len(mylogger.handlers) > 0:\n",
    "#     for ix in mylogger.handlers:\n",
    "#         print (\"handlers:%s std:%s\"%(ix.stream,sys.stdout))\n",
    "# else:\n",
    "#     print \"nb not handlers\"\n",
    "# #     mylogger.propagate = False\n",
    "# mylogger.setLevel(logging.ERROR)\n",
    "# print \"nb:\",sys.stderr\n",
    "\n",
    "df = tdd.get_tdx_Exp_day_to_df('999999', dl=5)\n",
    "print(df[~df.index.duplicated(keep='first')])"
   ]
  },
  {
   "cell_type": "code",
   "execution_count": null,
   "metadata": {},
   "outputs": [],
   "source": []
  },
  {
   "cell_type": "code",
   "execution_count": null,
   "metadata": {},
   "outputs": [],
   "source": []
  },
  {
   "cell_type": "code",
   "execution_count": 3,
   "metadata": {
    "ExecuteTime": {
     "end_time": "2023-01-15T10:37:42.238000Z",
     "start_time": "2023-01-15T10:37:42.236000Z"
    },
    "collapsed": false,
    "jupyter": {
     "outputs_hidden": false
    }
   },
   "outputs": [],
   "source": [
    "# %debug"
   ]
  },
  {
   "cell_type": "code",
   "execution_count": 2,
   "metadata": {
    "ExecuteTime": {
     "end_time": "2023-01-15T10:37:45.666000Z",
     "start_time": "2023-01-15T10:37:43.268000Z"
    },
    "collapsed": false,
    "execution": {
     "iopub.execute_input": "2023-01-16T16:26:19.701000+08:00",
     "iopub.status.busy": "2023-01-16T16:26:19.701000+08:00",
     "iopub.status.idle": "2023-01-16T16:26:23.183000+08:00",
     "shell.execute_reply": "2023-01-16T16:26:23.183000+08:00",
     "shell.execute_reply.started": "2023-01-16T16:26:19.701000"
    },
    "jupyter": {
     "outputs_hidden": false
    }
   },
   "outputs": [
    {
     "name": "stdout",
     "output_type": "stream",
     "text": [
      "all code: 4949\n"
     ]
    }
   ],
   "source": [
    "import random\n",
    "import time\n",
    "\n",
    "# start='20110226'\n",
    "start = None\n",
    "time_s = time.time()\n",
    "# code_list = ['399006','000001','999999']\n",
    "code_list = sina_data.Sina().market('all').index.tolist()\n",
    "print \"all code:\", len(code_list)\n",
    "\n",
    "# df = tdd.search_Tdx_multi_data_duration('tdx_all_df_300', 'all_300', df=None,code_l=code_list, start=start,\n",
    "# end=None, freq=None, col=None, index='date')\n",
    "\n",
    "df = tdd.search_Tdx_multi_data_duration('tdx_all_df_300')\n",
    "# df = tdd.search_Tdx_multi_data_duration('tdx_all_df_300', 'all_300', df=None,code_l=code_list, start='20150501',\n",
    "# end=None, freq=None, col=None, index='date')\n",
    "# print len(df.loc['600816'])"
   ]
  },
  {
   "cell_type": "code",
   "execution_count": 3,
   "metadata": {
    "ExecuteTime": {
     "end_time": "2023-01-15T10:37:57.153000Z",
     "start_time": "2023-01-15T10:37:54.080000Z"
    },
    "collapsed": false,
    "execution": {
     "iopub.execute_input": "2023-01-16T16:26:30.222000+08:00",
     "iopub.status.busy": "2023-01-16T16:26:30.221000+08:00",
     "iopub.status.idle": "2023-01-16T16:26:33.359000+08:00",
     "shell.execute_reply": "2023-01-16T16:26:33.358000+08:00",
     "shell.execute_reply.started": "2023-01-16T16:26:30.222000"
    },
    "jupyter": {
     "outputs_hidden": false
    },
    "scrolled": true
   },
   "outputs": [
    {
     "data": {
      "text/plain": [
       "(10.63,\n",
       " (4584L,),\n",
       " '603897',\n",
       "              open   high    low  close      vol    amount\n",
       " date                                                     \n",
       " 2023-01-13  22.15  22.15  21.56  21.72  2695900  58658859\n",
       " 2023-01-16  21.67  22.31  21.56  22.08  3325611  73198068)"
      ]
     },
     "execution_count": 3,
     "metadata": {},
     "output_type": "execute_result"
    },
    {
     "name": "stdout",
     "output_type": "stream",
     "text": [
      "df: 4584 dfs: 4584\n"
     ]
    }
   ],
   "source": [
    "\n",
    "\n",
    "code_uniquelist = df.index.get_level_values('code').unique()\n",
    "code_select = code_uniquelist[random.randint(0, len(code_uniquelist) - 1)]\n",
    "round(time.time() - time_s, 2), df.index.get_level_values(\n",
    "    'code').unique().shape, code_select, df.loc[code_select][-2:]\n",
    "# df.groupby(level=[0]),df.index.get_level_values(0)\n",
    "# len(df.index.get_level_values('code').unique())\n",
    "df = df.drop_duplicates()\n",
    "# dfs = df[~df.index.duplicated(keep='first')]\n",
    "dfs = df\n",
    "# print 'new:',sys.excepthook\n",
    "print \"df:\", len(df.index.get_level_values('code').unique()), \"dfs:\", len(dfs.index.get_level_values('code').unique())"
   ]
  },
  {
   "cell_type": "code",
   "execution_count": 4,
   "metadata": {
    "execution": {
     "iopub.execute_input": "2023-01-16T16:30:44.651000+08:00",
     "iopub.status.busy": "2023-01-16T16:30:44.650000+08:00",
     "iopub.status.idle": "2023-01-16T16:30:44.772000+08:00",
     "shell.execute_reply": "2023-01-16T16:30:44.772000+08:00",
     "shell.execute_reply.started": "2023-01-16T16:30:44.651000"
    }
   },
   "outputs": [
    {
     "data": {
      "text/plain": [
       "((300, 105), date\n",
       " 2023-01-12    21.82440\n",
       " 2023-01-13    21.81312\n",
       " 2023-01-16    21.80780\n",
       " Name: ma120d, dtype: float64)"
      ]
     },
     "execution_count": 4,
     "metadata": {},
     "output_type": "execute_result"
    }
   ],
   "source": [
    "# tdd.get_tdx_Exp_day_to_df('399006', dl=30, newdays=0, resample='d')[:2]\n",
    "# tdd.get_tdx_append_now_df_api('399006', dl=30, newdays=0)[['ma5d','ma10d','ma20d']][:3]\n",
    "dd = tdd.get_tdx_append_now_df_api('600150', dl=300).sort_index(ascending=True)\n",
    "dd['ma120d'] = pd.rolling_mean(dd.close, 250)\n",
    "dd.shape, dd['ma120d'][-3:]\n",
    "# dd.close"
   ]
  },
  {
   "cell_type": "code",
   "execution_count": 5,
   "metadata": {
    "ExecuteTime": {
     "end_time": "2023-01-12T12:22:21.141134Z",
     "start_time": "2023-01-12T12:22:21.124870Z"
    },
    "collapsed": false,
    "execution": {
     "iopub.execute_input": "2023-01-16T16:30:48.319000+08:00",
     "iopub.status.busy": "2023-01-16T16:30:48.319000+08:00",
     "iopub.status.idle": "2023-01-16T16:30:49.579000+08:00",
     "shell.execute_reply": "2023-01-16T16:30:49.578000+08:00",
     "shell.execute_reply.started": "2023-01-16T16:30:48.319000"
    },
    "jupyter": {
     "outputs_hidden": false
    }
   },
   "outputs": [
    {
     "data": {
      "text/plain": [
       "Index([u'000001', u'000002', u'000004', u'000005', u'000006'], dtype='object', name=u'code')"
      ]
     },
     "execution_count": 5,
     "metadata": {},
     "output_type": "execute_result"
    },
    {
     "name": "stdout",
     "output_type": "stream",
     "text": [
      "            open  high   low  close      vol       amount\n",
      "date                                                     \n",
      "2023-01-16  3.53  3.59  3.52   3.59  8831295  31542525.21\n"
     ]
    },
    {
     "data": {
      "text/plain": [
       "'2023-01-16'"
      ]
     },
     "execution_count": 5,
     "metadata": {},
     "output_type": "execute_result"
    },
    {
     "name": "stdout",
     "output_type": "stream",
     "text": [
      "tail1:              open   high    low  close       vol     amount\n",
      "date                                                       \n",
      "2023-01-16  32.92  34.29  32.82     34  22081667  744994105\n",
      "reset_index: date       2023-01-16\n",
      "open             3.53\n",
      "high             3.59\n",
      "low              3.52\n",
      "close            3.59\n",
      "vol        8.8313e+06\n",
      "amount    3.15425e+07\n",
      "Name: 300310, dtype: object\n",
      "groupy first: open      6.890000e+00\n",
      "high      6.990000e+00\n",
      "low       6.620000e+00\n",
      "close     6.780000e+00\n",
      "vol       3.392352e+07\n",
      "amount    2.290739e+08\n",
      "Name: 300310, dtype: float64\n",
      "groupy tail:             open  high   low  close      vol       amount\n",
      "date                                                     \n",
      "2023-01-16  3.53  3.59  3.52   3.59  8831295  31542525.21\n"
     ]
    }
   ],
   "source": [
    "dfs.index.levels[0][:5]\n",
    "print dfs.loc['300310'][-1:]\n",
    "dfs.index.get_level_values('date')[-1]\n",
    "# dfs[(dfs.index.get_level_values('date')[-1])]\n",
    "groupd = dfs.groupby(level=[0])\n",
    "print 'tail1:', groupd.tail(1).loc['600460']\n",
    "\n",
    "print 'reset_index:', dfs.reset_index(level=1).groupby(level=0).tail(1).loc['300310']\n",
    "\n",
    "print 'groupy first:', dfs.groupby(level=[0]).first().loc['300310']\n",
    "\n",
    "print 'groupy tail:', dfs.groupby(level=[0]).tail(1).loc['300310']\n",
    "# dfs.ix[dfs.index[len(dfs.index)-1][0]]\n",
    "# dfd = dfs.ix[dfs.index.levels[1][-1]]"
   ]
  },
  {
   "cell_type": "code",
   "execution_count": 6,
   "metadata": {
    "ExecuteTime": {
     "end_time": "2017-09-21T17:46:36.351527Z",
     "start_time": "2017-09-21T17:46:29.346191Z"
    },
    "collapsed": false,
    "execution": {
     "iopub.execute_input": "2023-01-16T16:30:54.233000+08:00",
     "iopub.status.busy": "2023-01-16T16:30:54.232000+08:00",
     "iopub.status.idle": "2023-01-16T16:31:03.749000+08:00",
     "shell.execute_reply": "2023-01-16T16:31:03.749000+08:00",
     "shell.execute_reply.started": "2023-01-16T16:30:54.233000"
    },
    "jupyter": {
     "outputs_hidden": false
    }
   },
   "outputs": [
    {
     "name": "stdout",
     "output_type": "stream",
     "text": [
      "                    open   high   low  close      vol    amount     ma5  ma200\n",
      "code   date                                                                   \n",
      "688186 2020-04-20  32.16  33.46  32.1  33.11  1691705  55678274  31.784    NaN 4584\n",
      "5 200\n"
     ]
    },
    {
     "data": {
      "text/plain": [
       "(284.04,\n",
       " (1040L,),\n",
       " '300366',\n",
       "              open   high    low  close       vol       amount     ma5   ma200\n",
       " date                                                                         \n",
       " 2023-01-16  10.88  11.55  10.86  11.12  37377914  420529207.3  11.064  9.1578)"
      ]
     },
     "execution_count": 6,
     "metadata": {},
     "output_type": "execute_result"
    }
   ],
   "source": [
    "\n",
    "# df['ma250d'] = pd.rolling_mean(df.close, 250)\n",
    "# df.groupby(level=[0]).agg({'close':'rolling_mean'})\n",
    "# df.sort_index(ascending=False,inplace=True)\n",
    "# dfs = df\n",
    "# dfs = dfs[~dfs.index.duplicated(keep='first')]\n",
    "# print\n",
    "groupd = dfs.groupby(level=[0])\n",
    "# for da in ['5','10','60','100','120','200']:\n",
    "# rollma = ['5','10','60','100','200']\n",
    "rollma = ['5', '200']\n",
    "for da in rollma:\n",
    "    cumdays = int(da)\n",
    "    dfs['ma%d' % cumdays] = groupd['close'].apply(pd.rolling_mean, cumdays)\n",
    "# df.ix[df.index.levels[0]]\n",
    "# df.ix[df.index[len(df.index)-1][0]] #last row\n",
    "# import pdb;pdb.set_trace()\n",
    "# print groupd.tail(1).loc['600460']\n",
    "# dfd = tdd.search_Tdx_multi_data_duration(df=dfs,code_l=code_list, start='20170918', end='20170918', freq=None, col=None, index='date')\n",
    "dfd = groupd.tail(1)\n",
    "\n",
    "# dfs.index.levels[0]\n",
    "# dfs.iloc[-1]\n",
    "# dfd = dfs.ix[dfs.index.levels[1][-1]]\n",
    "\n",
    "\n",
    "print dfd[:1], len(dfd)\n",
    "# groupd.agg({'low': 'min'})\n",
    "# '''idx mask filter'''\n",
    "# '''\n",
    "idx = pd.IndexSlice\n",
    "print rollma[0], rollma[-1]\n",
    "# mask = (dfd[('close')] > dfd[('ma5')])  & (dfd[('close')] > dfd[('ma250')])\n",
    "mask = (dfs[('close')] > dfs[('ma%s') % (rollma[0])]) & (\n",
    "    dfs[('close')] > dfs[('ma%s') % (rollma[-1])])\n",
    "\n",
    "df = dfd.loc[idx[mask, :]]\n",
    "# df250=df\n",
    "# groupd.first()[:2],groupd.last()[:2]\n",
    "# groupd = df250.groupby(level=[0])\n",
    "# '''\n",
    "# groupd.transform(lambda x: x.iloc[-1])\n",
    "# groupd.last()\n",
    "# groupd.apply(lambda x: x.close > x.ma250)\n",
    "# df.shape,df.sort_index(ascending=False)[:5]\n",
    "# ?groupd.agg\n",
    "# groupd = df.groupby(level=[0])\n",
    "# groupd['close'].apply(pd.rolling_mean, 250, min_periods=1)\n",
    "# ex:# Group df by df.platoon, then apply a rolling mean lambda function to df.casualties\n",
    "# df.groupby('Platoon')['Casualties'].apply(lambda x:x.rolling(center=False,window=2).mean())\n",
    "# df[-2:]\n",
    "code_uniquelist = df.index.get_level_values('code').unique()\n",
    "code_select = code_uniquelist[random.randint(0, len(code_uniquelist) - 1)]\n",
    "round(time.time() - time_s, 2), df.index.get_level_values(\n",
    "    'code').unique().shape, code_select, df.loc[code_select]"
   ]
  },
  {
   "cell_type": "code",
   "execution_count": null,
   "metadata": {
    "collapsed": false,
    "jupyter": {
     "outputs_hidden": false
    }
   },
   "outputs": [],
   "source": []
  },
  {
   "cell_type": "code",
   "execution_count": null,
   "metadata": {
    "collapsed": false,
    "jupyter": {
     "outputs_hidden": false
    }
   },
   "outputs": [],
   "source": []
  }
 ],
 "metadata": {
  "kernelspec": {
   "display_name": "python3.9",
   "language": "python",
   "name": "python3"
  },
  "language_info": {
   "codemirror_mode": {
    "name": "ipython",
    "version": 3
   },
   "file_extension": ".py",
   "mimetype": "text/x-python",
   "name": "python",
   "nbconvert_exporter": "python",
   "pygments_lexer": "ipython3",
   "version": "3.9.13"
  },
  "nbTranslate": {
   "displayLangs": [
    "*"
   ],
   "hotkey": "alt-t",
   "langInMainMenu": true,
   "sourceLang": "en",
   "targetLang": "fr",
   "useGoogleTranslate": true
  },
  "toc": {
   "base_numbering": 1,
   "colors": {
    "hover_highlight": "#DAA520",
    "running_highlight": "#FF0000",
    "selected_highlight": "#FFD700"
   },
   "moveMenuLeft": true,
   "nav_menu": {
    "height": "12px",
    "width": "252px"
   },
   "navigate_menu": true,
   "number_sections": true,
   "sideBar": false,
   "skip_h1_title": false,
   "threshold": 4,
   "title_cell": "Table of Contents",
   "title_sidebar": "Contents",
   "toc_cell": false,
   "toc_position": {},
   "toc_section_display": "block",
   "toc_window_display": false,
   "widenNotebook": false
  },
  "toc-autonumbering": false,
  "toc-showcode": false,
  "toc-showmarkdowntxt": true,
  "varInspector": {
   "cols": {
    "lenName": 16,
    "lenType": 16,
    "lenVar": 40
   },
   "kernels_config": {
    "python": {
     "delete_cmd_postfix": "",
     "delete_cmd_prefix": "del ",
     "library": "var_list.py",
     "varRefreshCmd": "print(var_dic_list())"
    },
    "r": {
     "delete_cmd_postfix": ") ",
     "delete_cmd_prefix": "rm(",
     "library": "var_list.r",
     "varRefreshCmd": "cat(var_dic_list()) "
    }
   },
   "position": {
    "height": "410px",
    "left": "985.164px",
    "right": "20px",
    "top": "120px",
    "width": "367px"
   },
   "types_to_exclude": [
    "module",
    "function",
    "builtin_function_or_method",
    "instance",
    "_Feature"
   ],
   "window_display": true
  },
  "widgets": {
   "application/vnd.jupyter.widget-state+json": {
    "state": {},
    "version_major": 2,
    "version_minor": 0
   }
  }
 },
 "nbformat": 4,
 "nbformat_minor": 4
}
