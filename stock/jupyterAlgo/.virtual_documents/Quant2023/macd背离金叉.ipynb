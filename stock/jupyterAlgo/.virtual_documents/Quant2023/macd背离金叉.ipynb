

 // This source code is subject to the terms of the Mozilla Public License 2.0 at https://mozilla.org/MPL/2.0/
// © joyfulCraft2968

//@version=5
// indicator("我的脚本")
//@version=5
// strategy(title = 'MACD背离金叉交易')
indicator(title='MACD背离', timeframe='')

fast_length = input(title='快线长度 Fast Length', defval=12)
slow_length = input(title='慢线长度 Slow Length', defval=26)
src = input(title='Source', defval=close)
signal_length = input.int(title='Signal Smoothing', minval=1, maxval=50, defval=9)
sma_source = input.string(title='Oscillator MA Type', defval='EMA', options=['SMA', 'EMA'])
sma_signal = input.string(title='Signal Line MA Type', defval='EMA', options=['SMA', 'EMA'])
// Plot colors
col_macd = color.new(#2962FF, 0)
col_signal = color.new(#FF6D00, 0)
col_grow_above = color.new(#26A69A, 0)
col_fall_above = color.new(#B2DFDB, 0)
col_grow_below = color.new(#FFCDD2, 0)
col_fall_below = color.new(#FF5252, 0)
// Calculating
fast_ma = sma_source == 'SMA' ? ta.sma(src, fast_length) : ta.ema(src, fast_length)
slow_ma = sma_source == 'SMA' ? ta.sma(src, slow_length) : ta.ema(src, slow_length)
macd_fs = fast_ma - slow_ma
signal = sma_signal == 'SMA' ? ta.sma(macd_fs, signal_length) : ta.ema(macd_fs, signal_length)
hist_fs = macd_fs - signal
plot(hist_fs, title='Histogram', style=plot.style_columns, color=hist_fs >= 0 ? hist_fs[1] < hist_fs ? col_grow_above : col_fall_above : hist_fs[1] < hist_fs ? col_grow_below : col_fall_below)
plot(macd_fs, title='MACD', color=col_macd)
plot(signal, title='Signal', color=col_signal)


    
lbR = input(title='向右回看K线数', defval=5)
lbL = input(title='向左回看K线数', defval=5)
rangeUpper = input(title='最大回看范围', defval=60)
rangeLower = input(title='最小回看范围', defval=5)
plotBull = input(title='Plot Bullish', defval=true)

plotBear = input(title='Plot Bearish', defval=true)

bearColor = color.red
bullColor = color.green

textColor = color.white
noneColor = color.new(color.white, 100)
osc = hist_fs

plFound = na(ta.pivotlow(osc, lbL, lbR)) ? false : true
phFound = na(ta.pivothigh(osc, lbL, lbR)) ? false : true

_inRange(cond) =>
    bars = ta.barssince(cond == true)
    rangeLower <= bars and bars <= rangeUpper

//------------------------------------------------------------------------------
// Regular Bullish
// Osc: Higher Low


oscHL = osc[lbR] > ta.valuewhen(plFound, osc[lbR], 1) and _inRange(plFound[1]) and osc[lbR] < 0

// Price: Lower Low

priceLL = low[lbR] < ta.valuewhen(plFound, low[lbR], 1)
priceHHZero = ta.highest(osc, lbL + lbR + 5)

blowzero = priceHHZero < 0 
bullCond = plotBull and priceLL and oscHL and plFound

plot(plFound ? osc[lbR] : na, offset=-lbR, title='Bullish', linewidth=2, color=bullCond ? bullColor : noneColor, transp=0)

plotshape(bullCond ? osc[lbR] : na, offset=-lbR, title='Regular Bullish Label', text=' 牛 ', style=shape.labelup, location=location.absolute, color=color.new(bullColor, 0), textcolor=color.new(textColor, 0))


//------------------------------------------------------------------------------
// Regular Bearish
// Osc: Lower High

oscLH = osc[lbR] < ta.valuewhen(phFound, osc[lbR], 1) and _inRange(phFound[1]) and osc[lbR] > 0

priceLLZero = ta.lowest(osc, lbL + lbR + 5)
//plot(priceLLZero,title="priceLLZero", color=color.red)
bearzero = priceLLZero > 0 

// Price: Higher High

priceHH = high[lbR] > ta.valuewhen(phFound, high[lbR], 1)

bearCond = plotBear and priceHH and oscLH and phFound

plot(phFound ? osc[lbR] : na, offset=-lbR, title='Bearish', linewidth=2, color=bearCond ? bearColor : noneColor, transp=0)

plotshape(bearCond ? osc[lbR] : na, offset=-lbR, title='Regular Bearish Label', text=' 熊 ', style=shape.labeldown, location=location.absolute, color=color.new(bearColor, 0), textcolor=color.new(textColor, 0))


// Calulating Macd
// Compute MACD and its signal line

[macd, signal, hist] = ta.macd(close, 12, 26, 9)

// Check for a MACD golden cross
if bullCond and (ta.cross(macd, signal) and hist > 0)
    strategy.entry("Buy", strategy.long)

// Check for a MACD death cross
if bearCond and (ta.cross(signal, macd) and hist < 0)
    strategy.close("Buy")

alertcondition(bullCond, title='Bull', message='Regular Bull Div {{ticker}} XXmin')
alertcondition(bearCond, title='Bear', message='Regular Bear Div {{ticker}} XXmin')




// plot(close)



average_cost = (high + low + close) / 3
long_entry = cross(average_cost, close)

if long_entry
    //执行买入操作
    strategy.entry("Long", strategy.long)

    
    
// This script calculates the 20-day moving average of a stock's close price

// Define the length of the moving average
length = 20

// Calculate the moving average
ma = sma(close, length)

// Plot the moving average on the chart
plot(ma)

