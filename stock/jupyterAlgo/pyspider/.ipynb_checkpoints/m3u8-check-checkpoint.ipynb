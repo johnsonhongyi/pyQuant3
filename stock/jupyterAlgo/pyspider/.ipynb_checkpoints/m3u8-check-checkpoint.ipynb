{
 "cells": [
  {
   "cell_type": "markdown",
   "metadata": {
    "toc": "true"
   },
   "source": [
    "# Table of Contents\n",
    " <p><div class=\"lev1 toc-item\"><a href=\"#本地片单地址\" data-toc-modified-id=\"本地片单地址-1\"><span class=\"toc-item-num\">1&nbsp;&nbsp;</span>本地片单地址</a></div><div class=\"lev1 toc-item\"><a href=\"#线上url测试\" data-toc-modified-id=\"线上url测试-2\"><span class=\"toc-item-num\">2&nbsp;&nbsp;</span>线上url测试</a></div>"
   ]
  },
  {
   "cell_type": "markdown",
   "metadata": {},
   "source": [
    "# 本地片单地址"
   ]
  },
  {
   "cell_type": "code",
   "execution_count": 46,
   "metadata": {
    "ExecuteTime": {
     "end_time": "2019-04-19T18:09:59.195088Z",
     "start_time": "2019-04-19T18:09:59.186355Z"
    }
   },
   "outputs": [
    {
     "name": "stdout",
     "output_type": "stream",
     "text": [
      "10\n"
     ]
    }
   ],
   "source": [
    "# -*- coding:utf-8 -*-\n",
    "import requests\n",
    "import time\n",
    "F_root = '/Users/Johnson/Downloads/iyanshu/feichi/片单/'\n",
    "file_path = F_root+'0417-mvlist.txt'\n",
    "m_list = open(file_path, 'rU').readlines()\n",
    "movie_dic ={}\n",
    "for m in m_list:\n",
    "    if len(m) > 10:\n",
    "        movie_dic[m.split()[0].decode('utf8')] = m.split()[1]\n",
    "#         url_t=m.split()[1]\n",
    "#         url_list.append(url_t)\n",
    "print len(movie_dic.keys())"
   ]
  },
  {
   "cell_type": "markdown",
   "metadata": {},
   "source": [
    "# 线上url测试"
   ]
  },
  {
   "cell_type": "code",
   "execution_count": 1,
   "metadata": {
    "ExecuteTime": {
     "end_time": "2019-07-18T09:46:44.605246Z",
     "start_time": "2019-07-18T09:46:39.713784Z"
    },
    "scrolled": false
   },
   "outputs": [
    {
     "name": "stdout",
     "output_type": "stream",
     "text": [
      "开始！\n",
      "bca861430b1b44fab77815e3cf7bec75_0001946.ts\n",
      "OK:http://qvw.mvaas.cn/hls/2f03f5b30ec2f83c2f85/r15znnwqqtzxuesoi9jt/720_25_4_1200k_4_7_n/bca861430b1b44fab77815e3cf7bec75_0001777.ts <Response [200]>\n"
     ]
    },
    {
     "ename": "NameError",
     "evalue": "name 'movie_dic' is not defined",
     "output_type": "error",
     "traceback": [
      "\u001b[0;31m---------------------------------------------------------------------------\u001b[0m",
      "\u001b[0;31mNameError\u001b[0m                                 Traceback (most recent call last)",
      "\u001b[0;32m<ipython-input-1-5f4246854b2a>\u001b[0m in \u001b[0;36m<module>\u001b[0;34m()\u001b[0m\n\u001b[1;32m     80\u001b[0m \u001b[0mcheck_url_content_status\u001b[0m\u001b[0;34m(\u001b[0m\u001b[0mURL\u001b[0m\u001b[0;34m)\u001b[0m\u001b[0;34m\u001b[0m\u001b[0m\n\u001b[1;32m     81\u001b[0m \u001b[0mcount\u001b[0m \u001b[0;34m=\u001b[0m\u001b[0;36m1\u001b[0m\u001b[0;34m\u001b[0m\u001b[0m\n\u001b[0;32m---> 82\u001b[0;31m \u001b[0;32mfor\u001b[0m \u001b[0mkey\u001b[0m \u001b[0;32min\u001b[0m \u001b[0mmovie_dic\u001b[0m\u001b[0;34m.\u001b[0m\u001b[0mkeys\u001b[0m\u001b[0;34m(\u001b[0m\u001b[0;34m)\u001b[0m\u001b[0;34m:\u001b[0m\u001b[0;34m\u001b[0m\u001b[0m\n\u001b[0m\u001b[1;32m     83\u001b[0m     \u001b[0;32mprint\u001b[0m \u001b[0;34m\"%s: %s\"\u001b[0m\u001b[0;34m%\u001b[0m\u001b[0;34m(\u001b[0m\u001b[0mcount\u001b[0m\u001b[0;34m,\u001b[0m\u001b[0mkey\u001b[0m\u001b[0;34m)\u001b[0m\u001b[0;34m\u001b[0m\u001b[0m\n\u001b[1;32m     84\u001b[0m     \u001b[0mcount\u001b[0m \u001b[0;34m+=\u001b[0m\u001b[0;36m1\u001b[0m\u001b[0;34m\u001b[0m\u001b[0m\n",
      "\u001b[0;31mNameError\u001b[0m: name 'movie_dic' is not defined"
     ]
    }
   ],
   "source": [
    "# -*- coding:utf-8 -*-\n",
    "import requests\n",
    "import time\n",
    "t1 = time.time()\n",
    "URL_ROOT='http://qvw.mvaas.cn/hls/2f03f5b30ec2f83c2f85/3nsiji1ebq5ix4d5z694/n_n/'\n",
    "URL = 'http://qvw.mvaas.cn/hls/2f03f5b30ec2f83c2f85/jk96mnx3pq6yvgh82quf/n_n/7df3e9722c524081410ab5d43d4c1d59.m3u8?xstToken=5969e397'\n",
    "URL ='http://qvw.mvaas.cn/hls/2f03f5b30ec2f83c2f85/3nsiji1ebq5ix4d5z694/n_n/34c67d2c3577a9dbd3ae10fd0986d1ec.m3u8?xstToken=7370b86c'\n",
    "URL2= 'http://qvw.mvaas.cn/hls/2f03f5b30ec2f83c2f85/pteplj1en6l987xbopz5/n_n/a2e4a45ffbc9476a68902f6f3eaa37a2.m3u8?xstToken=4e9fbe34'\n",
    "\n",
    "URL_key = '34c67d2c3577a9dbd3ae10fd0986d1ec.m3u8?xstToken=7370b86c'\n",
    "print('开始！')      \n",
    "headers = {\n",
    "   'User-Agent': \"Mozilla/5.0 (Windows NT 6.1; Win64; x64) \"\n",
    "                 \"AppleWebKit/537.36 (KHTML, like Gecko) \"\n",
    "                 \"Chrome/72.0.3626.109 Safari/537.36\",\n",
    "}\n",
    "\n",
    "def get_url_content(url):\n",
    "   '''获取m3u8文件的内容并放入内存'''\n",
    "#    m3u8_target = input('输入m3u8对应URL:').strip()\n",
    "   m3u8_target = url.strip()\n",
    "   target = '/'.join(m3u8_target.split('/')[:-1])\n",
    "   # print(target)\n",
    "   m3u8_res = requests.get(m3u8_target,headers)\n",
    "   if m3u8_res.status_code != 200:\n",
    "      print('URL不能正常访问:%s'%(m3u8_res.status_code))\n",
    "#    else:\n",
    "#       print(\"OK:%s\"%(url))\n",
    "   m3u8_content = m3u8_res.content.decode('utf8')\n",
    "   return m3u8_content,target\n",
    "\n",
    "\n",
    "    \n",
    "    \n",
    "    \n",
    "def read_m3u8(m3u8_content):\n",
    "   '''获取m3u8中的下载连接'''\n",
    "   media_url_list = []\n",
    "   lines_list = m3u8_content.strip().split('\\r\\n')\n",
    "   if len(lines_list) < 3:\n",
    "      lines_list = m3u8_content.strip().split('\\n')\n",
    "   if '#EXTM3U' not in m3u8_content:\n",
    "      raise BaseException('非M3U8连接')\n",
    "   for index,line in enumerate(lines_list):\n",
    "      # print(index,line)\n",
    "      if '#EXTINF' in line:\n",
    "         media_url_list.append(lines_list[index+1])\n",
    "   return media_url_list\n",
    "\n",
    "import random\n",
    "\n",
    "def check_url_content_status(url):\n",
    "   m3u8_content,target =  get_url_content(url)\n",
    "   media_url_list =read_m3u8(m3u8_content)\n",
    "   if len(media_url_list) > 0:\n",
    "      idx = random.randint(0,len(media_url_list)-1)\n",
    "      m3u = media_url_list[idx]\n",
    "      print media_url_list[-1]\n",
    "   else:\n",
    "      print \"media_url_list error:%s\"%(target)\n",
    "      return False\n",
    "   m3u8_target = url.strip()\n",
    "   target = '/'.join(m3u8_target.split('/')[:-1])\n",
    "   m3u8_target = target + '/'+ m3u\n",
    "#    print \"Ts:%s\"%(m3u8_target)\n",
    "   # print(target)\n",
    "   m3u8_res = requests.get(m3u8_target,headers)\n",
    "   if m3u8_res.status_code != 200:\n",
    "      print('Earror:URL不能正常访问:%s'%(m3u8_res.status_code))\n",
    "      return False\n",
    "   else:\n",
    "      print(\"OK:%s %s\"%(m3u8_target,m3u8_res))\n",
    "      return True\n",
    "    \n",
    "    \n",
    "# m3u8_content,target =  get_url_content(URL2)\n",
    "# media_url_list =read_m3u8(m3u8_content)\n",
    "# print media_url_list[0]\n",
    "# URL = \"http://qvw.mvaas.cn/hls/2f03f5b30ec2f83c2f85/r15znnwqqtzxuesoi9jt/720_25_4_1200k_4_7_n/0067f9517d16f84dff36fbf2a4a2cd83.m3u8?xstToken=6402d74f\"\n",
    "URL = \"http://qvw.mvaas.cn/hls/2f03f5b30ec2f83c2f85/r15znnwqqtzxuesoi9jt/720_25_4_1200k_4_7_n/0067f9517d16f84dff36fbf2a4a2cd83.m3u8?xstToken=6402d74f\"\n",
    "\n",
    "check_url_content_status(URL)\n",
    "count =1\n",
    "# for key in movie_dic.keys():\n",
    "#     print \"%s: %s\"%(count,key)\n",
    "#     count +=1\n",
    "#     check_url_content_status(movie_dic[key])\n",
    "print \"Finish\""
   ]
  },
  {
   "cell_type": "code",
   "execution_count": null,
   "metadata": {
    "collapsed": true
   },
   "outputs": [],
   "source": []
  },
  {
   "cell_type": "code",
   "execution_count": null,
   "metadata": {
    "collapsed": true
   },
   "outputs": [],
   "source": []
  }
 ],
 "metadata": {
  "kernelspec": {
   "display_name": "Python 2",
   "language": "python",
   "name": "python2"
  },
  "language_info": {
   "codemirror_mode": {
    "name": "ipython",
    "version": 2
   },
   "file_extension": ".py",
   "mimetype": "text/x-python",
   "name": "python",
   "nbconvert_exporter": "python",
   "pygments_lexer": "ipython2",
   "version": "2.7.11"
  },
  "toc": {
   "colors": {
    "hover_highlight": "#DAA520",
    "navigate_num": "#000000",
    "navigate_text": "#333333",
    "running_highlight": "#FF0000",
    "selected_highlight": "#FFD700",
    "sidebar_border": "#EEEEEE",
    "wrapper_background": "#FFFFFF"
   },
   "moveMenuLeft": true,
   "nav_menu": {
    "height": "12px",
    "width": "252px"
   },
   "navigate_menu": true,
   "number_sections": true,
   "sideBar": true,
   "threshold": 4,
   "toc_cell": true,
   "toc_position": {
    "height": "631px",
    "left": "0px",
    "right": "994px",
    "top": "106px",
    "width": "152px"
   },
   "toc_section_display": "block",
   "toc_window_display": true,
   "widenNotebook": false
  }
 },
 "nbformat": 4,
 "nbformat_minor": 2
}
