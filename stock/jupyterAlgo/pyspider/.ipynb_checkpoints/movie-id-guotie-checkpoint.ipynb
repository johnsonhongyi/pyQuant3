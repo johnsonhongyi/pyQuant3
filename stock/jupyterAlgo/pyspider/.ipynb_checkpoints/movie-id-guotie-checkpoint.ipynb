{
 "cells": [
  {
   "cell_type": "code",
   "execution_count": 9,
   "id": "18630130",
   "metadata": {
    "ExecuteTime": {
     "end_time": "2021-09-10T13:48:29.459618+08:00",
     "start_time": "2021-09-10T13:48:29.452164Z"
    }
   },
   "outputs": [],
   "source": [
    "import io\n",
    "def Write_list(fp_name,flist,encoding='utf8'):\n",
    "#     方法一：\n",
    "#     for line in lists:\n",
    "#     f.write(line+'\\n')\n",
    "\n",
    "#     方法二：\n",
    "#     lists=[line+\"\\n\" for line in lists]\n",
    "#     f.writelines(lists)\n",
    "\n",
    "#     方法三：\n",
    "#     f.write('\\n'.join(lists))\n",
    "    print \"lines:%s\"%(len(flist))\n",
    "#     fout = io.open(fp_name, 'wb+')\n",
    "    fout = io.open(fp_name, 'w+',encoding=encoding)\n",
    "    for code in flist:\n",
    "#         fout.write(code.encode('gbk')+'\\n')\n",
    "        fout.write(code +'\\n')"
   ]
  },
  {
   "cell_type": "code",
   "execution_count": 10,
   "id": "4a0ee92f",
   "metadata": {
    "ExecuteTime": {
     "end_time": "2021-09-10T13:48:31.875295+08:00",
     "start_time": "2021-09-10T13:48:30.228624Z"
    }
   },
   "outputs": [
    {
     "name": "stdout",
     "output_type": "stream",
     "text": [
      "[u'paramo', u'resultCode', u'resultMsg', u'params']\n",
      "[u'totalCount', u'currentPageNo', u'data', u'pageSize', u'totalPageCount']\n",
      "706\n"
     ]
    }
   ],
   "source": [
    "#-*- coding:utf-8 -*-\n",
    "\n",
    "import json\n",
    "# try:\n",
    "#     from urllib.request import urlopen, Request\n",
    "# except ImportError:\n",
    "#     from urllib2 import urlopen, Request\n",
    "# import requests\n",
    "# requests.adapters.DEFAULT_RETRIES = 0\n",
    "\n",
    "# def get_url_data_R(url, timeout=30,headers=None):\n",
    "#     # headers = {'User-Agent':'Mozilla/5.0 (Windows; U; Windows NT 6.1; en-US; rv:1.9.1.6) Gecko/20091201 Firefox/3.5.6'}\n",
    "#     # headers = {'User-Agent': 'Mozilla/5.0 (Windows NT 6.2; rv:16.0) Gecko/20100101 Firefox/16.0',\n",
    "#     #            'Accept': 'text/html,application/xhtml+xml,application/xml;q=0.9,*/*;q=0.8',\n",
    "#     #            'Connection': 'keep-alive'}\n",
    "    \n",
    "#     # dictMerged2 = dict( dict1, **dict2 )\n",
    "#     # headersrc = {'User-Agent': 'Mozilla/5.0 (Windows NT 10.0; Win64; x64; rv:75.0) Gecko/20100101 Firefox/75.0',\n",
    "#     #        'Accept': 'text/html,application/xhtml+xml,application/xml;q=0.9,*/*;q=0.8',\n",
    "#     #        'Connection': 'keep-alive'}\n",
    "\n",
    "#     if headers is None:\n",
    "#         # headers = {'User-Agent': 'Mozilla/5.0 (Windows NT 6.2; rv:16.0) Gecko/20100101 Firefox/16.0',\n",
    "#         #            'Accept': 'text/html,application/xhtml+xml,application/xml;q=0.9,*/*;q=0.8',\n",
    "#         #            'Connection': 'keep-alive'}\n",
    "#         headers = {'User-Agent': 'Mozilla/5.0 (Windows NT 10.0; Win64; x64; rv:75.0) Gecko/20100101 Firefox/75.0',\n",
    "#                    'Accept': 'text/html,application/xhtml+xml,application/xml;q=0.9,*/*;q=0.8',\n",
    "#                    'Connection': 'keep-alive'}\n",
    "#     # else:\n",
    "\n",
    "#     #     headers = dict({'User-Agent': 'Mozilla/5.0 (Windows NT 10.0; Win64; x64; rv:75.0) Gecko/20100101 Firefox/75.0',\n",
    "#     #                'Accept': 'text/html,application/xhtml+xml,application/xml;q=0.9,*/*;q=0.8',\n",
    "#     #                'Connection': 'keep-alive'},**headers)\n",
    "\n",
    "#                # 'Referer':'http://vip.stock.finance.sina.com.cn'\n",
    "#     # headers = {'User-Agent': 'Mozilla/5.0 (Windows NT 10.0; Win64; x64; rv:75.0) Gecko/20100101 Firefox/75.0',\n",
    "#     #             'Accept': 'text/html,application/xhtml+xml,application/xml;q=0.9,image/webp,*/*;q=0.8',\n",
    "#     #             'Accept-Language': 'zh-CN,zh;q=0.8,zh-TW;q=0.7,zh-HK;q=0.5,en-US;q=0.3,en;q=0.2',\n",
    "#     #             'Accept-Encoding': 'gzip, deflate',\n",
    "#     #             }\n",
    "#     # headers = {'Host': 'dcfm.eastmoney.com',\n",
    "#     #             'User-Agent': 'Mozilla/5.0 (Windows NT 10.0; Win64; x64; rv:75.0) Gecko/20100101 Firefox/75.0',\n",
    "#     #             'Accept': 'text/html,application/xhtml+xml,application/xml;q=0.9,image/webp,*/*;q=0.8',\n",
    "#     #             'Accept-Language': 'zh-CN,zh;q=0.8,zh-TW;q=0.7,zh-HK;q=0.5,en-US;q=0.3,en;q=0.2',\n",
    "#     #             'Accept-Encoding': 'gzip, deflate',\n",
    "#     #             'Connection': 'keep-alive',\n",
    "#     #             'Cookie': 'qgqp_b_id=91b04a5f938180fcd61ff487773f9fdd; st_si=44229608519229; st_sn=17; st_psi=20200422151145626-113300300968-3614946978; st_asi=delete; emshistory=%5B%22%E8%9E%8D%E8%B5%84%E4%BD%99%E9%A2%9D617%22%2C%22%E8%9E%8D%E8%B5%84%E4%BD%99%E9%A2%9D%22%5D; cowCookie=true; intellpositionL=1380px; intellpositionT=1085px; st_pvi=50723143362736; st_sp=2020-04-22%2013%3A25%3A58; st_inirUrl=http%3A%2F%2Figuba.eastmoney.com%2F2822094037475512'\n",
    "#     #         }           \n",
    "               \n",
    "#     req = Request(url, headers=headers)\n",
    "#     req.keep_alive = False\n",
    "#     try:\n",
    "#         fp = urlopen(req, timeout=timeout)\n",
    "#         data = fp.read()\n",
    "#         fp.close()\n",
    "#     # except (HTTPError, URLError) as error:\n",
    "#         # log.error('Data of %s not retrieved because %s\\nURL: %s', name, error, url)\n",
    "#     except (socket.timeout, socket.error) as e:\n",
    "#         # print data.encoding\n",
    "#         data = ''\n",
    "\n",
    "#         print('socket timed out error:%s - URL %s ' % (e, url))\n",
    "#         sleeprandom(120)\n",
    "#     except Exception as e:\n",
    "#         data = ''\n",
    "#         print('url Exception Error:%s - URL %s ' % (e, url))\n",
    "#         # sleeprandom(60)\n",
    "#         sleep(120)\n",
    "#     # else:\n",
    "#         # print('Access successful.')\n",
    "#     return data\n",
    "# html_data=get_url_data_R(url, timeout=30, headers=None)\n",
    "\n",
    "import urllib2\n",
    "\n",
    "url_path='http://wozhui.zhuidianying.com/service/iBacManage.action?bizCode=12013&appID=3&type=2&search_terms=&label=&begDate=&endDate=&reBegDate=&reEndDate=&pageSize=1000&pageNo=1'\n",
    "\n",
    "\n",
    "html = urllib2.urlopen(url_path)\n",
    "html_data = html.read()\n",
    "\n",
    "# data_ = data.split('\"params\":')[1].split('{\"data\":')[1].split(',\"currentPageNo\"')[0]\n",
    "# # data_  = data__.split('],')[0]\n",
    "\n",
    "hjson = json.loads(html_data)\n",
    "print hjson.keys()\n",
    "print hjson['params'].keys()\n",
    "print hjson['params']['totalCount']\n",
    "m_data = hjson['params']['data']\n",
    "\n",
    "\n"
   ]
  },
  {
   "cell_type": "code",
   "execution_count": 11,
   "id": "dc4d8c45",
   "metadata": {
    "ExecuteTime": {
     "end_time": "2021-09-10T13:48:31.891800+08:00",
     "start_time": "2021-09-10T13:48:31.877564Z"
    }
   },
   "outputs": [
    {
     "name": "stdout",
     "output_type": "stream",
     "text": [
      "706\n",
      "lines:706\n"
     ]
    }
   ],
   "source": [
    "# js_data = json.loads(data_)\n",
    "movieList=[]\n",
    "for item in m_data:\n",
    "    movie = dict(item)\n",
    "    title = movie['title']\n",
    "    release = movie['gt_release_time'][:10]\n",
    "    releaseTime = movie['release_time'][:10]\n",
    "#     print(title,release)\n",
    "    movieList.append('%s , %s'%(title,releaseTime))\n",
    "print(len(movieList))\n",
    "Write_list('id.txt',movieList)"
   ]
  },
  {
   "cell_type": "code",
   "execution_count": null,
   "id": "a594ecaa",
   "metadata": {},
   "outputs": [],
   "source": []
  },
  {
   "cell_type": "code",
   "execution_count": null,
   "id": "3fceee87",
   "metadata": {},
   "outputs": [],
   "source": []
  }
 ],
 "metadata": {
  "kernelspec": {
   "display_name": "Python 2",
   "language": "python",
   "name": "python2"
  },
  "language_info": {
   "codemirror_mode": {
    "name": "ipython",
    "version": 2
   },
   "file_extension": ".py",
   "mimetype": "text/x-python",
   "name": "python",
   "nbconvert_exporter": "python",
   "pygments_lexer": "ipython2",
   "version": "2.7.11"
  },
  "toc": {
   "colors": {
    "hover_highlight": "#DAA520",
    "navigate_num": "#000000",
    "navigate_text": "#333333",
    "running_highlight": "#FF0000",
    "selected_highlight": "#FFD700",
    "sidebar_border": "#EEEEEE",
    "wrapper_background": "#FFFFFF"
   },
   "moveMenuLeft": true,
   "nav_menu": {
    "height": "12px",
    "width": "252px"
   },
   "navigate_menu": true,
   "number_sections": true,
   "sideBar": false,
   "threshold": 4,
   "toc_cell": false,
   "toc_section_display": "block",
   "toc_window_display": false,
   "widenNotebook": false
  }
 },
 "nbformat": 4,
 "nbformat_minor": 5
}
