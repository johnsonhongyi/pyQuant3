{
 "cells": [
  {
   "cell_type": "markdown",
   "metadata": {
    "toc": "true"
   },
   "source": [
    "# Table of Contents\n",
    " <p><div class=\"lev1 toc-item\"><a href=\"#B站\" data-toc-modified-id=\"B站-1\"><span class=\"toc-item-num\">1&nbsp;&nbsp;</span>B站</a></div><div class=\"lev1 toc-item\"><a href=\"#西瓜视频\" data-toc-modified-id=\"西瓜视频-2\"><span class=\"toc-item-num\">2&nbsp;&nbsp;</span>西瓜视频</a></div><div class=\"lev2 toc-item\"><a href=\"#爬取频道页\" data-toc-modified-id=\"爬取频道页-21\"><span class=\"toc-item-num\">2.1&nbsp;&nbsp;</span>爬取频道页</a></div><div class=\"lev2 toc-item\"><a href=\"#视频详情页-error-加密\" data-toc-modified-id=\"视频详情页-error-加密-22\"><span class=\"toc-item-num\">2.2&nbsp;&nbsp;</span>视频详情页-error-加密</a></div><div class=\"lev1 toc-item\"><a href=\"#腾讯视频解析\" data-toc-modified-id=\"腾讯视频解析-3\"><span class=\"toc-item-num\">3&nbsp;&nbsp;</span>腾讯视频解析</a></div><div class=\"lev2 toc-item\"><a href=\"#解析2\" data-toc-modified-id=\"解析2-31\"><span class=\"toc-item-num\">3.1&nbsp;&nbsp;</span>解析2</a></div>"
   ]
  },
  {
   "cell_type": "markdown",
   "metadata": {},
   "source": [
    "# B站"
   ]
  },
  {
   "cell_type": "markdown",
   "metadata": {},
   "source": [
    "目Github地址: https://github.com/Henryhaohao/Bilibili_video_download\n",
    "https://www.jianshu.com/p/851501401e10"
   ]
  },
  {
   "cell_type": "code",
   "execution_count": 41,
   "metadata": {
    "ExecuteTime": {
     "end_time": "2019-12-02T17:26:12.582545Z",
     "start_time": "2019-12-02T17:26:12.465560Z"
    }
   },
   "outputs": [
    {
     "ename": "ImportError",
     "evalue": "No module named request",
     "output_type": "error",
     "traceback": [
      "\u001b[0;31m---------------------------------------------------------------------------\u001b[0m",
      "\u001b[0;31mImportError\u001b[0m                               Traceback (most recent call last)",
      "\u001b[0;32m<ipython-input-41-bb9a31f07158>\u001b[0m in \u001b[0;36m<module>\u001b[0;34m()\u001b[0m\n\u001b[1;32m      1\u001b[0m \u001b[0;34m\u001b[0m\u001b[0m\n\u001b[1;32m      2\u001b[0m \u001b[0;32mimport\u001b[0m \u001b[0mrequests\u001b[0m\u001b[0;34m,\u001b[0m\u001b[0mre\u001b[0m\u001b[0;34m,\u001b[0m\u001b[0mos\u001b[0m\u001b[0;34m\u001b[0m\u001b[0m\n\u001b[0;32m----> 3\u001b[0;31m \u001b[0;32mfrom\u001b[0m \u001b[0murllib\u001b[0m\u001b[0;34m.\u001b[0m\u001b[0mrequest\u001b[0m \u001b[0;32mimport\u001b[0m \u001b[0mquote\u001b[0m\u001b[0;34m\u001b[0m\u001b[0m\n\u001b[0m\u001b[1;32m      4\u001b[0m \u001b[0;32mfrom\u001b[0m \u001b[0mlxml\u001b[0m \u001b[0;32mimport\u001b[0m \u001b[0metree\u001b[0m\u001b[0;34m\u001b[0m\u001b[0m\n\u001b[1;32m      5\u001b[0m \u001b[0;32mfrom\u001b[0m \u001b[0mmultiprocessing\u001b[0m \u001b[0;32mimport\u001b[0m \u001b[0mPool\u001b[0m\u001b[0;34m\u001b[0m\u001b[0m\n",
      "\u001b[0;31mImportError\u001b[0m: No module named request"
     ]
    }
   ],
   "source": []
  },
  {
   "cell_type": "markdown",
   "metadata": {},
   "source": [
    "# 西瓜视频"
   ]
  },
  {
   "cell_type": "markdown",
   "metadata": {
    "collapsed": true
   },
   "source": [
    "## 爬取频道页"
   ]
  },
  {
   "cell_type": "code",
   "execution_count": 21,
   "metadata": {
    "ExecuteTime": {
     "end_time": "2019-12-02T14:52:52.934810Z",
     "start_time": "2019-12-02T14:52:52.085633Z"
    }
   },
   "outputs": [
    {
     "name": "stdout",
     "output_type": "stream",
     "text": [
      "0\n",
      "https://www.ixigua.com/api/feedv2/feedById?&channelId=61887739373&count=18&maxTime=\n",
      "使命：公安局长终于露馅，在办公室被戴上手铐，法网恢恢疏而不漏: url:https://www.ixigua.com/i6750173437722886659\n"
     ]
    }
   ],
   "source": [
    "import requests\n",
    "import json\n",
    "import time\n",
    "import math\n",
    "import hashlib\n",
    "import re\n",
    "import random\n",
    "from zlib import crc32\n",
    "from bs4 import BeautifulSoup\n",
    " \n",
    "#61887739373 影视\n",
    "#6797027941 推荐\n",
    "def get_url(channelId = '61887739373'):\n",
    "    url = 'https://www.ixigua.com/api/feedv2/feedById?&channelId={}&count=18&maxTime='.format(channelId)\n",
    "    print(url)\n",
    "    return url\n",
    "\n",
    "tt_webid = \"\"\n",
    " \n",
    "def get_item(url):\n",
    "    headers = {'user-agent':\"Mozilla/5.0 (Linux; Android 5.0; SM-G900P Build/LRX21T) AppleWebKit/537.36 (KHTML, like Gecko) Chrome/69.0.3497.81 Mobile Safari/537.36\"}\n",
    "    resp = requests.get(url, headers = headers, cookies = '')\n",
    "    wbdata = resp.content\n",
    "    wbdata2 = json.loads(wbdata.decode('utf-8'))\n",
    "    \n",
    "    data1 = wbdata2['data']\n",
    "    channelFeed = data1['channelFeed']\n",
    "    BaseResp = channelFeed['BaseResp']\n",
    "    if BaseResp['StatusMessage'] == 'error':\n",
    "        return 0\n",
    "    \n",
    "    data = channelFeed['Data']\n",
    "    for news in data:\n",
    "        title = news['videoTitle']\n",
    "        news_url = news['videoId']\n",
    "        news_url = \"https://www.ixigua.com/i\"+news_url\n",
    "#         writer(\"bbb.txt\", title, news_url)\n",
    "\n",
    " \n",
    "        print(\"%s: url:%s\"%(title,news_url))\n",
    "        getinfo(news_url)\n",
    "        break\n",
    "        time.sleep(1)\n",
    "    return\n",
    " \n",
    "#写文件\n",
    "def writer(filename, content, source='', time='', tags=''):\n",
    "    write_flag = True\n",
    "#     with open(filename, 'a', encoding='utf-8') as f:\n",
    "#         f.write('内容：'+'\\n')\n",
    "#         f.writelines(content)\n",
    "#         f.write('\\n\\n')\n",
    "#         f.write('作者：'+source + '\\n')\n",
    "#         f.write('时间：'+time + '\\n')\n",
    "#         f.write('标签：'+tags + '\\n')\n",
    "#         f.write('------------------------分割线------------------------'+'\\n\\n')\n",
    " \n",
    "def getinfo(video_id):\n",
    "    return\n",
    " \n",
    "def main(refresh = 10):\n",
    "    for x in range(0,refresh+1):\n",
    "        print(\"{0}\".format(x))\n",
    "        url = get_url()\n",
    "        get_item(url)\n",
    "        break\n",
    " \n",
    "if __name__ == '__main__':\n",
    "    main()\n"
   ]
  },
  {
   "cell_type": "markdown",
   "metadata": {
    "collapsed": true
   },
   "source": [
    "## 视频详情页-error-加密"
   ]
  },
  {
   "cell_type": "code",
   "execution_count": 34,
   "metadata": {
    "ExecuteTime": {
     "end_time": "2019-12-02T15:23:31.187609Z",
     "start_time": "2019-12-02T15:23:30.765445Z"
    }
   },
   "outputs": [
    {
     "name": "stdout",
     "output_type": "stream",
     "text": [
      "None\n",
      "[]\n",
      "-1\n",
      "search:None\n"
     ]
    },
    {
     "ename": "AttributeError",
     "evalue": "'NoneType' object has no attribute 'group'",
     "output_type": "error",
     "traceback": [
      "\u001b[0;31m---------------------------------------------------------------------------\u001b[0m",
      "\u001b[0;31mAttributeError\u001b[0m                            Traceback (most recent call last)",
      "\u001b[0;32m<ipython-input-34-720f0f7d1fa9>\u001b[0m in \u001b[0;36m<module>\u001b[0;34m()\u001b[0m\n\u001b[1;32m     53\u001b[0m \u001b[0;34m\u001b[0m\u001b[0m\n\u001b[1;32m     54\u001b[0m \u001b[0;32mif\u001b[0m \u001b[0m__name__\u001b[0m \u001b[0;34m==\u001b[0m \u001b[0;34m'__main__'\u001b[0m\u001b[0;34m:\u001b[0m\u001b[0;34m\u001b[0m\u001b[0m\n\u001b[0;32m---> 55\u001b[0;31m     \u001b[0mmain\u001b[0m\u001b[0;34m(\u001b[0m\u001b[0;34m)\u001b[0m\u001b[0;34m\u001b[0m\u001b[0m\n\u001b[0m\u001b[1;32m     56\u001b[0m \u001b[0;31m# ————————————————\u001b[0m\u001b[0;34m\u001b[0m\u001b[0;34m\u001b[0m\u001b[0m\n\u001b[1;32m     57\u001b[0m \u001b[0;31m# 版权声明：本文为CSDN博主「我在看图」的原创文章，遵循CC 4.0 BY-SA版权协议，转载请附上原文出处链接及本声明。\u001b[0m\u001b[0;34m\u001b[0m\u001b[0;34m\u001b[0m\u001b[0m\n",
      "\u001b[0;32m<ipython-input-34-720f0f7d1fa9>\u001b[0m in \u001b[0;36mmain\u001b[0;34m()\u001b[0m\n\u001b[1;32m     42\u001b[0m \u001b[0;32mdef\u001b[0m \u001b[0mmain\u001b[0m\u001b[0;34m(\u001b[0m\u001b[0;34m)\u001b[0m\u001b[0;34m:\u001b[0m\u001b[0;34m\u001b[0m\u001b[0m\n\u001b[1;32m     43\u001b[0m     \u001b[0murl\u001b[0m \u001b[0;34m=\u001b[0m \u001b[0;34m\"https://www.ixigua.com/i6750173437722886659\"\u001b[0m\u001b[0;34m\u001b[0m\u001b[0m\n\u001b[0;32m---> 44\u001b[0;31m     \u001b[0mvideo_id\u001b[0m \u001b[0;34m=\u001b[0m \u001b[0mget_video_id\u001b[0m\u001b[0;34m(\u001b[0m\u001b[0murl\u001b[0m\u001b[0;34m)\u001b[0m\u001b[0;34m\u001b[0m\u001b[0m\n\u001b[0m\u001b[1;32m     45\u001b[0m     \u001b[0;32mif\u001b[0m \u001b[0mvideo_id\u001b[0m \u001b[0;34m==\u001b[0m \u001b[0mNone\u001b[0m\u001b[0;34m:\u001b[0m\u001b[0;34m\u001b[0m\u001b[0m\n\u001b[1;32m     46\u001b[0m         \u001b[0;32mprint\u001b[0m\u001b[0;34m(\u001b[0m\u001b[0;34m\"get video_id error\"\u001b[0m\u001b[0;34m)\u001b[0m\u001b[0;34m\u001b[0m\u001b[0m\n",
      "\u001b[0;32m<ipython-input-34-720f0f7d1fa9>\u001b[0m in \u001b[0;36mget_video_id\u001b[0;34m(url)\u001b[0m\n\u001b[1;32m     37\u001b[0m     \u001b[0msearch\u001b[0m \u001b[0;34m=\u001b[0m \u001b[0mre\u001b[0m\u001b[0;34m.\u001b[0m\u001b[0msearch\u001b[0m\u001b[0;34m(\u001b[0m\u001b[0;34m\"\\\"videoId\\\":\\\"([^\\\"]+)\\\",\"\u001b[0m\u001b[0;34m,\u001b[0m \u001b[0mresp\u001b[0m\u001b[0;34m.\u001b[0m\u001b[0mtext\u001b[0m\u001b[0;34m)\u001b[0m\u001b[0;34m\u001b[0m\u001b[0m\n\u001b[1;32m     38\u001b[0m     \u001b[0;32mprint\u001b[0m\u001b[0;34m(\u001b[0m\u001b[0;34m\"search:%s\"\u001b[0m\u001b[0;34m%\u001b[0m\u001b[0;34m(\u001b[0m\u001b[0msearch\u001b[0m\u001b[0;34m)\u001b[0m\u001b[0;34m)\u001b[0m\u001b[0;34m\u001b[0m\u001b[0m\n\u001b[0;32m---> 39\u001b[0;31m     \u001b[0;32mprint\u001b[0m\u001b[0;34m(\u001b[0m\u001b[0msearch\u001b[0m\u001b[0;34m.\u001b[0m\u001b[0mgroup\u001b[0m\u001b[0;34m(\u001b[0m\u001b[0;36m1\u001b[0m\u001b[0;34m)\u001b[0m\u001b[0;34m)\u001b[0m\u001b[0;34m\u001b[0m\u001b[0m\n\u001b[0m\u001b[1;32m     40\u001b[0m     \u001b[0;32mreturn\u001b[0m \u001b[0msearch\u001b[0m\u001b[0;34m.\u001b[0m\u001b[0mgroup\u001b[0m\u001b[0;34m(\u001b[0m\u001b[0;36m1\u001b[0m\u001b[0;34m)\u001b[0m\u001b[0;34m\u001b[0m\u001b[0m\n\u001b[1;32m     41\u001b[0m \u001b[0;34m\u001b[0m\u001b[0m\n",
      "\u001b[0;31mAttributeError\u001b[0m: 'NoneType' object has no attribute 'group'"
     ]
    }
   ],
   "source": [
    "# coding:utf8\n",
    "#参考：https://www.jianshu.com/p/6ca1344a09db\n",
    "import re\n",
    "import requests\n",
    "import random\n",
    "from zlib import crc32\n",
    "from base64 import b64decode\n",
    " \n",
    "headers = {\n",
    "    \"User-Agent\": \"Mozilla/5.0 (Windows NT 10.0; Win64; x64) AppleWebKit/537.36 (KHTHL, like Gecko) Chrome/66.0.3359.181 Safari/537.36\",\n",
    "}\n",
    "    \n",
    "def get_video_url_api(video_id='v02004190000bjqdaaq0ifkkoafl5rg0'):\n",
    "    '''取视蘋地iff所在包的uri'''\n",
    "    r = str(random.random())[2:]\n",
    "    url_part = \"/video/urls/v/l/toutiao/mp4/{}?r={}\".format(video_id, r) \n",
    "    s = crc32(url_part.encode())\n",
    "    url = \"https://ib.365yg.com{}&s={}\".format(url_part,s) \n",
    "    return url\n",
    " \n",
    "def get_video_url(url):\n",
    "    #获取视频地址\n",
    "    resp = requests.get(url, headers=headers) \n",
    "    j_resp = resp.json()\n",
    "    video_url = j_resp['data']['video_list']['video_1']['main_url'] \n",
    "    video_url = b64decode(video_url.encode()).decode() \n",
    "    return video_url\n",
    " \n",
    "def get_video_id(url):\n",
    "    #获取视频id\n",
    "    resp = requests.get(url, headers=headers)\n",
    "    # 获取video_id\n",
    "#     print(resp.text)\n",
    "    print(re.search(\"videoId: '([^\\']+)'\",resp.text))\n",
    "    print(re.findall(r'window\\.__pageState=.*\\}</script>', resp.text))\n",
    "    print(resp.text.find('videoId'))\n",
    "    search = re.search(\"\\\"videoId\\\":\\\"([^\\\"]+)\\\",\", resp.text)\n",
    "    print(\"search:%s\"%(search))\n",
    "    print(search.group(1))\n",
    "    return search.group(1)\n",
    " \n",
    "def main():\n",
    "    url = \"https://www.ixigua.com/i6750173437722886659\" \n",
    "    video_id = get_video_id(url)\n",
    "    if video_id == None: \n",
    "        print(\"get video_id error\")\n",
    "        return\n",
    "    video_url_api = get_video_url_api(video_id)\n",
    "    print(video_url_api.encode())\n",
    "    video_url = get_video_url(video_url_api)\n",
    "    print(video_url)\n",
    "    return\n",
    " \n",
    "if __name__ == '__main__':\n",
    "    main()\n",
    "# ————————————————\n",
    "# 版权声明：本文为CSDN博主「我在看图」的原创文章，遵循CC 4.0 BY-SA版权协议，转载请附上原文出处链接及本声明。\n",
    "# 原文链接：https://blog.csdn.net/twk121109281/article/details/99308832"
   ]
  },
  {
   "cell_type": "code",
   "execution_count": null,
   "metadata": {
    "collapsed": true
   },
   "outputs": [],
   "source": []
  },
  {
   "cell_type": "markdown",
   "metadata": {},
   "source": [
    "# 腾讯视频解析"
   ]
  },
  {
   "cell_type": "markdown",
   "metadata": {},
   "source": [
    "## 解析2"
   ]
  },
  {
   "cell_type": "code",
   "execution_count": 39,
   "metadata": {
    "ExecuteTime": {
     "end_time": "2019-12-02T16:00:55.474001Z",
     "start_time": "2019-12-02T16:00:51.454518Z"
    }
   },
   "outputs": [
    {
     "name": "stdout",
     "output_type": "stream",
     "text": [
      "stream: shd\n",
      "http://220.181.91.162/vlive.qqvideo.tc.qq.com/A8io2tmqsf6E1r6qcbJ3EeHCo6-nFMKMiUjgZ5C0J2-Q/uwMROfz2r5zAoaQXGdGnC2dfJsWwzJstVd5dT1L7G84407uk//y00221a60w7.p401.1.mp4?sdtfrom=v1010&vkey=4D245176129CE7581CE26CF643676910A645F9471F658821E24004200B5CA006F534015BFB2ED8A91F68FFD2320528994FA3AF2A8B10D10D8CFFC74B9FD0C1CA6C95506AAFAB4A584DE3B104324D092824BBC349C1ECA04B6FA02CC7D208048EE65AE22BD270C59DC741B81662A6F55B\n",
      "stream: hd\n",
      "http://lmbsy.qq.com/uwMROfz2r5zAoaQXGdGnC2dfJsixdrk1oDpKF6x23wjLFekI//y00221a60w7.p412.1.mp4?sdtfrom=v1010&vkey=4429DBCF7B0F912B8C68D1E30EEB5C1DB3397558CD0234E82164336809C390F623AB897032A0535B8B92FCE65B05591C9ADBD63F73FE59756A6871D29E3D960FE03F5E591E0CFAD1D76414D1E967BFF8E286DBA462CB85A41B6646D3DE815F9A1017E673D7FE87626313190FB4EDD586\n",
      "stream: sd\n",
      "http://220.181.91.155/vlive.qqvideo.tc.qq.com/Axyvd88W4141zQHEXtWHfXuO2xkvbG8JnczqL90Qkwag/uwMROfz2r5zAoaQXGdGnC2dfJsc_suG0qWthIkS3oE8sgTw1//y00221a60w7.p403.1.mp4?sdtfrom=v1010&vkey=A735FB752FB2432AC6DB15AEDD0390F2A08C24C34C2D6D54B352767E7096626AB2BC085A1CC8566F63D84DF572C5AF6AA6AD2DCAED31F1927D9FCB18B8F1AE4AE40035ADF72C94EDC160393A6986E222ADCD54C14712421B9EA6EE5110D70BA1DA6223856EBF412754322A63DEEF7988\n"
     ]
    }
   ],
   "source": [
    "\n",
    "import requests\n",
    "import json\n",
    "\n",
    "#https://blog.csdn.net/sd19871122/article/details/80636582\n",
    "# url = 'https://v.qq.com/x/cover/rz4mhb6494f12co.html'\n",
    "url = \"http://v.qq.com/x/cover/5a3aweewodeclku/b0024j13g3b.html\"\n",
    "#\"vname_title\":\"咱们相爱吧\",\"vid\":\"y00221a60w7\",\"pic_url\":\"\"\n",
    "vid = 'y00221a60w7' # replace with your vid\n",
    "for definition in ('shd', 'hd', 'sd'):\n",
    "    params = {\n",
    "        'isHLS': False,\n",
    "        'charge': 0,\n",
    "        'vid': vid,\n",
    "        'defn': definition,\n",
    "        'defnpayver': 1,\n",
    "        'otype': 'json',\n",
    "        'platform': 10901,\n",
    "        'sdtfrom': 'v1010',\n",
    "        'host': 'v.qq.com',\n",
    "        'fhdswitch': 0,\n",
    "        'show1080p': 1,\n",
    "    }\n",
    "    r = requests.get('http://h5vv.video.qq.com/getinfo', params=params)\n",
    "    data = json.loads(r.content[len('QZOutputJson='):-1])\n",
    " \n",
    "    url_prefix = data['vl']['vi'][0]['ul']['ui'][0]['url']\n",
    "    for stream in data['fl']['fi']:\n",
    "        if stream['name'] != definition:\n",
    "            continue\n",
    "        stream_id = stream['id']\n",
    "        urls = []\n",
    "        for d in data['vl']['vi'][0]['cl']['ci']:\n",
    "            keyid = d['keyid']\n",
    "            filename = keyid.replace('.10', '.p', 1) + '.mp4'\n",
    "            params = {\n",
    "                'otype': 'json',\n",
    "                'vid': vid,\n",
    "                'format': stream_id,\n",
    "                'filename': filename,\n",
    "                'platform': 10901,\n",
    "                'vt': 217,\n",
    "                'charge': 0,\n",
    "            }\n",
    "            r = requests.get('http://h5vv.video.qq.com/getkey', params=params)\n",
    "            data = json.loads(r.content[len('QZOutputJson='):-1])\n",
    "            url = '%s/%s?sdtfrom=v1010&vkey=%s' % (url_prefix, filename, data['key'])\n",
    "            urls.append(url)\n",
    " \n",
    "        print 'stream:', stream['name']\n",
    "        for url in urls:\n",
    "            print url\n",
    "            break\n"
   ]
  },
  {
   "cell_type": "code",
   "execution_count": null,
   "metadata": {
    "collapsed": true
   },
   "outputs": [],
   "source": []
  }
 ],
 "metadata": {
  "kernelspec": {
   "display_name": "Python 2",
   "language": "python",
   "name": "python2"
  },
  "language_info": {
   "codemirror_mode": {
    "name": "ipython",
    "version": 2
   },
   "file_extension": ".py",
   "mimetype": "text/x-python",
   "name": "python",
   "nbconvert_exporter": "python",
   "pygments_lexer": "ipython2",
   "version": "2.7.11"
  },
  "toc": {
   "colors": {
    "hover_highlight": "#DAA520",
    "navigate_num": "#000000",
    "navigate_text": "#333333",
    "running_highlight": "#FF0000",
    "selected_highlight": "#FFD700",
    "sidebar_border": "#EEEEEE",
    "wrapper_background": "#FFFFFF"
   },
   "moveMenuLeft": true,
   "nav_menu": {
    "height": "119px",
    "width": "226px"
   },
   "navigate_menu": true,
   "number_sections": true,
   "sideBar": true,
   "threshold": 4,
   "toc_cell": true,
   "toc_position": {
    "height": "769px",
    "left": "0px",
    "right": "20px",
    "top": "66px",
    "width": "237px"
   },
   "toc_section_display": "block",
   "toc_window_display": true,
   "widenNotebook": false
  }
 },
 "nbformat": 4,
 "nbformat_minor": 2
}
