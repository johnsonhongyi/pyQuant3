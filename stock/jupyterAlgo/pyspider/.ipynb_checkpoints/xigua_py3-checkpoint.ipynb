{
 "cells": [
  {
   "cell_type": "markdown",
   "metadata": {},
   "source": [
    "# B站多线程"
   ]
  },
  {
   "cell_type": "markdown",
   "metadata": {},
   "source": [
    "## Github地址:\n",
    "https://github.com/Henryhaohao/Bilibili_video_download\n",
    "https://www.jianshu.com/p/851501401e10"
   ]
  },
  {
   "cell_type": "markdown",
   "metadata": {},
   "source": [
    "## other"
   ]
  },
  {
   "cell_type": "code",
   "execution_count": null,
   "metadata": {
    "ExecuteTime": {
     "start_time": "2019-12-03T05:52:16.043Z"
    }
   },
   "outputs": [
    {
     "name": "stdout",
     "output_type": "stream",
     "text": [
      "输入内容：av66766475\n",
      "+------+----------+--------------------------------+----------+------------+--------+-------------------------------------------+\n",
      "| 序号 |   up主   |              标题              | 视频时长 |  投稿日期  | 播放量 |                  试看链接                 |\n",
      "+------+----------+--------------------------------+----------+------------+--------+-------------------------------------------+\n",
      "|  1   | 偷工剪料 | 【灭霸的葬礼】反复仇者联盟集结 |  06:57   | 2019-09-06 | 25.0万 | https://www.bilibili.com/video/av66766475 |\n",
      "+------+----------+--------------------------------+----------+------------+--------+-------------------------------------------+\n"
     ]
    }
   ],
   "source": [
    "# coding=utf-8\n",
    "import requests,re,os\n",
    "from urllib.request import quote\n",
    "from lxml import etree\n",
    "from multiprocessing import Pool\n",
    "from ffmpy3 import FFmpeg\n",
    "from prettytable import PrettyTable\n",
    "order,infors = 1,[]\n",
    "table = PrettyTable(['序号', 'up主', '标题', '视频时长', '投稿日期', '播放量', '试看链接'])\n",
    "path='./bilivideo'\n",
    "path_='./bilivideo/mp4v'\n",
    "# folder=os.path.exists(path)\n",
    "# if not folder:                #判断是否存在文件夹如果不存在则创建为文件夹\n",
    "#     os.makedirs(path)\n",
    "# os.makedirs(path_)\n",
    "def data(content,page):\n",
    "    global order,infors\n",
    "    url='https://search.bilibili.com/all?keyword=%s&from_source=banner_search&page=%d'%(quote(content),page)\n",
    "    headers={\n",
    "        'Referer':'https://www.bilibili.com/',\n",
    "        'User-Agent':'Mozilla/5.0 (Windows NT 10.0; WOW64) AppleWebKit/537.36 (KHTML, like Gecko) Chrome/65.0.3325.181 Safari/537.36'\n",
    "    }\n",
    "    if page==1:\n",
    "        responses=etree.HTML(requests.get(url,headers=headers).content.decode('utf-8')).xpath('//*[@id=\"all-list\"]/div[1]/div[2]/ul[2]/li')\n",
    "        if responses==[]:\n",
    "            responses=etree.HTML(requests.get(url,headers=headers).content.decode('utf-8')).xpath('//*[@id=\"all-list\"]/div[1]/div[2]/ul/li')\n",
    "    else:\n",
    "        responses=etree.HTML(requests.get(url,headers=headers).content.decode('utf-8')).xpath('//*[@id=\"all-list\"]/div[1]/ul/li')\n",
    "    for response in responses:\n",
    "        infors.append([str(order),\n",
    "                       response.xpath('./div/div[3]/span[4]/a/text()')[0],\n",
    "                       response.xpath('./div/div[1]/a/@title')[0],\n",
    "                       response.xpath('./a/div/span[1]/text()')[0],\n",
    "                       response.xpath('./div/div[3]/span[3]/text()')[0].replace('\\n', '').replace(' ', ''),\n",
    "                       response.xpath('./div/div[3]/span[1]/text()')[0].replace('\\n','').replace(' ',''),\n",
    "                       'https:'+response.xpath('./div/div[1]/a/@href')[0].split('?')[0]])\n",
    "        order+=1\n",
    "def make(content,page):\n",
    "    global table,infors\n",
    "    for i in range(1, page+1):\n",
    "        data(content, i)\n",
    "    for i in infors:\n",
    "        table.add_row(i)\n",
    "    print(table)\n",
    "    number=input('输入要下载的视频序号：').split('.')\n",
    "    return [infors[int(i)-1][-1] for i in number]\n",
    "def download(url):\n",
    "    global path\n",
    "    hv={'User-Agent':'Mozilla/5.0 (Windows NT 10.0; WOW64) AppleWebKit/537.36 (KHTML, like Gecko) Chrome/65.0.3325.181 Safari/537.36'}\n",
    "    response=requests.get(url,headers=hv).content.decode('utf-8')\n",
    "    print(url[:30])\n",
    "    urls1=re.findall('\"baseUrl\":\"(.+?)\"',response)\n",
    "    urls2=re.findall('\"url\":\"(.+?)\"',response)\n",
    "    headers={\n",
    "        'Referer':url,\n",
    "        'User-Agent':'Mozilla/5.0 (Windows NT 10.0; WOW64) AppleWebKit/537.36 (KHTML, like Gecko) Chrome/65.0.3325.181 Safari/537.36',\n",
    "        'Range':'bytes=0-'\n",
    "    }\n",
    "    print(urls1)\n",
    "    if not os.path.exists(path):\n",
    "        os.mkdir(path)\n",
    "        print(\"mkdir:%s\"%(path))\n",
    "        if not os.path.exists(path_):\n",
    "            os.mkdir(path_)\n",
    "            print(\"mkdir:%s\"%(path_))\n",
    "    if urls1!=[]:\n",
    "        print(url.split('/')[-1] + '开始下载!')\n",
    "        with open(path_+os.sep+'%s.mp4'%(url.split('/')[-1]),'wb')as f:\n",
    "            f.write(requests.get( urls1[0],headers=headers).content)\n",
    "        with open(path_+os.sep+'%s.mp3'%(url.split('/')[-1]),'wb')as f:\n",
    "            f.write(requests.get(urls1[-1],headers=headers).content)\n",
    "        print(\"start ffmpeg mp4+mp3\")\n",
    "        ff = FFmpeg(inputs={path_+os.sep+'%s.mp4'%(url.split('/')[-1]): None, path_+os.sep+'%s.mp3' % (url.split('/')[-1]): None},\n",
    "                    outputs={path+os.sep+'%s.mp4'%(url.split('av')[-1]): '-c:v h264 -c:a ac3'})\n",
    "        ff.run()\n",
    "        print(url.split('/')[-1]+'下载完成!')\n",
    "    else:\n",
    "        print(url.split('/')[-1] + '开始下载!')\n",
    "        with open(path+os.sep+'%s.flv'%(url.split('/')[-1]),'wb')as f:\n",
    "            f.write(requests.get (urls2[0],headers=headers).content)\n",
    "        print(url.split('/')[-1] + '下载完成!')\n",
    "def start(content,page):\n",
    "    urls=make(content,page)\n",
    "    pool=Pool(processes=4)\n",
    "    pool.map(download,urls)\n",
    "\n",
    "\n",
    "if __name__ == '__main__':\n",
    "    content=input('输入内容：')\n",
    "    start(content,3)"
   ]
  },
  {
   "cell_type": "code",
   "execution_count": null,
   "metadata": {
    "collapsed": true
   },
   "outputs": [],
   "source": []
  }
 ],
 "metadata": {
  "kernelspec": {
   "display_name": "Python 3",
   "language": "python",
   "name": "python3"
  },
  "language_info": {
   "codemirror_mode": {
    "name": "ipython",
    "version": 3
   },
   "file_extension": ".py",
   "mimetype": "text/x-python",
   "name": "python",
   "nbconvert_exporter": "python",
   "pygments_lexer": "ipython3",
   "version": "3.6.2"
  },
  "toc": {
   "colors": {
    "hover_highlight": "#DAA520",
    "navigate_num": "#000000",
    "navigate_text": "#333333",
    "running_highlight": "#FF0000",
    "selected_highlight": "#FFD700",
    "sidebar_border": "#EEEEEE",
    "wrapper_background": "#FFFFFF"
   },
   "moveMenuLeft": true,
   "nav_menu": {
    "height": "12px",
    "width": "252px"
   },
   "navigate_menu": true,
   "number_sections": true,
   "sideBar": true,
   "threshold": 4,
   "toc_cell": false,
   "toc_position": {
    "height": "742px",
    "left": "0px",
    "right": "1251px",
    "top": "66px",
    "width": "168px"
   },
   "toc_section_display": "block",
   "toc_window_display": true,
   "widenNotebook": false
  }
 },
 "nbformat": 4,
 "nbformat_minor": 2
}
