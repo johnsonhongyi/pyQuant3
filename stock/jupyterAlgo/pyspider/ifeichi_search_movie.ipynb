{
 "cells": [
  {
   "cell_type": "code",
   "execution_count": null,
   "metadata": {
    "collapsed": true
   },
   "outputs": [],
   "source": [
    "# -*- coding:utf-8 -*-\n",
    "def set_dbg():1\n",
    "    import IPython.core.debugger\n",
    "    dbg = IPython.core.debugger.Pdb()\n",
    "    dbg.set_trace()"
   ]
  },
  {
   "cell_type": "markdown",
   "metadata": {},
   "source": [
    "# read allmv_id"
   ]
  },
  {
   "cell_type": "markdown",
   "metadata": {},
   "source": [
    "## read_disk"
   ]
  },
  {
   "cell_type": "code",
   "execution_count": 1,
   "metadata": {
    "ExecuteTime": {
     "end_time": "2019-12-16T10:28:11.785971Z",
     "start_time": "2019-12-16T10:28:11.756792Z"
    }
   },
   "outputs": [
    {
     "name": "stdout",
     "output_type": "stream",
     "text": [
      "locallist:50 古惑仔3之只手遮天\n"
     ]
    }
   ],
   "source": [
    "import io\n",
    "r_root ='/Users/Johnson/Downloads/iyanshu/feichi/'\n",
    "r_root ='/Users/Johnson/Downloads/iyanshu/feichi/片单/'\n",
    "# f_path = r_root+'0508'+'.txt'\n",
    "res_disk=['disk1','disk2','disk3','disk4','disk5']\n",
    "# res_disk=['disk5']\n",
    "res_disk=['0508']\n",
    "# res_disk=['disk6']\n",
    "\n",
    "def get_file_list(f_path,encoding='utf8',sep=False):\n",
    "    fout = io.open(f_path, 'rU',encoding=encoding).readlines()\n",
    "    f_list =[]\n",
    "    if not sep:\n",
    "        for m in fout:\n",
    "#             print m.split('.')[:-1][0]\n",
    "            if len(m.split('.')) > 1:\n",
    "                f_list.append(m.split('.')[:-1][0].strip())\n",
    "            else:\n",
    "                f_list.append(m.strip())\n",
    "    else:\n",
    "        for m in fout:\n",
    "#             print m.split(',')[0]\n",
    "            f_list.append(m.split(',')[0].strip())\n",
    "    return f_list\n",
    "local_list=[]\n",
    "mv_list = []\n",
    "write_list = []\n",
    "for f in res_disk:\n",
    "    f_p = r_root+f+'.txt'\n",
    "    data_list = get_file_list(f_p)\n",
    "    local_list.extend(data_list)\n",
    "print \"locallist:%s %s\"%(len(local_list),local_list[0])\n",
    "# allmv_id = r_root + 'allmv_id.txt'   \n",
    "# print get_file_list(allmv_id,'gbk',sep=True)        "
   ]
  },
  {
   "cell_type": "markdown",
   "metadata": {},
   "source": [
    "## disk2\n",
    "not find:大宅男\n",
    "not find:宝贝计划\n",
    "not find:挑战者联盟（国语无字幕）\n",
    "not find:楼\n",
    "not find:白发魔女传（粤语无字幕）\n",
    "not find:白雪公主之矮人力量\n",
    "not find:笔仙惊魂3\n",
    "not find:莫斯科陷落(译制版)\n",
    "not find:轩辕大帝\n",
    "not find:阿郎的故事\n",
    "not find:龙珠Z：复活的弗利萨（原声版）\n",
    "\n",
    "not find:挑战者联盟（国语无字幕）\n",
    "not find:楼\n",
    "not find:白发魔女传（粤语无字幕）\n",
    "not find:白雪公主之矮人力量\n",
    "not find:笔仙惊魂3\n",
    "not find:莫斯科陷落(译制版)\n",
    "not find:轩辕大帝\n",
    "not find:阿郎的故事\n",
    "\n",
    "not find:志明与春娇\n",
    "not find:挑战者联盟（国语无字幕）\n",
    "not find:楼\n",
    "not find:白发魔女传（粤语无字幕）\n",
    "not find:白雪公主之矮人力量\n",
    "not find:笔仙惊魂3\n",
    "not find:莫斯科陷落(译制版)\n",
    "not find:轩辕大帝\n",
    "not find:阿郎的故事\n",
    "mv_all:616 local:270 find:262 err:8 270 all:29\n",
    "\n",
    "TEST:\n",
    "唐山大地震Test版\n",
    "“正大杯”第四届大学生双创营销大赛启动会 1080p H265\n",
    "99\n",
    "苹果发布会视频\n",
    "张信哲 - 信仰 - Live\n",
    "大黄蜂\n",
    "发佛挡杀佛发\n",
    "小偷家族\n",
    "春娇与志明\n",
    "植物生长视频\n",
    "海王\n",
    "白蛇：缘起\n",
    "疯狂的外星人\n",
    "47HK2MpfKwqx1510325093\n",
    "1\n",
    "片头"
   ]
  },
  {
   "cell_type": "markdown",
   "metadata": {},
   "source": [
    "## 读取check in all_mv "
   ]
  },
  {
   "cell_type": "code",
   "execution_count": 2,
   "metadata": {
    "ExecuteTime": {
     "end_time": "2019-12-16T10:28:14.749010Z",
     "start_time": "2019-12-16T10:28:14.622943Z"
    }
   },
   "outputs": [
    {
     "ename": "IOError",
     "evalue": "[Errno 2] No such file or directory: '/Users/Johnson/Downloads/iyanshu/feichi/\\xe7\\x89\\x87\\xe5\\x8d\\x95/allmv_id.txt'",
     "output_type": "error",
     "traceback": [
      "\u001b[0;31m---------------------------------------------------------------------------\u001b[0m",
      "\u001b[0;31mIOError\u001b[0m                                   Traceback (most recent call last)",
      "\u001b[0;32m<ipython-input-2-5a978f92eccd>\u001b[0m in \u001b[0;36m<module>\u001b[0;34m()\u001b[0m\n\u001b[1;32m      1\u001b[0m \u001b[0mallmv_id\u001b[0m \u001b[0;34m=\u001b[0m \u001b[0mr_root\u001b[0m \u001b[0;34m+\u001b[0m \u001b[0;34m'allmv_id.txt'\u001b[0m\u001b[0;34m\u001b[0m\u001b[0m\n\u001b[1;32m      2\u001b[0m \u001b[0;31m# m_list = io.open(file_path, 'rU').readlines()\u001b[0m\u001b[0;34m\u001b[0m\u001b[0;34m\u001b[0m\u001b[0m\n\u001b[0;32m----> 3\u001b[0;31m \u001b[0mm_list\u001b[0m \u001b[0;34m=\u001b[0m \u001b[0mget_file_list\u001b[0m\u001b[0;34m(\u001b[0m\u001b[0mallmv_id\u001b[0m\u001b[0;34m,\u001b[0m \u001b[0mencoding\u001b[0m\u001b[0;34m=\u001b[0m\u001b[0;34m'gbk'\u001b[0m\u001b[0;34m,\u001b[0m \u001b[0msep\u001b[0m\u001b[0;34m=\u001b[0m\u001b[0mTrue\u001b[0m\u001b[0;34m)\u001b[0m\u001b[0;34m\u001b[0m\u001b[0m\n\u001b[0m\u001b[1;32m      4\u001b[0m \u001b[0;31m# m_list = local_list\u001b[0m\u001b[0;34m\u001b[0m\u001b[0;34m\u001b[0m\u001b[0m\n\u001b[1;32m      5\u001b[0m \u001b[0;31m# import chardet\u001b[0m\u001b[0;34m\u001b[0m\u001b[0;34m\u001b[0m\u001b[0m\n",
      "\u001b[0;32m<ipython-input-1-f118af31fdc5>\u001b[0m in \u001b[0;36mget_file_list\u001b[0;34m(f_path, encoding, sep)\u001b[0m\n\u001b[1;32m      9\u001b[0m \u001b[0;34m\u001b[0m\u001b[0m\n\u001b[1;32m     10\u001b[0m \u001b[0;32mdef\u001b[0m \u001b[0mget_file_list\u001b[0m\u001b[0;34m(\u001b[0m\u001b[0mf_path\u001b[0m\u001b[0;34m,\u001b[0m\u001b[0mencoding\u001b[0m\u001b[0;34m=\u001b[0m\u001b[0;34m'utf8'\u001b[0m\u001b[0;34m,\u001b[0m\u001b[0msep\u001b[0m\u001b[0;34m=\u001b[0m\u001b[0mFalse\u001b[0m\u001b[0;34m)\u001b[0m\u001b[0;34m:\u001b[0m\u001b[0;34m\u001b[0m\u001b[0m\n\u001b[0;32m---> 11\u001b[0;31m     \u001b[0mfout\u001b[0m \u001b[0;34m=\u001b[0m \u001b[0mio\u001b[0m\u001b[0;34m.\u001b[0m\u001b[0mopen\u001b[0m\u001b[0;34m(\u001b[0m\u001b[0mf_path\u001b[0m\u001b[0;34m,\u001b[0m \u001b[0;34m'rU'\u001b[0m\u001b[0;34m,\u001b[0m\u001b[0mencoding\u001b[0m\u001b[0;34m=\u001b[0m\u001b[0mencoding\u001b[0m\u001b[0;34m)\u001b[0m\u001b[0;34m.\u001b[0m\u001b[0mreadlines\u001b[0m\u001b[0;34m(\u001b[0m\u001b[0;34m)\u001b[0m\u001b[0;34m\u001b[0m\u001b[0m\n\u001b[0m\u001b[1;32m     12\u001b[0m     \u001b[0mf_list\u001b[0m \u001b[0;34m=\u001b[0m\u001b[0;34m[\u001b[0m\u001b[0;34m]\u001b[0m\u001b[0;34m\u001b[0m\u001b[0m\n\u001b[1;32m     13\u001b[0m     \u001b[0;32mif\u001b[0m \u001b[0;32mnot\u001b[0m \u001b[0msep\u001b[0m\u001b[0;34m:\u001b[0m\u001b[0;34m\u001b[0m\u001b[0m\n",
      "\u001b[0;31mIOError\u001b[0m: [Errno 2] No such file or directory: '/Users/Johnson/Downloads/iyanshu/feichi/\\xe7\\x89\\x87\\xe5\\x8d\\x95/allmv_id.txt'"
     ]
    }
   ],
   "source": [
    "allmv_id = r_root + 'allmv_id.txt'\n",
    "# m_list = io.open(file_path, 'rU').readlines()\n",
    "m_list = get_file_list(allmv_id, encoding='gbk', sep=True)\n",
    "# m_list = local_list\n",
    "# import chardet\n",
    "# print chardet.detect(m_list)\n",
    "# 判断文件编码的参考代码如下：\n",
    "# file = open(fileName, \"rb\")#要有\"rb\"，如果没有这个的话，默认使用gbk读文件。\n",
    "# buf = file.read()\n",
    "# result = chardet.detect(buf)\n",
    "# file = open(fileName,\"r\",encoding=result[\"encoding\"])\n",
    "# content = file.readlines()\n",
    "print len(m_list)\n",
    "other = [u'所以……和黑粉结婚了', u'29 1']\n",
    "count = 0\n",
    "bad_list = []\n",
    "check_list = []\n",
    "for m in m_list:\n",
    "#     if m.split(',')[0] not in local_list and m.split(',')[0] not in other:\n",
    "    if m not in local_list and m.split(',')[0] not in other:\n",
    "        count += 1\n",
    "#         print m.split(',')[0]\n",
    "#         bad_list.append(m.split(',')[0])\n",
    "        bad_list.append(m.split(',')[0])\n",
    "    else:\n",
    "#         print m,m.split(',')[0]\n",
    "        check_list.append(m)\n",
    "print \"m_list:%s count:%s bad:%s check_list:%s\"%(len(m_list), count, len(bad_list), len(check_list))\n",
    "\n",
    "# Write_list(allmv_id,check_list,encoding='gbk')"
   ]
  },
  {
   "cell_type": "markdown",
   "metadata": {
    "collapsed": true
   },
   "source": [
    "# 数据检测及写入"
   ]
  },
  {
   "cell_type": "markdown",
   "metadata": {},
   "source": [
    "## get 上传数据"
   ]
  },
  {
   "cell_type": "code",
   "execution_count": 1,
   "metadata": {
    "ExecuteTime": {
     "end_time": "2021-09-10T13:43:25.134361+08:00",
     "start_time": "2021-09-10T13:43:22.200053Z"
    },
    "scrolled": false
   },
   "outputs": [
    {
     "name": "stdout",
     "output_type": "stream",
     "text": [
      "[u'paramo', u'resultCode', u'resultMsg', u'params']\n",
      "[u'totalCount', u'currentPageNo', u'data', u'pageSize', u'totalPageCount']\n",
      "2738\n",
      "拆弹专家2, 121'04\", 3398,  2021-04-22 10:55:15,\n",
      "video_url:http://fcqvw.mvaas.cn/hls/2f03f5b30ec2f83c2f85/i371vbob5h547sbnkfal/1080_25_4_3000k_4_3_n/64d587f66aad94c47d0de42f4428376c.m3u8?xstToken=0648fda1\n",
      "侍神令, 119'59\", 3397,  2021-04-22 10:37:39,\n",
      "video_url:http://fcqvw.mvaas.cn/hls/2f03f5b30ec2f83c2f85/vjxawsyh4dph7nrpzr82/1080_25_4_3000k_4_3_n/9c010784365260f212fb45f32bbd64c7.m3u8?xstToken=7b98bfdc\n",
      "刺杀小说家, 129'52\", 3396,  2021-04-21 17:40:02,\n",
      "video_url:http://fcqvw.mvaas.cn/hls/2f03f5b30ec2f83c2f85/zd1iq86pqud13lu53qyh/n_n/7e14f6bc61cd8a6e5f66f8d547d4edce.m3u8?xstToken=5c4b0e5f\n",
      "缉魂, 123'34\", 3395,  2021-04-21 17:14:23,\n",
      "video_url:http://fcqvw.mvaas.cn/hls/2f03f5b30ec2f83c2f85/whcx9moecmlndwukap7f/1080_25_4_3000k_4_3_n/0022ffef9bb5fb9654d33926bf223ca5.m3u8?xstToken=b2d6b841\n",
      "送你一朵小红花, 128'23\", 3394,  2021-04-21 13:50:10,\n",
      "video_url:http://fcqvw.mvaas.cn/hls/2f03f5b30ec2f83c2f85/dxff6qjn76u5pnmxxj1l/1080_25_4_3000k_4_3_n/43485793aeefcc193322b904a01a6a53.m3u8?xstToken=fb94ad50\n",
      "人潮汹涌, 119'56\", 3393,  2021-04-21 13:21:59,\n",
      "video_url:http://fcqvw.mvaas.cn/hls/2f03f5b30ec2f83c2f85/7pydbo6755schxgtpjmm/1080_25_4_3000k_4_3_n/0e42219c038de1588b1adf5988a057f3.m3u8?xstToken=eb46fa68\n",
      "哪吒重生, 117'12\", 3392,  2021-04-21 12:59:54,\n",
      "video_url:\n",
      "炙热纠缠, 89'03\", 3391,  2021-03-03 20:53:35,\n",
      "video_url:http://fcqvw.mvaas.cn/hls/2f03f5b30ec2f83c2f85/bct2v8xco8n34lydaa66/1080_25_4_3000k_4_3_n/a5324cf51aabfcce980fef12044280e2.m3u8?xstToken=2741222d\n",
      "恋途未卜, 124'14\", 3390,  2021-03-03 20:22:30,\n",
      "video_url:http://fcqvw.mvaas.cn/hls/2f03f5b30ec2f83c2f85/ij445adrtbbml6sv21hh/1080_25_4_3000k_4_3_n/b13d230aef84ff93028d8d18a4ea2c68.m3u8?xstToken=1e97f0c9\n",
      "帕尔默, 110'43\", 3389,  2021-03-03 19:24:33,\n",
      "video_url:http://fcqvw.mvaas.cn/hls/2f03f5b30ec2f83c2f85/7cq3oc2m7cyce3xcinfq/1080_25_4_3000k_4_3_n/aa78ca38b3b64849d804cab01c891dd4.m3u8?xstToken=329ea470\n",
      "零度以下, 106'24\", 3388,  2021-03-03 18:34:25,\n",
      "video_url:http://fcqvw.mvaas.cn/hls/2f03f5b30ec2f83c2f85/738mbz3s1l73u7ixdzq2/1080_25_4_3000k_4_3_n/1007163c9cb76d3a6422a1f811e80422.m3u8?xstToken=79a488cd\n",
      "误杀瞒天记2, 152'45\", 3387,  2021-03-03 17:45:19,\n",
      "video_url:http://fcqvw.mvaas.cn/hls/2f03f5b30ec2f83c2f85/e4wogoxefimecyxjktds/1080_25_4_3000k_4_3_n/4e3817ce51b5d8781b1fddd04d4512bd.m3u8?xstToken=d894e0c0\n",
      "校园大逃杀, 109'01\", 3386,  2021-03-03 16:42:12,\n",
      "video_url:http://fcqvw.mvaas.cn/hls/2f03f5b30ec2f83c2f85/aqvtm7h9e67efjfgri5l/1080_25_4_3000k_4_3_n/3e9565f4ad2822e910883e7e110f2733.m3u8?xstToken=f85960bd\n",
      "旺达幻视（5-8）, 138'58\", 3385,  2021-03-03 16:02:36,\n",
      "video_url:http://fcqvw.mvaas.cn/hls/2f03f5b30ec2f83c2f85/wlvksc2ggqgqazyxcc4q/1080_25_4_3000k_4_3_n/07ee0e66f5af9e505de32ba7cf2c3eb0.m3u8?xstToken=a768a469\n",
      "旺达幻视（1-8）, 247'58\", 3384,  2021-03-03 15:08:28,\n",
      "video_url:http://fcqvw.mvaas.cn/hls/2f03f5b30ec2f83c2f85/yzhfo5v361bylldm82tt/1080_25_4_3000k_4_3_n/3077fb2cdeb0a494ba3cc3f00591ecb9.m3u8?xstToken=681660d5\n",
      "暴力欲望的房子, 115'14\", 3383,  2021-02-08 18:00:20,\n",
      "video_url:http://fcqvw.mvaas.cn/hls/2f03f5b30ec2f83c2f85/rl1vhhy37sburzrz3yba/1080_25_4_3000k_4_3_n/d445901dcc712c57c8fe9f0e76f65078.m3u8?xstToken=c2f0a361\n",
      "蛛丝马迹, 127'36\", 3382,  2021-02-08 16:54:31,\n",
      "video_url:http://fcqvw.mvaas.cn/hls/2f03f5b30ec2f83c2f85/883j8tbh7j4mnmm1w7zs/1080_25_4_3000k_4_3_n/ea36c901a9a2c28ec36f083fe2341c3b.m3u8?xstToken=4ccd6a53\n",
      "旺达幻视（1-4）, 111'37\", 3381,  2021-02-08 15:40:39,\n",
      "video_url:http://fcqvw.mvaas.cn/hls/2f03f5b30ec2f83c2f85/6cjz1zf94l8nj6dz4433/1080_25_4_3000k_4_3_n/014c4717220a566263db0338f6baf3f5.m3u8?xstToken=868bcd3b\n",
      "旺达幻视（3-4）, 58'35\", 3380,  2021-02-08 14:33:52,\n",
      "video_url:http://fcqvw.mvaas.cn/hls/2f03f5b30ec2f83c2f85/34iyn1e47tenvuz72wcd/1080_25_4_3000k_4_3_n/8e6609c2b2fab0f78ee4c3691cc596dc.m3u8?xstToken=9553c386\n",
      "旺达幻视（1-2）, 55'33\", 3379,  2021-01-29 17:24:59,\n",
      "video_url:http://fcqvw.mvaas.cn/hls/2f03f5b30ec2f83c2f85/rs5jeb18laf56lknhqbm/1080_25_4_3000k_4_3_n/92fd71e1d18b414cfdff7245cf3a1ec2.m3u8?xstToken=099c024f\n",
      "后遗症, 97'52\", 3378,  2021-01-28 13:40:30,\n",
      "video_url:http://fcqvw.mvaas.cn/hls/2f03f5b30ec2f83c2f85/howdad84gsjhg9b5nv9d/1080_25_4_3000k_4_3_n/3d02c48a07d07cf36bd78890ccbb46f5.m3u8?xstToken=b2089a07\n",
      "白老虎, 126'45\", 3377,  2021-01-28 12:41:02,\n",
      "video_url:http://fcqvw.mvaas.cn/hls/2f03f5b30ec2f83c2f85/wdjpv1ptpp576dihkmqo/1080_25_4_3000k_4_3_n/4eda52748a8b353bde8b351107e2a928.m3u8?xstToken=b3a7be98\n",
      "空中营救, 106'23\", 3376,  2021-01-26 15:51:44,\n",
      "video_url:http://fcqvw.mvaas.cn/hls/2f03f5b30ec2f83c2f85/7h218453oa4caz6b7a6n/1080_25_4_3000k_4_3_n/8aca0bafefbb39b36a143c9b995e8bae.m3u8?xstToken=84469cd4\n",
      "前程似锦的女孩, 113'41\", 3375,  2021-01-25 20:52:37,\n",
      "video_url:http://fcqvw.mvaas.cn/hls/2f03f5b30ec2f83c2f85/8nhgjbzjpphq6vukt8wy/1080_25_4_3000k_4_3_n/2ef58a04a8e52a4909a4502eb602a81d.m3u8?xstToken=1f2fb6bc\n",
      "同步, 101'36\", 3374,  2021-01-25 19:44:22,\n",
      "video_url:http://fcqvw.mvaas.cn/hls/2f03f5b30ec2f83c2f85/vp1pqhchh4egefzz4d21/1080_25_4_3000k_4_3_n/e42051101b91cdf9c24cc89494463c40.m3u8?xstToken=92781b47\n",
      "封锁, 117'42\", 3373,  2021-01-25 18:43:26,\n",
      "video_url:http://fcqvw.mvaas.cn/hls/2f03f5b30ec2f83c2f85/t7cg8lw477itirqds86s/1080_25_4_3000k_4_3_n/fe5193b6004892ce5633c7dcd0a7fea1.m3u8?xstToken=c5750184\n",
      "碰撞地球, 83'58\", 3372,  2021-01-25 17:30:03,\n",
      "video_url:http://fcqvw.mvaas.cn/hls/2f03f5b30ec2f83c2f85/86g133xhhhxz8bfj3t7a/1080_25_4_3000k_4_3_n/5d3ef3e62a79e026adb0c7daad5aa689.m3u8?xstToken=f0c147bf\n",
      "死神降临, 90'58\", 3371,  2021-01-22 18:27:55,\n",
      "video_url:http://fcqvw.mvaas.cn/hls/2f03f5b30ec2f83c2f85/2l4sscdopez8gszo5tzs/1080_25_4_3000k_4_3_n/5b00e13d2c6d81ca80483e373cae3256.m3u8?xstToken=eb3b46f0\n",
      "疾速杀机, 85'00\", 3370,  2021-01-22 17:32:56,\n",
      "video_url:http://fcqvw.mvaas.cn/hls/2f03f5b30ec2f83c2f85/1in2bv583slfddgf7rm6/1080_25_4_3000k_4_3_n/81d4e40b4e8358d7b2a34ac781a5c15b.m3u8?xstToken=56ffbc34\n",
      "占据, 98'25\", 3369,  2021-01-22 15:32:57,\n",
      "video_url:http://fcqvw.mvaas.cn/hls/2f03f5b30ec2f83c2f85/jw3en975fvj4hh3j2ksg/1080_25_4_3000k_4_3_n/683eafa55cea0e0a88b1c7b803f44a64.m3u8?xstToken=2c5f7ad2\n",
      "三屈式, 94'51\", 3368,  2021-01-22 14:31:17,\n",
      "video_url:http://fcqvw.mvaas.cn/hls/2f03f5b30ec2f83c2f85/z7azeh1ezovjv4fqm877/1080_25_4_3000k_4_3_n/f51167687ea327a0edfe4b2101ed1cb7.m3u8?xstToken=518c3864\n",
      "彩蛋大屠杀, 92'24\", 3367,  2021-01-22 13:34:01,\n",
      "video_url:http://fcqvw.mvaas.cn/hls/2f03f5b30ec2f83c2f85/sxgzreadysj8ky2t1aex/1080_25_4_3000k_4_3_n/5a1e54c1876f5de950f625418f266dfe.m3u8?xstToken=bb10b6d3\n",
      "恶夜将临, 85'26\", 3366,  2021-01-22 12:35:28,\n",
      "video_url:http://fcqvw.mvaas.cn/hls/2f03f5b30ec2f83c2f85/1bmsw4grffx9kipy1wyb/1080_25_4_3000k_4_3_n/dda318b596e15c05a252ced03fd00645.m3u8?xstToken=92d16c88\n",
      "小孩都是魔鬼吧-, 89'05\", 3365,  2021-01-22 11:44:09,\n",
      "video_url:http://fcqvw.mvaas.cn/hls/2f03f5b30ec2f83c2f85/3fbcputc3o9n5on3oldv/1080_25_4_3000k_4_3_n/ec414567c6b1bd139bbfce56fc0700f6.m3u8?xstToken=e7bbfdfd\n",
      "月下狩猎, 77'42\", 3364,  2021-01-20 14:06:35,\n",
      "video_url:http://fcqvw.mvaas.cn/hls/2f03f5b30ec2f83c2f85/y7ug31txy2pwksilwvgz/1080_25_4_3000k_4_3_n/e2c35a710b6e2bfafbece55832440e2d.m3u8?xstToken=e977bd2f\n",
      "末日激战, 115'39\", 3363,  2021-01-20 13:17:52,\n",
      "video_url:http://fcqvw.mvaas.cn/hls/2f03f5b30ec2f83c2f85/kd7c1jju9lrksexfzfnl/1080_25_4_3000k_4_3_n/561a69aefc17171b973a8da7c610543e.m3u8?xstToken=1935fab7\n",
      "世界新闻, 118'04\", 3362,  2021-01-20 12:09:51,\n",
      "video_url:http://fcqvw.mvaas.cn/hls/2f03f5b30ec2f83c2f85/iz31x88rvjg7aevit24b/1080_25_4_3000k_4_3_n/29d642b4b29e07b2d4b15edb26af8ce3.m3u8?xstToken=879f528c\n",
      "蝙蝠侠：龙之魂, 82'15\", 3361,  2021-01-18 16:14:48,\n",
      "video_url:http://fcqvw.mvaas.cn/hls/2f03f5b30ec2f83c2f85/epab4kwfqlgils6yoeee/1080_25_4_3000k_4_3_n/ec2d23ff61c445fd53d6fa6b63091f0a.m3u8?xstToken=e6a05c8c\n",
      "印度小姐, 136'18\", 3360,  2021-01-15 20:52:32,\n",
      "video_url:http://fcqvw.mvaas.cn/hls/2f03f5b30ec2f83c2f85/zb8tftjbz3h3j8ik6acw/1080_25_4_3000k_4_3_n/4517f887ac99e84c1dc20496005f95a3.m3u8?xstToken=c2f2a5ac\n",
      "夺魂连线, 55'55\", 3359,  2021-01-15 19:29:50,\n",
      "video_url:http://fcqvw.mvaas.cn/hls/2f03f5b30ec2f83c2f85/7dlclplxsth9odjunqt5/1080_25_4_3000k_4_3_n/b774c9e2c9b65e195f24b45552b94194.m3u8?xstToken=8b21f708\n",
      "不可掉头-1, 97'25\", 3358,  2021-01-15 18:56:51,\n",
      "video_url:http://fcqvw.mvaas.cn/hls/2f03f5b30ec2f83c2f85/pu73jss5mbfqxk8q22y4/1080_25_4_3000k_4_3_n/bd625dbffc08511c61d5b3250f0705fd.m3u8?xstToken=138140d9\n",
      "2020去死, 70'42\", 3357,  2021-01-14 17:51:58,\n",
      "video_url:http://fcqvw.mvaas.cn/hls/2f03f5b30ec2f83c2f85/nu7xilecqqdhe9ooamvc/1080_25_4_3000k_4_3_n/976e4d53d4ab382a94aae5d419629194.m3u8?xstToken=33c6b6f5\n",
      "云中阴影, 79'46\", 3356,  2021-01-14 17:09:36,\n",
      "video_url:http://fcqvw.mvaas.cn/hls/2f03f5b30ec2f83c2f85/vdr4n4z4fajsyde2czwl/1080_25_4_3000k_4_3_n/7e9d22b2b3822cb0d536414a66d2b72c.m3u8?xstToken=01f84115\n",
      "亚瑟与梅林：圣杯骑士, 90'34\", 3355,  2021-01-14 16:18:57,\n",
      "video_url:http://fcqvw.mvaas.cn/hls/2f03f5b30ec2f83c2f85/27h8w9vnr1f2wsdkq8k3/1080_25_4_3000k_4_3_n/66ebba7c22bff8951f0553b80929cbcc.m3u8?xstToken=6b925680\n",
      "近身, 87'47\", 3354,  2021-01-14 15:27:59,\n",
      "video_url:http://fcqvw.mvaas.cn/hls/2f03f5b30ec2f83c2f85/lksxhdy6yxtgml9gvslq/1080_25_4_3000k_4_3_n/18c5b406c8e994210dd44627890904b1.m3u8?xstToken=8338ad16\n",
      "车仁表, 102'05\", 3353,  2021-01-13 14:08:52,\n",
      "video_url:http://fcqvw.mvaas.cn/hls/2f03f5b30ec2f83c2f85/wjbbrw394bxx27517rke/1080_25_4_3000k_4_3_n/964322ac1e7cd734fd3d1547d24f9861.m3u8?xstToken=5fd051c7\n",
      "无依之地, 106'24\", 3352,  2021-01-13 13:10:48,\n",
      "video_url:http://fcqvw.mvaas.cn/hls/2f03f5b30ec2f83c2f85/cgacup7z8vz1ovfgxe45/1080_25_4_3000k_4_3_n/b6b04bc631d7659975c04fa42e63ab6c.m3u8?xstToken=7a4668c1\n",
      "无声, 99'14\", 3351,  2021-01-13 12:13:43,\n",
      "video_url:http://fcqvw.mvaas.cn/hls/2f03f5b30ec2f83c2f85/l2yrcerhmfcocd7tocx3/1080_25_4_3000k_4_3_n/62bf7802bc481d1cebffec653d871127.m3u8?xstToken=e93fc78b\n",
      "赛车狂人3, 100'41\", 3350,  2021-01-11 11:47:19,\n",
      "video_url:http://fcqvw.mvaas.cn/hls/2f03f5b30ec2f83c2f85/new5gq8fmwfjgv296ejx/1080_25_4_3000k_4_3_n/2dfd9890f3129128de4fe7ba35f9e5fc.m3u8?xstToken=308a583f\n",
      "all_mv:1631\n"
     ]
    }
   ],
   "source": [
    "import urllib2\n",
    "import json\n",
    "\n",
    "def w_file(fpath,fjson):\n",
    "    with open(fpath, 'w') as f:\n",
    "            f.write(json.dumps(fjson))\n",
    "url_root=r'http://wozhui.zhuidianying.com/service/iBacManage.action?bizCode=9077&appID=3&id=&type=0&classify_id=&begDate=&endDate=&pageSize=%s&pageNo=1'\n",
    "# url_root = 'http://feichi.iyanshu.com/service/iBacManage.action?bizCode=9082&appID=3&contentId=&label=&begDate=&endDate=&reBegDate=&reEndDate=&pageSize=%s&pageNo=1&status='\n",
    "url_path=url_root%(2000)\n",
    "html = urllib2.urlopen(url_path)\n",
    "html_data = html.read()\n",
    "# print html_data\n",
    "hjson = json.loads(html_data)\n",
    "print hjson.keys()\n",
    "print hjson['params'].keys()\n",
    "print hjson['params']['totalCount']\n",
    "m_data = hjson['params']['data']\n",
    "count = 0\n",
    "mv_list =[]\n",
    "write_list =[]\n",
    "for m in m_data:\n",
    "    du = m['duration'].split('\\'')[0]\n",
    "#     print m['title'],m['duration']\n",
    "    \n",
    "    if float(du)> 30:\n",
    "        count +=1\n",
    "#         print m.keys()\n",
    "#         print m\n",
    "        if count < 50 :\n",
    "            print \"%s, %s, %s,  %s,%s\"%(m['title'],m['duration'],m['id'],m['create_time'],m['release_channel'].replace(',',';'))\n",
    "            print \"video_url:%s\"%(m['video_url'])\n",
    "        mv_list.append(m['title'].strip())\n",
    "        write_list.append('%s,%s,%s,%s,%s,%s'%(m['title'],m['duration'],m['id'],m['create_time'],m['release_channel'].replace(',',';'),m['video_url']))\n",
    "#         print \"%s\"%(m['title'])\n",
    "#     else:\n",
    "#         print \"duration error:%s %s \"%(m['title'],m['duration'])\n",
    "print \"all_mv:%s\"%(count)\n",
    "# find_ok = 0\n",
    "# find_err = 0\n",
    "# for local in local_list:\n",
    "# #     print local\n",
    "# #     import IPython.core.debugger\n",
    "# #     dbg = IPython.core.debugger.Pdb()\n",
    "# #     dbg.set_trace()\n",
    "#     if local in mv_list:\n",
    "#         find_ok+=1\n",
    "# #         print \"find:%s\"%(local)\n",
    "#     else:\n",
    "#         find_err +=1\n",
    "#         print \"not find:%s\"%(local)\n",
    "# print \"local:%s find:%s err:%s %s all:%s\"%(len(local_list),find_ok,find_err,find_ok+find_err,count)\n",
    "# mjson  = json.loads(hjson['params'])"
   ]
  },
  {
   "cell_type": "markdown",
   "metadata": {},
   "source": [
    "## get 发布数据内容"
   ]
  },
  {
   "cell_type": "code",
   "execution_count": 6,
   "metadata": {
    "ExecuteTime": {
     "end_time": "2019-12-16T10:34:43.310821Z",
     "start_time": "2019-12-16T10:34:42.674835Z"
    },
    "scrolled": true
   },
   "outputs": [
    {
     "name": "stdout",
     "output_type": "stream",
     "text": [
      "[u'paramo', u'resultCode', u'resultMsg', u'params']\n",
      "[u'totalCount', u'currentPageNo', u'data', u'pageSize', u'totalPageCount']\n",
      "totalCount: 469\n",
      "down:测试_满江红有火_爱给网_aigei_com2 2 1999\n",
      "down:测试—星际传奇 2 1997\n",
      "movie: 龙珠Z：复活的弗利萨（原声版）, 13834, 351,  2019-11-28 14:47:05\n",
      "u'video_url:http://feichi.iyanshu.com/video/fa218687aedd6799d2e08400912af397/fa218687aedd6799d2e08400912af397.vdo http://feichi.mvaas.cn/video/fa218687aedd6799d2e08400912af397/fa218687aedd6799d2e08400912af397.vdo\n",
      "{u'subtitle': u'', u'video_url': u'http://feichi.iyanshu.com/video/fa218687aedd6799d2e08400912af397/fa218687aedd6799d2e08400912af397.vdo', u'douban_id': None, u'video_4g_url': u'http://qvw.mvaas.cn/hls/2f03f5b30ec2f83c2f85/brm1s3y4eu151275372a/720_25_4_1000k_4_7_n/fa218687aedd6799d2e08400912af397.m3u8?tag=WgG5yeKuIZvtyeSLeQKLyg==', u'superscript_id': None, u'crypt_status': u'1', u'duration': u'93\\'40\"', u'create_time': u'2019-11-28 14:47:05', u'gt_release_time': u'', u'hl_video_url': u'http://feichi.mvaas.cn/video/fa218687aedd6799d2e08400912af397/fa218687aedd6799d2e08400912af397.vdo', u'douban_score': u'5.6', u'isize': u'763', u'id': u'351', u'size': u'13834', u'collection_count': None, u'cover_pichz_cloud_url': u'http://feichi.iyanshu.com/mini_images/cover/20191011//small_bshare_2gr2vta2u1u2hve1bc4v.jpg', u'copyright': None, u'title': u'\\u9f99\\u73e0Z\\uff1a\\u590d\\u6d3b\\u7684\\u5f17\\u5229\\u8428\\uff08\\u539f\\u58f0\\u7248\\uff09', u'v_handle_status': u'1', u'comment_count': None, u'actor': None, u'label': u'\\u52a8\\u753b', u'copyright_start_time': None, u'iall_num': None, u'copyright_end_time': None, u'release_time': u'2019-11-28 14:47:05', u'v_id': u'817433040771077104', u'send_status': u'1', u'status': u'1', u'price': None, u'cover_url': u'http://feichi.iyanshu.com/mini_images/cover/20191011//small_bshare_2gr2vta2u1u2hve1bc4v.jpg', u'director': None, u'v_status': u'1', u'hl_release_time': u'', u'product_id': None, u'click_count': None, u'imake_time': u'1429315200', u'material_id': u'1053', u'summary': u'\\u8bb8\\u591a\\u5e74\\u524d\\uff0c\\u5b87\\u5b99\\u6700\\u5927\\u9b54\\u738b\\u5f17\\u5229\\u8428\\uff08\\u4e2d\\u5c3e\\u9686\\u5723 \\u914d\\u97f3\\uff09\\u63a5\\u8fde\\u8d25\\u5728\\u8d85\\u7ea7\\u8d5b\\u4e9a\\u4eba\\u4e4b\\u624b\\uff0c\\u4ed6\\u7684\\u6b8b\\u515a\\u6b32\\u5b7d\\u5219\\u6d41\\u6d6a\\u5b87\\u5b99\\u4e4b\\u4e2d\\u5bfb\\u627e\\u90a3\\u7f8e\\u514b\\u661f\\u4eba\\u7684\\u65b0\\u5b9a\\u5c45\\u70b9\\uff0c\\u4ee5\\u671f\\u5c06\\u5f17\\u5229\\u8428\\u518d\\u5ea6\\u590d\\u6d3b\\u3002\\u51e0\\u7ecf\\u5468\\u6298\\uff0c\\u519b\\u961f\\u4ee3\\u7406\\u7d22\\u5c14\\u8d1d\\uff08\\u658b\\u85e4\\u5fd7\\u90ce \\u914d\\u97f3\\uff09\\u5229\\u7528\\u5730\\u7403\\u7684\\u9f99\\u73e0\\u628a\\u5f17\\u5229\\u8428\\u5e26\\u56de\\u4eba\\u95f4\\uff0c\\u800c\\u8fd9\\u4e2a\\u521a\\u521a\\u590d\\u6d3b\\u4e0d\\u4e45\\u7684\\u9b54\\u738b\\u5f88\\u5feb\\u5c55\\u5f00\\u4e86\\u4ed6\\u7684\\u590d\\u4ec7\\u8ba1\\u5212\\u3002\\u534a\\u5e74\\u4e4b\\u540e\\uff0c\\u6d69\\u6d69\\u8361\\u8361\\u7684\\u5f17\\u5229\\u8428\\u5927\\u519b\\u964d\\u4e34\\u5730\\u7403\\uff0c\\u609f\\u996d\\uff08\\u91ce\\u6cfd\\u96c5\\u5b50 \\u914d\\u97f3\\uff09\\u3001\\u6bd4\\u514b\\u5927\\u9b54\\u738b\\uff08\\u53e4\\u5ddd\\u767b\\u5fd7\\u592b \\u914d\\u97f3\\uff09\\u3001\\u514b\\u6797\\u3001\\u5929\\u6d25\\u996d\\u3001\\u6b66\\u5929\\u8001\\u5e08\\u633a\\u8eab\\u800c\\u51fa\\uff0c\\u800c\\u5b59\\u609f\\u7a7a\\uff08\\u91ce\\u6cfd\\u96c5\\u5b50 \\u914d\\u97f3\\uff09\\u548c\\u8d1d\\u5409\\u5854\\uff08\\u5800\\u5ddd\\u4eae \\u914d\\u97f3\\uff09\\u5219\\u6b63\\u8ddf\\u968f\\u7ef4\\u65af\\uff08\\u68ee\\u7530\\u6210\\u4e00 \\u914d\\u97f3\\uff09\\u5728\\u9065\\u8fdc\\u7684\\u5b87\\u5b99\\u6df1\\u5904\\u63a5\\u53d7\\u8bd5\\u70bc\\u3002 \\u5371\\u673a\\u65f6\\u523b\\uff0c\\u5730\\u7403\\u88ab\\u5165\\u4fb5\\u7684\\u6d88\\u606f\\u7ec8\\u4e8e\\u4f20\\u5230\\u7ef4\\u65af\\u548c\\u6bd4\\u9c81\\u65af\\u90a3\\u91cc\\uff0c\\u609f\\u7a7a\\u3001\\u8d1d\\u5409\\u5854\\u5373\\u5c06\\u4e0e\\u4ed6\\u4eec\\u5bbf\\u547d\\u4e2d\\u7684\\u51a4\\u5bb6\\u518d\\u5ea6\\u5c55\\u5f00\\u5bf9\\u51b3\\u2026\\u2026', u'classify_id': None, u'cover_picvt_cloud_url': None}\n",
      "down:午夜怪谈 0 1715\n",
      "all_mv:466\n",
      "down:3 mv_list:1344 wri:1344\n"
     ]
    }
   ],
   "source": [
    "import urllib2\n",
    "import json\n",
    "\n",
    "def w_file(fpath,fjson):\n",
    "    with open(fpath, 'w') as f:\n",
    "            f.write(json.dumps(fjson))\n",
    "# url_root=r'http://feichi.iyanshu.com/service/iBacManage.action?bizCode=9077&appID=3&id=&type=0&classify_id=&begDate=&endDate=&pageSize=%s&pageNo=1'\n",
    "url_root = 'http://feichi.iyanshu.com/service/iBacManage.action?bizCode=9082&appID=3&contentId=&label=&begDate=&endDate=&reBegDate=&reEndDate=&pageSize=%s&pageNo=1&status='\n",
    "url_path=url_root%(1000)\n",
    "html = urllib2.urlopen(url_path)\n",
    "html_data = html.read()\n",
    "# set_dbg()\n",
    "# print html_data\n",
    "hjson = json.loads(html_data)\n",
    "print hjson.keys()\n",
    "print hjson['params'].keys()\n",
    "print \"totalCount:\",hjson['params']['totalCount']\n",
    "m_data = hjson['params']['data']\n",
    "count = 0\n",
    "release_l =[]\n",
    "down_l = []\n",
    "down_c =0\n",
    "for m in m_data:\n",
    "#     du = m['material_id'].split('\\'')[0]\n",
    "    status = m['status']\n",
    "#     print du\n",
    "    if status == '1':\n",
    "        count +=1\n",
    "        if count < 2:\n",
    "#             print m.keys()\n",
    "#             print m\n",
    "            print \"movie: %s, %s, %s,  %s\"%(m['title'],m['size'],m['id'],m['release_time'])\n",
    "            print \"u'video_url:%s %s\"%(m['video_url'],m['hl_video_url'])\n",
    "            print m\n",
    "        if m['size'] > 200:\n",
    "            release_l.append(m['title'].split('.')[0].strip())\n",
    "            if m['title'].split('.')[0].strip() not in mv_list:\n",
    "                mv_list.append(m['title'].split('.')[0].strip()) \n",
    "                if count < 2:\n",
    "                    print \"r: %s %s %s %s\"%(m['title'],m['size'],m['id'],m['material_id'])\n",
    "                write_list.append('%s,%s,%s,%s'%(m['title'],m['size'],m['id'],m['release_time']))\n",
    "    else:\n",
    "        down_c +=1\n",
    "        down_l.append(m['title'].strip())\n",
    "        print \"down:%s %s %s\"%(m['title'],m['status'],m['material_id'])\n",
    "print \"all_mv:%s\"%(count)\n",
    "print \"down:%s mv_list:%s wri:%s\"%(down_c,len(mv_list),len(write_list))\n"
   ]
  },
  {
   "cell_type": "markdown",
   "metadata": {},
   "source": [
    "## check find_list in  local and mv_list"
   ]
  },
  {
   "cell_type": "code",
   "execution_count": 7,
   "metadata": {
    "ExecuteTime": {
     "end_time": "2019-06-17T09:20:15.963817Z",
     "start_time": "2019-06-17T09:20:15.952806Z"
    }
   },
   "outputs": [
    {
     "name": "stdout",
     "output_type": "stream",
     "text": [
      "local_list in:战狼Ⅱ\n",
      "local_list in:哆啦A梦：大雄的金银岛\n",
      "local_list in:前任3：再见前任\n"
     ]
    }
   ],
   "source": [
    "# for m in mv_list:\n",
    "# for m in local_list:\n",
    "#     if m.startswith(u'黑侠'):\n",
    "#         print m\n",
    "\n",
    "find_list=[u'挑战者联盟',u'山椒大夫',u'海滩的一天（下）',u'海滩的一天',u'重案黐']\n",
    "find_list = [u'战狼Ⅱ',u'哆啦',u'前任']\n",
    "for f in find_list:\n",
    "    for m in local_list:\n",
    "        if m.startswith(f):\n",
    "#         if f == m:\n",
    "            print \"local_list in:%s\"%(m)\n",
    "\n",
    "\n",
    "for f in find_list:\n",
    "    for m in mv_list:\n",
    "        if m.startswith(f):\n",
    "#         if f == m:\n",
    "            print \"mv_list in:%s\"%(m)\n",
    "#         else:\n",
    "#             print \"no :%s\"%(m)\n",
    "    # print local_list"
   ]
  },
  {
   "cell_type": "markdown",
   "metadata": {},
   "source": [
    "## wrie to allmv"
   ]
  },
  {
   "cell_type": "code",
   "execution_count": 14,
   "metadata": {
    "ExecuteTime": {
     "end_time": "2019-06-17T09:21:16.473857Z",
     "start_time": "2019-06-17T09:21:16.443274Z"
    }
   },
   "outputs": [
    {
     "name": "stdout",
     "output_type": "stream",
     "text": [
      "badcount:10\n",
      "uploadcount:1219 mv:1229 bad:10 src-out:22\n",
      "“正大杯”第四届大学生双创营销大赛启动会\n",
      "1080p\n",
      "H265\n",
      "张信哲\n",
      "-\n",
      "信仰\n",
      "-\n",
      "Live\n",
      "疯狂的外星人\n",
      "47HK2MpfKwqx1510325093\n",
      "1\n",
      "片头\n",
      "mv_list:1219\n"
     ]
    }
   ],
   "source": [
    "\n",
    "\n",
    "outdata=u'唐山大地震Test版 “正大杯”第四届大学生双创营销大赛启动会 1080p H265 99 苹果发布会视频 张信哲 - 信仰 - Live 大黄蜂 发佛挡杀佛发 小偷家族 春娇与志明 植物生长视频 海王 白蛇：缘起 疯狂的外星人 47HK2MpfKwqx1510325093 1 片头'\n",
    "outlist = outdata.split()\n",
    "badcount =0\n",
    "for m in outlist:\n",
    "    if m in mv_list:\n",
    "        badcount+=1\n",
    "print \"badcount:%s\"%(badcount)\n",
    "print \"uploadcount:%s mv:%s bad:%s src-out:%s\"%(len(mv_list)-badcount,len(mv_list),badcount,len(outlist))\n",
    "        \n",
    "for b in outlist:\n",
    "    if b in mv_list:\n",
    "        mv_list.remove(b)\n",
    "    else:\n",
    "        print b\n",
    "print \"mv_list:%s\"%(len(mv_list\n",
    "                       ))\n",
    "def Write_list(fp_name,flist,encoding='utf8'):\n",
    "#     方法一：\n",
    "#     for line in lists:\n",
    "#     f.write(line+'\\n')\n",
    "\n",
    "#     方法二：\n",
    "#     lists=[line+\"\\n\" for line in lists]\n",
    "#     f.writelines(lists)\n",
    "\n",
    "#     方法三：\n",
    "#     f.write('\\n'.join(lists))\n",
    "    print \"lines:%s\"%(len(flist))\n",
    "#     fout = io.open(fp_name, 'wb+')\n",
    "    fout = io.open(fp_name, 'w+',encoding=encoding)\n",
    "    for code in flist:\n",
    "#         fout.write(code.encode('gbk')+'\\n')\n",
    "        fout.write(code +'\\n')\n",
    "#         fout.write(code+'\\n')\n",
    "# fp_name = r_root + 'allmv.txt'\n",
    "allmv_id = r_root + 'allmv_id.txt'\n",
    "# Write_list(fp_name,mv_list)\n",
    "# Write_list(allmv_id,write_list,encoding='gbk')\n",
    "# Write_list(allmv_id,check_list,encoding='gbk')"
   ]
  },
  {
   "cell_type": "markdown",
   "metadata": {},
   "source": [
    "## 检查线上数据集缺失"
   ]
  },
  {
   "cell_type": "code",
   "execution_count": 8,
   "metadata": {
    "ExecuteTime": {
     "end_time": "2019-07-01T09:13:32.087743Z",
     "start_time": "2019-07-01T09:13:32.075803Z"
    },
    "scrolled": true
   },
   "outputs": [
    {
     "name": "stdout",
     "output_type": "stream",
     "text": [
      "not find:超时空同居\n",
      "not find:我不是药神\n",
      "not find:后来的我们\n",
      "not find:幕后玩家\n",
      "not find:湮灭\n",
      "not find:影\n",
      "not find:无双\n",
      "not find:找到你\n",
      "not find:快把我哥带走\n",
      "not find:战狼Ⅱ\n",
      "not find:武状元苏乞儿\n",
      "not find:红海行动\n",
      "not find:逃学威龙\n",
      "not find:赌侠\n",
      "not find:国产凌凌漆\n",
      "not find:动物世界\n",
      "not find:九品芝麻官\n",
      "not find:狄仁杰之四大天王\n",
      "not find:唐伯虎点秋香\n",
      "not find:哆啦A梦：大雄的金银岛\n",
      "not find:唐人街探案2\n",
      "not find:捉妖记2\n",
      "not find:无问西东\n",
      "not find:羞羞的铁拳\n",
      "not find:前任3：再见前任\n",
      "not find:记忆大师\n",
      "not find:妖猫传\n",
      "not find:一出好戏\n",
      "not find:西虹市首富\n",
      "mv_all:0 local:29 find:0 err:29 re_name:7 diska:29 all:353\n"
     ]
    }
   ],
   "source": [
    "\n",
    "re_namelist =[u'29+1' ,u'所以⋯⋯和黑粉结婚了',u'志明与春娇',u'重案黐孖GUN(又名：冲锋陷阵)',u'武林怪兽_国语',u'武林怪兽_粤语',u'廉政风云国语版']\n",
    "\n",
    "find_ok = 0\n",
    "find_err = 0\n",
    "for local in local_list:\n",
    "#     print local\n",
    "#     import IPython.core.debugger\n",
    "#     dbg = IPython.core.debugger.Pdb()\n",
    "#     dbg.set_trace()\n",
    "    if local in mv_list:\n",
    "        find_ok+=1\n",
    "#         print \"find:%s\"%(local)\n",
    "    else:\n",
    "        if local not in re_namelist:\n",
    "            find_err +=1\n",
    "            print \"not find:%s\"%(local)\n",
    "print \"mv_all:%s local:%s find:%s err:%s re_name:%s diska:%s all:%s\"%(len(mv_list),len(local_list),find_ok,find_err,len(re_namelist),find_ok+find_err,count)\n",
    "# Write_list(fp_name,mv_list)"
   ]
  },
  {
   "cell_type": "markdown",
   "metadata": {},
   "source": [
    "## 发布片单查询ID"
   ]
  },
  {
   "cell_type": "code",
   "execution_count": 10,
   "metadata": {
    "ExecuteTime": {
     "end_time": "2019-08-30T16:50:51.409274Z",
     "start_time": "2019-08-30T16:50:49.739421Z"
    },
    "scrolled": true
   },
   "outputs": [
    {
     "name": "stdout",
     "output_type": "stream",
     "text": [
      "check f_list:50 w:1262 \n",
      "nore:1 城市猎人_粤语版 :99'24\" : 2019-04-04 04:47:17 :538  :\n",
      "nore:2 开心鬼上错身 :88'00\" : 2019-04-20 00:33:23 :1181  :\n",
      "nore:3 开心鬼放暑假 :100'12\" : 2019-04-20 00:23:40 :1180  :\n",
      "nore:4 唐人街探案2 :120'59\" : 2019-04-13 14:23:02 :893  :\n",
      "find re :56  no_re:4 all:60 src:11\n",
      "not find :古惑仔3之只手遮天 1\n",
      "not find :城市猎人 2\n",
      "not find :整蛊专家 3\n",
      "not find :国产凌凌漆 4\n",
      "not find :喋血双雄 5\n",
      "not find :全职杀手 6\n",
      "not find :警察故事续集 7\n",
      "not find :监狱风云 8\n",
      "not find :开心鬼 9\n",
      "not find :猛龙过江 10\n",
      "not find :我不是药神 11\n",
      "not find :西虹市首富 12\n",
      "not find :红海行动 13\n",
      "not find :唐人街探案2 14\n",
      "not find :超时空同居 15\n",
      "not find :无双 16\n",
      "not find :战狼2 17\n",
      "not find :飞驰人生 18\n",
      "not find :新喜剧之王 19\n",
      "not find :叶问外传：张天志 20\n",
      "not find :来电狂响 21\n",
      "not find :廉政风云 22\n",
      "not find :我不是潘金莲 23\n",
      "not find :快把我哥带走 24\n",
      "not find :反贪风暴3 25\n",
      "not find :影 26\n",
      "not find :动物世界 27\n",
      "not find :幕后玩家 28\n",
      "not find :狄仁杰之四大天王 29\n",
      "not find :妖猫传 30\n",
      "not find :无问西东 31\n",
      "not find :捉妖记2 32\n",
      "not find :乘风破浪 33\n",
      "not find :羞羞的铁拳 34\n",
      "not find :西游伏妖篇 35\n",
      "not find :前任3：再见前任 36\n",
      "not find :记忆大师 37\n",
      "not find :星际特工：千星之城 38\n",
      "not find :缝纫机乐队 39\n",
      "not find :绝世高手 40\n",
      "not find :机器之血 41\n",
      "not find :美人鱼 42\n",
      "not find :湄公河行动 43\n",
      "not find :七月与安生 44\n",
      "not find :烈日灼心 45\n",
      "not find :功夫熊猫3 46\n",
      "not find :使徒行者 47\n",
      "not find :伦敦陷落 48\n",
      "not find :机械师2：复活 49\n",
      "not find :赤道 50\n",
      "http://qvw.mvaas.cn/hls/2f03f5b30ec2f83c2f85/u9431yvniq82cik3m7lo/1080_25_4_3000k_4_3_n/456c5348a7a545bfec74083b15d0f573.m3u8?xstToken=005a42d7\n",
      "1 古惑仔3之只手遮天 603 http://qvw.mvaas.cn/hls/2f03f5b30ec2f83c2f85/itocrrfb3qfoqa5vbwcn/n_n/62cccbfccf6207ee35d8606858a85eb6.m3u8?xstToken=b2a44c8b\n",
      "http://qvw.mvaas.cn/hls/2f03f5b30ec2f83c2f85/itocrrfb3qfoqa5vbwcn/720_25_4_1000k_4_7_n/a40e2f1fdbd4181bd80b9397cc1ce8f9.m3u8?xstToken=b2a44c8b\n",
      "release count:0 mv_list:1262  find_ok:60\n"
     ]
    }
   ],
   "source": [
    "import io\n",
    "r_root ='/Users/Johnson/Downloads/iyanshu/feichi/片单/'\n",
    "f_path = r_root+'0508'+'.txt'\n",
    "# f_path = r_root+'0513_200'+'.txt'\n",
    "f_list = io.open(f_path, 'rU',encoding='utf8').readlines()\n",
    "print \"check f_list:%s w:%s \"%(len(f_list),len(write_list))\n",
    "ID =u\"无名之辈,来日方长,天气预爆,武林怪兽,来电狂响,云南虫谷,地球最后的夜晚,飞驰人生,廉政风云,新喜剧之王,太平洋战争\"\n",
    "count_m =0\n",
    "# for mv in ID.split(','):\n",
    "find_ok=[]\n",
    "no_re=0\n",
    "for mv in f_list:    \n",
    "    for mv_id  in write_list:\n",
    "        if mv_id.split(',')[0].startswith(mv.strip()):\n",
    "\n",
    "            m_id_list = mv_id.split(',')\n",
    "            if len(m_id_list) >= 5 and len(m_id_list[4]) >=1:\n",
    "#                 print len(m_id_list),m_id_list[4]\n",
    "                count_m+=1\n",
    "#                 print \"%s %s :%s : %s :%s %s\"%(count_m,mv_id.split(',')[0] ,mv_id.split(',')[1] ,mv_id.split(',')[3],mv_id.split(',')[2],mv_id.split(',')[4])\n",
    "            else:\n",
    "#                 print len(mv_id.split(','))\n",
    "                no_re+=1\n",
    "#                 print m_id_list,m_id_list[0] ,m_id_list[1] ,m_id_list[3],m_id_list[2],m_id_list[4]\n",
    "                if len(m_id_list) >=5:\n",
    "                    print \"nore:%s %s :%s : %s :%s  :%s\"%(no_re,m_id_list[0] ,m_id_list[1] ,m_id_list[3],m_id_list[2],m_id_list[4])\n",
    "                else:\n",
    "                    print \"nore4:%s %s :%s : %s :%s  \"%(no_re,m_id_list[0] ,m_id_list[1] ,m_id_list[3],m_id_list[2])\n",
    "            \n",
    "#                 print \"no release:%s\"%(mv_id)\n",
    "            find_ok.append(mv_id)\n",
    "#         else:\n",
    "# #             print mv_id.split(',')[0] ,mv_id.split(',')[3] \n",
    "#             print \"not found :%s\" %(mv_id )\n",
    "\n",
    "print \"find re :%s  no_re:%s all:%s src:%s\"%(count_m,no_re,count_m+no_re,len(ID.split(',')))\n",
    "# find_no =[x.encode('gbk') for x in f_list if x not in find_ok]\n",
    "not_find =0\n",
    "for x in f_list:\n",
    "    if x.strip() not in find_ok:\n",
    "        not_find+=1\n",
    "        print \"not find :%s %s\"%(x.strip(),not_find)\n",
    "# print \"not find :%s\"%(not_find)    \n",
    "\n",
    "\n",
    "count_re = 0\n",
    "#发布渠道:\n",
    "# for mv_id  in write_list:\n",
    "#     m_id_list = mv_id.split(',')\n",
    "#     if len(m_id_list) >= 5 and len(m_id_list[4]) >=1:\n",
    "#         count_re +=1\n",
    "#         print \"%s :%s %s %s\"%(count_re,m_id_list[0],m_id_list[1],m_id_list[4])\n",
    "\n",
    "search_url='http://feichi.iyanshu.com/service/iBacManage.action?bizCode=12008&material_id=%s'\n",
    "# url_path = (search_url%(idx))\n",
    "def get_url_json(url_path):\n",
    "    # url_root = 'http://feichi.iyanshu.com/service/iBacManage.action?bizCode=9082&appID=3&contentId=&label=&begDate=&endDate=&reBegDate=&reEndDate=&pageSize=%s&pageNo=1&status='\n",
    "    # url_path=url_root%(1000)\n",
    "    html = urllib2.urlopen(url_path)\n",
    "    html_data = html.read()\n",
    "    # set_dbg()\n",
    "    # print html_data\n",
    "    hjson = json.loads(html_data)\n",
    "    #print hjson.keys()\n",
    "#     print '1',hjson.keys()\n",
    "#     print '2',hjson['params'].keys()\n",
    "#     print hjson['params']['id'],hjson['params']['video_4g_url'],hjson['params'][u'video_third_url']\n",
    "#     print hjson['params']['id'],hjson['params']['video_4g_url']\n",
    "    return hjson['params']['video_4g_url']\n",
    "idx=0\n",
    "import time\n",
    "print get_url_json(search_url%(1842))\n",
    "for mv in find_ok:\n",
    "    idx +=1\n",
    "    index_id = mv.split(',')[2]\n",
    "    print idx,mv.split(',')[0],mv.split(',')[2],mv.split(',')[-1]\n",
    "    print get_url_json(search_url%(index_id))\n",
    "    time.sleep(1)\n",
    "    break\n",
    "#     print idx,mv\n",
    "    \n",
    "print \"release count:%s mv_list:%s  find_ok:%s\"%(count_re,len(mv_list),len(find_ok))\n",
    "\n"
   ]
  },
  {
   "cell_type": "markdown",
   "metadata": {},
   "source": [
    "# 1. 磁盘数据查询"
   ]
  },
  {
   "cell_type": "code",
   "execution_count": null,
   "metadata": {
    "ExecuteTime": {
     "end_time": "2019-04-17T12:46:07.755305Z",
     "start_time": "2019-04-17T12:46:07.724565Z"
    },
    "collapsed": true
   },
   "outputs": [],
   "source": [
    "#!/usr/bin/python\n",
    "# -*- coding: UTF-8 -*-\n",
    "import os\n",
    "lpath='/Volumes/蓝盘/电影'\n",
    "wpath='/Volumes/蓝盘/物料'\n",
    "lpath='/Volumes/My Passport/电影'\n",
    "f_name = os.listdir(lpath)\n",
    "\n",
    "def list_all_files(rootdir):\n",
    "    import os\n",
    "    _files = []\n",
    "    list = os.listdir(rootdir) #列出文件夹下所有的目录与文件\n",
    "    for i in range(0,len(list)):\n",
    "           path = os.path.join(rootdir,list[i])\n",
    "           if os.path.isdir(path):\n",
    "              _files.extend(list_all_files(path))\n",
    "           if os.path.isfile(path):\n",
    "              _files.append(path)\n",
    "    return _files\n",
    "\n",
    "count =0\n",
    "error =0\n",
    "error_list =[]\n",
    "for name in f_name:\n",
    "    f_p = lpath+'/%s'%(name)\n",
    "#     print os.path.getsize(f_p)\n",
    "    f_size = int(os.path.getsize(f_p)/1000/1000/1000)\n",
    "    if f_size > 1:\n",
    "        count +=1\n",
    "#         print \"%s,%s\"%(name,f_size)\n",
    "#         print \"%s\"%(name)\n",
    "#         print \"%s\"%(f_size)\n",
    "    else:\n",
    "        error +=1\n",
    "        error_list.append('%s %s'%(name,f_size))\n",
    "#         print \"error:%s %s\"%(name,f_size)\n",
    "print \"all_mv:%s\"%(count)\n",
    "# print \"error:%s %s\"%(error,error_list)\n",
    "\n"
   ]
  },
  {
   "cell_type": "raw",
   "metadata": {},
   "source": [
    "无极\t恐怖 惊悚\t74\t2012年\t欧美\t兰斯·迪迈\t马丽尔·格斯罗德，丹尼尔·劳伦斯，大卫·诺瓦克\t108613\t\t\t\t\t\t\t\t\t\n",
    "十二夜\t浪漫\t91\t2000年\t中国香港\t林爱华\t张柏芝、陈奕迅、谢霆锋\t40236\t\t\t\t"
   ]
  }
 ],
 "metadata": {
  "kernelspec": {
   "display_name": "Python 2",
   "language": "python",
   "name": "python2"
  },
  "language_info": {
   "codemirror_mode": {
    "name": "ipython",
    "version": 2
   },
   "file_extension": ".py",
   "mimetype": "text/x-python",
   "name": "python",
   "nbconvert_exporter": "python",
   "pygments_lexer": "ipython2",
   "version": "2.7.11"
  },
  "toc": {
   "colors": {
    "hover_highlight": "#DAA520",
    "navigate_num": "#000000",
    "navigate_text": "#333333",
    "running_highlight": "#FF0000",
    "selected_highlight": "#FFD700",
    "sidebar_border": "#EEEEEE",
    "wrapper_background": "#FFFFFF"
   },
   "moveMenuLeft": true,
   "nav_menu": {
    "height": "12px",
    "width": "252px"
   },
   "navigate_menu": true,
   "number_sections": true,
   "sideBar": false,
   "threshold": 4,
   "toc_cell": false,
   "toc_position": {
    "height": "300px",
    "left": "7px",
    "right": "1187px",
    "top": "92px",
    "width": "159px"
   },
   "toc_section_display": "block",
   "toc_window_display": true,
   "widenNotebook": false
  }
 },
 "nbformat": 4,
 "nbformat_minor": 2
}
