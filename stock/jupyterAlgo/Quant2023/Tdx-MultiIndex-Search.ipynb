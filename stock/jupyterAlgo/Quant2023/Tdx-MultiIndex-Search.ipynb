{
 "cells": [
  {
   "cell_type": "markdown",
   "id": "32ce779d-aea1-4664-b6de-679f44ff0690",
   "metadata": {},
   "source": [
    "# Init Tdx "
   ]
  },
  {
   "cell_type": "code",
   "execution_count": 1,
   "id": "00387fb9-4e80-404a-b511-78e795b7f07d",
   "metadata": {
    "ExecuteTime": {
     "end_time": "2023-08-22T12:12:56.004527Z",
     "start_time": "2023-08-22T12:12:54.328518Z"
    },
    "execution": {
     "iopub.execute_input": "2025-06-13T11:52:27.648535Z",
     "iopub.status.busy": "2025-06-13T11:52:27.648535Z",
     "iopub.status.idle": "2025-06-13T11:52:29.752891Z",
     "shell.execute_reply": "2025-06-13T11:52:29.751927Z",
     "shell.execute_reply.started": "2025-06-13T11:52:27.648535Z"
    },
    "tags": []
   },
   "outputs": [],
   "source": [
    "# import logging\n",
    "import sys\n",
    "\n",
    "# stdout=sys.stdout\n",
    "sys.path.append('../../')\n",
    "import os\n",
    "import random\n",
    "import time\n",
    "\n",
    "import matplotlib\n",
    "import matplotlib.pyplot as plt\n",
    "import mplfinance as mpf\n",
    "# sys.stdout=stdout\n",
    "import numpy as np\n",
    "# import numpy as np\n",
    "import pandas as pd\n",
    "from JohnsonUtil import commonTips as cct\n",
    "from JSONData import sina_data\n",
    "from JSONData import tdx_data_Day as tdd\n",
    "from mplfinance.original_flavor import candlestick_ohlc\n",
    "\n",
    "# from JSONData import tdx_hdf5_api as h5a\n",
    "\n",
    "%matplotlib widget\n",
    "plt.rc('font', family='SimHei', size=13)\n",
    "matplotlib.get_backend()\n",
    "# jupyter nbextension enable --py widgetsnbextension\n",
    "\n",
    "os.environ['NUMEXPR_MAX_THREADS'] = '12'\n",
    "from IPython.core.interactiveshell import InteractiveShell\n",
    "\n",
    "InteractiveShell.ast_node_interactivity = \"all\"\n",
    "import nest_asyncio\n",
    "\n",
    "nest_asyncio.apply()"
   ]
  },
  {
   "cell_type": "code",
   "execution_count": 2,
   "id": "785713a8-f795-4fc1-a763-518cdec2ab60",
   "metadata": {
    "ExecuteTime": {
     "end_time": "2023-08-22T12:12:56.050412Z",
     "start_time": "2023-08-22T12:12:56.037413Z"
    },
    "execution": {
     "iopub.execute_input": "2025-06-13T11:52:29.753887Z",
     "iopub.status.busy": "2025-06-13T11:52:29.753887Z",
     "iopub.status.idle": "2025-06-13T11:52:29.768848Z",
     "shell.execute_reply": "2025-06-13T11:52:29.767851Z",
     "shell.execute_reply.started": "2025-06-13T11:52:29.753887Z"
    },
    "tags": []
   },
   "outputs": [],
   "source": [
    "block_path = tdd.get_tdx_dir_blocknew() + '060.blk'"
   ]
  },
  {
   "cell_type": "markdown",
   "id": "3b6d813f-bac8-497d-a2d6-65670665f066",
   "metadata": {
    "tags": []
   },
   "source": [
    "## 功能定义DEF"
   ]
  },
  {
   "cell_type": "markdown",
   "id": "73b185cf-94a7-44f7-a4a5-61c30decfac3",
   "metadata": {},
   "source": [
    "### ra_diff\n"
   ]
  },
  {
   "cell_type": "code",
   "execution_count": 3,
   "id": "427cedf2-6767-43f8-b0aa-090af91174af",
   "metadata": {
    "ExecuteTime": {
     "end_time": "2023-08-22T12:12:58.225697Z",
     "start_time": "2023-08-22T12:12:58.214726Z"
    },
    "execution": {
     "iopub.execute_input": "2025-06-13T11:52:29.769843Z",
     "iopub.status.busy": "2025-06-13T11:52:29.769843Z",
     "iopub.status.idle": "2025-06-13T11:52:29.782808Z",
     "shell.execute_reply": "2025-06-13T11:52:29.782808Z",
     "shell.execute_reply.started": "2025-06-13T11:52:29.769843Z"
    },
    "tags": []
   },
   "outputs": [],
   "source": [
    "def ra_diff(df):\n",
    "    df['ra_diff'] = df.close.apply(lambda x: round(x / df.close.min(), 2))\n",
    "    return df"
   ]
  },
  {
   "cell_type": "markdown",
   "id": "80825a70-f650-41a6-aacf-985ce582f172",
   "metadata": {},
   "source": [
    "### bullish 测算"
   ]
  },
  {
   "cell_type": "code",
   "execution_count": 4,
   "id": "6585ca58-01e4-4081-8dd1-68376e93f2b0",
   "metadata": {
    "ExecuteTime": {
     "end_time": "2023-08-22T12:12:59.867465Z",
     "start_time": "2023-08-22T12:12:59.780697Z"
    },
    "execution": {
     "iopub.execute_input": "2025-06-13T11:52:29.785802Z",
     "iopub.status.busy": "2025-06-13T11:52:29.785802Z",
     "iopub.status.idle": "2025-06-13T11:52:30.061111Z",
     "shell.execute_reply": "2025-06-13T11:52:30.060106Z",
     "shell.execute_reply.started": "2025-06-13T11:52:29.785802Z"
    },
    "tags": []
   },
   "outputs": [
    {
     "data": {
      "text/plain": [
       "(10.97, '2025-03-21')"
      ]
     },
     "execution_count": 4,
     "metadata": {},
     "output_type": "execute_result"
    },
    {
     "data": {
      "text/plain": [
       "(10.0,\n",
       " 55    2025-06-13\n",
       " Name: date, dtype: object)"
      ]
     },
     "execution_count": 4,
     "metadata": {},
     "output_type": "execute_result"
    },
    {
     "name": "stdout",
     "output_type": "stream",
     "text": [
      "9 -0.0 0.0\n",
      "Bear\n",
      "0.0\n"
     ]
    }
   ],
   "source": [
    "import numpy as np\n",
    "\n",
    "\n",
    "def calculate_slope(data):\n",
    "    # Calculate the slope of the line that connects two points\n",
    "    slope = round((data[1] - data[0]) / (1), 2)\n",
    "    return slope\n",
    "\n",
    "\n",
    "def detect_bull_bear(price_data, window=10):\n",
    "    # Calculate the slopes of the price data for the last `window` days\n",
    "    slopes = []\n",
    "    for i in range(len(price_data) - window, len(price_data) - 1):\n",
    "        slope = calculate_slope([price_data[i], price_data[i + 1]])\n",
    "        # print(slope)\n",
    "        slopes.append(slope)\n",
    "\n",
    "    # Compare the current slope with the average slope of the last `window` days\n",
    "    avg_slope = round(np.mean(slopes), 2)\n",
    "    curr_slope = calculate_slope([price_data[-window], price_data[-1]])\n",
    "    print(len(slopes), avg_slope, curr_slope)\n",
    "\n",
    "    if curr_slope > avg_slope:\n",
    "        # return \"Bullish\"\n",
    "        return \"Bull\"\n",
    "    else:\n",
    "        return \"Bear\"\n",
    "\n",
    "\n",
    "def detect_bull_bear_apply(price_data, window=10):\n",
    "    # Calculate the slopes of the price data for the last `window` days\n",
    "    slopes = []\n",
    "    # try:\n",
    "    if len(price_data) > 20:\n",
    "        for i in range(len(price_data) - window, len(price_data) - 1):\n",
    "            slope = calculate_slope([price_data[i], price_data[i + 1]])\n",
    "            # print(slope)\n",
    "            slopes.append(slope)\n",
    "\n",
    "        # Compare the current slope with the average slope of the last `window` days\n",
    "        avg_slope = round(np.mean(slopes), 2)\n",
    "        curr_slope = calculate_slope([price_data[-window], price_data[-1]])\n",
    "        # print(len(slopes), avg_slope, curr_slope)\n",
    "\n",
    "        # if curr_slope > avg_slope:\n",
    "        #     # return \"Bullish\"\n",
    "        #     return \"Bull\"\n",
    "        # else:\n",
    "        #     return \"Bear\"\n",
    "        return curr_slope\n",
    "    else:\n",
    "        return round((price_data[-1] - price_data[0]) / (1), 2)\n",
    "\n",
    "\n",
    "code = '601360'\n",
    "# Example usage\n",
    "# price_data = [100, 95, 97, 99, 102, 105, 108, 111,1]\n",
    "dfc = tdd.get_tdx_Exp_day_to_df(\n",
    "    code, dl=60, resample='d').sort_index(\n",
    "    ascending=True).reset_index()\n",
    "# dfc = get_sina_data_cname(dfc)\n",
    "price_data = dfc.close.values.tolist()\n",
    "price_data[1], dfc.date[0]\n",
    "price_data[-1], dfc.date[-1:]\n",
    "print(detect_bull_bear(price_data))\n",
    "print(detect_bull_bear_apply(price_data))\n",
    "\n",
    "# Output: \"Bullish\""
   ]
  },
  {
   "cell_type": "markdown",
   "id": "250165a5-e663-441e-b405-db14483e24e6",
   "metadata": {
    "tags": []
   },
   "source": [
    "### regression_line(X, Y)\n",
    "regression_ratio(df, window=10):"
   ]
  },
  {
   "cell_type": "code",
   "execution_count": 5,
   "id": "58680ccb-b1c7-48cc-95dc-2f7ee2fb40a7",
   "metadata": {
    "ExecuteTime": {
     "end_time": "2023-08-22T12:13:01.687999Z",
     "start_time": "2023-08-22T12:13:01.523439Z"
    },
    "execution": {
     "iopub.execute_input": "2025-06-13T11:52:30.062064Z",
     "iopub.status.busy": "2025-06-13T11:52:30.062064Z",
     "iopub.status.idle": "2025-06-13T11:52:30.196703Z",
     "shell.execute_reply": "2025-06-13T11:52:30.195708Z",
     "shell.execute_reply.started": "2025-06-13T11:52:30.062064Z"
    },
    "tags": []
   },
   "outputs": [
    {
     "name": "stdout",
     "output_type": "stream",
     "text": [
      "10.16 0.0\n",
      "Above\n",
      "0.0\n"
     ]
    },
    {
     "data": {
      "application/vnd.jupyter.widget-view+json": {
       "model_id": "349ec9f0822e48b7b9e9f4a7a23ba40c",
       "version_major": 2,
       "version_minor": 0
      },
      "image/png": "[encoded data removed]",
      "text/html": [
       "\n",
       "            <div style=\"display: inline-block;\">\n",
       "                <div class=\"jupyter-widgets widget-label\" style=\"text-align: center;\">\n",
       "                    Figure\n",
       "                </div>\n",
       "                <img src='data:image/png;base64,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' width=640.0/>\n",
       "            </div>\n",
       "        "
      ],
      "text/plain": [
       "Canvas(toolbar=Toolbar(toolitems=[('Home', 'Reset original view', 'home', 'home'), ('Back', 'Back to previous …"
      ]
     },
     "metadata": {},
     "output_type": "display_data"
    }
   ],
   "source": [
    "\n",
    "\n",
    "def regression_line(X, Y, limit=10,showall=False):\n",
    "    # Calculate the coefficients of the regression line\n",
    "    if not showall:\n",
    "        X = X[-limit:]\n",
    "        Y = Y[-limit:]\n",
    "    n = len(X)\n",
    "    sum_x = np.sum(X)\n",
    "    sum_y = np.sum(Y)\n",
    "    sum_xy = np.sum(X * Y)\n",
    "    sum_xx = np.sum(X * X)\n",
    "    a = round((sum_y * sum_xx - sum_x * sum_xy) / (n * sum_xx - sum_x * sum_x), 2)\n",
    "    b = round((n * sum_xy - sum_x * sum_y) / (n * sum_xx - sum_x * sum_x), 2)\n",
    "    return a, b\n",
    "\n",
    "\n",
    "def regression_ratio(df, window=10):\n",
    "    # Calculate the coefficients of the regression line\n",
    "    if isinstance(df, pd.Series):\n",
    "        # Y = df.values[-window:]\n",
    "        # X = df.reset_index().index[-window:]\n",
    "        Y = df.values\n",
    "        X = df.reset_index().index\n",
    "    else:\n",
    "        if 'close' in df.columns:\n",
    "            df = df.reset_index()\n",
    "            # X = df.index[-limit:]\n",
    "            # Y = df.close[-limit:]\n",
    "            X = df.index\n",
    "            Y = df.close\n",
    "        else:\n",
    "            # Y = df.values[-limit:]\n",
    "            # X = df.reset_index().index[-limit:]\n",
    "            Y = df.values\n",
    "            X = df.reset_index().index\n",
    "            \n",
    "    n = len(X)\n",
    "    sum_x = np.sum(X)\n",
    "    sum_y = np.sum(Y)\n",
    "    sum_xy = np.sum(X * Y)\n",
    "    sum_xx = np.sum(X * X)\n",
    "    # a = round((sum_y * sum_xx - sum_x * sum_xy) / (n * sum_xx - sum_x * sum_x),2)\n",
    "    b = round((n * sum_xy - sum_x * sum_y) / (n * sum_xx - sum_x * sum_x), 2)\n",
    "    return b\n",
    "\n",
    "\n",
    "def predict_price(time, a, b):\n",
    "    # Predict the price using the regression line\n",
    "    price = a + b * time\n",
    "    return price\n",
    "\n",
    "\n",
    "def plot_regression_line(X, Y, a, b):\n",
    "    # Plot the regression line\n",
    "    # plt.close()\n",
    "    plt.scatter(X, Y)\n",
    "    plt.plot(X, a + b * X, color=\"red\")\n",
    "    plt.show()\n",
    "\n",
    "\n",
    "def detect_position(price, a, b, X):\n",
    "    # Detect the position of the current price on the regression line\n",
    "    regression_price = predict_price(X[-1], a, b)\n",
    "    if price > regression_price:\n",
    "        return \"Above\"\n",
    "    elif price < regression_price:\n",
    "        return \"Below\"\n",
    "    else:\n",
    "        return \"On\"\n",
    "\n",
    "\n",
    "# Example usage\n",
    "time_index = dfc.index\n",
    "price = dfc.close.values\n",
    "a, b = regression_line(time_index, price,showall=True)\n",
    "print(a, b)\n",
    "# Output: (100.0, 5.0)\n",
    "print(detect_position(132, a, b, time_index))\n",
    "print(regression_ratio(dfc))\n",
    "plot_regression_line(time_index, price, a, b)\n",
    "\n",
    "# print(detect_position(132, a, b, time))\n",
    "# Output: \"On\""
   ]
  },
  {
   "cell_type": "code",
   "execution_count": 6,
   "id": "5f27ec65-cd0a-4070-bec1-81763f9d5666",
   "metadata": {
    "ExecuteTime": {
     "end_time": "2023-08-22T12:13:01.687999Z",
     "start_time": "2023-08-22T12:13:01.523439Z"
    },
    "execution": {
     "iopub.execute_input": "2025-06-13T11:52:30.197701Z",
     "iopub.status.busy": "2025-06-13T11:52:30.197701Z",
     "iopub.status.idle": "2025-06-13T11:52:30.289455Z",
     "shell.execute_reply": "2025-06-13T11:52:30.288458Z",
     "shell.execute_reply.started": "2025-06-13T11:52:30.197701Z"
    },
    "tags": []
   },
   "outputs": [
    {
     "name": "stdout",
     "output_type": "stream",
     "text": [
      "10.16 0.0\n",
      "Above\n",
      "0.0\n"
     ]
    },
    {
     "data": {
      "application/vnd.jupyter.widget-view+json": {
       "model_id": "349ec9f0822e48b7b9e9f4a7a23ba40c",
       "version_major": 2,
       "version_minor": 0
      },
      "image/png": "[encoded data removed]",
      "text/html": [
       "\n",
       "            <div style=\"display: inline-block;\">\n",
       "                <div class=\"jupyter-widgets widget-label\" style=\"text-align: center;\">\n",
       "                    Figure\n",
       "                </div>\n",
       "                <img src='data:image/png;base64,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' width=640.0/>\n",
       "            </div>\n",
       "        "
      ],
      "text/plain": [
       "Canvas(toolbar=Toolbar(toolitems=[('Home', 'Reset original view', 'home', 'home'), ('Back', 'Back to previous …"
      ]
     },
     "metadata": {},
     "output_type": "display_data"
    }
   ],
   "source": [
    "\n",
    "\n",
    "def regression_line(X, Y, limit=10,showall=False):\n",
    "    # Calculate the coefficients of the regression line\n",
    "    if not showall:\n",
    "        X = X[-limit:]\n",
    "        Y = Y[-limit:]\n",
    "    n = len(X)\n",
    "    sum_x = np.sum(X)\n",
    "    sum_y = np.sum(Y)\n",
    "    sum_xy = np.sum(X * Y)\n",
    "    sum_xx = np.sum(X * X)\n",
    "    a = round((sum_y * sum_xx - sum_x * sum_xy) / (n * sum_xx - sum_x * sum_x), 2)\n",
    "    b = round((n * sum_xy - sum_x * sum_y) / (n * sum_xx - sum_x * sum_x), 2)\n",
    "    return a, b\n",
    "\n",
    "\n",
    "def regression_ratio(df, window=10):\n",
    "    # Calculate the coefficients of the regression line\n",
    "    if isinstance(df, pd.Series):\n",
    "        # Y = df.values[-window:]\n",
    "        # X = df.reset_index().index[-window:]\n",
    "        Y = df.values\n",
    "        X = df.reset_index().index\n",
    "    else:\n",
    "        if 'close' in df.columns:\n",
    "            df = df.reset_index()\n",
    "            # X = df.index[-limit:]\n",
    "            # Y = df.close[-limit:]\n",
    "            X = df.index\n",
    "            Y = df.close\n",
    "        else:\n",
    "            # Y = df.values[-limit:]\n",
    "            # X = df.reset_index().index[-limit:]\n",
    "            Y = df.values\n",
    "            X = df.reset_index().index\n",
    "            \n",
    "    n = len(X)\n",
    "    sum_x = np.sum(X)\n",
    "    sum_y = np.sum(Y)\n",
    "    sum_xy = np.sum(X * Y)\n",
    "    sum_xx = np.sum(X * X)\n",
    "    # a = round((sum_y * sum_xx - sum_x * sum_xy) / (n * sum_xx - sum_x * sum_x),2)\n",
    "    b = round((n * sum_xy - sum_x * sum_y) / (n * sum_xx - sum_x * sum_x), 2)\n",
    "    return b\n",
    "\n",
    "\n",
    "def predict_price(time, a, b):\n",
    "    # Predict the price using the regression line\n",
    "    price = a + b * time\n",
    "    return price\n",
    "\n",
    "\n",
    "def plot_regression_line(X, Y, a, b):\n",
    "    # Plot the regression line\n",
    "    # plt.close()\n",
    "    plt.scatter(X, Y)\n",
    "    plt.plot(X, a + b * X, color=\"red\")\n",
    "    plt.show()\n",
    "\n",
    "\n",
    "def detect_position(price, a, b, X):\n",
    "    # Detect the position of the current price on the regression line\n",
    "    regression_price = predict_price(X[-1], a, b)\n",
    "    if price > regression_price:\n",
    "        return \"Above\"\n",
    "    elif price < regression_price:\n",
    "        return \"Below\"\n",
    "    else:\n",
    "        return \"On\"\n",
    "\n",
    "\n",
    "# Example usage\n",
    "time_index = dfc.index\n",
    "price = dfc.close.values\n",
    "a, b = regression_line(time_index, price,showall=True)\n",
    "print(a, b)\n",
    "# Output: (100.0, 5.0)\n",
    "print(detect_position(132, a, b, time_index))\n",
    "print(regression_ratio(dfc))\n",
    "plot_regression_line(time_index, price, a, b)\n",
    "\n",
    "# print(detect_position(132, a, b, time))\n",
    "# Output: \"On\""
   ]
  },
  {
   "cell_type": "code",
   "execution_count": 7,
   "id": "7cbaabc8-35ea-4bcd-8b89-195e8937dacf",
   "metadata": {
    "ExecuteTime": {
     "end_time": "2023-08-22T12:13:02.658046Z",
     "start_time": "2023-08-22T12:13:02.653091Z"
    },
    "execution": {
     "iopub.execute_input": "2025-06-13T11:52:30.292446Z",
     "iopub.status.busy": "2025-06-13T11:52:30.292446Z",
     "iopub.status.idle": "2025-06-13T11:52:30.304415Z",
     "shell.execute_reply": "2025-06-13T11:52:30.303419Z",
     "shell.execute_reply.started": "2025-06-13T11:52:30.292446Z"
    },
    "tags": []
   },
   "outputs": [
    {
     "data": {
      "text/plain": [
       "Index(['date', 'code', 'open', 'high', 'low', 'close', 'vol', 'amount', 'ma5d',\n",
       "       'ma10d',\n",
       "       ...\n",
       "       'low4', 'lastdu4', 'macddif', 'macddea', 'macdlast1', 'macdlast2',\n",
       "       'macdlast3', 'macdlast4', 'macdlast5', 'macdlast6'],\n",
       "      dtype='object', length=172)"
      ]
     },
     "execution_count": 7,
     "metadata": {},
     "output_type": "execute_result"
    }
   ],
   "source": [
    "dfc.columns"
   ]
  },
  {
   "cell_type": "markdown",
   "id": "34e4bb77-e170-4b6b-93d1-5f326584730a",
   "metadata": {},
   "source": [
    "### check_postion_vol_price"
   ]
  },
  {
   "cell_type": "code",
   "execution_count": 8,
   "id": "7b1e4910-7c64-4b85-b219-b0b90786579d",
   "metadata": {
    "ExecuteTime": {
     "end_time": "2023-08-22T12:13:05.586518Z",
     "start_time": "2023-08-22T12:13:04.542530Z"
    },
    "execution": {
     "iopub.execute_input": "2025-06-13T11:52:30.306412Z",
     "iopub.status.busy": "2025-06-13T11:52:30.306412Z",
     "iopub.status.idle": "2025-06-13T11:52:31.225951Z",
     "shell.execute_reply": "2025-06-13T11:52:31.224989Z",
     "shell.execute_reply.started": "2025-06-13T11:52:30.306412Z"
    },
    "tags": []
   },
   "outputs": [
    {
     "data": {
      "text/html": [
       "<div>\n",
       "<style scoped>\n",
       "    .dataframe tbody tr th:only-of-type {\n",
       "        vertical-align: middle;\n",
       "    }\n",
       "\n",
       "    .dataframe tbody tr th {\n",
       "        vertical-align: top;\n",
       "    }\n",
       "\n",
       "    .dataframe thead th {\n",
       "        text-align: right;\n",
       "    }\n",
       "</style>\n",
       "<table border=\"1\" class=\"dataframe\">\n",
       "  <thead>\n",
       "    <tr style=\"text-align: right;\">\n",
       "      <th></th>\n",
       "      <th>date</th>\n",
       "      <th>code</th>\n",
       "      <th>open</th>\n",
       "      <th>high</th>\n",
       "      <th>low</th>\n",
       "      <th>close</th>\n",
       "      <th>vol</th>\n",
       "      <th>amount</th>\n",
       "      <th>ma5d</th>\n",
       "      <th>ma10d</th>\n",
       "      <th>...</th>\n",
       "      <th>lastdu4</th>\n",
       "      <th>macddif</th>\n",
       "      <th>macddea</th>\n",
       "      <th>macdlast1</th>\n",
       "      <th>macdlast2</th>\n",
       "      <th>macdlast3</th>\n",
       "      <th>macdlast4</th>\n",
       "      <th>macdlast5</th>\n",
       "      <th>macdlast6</th>\n",
       "      <th>Positon</th>\n",
       "    </tr>\n",
       "  </thead>\n",
       "  <tbody>\n",
       "    <tr>\n",
       "      <th>55</th>\n",
       "      <td>2025-06-13</td>\n",
       "      <td>601360</td>\n",
       "      <td>10.1</td>\n",
       "      <td>10.1</td>\n",
       "      <td>9.9</td>\n",
       "      <td>10.0</td>\n",
       "      <td>77086126.0</td>\n",
       "      <td>770190720.0</td>\n",
       "      <td>10.29</td>\n",
       "      <td>10.23</td>\n",
       "      <td>...</td>\n",
       "      <td>1.042157</td>\n",
       "      <td>0.01</td>\n",
       "      <td>0.01</td>\n",
       "      <td>0.0</td>\n",
       "      <td>0.04</td>\n",
       "      <td>0.07</td>\n",
       "      <td>0.08</td>\n",
       "      <td>0.1</td>\n",
       "      <td>0.04</td>\n",
       "      <td>Neutral</td>\n",
       "    </tr>\n",
       "  </tbody>\n",
       "</table>\n",
       "<p>1 rows × 173 columns</p>\n",
       "</div>"
      ],
      "text/plain": [
       "          date    code  open  high  low  close         vol       amount  \\\n",
       "55  2025-06-13  601360  10.1  10.1  9.9   10.0  77086126.0  770190720.0   \n",
       "\n",
       "     ma5d  ma10d  ...   lastdu4  macddif  macddea  macdlast1  macdlast2  \\\n",
       "55  10.29  10.23  ...  1.042157     0.01     0.01        0.0       0.04   \n",
       "\n",
       "    macdlast3  macdlast4  macdlast5  macdlast6  Positon  \n",
       "55       0.07       0.08        0.1       0.04  Neutral  \n",
       "\n",
       "[1 rows x 173 columns]"
      ]
     },
     "execution_count": 8,
     "metadata": {},
     "output_type": "execute_result"
    }
   ],
   "source": [
    "from sklearn.linear_model import LinearRegression\n",
    "\n",
    "\n",
    "def check_postion_vol_price(df):\n",
    "    # 加载数据\n",
    "    # df = pd.read_csv(\"data.csv\")\n",
    "\n",
    "    # 创建输入数据\n",
    "    X = df[[\"close\", \"vol\"]].values\n",
    "    y = df[\"close\"].values\n",
    "\n",
    "    # 训练回归模型\n",
    "    reg = LinearRegression().fit(X, y)\n",
    "\n",
    "    # 计算斜率和截距\n",
    "    slope = reg.coef_[0]\n",
    "    intercept = reg.intercept_\n",
    "\n",
    "    # 计算上轨和下轨\n",
    "    upper_band = slope * df[\"close\"] + intercept + 2 * df[\"vol\"]\n",
    "    lower_band = slope * df[\"close\"] + intercept - 2 * df[\"vol\"]\n",
    "\n",
    "    # 判断价格是否在通道内\n",
    "    df[\"Positon\"] = np.where(\n",
    "        df[\"close\"] > upper_band, \"Long\", np.where(\n",
    "            df[\"close\"] < lower_band, \"Short\", \"Neutral\"))\n",
    "    return df\n",
    "\n",
    "\n",
    "dfc = check_postion_vol_price(dfc)\n",
    "dfc[-1:]"
   ]
  },
  {
   "cell_type": "code",
   "execution_count": 9,
   "id": "8cd8b2a9-e374-475a-9e92-270121c3d2d7",
   "metadata": {
    "ExecuteTime": {
     "end_time": "2023-08-22T12:13:05.869792Z",
     "start_time": "2023-08-22T12:13:05.843829Z"
    },
    "execution": {
     "iopub.execute_input": "2025-06-13T11:52:31.226948Z",
     "iopub.status.busy": "2025-06-13T11:52:31.226948Z",
     "iopub.status.idle": "2025-06-13T11:52:31.255872Z",
     "shell.execute_reply": "2025-06-13T11:52:31.255872Z",
     "shell.execute_reply.started": "2025-06-13T11:52:31.226948Z"
    },
    "tags": []
   },
   "outputs": [
    {
     "data": {
      "text/plain": [
       "Index(['date', 'code', 'open', 'high', 'low', 'close', 'vol', 'amount', 'ma5d',\n",
       "       'ma10d',\n",
       "       ...\n",
       "       'lastdu4', 'macddif', 'macddea', 'macdlast1', 'macdlast2', 'macdlast3',\n",
       "       'macdlast4', 'macdlast5', 'macdlast6', 'Positon'],\n",
       "      dtype='object', length=173)"
      ]
     },
     "execution_count": 9,
     "metadata": {},
     "output_type": "execute_result"
    },
    {
     "data": {
      "text/plain": [
       "0    2025-03-21\n",
       "1    2025-03-24\n",
       "2    2025-03-25\n",
       "Name: date, dtype: object"
      ]
     },
     "execution_count": 9,
     "metadata": {},
     "output_type": "execute_result"
    },
    {
     "data": {
      "text/plain": [
       "55   2025-06-13\n",
       "Name: date, dtype: datetime64[ns]"
      ]
     },
     "execution_count": 9,
     "metadata": {},
     "output_type": "execute_result"
    }
   ],
   "source": [
    "\n",
    "# dfc=  dfc.rename(columns={'date': 'Date', \"open\":\"Open\",\"high\":\"High\",\"low\": \"Low\",\"close\":\"Close\"})\n",
    "dfc.columns\n",
    "# dfc[[\"Date\", \"Open\", \"High\", \"Low\", \"Close\"]][-2:]\n",
    "dfc.date[:3]\n",
    "dfc.date = pd.to_datetime(dfc.date)\n",
    "# dfc.set_index('date')\n",
    "dfc.date[-1:]"
   ]
  },
  {
   "cell_type": "markdown",
   "id": "4b962cec-1975-4bca-b979-44f5bef0ee2b",
   "metadata": {
    "tags": []
   },
   "source": [
    "### show_ohlc_upper "
   ]
  },
  {
   "cell_type": "code",
   "execution_count": 10,
   "id": "87138dc9-fdf4-4160-a1ed-e9fc285d2ba5",
   "metadata": {
    "ExecuteTime": {
     "end_time": "2023-08-22T12:13:09.750196Z",
     "start_time": "2023-08-22T12:13:09.114330Z"
    },
    "execution": {
     "iopub.execute_input": "2025-06-13T11:52:31.260857Z",
     "iopub.status.busy": "2025-06-13T11:52:31.260857Z",
     "iopub.status.idle": "2025-06-13T11:52:31.866271Z",
     "shell.execute_reply": "2025-06-13T11:52:31.865243Z",
     "shell.execute_reply.started": "2025-06-13T11:52:31.260857Z"
    },
    "tags": []
   },
   "outputs": [
    {
     "name": "stdout",
     "output_type": "stream",
     "text": [
      "xratio:0.0 \n",
      "code: 601360\n"
     ]
    },
    {
     "data": {
      "application/vnd.jupyter.widget-view+json": {
       "model_id": "877654f378944eff840b0995d8c670c2",
       "version_major": 2,
       "version_minor": 0
      },
      "image/png": "[encoded data removed]",
      "text/html": [
       "\n",
       "            <div style=\"display: inline-block;\">\n",
       "                <div class=\"jupyter-widgets widget-label\" style=\"text-align: center;\">\n",
       "                    Figure\n",
       "                </div>\n",
       "                <img src='data:image/png;base64,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' width=640.0/>\n",
       "            </div>\n",
       "        "
      ],
      "text/plain": [
       "Canvas(toolbar=Toolbar(toolitems=[('Home', 'Reset original view', 'home', 'home'), ('Back', 'Back to previous …"
      ]
     },
     "metadata": {},
     "output_type": "display_data"
    }
   ],
   "source": [
    "\n",
    "def show_ohlc_upper(df, code=None, allshow=True):\n",
    "    # 加载数据\n",
    "    # df = pd.read_csv(\"data.csv\")\n",
    "    # plt.close()\n",
    "    # 计算OHLC数据\n",
    "    # df = df.rename(columns={'date': 'Date', \"open\": \"Open\",\n",
    "    #                \"high\": \"High\", \"low\": \"Low\", \"close\": \"Close\"})\n",
    "    # df.Date = df.Date.apply(lambda x:str(x).replace('-',''))\n",
    "    if 'name' not in df.columns and code is not None:\n",
    "        df['name']= tdd.get_sina_data_code(code)\n",
    "    if allshow:\n",
    "        if 'ra_diff' in df.columns:\n",
    "            print(\"xratio:%s ra_diff:%s\" % (regression_ratio(df),df.ra_diff[-1]))\n",
    "        else:\n",
    "            print(\"xratio:%s \" % (regression_ratio(df)))\n",
    "    # df=df[df.upper > 0]\n",
    "    df = df.rename(columns={'vol': 'volume'})\n",
    "    df = df.reset_index()\n",
    "    # df.date = pd.to_datetime(df.index)\n",
    "    df.date = df.index\n",
    "    # print(df.Date)\n",
    "    # ohlc = df[[\"Date\", \"Open\", \"High\", \"Low\", \"Close\"]].values\n",
    "    ohlc = df[[\"date\", \"open\", \"high\", \"low\", \"close\", 'volume']].values\n",
    "\n",
    "    # 计算上轨和下轨\n",
    "    # upper_band = df[df.upper != 0].upper\n",
    "    # lower_band = df[df.lower != 0].lower\n",
    "    upper_band = df.upper\n",
    "    lower_band = df.lower\n",
    "    \n",
    "    # print(lower_band,df.lower)\n",
    "    # print(upper_band,df.upper)\n",
    "\n",
    "    if 'ma20d' in df.columns:\n",
    "        ma20d = df[df.ma20d > 0].ma20d\n",
    "    elif 'ma20' in df.columns:\n",
    "        ma20d = df[df.ma20 > 0].ma20\n",
    "    else:\n",
    "        print('not ma20 ma20d')\n",
    "    idx = len(df) - len(upper_band)\n",
    "    idx2 = len(df) - len(lower_band)\n",
    "    if idx != idx2:\n",
    "        print(idx, len(df), len(upper_band))\n",
    "        print(idx2, len(lower_band))\n",
    "\n",
    "    # 计算当前价格的位置\n",
    "    position = ['' for i in range(len(df))]\n",
    "    # print(idx,len(df) ,len(upper_band),position)\n",
    "    \n",
    "        # else:\n",
    "            # position[i] = 'Middle Band'\n",
    "    # print(position)\n",
    "    # 绘制OHLC图\n",
    "    fig, ax = plt.subplots()\n",
    "    candlestick_ohlc(ax, ohlc, width=0.6, colorup='g', colordown='r')\n",
    "\n",
    "    # 添加上轨和下轨\n",
    "    \n",
    "    for i in range(idx, len(upper_band), 1):\n",
    "        # print(df[\"close\"][i])\n",
    "        # print(upper_band[i],df[\"low\"][i])\n",
    "        # print(i,lower_band[i])\n",
    "        #error upper_band ==0.0\n",
    "        if df[\"close\"][i] > upper_band[i]:\n",
    "            position[i] = 'Upp'\n",
    "        elif df[\"low\"][i] < lower_band[i]:\n",
    "            position[i] = 'Low'\n",
    "            \n",
    "    plt.plot(upper_band.index, upper_band, 'r--', label='Upper Band')\n",
    "    plt.plot(lower_band.index, lower_band, 'g--', label='Lower Band')\n",
    "    \n",
    "    plt.plot(ma20d.index, ma20d, 'b', label='ma20')\n",
    "\n",
    "    if 'hat' in df.columns:\n",
    "        plt.plot(df.hat.index, df.hat, 'g', label='hat')\n",
    "    # 添加位置\n",
    "    for i, txt in enumerate(position):\n",
    "        if txt == 'Low':\n",
    "            plt.annotate(txt, (df[\"date\"][i], df[\"close\"][i]), xytext=(\n",
    "                0, -30), textcoords='offset points', color='g')\n",
    "        else:\n",
    "            plt.annotate(txt, (df[\"date\"][i], df[\"close\"][i]), xytext=(\n",
    "                0, 20), textcoords='offset points', color='g')\n",
    "    axx = fig.add_subplot(325)\n",
    "    # axx.plot(df[[\"volume\"]])\n",
    "    # from matplotlib import transforms\n",
    "    # pad = 0.25\n",
    "    # yl = ax.get_ylim()\n",
    "    # ax.set_ylim(yl[0]-(yl[1]-yl[0])*pad,yl[1])\n",
    "    # axx = ax.twinx()\n",
    "    # axx.set_position(transforms.Bbox([[0.125,0.1],[0.9,0.32]]))\n",
    "\n",
    "    volume = np.asarray(df.volume)\n",
    "    pos = df['open'] - df['close'] < 0\n",
    "    neg = df['open'] - df['close'] >= 0\n",
    "    idx = np.asarray([x for x in range(len(df.date))])\n",
    "    # print len(dates),len(df),ax.get_xlim(),ax.get_xticks()\n",
    "    axx.bar(idx[pos], volume[pos], color='red', width=1, align='center')\n",
    "    axx.bar(idx[neg], volume[neg], color='green', width=1, align='center')\n",
    "\n",
    "    # position = ['' for i in range(len(df))]\n",
    "    # position = df.Positon\n",
    "    # for i, txt in enumerate(position):\n",
    "    #     plt.annotate(txt, (df[\"Date\"][i], df[\"Close\"][i]), xytext=(0,20), textcoords='offset points')\n",
    "    # 添加图例\n",
    "    plt.legend(loc='best')\n",
    "    # plt.legend([\"Now:%s\" % df.close[-1], \"Hi:%s\" % df.high[-1], \"Lo:%0.2f\" % (asset.iat[-1]), \"day:%s\" %\n",
    "    #             len(asset), \"fib:%s\" % (fib),\"MA:%s\"%(roll_mean_days)], fontsize=12, loc=0)\n",
    "    if 'name' in df.columns:\n",
    "        if 'code' in df.columns:\n",
    "            plt.title(df.name.values[-1:][0] + \" \" + df.code[0] + \" | \", fontsize=12)\n",
    "        else:\n",
    "            plt.title(str(df.name.values[-1:][0]) + \" \" + \" | \", fontsize=12)\n",
    "\n",
    "    else:\n",
    "        if 'code' in df.columns:\n",
    "            plt.title(\" | \" + df.code[0] + \" | \", fontsize=12)\n",
    "        else:\n",
    "            if code is None:\n",
    "                plt.title(\" | \" + \" | \", fontsize=12)\n",
    "            else:\n",
    "                plt.title(\" | \" + code + \" | \", fontsize=12)\n",
    "\n",
    "    # 显示图形\n",
    "    print(\"code:\",code)\n",
    "    plt.show()\n",
    "\n",
    "\n",
    "show_ohlc_upper(dfc,code=dfc.code[0])"
   ]
  },
  {
   "cell_type": "code",
   "execution_count": null,
   "id": "f7f089a3-225d-4dda-ab14-f4dce799696d",
   "metadata": {},
   "outputs": [],
   "source": []
  },
  {
   "cell_type": "code",
   "execution_count": null,
   "id": "a45c8bd3-9143-47f6-a59f-2a09f29ec015",
   "metadata": {},
   "outputs": [],
   "source": []
  },
  {
   "cell_type": "code",
   "execution_count": 11,
   "id": "f9a758ab-4c1e-41e5-9d1a-5c5f262a67b0",
   "metadata": {
    "ExecuteTime": {
     "end_time": "2023-08-22T12:13:15.301648Z",
     "start_time": "2023-08-22T12:13:15.284697Z"
    },
    "execution": {
     "iopub.execute_input": "2025-06-13T11:52:31.866271Z",
     "iopub.status.busy": "2025-06-13T11:52:31.866271Z",
     "iopub.status.idle": "2025-06-13T11:52:31.880240Z",
     "shell.execute_reply": "2025-06-13T11:52:31.880240Z",
     "shell.execute_reply.started": "2025-06-13T11:52:31.866271Z"
    },
    "tags": []
   },
   "outputs": [
    {
     "data": {
      "text/plain": [
       "True"
      ]
     },
     "execution_count": 11,
     "metadata": {},
     "output_type": "execute_result"
    }
   ],
   "source": [
    "'code' in dfc.columns"
   ]
  },
  {
   "cell_type": "markdown",
   "id": "d778eb37-7a61-4f20-ae85-7ca80d9228d1",
   "metadata": {},
   "source": [
    "### show_channel_mpl"
   ]
  },
  {
   "cell_type": "code",
   "execution_count": 12,
   "id": "ce854955-6659-4098-a0a9-6acef9a55f6b",
   "metadata": {
    "ExecuteTime": {
     "end_time": "2023-08-22T12:13:17.312496Z",
     "start_time": "2023-08-22T12:13:17.301560Z"
    },
    "execution": {
     "iopub.execute_input": "2025-06-13T11:52:31.881200Z",
     "iopub.status.busy": "2025-06-13T11:52:31.881200Z",
     "iopub.status.idle": "2025-06-13T11:52:31.897159Z",
     "shell.execute_reply": "2025-06-13T11:52:31.896160Z",
     "shell.execute_reply.started": "2025-06-13T11:52:31.881200Z"
    },
    "tags": []
   },
   "outputs": [],
   "source": [
    "dfc['position'] = 0\n",
    "\n",
    "\n",
    "def show_channel_mpl_bug(df, limit=60):\n",
    "    # Compute the channel\n",
    "    def compute_channel(df):\n",
    "        # Compute the high and low of the past n periods\n",
    "        n = 20\n",
    "        high = df['high'].rolling(window=n, min_periods=n).max()\n",
    "        low = df['low'].rolling(window=n, min_periods=n).min()\n",
    "        df['upper_channel'] = high + (high - low) * 0.5\n",
    "        df['lower_channel'] = low - (high - low) * 0.5\n",
    "\n",
    "        # Update the position based on the current price\n",
    "        df['position'] = np.where(df['close'] > df['upper_channel'] * 0.66, 1,\n",
    "                                  np.where(df['close'] < df['lower_channel'], -1, 0))\n",
    "        # print(df['position'])\n",
    "\n",
    "    df = df.rename(columns={'vol': 'volume'})\n",
    "    # df = df.reset_index()\n",
    "    if 'date' in df.columns:\n",
    "        df.date = pd.to_datetime(df.date)\n",
    "    else:\n",
    "        df = df.reset_index()\n",
    "        df.date = pd.to_datetime(df.date)\n",
    "    df = df.set_index('date')\n",
    "    # df.date = df.index\n",
    "    df = df.loc[:, [\"open\", \"high\", \"low\", \"close\", 'volume']]\n",
    "    compute_channel(df)\n",
    "\n",
    "    # fig, ax = plt.subplots()\n",
    "    # Plot the ohlc chart\n",
    "    mpf.plot(df, type='candle', title='OHLC chart with channel and position',\n",
    "             ylabel='Price', volume=True, mav=(10, 20),\n",
    "             show_nontrading=False, ylabel_lower='Position')\n",
    "    # returnfig=True)\n",
    "\n",
    "    # for i, txt in enumerate(df.position):\n",
    "    #     # print(i,txt,df.index[i], df[\"close\"][i])\n",
    "    #     if txt == 0:\n",
    "    #         plt.annotate(\"Down\", (df.index[i], df[\"close\"][i]), xytext=(\n",
    "    #             0, -30), textcoords='offset points', color='g')\n",
    "    #     else:\n",
    "    #         plt.annotate(\"UP\", (df.index[i], df[\"close\"][i]), xytext=(\n",
    "    #             0, 20), textcoords='offset points', color='g')\n",
    "\n",
    "    # axlist[0].set_yticks([-1, 0, 1])\n",
    "    # axlist[2].xaxis.set_ticks(df['position'])\n",
    "    # axlist[2].set_xticklabels(df['upper_channel'])\n",
    "    # yticks=[-1, 0, 1], yticklabels=['Sell', 'Hold', 'Buy'],\n",
    "    # overlays=[(df['upper_channel'], None), (df['lower_channel'], None)])\n",
    "# show_channel_mpl(dfc)"
   ]
  },
  {
   "cell_type": "markdown",
   "id": "b07c48a6-b469-4a98-9d69-b37bc0e848c8",
   "metadata": {},
   "source": [
    "## TDX def"
   ]
  },
  {
   "cell_type": "code",
   "execution_count": 13,
   "id": "e5bf6754-f22a-4f0f-84c8-d054f610d00b",
   "metadata": {
    "ExecuteTime": {
     "end_time": "2023-08-22T12:13:19.207229Z",
     "start_time": "2023-08-22T12:13:19.169330Z"
    },
    "execution": {
     "iopub.execute_input": "2025-06-13T11:52:31.898154Z",
     "iopub.status.busy": "2025-06-13T11:52:31.898154Z",
     "iopub.status.idle": "2025-06-13T11:52:31.942038Z",
     "shell.execute_reply": "2025-06-13T11:52:31.942038Z",
     "shell.execute_reply.started": "2025-06-13T11:52:31.898154Z"
    },
    "tags": []
   },
   "outputs": [],
   "source": [
    "global sina_dm\n",
    "sina_dm = None\n",
    "\n",
    "\n",
    "def get_sina_data_cname(df, dm=None, index=False, realtime=False):\n",
    "    # index_status=False\n",
    "    global sina_dm\n",
    "    if dm is None:\n",
    "        if sina_dm is None:\n",
    "            dm = sina_data.Sina().market('all')\n",
    "        else:\n",
    "            dm = sina_dm.copy()\n",
    "\n",
    "    if 'ticktime' in df.columns:\n",
    "        time_l = time.mktime(dm.loc[:, 'ticktime'][-1].timetuple())\n",
    "        dur = round((time.time() - time_l) / 60, 2)\n",
    "        if dur > 5:\n",
    "            print(\"timel > 5,renew dm\")\n",
    "            dm = sina_data.Sina().market('all')\n",
    "            sina_dm = dm.copy()\n",
    "\n",
    "    if realtime:\n",
    "        print(\"compute percent\")\n",
    "        df.rename(columns={'low': 'llow',\n",
    "                  'high': 'lhigh', 'open': 'lopen'}, inplace=True)\n",
    "        if 'nclose' in dm.columns:\n",
    "            dd = cct.combine_dataFrame(\n",
    "                df, dm.loc\n",
    "                [:,\n",
    "                 ['nclose', 'close', 'name', 'open', 'high', 'low', 'llastp',\n",
    "                  'ticktime']],\n",
    "                clean=True)\n",
    "        else:\n",
    "            dd = cct.combine_dataFrame(\n",
    "                df, dm.loc\n",
    "                [:, ['close', 'name', 'open', 'high', 'low', 'llastp', 'ticktime']],\n",
    "                clean=True)\n",
    "        dd['perc'] = ((dd['close'] - dd['llastp']) / dd['llastp'] *\n",
    "                      100).map(lambda x: round(x, 2))\n",
    "        # dd = cct.combine_dataFrame(df, dm['name'])\n",
    "\n",
    "    else:\n",
    "        dd = cct.combine_dataFrame(df, dm['name'])\n",
    "    # cname = sina_data.Sina().get_code_cname(code)\n",
    "    return dd\n",
    "\n",
    "\n",
    "def write_code_to_blk(codew, blk='060'):\n",
    "    block_path = tdd.get_tdx_dir_blocknew() + '%s.blk' % (blk)\n",
    "    write_blk = 'n'\n",
    "    write_blk = cct.cct_raw_input(\"write blk [Y] or [N]:\")\n",
    "    if write_blk == 'y' or write_blk == 'Y':\n",
    "        hdf5_wri = cct.cct_raw_input(\n",
    "            \"Rewrite code [Y] or append [N](defalut:N):\")\n",
    "        if hdf5_wri == 'y' or hdf5_wri == 'Y':\n",
    "            append_status = False\n",
    "        else:\n",
    "            append_status = True\n",
    "        if len(codew) > 3:\n",
    "            cct.write_to_blocknew(block_path, codew, append_status,\n",
    "                                  doubleFile=False, keep_last=0)\n",
    "            (\"write:%s block_path:%s\" % (len(codew), block_path))\n",
    "        else:\n",
    "            (\"write error:%s block_path:%s\" % (len(codew), block_path))\n",
    "    return True\n",
    "\n",
    "def get_multiIndex_drop_last_row(df,dropline=1):\n",
    "\n",
    "    return df.drop(level='date', labels=df.index.get_level_values('date')[-dropline])\n",
    "\n",
    "def clean_688(df):\n",
    "    df = df[(~df.index.str.contains(\"688\"))]\n",
    "    return df\n",
    "\n",
    "def clean_sina_dm(dd):\n",
    "    if (cct.get_now_time_int() > 915 and cct.get_now_time_int() < 926):\n",
    "        dd = dd[dd.close > 0]\n",
    "    else:\n",
    "        dd = dd[dd.open > 0]\n",
    "    return dd\n",
    "\n",
    "def compute_perd_value(df, market_value=3, col=\"vol\", col_new='volsum'):\n",
    "\n",
    "    # if market_value == None or market_value < \"2\":\n",
    "    #     market_value = 3\n",
    "    # if market_value > 1 and len(df[ df[\"%s%sd\" % (col, market_value)] > 2])   :\n",
    "    market_value = str(market_value)\n",
    "    if market_value > str(1):\n",
    "        temp = df[\n",
    "            df.columns[\n",
    "                (df.columns >= \"%s1d\" % (col)) &\n",
    "                (df.columns <= \"%s%sd\" % (col, market_value))\n",
    "            ]\n",
    "        ]\n",
    "\n",
    "        df['%s%sd' % (col_new, market_value)] = temp.T.sum().apply(\n",
    "            lambda x: round(x, 1))\n",
    "    else:\n",
    "        print(\"market_value <= 1,No Compute\")\n",
    "\n",
    "    return df\n",
    "\n",
    "\n",
    "def show_tdx_data(df, codelist=None, market_value='3', col=None):\n",
    "    col_src = [\n",
    "        \"name\", \"couts\", \"date\", \"perc\", \"ra_diff\",\"xratio\", \"idx\", \"hat\", \"close\",\n",
    "        \"volsum5d\", \"hmax\", \"lmin\", \"perc1d\", \"ma20\", \"ma250\", \"nclose\",\n",
    "        \"llow\", 'vol1d', 'vol2d', 'vol3d', 'vol4d', 'vol5d', \"perc%sd\" %\n",
    "        (market_value),\n",
    "        \"perc5d\"]\n",
    "\n",
    "    if isinstance(df, pd.Series):\n",
    "        col_name = [co for co in col_src if co in df.index]\n",
    "        # col_name.insert(1,'date')\n",
    "    else:\n",
    "        col_name = [co for co in col_src if co in df.columns]\n",
    "\n",
    "    # print(col_name)\n",
    "    # if isinstance(df, pd.DataFrame) and 'name' in df.columns:\n",
    "    #     columns_ = col_name\n",
    "    # else:\n",
    "    #     if isinstance(df, pd.Series) and 'name' in df.index:\n",
    "    #         columns_ = col_name.insert(1, \"date\")\n",
    "    #     else:\n",
    "    #         columns_ = col_name.remove(\"name\")\n",
    "    \n",
    "    if isinstance(col,list):\n",
    "        col_name.extend(col)\n",
    "    elif col is not None:\n",
    "        col_name.insert(4, col)\n",
    "\n",
    "    if codelist is None:\n",
    "        if isinstance(df, pd.Series):\n",
    "            print(\"Count:1\")\n",
    "            temp = df.loc[col_name]\n",
    "        else:\n",
    "            print(\"Count:%s %s\" % (df.shape))\n",
    "            temp = df.loc[:, col_name]\n",
    "    else:\n",
    "        temp = df.loc[[x for x in codelist if x in df.index], col_name]\n",
    "    return temp\n",
    "\n",
    "\n",
    "def get_multi_date_duration(df, dt):\n",
    "    dd = df.reset_index()\n",
    "    dd = dd[dd.date >= dt]\n",
    "    # dd['couts'] = dd.groupby(['code'])['code'].transform('count')\n",
    "    dd = dd.set_index(['code', 'date'])\n",
    "    return dd\n",
    "\n",
    "\n",
    "def get_multi_code_count(df, col='code'):\n",
    "    dd = df.reset_index()\n",
    "    dd['couts'] = dd.groupby([col])[col].transform('count')\n",
    "    dd = dd.sort_values(by=['couts', 'date'], ascending=[0, 1])\n",
    "    print('count dd.couts')\n",
    "    dd = dd.set_index(['code', 'date'])\n",
    "    return dd\n",
    "\n",
    "\n",
    "def multindex_iloc(df, index):\n",
    "    label = df.index.levels[0][index]\n",
    "    return df.iloc[df.index.get_loc(label)]\n",
    "\n",
    "\n",
    "def get_groupby_mean_median_close(dfs):\n",
    "\n",
    "    groupd = dfs.groupby(level=[0])\n",
    "\n",
    "    df = groupd['close'].agg(['median', 'mean'])\n",
    "    df['close'] = groupd.tail(1).reset_index().set_index(['code'])['close']\n",
    "    # dfs['mean'] = groupd['close'].agg('mean')\n",
    "    # dfs['median'] = groupd['close'].agg('median')\n",
    "\n",
    "    # dfs = dfs.fillna(0)\n",
    "    # idx = pd.IndexSlice\n",
    "    # mask = ( (dfs['mean'] > dfs['median'])\n",
    "    #         & (dfs['close'] > dfs['mean'])\n",
    "    #         )\n",
    "    # df=dfs.loc[idx[mask, :]]\n",
    "\n",
    "    df = df[(df['mean'] > df['median']) & (df['close'] > df['mean'])]\n",
    "\n",
    "    # dt_low = None\n",
    "    # if dl == 1:\n",
    "    #     dfs = groupd.tail(1)\n",
    "    #     print(\"dfs tail1\")\n",
    "    # else:\n",
    "    #     dl = 30\n",
    "    #     dindex = tdd.get_tdx_Exp_day_to_df(\n",
    "    #         '999999', dl=dl).sort_index(ascending=False)\n",
    "    #     dt = tdd.get_duration_price_date('999999', df=dindex)\n",
    "    #     dt = dindex[dindex.index >= dt].index.values\n",
    "    #     dt_low = dt[-1]\n",
    "    #     dtlen = len(dt) if len(dt) >0 else 1\n",
    "    #     dfs = groupd.tail(dtlen)\n",
    "    #     print(\"dfs tail:%s dt:%s\"%(dtlen,dt))\n",
    "    #     dfs = get_multi_date_duration(dfs,dt[-1])\n",
    "    return df\n",
    "\n",
    "\n",
    "def compute_df_Col_lastday(dfs, col='close', colre='perc', days=3, plus=True):\n",
    "    for da in range(int(days)):\n",
    "        da += 1\n",
    "        if plus:\n",
    "            dfs['%s%sd' % (colre, da)] = round(\n",
    "                (dfs[col] - dfs[col].shift(da)) / dfs[col].shift(da) * 100, 2)\n",
    "        else:\n",
    "            if da == 1:\n",
    "                dfs['%s%sd' % (colre, da)] = round(\n",
    "                    (dfs[col] - dfs[col].shift(da)) / dfs[col].shift(da) * 100, 2)\n",
    "            else:\n",
    "                dfs['%s%sd' % (colre, da)] = round(\n",
    "                    (dfs[col].shift(da - 1) - dfs[col].shift(da)) / dfs[col].shift(da) * 100, 2)\n",
    "    return dfs"
   ]
  },
  {
   "cell_type": "code",
   "execution_count": 14,
   "id": "1a9b1214-b3ae-403e-9b29-2b51ab03f4b1",
   "metadata": {
    "ExecuteTime": {
     "end_time": "2023-08-22T12:13:20.250472Z",
     "start_time": "2023-08-22T12:13:20.228497Z"
    },
    "execution": {
     "iopub.execute_input": "2025-06-13T11:52:31.944033Z",
     "iopub.status.busy": "2025-06-13T11:52:31.943036Z",
     "iopub.status.idle": "2025-06-13T11:52:31.957025Z",
     "shell.execute_reply": "2025-06-13T11:52:31.957025Z",
     "shell.execute_reply.started": "2025-06-13T11:52:31.944033Z"
    },
    "tags": []
   },
   "outputs": [],
   "source": [
    "def get_roll_mean_all(\n",
    "        single=True, tdx=False, app=True, duration=100, ma_250_l=1.02,\n",
    "        ma_250_h=1.11, resample='d'):\n",
    "    time_s = time.time()\n",
    "    if not app and cct.get_file_size(block_path) > 100 and cct.creation_date_duration(block_path) == 0:\n",
    "        print(\"It's Today Update\")\n",
    "        return True\n",
    "    code_list = sina_data.Sina().market('all').index.tolist()\n",
    "    code_list.extend(['999999', '399001', '399006'])\n",
    "    print(\"all code:\", len(code_list))\n",
    "    if duration < 300:\n",
    "        h5_fname = 'tdx_all_df' + '_' + str(300)\n",
    "        h5_table = 'all' + '_' + str(300)\n",
    "    else:\n",
    "        h5_fname = 'tdx_all_df' + '_' + str(900)\n",
    "        h5_table = 'all' + '_' + str(900)\n",
    "    # df = tdd.search_Tdx_multi_data_duration('tdx_all_df_300', 'all_300', df=None,code_l=code_list, start='20150501', end=None, freq=None, col=None, index='date')\n",
    "    df = tdd.search_Tdx_multi_data_duration(\n",
    "        h5_fname, h5_table, df=None, code_l=code_list, start=None, end=None,\n",
    "        freq=None, col=None, index='date')\n",
    "    # df = tdd.search_Tdx_multi_data_duration(h5_fname, h5_table, df=None,code_l=code_list, start=None, end=None, freq=None, col=None, index='date',tail=1)\n",
    "\n",
    "    code_uniquelist = df.index.get_level_values('code').unique()\n",
    "\n",
    "    code_select = code_uniquelist[random.randint(0, len(code_uniquelist) - 1)]\n",
    "    print(round(time.time() - time_s, 2), df.index.get_level_values(\n",
    "        'code').unique().shape, code_select, df.loc[code_select].shape)\n",
    "    # df.groupby(level=[0]),df.index.get_level_values(0)\n",
    "    # len(df.index.get_level_values('code').unique())\n",
    "    # df = df[~df.index.duplicated(keep='first')]\n",
    "\n",
    "    # multiIndex_func = {'close': 'mean', 'low': 'min', 'high': 'max', 'volume': 'sum', 'open': 'first'}\n",
    "    # cct.using_Grouper(df, freq='W', col={'close': 'last'})\n",
    "    # *** TypeError: Only valid with DatetimeIndex, TimedeltaIndex or PeriodIndex, but got an instance of 'Index'\n",
    "    # roll_dl = duration\n",
    "    if resample != 'd':\n",
    "\n",
    "        print(\"resample:%s\"%(resample.upper()))\n",
    "        df = df.groupby(level=0).resample(resample, level=1).last()\n",
    "        df = df.dropna()\n",
    "        \n",
    "    ''' \n",
    "    if resample != 'd':\n",
    "        print(\"resample:%s\" % (resample.upper()))\n",
    "        # ohlc_dict = {'volume': 'sum','high': 'max','low': 'min','close': 'last'}\n",
    "        # {'low': 'min', 'close':'mean'}\n",
    "        # df = df.groupby(level=0).resample(resample, level=1).agg({'close':'last'})\n",
    "        # df = df.loc[:, ['open','close', 'low', 'high']].groupby(level=0).resample(resample, level=1).agg({'close':'last'})\n",
    "        df = df.loc[:, ['close']].groupby(level=0).resample(\n",
    "            resample, level=1).agg({'close': 'last'}).dropna()\n",
    "\n",
    "        df = df.dropna()\n",
    "        # df = df.loc[:, ['open','close', 'low', 'high']].groupby(level=0).resample(resample, level=1, how={'low': 'min', 'close':'mean'})\n",
    "        # df = df.loc[:, ['open','close', 'low', 'high']].groupby(pd.Grouper(freq=resample)).transform(np.cumsum).resample(resample, how='ohlc')\n",
    "\n",
    "        # df = df.loc[:, ['open','close', 'low', 'high']].groupby(pd.TimeGrouper(resample)).transform(np.cumsum).resample(resample, how='ohlc')\n",
    "        # r1 = len(df.loc['000001'])\n",
    "        # r2 = len(df.loc['999999'])\n",
    "        # roll_dl = r1 if r1 < r2 else r2\n",
    "\n",
    "        # df['upper'] = map(lambda x: round((1 + 11.0 / 100) * x, 1), df.ma10d)\n",
    "        # df['lower'] = map(lambda x: round((1 - 9.0 / 100) * x, 1), df.ma10d)\n",
    "        # df['ene'] = map(lambda x, y: round((x + y) / 2, 1), df.upper, df.lower)\n",
    "        # dfs['amount%d'%cumdays] = groupd['amount'].apply(pd.rolling_mean, cumdays)\n",
    "    # df.ix[df.index.levels[0]]\n",
    "    # df.ix[df.index[len(df.index)-1][0]] #last row\n",
    "    # dfs = tdd.search_Tdx_multi_data_duration(df=dfs,code_l=code_list, start='20170918', end='20170918', freq=None, col=None, index='date')\n",
    "\n",
    "    # print dfs[:1],len(dfs)\n",
    "    # groupd.agg({'low': 'min'})\n",
    "    #  idx mask filter \n",
    "    # h5a.write_hdf_db('all300', df, table='roll200', index=False,baseCount=500, append=False, MultiIndex=MultiIndex)\n",
    "    '''\n",
    "\n",
    "    df = df.reset_index().sort_values(by=['code', 'date'], ascending=[0, 1]).set_index(['code', 'date'])\n",
    "    print(\"use time:%s\" % (round(time.time() - time_s, 2)))\n",
    "    return df"
   ]
  },
  {
   "cell_type": "markdown",
   "id": "e0b21536-bc63-43bb-9f42-5dfd4d3c26a0",
   "metadata": {},
   "source": [
    "# 读取数据 TDX Days"
   ]
  },
  {
   "cell_type": "markdown",
   "id": "7680e959-d22a-43d3-a321-4356241a0f94",
   "metadata": {},
   "source": [
    "## resample = 'D'"
   ]
  },
  {
   "cell_type": "code",
   "execution_count": 15,
   "id": "0cfe46ed-834d-4d27-811c-e60d2c40175c",
   "metadata": {
    "ExecuteTime": {
     "end_time": "2023-08-22T12:13:47.705638Z",
     "start_time": "2023-08-22T12:13:24.135350Z"
    },
    "execution": {
     "iopub.execute_input": "2025-06-13T11:52:31.957996Z",
     "iopub.status.busy": "2025-06-13T11:52:31.957996Z",
     "iopub.status.idle": "2025-06-13T11:52:57.976485Z",
     "shell.execute_reply": "2025-06-13T11:52:57.975512Z",
     "shell.execute_reply.started": "2025-06-13T11:52:31.957996Z"
    },
    "tags": []
   },
   "outputs": [
    {
     "name": "stdout",
     "output_type": "stream",
     "text": [
      "all code: 5197\n",
      "15.48 (4930,) 301187 (381, 6)\n",
      "resample:D\n",
      "use time:26.01\n"
     ]
    }
   ],
   "source": [
    "# resample = 'W-FRI'\n",
    "resample = 'D'\n",
    "\n",
    "df = get_roll_mean_all(\n",
    "    single=False, tdx=True, app=True, duration=250, ma_250_l=1.02,\n",
    "    ma_250_h=1.2, resample=resample)\n",
    "\n",
    "\n",
    "# df= df.groupby(level=[0]).tail(1).reset_index().set_index('code')\n",
    "# df_cname = tdd.get_sina_datadf_cnamedf(df.index.tolist(), df)\n",
    "# df = df.reset_index().set_index(['code', 'date'])"
   ]
  },
  {
   "cell_type": "code",
   "execution_count": 16,
   "id": "cb0e3d9c-01b0-43a3-b7a7-0ae1b7ee82bf",
   "metadata": {
    "ExecuteTime": {
     "end_time": "2023-08-22T12:13:47.848290Z",
     "start_time": "2023-08-22T12:13:47.819335Z"
    },
    "execution": {
     "iopub.execute_input": "2025-06-13T11:52:57.976485Z",
     "iopub.status.busy": "2025-06-13T11:52:57.976485Z",
     "iopub.status.idle": "2025-06-13T11:52:58.006360Z",
     "shell.execute_reply": "2025-06-13T11:52:58.005398Z",
     "shell.execute_reply.started": "2025-06-13T11:52:57.976485Z"
    },
    "tags": []
   },
   "outputs": [
    {
     "data": {
      "text/html": [
       "<div>\n",
       "<style scoped>\n",
       "    .dataframe tbody tr th:only-of-type {\n",
       "        vertical-align: middle;\n",
       "    }\n",
       "\n",
       "    .dataframe tbody tr th {\n",
       "        vertical-align: top;\n",
       "    }\n",
       "\n",
       "    .dataframe thead th {\n",
       "        text-align: right;\n",
       "    }\n",
       "</style>\n",
       "<table border=\"1\" class=\"dataframe\">\n",
       "  <thead>\n",
       "    <tr style=\"text-align: right;\">\n",
       "      <th></th>\n",
       "      <th>open</th>\n",
       "      <th>high</th>\n",
       "      <th>low</th>\n",
       "      <th>close</th>\n",
       "      <th>vol</th>\n",
       "      <th>amount</th>\n",
       "    </tr>\n",
       "    <tr>\n",
       "      <th>date</th>\n",
       "      <th></th>\n",
       "      <th></th>\n",
       "      <th></th>\n",
       "      <th></th>\n",
       "      <th></th>\n",
       "      <th></th>\n",
       "    </tr>\n",
       "  </thead>\n",
       "  <tbody>\n",
       "    <tr>\n",
       "      <th>2025-06-13</th>\n",
       "      <td>6.5</td>\n",
       "      <td>6.5</td>\n",
       "      <td>6.4</td>\n",
       "      <td>6.4</td>\n",
       "      <td>87615048.0</td>\n",
       "      <td>565615424.0</td>\n",
       "    </tr>\n",
       "  </tbody>\n",
       "</table>\n",
       "</div>"
      ],
      "text/plain": [
       "            open  high  low  close         vol       amount\n",
       "date                                                       \n",
       "2025-06-13   6.5   6.5  6.4    6.4  87615048.0  565615424.0"
      ]
     },
     "execution_count": 16,
     "metadata": {},
     "output_type": "execute_result"
    }
   ],
   "source": [
    "# df.loc['399001'][-1:]\n",
    "df.loc['000002'][-1:]\n",
    "# df.groupby(level=[0]).tail(30).groupby(level=[0]).tail(2)\n",
    "# df.groupby(level=[0]).tail(30).groupby(level=[0]).head(1)"
   ]
  },
  {
   "cell_type": "markdown",
   "id": "be5589ce-81e5-40b0-9147-381f2cbedf46",
   "metadata": {},
   "source": [
    "### Test InStock"
   ]
  },
  {
   "cell_type": "code",
   "execution_count": 17,
   "id": "80337c9e-02dd-4ee0-9ef1-a2a4bc8407aa",
   "metadata": {
    "ExecuteTime": {
     "end_time": "2023-08-22T12:13:47.990875Z",
     "start_time": "2023-08-22T12:13:47.960956Z"
    },
    "execution": {
     "iopub.execute_input": "2025-06-13T11:52:58.006360Z",
     "iopub.status.busy": "2025-06-13T11:52:58.006360Z",
     "iopub.status.idle": "2025-06-13T11:52:58.038274Z",
     "shell.execute_reply": "2025-06-13T11:52:58.037278Z",
     "shell.execute_reply.started": "2025-06-13T11:52:58.006360Z"
    },
    "tags": []
   },
   "outputs": [
    {
     "data": {
      "text/html": [
       "<div>\n",
       "<style scoped>\n",
       "    .dataframe tbody tr th:only-of-type {\n",
       "        vertical-align: middle;\n",
       "    }\n",
       "\n",
       "    .dataframe tbody tr th {\n",
       "        vertical-align: top;\n",
       "    }\n",
       "\n",
       "    .dataframe thead th {\n",
       "        text-align: right;\n",
       "    }\n",
       "</style>\n",
       "<table border=\"1\" class=\"dataframe\">\n",
       "  <thead>\n",
       "    <tr style=\"text-align: right;\">\n",
       "      <th></th>\n",
       "      <th>open</th>\n",
       "      <th>high</th>\n",
       "      <th>low</th>\n",
       "      <th>close</th>\n",
       "      <th>vol</th>\n",
       "      <th>amount</th>\n",
       "    </tr>\n",
       "    <tr>\n",
       "      <th>date</th>\n",
       "      <th></th>\n",
       "      <th></th>\n",
       "      <th></th>\n",
       "      <th></th>\n",
       "      <th></th>\n",
       "      <th></th>\n",
       "    </tr>\n",
       "  </thead>\n",
       "  <tbody>\n",
       "    <tr>\n",
       "      <th>2023-11-02</th>\n",
       "      <td>15.8</td>\n",
       "      <td>16.2</td>\n",
       "      <td>15.5</td>\n",
       "      <td>15.5</td>\n",
       "      <td>1845500.0</td>\n",
       "      <td>29343732.0</td>\n",
       "    </tr>\n",
       "    <tr>\n",
       "      <th>2023-11-03</th>\n",
       "      <td>15.9</td>\n",
       "      <td>17.8</td>\n",
       "      <td>15.7</td>\n",
       "      <td>16.9</td>\n",
       "      <td>9484947.0</td>\n",
       "      <td>160420160.0</td>\n",
       "    </tr>\n",
       "  </tbody>\n",
       "</table>\n",
       "</div>"
      ],
      "text/plain": [
       "            open  high   low  close        vol       amount\n",
       "date                                                       \n",
       "2023-11-02  15.8  16.2  15.5   15.5  1845500.0   29343732.0\n",
       "2023-11-03  15.9  17.8  15.7   16.9  9484947.0  160420160.0"
      ]
     },
     "execution_count": 17,
     "metadata": {},
     "output_type": "execute_result"
    }
   ],
   "source": [
    "df.loc['301083'][:2]"
   ]
  },
  {
   "cell_type": "markdown",
   "id": "33ede7a0-93f4-40dc-a768-fc0dfea94b1b",
   "metadata": {},
   "source": [
    "## ra_diff"
   ]
  },
  {
   "cell_type": "code",
   "execution_count": 18,
   "id": "84a6eb98-576c-47f4-8c3f-10e4625a305d",
   "metadata": {
    "execution": {
     "iopub.execute_input": "2025-06-13T11:52:58.040268Z",
     "iopub.status.busy": "2025-06-13T11:52:58.039271Z",
     "iopub.status.idle": "2025-06-13T11:52:58.052274Z",
     "shell.execute_reply": "2025-06-13T11:52:58.052274Z",
     "shell.execute_reply.started": "2025-06-13T11:52:58.040268Z"
    }
   },
   "outputs": [],
   "source": [
    "tail_days = 60"
   ]
  },
  {
   "cell_type": "code",
   "execution_count": 19,
   "id": "4dc80046-6d59-46d1-8ab6-b37341c4d550",
   "metadata": {
    "ExecuteTime": {
     "end_time": "2023-08-22T12:14:08.456186Z",
     "start_time": "2023-08-22T12:14:00.860730Z"
    },
    "execution": {
     "iopub.execute_input": "2025-06-13T11:52:58.053233Z",
     "iopub.status.busy": "2025-06-13T11:52:58.053233Z",
     "iopub.status.idle": "2025-06-13T11:53:09.984343Z",
     "shell.execute_reply": "2025-06-13T11:53:09.982347Z",
     "shell.execute_reply.started": "2025-06-13T11:52:58.053233Z"
    },
    "tags": []
   },
   "outputs": [],
   "source": [
    "df = df.groupby(level=[0]).tail(tail_days).groupby(level=[0]).apply(ra_diff)\n"
   ]
  },
  {
   "cell_type": "code",
   "execution_count": 20,
   "id": "929f86ed-ed7d-46e8-959b-d77f89572e63",
   "metadata": {
    "ExecuteTime": {
     "end_time": "2023-08-22T12:14:08.595396Z",
     "start_time": "2023-08-22T12:14:08.582432Z"
    },
    "execution": {
     "iopub.execute_input": "2025-06-13T11:53:09.986333Z",
     "iopub.status.busy": "2025-06-13T11:53:09.986333Z",
     "iopub.status.idle": "2025-06-13T11:53:09.998302Z",
     "shell.execute_reply": "2025-06-13T11:53:09.997305Z",
     "shell.execute_reply.started": "2025-06-13T11:53:09.986333Z"
    },
    "tags": []
   },
   "outputs": [
    {
     "data": {
      "text/plain": [
       "(60, 7)"
      ]
     },
     "execution_count": 20,
     "metadata": {},
     "output_type": "execute_result"
    }
   ],
   "source": [
    "# df.loc['999999'][-3:]\n",
    "# df.loc['301073'].ra_diff[-3:]\n",
    "df.loc['300459'].shape"
   ]
  },
  {
   "cell_type": "markdown",
   "id": "4838667d-8232-4089-a857-906f2e0dd5ea",
   "metadata": {
    "tags": []
   },
   "source": [
    "## X df_regression_ratio outdate\n",
    "    df_idx_detect"
   ]
  },
  {
   "cell_type": "code",
   "execution_count": 21,
   "id": "a519fb4c-3860-4ea0-87e8-a8e9478b66a3",
   "metadata": {
    "ExecuteTime": {
     "end_time": "2023-08-22T12:14:08.736052Z",
     "start_time": "2023-08-22T12:14:08.722058Z"
    },
    "execution": {
     "iopub.execute_input": "2025-06-13T11:53:10.007278Z",
     "iopub.status.busy": "2025-06-13T11:53:09.999300Z",
     "iopub.status.idle": "2025-06-13T11:53:10.028222Z",
     "shell.execute_reply": "2025-06-13T11:53:10.027225Z",
     "shell.execute_reply.started": "2025-06-13T11:53:10.007278Z"
    },
    "tags": []
   },
   "outputs": [],
   "source": [
    "# df_reg_ratio = df.groupby(level=[0])['close'].apply(regression_ratio)\n",
    "# df_idx_detect = df.groupby(level=[0])['close'].apply(detect_bull_bear_apply)\n",
    "# show_ohlc_upper()\n",
    "# df[:10]"
   ]
  },
  {
   "cell_type": "code",
   "execution_count": 22,
   "id": "c391348e-00ba-429f-90c9-75be9156e5c4",
   "metadata": {
    "ExecuteTime": {
     "end_time": "2023-08-22T12:14:08.859723Z",
     "start_time": "2023-08-22T12:14:08.847722Z"
    },
    "execution": {
     "iopub.execute_input": "2025-06-13T11:53:10.029219Z",
     "iopub.status.busy": "2025-06-13T11:53:10.029219Z",
     "iopub.status.idle": "2025-06-13T11:53:10.043183Z",
     "shell.execute_reply": "2025-06-13T11:53:10.043183Z",
     "shell.execute_reply.started": "2025-06-13T11:53:10.029219Z"
    },
    "tags": []
   },
   "outputs": [],
   "source": [
    "# df_idx_detect.shape, df_idx_detect.loc['000002']\n",
    "# df.loc['000002'][-2:],df_reg_ratio.loc['000002']\n",
    "# df.loc['688798'][-3:]"
   ]
  },
  {
   "cell_type": "code",
   "execution_count": 23,
   "id": "ac692cd2-93b6-443b-a25e-05529ca35fe6",
   "metadata": {
    "ExecuteTime": {
     "end_time": "2023-08-22T12:14:09.000313Z",
     "start_time": "2023-08-22T12:14:08.985353Z"
    },
    "execution": {
     "iopub.execute_input": "2025-06-13T11:53:10.044179Z",
     "iopub.status.busy": "2025-06-13T11:53:10.044179Z",
     "iopub.status.idle": "2025-06-13T11:53:10.058143Z",
     "shell.execute_reply": "2025-06-13T11:53:10.058143Z",
     "shell.execute_reply.started": "2025-06-13T11:53:10.044179Z"
    },
    "tags": []
   },
   "outputs": [],
   "source": [
    "# df.loc['000002'][-10:]"
   ]
  },
  {
   "cell_type": "markdown",
   "id": "b1fc3781-1b2d-4f11-8468-9f27925186ed",
   "metadata": {
    "tags": []
   },
   "source": [
    "## sina_dm"
   ]
  },
  {
   "cell_type": "code",
   "execution_count": 24,
   "id": "5a035e03-9bbf-4f40-badb-0075eb6e78ae",
   "metadata": {
    "ExecuteTime": {
     "end_time": "2023-08-22T12:14:12.004252Z",
     "start_time": "2023-08-22T12:14:09.126976Z"
    },
    "execution": {
     "iopub.execute_input": "2025-06-13T11:53:10.060137Z",
     "iopub.status.busy": "2025-06-13T11:53:10.060137Z",
     "iopub.status.idle": "2025-06-13T11:53:10.363358Z",
     "shell.execute_reply": "2025-06-13T11:53:10.362363Z",
     "shell.execute_reply.started": "2025-06-13T11:53:10.060137Z"
    },
    "tags": []
   },
   "outputs": [
    {
     "data": {
      "text/plain": [
       "('2025-06-12',\n",
       " code\n",
       " 688037    芯源微\n",
       " Name: name, dtype: object)"
      ]
     },
     "execution_count": 24,
     "metadata": {},
     "output_type": "execute_result"
    }
   ],
   "source": [
    "sina_dm = sina_data.Sina().market('all')\n",
    "lastday = cct.last_tddate()\n",
    "lastday,sina_dm.name[:1]\n",
    "sina_dm = clean_sina_dm(sina_dm)"
   ]
  },
  {
   "cell_type": "code",
   "execution_count": 25,
   "id": "9adba7e6-b9bc-47c7-807b-2bcda000c8b2",
   "metadata": {
    "ExecuteTime": {
     "end_time": "2023-08-22T12:14:12.161448Z",
     "start_time": "2023-08-22T12:14:12.147485Z"
    },
    "execution": {
     "iopub.execute_input": "2025-06-13T11:53:10.364323Z",
     "iopub.status.busy": "2025-06-13T11:53:10.363358Z",
     "iopub.status.idle": "2025-06-13T11:53:10.378322Z",
     "shell.execute_reply": "2025-06-13T11:53:10.378322Z",
     "shell.execute_reply.started": "2025-06-13T11:53:10.364323Z"
    },
    "tags": []
   },
   "outputs": [
    {
     "data": {
      "text/plain": [
       "'2025-06/13/25 19:53:10'"
      ]
     },
     "execution_count": 25,
     "metadata": {},
     "output_type": "execute_result"
    },
    {
     "data": {
      "text/plain": [
       "code\n",
       "603077   2025-06-13 15:00:00\n",
       "601108   2025-06-13 15:00:03\n",
       "Name: ticktime, dtype: datetime64[ns]"
      ]
     },
     "execution_count": 25,
     "metadata": {},
     "output_type": "execute_result"
    },
    {
     "data": {
      "text/plain": [
       "293.122855647405"
      ]
     },
     "execution_count": 25,
     "metadata": {},
     "output_type": "execute_result"
    }
   ],
   "source": [
    "cct.get_time_to_date(time.time(), format='%Y-%D %H:%M:%S')\n",
    "\n",
    "# abc=dm.loc[:,'ticktime'][-1]\n",
    "sina_dm.ticktime[-2:]\n",
    "# dm.ticktime[:1]\n",
    "# sina_dm.loc[:, 'ticktime'][-1]\n",
    "# time.strptime(abc,format='%Y-%m-%d %H:%M:%S')\n",
    "# (time.mktime(abc.timetuple()))\n",
    "(time.time() - time.mktime(sina_dm.loc[:, 'ticktime'][-1].timetuple())) / 60"
   ]
  },
  {
   "cell_type": "markdown",
   "id": "577820c4-8167-46e6-9dc6-1c2da90ae9d1",
   "metadata": {},
   "source": [
    "### Combine ratio and idx"
   ]
  },
  {
   "cell_type": "code",
   "execution_count": 26,
   "id": "568ea2ed-5f60-41ab-812f-c37776eb11c2",
   "metadata": {
    "execution": {
     "iopub.execute_input": "2025-06-13T11:53:10.380281Z",
     "iopub.status.busy": "2025-06-13T11:53:10.380281Z",
     "iopub.status.idle": "2025-06-13T11:53:10.394245Z",
     "shell.execute_reply": "2025-06-13T11:53:10.393295Z",
     "shell.execute_reply.started": "2025-06-13T11:53:10.380281Z"
    },
    "tags": []
   },
   "outputs": [],
   "source": [
    "# if 'date' in df.columns:\n",
    "#     print('error duplicated date col')\n",
    "#     if isinstance(df,pd.MultiIndex):\n",
    "#         df.drop('date', axis=1, inplace=True)\n",
    "# else:\n",
    "#     df = df.reset_index().set_index('code')\n",
    "#     df['idx'] = df_idx_detect\n",
    "#     df['xratio'] = df_reg_ratio\n",
    "#     df['name'] = sina_dm.name\n",
    "#     df = df.reset_index().set_index(['code', 'date'])"
   ]
  },
  {
   "cell_type": "markdown",
   "id": "2ee38227-e2fb-4bc5-8ce5-7c3b919cafe5",
   "metadata": {
    "execution": {
     "iopub.execute_input": "2023-02-20T12:29:54.721088Z",
     "iopub.status.busy": "2023-02-20T12:29:54.721088Z",
     "iopub.status.idle": "2023-02-20T12:29:54.740387Z",
     "shell.execute_reply": "2023-02-20T12:29:54.737397Z",
     "shell.execute_reply.started": "2023-02-20T12:29:54.721088Z"
    },
    "tags": []
   },
   "source": [
    "## 读取实时成交量数据"
   ]
  },
  {
   "cell_type": "code",
   "execution_count": 27,
   "id": "a221fc48-79c5-42eb-90b2-d81e650bbdd1",
   "metadata": {
    "ExecuteTime": {
     "end_time": "2023-08-22T12:14:12.320058Z",
     "start_time": "2023-08-22T12:14:12.309090Z"
    },
    "execution": {
     "iopub.execute_input": "2025-06-13T11:53:10.395241Z",
     "iopub.status.busy": "2025-06-13T11:53:10.395241Z",
     "iopub.status.idle": "2025-06-13T11:53:10.410200Z",
     "shell.execute_reply": "2025-06-13T11:53:10.409239Z",
     "shell.execute_reply.started": "2025-06-13T11:53:10.395241Z"
    },
    "tags": []
   },
   "outputs": [],
   "source": [
    "def apply_col_toint(df, col=None):\n",
    "    if col is None:\n",
    "        co2int = ['boll', 'op', 'ratio', 'fib', 'fibl', 'df2']\n",
    "    # co2int.extend([co for co in df.columns.tolist()\n",
    "    #                if co.startswith('perc') and co.endswith('d')])\n",
    "        co2int.extend(['top10', 'topR'])\n",
    "    else:\n",
    "        co2int = col\n",
    "    co2int = [inx for inx in co2int if inx in df.columns]\n",
    "\n",
    "    for co in co2int:\n",
    "        df[co] = df[co].astype(int)\n",
    "\n",
    "    return df\n",
    "\n",
    "def readHdf5(fpath, root=None):\n",
    "    store = pd.HDFStore(fpath, \"r\")\n",
    "    print(store.keys())\n",
    "    if root is None and store is not None:\n",
    "        root = store.keys()[0].replace(\"/\", \"\")\n",
    "    df = store[root]\n",
    "    df = apply_col_toint(df)\n",
    "    store.close()\n",
    "    return df"
   ]
  },
  {
   "cell_type": "code",
   "execution_count": 29,
   "id": "52edc75e-7bf9-461d-8870-e983ce685b99",
   "metadata": {
    "ExecuteTime": {
     "end_time": "2023-08-22T12:14:14.950744Z",
     "start_time": "2023-08-22T12:14:12.461646Z"
    },
    "execution": {
     "iopub.execute_input": "2025-06-13T11:56:06.918440Z",
     "iopub.status.busy": "2025-06-13T11:56:06.918440Z",
     "iopub.status.idle": "2025-06-13T11:56:06.953314Z",
     "shell.execute_reply": "2025-06-13T11:56:06.952353Z",
     "shell.execute_reply.started": "2025-06-13T11:56:06.918440Z"
    },
    "tags": []
   },
   "outputs": [
    {
     "name": "stdout",
     "output_type": "stream",
     "text": [
      "[]\n"
     ]
    },
    {
     "ename": "IndexError",
     "evalue": "list index out of range",
     "output_type": "error",
     "traceback": [
      "\u001b[1;31m---------------------------------------------------------------------------\u001b[0m",
      "\u001b[1;31mIndexError\u001b[0m                                Traceback (most recent call last)",
      "\u001b[1;32mG:\\Temp\\ipykernel_30696\\3938750860.py\u001b[0m in \u001b[0;36m<module>\u001b[1;34m\u001b[0m\n\u001b[0;32m      2\u001b[0m \u001b[1;31m# from JohnsonUtil import commonTips as cct\u001b[0m\u001b[1;33m\u001b[0m\u001b[1;33m\u001b[0m\u001b[0m\n\u001b[0;32m      3\u001b[0m \u001b[0msina_MultiD_path\u001b[0m \u001b[1;33m=\u001b[0m \u001b[1;34m\"G:\\\\sina_MultiIndex_data.h5\"\u001b[0m\u001b[1;33m\u001b[0m\u001b[1;33m\u001b[0m\u001b[0m\n\u001b[1;32m----> 4\u001b[1;33m \u001b[0mh5\u001b[0m \u001b[1;33m=\u001b[0m \u001b[0mreadHdf5\u001b[0m\u001b[1;33m(\u001b[0m\u001b[0msina_MultiD_path\u001b[0m\u001b[1;33m)\u001b[0m\u001b[1;33m\u001b[0m\u001b[1;33m\u001b[0m\u001b[0m\n\u001b[0m\u001b[0;32m      5\u001b[0m \u001b[0mprint\u001b[0m\u001b[1;33m(\u001b[0m\u001b[0msina_MultiD_path\u001b[0m\u001b[1;33m)\u001b[0m\u001b[1;33m\u001b[0m\u001b[1;33m\u001b[0m\u001b[0m\n\u001b[0;32m      6\u001b[0m \u001b[0mh5\u001b[0m\u001b[1;33m.\u001b[0m\u001b[0mshape\u001b[0m\u001b[1;33m\u001b[0m\u001b[1;33m\u001b[0m\u001b[0m\n",
      "\u001b[1;32mG:\\Temp\\ipykernel_30696\\2006043334.py\u001b[0m in \u001b[0;36mreadHdf5\u001b[1;34m(fpath, root)\u001b[0m\n\u001b[0;32m     18\u001b[0m     \u001b[0mprint\u001b[0m\u001b[1;33m(\u001b[0m\u001b[0mstore\u001b[0m\u001b[1;33m.\u001b[0m\u001b[0mkeys\u001b[0m\u001b[1;33m(\u001b[0m\u001b[1;33m)\u001b[0m\u001b[1;33m)\u001b[0m\u001b[1;33m\u001b[0m\u001b[1;33m\u001b[0m\u001b[0m\n\u001b[0;32m     19\u001b[0m     \u001b[1;32mif\u001b[0m \u001b[0mroot\u001b[0m \u001b[1;32mis\u001b[0m \u001b[1;32mNone\u001b[0m\u001b[1;33m:\u001b[0m\u001b[1;33m\u001b[0m\u001b[1;33m\u001b[0m\u001b[0m\n\u001b[1;32m---> 20\u001b[1;33m         \u001b[0mroot\u001b[0m \u001b[1;33m=\u001b[0m \u001b[0mstore\u001b[0m\u001b[1;33m.\u001b[0m\u001b[0mkeys\u001b[0m\u001b[1;33m(\u001b[0m\u001b[1;33m)\u001b[0m\u001b[1;33m[\u001b[0m\u001b[1;36m0\u001b[0m\u001b[1;33m]\u001b[0m\u001b[1;33m.\u001b[0m\u001b[0mreplace\u001b[0m\u001b[1;33m(\u001b[0m\u001b[1;34m\"/\"\u001b[0m\u001b[1;33m,\u001b[0m \u001b[1;34m\"\"\u001b[0m\u001b[1;33m)\u001b[0m\u001b[1;33m\u001b[0m\u001b[1;33m\u001b[0m\u001b[0m\n\u001b[0m\u001b[0;32m     21\u001b[0m     \u001b[0mdf\u001b[0m \u001b[1;33m=\u001b[0m \u001b[0mstore\u001b[0m\u001b[1;33m[\u001b[0m\u001b[0mroot\u001b[0m\u001b[1;33m]\u001b[0m\u001b[1;33m\u001b[0m\u001b[1;33m\u001b[0m\u001b[0m\n\u001b[0;32m     22\u001b[0m     \u001b[0mdf\u001b[0m \u001b[1;33m=\u001b[0m \u001b[0mapply_col_toint\u001b[0m\u001b[1;33m(\u001b[0m\u001b[0mdf\u001b[0m\u001b[1;33m)\u001b[0m\u001b[1;33m\u001b[0m\u001b[1;33m\u001b[0m\u001b[0m\n",
      "\u001b[1;31mIndexError\u001b[0m: list index out of range"
     ]
    }
   ],
   "source": [
    "# tdx_path = \"G:\\\\tdx_last_df.h5\"\n",
    "# from JohnsonUtil import commonTips as cct\n",
    "sina_MultiD_path = \"G:\\\\sina_MultiIndex_data.h5\"\n",
    "h5 = readHdf5(sina_MultiD_path)\n",
    "print(sina_MultiD_path)\n",
    "h5.shape\n",
    "h5code='603019'\n",
    "h5.loc[h5code][-3:]\n",
    "code_muti = '603019'\n",
    "# h5.loc[code_muti][:2]\n",
    "\n",
    "freq = 'D'\n",
    "# freq = '5M'\n",
    "startime = '09:25:00'\n",
    "endtime = '15:01:00'\n",
    "\n",
    "time_ratio = cct.get_work_time_ratio()\n",
    "time_ratio\n",
    "run_col = ['close', 'volume']\n",
    "# run_col = ['close']\n",
    "mdf = cct.get_limit_multiIndex_freq(\n",
    "    h5, freq=freq.upper(),\n",
    "    col=run_col, start=startime, end=endtime, code=None)\n",
    "allvol = mdf.volume.sum()\n",
    "allvol = round(allvol / 10 / 1000 / 1000,2)\n",
    "print(\"总量:%s 亿\"%(allvol))\n",
    "mdf['vol']=mdf['volume'].apply(lambda x: round(x /1000/1000,2)) \n",
    "mdf['amount']=(mdf.volume * mdf.close).map(lambda x: round(x/100/1000/1000, 2))\n",
    "#全局占比\n",
    "mdf['volume'] = mdf.amount.apply(\n",
    "    lambda x: round(x / allvol * 100 / time_ratio, 2))\n",
    "mdf=mdf.reset_index().set_index('code')\n",
    "mdf.loc[h5code]"
   ]
  },
  {
   "cell_type": "code",
   "execution_count": null,
   "id": "854ef1e5-f158-41f2-905c-799c635d9804",
   "metadata": {
    "execution": {
     "iopub.status.busy": "2025-06-13T11:53:11.036527Z",
     "iopub.status.idle": "2025-06-13T11:53:11.036527Z",
     "shell.execute_reply": "2025-06-13T11:53:11.036527Z",
     "shell.execute_reply.started": "2025-06-13T11:53:11.036527Z"
    },
    "tags": []
   },
   "outputs": [],
   "source": [
    "mdf[:2]\n",
    "mdf.loc['603019']"
   ]
  },
  {
   "cell_type": "code",
   "execution_count": null,
   "id": "f1713810-5801-4c87-89af-25cf8d18b513",
   "metadata": {
    "execution": {
     "iopub.status.busy": "2025-06-13T11:53:11.037524Z",
     "iopub.status.idle": "2025-06-13T11:53:11.037524Z",
     "shell.execute_reply": "2025-06-13T11:53:11.037524Z",
     "shell.execute_reply.started": "2025-06-13T11:53:11.037524Z"
    },
    "tags": []
   },
   "outputs": [],
   "source": [
    "# h5.index.get_level_values('code')[0]\n",
    "# help(h5.index.get_level_values)\n",
    "str(h5.index.get_level_values(1)[-1])[:10]"
   ]
  },
  {
   "cell_type": "code",
   "execution_count": null,
   "id": "3a7f162d-d31e-482e-9b58-5a157d10db70",
   "metadata": {
    "ExecuteTime": {
     "end_time": "2023-08-22T12:14:17.731161Z",
     "start_time": "2023-08-22T12:14:17.715204Z"
    },
    "execution": {
     "iopub.status.busy": "2025-06-13T11:53:11.038521Z",
     "iopub.status.idle": "2025-06-13T11:53:11.038521Z",
     "shell.execute_reply": "2025-06-13T11:53:11.038521Z",
     "shell.execute_reply.started": "2025-06-13T11:53:11.038521Z"
    },
    "tags": []
   },
   "outputs": [],
   "source": [
    "if len(mdf) > 0:\n",
    "    mdf.loc['000002']\n",
    "else:\n",
    "    print(\"mdf is None\")"
   ]
  },
  {
   "cell_type": "markdown",
   "id": "22ce1d02-b9e1-458c-97cc-28e8c832c7d1",
   "metadata": {},
   "source": [
    "###  实时成交量个股Top!!!"
   ]
  },
  {
   "cell_type": "code",
   "execution_count": null,
   "id": "49abe975-3445-4e76-8167-237fee362b23",
   "metadata": {
    "ExecuteTime": {
     "end_time": "2023-08-22T12:14:19.322644Z",
     "start_time": "2023-08-22T12:14:19.310676Z"
    },
    "execution": {
     "iopub.status.busy": "2025-06-13T11:53:11.039519Z",
     "iopub.status.idle": "2025-06-13T11:53:11.039519Z",
     "shell.execute_reply": "2025-06-13T11:53:11.039519Z",
     "shell.execute_reply.started": "2025-06-13T11:53:11.039519Z"
    },
    "tags": []
   },
   "outputs": [],
   "source": [
    "nowdf = mdf.sort_values(by=['volume'], ascending=[0])\n",
    "# nowdf.shape, df.shape, code_idx.shape\n",
    "# top20_nd = nowdf.reset_index().loc[:, ['code', 'volume']][:20]\n",
    "top20_nd = nowdf.reset_index().loc[:, ['code', 'volume']][:20]\n",
    "top20_nd=get_sina_data_cname(top20_nd)"
   ]
  },
  {
   "cell_type": "code",
   "execution_count": null,
   "id": "c10ac524-3cf9-49ae-9d55-242150e0793d",
   "metadata": {
    "ExecuteTime": {
     "end_time": "2023-08-22T12:15:48.877932Z",
     "start_time": "2023-08-22T12:15:48.860976Z"
    },
    "execution": {
     "iopub.status.busy": "2025-06-13T11:53:11.040516Z",
     "iopub.status.idle": "2025-06-13T11:53:11.040516Z",
     "shell.execute_reply": "2025-06-13T11:53:11.040516Z",
     "shell.execute_reply.started": "2025-06-13T11:53:11.040516Z"
    },
    "tags": []
   },
   "outputs": [],
   "source": [
    "nowdf.shape,top20_nd"
   ]
  },
  {
   "cell_type": "code",
   "execution_count": null,
   "id": "c5cbdc34-3981-4c12-939c-51d9adb0b545",
   "metadata": {
    "execution": {
     "iopub.status.busy": "2025-06-13T11:53:11.041514Z",
     "iopub.status.idle": "2025-06-13T11:53:11.041514Z",
     "shell.execute_reply": "2025-06-13T11:53:11.041514Z",
     "shell.execute_reply.started": "2025-06-13T11:53:11.041514Z"
    },
    "tags": []
   },
   "outputs": [],
   "source": [
    "# show_tdx_data(top20_nd)\n",
    "# top20_nd.columns"
   ]
  },
  {
   "cell_type": "markdown",
   "id": "2baa3f76-dff6-4ae3-82f4-7c74ec49a318",
   "metadata": {},
   "source": [
    "### 合并实时成交量及SinaDM"
   ]
  },
  {
   "cell_type": "code",
   "execution_count": null,
   "id": "1d6fac61-b687-41bb-b039-cd3324d451fc",
   "metadata": {
    "execution": {
     "iopub.status.busy": "2025-06-13T11:53:11.042511Z",
     "iopub.status.idle": "2025-06-13T11:53:11.043508Z",
     "shell.execute_reply": "2025-06-13T11:53:11.043508Z",
     "shell.execute_reply.started": "2025-06-13T11:53:11.043508Z"
    },
    "tags": []
   },
   "outputs": [],
   "source": [
    "from JSONData import tdx_hdf5_api as h5a\n",
    "def get_tdx_all_from_h5(resample='d',showtable=True):\n",
    "    #sina_monitor\n",
    "    h5_fname = 'tdx_last_df'\n",
    "    resample=resample\n",
    "    if resample=='d':\n",
    "        dl='80'\n",
    "    else:\n",
    "        dl='200'\n",
    "    filter='y'\n",
    "    h5_table = 'low' + '_' + resample + '_' + str(dl) + '_' + filter + '_' + 'all'\n",
    "    h5 = h5a.load_hdf_db(h5_fname, table=h5_table,code_l=None, timelimit=False,showtable=showtable)\n",
    "    return h5\n"
   ]
  },
  {
   "cell_type": "code",
   "execution_count": null,
   "id": "50a932a4-dad4-4a65-adcf-fca81c17c4f5",
   "metadata": {
    "ExecuteTime": {
     "end_time": "2023-08-22T12:16:27.262393Z",
     "start_time": "2023-08-22T12:16:27.126724Z"
    },
    "execution": {
     "iopub.status.busy": "2025-06-13T11:53:11.044504Z",
     "iopub.status.idle": "2025-06-13T11:53:11.044504Z",
     "shell.execute_reply": "2025-06-13T11:53:11.044504Z",
     "shell.execute_reply.started": "2025-06-13T11:53:11.044504Z"
    },
    "tags": []
   },
   "outputs": [],
   "source": [
    "# mdf[:1]\n",
    "sinadm = cct.combine_dataFrame(sina_dm, mdf[['vol','amount']])\n",
    "sinadm['percent']=((sinadm['close']-sinadm['llastp'])/(sinadm['llastp'])*100).round(1)"
   ]
  },
  {
   "cell_type": "code",
   "execution_count": null,
   "id": "911903c6-1fb6-40ad-a964-84d14010817f",
   "metadata": {
    "execution": {
     "iopub.status.busy": "2025-06-13T11:53:11.044504Z",
     "iopub.status.idle": "2025-06-13T11:53:11.045502Z",
     "shell.execute_reply": "2025-06-13T11:53:11.045502Z",
     "shell.execute_reply.started": "2025-06-13T11:53:11.045502Z"
    }
   },
   "outputs": [],
   "source": [
    "h5tdx = get_tdx_all_from_h5(resample='w')\n",
    "tdx_now_w = cct.combine_dataFrame(h5tdx,sinadm)"
   ]
  },
  {
   "cell_type": "code",
   "execution_count": null,
   "id": "f447d366-b389-4516-ad0d-9bd0cdec4927",
   "metadata": {
    "execution": {
     "iopub.status.busy": "2025-06-13T11:53:11.046500Z",
     "iopub.status.idle": "2025-06-13T11:53:11.046500Z",
     "shell.execute_reply": "2025-06-13T11:53:11.046500Z",
     "shell.execute_reply.started": "2025-06-13T11:53:11.046500Z"
    },
    "tags": []
   },
   "outputs": [],
   "source": [
    "tdx_now_w.query('close > lastp1d and lastp1d > lastp2d and lastp2d >lastp3d and close > high4')"
   ]
  },
  {
   "cell_type": "markdown",
   "id": "2c1a5ab5-4220-4a5d-920d-b973ffd56cb0",
   "metadata": {},
   "source": [
    "### tdx_last_df and Now sina!!! RealTIME"
   ]
  },
  {
   "cell_type": "code",
   "execution_count": null,
   "id": "9ea848e0-10a3-4441-b159-323116844f84",
   "metadata": {
    "execution": {
     "iopub.status.busy": "2025-06-13T11:53:11.047497Z",
     "iopub.status.idle": "2025-06-13T11:53:11.047497Z",
     "shell.execute_reply": "2025-06-13T11:53:11.047497Z",
     "shell.execute_reply.started": "2025-06-13T11:53:11.047497Z"
    },
    "tags": []
   },
   "outputs": [],
   "source": [
    "tdx_h5=get_tdx_all_from_h5()\n",
    "tdx_now = cct.combine_dataFrame(tdx_h5,sinadm)"
   ]
  },
  {
   "cell_type": "code",
   "execution_count": null,
   "id": "beec6cdf-8c72-4496-bfe0-6e7595584710",
   "metadata": {
    "execution": {
     "iopub.status.busy": "2025-06-13T11:53:11.049492Z",
     "iopub.status.idle": "2025-06-13T11:53:11.049492Z",
     "shell.execute_reply": "2025-06-13T11:53:11.049492Z",
     "shell.execute_reply.started": "2025-06-13T11:53:11.049492Z"
    },
    "tags": []
   },
   "outputs": [],
   "source": [
    "tdx_now.shape\n",
    "# tdx_now.query('close >  lastp1d  and lastl1d < ma51d and close > ma51d and lastp1d < upper and lastp1d > lastp2d and lasth1d >high4 and boll > 0 and volume < 1')\n",
    "tdx_select = tdx_now.query('close > lastp1d and percent < 3')[:10]\n",
    "show_tdx_data(tdx_select)"
   ]
  },
  {
   "cell_type": "code",
   "execution_count": null,
   "id": "0368b782-2093-48f0-84f5-cbe77ae10a0a",
   "metadata": {
    "execution": {
     "iopub.status.busy": "2025-06-13T11:53:11.050489Z",
     "iopub.status.idle": "2025-06-13T11:53:11.050489Z",
     "shell.execute_reply": "2025-06-13T11:53:11.050489Z",
     "shell.execute_reply.started": "2025-06-13T11:53:11.050489Z"
    },
    "tags": []
   },
   "outputs": [],
   "source": [
    "tdx_now.query('close.isna()').buy\n",
    "# tdx_h5.loc['301397']\n",
    "tdx_filter = tdx_now.query('low < ma5d*1.01 and close > max5 and close >hmax and percent > 1 and close > upper and boll > 1 and not code.str.contains(\"688\")')\n",
    "\n",
    "show_tdx_data(tdx_filter)"
   ]
  },
  {
   "cell_type": "markdown",
   "id": "91c9c617-4169-4e98-9bc6-1e4c440b312f",
   "metadata": {},
   "source": [
    "#### 新高test!!!!!!"
   ]
  },
  {
   "cell_type": "code",
   "execution_count": null,
   "id": "856579b9-d104-4c68-b5ec-703ff816d4c8",
   "metadata": {
    "execution": {
     "iopub.status.busy": "2025-06-13T11:53:11.050489Z",
     "iopub.status.idle": "2025-06-13T11:53:11.051486Z",
     "shell.execute_reply": "2025-06-13T11:53:11.051486Z",
     "shell.execute_reply.started": "2025-06-13T11:53:11.051486Z"
    },
    "tags": []
   },
   "outputs": [],
   "source": [
    "write_code_to_blk(tdx_filter.index.tolist(),'rqg')"
   ]
  },
  {
   "cell_type": "code",
   "execution_count": null,
   "id": "75d4d85c-63a7-4e38-a77e-1e208b844438",
   "metadata": {
    "execution": {
     "iopub.status.busy": "2025-06-13T11:53:11.052484Z",
     "iopub.status.idle": "2025-06-13T11:53:11.052484Z",
     "shell.execute_reply": "2025-06-13T11:53:11.052484Z",
     "shell.execute_reply.started": "2025-06-13T11:53:11.052484Z"
    },
    "tags": []
   },
   "outputs": [],
   "source": [
    "sinadm.shape\n",
    "sinadm.columns\n",
    "# sinadm['percent']=((sinadm['close']-sinadm['llastp'])/(sinadm['llastp'])*100).round(1)\n",
    "# sinadm['percent'] = sinadm['percent'].round(1)\n",
    "sinadm.query('percent > 6 ')"
   ]
  },
  {
   "cell_type": "markdown",
   "id": "8deafea9-8215-4653-96c5-d023f773cf57",
   "metadata": {},
   "source": [
    "## check HDF LastDate"
   ]
  },
  {
   "cell_type": "code",
   "execution_count": null,
   "id": "4a2ea5a5-99c8-490d-87fa-bee55be5ca05",
   "metadata": {
    "ExecuteTime": {
     "end_time": "2023-08-22T12:16:31.669596Z",
     "start_time": "2023-08-22T12:16:31.614737Z"
    },
    "execution": {
     "iopub.status.busy": "2025-06-13T11:53:11.054479Z",
     "iopub.status.idle": "2025-06-13T11:53:11.054479Z",
     "shell.execute_reply": "2025-06-13T11:53:11.054479Z",
     "shell.execute_reply.started": "2025-06-13T11:53:11.054479Z"
    },
    "tags": []
   },
   "outputs": [],
   "source": [
    "df_tail1 = df.groupby(level=[0]).tail(1)\n",
    "# df_tail1.index\n",
    "\n",
    "#今日的code\n",
    "df_tail1[df_tail1.index.get_level_values('date') == cct.get_today()].shape\n",
    "\n",
    "#没有今日的code\n",
    "df_tail1[df_tail1.index.get_level_values('date') != cct.get_today()].shape"
   ]
  },
  {
   "cell_type": "code",
   "execution_count": null,
   "id": "ca886b24-90df-4659-a0a7-3afca60a8c37",
   "metadata": {
    "execution": {
     "iopub.status.busy": "2025-06-13T11:53:11.056474Z",
     "iopub.status.idle": "2025-06-13T11:53:11.057472Z",
     "shell.execute_reply": "2025-06-13T11:53:11.056474Z",
     "shell.execute_reply.started": "2025-06-13T11:53:11.056474Z"
    },
    "tags": []
   },
   "outputs": [],
   "source": [
    "# df_tail1"
   ]
  },
  {
   "cell_type": "code",
   "execution_count": null,
   "id": "6f091276-ca66-4d6d-8960-d73712924ad9",
   "metadata": {
    "ExecuteTime": {
     "end_time": "2023-08-22T12:16:33.715245Z",
     "start_time": "2023-08-22T12:16:33.697292Z"
    },
    "execution": {
     "iopub.status.busy": "2025-06-13T11:53:11.057472Z",
     "iopub.status.idle": "2025-06-13T11:53:11.058468Z",
     "shell.execute_reply": "2025-06-13T11:53:11.057472Z",
     "shell.execute_reply.started": "2025-06-13T11:53:11.057472Z"
    },
    "tags": []
   },
   "outputs": [],
   "source": [
    "df_tail1[df_tail1.index.get_level_values('date') != cct.get_today()][:1]"
   ]
  },
  {
   "cell_type": "code",
   "execution_count": null,
   "id": "4119a0cf-3091-4a4c-8acf-06e33f2deff6",
   "metadata": {
    "ExecuteTime": {
     "end_time": "2023-08-22T12:16:36.423623Z",
     "start_time": "2023-08-22T12:16:36.412651Z"
    },
    "execution": {
     "iopub.status.busy": "2025-06-13T11:53:11.059465Z",
     "iopub.status.idle": "2025-06-13T11:53:11.059465Z",
     "shell.execute_reply": "2025-06-13T11:53:11.059465Z",
     "shell.execute_reply.started": "2025-06-13T11:53:11.059465Z"
    },
    "tags": []
   },
   "outputs": [],
   "source": [
    "# df.info()\n",
    "# code_t = '600519'\n",
    "# print(dfNow.loc[code_t][-3:])\n",
    "# df.loc['000001'][-1:]\n",
    "# dfbak = df.copy()\n",
    "# df[(df.idx > df.idx.shift(1)) & (df.xratio > df.xratio.shift(1))].shape\n"
   ]
  },
  {
   "cell_type": "markdown",
   "id": "f7e28a03-4b68-4036-8e6c-50b7f8cac82c",
   "metadata": {},
   "source": [
    "## reindex sort date"
   ]
  },
  {
   "cell_type": "code",
   "execution_count": null,
   "id": "d3ccd9e7-3497-4ce4-94d4-d6b6ec3e184e",
   "metadata": {
    "ExecuteTime": {
     "end_time": "2023-08-22T12:16:41.094371Z",
     "start_time": "2023-08-22T12:16:41.087390Z"
    },
    "execution": {
     "iopub.status.busy": "2025-06-13T11:53:11.060463Z",
     "iopub.status.idle": "2025-06-13T11:53:11.061459Z",
     "shell.execute_reply": "2025-06-13T11:53:11.061459Z",
     "shell.execute_reply.started": "2025-06-13T11:53:11.061459Z"
    },
    "tags": []
   },
   "outputs": [],
   "source": [
    "# df = df.reset_index().sort_values(by=['code', 'date'], ascending=[0, 1]).set_index(['code','date'])"
   ]
  },
  {
   "cell_type": "markdown",
   "id": "ced08b1d-d3d5-406f-8caf-45c3ff31f4b6",
   "metadata": {},
   "source": [
    "## 初始化参数"
   ]
  },
  {
   "cell_type": "code",
   "execution_count": null,
   "id": "78775685-15b0-421f-98aa-31d7c263ef9d",
   "metadata": {
    "ExecuteTime": {
     "end_time": "2023-08-22T12:16:43.001117Z",
     "start_time": "2023-08-22T12:16:42.977215Z"
    },
    "execution": {
     "iopub.status.busy": "2025-06-13T11:53:11.063537Z",
     "iopub.status.idle": "2025-06-13T11:53:11.064454Z",
     "shell.execute_reply": "2025-06-13T11:53:11.064454Z",
     "shell.execute_reply.started": "2025-06-13T11:53:11.064454Z"
    },
    "tags": []
   },
   "outputs": [],
   "source": [
    "app = True\n",
    "tdx = True\n",
    "duration = 300\n",
    "ma_250_l = 1.02\n",
    "ma_250_h = 1.2\n",
    "\n",
    "if resample.upper() == 'D' or resample.lower() == 'd':\n",
    "    if duration < 300:\n",
    "        rollma = ['10', '5', '20']\n",
    "    else:\n",
    "        rollma = ['10', '5', '20', '250']\n",
    "\n",
    "elif resample.upper() == 'W' or resample.lower() == 'w':\n",
    "    rollma = ['5', '10']\n",
    "else:\n",
    "    rollma = ['5', '10']\n",
    "        \n",
    "\n",
    "def init_MulitiData_Roll(df,resample='d',duration=300):\n",
    "    time_s = time.time()\n",
    "    dfs = df.copy()\n",
    "    # dfs = df.loc['600519']\n",
    "    # groupd = dfs.groupby(level=[0])\n",
    "    # groupd.['close']\n",
    "    # rollma = ['5','10','60','100','200']\n",
    "    # rollma = ['5','10','250']\n",
    "    # df.index.get_level_values('code')[0]\n",
    "    if resample.upper() == 'D' or resample.lower() == 'd':\n",
    "        if duration < 300:\n",
    "            rollma = ['10', '5', '20']\n",
    "        else:\n",
    "            rollma = ['10', '5', '20', '250']\n",
    "\n",
    "    elif resample.upper() == 'W' or resample.lower() == 'w':\n",
    "        rollma = ['5', '10','20']\n",
    "    else:\n",
    "        rollma = ['5', '10','20']\n",
    "\n",
    "    # rollma.extend([str(duration)])\n",
    "\n",
    "    # import ipdb;ipdb.set_trace()\n",
    "    # df.loc['300130'][:2]\n",
    "\n",
    "    # dfs['mean'] = groupd['close'].agg('mean')\n",
    "    # dfs['median'] = groupd['close'].agg('median')\n",
    "\n",
    "    # BOLL:MA(CV,N), COLORMAGENTA;\n",
    "    # UPPER:BOLL+P*STD(CV,N), COLORYELLOW;\n",
    "    # LOWER:BOLL-P*STD(CV,N), COLORYELLOW;\n",
    "    # df['BollUpper'] = df.close.shift(10).mean()+2*df.close.shift(10).std()\n",
    "    # df['BollDown'] = df.close.shift(10).mean()-2*df.close.shift(10).std()\n",
    "    for da in rollma:\n",
    "        cumdays = int(da)\n",
    "        dfs['ma%d' % cumdays] = round(dfs['close'].rolling(cumdays).mean(), 2)\n",
    "\n",
    "        # dfs['upper'] = dfs['ma%d' % cumdays].apply(\n",
    "        #     lambda x: round((1 + 11.0 / 100) * x, 1))\n",
    "        # dfs['lower'] = dfs['ma%d' % cumdays].apply(\n",
    "        #     lambda x: round((1 - 9.0 / 100) * x, 1))\n",
    "        # dfs['boll'] = list(map(lambda x, y: round(\n",
    "        #     (x + y) / 2, 1), dfs['upper'], dfs['lower']))\n",
    "    if duration > 100:\n",
    "        dfs['upper'] = round(\n",
    "            dfs['close'].rolling(20).mean() + 2 *\n",
    "            dfs['close'].rolling(20).std(),\n",
    "            2)\n",
    "        dfs['lower'] = round(\n",
    "            dfs['close'].rolling(20).mean() - 2 *\n",
    "            dfs['close'].rolling(20).std(),\n",
    "            2)\n",
    "\n",
    "        dfs['boll'] = round(dfs['close'].rolling(20).mean(), 2)\n",
    "\n",
    "        dfs['hmax'] = round(dfs['high'].rolling(20).max(), 2)\n",
    "        dfs['lmin'] = round(dfs['low'].rolling(20).min(), 2)\n",
    "\n",
    "        dfs['hat'] = dfs['upper'] - dfs['lower']\n",
    "\n",
    "        # dfs['hmax'] = round(dfs['close'].cummax(), 2)\n",
    "\n",
    "\n",
    "    dfs = compute_df_Col_lastday(dfs, col='close', colre='perc', days=5)\n",
    "    dfs = compute_df_Col_lastday(dfs, col='vol', colre='vol', days=5, plus=False)\n",
    "    dfs = compute_perd_value(dfs, market_value=5, col='vol', col_new='volsum')\n",
    "\n",
    "    return dfs\n",
    "# dfs['perc1d'] = round(\n",
    "#     (dfs['close'] - dfs['close'].shift(1)) / dfs['close'].shift(1) * 100, 2)\n",
    "# dfs['perc3d'] = round(\n",
    "#     (dfs['close'] - dfs['close'].shift(3)) / dfs['close'].shift(3) * 100, 2)\n",
    "# dfs['perc5d'] = round(\n",
    "#     (dfs['close'] - dfs['close'].shift(5)) / dfs['close'].shift(3) * 100, 2)"
   ]
  },
  {
   "cell_type": "code",
   "execution_count": null,
   "id": "925ef4b0-defb-4548-8ef7-f6dc8a3fc633",
   "metadata": {
    "ExecuteTime": {
     "end_time": "2023-08-22T12:16:46.112095Z",
     "start_time": "2023-08-22T12:16:45.712607Z"
    },
    "execution": {
     "iopub.status.busy": "2025-06-13T11:53:11.066447Z",
     "iopub.status.idle": "2025-06-13T11:53:11.066447Z",
     "shell.execute_reply": "2025-06-13T11:53:11.066447Z",
     "shell.execute_reply.started": "2025-06-13T11:53:11.066447Z"
    },
    "tags": []
   },
   "outputs": [],
   "source": [
    "dfsRoot=init_MulitiData_Roll(df,resample=resample)"
   ]
  },
  {
   "cell_type": "markdown",
   "id": "dcd85b4d-ca6e-4398-975a-a4e1129492f9",
   "metadata": {
    "tags": []
   },
   "source": [
    "### DFS MutiIndex Test 0507"
   ]
  },
  {
   "cell_type": "code",
   "execution_count": null,
   "id": "b26f4475-b56c-4896-a562-6319d57b49a6",
   "metadata": {
    "ExecuteTime": {
     "end_time": "2023-08-22T12:16:47.295555Z",
     "start_time": "2023-08-22T12:16:47.257620Z"
    },
    "execution": {
     "iopub.status.busy": "2025-06-13T11:53:11.067444Z",
     "iopub.status.idle": "2025-06-13T11:53:11.068449Z",
     "shell.execute_reply": "2025-06-13T11:53:11.068449Z",
     "shell.execute_reply.started": "2025-06-13T11:53:11.067444Z"
    },
    "tags": []
   },
   "outputs": [],
   "source": [
    "# dfs.loc['000002'][-5:].upper\n",
    "dfsRoot.loc['603357'][-5:][['close','upper','low','boll']][-2:]\n",
    "dftemp = dfsRoot.loc['603357']\n",
    "dftemp[dftemp.close > dftemp.upper][:2]\n",
    "print(dftemp.shape)"
   ]
  },
  {
   "cell_type": "code",
   "execution_count": null,
   "id": "4cefaf13-e1c2-4c9f-a859-c1f59e5f78a8",
   "metadata": {
    "ExecuteTime": {
     "end_time": "2023-08-22T12:16:49.493409Z",
     "start_time": "2023-08-22T12:16:49.432572Z"
    },
    "execution": {
     "iopub.status.busy": "2025-06-13T11:53:11.069439Z",
     "iopub.status.idle": "2025-06-13T11:53:11.070435Z",
     "shell.execute_reply": "2025-06-13T11:53:11.069439Z",
     "shell.execute_reply.started": "2025-06-13T11:53:11.069439Z"
    },
    "tags": []
   },
   "outputs": [],
   "source": [
    "# dfs.loc['688027']\n",
    "dfsRoot['ma51d'] = round(dfsRoot['close'].rolling(5).mean(), 2)\n",
    "show_tdx_data(dfsRoot.loc['600519'][-2:],col=['ma51d','ra_diff'])\n",
    "# show_tdx_data(dfs.loc['600519'])"
   ]
  },
  {
   "cell_type": "markdown",
   "id": "6d6958fc-3ab6-4f33-abd7-1262cd6688c9",
   "metadata": {
    "tags": []
   },
   "source": [
    "### Append Now SinaTo MultiIndex dfNow"
   ]
  },
  {
   "cell_type": "code",
   "execution_count": null,
   "id": "0c4e6cfc-54cb-48c0-af98-26782afe2360",
   "metadata": {
    "ExecuteTime": {
     "end_time": "2023-08-22T12:16:53.813443Z",
     "start_time": "2023-08-22T12:16:53.724856Z"
    },
    "execution": {
     "iopub.status.busy": "2025-06-13T11:53:11.071434Z",
     "iopub.status.idle": "2025-06-13T11:53:11.071434Z",
     "shell.execute_reply": "2025-06-13T11:53:11.071434Z",
     "shell.execute_reply.started": "2025-06-13T11:53:11.071434Z"
    },
    "tags": []
   },
   "outputs": [],
   "source": [
    "# tail_days = 60\n",
    "# cct.get_today()\n",
    "def get_Append_Sina_To_MultiTDX(df,sina_dm):\n",
    "    if cct.get_work_time_duration():\n",
    "        sina_today=sina_dm.copy()\n",
    "        if not isinstance(sina_today,pd.MultiIndex) and  'date' not  in sina_today.columns:\n",
    "            sina_today['date']=pd.to_datetime(cct.get_today())\n",
    "            print('concat1 init:sina_today:%s'%(sina_today.index[0]))\n",
    "            # df_reg_ratio2 = df.groupby(level=[0])['close'].apply(regression_ratio)\n",
    "            # df_idx_detect2 = df.groupby(level=[0])['close'].apply(detect_bull_bear_apply)\n",
    "            # sina_today['idx'] = df_idx_detect2\n",
    "            # sina_today['xratio'] = df_reg_ratio2\n",
    "            # sina_today=sina_today.loc[:,['open','high','low','close','date','idx',y'xratio']].reset_index().set_index(['code', 'date'])\n",
    "            if 'vol' in sina_today.columns:\n",
    "                sina_today=sina_today.loc[:,['open','high','low','close','vol','amount','name','date']].reset_index().set_index(['code', 'date'])\n",
    "            else:\n",
    "                sina_today=sina_today.loc[:,['open','high','low','close','date']].reset_index().set_index(['code', 'date'])\n",
    "\n",
    "        if sina_today.index[0] not in df.index:\n",
    "            # df.index=df.index.append(sina_dm.index)\n",
    "            print('concat1:sina_today:%s %s'%(sina_today.index[0]))\n",
    "            df = pd.concat([df, sina_today])\n",
    "\n",
    "\n",
    "    #         sina_today=sina_dm.copy()\n",
    "    #         #drop line and append idx\n",
    "    #         if not isinstance(sina_today,pd.MultiIndex) and  'date' not  in sina_today.columns:\n",
    "    #             sina_today['date']=pd.to_datetime(cct.get_today())\n",
    "    #             print('concat2 init:sina_today:%s'%(sina_today.index[0]))\n",
    "\n",
    "    #             sina_today['idx'] = df_idx_detect2\n",
    "    #             sina_today['xratio'] = df_reg_ratio2\n",
    "    #             sina_today=sina_today.loc[:,['open','high','low','close','date','name','idx','xratio']].reset_index().set_index(['code', 'date'])\n",
    "    #             # sina_today=sina_today.loc[:,['open','high','low','close','date']].reset_index().set_index(['code', 'date'])   \n",
    "\n",
    "\n",
    "    #         df = get_multiIndex_drop_last_row(df,dropline=1)\n",
    "\n",
    "            if sina_today.index[0] not in df.index:\n",
    "                # df.index=df.index.append(sina_dm.index)\n",
    "                print('concat2:sina_today:%s %s'%(sina_today.index[0]))\n",
    "                df = pd.concat([df, sina_today])\n",
    "            df = df.reset_index().sort_values(by=['code', 'date'], ascending=[0, 1]).set_index(['code','date'])\n",
    "    return df\n",
    "\n",
    "# dfNow=get_Append_Sina_To_MultiTDX(df.groupby(level=[0]).tail(30),sina_dm)\n",
    "\n",
    "\n",
    "if resample.upper() == 'D':\n",
    "    dfsRoot=get_Append_Sina_To_MultiTDX(dfsRoot.groupby(level=[0]).tail(tail_days),sinadm)\n",
    "    dfNow= dfsRoot.groupby(level=[0]).tail(tail_days/2)\n",
    "    \n",
    "    dfNow=init_MulitiData_Roll(dfNow,resample=resample,duration=20)\n",
    "else:\n",
    "    dfNow = dfsRoot.groupby(level=[0]).tail(tail_days/2).copy()\n",
    "# df = df.reset_index().sort_values(by=['code', 'date'], ascending=[0, 1]).set_index(['code','date'])\n",
    "# df[-2:]\n",
    "dfNow[-2:]"
   ]
  },
  {
   "cell_type": "code",
   "execution_count": null,
   "id": "e2617d9b-f32a-4e5c-bf12-4be9301aeb78",
   "metadata": {
    "ExecuteTime": {
     "end_time": "2023-08-22T12:16:55.970468Z",
     "start_time": "2023-08-22T12:16:55.964449Z"
    },
    "execution": {
     "iopub.status.busy": "2025-06-13T11:53:11.072430Z",
     "iopub.status.idle": "2025-06-13T11:53:11.073428Z",
     "shell.execute_reply": "2025-06-13T11:53:11.073428Z",
     "shell.execute_reply.started": "2025-06-13T11:53:11.073428Z"
    },
    "tags": []
   },
   "outputs": [],
   "source": [
    "dfsRoot.groupby(level=[0]).tail(60).loc['000002'][-1:]\n"
   ]
  },
  {
   "cell_type": "markdown",
   "id": "d70cf9b9-5320-45a0-8fbf-172036adec66",
   "metadata": {},
   "source": [
    "### Xratio and tail 60 MultiIndex "
   ]
  },
  {
   "cell_type": "code",
   "execution_count": null,
   "id": "755a6258-063e-41e1-bd1e-12597dcc2930",
   "metadata": {
    "ExecuteTime": {
     "end_time": "2023-08-22T12:17:42.718709Z",
     "start_time": "2023-08-22T12:17:00.487961Z"
    },
    "execution": {
     "iopub.status.busy": "2025-06-13T11:53:11.074426Z",
     "iopub.status.idle": "2025-06-13T11:53:11.074426Z",
     "shell.execute_reply": "2025-06-13T11:53:11.074426Z",
     "shell.execute_reply.started": "2025-06-13T11:53:11.074426Z"
    },
    "tags": []
   },
   "outputs": [],
   "source": [
    "## dfNow['xratio'] = dfNow['close'].rolling(30).apply(regression_ratio)\n",
    "if 'xratio' not in dfNow.columns:\n",
    "    df_xratio = dfNow.groupby(level=[0])['close'].rolling(24).apply(regression_ratio)\n",
    "    df_xratio.index =df_xratio.to_frame().index.droplevel(1)\n",
    "    dfNow['xratio'] = df_xratio"
   ]
  },
  {
   "cell_type": "code",
   "execution_count": null,
   "id": "9293482c-2e52-4d0f-a388-1c34539439a2",
   "metadata": {
    "execution": {
     "iopub.status.busy": "2025-06-13T11:53:11.075423Z",
     "iopub.status.idle": "2025-06-13T11:53:11.076420Z",
     "shell.execute_reply": "2025-06-13T11:53:11.076420Z",
     "shell.execute_reply.started": "2025-06-13T11:53:11.076420Z"
    },
    "tags": []
   },
   "outputs": [],
   "source": [
    "# df_xratio.loc['605589'][-8:]\n",
    "dfsRoot.loc['603019'][:1]\n",
    "# dfNow[-12:][-2:]"
   ]
  },
  {
   "cell_type": "markdown",
   "id": "c8a95f1e-25ba-4432-bad8-368acd3458c6",
   "metadata": {},
   "source": [
    "## DFNow Query check"
   ]
  },
  {
   "cell_type": "code",
   "execution_count": null,
   "id": "9723d8a1-2bca-4dd1-a40b-0f8d4e60f7ac",
   "metadata": {
    "execution": {
     "iopub.status.busy": "2025-06-13T11:53:11.077416Z",
     "iopub.status.idle": "2025-06-13T11:53:11.077416Z",
     "shell.execute_reply": "2025-06-13T11:53:11.077416Z",
     "shell.execute_reply.started": "2025-06-13T11:53:11.077416Z"
    },
    "tags": []
   },
   "outputs": [],
   "source": [
    "dfNow_A = dfNow.query('@dfNow.index.get_level_values(0) < \"688000\"')\n",
    "# dfxra = dfNow_A.groupby(level=[0]).tail(3).query('xratio - xratio.shift(1) > (xratio.shift(1) - xratio.shift(2))*1.1')\n",
    "# dfNow.groupby(level=[0]).tail(3)\n",
    "lastworkday = cct.last_tddate(1)\n",
    "print(lastworkday)\n",
    "# dfxra.groupby(level=[0]).tail(1).query('date >= @lastworkday').xratio\n",
    "# dfxra.query('@dfxra.index.get_level_values(0) < \"688000\"')\n",
    "# dfxra.query('not @dfxra.index.get_level_values(0).str.contains(\"688\") ')\n",
    "\n",
    "# df.query(f'ColumnName >= {VariableName}')\n",
    "\n",
    "# dfxra = dfNow_A.groupby(level=[0]).tail(3).query('0 > xratio > -0.08 and xratio - xratio.shift(1) > (xratio.shift(1) - xratio.shift(2))*1.1')\n",
    "\n",
    "# dfxra = dfNow_A.groupby(level=[0]).tail(3).query('xratio > 0 and xratio.shift(1) < 0 and xratio - xratio.shift(1) > (xratio.shift(1) - xratio.shift(2))*1.1')\n",
    "\n",
    "dfxra = dfNow_A.groupby(level=[0]).tail(3).query('high > upper  and xratio - xratio.shift(1) > (xratio.shift(1) - xratio.shift(2))')\n",
    "\n",
    "dfxra.query('date >= @lastworkday').sort_values(by='xratio',ascending=0).xratio[:10]\n",
    "# dfxra.query('date >= @lastworkday').xratio[:10]\n",
    "\n",
    "# dfxra.query('date >= @lastworkday').loc['605589'].xratio\n",
    "df_xratio.loc['605369'][-8:]"
   ]
  },
  {
   "cell_type": "code",
   "execution_count": null,
   "id": "7cfcee5b-ca0a-4a90-a1db-94acdc46bb07",
   "metadata": {
    "ExecuteTime": {
     "end_time": "2023-08-22T12:17:49.407670Z",
     "start_time": "2023-08-22T12:17:43.177483Z"
    },
    "execution": {
     "iopub.status.busy": "2025-06-13T11:53:11.079412Z",
     "iopub.status.idle": "2025-06-13T11:53:11.079412Z",
     "shell.execute_reply": "2025-06-13T11:53:11.079412Z",
     "shell.execute_reply.started": "2025-06-13T11:53:11.079412Z"
    },
    "tags": []
   },
   "outputs": [],
   "source": [
    "# dfNow['idx'] = dfNow['close'].rolling(25).apply(detect_bull_bear_apply)\n",
    "df_idx = dfNow.groupby(level=[0])['close'].rolling(25).apply(detect_bull_bear_apply)\n",
    "df_idx.index =df_idx.to_frame().index.droplevel(1)\n",
    "dfNow['idx'] = df_idx"
   ]
  },
  {
   "cell_type": "markdown",
   "id": "b5f55200-2d88-419b-a2d0-50a07348089e",
   "metadata": {},
   "source": [
    "### dfNow Top"
   ]
  },
  {
   "cell_type": "code",
   "execution_count": null,
   "id": "ca21bf3b-9cb6-4fbc-bb77-cb43035aecf6",
   "metadata": {
    "ExecuteTime": {
     "end_time": "2023-08-22T12:17:50.344634Z",
     "start_time": "2023-08-22T12:17:49.926752Z"
    },
    "execution": {
     "iopub.status.busy": "2025-06-13T11:53:11.080408Z",
     "iopub.status.idle": "2025-06-13T11:53:11.081407Z",
     "shell.execute_reply": "2025-06-13T11:53:11.081407Z",
     "shell.execute_reply.started": "2025-06-13T11:53:11.081407Z"
    },
    "tags": []
   },
   "outputs": [],
   "source": [
    "dfNow.loc['300459'][-2:].upper\n",
    "print(dfsRoot.loc['300459'][-tail_days:].shape)\n",
    "show_ohlc_upper(dfsRoot.loc['300459'][-tail_days:],code='300459')"
   ]
  },
  {
   "cell_type": "code",
   "execution_count": null,
   "id": "7fb0f458-1b27-4740-815b-73dca6ce4202",
   "metadata": {
    "ExecuteTime": {
     "end_time": "2023-08-22T12:17:55.042006Z",
     "start_time": "2023-08-22T12:17:50.848821Z"
    },
    "execution": {
     "iopub.status.busy": "2025-06-13T11:53:11.082405Z",
     "iopub.status.idle": "2025-06-13T11:53:11.082405Z",
     "shell.execute_reply": "2025-06-13T11:53:11.082405Z",
     "shell.execute_reply.started": "2025-06-13T11:53:11.082405Z"
    },
    "tags": []
   },
   "outputs": [],
   "source": [
    "for co in top20_nd.index[:2]:\n",
    "    print(co,dfNow.loc[co].ra_diff[-2:])\n",
    "    # show_ohlc_upper(dfs.loc[co][-30:],co)\n",
    "    show_ohlc_upper(dfsRoot.loc[co][-tail_days:],co)"
   ]
  },
  {
   "cell_type": "code",
   "execution_count": null,
   "id": "5389ff53-fe9e-4c27-ae68-6a90b903222b",
   "metadata": {
    "ExecuteTime": {
     "end_time": "2023-08-22T12:17:55.606072Z",
     "start_time": "2023-08-22T12:17:55.543205Z"
    },
    "execution": {
     "iopub.status.busy": "2025-06-13T11:53:11.083402Z",
     "iopub.status.idle": "2025-06-13T11:53:11.083402Z",
     "shell.execute_reply": "2025-06-13T11:53:11.083402Z",
     "shell.execute_reply.started": "2025-06-13T11:53:11.083402Z"
    },
    "tags": []
   },
   "outputs": [],
   "source": [
    "code_df = '600519'\n",
    "dfNow_t2 = dfNow.groupby(level=[0]).tail(2)\n",
    "# dfNow_f = dfNow_t2[ (dfNow_t2.idx > dfNow_t2.idx.shift(1)) & (dfNow_t2.xratio > dfNow_t2.xratio.shift(1)) ]\n",
    "idx = pd.IndexSlice\n",
    "mask_df =  ((dfNow_t2.idx > dfNow_t2.idx.shift(1)) & (dfNow_t2.xratio > dfNow_t2.xratio.shift(1)) )\n",
    "\n",
    "dfNow_t2 = dfNow_t2.loc[idx[mask_df, :]]\n",
    "\n",
    "group250 = dfNow_t2.groupby(level=[0])\n",
    "dfNow_f = group250.tail(1).reset_index().set_index('code')\n",
    "mask_df = (dfNow_f.date >= cct.get_today())\n",
    "dfNow_f = dfNow_f.loc[idx[mask_df, :]]\n",
    "dfNow_f[:2]"
   ]
  },
  {
   "cell_type": "code",
   "execution_count": null,
   "id": "3617d07c-b1a4-4a92-b2bf-9196371ec1d3",
   "metadata": {
    "ExecuteTime": {
     "end_time": "2023-08-22T12:17:56.188540Z",
     "start_time": "2023-08-22T12:17:56.174578Z"
    },
    "execution": {
     "iopub.status.busy": "2025-06-13T11:53:11.084399Z",
     "iopub.status.idle": "2025-06-13T11:53:11.085396Z",
     "shell.execute_reply": "2025-06-13T11:53:11.084399Z",
     "shell.execute_reply.started": "2025-06-13T11:53:11.084399Z"
    },
    "tags": []
   },
   "outputs": [],
   "source": [
    "# dfNow_f.shape,dfNow_f[:3],dfNow_t2.loc['600812'],df.loc['600812'][-2:]\n",
    "# dfNow_f[dfNow_f.date >= cct.get_today()]\n",
    "# dfNow_f.loc['000006']\n",
    "# dfNow_t2.loc['000006']\n",
    "# (dfNow_t2.loc[code_df].idx > dfNow_t2.loc[code_df].idx.shift(1)) \n",
    "# (dfNow_t2.loc[code_df].xratio > dfNow_t2.loc[code_df].xratio.shift(1))\n",
    "# dfNow_f.loc[code_df],dfNow.loc[code_df]"
   ]
  },
  {
   "cell_type": "markdown",
   "id": "c0315aa8-4cac-481c-85b9-3f6c4b23fe7e",
   "metadata": {},
   "source": [
    "### pandas multiinde drop last row"
   ]
  },
  {
   "cell_type": "raw",
   "id": "d90f7cd9-c9a4-4eed-b45b-b3d38ac5915e",
   "metadata": {
    "execution": {
     "iopub.execute_input": "2023-02-13T10:04:57.439648Z",
     "iopub.status.busy": "2023-02-13T10:04:57.439648Z",
     "iopub.status.idle": "2023-02-13T10:04:57.462586Z",
     "shell.execute_reply": "2023-02-13T10:04:57.462586Z",
     "shell.execute_reply.started": "2023-02-13T10:04:57.439648Z"
    },
    "tags": []
   },
   "source": [
    "df.loc['000002'][-1:]\n",
    "# df.index=df.index.drop(sina_today.index)\n",
    "# df.drop(level='date', labels=df.index.get_level_values('date')[-1]).index[-2:]\n",
    "dfNow.loc['000002'][-1:]"
   ]
  },
  {
   "cell_type": "code",
   "execution_count": null,
   "id": "292199fe-9ba2-47fa-9c00-968d4418a335",
   "metadata": {
    "ExecuteTime": {
     "end_time": "2023-08-22T12:17:56.740097Z",
     "start_time": "2023-08-22T12:17:56.726101Z"
    },
    "execution": {
     "iopub.status.busy": "2025-06-13T11:53:11.085396Z",
     "iopub.status.idle": "2025-06-13T11:53:11.086394Z",
     "shell.execute_reply": "2025-06-13T11:53:11.086394Z",
     "shell.execute_reply.started": "2025-06-13T11:53:11.086394Z"
    },
    "tags": []
   },
   "outputs": [],
   "source": [
    "df.loc['000002'][-2:]"
   ]
  },
  {
   "cell_type": "code",
   "execution_count": null,
   "id": "bb830707-4737-45c4-bc48-403597c2e420",
   "metadata": {
    "ExecuteTime": {
     "end_time": "2023-08-22T12:17:57.307136Z",
     "start_time": "2023-08-22T12:17:57.277219Z"
    },
    "execution": {
     "iopub.status.busy": "2025-06-13T11:53:11.087390Z",
     "iopub.status.idle": "2025-06-13T11:53:11.087390Z",
     "shell.execute_reply": "2025-06-13T11:53:11.087390Z",
     "shell.execute_reply.started": "2025-06-13T11:53:11.087390Z"
    },
    "tags": []
   },
   "outputs": [],
   "source": [
    "dfNow.loc['000002'][-2:]"
   ]
  },
  {
   "cell_type": "markdown",
   "id": "65812799-6442-46c7-a11d-6e2ff5a9dbda",
   "metadata": {},
   "source": [
    "# 基础处理"
   ]
  },
  {
   "cell_type": "code",
   "execution_count": null,
   "id": "743dee91-4942-4660-b4ce-44c349a1db5e",
   "metadata": {
    "ExecuteTime": {
     "end_time": "2023-08-22T12:18:08.039491Z",
     "start_time": "2023-08-22T12:18:07.913828Z"
    },
    "execution": {
     "iopub.status.busy": "2025-06-13T11:53:11.088388Z",
     "iopub.status.idle": "2025-06-13T11:53:11.088388Z",
     "shell.execute_reply": "2025-06-13T11:53:11.088388Z",
     "shell.execute_reply.started": "2025-06-13T11:53:11.088388Z"
    },
    "tags": []
   },
   "outputs": [],
   "source": [
    "# show_tdx_data(dfs.loc['600519'][-2:])\n",
    "dfs = dfNow.fillna(0)\n",
    "groupd = dfs.groupby(level=[0])\n",
    "single = False\n",
    "dt_low = None\n",
    "df_idx = None\n",
    "if single:\n",
    "    dfs_dtlen = groupd.tail(1)\n",
    "    print(\"dfs tail1\")\n",
    "else:\n",
    "    single = True\n",
    "    dl = 30\n",
    "    dindex = tdd.get_tdx_Exp_day_to_df(\n",
    "        '999999', dl=dl, resample=resample).sort_index(ascending=False)\n",
    "    dt = tdd.get_duration_price_date('999999', df=dindex)\n",
    "\n",
    "    dt = dindex[dindex.index >= dt].index.values\n",
    "    dt_low = dt[-1]\n",
    "    print('dt_low:%s %s' % (dt_low,dt[0]))\n",
    "    dtlen = len(dt) if len(dt) > 0 else 1\n",
    "    dfs_dtlen = groupd.tail(dtlen)\n",
    "    # import ipdb;ipdb.set_trace()\n",
    "    dfs_dtlen[-2:]\n",
    "    df_idx = get_groupby_mean_median_close(dfs_dtlen)\n",
    "\n",
    "    # print((\"dfs tail:%s dt:%s\" % (dtlen, dt)))\n",
    "    dfs_dtlen = get_multi_date_duration(dfs_dtlen, dt[-1])\n",
    "\n",
    "# groupd2 = dfs.groupby(level=[0])\n",
    "# dfs['ma%d'%cumdays] = groupd['close'].apply(pd.rolling_mean, cumdays)\n",
    "\n",
    "# dfs.reset_index().groupby(['code'])['date'].transform('count')\n",
    "# single = True\n",
    "\n",
    "print(\"Low:%s\" % (dt[-1]))\n",
    "# dfs_dtlen.loc['999999'].reset_index().date\n",
    "lastday_week = dfs_dtlen.loc['999999'].reset_index().date[0]\n",
    "lastday_week\n",
    "# dfs_dtlen[('ma%s') % (rollma[-1])][-2:]\n",
    "# print(df_idx)"
   ]
  },
  {
   "cell_type": "code",
   "execution_count": null,
   "id": "3af49ddc-998a-4598-b5e4-431ea27e73d0",
   "metadata": {
    "ExecuteTime": {
     "end_time": "2023-08-22T12:18:15.097145Z",
     "start_time": "2023-08-22T12:18:12.135410Z"
    },
    "execution": {
     "iopub.status.busy": "2025-06-13T11:53:11.089385Z",
     "iopub.status.idle": "2025-06-13T11:53:11.089385Z",
     "shell.execute_reply": "2025-06-13T11:53:11.089385Z",
     "shell.execute_reply.started": "2025-06-13T11:53:11.089385Z"
    },
    "tags": []
   },
   "outputs": [],
   "source": [
    "time_s = time.time()\n",
    "# rollma\n",
    "\n",
    "def get_mask_df(dfs):\n",
    "    dfs = dfs.fillna(0)\n",
    "    idx = pd.IndexSlice\n",
    "    # mask = (dfs[('ma%s')%(rollma[0])] > dfs[('ma%s')%(rollma[1])]) & (dfs[('ma%s')%(rollma[-1])] > 0) & (dfs[('close')] > dfs[('ma%s')%(rollma[0])])  & (dfs[('close')] > dfs[('ma%s')%(rollma[-1])])\n",
    "    # mask = (dfs[('ma%s')%(rollma[0])] > dfs[('ma%s')%(rollma[1])]) & (dfs[('ma%s')%(rollma[-1])] > 0) & (dfs[('close')] > dfs[('ma%s')%(rollma[1])])  & (dfs[('close')] > dfs[('ma%s')%(rollma[-1])])\n",
    "    # mask = (dfs[('ma%s')%(rollma[0])] > dfs[('ma%s')%(rollma[1])]) & (dfs[('ma%s')%(rollma[-1])] > 0) &  (dfs[('close')] > dfs[('ma%s')%(rollma[-1])])\n",
    "\n",
    "    # mask = ( (dfs[('ma%s')%(rollma[0])] > 0) & (dfs[('ma%s')%(rollma[-1])] > 0) & (dfs[('close')] > dfs[('ma%s')%(rollma[-1])]) & (dfs[('close')] > dfs[('ma%s')%(rollma[0])]))\n",
    "    # mask = ( (dfs[('ma%s')%(rollma[0])] > 0) & (dfs[('ma%s')%(rollma[-1])] > 0)\n",
    "    #         & (dfs[('close')] > dfs[('ma%s')%(rollma[-1])]*ma_250_l)\n",
    "    #         & (dfs[('close')] < dfs[('ma%s')%(rollma[-1])]*ma_250_h)\n",
    "    #         & (dfs[('close')] > dfs[('ma%s')%(rollma[0])]))\n",
    "\n",
    "    # & (dfs['mean'] > dfs['median'])\n",
    "    # & (dfs['close'] > dfs['mean'])\n",
    "\n",
    "    if len(rollma) > 1:\n",
    "\n",
    "        mask = ((dfs[('ma%s') % (rollma[0])] > 0) & (dfs[('ma%s') % (rollma[-1])] > 0) &\n",
    "                (dfs[('ma%s') % (rollma[0])] > dfs[('ma%s') % (rollma[-1])]) &\n",
    "                (dfs[('close')] > dfs[('ma%s') % (rollma[0])]) &\n",
    "                (dfs[('close')] > dfs[('ma%s') % (rollma[-1])]*ma_250_h) &\n",
    "                ((dfs[('close')] > dfs['boll']) | (dfs[('close')] > dfs['upper']))\n",
    "                )\n",
    "    else:\n",
    "        mask = ((dfs[('ma%s') % (rollma[0])] > 0) &\n",
    "                (dfs[('close')] > dfs[('ma%s')%(rollma[0])]) &\n",
    "                ((dfs[('close')] > dfs['boll']) | (dfs[('close')] > dfs['upper']) )\n",
    "                )\n",
    "\n",
    "    return dfs.loc[idx[mask, :]]\n",
    "\n",
    "# mask = ((dfs[('close')] > dfs[('ma%s')%(rollma[-1])]))\n",
    "\n",
    "\n",
    "df_mask = get_mask_df(dfs_dtlen)\n",
    "print(df_mask.shape)\n",
    "df_mask = get_multi_code_count(df_mask)\n",
    "print((df_mask.couts[:5], df_mask.shape))\n",
    "\n",
    "# import ipdb;ipdb.set_trace()\n",
    "# df.sort_values(by='couts',ascending=0)\n",
    "# groupd.first()[:2],groupd.last()[:2]\n",
    "# groupd = df250.groupby(level=[0])\n",
    "# '''\n",
    "# groupd.transform(lambda x: x.iloc[-1])\n",
    "# groupd.last()\n",
    "# groupd.apply(lambda x: x.close > x.ma250)\n",
    "# df.shape,df.sort_index(ascending=False)[:5]\n",
    "# ?groupd.agg\n",
    "# groupd = df.groupby(level=[0])\n",
    "# groupd['close'].apply(pd.rolling_mean, 250, min_periods=1)\n",
    "# ex:# Group df by df.platoon, then apply a rolling mean lambda function to df.casualties\n",
    "# df.groupby('Platoon')['Casualties'].apply(lambda x:x.rolling(center=False,window=2).mean())\n",
    "\n",
    "code_uniquelist = df_mask.index.get_level_values('code').unique()\n",
    "code_select = code_uniquelist[random.randint(0, len(code_uniquelist) - 1)]\n",
    "\n",
    "# if app:\n",
    "#     print(round(time.time() - time_s, 2), 's', df.index.get_level_values(\n",
    "#         'code').unique().shape, code_select, df.loc[code_select][-1:])\n",
    "\n",
    "if single:\n",
    "    # groupd = df.groupby(level=[0])\n",
    "    if tdx:\n",
    "        # block_path = tdd.get_tdx_dir_blocknew() + '060.blk'\n",
    "        # if cct.get_work_time():\n",
    "        #     codew = df[df.date == cct.get_today()].index.tolist()\n",
    "\n",
    "        if dt_low is not None:\n",
    "\n",
    "            groupd2 = df_mask.groupby(level=[0])\n",
    "            df_mask = groupd2.tail(1)\n",
    "            df_mask = df_mask.reset_index().set_index('code')\n",
    "            # import ipdb;ipdb.set_trace()\n",
    "\n",
    "            # df = df[(df.date >= dt_low) & (df.date <= cct.get_today())]\n",
    "            dd = df_mask[(df_mask.date == dt_low)]\n",
    "            # df = df[(df_mask.date >= cct.last_tddate(1))]\n",
    "            df_mask = df_mask[(df_mask.date >= df_mask.date.max())]\n",
    "            # import ipdb;ipdb.set_trace()\n",
    "            print((\"dt_low:%s df:%s %s df_idx:%s\" %\n",
    "                  (dt_low,len(df_mask), df_mask.index[:5], len(df_idx))))\n",
    "\n",
    "\n",
    "                \n",
    "            print((\"Main Down dd :%s MainUP df:%s couts std:%0.1f \" %\n",
    "                  (len(dd), len(df_mask), df_mask.couts.std())))\n",
    "            # print df.date.mode()[0]\n",
    "            if len(df_mask) > 0:\n",
    "                if df_idx is not None and len(df_mask) > 0 and len(df_idx) > 0:\n",
    "                    idx_set_ = [x for x in df_idx.index if x in df_mask.index]\n",
    "                    # df_mask = df_mask.loc[idx_set_, :].dropna()\n",
    "                df_mask = df_mask.sort_values(by='couts', ascending=1)\n",
    "                df_mask = df_mask[df_mask.couts > df_mask.couts.std()]\n",
    "            else:\n",
    "                print(\"df_mask is None:%s\"%(len(df_mask)))\n",
    "            # df = df[(df.date >= df.date.mode()[0]) & (df.date <= cct.get_today())]\n",
    "            codew = df_mask.index.tolist()\n",
    "\n",
    "            if app:\n",
    "                print(\n",
    "                    \"time: %s  %s\" %\n",
    "                    (round(time.time() - time_s, 2), len(df_mask)))\n",
    "\n",
    "        else:\n",
    "            df_mask = df_mask.reset_index().set_index('code')\n",
    "            df_mask = df_mask[(df_mask.date >= cct.last_tddate(days=10)) &\n",
    "                              (df_mask.date <= cct.get_today())]\n",
    "            codew = df_mask.index.tolist()\n",
    "\n",
    "        top_temp = tdd.get_sina_datadf_cnamedf(codew, df_mask)\n",
    "  #      top_temp = top_temp[(~top_temp.index.str.contains(\n",
    "  #          '688')) & (~top_temp.name.str.contains('ST'))]\n",
    "        top_temp = top_temp.sort_values(by=['couts'], ascending=[0])\n",
    "        codew = top_temp.index.tolist()\n",
    "\n",
    "        # clean st and 688\n",
    "\n",
    "    # df['date'] = df['date'].apply(lambda x:(x.replace('-','')))\n",
    "    # df['date'] = df['date'].astype(int)\n",
    "    # print df_mask.loc[code_select].T,df_mask.shape\n",
    "#     MultiIndex = False\n",
    "# else:\n",
    "#     MultiIndex = True"
   ]
  },
  {
   "cell_type": "code",
   "execution_count": null,
   "id": "7ebabb66-49f4-4ea0-837d-b4bedf42c9e4",
   "metadata": {
    "ExecuteTime": {
     "end_time": "2023-08-22T12:18:15.837161Z",
     "start_time": "2023-08-22T12:18:15.807241Z"
    },
    "execution": {
     "iopub.status.busy": "2025-06-13T11:53:11.090382Z",
     "iopub.status.idle": "2025-06-13T11:53:11.090382Z",
     "shell.execute_reply": "2025-06-13T11:53:11.090382Z",
     "shell.execute_reply.started": "2025-06-13T11:53:11.090382Z"
    },
    "tags": []
   },
   "outputs": [],
   "source": [
    "dfs_dtlen.loc['002987'][-1:]"
   ]
  },
  {
   "cell_type": "markdown",
   "id": "9f9d7779-33cc-4def-9d55-dc37610a23e1",
   "metadata": {},
   "source": [
    "## 最近60天筛选"
   ]
  },
  {
   "cell_type": "code",
   "execution_count": null,
   "id": "add196c9-b76a-45f7-b36f-766dbdbb1f7a",
   "metadata": {
    "ExecuteTime": {
     "end_time": "2023-08-22T12:18:17.596106Z",
     "start_time": "2023-08-22T12:18:17.513819Z"
    },
    "execution": {
     "iopub.status.busy": "2025-06-13T11:53:11.091380Z",
     "iopub.status.idle": "2025-06-13T11:53:11.091380Z",
     "shell.execute_reply": "2025-06-13T11:53:11.091380Z",
     "shell.execute_reply.started": "2025-06-13T11:53:11.091380Z"
    },
    "tags": []
   },
   "outputs": [],
   "source": [
    "# 截取最后5天数据\n",
    "dfs_tail = dfs.groupby(level=[0]).tail(tail_days)\n",
    "# 还原多索引\n",
    "# dfs_tail = dfs_tail.reset_index().set_index(['code','date'])\n",
    "# dfs_tail[dfs_tail.ra_diff > 2]"
   ]
  },
  {
   "cell_type": "markdown",
   "id": "53a757c7-5512-4a18-85e1-b9cf937d735f",
   "metadata": {},
   "source": [
    "### filter mask250 get_level_values"
   ]
  },
  {
   "cell_type": "code",
   "execution_count": null,
   "id": "dfa4a548-d308-48b5-b4db-3a4ab899ea0d",
   "metadata": {
    "ExecuteTime": {
     "end_time": "2023-08-22T12:18:19.142582Z",
     "start_time": "2023-08-22T12:18:19.079749Z"
    },
    "execution": {
     "iopub.status.busy": "2025-06-13T11:53:11.093375Z",
     "iopub.status.idle": "2025-06-13T11:53:11.093375Z",
     "shell.execute_reply": "2025-06-13T11:53:11.093375Z",
     "shell.execute_reply.started": "2025-06-13T11:53:11.093375Z"
    },
    "tags": []
   },
   "outputs": [],
   "source": [
    "mask250 = ((dfs_tail[('ma%s') % (rollma[0])] > 0) & (dfs_tail[('ma%s') % (rollma[-1])] > 0) &\n",
    "           (dfs_tail[('close')] > dfs_tail[('ma%s') % (rollma[0])])\n",
    "            & (dfs_tail[('close')] > dfs_tail[('ma%s') % (rollma[-1])]*1.03)\n",
    "              & (dfs_tail[('close')] < dfs_tail[('ma%s') % (rollma[-1])]*1.1)\n",
    "                & (dfs_tail[('close')] > dfs_tail[('ma20')])\n",
    "           & (dfs_tail[('close')] < dfs_tail[('ma20'   )]*1.1))\n",
    "idx = pd.IndexSlice\n",
    "df_mask250 = dfs_tail.loc[idx[mask250, :]]\n",
    "print(df_mask250.shape)\n",
    "df_mask250 = get_multi_code_count(df_mask250)\n",
    "print((df_mask250.couts[:1], df_mask250.shape))\n",
    "\n",
    "groupd250 = df_mask250.groupby(level=[0])\n",
    "df_mask250 = groupd250.tail(1)\n",
    "# df_mask250 = df_mask250[df_mask250.index.get_level_values(1) > str(df_mask250.loc['999999'].index[0])[:10] ]\n",
    "# df_mask250 = clean_688(df_mask250)\n",
    "\n",
    "# df_mask250['idx'] = df_idx_detect\n",
    "print((df_mask250.couts[:2], df_mask250.shape))\n",
    "# print(df_mask.loc['002987'])\n",
    "df_mask250 = df_mask250.sort_values(\n",
    "        by=['ra_diff','hat', 'couts'],\n",
    "        ascending=[0,0, 0])\n",
    "show_tdx_data(\n",
    "    df_mask250)[:3]"
   ]
  },
  {
   "cell_type": "markdown",
   "id": "9bd328dd-d57d-4355-b90c-cc8c71fdfd45",
   "metadata": {},
   "source": [
    "#### filter today"
   ]
  },
  {
   "cell_type": "code",
   "execution_count": null,
   "id": "f909db9b-de6a-42ce-864a-230715b32343",
   "metadata": {
    "ExecuteTime": {
     "end_time": "2023-08-22T12:18:22.750518Z",
     "start_time": "2023-08-22T12:18:22.745527Z"
    },
    "execution": {
     "iopub.status.busy": "2025-06-13T11:53:11.094372Z",
     "iopub.status.idle": "2025-06-13T11:53:11.095370Z",
     "shell.execute_reply": "2025-06-13T11:53:11.095370Z",
     "shell.execute_reply.started": "2025-06-13T11:53:11.095370Z"
    },
    "tags": []
   },
   "outputs": [],
   "source": [
    "df_mask250  = df_mask250[(df_mask250.xratio > 0) & (df_mask250.index.get_level_values('date') > cct.get_today() )]\n",
    "# df_tail1[df_tail1.index.get_level_values('date') == cct.get_today()].shape\n"
   ]
  },
  {
   "cell_type": "code",
   "execution_count": null,
   "id": "51851325-9d22-4646-ae96-0a836c835e05",
   "metadata": {
    "ExecuteTime": {
     "end_time": "2023-08-22T12:18:23.643366Z",
     "start_time": "2023-08-22T12:18:23.630400Z"
    },
    "execution": {
     "iopub.status.busy": "2025-06-13T11:53:11.096366Z",
     "iopub.status.idle": "2025-06-13T11:53:11.096366Z",
     "shell.execute_reply": "2025-06-13T11:53:11.096366Z",
     "shell.execute_reply.started": "2025-06-13T11:53:11.096366Z"
    },
    "tags": []
   },
   "outputs": [],
   "source": [
    "# df_mask250.index.get_level_values(1) > str(df_mask250.loc['999999'].index[0])[:10]"
   ]
  },
  {
   "cell_type": "markdown",
   "id": "b10c3ea9-4c7b-4312-a2e7-46b97d9cb286",
   "metadata": {},
   "source": [
    "#### debug ra_diff4"
   ]
  },
  {
   "cell_type": "code",
   "execution_count": null,
   "id": "ae350bcd-6ad0-4ffd-8817-125d3e891b91",
   "metadata": {
    "ExecuteTime": {
     "end_time": "2023-08-22T12:18:25.545697Z",
     "start_time": "2023-08-22T12:18:25.536689Z"
    },
    "execution": {
     "iopub.status.busy": "2025-06-13T11:53:11.097364Z",
     "iopub.status.idle": "2025-06-13T11:53:11.097364Z",
     "shell.execute_reply": "2025-06-13T11:53:11.097364Z",
     "shell.execute_reply.started": "2025-06-13T11:53:11.097364Z"
    },
    "tags": []
   },
   "outputs": [],
   "source": [
    "dfs.loc['301073'][-5:].ra_diff"
   ]
  },
  {
   "cell_type": "code",
   "execution_count": null,
   "id": "27507d68-6d2d-469f-9d5a-3a7998fe351f",
   "metadata": {
    "ExecuteTime": {
     "end_time": "2023-08-22T12:18:36.581043Z",
     "start_time": "2023-08-22T12:18:32.121416Z"
    },
    "execution": {
     "iopub.status.busy": "2025-06-13T11:53:11.099390Z",
     "iopub.status.idle": "2025-06-13T11:53:11.099390Z",
     "shell.execute_reply": "2025-06-13T11:53:11.099390Z",
     "shell.execute_reply.started": "2025-06-13T11:53:11.099390Z"
    },
    "tags": []
   },
   "outputs": [],
   "source": [
    "# dfs.loc['000002'][-60:]\n",
    "show_ohlc_upper(dfsRoot.loc['000002'][-60:],code='000002')\n",
    "for co in df_mask250.index.get_level_values(0)[:10]:\n",
    "    print(co,dfs.loc[co].ra_diff[-1])\n",
    "    show_ohlc_upper(dfsRoot.loc[co][-tail_days:],code=co)"
   ]
  },
  {
   "cell_type": "markdown",
   "id": "03dae40a-7528-4244-a221-56bc27c67dca",
   "metadata": {},
   "source": [
    "## 最近60天数据"
   ]
  },
  {
   "cell_type": "code",
   "execution_count": null,
   "id": "40a4101a-6eab-4079-b8d7-9c6cee43d863",
   "metadata": {
    "ExecuteTime": {
     "end_time": "2023-08-22T12:19:54.861610Z",
     "start_time": "2023-08-22T12:19:54.810746Z"
    },
    "execution": {
     "iopub.status.busy": "2025-06-13T11:53:11.100354Z",
     "iopub.status.idle": "2025-06-13T11:53:11.101354Z",
     "shell.execute_reply": "2025-06-13T11:53:11.100354Z",
     "shell.execute_reply.started": "2025-06-13T11:53:11.100354Z"
    },
    "tags": []
   },
   "outputs": [],
   "source": [
    "dfs_tail9 = dfs.groupby(level=[0]).tail(tail_days)\n",
    "\n",
    "# 提取倒数第二天\n",
    "# dfs_tail9 = dfs.groupby(level=[0]).tail(6)\n",
    "# dfs_tail9 = dfs_tail9[dfs_tail9.index.get_level_values(1) <lastday]\n",
    "\n",
    "\n",
    "# dfs_tail9.index.get_level_values(0)\n",
    "# 还原多索引\n",
    "# dfs_tail = dfs_tail.reset_index().set_index(['code','date'])\n",
    "# print(dfs_tail9.loc['002987'][:1])\n",
    "# show_tdx_data(dfs_tail9.loc[code_t])\n",
    "# dfs_tail9=compute_perd_value(dfs_tail9,market_value=5,col='vol')\n",
    "\n",
    "# show_tdx_data(dfs_tail9.loc[code_t])\n",
    "# print((dfs_tail9.loc[code_t]))"
   ]
  },
  {
   "cell_type": "code",
   "execution_count": null,
   "id": "29c6b109-d72d-4e01-bbb3-b83ddaabcf77",
   "metadata": {
    "ExecuteTime": {
     "end_time": "2023-08-22T12:19:55.779724Z",
     "start_time": "2023-08-22T12:19:55.750802Z"
    },
    "execution": {
     "iopub.status.busy": "2025-06-13T11:53:11.102378Z",
     "iopub.status.idle": "2025-06-13T11:53:11.102378Z",
     "shell.execute_reply": "2025-06-13T11:53:11.102378Z",
     "shell.execute_reply.started": "2025-06-13T11:53:11.102378Z"
    },
    "tags": []
   },
   "outputs": [],
   "source": [
    "dfs_tail9.loc[(['999999','399001','399006'],'ra_diff')].groupby(level=0).tail(3)\n",
    "# dfs_tail9.loc[pd.IndexSlice[['999999','399001','399006'], :, :]].tail(3)\n",
    "# dfs_tail9.query((\"code == '999999'\" and \"date > '2023-04-01'\"))"
   ]
  },
  {
   "cell_type": "markdown",
   "id": "0b3173f3-5f93-46af-93ba-ae54292d1e64",
   "metadata": {},
   "source": [
    "## 超跌反弹年线大于MA20"
   ]
  },
  {
   "cell_type": "code",
   "execution_count": null,
   "id": "05296d21-3ea1-4e29-9dc7-f9eea51d5c5b",
   "metadata": {
    "ExecuteTime": {
     "end_time": "2023-08-22T12:19:59.041578Z",
     "start_time": "2023-08-22T12:19:59.014618Z"
    },
    "execution": {
     "iopub.status.busy": "2025-06-13T11:53:11.104345Z",
     "iopub.status.idle": "2025-06-13T11:53:11.104345Z",
     "shell.execute_reply": "2025-06-13T11:53:11.104345Z",
     "shell.execute_reply.started": "2025-06-13T11:53:11.104345Z"
    },
    "tags": []
   },
   "outputs": [],
   "source": [
    "# show_tdx_data(dfs_tail9.loc['300418'])[-2:]\n",
    "show_tdx_data(dfs_tail9.loc['603131'])[-2:]\n",
    "# print(dfs_tail9.loc['603131',['high','upper','hmax']])"
   ]
  },
  {
   "cell_type": "markdown",
   "id": "195a4c34-9366-41d1-94ea-7ffc9d33cd51",
   "metadata": {},
   "source": [
    "## !!! Run-Filter强势Upper"
   ]
  },
  {
   "cell_type": "markdown",
   "id": "4d9bbe3c-3272-4851-9ec0-86142e5378dd",
   "metadata": {
    "tags": []
   },
   "source": [
    "### !!! filterRule test"
   ]
  },
  {
   "cell_type": "code",
   "execution_count": null,
   "id": "690ac9bf-ef72-4966-971c-15a9c0d86f0f",
   "metadata": {
    "ExecuteTime": {
     "end_time": "2023-08-22T12:20:03.128907Z",
     "start_time": "2023-08-22T12:20:03.118934Z"
    },
    "execution": {
     "iopub.status.busy": "2025-06-13T11:53:11.105342Z",
     "iopub.status.idle": "2025-06-13T11:53:11.106339Z",
     "shell.execute_reply": "2025-06-13T11:53:11.105342Z",
     "shell.execute_reply.started": "2025-06-13T11:53:11.105342Z"
    },
    "tags": []
   },
   "outputs": [],
   "source": [
    "# dfs_tail9.loc['002722']\n",
    "\n",
    "\n",
    "def rules_to_list(rules):\n",
    "    rules_l = (rules).split('&')\n",
    "    for l in rules_l:\n",
    "        print(l)\n",
    "    return rules_l\n",
    "\n",
    "\n",
    "def filter_rule_Test(dfs_tail9,resample=resample):\n",
    "    col_rule = [\"(dfs_tail9[('close')] > dfs_tail9[('ma5')])\",\n",
    "                \"(dfs_tail9[('high')] > dfs_tail9.upper)\",\n",
    "                \"(dfs_tail9[('ma5')] > dfs_tail9[('ma20')])\"]\n",
    "    col_rule2 = [\n",
    "        \"(dfs_tail9[('close')] > dfs_tail9[('hmax')].shift(1)*0.98) | (dfs_tail9['close'] > dfs_tail9['hmax']*0.97)\",\n",
    "        \"((dfs_tail9[('vol1d')] > 0) | (dfs_tail9.close > dfs_tail9.close.shift(1)*0.99))\"]\n",
    "    col_rule3 = [\n",
    "        \"((dfs_tail9[('vol2d')] > 0) | (dfs_tail9.close.shift(1) > dfs_tail9.close.shift(2)*0.99))\"]\n",
    "\n",
    "    col_rule_tail1 = [\"(dfs_tail9.perc1d < 21)\", \"(dfs_tail9.perc2d > 0)\"]\n",
    "    if resample.upper()=='D':\n",
    "        col_rule_tail2 = [\n",
    "            \"((dfs_tail9.perc3d > 0) | ((dfs_tail9.close.shift(2) > dfs_tail9.ma5.shift(2))) )\",\n",
    "            \"((dfs_tail9.volsum5d > 50) )\",\n",
    "            \"(dfs_tail9['close'] > dfs_tail9[('hmax')])\",\n",
    "            \"(dfs_tail9[('close')] > dfs_tail9[('ma250')])\",\n",
    "            \"(dfs_tail9['low'] > dfs_tail9[('low')].shift(1))\"]\n",
    "        col_rule_tail3 = [\"(dfs_tail9[('hmax')] > 0)\",\n",
    "                 \"(dfs_tail9[('high')] >= dfs_tail9[('hmax')])\",\n",
    "                 \"(dfs_tail9[('close')] > dfs_tail9.ma250 * 0.99)\"]\n",
    "    else:\n",
    "        col_rule_tail2 = [\n",
    "            \"((dfs_tail9.perc3d > 0) | ((dfs_tail9.close.shift(2) > dfs_tail9.ma5.shift(2))) )\",\n",
    "            \"((dfs_tail9.volsum5d > 50) )\",\n",
    "            \"(dfs_tail9['close'] > dfs_tail9[('hmax')])\",\n",
    "            \"(dfs_tail9['low'] > dfs_tail9[('low')].shift(1))\"]\n",
    "        col_rule_tail3 = [\"(dfs_tail9[('hmax')] > 0)\",\n",
    "                 \"(dfs_tail9[('high')] >= dfs_tail9[('hmax')])\"]\n",
    "    col_rule_tail4=[ \"(dfs_tail9[('xratio')] > dfs_tail9[('xratio')].shift(1))\",\n",
    "             \"(dfs_tail9[('xratio')].shift(1) > dfs_tail9[('xratio')].shift(2))\"]\n",
    "    \n",
    "    col_rule.extend(col_rule2)\n",
    "    col_rule.extend(col_rule3)\n",
    "    col_rule.extend(col_rule_tail1)\n",
    "    col_rule.extend(col_rule_tail2)\n",
    "    col_rule.extend(col_rule_tail3)\n",
    "    col_rule.extend(col_rule_tail4)\n",
    "    \n",
    "    for co in col_rule:\n",
    "        print(\"%s:%s\" % (co, eval(co)), end='')\n",
    "\n"
   ]
  },
  {
   "cell_type": "code",
   "execution_count": null,
   "id": "e5a58c0a-938f-433a-8bfd-c386700ee91d",
   "metadata": {
    "ExecuteTime": {
     "end_time": "2023-08-22T12:20:04.926036Z",
     "start_time": "2023-08-22T12:20:04.522983Z"
    },
    "execution": {
     "iopub.status.busy": "2025-06-13T11:53:11.106339Z",
     "iopub.status.idle": "2025-06-13T11:53:11.107337Z",
     "shell.execute_reply": "2025-06-13T11:53:11.107337Z",
     "shell.execute_reply.started": "2025-06-13T11:53:11.107337Z"
    },
    "tags": []
   },
   "outputs": [],
   "source": [
    "code_filter = '601728'\n",
    "\n",
    "print(len(dfs_tail9.loc[code_filter]))\n",
    "\n",
    "# show_tdx_data(dfs_tail9.loc[code_filter])\n",
    "detect_bull_bear(dfs.loc[code_filter][-120:].close)\n",
    "detect_bull_bear_apply(dfs.loc[code_filter][-120:].close)\n",
    "\n",
    "dfs.loc[code_filter].xratio[-5:]\n",
    "\n",
    "# filter_rule_Test(dfs_tail9.loc[code_filter])\n",
    "\n",
    "show_ohlc_upper(dfsRoot.loc[code_filter][-60:], code=code_filter)\n",
    "\n"
   ]
  },
  {
   "cell_type": "code",
   "execution_count": null,
   "id": "6cdd4faa-3fa1-4010-a429-3b83693e29a9",
   "metadata": {
    "ExecuteTime": {
     "end_time": "2023-08-22T12:20:09.736168Z",
     "start_time": "2023-08-22T12:20:09.726194Z"
    },
    "execution": {
     "iopub.status.busy": "2025-06-13T11:53:11.108334Z",
     "iopub.status.idle": "2025-06-13T11:53:11.108334Z",
     "shell.execute_reply": "2025-06-13T11:53:11.108334Z",
     "shell.execute_reply.started": "2025-06-13T11:53:11.108334Z"
    },
    "tags": []
   },
   "outputs": [],
   "source": [
    "# dfs.loc['300474'][-5:]"
   ]
  },
  {
   "cell_type": "markdown",
   "id": "877ffea7-d6b5-4b21-8c9e-0e1a18104949",
   "metadata": {
    "tags": []
   },
   "source": [
    "### 新高Hmax日见新高df_mask_hmax"
   ]
  },
  {
   "cell_type": "markdown",
   "id": "593646cd-ae6b-4b56-b7d4-e2c9cdcabc8b",
   "metadata": {
    "tags": []
   },
   "source": [
    "#### hmax 追高 TEST"
   ]
  },
  {
   "cell_type": "code",
   "execution_count": null,
   "id": "83ed4e34-b717-4c0a-b649-ce5dc6d29135",
   "metadata": {
    "ExecuteTime": {
     "end_time": "2023-08-22T12:20:29.925667Z",
     "start_time": "2023-08-22T12:20:29.547618Z"
    },
    "execution": {
     "iopub.status.busy": "2025-06-13T11:53:11.110328Z",
     "iopub.status.idle": "2025-06-13T11:53:11.110328Z",
     "shell.execute_reply": "2025-06-13T11:53:11.110328Z",
     "shell.execute_reply.started": "2025-06-13T11:53:11.110328Z"
    },
    "tags": []
   },
   "outputs": [],
   "source": [
    "code='600012'\n",
    "print(len(dfs_tail9.loc[code]))\n",
    "# show_tdx_data(dfs_tail9.loc[code],col='upper')\n",
    "show_ohlc_upper(dfsRoot.loc[code],code=code)"
   ]
  },
  {
   "cell_type": "code",
   "execution_count": null,
   "id": "a1cc858b-53da-459a-8163-e6a368378daf",
   "metadata": {},
   "outputs": [],
   "source": []
  },
  {
   "cell_type": "code",
   "execution_count": null,
   "id": "aaa26f2c-51e8-49aa-a2c0-1d1622ce152b",
   "metadata": {
    "ExecuteTime": {
     "end_time": "2023-08-22T12:21:00.286276Z",
     "start_time": "2023-08-22T12:21:00.170490Z"
    },
    "execution": {
     "iopub.status.busy": "2025-06-13T11:53:11.111326Z",
     "iopub.status.idle": "2025-06-13T11:53:11.112323Z",
     "shell.execute_reply": "2025-06-13T11:53:11.111326Z",
     "shell.execute_reply.started": "2025-06-13T11:53:11.111326Z"
    },
    "tags": []
   },
   "outputs": [],
   "source": [
    "\n",
    "# mask_hmax = ((dfs_tail9[('close')] > dfs_tail9[('hmax')].shift(\n",
    "#     1) * 0.99) | (dfs_tail9['close'] > dfs_tail9['hmax'] * 0.99))\n",
    "\n",
    "# mask_hmax = ( (dfs_tail9[('hmax')] > 0) & ((dfs_tail9[('high')] > dfs_tail9[('hmax')].shift(\n",
    "#     1) * 0.99) | (dfs_tail9['high'] > dfs_tail9['hmax'] * 0.99)) )\n",
    "\n",
    "# mask_hmax = ((dfs_tail9[('hmax')] > 0) &\n",
    "\n",
    "if resample.upper() =='D':\n",
    "    mask_hmax = ( (dfs_tail9[('high')] > dfs_tail9[('hmax')].shift(1)) &\n",
    "                 ((dfs_tail9[('high')] >= dfs_tail9[('hmax')])) &\n",
    "                 (dfs_tail9[('close')] > dfs_tail9.ma250 * 0.99))\n",
    "                 # (dfs_tail9[('close')] > dfs_tail9.ma250 * 0.99) &\n",
    "                 # (dfs_tail9[('close')] < dfs_tail9.ma250 * 1.05))\n",
    "else:\n",
    "    mask_hmax = ( (dfs_tail9[('low')] >= dfs_tail9[('ma5')].shift(1))  &\n",
    "              (dfs_tail9[('high')] >= dfs_tail9[('high')].shift(1))  ) \n",
    "\n",
    "# mask_hmax = ( (dfs_tail9[('hmax')] > 0) & (dfs_tail9[('close')] > dfs_tail9.ma20 *0.99) & (dfs_tail9[('close')] < dfs_tail9.ma20 *1.20) )\n",
    "\n",
    "\n",
    "df_mask_hmax = dfs_tail9.loc[idx[mask_hmax, :]]\n",
    "df_mask_hmax = get_multi_code_count(df_mask_hmax)\n",
    "\n",
    "# df_mask_hmax = df_mask_hmax[ (df_mask_hmax[('close')] > df_mask_hmax.upper)]\n",
    "\n",
    "# df_mask_hmax.couts.std()\n",
    "\n",
    "df_mask_hmax = df_mask_hmax.groupby(level=[0]).tail(\n",
    "    1).reset_index().set_index('code')\n",
    "\n",
    "df_mask_hmax = df_mask_hmax[df_mask_hmax.date >= lastday]\n",
    "# df_mask_hmax = get_sina_data_cname(df_mask_hmax, dm,realtime=True)\n",
    "df_mask_hmax = get_sina_data_cname(df_mask_hmax, realtime=True)\n",
    "\n",
    "df_mask_hmax = clean_688(df_mask_hmax)\n",
    "\n",
    "# show_tdx_data(df_mask_hmax[df_mask_hmax.couts == 9])\n",
    "\n",
    "# by=['perc', 'perc5d', 'perc1d'],\n",
    "# code_t = '000534'\n",
    "df_mask_hmax = df_mask_hmax.sort_values(\n",
    "    by=['couts','volsum5d', 'idx', 'hat', 'perc1d'],ascending=[0,0, 0, 0, 0])\n",
    "    # by=['volsum5d', 'idx', 'hat', 'perc1d'],ascending=[0, 0, 0, 0])\n",
    "# print(df_mask_hmax.couts[:1], df_mask_hmax.shape)\n",
    "# show_tdx_data(df_mask_hmax.loc['300461'])\n",
    "df_mask_hmax.couts[:1], df_mask_hmax.shape\n",
    "show_tdx_data(df_mask_hmax)[:10]\n",
    "# show_tdx_data(df_mask_hmax[(df_mask_hmax.couts > 1) & (df_mask_hmax.volsum5d > 10) & (df_mask_hmax.volsum5d < 150)]).T"
   ]
  },
  {
   "cell_type": "markdown",
   "id": "dba394bb-99b8-4761-98bd-a8f38663ef1d",
   "metadata": {},
   "source": [
    "#### !!! hmax Top upper > 1"
   ]
  },
  {
   "cell_type": "code",
   "execution_count": null,
   "id": "3cb190e0-ed53-4b1e-89e7-22db4858c69f",
   "metadata": {
    "ExecuteTime": {
     "end_time": "2023-08-22T12:21:02.448015Z",
     "start_time": "2023-08-22T12:21:02.433054Z"
    },
    "execution": {
     "iopub.status.busy": "2025-06-13T11:53:11.112323Z",
     "iopub.status.idle": "2025-06-13T11:53:11.113321Z",
     "shell.execute_reply": "2025-06-13T11:53:11.112323Z",
     "shell.execute_reply.started": "2025-06-13T11:53:11.112323Z"
    },
    "tags": []
   },
   "outputs": [],
   "source": [
    "# dfs_tail9.loc['600103']"
   ]
  },
  {
   "cell_type": "code",
   "execution_count": null,
   "id": "bb062684-8828-4c1f-a6ac-a7a8ac702177",
   "metadata": {
    "ExecuteTime": {
     "end_time": "2023-08-22T12:21:03.624998Z",
     "start_time": "2023-08-22T12:21:03.547172Z"
    },
    "execution": {
     "iopub.status.busy": "2025-06-13T11:53:11.114319Z",
     "iopub.status.idle": "2025-06-13T11:53:11.114319Z",
     "shell.execute_reply": "2025-06-13T11:53:11.114319Z",
     "shell.execute_reply.started": "2025-06-13T11:53:11.114319Z"
    },
    "tags": []
   },
   "outputs": [],
   "source": [
    "# mask_hmax = ((dfs_tail9[('close')] > dfs_tail9[('hmax')].shift(\n",
    "#     1) * 0.99) | (dfs_tail9['close'] > dfs_tail9['hmax'] * 0.99))\n",
    "\n",
    "# mask_hmax = ( (dfs_tail9[('hmax')] > 0) & ((dfs_tail9[('high')] > dfs_tail9[('hmax')].shift(\n",
    "#     1) * 0.99) | (dfs_tail9['high'] > dfs_tail9['hmax'] * 0.99)) )\n",
    "\n",
    "# mask_hmax = ( (dfs_tail9[('hmax')] > 0) & ((dfs_tail9[('high')] >= dfs_tail9[('hmax')]*0.99) ) )\n",
    "# mask_hmax = (  (dfs_tail9[('high')] >= dfs_tail9[('hmax')]*0.99) )\n",
    "if resample.upper() == 'D':\n",
    "    mask_hmax = (  (dfs_tail9[('high')] >= dfs_tail9[('high')].shift(1)) & \n",
    "                 (dfs_tail9[('high')].shift(1) >= dfs_tail9[('high')].shift(2)) &\n",
    "                (dfs_tail9[('high')] >= dfs_tail9[('hmax')]*0.99) &\n",
    "                (dfs_tail9[('close')] >= dfs_tail9[('upper')].shift(1)) )\n",
    "else:\n",
    "    mask_hmax = (  (dfs_tail9[('high')] >= dfs_tail9[('high')].shift(1)) & \n",
    "                 (dfs_tail9[('high')].shift(1) >= dfs_tail9[('high')].shift(2)) &\n",
    "                (dfs_tail9[('close')] >= dfs_tail9[('upper')].shift(1)) )\n",
    "\n",
    "df_mask_hmax = dfs_tail9.loc[idx[mask_hmax, :]]\n",
    "\n",
    "#站上Upper\n",
    "# df_mask_hmax = df_mask_hmax[ (df_mask_hmax[('close')] > df_mask_hmax.upper)]\n",
    "\n",
    "df_mask_hmax = get_multi_code_count(df_mask_hmax)\n",
    "df_mask_hmax = df_mask_hmax.groupby(level=[0]).tail(\n",
    "    1).reset_index().set_index('code')\n",
    "\n",
    "\n",
    "\n",
    "df_mask_hmax = df_mask_hmax[df_mask_hmax.date >= lastday]\n",
    "# df_mask_hmax = get_sina_data_cname(df_mask_hmax, dm,realtime=True)\n",
    "df_mask_hmax = get_sina_data_cname(df_mask_hmax, realtime=True)\n",
    "\n",
    "df_mask_hmax = clean_688(df_mask_hmax)\n",
    "\n",
    "# show_tdx_data(df_mask_hmax[df_mask_hmax.couts == 9])\n",
    "\n",
    "# by=['perc', 'perc5d', 'perc1d'],\n",
    "# code_t = '000534'\n",
    "df_mask_hmax = df_mask_hmax.sort_values(\n",
    "    by=['couts', 'idx', 'hat', 'perc1d'],\n",
    "    ascending=[0, 0, 0, 0])\n",
    " # by=['volsum5d', 'idx', 'hat', 'perc1d'],\n",
    "print(df_mask_hmax.couts[:1], df_mask_hmax.shape)\n",
    "# show_tdx_data(df_mask_hmax.loc['000039'])\n",
    "df_mask_hmax.couts[:1], df_mask_hmax.shape\n",
    "\n",
    "# show_tdx_data(df_mask_hmax).T\n",
    "# show_tdx_data(df_mask_hmax[(df_mask_hmax.couts > 1) & (df_mask_hmax.volsum5d > 10) & (df_mask_hmax.volsum5d < 150)])\n",
    "show_tdx_data(df_mask_hmax.query('couts >= 1 and perc >2  and   low < ma5 ') )[:10]"
   ]
  },
  {
   "cell_type": "code",
   "execution_count": null,
   "id": "df945fbf-26b5-4f9d-a9a9-afc687061e93",
   "metadata": {
    "ExecuteTime": {
     "end_time": "2023-08-22T12:21:20.075951Z",
     "start_time": "2023-08-22T12:21:20.067973Z"
    },
    "execution": {
     "iopub.status.busy": "2025-06-13T11:53:11.116313Z",
     "iopub.status.idle": "2025-06-13T11:53:11.116313Z",
     "shell.execute_reply": "2025-06-13T11:53:11.116313Z",
     "shell.execute_reply.started": "2025-06-13T11:53:11.116313Z"
    },
    "tags": []
   },
   "outputs": [],
   "source": [
    "# show_tdx_data(df_mask_hmax.loc['600103'][-5:])"
   ]
  },
  {
   "cell_type": "markdown",
   "id": "591b0829-09bf-442f-a1b3-47b5fc62b1da",
   "metadata": {},
   "source": [
    "##### sort_values"
   ]
  },
  {
   "cell_type": "code",
   "execution_count": null,
   "id": "f6195553-86ca-43d2-a91f-651482e3801a",
   "metadata": {
    "ExecuteTime": {
     "end_time": "2023-08-22T12:21:21.124596Z",
     "start_time": "2023-08-22T12:21:21.080678Z"
    },
    "execution": {
     "iopub.status.busy": "2025-06-13T11:53:11.117310Z",
     "iopub.status.idle": "2025-06-13T11:53:11.117310Z",
     "shell.execute_reply": "2025-06-13T11:53:11.117310Z",
     "shell.execute_reply.started": "2025-06-13T11:53:11.117310Z"
    },
    "tags": []
   },
   "outputs": [],
   "source": [
    "show_tdx_data(\n",
    "    df_mask_hmax.query('perc > 1').sort_values(\n",
    "        by=['ra_diff', 'couts', 'idx'],\n",
    "        ascending=[0, 0, 0]),col='ra_diff')[:20]"
   ]
  },
  {
   "cell_type": "code",
   "execution_count": null,
   "id": "a649124b-a6a1-42cc-87a3-f19043582adf",
   "metadata": {
    "ExecuteTime": {
     "end_time": "2023-08-22T12:21:25.017585Z",
     "start_time": "2023-08-22T12:21:24.635018Z"
    },
    "execution": {
     "iopub.status.busy": "2025-06-13T11:53:11.118307Z",
     "iopub.status.idle": "2025-06-13T11:53:11.118307Z",
     "shell.execute_reply": "2025-06-13T11:53:11.118307Z",
     "shell.execute_reply.started": "2025-06-13T11:53:11.118307Z"
    },
    "tags": []
   },
   "outputs": [],
   "source": [
    "show_ohlc_upper(dfsRoot.loc['300540'][-60:],code='300540')"
   ]
  },
  {
   "cell_type": "markdown",
   "id": "a9cd409b-f33f-4580-b9fe-a76f484310d5",
   "metadata": {},
   "source": [
    "### !!! df_mask250 upper xratio"
   ]
  },
  {
   "cell_type": "code",
   "execution_count": null,
   "id": "fa2737bf-ba68-4891-9bdf-a86fb5e1c8dd",
   "metadata": {
    "ExecuteTime": {
     "end_time": "2023-08-22T12:21:28.015531Z",
     "start_time": "2023-08-22T12:21:27.878896Z"
    },
    "execution": {
     "iopub.status.busy": "2025-06-13T11:53:11.120302Z",
     "iopub.status.idle": "2025-06-13T11:53:11.120302Z",
     "shell.execute_reply": "2025-06-13T11:53:11.120302Z",
     "shell.execute_reply.started": "2025-06-13T11:53:11.120302Z"
    },
    "tags": []
   },
   "outputs": [],
   "source": [
    "\n",
    "if resample.upper() =='D':\n",
    "    mask250 = ((dfs_tail9[('high')] > dfs_tail9.upper) &\n",
    "               (dfs_tail9[('close')] > dfs_tail9[('ma5')])\n",
    "               & (dfs_tail9[('ma5')] > dfs_tail9[('ma20')])\n",
    "               & ((dfs_tail9[('vol1d')] > 0) | (dfs_tail9.close > dfs_tail9.close.shift( 1)*0.99))\n",
    "               & ((dfs_tail9[('vol2d')] > 0) | (dfs_tail9.close.shift(1) > dfs_tail9.close.shift(2)*0.99))\n",
    "               & (dfs_tail9['close'] > dfs_tail9[('hmax')]) &\n",
    "                (dfs_tail9[('close')] > dfs_tail9[('ma250')]) | ((dfs_tail9[('high')] > dfs_tail9.upper) &\n",
    "                                                                 (dfs_tail9[('close')] > dfs_tail9[('ma5')])) &\n",
    "               (dfs_tail9[('ma5')] > dfs_tail9[('ma20')])\n",
    "               & ((dfs_tail9[('vol1d')] > 0) | (dfs_tail9.close > dfs_tail9.close.shift(1)*0.99))\n",
    "               & ((dfs_tail9[('vol2d')] > 0) | (dfs_tail9.close.shift(1) > dfs_tail9.close.shift(2)*0.99))\n",
    "               & (dfs_tail9['low'] > dfs_tail9[('low')].shift(1))\n",
    "               & (dfs_tail9[('close')] > dfs_tail9[('ma250')])\n",
    "               & (dfs_tail9[('xratio')] > dfs_tail9[('xratio')].shift(1))\n",
    "               & (dfs_tail9[('xratio')].shift(1) > dfs_tail9[('xratio')].shift(2))\n",
    "              )\n",
    "elif resample.upper() =='W' or resample == 'W-FRI':\n",
    "    mask250 = (\n",
    "               (dfs_tail9[('close')] > dfs_tail9[('ma5')])\n",
    "               & (dfs_tail9[('ma5')] > dfs_tail9[('ma20')])\n",
    "               & ((dfs_tail9[('vol1d')] > 0) | (dfs_tail9.close > dfs_tail9.close.shift(1)*0.99))\n",
    "               & ((dfs_tail9[('vol2d')] > 0) | (dfs_tail9.close.shift(1) > dfs_tail9.close.shift(2)*0.99))\n",
    "               & (dfs_tail9['low'] > dfs_tail9[('low')].shift(1))\n",
    "               & (dfs_tail9[('xratio')] > dfs_tail9[('xratio')].shift(1))\n",
    "               & (dfs_tail9[('xratio')].shift(1) > dfs_tail9[('xratio')].shift(2))\n",
    "              )\n",
    "else:\n",
    "    mask250 = (\n",
    "               (dfs_tail9[('close')] > dfs_tail9[('ma5')])\n",
    "               & (dfs_tail9[('ma5')] > dfs_tail9[('ma20')])\n",
    "               & ((dfs_tail9[('vol1d')] > 0) | (dfs_tail9.close > dfs_tail9.close.shift(1)*0.99))\n",
    "               & ((dfs_tail9[('vol2d')] > 0) | (dfs_tail9.close.shift(1) > dfs_tail9.close.shift(2)*0.99))\n",
    "               & (dfs_tail9['low'] > dfs_tail9[('low')].shift(1))\n",
    "              )\n",
    "\n",
    "# & (dfs_tail9[('close')] < dfs_tail9[('ma20'  )]*1.1))\n",
    "idx = pd.IndexSlice\n",
    "df_mask250 = dfs_tail9.loc[idx[mask250, :]]\n",
    "df_mask250.shape\n",
    "#站上Upper\n",
    "df_mask250 = df_mask250[ (df_mask250[('close')] > df_mask250.upper)]\n",
    "\n",
    "df_mask250 = get_multi_code_count(df_mask250)\n",
    "\n",
    "\n",
    "code_t = '603131'\n",
    "print((df_mask250.couts[:3], df_mask250.shape))\n",
    "# df_mask250.loc[code_t]\n",
    "groupd250 = df_mask250.groupby(level=[0])\n",
    "df_mask250 = groupd250.tail(1).reset_index().set_index('code')\n",
    "# df_mask250 = get_sina_data_cname(df_mask250, dm,realtime=True)\n",
    "\n",
    "\n",
    "\n",
    "# df_mask250.loc[code_t].close\n",
    "df_mask250 = get_sina_data_cname(df_mask250, realtime=True)\n",
    "# df_mask250.loc[code_t].close\n",
    "\n",
    "df_mask250 = clean_688(df_mask250)\n",
    "# df_masklastd.loc['002722']\n",
    "\n",
    "df_mask250 = df_mask250.sort_values(\n",
    "    by=['idx','xratio',  'hat', 'perc1d'],\n",
    "    ascending=[0, 0, 0, 0])\n",
    "    # by=['xratio', 'idx', 'hat', 'perc1d'],\n",
    "\n",
    "# by=['perc', 'perc5d', 'perc1d'],\n",
    "# ascending=[0, 0, 0])\n",
    "print(\"df_mask250:%s df_mask_hmax:%s\"%(len(df_mask250),len(df_mask_hmax)))\n",
    "cross_hmax_250 = [co for co in df_mask250.index.get_level_values(\n",
    "    'code') if co in df_mask_hmax.index.get_level_values('code')]\n",
    "# df_mask250.loc[code_t]\n",
    "print(\"cross_hamx:%s\" % (len(cross_hmax_250)))\n",
    "show_tdx_data(df_mask250.loc[cross_hmax_250].query('couts > 1 and perc > 0')[:20])\n",
    "# show_tdx_data(df_mask250.query('couts > 1 and perc > 0')[:20])\n",
    "# show_tdx_data(df_mask250.loc[code_t])"
   ]
  },
  {
   "cell_type": "code",
   "execution_count": null,
   "id": "188cbe8c-4adb-4a13-a68d-9251a0a68f39",
   "metadata": {
    "ExecuteTime": {
     "end_time": "2023-08-22T12:21:36.572046Z",
     "start_time": "2023-08-22T12:21:32.281671Z"
    },
    "execution": {
     "iopub.status.busy": "2025-06-13T11:53:11.121300Z",
     "iopub.status.idle": "2025-06-13T11:53:11.121300Z",
     "shell.execute_reply": "2025-06-13T11:53:11.121300Z",
     "shell.execute_reply.started": "2025-06-13T11:53:11.121300Z"
    },
    "tags": []
   },
   "outputs": [],
   "source": [
    "print(\"df_mask250:%s\"%(len(df_mask250.query('couts > 1 and perc > 0'))))\n",
    "for co in df_mask250.query('couts > 1 and perc > 0').index[:10]:\n",
    "    print(co,dfs.loc[co].ra_diff[-1])\n",
    "    show_ohlc_upper(dfsRoot.loc[co][-60:],code=co)"
   ]
  },
  {
   "cell_type": "markdown",
   "id": "c05de983-befd-443a-a747-d5323c216367",
   "metadata": {
    "tags": []
   },
   "source": [
    "### Tail1 Show Top 主升浪df_masklastd"
   ]
  },
  {
   "cell_type": "code",
   "execution_count": null,
   "id": "2bb30b41-510c-44e7-a1d0-a4f70921cb71",
   "metadata": {
    "ExecuteTime": {
     "end_time": "2023-08-22T12:23:47.923770Z",
     "start_time": "2023-08-22T12:23:47.896336Z"
    },
    "execution": {
     "iopub.status.busy": "2025-06-13T11:53:11.123295Z",
     "iopub.status.idle": "2025-06-13T11:53:11.123295Z",
     "shell.execute_reply": "2025-06-13T11:53:11.123295Z",
     "shell.execute_reply.started": "2025-06-13T11:53:11.123295Z"
    },
    "tags": []
   },
   "outputs": [],
   "source": [
    "df_mask250[(df_mask250.date >= lastday_week)][:2]\n",
    "df_mask250[df_mask250.ra_diff > 1.3].shape"
   ]
  },
  {
   "cell_type": "code",
   "execution_count": null,
   "id": "78a42497-4529-463c-ba0d-c0984b7a00e5",
   "metadata": {
    "ExecuteTime": {
     "end_time": "2023-08-22T12:23:49.187918Z",
     "start_time": "2023-08-22T12:23:49.096165Z"
    },
    "execution": {
     "iopub.status.busy": "2025-06-13T11:53:11.124292Z",
     "iopub.status.idle": "2025-06-13T11:53:11.124292Z",
     "shell.execute_reply": "2025-06-13T11:53:11.124292Z",
     "shell.execute_reply.started": "2025-06-13T11:53:11.124292Z"
    },
    "tags": []
   },
   "outputs": [],
   "source": [
    "# df_masklastd = df_mask250[(df_mask250.date >= '2023-02-06') & (df_mask250.perc1d < 21) & (df_mask250.perc2d > 0) &\n",
    "if resample.upper() =='D':\n",
    "    df_masklastd = df_mask250[(df_mask250.date >= lastday) & (df_mask250.perc1d < 21) & (df_mask250.perc2d > 0)\n",
    "                          & ((df_mask250.volsum5d > 10) & (df_mask250.close > df_mask250.ma5) )\n",
    "                          ]\n",
    "                          # & ((df_mask250.perc3d > 0) | ((df_mask250.close.shift(2) > df_mask250.ma5.shift(2))) )\n",
    "else:\n",
    "    df_masklastd = df_mask250[(df_mask250.date >= lastday_week) & (df_mask250.perc1d < 21) & (df_mask250.perc2d > 0)\n",
    "                          & ((df_mask250.volsum5d > 20) & (df_mask250.close > df_mask250.ma5) )\n",
    "                          ]\n",
    "# (df_mask250.couts == 1) & (df_mask250.perc1d < 21)]\n",
    "\n",
    "#当下大于上轨\n",
    "df_masklastd = df_masklastd[df_masklastd.close > df_masklastd.ma5]\n",
    "\n",
    "print(\"src:%s  lastd:%s \" % (df_mask250.shape, df_masklastd.shape))\n",
    "\n",
    "\n",
    "if resample.upper() =='M':\n",
    "    df_masklastd = df_masklastd.sort_values(\n",
    "        by=['perc1d', 'perc3d'],\n",
    "        ascending=[0, 0])\n",
    "else:\n",
    "    df_masklastd = df_masklastd.sort_values(\n",
    "        by=['perc3d', 'perc1d'],\n",
    "        ascending=[0, 0])\n",
    "\n",
    "# print(\n",
    "#     (df_masklastd.loc\n",
    "#      [:, ['name', 'couts', 'date', 'perc1d', 'perc3d', 'perc5d']][:10],\n",
    "#      df_masklastd.shape,))\n",
    "\n",
    "# show_tdx_data(df_masklastd)\n",
    "print(df_masklastd.name.T[:20])\n",
    "# show_tdx_data(df_masklastd[-10:])\n",
    "\n",
    "\n",
    "code_t = '300675'\n",
    "code_t = '605268'\n",
    "code_t = '002828'\n",
    "code_t = '300418'\n",
    "code_t = df_masklastd.index[0]\n",
    "\n",
    "\n",
    "# df_masklastd.loc[code_t, ['name', 'couts',\n",
    "#                           'date', 'perc1d', 'perc3d', 'perc5d']]\n",
    "\n",
    "# df_masklastd.loc[code_t].date\n",
    "\n",
    "\n",
    "# df_mask250 = groupd250.head(1)\n",
    "\n",
    "# df_masklastd.loc[code_t].date\n",
    "# show_tdx_data(df_masklastd.loc[code_t])\n",
    "\n",
    "\n",
    "# show_tdx_data(df_masklastd.loc[code_t])"
   ]
  },
  {
   "cell_type": "code",
   "execution_count": null,
   "id": "f5e6d649-2eca-4e3e-8cff-9378c9db95a9",
   "metadata": {},
   "outputs": [],
   "source": []
  },
  {
   "cell_type": "markdown",
   "id": "cab552fd-00a9-4022-b10c-10ca9e91056f",
   "metadata": {},
   "source": [
    "### !!! df_mask_hmax 061"
   ]
  },
  {
   "cell_type": "code",
   "execution_count": null,
   "id": "8370a779-d3a3-47b5-b046-dcd86a1feffd",
   "metadata": {
    "ExecuteTime": {
     "end_time": "2023-08-22T12:25:40.774658Z",
     "start_time": "2023-08-22T12:25:36.906110Z"
    },
    "execution": {
     "iopub.status.busy": "2025-06-13T11:53:11.125291Z",
     "iopub.status.idle": "2025-06-13T11:53:11.126286Z",
     "shell.execute_reply": "2025-06-13T11:53:11.125291Z",
     "shell.execute_reply.started": "2025-06-13T11:53:11.125291Z"
    },
    "tags": []
   },
   "outputs": [],
   "source": [
    "print(\"df_mask_hmax:%s\"%(len(df_mask_hmax)))\n",
    "for co in df_mask_hmax.index[:10]:\n",
    "    print(co,dfs.loc[co].ra_diff[-1])\n",
    "    show_ohlc_upper(dfsRoot.loc[co][-60:],code=co)"
   ]
  },
  {
   "cell_type": "markdown",
   "id": "d5d46266-e302-419a-bb56-82f128b5fdb0",
   "metadata": {
    "tags": []
   },
   "source": [
    "###  df_masklastd 068\n",
    "    show_ohlc_upper(dfs.loc[co][-60:])"
   ]
  },
  {
   "cell_type": "code",
   "execution_count": null,
   "id": "56436756-a22c-49bb-8a76-b05f825d44ae",
   "metadata": {
    "ExecuteTime": {
     "end_time": "2023-08-22T12:25:46.878520Z",
     "start_time": "2023-08-22T12:25:42.390012Z"
    },
    "execution": {
     "iopub.status.busy": "2025-06-13T11:53:11.126286Z",
     "iopub.status.idle": "2025-06-13T11:53:11.127283Z",
     "shell.execute_reply": "2025-06-13T11:53:11.126286Z",
     "shell.execute_reply.started": "2025-06-13T11:53:11.126286Z"
    },
    "tags": []
   },
   "outputs": [],
   "source": [
    "print(\"df_masklastd:%s\"%(len(df_masklastd)))\n",
    "for co in df_masklastd.index[:10]:\n",
    "    print(co,dfs.loc[co].ra_diff[-1])\n",
    "    show_ohlc_upper(dfsRoot.loc[co][-60:],code=co)"
   ]
  },
  {
   "cell_type": "markdown",
   "id": "7a00681f-91b4-4307-8e09-d369692e92e7",
   "metadata": {},
   "source": [
    "### Cross_hmax_250 068"
   ]
  },
  {
   "cell_type": "code",
   "execution_count": null,
   "id": "bd57d57a-5724-4f41-a9b2-9f15c03bbaa6",
   "metadata": {
    "ExecuteTime": {
     "end_time": "2023-08-22T12:25:48.294242Z",
     "start_time": "2023-08-22T12:25:48.230381Z"
    },
    "execution": {
     "iopub.status.busy": "2025-06-13T11:53:11.129279Z",
     "iopub.status.idle": "2025-06-13T11:53:11.129279Z",
     "shell.execute_reply": "2025-06-13T11:53:11.129279Z",
     "shell.execute_reply.started": "2025-06-13T11:53:11.129279Z"
    },
    "tags": []
   },
   "outputs": [],
   "source": [
    "# dfs.loc[code_t].ma5\n",
    "cross_hmax_250 = [co for co in df_masklastd.index.get_level_values(\n",
    "    'code') if co in df_mask_hmax.index.get_level_values('code')]\n",
    "# df_mask250.loc[code_t]\n",
    "print(\"cross_hamx:%s\" % (len(cross_hmax_250)))\n",
    "show_tdx_data(df_masklastd.loc[cross_hmax_250][:5])"
   ]
  },
  {
   "cell_type": "code",
   "execution_count": null,
   "id": "ce592024-63c8-404b-afff-bf8b0a0b401d",
   "metadata": {
    "ExecuteTime": {
     "end_time": "2023-08-22T12:25:53.858750Z",
     "start_time": "2023-08-22T12:25:49.542670Z"
    },
    "execution": {
     "iopub.status.busy": "2025-06-13T11:53:11.129279Z",
     "iopub.status.idle": "2025-06-13T11:53:11.130277Z",
     "shell.execute_reply": "2025-06-13T11:53:11.130277Z",
     "shell.execute_reply.started": "2025-06-13T11:53:11.129279Z"
    },
    "tags": []
   },
   "outputs": [],
   "source": [
    "print(\"df_mask250:%s\"%(len(cross_hmax_250)))\n",
    "# dfs.loc['000002'].shape\n",
    "for co in cross_hmax_250[-10:]:\n",
    "    print(co,dfs.loc[co].ra_diff[-1])\n",
    "    show_ohlc_upper(dfsRoot.loc[co][-60:],code=co)"
   ]
  },
  {
   "cell_type": "markdown",
   "id": "2552024c-67c8-49ea-a652-1f989c7eefb5",
   "metadata": {},
   "source": [
    "## 写入061"
   ]
  },
  {
   "cell_type": "code",
   "execution_count": null,
   "id": "2cf514bd-2c2c-474a-86b7-52da0abc74f3",
   "metadata": {
    "ExecuteTime": {
     "end_time": "2023-08-22T12:26:30.307426Z",
     "start_time": "2023-08-22T12:26:26.194707Z"
    },
    "execution": {
     "iopub.status.busy": "2025-06-13T11:53:11.131273Z",
     "iopub.status.idle": "2025-06-13T11:53:11.131273Z",
     "shell.execute_reply": "2025-06-13T11:53:11.131273Z",
     "shell.execute_reply.started": "2025-06-13T11:53:11.131273Z"
    },
    "tags": []
   },
   "outputs": [],
   "source": [
    "# write_code_to_blk(df_masklastd.index.tolist(),'061')\n",
    "# hmax_code = df_mask_hmax[(df_mask_hmax.couts > 1) & (df_mask_hmax.volsum5d > 10) & (df_mask_hmax.volsum5d < 150)].index.tolist()\n",
    "hmax_code = df_mask_hmax[(df_mask_hmax.couts > 1) ].index.tolist()\n",
    "\n",
    "# write_code_to_blk(cross_hmax_250,'068')\n",
    "# write_code_to_blk(hmax_code,'061')"
   ]
  },
  {
   "cell_type": "code",
   "execution_count": null,
   "id": "bc6c6c95-d02b-4847-bc56-15b1c7608561",
   "metadata": {
    "execution": {
     "iopub.status.busy": "2025-06-13T11:53:11.132272Z",
     "iopub.status.idle": "2025-06-13T11:53:11.132272Z",
     "shell.execute_reply": "2025-06-13T11:53:11.132272Z",
     "shell.execute_reply.started": "2025-06-13T11:53:11.132272Z"
    },
    "tags": []
   },
   "outputs": [],
   "source": [
    "# print(df_masklastd.loc['301255'].date)"
   ]
  },
  {
   "cell_type": "markdown",
   "id": "e93b572b-2743-4bee-a153-d2b211929920",
   "metadata": {},
   "source": [
    "# 默认年线筛选"
   ]
  },
  {
   "cell_type": "code",
   "execution_count": null,
   "id": "2cf71b93-63b0-483f-a393-0d7eb05fa35d",
   "metadata": {
    "ExecuteTime": {
     "end_time": "2023-08-22T12:26:36.613448Z",
     "start_time": "2023-08-22T12:26:36.605470Z"
    },
    "execution": {
     "iopub.status.busy": "2025-06-13T11:53:11.133269Z",
     "iopub.status.idle": "2025-06-13T11:53:11.134266Z",
     "shell.execute_reply": "2025-06-13T11:53:11.133269Z",
     "shell.execute_reply.started": "2025-06-13T11:53:11.133269Z"
    },
    "tags": []
   },
   "outputs": [],
   "source": [
    "top_temp.shape\n",
    "top_temp.index"
   ]
  },
  {
   "cell_type": "markdown",
   "id": "c47595fd-7932-4f53-af6e-bff675c6326a",
   "metadata": {},
   "source": [
    "## plt.close('all')"
   ]
  },
  {
   "cell_type": "code",
   "execution_count": null,
   "id": "611f7fb6-28b0-40be-b6e0-b448b368443e",
   "metadata": {
    "ExecuteTime": {
     "end_time": "2023-08-22T12:26:39.290740Z",
     "start_time": "2023-08-22T12:26:39.275778Z"
    },
    "execution": {
     "iopub.status.busy": "2025-06-13T11:53:11.134266Z",
     "iopub.status.idle": "2025-06-13T11:53:11.135263Z",
     "shell.execute_reply": "2025-06-13T11:53:11.135263Z",
     "shell.execute_reply.started": "2025-06-13T11:53:11.135263Z"
    },
    "tags": []
   },
   "outputs": [],
   "source": [
    "# plt.close('all')"
   ]
  },
  {
   "cell_type": "markdown",
   "id": "efea7ae4-2207-47f9-b33b-9ee6bf7ca875",
   "metadata": {},
   "source": [
    "# 写入060"
   ]
  },
  {
   "cell_type": "raw",
   "id": "0fd9fcb1-f9f4-476a-9e0c-1d077cab05c9",
   "metadata": {
    "execution": {
     "iopub.execute_input": "2023-02-10T07:32:48.586601Z",
     "iopub.status.busy": "2023-02-10T07:32:48.585604Z",
     "iopub.status.idle": "2023-02-10T07:32:52.224872Z",
     "shell.execute_reply": "2023-02-10T07:32:52.223875Z",
     "shell.execute_reply.started": "2023-02-10T07:32:48.586601Z"
    },
    "tags": []
   },
   "source": [
    "if app:\n",
    "    print(\"Write blk:%s\" % (block_path))\n",
    "    hdf5_wri = cct.cct_raw_input(\"rewrite code [Y] or append [N]:\")\n",
    "    if len(hdf5_wri) == 0:\n",
    "        pass\n",
    "    elif hdf5_wri == 'y' or hdf5_wri == 'Y':\n",
    "        append_status = False\n",
    "    else:\n",
    "        append_status = True\n",
    "else:\n",
    "    append_status = False\n",
    "\n",
    "if hdf5_wri == 'y' and len(codew) > 10:\n",
    "    cct.write_to_blocknew(\n",
    "        block_path, codew, append_status, doubleFile=False, keep_last=0)\n",
    "    print(\"write:%s block_path:%s\" % (len(codew), block_path))\n",
    "else:\n",
    "    print(\"write error:%s block_path:%s\" % (len(codew), block_path))"
   ]
  },
  {
   "cell_type": "code",
   "execution_count": null,
   "id": "0e04cba1-4cf6-449d-8ee3-7aa0c5187ed1",
   "metadata": {},
   "outputs": [],
   "source": []
  },
  {
   "cell_type": "code",
   "execution_count": null,
   "id": "e1a52399-7736-43fd-a996-72e7e7cdac32",
   "metadata": {
    "tags": []
   },
   "outputs": [],
   "source": []
  }
 ],
 "metadata": {
  "kernelspec": {
   "display_name": "python3.9",
   "language": "python",
   "name": "python3"
  },
  "language_info": {
   "codemirror_mode": {
    "name": "ipython",
    "version": 3
   },
   "file_extension": ".py",
   "mimetype": "text/x-python",
   "name": "python",
   "nbconvert_exporter": "python",
   "pygments_lexer": "ipython3",
   "version": "3.9.13"
  },
  "nbTranslate": {
   "displayLangs": [
    "*"
   ],
   "hotkey": "alt-t",
   "langInMainMenu": true,
   "sourceLang": "en",
   "targetLang": "fr",
   "useGoogleTranslate": true
  },
  "toc": {
   "colors": {
    "hover_highlight": "#DAA520",
    "running_highlight": "#FF0000",
    "selected_highlight": "#FFD700"
   },
   "moveMenuLeft": true,
   "nav_menu": {
    "height": "511.467px",
    "width": "251.467px"
   },
   "navigate_menu": true,
   "number_sections": true,
   "sideBar": true,
   "threshold": 4,
   "toc_cell": false,
   "toc_position": {
    "height": "502.6px",
    "left": "0px",
    "right": "915.667px",
    "top": "158.4px",
    "width": "265px"
   },
   "toc_section_display": "block",
   "toc_window_display": true,
   "widenNotebook": false
  },
  "varInspector": {
   "cols": {
    "lenName": 16,
    "lenType": 16,
    "lenVar": 40
   },
   "kernels_config": {
    "python": {
     "delete_cmd_postfix": "",
     "delete_cmd_prefix": "del ",
     "library": "var_list.py",
     "varRefreshCmd": "print(var_dic_list())"
    },
    "r": {
     "delete_cmd_postfix": ") ",
     "delete_cmd_prefix": "rm(",
     "library": "var_list.r",
     "varRefreshCmd": "cat(var_dic_list()) "
    }
   },
   "position": {
    "height": "349.85px",
    "left": "820.667px",
    "right": "20px",
    "top": "122px",
    "width": "350px"
   },
   "types_to_exclude": [
    "module",
    "function",
    "builtin_function_or_method",
    "instance",
    "_Feature"
   ],
   "window_display": true
  },
  "widgets": {
   "application/vnd.jupyter.widget-state+json": {
    "state": {},
    "version_major": 2,
    "version_minor": 0
   }
  }
 },
 "nbformat": 4,
 "nbformat_minor": 5
}
