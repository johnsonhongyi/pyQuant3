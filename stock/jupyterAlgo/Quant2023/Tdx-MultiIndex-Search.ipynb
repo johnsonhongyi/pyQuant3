{
 "cells": [
  {
   "cell_type": "markdown",
   "id": "32ce779d-aea1-4664-b6de-679f44ff0690",
   "metadata": {},
   "source": [
    "# Init Tdx "
   ]
  },
  {
   "cell_type": "code",
   "execution_count": 3,
   "id": "00387fb9-4e80-404a-b511-78e795b7f07d",
   "metadata": {
    "ExecuteTime": {
     "end_time": "2025-06-15T15:03:01.805375Z",
     "start_time": "2025-06-15T15:03:01.788934Z"
    },
    "execution": {
     "iopub.execute_input": "2025-06-13T11:52:27.648535Z",
     "iopub.status.busy": "2025-06-13T11:52:27.648535Z",
     "iopub.status.idle": "2025-06-13T11:52:29.752891Z",
     "shell.execute_reply": "2025-06-13T11:52:29.751927Z",
     "shell.execute_reply.started": "2025-06-13T11:52:27.648535Z"
    },
    "tags": []
   },
   "outputs": [
    {
     "data": {
      "text/plain": [
       "'module://ipympl.backend_nbagg'"
      ]
     },
     "execution_count": 3,
     "metadata": {},
     "output_type": "execute_result"
    }
   ],
   "source": [
    "# import logging\n",
    "import sys\n",
    "\n",
    "# stdout=sys.stdout\n",
    "sys.path.append('../../')\n",
    "import os\n",
    "import random\n",
    "import time\n",
    "\n",
    "import matplotlib\n",
    "import matplotlib.pyplot as plt\n",
    "import mplfinance as mpf\n",
    "# pip install --upgrade mplfinance\n",
    "# sys.stdout=stdout\n",
    "import numpy as np\n",
    "# import numpy as np\n",
    "import pandas as pd\n",
    "from JohnsonUtil import commonTips as cct\n",
    "from JSONData import sina_data\n",
    "from JSONData import tdx_data_Day as tdd\n",
    "from mplfinance.original_flavor import candlestick_ohlc\n",
    "\n",
    "# from JSONData import tdx_hdf5_api as h5a\n",
    "\n",
    "%matplotlib widget\n",
    "plt.rc('font', family='SimHei', size=13)\n",
    "matplotlib.get_backend()\n",
    "# jupyter nbextension enable --py widgetsnbextension\n",
    "\n",
    "os.environ['NUMEXPR_MAX_THREADS'] = '12'\n",
    "from IPython.core.interactiveshell import InteractiveShell\n",
    "\n",
    "InteractiveShell.ast_node_interactivity = \"all\"\n",
    "import nest_asyncio\n",
    "\n",
    "nest_asyncio.apply()"
   ]
  },
  {
   "cell_type": "code",
   "execution_count": 4,
   "id": "785713a8-f795-4fc1-a763-518cdec2ab60",
   "metadata": {
    "ExecuteTime": {
     "end_time": "2025-06-15T15:03:04.399285Z",
     "start_time": "2025-06-15T15:03:04.394987Z"
    },
    "execution": {
     "iopub.execute_input": "2025-06-13T11:52:29.753887Z",
     "iopub.status.busy": "2025-06-13T11:52:29.753887Z",
     "iopub.status.idle": "2025-06-13T11:52:29.768848Z",
     "shell.execute_reply": "2025-06-13T11:52:29.767851Z",
     "shell.execute_reply.started": "2025-06-13T11:52:29.753887Z"
    },
    "tags": []
   },
   "outputs": [],
   "source": [
    "block_path = tdd.get_tdx_dir_blocknew() + '060.blk'"
   ]
  },
  {
   "cell_type": "markdown",
   "id": "3b6d813f-bac8-497d-a2d6-65670665f066",
   "metadata": {
    "tags": []
   },
   "source": [
    "## 功能定义DEF"
   ]
  },
  {
   "cell_type": "markdown",
   "id": "73b185cf-94a7-44f7-a4a5-61c30decfac3",
   "metadata": {},
   "source": [
    "### ra_diff\n"
   ]
  },
  {
   "cell_type": "code",
   "execution_count": 5,
   "id": "427cedf2-6767-43f8-b0aa-090af91174af",
   "metadata": {
    "ExecuteTime": {
     "end_time": "2025-06-15T15:03:07.101600Z",
     "start_time": "2025-06-15T15:03:07.096741Z"
    },
    "execution": {
     "iopub.execute_input": "2025-06-13T11:52:29.769843Z",
     "iopub.status.busy": "2025-06-13T11:52:29.769843Z",
     "iopub.status.idle": "2025-06-13T11:52:29.782808Z",
     "shell.execute_reply": "2025-06-13T11:52:29.782808Z",
     "shell.execute_reply.started": "2025-06-13T11:52:29.769843Z"
    },
    "tags": []
   },
   "outputs": [],
   "source": [
    "def ra_diff(df):\n",
    "    df['ra_diff'] = df.close.apply(lambda x: round(x / df.close.min(), 2))\n",
    "    return df"
   ]
  },
  {
   "cell_type": "markdown",
   "id": "80825a70-f650-41a6-aacf-985ce582f172",
   "metadata": {},
   "source": [
    "### bullish 测算"
   ]
  },
  {
   "cell_type": "code",
   "execution_count": 6,
   "id": "6585ca58-01e4-4081-8dd1-68376e93f2b0",
   "metadata": {
    "ExecuteTime": {
     "end_time": "2025-06-15T15:03:08.723466Z",
     "start_time": "2025-06-15T15:03:08.351144Z"
    },
    "execution": {
     "iopub.execute_input": "2025-06-13T11:52:29.785802Z",
     "iopub.status.busy": "2025-06-13T11:52:29.785802Z",
     "iopub.status.idle": "2025-06-13T11:52:30.061111Z",
     "shell.execute_reply": "2025-06-13T11:52:30.060106Z",
     "shell.execute_reply.started": "2025-06-13T11:52:29.785802Z"
    },
    "tags": []
   },
   "outputs": [
    {
     "data": {
      "text/plain": [
       "(10.59, '2025-03-24')"
      ]
     },
     "execution_count": 6,
     "metadata": {},
     "output_type": "execute_result"
    },
    {
     "data": {
      "text/plain": [
       "(9.98,\n",
       " 54    2025-06-13\n",
       " Name: date, dtype: object)"
      ]
     },
     "execution_count": 6,
     "metadata": {},
     "output_type": "execute_result"
    },
    {
     "name": "stdout",
     "output_type": "stream",
     "text": [
      "9 -0.0 -0.02\n",
      "Bear\n",
      "-0.02\n"
     ]
    }
   ],
   "source": [
    "import numpy as np\n",
    "\n",
    "\n",
    "def calculate_slope(data):\n",
    "    # Calculate the slope of the line that connects two points\n",
    "    slope = round((data[1] - data[0]) / (1), 2)\n",
    "    return slope\n",
    "\n",
    "\n",
    "def detect_bull_bear(price_data, window=10):\n",
    "    # Calculate the slopes of the price data for the last `window` days\n",
    "    slopes = []\n",
    "    for i in range(len(price_data) - window, len(price_data) - 1):\n",
    "        slope = calculate_slope([price_data[i], price_data[i + 1]])\n",
    "        # print(slope)\n",
    "        slopes.append(slope)\n",
    "\n",
    "    # Compare the current slope with the average slope of the last `window` days\n",
    "    avg_slope = round(np.mean(slopes), 2)\n",
    "    curr_slope = calculate_slope([price_data[-window], price_data[-1]])\n",
    "    print(len(slopes), avg_slope, curr_slope)\n",
    "\n",
    "    if curr_slope > avg_slope:\n",
    "        # return \"Bullish\"\n",
    "        return \"Bull\"\n",
    "    else:\n",
    "        return \"Bear\"\n",
    "\n",
    "\n",
    "def detect_bull_bear_apply(price_data, window=10):\n",
    "    # Calculate the slopes of the price data for the last `window` days\n",
    "    slopes = []\n",
    "    # try:\n",
    "    if len(price_data) > 20:\n",
    "        for i in range(len(price_data) - window, len(price_data) - 1):\n",
    "            slope = calculate_slope([price_data[i], price_data[i + 1]])\n",
    "            # print(slope)\n",
    "            slopes.append(slope)\n",
    "\n",
    "        # Compare the current slope with the average slope of the last `window` days\n",
    "        avg_slope = round(np.mean(slopes), 2)\n",
    "        curr_slope = calculate_slope([price_data[-window], price_data[-1]])\n",
    "        # print(len(slopes), avg_slope, curr_slope)\n",
    "\n",
    "        # if curr_slope > avg_slope:\n",
    "        #     # return \"Bullish\"\n",
    "        #     return \"Bull\"\n",
    "        # else:\n",
    "        #     return \"Bear\"\n",
    "        return curr_slope\n",
    "    else:\n",
    "        return round((price_data[-1] - price_data[0]) / (1), 2)\n",
    "\n",
    "\n",
    "code = '601360'\n",
    "# Example usage\n",
    "# price_data = [100, 95, 97, 99, 102, 105, 108, 111,1]\n",
    "dfc = tdd.get_tdx_Exp_day_to_df(\n",
    "    code, dl=60, resample='d').sort_index(\n",
    "    ascending=True).reset_index()\n",
    "# dfc = get_sina_data_cname(dfc)\n",
    "price_data = dfc.close.values.tolist()\n",
    "price_data[1], dfc.date[0]\n",
    "price_data[-1], dfc.date[-1:]\n",
    "print(detect_bull_bear(price_data))\n",
    "print(detect_bull_bear_apply(price_data))\n",
    "\n",
    "# Output: \"Bullish\""
   ]
  },
  {
   "cell_type": "markdown",
   "id": "250165a5-e663-441e-b405-db14483e24e6",
   "metadata": {
    "tags": []
   },
   "source": [
    "### regression_line(X, Y)\n",
    "regression_ratio(df, window=10):"
   ]
  },
  {
   "cell_type": "code",
   "execution_count": 7,
   "id": "58680ccb-b1c7-48cc-95dc-2f7ee2fb40a7",
   "metadata": {
    "ExecuteTime": {
     "end_time": "2025-06-15T15:03:10.267980Z",
     "start_time": "2025-06-15T15:03:10.059321Z"
    },
    "execution": {
     "iopub.execute_input": "2025-06-13T11:52:30.062064Z",
     "iopub.status.busy": "2025-06-13T11:52:30.062064Z",
     "iopub.status.idle": "2025-06-13T11:52:30.196703Z",
     "shell.execute_reply": "2025-06-13T11:52:30.195708Z",
     "shell.execute_reply.started": "2025-06-13T11:52:30.062064Z"
    },
    "tags": []
   },
   "outputs": [
    {
     "name": "stdout",
     "output_type": "stream",
     "text": [
      "10.12 0.0\n",
      "Above\n",
      "0.0\n"
     ]
    },
    {
     "data": {
      "application/vnd.jupyter.widget-view+json": {
       "model_id": "f9d7446076994124bf938ad5dd92b6e1",
       "version_major": 2,
       "version_minor": 0
      },
      "image/png": "[encoded data removed]",
      "text/html": [
       "\n",
       "            <div style=\"display: inline-block;\">\n",
       "                <div class=\"jupyter-widgets widget-label\" style=\"text-align: center;\">\n",
       "                    Figure\n",
       "                </div>\n",
       "                <img src='data:image/png;base64,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' width=640.0/>\n",
       "            </div>\n",
       "        "
      ],
      "text/plain": [
       "Canvas(toolbar=Toolbar(toolitems=[('Home', 'Reset original view', 'home', 'home'), ('Back', 'Back to previous …"
      ]
     },
     "metadata": {},
     "output_type": "display_data"
    }
   ],
   "source": [
    "\n",
    "\n",
    "def regression_line(X, Y, limit=10,showall=False):\n",
    "    # Calculate the coefficients of the regression line\n",
    "    if not showall:\n",
    "        X = X[-limit:]\n",
    "        Y = Y[-limit:]\n",
    "    n = len(X)\n",
    "    sum_x = np.sum(X)\n",
    "    sum_y = np.sum(Y)\n",
    "    sum_xy = np.sum(X * Y)\n",
    "    sum_xx = np.sum(X * X)\n",
    "    a = round((sum_y * sum_xx - sum_x * sum_xy) / (n * sum_xx - sum_x * sum_x), 2)\n",
    "    b = round((n * sum_xy - sum_x * sum_y) / (n * sum_xx - sum_x * sum_x), 2)\n",
    "    return a, b\n",
    "\n",
    "\n",
    "def regression_ratio(df, window=10):\n",
    "    # Calculate the coefficients of the regression line\n",
    "    if isinstance(df, pd.Series):\n",
    "        # Y = df.values[-window:]\n",
    "        # X = df.reset_index().index[-window:]\n",
    "        Y = df.values\n",
    "        X = df.reset_index().index\n",
    "    else:\n",
    "        if 'close' in df.columns:\n",
    "            df = df.reset_index()\n",
    "            # X = df.index[-limit:]\n",
    "            # Y = df.close[-limit:]\n",
    "            X = df.index\n",
    "            Y = df.close\n",
    "        else:\n",
    "            # Y = df.values[-limit:]\n",
    "            # X = df.reset_index().index[-limit:]\n",
    "            Y = df.values\n",
    "            X = df.reset_index().index\n",
    "            \n",
    "    n = len(X)\n",
    "    sum_x = np.sum(X)\n",
    "    sum_y = np.sum(Y)\n",
    "    sum_xy = np.sum(X * Y)\n",
    "    sum_xx = np.sum(X * X)\n",
    "    # a = round((sum_y * sum_xx - sum_x * sum_xy) / (n * sum_xx - sum_x * sum_x),2)\n",
    "    b = round((n * sum_xy - sum_x * sum_y) / (n * sum_xx - sum_x * sum_x), 2)\n",
    "    return b\n",
    "\n",
    "\n",
    "def predict_price(time, a, b):\n",
    "    # Predict the price using the regression line\n",
    "    price = a + b * time\n",
    "    return price\n",
    "\n",
    "\n",
    "def plot_regression_line(X, Y, a, b):\n",
    "    # Plot the regression line\n",
    "    # plt.close()\n",
    "    plt.scatter(X, Y)\n",
    "    plt.plot(X, a + b * X, color=\"red\")\n",
    "    plt.show()\n",
    "\n",
    "\n",
    "def detect_position(price, a, b, X):\n",
    "    # Detect the position of the current price on the regression line\n",
    "    regression_price = predict_price(X[-1], a, b)\n",
    "    if price > regression_price:\n",
    "        return \"Above\"\n",
    "    elif price < regression_price:\n",
    "        return \"Below\"\n",
    "    else:\n",
    "        return \"On\"\n",
    "\n",
    "\n",
    "# Example usage\n",
    "time_index = dfc.index\n",
    "price = dfc.close.values\n",
    "a, b = regression_line(time_index, price,showall=True)\n",
    "print(a, b)\n",
    "# Output: (100.0, 5.0)\n",
    "print(detect_position(132, a, b, time_index))\n",
    "print(regression_ratio(dfc))\n",
    "plot_regression_line(time_index, price, a, b)\n",
    "\n",
    "# print(detect_position(132, a, b, time))\n",
    "# Output: \"On\""
   ]
  },
  {
   "cell_type": "code",
   "execution_count": 8,
   "id": "5f27ec65-cd0a-4070-bec1-81763f9d5666",
   "metadata": {
    "ExecuteTime": {
     "end_time": "2025-06-15T15:03:10.716565Z",
     "start_time": "2025-06-15T15:03:10.629341Z"
    },
    "execution": {
     "iopub.execute_input": "2025-06-13T11:52:30.197701Z",
     "iopub.status.busy": "2025-06-13T11:52:30.197701Z",
     "iopub.status.idle": "2025-06-13T11:52:30.289455Z",
     "shell.execute_reply": "2025-06-13T11:52:30.288458Z",
     "shell.execute_reply.started": "2025-06-13T11:52:30.197701Z"
    },
    "tags": []
   },
   "outputs": [
    {
     "name": "stdout",
     "output_type": "stream",
     "text": [
      "10.12 0.0\n",
      "Above\n",
      "0.0\n"
     ]
    },
    {
     "data": {
      "application/vnd.jupyter.widget-view+json": {
       "model_id": "f9d7446076994124bf938ad5dd92b6e1",
       "version_major": 2,
       "version_minor": 0
      },
      "image/png": "[encoded data removed]",
      "text/html": [
       "\n",
       "            <div style=\"display: inline-block;\">\n",
       "                <div class=\"jupyter-widgets widget-label\" style=\"text-align: center;\">\n",
       "                    Figure 1\n",
       "                </div>\n",
       "                <img src='data:image/png;base64,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' width=640.0/>\n",
       "            </div>\n",
       "        "
      ],
      "text/plain": [
       "Canvas(toolbar=Toolbar(toolitems=[('Home', 'Reset original view', 'home', 'home'), ('Back', 'Back to previous …"
      ]
     },
     "metadata": {},
     "output_type": "display_data"
    }
   ],
   "source": [
    "\n",
    "\n",
    "def regression_line(X, Y, limit=10,showall=False):\n",
    "    # Calculate the coefficients of the regression line\n",
    "    if not showall:\n",
    "        X = X[-limit:]\n",
    "        Y = Y[-limit:]\n",
    "    n = len(X)\n",
    "    sum_x = np.sum(X)\n",
    "    sum_y = np.sum(Y)\n",
    "    sum_xy = np.sum(X * Y)\n",
    "    sum_xx = np.sum(X * X)\n",
    "    a = round((sum_y * sum_xx - sum_x * sum_xy) / (n * sum_xx - sum_x * sum_x), 2)\n",
    "    b = round((n * sum_xy - sum_x * sum_y) / (n * sum_xx - sum_x * sum_x), 2)\n",
    "    return a, b\n",
    "\n",
    "\n",
    "def regression_ratio(df, window=10):\n",
    "    # Calculate the coefficients of the regression line\n",
    "    if isinstance(df, pd.Series):\n",
    "        # Y = df.values[-window:]\n",
    "        # X = df.reset_index().index[-window:]\n",
    "        Y = df.values\n",
    "        X = df.reset_index().index\n",
    "    else:\n",
    "        if 'close' in df.columns:\n",
    "            df = df.reset_index()\n",
    "            # X = df.index[-limit:]\n",
    "            # Y = df.close[-limit:]\n",
    "            X = df.index\n",
    "            Y = df.close\n",
    "        else:\n",
    "            # Y = df.values[-limit:]\n",
    "            # X = df.reset_index().index[-limit:]\n",
    "            Y = df.values\n",
    "            X = df.reset_index().index\n",
    "            \n",
    "    n = len(X)\n",
    "    sum_x = np.sum(X)\n",
    "    sum_y = np.sum(Y)\n",
    "    sum_xy = np.sum(X * Y)\n",
    "    sum_xx = np.sum(X * X)\n",
    "    # a = round((sum_y * sum_xx - sum_x * sum_xy) / (n * sum_xx - sum_x * sum_x),2)\n",
    "    b = round((n * sum_xy - sum_x * sum_y) / (n * sum_xx - sum_x * sum_x), 2)\n",
    "    return b\n",
    "\n",
    "\n",
    "def predict_price(time, a, b):\n",
    "    # Predict the price using the regression line\n",
    "    price = a + b * time\n",
    "    return price\n",
    "\n",
    "\n",
    "def plot_regression_line(X, Y, a, b):\n",
    "    # Plot the regression line\n",
    "    # plt.close()\n",
    "    plt.scatter(X, Y)\n",
    "    plt.plot(X, a + b * X, color=\"red\")\n",
    "    plt.show()\n",
    "\n",
    "\n",
    "def detect_position(price, a, b, X):\n",
    "    # Detect the position of the current price on the regression line\n",
    "    regression_price = predict_price(X[-1], a, b)\n",
    "    if price > regression_price:\n",
    "        return \"Above\"\n",
    "    elif price < regression_price:\n",
    "        return \"Below\"\n",
    "    else:\n",
    "        return \"On\"\n",
    "\n",
    "\n",
    "# Example usage\n",
    "time_index = dfc.index\n",
    "price = dfc.close.values\n",
    "a, b = regression_line(time_index, price,showall=True)\n",
    "print(a, b)\n",
    "# Output: (100.0, 5.0)\n",
    "print(detect_position(132, a, b, time_index))\n",
    "print(regression_ratio(dfc))\n",
    "plot_regression_line(time_index, price, a, b)\n",
    "\n",
    "# print(detect_position(132, a, b, time))\n",
    "# Output: \"On\""
   ]
  },
  {
   "cell_type": "code",
   "execution_count": 9,
   "id": "7cbaabc8-35ea-4bcd-8b89-195e8937dacf",
   "metadata": {
    "ExecuteTime": {
     "end_time": "2025-06-15T15:03:10.727091Z",
     "start_time": "2025-06-15T15:03:10.719951Z"
    },
    "execution": {
     "iopub.execute_input": "2025-06-13T11:52:30.292446Z",
     "iopub.status.busy": "2025-06-13T11:52:30.292446Z",
     "iopub.status.idle": "2025-06-13T11:52:30.304415Z",
     "shell.execute_reply": "2025-06-13T11:52:30.303419Z",
     "shell.execute_reply.started": "2025-06-13T11:52:30.292446Z"
    },
    "tags": []
   },
   "outputs": [
    {
     "data": {
      "text/plain": [
       "Index(['date', 'code', 'open', 'high', 'low', 'close', 'vol', 'amount', 'ma5d',\n",
       "       'ma10d',\n",
       "       ...\n",
       "       'low4', 'lastdu4', 'macddif', 'macddea', 'macdlast1', 'macdlast2',\n",
       "       'macdlast3', 'macdlast4', 'macdlast5', 'macdlast6'],\n",
       "      dtype='object', length=172)"
      ]
     },
     "execution_count": 9,
     "metadata": {},
     "output_type": "execute_result"
    }
   ],
   "source": [
    "dfc.columns"
   ]
  },
  {
   "cell_type": "markdown",
   "id": "34e4bb77-e170-4b6b-93d1-5f326584730a",
   "metadata": {},
   "source": [
    "### check_postion_vol_price"
   ]
  },
  {
   "cell_type": "code",
   "execution_count": 10,
   "id": "7b1e4910-7c64-4b85-b219-b0b90786579d",
   "metadata": {
    "ExecuteTime": {
     "end_time": "2025-06-15T15:03:33.264668Z",
     "start_time": "2025-06-15T15:03:31.136077Z"
    },
    "execution": {
     "iopub.execute_input": "2025-06-13T11:52:30.306412Z",
     "iopub.status.busy": "2025-06-13T11:52:30.306412Z",
     "iopub.status.idle": "2025-06-13T11:52:31.225951Z",
     "shell.execute_reply": "2025-06-13T11:52:31.224989Z",
     "shell.execute_reply.started": "2025-06-13T11:52:30.306412Z"
    },
    "tags": []
   },
   "outputs": [
    {
     "data": {
      "text/html": [
       "<div>\n",
       "<style scoped>\n",
       "    .dataframe tbody tr th:only-of-type {\n",
       "        vertical-align: middle;\n",
       "    }\n",
       "\n",
       "    .dataframe tbody tr th {\n",
       "        vertical-align: top;\n",
       "    }\n",
       "\n",
       "    .dataframe thead th {\n",
       "        text-align: right;\n",
       "    }\n",
       "</style>\n",
       "<table border=\"1\" class=\"dataframe\">\n",
       "  <thead>\n",
       "    <tr style=\"text-align: right;\">\n",
       "      <th></th>\n",
       "      <th>date</th>\n",
       "      <th>code</th>\n",
       "      <th>open</th>\n",
       "      <th>high</th>\n",
       "      <th>low</th>\n",
       "      <th>close</th>\n",
       "      <th>vol</th>\n",
       "      <th>amount</th>\n",
       "      <th>ma5d</th>\n",
       "      <th>ma10d</th>\n",
       "      <th>...</th>\n",
       "      <th>lastdu4</th>\n",
       "      <th>macddif</th>\n",
       "      <th>macddea</th>\n",
       "      <th>macdlast1</th>\n",
       "      <th>macdlast2</th>\n",
       "      <th>macdlast3</th>\n",
       "      <th>macdlast4</th>\n",
       "      <th>macdlast5</th>\n",
       "      <th>macdlast6</th>\n",
       "      <th>Positon</th>\n",
       "    </tr>\n",
       "  </thead>\n",
       "  <tbody>\n",
       "    <tr>\n",
       "      <th>54</th>\n",
       "      <td>2025-06-13</td>\n",
       "      <td>601360</td>\n",
       "      <td>10.08</td>\n",
       "      <td>10.13</td>\n",
       "      <td>9.93</td>\n",
       "      <td>9.98</td>\n",
       "      <td>77086100.0</td>\n",
       "      <td>773173583.0</td>\n",
       "      <td>10.28</td>\n",
       "      <td>10.23</td>\n",
       "      <td>...</td>\n",
       "      <td>1.042157</td>\n",
       "      <td>0.01</td>\n",
       "      <td>0.01</td>\n",
       "      <td>-0.01</td>\n",
       "      <td>0.04</td>\n",
       "      <td>0.07</td>\n",
       "      <td>0.08</td>\n",
       "      <td>0.09</td>\n",
       "      <td>0.04</td>\n",
       "      <td>Neutral</td>\n",
       "    </tr>\n",
       "  </tbody>\n",
       "</table>\n",
       "<p>1 rows × 173 columns</p>\n",
       "</div>"
      ],
      "text/plain": [
       "          date    code   open   high   low  close         vol       amount  \\\n",
       "54  2025-06-13  601360  10.08  10.13  9.93   9.98  77086100.0  773173583.0   \n",
       "\n",
       "     ma5d  ma10d  ...   lastdu4  macddif  macddea  macdlast1  macdlast2  \\\n",
       "54  10.28  10.23  ...  1.042157     0.01     0.01      -0.01       0.04   \n",
       "\n",
       "    macdlast3  macdlast4  macdlast5  macdlast6  Positon  \n",
       "54       0.07       0.08       0.09       0.04  Neutral  \n",
       "\n",
       "[1 rows x 173 columns]"
      ]
     },
     "execution_count": 10,
     "metadata": {},
     "output_type": "execute_result"
    }
   ],
   "source": [
    "from sklearn.linear_model import LinearRegression\n",
    "\n",
    "\n",
    "def check_postion_vol_price(df):\n",
    "    # 加载数据\n",
    "    # df = pd.read_csv(\"data.csv\")\n",
    "\n",
    "    # 创建输入数据\n",
    "    X = df[[\"close\", \"vol\"]].values\n",
    "    y = df[\"close\"].values\n",
    "\n",
    "    # 训练回归模型\n",
    "    reg = LinearRegression().fit(X, y)\n",
    "\n",
    "    # 计算斜率和截距\n",
    "    slope = reg.coef_[0]\n",
    "    intercept = reg.intercept_\n",
    "\n",
    "    # 计算上轨和下轨\n",
    "    upper_band = slope * df[\"close\"] + intercept + 2 * df[\"vol\"]\n",
    "    lower_band = slope * df[\"close\"] + intercept - 2 * df[\"vol\"]\n",
    "\n",
    "    # 判断价格是否在通道内\n",
    "    df[\"Positon\"] = np.where(\n",
    "        df[\"close\"] > upper_band, \"Long\", np.where(\n",
    "            df[\"close\"] < lower_band, \"Short\", \"Neutral\"))\n",
    "    return df\n",
    "\n",
    "\n",
    "dfc = check_postion_vol_price(dfc)\n",
    "dfc[-1:]"
   ]
  },
  {
   "cell_type": "code",
   "execution_count": 11,
   "id": "8cd8b2a9-e374-475a-9e92-270121c3d2d7",
   "metadata": {
    "ExecuteTime": {
     "end_time": "2025-06-15T15:05:14.372814Z",
     "start_time": "2025-06-15T15:05:14.356466Z"
    },
    "execution": {
     "iopub.execute_input": "2025-06-13T11:52:31.226948Z",
     "iopub.status.busy": "2025-06-13T11:52:31.226948Z",
     "iopub.status.idle": "2025-06-13T11:52:31.255872Z",
     "shell.execute_reply": "2025-06-13T11:52:31.255872Z",
     "shell.execute_reply.started": "2025-06-13T11:52:31.226948Z"
    },
    "tags": []
   },
   "outputs": [
    {
     "data": {
      "text/plain": [
       "Index(['date', 'code', 'open', 'high', 'low', 'close', 'vol', 'amount', 'ma5d',\n",
       "       'ma10d',\n",
       "       ...\n",
       "       'lastdu4', 'macddif', 'macddea', 'macdlast1', 'macdlast2', 'macdlast3',\n",
       "       'macdlast4', 'macdlast5', 'macdlast6', 'Positon'],\n",
       "      dtype='object', length=173)"
      ]
     },
     "execution_count": 11,
     "metadata": {},
     "output_type": "execute_result"
    },
    {
     "data": {
      "text/plain": [
       "0    2025-03-24\n",
       "1    2025-03-25\n",
       "2    2025-03-26\n",
       "Name: date, dtype: object"
      ]
     },
     "execution_count": 11,
     "metadata": {},
     "output_type": "execute_result"
    },
    {
     "data": {
      "text/plain": [
       "54   2025-06-13\n",
       "Name: date, dtype: datetime64[ns]"
      ]
     },
     "execution_count": 11,
     "metadata": {},
     "output_type": "execute_result"
    }
   ],
   "source": [
    "\n",
    "# dfc=  dfc.rename(columns={'date': 'Date', \"open\":\"Open\",\"high\":\"High\",\"low\": \"Low\",\"close\":\"Close\"})\n",
    "dfc.columns\n",
    "# dfc[[\"Date\", \"Open\", \"High\", \"Low\", \"Close\"]][-2:]\n",
    "dfc.date[:3]\n",
    "dfc.date = pd.to_datetime(dfc.date)\n",
    "# dfc.set_index('date')\n",
    "dfc.date[-1:]"
   ]
  },
  {
   "cell_type": "markdown",
   "id": "4b962cec-1975-4bca-b979-44f5bef0ee2b",
   "metadata": {
    "tags": []
   },
   "source": [
    "### show_ohlc_upper "
   ]
  },
  {
   "cell_type": "code",
   "execution_count": 12,
   "id": "87138dc9-fdf4-4160-a1ed-e9fc285d2ba5",
   "metadata": {
    "ExecuteTime": {
     "end_time": "2025-06-15T15:05:30.718645Z",
     "start_time": "2025-06-15T15:05:29.678555Z"
    },
    "execution": {
     "iopub.execute_input": "2025-06-13T11:52:31.260857Z",
     "iopub.status.busy": "2025-06-13T11:52:31.260857Z",
     "iopub.status.idle": "2025-06-13T11:52:31.866271Z",
     "shell.execute_reply": "2025-06-13T11:52:31.865243Z",
     "shell.execute_reply.started": "2025-06-13T11:52:31.260857Z"
    },
    "tags": []
   },
   "outputs": [
    {
     "name": "stdout",
     "output_type": "stream",
     "text": [
      "xratio:0.0 \n",
      "code: 601360\n"
     ]
    },
    {
     "data": {
      "application/vnd.jupyter.widget-view+json": {
       "model_id": "2cce1b47cc23494eba8f028d7c788b3b",
       "version_major": 2,
       "version_minor": 0
      },
      "image/png": "[encoded data removed]",
      "text/html": [
       "\n",
       "            <div style=\"display: inline-block;\">\n",
       "                <div class=\"jupyter-widgets widget-label\" style=\"text-align: center;\">\n",
       "                    Figure\n",
       "                </div>\n",
       "                <img src='data:image/png;base64,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' width=640.0/>\n",
       "            </div>\n",
       "        "
      ],
      "text/plain": [
       "Canvas(toolbar=Toolbar(toolitems=[('Home', 'Reset original view', 'home', 'home'), ('Back', 'Back to previous …"
      ]
     },
     "metadata": {},
     "output_type": "display_data"
    }
   ],
   "source": [
    "\n",
    "def show_ohlc_upper(df, code=None, allshow=True):\n",
    "    # 加载数据\n",
    "    # df = pd.read_csv(\"data.csv\")\n",
    "    # plt.close()\n",
    "    # 计算OHLC数据\n",
    "    # df = df.rename(columns={'date': 'Date', \"open\": \"Open\",\n",
    "    #                \"high\": \"High\", \"low\": \"Low\", \"close\": \"Close\"})\n",
    "    # df.Date = df.Date.apply(lambda x:str(x).replace('-',''))\n",
    "    if 'name' not in df.columns and code is not None:\n",
    "        df['name']= tdd.get_sina_data_code(code)\n",
    "    if allshow:\n",
    "        if 'ra_diff' in df.columns:\n",
    "            print(\"xratio:%s ra_diff:%s\" % (regression_ratio(df),df.ra_diff[-1]))\n",
    "        else:\n",
    "            print(\"xratio:%s \" % (regression_ratio(df)))\n",
    "    # df=df[df.upper > 0]\n",
    "    df = df.rename(columns={'vol': 'volume'})\n",
    "    df = df.reset_index()\n",
    "    # df.date = pd.to_datetime(df.index)\n",
    "    df.date = df.index\n",
    "    # print(df.Date)\n",
    "    # ohlc = df[[\"Date\", \"Open\", \"High\", \"Low\", \"Close\"]].values\n",
    "    ohlc = df[[\"date\", \"open\", \"high\", \"low\", \"close\", 'volume']].values\n",
    "\n",
    "    # 计算上轨和下轨\n",
    "    # upper_band = df[df.upper != 0].upper\n",
    "    # lower_band = df[df.lower != 0].lower\n",
    "    upper_band = df.upper\n",
    "    lower_band = df.lower\n",
    "    \n",
    "    # print(lower_band,df.lower)\n",
    "    # print(upper_band,df.upper)\n",
    "\n",
    "    if 'ma20d' in df.columns:\n",
    "        ma20d = df[df.ma20d > 0].ma20d\n",
    "    elif 'ma20' in df.columns:\n",
    "        ma20d = df[df.ma20 > 0].ma20\n",
    "    else:\n",
    "        print('not ma20 ma20d')\n",
    "    idx = len(df) - len(upper_band)\n",
    "    idx2 = len(df) - len(lower_band)\n",
    "    if idx != idx2:\n",
    "        print(idx, len(df), len(upper_band))\n",
    "        print(idx2, len(lower_band))\n",
    "\n",
    "    # 计算当前价格的位置\n",
    "    position = ['' for i in range(len(df))]\n",
    "    # print(idx,len(df) ,len(upper_band),position)\n",
    "    \n",
    "        # else:\n",
    "            # position[i] = 'Middle Band'\n",
    "    # print(position)\n",
    "    # 绘制OHLC图\n",
    "    fig, ax = plt.subplots()\n",
    "    candlestick_ohlc(ax, ohlc, width=0.6, colorup='g', colordown='r')\n",
    "\n",
    "    # 添加上轨和下轨\n",
    "    \n",
    "    for i in range(idx, len(upper_band), 1):\n",
    "        # print(df[\"close\"][i])\n",
    "        # print(upper_band[i],df[\"low\"][i])\n",
    "        # print(i,lower_band[i])\n",
    "        #error upper_band ==0.0\n",
    "        if df[\"close\"][i] > upper_band[i]:\n",
    "            position[i] = 'Upp'\n",
    "        elif df[\"low\"][i] < lower_band[i]:\n",
    "            position[i] = 'Low'\n",
    "            \n",
    "    plt.plot(upper_band.index, upper_band, 'r--', label='Upper Band')\n",
    "    plt.plot(lower_band.index, lower_band, 'g--', label='Lower Band')\n",
    "    \n",
    "    plt.plot(ma20d.index, ma20d, 'b', label='ma20')\n",
    "\n",
    "    if 'hat' in df.columns:\n",
    "        plt.plot(df.hat.index, df.hat, 'g', label='hat')\n",
    "    # 添加位置\n",
    "    for i, txt in enumerate(position):\n",
    "        if txt == 'Low':\n",
    "            plt.annotate(txt, (df[\"date\"][i], df[\"close\"][i]), xytext=(\n",
    "                0, -30), textcoords='offset points', color='g')\n",
    "        else:\n",
    "            plt.annotate(txt, (df[\"date\"][i], df[\"close\"][i]), xytext=(\n",
    "                0, 20), textcoords='offset points', color='g')\n",
    "    axx = fig.add_subplot(325)\n",
    "    # axx.plot(df[[\"volume\"]])\n",
    "    # from matplotlib import transforms\n",
    "    # pad = 0.25\n",
    "    # yl = ax.get_ylim()\n",
    "    # ax.set_ylim(yl[0]-(yl[1]-yl[0])*pad,yl[1])\n",
    "    # axx = ax.twinx()\n",
    "    # axx.set_position(transforms.Bbox([[0.125,0.1],[0.9,0.32]]))\n",
    "\n",
    "    volume = np.asarray(df.volume)\n",
    "    pos = df['open'] - df['close'] < 0\n",
    "    neg = df['open'] - df['close'] >= 0\n",
    "    idx = np.asarray([x for x in range(len(df.date))])\n",
    "    # print len(dates),len(df),ax.get_xlim(),ax.get_xticks()\n",
    "    axx.bar(idx[pos], volume[pos], color='red', width=1, align='center')\n",
    "    axx.bar(idx[neg], volume[neg], color='green', width=1, align='center')\n",
    "\n",
    "    # position = ['' for i in range(len(df))]\n",
    "    # position = df.Positon\n",
    "    # for i, txt in enumerate(position):\n",
    "    #     plt.annotate(txt, (df[\"Date\"][i], df[\"Close\"][i]), xytext=(0,20), textcoords='offset points')\n",
    "    # 添加图例\n",
    "    plt.legend(loc='best')\n",
    "    # plt.legend([\"Now:%s\" % df.close[-1], \"Hi:%s\" % df.high[-1], \"Lo:%0.2f\" % (asset.iat[-1]), \"day:%s\" %\n",
    "    #             len(asset), \"fib:%s\" % (fib),\"MA:%s\"%(roll_mean_days)], fontsize=12, loc=0)\n",
    "    if 'name' in df.columns:\n",
    "        if 'code' in df.columns:\n",
    "            plt.title(df.name.values[-1:][0] + \" \" + df.code[0] + \" | \", fontsize=12)\n",
    "        else:\n",
    "            plt.title(str(df.name.values[-1:][0]) + \" \" + \" | \", fontsize=12)\n",
    "\n",
    "    else:\n",
    "        if 'code' in df.columns:\n",
    "            plt.title(\" | \" + df.code[0] + \" | \", fontsize=12)\n",
    "        else:\n",
    "            if code is None:\n",
    "                plt.title(\" | \" + \" | \", fontsize=12)\n",
    "            else:\n",
    "                plt.title(\" | \" + code + \" | \", fontsize=12)\n",
    "\n",
    "    # 显示图形\n",
    "    print(\"code:\",code)\n",
    "    plt.show()\n",
    "\n",
    "\n",
    "show_ohlc_upper(dfc,code=dfc.code[0])"
   ]
  },
  {
   "cell_type": "code",
   "execution_count": null,
   "id": "f7f089a3-225d-4dda-ab14-f4dce799696d",
   "metadata": {},
   "outputs": [],
   "source": []
  },
  {
   "cell_type": "code",
   "execution_count": null,
   "id": "a45c8bd3-9143-47f6-a59f-2a09f29ec015",
   "metadata": {},
   "outputs": [],
   "source": []
  },
  {
   "cell_type": "code",
   "execution_count": 13,
   "id": "f9a758ab-4c1e-41e5-9d1a-5c5f262a67b0",
   "metadata": {
    "ExecuteTime": {
     "end_time": "2025-06-15T15:05:30.726371Z",
     "start_time": "2025-06-15T15:05:30.721767Z"
    },
    "execution": {
     "iopub.execute_input": "2025-06-13T11:52:31.866271Z",
     "iopub.status.busy": "2025-06-13T11:52:31.866271Z",
     "iopub.status.idle": "2025-06-13T11:52:31.880240Z",
     "shell.execute_reply": "2025-06-13T11:52:31.880240Z",
     "shell.execute_reply.started": "2025-06-13T11:52:31.866271Z"
    },
    "tags": []
   },
   "outputs": [
    {
     "data": {
      "text/plain": [
       "True"
      ]
     },
     "execution_count": 13,
     "metadata": {},
     "output_type": "execute_result"
    }
   ],
   "source": [
    "'code' in dfc.columns"
   ]
  },
  {
   "cell_type": "markdown",
   "id": "d778eb37-7a61-4f20-ae85-7ca80d9228d1",
   "metadata": {},
   "source": [
    "### show_channel_mpl"
   ]
  },
  {
   "cell_type": "code",
   "execution_count": 14,
   "id": "ce854955-6659-4098-a0a9-6acef9a55f6b",
   "metadata": {
    "ExecuteTime": {
     "end_time": "2025-06-15T15:05:30.739617Z",
     "start_time": "2025-06-15T15:05:30.728548Z"
    },
    "execution": {
     "iopub.execute_input": "2025-06-13T11:52:31.881200Z",
     "iopub.status.busy": "2025-06-13T11:52:31.881200Z",
     "iopub.status.idle": "2025-06-13T11:52:31.897159Z",
     "shell.execute_reply": "2025-06-13T11:52:31.896160Z",
     "shell.execute_reply.started": "2025-06-13T11:52:31.881200Z"
    },
    "tags": []
   },
   "outputs": [],
   "source": [
    "dfc['position'] = 0\n",
    "\n",
    "\n",
    "def show_channel_mpl_bug(df, limit=60):\n",
    "    # Compute the channel\n",
    "    def compute_channel(df):\n",
    "        # Compute the high and low of the past n periods\n",
    "        n = 20\n",
    "        high = df['high'].rolling(window=n, min_periods=n).max()\n",
    "        low = df['low'].rolling(window=n, min_periods=n).min()\n",
    "        df['upper_channel'] = high + (high - low) * 0.5\n",
    "        df['lower_channel'] = low - (high - low) * 0.5\n",
    "\n",
    "        # Update the position based on the current price\n",
    "        df['position'] = np.where(df['close'] > df['upper_channel'] * 0.66, 1,\n",
    "                                  np.where(df['close'] < df['lower_channel'], -1, 0))\n",
    "        # print(df['position'])\n",
    "\n",
    "    df = df.rename(columns={'vol': 'volume'})\n",
    "    # df = df.reset_index()\n",
    "    if 'date' in df.columns:\n",
    "        df.date = pd.to_datetime(df.date)\n",
    "    else:\n",
    "        df = df.reset_index()\n",
    "        df.date = pd.to_datetime(df.date)\n",
    "    df = df.set_index('date')\n",
    "    # df.date = df.index\n",
    "    df = df.loc[:, [\"open\", \"high\", \"low\", \"close\", 'volume']]\n",
    "    compute_channel(df)\n",
    "\n",
    "    # fig, ax = plt.subplots()\n",
    "    # Plot the ohlc chart\n",
    "    mpf.plot(df, type='candle', title='OHLC chart with channel and position',\n",
    "             ylabel='Price', volume=True, mav=(10, 20),\n",
    "             show_nontrading=False, ylabel_lower='Position')\n",
    "    # returnfig=True)\n",
    "\n",
    "    # for i, txt in enumerate(df.position):\n",
    "    #     # print(i,txt,df.index[i], df[\"close\"][i])\n",
    "    #     if txt == 0:\n",
    "    #         plt.annotate(\"Down\", (df.index[i], df[\"close\"][i]), xytext=(\n",
    "    #             0, -30), textcoords='offset points', color='g')\n",
    "    #     else:\n",
    "    #         plt.annotate(\"UP\", (df.index[i], df[\"close\"][i]), xytext=(\n",
    "    #             0, 20), textcoords='offset points', color='g')\n",
    "\n",
    "    # axlist[0].set_yticks([-1, 0, 1])\n",
    "    # axlist[2].xaxis.set_ticks(df['position'])\n",
    "    # axlist[2].set_xticklabels(df['upper_channel'])\n",
    "    # yticks=[-1, 0, 1], yticklabels=['Sell', 'Hold', 'Buy'],\n",
    "    # overlays=[(df['upper_channel'], None), (df['lower_channel'], None)])\n",
    "# show_channel_mpl(dfc)"
   ]
  },
  {
   "cell_type": "markdown",
   "id": "b07c48a6-b469-4a98-9d69-b37bc0e848c8",
   "metadata": {},
   "source": [
    "## TDX def"
   ]
  },
  {
   "cell_type": "code",
   "execution_count": 15,
   "id": "e5bf6754-f22a-4f0f-84c8-d054f610d00b",
   "metadata": {
    "ExecuteTime": {
     "end_time": "2025-06-15T15:05:30.776965Z",
     "start_time": "2025-06-15T15:05:30.743447Z"
    },
    "execution": {
     "iopub.execute_input": "2025-06-13T11:52:31.898154Z",
     "iopub.status.busy": "2025-06-13T11:52:31.898154Z",
     "iopub.status.idle": "2025-06-13T11:52:31.942038Z",
     "shell.execute_reply": "2025-06-13T11:52:31.942038Z",
     "shell.execute_reply.started": "2025-06-13T11:52:31.898154Z"
    },
    "tags": []
   },
   "outputs": [],
   "source": [
    "global sina_dm\n",
    "sina_dm = None\n",
    "\n",
    "\n",
    "def get_sina_data_cname(df, dm=None, index=False, realtime=False):\n",
    "    # index_status=False\n",
    "    global sina_dm\n",
    "    if dm is None:\n",
    "        if sina_dm is None:\n",
    "            dm = sina_data.Sina().market('all')\n",
    "        else:\n",
    "            dm = sina_dm.copy()\n",
    "\n",
    "    if 'ticktime' in df.columns:\n",
    "        time_l = time.mktime(dm.loc[:, 'ticktime'][-1].timetuple())\n",
    "        dur = round((time.time() - time_l) / 60, 2)\n",
    "        if dur > 5:\n",
    "            print(\"timel > 5,renew dm\")\n",
    "            dm = sina_data.Sina().market('all')\n",
    "            sina_dm = dm.copy()\n",
    "\n",
    "    if realtime:\n",
    "        print(\"compute percent\")\n",
    "        df.rename(columns={'low': 'llow',\n",
    "                  'high': 'lhigh', 'open': 'lopen'}, inplace=True)\n",
    "        if 'nclose' in dm.columns:\n",
    "            dd = cct.combine_dataFrame(\n",
    "                df, dm.loc\n",
    "                [:,\n",
    "                 ['nclose', 'close', 'name', 'open', 'high', 'low', 'llastp',\n",
    "                  'ticktime']],\n",
    "                clean=True)\n",
    "        else:\n",
    "            dd = cct.combine_dataFrame(\n",
    "                df, dm.loc\n",
    "                [:, ['close', 'name', 'open', 'high', 'low', 'llastp', 'ticktime']],\n",
    "                clean=True)\n",
    "        dd['perc'] = ((dd['close'] - dd['llastp']) / dd['llastp'] *\n",
    "                      100).map(lambda x: round(x, 2))\n",
    "        # dd = cct.combine_dataFrame(df, dm['name'])\n",
    "\n",
    "    else:\n",
    "        dd = cct.combine_dataFrame(df, dm['name'])\n",
    "    # cname = sina_data.Sina().get_code_cname(code)\n",
    "    return dd\n",
    "\n",
    "\n",
    "def write_code_to_blk(codew, blk='060'):\n",
    "    block_path = tdd.get_tdx_dir_blocknew() + '%s.blk' % (blk)\n",
    "    write_blk = 'n'\n",
    "    write_blk = cct.cct_raw_input(\"write blk [Y] or [N]:\")\n",
    "    if write_blk == 'y' or write_blk == 'Y':\n",
    "        hdf5_wri = cct.cct_raw_input(\n",
    "            \"Rewrite code [Y] or append [N](defalut:N):\")\n",
    "        if hdf5_wri == 'y' or hdf5_wri == 'Y':\n",
    "            append_status = False\n",
    "        else:\n",
    "            append_status = True\n",
    "        if len(codew) > 3:\n",
    "            cct.write_to_blocknew(block_path, codew, append_status,\n",
    "                                  doubleFile=False, keep_last=0)\n",
    "            (\"write:%s block_path:%s\" % (len(codew), block_path))\n",
    "        else:\n",
    "            (\"write error:%s block_path:%s\" % (len(codew), block_path))\n",
    "    return True\n",
    "\n",
    "def get_multiIndex_drop_last_row(df,dropline=1):\n",
    "\n",
    "    return df.drop(level='date', labels=df.index.get_level_values('date')[-dropline])\n",
    "\n",
    "def clean_688(df):\n",
    "    df = df[(~df.index.str.contains(\"688\"))]\n",
    "    return df\n",
    "\n",
    "def clean_sina_dm(dd):\n",
    "    if (cct.get_now_time_int() > 915 and cct.get_now_time_int() < 926):\n",
    "        dd = dd[dd.close > 0]\n",
    "    else:\n",
    "        dd = dd[dd.open > 0]\n",
    "    return dd\n",
    "\n",
    "def compute_perd_value(df, market_value=3, col=\"vol\", col_new='volsum'):\n",
    "\n",
    "    # if market_value == None or market_value < \"2\":\n",
    "    #     market_value = 3\n",
    "    # if market_value > 1 and len(df[ df[\"%s%sd\" % (col, market_value)] > 2])   :\n",
    "    market_value = str(market_value)\n",
    "    if market_value > str(1):\n",
    "        temp = df[\n",
    "            df.columns[\n",
    "                (df.columns >= \"%s1d\" % (col)) &\n",
    "                (df.columns <= \"%s%sd\" % (col, market_value))\n",
    "            ]\n",
    "        ]\n",
    "\n",
    "        df['%s%sd' % (col_new, market_value)] = temp.T.sum().apply(\n",
    "            lambda x: round(x, 1))\n",
    "    else:\n",
    "        print(\"market_value <= 1,No Compute\")\n",
    "\n",
    "    return df\n",
    "\n",
    "\n",
    "def show_tdx_data(df, codelist=None, market_value='3', col=None):\n",
    "    col_src = [\n",
    "        \"name\", \"couts\", \"date\", \"perc\", \"ra_diff\",\"xratio\", \"idx\", \"hat\", \"close\",\n",
    "        \"volsum5d\", \"hmax\", \"lmin\", \"perc1d\", \"ma20\", \"ma250\", \"nclose\",\n",
    "        \"llow\", 'vol1d', 'vol2d', 'vol3d', 'vol4d', 'vol5d', \"perc%sd\" %\n",
    "        (market_value),\n",
    "        \"perc5d\"]\n",
    "\n",
    "    if isinstance(df, pd.Series):\n",
    "        col_name = [co for co in col_src if co in df.index]\n",
    "        # col_name.insert(1,'date')\n",
    "    else:\n",
    "        col_name = [co for co in col_src if co in df.columns]\n",
    "\n",
    "    # print(col_name)\n",
    "    # if isinstance(df, pd.DataFrame) and 'name' in df.columns:\n",
    "    #     columns_ = col_name\n",
    "    # else:\n",
    "    #     if isinstance(df, pd.Series) and 'name' in df.index:\n",
    "    #         columns_ = col_name.insert(1, \"date\")\n",
    "    #     else:\n",
    "    #         columns_ = col_name.remove(\"name\")\n",
    "    \n",
    "    if isinstance(col,list):\n",
    "        col_name.extend(col)\n",
    "    elif col is not None:\n",
    "        col_name.insert(4, col)\n",
    "\n",
    "    if codelist is None:\n",
    "        if isinstance(df, pd.Series):\n",
    "            print(\"Count:1\")\n",
    "            temp = df.loc[col_name]\n",
    "        else:\n",
    "            print(\"Count:%s %s\" % (df.shape))\n",
    "            temp = df.loc[:, col_name]\n",
    "    else:\n",
    "        temp = df.loc[[x for x in codelist if x in df.index], col_name]\n",
    "    return temp\n",
    "\n",
    "\n",
    "def get_multi_date_duration(df, dt):\n",
    "    dd = df.reset_index()\n",
    "    dd = dd[dd.date >= dt]\n",
    "    # dd['couts'] = dd.groupby(['code'])['code'].transform('count')\n",
    "    dd = dd.set_index(['code', 'date'])\n",
    "    return dd\n",
    "\n",
    "\n",
    "def get_multi_code_count(df, col='code'):\n",
    "    dd = df.reset_index()\n",
    "    dd['couts'] = dd.groupby([col])[col].transform('count')\n",
    "    dd = dd.sort_values(by=['couts', 'date'], ascending=[0, 1])\n",
    "    print('count dd.couts')\n",
    "    dd = dd.set_index(['code', 'date'])\n",
    "    return dd\n",
    "\n",
    "\n",
    "def multindex_iloc(df, index):\n",
    "    label = df.index.levels[0][index]\n",
    "    return df.iloc[df.index.get_loc(label)]\n",
    "\n",
    "\n",
    "def get_groupby_mean_median_close(dfs):\n",
    "\n",
    "    groupd = dfs.groupby(level=[0])\n",
    "\n",
    "    df = groupd['close'].agg(['median', 'mean'])\n",
    "    df['close'] = groupd.tail(1).reset_index().set_index(['code'])['close']\n",
    "    # dfs['mean'] = groupd['close'].agg('mean')\n",
    "    # dfs['median'] = groupd['close'].agg('median')\n",
    "\n",
    "    # dfs = dfs.fillna(0)\n",
    "    # idx = pd.IndexSlice\n",
    "    # mask = ( (dfs['mean'] > dfs['median'])\n",
    "    #         & (dfs['close'] > dfs['mean'])\n",
    "    #         )\n",
    "    # df=dfs.loc[idx[mask, :]]\n",
    "\n",
    "    df = df[(df['mean'] > df['median']) & (df['close'] > df['mean'])]\n",
    "\n",
    "    # dt_low = None\n",
    "    # if dl == 1:\n",
    "    #     dfs = groupd.tail(1)\n",
    "    #     print(\"dfs tail1\")\n",
    "    # else:\n",
    "    #     dl = 30\n",
    "    #     dindex = tdd.get_tdx_Exp_day_to_df(\n",
    "    #         '999999', dl=dl).sort_index(ascending=False)\n",
    "    #     dt = tdd.get_duration_price_date('999999', df=dindex)\n",
    "    #     dt = dindex[dindex.index >= dt].index.values\n",
    "    #     dt_low = dt[-1]\n",
    "    #     dtlen = len(dt) if len(dt) >0 else 1\n",
    "    #     dfs = groupd.tail(dtlen)\n",
    "    #     print(\"dfs tail:%s dt:%s\"%(dtlen,dt))\n",
    "    #     dfs = get_multi_date_duration(dfs,dt[-1])\n",
    "    return df\n",
    "\n",
    "\n",
    "def compute_df_Col_lastday(dfs, col='close', colre='perc', days=3, plus=True):\n",
    "    for da in range(int(days)):\n",
    "        da += 1\n",
    "        if plus:\n",
    "            dfs['%s%sd' % (colre, da)] = round(\n",
    "                (dfs[col] - dfs[col].shift(da)) / dfs[col].shift(da) * 100, 2)\n",
    "        else:\n",
    "            if da == 1:\n",
    "                dfs['%s%sd' % (colre, da)] = round(\n",
    "                    (dfs[col] - dfs[col].shift(da)) / dfs[col].shift(da) * 100, 2)\n",
    "            else:\n",
    "                dfs['%s%sd' % (colre, da)] = round(\n",
    "                    (dfs[col].shift(da - 1) - dfs[col].shift(da)) / dfs[col].shift(da) * 100, 2)\n",
    "    return dfs"
   ]
  },
  {
   "cell_type": "code",
   "execution_count": 79,
   "id": "1a9b1214-b3ae-403e-9b29-2b51ab03f4b1",
   "metadata": {
    "ExecuteTime": {
     "end_time": "2025-06-15T15:09:50.858069Z",
     "start_time": "2025-06-15T15:09:50.842955Z"
    },
    "execution": {
     "iopub.execute_input": "2025-06-13T11:52:31.944033Z",
     "iopub.status.busy": "2025-06-13T11:52:31.943036Z",
     "iopub.status.idle": "2025-06-13T11:52:31.957025Z",
     "shell.execute_reply": "2025-06-13T11:52:31.957025Z",
     "shell.execute_reply.started": "2025-06-13T11:52:31.944033Z"
    },
    "tags": []
   },
   "outputs": [],
   "source": [
    "def get_roll_mean_all(\n",
    "        single=True, tdx=False, app=True, duration=100, ma_250_l=1.3,\n",
    "        ma_250_h=1.3, resample='d'):\n",
    "    time_s = time.time()\n",
    "    if not app and cct.get_file_size(block_path) > 100 and cct.creation_date_duration(block_path) == 0:\n",
    "        print(\"It's Today Update\")\n",
    "        return True\n",
    "    code_list = sina_data.Sina().market('all').index.tolist()\n",
    "    code_list.extend(['999999', '399001', '399006'])\n",
    "    print(\"all code:\", len(code_list))\n",
    "    if duration < 300:\n",
    "        h5_fname = 'tdx_all_df' + '_' + str(300)\n",
    "        h5_table = 'all' + '_' + str(300)\n",
    "    else:\n",
    "        h5_fname = 'tdx_all_df' + '_' + str(900)\n",
    "        h5_table = 'all' + '_' + str(900)\n",
    "    # df = tdd.search_Tdx_multi_data_duration('tdx_all_df_300', 'all_300', df=None,code_l=code_list, start='20150501', end=None, freq=None, col=None, index='date')\n",
    "    df = tdd.search_Tdx_multi_data_duration(\n",
    "        h5_fname, h5_table, df=None, code_l=code_list, start=None, end=None,\n",
    "        freq=None, col=None, index='date')\n",
    "    # df = tdd.search_Tdx_multi_data_duration(h5_fname, h5_table, df=None,code_l=code_list, start=None, end=None, freq=None, col=None, index='date',tail=1)\n",
    "\n",
    "    code_uniquelist = df.index.get_level_values('code').unique()\n",
    "\n",
    "    code_select = code_uniquelist[random.randint(0, len(code_uniquelist) - 1)]\n",
    "    print(round(time.time() - time_s, 2), df.index.get_level_values(\n",
    "        'code').unique().shape, code_select, df.loc[code_select].shape)\n",
    "    # df.groupby(level=[0]),df.index.get_level_values(0)\n",
    "    # len(df.index.get_level_values('code').unique())\n",
    "    # df = df[~df.index.duplicated(keep='first')]\n",
    "\n",
    "    # multiIndex_func = {'close': 'mean', 'low': 'min', 'high': 'max', 'volume': 'sum', 'open': 'first'}\n",
    "    # cct.using_Grouper(df, freq='W', col={'close': 'last'})\n",
    "    # *** TypeError: Only valid with DatetimeIndex, TimedeltaIndex or PeriodIndex, but got an instance of 'Index'\n",
    "    # roll_dl = duration\n",
    "    if resample != 'd':\n",
    "\n",
    "        print(\"resample:%s\"%(resample.upper()))\n",
    "        df = df.groupby(level=0).resample(resample, level=1).last()\n",
    "        df = df.dropna()\n",
    "        \n",
    "    ''' \n",
    "    if resample != 'd':\n",
    "        print(\"resample:%s\" % (resample.upper()))\n",
    "        # ohlc_dict = {'volume': 'sum','high': 'max','low': 'min','close': 'last'}\n",
    "        # {'low': 'min', 'close':'mean'}\n",
    "        # df = df.groupby(level=0).resample(resample, level=1).agg({'close':'last'})\n",
    "        # df = df.loc[:, ['open','close', 'low', 'high']].groupby(level=0).resample(resample, level=1).agg({'close':'last'})\n",
    "        df = df.loc[:, ['close']].groupby(level=0).resample(\n",
    "            resample, level=1).agg({'close': 'last'}).dropna()\n",
    "\n",
    "        df = df.dropna()\n",
    "        # df = df.loc[:, ['open','close', 'low', 'high']].groupby(level=0).resample(resample, level=1, how={'low': 'min', 'close':'mean'})\n",
    "        # df = df.loc[:, ['open','close', 'low', 'high']].groupby(pd.Grouper(freq=resample)).transform(np.cumsum).resample(resample, how='ohlc')\n",
    "\n",
    "        # df = df.loc[:, ['open','close', 'low', 'high']].groupby(pd.TimeGrouper(resample)).transform(np.cumsum).resample(resample, how='ohlc')\n",
    "        # r1 = len(df.loc['000001'])\n",
    "        # r2 = len(df.loc['999999'])\n",
    "        # roll_dl = r1 if r1 < r2 else r2\n",
    "\n",
    "        # df['upper'] = map(lambda x: round((1 + 11.0 / 100) * x, 1), df.ma10d)\n",
    "        # df['lower'] = map(lambda x: round((1 - 9.0 / 100) * x, 1), df.ma10d)\n",
    "        # df['ene'] = map(lambda x, y: round((x + y) / 2, 1), df.upper, df.lower)\n",
    "        # dfs['amount%d'%cumdays] = groupd['amount'].apply(pd.rolling_mean, cumdays)\n",
    "    # df.ix[df.index.levels[0]]\n",
    "    # df.ix[df.index[len(df.index)-1][0]] #last row\n",
    "    # dfs = tdd.search_Tdx_multi_data_duration(df=dfs,code_l=code_list, start='20170918', end='20170918', freq=None, col=None, index='date')\n",
    "\n",
    "    # print dfs[:1],len(dfs)\n",
    "    # groupd.agg({'low': 'min'})\n",
    "    #  idx mask filter \n",
    "    # h5a.write_hdf_db('all300', df, table='roll200', index=False,baseCount=500, append=False, MultiIndex=MultiIndex)\n",
    "    '''\n",
    "\n",
    "    df = df.reset_index().sort_values(by=['code', 'date'], ascending=[0, 1]).set_index(['code', 'date'])\n",
    "    print(\"use time:%s\" % (round(time.time() - time_s, 2)))\n",
    "    return df"
   ]
  },
  {
   "cell_type": "markdown",
   "id": "e0b21536-bc63-43bb-9f42-5dfd4d3c26a0",
   "metadata": {},
   "source": [
    "# 读取数据 TDX Days"
   ]
  },
  {
   "cell_type": "markdown",
   "id": "7680e959-d22a-43d3-a321-4356241a0f94",
   "metadata": {},
   "source": [
    "## resample = 'D'"
   ]
  },
  {
   "cell_type": "code",
   "execution_count": 80,
   "id": "0cfe46ed-834d-4d27-811c-e60d2c40175c",
   "metadata": {
    "ExecuteTime": {
     "end_time": "2025-06-15T15:09:53.273248Z",
     "start_time": "2025-06-15T15:09:52.734719Z"
    },
    "execution": {
     "iopub.execute_input": "2025-06-13T11:52:31.957996Z",
     "iopub.status.busy": "2025-06-13T11:52:31.957996Z",
     "iopub.status.idle": "2025-06-13T11:52:57.976485Z",
     "shell.execute_reply": "2025-06-13T11:52:57.975512Z",
     "shell.execute_reply.started": "2025-06-13T11:52:31.957996Z"
    },
    "tags": []
   },
   "outputs": [
    {
     "name": "stdout",
     "output_type": "stream",
     "text": [
      "all code: 5197\n"
     ]
    },
    {
     "ename": "AttributeError",
     "evalue": "'NoneType' object has no attribute 'index'",
     "output_type": "error",
     "traceback": [
      "\u001b[0;31m---------------------------------------------------------------------------\u001b[0m",
      "\u001b[0;31mAttributeError\u001b[0m                            Traceback (most recent call last)",
      "\u001b[0;32m/var/folders/7f/spryjd9n3qd9hsrgqjhyqn000000gp/T/ipykernel_29906/3388665022.py\u001b[0m in \u001b[0;36m<module>\u001b[0;34m\u001b[0m\n\u001b[1;32m      2\u001b[0m \u001b[0mresample\u001b[0m \u001b[0;34m=\u001b[0m \u001b[0;34m'D'\u001b[0m\u001b[0;34m\u001b[0m\u001b[0;34m\u001b[0m\u001b[0m\n\u001b[1;32m      3\u001b[0m \u001b[0;34m\u001b[0m\u001b[0m\n\u001b[0;32m----> 4\u001b[0;31m df = get_roll_mean_all(\n\u001b[0m\u001b[1;32m      5\u001b[0m     \u001b[0msingle\u001b[0m\u001b[0;34m=\u001b[0m\u001b[0;32mFalse\u001b[0m\u001b[0;34m,\u001b[0m \u001b[0mtdx\u001b[0m\u001b[0;34m=\u001b[0m\u001b[0;32mTrue\u001b[0m\u001b[0;34m,\u001b[0m \u001b[0mapp\u001b[0m\u001b[0;34m=\u001b[0m\u001b[0;32mTrue\u001b[0m\u001b[0;34m,\u001b[0m \u001b[0mduration\u001b[0m\u001b[0;34m=\u001b[0m\u001b[0;36m250\u001b[0m\u001b[0;34m,\u001b[0m \u001b[0mma_250_l\u001b[0m\u001b[0;34m=\u001b[0m\u001b[0;36m1.2\u001b[0m\u001b[0;34m,\u001b[0m\u001b[0;34m\u001b[0m\u001b[0;34m\u001b[0m\u001b[0m\n\u001b[1;32m      6\u001b[0m     ma_250_h=1.2, resample=resample)\n",
      "\u001b[0;32m/var/folders/7f/spryjd9n3qd9hsrgqjhyqn000000gp/T/ipykernel_29906/3753838709.py\u001b[0m in \u001b[0;36mget_roll_mean_all\u001b[0;34m(single, tdx, app, duration, ma_250_l, ma_250_h, resample)\u001b[0m\n\u001b[1;32m     21\u001b[0m     \u001b[0;31m# df = tdd.search_Tdx_multi_data_duration(h5_fname, h5_table, df=None,code_l=code_list, start=None, end=None, freq=None, col=None, index='date',tail=1)\u001b[0m\u001b[0;34m\u001b[0m\u001b[0;34m\u001b[0m\u001b[0m\n\u001b[1;32m     22\u001b[0m \u001b[0;34m\u001b[0m\u001b[0m\n\u001b[0;32m---> 23\u001b[0;31m     \u001b[0mcode_uniquelist\u001b[0m \u001b[0;34m=\u001b[0m \u001b[0mdf\u001b[0m\u001b[0;34m.\u001b[0m\u001b[0mindex\u001b[0m\u001b[0;34m.\u001b[0m\u001b[0mget_level_values\u001b[0m\u001b[0;34m(\u001b[0m\u001b[0;34m'code'\u001b[0m\u001b[0;34m)\u001b[0m\u001b[0;34m.\u001b[0m\u001b[0munique\u001b[0m\u001b[0;34m(\u001b[0m\u001b[0;34m)\u001b[0m\u001b[0;34m\u001b[0m\u001b[0;34m\u001b[0m\u001b[0m\n\u001b[0m\u001b[1;32m     24\u001b[0m \u001b[0;34m\u001b[0m\u001b[0m\n\u001b[1;32m     25\u001b[0m     \u001b[0mcode_select\u001b[0m \u001b[0;34m=\u001b[0m \u001b[0mcode_uniquelist\u001b[0m\u001b[0;34m[\u001b[0m\u001b[0mrandom\u001b[0m\u001b[0;34m.\u001b[0m\u001b[0mrandint\u001b[0m\u001b[0;34m(\u001b[0m\u001b[0;36m0\u001b[0m\u001b[0;34m,\u001b[0m \u001b[0mlen\u001b[0m\u001b[0;34m(\u001b[0m\u001b[0mcode_uniquelist\u001b[0m\u001b[0;34m)\u001b[0m \u001b[0;34m-\u001b[0m \u001b[0;36m1\u001b[0m\u001b[0;34m)\u001b[0m\u001b[0;34m]\u001b[0m\u001b[0;34m\u001b[0m\u001b[0;34m\u001b[0m\u001b[0m\n",
      "\u001b[0;31mAttributeError\u001b[0m: 'NoneType' object has no attribute 'index'"
     ]
    }
   ],
   "source": [
    "# resample = 'W-FRI'\n",
    "resample = 'D'\n",
    "\n",
    "df = get_roll_mean_all(\n",
    "    single=False, tdx=True, app=True, duration=250, ma_250_l=1.2,\n",
    "    ma_250_h=1.2, resample=resample)\n",
    "\n",
    "\n",
    "# df= df.groupby(level=[0]).tail(1).reset_index().set_index('code')\n",
    "# df_cname = tdd.get_sina_datadf_cnamedf(df.index.tolist(), df)\n",
    "# df = df.reset_index().set_index(['code', 'date'])"
   ]
  },
  {
   "cell_type": "code",
   "execution_count": null,
   "id": "cb0e3d9c-01b0-43a3-b7a7-0ae1b7ee82bf",
   "metadata": {
    "ExecuteTime": {
     "end_time": "2025-06-15T15:05:31.766762Z",
     "start_time": "2025-06-15T15:05:31.766744Z"
    },
    "execution": {
     "iopub.execute_input": "2025-06-13T11:52:57.976485Z",
     "iopub.status.busy": "2025-06-13T11:52:57.976485Z",
     "iopub.status.idle": "2025-06-13T11:52:58.006360Z",
     "shell.execute_reply": "2025-06-13T11:52:58.005398Z",
     "shell.execute_reply.started": "2025-06-13T11:52:57.976485Z"
    },
    "tags": []
   },
   "outputs": [],
   "source": [
    "# df.loc['399001'][-1:]\n",
    "df.loc['000002'][-1:]\n",
    "# df.groupby(level=[0]).tail(30).groupby(level=[0]).tail(2)\n",
    "# df.groupby(level=[0]).tail(30).groupby(level=[0]).head(1)"
   ]
  },
  {
   "cell_type": "markdown",
   "id": "be5589ce-81e5-40b0-9147-381f2cbedf46",
   "metadata": {},
   "source": [
    "### Test InStock"
   ]
  },
  {
   "cell_type": "code",
   "execution_count": null,
   "id": "80337c9e-02dd-4ee0-9ef1-a2a4bc8407aa",
   "metadata": {
    "ExecuteTime": {
     "end_time": "2025-06-15T15:05:31.768382Z",
     "start_time": "2025-06-15T15:05:31.768365Z"
    },
    "execution": {
     "iopub.execute_input": "2025-06-13T11:52:58.006360Z",
     "iopub.status.busy": "2025-06-13T11:52:58.006360Z",
     "iopub.status.idle": "2025-06-13T11:52:58.038274Z",
     "shell.execute_reply": "2025-06-13T11:52:58.037278Z",
     "shell.execute_reply.started": "2025-06-13T11:52:58.006360Z"
    },
    "tags": []
   },
   "outputs": [],
   "source": [
    "df.loc['301083'][:2]"
   ]
  },
  {
   "cell_type": "markdown",
   "id": "33ede7a0-93f4-40dc-a768-fc0dfea94b1b",
   "metadata": {},
   "source": [
    "## ra_diff"
   ]
  },
  {
   "cell_type": "code",
   "execution_count": null,
   "id": "84a6eb98-576c-47f4-8c3f-10e4625a305d",
   "metadata": {
    "ExecuteTime": {
     "end_time": "2025-06-15T15:05:31.770167Z",
     "start_time": "2025-06-15T15:05:31.770145Z"
    },
    "execution": {
     "iopub.execute_input": "2025-06-13T11:52:58.040268Z",
     "iopub.status.busy": "2025-06-13T11:52:58.039271Z",
     "iopub.status.idle": "2025-06-13T11:52:58.052274Z",
     "shell.execute_reply": "2025-06-13T11:52:58.052274Z",
     "shell.execute_reply.started": "2025-06-13T11:52:58.040268Z"
    }
   },
   "outputs": [],
   "source": [
    "tail_days = 60"
   ]
  },
  {
   "cell_type": "code",
   "execution_count": 76,
   "id": "4dc80046-6d59-46d1-8ab6-b37341c4d550",
   "metadata": {
    "ExecuteTime": {
     "end_time": "2025-06-15T15:08:48.770690Z",
     "start_time": "2025-06-15T15:08:48.753753Z"
    },
    "execution": {
     "iopub.execute_input": "2025-06-13T11:52:58.053233Z",
     "iopub.status.busy": "2025-06-13T11:52:58.053233Z",
     "iopub.status.idle": "2025-06-13T11:53:09.984343Z",
     "shell.execute_reply": "2025-06-13T11:53:09.982347Z",
     "shell.execute_reply.started": "2025-06-13T11:52:58.053233Z"
    },
    "tags": []
   },
   "outputs": [
    {
     "ename": "NameError",
     "evalue": "name 'df' is not defined",
     "output_type": "error",
     "traceback": [
      "\u001b[0;31m---------------------------------------------------------------------------\u001b[0m",
      "\u001b[0;31mNameError\u001b[0m                                 Traceback (most recent call last)",
      "\u001b[0;32m/var/folders/7f/spryjd9n3qd9hsrgqjhyqn000000gp/T/ipykernel_29906/574117151.py\u001b[0m in \u001b[0;36m<module>\u001b[0;34m\u001b[0m\n\u001b[0;32m----> 1\u001b[0;31m \u001b[0mdf\u001b[0m \u001b[0;34m=\u001b[0m \u001b[0mdf\u001b[0m\u001b[0;34m.\u001b[0m\u001b[0mgroupby\u001b[0m\u001b[0;34m(\u001b[0m\u001b[0mlevel\u001b[0m\u001b[0;34m=\u001b[0m\u001b[0;34m[\u001b[0m\u001b[0;36m0\u001b[0m\u001b[0;34m]\u001b[0m\u001b[0;34m)\u001b[0m\u001b[0;34m.\u001b[0m\u001b[0mtail\u001b[0m\u001b[0;34m(\u001b[0m\u001b[0mtail_days\u001b[0m\u001b[0;34m)\u001b[0m\u001b[0;34m.\u001b[0m\u001b[0mgroupby\u001b[0m\u001b[0;34m(\u001b[0m\u001b[0mlevel\u001b[0m\u001b[0;34m=\u001b[0m\u001b[0;34m[\u001b[0m\u001b[0;36m0\u001b[0m\u001b[0;34m]\u001b[0m\u001b[0;34m)\u001b[0m\u001b[0;34m.\u001b[0m\u001b[0mapply\u001b[0m\u001b[0;34m(\u001b[0m\u001b[0mra_diff\u001b[0m\u001b[0;34m)\u001b[0m\u001b[0;34m\u001b[0m\u001b[0;34m\u001b[0m\u001b[0m\n\u001b[0m",
      "\u001b[0;31mNameError\u001b[0m: name 'df' is not defined"
     ]
    }
   ],
   "source": [
    "df = df.groupby(level=[0]).tail(tail_days).groupby(level=[0]).apply(ra_diff)\n"
   ]
  },
  {
   "cell_type": "code",
   "execution_count": null,
   "id": "929f86ed-ed7d-46e8-959b-d77f89572e63",
   "metadata": {
    "ExecuteTime": {
     "end_time": "2025-06-15T15:05:31.773615Z",
     "start_time": "2025-06-15T15:05:31.773595Z"
    },
    "execution": {
     "iopub.execute_input": "2025-06-13T11:53:09.986333Z",
     "iopub.status.busy": "2025-06-13T11:53:09.986333Z",
     "iopub.status.idle": "2025-06-13T11:53:09.998302Z",
     "shell.execute_reply": "2025-06-13T11:53:09.997305Z",
     "shell.execute_reply.started": "2025-06-13T11:53:09.986333Z"
    },
    "tags": []
   },
   "outputs": [],
   "source": [
    "# df.loc['999999'][-3:]\n",
    "# df.loc['301073'].ra_diff[-3:]\n",
    "df.loc['300459'].shape"
   ]
  },
  {
   "cell_type": "markdown",
   "id": "4838667d-8232-4089-a857-906f2e0dd5ea",
   "metadata": {
    "tags": []
   },
   "source": [
    "## X df_regression_ratio outdate\n",
    "    df_idx_detect"
   ]
  },
  {
   "cell_type": "code",
   "execution_count": null,
   "id": "a519fb4c-3860-4ea0-87e8-a8e9478b66a3",
   "metadata": {
    "ExecuteTime": {
     "end_time": "2025-06-15T15:05:31.775373Z",
     "start_time": "2025-06-15T15:05:31.775351Z"
    },
    "execution": {
     "iopub.execute_input": "2025-06-13T11:53:10.007278Z",
     "iopub.status.busy": "2025-06-13T11:53:09.999300Z",
     "iopub.status.idle": "2025-06-13T11:53:10.028222Z",
     "shell.execute_reply": "2025-06-13T11:53:10.027225Z",
     "shell.execute_reply.started": "2025-06-13T11:53:10.007278Z"
    },
    "tags": []
   },
   "outputs": [],
   "source": [
    "# df_reg_ratio = df.groupby(level=[0])['close'].apply(regression_ratio)\n",
    "# df_idx_detect = df.groupby(level=[0])['close'].apply(detect_bull_bear_apply)\n",
    "# show_ohlc_upper()\n",
    "# df[:10]"
   ]
  },
  {
   "cell_type": "code",
   "execution_count": null,
   "id": "c391348e-00ba-429f-90c9-75be9156e5c4",
   "metadata": {
    "ExecuteTime": {
     "end_time": "2025-06-15T15:05:31.777012Z",
     "start_time": "2025-06-15T15:05:31.776994Z"
    },
    "execution": {
     "iopub.execute_input": "2025-06-13T11:53:10.029219Z",
     "iopub.status.busy": "2025-06-13T11:53:10.029219Z",
     "iopub.status.idle": "2025-06-13T11:53:10.043183Z",
     "shell.execute_reply": "2025-06-13T11:53:10.043183Z",
     "shell.execute_reply.started": "2025-06-13T11:53:10.029219Z"
    },
    "tags": []
   },
   "outputs": [],
   "source": [
    "# df_idx_detect.shape, df_idx_detect.loc['000002']\n",
    "# df.loc['000002'][-2:],df_reg_ratio.loc['000002']\n",
    "# df.loc['688798'][-3:]"
   ]
  },
  {
   "cell_type": "code",
   "execution_count": null,
   "id": "ac692cd2-93b6-443b-a25e-05529ca35fe6",
   "metadata": {
    "ExecuteTime": {
     "end_time": "2025-06-15T15:05:31.778669Z",
     "start_time": "2025-06-15T15:05:31.778651Z"
    },
    "execution": {
     "iopub.execute_input": "2025-06-13T11:53:10.044179Z",
     "iopub.status.busy": "2025-06-13T11:53:10.044179Z",
     "iopub.status.idle": "2025-06-13T11:53:10.058143Z",
     "shell.execute_reply": "2025-06-13T11:53:10.058143Z",
     "shell.execute_reply.started": "2025-06-13T11:53:10.044179Z"
    },
    "tags": []
   },
   "outputs": [],
   "source": [
    "# df.loc['000002'][-10:]"
   ]
  },
  {
   "cell_type": "markdown",
   "id": "b1fc3781-1b2d-4f11-8468-9f27925186ed",
   "metadata": {
    "tags": []
   },
   "source": [
    "## sina_dm"
   ]
  },
  {
   "cell_type": "code",
   "execution_count": null,
   "id": "5a035e03-9bbf-4f40-badb-0075eb6e78ae",
   "metadata": {
    "ExecuteTime": {
     "end_time": "2025-06-15T15:05:31.779766Z",
     "start_time": "2025-06-15T15:05:31.779749Z"
    },
    "execution": {
     "iopub.execute_input": "2025-06-13T11:53:10.060137Z",
     "iopub.status.busy": "2025-06-13T11:53:10.060137Z",
     "iopub.status.idle": "2025-06-13T11:53:10.363358Z",
     "shell.execute_reply": "2025-06-13T11:53:10.362363Z",
     "shell.execute_reply.started": "2025-06-13T11:53:10.060137Z"
    },
    "tags": []
   },
   "outputs": [],
   "source": [
    "sina_dm = sina_data.Sina().market('all')\n",
    "lastday = cct.last_tddate()\n",
    "lastday,sina_dm.name[:1]\n",
    "sina_dm = clean_sina_dm(sina_dm)"
   ]
  },
  {
   "cell_type": "code",
   "execution_count": null,
   "id": "9adba7e6-b9bc-47c7-807b-2bcda000c8b2",
   "metadata": {
    "ExecuteTime": {
     "end_time": "2025-06-15T15:05:31.780767Z",
     "start_time": "2025-06-15T15:05:31.780751Z"
    },
    "execution": {
     "iopub.execute_input": "2025-06-13T11:53:10.364323Z",
     "iopub.status.busy": "2025-06-13T11:53:10.363358Z",
     "iopub.status.idle": "2025-06-13T11:53:10.378322Z",
     "shell.execute_reply": "2025-06-13T11:53:10.378322Z",
     "shell.execute_reply.started": "2025-06-13T11:53:10.364323Z"
    },
    "tags": []
   },
   "outputs": [],
   "source": [
    "cct.get_time_to_date(time.time(), format='%Y-%D %H:%M:%S')\n",
    "\n",
    "# abc=dm.loc[:,'ticktime'][-1]\n",
    "sina_dm.ticktime[-2:]\n",
    "# dm.ticktime[:1]\n",
    "# sina_dm.loc[:, 'ticktime'][-1]\n",
    "# time.strptime(abc,format='%Y-%m-%d %H:%M:%S')\n",
    "# (time.mktime(abc.timetuple()))\n",
    "(time.time() - time.mktime(sina_dm.loc[:, 'ticktime'][-1].timetuple())) / 60"
   ]
  },
  {
   "cell_type": "markdown",
   "id": "577820c4-8167-46e6-9dc6-1c2da90ae9d1",
   "metadata": {},
   "source": [
    "### Combine ratio and idx"
   ]
  },
  {
   "cell_type": "code",
   "execution_count": null,
   "id": "568ea2ed-5f60-41ab-812f-c37776eb11c2",
   "metadata": {
    "ExecuteTime": {
     "end_time": "2025-06-15T15:05:31.781810Z",
     "start_time": "2025-06-15T15:05:31.781793Z"
    },
    "execution": {
     "iopub.execute_input": "2025-06-13T11:53:10.380281Z",
     "iopub.status.busy": "2025-06-13T11:53:10.380281Z",
     "iopub.status.idle": "2025-06-13T11:53:10.394245Z",
     "shell.execute_reply": "2025-06-13T11:53:10.393295Z",
     "shell.execute_reply.started": "2025-06-13T11:53:10.380281Z"
    },
    "tags": []
   },
   "outputs": [],
   "source": [
    "# if 'date' in df.columns:\n",
    "#     print('error duplicated date col')\n",
    "#     if isinstance(df,pd.MultiIndex):\n",
    "#         df.drop('date', axis=1, inplace=True)\n",
    "# else:\n",
    "#     df = df.reset_index().set_index('code')\n",
    "#     df['idx'] = df_idx_detect\n",
    "#     df['xratio'] = df_reg_ratio\n",
    "#     df['name'] = sina_dm.name\n",
    "#     df = df.reset_index().set_index(['code', 'date'])"
   ]
  },
  {
   "cell_type": "markdown",
   "id": "2ee38227-e2fb-4bc5-8ce5-7c3b919cafe5",
   "metadata": {
    "execution": {
     "iopub.execute_input": "2023-02-20T12:29:54.721088Z",
     "iopub.status.busy": "2023-02-20T12:29:54.721088Z",
     "iopub.status.idle": "2023-02-20T12:29:54.740387Z",
     "shell.execute_reply": "2023-02-20T12:29:54.737397Z",
     "shell.execute_reply.started": "2023-02-20T12:29:54.721088Z"
    },
    "tags": []
   },
   "source": [
    "## 读取实时成交量数据"
   ]
  },
  {
   "cell_type": "code",
   "execution_count": null,
   "id": "a221fc48-79c5-42eb-90b2-d81e650bbdd1",
   "metadata": {
    "ExecuteTime": {
     "end_time": "2025-06-15T15:05:31.786589Z",
     "start_time": "2025-06-15T15:05:31.786567Z"
    },
    "execution": {
     "iopub.execute_input": "2025-06-13T11:53:10.395241Z",
     "iopub.status.busy": "2025-06-13T11:53:10.395241Z",
     "iopub.status.idle": "2025-06-13T11:53:10.410200Z",
     "shell.execute_reply": "2025-06-13T11:53:10.409239Z",
     "shell.execute_reply.started": "2025-06-13T11:53:10.395241Z"
    },
    "tags": []
   },
   "outputs": [],
   "source": [
    "def apply_col_toint(df, col=None):\n",
    "    if col is None:\n",
    "        co2int = ['boll', 'op', 'ratio', 'fib', 'fibl', 'df2']\n",
    "    # co2int.extend([co for co in df.columns.tolist()\n",
    "    #                if co.startswith('perc') and co.endswith('d')])\n",
    "        co2int.extend(['top10', 'topR'])\n",
    "    else:\n",
    "        co2int = col\n",
    "    co2int = [inx for inx in co2int if inx in df.columns]\n",
    "\n",
    "    for co in co2int:\n",
    "        df[co] = df[co].astype(int)\n",
    "\n",
    "    return df\n",
    "\n",
    "def readHdf5(fpath, root=None):\n",
    "    store = pd.HDFStore(fpath, \"r\")\n",
    "    print(store.keys())\n",
    "    if root is None and store is not None:\n",
    "        root = store.keys()[0].replace(\"/\", \"\")\n",
    "    df = store[root]\n",
    "    df = apply_col_toint(df)\n",
    "    store.close()\n",
    "    return df"
   ]
  },
  {
   "cell_type": "code",
   "execution_count": null,
   "id": "52edc75e-7bf9-461d-8870-e983ce685b99",
   "metadata": {
    "ExecuteTime": {
     "end_time": "2025-06-15T15:05:31.788093Z",
     "start_time": "2025-06-15T15:05:31.788075Z"
    },
    "execution": {
     "iopub.execute_input": "2025-06-13T11:56:06.918440Z",
     "iopub.status.busy": "2025-06-13T11:56:06.918440Z",
     "iopub.status.idle": "2025-06-13T11:56:06.953314Z",
     "shell.execute_reply": "2025-06-13T11:56:06.952353Z",
     "shell.execute_reply.started": "2025-06-13T11:56:06.918440Z"
    },
    "tags": []
   },
   "outputs": [],
   "source": [
    "# tdx_path = \"G:\\\\tdx_last_df.h5\"\n",
    "# from JohnsonUtil import commonTips as cct\n",
    "sina_MultiD_path = \"G:\\\\sina_MultiIndex_data.h5\"\n",
    "h5 = readHdf5(sina_MultiD_path)\n",
    "print(sina_MultiD_path)\n",
    "h5.shape\n",
    "h5code='603019'\n",
    "h5.loc[h5code][-3:]\n",
    "code_muti = '603019'\n",
    "# h5.loc[code_muti][:2]\n",
    "\n",
    "freq = 'D'\n",
    "# freq = '5M'\n",
    "startime = '09:25:00'\n",
    "endtime = '15:01:00'\n",
    "\n",
    "time_ratio = cct.get_work_time_ratio()\n",
    "time_ratio\n",
    "run_col = ['close', 'volume']\n",
    "# run_col = ['close']\n",
    "mdf = cct.get_limit_multiIndex_freq(\n",
    "    h5, freq=freq.upper(),\n",
    "    col=run_col, start=startime, end=endtime, code=None)\n",
    "allvol = mdf.volume.sum()\n",
    "allvol = round(allvol / 10 / 1000 / 1000,2)\n",
    "print(\"总量:%s 亿\"%(allvol))\n",
    "mdf['vol']=mdf['volume'].apply(lambda x: round(x /1000/1000,2)) \n",
    "mdf['amount']=(mdf.volume * mdf.close).map(lambda x: round(x/100/1000/1000, 2))\n",
    "#全局占比\n",
    "mdf['volume'] = mdf.amount.apply(\n",
    "    lambda x: round(x / allvol * 100 / time_ratio, 2))\n",
    "mdf=mdf.reset_index().set_index('code')\n",
    "mdf.loc[h5code]"
   ]
  },
  {
   "cell_type": "code",
   "execution_count": null,
   "id": "854ef1e5-f158-41f2-905c-799c635d9804",
   "metadata": {
    "ExecuteTime": {
     "end_time": "2025-06-15T15:05:31.789912Z",
     "start_time": "2025-06-15T15:05:31.789894Z"
    },
    "execution": {
     "iopub.status.busy": "2025-06-13T11:53:11.036527Z",
     "iopub.status.idle": "2025-06-13T11:53:11.036527Z",
     "shell.execute_reply": "2025-06-13T11:53:11.036527Z",
     "shell.execute_reply.started": "2025-06-13T11:53:11.036527Z"
    },
    "tags": []
   },
   "outputs": [],
   "source": [
    "mdf[:2]\n",
    "mdf.loc['603019']"
   ]
  },
  {
   "cell_type": "code",
   "execution_count": null,
   "id": "f1713810-5801-4c87-89af-25cf8d18b513",
   "metadata": {
    "ExecuteTime": {
     "end_time": "2025-06-15T15:05:31.791672Z",
     "start_time": "2025-06-15T15:05:31.791654Z"
    },
    "execution": {
     "iopub.status.busy": "2025-06-13T11:53:11.037524Z",
     "iopub.status.idle": "2025-06-13T11:53:11.037524Z",
     "shell.execute_reply": "2025-06-13T11:53:11.037524Z",
     "shell.execute_reply.started": "2025-06-13T11:53:11.037524Z"
    },
    "tags": []
   },
   "outputs": [],
   "source": [
    "# h5.index.get_level_values('code')[0]\n",
    "# help(h5.index.get_level_values)\n",
    "str(h5.index.get_level_values(1)[-1])[:10]"
   ]
  },
  {
   "cell_type": "code",
   "execution_count": null,
   "id": "3a7f162d-d31e-482e-9b58-5a157d10db70",
   "metadata": {
    "ExecuteTime": {
     "end_time": "2025-06-15T15:05:31.793697Z",
     "start_time": "2025-06-15T15:05:31.793679Z"
    },
    "execution": {
     "iopub.status.busy": "2025-06-13T11:53:11.038521Z",
     "iopub.status.idle": "2025-06-13T11:53:11.038521Z",
     "shell.execute_reply": "2025-06-13T11:53:11.038521Z",
     "shell.execute_reply.started": "2025-06-13T11:53:11.038521Z"
    },
    "tags": []
   },
   "outputs": [],
   "source": [
    "if len(mdf) > 0:\n",
    "    mdf.loc['000002']\n",
    "else:\n",
    "    print(\"mdf is None\")"
   ]
  },
  {
   "cell_type": "markdown",
   "id": "22ce1d02-b9e1-458c-97cc-28e8c832c7d1",
   "metadata": {},
   "source": [
    "###  实时成交量个股Top!!!"
   ]
  },
  {
   "cell_type": "code",
   "execution_count": null,
   "id": "49abe975-3445-4e76-8167-237fee362b23",
   "metadata": {
    "ExecuteTime": {
     "end_time": "2025-06-15T15:05:31.795937Z",
     "start_time": "2025-06-15T15:05:31.795914Z"
    },
    "execution": {
     "iopub.status.busy": "2025-06-13T11:53:11.039519Z",
     "iopub.status.idle": "2025-06-13T11:53:11.039519Z",
     "shell.execute_reply": "2025-06-13T11:53:11.039519Z",
     "shell.execute_reply.started": "2025-06-13T11:53:11.039519Z"
    },
    "tags": []
   },
   "outputs": [],
   "source": [
    "nowdf = mdf.sort_values(by=['volume'], ascending=[0])\n",
    "# nowdf.shape, df.shape, code_idx.shape\n",
    "# top20_nd = nowdf.reset_index().loc[:, ['code', 'volume']][:20]\n",
    "top20_nd = nowdf.reset_index().loc[:, ['code', 'volume']][:20]\n",
    "top20_nd=get_sina_data_cname(top20_nd)"
   ]
  },
  {
   "cell_type": "code",
   "execution_count": null,
   "id": "c10ac524-3cf9-49ae-9d55-242150e0793d",
   "metadata": {
    "ExecuteTime": {
     "end_time": "2025-06-15T15:05:31.797358Z",
     "start_time": "2025-06-15T15:05:31.797341Z"
    },
    "execution": {
     "iopub.status.busy": "2025-06-13T11:53:11.040516Z",
     "iopub.status.idle": "2025-06-13T11:53:11.040516Z",
     "shell.execute_reply": "2025-06-13T11:53:11.040516Z",
     "shell.execute_reply.started": "2025-06-13T11:53:11.040516Z"
    },
    "tags": []
   },
   "outputs": [],
   "source": [
    "nowdf.shape,top20_nd"
   ]
  },
  {
   "cell_type": "code",
   "execution_count": null,
   "id": "c5cbdc34-3981-4c12-939c-51d9adb0b545",
   "metadata": {
    "ExecuteTime": {
     "end_time": "2025-06-15T15:05:31.799444Z",
     "start_time": "2025-06-15T15:05:31.799426Z"
    },
    "execution": {
     "iopub.status.busy": "2025-06-13T11:53:11.041514Z",
     "iopub.status.idle": "2025-06-13T11:53:11.041514Z",
     "shell.execute_reply": "2025-06-13T11:53:11.041514Z",
     "shell.execute_reply.started": "2025-06-13T11:53:11.041514Z"
    },
    "tags": []
   },
   "outputs": [],
   "source": [
    "# show_tdx_data(top20_nd)\n",
    "# top20_nd.columns"
   ]
  },
  {
   "cell_type": "markdown",
   "id": "2baa3f76-dff6-4ae3-82f4-7c74ec49a318",
   "metadata": {},
   "source": [
    "### 合并实时成交量及SinaDM"
   ]
  },
  {
   "cell_type": "code",
   "execution_count": null,
   "id": "1d6fac61-b687-41bb-b039-cd3324d451fc",
   "metadata": {
    "ExecuteTime": {
     "end_time": "2025-06-15T15:05:31.800635Z",
     "start_time": "2025-06-15T15:05:31.800619Z"
    },
    "execution": {
     "iopub.status.busy": "2025-06-13T11:53:11.042511Z",
     "iopub.status.idle": "2025-06-13T11:53:11.043508Z",
     "shell.execute_reply": "2025-06-13T11:53:11.043508Z",
     "shell.execute_reply.started": "2025-06-13T11:53:11.043508Z"
    },
    "tags": []
   },
   "outputs": [],
   "source": [
    "from JSONData import tdx_hdf5_api as h5a\n",
    "def get_tdx_all_from_h5(resample='d',showtable=True):\n",
    "    #sina_monitor\n",
    "    h5_fname = 'tdx_last_df'\n",
    "    resample=resample\n",
    "    if resample=='d':\n",
    "        dl='80'\n",
    "    else:\n",
    "        dl='200'\n",
    "    filter='y'\n",
    "    h5_table = 'low' + '_' + resample + '_' + str(dl) + '_' + filter + '_' + 'all'\n",
    "    h5 = h5a.load_hdf_db(h5_fname, table=h5_table,code_l=None, timelimit=False,showtable=showtable)\n",
    "    return h5\n"
   ]
  },
  {
   "cell_type": "code",
   "execution_count": null,
   "id": "50a932a4-dad4-4a65-adcf-fca81c17c4f5",
   "metadata": {
    "ExecuteTime": {
     "end_time": "2025-06-15T15:05:31.802296Z",
     "start_time": "2025-06-15T15:05:31.802276Z"
    },
    "execution": {
     "iopub.status.busy": "2025-06-13T11:53:11.044504Z",
     "iopub.status.idle": "2025-06-13T11:53:11.044504Z",
     "shell.execute_reply": "2025-06-13T11:53:11.044504Z",
     "shell.execute_reply.started": "2025-06-13T11:53:11.044504Z"
    },
    "tags": []
   },
   "outputs": [],
   "source": [
    "# mdf[:1]\n",
    "sinadm = cct.combine_dataFrame(sina_dm, mdf[['vol','amount']])\n",
    "sinadm['percent']=((sinadm['close']-sinadm['llastp'])/(sinadm['llastp'])*100).round(1)"
   ]
  },
  {
   "cell_type": "code",
   "execution_count": null,
   "id": "911903c6-1fb6-40ad-a964-84d14010817f",
   "metadata": {
    "ExecuteTime": {
     "end_time": "2025-06-15T15:05:31.804104Z",
     "start_time": "2025-06-15T15:05:31.804086Z"
    },
    "execution": {
     "iopub.status.busy": "2025-06-13T11:53:11.044504Z",
     "iopub.status.idle": "2025-06-13T11:53:11.045502Z",
     "shell.execute_reply": "2025-06-13T11:53:11.045502Z",
     "shell.execute_reply.started": "2025-06-13T11:53:11.045502Z"
    }
   },
   "outputs": [],
   "source": [
    "h5tdx = get_tdx_all_from_h5(resample='w')\n",
    "tdx_now_w = cct.combine_dataFrame(h5tdx,sinadm)"
   ]
  },
  {
   "cell_type": "code",
   "execution_count": null,
   "id": "f447d366-b389-4516-ad0d-9bd0cdec4927",
   "metadata": {
    "ExecuteTime": {
     "end_time": "2025-06-15T15:05:31.805669Z",
     "start_time": "2025-06-15T15:05:31.805650Z"
    },
    "execution": {
     "iopub.status.busy": "2025-06-13T11:53:11.046500Z",
     "iopub.status.idle": "2025-06-13T11:53:11.046500Z",
     "shell.execute_reply": "2025-06-13T11:53:11.046500Z",
     "shell.execute_reply.started": "2025-06-13T11:53:11.046500Z"
    },
    "tags": []
   },
   "outputs": [],
   "source": [
    "tdx_now_w.query('close > lastp1d and lastp1d > lastp2d and lastp2d >lastp3d and close > high4')"
   ]
  },
  {
   "cell_type": "markdown",
   "id": "2c1a5ab5-4220-4a5d-920d-b973ffd56cb0",
   "metadata": {},
   "source": [
    "### tdx_last_df and Now sina!!! RealTIME"
   ]
  },
  {
   "cell_type": "code",
   "execution_count": null,
   "id": "9ea848e0-10a3-4441-b159-323116844f84",
   "metadata": {
    "ExecuteTime": {
     "end_time": "2025-06-15T15:05:31.806915Z",
     "start_time": "2025-06-15T15:05:31.806897Z"
    },
    "execution": {
     "iopub.status.busy": "2025-06-13T11:53:11.047497Z",
     "iopub.status.idle": "2025-06-13T11:53:11.047497Z",
     "shell.execute_reply": "2025-06-13T11:53:11.047497Z",
     "shell.execute_reply.started": "2025-06-13T11:53:11.047497Z"
    },
    "tags": []
   },
   "outputs": [],
   "source": [
    "tdx_h5=get_tdx_all_from_h5()\n",
    "tdx_now = cct.combine_dataFrame(tdx_h5,sinadm)"
   ]
  },
  {
   "cell_type": "code",
   "execution_count": null,
   "id": "beec6cdf-8c72-4496-bfe0-6e7595584710",
   "metadata": {
    "ExecuteTime": {
     "end_time": "2025-06-15T15:05:31.808397Z",
     "start_time": "2025-06-15T15:05:31.808378Z"
    },
    "execution": {
     "iopub.status.busy": "2025-06-13T11:53:11.049492Z",
     "iopub.status.idle": "2025-06-13T11:53:11.049492Z",
     "shell.execute_reply": "2025-06-13T11:53:11.049492Z",
     "shell.execute_reply.started": "2025-06-13T11:53:11.049492Z"
    },
    "tags": []
   },
   "outputs": [],
   "source": [
    "tdx_now.shape\n",
    "# tdx_now.query('close >  lastp1d  and lastl1d < ma51d and close > ma51d and lastp1d < upper and lastp1d > lastp2d and lasth1d >high4 and boll > 0 and volume < 1')\n",
    "tdx_select = tdx_now.query('close > lastp1d and percent < 3')[:10]\n",
    "show_tdx_data(tdx_select)"
   ]
  },
  {
   "cell_type": "code",
   "execution_count": null,
   "id": "0368b782-2093-48f0-84f5-cbe77ae10a0a",
   "metadata": {
    "ExecuteTime": {
     "end_time": "2025-06-15T15:05:31.810197Z",
     "start_time": "2025-06-15T15:05:31.810179Z"
    },
    "execution": {
     "iopub.status.busy": "2025-06-13T11:53:11.050489Z",
     "iopub.status.idle": "2025-06-13T11:53:11.050489Z",
     "shell.execute_reply": "2025-06-13T11:53:11.050489Z",
     "shell.execute_reply.started": "2025-06-13T11:53:11.050489Z"
    },
    "tags": []
   },
   "outputs": [],
   "source": [
    "tdx_now.query('close.isna()').buy\n",
    "# tdx_h5.loc['301397']\n",
    "tdx_filter = tdx_now.query('low < ma5d*1.01 and close > max5 and close >hmax and percent > 1 and close > upper and boll > 1 and not code.str.contains(\"688\")')\n",
    "\n",
    "show_tdx_data(tdx_filter)"
   ]
  },
  {
   "cell_type": "markdown",
   "id": "91c9c617-4169-4e98-9bc6-1e4c440b312f",
   "metadata": {},
   "source": [
    "#### 新高test!!!!!!"
   ]
  },
  {
   "cell_type": "code",
   "execution_count": null,
   "id": "856579b9-d104-4c68-b5ec-703ff816d4c8",
   "metadata": {
    "ExecuteTime": {
     "end_time": "2025-06-15T15:05:31.813313Z",
     "start_time": "2025-06-15T15:05:31.813295Z"
    },
    "execution": {
     "iopub.status.busy": "2025-06-13T11:53:11.050489Z",
     "iopub.status.idle": "2025-06-13T11:53:11.051486Z",
     "shell.execute_reply": "2025-06-13T11:53:11.051486Z",
     "shell.execute_reply.started": "2025-06-13T11:53:11.051486Z"
    },
    "tags": []
   },
   "outputs": [],
   "source": [
    "write_code_to_blk(tdx_filter.index.tolist(),'rqg')"
   ]
  },
  {
   "cell_type": "code",
   "execution_count": null,
   "id": "75d4d85c-63a7-4e38-a77e-1e208b844438",
   "metadata": {
    "ExecuteTime": {
     "end_time": "2025-06-15T15:05:31.815647Z",
     "start_time": "2025-06-15T15:05:31.815625Z"
    },
    "execution": {
     "iopub.status.busy": "2025-06-13T11:53:11.052484Z",
     "iopub.status.idle": "2025-06-13T11:53:11.052484Z",
     "shell.execute_reply": "2025-06-13T11:53:11.052484Z",
     "shell.execute_reply.started": "2025-06-13T11:53:11.052484Z"
    },
    "tags": []
   },
   "outputs": [],
   "source": [
    "sinadm.shape\n",
    "sinadm.columns\n",
    "# sinadm['percent']=((sinadm['close']-sinadm['llastp'])/(sinadm['llastp'])*100).round(1)\n",
    "# sinadm['percent'] = sinadm['percent'].round(1)\n",
    "sinadm.query('percent > 6 ')"
   ]
  },
  {
   "cell_type": "markdown",
   "id": "8deafea9-8215-4653-96c5-d023f773cf57",
   "metadata": {},
   "source": [
    "## check HDF LastDate"
   ]
  },
  {
   "cell_type": "code",
   "execution_count": 18,
   "id": "4a2ea5a5-99c8-490d-87fa-bee55be5ca05",
   "metadata": {
    "ExecuteTime": {
     "end_time": "2025-06-15T15:05:31.836578Z",
     "start_time": "2025-06-15T15:05:31.821475Z"
    },
    "execution": {
     "iopub.status.busy": "2025-06-13T11:53:11.054479Z",
     "iopub.status.idle": "2025-06-13T11:53:11.054479Z",
     "shell.execute_reply": "2025-06-13T11:53:11.054479Z",
     "shell.execute_reply.started": "2025-06-13T11:53:11.054479Z"
    },
    "tags": []
   },
   "outputs": [
    {
     "ename": "NameError",
     "evalue": "name 'df' is not defined",
     "output_type": "error",
     "traceback": [
      "\u001b[0;31m---------------------------------------------------------------------------\u001b[0m",
      "\u001b[0;31mNameError\u001b[0m                                 Traceback (most recent call last)",
      "\u001b[0;32m/var/folders/7f/spryjd9n3qd9hsrgqjhyqn000000gp/T/ipykernel_29906/905358024.py\u001b[0m in \u001b[0;36m<module>\u001b[0;34m\u001b[0m\n\u001b[0;32m----> 1\u001b[0;31m \u001b[0mdf_tail1\u001b[0m \u001b[0;34m=\u001b[0m \u001b[0mdf\u001b[0m\u001b[0;34m.\u001b[0m\u001b[0mgroupby\u001b[0m\u001b[0;34m(\u001b[0m\u001b[0mlevel\u001b[0m\u001b[0;34m=\u001b[0m\u001b[0;34m[\u001b[0m\u001b[0;36m0\u001b[0m\u001b[0;34m]\u001b[0m\u001b[0;34m)\u001b[0m\u001b[0;34m.\u001b[0m\u001b[0mtail\u001b[0m\u001b[0;34m(\u001b[0m\u001b[0;36m1\u001b[0m\u001b[0;34m)\u001b[0m\u001b[0;34m\u001b[0m\u001b[0;34m\u001b[0m\u001b[0m\n\u001b[0m\u001b[1;32m      2\u001b[0m \u001b[0;31m# df_tail1.index\u001b[0m\u001b[0;34m\u001b[0m\u001b[0;34m\u001b[0m\u001b[0m\n\u001b[1;32m      3\u001b[0m \u001b[0;34m\u001b[0m\u001b[0m\n\u001b[1;32m      4\u001b[0m \u001b[0;31m#今日的code\u001b[0m\u001b[0;34m\u001b[0m\u001b[0;34m\u001b[0m\u001b[0m\n\u001b[1;32m      5\u001b[0m \u001b[0mdf_tail1\u001b[0m\u001b[0;34m[\u001b[0m\u001b[0mdf_tail1\u001b[0m\u001b[0;34m.\u001b[0m\u001b[0mindex\u001b[0m\u001b[0;34m.\u001b[0m\u001b[0mget_level_values\u001b[0m\u001b[0;34m(\u001b[0m\u001b[0;34m'date'\u001b[0m\u001b[0;34m)\u001b[0m \u001b[0;34m==\u001b[0m \u001b[0mcct\u001b[0m\u001b[0;34m.\u001b[0m\u001b[0mget_today\u001b[0m\u001b[0;34m(\u001b[0m\u001b[0;34m)\u001b[0m\u001b[0;34m]\u001b[0m\u001b[0;34m.\u001b[0m\u001b[0mshape\u001b[0m\u001b[0;34m\u001b[0m\u001b[0;34m\u001b[0m\u001b[0m\n",
      "\u001b[0;31mNameError\u001b[0m: name 'df' is not defined"
     ]
    }
   ],
   "source": [
    "df_tail1 = df.groupby(level=[0]).tail(1)\n",
    "# df_tail1.index\n",
    "\n",
    "#今日的code\n",
    "df_tail1[df_tail1.index.get_level_values('date') == cct.get_today()].shape\n",
    "\n",
    "#没有今日的code\n",
    "df_tail1[df_tail1.index.get_level_values('date') != cct.get_today()].shape"
   ]
  },
  {
   "cell_type": "code",
   "execution_count": 19,
   "id": "ca886b24-90df-4659-a0a7-3afca60a8c37",
   "metadata": {
    "ExecuteTime": {
     "end_time": "2025-06-15T15:05:31.864182Z",
     "start_time": "2025-06-15T15:05:31.860898Z"
    },
    "execution": {
     "iopub.status.busy": "2025-06-13T11:53:11.056474Z",
     "iopub.status.idle": "2025-06-13T11:53:11.057472Z",
     "shell.execute_reply": "2025-06-13T11:53:11.056474Z",
     "shell.execute_reply.started": "2025-06-13T11:53:11.056474Z"
    },
    "tags": []
   },
   "outputs": [],
   "source": [
    "# df_tail1"
   ]
  },
  {
   "cell_type": "code",
   "execution_count": 20,
   "id": "6f091276-ca66-4d6d-8960-d73712924ad9",
   "metadata": {
    "ExecuteTime": {
     "end_time": "2025-06-15T15:05:31.911209Z",
     "start_time": "2025-06-15T15:05:31.897314Z"
    },
    "execution": {
     "iopub.status.busy": "2025-06-13T11:53:11.057472Z",
     "iopub.status.idle": "2025-06-13T11:53:11.058468Z",
     "shell.execute_reply": "2025-06-13T11:53:11.057472Z",
     "shell.execute_reply.started": "2025-06-13T11:53:11.057472Z"
    },
    "tags": []
   },
   "outputs": [
    {
     "ename": "NameError",
     "evalue": "name 'df_tail1' is not defined",
     "output_type": "error",
     "traceback": [
      "\u001b[0;31m---------------------------------------------------------------------------\u001b[0m",
      "\u001b[0;31mNameError\u001b[0m                                 Traceback (most recent call last)",
      "\u001b[0;32m/var/folders/7f/spryjd9n3qd9hsrgqjhyqn000000gp/T/ipykernel_29906/2714805195.py\u001b[0m in \u001b[0;36m<module>\u001b[0;34m\u001b[0m\n\u001b[0;32m----> 1\u001b[0;31m \u001b[0mdf_tail1\u001b[0m\u001b[0;34m[\u001b[0m\u001b[0mdf_tail1\u001b[0m\u001b[0;34m.\u001b[0m\u001b[0mindex\u001b[0m\u001b[0;34m.\u001b[0m\u001b[0mget_level_values\u001b[0m\u001b[0;34m(\u001b[0m\u001b[0;34m'date'\u001b[0m\u001b[0;34m)\u001b[0m \u001b[0;34m!=\u001b[0m \u001b[0mcct\u001b[0m\u001b[0;34m.\u001b[0m\u001b[0mget_today\u001b[0m\u001b[0;34m(\u001b[0m\u001b[0;34m)\u001b[0m\u001b[0;34m]\u001b[0m\u001b[0;34m[\u001b[0m\u001b[0;34m:\u001b[0m\u001b[0;36m1\u001b[0m\u001b[0;34m]\u001b[0m\u001b[0;34m\u001b[0m\u001b[0;34m\u001b[0m\u001b[0m\n\u001b[0m",
      "\u001b[0;31mNameError\u001b[0m: name 'df_tail1' is not defined"
     ]
    }
   ],
   "source": [
    "df_tail1[df_tail1.index.get_level_values('date') != cct.get_today()][:1]"
   ]
  },
  {
   "cell_type": "code",
   "execution_count": 21,
   "id": "4119a0cf-3091-4a4c-8acf-06e33f2deff6",
   "metadata": {
    "ExecuteTime": {
     "end_time": "2025-06-15T15:05:31.945446Z",
     "start_time": "2025-06-15T15:05:31.942031Z"
    },
    "execution": {
     "iopub.status.busy": "2025-06-13T11:53:11.059465Z",
     "iopub.status.idle": "2025-06-13T11:53:11.059465Z",
     "shell.execute_reply": "2025-06-13T11:53:11.059465Z",
     "shell.execute_reply.started": "2025-06-13T11:53:11.059465Z"
    },
    "tags": []
   },
   "outputs": [],
   "source": [
    "# df.info()\n",
    "# code_t = '600519'\n",
    "# print(dfNow.loc[code_t][-3:])\n",
    "# df.loc['000001'][-1:]\n",
    "# dfbak = df.copy()\n",
    "# df[(df.idx > df.idx.shift(1)) & (df.xratio > df.xratio.shift(1))].shape\n"
   ]
  },
  {
   "cell_type": "markdown",
   "id": "f7e28a03-4b68-4036-8e6c-50b7f8cac82c",
   "metadata": {},
   "source": [
    "## reindex sort date"
   ]
  },
  {
   "cell_type": "code",
   "execution_count": 22,
   "id": "d3ccd9e7-3497-4ce4-94d4-d6b6ec3e184e",
   "metadata": {
    "ExecuteTime": {
     "end_time": "2025-06-15T15:05:32.021875Z",
     "start_time": "2025-06-15T15:05:32.018650Z"
    },
    "execution": {
     "iopub.status.busy": "2025-06-13T11:53:11.060463Z",
     "iopub.status.idle": "2025-06-13T11:53:11.061459Z",
     "shell.execute_reply": "2025-06-13T11:53:11.061459Z",
     "shell.execute_reply.started": "2025-06-13T11:53:11.061459Z"
    },
    "tags": []
   },
   "outputs": [],
   "source": [
    "# df = df.reset_index().sort_values(by=['code', 'date'], ascending=[0, 1]).set_index(['code','date'])"
   ]
  },
  {
   "cell_type": "markdown",
   "id": "ced08b1d-d3d5-406f-8caf-45c3ff31f4b6",
   "metadata": {},
   "source": [
    "## 初始化参数"
   ]
  },
  {
   "cell_type": "code",
   "execution_count": 23,
   "id": "78775685-15b0-421f-98aa-31d7c263ef9d",
   "metadata": {
    "ExecuteTime": {
     "end_time": "2025-06-15T15:05:32.122840Z",
     "start_time": "2025-06-15T15:05:32.106615Z"
    },
    "execution": {
     "iopub.status.busy": "2025-06-13T11:53:11.063537Z",
     "iopub.status.idle": "2025-06-13T11:53:11.064454Z",
     "shell.execute_reply": "2025-06-13T11:53:11.064454Z",
     "shell.execute_reply.started": "2025-06-13T11:53:11.064454Z"
    },
    "tags": []
   },
   "outputs": [],
   "source": [
    "app = True\n",
    "tdx = True\n",
    "duration = 300\n",
    "ma_250_l = 1.02\n",
    "ma_250_h = 1.2\n",
    "\n",
    "if resample.upper() == 'D' or resample.lower() == 'd':\n",
    "    if duration < 300:\n",
    "        rollma = ['10', '5', '20']\n",
    "    else:\n",
    "        rollma = ['10', '5', '20', '250']\n",
    "\n",
    "elif resample.upper() == 'W' or resample.lower() == 'w':\n",
    "    rollma = ['5', '10']\n",
    "else:\n",
    "    rollma = ['5', '10']\n",
    "        \n",
    "\n",
    "def init_MulitiData_Roll(df,resample='d',duration=300):\n",
    "    time_s = time.time()\n",
    "    dfs = df.copy()\n",
    "    # dfs = df.loc['600519']\n",
    "    # groupd = dfs.groupby(level=[0])\n",
    "    # groupd.['close']\n",
    "    # rollma = ['5','10','60','100','200']\n",
    "    # rollma = ['5','10','250']\n",
    "    # df.index.get_level_values('code')[0]\n",
    "    if resample.upper() == 'D' or resample.lower() == 'd':\n",
    "        if duration < 300:\n",
    "            rollma = ['10', '5', '20']\n",
    "        else:\n",
    "            rollma = ['10', '5', '20', '250']\n",
    "\n",
    "    elif resample.upper() == 'W' or resample.lower() == 'w':\n",
    "        rollma = ['5', '10','20']\n",
    "    else:\n",
    "        rollma = ['5', '10','20']\n",
    "\n",
    "    # rollma.extend([str(duration)])\n",
    "\n",
    "    # import ipdb;ipdb.set_trace()\n",
    "    # df.loc['300130'][:2]\n",
    "\n",
    "    # dfs['mean'] = groupd['close'].agg('mean')\n",
    "    # dfs['median'] = groupd['close'].agg('median')\n",
    "\n",
    "    # BOLL:MA(CV,N), COLORMAGENTA;\n",
    "    # UPPER:BOLL+P*STD(CV,N), COLORYELLOW;\n",
    "    # LOWER:BOLL-P*STD(CV,N), COLORYELLOW;\n",
    "    # df['BollUpper'] = df.close.shift(10).mean()+2*df.close.shift(10).std()\n",
    "    # df['BollDown'] = df.close.shift(10).mean()-2*df.close.shift(10).std()\n",
    "    for da in rollma:\n",
    "        cumdays = int(da)\n",
    "        dfs['ma%d' % cumdays] = round(dfs['close'].rolling(cumdays).mean(), 2)\n",
    "\n",
    "        # dfs['upper'] = dfs['ma%d' % cumdays].apply(\n",
    "        #     lambda x: round((1 + 11.0 / 100) * x, 1))\n",
    "        # dfs['lower'] = dfs['ma%d' % cumdays].apply(\n",
    "        #     lambda x: round((1 - 9.0 / 100) * x, 1))\n",
    "        # dfs['boll'] = list(map(lambda x, y: round(\n",
    "        #     (x + y) / 2, 1), dfs['upper'], dfs['lower']))\n",
    "    if duration > 100:\n",
    "        dfs['upper'] = round(\n",
    "            dfs['close'].rolling(20).mean() + 2 *\n",
    "            dfs['close'].rolling(20).std(),\n",
    "            2)\n",
    "        dfs['lower'] = round(\n",
    "            dfs['close'].rolling(20).mean() - 2 *\n",
    "            dfs['close'].rolling(20).std(),\n",
    "            2)\n",
    "\n",
    "        dfs['boll'] = round(dfs['close'].rolling(20).mean(), 2)\n",
    "\n",
    "        dfs['hmax'] = round(dfs['high'].rolling(20).max(), 2)\n",
    "        dfs['lmin'] = round(dfs['low'].rolling(20).min(), 2)\n",
    "\n",
    "        dfs['hat'] = dfs['upper'] - dfs['lower']\n",
    "\n",
    "        # dfs['hmax'] = round(dfs['close'].cummax(), 2)\n",
    "\n",
    "\n",
    "    dfs = compute_df_Col_lastday(dfs, col='close', colre='perc', days=5)\n",
    "    dfs = compute_df_Col_lastday(dfs, col='vol', colre='vol', days=5, plus=False)\n",
    "    dfs = compute_perd_value(dfs, market_value=5, col='vol', col_new='volsum')\n",
    "\n",
    "    return dfs\n",
    "# dfs['perc1d'] = round(\n",
    "#     (dfs['close'] - dfs['close'].shift(1)) / dfs['close'].shift(1) * 100, 2)\n",
    "# dfs['perc3d'] = round(\n",
    "#     (dfs['close'] - dfs['close'].shift(3)) / dfs['close'].shift(3) * 100, 2)\n",
    "# dfs['perc5d'] = round(\n",
    "#     (dfs['close'] - dfs['close'].shift(5)) / dfs['close'].shift(3) * 100, 2)"
   ]
  },
  {
   "cell_type": "code",
   "execution_count": 75,
   "id": "925ef4b0-defb-4548-8ef7-f6dc8a3fc633",
   "metadata": {
    "ExecuteTime": {
     "end_time": "2025-06-15T15:07:33.476877Z",
     "start_time": "2025-06-15T15:07:33.460513Z"
    },
    "execution": {
     "iopub.status.busy": "2025-06-13T11:53:11.066447Z",
     "iopub.status.idle": "2025-06-13T11:53:11.066447Z",
     "shell.execute_reply": "2025-06-13T11:53:11.066447Z",
     "shell.execute_reply.started": "2025-06-13T11:53:11.066447Z"
    },
    "tags": []
   },
   "outputs": [
    {
     "ename": "NameError",
     "evalue": "name 'df' is not defined",
     "output_type": "error",
     "traceback": [
      "\u001b[0;31m---------------------------------------------------------------------------\u001b[0m",
      "\u001b[0;31mNameError\u001b[0m                                 Traceback (most recent call last)",
      "\u001b[0;32m/var/folders/7f/spryjd9n3qd9hsrgqjhyqn000000gp/T/ipykernel_29906/3059378058.py\u001b[0m in \u001b[0;36m<module>\u001b[0;34m\u001b[0m\n\u001b[0;32m----> 1\u001b[0;31m \u001b[0mdfsRoot\u001b[0m\u001b[0;34m=\u001b[0m\u001b[0minit_MulitiData_Roll\u001b[0m\u001b[0;34m(\u001b[0m\u001b[0mdf\u001b[0m\u001b[0;34m,\u001b[0m\u001b[0mresample\u001b[0m\u001b[0;34m=\u001b[0m\u001b[0mresample\u001b[0m\u001b[0;34m)\u001b[0m\u001b[0;34m\u001b[0m\u001b[0;34m\u001b[0m\u001b[0m\n\u001b[0m",
      "\u001b[0;31mNameError\u001b[0m: name 'df' is not defined"
     ]
    }
   ],
   "source": [
    "dfsRoot=init_MulitiData_Roll(df,resample=resample)"
   ]
  },
  {
   "cell_type": "markdown",
   "id": "dcd85b4d-ca6e-4398-975a-a4e1129492f9",
   "metadata": {
    "tags": []
   },
   "source": [
    "### DFS MutiIndex Test 0507"
   ]
  },
  {
   "cell_type": "code",
   "execution_count": 25,
   "id": "b26f4475-b56c-4896-a562-6319d57b49a6",
   "metadata": {
    "ExecuteTime": {
     "end_time": "2025-06-15T15:05:32.259134Z",
     "start_time": "2025-06-15T15:05:32.243876Z"
    },
    "execution": {
     "iopub.status.busy": "2025-06-13T11:53:11.067444Z",
     "iopub.status.idle": "2025-06-13T11:53:11.068449Z",
     "shell.execute_reply": "2025-06-13T11:53:11.068449Z",
     "shell.execute_reply.started": "2025-06-13T11:53:11.067444Z"
    },
    "tags": []
   },
   "outputs": [
    {
     "ename": "NameError",
     "evalue": "name 'dfsRoot' is not defined",
     "output_type": "error",
     "traceback": [
      "\u001b[0;31m---------------------------------------------------------------------------\u001b[0m",
      "\u001b[0;31mNameError\u001b[0m                                 Traceback (most recent call last)",
      "\u001b[0;32m/var/folders/7f/spryjd9n3qd9hsrgqjhyqn000000gp/T/ipykernel_29906/3251594605.py\u001b[0m in \u001b[0;36m<module>\u001b[0;34m\u001b[0m\n\u001b[1;32m      1\u001b[0m \u001b[0;31m# dfs.loc['000002'][-5:].upper\u001b[0m\u001b[0;34m\u001b[0m\u001b[0;34m\u001b[0m\u001b[0m\n\u001b[0;32m----> 2\u001b[0;31m \u001b[0mdfsRoot\u001b[0m\u001b[0;34m.\u001b[0m\u001b[0mloc\u001b[0m\u001b[0;34m[\u001b[0m\u001b[0;34m'603357'\u001b[0m\u001b[0;34m]\u001b[0m\u001b[0;34m[\u001b[0m\u001b[0;34m-\u001b[0m\u001b[0;36m5\u001b[0m\u001b[0;34m:\u001b[0m\u001b[0;34m]\u001b[0m\u001b[0;34m[\u001b[0m\u001b[0;34m[\u001b[0m\u001b[0;34m'close'\u001b[0m\u001b[0;34m,\u001b[0m\u001b[0;34m'upper'\u001b[0m\u001b[0;34m,\u001b[0m\u001b[0;34m'low'\u001b[0m\u001b[0;34m,\u001b[0m\u001b[0;34m'boll'\u001b[0m\u001b[0;34m]\u001b[0m\u001b[0;34m]\u001b[0m\u001b[0;34m[\u001b[0m\u001b[0;34m-\u001b[0m\u001b[0;36m2\u001b[0m\u001b[0;34m:\u001b[0m\u001b[0;34m]\u001b[0m\u001b[0;34m\u001b[0m\u001b[0;34m\u001b[0m\u001b[0m\n\u001b[0m\u001b[1;32m      3\u001b[0m \u001b[0mdftemp\u001b[0m \u001b[0;34m=\u001b[0m \u001b[0mdfsRoot\u001b[0m\u001b[0;34m.\u001b[0m\u001b[0mloc\u001b[0m\u001b[0;34m[\u001b[0m\u001b[0;34m'603357'\u001b[0m\u001b[0;34m]\u001b[0m\u001b[0;34m\u001b[0m\u001b[0;34m\u001b[0m\u001b[0m\n\u001b[1;32m      4\u001b[0m \u001b[0mdftemp\u001b[0m\u001b[0;34m[\u001b[0m\u001b[0mdftemp\u001b[0m\u001b[0;34m.\u001b[0m\u001b[0mclose\u001b[0m \u001b[0;34m>\u001b[0m \u001b[0mdftemp\u001b[0m\u001b[0;34m.\u001b[0m\u001b[0mupper\u001b[0m\u001b[0;34m]\u001b[0m\u001b[0;34m[\u001b[0m\u001b[0;34m:\u001b[0m\u001b[0;36m2\u001b[0m\u001b[0;34m]\u001b[0m\u001b[0;34m\u001b[0m\u001b[0;34m\u001b[0m\u001b[0m\n\u001b[1;32m      5\u001b[0m \u001b[0mprint\u001b[0m\u001b[0;34m(\u001b[0m\u001b[0mdftemp\u001b[0m\u001b[0;34m.\u001b[0m\u001b[0mshape\u001b[0m\u001b[0;34m)\u001b[0m\u001b[0;34m\u001b[0m\u001b[0;34m\u001b[0m\u001b[0m\n",
      "\u001b[0;31mNameError\u001b[0m: name 'dfsRoot' is not defined"
     ]
    }
   ],
   "source": [
    "# dfs.loc['000002'][-5:].upper\n",
    "dfsRoot.loc['603357'][-5:][['close','upper','low','boll']][-2:]\n",
    "dftemp = dfsRoot.loc['603357']\n",
    "dftemp[dftemp.close > dftemp.upper][:2]\n",
    "print(dftemp.shape)"
   ]
  },
  {
   "cell_type": "code",
   "execution_count": 26,
   "id": "4cefaf13-e1c2-4c9f-a859-c1f59e5f78a8",
   "metadata": {
    "ExecuteTime": {
     "end_time": "2025-06-15T15:05:32.305189Z",
     "start_time": "2025-06-15T15:05:32.290111Z"
    },
    "execution": {
     "iopub.status.busy": "2025-06-13T11:53:11.069439Z",
     "iopub.status.idle": "2025-06-13T11:53:11.070435Z",
     "shell.execute_reply": "2025-06-13T11:53:11.069439Z",
     "shell.execute_reply.started": "2025-06-13T11:53:11.069439Z"
    },
    "tags": []
   },
   "outputs": [
    {
     "ename": "NameError",
     "evalue": "name 'dfsRoot' is not defined",
     "output_type": "error",
     "traceback": [
      "\u001b[0;31m---------------------------------------------------------------------------\u001b[0m",
      "\u001b[0;31mNameError\u001b[0m                                 Traceback (most recent call last)",
      "\u001b[0;32m/var/folders/7f/spryjd9n3qd9hsrgqjhyqn000000gp/T/ipykernel_29906/2491219166.py\u001b[0m in \u001b[0;36m<module>\u001b[0;34m\u001b[0m\n\u001b[1;32m      1\u001b[0m \u001b[0;31m# dfs.loc['688027']\u001b[0m\u001b[0;34m\u001b[0m\u001b[0;34m\u001b[0m\u001b[0m\n\u001b[0;32m----> 2\u001b[0;31m \u001b[0mdfsRoot\u001b[0m\u001b[0;34m[\u001b[0m\u001b[0;34m'ma51d'\u001b[0m\u001b[0;34m]\u001b[0m \u001b[0;34m=\u001b[0m \u001b[0mround\u001b[0m\u001b[0;34m(\u001b[0m\u001b[0mdfsRoot\u001b[0m\u001b[0;34m[\u001b[0m\u001b[0;34m'close'\u001b[0m\u001b[0;34m]\u001b[0m\u001b[0;34m.\u001b[0m\u001b[0mrolling\u001b[0m\u001b[0;34m(\u001b[0m\u001b[0;36m5\u001b[0m\u001b[0;34m)\u001b[0m\u001b[0;34m.\u001b[0m\u001b[0mmean\u001b[0m\u001b[0;34m(\u001b[0m\u001b[0;34m)\u001b[0m\u001b[0;34m,\u001b[0m \u001b[0;36m2\u001b[0m\u001b[0;34m)\u001b[0m\u001b[0;34m\u001b[0m\u001b[0;34m\u001b[0m\u001b[0m\n\u001b[0m\u001b[1;32m      3\u001b[0m \u001b[0mshow_tdx_data\u001b[0m\u001b[0;34m(\u001b[0m\u001b[0mdfsRoot\u001b[0m\u001b[0;34m.\u001b[0m\u001b[0mloc\u001b[0m\u001b[0;34m[\u001b[0m\u001b[0;34m'600519'\u001b[0m\u001b[0;34m]\u001b[0m\u001b[0;34m[\u001b[0m\u001b[0;34m-\u001b[0m\u001b[0;36m2\u001b[0m\u001b[0;34m:\u001b[0m\u001b[0;34m]\u001b[0m\u001b[0;34m,\u001b[0m\u001b[0mcol\u001b[0m\u001b[0;34m=\u001b[0m\u001b[0;34m[\u001b[0m\u001b[0;34m'ma51d'\u001b[0m\u001b[0;34m,\u001b[0m\u001b[0;34m'ra_diff'\u001b[0m\u001b[0;34m]\u001b[0m\u001b[0;34m)\u001b[0m\u001b[0;34m\u001b[0m\u001b[0;34m\u001b[0m\u001b[0m\n\u001b[1;32m      4\u001b[0m \u001b[0;31m# show_tdx_data(dfs.loc['600519'])\u001b[0m\u001b[0;34m\u001b[0m\u001b[0;34m\u001b[0m\u001b[0m\n",
      "\u001b[0;31mNameError\u001b[0m: name 'dfsRoot' is not defined"
     ]
    }
   ],
   "source": [
    "# dfs.loc['688027']\n",
    "dfsRoot['ma51d'] = round(dfsRoot['close'].rolling(5).mean(), 2)\n",
    "show_tdx_data(dfsRoot.loc['600519'][-2:],col=['ma51d','ra_diff'])\n",
    "# show_tdx_data(dfs.loc['600519'])"
   ]
  },
  {
   "cell_type": "markdown",
   "id": "6d6958fc-3ab6-4f33-abd7-1262cd6688c9",
   "metadata": {
    "tags": []
   },
   "source": [
    "### Append Now SinaTo MultiIndex dfNow"
   ]
  },
  {
   "cell_type": "code",
   "execution_count": 74,
   "id": "0c4e6cfc-54cb-48c0-af98-26782afe2360",
   "metadata": {
    "ExecuteTime": {
     "end_time": "2025-06-15T15:07:11.422022Z",
     "start_time": "2025-06-15T15:07:11.394312Z"
    },
    "execution": {
     "iopub.status.busy": "2025-06-13T11:53:11.071434Z",
     "iopub.status.idle": "2025-06-13T11:53:11.071434Z",
     "shell.execute_reply": "2025-06-13T11:53:11.071434Z",
     "shell.execute_reply.started": "2025-06-13T11:53:11.071434Z"
    },
    "tags": []
   },
   "outputs": [
    {
     "ename": "NameError",
     "evalue": "name 'dfsRoot' is not defined",
     "output_type": "error",
     "traceback": [
      "\u001b[0;31m---------------------------------------------------------------------------\u001b[0m",
      "\u001b[0;31mNameError\u001b[0m                                 Traceback (most recent call last)",
      "\u001b[0;32m/var/folders/7f/spryjd9n3qd9hsrgqjhyqn000000gp/T/ipykernel_29906/3636791657.py\u001b[0m in \u001b[0;36m<module>\u001b[0;34m\u001b[0m\n\u001b[1;32m     48\u001b[0m \u001b[0;34m\u001b[0m\u001b[0m\n\u001b[1;32m     49\u001b[0m \u001b[0;32mif\u001b[0m \u001b[0mresample\u001b[0m\u001b[0;34m.\u001b[0m\u001b[0mupper\u001b[0m\u001b[0;34m(\u001b[0m\u001b[0;34m)\u001b[0m \u001b[0;34m==\u001b[0m \u001b[0;34m'D'\u001b[0m\u001b[0;34m:\u001b[0m\u001b[0;34m\u001b[0m\u001b[0;34m\u001b[0m\u001b[0m\n\u001b[0;32m---> 50\u001b[0;31m     \u001b[0mdfsRoot\u001b[0m\u001b[0;34m=\u001b[0m\u001b[0mget_Append_Sina_To_MultiTDX\u001b[0m\u001b[0;34m(\u001b[0m\u001b[0mdfsRoot\u001b[0m\u001b[0;34m.\u001b[0m\u001b[0mgroupby\u001b[0m\u001b[0;34m(\u001b[0m\u001b[0mlevel\u001b[0m\u001b[0;34m=\u001b[0m\u001b[0;34m[\u001b[0m\u001b[0;36m0\u001b[0m\u001b[0;34m]\u001b[0m\u001b[0;34m)\u001b[0m\u001b[0;34m.\u001b[0m\u001b[0mtail\u001b[0m\u001b[0;34m(\u001b[0m\u001b[0mtail_days\u001b[0m\u001b[0;34m)\u001b[0m\u001b[0;34m,\u001b[0m\u001b[0msinadm\u001b[0m\u001b[0;34m)\u001b[0m\u001b[0;34m\u001b[0m\u001b[0;34m\u001b[0m\u001b[0m\n\u001b[0m\u001b[1;32m     51\u001b[0m     \u001b[0mdfNow\u001b[0m\u001b[0;34m=\u001b[0m \u001b[0mdfsRoot\u001b[0m\u001b[0;34m.\u001b[0m\u001b[0mgroupby\u001b[0m\u001b[0;34m(\u001b[0m\u001b[0mlevel\u001b[0m\u001b[0;34m=\u001b[0m\u001b[0;34m[\u001b[0m\u001b[0;36m0\u001b[0m\u001b[0;34m]\u001b[0m\u001b[0;34m)\u001b[0m\u001b[0;34m.\u001b[0m\u001b[0mtail\u001b[0m\u001b[0;34m(\u001b[0m\u001b[0mtail_days\u001b[0m\u001b[0;34m/\u001b[0m\u001b[0;36m2\u001b[0m\u001b[0;34m)\u001b[0m\u001b[0;34m\u001b[0m\u001b[0;34m\u001b[0m\u001b[0m\n\u001b[1;32m     52\u001b[0m \u001b[0;34m\u001b[0m\u001b[0m\n",
      "\u001b[0;31mNameError\u001b[0m: name 'dfsRoot' is not defined"
     ]
    }
   ],
   "source": [
    "# tail_days = 60\n",
    "# cct.get_today()\n",
    "def get_Append_Sina_To_MultiTDX(df,sina_dm):\n",
    "    if cct.get_work_time_duration():\n",
    "        sina_today=sina_dm.copy()\n",
    "        if not isinstance(sina_today,pd.MultiIndex) and  'date' not  in sina_today.columns:\n",
    "            sina_today['date']=pd.to_datetime(cct.get_today())\n",
    "            print('concat1 init:sina_today:%s'%(sina_today.index[0]))\n",
    "            # df_reg_ratio2 = df.groupby(level=[0])['close'].apply(regression_ratio)\n",
    "            # df_idx_detect2 = df.groupby(level=[0])['close'].apply(detect_bull_bear_apply)\n",
    "            # sina_today['idx'] = df_idx_detect2\n",
    "            # sina_today['xratio'] = df_reg_ratio2\n",
    "            # sina_today=sina_today.loc[:,['open','high','low','close','date','idx',y'xratio']].reset_index().set_index(['code', 'date'])\n",
    "            if 'vol' in sina_today.columns:\n",
    "                sina_today=sina_today.loc[:,['open','high','low','close','vol','amount','name','date']].reset_index().set_index(['code', 'date'])\n",
    "            else:\n",
    "                sina_today=sina_today.loc[:,['open','high','low','close','date']].reset_index().set_index(['code', 'date'])\n",
    "\n",
    "        if sina_today.index[0] not in df.index:\n",
    "            # df.index=df.index.append(sina_dm.index)\n",
    "            print('concat1:sina_today:%s %s'%(sina_today.index[0]))\n",
    "            df = pd.concat([df, sina_today])\n",
    "\n",
    "\n",
    "    #         sina_today=sina_dm.copy()\n",
    "    #         #drop line and append idx\n",
    "    #         if not isinstance(sina_today,pd.MultiIndex) and  'date' not  in sina_today.columns:\n",
    "    #             sina_today['date']=pd.to_datetime(cct.get_today())\n",
    "    #             print('concat2 init:sina_today:%s'%(sina_today.index[0]))\n",
    "\n",
    "    #             sina_today['idx'] = df_idx_detect2\n",
    "    #             sina_today['xratio'] = df_reg_ratio2\n",
    "    #             sina_today=sina_today.loc[:,['open','high','low','close','date','name','idx','xratio']].reset_index().set_index(['code', 'date'])\n",
    "    #             # sina_today=sina_today.loc[:,['open','high','low','close','date']].reset_index().set_index(['code', 'date'])   \n",
    "\n",
    "\n",
    "    #         df = get_multiIndex_drop_last_row(df,dropline=1)\n",
    "\n",
    "            if sina_today.index[0] not in df.index:\n",
    "                # df.index=df.index.append(sina_dm.index)\n",
    "                print('concat2:sina_today:%s %s'%(sina_today.index[0]))\n",
    "                df = pd.concat([df, sina_today])\n",
    "            df = df.reset_index().sort_values(by=['code', 'date'], ascending=[0, 1]).set_index(['code','date'])\n",
    "    return df\n",
    "\n",
    "# dfNow=get_Append_Sina_To_MultiTDX(df.groupby(level=[0]).tail(30),sina_dm)\n",
    "\n",
    "\n",
    "if resample.upper() == 'D':\n",
    "    dfsRoot=get_Append_Sina_To_MultiTDX(dfsRoot.groupby(level=[0]).tail(tail_days),sinadm)\n",
    "    dfNow= dfsRoot.groupby(level=[0]).tail(tail_days/2)\n",
    "    \n",
    "    dfNow=init_MulitiData_Roll(dfNow,resample=resample,duration=20)\n",
    "else:\n",
    "    dfNow = dfsRoot.groupby(level=[0]).tail(tail_days/2).copy()\n",
    "# df = df.reset_index().sort_values(by=['code', 'date'], ascending=[0, 1]).set_index(['code','date'])\n",
    "# df[-2:]\n",
    "dfNow[-2:]"
   ]
  },
  {
   "cell_type": "code",
   "execution_count": 28,
   "id": "e2617d9b-f32a-4e5c-bf12-4be9301aeb78",
   "metadata": {
    "ExecuteTime": {
     "end_time": "2025-06-15T15:05:32.447036Z",
     "start_time": "2025-06-15T15:05:32.432343Z"
    },
    "execution": {
     "iopub.status.busy": "2025-06-13T11:53:11.072430Z",
     "iopub.status.idle": "2025-06-13T11:53:11.073428Z",
     "shell.execute_reply": "2025-06-13T11:53:11.073428Z",
     "shell.execute_reply.started": "2025-06-13T11:53:11.073428Z"
    },
    "tags": []
   },
   "outputs": [
    {
     "ename": "NameError",
     "evalue": "name 'dfsRoot' is not defined",
     "output_type": "error",
     "traceback": [
      "\u001b[0;31m---------------------------------------------------------------------------\u001b[0m",
      "\u001b[0;31mNameError\u001b[0m                                 Traceback (most recent call last)",
      "\u001b[0;32m/var/folders/7f/spryjd9n3qd9hsrgqjhyqn000000gp/T/ipykernel_29906/3649175500.py\u001b[0m in \u001b[0;36m<module>\u001b[0;34m\u001b[0m\n\u001b[0;32m----> 1\u001b[0;31m \u001b[0mdfsRoot\u001b[0m\u001b[0;34m.\u001b[0m\u001b[0mgroupby\u001b[0m\u001b[0;34m(\u001b[0m\u001b[0mlevel\u001b[0m\u001b[0;34m=\u001b[0m\u001b[0;34m[\u001b[0m\u001b[0;36m0\u001b[0m\u001b[0;34m]\u001b[0m\u001b[0;34m)\u001b[0m\u001b[0;34m.\u001b[0m\u001b[0mtail\u001b[0m\u001b[0;34m(\u001b[0m\u001b[0;36m60\u001b[0m\u001b[0;34m)\u001b[0m\u001b[0;34m.\u001b[0m\u001b[0mloc\u001b[0m\u001b[0;34m[\u001b[0m\u001b[0;34m'000002'\u001b[0m\u001b[0;34m]\u001b[0m\u001b[0;34m[\u001b[0m\u001b[0;34m-\u001b[0m\u001b[0;36m1\u001b[0m\u001b[0;34m:\u001b[0m\u001b[0;34m]\u001b[0m\u001b[0;34m\u001b[0m\u001b[0;34m\u001b[0m\u001b[0m\n\u001b[0m",
      "\u001b[0;31mNameError\u001b[0m: name 'dfsRoot' is not defined"
     ]
    }
   ],
   "source": [
    "dfsRoot.groupby(level=[0]).tail(60).loc['000002'][-1:]\n"
   ]
  },
  {
   "cell_type": "markdown",
   "id": "d70cf9b9-5320-45a0-8fbf-172036adec66",
   "metadata": {},
   "source": [
    "### Xratio and tail 60 MultiIndex "
   ]
  },
  {
   "cell_type": "code",
   "execution_count": 29,
   "id": "755a6258-063e-41e1-bd1e-12597dcc2930",
   "metadata": {
    "ExecuteTime": {
     "end_time": "2025-06-15T15:05:32.529242Z",
     "start_time": "2025-06-15T15:05:32.513664Z"
    },
    "execution": {
     "iopub.status.busy": "2025-06-13T11:53:11.074426Z",
     "iopub.status.idle": "2025-06-13T11:53:11.074426Z",
     "shell.execute_reply": "2025-06-13T11:53:11.074426Z",
     "shell.execute_reply.started": "2025-06-13T11:53:11.074426Z"
    },
    "tags": []
   },
   "outputs": [
    {
     "ename": "NameError",
     "evalue": "name 'dfNow' is not defined",
     "output_type": "error",
     "traceback": [
      "\u001b[0;31m---------------------------------------------------------------------------\u001b[0m",
      "\u001b[0;31mNameError\u001b[0m                                 Traceback (most recent call last)",
      "\u001b[0;32m/var/folders/7f/spryjd9n3qd9hsrgqjhyqn000000gp/T/ipykernel_29906/1930040617.py\u001b[0m in \u001b[0;36m<module>\u001b[0;34m\u001b[0m\n\u001b[1;32m      1\u001b[0m \u001b[0;31m## dfNow['xratio'] = dfNow['close'].rolling(30).apply(regression_ratio)\u001b[0m\u001b[0;34m\u001b[0m\u001b[0;34m\u001b[0m\u001b[0m\n\u001b[0;32m----> 2\u001b[0;31m \u001b[0;32mif\u001b[0m \u001b[0;34m'xratio'\u001b[0m \u001b[0;32mnot\u001b[0m \u001b[0;32min\u001b[0m \u001b[0mdfNow\u001b[0m\u001b[0;34m.\u001b[0m\u001b[0mcolumns\u001b[0m\u001b[0;34m:\u001b[0m\u001b[0;34m\u001b[0m\u001b[0;34m\u001b[0m\u001b[0m\n\u001b[0m\u001b[1;32m      3\u001b[0m     \u001b[0mdf_xratio\u001b[0m \u001b[0;34m=\u001b[0m \u001b[0mdfNow\u001b[0m\u001b[0;34m.\u001b[0m\u001b[0mgroupby\u001b[0m\u001b[0;34m(\u001b[0m\u001b[0mlevel\u001b[0m\u001b[0;34m=\u001b[0m\u001b[0;34m[\u001b[0m\u001b[0;36m0\u001b[0m\u001b[0;34m]\u001b[0m\u001b[0;34m)\u001b[0m\u001b[0;34m[\u001b[0m\u001b[0;34m'close'\u001b[0m\u001b[0;34m]\u001b[0m\u001b[0;34m.\u001b[0m\u001b[0mrolling\u001b[0m\u001b[0;34m(\u001b[0m\u001b[0;36m24\u001b[0m\u001b[0;34m)\u001b[0m\u001b[0;34m.\u001b[0m\u001b[0mapply\u001b[0m\u001b[0;34m(\u001b[0m\u001b[0mregression_ratio\u001b[0m\u001b[0;34m)\u001b[0m\u001b[0;34m\u001b[0m\u001b[0;34m\u001b[0m\u001b[0m\n\u001b[1;32m      4\u001b[0m     \u001b[0mdf_xratio\u001b[0m\u001b[0;34m.\u001b[0m\u001b[0mindex\u001b[0m \u001b[0;34m=\u001b[0m\u001b[0mdf_xratio\u001b[0m\u001b[0;34m.\u001b[0m\u001b[0mto_frame\u001b[0m\u001b[0;34m(\u001b[0m\u001b[0;34m)\u001b[0m\u001b[0;34m.\u001b[0m\u001b[0mindex\u001b[0m\u001b[0;34m.\u001b[0m\u001b[0mdroplevel\u001b[0m\u001b[0;34m(\u001b[0m\u001b[0;36m1\u001b[0m\u001b[0;34m)\u001b[0m\u001b[0;34m\u001b[0m\u001b[0;34m\u001b[0m\u001b[0m\n\u001b[1;32m      5\u001b[0m     \u001b[0mdfNow\u001b[0m\u001b[0;34m[\u001b[0m\u001b[0;34m'xratio'\u001b[0m\u001b[0;34m]\u001b[0m \u001b[0;34m=\u001b[0m \u001b[0mdf_xratio\u001b[0m\u001b[0;34m\u001b[0m\u001b[0;34m\u001b[0m\u001b[0m\n",
      "\u001b[0;31mNameError\u001b[0m: name 'dfNow' is not defined"
     ]
    }
   ],
   "source": [
    "## dfNow['xratio'] = dfNow['close'].rolling(30).apply(regression_ratio)\n",
    "if 'xratio' not in dfNow.columns:\n",
    "    df_xratio = dfNow.groupby(level=[0])['close'].rolling(24).apply(regression_ratio)\n",
    "    df_xratio.index =df_xratio.to_frame().index.droplevel(1)\n",
    "    dfNow['xratio'] = df_xratio"
   ]
  },
  {
   "cell_type": "code",
   "execution_count": 30,
   "id": "9293482c-2e52-4d0f-a388-1c34539439a2",
   "metadata": {
    "ExecuteTime": {
     "end_time": "2025-06-15T15:05:32.573864Z",
     "start_time": "2025-06-15T15:05:32.559884Z"
    },
    "execution": {
     "iopub.status.busy": "2025-06-13T11:53:11.075423Z",
     "iopub.status.idle": "2025-06-13T11:53:11.076420Z",
     "shell.execute_reply": "2025-06-13T11:53:11.076420Z",
     "shell.execute_reply.started": "2025-06-13T11:53:11.076420Z"
    },
    "tags": []
   },
   "outputs": [
    {
     "ename": "NameError",
     "evalue": "name 'dfsRoot' is not defined",
     "output_type": "error",
     "traceback": [
      "\u001b[0;31m---------------------------------------------------------------------------\u001b[0m",
      "\u001b[0;31mNameError\u001b[0m                                 Traceback (most recent call last)",
      "\u001b[0;32m/var/folders/7f/spryjd9n3qd9hsrgqjhyqn000000gp/T/ipykernel_29906/2982472103.py\u001b[0m in \u001b[0;36m<module>\u001b[0;34m\u001b[0m\n\u001b[1;32m      1\u001b[0m \u001b[0;31m# df_xratio.loc['605589'][-8:]\u001b[0m\u001b[0;34m\u001b[0m\u001b[0;34m\u001b[0m\u001b[0m\n\u001b[0;32m----> 2\u001b[0;31m \u001b[0mdfsRoot\u001b[0m\u001b[0;34m.\u001b[0m\u001b[0mloc\u001b[0m\u001b[0;34m[\u001b[0m\u001b[0;34m'603019'\u001b[0m\u001b[0;34m]\u001b[0m\u001b[0;34m[\u001b[0m\u001b[0;34m:\u001b[0m\u001b[0;36m1\u001b[0m\u001b[0;34m]\u001b[0m\u001b[0;34m\u001b[0m\u001b[0;34m\u001b[0m\u001b[0m\n\u001b[0m\u001b[1;32m      3\u001b[0m \u001b[0;31m# dfNow[-12:][-2:]\u001b[0m\u001b[0;34m\u001b[0m\u001b[0;34m\u001b[0m\u001b[0m\n",
      "\u001b[0;31mNameError\u001b[0m: name 'dfsRoot' is not defined"
     ]
    }
   ],
   "source": [
    "# df_xratio.loc['605589'][-8:]\n",
    "dfsRoot.loc['603019'][:1]\n",
    "# dfNow[-12:][-2:]"
   ]
  },
  {
   "cell_type": "markdown",
   "id": "c8a95f1e-25ba-4432-bad8-368acd3458c6",
   "metadata": {},
   "source": [
    "## DFNow Query check"
   ]
  },
  {
   "cell_type": "code",
   "execution_count": 31,
   "id": "9723d8a1-2bca-4dd1-a40b-0f8d4e60f7ac",
   "metadata": {
    "ExecuteTime": {
     "end_time": "2025-06-15T15:05:32.657232Z",
     "start_time": "2025-06-15T15:05:32.641430Z"
    },
    "execution": {
     "iopub.status.busy": "2025-06-13T11:53:11.077416Z",
     "iopub.status.idle": "2025-06-13T11:53:11.077416Z",
     "shell.execute_reply": "2025-06-13T11:53:11.077416Z",
     "shell.execute_reply.started": "2025-06-13T11:53:11.077416Z"
    },
    "tags": []
   },
   "outputs": [
    {
     "ename": "NameError",
     "evalue": "name 'dfNow' is not defined",
     "output_type": "error",
     "traceback": [
      "\u001b[0;31m---------------------------------------------------------------------------\u001b[0m",
      "\u001b[0;31mNameError\u001b[0m                                 Traceback (most recent call last)",
      "\u001b[0;32m/var/folders/7f/spryjd9n3qd9hsrgqjhyqn000000gp/T/ipykernel_29906/1571434300.py\u001b[0m in \u001b[0;36m<module>\u001b[0;34m\u001b[0m\n\u001b[0;32m----> 1\u001b[0;31m \u001b[0mdfNow_A\u001b[0m \u001b[0;34m=\u001b[0m \u001b[0mdfNow\u001b[0m\u001b[0;34m.\u001b[0m\u001b[0mquery\u001b[0m\u001b[0;34m(\u001b[0m\u001b[0;34m'@dfNow.index.get_level_values(0) < \"688000\"'\u001b[0m\u001b[0;34m)\u001b[0m\u001b[0;34m\u001b[0m\u001b[0;34m\u001b[0m\u001b[0m\n\u001b[0m\u001b[1;32m      2\u001b[0m \u001b[0;31m# dfxra = dfNow_A.groupby(level=[0]).tail(3).query('xratio - xratio.shift(1) > (xratio.shift(1) - xratio.shift(2))*1.1')\u001b[0m\u001b[0;34m\u001b[0m\u001b[0;34m\u001b[0m\u001b[0m\n\u001b[1;32m      3\u001b[0m \u001b[0;31m# dfNow.groupby(level=[0]).tail(3)\u001b[0m\u001b[0;34m\u001b[0m\u001b[0;34m\u001b[0m\u001b[0m\n\u001b[1;32m      4\u001b[0m \u001b[0mlastworkday\u001b[0m \u001b[0;34m=\u001b[0m \u001b[0mcct\u001b[0m\u001b[0;34m.\u001b[0m\u001b[0mlast_tddate\u001b[0m\u001b[0;34m(\u001b[0m\u001b[0;36m1\u001b[0m\u001b[0;34m)\u001b[0m\u001b[0;34m\u001b[0m\u001b[0;34m\u001b[0m\u001b[0m\n\u001b[1;32m      5\u001b[0m \u001b[0mprint\u001b[0m\u001b[0;34m(\u001b[0m\u001b[0mlastworkday\u001b[0m\u001b[0;34m)\u001b[0m\u001b[0;34m\u001b[0m\u001b[0;34m\u001b[0m\u001b[0m\n",
      "\u001b[0;31mNameError\u001b[0m: name 'dfNow' is not defined"
     ]
    }
   ],
   "source": [
    "dfNow_A = dfNow.query('@dfNow.index.get_level_values(0) < \"688000\"')\n",
    "# dfxra = dfNow_A.groupby(level=[0]).tail(3).query('xratio - xratio.shift(1) > (xratio.shift(1) - xratio.shift(2))*1.1')\n",
    "# dfNow.groupby(level=[0]).tail(3)\n",
    "lastworkday = cct.last_tddate(1)\n",
    "print(lastworkday)\n",
    "# dfxra.groupby(level=[0]).tail(1).query('date >= @lastworkday').xratio\n",
    "# dfxra.query('@dfxra.index.get_level_values(0) < \"688000\"')\n",
    "# dfxra.query('not @dfxra.index.get_level_values(0).str.contains(\"688\") ')\n",
    "\n",
    "# df.query(f'ColumnName >= {VariableName}')\n",
    "\n",
    "# dfxra = dfNow_A.groupby(level=[0]).tail(3).query('0 > xratio > -0.08 and xratio - xratio.shift(1) > (xratio.shift(1) - xratio.shift(2))*1.1')\n",
    "\n",
    "# dfxra = dfNow_A.groupby(level=[0]).tail(3).query('xratio > 0 and xratio.shift(1) < 0 and xratio - xratio.shift(1) > (xratio.shift(1) - xratio.shift(2))*1.1')\n",
    "\n",
    "dfxra = dfNow_A.groupby(level=[0]).tail(3).query('high > upper  and xratio - xratio.shift(1) > (xratio.shift(1) - xratio.shift(2))')\n",
    "\n",
    "dfxra.query('date >= @lastworkday').sort_values(by='xratio',ascending=0).xratio[:10]\n",
    "# dfxra.query('date >= @lastworkday').xratio[:10]\n",
    "\n",
    "# dfxra.query('date >= @lastworkday').loc['605589'].xratio\n",
    "df_xratio.loc['605369'][-8:]"
   ]
  },
  {
   "cell_type": "code",
   "execution_count": 32,
   "id": "7cfcee5b-ca0a-4a90-a1db-94acdc46bb07",
   "metadata": {
    "ExecuteTime": {
     "end_time": "2025-06-15T15:05:32.705662Z",
     "start_time": "2025-06-15T15:05:32.690416Z"
    },
    "execution": {
     "iopub.status.busy": "2025-06-13T11:53:11.079412Z",
     "iopub.status.idle": "2025-06-13T11:53:11.079412Z",
     "shell.execute_reply": "2025-06-13T11:53:11.079412Z",
     "shell.execute_reply.started": "2025-06-13T11:53:11.079412Z"
    },
    "tags": []
   },
   "outputs": [
    {
     "ename": "NameError",
     "evalue": "name 'dfNow' is not defined",
     "output_type": "error",
     "traceback": [
      "\u001b[0;31m---------------------------------------------------------------------------\u001b[0m",
      "\u001b[0;31mNameError\u001b[0m                                 Traceback (most recent call last)",
      "\u001b[0;32m/var/folders/7f/spryjd9n3qd9hsrgqjhyqn000000gp/T/ipykernel_29906/2514515278.py\u001b[0m in \u001b[0;36m<module>\u001b[0;34m\u001b[0m\n\u001b[1;32m      1\u001b[0m \u001b[0;31m# dfNow['idx'] = dfNow['close'].rolling(25).apply(detect_bull_bear_apply)\u001b[0m\u001b[0;34m\u001b[0m\u001b[0;34m\u001b[0m\u001b[0m\n\u001b[0;32m----> 2\u001b[0;31m \u001b[0mdf_idx\u001b[0m \u001b[0;34m=\u001b[0m \u001b[0mdfNow\u001b[0m\u001b[0;34m.\u001b[0m\u001b[0mgroupby\u001b[0m\u001b[0;34m(\u001b[0m\u001b[0mlevel\u001b[0m\u001b[0;34m=\u001b[0m\u001b[0;34m[\u001b[0m\u001b[0;36m0\u001b[0m\u001b[0;34m]\u001b[0m\u001b[0;34m)\u001b[0m\u001b[0;34m[\u001b[0m\u001b[0;34m'close'\u001b[0m\u001b[0;34m]\u001b[0m\u001b[0;34m.\u001b[0m\u001b[0mrolling\u001b[0m\u001b[0;34m(\u001b[0m\u001b[0;36m25\u001b[0m\u001b[0;34m)\u001b[0m\u001b[0;34m.\u001b[0m\u001b[0mapply\u001b[0m\u001b[0;34m(\u001b[0m\u001b[0mdetect_bull_bear_apply\u001b[0m\u001b[0;34m)\u001b[0m\u001b[0;34m\u001b[0m\u001b[0;34m\u001b[0m\u001b[0m\n\u001b[0m\u001b[1;32m      3\u001b[0m \u001b[0mdf_idx\u001b[0m\u001b[0;34m.\u001b[0m\u001b[0mindex\u001b[0m \u001b[0;34m=\u001b[0m\u001b[0mdf_idx\u001b[0m\u001b[0;34m.\u001b[0m\u001b[0mto_frame\u001b[0m\u001b[0;34m(\u001b[0m\u001b[0;34m)\u001b[0m\u001b[0;34m.\u001b[0m\u001b[0mindex\u001b[0m\u001b[0;34m.\u001b[0m\u001b[0mdroplevel\u001b[0m\u001b[0;34m(\u001b[0m\u001b[0;36m1\u001b[0m\u001b[0;34m)\u001b[0m\u001b[0;34m\u001b[0m\u001b[0;34m\u001b[0m\u001b[0m\n\u001b[1;32m      4\u001b[0m \u001b[0mdfNow\u001b[0m\u001b[0;34m[\u001b[0m\u001b[0;34m'idx'\u001b[0m\u001b[0;34m]\u001b[0m \u001b[0;34m=\u001b[0m \u001b[0mdf_idx\u001b[0m\u001b[0;34m\u001b[0m\u001b[0;34m\u001b[0m\u001b[0m\n",
      "\u001b[0;31mNameError\u001b[0m: name 'dfNow' is not defined"
     ]
    }
   ],
   "source": [
    "# dfNow['idx'] = dfNow['close'].rolling(25).apply(detect_bull_bear_apply)\n",
    "df_idx = dfNow.groupby(level=[0])['close'].rolling(25).apply(detect_bull_bear_apply)\n",
    "df_idx.index =df_idx.to_frame().index.droplevel(1)\n",
    "dfNow['idx'] = df_idx"
   ]
  },
  {
   "cell_type": "markdown",
   "id": "b5f55200-2d88-419b-a2d0-50a07348089e",
   "metadata": {},
   "source": [
    "### dfNow Top"
   ]
  },
  {
   "cell_type": "code",
   "execution_count": 33,
   "id": "ca21bf3b-9cb6-4fbc-bb77-cb43035aecf6",
   "metadata": {
    "ExecuteTime": {
     "end_time": "2025-06-15T15:05:32.789652Z",
     "start_time": "2025-06-15T15:05:32.772552Z"
    },
    "execution": {
     "iopub.status.busy": "2025-06-13T11:53:11.080408Z",
     "iopub.status.idle": "2025-06-13T11:53:11.081407Z",
     "shell.execute_reply": "2025-06-13T11:53:11.081407Z",
     "shell.execute_reply.started": "2025-06-13T11:53:11.081407Z"
    },
    "tags": []
   },
   "outputs": [
    {
     "ename": "NameError",
     "evalue": "name 'dfNow' is not defined",
     "output_type": "error",
     "traceback": [
      "\u001b[0;31m---------------------------------------------------------------------------\u001b[0m",
      "\u001b[0;31mNameError\u001b[0m                                 Traceback (most recent call last)",
      "\u001b[0;32m/var/folders/7f/spryjd9n3qd9hsrgqjhyqn000000gp/T/ipykernel_29906/3457288322.py\u001b[0m in \u001b[0;36m<module>\u001b[0;34m\u001b[0m\n\u001b[0;32m----> 1\u001b[0;31m \u001b[0mdfNow\u001b[0m\u001b[0;34m.\u001b[0m\u001b[0mloc\u001b[0m\u001b[0;34m[\u001b[0m\u001b[0;34m'300459'\u001b[0m\u001b[0;34m]\u001b[0m\u001b[0;34m[\u001b[0m\u001b[0;34m-\u001b[0m\u001b[0;36m2\u001b[0m\u001b[0;34m:\u001b[0m\u001b[0;34m]\u001b[0m\u001b[0;34m.\u001b[0m\u001b[0mupper\u001b[0m\u001b[0;34m\u001b[0m\u001b[0;34m\u001b[0m\u001b[0m\n\u001b[0m\u001b[1;32m      2\u001b[0m \u001b[0mprint\u001b[0m\u001b[0;34m(\u001b[0m\u001b[0mdfsRoot\u001b[0m\u001b[0;34m.\u001b[0m\u001b[0mloc\u001b[0m\u001b[0;34m[\u001b[0m\u001b[0;34m'300459'\u001b[0m\u001b[0;34m]\u001b[0m\u001b[0;34m[\u001b[0m\u001b[0;34m-\u001b[0m\u001b[0mtail_days\u001b[0m\u001b[0;34m:\u001b[0m\u001b[0;34m]\u001b[0m\u001b[0;34m.\u001b[0m\u001b[0mshape\u001b[0m\u001b[0;34m)\u001b[0m\u001b[0;34m\u001b[0m\u001b[0;34m\u001b[0m\u001b[0m\n\u001b[1;32m      3\u001b[0m \u001b[0mshow_ohlc_upper\u001b[0m\u001b[0;34m(\u001b[0m\u001b[0mdfsRoot\u001b[0m\u001b[0;34m.\u001b[0m\u001b[0mloc\u001b[0m\u001b[0;34m[\u001b[0m\u001b[0;34m'300459'\u001b[0m\u001b[0;34m]\u001b[0m\u001b[0;34m[\u001b[0m\u001b[0;34m-\u001b[0m\u001b[0mtail_days\u001b[0m\u001b[0;34m:\u001b[0m\u001b[0;34m]\u001b[0m\u001b[0;34m,\u001b[0m\u001b[0mcode\u001b[0m\u001b[0;34m=\u001b[0m\u001b[0;34m'300459'\u001b[0m\u001b[0;34m)\u001b[0m\u001b[0;34m\u001b[0m\u001b[0;34m\u001b[0m\u001b[0m\n",
      "\u001b[0;31mNameError\u001b[0m: name 'dfNow' is not defined"
     ]
    }
   ],
   "source": [
    "dfNow.loc['300459'][-2:].upper\n",
    "print(dfsRoot.loc['300459'][-tail_days:].shape)\n",
    "show_ohlc_upper(dfsRoot.loc['300459'][-tail_days:],code='300459')"
   ]
  },
  {
   "cell_type": "code",
   "execution_count": 34,
   "id": "7fb0f458-1b27-4740-815b-73dca6ce4202",
   "metadata": {
    "ExecuteTime": {
     "end_time": "2025-06-15T15:05:32.834575Z",
     "start_time": "2025-06-15T15:05:32.819471Z"
    },
    "execution": {
     "iopub.status.busy": "2025-06-13T11:53:11.082405Z",
     "iopub.status.idle": "2025-06-13T11:53:11.082405Z",
     "shell.execute_reply": "2025-06-13T11:53:11.082405Z",
     "shell.execute_reply.started": "2025-06-13T11:53:11.082405Z"
    },
    "tags": []
   },
   "outputs": [
    {
     "ename": "NameError",
     "evalue": "name 'top20_nd' is not defined",
     "output_type": "error",
     "traceback": [
      "\u001b[0;31m---------------------------------------------------------------------------\u001b[0m",
      "\u001b[0;31mNameError\u001b[0m                                 Traceback (most recent call last)",
      "\u001b[0;32m/var/folders/7f/spryjd9n3qd9hsrgqjhyqn000000gp/T/ipykernel_29906/1256941072.py\u001b[0m in \u001b[0;36m<module>\u001b[0;34m\u001b[0m\n\u001b[0;32m----> 1\u001b[0;31m \u001b[0;32mfor\u001b[0m \u001b[0mco\u001b[0m \u001b[0;32min\u001b[0m \u001b[0mtop20_nd\u001b[0m\u001b[0;34m.\u001b[0m\u001b[0mindex\u001b[0m\u001b[0;34m[\u001b[0m\u001b[0;34m:\u001b[0m\u001b[0;36m2\u001b[0m\u001b[0;34m]\u001b[0m\u001b[0;34m:\u001b[0m\u001b[0;34m\u001b[0m\u001b[0;34m\u001b[0m\u001b[0m\n\u001b[0m\u001b[1;32m      2\u001b[0m     \u001b[0mprint\u001b[0m\u001b[0;34m(\u001b[0m\u001b[0mco\u001b[0m\u001b[0;34m,\u001b[0m\u001b[0mdfNow\u001b[0m\u001b[0;34m.\u001b[0m\u001b[0mloc\u001b[0m\u001b[0;34m[\u001b[0m\u001b[0mco\u001b[0m\u001b[0;34m]\u001b[0m\u001b[0;34m.\u001b[0m\u001b[0mra_diff\u001b[0m\u001b[0;34m[\u001b[0m\u001b[0;34m-\u001b[0m\u001b[0;36m2\u001b[0m\u001b[0;34m:\u001b[0m\u001b[0;34m]\u001b[0m\u001b[0;34m)\u001b[0m\u001b[0;34m\u001b[0m\u001b[0;34m\u001b[0m\u001b[0m\n\u001b[1;32m      3\u001b[0m     \u001b[0;31m# show_ohlc_upper(dfs.loc[co][-30:],co)\u001b[0m\u001b[0;34m\u001b[0m\u001b[0;34m\u001b[0m\u001b[0m\n\u001b[1;32m      4\u001b[0m     \u001b[0mshow_ohlc_upper\u001b[0m\u001b[0;34m(\u001b[0m\u001b[0mdfsRoot\u001b[0m\u001b[0;34m.\u001b[0m\u001b[0mloc\u001b[0m\u001b[0;34m[\u001b[0m\u001b[0mco\u001b[0m\u001b[0;34m]\u001b[0m\u001b[0;34m[\u001b[0m\u001b[0;34m-\u001b[0m\u001b[0mtail_days\u001b[0m\u001b[0;34m:\u001b[0m\u001b[0;34m]\u001b[0m\u001b[0;34m,\u001b[0m\u001b[0mco\u001b[0m\u001b[0;34m)\u001b[0m\u001b[0;34m\u001b[0m\u001b[0;34m\u001b[0m\u001b[0m\n",
      "\u001b[0;31mNameError\u001b[0m: name 'top20_nd' is not defined"
     ]
    }
   ],
   "source": [
    "for co in top20_nd.index[:2]:\n",
    "    print(co,dfNow.loc[co].ra_diff[-2:])\n",
    "    # show_ohlc_upper(dfs.loc[co][-30:],co)\n",
    "    show_ohlc_upper(dfsRoot.loc[co][-tail_days:],co)"
   ]
  },
  {
   "cell_type": "code",
   "execution_count": 35,
   "id": "5389ff53-fe9e-4c27-ae68-6a90b903222b",
   "metadata": {
    "ExecuteTime": {
     "end_time": "2025-06-15T15:05:32.882379Z",
     "start_time": "2025-06-15T15:05:32.865760Z"
    },
    "execution": {
     "iopub.status.busy": "2025-06-13T11:53:11.083402Z",
     "iopub.status.idle": "2025-06-13T11:53:11.083402Z",
     "shell.execute_reply": "2025-06-13T11:53:11.083402Z",
     "shell.execute_reply.started": "2025-06-13T11:53:11.083402Z"
    },
    "tags": []
   },
   "outputs": [
    {
     "ename": "NameError",
     "evalue": "name 'dfNow' is not defined",
     "output_type": "error",
     "traceback": [
      "\u001b[0;31m---------------------------------------------------------------------------\u001b[0m",
      "\u001b[0;31mNameError\u001b[0m                                 Traceback (most recent call last)",
      "\u001b[0;32m/var/folders/7f/spryjd9n3qd9hsrgqjhyqn000000gp/T/ipykernel_29906/528172533.py\u001b[0m in \u001b[0;36m<module>\u001b[0;34m\u001b[0m\n\u001b[1;32m      1\u001b[0m \u001b[0mcode_df\u001b[0m \u001b[0;34m=\u001b[0m \u001b[0;34m'600519'\u001b[0m\u001b[0;34m\u001b[0m\u001b[0;34m\u001b[0m\u001b[0m\n\u001b[0;32m----> 2\u001b[0;31m \u001b[0mdfNow_t2\u001b[0m \u001b[0;34m=\u001b[0m \u001b[0mdfNow\u001b[0m\u001b[0;34m.\u001b[0m\u001b[0mgroupby\u001b[0m\u001b[0;34m(\u001b[0m\u001b[0mlevel\u001b[0m\u001b[0;34m=\u001b[0m\u001b[0;34m[\u001b[0m\u001b[0;36m0\u001b[0m\u001b[0;34m]\u001b[0m\u001b[0;34m)\u001b[0m\u001b[0;34m.\u001b[0m\u001b[0mtail\u001b[0m\u001b[0;34m(\u001b[0m\u001b[0;36m2\u001b[0m\u001b[0;34m)\u001b[0m\u001b[0;34m\u001b[0m\u001b[0;34m\u001b[0m\u001b[0m\n\u001b[0m\u001b[1;32m      3\u001b[0m \u001b[0;31m# dfNow_f = dfNow_t2[ (dfNow_t2.idx > dfNow_t2.idx.shift(1)) & (dfNow_t2.xratio > dfNow_t2.xratio.shift(1)) ]\u001b[0m\u001b[0;34m\u001b[0m\u001b[0;34m\u001b[0m\u001b[0m\n\u001b[1;32m      4\u001b[0m \u001b[0midx\u001b[0m \u001b[0;34m=\u001b[0m \u001b[0mpd\u001b[0m\u001b[0;34m.\u001b[0m\u001b[0mIndexSlice\u001b[0m\u001b[0;34m\u001b[0m\u001b[0;34m\u001b[0m\u001b[0m\n\u001b[1;32m      5\u001b[0m \u001b[0mmask_df\u001b[0m \u001b[0;34m=\u001b[0m  \u001b[0;34m(\u001b[0m\u001b[0;34m(\u001b[0m\u001b[0mdfNow_t2\u001b[0m\u001b[0;34m.\u001b[0m\u001b[0midx\u001b[0m \u001b[0;34m>\u001b[0m \u001b[0mdfNow_t2\u001b[0m\u001b[0;34m.\u001b[0m\u001b[0midx\u001b[0m\u001b[0;34m.\u001b[0m\u001b[0mshift\u001b[0m\u001b[0;34m(\u001b[0m\u001b[0;36m1\u001b[0m\u001b[0;34m)\u001b[0m\u001b[0;34m)\u001b[0m \u001b[0;34m&\u001b[0m \u001b[0;34m(\u001b[0m\u001b[0mdfNow_t2\u001b[0m\u001b[0;34m.\u001b[0m\u001b[0mxratio\u001b[0m \u001b[0;34m>\u001b[0m \u001b[0mdfNow_t2\u001b[0m\u001b[0;34m.\u001b[0m\u001b[0mxratio\u001b[0m\u001b[0;34m.\u001b[0m\u001b[0mshift\u001b[0m\u001b[0;34m(\u001b[0m\u001b[0;36m1\u001b[0m\u001b[0;34m)\u001b[0m\u001b[0;34m)\u001b[0m \u001b[0;34m)\u001b[0m\u001b[0;34m\u001b[0m\u001b[0;34m\u001b[0m\u001b[0m\n",
      "\u001b[0;31mNameError\u001b[0m: name 'dfNow' is not defined"
     ]
    }
   ],
   "source": [
    "code_df = '600519'\n",
    "dfNow_t2 = dfNow.groupby(level=[0]).tail(2)\n",
    "# dfNow_f = dfNow_t2[ (dfNow_t2.idx > dfNow_t2.idx.shift(1)) & (dfNow_t2.xratio > dfNow_t2.xratio.shift(1)) ]\n",
    "idx = pd.IndexSlice\n",
    "mask_df =  ((dfNow_t2.idx > dfNow_t2.idx.shift(1)) & (dfNow_t2.xratio > dfNow_t2.xratio.shift(1)) )\n",
    "\n",
    "dfNow_t2 = dfNow_t2.loc[idx[mask_df, :]]\n",
    "\n",
    "group250 = dfNow_t2.groupby(level=[0])\n",
    "dfNow_f = group250.tail(1).reset_index().set_index('code')\n",
    "mask_df = (dfNow_f.date >= cct.get_today())\n",
    "dfNow_f = dfNow_f.loc[idx[mask_df, :]]\n",
    "dfNow_f[:2]"
   ]
  },
  {
   "cell_type": "code",
   "execution_count": 36,
   "id": "3617d07c-b1a4-4a92-b2bf-9196371ec1d3",
   "metadata": {
    "ExecuteTime": {
     "end_time": "2025-06-15T15:05:32.919190Z",
     "start_time": "2025-06-15T15:05:32.915432Z"
    },
    "execution": {
     "iopub.status.busy": "2025-06-13T11:53:11.084399Z",
     "iopub.status.idle": "2025-06-13T11:53:11.085396Z",
     "shell.execute_reply": "2025-06-13T11:53:11.084399Z",
     "shell.execute_reply.started": "2025-06-13T11:53:11.084399Z"
    },
    "tags": []
   },
   "outputs": [],
   "source": [
    "# dfNow_f.shape,dfNow_f[:3],dfNow_t2.loc['600812'],df.loc['600812'][-2:]\n",
    "# dfNow_f[dfNow_f.date >= cct.get_today()]\n",
    "# dfNow_f.loc['000006']\n",
    "# dfNow_t2.loc['000006']\n",
    "# (dfNow_t2.loc[code_df].idx > dfNow_t2.loc[code_df].idx.shift(1)) \n",
    "# (dfNow_t2.loc[code_df].xratio > dfNow_t2.loc[code_df].xratio.shift(1))\n",
    "# dfNow_f.loc[code_df],dfNow.loc[code_df]"
   ]
  },
  {
   "cell_type": "markdown",
   "id": "c0315aa8-4cac-481c-85b9-3f6c4b23fe7e",
   "metadata": {},
   "source": [
    "### pandas multiinde drop last row"
   ]
  },
  {
   "cell_type": "raw",
   "id": "d90f7cd9-c9a4-4eed-b45b-b3d38ac5915e",
   "metadata": {
    "execution": {
     "iopub.execute_input": "2023-02-13T10:04:57.439648Z",
     "iopub.status.busy": "2023-02-13T10:04:57.439648Z",
     "iopub.status.idle": "2023-02-13T10:04:57.462586Z",
     "shell.execute_reply": "2023-02-13T10:04:57.462586Z",
     "shell.execute_reply.started": "2023-02-13T10:04:57.439648Z"
    },
    "tags": []
   },
   "source": [
    "df.loc['000002'][-1:]\n",
    "# df.index=df.index.drop(sina_today.index)\n",
    "# df.drop(level='date', labels=df.index.get_level_values('date')[-1]).index[-2:]\n",
    "dfNow.loc['000002'][-1:]"
   ]
  },
  {
   "cell_type": "code",
   "execution_count": 37,
   "id": "292199fe-9ba2-47fa-9c00-968d4418a335",
   "metadata": {
    "ExecuteTime": {
     "end_time": "2025-06-15T15:05:33.054943Z",
     "start_time": "2025-06-15T15:05:33.041441Z"
    },
    "execution": {
     "iopub.status.busy": "2025-06-13T11:53:11.085396Z",
     "iopub.status.idle": "2025-06-13T11:53:11.086394Z",
     "shell.execute_reply": "2025-06-13T11:53:11.086394Z",
     "shell.execute_reply.started": "2025-06-13T11:53:11.086394Z"
    },
    "tags": []
   },
   "outputs": [
    {
     "ename": "NameError",
     "evalue": "name 'df' is not defined",
     "output_type": "error",
     "traceback": [
      "\u001b[0;31m---------------------------------------------------------------------------\u001b[0m",
      "\u001b[0;31mNameError\u001b[0m                                 Traceback (most recent call last)",
      "\u001b[0;32m/var/folders/7f/spryjd9n3qd9hsrgqjhyqn000000gp/T/ipykernel_29906/3464278942.py\u001b[0m in \u001b[0;36m<module>\u001b[0;34m\u001b[0m\n\u001b[0;32m----> 1\u001b[0;31m \u001b[0mdf\u001b[0m\u001b[0;34m.\u001b[0m\u001b[0mloc\u001b[0m\u001b[0;34m[\u001b[0m\u001b[0;34m'000002'\u001b[0m\u001b[0;34m]\u001b[0m\u001b[0;34m[\u001b[0m\u001b[0;34m-\u001b[0m\u001b[0;36m2\u001b[0m\u001b[0;34m:\u001b[0m\u001b[0;34m]\u001b[0m\u001b[0;34m\u001b[0m\u001b[0;34m\u001b[0m\u001b[0m\n\u001b[0m",
      "\u001b[0;31mNameError\u001b[0m: name 'df' is not defined"
     ]
    }
   ],
   "source": [
    "df.loc['000002'][-2:]"
   ]
  },
  {
   "cell_type": "code",
   "execution_count": 38,
   "id": "bb830707-4737-45c4-bc48-403597c2e420",
   "metadata": {
    "ExecuteTime": {
     "end_time": "2025-06-15T15:05:33.097463Z",
     "start_time": "2025-06-15T15:05:33.084079Z"
    },
    "execution": {
     "iopub.status.busy": "2025-06-13T11:53:11.087390Z",
     "iopub.status.idle": "2025-06-13T11:53:11.087390Z",
     "shell.execute_reply": "2025-06-13T11:53:11.087390Z",
     "shell.execute_reply.started": "2025-06-13T11:53:11.087390Z"
    },
    "tags": []
   },
   "outputs": [
    {
     "ename": "NameError",
     "evalue": "name 'dfNow' is not defined",
     "output_type": "error",
     "traceback": [
      "\u001b[0;31m---------------------------------------------------------------------------\u001b[0m",
      "\u001b[0;31mNameError\u001b[0m                                 Traceback (most recent call last)",
      "\u001b[0;32m/var/folders/7f/spryjd9n3qd9hsrgqjhyqn000000gp/T/ipykernel_29906/3070638498.py\u001b[0m in \u001b[0;36m<module>\u001b[0;34m\u001b[0m\n\u001b[0;32m----> 1\u001b[0;31m \u001b[0mdfNow\u001b[0m\u001b[0;34m.\u001b[0m\u001b[0mloc\u001b[0m\u001b[0;34m[\u001b[0m\u001b[0;34m'000002'\u001b[0m\u001b[0;34m]\u001b[0m\u001b[0;34m[\u001b[0m\u001b[0;34m-\u001b[0m\u001b[0;36m2\u001b[0m\u001b[0;34m:\u001b[0m\u001b[0;34m]\u001b[0m\u001b[0;34m\u001b[0m\u001b[0;34m\u001b[0m\u001b[0m\n\u001b[0m",
      "\u001b[0;31mNameError\u001b[0m: name 'dfNow' is not defined"
     ]
    }
   ],
   "source": [
    "dfNow.loc['000002'][-2:]"
   ]
  },
  {
   "cell_type": "markdown",
   "id": "65812799-6442-46c7-a11d-6e2ff5a9dbda",
   "metadata": {},
   "source": [
    "# 基础处理"
   ]
  },
  {
   "cell_type": "code",
   "execution_count": 73,
   "id": "743dee91-4942-4660-b4ce-44c349a1db5e",
   "metadata": {
    "ExecuteTime": {
     "end_time": "2025-06-15T15:06:43.834768Z",
     "start_time": "2025-06-15T15:06:43.812922Z"
    },
    "execution": {
     "iopub.status.busy": "2025-06-13T11:53:11.088388Z",
     "iopub.status.idle": "2025-06-13T11:53:11.088388Z",
     "shell.execute_reply": "2025-06-13T11:53:11.088388Z",
     "shell.execute_reply.started": "2025-06-13T11:53:11.088388Z"
    },
    "tags": []
   },
   "outputs": [
    {
     "ename": "NameError",
     "evalue": "name 'dfNow' is not defined",
     "output_type": "error",
     "traceback": [
      "\u001b[0;31m---------------------------------------------------------------------------\u001b[0m",
      "\u001b[0;31mNameError\u001b[0m                                 Traceback (most recent call last)",
      "\u001b[0;32m/var/folders/7f/spryjd9n3qd9hsrgqjhyqn000000gp/T/ipykernel_29906/2002110193.py\u001b[0m in \u001b[0;36m<module>\u001b[0;34m\u001b[0m\n\u001b[1;32m      1\u001b[0m \u001b[0;31m# show_tdx_data(dfs.loc['600519'][-2:])\u001b[0m\u001b[0;34m\u001b[0m\u001b[0;34m\u001b[0m\u001b[0m\n\u001b[0;32m----> 2\u001b[0;31m \u001b[0mdfs\u001b[0m \u001b[0;34m=\u001b[0m \u001b[0mdfNow\u001b[0m\u001b[0;34m.\u001b[0m\u001b[0mfillna\u001b[0m\u001b[0;34m(\u001b[0m\u001b[0;36m0\u001b[0m\u001b[0;34m)\u001b[0m\u001b[0;34m\u001b[0m\u001b[0;34m\u001b[0m\u001b[0m\n\u001b[0m\u001b[1;32m      3\u001b[0m \u001b[0mgroupd\u001b[0m \u001b[0;34m=\u001b[0m \u001b[0mdfs\u001b[0m\u001b[0;34m.\u001b[0m\u001b[0mgroupby\u001b[0m\u001b[0;34m(\u001b[0m\u001b[0mlevel\u001b[0m\u001b[0;34m=\u001b[0m\u001b[0;34m[\u001b[0m\u001b[0;36m0\u001b[0m\u001b[0;34m]\u001b[0m\u001b[0;34m)\u001b[0m\u001b[0;34m\u001b[0m\u001b[0;34m\u001b[0m\u001b[0m\n\u001b[1;32m      4\u001b[0m \u001b[0msingle\u001b[0m \u001b[0;34m=\u001b[0m \u001b[0;32mFalse\u001b[0m\u001b[0;34m\u001b[0m\u001b[0;34m\u001b[0m\u001b[0m\n\u001b[1;32m      5\u001b[0m \u001b[0mdt_low\u001b[0m \u001b[0;34m=\u001b[0m \u001b[0;32mNone\u001b[0m\u001b[0;34m\u001b[0m\u001b[0;34m\u001b[0m\u001b[0m\n",
      "\u001b[0;31mNameError\u001b[0m: name 'dfNow' is not defined"
     ]
    }
   ],
   "source": [
    "# show_tdx_data(dfs.loc['600519'][-2:])\n",
    "dfs = dfNow.fillna(0)\n",
    "groupd = dfs.groupby(level=[0])\n",
    "single = False\n",
    "dt_low = None\n",
    "df_idx = None\n",
    "if single:\n",
    "    dfs_dtlen = groupd.tail(1)\n",
    "    print(\"dfs tail1\")\n",
    "else:\n",
    "    single = True\n",
    "    dl = 30\n",
    "    dindex = tdd.get_tdx_Exp_day_to_df(\n",
    "        '999999', dl=dl, resample=resample).sort_index(ascending=False)\n",
    "    dt = tdd.get_duration_price_date('999999', df=dindex)\n",
    "\n",
    "    dt = dindex[dindex.index >= dt].index.values\n",
    "    dt_low = dt[-1]\n",
    "    print('dt_low:%s %s' % (dt_low,dt[0]))\n",
    "    dtlen = len(dt) if len(dt) > 0 else 1\n",
    "    dfs_dtlen = groupd.tail(dtlen)\n",
    "    # import ipdb;ipdb.set_trace()\n",
    "    dfs_dtlen[-2:]\n",
    "    df_idx = get_groupby_mean_median_close(dfs_dtlen)\n",
    "\n",
    "    # print((\"dfs tail:%s dt:%s\" % (dtlen, dt)))\n",
    "    dfs_dtlen = get_multi_date_duration(dfs_dtlen, dt[-1])\n",
    "\n",
    "# groupd2 = dfs.groupby(level=[0])\n",
    "# dfs['ma%d'%cumdays] = groupd['close'].apply(pd.rolling_mean, cumdays)\n",
    "\n",
    "# dfs.reset_index().groupby(['code'])['date'].transform('count')\n",
    "# single = True\n",
    "\n",
    "print(\"Low:%s\" % (dt[-1]))\n",
    "# dfs_dtlen.loc['999999'].reset_index().date\n",
    "lastday_week = dfs_dtlen.loc['999999'].reset_index().date[0]\n",
    "lastday_week\n",
    "# dfs_dtlen[('ma%s') % (rollma[-1])][-2:]\n",
    "# print(df_idx)"
   ]
  },
  {
   "cell_type": "code",
   "execution_count": 40,
   "id": "3af49ddc-998a-4598-b5e4-431ea27e73d0",
   "metadata": {
    "ExecuteTime": {
     "end_time": "2025-06-15T15:05:33.256990Z",
     "start_time": "2025-06-15T15:05:33.227355Z"
    },
    "execution": {
     "iopub.status.busy": "2025-06-13T11:53:11.089385Z",
     "iopub.status.idle": "2025-06-13T11:53:11.089385Z",
     "shell.execute_reply": "2025-06-13T11:53:11.089385Z",
     "shell.execute_reply.started": "2025-06-13T11:53:11.089385Z"
    },
    "tags": []
   },
   "outputs": [
    {
     "ename": "NameError",
     "evalue": "name 'dfs_dtlen' is not defined",
     "output_type": "error",
     "traceback": [
      "\u001b[0;31m---------------------------------------------------------------------------\u001b[0m",
      "\u001b[0;31mNameError\u001b[0m                                 Traceback (most recent call last)",
      "\u001b[0;32m/var/folders/7f/spryjd9n3qd9hsrgqjhyqn000000gp/T/ipykernel_29906/2524392289.py\u001b[0m in \u001b[0;36m<module>\u001b[0;34m\u001b[0m\n\u001b[1;32m     37\u001b[0m \u001b[0;34m\u001b[0m\u001b[0m\n\u001b[1;32m     38\u001b[0m \u001b[0;34m\u001b[0m\u001b[0m\n\u001b[0;32m---> 39\u001b[0;31m \u001b[0mdf_mask\u001b[0m \u001b[0;34m=\u001b[0m \u001b[0mget_mask_df\u001b[0m\u001b[0;34m(\u001b[0m\u001b[0mdfs_dtlen\u001b[0m\u001b[0;34m)\u001b[0m\u001b[0;34m\u001b[0m\u001b[0;34m\u001b[0m\u001b[0m\n\u001b[0m\u001b[1;32m     40\u001b[0m \u001b[0mprint\u001b[0m\u001b[0;34m(\u001b[0m\u001b[0mdf_mask\u001b[0m\u001b[0;34m.\u001b[0m\u001b[0mshape\u001b[0m\u001b[0;34m)\u001b[0m\u001b[0;34m\u001b[0m\u001b[0;34m\u001b[0m\u001b[0m\n\u001b[1;32m     41\u001b[0m \u001b[0mdf_mask\u001b[0m \u001b[0;34m=\u001b[0m \u001b[0mget_multi_code_count\u001b[0m\u001b[0;34m(\u001b[0m\u001b[0mdf_mask\u001b[0m\u001b[0;34m)\u001b[0m\u001b[0;34m\u001b[0m\u001b[0;34m\u001b[0m\u001b[0m\n",
      "\u001b[0;31mNameError\u001b[0m: name 'dfs_dtlen' is not defined"
     ]
    }
   ],
   "source": [
    "time_s = time.time()\n",
    "# rollma\n",
    "\n",
    "def get_mask_df(dfs):\n",
    "    dfs = dfs.fillna(0)\n",
    "    idx = pd.IndexSlice\n",
    "    # mask = (dfs[('ma%s')%(rollma[0])] > dfs[('ma%s')%(rollma[1])]) & (dfs[('ma%s')%(rollma[-1])] > 0) & (dfs[('close')] > dfs[('ma%s')%(rollma[0])])  & (dfs[('close')] > dfs[('ma%s')%(rollma[-1])])\n",
    "    # mask = (dfs[('ma%s')%(rollma[0])] > dfs[('ma%s')%(rollma[1])]) & (dfs[('ma%s')%(rollma[-1])] > 0) & (dfs[('close')] > dfs[('ma%s')%(rollma[1])])  & (dfs[('close')] > dfs[('ma%s')%(rollma[-1])])\n",
    "    # mask = (dfs[('ma%s')%(rollma[0])] > dfs[('ma%s')%(rollma[1])]) & (dfs[('ma%s')%(rollma[-1])] > 0) &  (dfs[('close')] > dfs[('ma%s')%(rollma[-1])])\n",
    "\n",
    "    # mask = ( (dfs[('ma%s')%(rollma[0])] > 0) & (dfs[('ma%s')%(rollma[-1])] > 0) & (dfs[('close')] > dfs[('ma%s')%(rollma[-1])]) & (dfs[('close')] > dfs[('ma%s')%(rollma[0])]))\n",
    "    # mask = ( (dfs[('ma%s')%(rollma[0])] > 0) & (dfs[('ma%s')%(rollma[-1])] > 0)\n",
    "    #         & (dfs[('close')] > dfs[('ma%s')%(rollma[-1])]*ma_250_l)\n",
    "    #         & (dfs[('close')] < dfs[('ma%s')%(rollma[-1])]*ma_250_h)\n",
    "    #         & (dfs[('close')] > dfs[('ma%s')%(rollma[0])]))\n",
    "\n",
    "    # & (dfs['mean'] > dfs['median'])\n",
    "    # & (dfs['close'] > dfs['mean'])\n",
    "\n",
    "    if len(rollma) > 1:\n",
    "\n",
    "        mask = ((dfs[('ma%s') % (rollma[0])] > 0) & (dfs[('ma%s') % (rollma[-1])] > 0) &\n",
    "                (dfs[('ma%s') % (rollma[0])] > dfs[('ma%s') % (rollma[-1])]) &\n",
    "                (dfs[('close')] > dfs[('ma%s') % (rollma[0])]) &\n",
    "                (dfs[('close')] > dfs[('ma%s') % (rollma[-1])]*ma_250_h) &\n",
    "                ((dfs[('close')] > dfs['boll']) | (dfs[('close')] > dfs['upper']))\n",
    "                )\n",
    "    else:\n",
    "        mask = ((dfs[('ma%s') % (rollma[0])] > 0) &\n",
    "                (dfs[('close')] > dfs[('ma%s')%(rollma[0])]) &\n",
    "                ((dfs[('close')] > dfs['boll']) | (dfs[('close')] > dfs['upper']) )\n",
    "                )\n",
    "\n",
    "    return dfs.loc[idx[mask, :]]\n",
    "\n",
    "# mask = ((dfs[('close')] > dfs[('ma%s')%(rollma[-1])]))\n",
    "\n",
    "\n",
    "df_mask = get_mask_df(dfs_dtlen)\n",
    "print(df_mask.shape)\n",
    "df_mask = get_multi_code_count(df_mask)\n",
    "print((df_mask.couts[:5], df_mask.shape))\n",
    "\n",
    "# import ipdb;ipdb.set_trace()\n",
    "# df.sort_values(by='couts',ascending=0)\n",
    "# groupd.first()[:2],groupd.last()[:2]\n",
    "# groupd = df250.groupby(level=[0])\n",
    "# '''\n",
    "# groupd.transform(lambda x: x.iloc[-1])\n",
    "# groupd.last()\n",
    "# groupd.apply(lambda x: x.close > x.ma250)\n",
    "# df.shape,df.sort_index(ascending=False)[:5]\n",
    "# ?groupd.agg\n",
    "# groupd = df.groupby(level=[0])\n",
    "# groupd['close'].apply(pd.rolling_mean, 250, min_periods=1)\n",
    "# ex:# Group df by df.platoon, then apply a rolling mean lambda function to df.casualties\n",
    "# df.groupby('Platoon')['Casualties'].apply(lambda x:x.rolling(center=False,window=2).mean())\n",
    "\n",
    "code_uniquelist = df_mask.index.get_level_values('code').unique()\n",
    "code_select = code_uniquelist[random.randint(0, len(code_uniquelist) - 1)]\n",
    "\n",
    "# if app:\n",
    "#     print(round(time.time() - time_s, 2), 's', df.index.get_level_values(\n",
    "#         'code').unique().shape, code_select, df.loc[code_select][-1:])\n",
    "\n",
    "if single:\n",
    "    # groupd = df.groupby(level=[0])\n",
    "    if tdx:\n",
    "        # block_path = tdd.get_tdx_dir_blocknew() + '060.blk'\n",
    "        # if cct.get_work_time():\n",
    "        #     codew = df[df.date == cct.get_today()].index.tolist()\n",
    "\n",
    "        if dt_low is not None:\n",
    "\n",
    "            groupd2 = df_mask.groupby(level=[0])\n",
    "            df_mask = groupd2.tail(1)\n",
    "            df_mask = df_mask.reset_index().set_index('code')\n",
    "            # import ipdb;ipdb.set_trace()\n",
    "\n",
    "            # df = df[(df.date >= dt_low) & (df.date <= cct.get_today())]\n",
    "            dd = df_mask[(df_mask.date == dt_low)]\n",
    "            # df = df[(df_mask.date >= cct.last_tddate(1))]\n",
    "            df_mask = df_mask[(df_mask.date >= df_mask.date.max())]\n",
    "            # import ipdb;ipdb.set_trace()\n",
    "            print((\"dt_low:%s df:%s %s df_idx:%s\" %\n",
    "                  (dt_low,len(df_mask), df_mask.index[:5], len(df_idx))))\n",
    "\n",
    "\n",
    "                \n",
    "            print((\"Main Down dd :%s MainUP df:%s couts std:%0.1f \" %\n",
    "                  (len(dd), len(df_mask), df_mask.couts.std())))\n",
    "            # print df.date.mode()[0]\n",
    "            if len(df_mask) > 0:\n",
    "                if df_idx is not None and len(df_mask) > 0 and len(df_idx) > 0:\n",
    "                    idx_set_ = [x for x in df_idx.index if x in df_mask.index]\n",
    "                    # df_mask = df_mask.loc[idx_set_, :].dropna()\n",
    "                df_mask = df_mask.sort_values(by='couts', ascending=1)\n",
    "                df_mask = df_mask[df_mask.couts > df_mask.couts.std()]\n",
    "            else:\n",
    "                print(\"df_mask is None:%s\"%(len(df_mask)))\n",
    "            # df = df[(df.date >= df.date.mode()[0]) & (df.date <= cct.get_today())]\n",
    "            codew = df_mask.index.tolist()\n",
    "\n",
    "            if app:\n",
    "                print(\n",
    "                    \"time: %s  %s\" %\n",
    "                    (round(time.time() - time_s, 2), len(df_mask)))\n",
    "\n",
    "        else:\n",
    "            df_mask = df_mask.reset_index().set_index('code')\n",
    "            df_mask = df_mask[(df_mask.date >= cct.last_tddate(days=10)) &\n",
    "                              (df_mask.date <= cct.get_today())]\n",
    "            codew = df_mask.index.tolist()\n",
    "\n",
    "        top_temp = tdd.get_sina_datadf_cnamedf(codew, df_mask)\n",
    "  #      top_temp = top_temp[(~top_temp.index.str.contains(\n",
    "  #          '688')) & (~top_temp.name.str.contains('ST'))]\n",
    "        top_temp = top_temp.sort_values(by=['couts'], ascending=[0])\n",
    "        codew = top_temp.index.tolist()\n",
    "\n",
    "        # clean st and 688\n",
    "\n",
    "    # df['date'] = df['date'].apply(lambda x:(x.replace('-','')))\n",
    "    # df['date'] = df['date'].astype(int)\n",
    "    # print df_mask.loc[code_select].T,df_mask.shape\n",
    "#     MultiIndex = False\n",
    "# else:\n",
    "#     MultiIndex = True"
   ]
  },
  {
   "cell_type": "code",
   "execution_count": 41,
   "id": "7ebabb66-49f4-4ea0-837d-b4bedf42c9e4",
   "metadata": {
    "ExecuteTime": {
     "end_time": "2025-06-15T15:05:33.298998Z",
     "start_time": "2025-06-15T15:05:33.284959Z"
    },
    "execution": {
     "iopub.status.busy": "2025-06-13T11:53:11.090382Z",
     "iopub.status.idle": "2025-06-13T11:53:11.090382Z",
     "shell.execute_reply": "2025-06-13T11:53:11.090382Z",
     "shell.execute_reply.started": "2025-06-13T11:53:11.090382Z"
    },
    "tags": []
   },
   "outputs": [
    {
     "ename": "NameError",
     "evalue": "name 'dfs_dtlen' is not defined",
     "output_type": "error",
     "traceback": [
      "\u001b[0;31m---------------------------------------------------------------------------\u001b[0m",
      "\u001b[0;31mNameError\u001b[0m                                 Traceback (most recent call last)",
      "\u001b[0;32m/var/folders/7f/spryjd9n3qd9hsrgqjhyqn000000gp/T/ipykernel_29906/2331932045.py\u001b[0m in \u001b[0;36m<module>\u001b[0;34m\u001b[0m\n\u001b[0;32m----> 1\u001b[0;31m \u001b[0mdfs_dtlen\u001b[0m\u001b[0;34m.\u001b[0m\u001b[0mloc\u001b[0m\u001b[0;34m[\u001b[0m\u001b[0;34m'002987'\u001b[0m\u001b[0;34m]\u001b[0m\u001b[0;34m[\u001b[0m\u001b[0;34m-\u001b[0m\u001b[0;36m1\u001b[0m\u001b[0;34m:\u001b[0m\u001b[0;34m]\u001b[0m\u001b[0;34m\u001b[0m\u001b[0;34m\u001b[0m\u001b[0m\n\u001b[0m",
      "\u001b[0;31mNameError\u001b[0m: name 'dfs_dtlen' is not defined"
     ]
    }
   ],
   "source": [
    "dfs_dtlen.loc['002987'][-1:]"
   ]
  },
  {
   "cell_type": "markdown",
   "id": "9f9d7779-33cc-4def-9d55-dc37610a23e1",
   "metadata": {},
   "source": [
    "## 最近60天筛选"
   ]
  },
  {
   "cell_type": "code",
   "execution_count": 42,
   "id": "add196c9-b76a-45f7-b36f-766dbdbb1f7a",
   "metadata": {
    "ExecuteTime": {
     "end_time": "2025-06-15T15:05:33.375620Z",
     "start_time": "2025-06-15T15:05:33.361382Z"
    },
    "execution": {
     "iopub.status.busy": "2025-06-13T11:53:11.091380Z",
     "iopub.status.idle": "2025-06-13T11:53:11.091380Z",
     "shell.execute_reply": "2025-06-13T11:53:11.091380Z",
     "shell.execute_reply.started": "2025-06-13T11:53:11.091380Z"
    },
    "tags": []
   },
   "outputs": [
    {
     "ename": "NameError",
     "evalue": "name 'dfs' is not defined",
     "output_type": "error",
     "traceback": [
      "\u001b[0;31m---------------------------------------------------------------------------\u001b[0m",
      "\u001b[0;31mNameError\u001b[0m                                 Traceback (most recent call last)",
      "\u001b[0;32m/var/folders/7f/spryjd9n3qd9hsrgqjhyqn000000gp/T/ipykernel_29906/1514881976.py\u001b[0m in \u001b[0;36m<module>\u001b[0;34m\u001b[0m\n\u001b[1;32m      1\u001b[0m \u001b[0;31m# 截取最后5天数据\u001b[0m\u001b[0;34m\u001b[0m\u001b[0;34m\u001b[0m\u001b[0m\n\u001b[0;32m----> 2\u001b[0;31m \u001b[0mdfs_tail\u001b[0m \u001b[0;34m=\u001b[0m \u001b[0mdfs\u001b[0m\u001b[0;34m.\u001b[0m\u001b[0mgroupby\u001b[0m\u001b[0;34m(\u001b[0m\u001b[0mlevel\u001b[0m\u001b[0;34m=\u001b[0m\u001b[0;34m[\u001b[0m\u001b[0;36m0\u001b[0m\u001b[0;34m]\u001b[0m\u001b[0;34m)\u001b[0m\u001b[0;34m.\u001b[0m\u001b[0mtail\u001b[0m\u001b[0;34m(\u001b[0m\u001b[0mtail_days\u001b[0m\u001b[0;34m)\u001b[0m\u001b[0;34m\u001b[0m\u001b[0;34m\u001b[0m\u001b[0m\n\u001b[0m\u001b[1;32m      3\u001b[0m \u001b[0;31m# 还原多索引\u001b[0m\u001b[0;34m\u001b[0m\u001b[0;34m\u001b[0m\u001b[0m\n\u001b[1;32m      4\u001b[0m \u001b[0;31m# dfs_tail = dfs_tail.reset_index().set_index(['code','date'])\u001b[0m\u001b[0;34m\u001b[0m\u001b[0;34m\u001b[0m\u001b[0m\n\u001b[1;32m      5\u001b[0m \u001b[0;31m# dfs_tail[dfs_tail.ra_diff > 2]\u001b[0m\u001b[0;34m\u001b[0m\u001b[0;34m\u001b[0m\u001b[0m\n",
      "\u001b[0;31mNameError\u001b[0m: name 'dfs' is not defined"
     ]
    }
   ],
   "source": [
    "# 截取最后5天数据\n",
    "dfs_tail = dfs.groupby(level=[0]).tail(tail_days)\n",
    "# 还原多索引\n",
    "# dfs_tail = dfs_tail.reset_index().set_index(['code','date'])\n",
    "# dfs_tail[dfs_tail.ra_diff > 2]"
   ]
  },
  {
   "cell_type": "markdown",
   "id": "53a757c7-5512-4a18-85e1-b9cf937d735f",
   "metadata": {},
   "source": [
    "### filter mask250 get_level_values"
   ]
  },
  {
   "cell_type": "code",
   "execution_count": 43,
   "id": "dfa4a548-d308-48b5-b4db-3a4ab899ea0d",
   "metadata": {
    "ExecuteTime": {
     "end_time": "2025-06-15T15:05:33.465736Z",
     "start_time": "2025-06-15T15:05:33.444627Z"
    },
    "execution": {
     "iopub.status.busy": "2025-06-13T11:53:11.093375Z",
     "iopub.status.idle": "2025-06-13T11:53:11.093375Z",
     "shell.execute_reply": "2025-06-13T11:53:11.093375Z",
     "shell.execute_reply.started": "2025-06-13T11:53:11.093375Z"
    },
    "tags": []
   },
   "outputs": [
    {
     "ename": "NameError",
     "evalue": "name 'dfs_tail' is not defined",
     "output_type": "error",
     "traceback": [
      "\u001b[0;31m---------------------------------------------------------------------------\u001b[0m",
      "\u001b[0;31mNameError\u001b[0m                                 Traceback (most recent call last)",
      "\u001b[0;32m/var/folders/7f/spryjd9n3qd9hsrgqjhyqn000000gp/T/ipykernel_29906/3380019546.py\u001b[0m in \u001b[0;36m<module>\u001b[0;34m\u001b[0m\n\u001b[0;32m----> 1\u001b[0;31m mask250 = ((dfs_tail[('ma%s') % (rollma[0])] > 0) & (dfs_tail[('ma%s') % (rollma[-1])] > 0) &\n\u001b[0m\u001b[1;32m      2\u001b[0m            \u001b[0;34m(\u001b[0m\u001b[0mdfs_tail\u001b[0m\u001b[0;34m[\u001b[0m\u001b[0;34m(\u001b[0m\u001b[0;34m'close'\u001b[0m\u001b[0;34m)\u001b[0m\u001b[0;34m]\u001b[0m \u001b[0;34m>\u001b[0m \u001b[0mdfs_tail\u001b[0m\u001b[0;34m[\u001b[0m\u001b[0;34m(\u001b[0m\u001b[0;34m'ma%s'\u001b[0m\u001b[0;34m)\u001b[0m \u001b[0;34m%\u001b[0m \u001b[0;34m(\u001b[0m\u001b[0mrollma\u001b[0m\u001b[0;34m[\u001b[0m\u001b[0;36m0\u001b[0m\u001b[0;34m]\u001b[0m\u001b[0;34m)\u001b[0m\u001b[0;34m]\u001b[0m\u001b[0;34m)\u001b[0m\u001b[0;34m\u001b[0m\u001b[0;34m\u001b[0m\u001b[0m\n\u001b[1;32m      3\u001b[0m             \u001b[0;34m&\u001b[0m \u001b[0;34m(\u001b[0m\u001b[0mdfs_tail\u001b[0m\u001b[0;34m[\u001b[0m\u001b[0;34m(\u001b[0m\u001b[0;34m'close'\u001b[0m\u001b[0;34m)\u001b[0m\u001b[0;34m]\u001b[0m \u001b[0;34m>\u001b[0m \u001b[0mdfs_tail\u001b[0m\u001b[0;34m[\u001b[0m\u001b[0;34m(\u001b[0m\u001b[0;34m'ma%s'\u001b[0m\u001b[0;34m)\u001b[0m \u001b[0;34m%\u001b[0m \u001b[0;34m(\u001b[0m\u001b[0mrollma\u001b[0m\u001b[0;34m[\u001b[0m\u001b[0;34m-\u001b[0m\u001b[0;36m1\u001b[0m\u001b[0;34m]\u001b[0m\u001b[0;34m)\u001b[0m\u001b[0;34m]\u001b[0m\u001b[0;34m*\u001b[0m\u001b[0;36m1.03\u001b[0m\u001b[0;34m)\u001b[0m\u001b[0;34m\u001b[0m\u001b[0;34m\u001b[0m\u001b[0m\n\u001b[1;32m      4\u001b[0m               \u001b[0;34m&\u001b[0m \u001b[0;34m(\u001b[0m\u001b[0mdfs_tail\u001b[0m\u001b[0;34m[\u001b[0m\u001b[0;34m(\u001b[0m\u001b[0;34m'close'\u001b[0m\u001b[0;34m)\u001b[0m\u001b[0;34m]\u001b[0m \u001b[0;34m<\u001b[0m \u001b[0mdfs_tail\u001b[0m\u001b[0;34m[\u001b[0m\u001b[0;34m(\u001b[0m\u001b[0;34m'ma%s'\u001b[0m\u001b[0;34m)\u001b[0m \u001b[0;34m%\u001b[0m \u001b[0;34m(\u001b[0m\u001b[0mrollma\u001b[0m\u001b[0;34m[\u001b[0m\u001b[0;34m-\u001b[0m\u001b[0;36m1\u001b[0m\u001b[0;34m]\u001b[0m\u001b[0;34m)\u001b[0m\u001b[0;34m]\u001b[0m\u001b[0;34m*\u001b[0m\u001b[0;36m1.1\u001b[0m\u001b[0;34m)\u001b[0m\u001b[0;34m\u001b[0m\u001b[0;34m\u001b[0m\u001b[0m\n\u001b[1;32m      5\u001b[0m                 \u001b[0;34m&\u001b[0m \u001b[0;34m(\u001b[0m\u001b[0mdfs_tail\u001b[0m\u001b[0;34m[\u001b[0m\u001b[0;34m(\u001b[0m\u001b[0;34m'close'\u001b[0m\u001b[0;34m)\u001b[0m\u001b[0;34m]\u001b[0m \u001b[0;34m>\u001b[0m \u001b[0mdfs_tail\u001b[0m\u001b[0;34m[\u001b[0m\u001b[0;34m(\u001b[0m\u001b[0;34m'ma20'\u001b[0m\u001b[0;34m)\u001b[0m\u001b[0;34m]\u001b[0m\u001b[0;34m)\u001b[0m\u001b[0;34m\u001b[0m\u001b[0;34m\u001b[0m\u001b[0m\n",
      "\u001b[0;31mNameError\u001b[0m: name 'dfs_tail' is not defined"
     ]
    }
   ],
   "source": [
    "mask250 = ((dfs_tail[('ma%s') % (rollma[0])] > 0) & (dfs_tail[('ma%s') % (rollma[-1])] > 0) &\n",
    "           (dfs_tail[('close')] > dfs_tail[('ma%s') % (rollma[0])])\n",
    "            & (dfs_tail[('close')] > dfs_tail[('ma%s') % (rollma[-1])]*1.03)\n",
    "              & (dfs_tail[('close')] < dfs_tail[('ma%s') % (rollma[-1])]*1.1)\n",
    "                & (dfs_tail[('close')] > dfs_tail[('ma20')])\n",
    "           & (dfs_tail[('close')] < dfs_tail[('ma20'   )]*1.1))\n",
    "idx = pd.IndexSlice\n",
    "df_mask250 = dfs_tail.loc[idx[mask250, :]]\n",
    "print(df_mask250.shape)\n",
    "df_mask250 = get_multi_code_count(df_mask250)\n",
    "print((df_mask250.couts[:1], df_mask250.shape))\n",
    "\n",
    "groupd250 = df_mask250.groupby(level=[0])\n",
    "df_mask250 = groupd250.tail(1)\n",
    "# df_mask250 = df_mask250[df_mask250.index.get_level_values(1) > str(df_mask250.loc['999999'].index[0])[:10] ]\n",
    "# df_mask250 = clean_688(df_mask250)\n",
    "\n",
    "# df_mask250['idx'] = df_idx_detect\n",
    "print((df_mask250.couts[:2], df_mask250.shape))\n",
    "# print(df_mask.loc['002987'])\n",
    "df_mask250 = df_mask250.sort_values(\n",
    "        by=['ra_diff','hat', 'couts'],\n",
    "        ascending=[0,0, 0])\n",
    "show_tdx_data(\n",
    "    df_mask250)[:3]"
   ]
  },
  {
   "cell_type": "markdown",
   "id": "9bd328dd-d57d-4355-b90c-cc8c71fdfd45",
   "metadata": {},
   "source": [
    "#### filter today"
   ]
  },
  {
   "cell_type": "code",
   "execution_count": 44,
   "id": "f909db9b-de6a-42ce-864a-230715b32343",
   "metadata": {
    "ExecuteTime": {
     "end_time": "2025-06-15T15:05:33.536776Z",
     "start_time": "2025-06-15T15:05:33.521015Z"
    },
    "execution": {
     "iopub.status.busy": "2025-06-13T11:53:11.094372Z",
     "iopub.status.idle": "2025-06-13T11:53:11.095370Z",
     "shell.execute_reply": "2025-06-13T11:53:11.095370Z",
     "shell.execute_reply.started": "2025-06-13T11:53:11.095370Z"
    },
    "tags": []
   },
   "outputs": [
    {
     "ename": "NameError",
     "evalue": "name 'df_mask250' is not defined",
     "output_type": "error",
     "traceback": [
      "\u001b[0;31m---------------------------------------------------------------------------\u001b[0m",
      "\u001b[0;31mNameError\u001b[0m                                 Traceback (most recent call last)",
      "\u001b[0;32m/var/folders/7f/spryjd9n3qd9hsrgqjhyqn000000gp/T/ipykernel_29906/1521663920.py\u001b[0m in \u001b[0;36m<module>\u001b[0;34m\u001b[0m\n\u001b[0;32m----> 1\u001b[0;31m \u001b[0mdf_mask250\u001b[0m  \u001b[0;34m=\u001b[0m \u001b[0mdf_mask250\u001b[0m\u001b[0;34m[\u001b[0m\u001b[0;34m(\u001b[0m\u001b[0mdf_mask250\u001b[0m\u001b[0;34m.\u001b[0m\u001b[0mxratio\u001b[0m \u001b[0;34m>\u001b[0m \u001b[0;36m0\u001b[0m\u001b[0;34m)\u001b[0m \u001b[0;34m&\u001b[0m \u001b[0;34m(\u001b[0m\u001b[0mdf_mask250\u001b[0m\u001b[0;34m.\u001b[0m\u001b[0mindex\u001b[0m\u001b[0;34m.\u001b[0m\u001b[0mget_level_values\u001b[0m\u001b[0;34m(\u001b[0m\u001b[0;34m'date'\u001b[0m\u001b[0;34m)\u001b[0m \u001b[0;34m>\u001b[0m \u001b[0mcct\u001b[0m\u001b[0;34m.\u001b[0m\u001b[0mget_today\u001b[0m\u001b[0;34m(\u001b[0m\u001b[0;34m)\u001b[0m \u001b[0;34m)\u001b[0m\u001b[0;34m]\u001b[0m\u001b[0;34m\u001b[0m\u001b[0;34m\u001b[0m\u001b[0m\n\u001b[0m\u001b[1;32m      2\u001b[0m \u001b[0;31m# df_tail1[df_tail1.index.get_level_values('date') == cct.get_today()].shape\u001b[0m\u001b[0;34m\u001b[0m\u001b[0;34m\u001b[0m\u001b[0m\n",
      "\u001b[0;31mNameError\u001b[0m: name 'df_mask250' is not defined"
     ]
    }
   ],
   "source": [
    "df_mask250  = df_mask250[(df_mask250.xratio > 0) & (df_mask250.index.get_level_values('date') > cct.get_today() )]\n",
    "# df_tail1[df_tail1.index.get_level_values('date') == cct.get_today()].shape\n"
   ]
  },
  {
   "cell_type": "code",
   "execution_count": 45,
   "id": "51851325-9d22-4646-ae96-0a836c835e05",
   "metadata": {
    "ExecuteTime": {
     "end_time": "2025-06-15T15:05:33.571437Z",
     "start_time": "2025-06-15T15:05:33.568525Z"
    },
    "execution": {
     "iopub.status.busy": "2025-06-13T11:53:11.096366Z",
     "iopub.status.idle": "2025-06-13T11:53:11.096366Z",
     "shell.execute_reply": "2025-06-13T11:53:11.096366Z",
     "shell.execute_reply.started": "2025-06-13T11:53:11.096366Z"
    },
    "tags": []
   },
   "outputs": [],
   "source": [
    "# df_mask250.index.get_level_values(1) > str(df_mask250.loc['999999'].index[0])[:10]"
   ]
  },
  {
   "cell_type": "markdown",
   "id": "b10c3ea9-4c7b-4312-a2e7-46b97d9cb286",
   "metadata": {},
   "source": [
    "#### debug ra_diff4"
   ]
  },
  {
   "cell_type": "code",
   "execution_count": 46,
   "id": "ae350bcd-6ad0-4ffd-8817-125d3e891b91",
   "metadata": {
    "ExecuteTime": {
     "end_time": "2025-06-15T15:05:33.651094Z",
     "start_time": "2025-06-15T15:05:33.636709Z"
    },
    "execution": {
     "iopub.status.busy": "2025-06-13T11:53:11.097364Z",
     "iopub.status.idle": "2025-06-13T11:53:11.097364Z",
     "shell.execute_reply": "2025-06-13T11:53:11.097364Z",
     "shell.execute_reply.started": "2025-06-13T11:53:11.097364Z"
    },
    "tags": []
   },
   "outputs": [
    {
     "ename": "NameError",
     "evalue": "name 'dfs' is not defined",
     "output_type": "error",
     "traceback": [
      "\u001b[0;31m---------------------------------------------------------------------------\u001b[0m",
      "\u001b[0;31mNameError\u001b[0m                                 Traceback (most recent call last)",
      "\u001b[0;32m/var/folders/7f/spryjd9n3qd9hsrgqjhyqn000000gp/T/ipykernel_29906/1873196017.py\u001b[0m in \u001b[0;36m<module>\u001b[0;34m\u001b[0m\n\u001b[0;32m----> 1\u001b[0;31m \u001b[0mdfs\u001b[0m\u001b[0;34m.\u001b[0m\u001b[0mloc\u001b[0m\u001b[0;34m[\u001b[0m\u001b[0;34m'301073'\u001b[0m\u001b[0;34m]\u001b[0m\u001b[0;34m[\u001b[0m\u001b[0;34m-\u001b[0m\u001b[0;36m5\u001b[0m\u001b[0;34m:\u001b[0m\u001b[0;34m]\u001b[0m\u001b[0;34m.\u001b[0m\u001b[0mra_diff\u001b[0m\u001b[0;34m\u001b[0m\u001b[0;34m\u001b[0m\u001b[0m\n\u001b[0m",
      "\u001b[0;31mNameError\u001b[0m: name 'dfs' is not defined"
     ]
    }
   ],
   "source": [
    "dfs.loc['301073'][-5:].ra_diff"
   ]
  },
  {
   "cell_type": "code",
   "execution_count": 47,
   "id": "27507d68-6d2d-469f-9d5a-3a7998fe351f",
   "metadata": {
    "ExecuteTime": {
     "end_time": "2025-06-15T15:05:33.699734Z",
     "start_time": "2025-06-15T15:05:33.684664Z"
    },
    "execution": {
     "iopub.status.busy": "2025-06-13T11:53:11.099390Z",
     "iopub.status.idle": "2025-06-13T11:53:11.099390Z",
     "shell.execute_reply": "2025-06-13T11:53:11.099390Z",
     "shell.execute_reply.started": "2025-06-13T11:53:11.099390Z"
    },
    "tags": []
   },
   "outputs": [
    {
     "ename": "NameError",
     "evalue": "name 'dfsRoot' is not defined",
     "output_type": "error",
     "traceback": [
      "\u001b[0;31m---------------------------------------------------------------------------\u001b[0m",
      "\u001b[0;31mNameError\u001b[0m                                 Traceback (most recent call last)",
      "\u001b[0;32m/var/folders/7f/spryjd9n3qd9hsrgqjhyqn000000gp/T/ipykernel_29906/3171730384.py\u001b[0m in \u001b[0;36m<module>\u001b[0;34m\u001b[0m\n\u001b[1;32m      1\u001b[0m \u001b[0;31m# dfs.loc['000002'][-60:]\u001b[0m\u001b[0;34m\u001b[0m\u001b[0;34m\u001b[0m\u001b[0m\n\u001b[0;32m----> 2\u001b[0;31m \u001b[0mshow_ohlc_upper\u001b[0m\u001b[0;34m(\u001b[0m\u001b[0mdfsRoot\u001b[0m\u001b[0;34m.\u001b[0m\u001b[0mloc\u001b[0m\u001b[0;34m[\u001b[0m\u001b[0;34m'000002'\u001b[0m\u001b[0;34m]\u001b[0m\u001b[0;34m[\u001b[0m\u001b[0;34m-\u001b[0m\u001b[0;36m60\u001b[0m\u001b[0;34m:\u001b[0m\u001b[0;34m]\u001b[0m\u001b[0;34m,\u001b[0m\u001b[0mcode\u001b[0m\u001b[0;34m=\u001b[0m\u001b[0;34m'000002'\u001b[0m\u001b[0;34m)\u001b[0m\u001b[0;34m\u001b[0m\u001b[0;34m\u001b[0m\u001b[0m\n\u001b[0m\u001b[1;32m      3\u001b[0m \u001b[0;32mfor\u001b[0m \u001b[0mco\u001b[0m \u001b[0;32min\u001b[0m \u001b[0mdf_mask250\u001b[0m\u001b[0;34m.\u001b[0m\u001b[0mindex\u001b[0m\u001b[0;34m.\u001b[0m\u001b[0mget_level_values\u001b[0m\u001b[0;34m(\u001b[0m\u001b[0;36m0\u001b[0m\u001b[0;34m)\u001b[0m\u001b[0;34m[\u001b[0m\u001b[0;34m:\u001b[0m\u001b[0;36m10\u001b[0m\u001b[0;34m]\u001b[0m\u001b[0;34m:\u001b[0m\u001b[0;34m\u001b[0m\u001b[0;34m\u001b[0m\u001b[0m\n\u001b[1;32m      4\u001b[0m     \u001b[0mprint\u001b[0m\u001b[0;34m(\u001b[0m\u001b[0mco\u001b[0m\u001b[0;34m,\u001b[0m\u001b[0mdfs\u001b[0m\u001b[0;34m.\u001b[0m\u001b[0mloc\u001b[0m\u001b[0;34m[\u001b[0m\u001b[0mco\u001b[0m\u001b[0;34m]\u001b[0m\u001b[0;34m.\u001b[0m\u001b[0mra_diff\u001b[0m\u001b[0;34m[\u001b[0m\u001b[0;34m-\u001b[0m\u001b[0;36m1\u001b[0m\u001b[0;34m]\u001b[0m\u001b[0;34m)\u001b[0m\u001b[0;34m\u001b[0m\u001b[0;34m\u001b[0m\u001b[0m\n\u001b[1;32m      5\u001b[0m     \u001b[0mshow_ohlc_upper\u001b[0m\u001b[0;34m(\u001b[0m\u001b[0mdfsRoot\u001b[0m\u001b[0;34m.\u001b[0m\u001b[0mloc\u001b[0m\u001b[0;34m[\u001b[0m\u001b[0mco\u001b[0m\u001b[0;34m]\u001b[0m\u001b[0;34m[\u001b[0m\u001b[0;34m-\u001b[0m\u001b[0mtail_days\u001b[0m\u001b[0;34m:\u001b[0m\u001b[0;34m]\u001b[0m\u001b[0;34m,\u001b[0m\u001b[0mcode\u001b[0m\u001b[0;34m=\u001b[0m\u001b[0mco\u001b[0m\u001b[0;34m)\u001b[0m\u001b[0;34m\u001b[0m\u001b[0;34m\u001b[0m\u001b[0m\n",
      "\u001b[0;31mNameError\u001b[0m: name 'dfsRoot' is not defined"
     ]
    }
   ],
   "source": [
    "# dfs.loc['000002'][-60:]\n",
    "show_ohlc_upper(dfsRoot.loc['000002'][-60:],code='000002')\n",
    "for co in df_mask250.index.get_level_values(0)[:10]:\n",
    "    print(co,dfs.loc[co].ra_diff[-1])\n",
    "    show_ohlc_upper(dfsRoot.loc[co][-tail_days:],code=co)"
   ]
  },
  {
   "cell_type": "markdown",
   "id": "03dae40a-7528-4244-a221-56bc27c67dca",
   "metadata": {},
   "source": [
    "## 最近60天数据"
   ]
  },
  {
   "cell_type": "code",
   "execution_count": 48,
   "id": "40a4101a-6eab-4079-b8d7-9c6cee43d863",
   "metadata": {
    "ExecuteTime": {
     "end_time": "2025-06-15T15:05:33.776037Z",
     "start_time": "2025-06-15T15:05:33.762556Z"
    },
    "execution": {
     "iopub.status.busy": "2025-06-13T11:53:11.100354Z",
     "iopub.status.idle": "2025-06-13T11:53:11.101354Z",
     "shell.execute_reply": "2025-06-13T11:53:11.100354Z",
     "shell.execute_reply.started": "2025-06-13T11:53:11.100354Z"
    },
    "tags": []
   },
   "outputs": [
    {
     "ename": "NameError",
     "evalue": "name 'dfs' is not defined",
     "output_type": "error",
     "traceback": [
      "\u001b[0;31m---------------------------------------------------------------------------\u001b[0m",
      "\u001b[0;31mNameError\u001b[0m                                 Traceback (most recent call last)",
      "\u001b[0;32m/var/folders/7f/spryjd9n3qd9hsrgqjhyqn000000gp/T/ipykernel_29906/68884267.py\u001b[0m in \u001b[0;36m<module>\u001b[0;34m\u001b[0m\n\u001b[0;32m----> 1\u001b[0;31m \u001b[0mdfs_tail9\u001b[0m \u001b[0;34m=\u001b[0m \u001b[0mdfs\u001b[0m\u001b[0;34m.\u001b[0m\u001b[0mgroupby\u001b[0m\u001b[0;34m(\u001b[0m\u001b[0mlevel\u001b[0m\u001b[0;34m=\u001b[0m\u001b[0;34m[\u001b[0m\u001b[0;36m0\u001b[0m\u001b[0;34m]\u001b[0m\u001b[0;34m)\u001b[0m\u001b[0;34m.\u001b[0m\u001b[0mtail\u001b[0m\u001b[0;34m(\u001b[0m\u001b[0mtail_days\u001b[0m\u001b[0;34m)\u001b[0m\u001b[0;34m\u001b[0m\u001b[0;34m\u001b[0m\u001b[0m\n\u001b[0m\u001b[1;32m      2\u001b[0m \u001b[0;34m\u001b[0m\u001b[0m\n\u001b[1;32m      3\u001b[0m \u001b[0;31m# 提取倒数第二天\u001b[0m\u001b[0;34m\u001b[0m\u001b[0;34m\u001b[0m\u001b[0m\n\u001b[1;32m      4\u001b[0m \u001b[0;31m# dfs_tail9 = dfs.groupby(level=[0]).tail(6)\u001b[0m\u001b[0;34m\u001b[0m\u001b[0;34m\u001b[0m\u001b[0m\n\u001b[1;32m      5\u001b[0m \u001b[0;31m# dfs_tail9 = dfs_tail9[dfs_tail9.index.get_level_values(1) <lastday]\u001b[0m\u001b[0;34m\u001b[0m\u001b[0;34m\u001b[0m\u001b[0m\n",
      "\u001b[0;31mNameError\u001b[0m: name 'dfs' is not defined"
     ]
    }
   ],
   "source": [
    "dfs_tail9 = dfs.groupby(level=[0]).tail(tail_days)\n",
    "\n",
    "# 提取倒数第二天\n",
    "# dfs_tail9 = dfs.groupby(level=[0]).tail(6)\n",
    "# dfs_tail9 = dfs_tail9[dfs_tail9.index.get_level_values(1) <lastday]\n",
    "\n",
    "\n",
    "# dfs_tail9.index.get_level_values(0)\n",
    "# 还原多索引\n",
    "# dfs_tail = dfs_tail.reset_index().set_index(['code','date'])\n",
    "# print(dfs_tail9.loc['002987'][:1])\n",
    "# show_tdx_data(dfs_tail9.loc[code_t])\n",
    "# dfs_tail9=compute_perd_value(dfs_tail9,market_value=5,col='vol')\n",
    "\n",
    "# show_tdx_data(dfs_tail9.loc[code_t])\n",
    "# print((dfs_tail9.loc[code_t]))"
   ]
  },
  {
   "cell_type": "code",
   "execution_count": 49,
   "id": "29c6b109-d72d-4e01-bbb3-b83ddaabcf77",
   "metadata": {
    "ExecuteTime": {
     "end_time": "2025-06-15T15:05:33.819587Z",
     "start_time": "2025-06-15T15:05:33.806069Z"
    },
    "execution": {
     "iopub.status.busy": "2025-06-13T11:53:11.102378Z",
     "iopub.status.idle": "2025-06-13T11:53:11.102378Z",
     "shell.execute_reply": "2025-06-13T11:53:11.102378Z",
     "shell.execute_reply.started": "2025-06-13T11:53:11.102378Z"
    },
    "tags": []
   },
   "outputs": [
    {
     "ename": "NameError",
     "evalue": "name 'dfs_tail9' is not defined",
     "output_type": "error",
     "traceback": [
      "\u001b[0;31m---------------------------------------------------------------------------\u001b[0m",
      "\u001b[0;31mNameError\u001b[0m                                 Traceback (most recent call last)",
      "\u001b[0;32m/var/folders/7f/spryjd9n3qd9hsrgqjhyqn000000gp/T/ipykernel_29906/3360510988.py\u001b[0m in \u001b[0;36m<module>\u001b[0;34m\u001b[0m\n\u001b[0;32m----> 1\u001b[0;31m \u001b[0mdfs_tail9\u001b[0m\u001b[0;34m.\u001b[0m\u001b[0mloc\u001b[0m\u001b[0;34m[\u001b[0m\u001b[0;34m(\u001b[0m\u001b[0;34m[\u001b[0m\u001b[0;34m'999999'\u001b[0m\u001b[0;34m,\u001b[0m\u001b[0;34m'399001'\u001b[0m\u001b[0;34m,\u001b[0m\u001b[0;34m'399006'\u001b[0m\u001b[0;34m]\u001b[0m\u001b[0;34m,\u001b[0m\u001b[0;34m'ra_diff'\u001b[0m\u001b[0;34m)\u001b[0m\u001b[0;34m]\u001b[0m\u001b[0;34m.\u001b[0m\u001b[0mgroupby\u001b[0m\u001b[0;34m(\u001b[0m\u001b[0mlevel\u001b[0m\u001b[0;34m=\u001b[0m\u001b[0;36m0\u001b[0m\u001b[0;34m)\u001b[0m\u001b[0;34m.\u001b[0m\u001b[0mtail\u001b[0m\u001b[0;34m(\u001b[0m\u001b[0;36m3\u001b[0m\u001b[0;34m)\u001b[0m\u001b[0;34m\u001b[0m\u001b[0;34m\u001b[0m\u001b[0m\n\u001b[0m\u001b[1;32m      2\u001b[0m \u001b[0;31m# dfs_tail9.loc[pd.IndexSlice[['999999','399001','399006'], :, :]].tail(3)\u001b[0m\u001b[0;34m\u001b[0m\u001b[0;34m\u001b[0m\u001b[0m\n\u001b[1;32m      3\u001b[0m \u001b[0;31m# dfs_tail9.query((\"code == '999999'\" and \"date > '2023-04-01'\"))\u001b[0m\u001b[0;34m\u001b[0m\u001b[0;34m\u001b[0m\u001b[0m\n",
      "\u001b[0;31mNameError\u001b[0m: name 'dfs_tail9' is not defined"
     ]
    }
   ],
   "source": [
    "dfs_tail9.loc[(['999999','399001','399006'],'ra_diff')].groupby(level=0).tail(3)\n",
    "# dfs_tail9.loc[pd.IndexSlice[['999999','399001','399006'], :, :]].tail(3)\n",
    "# dfs_tail9.query((\"code == '999999'\" and \"date > '2023-04-01'\"))"
   ]
  },
  {
   "cell_type": "markdown",
   "id": "0b3173f3-5f93-46af-93ba-ae54292d1e64",
   "metadata": {},
   "source": [
    "## 超跌反弹年线大于MA20"
   ]
  },
  {
   "cell_type": "code",
   "execution_count": 50,
   "id": "05296d21-3ea1-4e29-9dc7-f9eea51d5c5b",
   "metadata": {
    "ExecuteTime": {
     "end_time": "2025-06-15T15:05:33.900514Z",
     "start_time": "2025-06-15T15:05:33.884881Z"
    },
    "execution": {
     "iopub.status.busy": "2025-06-13T11:53:11.104345Z",
     "iopub.status.idle": "2025-06-13T11:53:11.104345Z",
     "shell.execute_reply": "2025-06-13T11:53:11.104345Z",
     "shell.execute_reply.started": "2025-06-13T11:53:11.104345Z"
    },
    "tags": []
   },
   "outputs": [
    {
     "ename": "NameError",
     "evalue": "name 'dfs_tail9' is not defined",
     "output_type": "error",
     "traceback": [
      "\u001b[0;31m---------------------------------------------------------------------------\u001b[0m",
      "\u001b[0;31mNameError\u001b[0m                                 Traceback (most recent call last)",
      "\u001b[0;32m/var/folders/7f/spryjd9n3qd9hsrgqjhyqn000000gp/T/ipykernel_29906/3935756383.py\u001b[0m in \u001b[0;36m<module>\u001b[0;34m\u001b[0m\n\u001b[1;32m      1\u001b[0m \u001b[0;31m# show_tdx_data(dfs_tail9.loc['300418'])[-2:]\u001b[0m\u001b[0;34m\u001b[0m\u001b[0;34m\u001b[0m\u001b[0m\n\u001b[0;32m----> 2\u001b[0;31m \u001b[0mshow_tdx_data\u001b[0m\u001b[0;34m(\u001b[0m\u001b[0mdfs_tail9\u001b[0m\u001b[0;34m.\u001b[0m\u001b[0mloc\u001b[0m\u001b[0;34m[\u001b[0m\u001b[0;34m'603131'\u001b[0m\u001b[0;34m]\u001b[0m\u001b[0;34m)\u001b[0m\u001b[0;34m[\u001b[0m\u001b[0;34m-\u001b[0m\u001b[0;36m2\u001b[0m\u001b[0;34m:\u001b[0m\u001b[0;34m]\u001b[0m\u001b[0;34m\u001b[0m\u001b[0;34m\u001b[0m\u001b[0m\n\u001b[0m\u001b[1;32m      3\u001b[0m \u001b[0;31m# print(dfs_tail9.loc['603131',['high','upper','hmax']])\u001b[0m\u001b[0;34m\u001b[0m\u001b[0;34m\u001b[0m\u001b[0m\n",
      "\u001b[0;31mNameError\u001b[0m: name 'dfs_tail9' is not defined"
     ]
    }
   ],
   "source": [
    "# show_tdx_data(dfs_tail9.loc['300418'])[-2:]\n",
    "show_tdx_data(dfs_tail9.loc['603131'])[-2:]\n",
    "# print(dfs_tail9.loc['603131',['high','upper','hmax']])"
   ]
  },
  {
   "cell_type": "markdown",
   "id": "195a4c34-9366-41d1-94ea-7ffc9d33cd51",
   "metadata": {},
   "source": [
    "## !!! Run-Filter强势Upper"
   ]
  },
  {
   "cell_type": "markdown",
   "id": "4d9bbe3c-3272-4851-9ec0-86142e5378dd",
   "metadata": {
    "tags": []
   },
   "source": [
    "### !!! filterRule test"
   ]
  },
  {
   "cell_type": "code",
   "execution_count": 51,
   "id": "690ac9bf-ef72-4966-971c-15a9c0d86f0f",
   "metadata": {
    "ExecuteTime": {
     "end_time": "2025-06-15T15:05:34.026670Z",
     "start_time": "2025-06-15T15:05:34.016064Z"
    },
    "execution": {
     "iopub.status.busy": "2025-06-13T11:53:11.105342Z",
     "iopub.status.idle": "2025-06-13T11:53:11.106339Z",
     "shell.execute_reply": "2025-06-13T11:53:11.105342Z",
     "shell.execute_reply.started": "2025-06-13T11:53:11.105342Z"
    },
    "tags": []
   },
   "outputs": [],
   "source": [
    "# dfs_tail9.loc['002722']\n",
    "\n",
    "\n",
    "def rules_to_list(rules):\n",
    "    rules_l = (rules).split('&')\n",
    "    for l in rules_l:\n",
    "        print(l)\n",
    "    return rules_l\n",
    "\n",
    "\n",
    "def filter_rule_Test(dfs_tail9,resample=resample):\n",
    "    col_rule = [\"(dfs_tail9[('close')] > dfs_tail9[('ma5')])\",\n",
    "                \"(dfs_tail9[('high')] > dfs_tail9.upper)\",\n",
    "                \"(dfs_tail9[('ma5')] > dfs_tail9[('ma20')])\"]\n",
    "    col_rule2 = [\n",
    "        \"(dfs_tail9[('close')] > dfs_tail9[('hmax')].shift(1)*0.98) | (dfs_tail9['close'] > dfs_tail9['hmax']*0.97)\",\n",
    "        \"((dfs_tail9[('vol1d')] > 0) | (dfs_tail9.close > dfs_tail9.close.shift(1)*0.99))\"]\n",
    "    col_rule3 = [\n",
    "        \"((dfs_tail9[('vol2d')] > 0) | (dfs_tail9.close.shift(1) > dfs_tail9.close.shift(2)*0.99))\"]\n",
    "\n",
    "    col_rule_tail1 = [\"(dfs_tail9.perc1d < 21)\", \"(dfs_tail9.perc2d > 0)\"]\n",
    "    if resample.upper()=='D':\n",
    "        col_rule_tail2 = [\n",
    "            \"((dfs_tail9.perc3d > 0) | ((dfs_tail9.close.shift(2) > dfs_tail9.ma5.shift(2))) )\",\n",
    "            \"((dfs_tail9.volsum5d > 50) )\",\n",
    "            \"(dfs_tail9['close'] > dfs_tail9[('hmax')])\",\n",
    "            \"(dfs_tail9[('close')] > dfs_tail9[('ma250')])\",\n",
    "            \"(dfs_tail9['low'] > dfs_tail9[('low')].shift(1))\"]\n",
    "        col_rule_tail3 = [\"(dfs_tail9[('hmax')] > 0)\",\n",
    "                 \"(dfs_tail9[('high')] >= dfs_tail9[('hmax')])\",\n",
    "                 \"(dfs_tail9[('close')] > dfs_tail9.ma250 * 0.99)\"]\n",
    "    else:\n",
    "        col_rule_tail2 = [\n",
    "            \"((dfs_tail9.perc3d > 0) | ((dfs_tail9.close.shift(2) > dfs_tail9.ma5.shift(2))) )\",\n",
    "            \"((dfs_tail9.volsum5d > 50) )\",\n",
    "            \"(dfs_tail9['close'] > dfs_tail9[('hmax')])\",\n",
    "            \"(dfs_tail9['low'] > dfs_tail9[('low')].shift(1))\"]\n",
    "        col_rule_tail3 = [\"(dfs_tail9[('hmax')] > 0)\",\n",
    "                 \"(dfs_tail9[('high')] >= dfs_tail9[('hmax')])\"]\n",
    "    col_rule_tail4=[ \"(dfs_tail9[('xratio')] > dfs_tail9[('xratio')].shift(1))\",\n",
    "             \"(dfs_tail9[('xratio')].shift(1) > dfs_tail9[('xratio')].shift(2))\"]\n",
    "    \n",
    "    col_rule.extend(col_rule2)\n",
    "    col_rule.extend(col_rule3)\n",
    "    col_rule.extend(col_rule_tail1)\n",
    "    col_rule.extend(col_rule_tail2)\n",
    "    col_rule.extend(col_rule_tail3)\n",
    "    col_rule.extend(col_rule_tail4)\n",
    "    \n",
    "    for co in col_rule:\n",
    "        print(\"%s:%s\" % (co, eval(co)), end='')\n",
    "\n"
   ]
  },
  {
   "cell_type": "code",
   "execution_count": 52,
   "id": "e5a58c0a-938f-433a-8bfd-c386700ee91d",
   "metadata": {
    "ExecuteTime": {
     "end_time": "2025-06-15T15:05:34.088834Z",
     "start_time": "2025-06-15T15:05:34.073107Z"
    },
    "execution": {
     "iopub.status.busy": "2025-06-13T11:53:11.106339Z",
     "iopub.status.idle": "2025-06-13T11:53:11.107337Z",
     "shell.execute_reply": "2025-06-13T11:53:11.107337Z",
     "shell.execute_reply.started": "2025-06-13T11:53:11.107337Z"
    },
    "tags": []
   },
   "outputs": [
    {
     "ename": "NameError",
     "evalue": "name 'dfs_tail9' is not defined",
     "output_type": "error",
     "traceback": [
      "\u001b[0;31m---------------------------------------------------------------------------\u001b[0m",
      "\u001b[0;31mNameError\u001b[0m                                 Traceback (most recent call last)",
      "\u001b[0;32m/var/folders/7f/spryjd9n3qd9hsrgqjhyqn000000gp/T/ipykernel_29906/1762226865.py\u001b[0m in \u001b[0;36m<module>\u001b[0;34m\u001b[0m\n\u001b[1;32m      1\u001b[0m \u001b[0mcode_filter\u001b[0m \u001b[0;34m=\u001b[0m \u001b[0;34m'601728'\u001b[0m\u001b[0;34m\u001b[0m\u001b[0;34m\u001b[0m\u001b[0m\n\u001b[1;32m      2\u001b[0m \u001b[0;34m\u001b[0m\u001b[0m\n\u001b[0;32m----> 3\u001b[0;31m \u001b[0mprint\u001b[0m\u001b[0;34m(\u001b[0m\u001b[0mlen\u001b[0m\u001b[0;34m(\u001b[0m\u001b[0mdfs_tail9\u001b[0m\u001b[0;34m.\u001b[0m\u001b[0mloc\u001b[0m\u001b[0;34m[\u001b[0m\u001b[0mcode_filter\u001b[0m\u001b[0;34m]\u001b[0m\u001b[0;34m)\u001b[0m\u001b[0;34m)\u001b[0m\u001b[0;34m\u001b[0m\u001b[0;34m\u001b[0m\u001b[0m\n\u001b[0m\u001b[1;32m      4\u001b[0m \u001b[0;34m\u001b[0m\u001b[0m\n\u001b[1;32m      5\u001b[0m \u001b[0;31m# show_tdx_data(dfs_tail9.loc[code_filter])\u001b[0m\u001b[0;34m\u001b[0m\u001b[0;34m\u001b[0m\u001b[0m\n",
      "\u001b[0;31mNameError\u001b[0m: name 'dfs_tail9' is not defined"
     ]
    }
   ],
   "source": [
    "code_filter = '601728'\n",
    "\n",
    "print(len(dfs_tail9.loc[code_filter]))\n",
    "\n",
    "# show_tdx_data(dfs_tail9.loc[code_filter])\n",
    "detect_bull_bear(dfs.loc[code_filter][-120:].close)\n",
    "detect_bull_bear_apply(dfs.loc[code_filter][-120:].close)\n",
    "\n",
    "dfs.loc[code_filter].xratio[-5:]\n",
    "\n",
    "# filter_rule_Test(dfs_tail9.loc[code_filter])\n",
    "\n",
    "show_ohlc_upper(dfsRoot.loc[code_filter][-60:], code=code_filter)\n",
    "\n"
   ]
  },
  {
   "cell_type": "code",
   "execution_count": 53,
   "id": "6cdd4faa-3fa1-4010-a429-3b83693e29a9",
   "metadata": {
    "ExecuteTime": {
     "end_time": "2025-06-15T15:05:34.122273Z",
     "start_time": "2025-06-15T15:05:34.118608Z"
    },
    "execution": {
     "iopub.status.busy": "2025-06-13T11:53:11.108334Z",
     "iopub.status.idle": "2025-06-13T11:53:11.108334Z",
     "shell.execute_reply": "2025-06-13T11:53:11.108334Z",
     "shell.execute_reply.started": "2025-06-13T11:53:11.108334Z"
    },
    "tags": []
   },
   "outputs": [],
   "source": [
    "# dfs.loc['300474'][-5:]"
   ]
  },
  {
   "cell_type": "markdown",
   "id": "877ffea7-d6b5-4b21-8c9e-0e1a18104949",
   "metadata": {
    "tags": []
   },
   "source": [
    "### 新高Hmax日见新高df_mask_hmax"
   ]
  },
  {
   "cell_type": "markdown",
   "id": "593646cd-ae6b-4b56-b7d4-e2c9cdcabc8b",
   "metadata": {
    "tags": []
   },
   "source": [
    "#### hmax 追高 TEST"
   ]
  },
  {
   "cell_type": "code",
   "execution_count": 54,
   "id": "83ed4e34-b717-4c0a-b649-ce5dc6d29135",
   "metadata": {
    "ExecuteTime": {
     "end_time": "2025-06-15T15:05:34.242375Z",
     "start_time": "2025-06-15T15:05:34.227037Z"
    },
    "execution": {
     "iopub.status.busy": "2025-06-13T11:53:11.110328Z",
     "iopub.status.idle": "2025-06-13T11:53:11.110328Z",
     "shell.execute_reply": "2025-06-13T11:53:11.110328Z",
     "shell.execute_reply.started": "2025-06-13T11:53:11.110328Z"
    },
    "tags": []
   },
   "outputs": [
    {
     "ename": "NameError",
     "evalue": "name 'dfs_tail9' is not defined",
     "output_type": "error",
     "traceback": [
      "\u001b[0;31m---------------------------------------------------------------------------\u001b[0m",
      "\u001b[0;31mNameError\u001b[0m                                 Traceback (most recent call last)",
      "\u001b[0;32m/var/folders/7f/spryjd9n3qd9hsrgqjhyqn000000gp/T/ipykernel_29906/2709721239.py\u001b[0m in \u001b[0;36m<module>\u001b[0;34m\u001b[0m\n\u001b[1;32m      1\u001b[0m \u001b[0mcode\u001b[0m\u001b[0;34m=\u001b[0m\u001b[0;34m'600012'\u001b[0m\u001b[0;34m\u001b[0m\u001b[0;34m\u001b[0m\u001b[0m\n\u001b[0;32m----> 2\u001b[0;31m \u001b[0mprint\u001b[0m\u001b[0;34m(\u001b[0m\u001b[0mlen\u001b[0m\u001b[0;34m(\u001b[0m\u001b[0mdfs_tail9\u001b[0m\u001b[0;34m.\u001b[0m\u001b[0mloc\u001b[0m\u001b[0;34m[\u001b[0m\u001b[0mcode\u001b[0m\u001b[0;34m]\u001b[0m\u001b[0;34m)\u001b[0m\u001b[0;34m)\u001b[0m\u001b[0;34m\u001b[0m\u001b[0;34m\u001b[0m\u001b[0m\n\u001b[0m\u001b[1;32m      3\u001b[0m \u001b[0;31m# show_tdx_data(dfs_tail9.loc[code],col='upper')\u001b[0m\u001b[0;34m\u001b[0m\u001b[0;34m\u001b[0m\u001b[0m\n\u001b[1;32m      4\u001b[0m \u001b[0mshow_ohlc_upper\u001b[0m\u001b[0;34m(\u001b[0m\u001b[0mdfsRoot\u001b[0m\u001b[0;34m.\u001b[0m\u001b[0mloc\u001b[0m\u001b[0;34m[\u001b[0m\u001b[0mcode\u001b[0m\u001b[0;34m]\u001b[0m\u001b[0;34m,\u001b[0m\u001b[0mcode\u001b[0m\u001b[0;34m=\u001b[0m\u001b[0mcode\u001b[0m\u001b[0;34m)\u001b[0m\u001b[0;34m\u001b[0m\u001b[0;34m\u001b[0m\u001b[0m\n",
      "\u001b[0;31mNameError\u001b[0m: name 'dfs_tail9' is not defined"
     ]
    }
   ],
   "source": [
    "code='600012'\n",
    "print(len(dfs_tail9.loc[code]))\n",
    "# show_tdx_data(dfs_tail9.loc[code],col='upper')\n",
    "show_ohlc_upper(dfsRoot.loc[code],code=code)"
   ]
  },
  {
   "cell_type": "code",
   "execution_count": null,
   "id": "a1cc858b-53da-459a-8163-e6a368378daf",
   "metadata": {},
   "outputs": [],
   "source": []
  },
  {
   "cell_type": "code",
   "execution_count": 55,
   "id": "aaa26f2c-51e8-49aa-a2c0-1d1622ce152b",
   "metadata": {
    "ExecuteTime": {
     "end_time": "2025-06-15T15:05:34.345218Z",
     "start_time": "2025-06-15T15:05:34.324015Z"
    },
    "execution": {
     "iopub.status.busy": "2025-06-13T11:53:11.111326Z",
     "iopub.status.idle": "2025-06-13T11:53:11.112323Z",
     "shell.execute_reply": "2025-06-13T11:53:11.111326Z",
     "shell.execute_reply.started": "2025-06-13T11:53:11.111326Z"
    },
    "tags": []
   },
   "outputs": [
    {
     "ename": "NameError",
     "evalue": "name 'dfs_tail9' is not defined",
     "output_type": "error",
     "traceback": [
      "\u001b[0;31m---------------------------------------------------------------------------\u001b[0m",
      "\u001b[0;31mNameError\u001b[0m                                 Traceback (most recent call last)",
      "\u001b[0;32m/var/folders/7f/spryjd9n3qd9hsrgqjhyqn000000gp/T/ipykernel_29906/1510370366.py\u001b[0m in \u001b[0;36m<module>\u001b[0;34m\u001b[0m\n\u001b[1;32m      8\u001b[0m \u001b[0;34m\u001b[0m\u001b[0m\n\u001b[1;32m      9\u001b[0m \u001b[0;32mif\u001b[0m \u001b[0mresample\u001b[0m\u001b[0;34m.\u001b[0m\u001b[0mupper\u001b[0m\u001b[0;34m(\u001b[0m\u001b[0;34m)\u001b[0m \u001b[0;34m==\u001b[0m\u001b[0;34m'D'\u001b[0m\u001b[0;34m:\u001b[0m\u001b[0;34m\u001b[0m\u001b[0;34m\u001b[0m\u001b[0m\n\u001b[0;32m---> 10\u001b[0;31m     mask_hmax = ( (dfs_tail9[('high')] > dfs_tail9[('hmax')].shift(1)) &\n\u001b[0m\u001b[1;32m     11\u001b[0m                  \u001b[0;34m(\u001b[0m\u001b[0;34m(\u001b[0m\u001b[0mdfs_tail9\u001b[0m\u001b[0;34m[\u001b[0m\u001b[0;34m(\u001b[0m\u001b[0;34m'high'\u001b[0m\u001b[0;34m)\u001b[0m\u001b[0;34m]\u001b[0m \u001b[0;34m>=\u001b[0m \u001b[0mdfs_tail9\u001b[0m\u001b[0;34m[\u001b[0m\u001b[0;34m(\u001b[0m\u001b[0;34m'hmax'\u001b[0m\u001b[0;34m)\u001b[0m\u001b[0;34m]\u001b[0m\u001b[0;34m)\u001b[0m\u001b[0;34m)\u001b[0m \u001b[0;34m&\u001b[0m\u001b[0;34m\u001b[0m\u001b[0;34m\u001b[0m\u001b[0m\n\u001b[1;32m     12\u001b[0m                  (dfs_tail9[('close')] > dfs_tail9.ma250 * 0.99))\n",
      "\u001b[0;31mNameError\u001b[0m: name 'dfs_tail9' is not defined"
     ]
    }
   ],
   "source": [
    "\n",
    "# mask_hmax = ((dfs_tail9[('close')] > dfs_tail9[('hmax')].shift(\n",
    "#     1) * 0.99) | (dfs_tail9['close'] > dfs_tail9['hmax'] * 0.99))\n",
    "\n",
    "# mask_hmax = ( (dfs_tail9[('hmax')] > 0) & ((dfs_tail9[('high')] > dfs_tail9[('hmax')].shift(\n",
    "#     1) * 0.99) | (dfs_tail9['high'] > dfs_tail9['hmax'] * 0.99)) )\n",
    "\n",
    "# mask_hmax = ((dfs_tail9[('hmax')] > 0) &\n",
    "\n",
    "if resample.upper() =='D':\n",
    "    mask_hmax = ( (dfs_tail9[('high')] > dfs_tail9[('hmax')].shift(1)) &\n",
    "                 ((dfs_tail9[('high')] >= dfs_tail9[('hmax')])) &\n",
    "                 (dfs_tail9[('close')] > dfs_tail9.ma250 * 0.99))\n",
    "                 # (dfs_tail9[('close')] > dfs_tail9.ma250 * 0.99) &\n",
    "                 # (dfs_tail9[('close')] < dfs_tail9.ma250 * 1.05))\n",
    "else:\n",
    "    mask_hmax = ( (dfs_tail9[('low')] >= dfs_tail9[('ma5')].shift(1))  &\n",
    "              (dfs_tail9[('high')] >= dfs_tail9[('high')].shift(1))  ) \n",
    "\n",
    "# mask_hmax = ( (dfs_tail9[('hmax')] > 0) & (dfs_tail9[('close')] > dfs_tail9.ma20 *0.99) & (dfs_tail9[('close')] < dfs_tail9.ma20 *1.20) )\n",
    "\n",
    "\n",
    "df_mask_hmax = dfs_tail9.loc[idx[mask_hmax, :]]\n",
    "df_mask_hmax = get_multi_code_count(df_mask_hmax)\n",
    "\n",
    "# df_mask_hmax = df_mask_hmax[ (df_mask_hmax[('close')] > df_mask_hmax.upper)]\n",
    "\n",
    "# df_mask_hmax.couts.std()\n",
    "\n",
    "df_mask_hmax = df_mask_hmax.groupby(level=[0]).tail(\n",
    "    1).reset_index().set_index('code')\n",
    "\n",
    "df_mask_hmax = df_mask_hmax[df_mask_hmax.date >= lastday]\n",
    "# df_mask_hmax = get_sina_data_cname(df_mask_hmax, dm,realtime=True)\n",
    "df_mask_hmax = get_sina_data_cname(df_mask_hmax, realtime=True)\n",
    "\n",
    "df_mask_hmax = clean_688(df_mask_hmax)\n",
    "\n",
    "# show_tdx_data(df_mask_hmax[df_mask_hmax.couts == 9])\n",
    "\n",
    "# by=['perc', 'perc5d', 'perc1d'],\n",
    "# code_t = '000534'\n",
    "df_mask_hmax = df_mask_hmax.sort_values(\n",
    "    by=['couts','volsum5d', 'idx', 'hat', 'perc1d'],ascending=[0,0, 0, 0, 0])\n",
    "    # by=['volsum5d', 'idx', 'hat', 'perc1d'],ascending=[0, 0, 0, 0])\n",
    "# print(df_mask_hmax.couts[:1], df_mask_hmax.shape)\n",
    "# show_tdx_data(df_mask_hmax.loc['300461'])\n",
    "df_mask_hmax.couts[:1], df_mask_hmax.shape\n",
    "show_tdx_data(df_mask_hmax)[:10]\n",
    "# show_tdx_data(df_mask_hmax[(df_mask_hmax.couts > 1) & (df_mask_hmax.volsum5d > 10) & (df_mask_hmax.volsum5d < 150)]).T"
   ]
  },
  {
   "cell_type": "markdown",
   "id": "dba394bb-99b8-4761-98bd-a8f38663ef1d",
   "metadata": {},
   "source": [
    "#### !!! hmax Top upper > 1"
   ]
  },
  {
   "cell_type": "code",
   "execution_count": 56,
   "id": "3cb190e0-ed53-4b1e-89e7-22db4858c69f",
   "metadata": {
    "ExecuteTime": {
     "end_time": "2025-06-15T15:05:34.413633Z",
     "start_time": "2025-06-15T15:05:34.410283Z"
    },
    "execution": {
     "iopub.status.busy": "2025-06-13T11:53:11.112323Z",
     "iopub.status.idle": "2025-06-13T11:53:11.113321Z",
     "shell.execute_reply": "2025-06-13T11:53:11.112323Z",
     "shell.execute_reply.started": "2025-06-13T11:53:11.112323Z"
    },
    "tags": []
   },
   "outputs": [],
   "source": [
    "# dfs_tail9.loc['600103']"
   ]
  },
  {
   "cell_type": "code",
   "execution_count": 57,
   "id": "bb062684-8828-4c1f-a6ac-a7a8ac702177",
   "metadata": {
    "ExecuteTime": {
     "end_time": "2025-06-15T15:05:34.487513Z",
     "start_time": "2025-06-15T15:05:34.465315Z"
    },
    "execution": {
     "iopub.status.busy": "2025-06-13T11:53:11.114319Z",
     "iopub.status.idle": "2025-06-13T11:53:11.114319Z",
     "shell.execute_reply": "2025-06-13T11:53:11.114319Z",
     "shell.execute_reply.started": "2025-06-13T11:53:11.114319Z"
    },
    "tags": []
   },
   "outputs": [
    {
     "ename": "NameError",
     "evalue": "name 'dfs_tail9' is not defined",
     "output_type": "error",
     "traceback": [
      "\u001b[0;31m---------------------------------------------------------------------------\u001b[0m",
      "\u001b[0;31mNameError\u001b[0m                                 Traceback (most recent call last)",
      "\u001b[0;32m/var/folders/7f/spryjd9n3qd9hsrgqjhyqn000000gp/T/ipykernel_29906/3470906962.py\u001b[0m in \u001b[0;36m<module>\u001b[0;34m\u001b[0m\n\u001b[1;32m      8\u001b[0m \u001b[0;31m# mask_hmax = (  (dfs_tail9[('high')] >= dfs_tail9[('hmax')]*0.99) )\u001b[0m\u001b[0;34m\u001b[0m\u001b[0;34m\u001b[0m\u001b[0m\n\u001b[1;32m      9\u001b[0m \u001b[0;32mif\u001b[0m \u001b[0mresample\u001b[0m\u001b[0;34m.\u001b[0m\u001b[0mupper\u001b[0m\u001b[0;34m(\u001b[0m\u001b[0;34m)\u001b[0m \u001b[0;34m==\u001b[0m \u001b[0;34m'D'\u001b[0m\u001b[0;34m:\u001b[0m\u001b[0;34m\u001b[0m\u001b[0;34m\u001b[0m\u001b[0m\n\u001b[0;32m---> 10\u001b[0;31m     mask_hmax = (  (dfs_tail9[('high')] >= dfs_tail9[('high')].shift(1)) & \n\u001b[0m\u001b[1;32m     11\u001b[0m                  \u001b[0;34m(\u001b[0m\u001b[0mdfs_tail9\u001b[0m\u001b[0;34m[\u001b[0m\u001b[0;34m(\u001b[0m\u001b[0;34m'high'\u001b[0m\u001b[0;34m)\u001b[0m\u001b[0;34m]\u001b[0m\u001b[0;34m.\u001b[0m\u001b[0mshift\u001b[0m\u001b[0;34m(\u001b[0m\u001b[0;36m1\u001b[0m\u001b[0;34m)\u001b[0m \u001b[0;34m>=\u001b[0m \u001b[0mdfs_tail9\u001b[0m\u001b[0;34m[\u001b[0m\u001b[0;34m(\u001b[0m\u001b[0;34m'high'\u001b[0m\u001b[0;34m)\u001b[0m\u001b[0;34m]\u001b[0m\u001b[0;34m.\u001b[0m\u001b[0mshift\u001b[0m\u001b[0;34m(\u001b[0m\u001b[0;36m2\u001b[0m\u001b[0;34m)\u001b[0m\u001b[0;34m)\u001b[0m \u001b[0;34m&\u001b[0m\u001b[0;34m\u001b[0m\u001b[0;34m\u001b[0m\u001b[0m\n\u001b[1;32m     12\u001b[0m                 \u001b[0;34m(\u001b[0m\u001b[0mdfs_tail9\u001b[0m\u001b[0;34m[\u001b[0m\u001b[0;34m(\u001b[0m\u001b[0;34m'high'\u001b[0m\u001b[0;34m)\u001b[0m\u001b[0;34m]\u001b[0m \u001b[0;34m>=\u001b[0m \u001b[0mdfs_tail9\u001b[0m\u001b[0;34m[\u001b[0m\u001b[0;34m(\u001b[0m\u001b[0;34m'hmax'\u001b[0m\u001b[0;34m)\u001b[0m\u001b[0;34m]\u001b[0m\u001b[0;34m*\u001b[0m\u001b[0;36m0.99\u001b[0m\u001b[0;34m)\u001b[0m \u001b[0;34m&\u001b[0m\u001b[0;34m\u001b[0m\u001b[0;34m\u001b[0m\u001b[0m\n",
      "\u001b[0;31mNameError\u001b[0m: name 'dfs_tail9' is not defined"
     ]
    }
   ],
   "source": [
    "# mask_hmax = ((dfs_tail9[('close')] > dfs_tail9[('hmax')].shift(\n",
    "#     1) * 0.99) | (dfs_tail9['close'] > dfs_tail9['hmax'] * 0.99))\n",
    "\n",
    "# mask_hmax = ( (dfs_tail9[('hmax')] > 0) & ((dfs_tail9[('high')] > dfs_tail9[('hmax')].shift(\n",
    "#     1) * 0.99) | (dfs_tail9['high'] > dfs_tail9['hmax'] * 0.99)) )\n",
    "\n",
    "# mask_hmax = ( (dfs_tail9[('hmax')] > 0) & ((dfs_tail9[('high')] >= dfs_tail9[('hmax')]*0.99) ) )\n",
    "# mask_hmax = (  (dfs_tail9[('high')] >= dfs_tail9[('hmax')]*0.99) )\n",
    "if resample.upper() == 'D':\n",
    "    mask_hmax = (  (dfs_tail9[('high')] >= dfs_tail9[('high')].shift(1)) & \n",
    "                 (dfs_tail9[('high')].shift(1) >= dfs_tail9[('high')].shift(2)) &\n",
    "                (dfs_tail9[('high')] >= dfs_tail9[('hmax')]*0.99) &\n",
    "                (dfs_tail9[('close')] >= dfs_tail9[('upper')].shift(1)) )\n",
    "else:\n",
    "    mask_hmax = (  (dfs_tail9[('high')] >= dfs_tail9[('high')].shift(1)) & \n",
    "                 (dfs_tail9[('high')].shift(1) >= dfs_tail9[('high')].shift(2)) &\n",
    "                (dfs_tail9[('close')] >= dfs_tail9[('upper')].shift(1)) )\n",
    "\n",
    "df_mask_hmax = dfs_tail9.loc[idx[mask_hmax, :]]\n",
    "\n",
    "#站上Upper\n",
    "# df_mask_hmax = df_mask_hmax[ (df_mask_hmax[('close')] > df_mask_hmax.upper)]\n",
    "\n",
    "df_mask_hmax = get_multi_code_count(df_mask_hmax)\n",
    "df_mask_hmax = df_mask_hmax.groupby(level=[0]).tail(\n",
    "    1).reset_index().set_index('code')\n",
    "\n",
    "\n",
    "\n",
    "df_mask_hmax = df_mask_hmax[df_mask_hmax.date >= lastday]\n",
    "# df_mask_hmax = get_sina_data_cname(df_mask_hmax, dm,realtime=True)\n",
    "df_mask_hmax = get_sina_data_cname(df_mask_hmax, realtime=True)\n",
    "\n",
    "df_mask_hmax = clean_688(df_mask_hmax)\n",
    "\n",
    "# show_tdx_data(df_mask_hmax[df_mask_hmax.couts == 9])\n",
    "\n",
    "# by=['perc', 'perc5d', 'perc1d'],\n",
    "# code_t = '000534'\n",
    "df_mask_hmax = df_mask_hmax.sort_values(\n",
    "    by=['couts', 'idx', 'hat', 'perc1d'],\n",
    "    ascending=[0, 0, 0, 0])\n",
    " # by=['volsum5d', 'idx', 'hat', 'perc1d'],\n",
    "print(df_mask_hmax.couts[:1], df_mask_hmax.shape)\n",
    "# show_tdx_data(df_mask_hmax.loc['000039'])\n",
    "df_mask_hmax.couts[:1], df_mask_hmax.shape\n",
    "\n",
    "# show_tdx_data(df_mask_hmax).T\n",
    "# show_tdx_data(df_mask_hmax[(df_mask_hmax.couts > 1) & (df_mask_hmax.volsum5d > 10) & (df_mask_hmax.volsum5d < 150)])\n",
    "show_tdx_data(df_mask_hmax.query('couts >= 1 and perc >2  and   low < ma5 ') )[:10]"
   ]
  },
  {
   "cell_type": "code",
   "execution_count": 58,
   "id": "df945fbf-26b5-4f9d-a9a9-afc687061e93",
   "metadata": {
    "ExecuteTime": {
     "end_time": "2025-06-15T15:05:34.522210Z",
     "start_time": "2025-06-15T15:05:34.518972Z"
    },
    "execution": {
     "iopub.status.busy": "2025-06-13T11:53:11.116313Z",
     "iopub.status.idle": "2025-06-13T11:53:11.116313Z",
     "shell.execute_reply": "2025-06-13T11:53:11.116313Z",
     "shell.execute_reply.started": "2025-06-13T11:53:11.116313Z"
    },
    "tags": []
   },
   "outputs": [],
   "source": [
    "# show_tdx_data(df_mask_hmax.loc['600103'][-5:])"
   ]
  },
  {
   "cell_type": "markdown",
   "id": "591b0829-09bf-442f-a1b3-47b5fc62b1da",
   "metadata": {},
   "source": [
    "##### sort_values"
   ]
  },
  {
   "cell_type": "code",
   "execution_count": 59,
   "id": "f6195553-86ca-43d2-a91f-651482e3801a",
   "metadata": {
    "ExecuteTime": {
     "end_time": "2025-06-15T15:05:34.615131Z",
     "start_time": "2025-06-15T15:05:34.599316Z"
    },
    "execution": {
     "iopub.status.busy": "2025-06-13T11:53:11.117310Z",
     "iopub.status.idle": "2025-06-13T11:53:11.117310Z",
     "shell.execute_reply": "2025-06-13T11:53:11.117310Z",
     "shell.execute_reply.started": "2025-06-13T11:53:11.117310Z"
    },
    "tags": []
   },
   "outputs": [
    {
     "ename": "NameError",
     "evalue": "name 'df_mask_hmax' is not defined",
     "output_type": "error",
     "traceback": [
      "\u001b[0;31m---------------------------------------------------------------------------\u001b[0m",
      "\u001b[0;31mNameError\u001b[0m                                 Traceback (most recent call last)",
      "\u001b[0;32m/var/folders/7f/spryjd9n3qd9hsrgqjhyqn000000gp/T/ipykernel_29906/651754600.py\u001b[0m in \u001b[0;36m<module>\u001b[0;34m\u001b[0m\n\u001b[1;32m      1\u001b[0m show_tdx_data(\n\u001b[0;32m----> 2\u001b[0;31m     df_mask_hmax.query('perc > 1').sort_values(\n\u001b[0m\u001b[1;32m      3\u001b[0m         \u001b[0mby\u001b[0m\u001b[0;34m=\u001b[0m\u001b[0;34m[\u001b[0m\u001b[0;34m'ra_diff'\u001b[0m\u001b[0;34m,\u001b[0m \u001b[0;34m'couts'\u001b[0m\u001b[0;34m,\u001b[0m \u001b[0;34m'idx'\u001b[0m\u001b[0;34m]\u001b[0m\u001b[0;34m,\u001b[0m\u001b[0;34m\u001b[0m\u001b[0;34m\u001b[0m\u001b[0m\n\u001b[1;32m      4\u001b[0m         ascending=[0, 0, 0]),col='ra_diff')[:20]\n",
      "\u001b[0;31mNameError\u001b[0m: name 'df_mask_hmax' is not defined"
     ]
    }
   ],
   "source": [
    "show_tdx_data(\n",
    "    df_mask_hmax.query('perc > 1').sort_values(\n",
    "        by=['ra_diff', 'couts', 'idx'],\n",
    "        ascending=[0, 0, 0]),col='ra_diff')[:20]"
   ]
  },
  {
   "cell_type": "code",
   "execution_count": 60,
   "id": "a649124b-a6a1-42cc-87a3-f19043582adf",
   "metadata": {
    "ExecuteTime": {
     "end_time": "2025-06-15T15:05:34.658377Z",
     "start_time": "2025-06-15T15:05:34.643430Z"
    },
    "execution": {
     "iopub.status.busy": "2025-06-13T11:53:11.118307Z",
     "iopub.status.idle": "2025-06-13T11:53:11.118307Z",
     "shell.execute_reply": "2025-06-13T11:53:11.118307Z",
     "shell.execute_reply.started": "2025-06-13T11:53:11.118307Z"
    },
    "tags": []
   },
   "outputs": [
    {
     "ename": "NameError",
     "evalue": "name 'dfsRoot' is not defined",
     "output_type": "error",
     "traceback": [
      "\u001b[0;31m---------------------------------------------------------------------------\u001b[0m",
      "\u001b[0;31mNameError\u001b[0m                                 Traceback (most recent call last)",
      "\u001b[0;32m/var/folders/7f/spryjd9n3qd9hsrgqjhyqn000000gp/T/ipykernel_29906/3376622108.py\u001b[0m in \u001b[0;36m<module>\u001b[0;34m\u001b[0m\n\u001b[0;32m----> 1\u001b[0;31m \u001b[0mshow_ohlc_upper\u001b[0m\u001b[0;34m(\u001b[0m\u001b[0mdfsRoot\u001b[0m\u001b[0;34m.\u001b[0m\u001b[0mloc\u001b[0m\u001b[0;34m[\u001b[0m\u001b[0;34m'300540'\u001b[0m\u001b[0;34m]\u001b[0m\u001b[0;34m[\u001b[0m\u001b[0;34m-\u001b[0m\u001b[0;36m60\u001b[0m\u001b[0;34m:\u001b[0m\u001b[0;34m]\u001b[0m\u001b[0;34m,\u001b[0m\u001b[0mcode\u001b[0m\u001b[0;34m=\u001b[0m\u001b[0;34m'300540'\u001b[0m\u001b[0;34m)\u001b[0m\u001b[0;34m\u001b[0m\u001b[0;34m\u001b[0m\u001b[0m\n\u001b[0m",
      "\u001b[0;31mNameError\u001b[0m: name 'dfsRoot' is not defined"
     ]
    }
   ],
   "source": [
    "show_ohlc_upper(dfsRoot.loc['300540'][-60:],code='300540')"
   ]
  },
  {
   "cell_type": "markdown",
   "id": "a9cd409b-f33f-4580-b9fe-a76f484310d5",
   "metadata": {},
   "source": [
    "### !!! df_mask250 upper xratio"
   ]
  },
  {
   "cell_type": "code",
   "execution_count": 61,
   "id": "fa2737bf-ba68-4891-9bdf-a86fb5e1c8dd",
   "metadata": {
    "ExecuteTime": {
     "end_time": "2025-06-15T15:05:34.769311Z",
     "start_time": "2025-06-15T15:05:34.736475Z"
    },
    "execution": {
     "iopub.status.busy": "2025-06-13T11:53:11.120302Z",
     "iopub.status.idle": "2025-06-13T11:53:11.120302Z",
     "shell.execute_reply": "2025-06-13T11:53:11.120302Z",
     "shell.execute_reply.started": "2025-06-13T11:53:11.120302Z"
    },
    "tags": []
   },
   "outputs": [
    {
     "ename": "NameError",
     "evalue": "name 'dfs_tail9' is not defined",
     "output_type": "error",
     "traceback": [
      "\u001b[0;31m---------------------------------------------------------------------------\u001b[0m",
      "\u001b[0;31mNameError\u001b[0m                                 Traceback (most recent call last)",
      "\u001b[0;32m/var/folders/7f/spryjd9n3qd9hsrgqjhyqn000000gp/T/ipykernel_29906/2242432806.py\u001b[0m in \u001b[0;36m<module>\u001b[0;34m\u001b[0m\n\u001b[1;32m      1\u001b[0m \u001b[0;32mif\u001b[0m \u001b[0mresample\u001b[0m\u001b[0;34m.\u001b[0m\u001b[0mupper\u001b[0m\u001b[0;34m(\u001b[0m\u001b[0;34m)\u001b[0m \u001b[0;34m==\u001b[0m\u001b[0;34m'D'\u001b[0m\u001b[0;34m:\u001b[0m\u001b[0;34m\u001b[0m\u001b[0;34m\u001b[0m\u001b[0m\n\u001b[0;32m----> 2\u001b[0;31m     mask250 = ((dfs_tail9[('high')] > dfs_tail9.upper) &\n\u001b[0m\u001b[1;32m      3\u001b[0m                \u001b[0;34m(\u001b[0m\u001b[0mdfs_tail9\u001b[0m\u001b[0;34m[\u001b[0m\u001b[0;34m(\u001b[0m\u001b[0;34m'close'\u001b[0m\u001b[0;34m)\u001b[0m\u001b[0;34m]\u001b[0m \u001b[0;34m>\u001b[0m \u001b[0mdfs_tail9\u001b[0m\u001b[0;34m[\u001b[0m\u001b[0;34m(\u001b[0m\u001b[0;34m'ma5'\u001b[0m\u001b[0;34m)\u001b[0m\u001b[0;34m]\u001b[0m\u001b[0;34m)\u001b[0m\u001b[0;34m\u001b[0m\u001b[0;34m\u001b[0m\u001b[0m\n\u001b[1;32m      4\u001b[0m                \u001b[0;34m&\u001b[0m \u001b[0;34m(\u001b[0m\u001b[0mdfs_tail9\u001b[0m\u001b[0;34m[\u001b[0m\u001b[0;34m(\u001b[0m\u001b[0;34m'ma5'\u001b[0m\u001b[0;34m)\u001b[0m\u001b[0;34m]\u001b[0m \u001b[0;34m>\u001b[0m \u001b[0mdfs_tail9\u001b[0m\u001b[0;34m[\u001b[0m\u001b[0;34m(\u001b[0m\u001b[0;34m'ma20'\u001b[0m\u001b[0;34m)\u001b[0m\u001b[0;34m]\u001b[0m\u001b[0;34m)\u001b[0m\u001b[0;34m\u001b[0m\u001b[0;34m\u001b[0m\u001b[0m\n\u001b[1;32m      5\u001b[0m                \u001b[0;34m&\u001b[0m \u001b[0;34m(\u001b[0m\u001b[0;34m(\u001b[0m\u001b[0mdfs_tail9\u001b[0m\u001b[0;34m[\u001b[0m\u001b[0;34m(\u001b[0m\u001b[0;34m'vol1d'\u001b[0m\u001b[0;34m)\u001b[0m\u001b[0;34m]\u001b[0m \u001b[0;34m>\u001b[0m \u001b[0;36m0\u001b[0m\u001b[0;34m)\u001b[0m \u001b[0;34m|\u001b[0m \u001b[0;34m(\u001b[0m\u001b[0mdfs_tail9\u001b[0m\u001b[0;34m.\u001b[0m\u001b[0mclose\u001b[0m \u001b[0;34m>\u001b[0m \u001b[0mdfs_tail9\u001b[0m\u001b[0;34m.\u001b[0m\u001b[0mclose\u001b[0m\u001b[0;34m.\u001b[0m\u001b[0mshift\u001b[0m\u001b[0;34m(\u001b[0m \u001b[0;36m1\u001b[0m\u001b[0;34m)\u001b[0m\u001b[0;34m*\u001b[0m\u001b[0;36m0.99\u001b[0m\u001b[0;34m)\u001b[0m\u001b[0;34m)\u001b[0m\u001b[0;34m\u001b[0m\u001b[0;34m\u001b[0m\u001b[0m\n",
      "\u001b[0;31mNameError\u001b[0m: name 'dfs_tail9' is not defined"
     ]
    }
   ],
   "source": [
    "\n",
    "if resample.upper() =='D':\n",
    "    mask250 = ((dfs_tail9[('high')] > dfs_tail9.upper) &\n",
    "               (dfs_tail9[('close')] > dfs_tail9[('ma5')])\n",
    "               & (dfs_tail9[('ma5')] > dfs_tail9[('ma20')])\n",
    "               & ((dfs_tail9[('vol1d')] > 0) | (dfs_tail9.close > dfs_tail9.close.shift( 1)*0.99))\n",
    "               & ((dfs_tail9[('vol2d')] > 0) | (dfs_tail9.close.shift(1) > dfs_tail9.close.shift(2)*0.99))\n",
    "               & (dfs_tail9['close'] > dfs_tail9[('hmax')]) &\n",
    "                (dfs_tail9[('close')] > dfs_tail9[('ma250')]) | ((dfs_tail9[('high')] > dfs_tail9.upper) &\n",
    "                                                                 (dfs_tail9[('close')] > dfs_tail9[('ma5')])) &\n",
    "               (dfs_tail9[('ma5')] > dfs_tail9[('ma20')])\n",
    "               & ((dfs_tail9[('vol1d')] > 0) | (dfs_tail9.close > dfs_tail9.close.shift(1)*0.99))\n",
    "               & ((dfs_tail9[('vol2d')] > 0) | (dfs_tail9.close.shift(1) > dfs_tail9.close.shift(2)*0.99))\n",
    "               & (dfs_tail9['low'] > dfs_tail9[('low')].shift(1))\n",
    "               & (dfs_tail9[('close')] > dfs_tail9[('ma250')])\n",
    "               & (dfs_tail9[('xratio')] > dfs_tail9[('xratio')].shift(1))\n",
    "               & (dfs_tail9[('xratio')].shift(1) > dfs_tail9[('xratio')].shift(2))\n",
    "              )\n",
    "elif resample.upper() =='W' or resample == 'W-FRI':\n",
    "    mask250 = (\n",
    "               (dfs_tail9[('close')] > dfs_tail9[('ma5')])\n",
    "               & (dfs_tail9[('ma5')] > dfs_tail9[('ma20')])\n",
    "               & ((dfs_tail9[('vol1d')] > 0) | (dfs_tail9.close > dfs_tail9.close.shift(1)*0.99))\n",
    "               & ((dfs_tail9[('vol2d')] > 0) | (dfs_tail9.close.shift(1) > dfs_tail9.close.shift(2)*0.99))\n",
    "               & (dfs_tail9['low'] > dfs_tail9[('low')].shift(1))\n",
    "               & (dfs_tail9[('xratio')] > dfs_tail9[('xratio')].shift(1))\n",
    "               & (dfs_tail9[('xratio')].shift(1) > dfs_tail9[('xratio')].shift(2))\n",
    "              )\n",
    "else:\n",
    "    mask250 = (\n",
    "               (dfs_tail9[('close')] > dfs_tail9[('ma5')])\n",
    "               & (dfs_tail9[('ma5')] > dfs_tail9[('ma20')])\n",
    "               & ((dfs_tail9[('vol1d')] > 0) | (dfs_tail9.close > dfs_tail9.close.shift(1)*0.99))\n",
    "               & ((dfs_tail9[('vol2d')] > 0) | (dfs_tail9.close.shift(1) > dfs_tail9.close.shift(2)*0.99))\n",
    "               & (dfs_tail9['low'] > dfs_tail9[('low')].shift(1))\n",
    "              )\n",
    "\n",
    "# & (dfs_tail9[('close')] < dfs_tail9[('ma20'  )]*1.1))\n",
    "idx = pd.IndexSlice\n",
    "df_mask250 = dfs_tail9.loc[idx[mask250, :]]\n",
    "df_mask250.shape\n",
    "#站上Upper\n",
    "df_mask250 = df_mask250[ (df_mask250[('close')] > df_mask250.upper)]\n",
    "\n",
    "df_mask250 = get_multi_code_count(df_mask250)\n",
    "\n",
    "\n",
    "code_t = '603131'\n",
    "print((df_mask250.couts[:3], df_mask250.shape))\n",
    "# df_mask250.loc[code_t]\n",
    "groupd250 = df_mask250.groupby(level=[0])\n",
    "df_mask250 = groupd250.tail(1).reset_index().set_index('code')\n",
    "# df_mask250 = get_sina_data_cname(df_mask250, dm,realtime=True)\n",
    "\n",
    "\n",
    "\n",
    "# df_mask250.loc[code_t].close\n",
    "df_mask250 = get_sina_data_cname(df_mask250, realtime=True)\n",
    "# df_mask250.loc[code_t].close\n",
    "\n",
    "df_mask250 = clean_688(df_mask250)\n",
    "# df_masklastd.loc['002722']\n",
    "\n",
    "df_mask250 = df_mask250.sort_values(\n",
    "    by=['idx','xratio',  'hat', 'perc1d'],\n",
    "    ascending=[0, 0, 0, 0])\n",
    "    # by=['xratio', 'idx', 'hat', 'perc1d'],\n",
    "\n",
    "# by=['perc', 'perc5d', 'perc1d'],\n",
    "# ascending=[0, 0, 0])\n",
    "print(\"df_mask250:%s df_mask_hmax:%s\"%(len(df_mask250),len(df_mask_hmax)))\n",
    "cross_hmax_250 = [co for co in df_mask250.index.get_level_values(\n",
    "    'code') if co in df_mask_hmax.index.get_level_values('code')]\n",
    "# df_mask250.loc[code_t]\n",
    "print(\"cross_hamx:%s\" % (len(cross_hmax_250)))\n",
    "show_tdx_data(df_mask250.loc[cross_hmax_250].query('couts > 1 and perc > 0')[:20])\n",
    "# show_tdx_data(df_mask250.query('couts > 1 and perc > 0')[:20])\n",
    "# show_tdx_data(df_mask250.loc[code_t])"
   ]
  },
  {
   "cell_type": "code",
   "execution_count": 62,
   "id": "188cbe8c-4adb-4a13-a68d-9251a0a68f39",
   "metadata": {
    "ExecuteTime": {
     "end_time": "2025-06-15T15:05:34.809082Z",
     "start_time": "2025-06-15T15:05:34.792767Z"
    },
    "execution": {
     "iopub.status.busy": "2025-06-13T11:53:11.121300Z",
     "iopub.status.idle": "2025-06-13T11:53:11.121300Z",
     "shell.execute_reply": "2025-06-13T11:53:11.121300Z",
     "shell.execute_reply.started": "2025-06-13T11:53:11.121300Z"
    },
    "tags": []
   },
   "outputs": [
    {
     "ename": "NameError",
     "evalue": "name 'df_mask250' is not defined",
     "output_type": "error",
     "traceback": [
      "\u001b[0;31m---------------------------------------------------------------------------\u001b[0m",
      "\u001b[0;31mNameError\u001b[0m                                 Traceback (most recent call last)",
      "\u001b[0;32m/var/folders/7f/spryjd9n3qd9hsrgqjhyqn000000gp/T/ipykernel_29906/2670792467.py\u001b[0m in \u001b[0;36m<module>\u001b[0;34m\u001b[0m\n\u001b[0;32m----> 1\u001b[0;31m \u001b[0mprint\u001b[0m\u001b[0;34m(\u001b[0m\u001b[0;34m\"df_mask250:%s\"\u001b[0m\u001b[0;34m%\u001b[0m\u001b[0;34m(\u001b[0m\u001b[0mlen\u001b[0m\u001b[0;34m(\u001b[0m\u001b[0mdf_mask250\u001b[0m\u001b[0;34m.\u001b[0m\u001b[0mquery\u001b[0m\u001b[0;34m(\u001b[0m\u001b[0;34m'couts > 1 and perc > 0'\u001b[0m\u001b[0;34m)\u001b[0m\u001b[0;34m)\u001b[0m\u001b[0;34m)\u001b[0m\u001b[0;34m)\u001b[0m\u001b[0;34m\u001b[0m\u001b[0;34m\u001b[0m\u001b[0m\n\u001b[0m\u001b[1;32m      2\u001b[0m \u001b[0;32mfor\u001b[0m \u001b[0mco\u001b[0m \u001b[0;32min\u001b[0m \u001b[0mdf_mask250\u001b[0m\u001b[0;34m.\u001b[0m\u001b[0mquery\u001b[0m\u001b[0;34m(\u001b[0m\u001b[0;34m'couts > 1 and perc > 0'\u001b[0m\u001b[0;34m)\u001b[0m\u001b[0;34m.\u001b[0m\u001b[0mindex\u001b[0m\u001b[0;34m[\u001b[0m\u001b[0;34m:\u001b[0m\u001b[0;36m10\u001b[0m\u001b[0;34m]\u001b[0m\u001b[0;34m:\u001b[0m\u001b[0;34m\u001b[0m\u001b[0;34m\u001b[0m\u001b[0m\n\u001b[1;32m      3\u001b[0m     \u001b[0mprint\u001b[0m\u001b[0;34m(\u001b[0m\u001b[0mco\u001b[0m\u001b[0;34m,\u001b[0m\u001b[0mdfs\u001b[0m\u001b[0;34m.\u001b[0m\u001b[0mloc\u001b[0m\u001b[0;34m[\u001b[0m\u001b[0mco\u001b[0m\u001b[0;34m]\u001b[0m\u001b[0;34m.\u001b[0m\u001b[0mra_diff\u001b[0m\u001b[0;34m[\u001b[0m\u001b[0;34m-\u001b[0m\u001b[0;36m1\u001b[0m\u001b[0;34m]\u001b[0m\u001b[0;34m)\u001b[0m\u001b[0;34m\u001b[0m\u001b[0;34m\u001b[0m\u001b[0m\n\u001b[1;32m      4\u001b[0m     \u001b[0mshow_ohlc_upper\u001b[0m\u001b[0;34m(\u001b[0m\u001b[0mdfsRoot\u001b[0m\u001b[0;34m.\u001b[0m\u001b[0mloc\u001b[0m\u001b[0;34m[\u001b[0m\u001b[0mco\u001b[0m\u001b[0;34m]\u001b[0m\u001b[0;34m[\u001b[0m\u001b[0;34m-\u001b[0m\u001b[0;36m60\u001b[0m\u001b[0;34m:\u001b[0m\u001b[0;34m]\u001b[0m\u001b[0;34m,\u001b[0m\u001b[0mcode\u001b[0m\u001b[0;34m=\u001b[0m\u001b[0mco\u001b[0m\u001b[0;34m)\u001b[0m\u001b[0;34m\u001b[0m\u001b[0;34m\u001b[0m\u001b[0m\n",
      "\u001b[0;31mNameError\u001b[0m: name 'df_mask250' is not defined"
     ]
    }
   ],
   "source": [
    "print(\"df_mask250:%s\"%(len(df_mask250.query('couts > 1 and perc > 0'))))\n",
    "for co in df_mask250.query('couts > 1 and perc > 0').index[:10]:\n",
    "    print(co,dfs.loc[co].ra_diff[-1])\n",
    "    show_ohlc_upper(dfsRoot.loc[co][-60:],code=co)"
   ]
  },
  {
   "cell_type": "markdown",
   "id": "c05de983-befd-443a-a747-d5323c216367",
   "metadata": {
    "tags": []
   },
   "source": [
    "### Tail1 Show Top 主升浪df_masklastd"
   ]
  },
  {
   "cell_type": "code",
   "execution_count": 63,
   "id": "2bb30b41-510c-44e7-a1d0-a4f70921cb71",
   "metadata": {
    "ExecuteTime": {
     "end_time": "2025-06-15T15:05:34.886363Z",
     "start_time": "2025-06-15T15:05:34.872315Z"
    },
    "execution": {
     "iopub.status.busy": "2025-06-13T11:53:11.123295Z",
     "iopub.status.idle": "2025-06-13T11:53:11.123295Z",
     "shell.execute_reply": "2025-06-13T11:53:11.123295Z",
     "shell.execute_reply.started": "2025-06-13T11:53:11.123295Z"
    },
    "tags": []
   },
   "outputs": [
    {
     "ename": "NameError",
     "evalue": "name 'df_mask250' is not defined",
     "output_type": "error",
     "traceback": [
      "\u001b[0;31m---------------------------------------------------------------------------\u001b[0m",
      "\u001b[0;31mNameError\u001b[0m                                 Traceback (most recent call last)",
      "\u001b[0;32m/var/folders/7f/spryjd9n3qd9hsrgqjhyqn000000gp/T/ipykernel_29906/1239682717.py\u001b[0m in \u001b[0;36m<module>\u001b[0;34m\u001b[0m\n\u001b[0;32m----> 1\u001b[0;31m \u001b[0mdf_mask250\u001b[0m\u001b[0;34m[\u001b[0m\u001b[0;34m(\u001b[0m\u001b[0mdf_mask250\u001b[0m\u001b[0;34m.\u001b[0m\u001b[0mdate\u001b[0m \u001b[0;34m>=\u001b[0m \u001b[0mlastday_week\u001b[0m\u001b[0;34m)\u001b[0m\u001b[0;34m]\u001b[0m\u001b[0;34m[\u001b[0m\u001b[0;34m:\u001b[0m\u001b[0;36m2\u001b[0m\u001b[0;34m]\u001b[0m\u001b[0;34m\u001b[0m\u001b[0;34m\u001b[0m\u001b[0m\n\u001b[0m\u001b[1;32m      2\u001b[0m \u001b[0mdf_mask250\u001b[0m\u001b[0;34m[\u001b[0m\u001b[0mdf_mask250\u001b[0m\u001b[0;34m.\u001b[0m\u001b[0mra_diff\u001b[0m \u001b[0;34m>\u001b[0m \u001b[0;36m1.3\u001b[0m\u001b[0;34m]\u001b[0m\u001b[0;34m.\u001b[0m\u001b[0mshape\u001b[0m\u001b[0;34m\u001b[0m\u001b[0;34m\u001b[0m\u001b[0m\n",
      "\u001b[0;31mNameError\u001b[0m: name 'df_mask250' is not defined"
     ]
    }
   ],
   "source": [
    "df_mask250[(df_mask250.date >= lastday_week)][:2]\n",
    "df_mask250[df_mask250.ra_diff > 1.3].shape"
   ]
  },
  {
   "cell_type": "code",
   "execution_count": 64,
   "id": "78a42497-4529-463c-ba0d-c0984b7a00e5",
   "metadata": {
    "ExecuteTime": {
     "end_time": "2025-06-15T15:05:34.946394Z",
     "start_time": "2025-06-15T15:05:34.925452Z"
    },
    "execution": {
     "iopub.status.busy": "2025-06-13T11:53:11.124292Z",
     "iopub.status.idle": "2025-06-13T11:53:11.124292Z",
     "shell.execute_reply": "2025-06-13T11:53:11.124292Z",
     "shell.execute_reply.started": "2025-06-13T11:53:11.124292Z"
    },
    "tags": []
   },
   "outputs": [
    {
     "ename": "NameError",
     "evalue": "name 'df_mask250' is not defined",
     "output_type": "error",
     "traceback": [
      "\u001b[0;31m---------------------------------------------------------------------------\u001b[0m",
      "\u001b[0;31mNameError\u001b[0m                                 Traceback (most recent call last)",
      "\u001b[0;32m/var/folders/7f/spryjd9n3qd9hsrgqjhyqn000000gp/T/ipykernel_29906/512416471.py\u001b[0m in \u001b[0;36m<module>\u001b[0;34m\u001b[0m\n\u001b[1;32m      1\u001b[0m \u001b[0;31m# df_masklastd = df_mask250[(df_mask250.date >= '2023-02-06') & (df_mask250.perc1d < 21) & (df_mask250.perc2d > 0) &\u001b[0m\u001b[0;34m\u001b[0m\u001b[0;34m\u001b[0m\u001b[0m\n\u001b[1;32m      2\u001b[0m \u001b[0;32mif\u001b[0m \u001b[0mresample\u001b[0m\u001b[0;34m.\u001b[0m\u001b[0mupper\u001b[0m\u001b[0;34m(\u001b[0m\u001b[0;34m)\u001b[0m \u001b[0;34m==\u001b[0m\u001b[0;34m'D'\u001b[0m\u001b[0;34m:\u001b[0m\u001b[0;34m\u001b[0m\u001b[0;34m\u001b[0m\u001b[0m\n\u001b[0;32m----> 3\u001b[0;31m     df_masklastd = df_mask250[(df_mask250.date >= lastday) & (df_mask250.perc1d < 21) & (df_mask250.perc2d > 0)\n\u001b[0m\u001b[1;32m      4\u001b[0m                           \u001b[0;34m&\u001b[0m \u001b[0;34m(\u001b[0m\u001b[0;34m(\u001b[0m\u001b[0mdf_mask250\u001b[0m\u001b[0;34m.\u001b[0m\u001b[0mvolsum5d\u001b[0m \u001b[0;34m>\u001b[0m \u001b[0;36m10\u001b[0m\u001b[0;34m)\u001b[0m \u001b[0;34m&\u001b[0m \u001b[0;34m(\u001b[0m\u001b[0mdf_mask250\u001b[0m\u001b[0;34m.\u001b[0m\u001b[0mclose\u001b[0m \u001b[0;34m>\u001b[0m \u001b[0mdf_mask250\u001b[0m\u001b[0;34m.\u001b[0m\u001b[0mma5\u001b[0m\u001b[0;34m)\u001b[0m \u001b[0;34m)\u001b[0m\u001b[0;34m\u001b[0m\u001b[0;34m\u001b[0m\u001b[0m\n\u001b[1;32m      5\u001b[0m                           ]\n",
      "\u001b[0;31mNameError\u001b[0m: name 'df_mask250' is not defined"
     ]
    }
   ],
   "source": [
    "# df_masklastd = df_mask250[(df_mask250.date >= '2023-02-06') & (df_mask250.perc1d < 21) & (df_mask250.perc2d > 0) &\n",
    "if resample.upper() =='D':\n",
    "    df_masklastd = df_mask250[(df_mask250.date >= lastday) & (df_mask250.perc1d < 21) & (df_mask250.perc2d > 0)\n",
    "                          & ((df_mask250.volsum5d > 10) & (df_mask250.close > df_mask250.ma5) )\n",
    "                          ]\n",
    "                          # & ((df_mask250.perc3d > 0) | ((df_mask250.close.shift(2) > df_mask250.ma5.shift(2))) )\n",
    "else:\n",
    "    df_masklastd = df_mask250[(df_mask250.date >= lastday_week) & (df_mask250.perc1d < 21) & (df_mask250.perc2d > 0)\n",
    "                          & ((df_mask250.volsum5d > 20) & (df_mask250.close > df_mask250.ma5) )\n",
    "                          ]\n",
    "# (df_mask250.couts == 1) & (df_mask250.perc1d < 21)]\n",
    "\n",
    "#当下大于上轨\n",
    "df_masklastd = df_masklastd[df_masklastd.close > df_masklastd.ma5]\n",
    "\n",
    "print(\"src:%s  lastd:%s \" % (df_mask250.shape, df_masklastd.shape))\n",
    "\n",
    "\n",
    "if resample.upper() =='M':\n",
    "    df_masklastd = df_masklastd.sort_values(\n",
    "        by=['perc1d', 'perc3d'],\n",
    "        ascending=[0, 0])\n",
    "else:\n",
    "    df_masklastd = df_masklastd.sort_values(\n",
    "        by=['perc3d', 'perc1d'],\n",
    "        ascending=[0, 0])\n",
    "\n",
    "# print(\n",
    "#     (df_masklastd.loc\n",
    "#      [:, ['name', 'couts', 'date', 'perc1d', 'perc3d', 'perc5d']][:10],\n",
    "#      df_masklastd.shape,))\n",
    "\n",
    "# show_tdx_data(df_masklastd)\n",
    "print(df_masklastd.name.T[:20])\n",
    "# show_tdx_data(df_masklastd[-10:])\n",
    "\n",
    "\n",
    "code_t = '300675'\n",
    "code_t = '605268'\n",
    "code_t = '002828'\n",
    "code_t = '300418'\n",
    "code_t = df_masklastd.index[0]\n",
    "\n",
    "\n",
    "# df_masklastd.loc[code_t, ['name', 'couts',\n",
    "#                           'date', 'perc1d', 'perc3d', 'perc5d']]\n",
    "\n",
    "# df_masklastd.loc[code_t].date\n",
    "\n",
    "\n",
    "# df_mask250 = groupd250.head(1)\n",
    "\n",
    "# df_masklastd.loc[code_t].date\n",
    "# show_tdx_data(df_masklastd.loc[code_t])\n",
    "\n",
    "\n",
    "# show_tdx_data(df_masklastd.loc[code_t])"
   ]
  },
  {
   "cell_type": "code",
   "execution_count": null,
   "id": "f5e6d649-2eca-4e3e-8cff-9378c9db95a9",
   "metadata": {},
   "outputs": [],
   "source": []
  },
  {
   "cell_type": "markdown",
   "id": "cab552fd-00a9-4022-b10c-10ca9e91056f",
   "metadata": {},
   "source": [
    "### !!! df_mask_hmax 061"
   ]
  },
  {
   "cell_type": "code",
   "execution_count": 65,
   "id": "8370a779-d3a3-47b5-b046-dcd86a1feffd",
   "metadata": {
    "ExecuteTime": {
     "end_time": "2025-06-15T15:05:35.072055Z",
     "start_time": "2025-06-15T15:05:35.056053Z"
    },
    "execution": {
     "iopub.status.busy": "2025-06-13T11:53:11.125291Z",
     "iopub.status.idle": "2025-06-13T11:53:11.126286Z",
     "shell.execute_reply": "2025-06-13T11:53:11.125291Z",
     "shell.execute_reply.started": "2025-06-13T11:53:11.125291Z"
    },
    "tags": []
   },
   "outputs": [
    {
     "ename": "NameError",
     "evalue": "name 'df_mask_hmax' is not defined",
     "output_type": "error",
     "traceback": [
      "\u001b[0;31m---------------------------------------------------------------------------\u001b[0m",
      "\u001b[0;31mNameError\u001b[0m                                 Traceback (most recent call last)",
      "\u001b[0;32m/var/folders/7f/spryjd9n3qd9hsrgqjhyqn000000gp/T/ipykernel_29906/3283985687.py\u001b[0m in \u001b[0;36m<module>\u001b[0;34m\u001b[0m\n\u001b[0;32m----> 1\u001b[0;31m \u001b[0mprint\u001b[0m\u001b[0;34m(\u001b[0m\u001b[0;34m\"df_mask_hmax:%s\"\u001b[0m\u001b[0;34m%\u001b[0m\u001b[0;34m(\u001b[0m\u001b[0mlen\u001b[0m\u001b[0;34m(\u001b[0m\u001b[0mdf_mask_hmax\u001b[0m\u001b[0;34m)\u001b[0m\u001b[0;34m)\u001b[0m\u001b[0;34m)\u001b[0m\u001b[0;34m\u001b[0m\u001b[0;34m\u001b[0m\u001b[0m\n\u001b[0m\u001b[1;32m      2\u001b[0m \u001b[0;32mfor\u001b[0m \u001b[0mco\u001b[0m \u001b[0;32min\u001b[0m \u001b[0mdf_mask_hmax\u001b[0m\u001b[0;34m.\u001b[0m\u001b[0mindex\u001b[0m\u001b[0;34m[\u001b[0m\u001b[0;34m:\u001b[0m\u001b[0;36m10\u001b[0m\u001b[0;34m]\u001b[0m\u001b[0;34m:\u001b[0m\u001b[0;34m\u001b[0m\u001b[0;34m\u001b[0m\u001b[0m\n\u001b[1;32m      3\u001b[0m     \u001b[0mprint\u001b[0m\u001b[0;34m(\u001b[0m\u001b[0mco\u001b[0m\u001b[0;34m,\u001b[0m\u001b[0mdfs\u001b[0m\u001b[0;34m.\u001b[0m\u001b[0mloc\u001b[0m\u001b[0;34m[\u001b[0m\u001b[0mco\u001b[0m\u001b[0;34m]\u001b[0m\u001b[0;34m.\u001b[0m\u001b[0mra_diff\u001b[0m\u001b[0;34m[\u001b[0m\u001b[0;34m-\u001b[0m\u001b[0;36m1\u001b[0m\u001b[0;34m]\u001b[0m\u001b[0;34m)\u001b[0m\u001b[0;34m\u001b[0m\u001b[0;34m\u001b[0m\u001b[0m\n\u001b[1;32m      4\u001b[0m     \u001b[0mshow_ohlc_upper\u001b[0m\u001b[0;34m(\u001b[0m\u001b[0mdfsRoot\u001b[0m\u001b[0;34m.\u001b[0m\u001b[0mloc\u001b[0m\u001b[0;34m[\u001b[0m\u001b[0mco\u001b[0m\u001b[0;34m]\u001b[0m\u001b[0;34m[\u001b[0m\u001b[0;34m-\u001b[0m\u001b[0;36m60\u001b[0m\u001b[0;34m:\u001b[0m\u001b[0;34m]\u001b[0m\u001b[0;34m,\u001b[0m\u001b[0mcode\u001b[0m\u001b[0;34m=\u001b[0m\u001b[0mco\u001b[0m\u001b[0;34m)\u001b[0m\u001b[0;34m\u001b[0m\u001b[0;34m\u001b[0m\u001b[0m\n",
      "\u001b[0;31mNameError\u001b[0m: name 'df_mask_hmax' is not defined"
     ]
    }
   ],
   "source": [
    "print(\"df_mask_hmax:%s\"%(len(df_mask_hmax)))\n",
    "for co in df_mask_hmax.index[:10]:\n",
    "    print(co,dfs.loc[co].ra_diff[-1])\n",
    "    show_ohlc_upper(dfsRoot.loc[co][-60:],code=co)"
   ]
  },
  {
   "cell_type": "markdown",
   "id": "d5d46266-e302-419a-bb56-82f128b5fdb0",
   "metadata": {
    "tags": []
   },
   "source": [
    "###  df_masklastd 068\n",
    "    show_ohlc_upper(dfs.loc[co][-60:])"
   ]
  },
  {
   "cell_type": "code",
   "execution_count": 66,
   "id": "56436756-a22c-49bb-8a76-b05f825d44ae",
   "metadata": {
    "ExecuteTime": {
     "end_time": "2025-06-15T15:05:35.148634Z",
     "start_time": "2025-06-15T15:05:35.134242Z"
    },
    "execution": {
     "iopub.status.busy": "2025-06-13T11:53:11.126286Z",
     "iopub.status.idle": "2025-06-13T11:53:11.127283Z",
     "shell.execute_reply": "2025-06-13T11:53:11.126286Z",
     "shell.execute_reply.started": "2025-06-13T11:53:11.126286Z"
    },
    "tags": []
   },
   "outputs": [
    {
     "ename": "NameError",
     "evalue": "name 'df_masklastd' is not defined",
     "output_type": "error",
     "traceback": [
      "\u001b[0;31m---------------------------------------------------------------------------\u001b[0m",
      "\u001b[0;31mNameError\u001b[0m                                 Traceback (most recent call last)",
      "\u001b[0;32m/var/folders/7f/spryjd9n3qd9hsrgqjhyqn000000gp/T/ipykernel_29906/342324219.py\u001b[0m in \u001b[0;36m<module>\u001b[0;34m\u001b[0m\n\u001b[0;32m----> 1\u001b[0;31m \u001b[0mprint\u001b[0m\u001b[0;34m(\u001b[0m\u001b[0;34m\"df_masklastd:%s\"\u001b[0m\u001b[0;34m%\u001b[0m\u001b[0;34m(\u001b[0m\u001b[0mlen\u001b[0m\u001b[0;34m(\u001b[0m\u001b[0mdf_masklastd\u001b[0m\u001b[0;34m)\u001b[0m\u001b[0;34m)\u001b[0m\u001b[0;34m)\u001b[0m\u001b[0;34m\u001b[0m\u001b[0;34m\u001b[0m\u001b[0m\n\u001b[0m\u001b[1;32m      2\u001b[0m \u001b[0;32mfor\u001b[0m \u001b[0mco\u001b[0m \u001b[0;32min\u001b[0m \u001b[0mdf_masklastd\u001b[0m\u001b[0;34m.\u001b[0m\u001b[0mindex\u001b[0m\u001b[0;34m[\u001b[0m\u001b[0;34m:\u001b[0m\u001b[0;36m10\u001b[0m\u001b[0;34m]\u001b[0m\u001b[0;34m:\u001b[0m\u001b[0;34m\u001b[0m\u001b[0;34m\u001b[0m\u001b[0m\n\u001b[1;32m      3\u001b[0m     \u001b[0mprint\u001b[0m\u001b[0;34m(\u001b[0m\u001b[0mco\u001b[0m\u001b[0;34m,\u001b[0m\u001b[0mdfs\u001b[0m\u001b[0;34m.\u001b[0m\u001b[0mloc\u001b[0m\u001b[0;34m[\u001b[0m\u001b[0mco\u001b[0m\u001b[0;34m]\u001b[0m\u001b[0;34m.\u001b[0m\u001b[0mra_diff\u001b[0m\u001b[0;34m[\u001b[0m\u001b[0;34m-\u001b[0m\u001b[0;36m1\u001b[0m\u001b[0;34m]\u001b[0m\u001b[0;34m)\u001b[0m\u001b[0;34m\u001b[0m\u001b[0;34m\u001b[0m\u001b[0m\n\u001b[1;32m      4\u001b[0m     \u001b[0mshow_ohlc_upper\u001b[0m\u001b[0;34m(\u001b[0m\u001b[0mdfsRoot\u001b[0m\u001b[0;34m.\u001b[0m\u001b[0mloc\u001b[0m\u001b[0;34m[\u001b[0m\u001b[0mco\u001b[0m\u001b[0;34m]\u001b[0m\u001b[0;34m[\u001b[0m\u001b[0;34m-\u001b[0m\u001b[0;36m60\u001b[0m\u001b[0;34m:\u001b[0m\u001b[0;34m]\u001b[0m\u001b[0;34m,\u001b[0m\u001b[0mcode\u001b[0m\u001b[0;34m=\u001b[0m\u001b[0mco\u001b[0m\u001b[0;34m)\u001b[0m\u001b[0;34m\u001b[0m\u001b[0;34m\u001b[0m\u001b[0m\n",
      "\u001b[0;31mNameError\u001b[0m: name 'df_masklastd' is not defined"
     ]
    }
   ],
   "source": [
    "print(\"df_masklastd:%s\"%(len(df_masklastd)))\n",
    "for co in df_masklastd.index[:10]:\n",
    "    print(co,dfs.loc[co].ra_diff[-1])\n",
    "    show_ohlc_upper(dfsRoot.loc[co][-60:],code=co)"
   ]
  },
  {
   "cell_type": "markdown",
   "id": "7a00681f-91b4-4307-8e09-d369692e92e7",
   "metadata": {},
   "source": [
    "### Cross_hmax_250 068"
   ]
  },
  {
   "cell_type": "code",
   "execution_count": 67,
   "id": "bd57d57a-5724-4f41-a9b2-9f15c03bbaa6",
   "metadata": {
    "ExecuteTime": {
     "end_time": "2025-06-15T15:05:35.226332Z",
     "start_time": "2025-06-15T15:05:35.210815Z"
    },
    "execution": {
     "iopub.status.busy": "2025-06-13T11:53:11.129279Z",
     "iopub.status.idle": "2025-06-13T11:53:11.129279Z",
     "shell.execute_reply": "2025-06-13T11:53:11.129279Z",
     "shell.execute_reply.started": "2025-06-13T11:53:11.129279Z"
    },
    "tags": []
   },
   "outputs": [
    {
     "ename": "NameError",
     "evalue": "name 'df_masklastd' is not defined",
     "output_type": "error",
     "traceback": [
      "\u001b[0;31m---------------------------------------------------------------------------\u001b[0m",
      "\u001b[0;31mNameError\u001b[0m                                 Traceback (most recent call last)",
      "\u001b[0;32m/var/folders/7f/spryjd9n3qd9hsrgqjhyqn000000gp/T/ipykernel_29906/1459208327.py\u001b[0m in \u001b[0;36m<module>\u001b[0;34m\u001b[0m\n\u001b[1;32m      1\u001b[0m \u001b[0;31m# dfs.loc[code_t].ma5\u001b[0m\u001b[0;34m\u001b[0m\u001b[0;34m\u001b[0m\u001b[0m\n\u001b[0;32m----> 2\u001b[0;31m cross_hmax_250 = [co for co in df_masklastd.index.get_level_values(\n\u001b[0m\u001b[1;32m      3\u001b[0m     'code') if co in df_mask_hmax.index.get_level_values('code')]\n\u001b[1;32m      4\u001b[0m \u001b[0;31m# df_mask250.loc[code_t]\u001b[0m\u001b[0;34m\u001b[0m\u001b[0;34m\u001b[0m\u001b[0m\n\u001b[1;32m      5\u001b[0m \u001b[0mprint\u001b[0m\u001b[0;34m(\u001b[0m\u001b[0;34m\"cross_hamx:%s\"\u001b[0m \u001b[0;34m%\u001b[0m \u001b[0;34m(\u001b[0m\u001b[0mlen\u001b[0m\u001b[0;34m(\u001b[0m\u001b[0mcross_hmax_250\u001b[0m\u001b[0;34m)\u001b[0m\u001b[0;34m)\u001b[0m\u001b[0;34m)\u001b[0m\u001b[0;34m\u001b[0m\u001b[0;34m\u001b[0m\u001b[0m\n",
      "\u001b[0;31mNameError\u001b[0m: name 'df_masklastd' is not defined"
     ]
    }
   ],
   "source": [
    "# dfs.loc[code_t].ma5\n",
    "cross_hmax_250 = [co for co in df_masklastd.index.get_level_values(\n",
    "    'code') if co in df_mask_hmax.index.get_level_values('code')]\n",
    "# df_mask250.loc[code_t]\n",
    "print(\"cross_hamx:%s\" % (len(cross_hmax_250)))\n",
    "show_tdx_data(df_masklastd.loc[cross_hmax_250][:5])"
   ]
  },
  {
   "cell_type": "code",
   "execution_count": 68,
   "id": "ce592024-63c8-404b-afff-bf8b0a0b401d",
   "metadata": {
    "ExecuteTime": {
     "end_time": "2025-06-15T15:05:35.271187Z",
     "start_time": "2025-06-15T15:05:35.256441Z"
    },
    "execution": {
     "iopub.status.busy": "2025-06-13T11:53:11.129279Z",
     "iopub.status.idle": "2025-06-13T11:53:11.130277Z",
     "shell.execute_reply": "2025-06-13T11:53:11.130277Z",
     "shell.execute_reply.started": "2025-06-13T11:53:11.129279Z"
    },
    "tags": []
   },
   "outputs": [
    {
     "ename": "NameError",
     "evalue": "name 'cross_hmax_250' is not defined",
     "output_type": "error",
     "traceback": [
      "\u001b[0;31m---------------------------------------------------------------------------\u001b[0m",
      "\u001b[0;31mNameError\u001b[0m                                 Traceback (most recent call last)",
      "\u001b[0;32m/var/folders/7f/spryjd9n3qd9hsrgqjhyqn000000gp/T/ipykernel_29906/3929592793.py\u001b[0m in \u001b[0;36m<module>\u001b[0;34m\u001b[0m\n\u001b[0;32m----> 1\u001b[0;31m \u001b[0mprint\u001b[0m\u001b[0;34m(\u001b[0m\u001b[0;34m\"df_mask250:%s\"\u001b[0m\u001b[0;34m%\u001b[0m\u001b[0;34m(\u001b[0m\u001b[0mlen\u001b[0m\u001b[0;34m(\u001b[0m\u001b[0mcross_hmax_250\u001b[0m\u001b[0;34m)\u001b[0m\u001b[0;34m)\u001b[0m\u001b[0;34m)\u001b[0m\u001b[0;34m\u001b[0m\u001b[0;34m\u001b[0m\u001b[0m\n\u001b[0m\u001b[1;32m      2\u001b[0m \u001b[0;31m# dfs.loc['000002'].shape\u001b[0m\u001b[0;34m\u001b[0m\u001b[0;34m\u001b[0m\u001b[0m\n\u001b[1;32m      3\u001b[0m \u001b[0;32mfor\u001b[0m \u001b[0mco\u001b[0m \u001b[0;32min\u001b[0m \u001b[0mcross_hmax_250\u001b[0m\u001b[0;34m[\u001b[0m\u001b[0;34m-\u001b[0m\u001b[0;36m10\u001b[0m\u001b[0;34m:\u001b[0m\u001b[0;34m]\u001b[0m\u001b[0;34m:\u001b[0m\u001b[0;34m\u001b[0m\u001b[0;34m\u001b[0m\u001b[0m\n\u001b[1;32m      4\u001b[0m     \u001b[0mprint\u001b[0m\u001b[0;34m(\u001b[0m\u001b[0mco\u001b[0m\u001b[0;34m,\u001b[0m\u001b[0mdfs\u001b[0m\u001b[0;34m.\u001b[0m\u001b[0mloc\u001b[0m\u001b[0;34m[\u001b[0m\u001b[0mco\u001b[0m\u001b[0;34m]\u001b[0m\u001b[0;34m.\u001b[0m\u001b[0mra_diff\u001b[0m\u001b[0;34m[\u001b[0m\u001b[0;34m-\u001b[0m\u001b[0;36m1\u001b[0m\u001b[0;34m]\u001b[0m\u001b[0;34m)\u001b[0m\u001b[0;34m\u001b[0m\u001b[0;34m\u001b[0m\u001b[0m\n\u001b[1;32m      5\u001b[0m     \u001b[0mshow_ohlc_upper\u001b[0m\u001b[0;34m(\u001b[0m\u001b[0mdfsRoot\u001b[0m\u001b[0;34m.\u001b[0m\u001b[0mloc\u001b[0m\u001b[0;34m[\u001b[0m\u001b[0mco\u001b[0m\u001b[0;34m]\u001b[0m\u001b[0;34m[\u001b[0m\u001b[0;34m-\u001b[0m\u001b[0;36m60\u001b[0m\u001b[0;34m:\u001b[0m\u001b[0;34m]\u001b[0m\u001b[0;34m,\u001b[0m\u001b[0mcode\u001b[0m\u001b[0;34m=\u001b[0m\u001b[0mco\u001b[0m\u001b[0;34m)\u001b[0m\u001b[0;34m\u001b[0m\u001b[0;34m\u001b[0m\u001b[0m\n",
      "\u001b[0;31mNameError\u001b[0m: name 'cross_hmax_250' is not defined"
     ]
    }
   ],
   "source": [
    "print(\"df_mask250:%s\"%(len(cross_hmax_250)))\n",
    "# dfs.loc['000002'].shape\n",
    "for co in cross_hmax_250[-10:]:\n",
    "    print(co,dfs.loc[co].ra_diff[-1])\n",
    "    show_ohlc_upper(dfsRoot.loc[co][-60:],code=co)"
   ]
  },
  {
   "cell_type": "markdown",
   "id": "2552024c-67c8-49ea-a652-1f989c7eefb5",
   "metadata": {},
   "source": [
    "## 写入061"
   ]
  },
  {
   "cell_type": "code",
   "execution_count": 69,
   "id": "2cf514bd-2c2c-474a-86b7-52da0abc74f3",
   "metadata": {
    "ExecuteTime": {
     "end_time": "2025-06-15T15:05:35.348950Z",
     "start_time": "2025-06-15T15:05:35.334430Z"
    },
    "execution": {
     "iopub.status.busy": "2025-06-13T11:53:11.131273Z",
     "iopub.status.idle": "2025-06-13T11:53:11.131273Z",
     "shell.execute_reply": "2025-06-13T11:53:11.131273Z",
     "shell.execute_reply.started": "2025-06-13T11:53:11.131273Z"
    },
    "tags": []
   },
   "outputs": [
    {
     "ename": "NameError",
     "evalue": "name 'df_mask_hmax' is not defined",
     "output_type": "error",
     "traceback": [
      "\u001b[0;31m---------------------------------------------------------------------------\u001b[0m",
      "\u001b[0;31mNameError\u001b[0m                                 Traceback (most recent call last)",
      "\u001b[0;32m/var/folders/7f/spryjd9n3qd9hsrgqjhyqn000000gp/T/ipykernel_29906/1335479648.py\u001b[0m in \u001b[0;36m<module>\u001b[0;34m\u001b[0m\n\u001b[1;32m      1\u001b[0m \u001b[0;31m# write_code_to_blk(df_masklastd.index.tolist(),'061')\u001b[0m\u001b[0;34m\u001b[0m\u001b[0;34m\u001b[0m\u001b[0m\n\u001b[1;32m      2\u001b[0m \u001b[0;31m# hmax_code = df_mask_hmax[(df_mask_hmax.couts > 1) & (df_mask_hmax.volsum5d > 10) & (df_mask_hmax.volsum5d < 150)].index.tolist()\u001b[0m\u001b[0;34m\u001b[0m\u001b[0;34m\u001b[0m\u001b[0m\n\u001b[0;32m----> 3\u001b[0;31m \u001b[0mhmax_code\u001b[0m \u001b[0;34m=\u001b[0m \u001b[0mdf_mask_hmax\u001b[0m\u001b[0;34m[\u001b[0m\u001b[0;34m(\u001b[0m\u001b[0mdf_mask_hmax\u001b[0m\u001b[0;34m.\u001b[0m\u001b[0mcouts\u001b[0m \u001b[0;34m>\u001b[0m \u001b[0;36m1\u001b[0m\u001b[0;34m)\u001b[0m \u001b[0;34m]\u001b[0m\u001b[0;34m.\u001b[0m\u001b[0mindex\u001b[0m\u001b[0;34m.\u001b[0m\u001b[0mtolist\u001b[0m\u001b[0;34m(\u001b[0m\u001b[0;34m)\u001b[0m\u001b[0;34m\u001b[0m\u001b[0;34m\u001b[0m\u001b[0m\n\u001b[0m\u001b[1;32m      4\u001b[0m \u001b[0;34m\u001b[0m\u001b[0m\n\u001b[1;32m      5\u001b[0m \u001b[0;31m# write_code_to_blk(cross_hmax_250,'068')\u001b[0m\u001b[0;34m\u001b[0m\u001b[0;34m\u001b[0m\u001b[0m\n",
      "\u001b[0;31mNameError\u001b[0m: name 'df_mask_hmax' is not defined"
     ]
    }
   ],
   "source": [
    "# write_code_to_blk(df_masklastd.index.tolist(),'061')\n",
    "# hmax_code = df_mask_hmax[(df_mask_hmax.couts > 1) & (df_mask_hmax.volsum5d > 10) & (df_mask_hmax.volsum5d < 150)].index.tolist()\n",
    "hmax_code = df_mask_hmax[(df_mask_hmax.couts > 1) ].index.tolist()\n",
    "\n",
    "# write_code_to_blk(cross_hmax_250,'068')\n",
    "# write_code_to_blk(hmax_code,'061')"
   ]
  },
  {
   "cell_type": "code",
   "execution_count": 70,
   "id": "bc6c6c95-d02b-4847-bc56-15b1c7608561",
   "metadata": {
    "ExecuteTime": {
     "end_time": "2025-06-15T15:05:35.381765Z",
     "start_time": "2025-06-15T15:05:35.378322Z"
    },
    "execution": {
     "iopub.status.busy": "2025-06-13T11:53:11.132272Z",
     "iopub.status.idle": "2025-06-13T11:53:11.132272Z",
     "shell.execute_reply": "2025-06-13T11:53:11.132272Z",
     "shell.execute_reply.started": "2025-06-13T11:53:11.132272Z"
    },
    "tags": []
   },
   "outputs": [],
   "source": [
    "# print(df_masklastd.loc['301255'].date)"
   ]
  },
  {
   "cell_type": "markdown",
   "id": "e93b572b-2743-4bee-a153-d2b211929920",
   "metadata": {},
   "source": [
    "# 默认年线筛选"
   ]
  },
  {
   "cell_type": "code",
   "execution_count": 71,
   "id": "2cf71b93-63b0-483f-a393-0d7eb05fa35d",
   "metadata": {
    "ExecuteTime": {
     "end_time": "2025-06-15T15:05:35.477877Z",
     "start_time": "2025-06-15T15:05:35.463353Z"
    },
    "execution": {
     "iopub.status.busy": "2025-06-13T11:53:11.133269Z",
     "iopub.status.idle": "2025-06-13T11:53:11.134266Z",
     "shell.execute_reply": "2025-06-13T11:53:11.133269Z",
     "shell.execute_reply.started": "2025-06-13T11:53:11.133269Z"
    },
    "tags": []
   },
   "outputs": [
    {
     "ename": "NameError",
     "evalue": "name 'top_temp' is not defined",
     "output_type": "error",
     "traceback": [
      "\u001b[0;31m---------------------------------------------------------------------------\u001b[0m",
      "\u001b[0;31mNameError\u001b[0m                                 Traceback (most recent call last)",
      "\u001b[0;32m/var/folders/7f/spryjd9n3qd9hsrgqjhyqn000000gp/T/ipykernel_29906/665323962.py\u001b[0m in \u001b[0;36m<module>\u001b[0;34m\u001b[0m\n\u001b[0;32m----> 1\u001b[0;31m \u001b[0mtop_temp\u001b[0m\u001b[0;34m.\u001b[0m\u001b[0mshape\u001b[0m\u001b[0;34m\u001b[0m\u001b[0;34m\u001b[0m\u001b[0m\n\u001b[0m\u001b[1;32m      2\u001b[0m \u001b[0mtop_temp\u001b[0m\u001b[0;34m.\u001b[0m\u001b[0mindex\u001b[0m\u001b[0;34m\u001b[0m\u001b[0;34m\u001b[0m\u001b[0m\n",
      "\u001b[0;31mNameError\u001b[0m: name 'top_temp' is not defined"
     ]
    }
   ],
   "source": [
    "top_temp.shape\n",
    "top_temp.index"
   ]
  },
  {
   "cell_type": "markdown",
   "id": "c47595fd-7932-4f53-af6e-bff675c6326a",
   "metadata": {},
   "source": [
    "## plt.close('all')"
   ]
  },
  {
   "cell_type": "code",
   "execution_count": 72,
   "id": "611f7fb6-28b0-40be-b6e0-b448b368443e",
   "metadata": {
    "ExecuteTime": {
     "end_time": "2025-06-15T15:05:35.546777Z",
     "start_time": "2025-06-15T15:05:35.543310Z"
    },
    "execution": {
     "iopub.status.busy": "2025-06-13T11:53:11.134266Z",
     "iopub.status.idle": "2025-06-13T11:53:11.135263Z",
     "shell.execute_reply": "2025-06-13T11:53:11.135263Z",
     "shell.execute_reply.started": "2025-06-13T11:53:11.135263Z"
    },
    "tags": []
   },
   "outputs": [],
   "source": [
    "# plt.close('all')"
   ]
  },
  {
   "cell_type": "markdown",
   "id": "efea7ae4-2207-47f9-b33b-9ee6bf7ca875",
   "metadata": {},
   "source": [
    "# 写入060"
   ]
  },
  {
   "cell_type": "raw",
   "id": "0fd9fcb1-f9f4-476a-9e0c-1d077cab05c9",
   "metadata": {
    "execution": {
     "iopub.execute_input": "2023-02-10T07:32:48.586601Z",
     "iopub.status.busy": "2023-02-10T07:32:48.585604Z",
     "iopub.status.idle": "2023-02-10T07:32:52.224872Z",
     "shell.execute_reply": "2023-02-10T07:32:52.223875Z",
     "shell.execute_reply.started": "2023-02-10T07:32:48.586601Z"
    },
    "tags": []
   },
   "source": [
    "if app:\n",
    "    print(\"Write blk:%s\" % (block_path))\n",
    "    hdf5_wri = cct.cct_raw_input(\"rewrite code [Y] or append [N]:\")\n",
    "    if len(hdf5_wri) == 0:\n",
    "        pass\n",
    "    elif hdf5_wri == 'y' or hdf5_wri == 'Y':\n",
    "        append_status = False\n",
    "    else:\n",
    "        append_status = True\n",
    "else:\n",
    "    append_status = False\n",
    "\n",
    "if hdf5_wri == 'y' and len(codew) > 10:\n",
    "    cct.write_to_blocknew(\n",
    "        block_path, codew, append_status, doubleFile=False, keep_last=0)\n",
    "    print(\"write:%s block_path:%s\" % (len(codew), block_path))\n",
    "else:\n",
    "    print(\"write error:%s block_path:%s\" % (len(codew), block_path))"
   ]
  },
  {
   "cell_type": "code",
   "execution_count": null,
   "id": "0e04cba1-4cf6-449d-8ee3-7aa0c5187ed1",
   "metadata": {},
   "outputs": [],
   "source": []
  },
  {
   "cell_type": "code",
   "execution_count": null,
   "id": "e1a52399-7736-43fd-a996-72e7e7cdac32",
   "metadata": {
    "tags": []
   },
   "outputs": [],
   "source": []
  }
 ],
 "metadata": {
  "kernelspec": {
   "display_name": "Python 3",
   "language": "python",
   "name": "python3"
  },
  "language_info": {
   "codemirror_mode": {
    "name": "ipython",
    "version": 3
   },
   "file_extension": ".py",
   "mimetype": "text/x-python",
   "name": "python",
   "nbconvert_exporter": "python",
   "pygments_lexer": "ipython3",
   "version": "3.9.13"
  },
  "nbTranslate": {
   "displayLangs": [
    "*"
   ],
   "hotkey": "alt-t",
   "langInMainMenu": true,
   "sourceLang": "en",
   "targetLang": "fr",
   "useGoogleTranslate": true
  },
  "toc": {
   "base_numbering": 1,
   "nav_menu": {
    "height": "511.467px",
    "width": "251.467px"
   },
   "number_sections": true,
   "sideBar": true,
   "skip_h1_title": false,
   "title_cell": "Table of Contents",
   "title_sidebar": "Contents",
   "toc_cell": false,
   "toc_position": {
    "height": "502.6px",
    "left": "0px",
    "right": "915.667px",
    "top": "158.4px",
    "width": "337px"
   },
   "toc_section_display": "block",
   "toc_window_display": true
  },
  "varInspector": {
   "cols": {
    "lenName": 16,
    "lenType": 16,
    "lenVar": 40
   },
   "kernels_config": {
    "python": {
     "delete_cmd_postfix": "",
     "delete_cmd_prefix": "del ",
     "library": "var_list.py",
     "varRefreshCmd": "print(var_dic_list())"
    },
    "r": {
     "delete_cmd_postfix": ") ",
     "delete_cmd_prefix": "rm(",
     "library": "var_list.r",
     "varRefreshCmd": "cat(var_dic_list()) "
    }
   },
   "position": {
    "height": "349.85px",
    "left": "820.667px",
    "right": "20px",
    "top": "122px",
    "width": "350px"
   },
   "types_to_exclude": [
    "module",
    "function",
    "builtin_function_or_method",
    "instance",
    "_Feature"
   ],
   "window_display": true
  },
  "widgets": {
   "application/vnd.jupyter.widget-state+json": {
    "state": {},
    "version_major": 2,
    "version_minor": 0
   }
  }
 },
 "nbformat": 4,
 "nbformat_minor": 5
}
