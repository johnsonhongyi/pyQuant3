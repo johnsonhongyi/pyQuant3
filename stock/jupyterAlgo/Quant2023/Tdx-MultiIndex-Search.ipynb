{
 "cells": [
  {
   "cell_type": "markdown",
   "id": "32ce779d-aea1-4664-b6de-679f44ff0690",
   "metadata": {},
   "source": [
    "# Init Tdx "
   ]
  },
  {
   "cell_type": "code",
   "execution_count": 35,
   "id": "00387fb9-4e80-404a-b511-78e795b7f07d",
   "metadata": {
    "ExecuteTime": {
     "end_time": "2023-08-22T12:12:56.004527Z",
     "start_time": "2023-08-22T12:12:54.328518Z"
    },
    "execution": {
     "iopub.execute_input": "2025-03-18T10:22:54.962833Z",
     "iopub.status.busy": "2025-03-18T10:22:54.962833Z",
     "iopub.status.idle": "2025-03-18T10:22:54.987766Z",
     "shell.execute_reply": "2025-03-18T10:22:54.986767Z",
     "shell.execute_reply.started": "2025-03-18T10:22:54.962833Z"
    },
    "tags": []
   },
   "outputs": [
    {
     "data": {
      "text/plain": [
       "'module://ipympl.backend_nbagg'"
      ]
     },
     "execution_count": 35,
     "metadata": {},
     "output_type": "execute_result"
    }
   ],
   "source": [
    "# import logging\n",
    "import sys\n",
    "\n",
    "# stdout=sys.stdout\n",
    "sys.path.append('../../')\n",
    "import os\n",
    "import random\n",
    "import time\n",
    "\n",
    "import matplotlib\n",
    "import matplotlib.pyplot as plt\n",
    "import mplfinance as mpf\n",
    "# sys.stdout=stdout\n",
    "import numpy as np\n",
    "# import numpy as np\n",
    "import pandas as pd\n",
    "from JohnsonUtil import commonTips as cct\n",
    "from JSONData import sina_data\n",
    "from JSONData import tdx_data_Day as tdd\n",
    "from mplfinance.original_flavor import candlestick_ohlc\n",
    "\n",
    "# from JSONData import tdx_hdf5_api as h5a\n",
    "\n",
    "%matplotlib widget\n",
    "plt.rc('font', family='SimHei', size=13)\n",
    "matplotlib.get_backend()\n",
    "# jupyter nbextension enable --py widgetsnbextension\n",
    "\n",
    "os.environ['NUMEXPR_MAX_THREADS'] = '12'\n",
    "from IPython.core.interactiveshell import InteractiveShell\n",
    "\n",
    "InteractiveShell.ast_node_interactivity = \"all\"\n",
    "import nest_asyncio\n",
    "\n",
    "nest_asyncio.apply()"
   ]
  },
  {
   "cell_type": "code",
   "execution_count": 36,
   "id": "785713a8-f795-4fc1-a763-518cdec2ab60",
   "metadata": {
    "ExecuteTime": {
     "end_time": "2023-08-22T12:12:56.050412Z",
     "start_time": "2023-08-22T12:12:56.037413Z"
    },
    "execution": {
     "iopub.execute_input": "2025-03-18T10:22:54.988764Z",
     "iopub.status.busy": "2025-03-18T10:22:54.988764Z",
     "iopub.status.idle": "2025-03-18T10:22:55.002726Z",
     "shell.execute_reply": "2025-03-18T10:22:55.001728Z",
     "shell.execute_reply.started": "2025-03-18T10:22:54.988764Z"
    },
    "tags": []
   },
   "outputs": [],
   "source": [
    "block_path = tdd.get_tdx_dir_blocknew() + '060.blk'"
   ]
  },
  {
   "cell_type": "markdown",
   "id": "3b6d813f-bac8-497d-a2d6-65670665f066",
   "metadata": {
    "tags": []
   },
   "source": [
    "## 功能定义DEF"
   ]
  },
  {
   "cell_type": "markdown",
   "id": "73b185cf-94a7-44f7-a4a5-61c30decfac3",
   "metadata": {},
   "source": [
    "### ra_diff\n"
   ]
  },
  {
   "cell_type": "code",
   "execution_count": 37,
   "id": "427cedf2-6767-43f8-b0aa-090af91174af",
   "metadata": {
    "ExecuteTime": {
     "end_time": "2023-08-22T12:12:58.225697Z",
     "start_time": "2023-08-22T12:12:58.214726Z"
    },
    "execution": {
     "iopub.execute_input": "2025-03-18T10:22:55.003722Z",
     "iopub.status.busy": "2025-03-18T10:22:55.002726Z",
     "iopub.status.idle": "2025-03-18T10:22:55.017687Z",
     "shell.execute_reply": "2025-03-18T10:22:55.017687Z",
     "shell.execute_reply.started": "2025-03-18T10:22:55.003722Z"
    },
    "tags": []
   },
   "outputs": [],
   "source": [
    "def ra_diff(df):\n",
    "    df['ra_diff'] = df.close.apply(lambda x: round(x / df.close.min(), 2))\n",
    "    return df"
   ]
  },
  {
   "cell_type": "markdown",
   "id": "80825a70-f650-41a6-aacf-985ce582f172",
   "metadata": {},
   "source": [
    "### bullish 测算"
   ]
  },
  {
   "cell_type": "code",
   "execution_count": 38,
   "id": "6585ca58-01e4-4081-8dd1-68376e93f2b0",
   "metadata": {
    "ExecuteTime": {
     "end_time": "2023-08-22T12:12:59.867465Z",
     "start_time": "2023-08-22T12:12:59.780697Z"
    },
    "execution": {
     "iopub.execute_input": "2025-03-18T10:22:55.020678Z",
     "iopub.status.busy": "2025-03-18T10:22:55.020678Z",
     "iopub.status.idle": "2025-03-18T10:22:55.142352Z",
     "shell.execute_reply": "2025-03-18T10:22:55.141355Z",
     "shell.execute_reply.started": "2025-03-18T10:22:55.020678Z"
    },
    "tags": []
   },
   "outputs": [
    {
     "data": {
      "text/plain": [
       "(11.17, '2024-12-24')"
      ]
     },
     "execution_count": 38,
     "metadata": {},
     "output_type": "execute_result"
    },
    {
     "data": {
      "text/plain": [
       "(11.45,\n",
       " 53    2025-03-18\n",
       " Name: date, dtype: object)"
      ]
     },
     "execution_count": 38,
     "metadata": {},
     "output_type": "execute_result"
    },
    {
     "name": "stdout",
     "output_type": "stream",
     "text": [
      "9 0.01 0.09\n",
      "Bull\n",
      "0.09\n"
     ]
    }
   ],
   "source": [
    "import numpy as np\n",
    "\n",
    "\n",
    "def calculate_slope(data):\n",
    "    # Calculate the slope of the line that connects two points\n",
    "    slope = round((data[1] - data[0]) / (1), 2)\n",
    "    return slope\n",
    "\n",
    "\n",
    "def detect_bull_bear(price_data, window=10):\n",
    "    # Calculate the slopes of the price data for the last `window` days\n",
    "    slopes = []\n",
    "    for i in range(len(price_data) - window, len(price_data) - 1):\n",
    "        slope = calculate_slope([price_data[i], price_data[i + 1]])\n",
    "        # print(slope)\n",
    "        slopes.append(slope)\n",
    "\n",
    "    # Compare the current slope with the average slope of the last `window` days\n",
    "    avg_slope = round(np.mean(slopes), 2)\n",
    "    curr_slope = calculate_slope([price_data[-window], price_data[-1]])\n",
    "    print(len(slopes), avg_slope, curr_slope)\n",
    "\n",
    "    if curr_slope > avg_slope:\n",
    "        # return \"Bullish\"\n",
    "        return \"Bull\"\n",
    "    else:\n",
    "        return \"Bear\"\n",
    "\n",
    "\n",
    "def detect_bull_bear_apply(price_data, window=10):\n",
    "    # Calculate the slopes of the price data for the last `window` days\n",
    "    slopes = []\n",
    "    # try:\n",
    "    if len(price_data) > 20:\n",
    "        for i in range(len(price_data) - window, len(price_data) - 1):\n",
    "            slope = calculate_slope([price_data[i], price_data[i + 1]])\n",
    "            # print(slope)\n",
    "            slopes.append(slope)\n",
    "\n",
    "        # Compare the current slope with the average slope of the last `window` days\n",
    "        avg_slope = round(np.mean(slopes), 2)\n",
    "        curr_slope = calculate_slope([price_data[-window], price_data[-1]])\n",
    "        # print(len(slopes), avg_slope, curr_slope)\n",
    "\n",
    "        # if curr_slope > avg_slope:\n",
    "        #     # return \"Bullish\"\n",
    "        #     return \"Bull\"\n",
    "        # else:\n",
    "        #     return \"Bear\"\n",
    "        return curr_slope\n",
    "    else:\n",
    "        return round((price_data[-1] - price_data[0]) / (1), 2)\n",
    "\n",
    "\n",
    "code = '601360'\n",
    "# Example usage\n",
    "# price_data = [100, 95, 97, 99, 102, 105, 108, 111,1]\n",
    "dfc = tdd.get_tdx_Exp_day_to_df(\n",
    "    code, dl=60, resample='d').sort_index(\n",
    "    ascending=True).reset_index()\n",
    "# dfc = get_sina_data_cname(dfc)\n",
    "price_data = dfc.close.values.tolist()\n",
    "price_data[1], dfc.date[0]\n",
    "price_data[-1], dfc.date[-1:]\n",
    "print(detect_bull_bear(price_data))\n",
    "print(detect_bull_bear_apply(price_data))\n",
    "\n",
    "# Output: \"Bullish\""
   ]
  },
  {
   "cell_type": "markdown",
   "id": "250165a5-e663-441e-b405-db14483e24e6",
   "metadata": {
    "tags": []
   },
   "source": [
    "### regression_line(X, Y)\n",
    "regression_ratio(df, window=10):"
   ]
  },
  {
   "cell_type": "code",
   "execution_count": 39,
   "id": "58680ccb-b1c7-48cc-95dc-2f7ee2fb40a7",
   "metadata": {
    "ExecuteTime": {
     "end_time": "2023-08-22T12:13:01.687999Z",
     "start_time": "2023-08-22T12:13:01.523439Z"
    },
    "execution": {
     "iopub.execute_input": "2025-03-18T10:22:55.144349Z",
     "iopub.status.busy": "2025-03-18T10:22:55.143349Z",
     "iopub.status.idle": "2025-03-18T10:22:55.234106Z",
     "shell.execute_reply": "2025-03-18T10:22:55.234106Z",
     "shell.execute_reply.started": "2025-03-18T10:22:55.144349Z"
    },
    "tags": []
   },
   "outputs": [
    {
     "name": "stdout",
     "output_type": "stream",
     "text": [
      "10.28 0.04\n",
      "Above\n",
      "0.04\n"
     ]
    },
    {
     "data": {
      "application/vnd.jupyter.widget-view+json": {
       "model_id": "3910bab739b049c9bdcbd911d72ad799",
       "version_major": 2,
       "version_minor": 0
      },
      "image/png": "[encoded data removed]",
      "text/html": [
       "\n",
       "            <div style=\"display: inline-block;\">\n",
       "                <div class=\"jupyter-widgets widget-label\" style=\"text-align: center;\">\n",
       "                    Figure\n",
       "                </div>\n",
       "                <img src='data:image/png;base64,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' width=640.0/>\n",
       "            </div>\n",
       "        "
      ],
      "text/plain": [
       "Canvas(toolbar=Toolbar(toolitems=[('Home', 'Reset original view', 'home', 'home'), ('Back', 'Back to previous …"
      ]
     },
     "metadata": {},
     "output_type": "display_data"
    }
   ],
   "source": [
    "\n",
    "\n",
    "def regression_line(X, Y, limit=10,showall=False):\n",
    "    # Calculate the coefficients of the regression line\n",
    "    if not showall:\n",
    "        X = X[-limit:]\n",
    "        Y = Y[-limit:]\n",
    "    n = len(X)\n",
    "    sum_x = np.sum(X)\n",
    "    sum_y = np.sum(Y)\n",
    "    sum_xy = np.sum(X * Y)\n",
    "    sum_xx = np.sum(X * X)\n",
    "    a = round((sum_y * sum_xx - sum_x * sum_xy) / (n * sum_xx - sum_x * sum_x), 2)\n",
    "    b = round((n * sum_xy - sum_x * sum_y) / (n * sum_xx - sum_x * sum_x), 2)\n",
    "    return a, b\n",
    "\n",
    "\n",
    "def regression_ratio(df, window=10):\n",
    "    # Calculate the coefficients of the regression line\n",
    "    if isinstance(df, pd.Series):\n",
    "        # Y = df.values[-window:]\n",
    "        # X = df.reset_index().index[-window:]\n",
    "        Y = df.values\n",
    "        X = df.reset_index().index\n",
    "    else:\n",
    "        if 'close' in df.columns:\n",
    "            df = df.reset_index()\n",
    "            # X = df.index[-limit:]\n",
    "            # Y = df.close[-limit:]\n",
    "            X = df.index\n",
    "            Y = df.close\n",
    "        else:\n",
    "            # Y = df.values[-limit:]\n",
    "            # X = df.reset_index().index[-limit:]\n",
    "            Y = df.values\n",
    "            X = df.reset_index().index\n",
    "            \n",
    "    n = len(X)\n",
    "    sum_x = np.sum(X)\n",
    "    sum_y = np.sum(Y)\n",
    "    sum_xy = np.sum(X * Y)\n",
    "    sum_xx = np.sum(X * X)\n",
    "    # a = round((sum_y * sum_xx - sum_x * sum_xy) / (n * sum_xx - sum_x * sum_x),2)\n",
    "    b = round((n * sum_xy - sum_x * sum_y) / (n * sum_xx - sum_x * sum_x), 2)\n",
    "    return b\n",
    "\n",
    "\n",
    "def predict_price(time, a, b):\n",
    "    # Predict the price using the regression line\n",
    "    price = a + b * time\n",
    "    return price\n",
    "\n",
    "\n",
    "def plot_regression_line(X, Y, a, b):\n",
    "    # Plot the regression line\n",
    "    # plt.close()\n",
    "    plt.scatter(X, Y)\n",
    "    plt.plot(X, a + b * X, color=\"red\")\n",
    "    plt.show()\n",
    "\n",
    "\n",
    "def detect_position(price, a, b, X):\n",
    "    # Detect the position of the current price on the regression line\n",
    "    regression_price = predict_price(X[-1], a, b)\n",
    "    if price > regression_price:\n",
    "        return \"Above\"\n",
    "    elif price < regression_price:\n",
    "        return \"Below\"\n",
    "    else:\n",
    "        return \"On\"\n",
    "\n",
    "\n",
    "# Example usage\n",
    "time_index = dfc.index\n",
    "price = dfc.close.values\n",
    "a, b = regression_line(time_index, price,showall=True)\n",
    "print(a, b)\n",
    "# Output: (100.0, 5.0)\n",
    "print(detect_position(132, a, b, time_index))\n",
    "print(regression_ratio(dfc))\n",
    "plot_regression_line(time_index, price, a, b)\n",
    "\n",
    "# print(detect_position(132, a, b, time))\n",
    "# Output: \"On\""
   ]
  },
  {
   "cell_type": "code",
   "execution_count": 40,
   "id": "5f27ec65-cd0a-4070-bec1-81763f9d5666",
   "metadata": {
    "ExecuteTime": {
     "end_time": "2023-08-22T12:13:01.687999Z",
     "start_time": "2023-08-22T12:13:01.523439Z"
    },
    "execution": {
     "iopub.execute_input": "2025-03-18T10:22:55.235103Z",
     "iopub.status.busy": "2025-03-18T10:22:55.235103Z",
     "iopub.status.idle": "2025-03-18T10:22:55.295940Z",
     "shell.execute_reply": "2025-03-18T10:22:55.295940Z",
     "shell.execute_reply.started": "2025-03-18T10:22:55.235103Z"
    },
    "tags": []
   },
   "outputs": [
    {
     "name": "stdout",
     "output_type": "stream",
     "text": [
      "10.28 0.04\n",
      "Above\n",
      "0.04\n"
     ]
    },
    {
     "data": {
      "application/vnd.jupyter.widget-view+json": {
       "model_id": "3910bab739b049c9bdcbd911d72ad799",
       "version_major": 2,
       "version_minor": 0
      },
      "image/png": "[encoded data removed]",
      "text/html": [
       "\n",
       "            <div style=\"display: inline-block;\">\n",
       "                <div class=\"jupyter-widgets widget-label\" style=\"text-align: center;\">\n",
       "                    Figure\n",
       "                </div>\n",
       "                <img src='data:image/png;base64,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' width=640.0/>\n",
       "            </div>\n",
       "        "
      ],
      "text/plain": [
       "Canvas(toolbar=Toolbar(toolitems=[('Home', 'Reset original view', 'home', 'home'), ('Back', 'Back to previous …"
      ]
     },
     "metadata": {},
     "output_type": "display_data"
    }
   ],
   "source": [
    "\n",
    "\n",
    "def regression_line(X, Y, limit=10,showall=False):\n",
    "    # Calculate the coefficients of the regression line\n",
    "    if not showall:\n",
    "        X = X[-limit:]\n",
    "        Y = Y[-limit:]\n",
    "    n = len(X)\n",
    "    sum_x = np.sum(X)\n",
    "    sum_y = np.sum(Y)\n",
    "    sum_xy = np.sum(X * Y)\n",
    "    sum_xx = np.sum(X * X)\n",
    "    a = round((sum_y * sum_xx - sum_x * sum_xy) / (n * sum_xx - sum_x * sum_x), 2)\n",
    "    b = round((n * sum_xy - sum_x * sum_y) / (n * sum_xx - sum_x * sum_x), 2)\n",
    "    return a, b\n",
    "\n",
    "\n",
    "def regression_ratio(df, window=10):\n",
    "    # Calculate the coefficients of the regression line\n",
    "    if isinstance(df, pd.Series):\n",
    "        # Y = df.values[-window:]\n",
    "        # X = df.reset_index().index[-window:]\n",
    "        Y = df.values\n",
    "        X = df.reset_index().index\n",
    "    else:\n",
    "        if 'close' in df.columns:\n",
    "            df = df.reset_index()\n",
    "            # X = df.index[-limit:]\n",
    "            # Y = df.close[-limit:]\n",
    "            X = df.index\n",
    "            Y = df.close\n",
    "        else:\n",
    "            # Y = df.values[-limit:]\n",
    "            # X = df.reset_index().index[-limit:]\n",
    "            Y = df.values\n",
    "            X = df.reset_index().index\n",
    "            \n",
    "    n = len(X)\n",
    "    sum_x = np.sum(X)\n",
    "    sum_y = np.sum(Y)\n",
    "    sum_xy = np.sum(X * Y)\n",
    "    sum_xx = np.sum(X * X)\n",
    "    # a = round((sum_y * sum_xx - sum_x * sum_xy) / (n * sum_xx - sum_x * sum_x),2)\n",
    "    b = round((n * sum_xy - sum_x * sum_y) / (n * sum_xx - sum_x * sum_x), 2)\n",
    "    return b\n",
    "\n",
    "\n",
    "def predict_price(time, a, b):\n",
    "    # Predict the price using the regression line\n",
    "    price = a + b * time\n",
    "    return price\n",
    "\n",
    "\n",
    "def plot_regression_line(X, Y, a, b):\n",
    "    # Plot the regression line\n",
    "    # plt.close()\n",
    "    plt.scatter(X, Y)\n",
    "    plt.plot(X, a + b * X, color=\"red\")\n",
    "    plt.show()\n",
    "\n",
    "\n",
    "def detect_position(price, a, b, X):\n",
    "    # Detect the position of the current price on the regression line\n",
    "    regression_price = predict_price(X[-1], a, b)\n",
    "    if price > regression_price:\n",
    "        return \"Above\"\n",
    "    elif price < regression_price:\n",
    "        return \"Below\"\n",
    "    else:\n",
    "        return \"On\"\n",
    "\n",
    "\n",
    "# Example usage\n",
    "time_index = dfc.index\n",
    "price = dfc.close.values\n",
    "a, b = regression_line(time_index, price,showall=True)\n",
    "print(a, b)\n",
    "# Output: (100.0, 5.0)\n",
    "print(detect_position(132, a, b, time_index))\n",
    "print(regression_ratio(dfc))\n",
    "plot_regression_line(time_index, price, a, b)\n",
    "\n",
    "# print(detect_position(132, a, b, time))\n",
    "# Output: \"On\""
   ]
  },
  {
   "cell_type": "code",
   "execution_count": 41,
   "id": "7cbaabc8-35ea-4bcd-8b89-195e8937dacf",
   "metadata": {
    "ExecuteTime": {
     "end_time": "2023-08-22T12:13:02.658046Z",
     "start_time": "2023-08-22T12:13:02.653091Z"
    },
    "execution": {
     "iopub.execute_input": "2025-03-18T10:22:55.297936Z",
     "iopub.status.busy": "2025-03-18T10:22:55.297936Z",
     "iopub.status.idle": "2025-03-18T10:22:55.311898Z",
     "shell.execute_reply": "2025-03-18T10:22:55.310901Z",
     "shell.execute_reply.started": "2025-03-18T10:22:55.297936Z"
    },
    "tags": []
   },
   "outputs": [
    {
     "data": {
      "text/plain": [
       "Index(['date', 'code', 'open', 'high', 'low', 'close', 'vol', 'amount', 'ma5d',\n",
       "       'ma10d',\n",
       "       ...\n",
       "       'hmax', 'hmax60', 'high4', 'low4', 'lastdu4', 'macdwhite', 'macdyellow',\n",
       "       'macdlast1', 'macdlast2', 'macdlast3'],\n",
       "      dtype='object', length=206)"
      ]
     },
     "execution_count": 41,
     "metadata": {},
     "output_type": "execute_result"
    }
   ],
   "source": [
    "dfc.columns"
   ]
  },
  {
   "cell_type": "markdown",
   "id": "34e4bb77-e170-4b6b-93d1-5f326584730a",
   "metadata": {},
   "source": [
    "### check_postion_vol_price"
   ]
  },
  {
   "cell_type": "code",
   "execution_count": 42,
   "id": "7b1e4910-7c64-4b85-b219-b0b90786579d",
   "metadata": {
    "ExecuteTime": {
     "end_time": "2023-08-22T12:13:05.586518Z",
     "start_time": "2023-08-22T12:13:04.542530Z"
    },
    "execution": {
     "iopub.execute_input": "2025-03-18T10:22:55.312896Z",
     "iopub.status.busy": "2025-03-18T10:22:55.311898Z",
     "iopub.status.idle": "2025-03-18T10:22:55.342816Z",
     "shell.execute_reply": "2025-03-18T10:22:55.341819Z",
     "shell.execute_reply.started": "2025-03-18T10:22:55.312896Z"
    },
    "tags": []
   },
   "outputs": [
    {
     "data": {
      "text/html": [
       "<div>\n",
       "<style scoped>\n",
       "    .dataframe tbody tr th:only-of-type {\n",
       "        vertical-align: middle;\n",
       "    }\n",
       "\n",
       "    .dataframe tbody tr th {\n",
       "        vertical-align: top;\n",
       "    }\n",
       "\n",
       "    .dataframe thead th {\n",
       "        text-align: right;\n",
       "    }\n",
       "</style>\n",
       "<table border=\"1\" class=\"dataframe\">\n",
       "  <thead>\n",
       "    <tr style=\"text-align: right;\">\n",
       "      <th></th>\n",
       "      <th>date</th>\n",
       "      <th>code</th>\n",
       "      <th>open</th>\n",
       "      <th>high</th>\n",
       "      <th>low</th>\n",
       "      <th>close</th>\n",
       "      <th>vol</th>\n",
       "      <th>amount</th>\n",
       "      <th>ma5d</th>\n",
       "      <th>ma10d</th>\n",
       "      <th>...</th>\n",
       "      <th>hmax60</th>\n",
       "      <th>high4</th>\n",
       "      <th>low4</th>\n",
       "      <th>lastdu4</th>\n",
       "      <th>macdwhite</th>\n",
       "      <th>macdyellow</th>\n",
       "      <th>macdlast1</th>\n",
       "      <th>macdlast2</th>\n",
       "      <th>macdlast3</th>\n",
       "      <th>Positon</th>\n",
       "    </tr>\n",
       "  </thead>\n",
       "  <tbody>\n",
       "    <tr>\n",
       "      <th>53</th>\n",
       "      <td>2025-03-18</td>\n",
       "      <td>601360</td>\n",
       "      <td>11.45</td>\n",
       "      <td>11.58</td>\n",
       "      <td>11.38</td>\n",
       "      <td>11.45</td>\n",
       "      <td>79403224.0</td>\n",
       "      <td>910983535.0</td>\n",
       "      <td>11.4</td>\n",
       "      <td>11.52</td>\n",
       "      <td>...</td>\n",
       "      <td>NaN</td>\n",
       "      <td>11.63</td>\n",
       "      <td>11.13</td>\n",
       "      <td>1.035619</td>\n",
       "      <td>-0.03</td>\n",
       "      <td>0.04</td>\n",
       "      <td>-0.13</td>\n",
       "      <td>-0.16</td>\n",
       "      <td>-0.18</td>\n",
       "      <td>Neutral</td>\n",
       "    </tr>\n",
       "  </tbody>\n",
       "</table>\n",
       "<p>1 rows × 207 columns</p>\n",
       "</div>"
      ],
      "text/plain": [
       "          date    code   open   high    low  close         vol       amount  \\\n",
       "53  2025-03-18  601360  11.45  11.58  11.38  11.45  79403224.0  910983535.0   \n",
       "\n",
       "    ma5d  ma10d  ...  hmax60  high4   low4   lastdu4  macdwhite  macdyellow  \\\n",
       "53  11.4  11.52  ...     NaN  11.63  11.13  1.035619      -0.03        0.04   \n",
       "\n",
       "    macdlast1  macdlast2  macdlast3  Positon  \n",
       "53      -0.13      -0.16      -0.18  Neutral  \n",
       "\n",
       "[1 rows x 207 columns]"
      ]
     },
     "execution_count": 42,
     "metadata": {},
     "output_type": "execute_result"
    }
   ],
   "source": [
    "from sklearn.linear_model import LinearRegression\n",
    "\n",
    "\n",
    "def check_postion_vol_price(df):\n",
    "    # 加载数据\n",
    "    # df = pd.read_csv(\"data.csv\")\n",
    "\n",
    "    # 创建输入数据\n",
    "    X = df[[\"close\", \"vol\"]].values\n",
    "    y = df[\"close\"].values\n",
    "\n",
    "    # 训练回归模型\n",
    "    reg = LinearRegression().fit(X, y)\n",
    "\n",
    "    # 计算斜率和截距\n",
    "    slope = reg.coef_[0]\n",
    "    intercept = reg.intercept_\n",
    "\n",
    "    # 计算上轨和下轨\n",
    "    upper_band = slope * df[\"close\"] + intercept + 2 * df[\"vol\"]\n",
    "    lower_band = slope * df[\"close\"] + intercept - 2 * df[\"vol\"]\n",
    "\n",
    "    # 判断价格是否在通道内\n",
    "    df[\"Positon\"] = np.where(\n",
    "        df[\"close\"] > upper_band, \"Long\", np.where(\n",
    "            df[\"close\"] < lower_band, \"Short\", \"Neutral\"))\n",
    "    return df\n",
    "\n",
    "\n",
    "dfc = check_postion_vol_price(dfc)\n",
    "dfc[-1:]"
   ]
  },
  {
   "cell_type": "code",
   "execution_count": 43,
   "id": "8cd8b2a9-e374-475a-9e92-270121c3d2d7",
   "metadata": {
    "ExecuteTime": {
     "end_time": "2023-08-22T12:13:05.869792Z",
     "start_time": "2023-08-22T12:13:05.843829Z"
    },
    "execution": {
     "iopub.execute_input": "2025-03-18T10:22:55.343815Z",
     "iopub.status.busy": "2025-03-18T10:22:55.343815Z",
     "iopub.status.idle": "2025-03-18T10:22:55.356778Z",
     "shell.execute_reply": "2025-03-18T10:22:55.356778Z",
     "shell.execute_reply.started": "2025-03-18T10:22:55.343815Z"
    },
    "tags": []
   },
   "outputs": [
    {
     "data": {
      "text/plain": [
       "Index(['date', 'code', 'open', 'high', 'low', 'close', 'vol', 'amount', 'ma5d',\n",
       "       'ma10d',\n",
       "       ...\n",
       "       'hmax60', 'high4', 'low4', 'lastdu4', 'macdwhite', 'macdyellow',\n",
       "       'macdlast1', 'macdlast2', 'macdlast3', 'Positon'],\n",
       "      dtype='object', length=207)"
      ]
     },
     "execution_count": 43,
     "metadata": {},
     "output_type": "execute_result"
    },
    {
     "data": {
      "text/plain": [
       "0    2024-12-24\n",
       "1    2024-12-25\n",
       "2    2024-12-26\n",
       "Name: date, dtype: object"
      ]
     },
     "execution_count": 43,
     "metadata": {},
     "output_type": "execute_result"
    },
    {
     "data": {
      "text/plain": [
       "53   2025-03-18\n",
       "Name: date, dtype: datetime64[ns]"
      ]
     },
     "execution_count": 43,
     "metadata": {},
     "output_type": "execute_result"
    }
   ],
   "source": [
    "\n",
    "# dfc=  dfc.rename(columns={'date': 'Date', \"open\":\"Open\",\"high\":\"High\",\"low\": \"Low\",\"close\":\"Close\"})\n",
    "dfc.columns\n",
    "# dfc[[\"Date\", \"Open\", \"High\", \"Low\", \"Close\"]][-2:]\n",
    "dfc.date[:3]\n",
    "dfc.date = pd.to_datetime(dfc.date)\n",
    "# dfc.set_index('date')\n",
    "dfc.date[-1:]"
   ]
  },
  {
   "cell_type": "markdown",
   "id": "4b962cec-1975-4bca-b979-44f5bef0ee2b",
   "metadata": {
    "tags": []
   },
   "source": [
    "### show_ohlc_upper "
   ]
  },
  {
   "cell_type": "code",
   "execution_count": 44,
   "id": "87138dc9-fdf4-4160-a1ed-e9fc285d2ba5",
   "metadata": {
    "ExecuteTime": {
     "end_time": "2023-08-22T12:13:09.750196Z",
     "start_time": "2023-08-22T12:13:09.114330Z"
    },
    "execution": {
     "iopub.execute_input": "2025-03-18T10:22:55.360769Z",
     "iopub.status.busy": "2025-03-18T10:22:55.359771Z",
     "iopub.status.idle": "2025-03-18T10:22:55.805578Z",
     "shell.execute_reply": "2025-03-18T10:22:55.805578Z",
     "shell.execute_reply.started": "2025-03-18T10:22:55.360769Z"
    },
    "tags": []
   },
   "outputs": [
    {
     "name": "stdout",
     "output_type": "stream",
     "text": [
      "xratio:0.04 \n",
      "code: 601360\n"
     ]
    },
    {
     "data": {
      "application/vnd.jupyter.widget-view+json": {
       "model_id": "1a731ee5786041b48c9385cac4eb7373",
       "version_major": 2,
       "version_minor": 0
      },
      "image/png": "[encoded data removed]",
      "text/html": [
       "\n",
       "            <div style=\"display: inline-block;\">\n",
       "                <div class=\"jupyter-widgets widget-label\" style=\"text-align: center;\">\n",
       "                    Figure\n",
       "                </div>\n",
       "                <img src='data:image/png;base64,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' width=640.0/>\n",
       "            </div>\n",
       "        "
      ],
      "text/plain": [
       "Canvas(toolbar=Toolbar(toolitems=[('Home', 'Reset original view', 'home', 'home'), ('Back', 'Back to previous …"
      ]
     },
     "metadata": {},
     "output_type": "display_data"
    }
   ],
   "source": [
    "\n",
    "def show_ohlc_upper(df, code=None, allshow=True):\n",
    "    # 加载数据\n",
    "    # df = pd.read_csv(\"data.csv\")\n",
    "    # plt.close()\n",
    "    # 计算OHLC数据\n",
    "    # df = df.rename(columns={'date': 'Date', \"open\": \"Open\",\n",
    "    #                \"high\": \"High\", \"low\": \"Low\", \"close\": \"Close\"})\n",
    "    # df.Date = df.Date.apply(lambda x:str(x).replace('-',''))\n",
    "    if 'name' not in df.columns and code is not None:\n",
    "        df['name']= tdd.get_sina_data_code(code)\n",
    "    if allshow:\n",
    "        if 'ra_diff' in df.columns:\n",
    "            print(\"xratio:%s ra_diff:%s\" % (regression_ratio(df),df.ra_diff[-1]))\n",
    "        else:\n",
    "            print(\"xratio:%s \" % (regression_ratio(df)))\n",
    "    # df=df[df.upper > 0]\n",
    "    df = df.rename(columns={'vol': 'volume'})\n",
    "    df = df.reset_index()\n",
    "    # df.date = pd.to_datetime(df.index)\n",
    "    df.date = df.index\n",
    "    # print(df.Date)\n",
    "    # ohlc = df[[\"Date\", \"Open\", \"High\", \"Low\", \"Close\"]].values\n",
    "    ohlc = df[[\"date\", \"open\", \"high\", \"low\", \"close\", 'volume']].values\n",
    "\n",
    "    # 计算上轨和下轨\n",
    "    # upper_band = df[df.upper != 0].upper\n",
    "    # lower_band = df[df.lower != 0].lower\n",
    "    upper_band = df.upper\n",
    "    lower_band = df.lower\n",
    "    \n",
    "    # print(lower_band,df.lower)\n",
    "    # print(upper_band,df.upper)\n",
    "\n",
    "    if 'ma20d' in df.columns:\n",
    "        ma20d = df[df.ma20d > 0].ma20d\n",
    "    elif 'ma20' in df.columns:\n",
    "        ma20d = df[df.ma20 > 0].ma20\n",
    "    else:\n",
    "        print('not ma20 ma20d')\n",
    "    idx = len(df) - len(upper_band)\n",
    "    idx2 = len(df) - len(lower_band)\n",
    "    if idx != idx2:\n",
    "        print(idx, len(df), len(upper_band))\n",
    "        print(idx2, len(lower_band))\n",
    "\n",
    "    # 计算当前价格的位置\n",
    "    position = ['' for i in range(len(df))]\n",
    "    # print(idx,len(df) ,len(upper_band),position)\n",
    "    \n",
    "        # else:\n",
    "            # position[i] = 'Middle Band'\n",
    "    # print(position)\n",
    "    # 绘制OHLC图\n",
    "    fig, ax = plt.subplots()\n",
    "    candlestick_ohlc(ax, ohlc, width=0.6, colorup='g', colordown='r')\n",
    "\n",
    "    # 添加上轨和下轨\n",
    "    \n",
    "    for i in range(idx, len(upper_band), 1):\n",
    "        # print(df[\"close\"][i])\n",
    "        # print(upper_band[i],df[\"low\"][i])\n",
    "        # print(i,lower_band[i])\n",
    "        #error upper_band ==0.0\n",
    "        if df[\"close\"][i] > upper_band[i]:\n",
    "            position[i] = 'Upp'\n",
    "        elif df[\"low\"][i] < lower_band[i]:\n",
    "            position[i] = 'Low'\n",
    "            \n",
    "    plt.plot(upper_band.index, upper_band, 'r--', label='Upper Band')\n",
    "    plt.plot(lower_band.index, lower_band, 'g--', label='Lower Band')\n",
    "    \n",
    "    plt.plot(ma20d.index, ma20d, 'b', label='ma20')\n",
    "\n",
    "    if 'hat' in df.columns:\n",
    "        plt.plot(df.hat.index, df.hat, 'g', label='hat')\n",
    "    # 添加位置\n",
    "    for i, txt in enumerate(position):\n",
    "        if txt == 'Low':\n",
    "            plt.annotate(txt, (df[\"date\"][i], df[\"close\"][i]), xytext=(\n",
    "                0, -30), textcoords='offset points', color='g')\n",
    "        else:\n",
    "            plt.annotate(txt, (df[\"date\"][i], df[\"close\"][i]), xytext=(\n",
    "                0, 20), textcoords='offset points', color='g')\n",
    "    axx = fig.add_subplot(325)\n",
    "    # axx.plot(df[[\"volume\"]])\n",
    "    # from matplotlib import transforms\n",
    "    # pad = 0.25\n",
    "    # yl = ax.get_ylim()\n",
    "    # ax.set_ylim(yl[0]-(yl[1]-yl[0])*pad,yl[1])\n",
    "    # axx = ax.twinx()\n",
    "    # axx.set_position(transforms.Bbox([[0.125,0.1],[0.9,0.32]]))\n",
    "\n",
    "    volume = np.asarray(df.volume)\n",
    "    pos = df['open'] - df['close'] < 0\n",
    "    neg = df['open'] - df['close'] >= 0\n",
    "    idx = np.asarray([x for x in range(len(df.date))])\n",
    "    # print len(dates),len(df),ax.get_xlim(),ax.get_xticks()\n",
    "    axx.bar(idx[pos], volume[pos], color='red', width=1, align='center')\n",
    "    axx.bar(idx[neg], volume[neg], color='green', width=1, align='center')\n",
    "\n",
    "    # position = ['' for i in range(len(df))]\n",
    "    # position = df.Positon\n",
    "    # for i, txt in enumerate(position):\n",
    "    #     plt.annotate(txt, (df[\"Date\"][i], df[\"Close\"][i]), xytext=(0,20), textcoords='offset points')\n",
    "    # 添加图例\n",
    "    plt.legend(loc='best')\n",
    "    # plt.legend([\"Now:%s\" % df.close[-1], \"Hi:%s\" % df.high[-1], \"Lo:%0.2f\" % (asset.iat[-1]), \"day:%s\" %\n",
    "    #             len(asset), \"fib:%s\" % (fib),\"MA:%s\"%(roll_mean_days)], fontsize=12, loc=0)\n",
    "    if 'name' in df.columns:\n",
    "        if 'code' in df.columns:\n",
    "            plt.title(df.name.values[-1:][0] + \" \" + df.code[0] + \" | \", fontsize=12)\n",
    "        else:\n",
    "            plt.title(str(df.name.values[-1:][0]) + \" \" + \" | \", fontsize=12)\n",
    "\n",
    "    else:\n",
    "        if 'code' in df.columns:\n",
    "            plt.title(\" | \" + df.code[0] + \" | \", fontsize=12)\n",
    "        else:\n",
    "            if code is None:\n",
    "                plt.title(\" | \" + \" | \", fontsize=12)\n",
    "            else:\n",
    "                plt.title(\" | \" + code + \" | \", fontsize=12)\n",
    "\n",
    "    # 显示图形\n",
    "    print(\"code:\",code)\n",
    "    plt.show()\n",
    "\n",
    "\n",
    "show_ohlc_upper(dfc,code=dfc.code[0])"
   ]
  },
  {
   "cell_type": "code",
   "execution_count": null,
   "id": "f7f089a3-225d-4dda-ab14-f4dce799696d",
   "metadata": {},
   "outputs": [],
   "source": []
  },
  {
   "cell_type": "code",
   "execution_count": null,
   "id": "a45c8bd3-9143-47f6-a59f-2a09f29ec015",
   "metadata": {},
   "outputs": [],
   "source": []
  },
  {
   "cell_type": "code",
   "execution_count": 45,
   "id": "f9a758ab-4c1e-41e5-9d1a-5c5f262a67b0",
   "metadata": {
    "ExecuteTime": {
     "end_time": "2023-08-22T12:13:15.301648Z",
     "start_time": "2023-08-22T12:13:15.284697Z"
    },
    "execution": {
     "iopub.execute_input": "2025-03-18T10:22:55.808570Z",
     "iopub.status.busy": "2025-03-18T10:22:55.807573Z",
     "iopub.status.idle": "2025-03-18T10:22:55.822533Z",
     "shell.execute_reply": "2025-03-18T10:22:55.821537Z",
     "shell.execute_reply.started": "2025-03-18T10:22:55.808570Z"
    },
    "tags": []
   },
   "outputs": [
    {
     "data": {
      "text/plain": [
       "True"
      ]
     },
     "execution_count": 45,
     "metadata": {},
     "output_type": "execute_result"
    }
   ],
   "source": [
    "'code' in dfc.columns"
   ]
  },
  {
   "cell_type": "markdown",
   "id": "d778eb37-7a61-4f20-ae85-7ca80d9228d1",
   "metadata": {},
   "source": [
    "### show_channel_mpl"
   ]
  },
  {
   "cell_type": "code",
   "execution_count": 46,
   "id": "ce854955-6659-4098-a0a9-6acef9a55f6b",
   "metadata": {
    "ExecuteTime": {
     "end_time": "2023-08-22T12:13:17.312496Z",
     "start_time": "2023-08-22T12:13:17.301560Z"
    },
    "execution": {
     "iopub.execute_input": "2025-03-18T10:22:55.823529Z",
     "iopub.status.busy": "2025-03-18T10:22:55.823529Z",
     "iopub.status.idle": "2025-03-18T10:22:55.837493Z",
     "shell.execute_reply": "2025-03-18T10:22:55.836533Z",
     "shell.execute_reply.started": "2025-03-18T10:22:55.823529Z"
    },
    "tags": []
   },
   "outputs": [],
   "source": [
    "dfc['position'] = 0\n",
    "\n",
    "\n",
    "def show_channel_mpl_bug(df, limit=60):\n",
    "    # Compute the channel\n",
    "    def compute_channel(df):\n",
    "        # Compute the high and low of the past n periods\n",
    "        n = 20\n",
    "        high = df['high'].rolling(window=n, min_periods=n).max()\n",
    "        low = df['low'].rolling(window=n, min_periods=n).min()\n",
    "        df['upper_channel'] = high + (high - low) * 0.5\n",
    "        df['lower_channel'] = low - (high - low) * 0.5\n",
    "\n",
    "        # Update the position based on the current price\n",
    "        df['position'] = np.where(df['close'] > df['upper_channel'] * 0.66, 1,\n",
    "                                  np.where(df['close'] < df['lower_channel'], -1, 0))\n",
    "        # print(df['position'])\n",
    "\n",
    "    df = df.rename(columns={'vol': 'volume'})\n",
    "    # df = df.reset_index()\n",
    "    if 'date' in df.columns:\n",
    "        df.date = pd.to_datetime(df.date)\n",
    "    else:\n",
    "        df = df.reset_index()\n",
    "        df.date = pd.to_datetime(df.date)\n",
    "    df = df.set_index('date')\n",
    "    # df.date = df.index\n",
    "    df = df.loc[:, [\"open\", \"high\", \"low\", \"close\", 'volume']]\n",
    "    compute_channel(df)\n",
    "\n",
    "    # fig, ax = plt.subplots()\n",
    "    # Plot the ohlc chart\n",
    "    mpf.plot(df, type='candle', title='OHLC chart with channel and position',\n",
    "             ylabel='Price', volume=True, mav=(10, 20),\n",
    "             show_nontrading=False, ylabel_lower='Position')\n",
    "    # returnfig=True)\n",
    "\n",
    "    # for i, txt in enumerate(df.position):\n",
    "    #     # print(i,txt,df.index[i], df[\"close\"][i])\n",
    "    #     if txt == 0:\n",
    "    #         plt.annotate(\"Down\", (df.index[i], df[\"close\"][i]), xytext=(\n",
    "    #             0, -30), textcoords='offset points', color='g')\n",
    "    #     else:\n",
    "    #         plt.annotate(\"UP\", (df.index[i], df[\"close\"][i]), xytext=(\n",
    "    #             0, 20), textcoords='offset points', color='g')\n",
    "\n",
    "    # axlist[0].set_yticks([-1, 0, 1])\n",
    "    # axlist[2].xaxis.set_ticks(df['position'])\n",
    "    # axlist[2].set_xticklabels(df['upper_channel'])\n",
    "    # yticks=[-1, 0, 1], yticklabels=['Sell', 'Hold', 'Buy'],\n",
    "    # overlays=[(df['upper_channel'], None), (df['lower_channel'], None)])\n",
    "# show_channel_mpl(dfc)"
   ]
  },
  {
   "cell_type": "markdown",
   "id": "b07c48a6-b469-4a98-9d69-b37bc0e848c8",
   "metadata": {},
   "source": [
    "## TDX def"
   ]
  },
  {
   "cell_type": "code",
   "execution_count": 47,
   "id": "e5bf6754-f22a-4f0f-84c8-d054f610d00b",
   "metadata": {
    "ExecuteTime": {
     "end_time": "2023-08-22T12:13:19.207229Z",
     "start_time": "2023-08-22T12:13:19.169330Z"
    },
    "execution": {
     "iopub.execute_input": "2025-03-18T10:22:55.838492Z",
     "iopub.status.busy": "2025-03-18T10:22:55.837493Z",
     "iopub.status.idle": "2025-03-18T10:22:55.897333Z",
     "shell.execute_reply": "2025-03-18T10:22:55.897333Z",
     "shell.execute_reply.started": "2025-03-18T10:22:55.838492Z"
    },
    "tags": []
   },
   "outputs": [],
   "source": [
    "global sina_dm\n",
    "sina_dm = None\n",
    "\n",
    "\n",
    "def get_sina_data_cname(df, dm=None, index=False, realtime=False):\n",
    "    # index_status=False\n",
    "    global sina_dm\n",
    "    if dm is None:\n",
    "        if sina_dm is None:\n",
    "            dm = sina_data.Sina().market('all')\n",
    "        else:\n",
    "            dm = sina_dm.copy()\n",
    "\n",
    "    if 'ticktime' in df.columns:\n",
    "        time_l = time.mktime(dm.loc[:, 'ticktime'][-1].timetuple())\n",
    "        dur = round((time.time() - time_l) / 60, 2)\n",
    "        if dur > 5:\n",
    "            print(\"timel > 5,renew dm\")\n",
    "            dm = sina_data.Sina().market('all')\n",
    "            sina_dm = dm.copy()\n",
    "\n",
    "    if realtime:\n",
    "        print(\"compute percent\")\n",
    "        df.rename(columns={'low': 'llow',\n",
    "                  'high': 'lhigh', 'open': 'lopen'}, inplace=True)\n",
    "        if 'nclose' in dm.columns:\n",
    "            dd = cct.combine_dataFrame(\n",
    "                df, dm.loc\n",
    "                [:,\n",
    "                 ['nclose', 'close', 'name', 'open', 'high', 'low', 'llastp',\n",
    "                  'ticktime']],\n",
    "                clean=True)\n",
    "        else:\n",
    "            dd = cct.combine_dataFrame(\n",
    "                df, dm.loc\n",
    "                [:, ['close', 'name', 'open', 'high', 'low', 'llastp', 'ticktime']],\n",
    "                clean=True)\n",
    "        dd['perc'] = ((dd['close'] - dd['llastp']) / dd['llastp'] *\n",
    "                      100).map(lambda x: round(x, 2))\n",
    "        # dd = cct.combine_dataFrame(df, dm['name'])\n",
    "\n",
    "    else:\n",
    "        dd = cct.combine_dataFrame(df, dm['name'])\n",
    "    # cname = sina_data.Sina().get_code_cname(code)\n",
    "    return dd\n",
    "\n",
    "\n",
    "def write_code_to_blk(codew, blk='060'):\n",
    "    block_path = tdd.get_tdx_dir_blocknew() + '%s.blk' % (blk)\n",
    "    write_blk = 'n'\n",
    "    write_blk = cct.cct_raw_input(\"write blk [Y] or [N]:\")\n",
    "    if write_blk == 'y' or write_blk == 'Y':\n",
    "        hdf5_wri = cct.cct_raw_input(\n",
    "            \"Rewrite code [Y] or append [N](defalut:N):\")\n",
    "        if hdf5_wri == 'y' or hdf5_wri == 'Y':\n",
    "            append_status = False\n",
    "        else:\n",
    "            append_status = True\n",
    "        if len(codew) > 3:\n",
    "            cct.write_to_blocknew(block_path, codew, append_status,\n",
    "                                  doubleFile=False, keep_last=0)\n",
    "            (\"write:%s block_path:%s\" % (len(codew), block_path))\n",
    "        else:\n",
    "            (\"write error:%s block_path:%s\" % (len(codew), block_path))\n",
    "    return True\n",
    "\n",
    "def get_multiIndex_drop_last_row(df,dropline=1):\n",
    "\n",
    "    return df.drop(level='date', labels=df.index.get_level_values('date')[-dropline])\n",
    "\n",
    "def clean_688(df):\n",
    "    df = df[(~df.index.str.contains(\"688\"))]\n",
    "    return df\n",
    "\n",
    "def clean_sina_dm(dd):\n",
    "    if (cct.get_now_time_int() > 915 and cct.get_now_time_int() < 926):\n",
    "        dd = dd[dd.close > 0]\n",
    "    else:\n",
    "        dd = dd[dd.open > 0]\n",
    "    return dd\n",
    "\n",
    "def compute_perd_value(df, market_value=3, col=\"vol\", col_new='volsum'):\n",
    "\n",
    "    # if market_value == None or market_value < \"2\":\n",
    "    #     market_value = 3\n",
    "    # if market_value > 1 and len(df[ df[\"%s%sd\" % (col, market_value)] > 2])   :\n",
    "    market_value = str(market_value)\n",
    "    if market_value > str(1):\n",
    "        temp = df[\n",
    "            df.columns[\n",
    "                (df.columns >= \"%s1d\" % (col)) &\n",
    "                (df.columns <= \"%s%sd\" % (col, market_value))\n",
    "            ]\n",
    "        ]\n",
    "\n",
    "        df['%s%sd' % (col_new, market_value)] = temp.T.sum().apply(\n",
    "            lambda x: round(x, 1))\n",
    "    else:\n",
    "        print(\"market_value <= 1,No Compute\")\n",
    "\n",
    "    return df\n",
    "\n",
    "\n",
    "def show_tdx_data(df, codelist=None, market_value='3', col=None):\n",
    "    col_src = [\n",
    "        \"name\", \"couts\", \"date\", \"perc\", \"ra_diff\",\"xratio\", \"idx\", \"hat\", \"close\",\n",
    "        \"volsum5d\", \"hmax\", \"lmin\", \"perc1d\", \"ma20\", \"ma250\", \"nclose\",\n",
    "        \"llow\", 'vol1d', 'vol2d', 'vol3d', 'vol4d', 'vol5d', \"perc%sd\" %\n",
    "        (market_value),\n",
    "        \"perc5d\"]\n",
    "\n",
    "    if isinstance(df, pd.Series):\n",
    "        col_name = [co for co in col_src if co in df.index]\n",
    "        # col_name.insert(1,'date')\n",
    "    else:\n",
    "        col_name = [co for co in col_src if co in df.columns]\n",
    "\n",
    "    # print(col_name)\n",
    "    # if isinstance(df, pd.DataFrame) and 'name' in df.columns:\n",
    "    #     columns_ = col_name\n",
    "    # else:\n",
    "    #     if isinstance(df, pd.Series) and 'name' in df.index:\n",
    "    #         columns_ = col_name.insert(1, \"date\")\n",
    "    #     else:\n",
    "    #         columns_ = col_name.remove(\"name\")\n",
    "    \n",
    "    if isinstance(col,list):\n",
    "        col_name.extend(col)\n",
    "    elif col is not None:\n",
    "        col_name.insert(4, col)\n",
    "\n",
    "    if codelist is None:\n",
    "        if isinstance(df, pd.Series):\n",
    "            print(\"Count:1\")\n",
    "            temp = df.loc[col_name]\n",
    "        else:\n",
    "            print(\"Count:%s %s\" % (df.shape))\n",
    "            temp = df.loc[:, col_name]\n",
    "    else:\n",
    "        temp = df.loc[[x for x in codelist if x in df.index], col_name]\n",
    "    return temp\n",
    "\n",
    "\n",
    "def get_multi_date_duration(df, dt):\n",
    "    dd = df.reset_index()\n",
    "    dd = dd[dd.date >= dt]\n",
    "    # dd['couts'] = dd.groupby(['code'])['code'].transform('count')\n",
    "    dd = dd.set_index(['code', 'date'])\n",
    "    return dd\n",
    "\n",
    "\n",
    "def get_multi_code_count(df, col='code'):\n",
    "    dd = df.reset_index()\n",
    "    dd['couts'] = dd.groupby([col])[col].transform('count')\n",
    "    dd = dd.sort_values(by=['couts', 'date'], ascending=[0, 1])\n",
    "    print('count dd.couts')\n",
    "    dd = dd.set_index(['code', 'date'])\n",
    "    return dd\n",
    "\n",
    "\n",
    "def multindex_iloc(df, index):\n",
    "    label = df.index.levels[0][index]\n",
    "    return df.iloc[df.index.get_loc(label)]\n",
    "\n",
    "\n",
    "def get_groupby_mean_median_close(dfs):\n",
    "\n",
    "    groupd = dfs.groupby(level=[0])\n",
    "\n",
    "    df = groupd['close'].agg(['median', 'mean'])\n",
    "    df['close'] = groupd.tail(1).reset_index().set_index(['code'])['close']\n",
    "    # dfs['mean'] = groupd['close'].agg('mean')\n",
    "    # dfs['median'] = groupd['close'].agg('median')\n",
    "\n",
    "    # dfs = dfs.fillna(0)\n",
    "    # idx = pd.IndexSlice\n",
    "    # mask = ( (dfs['mean'] > dfs['median'])\n",
    "    #         & (dfs['close'] > dfs['mean'])\n",
    "    #         )\n",
    "    # df=dfs.loc[idx[mask, :]]\n",
    "\n",
    "    df = df[(df['mean'] > df['median']) & (df['close'] > df['mean'])]\n",
    "\n",
    "    # dt_low = None\n",
    "    # if dl == 1:\n",
    "    #     dfs = groupd.tail(1)\n",
    "    #     print(\"dfs tail1\")\n",
    "    # else:\n",
    "    #     dl = 30\n",
    "    #     dindex = tdd.get_tdx_Exp_day_to_df(\n",
    "    #         '999999', dl=dl).sort_index(ascending=False)\n",
    "    #     dt = tdd.get_duration_price_date('999999', df=dindex)\n",
    "    #     dt = dindex[dindex.index >= dt].index.values\n",
    "    #     dt_low = dt[-1]\n",
    "    #     dtlen = len(dt) if len(dt) >0 else 1\n",
    "    #     dfs = groupd.tail(dtlen)\n",
    "    #     print(\"dfs tail:%s dt:%s\"%(dtlen,dt))\n",
    "    #     dfs = get_multi_date_duration(dfs,dt[-1])\n",
    "    return df\n",
    "\n",
    "\n",
    "def compute_df_Col_lastday(dfs, col='close', colre='perc', days=3, plus=True):\n",
    "    for da in range(int(days)):\n",
    "        da += 1\n",
    "        if plus:\n",
    "            dfs['%s%sd' % (colre, da)] = round(\n",
    "                (dfs[col] - dfs[col].shift(da)) / dfs[col].shift(da) * 100, 2)\n",
    "        else:\n",
    "            if da == 1:\n",
    "                dfs['%s%sd' % (colre, da)] = round(\n",
    "                    (dfs[col] - dfs[col].shift(da)) / dfs[col].shift(da) * 100, 2)\n",
    "            else:\n",
    "                dfs['%s%sd' % (colre, da)] = round(\n",
    "                    (dfs[col].shift(da - 1) - dfs[col].shift(da)) / dfs[col].shift(da) * 100, 2)\n",
    "    return dfs"
   ]
  },
  {
   "cell_type": "code",
   "execution_count": 48,
   "id": "1a9b1214-b3ae-403e-9b29-2b51ab03f4b1",
   "metadata": {
    "ExecuteTime": {
     "end_time": "2023-08-22T12:13:20.250472Z",
     "start_time": "2023-08-22T12:13:20.228497Z"
    },
    "execution": {
     "iopub.execute_input": "2025-03-18T10:22:55.898330Z",
     "iopub.status.busy": "2025-03-18T10:22:55.898330Z",
     "iopub.status.idle": "2025-03-18T10:22:55.914288Z",
     "shell.execute_reply": "2025-03-18T10:22:55.913290Z",
     "shell.execute_reply.started": "2025-03-18T10:22:55.898330Z"
    },
    "tags": []
   },
   "outputs": [],
   "source": [
    "def get_roll_mean_all(\n",
    "        single=True, tdx=False, app=True, duration=100, ma_250_l=1.02,\n",
    "        ma_250_h=1.11, resample='d'):\n",
    "    time_s = time.time()\n",
    "    if not app and cct.get_file_size(block_path) > 100 and cct.creation_date_duration(block_path) == 0:\n",
    "        print(\"It's Today Update\")\n",
    "        return True\n",
    "    code_list = sina_data.Sina().market('all').index.tolist()\n",
    "    code_list.extend(['999999', '399001', '399006'])\n",
    "    print(\"all code:\", len(code_list))\n",
    "    if duration < 300:\n",
    "        h5_fname = 'tdx_all_df' + '_' + str(300)\n",
    "        h5_table = 'all' + '_' + str(300)\n",
    "    else:\n",
    "        h5_fname = 'tdx_all_df' + '_' + str(900)\n",
    "        h5_table = 'all' + '_' + str(900)\n",
    "    # df = tdd.search_Tdx_multi_data_duration('tdx_all_df_300', 'all_300', df=None,code_l=code_list, start='20150501', end=None, freq=None, col=None, index='date')\n",
    "    df = tdd.search_Tdx_multi_data_duration(\n",
    "        h5_fname, h5_table, df=None, code_l=code_list, start=None, end=None,\n",
    "        freq=None, col=None, index='date')\n",
    "    # df = tdd.search_Tdx_multi_data_duration(h5_fname, h5_table, df=None,code_l=code_list, start=None, end=None, freq=None, col=None, index='date',tail=1)\n",
    "\n",
    "    code_uniquelist = df.index.get_level_values('code').unique()\n",
    "\n",
    "    code_select = code_uniquelist[random.randint(0, len(code_uniquelist) - 1)]\n",
    "    print(round(time.time() - time_s, 2), df.index.get_level_values(\n",
    "        'code').unique().shape, code_select, df.loc[code_select].shape)\n",
    "    # df.groupby(level=[0]),df.index.get_level_values(0)\n",
    "    # len(df.index.get_level_values('code').unique())\n",
    "    # df = df[~df.index.duplicated(keep='first')]\n",
    "\n",
    "    # multiIndex_func = {'close': 'mean', 'low': 'min', 'high': 'max', 'volume': 'sum', 'open': 'first'}\n",
    "    # cct.using_Grouper(df, freq='W', col={'close': 'last'})\n",
    "    # *** TypeError: Only valid with DatetimeIndex, TimedeltaIndex or PeriodIndex, but got an instance of 'Index'\n",
    "    # roll_dl = duration\n",
    "    if resample != 'd':\n",
    "\n",
    "        print(\"resample:%s\"%(resample.upper()))\n",
    "        df = df.groupby(level=0).resample(resample, level=1).last()\n",
    "        df = df.dropna()\n",
    "        \n",
    "    ''' \n",
    "    if resample != 'd':\n",
    "        print(\"resample:%s\" % (resample.upper()))\n",
    "        # ohlc_dict = {'volume': 'sum','high': 'max','low': 'min','close': 'last'}\n",
    "        # {'low': 'min', 'close':'mean'}\n",
    "        # df = df.groupby(level=0).resample(resample, level=1).agg({'close':'last'})\n",
    "        # df = df.loc[:, ['open','close', 'low', 'high']].groupby(level=0).resample(resample, level=1).agg({'close':'last'})\n",
    "        df = df.loc[:, ['close']].groupby(level=0).resample(\n",
    "            resample, level=1).agg({'close': 'last'}).dropna()\n",
    "\n",
    "        df = df.dropna()\n",
    "        # df = df.loc[:, ['open','close', 'low', 'high']].groupby(level=0).resample(resample, level=1, how={'low': 'min', 'close':'mean'})\n",
    "        # df = df.loc[:, ['open','close', 'low', 'high']].groupby(pd.Grouper(freq=resample)).transform(np.cumsum).resample(resample, how='ohlc')\n",
    "\n",
    "        # df = df.loc[:, ['open','close', 'low', 'high']].groupby(pd.TimeGrouper(resample)).transform(np.cumsum).resample(resample, how='ohlc')\n",
    "        # r1 = len(df.loc['000001'])\n",
    "        # r2 = len(df.loc['999999'])\n",
    "        # roll_dl = r1 if r1 < r2 else r2\n",
    "\n",
    "        # df['upper'] = map(lambda x: round((1 + 11.0 / 100) * x, 1), df.ma10d)\n",
    "        # df['lower'] = map(lambda x: round((1 - 9.0 / 100) * x, 1), df.ma10d)\n",
    "        # df['ene'] = map(lambda x, y: round((x + y) / 2, 1), df.upper, df.lower)\n",
    "        # dfs['amount%d'%cumdays] = groupd['amount'].apply(pd.rolling_mean, cumdays)\n",
    "    # df.ix[df.index.levels[0]]\n",
    "    # df.ix[df.index[len(df.index)-1][0]] #last row\n",
    "    # dfs = tdd.search_Tdx_multi_data_duration(df=dfs,code_l=code_list, start='20170918', end='20170918', freq=None, col=None, index='date')\n",
    "\n",
    "    # print dfs[:1],len(dfs)\n",
    "    # groupd.agg({'low': 'min'})\n",
    "    #  idx mask filter \n",
    "    # h5a.write_hdf_db('all300', df, table='roll200', index=False,baseCount=500, append=False, MultiIndex=MultiIndex)\n",
    "    '''\n",
    "\n",
    "    df = df.reset_index().sort_values(by=['code', 'date'], ascending=[0, 1]).set_index(['code', 'date'])\n",
    "    print(\"use time:%s\" % (round(time.time() - time_s, 2)))\n",
    "    return df"
   ]
  },
  {
   "cell_type": "markdown",
   "id": "e0b21536-bc63-43bb-9f42-5dfd4d3c26a0",
   "metadata": {},
   "source": [
    "# 读取数据 TDX Days"
   ]
  },
  {
   "cell_type": "markdown",
   "id": "7680e959-d22a-43d3-a321-4356241a0f94",
   "metadata": {},
   "source": [
    "## resample = 'D'"
   ]
  },
  {
   "cell_type": "code",
   "execution_count": 49,
   "id": "0cfe46ed-834d-4d27-811c-e60d2c40175c",
   "metadata": {
    "ExecuteTime": {
     "end_time": "2023-08-22T12:13:47.705638Z",
     "start_time": "2023-08-22T12:13:24.135350Z"
    },
    "execution": {
     "iopub.execute_input": "2025-03-18T10:22:55.916281Z",
     "iopub.status.busy": "2025-03-18T10:22:55.915284Z",
     "iopub.status.idle": "2025-03-18T10:23:06.372311Z",
     "shell.execute_reply": "2025-03-18T10:23:06.372311Z",
     "shell.execute_reply.started": "2025-03-18T10:22:55.916281Z"
    },
    "tags": []
   },
   "outputs": [
    {
     "name": "stdout",
     "output_type": "stream",
     "text": [
      "all code: 4932\n",
      "0.6 (4932,) 002321 (331, 6)\n",
      "resample:D\n",
      "use time:10.43\n"
     ]
    }
   ],
   "source": [
    "# resample = 'W-FRI'\n",
    "resample = 'D'\n",
    "\n",
    "df = get_roll_mean_all(\n",
    "    single=False, tdx=True, app=True, duration=250, ma_250_l=1.02,\n",
    "    ma_250_h=1.2, resample=resample)\n",
    "\n",
    "\n",
    "# df= df.groupby(level=[0]).tail(1).reset_index().set_index('code')\n",
    "# df_cname = tdd.get_sina_datadf_cnamedf(df.index.tolist(), df)\n",
    "# df = df.reset_index().set_index(['code', 'date'])"
   ]
  },
  {
   "cell_type": "code",
   "execution_count": 50,
   "id": "cb0e3d9c-01b0-43a3-b7a7-0ae1b7ee82bf",
   "metadata": {
    "ExecuteTime": {
     "end_time": "2023-08-22T12:13:47.848290Z",
     "start_time": "2023-08-22T12:13:47.819335Z"
    },
    "execution": {
     "iopub.execute_input": "2025-03-18T10:23:06.373309Z",
     "iopub.status.busy": "2025-03-18T10:23:06.373309Z",
     "iopub.status.idle": "2025-03-18T10:23:06.404228Z",
     "shell.execute_reply": "2025-03-18T10:23:06.403229Z",
     "shell.execute_reply.started": "2025-03-18T10:23:06.373309Z"
    },
    "tags": []
   },
   "outputs": [
    {
     "data": {
      "text/html": [
       "<div>\n",
       "<style scoped>\n",
       "    .dataframe tbody tr th:only-of-type {\n",
       "        vertical-align: middle;\n",
       "    }\n",
       "\n",
       "    .dataframe tbody tr th {\n",
       "        vertical-align: top;\n",
       "    }\n",
       "\n",
       "    .dataframe thead th {\n",
       "        text-align: right;\n",
       "    }\n",
       "</style>\n",
       "<table border=\"1\" class=\"dataframe\">\n",
       "  <thead>\n",
       "    <tr style=\"text-align: right;\">\n",
       "      <th></th>\n",
       "      <th>open</th>\n",
       "      <th>high</th>\n",
       "      <th>low</th>\n",
       "      <th>close</th>\n",
       "      <th>vol</th>\n",
       "      <th>amount</th>\n",
       "    </tr>\n",
       "    <tr>\n",
       "      <th>date</th>\n",
       "      <th></th>\n",
       "      <th></th>\n",
       "      <th></th>\n",
       "      <th></th>\n",
       "      <th></th>\n",
       "      <th></th>\n",
       "    </tr>\n",
       "  </thead>\n",
       "  <tbody>\n",
       "    <tr>\n",
       "      <th>2025-03-18</th>\n",
       "      <td>7.57</td>\n",
       "      <td>7.59</td>\n",
       "      <td>7.49</td>\n",
       "      <td>7.53</td>\n",
       "      <td>89340809.0</td>\n",
       "      <td>6.725712e+08</td>\n",
       "    </tr>\n",
       "  </tbody>\n",
       "</table>\n",
       "</div>"
      ],
      "text/plain": [
       "            open  high   low  close         vol        amount\n",
       "date                                                         \n",
       "2025-03-18  7.57  7.59  7.49   7.53  89340809.0  6.725712e+08"
      ]
     },
     "execution_count": 50,
     "metadata": {},
     "output_type": "execute_result"
    }
   ],
   "source": [
    "# df.loc['399001'][-1:]\n",
    "df.loc['000002'][-1:]\n",
    "# df.groupby(level=[0]).tail(30).groupby(level=[0]).tail(2)\n",
    "# df.groupby(level=[0]).tail(30).groupby(level=[0]).head(1)"
   ]
  },
  {
   "cell_type": "markdown",
   "id": "be5589ce-81e5-40b0-9147-381f2cbedf46",
   "metadata": {},
   "source": [
    "### Test InStock"
   ]
  },
  {
   "cell_type": "code",
   "execution_count": 51,
   "id": "80337c9e-02dd-4ee0-9ef1-a2a4bc8407aa",
   "metadata": {
    "ExecuteTime": {
     "end_time": "2023-08-22T12:13:47.990875Z",
     "start_time": "2023-08-22T12:13:47.960956Z"
    },
    "execution": {
     "iopub.execute_input": "2025-03-18T10:23:06.405225Z",
     "iopub.status.busy": "2025-03-18T10:23:06.405225Z",
     "iopub.status.idle": "2025-03-18T10:23:06.418189Z",
     "shell.execute_reply": "2025-03-18T10:23:06.418189Z",
     "shell.execute_reply.started": "2025-03-18T10:23:06.405225Z"
    },
    "tags": []
   },
   "outputs": [
    {
     "data": {
      "text/html": [
       "<div>\n",
       "<style scoped>\n",
       "    .dataframe tbody tr th:only-of-type {\n",
       "        vertical-align: middle;\n",
       "    }\n",
       "\n",
       "    .dataframe tbody tr th {\n",
       "        vertical-align: top;\n",
       "    }\n",
       "\n",
       "    .dataframe thead th {\n",
       "        text-align: right;\n",
       "    }\n",
       "</style>\n",
       "<table border=\"1\" class=\"dataframe\">\n",
       "  <thead>\n",
       "    <tr style=\"text-align: right;\">\n",
       "      <th></th>\n",
       "      <th>open</th>\n",
       "      <th>high</th>\n",
       "      <th>low</th>\n",
       "      <th>close</th>\n",
       "      <th>vol</th>\n",
       "      <th>amount</th>\n",
       "    </tr>\n",
       "    <tr>\n",
       "      <th>date</th>\n",
       "      <th></th>\n",
       "      <th></th>\n",
       "      <th></th>\n",
       "      <th></th>\n",
       "      <th></th>\n",
       "      <th></th>\n",
       "    </tr>\n",
       "  </thead>\n",
       "  <tbody>\n",
       "    <tr>\n",
       "      <th>2023-11-02</th>\n",
       "      <td>15.78</td>\n",
       "      <td>16.22</td>\n",
       "      <td>15.50</td>\n",
       "      <td>15.5</td>\n",
       "      <td>1845500.0</td>\n",
       "      <td>29343732.0</td>\n",
       "    </tr>\n",
       "    <tr>\n",
       "      <th>2023-11-03</th>\n",
       "      <td>15.86</td>\n",
       "      <td>17.83</td>\n",
       "      <td>15.73</td>\n",
       "      <td>16.9</td>\n",
       "      <td>9484947.0</td>\n",
       "      <td>160420160.0</td>\n",
       "    </tr>\n",
       "  </tbody>\n",
       "</table>\n",
       "</div>"
      ],
      "text/plain": [
       "             open   high    low  close        vol       amount\n",
       "date                                                          \n",
       "2023-11-02  15.78  16.22  15.50   15.5  1845500.0   29343732.0\n",
       "2023-11-03  15.86  17.83  15.73   16.9  9484947.0  160420160.0"
      ]
     },
     "execution_count": 51,
     "metadata": {},
     "output_type": "execute_result"
    }
   ],
   "source": [
    "df.loc['301083'][:2]"
   ]
  },
  {
   "cell_type": "markdown",
   "id": "33ede7a0-93f4-40dc-a768-fc0dfea94b1b",
   "metadata": {},
   "source": [
    "## ra_diff"
   ]
  },
  {
   "cell_type": "code",
   "execution_count": 52,
   "id": "84a6eb98-576c-47f4-8c3f-10e4625a305d",
   "metadata": {
    "execution": {
     "iopub.execute_input": "2025-03-18T10:23:06.420184Z",
     "iopub.status.busy": "2025-03-18T10:23:06.419187Z",
     "iopub.status.idle": "2025-03-18T10:23:06.435145Z",
     "shell.execute_reply": "2025-03-18T10:23:06.434146Z",
     "shell.execute_reply.started": "2025-03-18T10:23:06.420184Z"
    }
   },
   "outputs": [],
   "source": [
    "tail_days = 60"
   ]
  },
  {
   "cell_type": "code",
   "execution_count": 53,
   "id": "4dc80046-6d59-46d1-8ab6-b37341c4d550",
   "metadata": {
    "ExecuteTime": {
     "end_time": "2023-08-22T12:14:08.456186Z",
     "start_time": "2023-08-22T12:14:00.860730Z"
    },
    "execution": {
     "iopub.execute_input": "2025-03-18T10:23:06.436142Z",
     "iopub.status.busy": "2025-03-18T10:23:06.436142Z",
     "iopub.status.idle": "2025-03-18T10:23:17.961344Z",
     "shell.execute_reply": "2025-03-18T10:23:17.960344Z",
     "shell.execute_reply.started": "2025-03-18T10:23:06.436142Z"
    },
    "tags": []
   },
   "outputs": [],
   "source": [
    "df = df.groupby(level=[0]).tail(tail_days).groupby(level=[0]).apply(ra_diff)\n"
   ]
  },
  {
   "cell_type": "code",
   "execution_count": 54,
   "id": "929f86ed-ed7d-46e8-959b-d77f89572e63",
   "metadata": {
    "ExecuteTime": {
     "end_time": "2023-08-22T12:14:08.595396Z",
     "start_time": "2023-08-22T12:14:08.582432Z"
    },
    "execution": {
     "iopub.execute_input": "2025-03-18T10:23:17.962342Z",
     "iopub.status.busy": "2025-03-18T10:23:17.962342Z",
     "iopub.status.idle": "2025-03-18T10:23:17.976306Z",
     "shell.execute_reply": "2025-03-18T10:23:17.976306Z",
     "shell.execute_reply.started": "2025-03-18T10:23:17.962342Z"
    },
    "tags": []
   },
   "outputs": [
    {
     "data": {
      "text/plain": [
       "(60, 7)"
      ]
     },
     "execution_count": 54,
     "metadata": {},
     "output_type": "execute_result"
    }
   ],
   "source": [
    "# df.loc['999999'][-3:]\n",
    "# df.loc['301073'].ra_diff[-3:]\n",
    "df.loc['300459'].shape"
   ]
  },
  {
   "cell_type": "markdown",
   "id": "4838667d-8232-4089-a857-906f2e0dd5ea",
   "metadata": {
    "tags": []
   },
   "source": [
    "## X df_regression_ratio outdate\n",
    "    df_idx_detect"
   ]
  },
  {
   "cell_type": "code",
   "execution_count": 55,
   "id": "a519fb4c-3860-4ea0-87e8-a8e9478b66a3",
   "metadata": {
    "ExecuteTime": {
     "end_time": "2023-08-22T12:14:08.736052Z",
     "start_time": "2023-08-22T12:14:08.722058Z"
    },
    "execution": {
     "iopub.execute_input": "2025-03-18T10:23:17.978302Z",
     "iopub.status.busy": "2025-03-18T10:23:17.978302Z",
     "iopub.status.idle": "2025-03-18T10:23:17.991300Z",
     "shell.execute_reply": "2025-03-18T10:23:17.991300Z",
     "shell.execute_reply.started": "2025-03-18T10:23:17.978302Z"
    },
    "tags": []
   },
   "outputs": [],
   "source": [
    "# df_reg_ratio = df.groupby(level=[0])['close'].apply(regression_ratio)\n",
    "# df_idx_detect = df.groupby(level=[0])['close'].apply(detect_bull_bear_apply)\n",
    "# show_ohlc_upper()\n",
    "# df[:10]"
   ]
  },
  {
   "cell_type": "code",
   "execution_count": 56,
   "id": "c391348e-00ba-429f-90c9-75be9156e5c4",
   "metadata": {
    "ExecuteTime": {
     "end_time": "2023-08-22T12:14:08.859723Z",
     "start_time": "2023-08-22T12:14:08.847722Z"
    },
    "execution": {
     "iopub.execute_input": "2025-03-18T10:23:17.992262Z",
     "iopub.status.busy": "2025-03-18T10:23:17.992262Z",
     "iopub.status.idle": "2025-03-18T10:23:18.006262Z",
     "shell.execute_reply": "2025-03-18T10:23:18.006262Z",
     "shell.execute_reply.started": "2025-03-18T10:23:17.992262Z"
    },
    "tags": []
   },
   "outputs": [],
   "source": [
    "# df_idx_detect.shape, df_idx_detect.loc['000002']\n",
    "# df.loc['000002'][-2:],df_reg_ratio.loc['000002']\n",
    "# df.loc['688798'][-3:]"
   ]
  },
  {
   "cell_type": "code",
   "execution_count": 57,
   "id": "ac692cd2-93b6-443b-a25e-05529ca35fe6",
   "metadata": {
    "ExecuteTime": {
     "end_time": "2023-08-22T12:14:09.000313Z",
     "start_time": "2023-08-22T12:14:08.985353Z"
    },
    "execution": {
     "iopub.execute_input": "2025-03-18T10:23:18.008219Z",
     "iopub.status.busy": "2025-03-18T10:23:18.008219Z",
     "iopub.status.idle": "2025-03-18T10:23:18.022183Z",
     "shell.execute_reply": "2025-03-18T10:23:18.022183Z",
     "shell.execute_reply.started": "2025-03-18T10:23:18.008219Z"
    },
    "tags": []
   },
   "outputs": [],
   "source": [
    "# df.loc['000002'][-10:]"
   ]
  },
  {
   "cell_type": "markdown",
   "id": "b1fc3781-1b2d-4f11-8468-9f27925186ed",
   "metadata": {
    "tags": []
   },
   "source": [
    "## sina_dm"
   ]
  },
  {
   "cell_type": "code",
   "execution_count": 58,
   "id": "5a035e03-9bbf-4f40-badb-0075eb6e78ae",
   "metadata": {
    "ExecuteTime": {
     "end_time": "2023-08-22T12:14:12.004252Z",
     "start_time": "2023-08-22T12:14:09.126976Z"
    },
    "execution": {
     "iopub.execute_input": "2025-03-18T10:23:18.023178Z",
     "iopub.status.busy": "2025-03-18T10:23:18.023178Z",
     "iopub.status.idle": "2025-03-18T10:23:18.253562Z",
     "shell.execute_reply": "2025-03-18T10:23:18.253562Z",
     "shell.execute_reply.started": "2025-03-18T10:23:18.023178Z"
    },
    "tags": []
   },
   "outputs": [
    {
     "data": {
      "text/plain": [
       "('2025-03-17',\n",
       " code\n",
       " 000921    海信家电\n",
       " Name: name, dtype: object)"
      ]
     },
     "execution_count": 58,
     "metadata": {},
     "output_type": "execute_result"
    }
   ],
   "source": [
    "sina_dm = sina_data.Sina().market('all')\n",
    "lastday = cct.last_tddate()\n",
    "lastday,sina_dm.name[:1]\n",
    "sina_dm = clean_sina_dm(sina_dm)"
   ]
  },
  {
   "cell_type": "code",
   "execution_count": 59,
   "id": "9adba7e6-b9bc-47c7-807b-2bcda000c8b2",
   "metadata": {
    "ExecuteTime": {
     "end_time": "2023-08-22T12:14:12.161448Z",
     "start_time": "2023-08-22T12:14:12.147485Z"
    },
    "execution": {
     "iopub.execute_input": "2025-03-18T10:23:18.254560Z",
     "iopub.status.busy": "2025-03-18T10:23:18.254560Z",
     "iopub.status.idle": "2025-03-18T10:23:18.269520Z",
     "shell.execute_reply": "2025-03-18T10:23:18.268523Z",
     "shell.execute_reply.started": "2025-03-18T10:23:18.254560Z"
    },
    "tags": []
   },
   "outputs": [
    {
     "data": {
      "text/plain": [
       "'2025-03/18/25 18:23:18'"
      ]
     },
     "execution_count": 59,
     "metadata": {},
     "output_type": "execute_result"
    },
    {
     "data": {
      "text/plain": [
       "code\n",
       "688530   2025-03-18 15:00:03\n",
       "603601   2025-03-18 15:00:01\n",
       "Name: ticktime, dtype: datetime64[ns]"
      ]
     },
     "execution_count": 59,
     "metadata": {},
     "output_type": "execute_result"
    },
    {
     "data": {
      "text/plain": [
       "203.28769236008327"
      ]
     },
     "execution_count": 59,
     "metadata": {},
     "output_type": "execute_result"
    }
   ],
   "source": [
    "cct.get_time_to_date(time.time(), format='%Y-%D %H:%M:%S')\n",
    "\n",
    "# abc=dm.loc[:,'ticktime'][-1]\n",
    "sina_dm.ticktime[-2:]\n",
    "# dm.ticktime[:1]\n",
    "# sina_dm.loc[:, 'ticktime'][-1]\n",
    "# time.strptime(abc,format='%Y-%m-%d %H:%M:%S')\n",
    "# (time.mktime(abc.timetuple()))\n",
    "(time.time() - time.mktime(sina_dm.loc[:, 'ticktime'][-1].timetuple())) / 60"
   ]
  },
  {
   "cell_type": "markdown",
   "id": "577820c4-8167-46e6-9dc6-1c2da90ae9d1",
   "metadata": {},
   "source": [
    "### Combine ratio and idx"
   ]
  },
  {
   "cell_type": "code",
   "execution_count": 60,
   "id": "568ea2ed-5f60-41ab-812f-c37776eb11c2",
   "metadata": {
    "execution": {
     "iopub.execute_input": "2025-03-18T10:23:18.270518Z",
     "iopub.status.busy": "2025-03-18T10:23:18.270518Z",
     "iopub.status.idle": "2025-03-18T10:23:18.283481Z",
     "shell.execute_reply": "2025-03-18T10:23:18.283481Z",
     "shell.execute_reply.started": "2025-03-18T10:23:18.270518Z"
    },
    "tags": []
   },
   "outputs": [],
   "source": [
    "# if 'date' in df.columns:\n",
    "#     print('error duplicated date col')\n",
    "#     if isinstance(df,pd.MultiIndex):\n",
    "#         df.drop('date', axis=1, inplace=True)\n",
    "# else:\n",
    "#     df = df.reset_index().set_index('code')\n",
    "#     df['idx'] = df_idx_detect\n",
    "#     df['xratio'] = df_reg_ratio\n",
    "#     df['name'] = sina_dm.name\n",
    "#     df = df.reset_index().set_index(['code', 'date'])"
   ]
  },
  {
   "cell_type": "markdown",
   "id": "2ee38227-e2fb-4bc5-8ce5-7c3b919cafe5",
   "metadata": {
    "execution": {
     "iopub.execute_input": "2023-02-20T12:29:54.721088Z",
     "iopub.status.busy": "2023-02-20T12:29:54.721088Z",
     "iopub.status.idle": "2023-02-20T12:29:54.740387Z",
     "shell.execute_reply": "2023-02-20T12:29:54.737397Z",
     "shell.execute_reply.started": "2023-02-20T12:29:54.721088Z"
    },
    "tags": []
   },
   "source": [
    "## 读取实时成交量数据"
   ]
  },
  {
   "cell_type": "code",
   "execution_count": 61,
   "id": "a221fc48-79c5-42eb-90b2-d81e650bbdd1",
   "metadata": {
    "ExecuteTime": {
     "end_time": "2023-08-22T12:14:12.320058Z",
     "start_time": "2023-08-22T12:14:12.309090Z"
    },
    "execution": {
     "iopub.execute_input": "2025-03-18T10:23:18.285477Z",
     "iopub.status.busy": "2025-03-18T10:23:18.284479Z",
     "iopub.status.idle": "2025-03-18T10:23:18.299440Z",
     "shell.execute_reply": "2025-03-18T10:23:18.298442Z",
     "shell.execute_reply.started": "2025-03-18T10:23:18.285477Z"
    },
    "tags": []
   },
   "outputs": [],
   "source": [
    "def apply_col_toint(df, col=None):\n",
    "    if col is None:\n",
    "        co2int = ['boll', 'op', 'ratio', 'fib', 'fibl', 'df2']\n",
    "    # co2int.extend([co for co in df.columns.tolist()\n",
    "    #                if co.startswith('perc') and co.endswith('d')])\n",
    "        co2int.extend(['top10', 'topR'])\n",
    "    else:\n",
    "        co2int = col\n",
    "    co2int = [inx for inx in co2int if inx in df.columns]\n",
    "\n",
    "    for co in co2int:\n",
    "        df[co] = df[co].astype(int)\n",
    "\n",
    "    return df\n",
    "\n",
    "def readHdf5(fpath, root=None):\n",
    "    store = pd.HDFStore(fpath, \"r\")\n",
    "    print(store.keys())\n",
    "    if root is None:\n",
    "        root = store.keys()[0].replace(\"/\", \"\")\n",
    "    df = store[root]\n",
    "    df = apply_col_toint(df)\n",
    "    store.close()\n",
    "    return df"
   ]
  },
  {
   "cell_type": "code",
   "execution_count": 62,
   "id": "52edc75e-7bf9-461d-8870-e983ce685b99",
   "metadata": {
    "ExecuteTime": {
     "end_time": "2023-08-22T12:14:14.950744Z",
     "start_time": "2023-08-22T12:14:12.461646Z"
    },
    "execution": {
     "iopub.execute_input": "2025-03-18T10:23:18.304427Z",
     "iopub.status.busy": "2025-03-18T10:23:18.304427Z",
     "iopub.status.idle": "2025-03-18T10:23:20.437760Z",
     "shell.execute_reply": "2025-03-18T10:23:20.437760Z",
     "shell.execute_reply.started": "2025-03-18T10:23:18.304427Z"
    },
    "tags": []
   },
   "outputs": [
    {
     "name": "stdout",
     "output_type": "stream",
     "text": [
      "['/all_20']\n",
      "G:\\sina_MultiIndex_data.h5\n"
     ]
    },
    {
     "data": {
      "text/plain": [
       "(1251966, 6)"
      ]
     },
     "execution_count": 62,
     "metadata": {},
     "output_type": "execute_result"
    },
    {
     "data": {
      "text/html": [
       "<div>\n",
       "<style scoped>\n",
       "    .dataframe tbody tr th:only-of-type {\n",
       "        vertical-align: middle;\n",
       "    }\n",
       "\n",
       "    .dataframe tbody tr th {\n",
       "        vertical-align: top;\n",
       "    }\n",
       "\n",
       "    .dataframe thead th {\n",
       "        text-align: right;\n",
       "    }\n",
       "</style>\n",
       "<table border=\"1\" class=\"dataframe\">\n",
       "  <thead>\n",
       "    <tr style=\"text-align: right;\">\n",
       "      <th></th>\n",
       "      <th>close</th>\n",
       "      <th>high</th>\n",
       "      <th>low</th>\n",
       "      <th>llastp</th>\n",
       "      <th>volume</th>\n",
       "      <th>lastbuy</th>\n",
       "    </tr>\n",
       "    <tr>\n",
       "      <th>ticktime</th>\n",
       "      <th></th>\n",
       "      <th></th>\n",
       "      <th></th>\n",
       "      <th></th>\n",
       "      <th></th>\n",
       "      <th></th>\n",
       "    </tr>\n",
       "  </thead>\n",
       "  <tbody>\n",
       "    <tr>\n",
       "      <th>2025-03-18 14:58:59</th>\n",
       "      <td>71.44</td>\n",
       "      <td>72.18</td>\n",
       "      <td>71.2</td>\n",
       "      <td>71.31</td>\n",
       "      <td>22527411</td>\n",
       "      <td>71.46</td>\n",
       "    </tr>\n",
       "    <tr>\n",
       "      <th>2025-03-18 14:59:35</th>\n",
       "      <td>71.44</td>\n",
       "      <td>72.18</td>\n",
       "      <td>71.2</td>\n",
       "      <td>71.31</td>\n",
       "      <td>22527411</td>\n",
       "      <td>71.46</td>\n",
       "    </tr>\n",
       "    <tr>\n",
       "      <th>2025-03-18 15:00:01</th>\n",
       "      <td>71.44</td>\n",
       "      <td>72.18</td>\n",
       "      <td>71.2</td>\n",
       "      <td>71.31</td>\n",
       "      <td>22900832</td>\n",
       "      <td>71.46</td>\n",
       "    </tr>\n",
       "  </tbody>\n",
       "</table>\n",
       "</div>"
      ],
      "text/plain": [
       "                     close   high   low  llastp    volume  lastbuy\n",
       "ticktime                                                          \n",
       "2025-03-18 14:58:59  71.44  72.18  71.2   71.31  22527411    71.46\n",
       "2025-03-18 14:59:35  71.44  72.18  71.2   71.31  22527411    71.46\n",
       "2025-03-18 15:00:01  71.44  72.18  71.2   71.31  22900832    71.46"
      ]
     },
     "execution_count": 62,
     "metadata": {},
     "output_type": "execute_result"
    },
    {
     "data": {
      "text/plain": [
       "1.0"
      ]
     },
     "execution_count": 62,
     "metadata": {},
     "output_type": "execute_result"
    },
    {
     "name": "stdout",
     "output_type": "stream",
     "text": [
      "总量:10788.1 亿\n"
     ]
    },
    {
     "data": {
      "text/plain": [
       "ticktime    2025-03-19 00:00:00\n",
       "close                 71.406378\n",
       "volume                     0.15\n",
       "vol                        22.9\n",
       "amount                    16.35\n",
       "Name: 603019, dtype: object"
      ]
     },
     "execution_count": 62,
     "metadata": {},
     "output_type": "execute_result"
    }
   ],
   "source": [
    "# tdx_path = \"G:\\\\tdx_last_df.h5\"\n",
    "# from JohnsonUtil import commonTips as cct\n",
    "sina_MultiD_path = \"G:\\\\sina_MultiIndex_data.h5\"\n",
    "h5 = readHdf5(sina_MultiD_path)\n",
    "print(sina_MultiD_path)\n",
    "h5.shape\n",
    "h5code='603019'\n",
    "h5.loc[h5code][-3:]\n",
    "code_muti = '603019'\n",
    "# h5.loc[code_muti][:2]\n",
    "\n",
    "freq = 'D'\n",
    "# freq = '5M'\n",
    "startime = '09:25:00'\n",
    "endtime = '15:01:00'\n",
    "\n",
    "time_ratio = cct.get_work_time_ratio()\n",
    "time_ratio\n",
    "run_col = ['close', 'volume']\n",
    "# run_col = ['close']\n",
    "mdf = cct.get_limit_multiIndex_freq(\n",
    "    h5, freq=freq.upper(),\n",
    "    col=run_col, start=startime, end=endtime, code=None)\n",
    "allvol = mdf.volume.sum()\n",
    "allvol = round(allvol / 10 / 1000 / 1000,2)\n",
    "print(\"总量:%s 亿\"%(allvol))\n",
    "mdf['vol']=mdf['volume'].apply(lambda x: round(x /1000/1000,2)) \n",
    "mdf['amount']=(mdf.volume * mdf.close).map(lambda x: round(x/100/1000/1000, 2))\n",
    "#全局占比\n",
    "mdf['volume'] = mdf.amount.apply(\n",
    "    lambda x: round(x / allvol * 100 / time_ratio, 2))\n",
    "mdf=mdf.reset_index().set_index('code')\n",
    "mdf.loc[h5code]"
   ]
  },
  {
   "cell_type": "code",
   "execution_count": 63,
   "id": "854ef1e5-f158-41f2-905c-799c635d9804",
   "metadata": {
    "execution": {
     "iopub.execute_input": "2025-03-18T10:23:20.438717Z",
     "iopub.status.busy": "2025-03-18T10:23:20.438717Z",
     "iopub.status.idle": "2025-03-18T10:23:20.452707Z",
     "shell.execute_reply": "2025-03-18T10:23:20.452707Z",
     "shell.execute_reply.started": "2025-03-18T10:23:20.438717Z"
    },
    "tags": []
   },
   "outputs": [
    {
     "data": {
      "text/html": [
       "<div>\n",
       "<style scoped>\n",
       "    .dataframe tbody tr th:only-of-type {\n",
       "        vertical-align: middle;\n",
       "    }\n",
       "\n",
       "    .dataframe tbody tr th {\n",
       "        vertical-align: top;\n",
       "    }\n",
       "\n",
       "    .dataframe thead th {\n",
       "        text-align: right;\n",
       "    }\n",
       "</style>\n",
       "<table border=\"1\" class=\"dataframe\">\n",
       "  <thead>\n",
       "    <tr style=\"text-align: right;\">\n",
       "      <th></th>\n",
       "      <th>ticktime</th>\n",
       "      <th>close</th>\n",
       "      <th>volume</th>\n",
       "      <th>vol</th>\n",
       "      <th>amount</th>\n",
       "    </tr>\n",
       "    <tr>\n",
       "      <th>code</th>\n",
       "      <th></th>\n",
       "      <th></th>\n",
       "      <th></th>\n",
       "      <th></th>\n",
       "      <th></th>\n",
       "    </tr>\n",
       "  </thead>\n",
       "  <tbody>\n",
       "    <tr>\n",
       "      <th>000001</th>\n",
       "      <td>2025-03-19</td>\n",
       "      <td>11.491693</td>\n",
       "      <td>0.17</td>\n",
       "      <td>160.53</td>\n",
       "      <td>18.45</td>\n",
       "    </tr>\n",
       "    <tr>\n",
       "      <th>000002</th>\n",
       "      <td>2025-03-19</td>\n",
       "      <td>7.525866</td>\n",
       "      <td>0.06</td>\n",
       "      <td>89.34</td>\n",
       "      <td>6.72</td>\n",
       "    </tr>\n",
       "  </tbody>\n",
       "</table>\n",
       "</div>"
      ],
      "text/plain": [
       "         ticktime      close  volume     vol  amount\n",
       "code                                                \n",
       "000001 2025-03-19  11.491693    0.17  160.53   18.45\n",
       "000002 2025-03-19   7.525866    0.06   89.34    6.72"
      ]
     },
     "execution_count": 63,
     "metadata": {},
     "output_type": "execute_result"
    },
    {
     "data": {
      "text/plain": [
       "ticktime    2025-03-19 00:00:00\n",
       "close                 71.406378\n",
       "volume                     0.15\n",
       "vol                        22.9\n",
       "amount                    16.35\n",
       "Name: 603019, dtype: object"
      ]
     },
     "execution_count": 63,
     "metadata": {},
     "output_type": "execute_result"
    }
   ],
   "source": [
    "mdf[:2]\n",
    "mdf.loc['603019']"
   ]
  },
  {
   "cell_type": "code",
   "execution_count": 64,
   "id": "f1713810-5801-4c87-89af-25cf8d18b513",
   "metadata": {
    "execution": {
     "iopub.execute_input": "2025-03-18T10:23:20.453678Z",
     "iopub.status.busy": "2025-03-18T10:23:20.453678Z",
     "iopub.status.idle": "2025-03-18T10:23:20.468640Z",
     "shell.execute_reply": "2025-03-18T10:23:20.468640Z",
     "shell.execute_reply.started": "2025-03-18T10:23:20.453678Z"
    },
    "tags": []
   },
   "outputs": [
    {
     "data": {
      "text/plain": [
       "'2025-03-18'"
      ]
     },
     "execution_count": 64,
     "metadata": {},
     "output_type": "execute_result"
    }
   ],
   "source": [
    "# h5.index.get_level_values('code')[0]\n",
    "# help(h5.index.get_level_values)\n",
    "str(h5.index.get_level_values(1)[-1])[:10]"
   ]
  },
  {
   "cell_type": "code",
   "execution_count": 65,
   "id": "3a7f162d-d31e-482e-9b58-5a157d10db70",
   "metadata": {
    "ExecuteTime": {
     "end_time": "2023-08-22T12:14:17.731161Z",
     "start_time": "2023-08-22T12:14:17.715204Z"
    },
    "execution": {
     "iopub.execute_input": "2025-03-18T10:23:20.470632Z",
     "iopub.status.busy": "2025-03-18T10:23:20.470632Z",
     "iopub.status.idle": "2025-03-18T10:23:20.484596Z",
     "shell.execute_reply": "2025-03-18T10:23:20.483597Z",
     "shell.execute_reply.started": "2025-03-18T10:23:20.470632Z"
    },
    "tags": []
   },
   "outputs": [
    {
     "data": {
      "text/plain": [
       "ticktime    2025-03-19 00:00:00\n",
       "close                  7.525866\n",
       "volume                     0.06\n",
       "vol                       89.34\n",
       "amount                     6.72\n",
       "Name: 000002, dtype: object"
      ]
     },
     "execution_count": 65,
     "metadata": {},
     "output_type": "execute_result"
    }
   ],
   "source": [
    "if len(mdf) > 0:\n",
    "    mdf.loc['000002']\n",
    "else:\n",
    "    print(\"mdf is None\")"
   ]
  },
  {
   "cell_type": "markdown",
   "id": "22ce1d02-b9e1-458c-97cc-28e8c832c7d1",
   "metadata": {},
   "source": [
    "###  实时成交量个股Top!!!"
   ]
  },
  {
   "cell_type": "code",
   "execution_count": 66,
   "id": "49abe975-3445-4e76-8167-237fee362b23",
   "metadata": {
    "ExecuteTime": {
     "end_time": "2023-08-22T12:14:19.322644Z",
     "start_time": "2023-08-22T12:14:19.310676Z"
    },
    "execution": {
     "iopub.execute_input": "2025-03-18T10:23:20.486589Z",
     "iopub.status.busy": "2025-03-18T10:23:20.485593Z",
     "iopub.status.idle": "2025-03-18T10:23:20.514516Z",
     "shell.execute_reply": "2025-03-18T10:23:20.513555Z",
     "shell.execute_reply.started": "2025-03-18T10:23:20.486589Z"
    },
    "tags": []
   },
   "outputs": [],
   "source": [
    "nowdf = mdf.sort_values(by=['volume'], ascending=[0])\n",
    "# nowdf.shape, df.shape, code_idx.shape\n",
    "# top20_nd = nowdf.reset_index().loc[:, ['code', 'volume']][:20]\n",
    "top20_nd = nowdf.reset_index().loc[:, ['code', 'volume']][:20]\n",
    "top20_nd=get_sina_data_cname(top20_nd)"
   ]
  },
  {
   "cell_type": "code",
   "execution_count": 67,
   "id": "c10ac524-3cf9-49ae-9d55-242150e0793d",
   "metadata": {
    "ExecuteTime": {
     "end_time": "2023-08-22T12:15:48.877932Z",
     "start_time": "2023-08-22T12:15:48.860976Z"
    },
    "execution": {
     "iopub.execute_input": "2025-03-18T10:23:20.514516Z",
     "iopub.status.busy": "2025-03-18T10:23:20.514516Z",
     "iopub.status.idle": "2025-03-18T10:23:20.529475Z",
     "shell.execute_reply": "2025-03-18T10:23:20.528514Z",
     "shell.execute_reply.started": "2025-03-18T10:23:20.514516Z"
    },
    "tags": []
   },
   "outputs": [
    {
     "data": {
      "text/plain": [
       "((4925, 5),\n",
       "         volume  name\n",
       " code                \n",
       " 002195    0.67  岩山科技\n",
       " 603259    0.64  药明康德\n",
       " 300502    0.64   新易盛\n",
       " 300308    0.64  中际旭创\n",
       " 002594    0.62   比亚迪\n",
       " 300059    0.60  东方财富\n",
       " 300476    0.59  胜宏科技\n",
       " 300750    0.54  宁德时代\n",
       " 000333    0.53  美的集团\n",
       " 600797    0.49  浙大网新\n",
       " 600519    0.48  贵州茅台\n",
       " 600839    0.47  四川长虹\n",
       " 300339    0.47  润和软件\n",
       " 002236    0.46  大华股份\n",
       " 000158    0.46  常山北明\n",
       " 002276    0.45  万马股份\n",
       " 300065    0.44   海兰信\n",
       " 601899    0.42  紫金矿业\n",
       " 300353    0.41  东土科技\n",
       " 002261    0.41  拓维信息)"
      ]
     },
     "execution_count": 67,
     "metadata": {},
     "output_type": "execute_result"
    }
   ],
   "source": [
    "nowdf.shape,top20_nd"
   ]
  },
  {
   "cell_type": "code",
   "execution_count": 68,
   "id": "c5cbdc34-3981-4c12-939c-51d9adb0b545",
   "metadata": {
    "execution": {
     "iopub.execute_input": "2025-03-18T10:23:20.529475Z",
     "iopub.status.busy": "2025-03-18T10:23:20.529475Z",
     "iopub.status.idle": "2025-03-18T10:23:20.544434Z",
     "shell.execute_reply": "2025-03-18T10:23:20.543476Z",
     "shell.execute_reply.started": "2025-03-18T10:23:20.529475Z"
    },
    "tags": []
   },
   "outputs": [],
   "source": [
    "# show_tdx_data(top20_nd)\n",
    "# top20_nd.columns"
   ]
  },
  {
   "cell_type": "markdown",
   "id": "2baa3f76-dff6-4ae3-82f4-7c74ec49a318",
   "metadata": {},
   "source": [
    "### 合并实时成交量及SinaDM"
   ]
  },
  {
   "cell_type": "code",
   "execution_count": 69,
   "id": "1d6fac61-b687-41bb-b039-cd3324d451fc",
   "metadata": {
    "execution": {
     "iopub.execute_input": "2025-03-18T10:23:23.619757Z",
     "iopub.status.busy": "2025-03-18T10:23:23.618761Z",
     "iopub.status.idle": "2025-03-18T10:23:23.634756Z",
     "shell.execute_reply": "2025-03-18T10:23:23.634756Z",
     "shell.execute_reply.started": "2025-03-18T10:23:23.619757Z"
    },
    "tags": []
   },
   "outputs": [],
   "source": [
    "from JSONData import tdx_hdf5_api as h5a\n",
    "def get_tdx_all_from_h5(resample='d',showtable=True):\n",
    "    #sina_monitor\n",
    "    h5_fname = 'tdx_last_df'\n",
    "    resample=resample\n",
    "    if resample=='d':\n",
    "        dl='80'\n",
    "    else:\n",
    "        dl='200'\n",
    "    filter='y'\n",
    "    h5_table = 'low' + '_' + resample + '_' + str(dl) + '_' + filter + '_' + 'all'\n",
    "    h5 = h5a.load_hdf_db(h5_fname, table=h5_table,code_l=None, timelimit=False,showtable=showtable)\n",
    "    return h5\n"
   ]
  },
  {
   "cell_type": "code",
   "execution_count": 78,
   "id": "50a932a4-dad4-4a65-adcf-fca81c17c4f5",
   "metadata": {
    "ExecuteTime": {
     "end_time": "2023-08-22T12:16:27.262393Z",
     "start_time": "2023-08-22T12:16:27.126724Z"
    },
    "execution": {
     "iopub.execute_input": "2025-03-18T10:25:20.852922Z",
     "iopub.status.busy": "2025-03-18T10:25:20.852922Z",
     "iopub.status.idle": "2025-03-18T10:25:20.895806Z",
     "shell.execute_reply": "2025-03-18T10:25:20.895806Z",
     "shell.execute_reply.started": "2025-03-18T10:25:20.852922Z"
    },
    "tags": []
   },
   "outputs": [],
   "source": [
    "# mdf[:1]\n",
    "sinadm = cct.combine_dataFrame(sina_dm, mdf[['vol','amount']])\n",
    "sinadm['percent']=((sinadm['close']-sinadm['llastp'])/(sinadm['llastp'])*100).round(1)"
   ]
  },
  {
   "cell_type": "code",
   "execution_count": 79,
   "id": "911903c6-1fb6-40ad-a964-84d14010817f",
   "metadata": {
    "execution": {
     "iopub.execute_input": "2025-03-18T10:25:23.167579Z",
     "iopub.status.busy": "2025-03-18T10:25:23.166581Z",
     "iopub.status.idle": "2025-03-18T10:25:23.941393Z",
     "shell.execute_reply": "2025-03-18T10:25:23.940548Z",
     "shell.execute_reply.started": "2025-03-18T10:25:23.167579Z"
    }
   },
   "outputs": [
    {
     "name": "stdout",
     "output_type": "stream",
     "text": [
      "keys:['/low_d_80_y_all', '/low_w_200_y_all']\n"
     ]
    }
   ],
   "source": [
    "h5tdx = get_tdx_all_from_h5(resample='w')\n",
    "tdx_now_w = cct.combine_dataFrame(h5tdx,sinadm)"
   ]
  },
  {
   "cell_type": "code",
   "execution_count": 84,
   "id": "f447d366-b389-4516-ad0d-9bd0cdec4927",
   "metadata": {
    "execution": {
     "iopub.execute_input": "2025-03-18T10:29:25.085963Z",
     "iopub.status.busy": "2025-03-18T10:29:25.085963Z",
     "iopub.status.idle": "2025-03-18T10:29:25.133833Z",
     "shell.execute_reply": "2025-03-18T10:29:25.133833Z",
     "shell.execute_reply.started": "2025-03-18T10:29:25.085963Z"
    },
    "tags": []
   },
   "outputs": [
    {
     "data": {
      "text/html": [
       "<div>\n",
       "<style scoped>\n",
       "    .dataframe tbody tr th:only-of-type {\n",
       "        vertical-align: middle;\n",
       "    }\n",
       "\n",
       "    .dataframe tbody tr th {\n",
       "        vertical-align: top;\n",
       "    }\n",
       "\n",
       "    .dataframe thead th {\n",
       "        text-align: right;\n",
       "    }\n",
       "</style>\n",
       "<table border=\"1\" class=\"dataframe\">\n",
       "  <thead>\n",
       "    <tr style=\"text-align: right;\">\n",
       "      <th></th>\n",
       "      <th>lopen</th>\n",
       "      <th>lhigh</th>\n",
       "      <th>llow</th>\n",
       "      <th>lastp</th>\n",
       "      <th>lvol</th>\n",
       "      <th>lamount</th>\n",
       "      <th>ma5d</th>\n",
       "      <th>ma10d</th>\n",
       "      <th>ma20d</th>\n",
       "      <th>ma60d</th>\n",
       "      <th>...</th>\n",
       "      <th>b1_vv</th>\n",
       "      <th>close</th>\n",
       "      <th>nvol</th>\n",
       "      <th>lastbuy</th>\n",
       "      <th>nlow</th>\n",
       "      <th>nhigh</th>\n",
       "      <th>nclose</th>\n",
       "      <th>vol</th>\n",
       "      <th>amount</th>\n",
       "      <th>percent</th>\n",
       "    </tr>\n",
       "    <tr>\n",
       "      <th>code</th>\n",
       "      <th></th>\n",
       "      <th></th>\n",
       "      <th></th>\n",
       "      <th></th>\n",
       "      <th></th>\n",
       "      <th></th>\n",
       "      <th></th>\n",
       "      <th></th>\n",
       "      <th></th>\n",
       "      <th></th>\n",
       "      <th></th>\n",
       "      <th></th>\n",
       "      <th></th>\n",
       "      <th></th>\n",
       "      <th></th>\n",
       "      <th></th>\n",
       "      <th></th>\n",
       "      <th></th>\n",
       "      <th></th>\n",
       "      <th></th>\n",
       "      <th></th>\n",
       "    </tr>\n",
       "  </thead>\n",
       "  <tbody>\n",
       "    <tr>\n",
       "      <th>603182</th>\n",
       "      <td>10.06</td>\n",
       "      <td>10.16</td>\n",
       "      <td>9.81</td>\n",
       "      <td>9.92</td>\n",
       "      <td>6476481.0</td>\n",
       "      <td>7.900214e+07</td>\n",
       "      <td>12.07</td>\n",
       "      <td>11.90</td>\n",
       "      <td>11.87</td>\n",
       "      <td>0.0</td>\n",
       "      <td>...</td>\n",
       "      <td>7900.0</td>\n",
       "      <td>12.60</td>\n",
       "      <td>1666126.0</td>\n",
       "      <td>12.60</td>\n",
       "      <td>12.50</td>\n",
       "      <td>12.79</td>\n",
       "      <td>12.564845</td>\n",
       "      <td>1.67</td>\n",
       "      <td>0.21</td>\n",
       "      <td>-1.6</td>\n",
       "    </tr>\n",
       "    <tr>\n",
       "      <th>301202</th>\n",
       "      <td>26.15</td>\n",
       "      <td>26.38</td>\n",
       "      <td>23.80</td>\n",
       "      <td>24.01</td>\n",
       "      <td>39057216.0</td>\n",
       "      <td>1.475399e+09</td>\n",
       "      <td>36.04</td>\n",
       "      <td>35.02</td>\n",
       "      <td>30.51</td>\n",
       "      <td>0.0</td>\n",
       "      <td>...</td>\n",
       "      <td>10100.0</td>\n",
       "      <td>51.06</td>\n",
       "      <td>5147500.0</td>\n",
       "      <td>51.06</td>\n",
       "      <td>50.26</td>\n",
       "      <td>51.87</td>\n",
       "      <td>50.803537</td>\n",
       "      <td>5.15</td>\n",
       "      <td>2.62</td>\n",
       "      <td>0.8</td>\n",
       "    </tr>\n",
       "    <tr>\n",
       "      <th>603065</th>\n",
       "      <td>7.06</td>\n",
       "      <td>7.30</td>\n",
       "      <td>6.85</td>\n",
       "      <td>6.94</td>\n",
       "      <td>27968254.0</td>\n",
       "      <td>2.211486e+08</td>\n",
       "      <td>7.73</td>\n",
       "      <td>7.53</td>\n",
       "      <td>7.88</td>\n",
       "      <td>0.0</td>\n",
       "      <td>...</td>\n",
       "      <td>14282.0</td>\n",
       "      <td>7.98</td>\n",
       "      <td>2789199.0</td>\n",
       "      <td>7.98</td>\n",
       "      <td>7.88</td>\n",
       "      <td>7.99</td>\n",
       "      <td>7.945824</td>\n",
       "      <td>2.79</td>\n",
       "      <td>0.22</td>\n",
       "      <td>0.8</td>\n",
       "    </tr>\n",
       "    <tr>\n",
       "      <th>301309</th>\n",
       "      <td>21.05</td>\n",
       "      <td>21.20</td>\n",
       "      <td>20.30</td>\n",
       "      <td>20.30</td>\n",
       "      <td>4803578.0</td>\n",
       "      <td>1.269897e+08</td>\n",
       "      <td>25.83</td>\n",
       "      <td>25.07</td>\n",
       "      <td>25.28</td>\n",
       "      <td>0.0</td>\n",
       "      <td>...</td>\n",
       "      <td>23271.0</td>\n",
       "      <td>28.20</td>\n",
       "      <td>3240157.0</td>\n",
       "      <td>28.20</td>\n",
       "      <td>27.01</td>\n",
       "      <td>28.43</td>\n",
       "      <td>27.976379</td>\n",
       "      <td>3.24</td>\n",
       "      <td>0.91</td>\n",
       "      <td>3.8</td>\n",
       "    </tr>\n",
       "    <tr>\n",
       "      <th>301322</th>\n",
       "      <td>18.14</td>\n",
       "      <td>18.57</td>\n",
       "      <td>16.77</td>\n",
       "      <td>16.80</td>\n",
       "      <td>7024803.0</td>\n",
       "      <td>1.644521e+08</td>\n",
       "      <td>23.09</td>\n",
       "      <td>22.57</td>\n",
       "      <td>23.53</td>\n",
       "      <td>0.0</td>\n",
       "      <td>...</td>\n",
       "      <td>1660.0</td>\n",
       "      <td>27.56</td>\n",
       "      <td>6092348.0</td>\n",
       "      <td>27.56</td>\n",
       "      <td>26.52</td>\n",
       "      <td>28.20</td>\n",
       "      <td>27.526341</td>\n",
       "      <td>6.09</td>\n",
       "      <td>1.68</td>\n",
       "      <td>0.1</td>\n",
       "    </tr>\n",
       "    <tr>\n",
       "      <th>...</th>\n",
       "      <td>...</td>\n",
       "      <td>...</td>\n",
       "      <td>...</td>\n",
       "      <td>...</td>\n",
       "      <td>...</td>\n",
       "      <td>...</td>\n",
       "      <td>...</td>\n",
       "      <td>...</td>\n",
       "      <td>...</td>\n",
       "      <td>...</td>\n",
       "      <td>...</td>\n",
       "      <td>...</td>\n",
       "      <td>...</td>\n",
       "      <td>...</td>\n",
       "      <td>...</td>\n",
       "      <td>...</td>\n",
       "      <td>...</td>\n",
       "      <td>...</td>\n",
       "      <td>...</td>\n",
       "      <td>...</td>\n",
       "      <td>...</td>\n",
       "    </tr>\n",
       "    <tr>\n",
       "      <th>603998</th>\n",
       "      <td>9.42</td>\n",
       "      <td>9.45</td>\n",
       "      <td>9.09</td>\n",
       "      <td>9.10</td>\n",
       "      <td>72942387.0</td>\n",
       "      <td>6.980185e+08</td>\n",
       "      <td>9.33</td>\n",
       "      <td>9.39</td>\n",
       "      <td>10.64</td>\n",
       "      <td>0.0</td>\n",
       "      <td>...</td>\n",
       "      <td>123400.0</td>\n",
       "      <td>10.04</td>\n",
       "      <td>16405265.0</td>\n",
       "      <td>10.04</td>\n",
       "      <td>10.03</td>\n",
       "      <td>10.32</td>\n",
       "      <td>10.072927</td>\n",
       "      <td>16.41</td>\n",
       "      <td>1.65</td>\n",
       "      <td>-0.4</td>\n",
       "    </tr>\n",
       "    <tr>\n",
       "      <th>301120</th>\n",
       "      <td>7.76</td>\n",
       "      <td>8.27</td>\n",
       "      <td>7.61</td>\n",
       "      <td>7.61</td>\n",
       "      <td>111316945.0</td>\n",
       "      <td>1.126466e+09</td>\n",
       "      <td>9.28</td>\n",
       "      <td>8.94</td>\n",
       "      <td>9.28</td>\n",
       "      <td>0.0</td>\n",
       "      <td>...</td>\n",
       "      <td>54300.0</td>\n",
       "      <td>10.17</td>\n",
       "      <td>11491550.0</td>\n",
       "      <td>10.17</td>\n",
       "      <td>10.08</td>\n",
       "      <td>10.43</td>\n",
       "      <td>10.176538</td>\n",
       "      <td>11.49</td>\n",
       "      <td>1.17</td>\n",
       "      <td>1.1</td>\n",
       "    </tr>\n",
       "    <tr>\n",
       "      <th>688259</th>\n",
       "      <td>27.39</td>\n",
       "      <td>28.39</td>\n",
       "      <td>25.17</td>\n",
       "      <td>26.09</td>\n",
       "      <td>16818568.0</td>\n",
       "      <td>7.180908e+08</td>\n",
       "      <td>40.41</td>\n",
       "      <td>38.06</td>\n",
       "      <td>37.81</td>\n",
       "      <td>0.0</td>\n",
       "      <td>...</td>\n",
       "      <td>10850.0</td>\n",
       "      <td>45.80</td>\n",
       "      <td>10280732.0</td>\n",
       "      <td>45.80</td>\n",
       "      <td>43.45</td>\n",
       "      <td>48.00</td>\n",
       "      <td>46.182348</td>\n",
       "      <td>10.28</td>\n",
       "      <td>4.75</td>\n",
       "      <td>6.8</td>\n",
       "    </tr>\n",
       "    <tr>\n",
       "      <th>600610</th>\n",
       "      <td>3.48</td>\n",
       "      <td>3.58</td>\n",
       "      <td>3.35</td>\n",
       "      <td>3.36</td>\n",
       "      <td>449744873.0</td>\n",
       "      <td>2.287788e+09</td>\n",
       "      <td>4.35</td>\n",
       "      <td>4.24</td>\n",
       "      <td>4.59</td>\n",
       "      <td>0.0</td>\n",
       "      <td>...</td>\n",
       "      <td>10906030.0</td>\n",
       "      <td>6.57</td>\n",
       "      <td>33030170.0</td>\n",
       "      <td>6.57</td>\n",
       "      <td>6.40</td>\n",
       "      <td>6.57</td>\n",
       "      <td>6.570000</td>\n",
       "      <td>33.03</td>\n",
       "      <td>2.17</td>\n",
       "      <td>10.1</td>\n",
       "    </tr>\n",
       "    <tr>\n",
       "      <th>603028</th>\n",
       "      <td>5.45</td>\n",
       "      <td>5.60</td>\n",
       "      <td>5.00</td>\n",
       "      <td>5.26</td>\n",
       "      <td>27073329.0</td>\n",
       "      <td>1.753606e+08</td>\n",
       "      <td>6.38</td>\n",
       "      <td>6.17</td>\n",
       "      <td>6.53</td>\n",
       "      <td>0.0</td>\n",
       "      <td>...</td>\n",
       "      <td>25390.0</td>\n",
       "      <td>6.92</td>\n",
       "      <td>17105815.0</td>\n",
       "      <td>6.92</td>\n",
       "      <td>6.74</td>\n",
       "      <td>7.22</td>\n",
       "      <td>6.964612</td>\n",
       "      <td>17.11</td>\n",
       "      <td>1.19</td>\n",
       "      <td>2.1</td>\n",
       "    </tr>\n",
       "  </tbody>\n",
       "</table>\n",
       "<p>686 rows × 252 columns</p>\n",
       "</div>"
      ],
      "text/plain": [
       "        lopen  lhigh   llow  lastp         lvol       lamount   ma5d  ma10d  \\\n",
       "code                                                                          \n",
       "603182  10.06  10.16   9.81   9.92    6476481.0  7.900214e+07  12.07  11.90   \n",
       "301202  26.15  26.38  23.80  24.01   39057216.0  1.475399e+09  36.04  35.02   \n",
       "603065   7.06   7.30   6.85   6.94   27968254.0  2.211486e+08   7.73   7.53   \n",
       "301309  21.05  21.20  20.30  20.30    4803578.0  1.269897e+08  25.83  25.07   \n",
       "301322  18.14  18.57  16.77  16.80    7024803.0  1.644521e+08  23.09  22.57   \n",
       "...       ...    ...    ...    ...          ...           ...    ...    ...   \n",
       "603998   9.42   9.45   9.09   9.10   72942387.0  6.980185e+08   9.33   9.39   \n",
       "301120   7.76   8.27   7.61   7.61  111316945.0  1.126466e+09   9.28   8.94   \n",
       "688259  27.39  28.39  25.17  26.09   16818568.0  7.180908e+08  40.41  38.06   \n",
       "600610   3.48   3.58   3.35   3.36  449744873.0  2.287788e+09   4.35   4.24   \n",
       "603028   5.45   5.60   5.00   5.26   27073329.0  1.753606e+08   6.38   6.17   \n",
       "\n",
       "        ma20d  ma60d  ...       b1_vv  close        nvol  lastbuy   nlow  \\\n",
       "code                  ...                                                  \n",
       "603182  11.87    0.0  ...      7900.0  12.60   1666126.0    12.60  12.50   \n",
       "301202  30.51    0.0  ...     10100.0  51.06   5147500.0    51.06  50.26   \n",
       "603065   7.88    0.0  ...     14282.0   7.98   2789199.0     7.98   7.88   \n",
       "301309  25.28    0.0  ...     23271.0  28.20   3240157.0    28.20  27.01   \n",
       "301322  23.53    0.0  ...      1660.0  27.56   6092348.0    27.56  26.52   \n",
       "...       ...    ...  ...         ...    ...         ...      ...    ...   \n",
       "603998  10.64    0.0  ...    123400.0  10.04  16405265.0    10.04  10.03   \n",
       "301120   9.28    0.0  ...     54300.0  10.17  11491550.0    10.17  10.08   \n",
       "688259  37.81    0.0  ...     10850.0  45.80  10280732.0    45.80  43.45   \n",
       "600610   4.59    0.0  ...  10906030.0   6.57  33030170.0     6.57   6.40   \n",
       "603028   6.53    0.0  ...     25390.0   6.92  17105815.0     6.92   6.74   \n",
       "\n",
       "        nhigh     nclose    vol amount  percent  \n",
       "code                                             \n",
       "603182  12.79  12.564845   1.67   0.21     -1.6  \n",
       "301202  51.87  50.803537   5.15   2.62      0.8  \n",
       "603065   7.99   7.945824   2.79   0.22      0.8  \n",
       "301309  28.43  27.976379   3.24   0.91      3.8  \n",
       "301322  28.20  27.526341   6.09   1.68      0.1  \n",
       "...       ...        ...    ...    ...      ...  \n",
       "603998  10.32  10.072927  16.41   1.65     -0.4  \n",
       "301120  10.43  10.176538  11.49   1.17      1.1  \n",
       "688259  48.00  46.182348  10.28   4.75      6.8  \n",
       "600610   6.57   6.570000  33.03   2.17     10.1  \n",
       "603028   7.22   6.964612  17.11   1.19      2.1  \n",
       "\n",
       "[686 rows x 252 columns]"
      ]
     },
     "execution_count": 84,
     "metadata": {},
     "output_type": "execute_result"
    }
   ],
   "source": [
    "tdx_now_w.query('close > lastp1d and lastp1d > lastp2d and lastp2d >lastp3d and close > high4')"
   ]
  },
  {
   "cell_type": "markdown",
   "id": "2c1a5ab5-4220-4a5d-920d-b973ffd56cb0",
   "metadata": {},
   "source": [
    "### tdx_last_df and Now sina!!! RealTIME"
   ]
  },
  {
   "cell_type": "code",
   "execution_count": 161,
   "id": "9ea848e0-10a3-4441-b159-323116844f84",
   "metadata": {
    "execution": {
     "iopub.execute_input": "2025-03-18T10:16:47.027204Z",
     "iopub.status.busy": "2025-03-18T10:16:47.027204Z",
     "iopub.status.idle": "2025-03-18T10:19:51.854438Z",
     "shell.execute_reply": "2025-03-18T10:19:51.853475Z",
     "shell.execute_reply.started": "2025-03-18T10:16:47.027204Z"
    },
    "tags": []
   },
   "outputs": [
    {
     "name": "stdout",
     "output_type": "stream",
     "text": [
      "> \u001b[1;32md:\\mactools\\workfile\\workspace\\pyquant3\\stock\\jsondata\\tdx_hdf5_api.py\u001b[0m(771)\u001b[0;36mload_hdf_db\u001b[1;34m()\u001b[0m\n",
      "\u001b[1;32m    770 \u001b[1;33m                        \u001b[0mprint\u001b[0m\u001b[1;33m(\u001b[0m\u001b[1;34mf\"keys:{store.keys()}\"\u001b[0m\u001b[1;33m)\u001b[0m\u001b[1;33m\u001b[0m\u001b[1;33m\u001b[0m\u001b[0m\n",
      "\u001b[0m\u001b[1;32m--> 771 \u001b[1;33m                    \u001b[1;32mtry\u001b[0m\u001b[1;33m:\u001b[0m\u001b[1;33m\u001b[0m\u001b[1;33m\u001b[0m\u001b[0m\n",
      "\u001b[0m\u001b[1;32m    772 \u001b[1;33m                        \u001b[1;32mif\u001b[0m \u001b[1;34m'/'\u001b[0m \u001b[1;33m+\u001b[0m \u001b[0mtable\u001b[0m \u001b[1;32min\u001b[0m \u001b[0mlist\u001b[0m\u001b[1;33m(\u001b[0m\u001b[0mstore\u001b[0m\u001b[1;33m.\u001b[0m\u001b[0mkeys\u001b[0m\u001b[1;33m(\u001b[0m\u001b[1;33m)\u001b[0m\u001b[1;33m)\u001b[0m\u001b[1;33m:\u001b[0m\u001b[1;33m\u001b[0m\u001b[1;33m\u001b[0m\u001b[0m\n",
      "\u001b[0m\n"
     ]
    },
    {
     "name": "stdin",
     "output_type": "stream",
     "text": [
      "ipdb>  c\n"
     ]
    },
    {
     "name": "stdout",
     "output_type": "stream",
     "text": [
      "keys:['/low_d_80_y_all', '/low_w_200_y_all']\n"
     ]
    }
   ],
   "source": [
    "tdx_h5=get_tdx_all_from_h5()\n",
    "tdx_now = cct.combine_dataFrame(tdx_h5,sinadm)"
   ]
  },
  {
   "cell_type": "code",
   "execution_count": 162,
   "id": "beec6cdf-8c72-4496-bfe0-6e7595584710",
   "metadata": {
    "execution": {
     "iopub.execute_input": "2025-03-18T10:19:51.855436Z",
     "iopub.status.busy": "2025-03-18T10:19:51.854438Z",
     "iopub.status.idle": "2025-03-18T10:19:51.915273Z",
     "shell.execute_reply": "2025-03-18T10:19:51.914310Z",
     "shell.execute_reply.started": "2025-03-18T10:19:51.855436Z"
    },
    "tags": []
   },
   "outputs": [
    {
     "data": {
      "text/plain": [
       "(4920, 252)"
      ]
     },
     "execution_count": 162,
     "metadata": {},
     "output_type": "execute_result"
    },
    {
     "name": "stdout",
     "output_type": "stream",
     "text": [
      "Count:10 252\n"
     ]
    },
    {
     "data": {
      "text/html": [
       "<div>\n",
       "<style scoped>\n",
       "    .dataframe tbody tr th:only-of-type {\n",
       "        vertical-align: middle;\n",
       "    }\n",
       "\n",
       "    .dataframe tbody tr th {\n",
       "        vertical-align: top;\n",
       "    }\n",
       "\n",
       "    .dataframe thead th {\n",
       "        text-align: right;\n",
       "    }\n",
       "</style>\n",
       "<table border=\"1\" class=\"dataframe\">\n",
       "  <thead>\n",
       "    <tr style=\"text-align: right;\">\n",
       "      <th></th>\n",
       "      <th>name</th>\n",
       "      <th>date</th>\n",
       "      <th>close</th>\n",
       "      <th>hmax</th>\n",
       "      <th>lmin</th>\n",
       "      <th>perc1d</th>\n",
       "      <th>nclose</th>\n",
       "      <th>llow</th>\n",
       "      <th>perc3d</th>\n",
       "      <th>perc5d</th>\n",
       "    </tr>\n",
       "    <tr>\n",
       "      <th>code</th>\n",
       "      <th></th>\n",
       "      <th></th>\n",
       "      <th></th>\n",
       "      <th></th>\n",
       "      <th></th>\n",
       "      <th></th>\n",
       "      <th></th>\n",
       "      <th></th>\n",
       "      <th></th>\n",
       "      <th></th>\n",
       "    </tr>\n",
       "  </thead>\n",
       "  <tbody>\n",
       "    <tr>\n",
       "      <th>603182</th>\n",
       "      <td>嘉华股份</td>\n",
       "      <td>2025-01-10</td>\n",
       "      <td>12.60</td>\n",
       "      <td>13.54</td>\n",
       "      <td>10.60</td>\n",
       "      <td>1.3</td>\n",
       "      <td>12.564845</td>\n",
       "      <td>10.90</td>\n",
       "      <td>1.2</td>\n",
       "      <td>1.3</td>\n",
       "    </tr>\n",
       "    <tr>\n",
       "      <th>688433</th>\n",
       "      <td>华曙高科</td>\n",
       "      <td>2024-11-26</td>\n",
       "      <td>43.63</td>\n",
       "      <td>26.58</td>\n",
       "      <td>19.32</td>\n",
       "      <td>1.3</td>\n",
       "      <td>43.461934</td>\n",
       "      <td>19.32</td>\n",
       "      <td>-1.1</td>\n",
       "      <td>0.0</td>\n",
       "    </tr>\n",
       "    <tr>\n",
       "      <th>301202</th>\n",
       "      <td>朗威股份</td>\n",
       "      <td>2024-11-26</td>\n",
       "      <td>51.06</td>\n",
       "      <td>37.25</td>\n",
       "      <td>32.42</td>\n",
       "      <td>31.7</td>\n",
       "      <td>50.803537</td>\n",
       "      <td>32.66</td>\n",
       "      <td>15.3</td>\n",
       "      <td>1.2</td>\n",
       "    </tr>\n",
       "    <tr>\n",
       "      <th>001368</th>\n",
       "      <td>通达创智</td>\n",
       "      <td>2024-12-31</td>\n",
       "      <td>22.99</td>\n",
       "      <td>25.30</td>\n",
       "      <td>18.05</td>\n",
       "      <td>1.3</td>\n",
       "      <td>22.818595</td>\n",
       "      <td>18.76</td>\n",
       "      <td>0.2</td>\n",
       "      <td>0.1</td>\n",
       "    </tr>\n",
       "    <tr>\n",
       "      <th>001322</th>\n",
       "      <td>箭牌家居</td>\n",
       "      <td>2025-01-06</td>\n",
       "      <td>8.54</td>\n",
       "      <td>9.50</td>\n",
       "      <td>7.14</td>\n",
       "      <td>0.0</td>\n",
       "      <td>8.505404</td>\n",
       "      <td>7.20</td>\n",
       "      <td>1.3</td>\n",
       "      <td>1.2</td>\n",
       "    </tr>\n",
       "    <tr>\n",
       "      <th>301297</th>\n",
       "      <td>富乐德</td>\n",
       "      <td>2025-01-10</td>\n",
       "      <td>40.76</td>\n",
       "      <td>53.00</td>\n",
       "      <td>37.81</td>\n",
       "      <td>0.0</td>\n",
       "      <td>40.723211</td>\n",
       "      <td>39.03</td>\n",
       "      <td>-0.1</td>\n",
       "      <td>0.0</td>\n",
       "    </tr>\n",
       "    <tr>\n",
       "      <th>001282</th>\n",
       "      <td>三联锻造</td>\n",
       "      <td>2024-11-28</td>\n",
       "      <td>32.80</td>\n",
       "      <td>25.80</td>\n",
       "      <td>19.63</td>\n",
       "      <td>0.1</td>\n",
       "      <td>32.320610</td>\n",
       "      <td>20.14</td>\n",
       "      <td>0.1</td>\n",
       "      <td>1.3</td>\n",
       "    </tr>\n",
       "    <tr>\n",
       "      <th>603163</th>\n",
       "      <td>圣晖集成</td>\n",
       "      <td>2024-11-28</td>\n",
       "      <td>26.66</td>\n",
       "      <td>33.63</td>\n",
       "      <td>24.70</td>\n",
       "      <td>0.1</td>\n",
       "      <td>26.496682</td>\n",
       "      <td>25.22</td>\n",
       "      <td>1.3</td>\n",
       "      <td>0.0</td>\n",
       "    </tr>\n",
       "    <tr>\n",
       "      <th>688361</th>\n",
       "      <td>中科飞测</td>\n",
       "      <td>2024-12-26</td>\n",
       "      <td>93.30</td>\n",
       "      <td>106.50</td>\n",
       "      <td>87.30</td>\n",
       "      <td>-0.1</td>\n",
       "      <td>93.242119</td>\n",
       "      <td>88.98</td>\n",
       "      <td>0.0</td>\n",
       "      <td>0.1</td>\n",
       "    </tr>\n",
       "    <tr>\n",
       "      <th>688450</th>\n",
       "      <td>光格科技</td>\n",
       "      <td>2024-12-25</td>\n",
       "      <td>25.33</td>\n",
       "      <td>29.39</td>\n",
       "      <td>23.31</td>\n",
       "      <td>1.1</td>\n",
       "      <td>25.280699</td>\n",
       "      <td>21.36</td>\n",
       "      <td>0.0</td>\n",
       "      <td>1.3</td>\n",
       "    </tr>\n",
       "  </tbody>\n",
       "</table>\n",
       "</div>"
      ],
      "text/plain": [
       "        name        date  close    hmax   lmin  perc1d     nclose   llow  \\\n",
       "code                                                                       \n",
       "603182  嘉华股份  2025-01-10  12.60   13.54  10.60     1.3  12.564845  10.90   \n",
       "688433  华曙高科  2024-11-26  43.63   26.58  19.32     1.3  43.461934  19.32   \n",
       "301202  朗威股份  2024-11-26  51.06   37.25  32.42    31.7  50.803537  32.66   \n",
       "001368  通达创智  2024-12-31  22.99   25.30  18.05     1.3  22.818595  18.76   \n",
       "001322  箭牌家居  2025-01-06   8.54    9.50   7.14     0.0   8.505404   7.20   \n",
       "301297   富乐德  2025-01-10  40.76   53.00  37.81     0.0  40.723211  39.03   \n",
       "001282  三联锻造  2024-11-28  32.80   25.80  19.63     0.1  32.320610  20.14   \n",
       "603163  圣晖集成  2024-11-28  26.66   33.63  24.70     0.1  26.496682  25.22   \n",
       "688361  中科飞测  2024-12-26  93.30  106.50  87.30    -0.1  93.242119  88.98   \n",
       "688450  光格科技  2024-12-25  25.33   29.39  23.31     1.1  25.280699  21.36   \n",
       "\n",
       "        perc3d  perc5d  \n",
       "code                    \n",
       "603182     1.2     1.3  \n",
       "688433    -1.1     0.0  \n",
       "301202    15.3     1.2  \n",
       "001368     0.2     0.1  \n",
       "001322     1.3     1.2  \n",
       "301297    -0.1     0.0  \n",
       "001282     0.1     1.3  \n",
       "603163     1.3     0.0  \n",
       "688361     0.0     0.1  \n",
       "688450     0.0     1.3  "
      ]
     },
     "execution_count": 162,
     "metadata": {},
     "output_type": "execute_result"
    }
   ],
   "source": [
    "tdx_now.shape\n",
    "# tdx_now.query('close >  lastp1d  and lastl1d < ma51d and close > ma51d and lastp1d < upper and lastp1d > lastp2d and lasth1d >high4 and boll > 0 and volume < 1')\n",
    "tdx_select = tdx_now.query('close > lastp1d and percent < 3')[:10]\n",
    "show_tdx_data(tdx_select)"
   ]
  },
  {
   "cell_type": "code",
   "execution_count": 163,
   "id": "0368b782-2093-48f0-84f5-cbe77ae10a0a",
   "metadata": {
    "execution": {
     "iopub.execute_input": "2025-03-18T10:19:51.916271Z",
     "iopub.status.busy": "2025-03-18T10:19:51.916271Z",
     "iopub.status.idle": "2025-03-18T10:19:51.975150Z",
     "shell.execute_reply": "2025-03-18T10:19:51.975150Z",
     "shell.execute_reply.started": "2025-03-18T10:19:51.916271Z"
    },
    "tags": []
   },
   "outputs": [
    {
     "data": {
      "text/plain": [
       "code\n",
       "301628   NaN\n",
       "301633   NaN\n",
       "301603   NaN\n",
       "301607   NaN\n",
       "999999   NaN\n",
       "399006   NaN\n",
       "399001   NaN\n",
       "399005   NaN\n",
       "Name: buy, dtype: float64"
      ]
     },
     "execution_count": 163,
     "metadata": {},
     "output_type": "execute_result"
    },
    {
     "name": "stdout",
     "output_type": "stream",
     "text": [
      "Count:17 252\n"
     ]
    },
    {
     "data": {
      "text/html": [
       "<div>\n",
       "<style scoped>\n",
       "    .dataframe tbody tr th:only-of-type {\n",
       "        vertical-align: middle;\n",
       "    }\n",
       "\n",
       "    .dataframe tbody tr th {\n",
       "        vertical-align: top;\n",
       "    }\n",
       "\n",
       "    .dataframe thead th {\n",
       "        text-align: right;\n",
       "    }\n",
       "</style>\n",
       "<table border=\"1\" class=\"dataframe\">\n",
       "  <thead>\n",
       "    <tr style=\"text-align: right;\">\n",
       "      <th></th>\n",
       "      <th>name</th>\n",
       "      <th>date</th>\n",
       "      <th>close</th>\n",
       "      <th>hmax</th>\n",
       "      <th>lmin</th>\n",
       "      <th>perc1d</th>\n",
       "      <th>nclose</th>\n",
       "      <th>llow</th>\n",
       "      <th>perc3d</th>\n",
       "      <th>perc5d</th>\n",
       "    </tr>\n",
       "    <tr>\n",
       "      <th>code</th>\n",
       "      <th></th>\n",
       "      <th></th>\n",
       "      <th></th>\n",
       "      <th></th>\n",
       "      <th></th>\n",
       "      <th></th>\n",
       "      <th></th>\n",
       "      <th></th>\n",
       "      <th></th>\n",
       "      <th></th>\n",
       "    </tr>\n",
       "  </thead>\n",
       "  <tbody>\n",
       "    <tr>\n",
       "      <th>301349</th>\n",
       "      <td>信德新材</td>\n",
       "      <td>2025-01-13</td>\n",
       "      <td>39.04</td>\n",
       "      <td>38.88</td>\n",
       "      <td>27.55</td>\n",
       "      <td>0.1</td>\n",
       "      <td>38.943918</td>\n",
       "      <td>27.55</td>\n",
       "      <td>1.3</td>\n",
       "      <td>0.0</td>\n",
       "    </tr>\n",
       "    <tr>\n",
       "      <th>301209</th>\n",
       "      <td>联合化学</td>\n",
       "      <td>2024-12-25</td>\n",
       "      <td>39.77</td>\n",
       "      <td>39.00</td>\n",
       "      <td>25.01</td>\n",
       "      <td>0.0</td>\n",
       "      <td>39.536844</td>\n",
       "      <td>25.66</td>\n",
       "      <td>22.9</td>\n",
       "      <td>0.0</td>\n",
       "    </tr>\n",
       "    <tr>\n",
       "      <th>605259</th>\n",
       "      <td>绿田机械</td>\n",
       "      <td>2025-01-13</td>\n",
       "      <td>17.76</td>\n",
       "      <td>17.34</td>\n",
       "      <td>14.22</td>\n",
       "      <td>0.1</td>\n",
       "      <td>17.603100</td>\n",
       "      <td>14.42</td>\n",
       "      <td>0.1</td>\n",
       "      <td>1.2</td>\n",
       "    </tr>\n",
       "    <tr>\n",
       "      <th>301200</th>\n",
       "      <td>大族数控</td>\n",
       "      <td>2025-01-03</td>\n",
       "      <td>44.49</td>\n",
       "      <td>44.10</td>\n",
       "      <td>32.81</td>\n",
       "      <td>0.0</td>\n",
       "      <td>44.114315</td>\n",
       "      <td>33.20</td>\n",
       "      <td>0.1</td>\n",
       "      <td>1.1</td>\n",
       "    </tr>\n",
       "    <tr>\n",
       "      <th>002026</th>\n",
       "      <td>山东威达</td>\n",
       "      <td>2025-01-03</td>\n",
       "      <td>12.90</td>\n",
       "      <td>12.61</td>\n",
       "      <td>8.84</td>\n",
       "      <td>0.0</td>\n",
       "      <td>12.689512</td>\n",
       "      <td>9.00</td>\n",
       "      <td>1.2</td>\n",
       "      <td>26.8</td>\n",
       "    </tr>\n",
       "    <tr>\n",
       "      <th>600362</th>\n",
       "      <td>江西铜业</td>\n",
       "      <td>2025-01-02</td>\n",
       "      <td>22.34</td>\n",
       "      <td>22.30</td>\n",
       "      <td>20.10</td>\n",
       "      <td>1.3</td>\n",
       "      <td>22.387805</td>\n",
       "      <td>20.10</td>\n",
       "      <td>1.3</td>\n",
       "      <td>1.2</td>\n",
       "    </tr>\n",
       "    <tr>\n",
       "      <th>002233</th>\n",
       "      <td>塔牌集团</td>\n",
       "      <td>2025-01-10</td>\n",
       "      <td>8.01</td>\n",
       "      <td>7.94</td>\n",
       "      <td>7.10</td>\n",
       "      <td>0.1</td>\n",
       "      <td>7.985909</td>\n",
       "      <td>7.19</td>\n",
       "      <td>1.2</td>\n",
       "      <td>0.0</td>\n",
       "    </tr>\n",
       "    <tr>\n",
       "      <th>300430</th>\n",
       "      <td>诚益通</td>\n",
       "      <td>2025-01-03</td>\n",
       "      <td>21.17</td>\n",
       "      <td>19.82</td>\n",
       "      <td>14.11</td>\n",
       "      <td>0.0</td>\n",
       "      <td>20.297935</td>\n",
       "      <td>14.25</td>\n",
       "      <td>27.1</td>\n",
       "      <td>0.1</td>\n",
       "    </tr>\n",
       "    <tr>\n",
       "      <th>600538</th>\n",
       "      <td>国发股份</td>\n",
       "      <td>2024-12-23</td>\n",
       "      <td>5.81</td>\n",
       "      <td>5.80</td>\n",
       "      <td>4.65</td>\n",
       "      <td>0.1</td>\n",
       "      <td>5.722542</td>\n",
       "      <td>4.69</td>\n",
       "      <td>1.2</td>\n",
       "      <td>18.6</td>\n",
       "    </tr>\n",
       "    <tr>\n",
       "      <th>000603</th>\n",
       "      <td>盛达资源</td>\n",
       "      <td>2025-01-03</td>\n",
       "      <td>15.90</td>\n",
       "      <td>14.89</td>\n",
       "      <td>11.73</td>\n",
       "      <td>26.1</td>\n",
       "      <td>15.931179</td>\n",
       "      <td>11.82</td>\n",
       "      <td>1.2</td>\n",
       "      <td>11.5</td>\n",
       "    </tr>\n",
       "    <tr>\n",
       "      <th>300469</th>\n",
       "      <td>信息发展</td>\n",
       "      <td>2025-01-13</td>\n",
       "      <td>37.85</td>\n",
       "      <td>36.44</td>\n",
       "      <td>19.41</td>\n",
       "      <td>1.3</td>\n",
       "      <td>37.700843</td>\n",
       "      <td>19.41</td>\n",
       "      <td>1.2</td>\n",
       "      <td>1.1</td>\n",
       "    </tr>\n",
       "    <tr>\n",
       "      <th>000779</th>\n",
       "      <td>甘咨询</td>\n",
       "      <td>2025-01-10</td>\n",
       "      <td>10.87</td>\n",
       "      <td>10.54</td>\n",
       "      <td>7.16</td>\n",
       "      <td>0.0</td>\n",
       "      <td>10.870000</td>\n",
       "      <td>7.36</td>\n",
       "      <td>1.2</td>\n",
       "      <td>-0.9</td>\n",
       "    </tr>\n",
       "    <tr>\n",
       "      <th>300048</th>\n",
       "      <td>合康新能</td>\n",
       "      <td>2025-01-03</td>\n",
       "      <td>6.09</td>\n",
       "      <td>5.70</td>\n",
       "      <td>4.53</td>\n",
       "      <td>0.0</td>\n",
       "      <td>5.865224</td>\n",
       "      <td>4.67</td>\n",
       "      <td>0.1</td>\n",
       "      <td>26.4</td>\n",
       "    </tr>\n",
       "    <tr>\n",
       "      <th>002448</th>\n",
       "      <td>中原内配</td>\n",
       "      <td>2025-01-03</td>\n",
       "      <td>9.17</td>\n",
       "      <td>8.91</td>\n",
       "      <td>5.66</td>\n",
       "      <td>0.0</td>\n",
       "      <td>8.759268</td>\n",
       "      <td>5.82</td>\n",
       "      <td>1.3</td>\n",
       "      <td>0.1</td>\n",
       "    </tr>\n",
       "    <tr>\n",
       "      <th>600259</th>\n",
       "      <td>广晟有色</td>\n",
       "      <td>2025-01-03</td>\n",
       "      <td>35.20</td>\n",
       "      <td>33.00</td>\n",
       "      <td>26.77</td>\n",
       "      <td>1.2</td>\n",
       "      <td>35.457166</td>\n",
       "      <td>26.77</td>\n",
       "      <td>1.2</td>\n",
       "      <td>1.2</td>\n",
       "    </tr>\n",
       "    <tr>\n",
       "      <th>603112</th>\n",
       "      <td>华翔股份</td>\n",
       "      <td>2025-01-13</td>\n",
       "      <td>13.98</td>\n",
       "      <td>13.77</td>\n",
       "      <td>11.28</td>\n",
       "      <td>0.1</td>\n",
       "      <td>13.741633</td>\n",
       "      <td>11.28</td>\n",
       "      <td>0.1</td>\n",
       "      <td>1.3</td>\n",
       "    </tr>\n",
       "    <tr>\n",
       "      <th>300940</th>\n",
       "      <td>南极光</td>\n",
       "      <td>2025-01-06</td>\n",
       "      <td>16.82</td>\n",
       "      <td>16.30</td>\n",
       "      <td>12.15</td>\n",
       "      <td>1.2</td>\n",
       "      <td>16.723618</td>\n",
       "      <td>12.15</td>\n",
       "      <td>0.1</td>\n",
       "      <td>0.1</td>\n",
       "    </tr>\n",
       "  </tbody>\n",
       "</table>\n",
       "</div>"
      ],
      "text/plain": [
       "        name        date  close   hmax   lmin  perc1d     nclose   llow  \\\n",
       "code                                                                      \n",
       "301349  信德新材  2025-01-13  39.04  38.88  27.55     0.1  38.943918  27.55   \n",
       "301209  联合化学  2024-12-25  39.77  39.00  25.01     0.0  39.536844  25.66   \n",
       "605259  绿田机械  2025-01-13  17.76  17.34  14.22     0.1  17.603100  14.42   \n",
       "301200  大族数控  2025-01-03  44.49  44.10  32.81     0.0  44.114315  33.20   \n",
       "002026  山东威达  2025-01-03  12.90  12.61   8.84     0.0  12.689512   9.00   \n",
       "600362  江西铜业  2025-01-02  22.34  22.30  20.10     1.3  22.387805  20.10   \n",
       "002233  塔牌集团  2025-01-10   8.01   7.94   7.10     0.1   7.985909   7.19   \n",
       "300430   诚益通  2025-01-03  21.17  19.82  14.11     0.0  20.297935  14.25   \n",
       "600538  国发股份  2024-12-23   5.81   5.80   4.65     0.1   5.722542   4.69   \n",
       "000603  盛达资源  2025-01-03  15.90  14.89  11.73    26.1  15.931179  11.82   \n",
       "300469  信息发展  2025-01-13  37.85  36.44  19.41     1.3  37.700843  19.41   \n",
       "000779   甘咨询  2025-01-10  10.87  10.54   7.16     0.0  10.870000   7.36   \n",
       "300048  合康新能  2025-01-03   6.09   5.70   4.53     0.0   5.865224   4.67   \n",
       "002448  中原内配  2025-01-03   9.17   8.91   5.66     0.0   8.759268   5.82   \n",
       "600259  广晟有色  2025-01-03  35.20  33.00  26.77     1.2  35.457166  26.77   \n",
       "603112  华翔股份  2025-01-13  13.98  13.77  11.28     0.1  13.741633  11.28   \n",
       "300940   南极光  2025-01-06  16.82  16.30  12.15     1.2  16.723618  12.15   \n",
       "\n",
       "        perc3d  perc5d  \n",
       "code                    \n",
       "301349     1.3     0.0  \n",
       "301209    22.9     0.0  \n",
       "605259     0.1     1.2  \n",
       "301200     0.1     1.1  \n",
       "002026     1.2    26.8  \n",
       "600362     1.3     1.2  \n",
       "002233     1.2     0.0  \n",
       "300430    27.1     0.1  \n",
       "600538     1.2    18.6  \n",
       "000603     1.2    11.5  \n",
       "300469     1.2     1.1  \n",
       "000779     1.2    -0.9  \n",
       "300048     0.1    26.4  \n",
       "002448     1.3     0.1  \n",
       "600259     1.2     1.2  \n",
       "603112     0.1     1.3  \n",
       "300940     0.1     0.1  "
      ]
     },
     "execution_count": 163,
     "metadata": {},
     "output_type": "execute_result"
    }
   ],
   "source": [
    "tdx_now.query('close.isna()').buy\n",
    "# tdx_h5.loc['301397']\n",
    "tdx_filter = tdx_now.query('low < ma5d*1.01 and close > max5 and close >hmax and percent > 1 and close > upper and boll > 1 and not code.str.contains(\"688\")')\n",
    "\n",
    "show_tdx_data(tdx_filter)"
   ]
  },
  {
   "cell_type": "markdown",
   "id": "91c9c617-4169-4e98-9bc6-1e4c440b312f",
   "metadata": {},
   "source": [
    "#### 新高test!!!!!!"
   ]
  },
  {
   "cell_type": "code",
   "execution_count": null,
   "id": "856579b9-d104-4c68-b5ec-703ff816d4c8",
   "metadata": {
    "execution": {
     "iopub.execute_input": "2025-03-18T10:19:51.977108Z",
     "iopub.status.busy": "2025-03-18T10:19:51.976111Z"
    },
    "tags": []
   },
   "outputs": [],
   "source": [
    "write_code_to_blk(tdx_filter.index.tolist(),'rqg')"
   ]
  },
  {
   "cell_type": "code",
   "execution_count": null,
   "id": "75d4d85c-63a7-4e38-a77e-1e208b844438",
   "metadata": {
    "tags": []
   },
   "outputs": [],
   "source": [
    "sinadm.shape\n",
    "sinadm.columns\n",
    "# sinadm['percent']=((sinadm['close']-sinadm['llastp'])/(sinadm['llastp'])*100).round(1)\n",
    "# sinadm['percent'] = sinadm['percent'].round(1)\n",
    "sinadm.query('percent > 6 ')"
   ]
  },
  {
   "cell_type": "markdown",
   "id": "8deafea9-8215-4653-96c5-d023f773cf57",
   "metadata": {},
   "source": [
    "## check HDF LastDate"
   ]
  },
  {
   "cell_type": "code",
   "execution_count": null,
   "id": "4a2ea5a5-99c8-490d-87fa-bee55be5ca05",
   "metadata": {
    "ExecuteTime": {
     "end_time": "2023-08-22T12:16:31.669596Z",
     "start_time": "2023-08-22T12:16:31.614737Z"
    },
    "tags": []
   },
   "outputs": [],
   "source": [
    "df_tail1 = df.groupby(level=[0]).tail(1)\n",
    "# df_tail1.index\n",
    "\n",
    "#今日的code\n",
    "df_tail1[df_tail1.index.get_level_values('date') == cct.get_today()].shape\n",
    "\n",
    "#没有今日的code\n",
    "df_tail1[df_tail1.index.get_level_values('date') != cct.get_today()].shape"
   ]
  },
  {
   "cell_type": "code",
   "execution_count": null,
   "id": "ca886b24-90df-4659-a0a7-3afca60a8c37",
   "metadata": {
    "tags": []
   },
   "outputs": [],
   "source": [
    "# df_tail1"
   ]
  },
  {
   "cell_type": "code",
   "execution_count": null,
   "id": "6f091276-ca66-4d6d-8960-d73712924ad9",
   "metadata": {
    "ExecuteTime": {
     "end_time": "2023-08-22T12:16:33.715245Z",
     "start_time": "2023-08-22T12:16:33.697292Z"
    },
    "tags": []
   },
   "outputs": [],
   "source": [
    "df_tail1[df_tail1.index.get_level_values('date') != cct.get_today()][:1]"
   ]
  },
  {
   "cell_type": "code",
   "execution_count": null,
   "id": "4119a0cf-3091-4a4c-8acf-06e33f2deff6",
   "metadata": {
    "ExecuteTime": {
     "end_time": "2023-08-22T12:16:36.423623Z",
     "start_time": "2023-08-22T12:16:36.412651Z"
    },
    "tags": []
   },
   "outputs": [],
   "source": [
    "# df.info()\n",
    "# code_t = '600519'\n",
    "# print(dfNow.loc[code_t][-3:])\n",
    "# df.loc['000001'][-1:]\n",
    "# dfbak = df.copy()\n",
    "# df[(df.idx > df.idx.shift(1)) & (df.xratio > df.xratio.shift(1))].shape\n"
   ]
  },
  {
   "cell_type": "markdown",
   "id": "f7e28a03-4b68-4036-8e6c-50b7f8cac82c",
   "metadata": {},
   "source": [
    "## reindex sort date"
   ]
  },
  {
   "cell_type": "code",
   "execution_count": null,
   "id": "d3ccd9e7-3497-4ce4-94d4-d6b6ec3e184e",
   "metadata": {
    "ExecuteTime": {
     "end_time": "2023-08-22T12:16:41.094371Z",
     "start_time": "2023-08-22T12:16:41.087390Z"
    },
    "tags": []
   },
   "outputs": [],
   "source": [
    "# df = df.reset_index().sort_values(by=['code', 'date'], ascending=[0, 1]).set_index(['code','date'])"
   ]
  },
  {
   "cell_type": "markdown",
   "id": "ced08b1d-d3d5-406f-8caf-45c3ff31f4b6",
   "metadata": {},
   "source": [
    "## 初始化参数"
   ]
  },
  {
   "cell_type": "code",
   "execution_count": null,
   "id": "78775685-15b0-421f-98aa-31d7c263ef9d",
   "metadata": {
    "ExecuteTime": {
     "end_time": "2023-08-22T12:16:43.001117Z",
     "start_time": "2023-08-22T12:16:42.977215Z"
    },
    "tags": []
   },
   "outputs": [],
   "source": [
    "app = True\n",
    "tdx = True\n",
    "duration = 300\n",
    "ma_250_l = 1.02\n",
    "ma_250_h = 1.2\n",
    "\n",
    "if resample.upper() == 'D' or resample.lower() == 'd':\n",
    "    if duration < 300:\n",
    "        rollma = ['10', '5', '20']\n",
    "    else:\n",
    "        rollma = ['10', '5', '20', '250']\n",
    "\n",
    "elif resample.upper() == 'W' or resample.lower() == 'w':\n",
    "    rollma = ['5', '10']\n",
    "else:\n",
    "    rollma = ['5', '10']\n",
    "        \n",
    "\n",
    "def init_MulitiData_Roll(df,resample='d',duration=300):\n",
    "    time_s = time.time()\n",
    "    dfs = df.copy()\n",
    "    # dfs = df.loc['600519']\n",
    "    # groupd = dfs.groupby(level=[0])\n",
    "    # groupd.['close']\n",
    "    # rollma = ['5','10','60','100','200']\n",
    "    # rollma = ['5','10','250']\n",
    "    # df.index.get_level_values('code')[0]\n",
    "    if resample.upper() == 'D' or resample.lower() == 'd':\n",
    "        if duration < 300:\n",
    "            rollma = ['10', '5', '20']\n",
    "        else:\n",
    "            rollma = ['10', '5', '20', '250']\n",
    "\n",
    "    elif resample.upper() == 'W' or resample.lower() == 'w':\n",
    "        rollma = ['5', '10','20']\n",
    "    else:\n",
    "        rollma = ['5', '10','20']\n",
    "\n",
    "    # rollma.extend([str(duration)])\n",
    "\n",
    "    # import ipdb;ipdb.set_trace()\n",
    "    # df.loc['300130'][:2]\n",
    "\n",
    "    # dfs['mean'] = groupd['close'].agg('mean')\n",
    "    # dfs['median'] = groupd['close'].agg('median')\n",
    "\n",
    "    # BOLL:MA(CV,N), COLORMAGENTA;\n",
    "    # UPPER:BOLL+P*STD(CV,N), COLORYELLOW;\n",
    "    # LOWER:BOLL-P*STD(CV,N), COLORYELLOW;\n",
    "    # df['BollUpper'] = df.close.shift(10).mean()+2*df.close.shift(10).std()\n",
    "    # df['BollDown'] = df.close.shift(10).mean()-2*df.close.shift(10).std()\n",
    "    for da in rollma:\n",
    "        cumdays = int(da)\n",
    "        dfs['ma%d' % cumdays] = round(dfs['close'].rolling(cumdays).mean(), 2)\n",
    "\n",
    "        # dfs['upper'] = dfs['ma%d' % cumdays].apply(\n",
    "        #     lambda x: round((1 + 11.0 / 100) * x, 1))\n",
    "        # dfs['lower'] = dfs['ma%d' % cumdays].apply(\n",
    "        #     lambda x: round((1 - 9.0 / 100) * x, 1))\n",
    "        # dfs['boll'] = list(map(lambda x, y: round(\n",
    "        #     (x + y) / 2, 1), dfs['upper'], dfs['lower']))\n",
    "    if duration > 100:\n",
    "        dfs['upper'] = round(\n",
    "            dfs['close'].rolling(20).mean() + 2 *\n",
    "            dfs['close'].rolling(20).std(),\n",
    "            2)\n",
    "        dfs['lower'] = round(\n",
    "            dfs['close'].rolling(20).mean() - 2 *\n",
    "            dfs['close'].rolling(20).std(),\n",
    "            2)\n",
    "\n",
    "        dfs['boll'] = round(dfs['close'].rolling(20).mean(), 2)\n",
    "\n",
    "        dfs['hmax'] = round(dfs['high'].rolling(20).max(), 2)\n",
    "        dfs['lmin'] = round(dfs['low'].rolling(20).min(), 2)\n",
    "\n",
    "        dfs['hat'] = dfs['upper'] - dfs['lower']\n",
    "\n",
    "        # dfs['hmax'] = round(dfs['close'].cummax(), 2)\n",
    "\n",
    "\n",
    "    dfs = compute_df_Col_lastday(dfs, col='close', colre='perc', days=5)\n",
    "    dfs = compute_df_Col_lastday(dfs, col='vol', colre='vol', days=5, plus=False)\n",
    "    dfs = compute_perd_value(dfs, market_value=5, col='vol', col_new='volsum')\n",
    "\n",
    "    return dfs\n",
    "# dfs['perc1d'] = round(\n",
    "#     (dfs['close'] - dfs['close'].shift(1)) / dfs['close'].shift(1) * 100, 2)\n",
    "# dfs['perc3d'] = round(\n",
    "#     (dfs['close'] - dfs['close'].shift(3)) / dfs['close'].shift(3) * 100, 2)\n",
    "# dfs['perc5d'] = round(\n",
    "#     (dfs['close'] - dfs['close'].shift(5)) / dfs['close'].shift(3) * 100, 2)"
   ]
  },
  {
   "cell_type": "code",
   "execution_count": null,
   "id": "925ef4b0-defb-4548-8ef7-f6dc8a3fc633",
   "metadata": {
    "ExecuteTime": {
     "end_time": "2023-08-22T12:16:46.112095Z",
     "start_time": "2023-08-22T12:16:45.712607Z"
    },
    "tags": []
   },
   "outputs": [],
   "source": [
    "dfsRoot=init_MulitiData_Roll(df,resample=resample)"
   ]
  },
  {
   "cell_type": "markdown",
   "id": "dcd85b4d-ca6e-4398-975a-a4e1129492f9",
   "metadata": {
    "tags": []
   },
   "source": [
    "### DFS MutiIndex Test 0507"
   ]
  },
  {
   "cell_type": "code",
   "execution_count": null,
   "id": "b26f4475-b56c-4896-a562-6319d57b49a6",
   "metadata": {
    "ExecuteTime": {
     "end_time": "2023-08-22T12:16:47.295555Z",
     "start_time": "2023-08-22T12:16:47.257620Z"
    },
    "tags": []
   },
   "outputs": [],
   "source": [
    "# dfs.loc['000002'][-5:].upper\n",
    "dfsRoot.loc['603357'][-5:][['close','upper','low','boll']][-2:]\n",
    "dftemp = dfsRoot.loc['603357']\n",
    "dftemp[dftemp.close > dftemp.upper][:2]\n",
    "print(dftemp.shape)"
   ]
  },
  {
   "cell_type": "code",
   "execution_count": null,
   "id": "4cefaf13-e1c2-4c9f-a859-c1f59e5f78a8",
   "metadata": {
    "ExecuteTime": {
     "end_time": "2023-08-22T12:16:49.493409Z",
     "start_time": "2023-08-22T12:16:49.432572Z"
    },
    "tags": []
   },
   "outputs": [],
   "source": [
    "# dfs.loc['688027']\n",
    "dfsRoot['ma51d'] = round(dfsRoot['close'].rolling(5).mean(), 2)\n",
    "show_tdx_data(dfsRoot.loc['600519'][-2:],col=['ma51d','ra_diff'])\n",
    "# show_tdx_data(dfs.loc['600519'])"
   ]
  },
  {
   "cell_type": "markdown",
   "id": "6d6958fc-3ab6-4f33-abd7-1262cd6688c9",
   "metadata": {
    "tags": []
   },
   "source": [
    "### Append Now SinaTo MultiIndex dfNow"
   ]
  },
  {
   "cell_type": "code",
   "execution_count": null,
   "id": "0c4e6cfc-54cb-48c0-af98-26782afe2360",
   "metadata": {
    "ExecuteTime": {
     "end_time": "2023-08-22T12:16:53.813443Z",
     "start_time": "2023-08-22T12:16:53.724856Z"
    },
    "tags": []
   },
   "outputs": [],
   "source": [
    "# tail_days = 60\n",
    "# cct.get_today()\n",
    "def get_Append_Sina_To_MultiTDX(df,sina_dm):\n",
    "    if cct.get_work_time_duration():\n",
    "        sina_today=sina_dm.copy()\n",
    "        if not isinstance(sina_today,pd.MultiIndex) and  'date' not  in sina_today.columns:\n",
    "            sina_today['date']=pd.to_datetime(cct.get_today())\n",
    "            print('concat1 init:sina_today:%s'%(sina_today.index[0]))\n",
    "            # df_reg_ratio2 = df.groupby(level=[0])['close'].apply(regression_ratio)\n",
    "            # df_idx_detect2 = df.groupby(level=[0])['close'].apply(detect_bull_bear_apply)\n",
    "            # sina_today['idx'] = df_idx_detect2\n",
    "            # sina_today['xratio'] = df_reg_ratio2\n",
    "            # sina_today=sina_today.loc[:,['open','high','low','close','date','idx',y'xratio']].reset_index().set_index(['code', 'date'])\n",
    "            if 'vol' in sina_today.columns:\n",
    "                sina_today=sina_today.loc[:,['open','high','low','close','vol','amount','name','date']].reset_index().set_index(['code', 'date'])\n",
    "            else:\n",
    "                sina_today=sina_today.loc[:,['open','high','low','close','date']].reset_index().set_index(['code', 'date'])\n",
    "\n",
    "        if sina_today.index[0] not in df.index:\n",
    "            # df.index=df.index.append(sina_dm.index)\n",
    "            print('concat1:sina_today:%s %s'%(sina_today.index[0]))\n",
    "            df = pd.concat([df, sina_today])\n",
    "\n",
    "\n",
    "    #         sina_today=sina_dm.copy()\n",
    "    #         #drop line and append idx\n",
    "    #         if not isinstance(sina_today,pd.MultiIndex) and  'date' not  in sina_today.columns:\n",
    "    #             sina_today['date']=pd.to_datetime(cct.get_today())\n",
    "    #             print('concat2 init:sina_today:%s'%(sina_today.index[0]))\n",
    "\n",
    "    #             sina_today['idx'] = df_idx_detect2\n",
    "    #             sina_today['xratio'] = df_reg_ratio2\n",
    "    #             sina_today=sina_today.loc[:,['open','high','low','close','date','name','idx','xratio']].reset_index().set_index(['code', 'date'])\n",
    "    #             # sina_today=sina_today.loc[:,['open','high','low','close','date']].reset_index().set_index(['code', 'date'])   \n",
    "\n",
    "\n",
    "    #         df = get_multiIndex_drop_last_row(df,dropline=1)\n",
    "\n",
    "            if sina_today.index[0] not in df.index:\n",
    "                # df.index=df.index.append(sina_dm.index)\n",
    "                print('concat2:sina_today:%s %s'%(sina_today.index[0]))\n",
    "                df = pd.concat([df, sina_today])\n",
    "            df = df.reset_index().sort_values(by=['code', 'date'], ascending=[0, 1]).set_index(['code','date'])\n",
    "    return df\n",
    "\n",
    "# dfNow=get_Append_Sina_To_MultiTDX(df.groupby(level=[0]).tail(30),sina_dm)\n",
    "\n",
    "\n",
    "if resample.upper() == 'D':\n",
    "    dfsRoot=get_Append_Sina_To_MultiTDX(dfsRoot.groupby(level=[0]).tail(tail_days),sinadm)\n",
    "    dfNow= dfsRoot.groupby(level=[0]).tail(tail_days/2)\n",
    "    \n",
    "    dfNow=init_MulitiData_Roll(dfNow,resample=resample,duration=20)\n",
    "else:\n",
    "    dfNow = dfsRoot.groupby(level=[0]).tail(tail_days/2).copy()\n",
    "# df = df.reset_index().sort_values(by=['code', 'date'], ascending=[0, 1]).set_index(['code','date'])\n",
    "# df[-2:]\n",
    "dfNow[-2:]"
   ]
  },
  {
   "cell_type": "code",
   "execution_count": null,
   "id": "e2617d9b-f32a-4e5c-bf12-4be9301aeb78",
   "metadata": {
    "ExecuteTime": {
     "end_time": "2023-08-22T12:16:55.970468Z",
     "start_time": "2023-08-22T12:16:55.964449Z"
    },
    "tags": []
   },
   "outputs": [],
   "source": [
    "dfsRoot.groupby(level=[0]).tail(60).loc['000002'][-1:]\n"
   ]
  },
  {
   "cell_type": "markdown",
   "id": "d70cf9b9-5320-45a0-8fbf-172036adec66",
   "metadata": {},
   "source": [
    "### Xratio and tail 60 MultiIndex "
   ]
  },
  {
   "cell_type": "code",
   "execution_count": null,
   "id": "755a6258-063e-41e1-bd1e-12597dcc2930",
   "metadata": {
    "ExecuteTime": {
     "end_time": "2023-08-22T12:17:42.718709Z",
     "start_time": "2023-08-22T12:17:00.487961Z"
    },
    "tags": []
   },
   "outputs": [],
   "source": [
    "## dfNow['xratio'] = dfNow['close'].rolling(30).apply(regression_ratio)\n",
    "if 'xratio' not in dfNow.columns:\n",
    "    df_xratio = dfNow.groupby(level=[0])['close'].rolling(24).apply(regression_ratio)\n",
    "    df_xratio.index =df_xratio.to_frame().index.droplevel(1)\n",
    "    dfNow['xratio'] = df_xratio"
   ]
  },
  {
   "cell_type": "code",
   "execution_count": null,
   "id": "9293482c-2e52-4d0f-a388-1c34539439a2",
   "metadata": {
    "tags": []
   },
   "outputs": [],
   "source": [
    "# df_xratio.loc['605589'][-8:]\n",
    "dfsRoot.loc['603019'][:1]\n",
    "# dfNow[-12:][-2:]"
   ]
  },
  {
   "cell_type": "markdown",
   "id": "c8a95f1e-25ba-4432-bad8-368acd3458c6",
   "metadata": {},
   "source": [
    "## DFNow Query check"
   ]
  },
  {
   "cell_type": "code",
   "execution_count": null,
   "id": "9723d8a1-2bca-4dd1-a40b-0f8d4e60f7ac",
   "metadata": {
    "tags": []
   },
   "outputs": [],
   "source": [
    "dfNow_A = dfNow.query('@dfNow.index.get_level_values(0) < \"688000\"')\n",
    "# dfxra = dfNow_A.groupby(level=[0]).tail(3).query('xratio - xratio.shift(1) > (xratio.shift(1) - xratio.shift(2))*1.1')\n",
    "# dfNow.groupby(level=[0]).tail(3)\n",
    "lastworkday = cct.last_tddate(1)\n",
    "print(lastworkday)\n",
    "# dfxra.groupby(level=[0]).tail(1).query('date >= @lastworkday').xratio\n",
    "# dfxra.query('@dfxra.index.get_level_values(0) < \"688000\"')\n",
    "# dfxra.query('not @dfxra.index.get_level_values(0).str.contains(\"688\") ')\n",
    "\n",
    "# df.query(f'ColumnName >= {VariableName}')\n",
    "\n",
    "# dfxra = dfNow_A.groupby(level=[0]).tail(3).query('0 > xratio > -0.08 and xratio - xratio.shift(1) > (xratio.shift(1) - xratio.shift(2))*1.1')\n",
    "\n",
    "# dfxra = dfNow_A.groupby(level=[0]).tail(3).query('xratio > 0 and xratio.shift(1) < 0 and xratio - xratio.shift(1) > (xratio.shift(1) - xratio.shift(2))*1.1')\n",
    "\n",
    "dfxra = dfNow_A.groupby(level=[0]).tail(3).query('high > upper  and xratio - xratio.shift(1) > (xratio.shift(1) - xratio.shift(2))')\n",
    "\n",
    "dfxra.query('date >= @lastworkday').sort_values(by='xratio',ascending=0).xratio[:10]\n",
    "# dfxra.query('date >= @lastworkday').xratio[:10]\n",
    "\n",
    "# dfxra.query('date >= @lastworkday').loc['605589'].xratio\n",
    "df_xratio.loc['605369'][-8:]"
   ]
  },
  {
   "cell_type": "code",
   "execution_count": null,
   "id": "7cfcee5b-ca0a-4a90-a1db-94acdc46bb07",
   "metadata": {
    "ExecuteTime": {
     "end_time": "2023-08-22T12:17:49.407670Z",
     "start_time": "2023-08-22T12:17:43.177483Z"
    },
    "tags": []
   },
   "outputs": [],
   "source": [
    "# dfNow['idx'] = dfNow['close'].rolling(25).apply(detect_bull_bear_apply)\n",
    "df_idx = dfNow.groupby(level=[0])['close'].rolling(25).apply(detect_bull_bear_apply)\n",
    "df_idx.index =df_idx.to_frame().index.droplevel(1)\n",
    "dfNow['idx'] = df_idx"
   ]
  },
  {
   "cell_type": "markdown",
   "id": "b5f55200-2d88-419b-a2d0-50a07348089e",
   "metadata": {},
   "source": [
    "### dfNow Top"
   ]
  },
  {
   "cell_type": "code",
   "execution_count": null,
   "id": "ca21bf3b-9cb6-4fbc-bb77-cb43035aecf6",
   "metadata": {
    "ExecuteTime": {
     "end_time": "2023-08-22T12:17:50.344634Z",
     "start_time": "2023-08-22T12:17:49.926752Z"
    },
    "tags": []
   },
   "outputs": [],
   "source": [
    "dfNow.loc['300459'][-2:].upper\n",
    "print(dfsRoot.loc['300459'][-tail_days:].shape)\n",
    "show_ohlc_upper(dfsRoot.loc['300459'][-tail_days:],code='300459')"
   ]
  },
  {
   "cell_type": "code",
   "execution_count": null,
   "id": "7fb0f458-1b27-4740-815b-73dca6ce4202",
   "metadata": {
    "ExecuteTime": {
     "end_time": "2023-08-22T12:17:55.042006Z",
     "start_time": "2023-08-22T12:17:50.848821Z"
    },
    "tags": []
   },
   "outputs": [],
   "source": [
    "for co in top20_nd.index[:2]:\n",
    "    print(co,dfNow.loc[co].ra_diff[-2:])\n",
    "    # show_ohlc_upper(dfs.loc[co][-30:],co)\n",
    "    show_ohlc_upper(dfsRoot.loc[co][-tail_days:],co)"
   ]
  },
  {
   "cell_type": "code",
   "execution_count": null,
   "id": "5389ff53-fe9e-4c27-ae68-6a90b903222b",
   "metadata": {
    "ExecuteTime": {
     "end_time": "2023-08-22T12:17:55.606072Z",
     "start_time": "2023-08-22T12:17:55.543205Z"
    },
    "tags": []
   },
   "outputs": [],
   "source": [
    "code_df = '600519'\n",
    "dfNow_t2 = dfNow.groupby(level=[0]).tail(2)\n",
    "# dfNow_f = dfNow_t2[ (dfNow_t2.idx > dfNow_t2.idx.shift(1)) & (dfNow_t2.xratio > dfNow_t2.xratio.shift(1)) ]\n",
    "idx = pd.IndexSlice\n",
    "mask_df =  ((dfNow_t2.idx > dfNow_t2.idx.shift(1)) & (dfNow_t2.xratio > dfNow_t2.xratio.shift(1)) )\n",
    "\n",
    "dfNow_t2 = dfNow_t2.loc[idx[mask_df, :]]\n",
    "\n",
    "group250 = dfNow_t2.groupby(level=[0])\n",
    "dfNow_f = group250.tail(1).reset_index().set_index('code')\n",
    "mask_df = (dfNow_f.date >= cct.get_today())\n",
    "dfNow_f = dfNow_f.loc[idx[mask_df, :]]\n",
    "dfNow_f[:2]"
   ]
  },
  {
   "cell_type": "code",
   "execution_count": null,
   "id": "3617d07c-b1a4-4a92-b2bf-9196371ec1d3",
   "metadata": {
    "ExecuteTime": {
     "end_time": "2023-08-22T12:17:56.188540Z",
     "start_time": "2023-08-22T12:17:56.174578Z"
    },
    "tags": []
   },
   "outputs": [],
   "source": [
    "# dfNow_f.shape,dfNow_f[:3],dfNow_t2.loc['600812'],df.loc['600812'][-2:]\n",
    "# dfNow_f[dfNow_f.date >= cct.get_today()]\n",
    "# dfNow_f.loc['000006']\n",
    "# dfNow_t2.loc['000006']\n",
    "# (dfNow_t2.loc[code_df].idx > dfNow_t2.loc[code_df].idx.shift(1)) \n",
    "# (dfNow_t2.loc[code_df].xratio > dfNow_t2.loc[code_df].xratio.shift(1))\n",
    "# dfNow_f.loc[code_df],dfNow.loc[code_df]"
   ]
  },
  {
   "cell_type": "markdown",
   "id": "c0315aa8-4cac-481c-85b9-3f6c4b23fe7e",
   "metadata": {},
   "source": [
    "### pandas multiinde drop last row"
   ]
  },
  {
   "cell_type": "raw",
   "id": "d90f7cd9-c9a4-4eed-b45b-b3d38ac5915e",
   "metadata": {
    "execution": {
     "iopub.execute_input": "2023-02-13T10:04:57.439648Z",
     "iopub.status.busy": "2023-02-13T10:04:57.439648Z",
     "iopub.status.idle": "2023-02-13T10:04:57.462586Z",
     "shell.execute_reply": "2023-02-13T10:04:57.462586Z",
     "shell.execute_reply.started": "2023-02-13T10:04:57.439648Z"
    },
    "tags": []
   },
   "source": [
    "df.loc['000002'][-1:]\n",
    "# df.index=df.index.drop(sina_today.index)\n",
    "# df.drop(level='date', labels=df.index.get_level_values('date')[-1]).index[-2:]\n",
    "dfNow.loc['000002'][-1:]"
   ]
  },
  {
   "cell_type": "code",
   "execution_count": null,
   "id": "292199fe-9ba2-47fa-9c00-968d4418a335",
   "metadata": {
    "ExecuteTime": {
     "end_time": "2023-08-22T12:17:56.740097Z",
     "start_time": "2023-08-22T12:17:56.726101Z"
    },
    "tags": []
   },
   "outputs": [],
   "source": [
    "df.loc['000002'][-2:]"
   ]
  },
  {
   "cell_type": "code",
   "execution_count": null,
   "id": "bb830707-4737-45c4-bc48-403597c2e420",
   "metadata": {
    "ExecuteTime": {
     "end_time": "2023-08-22T12:17:57.307136Z",
     "start_time": "2023-08-22T12:17:57.277219Z"
    },
    "tags": []
   },
   "outputs": [],
   "source": [
    "dfNow.loc['000002'][-2:]"
   ]
  },
  {
   "cell_type": "markdown",
   "id": "65812799-6442-46c7-a11d-6e2ff5a9dbda",
   "metadata": {},
   "source": [
    "# 基础处理"
   ]
  },
  {
   "cell_type": "code",
   "execution_count": null,
   "id": "743dee91-4942-4660-b4ce-44c349a1db5e",
   "metadata": {
    "ExecuteTime": {
     "end_time": "2023-08-22T12:18:08.039491Z",
     "start_time": "2023-08-22T12:18:07.913828Z"
    },
    "tags": []
   },
   "outputs": [],
   "source": [
    "# show_tdx_data(dfs.loc['600519'][-2:])\n",
    "dfs = dfNow.fillna(0)\n",
    "groupd = dfs.groupby(level=[0])\n",
    "single = False\n",
    "dt_low = None\n",
    "df_idx = None\n",
    "if single:\n",
    "    dfs_dtlen = groupd.tail(1)\n",
    "    print(\"dfs tail1\")\n",
    "else:\n",
    "    single = True\n",
    "    dl = 30\n",
    "    dindex = tdd.get_tdx_Exp_day_to_df(\n",
    "        '999999', dl=dl, resample=resample).sort_index(ascending=False)\n",
    "    dt = tdd.get_duration_price_date('999999', df=dindex)\n",
    "\n",
    "    dt = dindex[dindex.index >= dt].index.values\n",
    "    dt_low = dt[-1]\n",
    "    print('dt_low:%s %s' % (dt_low,dt[0]))\n",
    "    dtlen = len(dt) if len(dt) > 0 else 1\n",
    "    dfs_dtlen = groupd.tail(dtlen)\n",
    "    # import ipdb;ipdb.set_trace()\n",
    "    dfs_dtlen[-2:]\n",
    "    df_idx = get_groupby_mean_median_close(dfs_dtlen)\n",
    "\n",
    "    # print((\"dfs tail:%s dt:%s\" % (dtlen, dt)))\n",
    "    dfs_dtlen = get_multi_date_duration(dfs_dtlen, dt[-1])\n",
    "\n",
    "# groupd2 = dfs.groupby(level=[0])\n",
    "# dfs['ma%d'%cumdays] = groupd['close'].apply(pd.rolling_mean, cumdays)\n",
    "\n",
    "# dfs.reset_index().groupby(['code'])['date'].transform('count')\n",
    "# single = True\n",
    "\n",
    "print(\"Low:%s\" % (dt[-1]))\n",
    "# dfs_dtlen.loc['999999'].reset_index().date\n",
    "lastday_week = dfs_dtlen.loc['999999'].reset_index().date[0]\n",
    "lastday_week\n",
    "# dfs_dtlen[('ma%s') % (rollma[-1])][-2:]\n",
    "# print(df_idx)"
   ]
  },
  {
   "cell_type": "code",
   "execution_count": null,
   "id": "3af49ddc-998a-4598-b5e4-431ea27e73d0",
   "metadata": {
    "ExecuteTime": {
     "end_time": "2023-08-22T12:18:15.097145Z",
     "start_time": "2023-08-22T12:18:12.135410Z"
    },
    "tags": []
   },
   "outputs": [],
   "source": [
    "time_s = time.time()\n",
    "# rollma\n",
    "\n",
    "def get_mask_df(dfs):\n",
    "    dfs = dfs.fillna(0)\n",
    "    idx = pd.IndexSlice\n",
    "    # mask = (dfs[('ma%s')%(rollma[0])] > dfs[('ma%s')%(rollma[1])]) & (dfs[('ma%s')%(rollma[-1])] > 0) & (dfs[('close')] > dfs[('ma%s')%(rollma[0])])  & (dfs[('close')] > dfs[('ma%s')%(rollma[-1])])\n",
    "    # mask = (dfs[('ma%s')%(rollma[0])] > dfs[('ma%s')%(rollma[1])]) & (dfs[('ma%s')%(rollma[-1])] > 0) & (dfs[('close')] > dfs[('ma%s')%(rollma[1])])  & (dfs[('close')] > dfs[('ma%s')%(rollma[-1])])\n",
    "    # mask = (dfs[('ma%s')%(rollma[0])] > dfs[('ma%s')%(rollma[1])]) & (dfs[('ma%s')%(rollma[-1])] > 0) &  (dfs[('close')] > dfs[('ma%s')%(rollma[-1])])\n",
    "\n",
    "    # mask = ( (dfs[('ma%s')%(rollma[0])] > 0) & (dfs[('ma%s')%(rollma[-1])] > 0) & (dfs[('close')] > dfs[('ma%s')%(rollma[-1])]) & (dfs[('close')] > dfs[('ma%s')%(rollma[0])]))\n",
    "    # mask = ( (dfs[('ma%s')%(rollma[0])] > 0) & (dfs[('ma%s')%(rollma[-1])] > 0)\n",
    "    #         & (dfs[('close')] > dfs[('ma%s')%(rollma[-1])]*ma_250_l)\n",
    "    #         & (dfs[('close')] < dfs[('ma%s')%(rollma[-1])]*ma_250_h)\n",
    "    #         & (dfs[('close')] > dfs[('ma%s')%(rollma[0])]))\n",
    "\n",
    "    # & (dfs['mean'] > dfs['median'])\n",
    "    # & (dfs['close'] > dfs['mean'])\n",
    "\n",
    "    if len(rollma) > 1:\n",
    "\n",
    "        mask = ((dfs[('ma%s') % (rollma[0])] > 0) & (dfs[('ma%s') % (rollma[-1])] > 0) &\n",
    "                (dfs[('ma%s') % (rollma[0])] > dfs[('ma%s') % (rollma[-1])]) &\n",
    "                (dfs[('close')] > dfs[('ma%s') % (rollma[0])]) &\n",
    "                (dfs[('close')] > dfs[('ma%s') % (rollma[-1])]*ma_250_h) &\n",
    "                ((dfs[('close')] > dfs['boll']) | (dfs[('close')] > dfs['upper']))\n",
    "                )\n",
    "    else:\n",
    "        mask = ((dfs[('ma%s') % (rollma[0])] > 0) &\n",
    "                (dfs[('close')] > dfs[('ma%s')%(rollma[0])]) &\n",
    "                ((dfs[('close')] > dfs['boll']) | (dfs[('close')] > dfs['upper']) )\n",
    "                )\n",
    "\n",
    "    return dfs.loc[idx[mask, :]]\n",
    "\n",
    "# mask = ((dfs[('close')] > dfs[('ma%s')%(rollma[-1])]))\n",
    "\n",
    "\n",
    "df_mask = get_mask_df(dfs_dtlen)\n",
    "print(df_mask.shape)\n",
    "df_mask = get_multi_code_count(df_mask)\n",
    "print((df_mask.couts[:5], df_mask.shape))\n",
    "\n",
    "# import ipdb;ipdb.set_trace()\n",
    "# df.sort_values(by='couts',ascending=0)\n",
    "# groupd.first()[:2],groupd.last()[:2]\n",
    "# groupd = df250.groupby(level=[0])\n",
    "# '''\n",
    "# groupd.transform(lambda x: x.iloc[-1])\n",
    "# groupd.last()\n",
    "# groupd.apply(lambda x: x.close > x.ma250)\n",
    "# df.shape,df.sort_index(ascending=False)[:5]\n",
    "# ?groupd.agg\n",
    "# groupd = df.groupby(level=[0])\n",
    "# groupd['close'].apply(pd.rolling_mean, 250, min_periods=1)\n",
    "# ex:# Group df by df.platoon, then apply a rolling mean lambda function to df.casualties\n",
    "# df.groupby('Platoon')['Casualties'].apply(lambda x:x.rolling(center=False,window=2).mean())\n",
    "\n",
    "code_uniquelist = df_mask.index.get_level_values('code').unique()\n",
    "code_select = code_uniquelist[random.randint(0, len(code_uniquelist) - 1)]\n",
    "\n",
    "# if app:\n",
    "#     print(round(time.time() - time_s, 2), 's', df.index.get_level_values(\n",
    "#         'code').unique().shape, code_select, df.loc[code_select][-1:])\n",
    "\n",
    "if single:\n",
    "    # groupd = df.groupby(level=[0])\n",
    "    if tdx:\n",
    "        # block_path = tdd.get_tdx_dir_blocknew() + '060.blk'\n",
    "        # if cct.get_work_time():\n",
    "        #     codew = df[df.date == cct.get_today()].index.tolist()\n",
    "\n",
    "        if dt_low is not None:\n",
    "\n",
    "            groupd2 = df_mask.groupby(level=[0])\n",
    "            df_mask = groupd2.tail(1)\n",
    "            df_mask = df_mask.reset_index().set_index('code')\n",
    "            # import ipdb;ipdb.set_trace()\n",
    "\n",
    "            # df = df[(df.date >= dt_low) & (df.date <= cct.get_today())]\n",
    "            dd = df_mask[(df_mask.date == dt_low)]\n",
    "            # df = df[(df_mask.date >= cct.last_tddate(1))]\n",
    "            df_mask = df_mask[(df_mask.date >= df_mask.date.max())]\n",
    "            # import ipdb;ipdb.set_trace()\n",
    "            print((\"dt_low:%s df:%s %s df_idx:%s\" %\n",
    "                  (dt_low,len(df_mask), df_mask.index[:5], len(df_idx))))\n",
    "\n",
    "\n",
    "                \n",
    "            print((\"Main Down dd :%s MainUP df:%s couts std:%0.1f \" %\n",
    "                  (len(dd), len(df_mask), df_mask.couts.std())))\n",
    "            # print df.date.mode()[0]\n",
    "            if len(df_mask) > 0:\n",
    "                if df_idx is not None and len(df_mask) > 0 and len(df_idx) > 0:\n",
    "                    idx_set_ = [x for x in df_idx.index if x in df_mask.index]\n",
    "                    # df_mask = df_mask.loc[idx_set_, :].dropna()\n",
    "                df_mask = df_mask.sort_values(by='couts', ascending=1)\n",
    "                df_mask = df_mask[df_mask.couts > df_mask.couts.std()]\n",
    "            else:\n",
    "                print(\"df_mask is None:%s\"%(len(df_mask)))\n",
    "            # df = df[(df.date >= df.date.mode()[0]) & (df.date <= cct.get_today())]\n",
    "            codew = df_mask.index.tolist()\n",
    "\n",
    "            if app:\n",
    "                print(\n",
    "                    \"time: %s  %s\" %\n",
    "                    (round(time.time() - time_s, 2), len(df_mask)))\n",
    "\n",
    "        else:\n",
    "            df_mask = df_mask.reset_index().set_index('code')\n",
    "            df_mask = df_mask[(df_mask.date >= cct.last_tddate(days=10)) &\n",
    "                              (df_mask.date <= cct.get_today())]\n",
    "            codew = df_mask.index.tolist()\n",
    "\n",
    "        top_temp = tdd.get_sina_datadf_cnamedf(codew, df_mask)\n",
    "  #      top_temp = top_temp[(~top_temp.index.str.contains(\n",
    "  #          '688')) & (~top_temp.name.str.contains('ST'))]\n",
    "        top_temp = top_temp.sort_values(by=['couts'], ascending=[0])\n",
    "        codew = top_temp.index.tolist()\n",
    "\n",
    "        # clean st and 688\n",
    "\n",
    "    # df['date'] = df['date'].apply(lambda x:(x.replace('-','')))\n",
    "    # df['date'] = df['date'].astype(int)\n",
    "    # print df_mask.loc[code_select].T,df_mask.shape\n",
    "#     MultiIndex = False\n",
    "# else:\n",
    "#     MultiIndex = True"
   ]
  },
  {
   "cell_type": "code",
   "execution_count": null,
   "id": "7ebabb66-49f4-4ea0-837d-b4bedf42c9e4",
   "metadata": {
    "ExecuteTime": {
     "end_time": "2023-08-22T12:18:15.837161Z",
     "start_time": "2023-08-22T12:18:15.807241Z"
    },
    "tags": []
   },
   "outputs": [],
   "source": [
    "dfs_dtlen.loc['002987'][-1:]"
   ]
  },
  {
   "cell_type": "markdown",
   "id": "9f9d7779-33cc-4def-9d55-dc37610a23e1",
   "metadata": {},
   "source": [
    "## 最近60天筛选"
   ]
  },
  {
   "cell_type": "code",
   "execution_count": null,
   "id": "add196c9-b76a-45f7-b36f-766dbdbb1f7a",
   "metadata": {
    "ExecuteTime": {
     "end_time": "2023-08-22T12:18:17.596106Z",
     "start_time": "2023-08-22T12:18:17.513819Z"
    },
    "tags": []
   },
   "outputs": [],
   "source": [
    "# 截取最后5天数据\n",
    "dfs_tail = dfs.groupby(level=[0]).tail(tail_days)\n",
    "# 还原多索引\n",
    "# dfs_tail = dfs_tail.reset_index().set_index(['code','date'])\n",
    "# dfs_tail[dfs_tail.ra_diff > 2]"
   ]
  },
  {
   "cell_type": "markdown",
   "id": "53a757c7-5512-4a18-85e1-b9cf937d735f",
   "metadata": {},
   "source": [
    "### filter mask250 get_level_values"
   ]
  },
  {
   "cell_type": "code",
   "execution_count": null,
   "id": "dfa4a548-d308-48b5-b4db-3a4ab899ea0d",
   "metadata": {
    "ExecuteTime": {
     "end_time": "2023-08-22T12:18:19.142582Z",
     "start_time": "2023-08-22T12:18:19.079749Z"
    },
    "tags": []
   },
   "outputs": [],
   "source": [
    "mask250 = ((dfs_tail[('ma%s') % (rollma[0])] > 0) & (dfs_tail[('ma%s') % (rollma[-1])] > 0) &\n",
    "           (dfs_tail[('close')] > dfs_tail[('ma%s') % (rollma[0])])\n",
    "            & (dfs_tail[('close')] > dfs_tail[('ma%s') % (rollma[-1])]*1.03)\n",
    "              & (dfs_tail[('close')] < dfs_tail[('ma%s') % (rollma[-1])]*1.1)\n",
    "                & (dfs_tail[('close')] > dfs_tail[('ma20')])\n",
    "           & (dfs_tail[('close')] < dfs_tail[('ma20'   )]*1.1))\n",
    "idx = pd.IndexSlice\n",
    "df_mask250 = dfs_tail.loc[idx[mask250, :]]\n",
    "print(df_mask250.shape)\n",
    "df_mask250 = get_multi_code_count(df_mask250)\n",
    "print((df_mask250.couts[:1], df_mask250.shape))\n",
    "\n",
    "groupd250 = df_mask250.groupby(level=[0])\n",
    "df_mask250 = groupd250.tail(1)\n",
    "# df_mask250 = df_mask250[df_mask250.index.get_level_values(1) > str(df_mask250.loc['999999'].index[0])[:10] ]\n",
    "# df_mask250 = clean_688(df_mask250)\n",
    "\n",
    "# df_mask250['idx'] = df_idx_detect\n",
    "print((df_mask250.couts[:2], df_mask250.shape))\n",
    "# print(df_mask.loc['002987'])\n",
    "df_mask250 = df_mask250.sort_values(\n",
    "        by=['ra_diff','hat', 'couts'],\n",
    "        ascending=[0,0, 0])\n",
    "show_tdx_data(\n",
    "    df_mask250)[:3]"
   ]
  },
  {
   "cell_type": "markdown",
   "id": "9bd328dd-d57d-4355-b90c-cc8c71fdfd45",
   "metadata": {},
   "source": [
    "#### filter today"
   ]
  },
  {
   "cell_type": "code",
   "execution_count": null,
   "id": "f909db9b-de6a-42ce-864a-230715b32343",
   "metadata": {
    "ExecuteTime": {
     "end_time": "2023-08-22T12:18:22.750518Z",
     "start_time": "2023-08-22T12:18:22.745527Z"
    },
    "tags": []
   },
   "outputs": [],
   "source": [
    "df_mask250  = df_mask250[(df_mask250.xratio > 0) & (df_mask250.index.get_level_values('date') > cct.get_today() )]\n",
    "# df_tail1[df_tail1.index.get_level_values('date') == cct.get_today()].shape\n"
   ]
  },
  {
   "cell_type": "code",
   "execution_count": null,
   "id": "51851325-9d22-4646-ae96-0a836c835e05",
   "metadata": {
    "ExecuteTime": {
     "end_time": "2023-08-22T12:18:23.643366Z",
     "start_time": "2023-08-22T12:18:23.630400Z"
    },
    "tags": []
   },
   "outputs": [],
   "source": [
    "# df_mask250.index.get_level_values(1) > str(df_mask250.loc['999999'].index[0])[:10]"
   ]
  },
  {
   "cell_type": "markdown",
   "id": "b10c3ea9-4c7b-4312-a2e7-46b97d9cb286",
   "metadata": {},
   "source": [
    "#### debug ra_diff4"
   ]
  },
  {
   "cell_type": "code",
   "execution_count": null,
   "id": "ae350bcd-6ad0-4ffd-8817-125d3e891b91",
   "metadata": {
    "ExecuteTime": {
     "end_time": "2023-08-22T12:18:25.545697Z",
     "start_time": "2023-08-22T12:18:25.536689Z"
    },
    "tags": []
   },
   "outputs": [],
   "source": [
    "dfs.loc['301073'][-5:].ra_diff"
   ]
  },
  {
   "cell_type": "code",
   "execution_count": null,
   "id": "27507d68-6d2d-469f-9d5a-3a7998fe351f",
   "metadata": {
    "ExecuteTime": {
     "end_time": "2023-08-22T12:18:36.581043Z",
     "start_time": "2023-08-22T12:18:32.121416Z"
    },
    "tags": []
   },
   "outputs": [],
   "source": [
    "# dfs.loc['000002'][-60:]\n",
    "show_ohlc_upper(dfsRoot.loc['000002'][-60:],code='000002')\n",
    "for co in df_mask250.index.get_level_values(0)[:10]:\n",
    "    print(co,dfs.loc[co].ra_diff[-1])\n",
    "    show_ohlc_upper(dfsRoot.loc[co][-tail_days:],code=co)"
   ]
  },
  {
   "cell_type": "markdown",
   "id": "03dae40a-7528-4244-a221-56bc27c67dca",
   "metadata": {},
   "source": [
    "## 最近60天数据"
   ]
  },
  {
   "cell_type": "code",
   "execution_count": null,
   "id": "40a4101a-6eab-4079-b8d7-9c6cee43d863",
   "metadata": {
    "ExecuteTime": {
     "end_time": "2023-08-22T12:19:54.861610Z",
     "start_time": "2023-08-22T12:19:54.810746Z"
    },
    "tags": []
   },
   "outputs": [],
   "source": [
    "dfs_tail9 = dfs.groupby(level=[0]).tail(tail_days)\n",
    "\n",
    "# 提取倒数第二天\n",
    "# dfs_tail9 = dfs.groupby(level=[0]).tail(6)\n",
    "# dfs_tail9 = dfs_tail9[dfs_tail9.index.get_level_values(1) <lastday]\n",
    "\n",
    "\n",
    "# dfs_tail9.index.get_level_values(0)\n",
    "# 还原多索引\n",
    "# dfs_tail = dfs_tail.reset_index().set_index(['code','date'])\n",
    "# print(dfs_tail9.loc['002987'][:1])\n",
    "# show_tdx_data(dfs_tail9.loc[code_t])\n",
    "# dfs_tail9=compute_perd_value(dfs_tail9,market_value=5,col='vol')\n",
    "\n",
    "# show_tdx_data(dfs_tail9.loc[code_t])\n",
    "# print((dfs_tail9.loc[code_t]))"
   ]
  },
  {
   "cell_type": "code",
   "execution_count": null,
   "id": "29c6b109-d72d-4e01-bbb3-b83ddaabcf77",
   "metadata": {
    "ExecuteTime": {
     "end_time": "2023-08-22T12:19:55.779724Z",
     "start_time": "2023-08-22T12:19:55.750802Z"
    },
    "tags": []
   },
   "outputs": [],
   "source": [
    "dfs_tail9.loc[(['999999','399001','399006'],'ra_diff')].groupby(level=0).tail(3)\n",
    "# dfs_tail9.loc[pd.IndexSlice[['999999','399001','399006'], :, :]].tail(3)\n",
    "# dfs_tail9.query((\"code == '999999'\" and \"date > '2023-04-01'\"))"
   ]
  },
  {
   "cell_type": "markdown",
   "id": "0b3173f3-5f93-46af-93ba-ae54292d1e64",
   "metadata": {},
   "source": [
    "## 超跌反弹年线大于MA20"
   ]
  },
  {
   "cell_type": "code",
   "execution_count": null,
   "id": "05296d21-3ea1-4e29-9dc7-f9eea51d5c5b",
   "metadata": {
    "ExecuteTime": {
     "end_time": "2023-08-22T12:19:59.041578Z",
     "start_time": "2023-08-22T12:19:59.014618Z"
    },
    "tags": []
   },
   "outputs": [],
   "source": [
    "# show_tdx_data(dfs_tail9.loc['300418'])[-2:]\n",
    "show_tdx_data(dfs_tail9.loc['603131'])[-2:]\n",
    "# print(dfs_tail9.loc['603131',['high','upper','hmax']])"
   ]
  },
  {
   "cell_type": "markdown",
   "id": "195a4c34-9366-41d1-94ea-7ffc9d33cd51",
   "metadata": {},
   "source": [
    "## !!! Run-Filter强势Upper"
   ]
  },
  {
   "cell_type": "markdown",
   "id": "4d9bbe3c-3272-4851-9ec0-86142e5378dd",
   "metadata": {
    "tags": []
   },
   "source": [
    "### !!! filterRule test"
   ]
  },
  {
   "cell_type": "code",
   "execution_count": null,
   "id": "690ac9bf-ef72-4966-971c-15a9c0d86f0f",
   "metadata": {
    "ExecuteTime": {
     "end_time": "2023-08-22T12:20:03.128907Z",
     "start_time": "2023-08-22T12:20:03.118934Z"
    },
    "tags": []
   },
   "outputs": [],
   "source": [
    "# dfs_tail9.loc['002722']\n",
    "\n",
    "\n",
    "def rules_to_list(rules):\n",
    "    rules_l = (rules).split('&')\n",
    "    for l in rules_l:\n",
    "        print(l)\n",
    "    return rules_l\n",
    "\n",
    "\n",
    "def filter_rule_Test(dfs_tail9,resample=resample):\n",
    "    col_rule = [\"(dfs_tail9[('close')] > dfs_tail9[('ma5')])\",\n",
    "                \"(dfs_tail9[('high')] > dfs_tail9.upper)\",\n",
    "                \"(dfs_tail9[('ma5')] > dfs_tail9[('ma20')])\"]\n",
    "    col_rule2 = [\n",
    "        \"(dfs_tail9[('close')] > dfs_tail9[('hmax')].shift(1)*0.98) | (dfs_tail9['close'] > dfs_tail9['hmax']*0.97)\",\n",
    "        \"((dfs_tail9[('vol1d')] > 0) | (dfs_tail9.close > dfs_tail9.close.shift(1)*0.99))\"]\n",
    "    col_rule3 = [\n",
    "        \"((dfs_tail9[('vol2d')] > 0) | (dfs_tail9.close.shift(1) > dfs_tail9.close.shift(2)*0.99))\"]\n",
    "\n",
    "    col_rule_tail1 = [\"(dfs_tail9.perc1d < 21)\", \"(dfs_tail9.perc2d > 0)\"]\n",
    "    if resample.upper()=='D':\n",
    "        col_rule_tail2 = [\n",
    "            \"((dfs_tail9.perc3d > 0) | ((dfs_tail9.close.shift(2) > dfs_tail9.ma5.shift(2))) )\",\n",
    "            \"((dfs_tail9.volsum5d > 50) )\",\n",
    "            \"(dfs_tail9['close'] > dfs_tail9[('hmax')])\",\n",
    "            \"(dfs_tail9[('close')] > dfs_tail9[('ma250')])\",\n",
    "            \"(dfs_tail9['low'] > dfs_tail9[('low')].shift(1))\"]\n",
    "        col_rule_tail3 = [\"(dfs_tail9[('hmax')] > 0)\",\n",
    "                 \"(dfs_tail9[('high')] >= dfs_tail9[('hmax')])\",\n",
    "                 \"(dfs_tail9[('close')] > dfs_tail9.ma250 * 0.99)\"]\n",
    "    else:\n",
    "        col_rule_tail2 = [\n",
    "            \"((dfs_tail9.perc3d > 0) | ((dfs_tail9.close.shift(2) > dfs_tail9.ma5.shift(2))) )\",\n",
    "            \"((dfs_tail9.volsum5d > 50) )\",\n",
    "            \"(dfs_tail9['close'] > dfs_tail9[('hmax')])\",\n",
    "            \"(dfs_tail9['low'] > dfs_tail9[('low')].shift(1))\"]\n",
    "        col_rule_tail3 = [\"(dfs_tail9[('hmax')] > 0)\",\n",
    "                 \"(dfs_tail9[('high')] >= dfs_tail9[('hmax')])\"]\n",
    "    col_rule_tail4=[ \"(dfs_tail9[('xratio')] > dfs_tail9[('xratio')].shift(1))\",\n",
    "             \"(dfs_tail9[('xratio')].shift(1) > dfs_tail9[('xratio')].shift(2))\"]\n",
    "    \n",
    "    col_rule.extend(col_rule2)\n",
    "    col_rule.extend(col_rule3)\n",
    "    col_rule.extend(col_rule_tail1)\n",
    "    col_rule.extend(col_rule_tail2)\n",
    "    col_rule.extend(col_rule_tail3)\n",
    "    col_rule.extend(col_rule_tail4)\n",
    "    \n",
    "    for co in col_rule:\n",
    "        print(\"%s:%s\" % (co, eval(co)), end='')\n",
    "\n"
   ]
  },
  {
   "cell_type": "code",
   "execution_count": null,
   "id": "e5a58c0a-938f-433a-8bfd-c386700ee91d",
   "metadata": {
    "ExecuteTime": {
     "end_time": "2023-08-22T12:20:04.926036Z",
     "start_time": "2023-08-22T12:20:04.522983Z"
    },
    "tags": []
   },
   "outputs": [],
   "source": [
    "code_filter = '601728'\n",
    "\n",
    "print(len(dfs_tail9.loc[code_filter]))\n",
    "\n",
    "# show_tdx_data(dfs_tail9.loc[code_filter])\n",
    "detect_bull_bear(dfs.loc[code_filter][-120:].close)\n",
    "detect_bull_bear_apply(dfs.loc[code_filter][-120:].close)\n",
    "\n",
    "dfs.loc[code_filter].xratio[-5:]\n",
    "\n",
    "# filter_rule_Test(dfs_tail9.loc[code_filter])\n",
    "\n",
    "show_ohlc_upper(dfsRoot.loc[code_filter][-60:], code=code_filter)\n",
    "\n"
   ]
  },
  {
   "cell_type": "code",
   "execution_count": null,
   "id": "6cdd4faa-3fa1-4010-a429-3b83693e29a9",
   "metadata": {
    "ExecuteTime": {
     "end_time": "2023-08-22T12:20:09.736168Z",
     "start_time": "2023-08-22T12:20:09.726194Z"
    },
    "tags": []
   },
   "outputs": [],
   "source": [
    "# dfs.loc['300474'][-5:]"
   ]
  },
  {
   "cell_type": "markdown",
   "id": "877ffea7-d6b5-4b21-8c9e-0e1a18104949",
   "metadata": {
    "tags": []
   },
   "source": [
    "### 新高Hmax日见新高df_mask_hmax"
   ]
  },
  {
   "cell_type": "markdown",
   "id": "593646cd-ae6b-4b56-b7d4-e2c9cdcabc8b",
   "metadata": {
    "tags": []
   },
   "source": [
    "#### hmax 追高 TEST"
   ]
  },
  {
   "cell_type": "code",
   "execution_count": null,
   "id": "83ed4e34-b717-4c0a-b649-ce5dc6d29135",
   "metadata": {
    "ExecuteTime": {
     "end_time": "2023-08-22T12:20:29.925667Z",
     "start_time": "2023-08-22T12:20:29.547618Z"
    },
    "tags": []
   },
   "outputs": [],
   "source": [
    "code='600012'\n",
    "print(len(dfs_tail9.loc[code]))\n",
    "# show_tdx_data(dfs_tail9.loc[code],col='upper')\n",
    "show_ohlc_upper(dfsRoot.loc[code],code=code)"
   ]
  },
  {
   "cell_type": "code",
   "execution_count": null,
   "id": "a1cc858b-53da-459a-8163-e6a368378daf",
   "metadata": {},
   "outputs": [],
   "source": []
  },
  {
   "cell_type": "code",
   "execution_count": null,
   "id": "aaa26f2c-51e8-49aa-a2c0-1d1622ce152b",
   "metadata": {
    "ExecuteTime": {
     "end_time": "2023-08-22T12:21:00.286276Z",
     "start_time": "2023-08-22T12:21:00.170490Z"
    },
    "tags": []
   },
   "outputs": [],
   "source": [
    "\n",
    "# mask_hmax = ((dfs_tail9[('close')] > dfs_tail9[('hmax')].shift(\n",
    "#     1) * 0.99) | (dfs_tail9['close'] > dfs_tail9['hmax'] * 0.99))\n",
    "\n",
    "# mask_hmax = ( (dfs_tail9[('hmax')] > 0) & ((dfs_tail9[('high')] > dfs_tail9[('hmax')].shift(\n",
    "#     1) * 0.99) | (dfs_tail9['high'] > dfs_tail9['hmax'] * 0.99)) )\n",
    "\n",
    "# mask_hmax = ((dfs_tail9[('hmax')] > 0) &\n",
    "\n",
    "if resample.upper() =='D':\n",
    "    mask_hmax = ( (dfs_tail9[('high')] > dfs_tail9[('hmax')].shift(1)) &\n",
    "                 ((dfs_tail9[('high')] >= dfs_tail9[('hmax')])) &\n",
    "                 (dfs_tail9[('close')] > dfs_tail9.ma250 * 0.99))\n",
    "                 # (dfs_tail9[('close')] > dfs_tail9.ma250 * 0.99) &\n",
    "                 # (dfs_tail9[('close')] < dfs_tail9.ma250 * 1.05))\n",
    "else:\n",
    "    mask_hmax = ( (dfs_tail9[('low')] >= dfs_tail9[('ma5')].shift(1))  &\n",
    "              (dfs_tail9[('high')] >= dfs_tail9[('high')].shift(1))  ) \n",
    "\n",
    "# mask_hmax = ( (dfs_tail9[('hmax')] > 0) & (dfs_tail9[('close')] > dfs_tail9.ma20 *0.99) & (dfs_tail9[('close')] < dfs_tail9.ma20 *1.20) )\n",
    "\n",
    "\n",
    "df_mask_hmax = dfs_tail9.loc[idx[mask_hmax, :]]\n",
    "df_mask_hmax = get_multi_code_count(df_mask_hmax)\n",
    "\n",
    "# df_mask_hmax = df_mask_hmax[ (df_mask_hmax[('close')] > df_mask_hmax.upper)]\n",
    "\n",
    "# df_mask_hmax.couts.std()\n",
    "\n",
    "df_mask_hmax = df_mask_hmax.groupby(level=[0]).tail(\n",
    "    1).reset_index().set_index('code')\n",
    "\n",
    "df_mask_hmax = df_mask_hmax[df_mask_hmax.date >= lastday]\n",
    "# df_mask_hmax = get_sina_data_cname(df_mask_hmax, dm,realtime=True)\n",
    "df_mask_hmax = get_sina_data_cname(df_mask_hmax, realtime=True)\n",
    "\n",
    "df_mask_hmax = clean_688(df_mask_hmax)\n",
    "\n",
    "# show_tdx_data(df_mask_hmax[df_mask_hmax.couts == 9])\n",
    "\n",
    "# by=['perc', 'perc5d', 'perc1d'],\n",
    "# code_t = '000534'\n",
    "df_mask_hmax = df_mask_hmax.sort_values(\n",
    "    by=['couts','volsum5d', 'idx', 'hat', 'perc1d'],ascending=[0,0, 0, 0, 0])\n",
    "    # by=['volsum5d', 'idx', 'hat', 'perc1d'],ascending=[0, 0, 0, 0])\n",
    "# print(df_mask_hmax.couts[:1], df_mask_hmax.shape)\n",
    "# show_tdx_data(df_mask_hmax.loc['300461'])\n",
    "df_mask_hmax.couts[:1], df_mask_hmax.shape\n",
    "show_tdx_data(df_mask_hmax)[:10]\n",
    "# show_tdx_data(df_mask_hmax[(df_mask_hmax.couts > 1) & (df_mask_hmax.volsum5d > 10) & (df_mask_hmax.volsum5d < 150)]).T"
   ]
  },
  {
   "cell_type": "markdown",
   "id": "dba394bb-99b8-4761-98bd-a8f38663ef1d",
   "metadata": {},
   "source": [
    "#### !!! hmax Top upper > 1"
   ]
  },
  {
   "cell_type": "code",
   "execution_count": null,
   "id": "3cb190e0-ed53-4b1e-89e7-22db4858c69f",
   "metadata": {
    "ExecuteTime": {
     "end_time": "2023-08-22T12:21:02.448015Z",
     "start_time": "2023-08-22T12:21:02.433054Z"
    },
    "tags": []
   },
   "outputs": [],
   "source": [
    "# dfs_tail9.loc['600103']"
   ]
  },
  {
   "cell_type": "code",
   "execution_count": null,
   "id": "bb062684-8828-4c1f-a6ac-a7a8ac702177",
   "metadata": {
    "ExecuteTime": {
     "end_time": "2023-08-22T12:21:03.624998Z",
     "start_time": "2023-08-22T12:21:03.547172Z"
    },
    "tags": []
   },
   "outputs": [],
   "source": [
    "# mask_hmax = ((dfs_tail9[('close')] > dfs_tail9[('hmax')].shift(\n",
    "#     1) * 0.99) | (dfs_tail9['close'] > dfs_tail9['hmax'] * 0.99))\n",
    "\n",
    "# mask_hmax = ( (dfs_tail9[('hmax')] > 0) & ((dfs_tail9[('high')] > dfs_tail9[('hmax')].shift(\n",
    "#     1) * 0.99) | (dfs_tail9['high'] > dfs_tail9['hmax'] * 0.99)) )\n",
    "\n",
    "# mask_hmax = ( (dfs_tail9[('hmax')] > 0) & ((dfs_tail9[('high')] >= dfs_tail9[('hmax')]*0.99) ) )\n",
    "# mask_hmax = (  (dfs_tail9[('high')] >= dfs_tail9[('hmax')]*0.99) )\n",
    "if resample.upper() == 'D':\n",
    "    mask_hmax = (  (dfs_tail9[('high')] >= dfs_tail9[('high')].shift(1)) & \n",
    "                 (dfs_tail9[('high')].shift(1) >= dfs_tail9[('high')].shift(2)) &\n",
    "                (dfs_tail9[('high')] >= dfs_tail9[('hmax')]*0.99) &\n",
    "                (dfs_tail9[('close')] >= dfs_tail9[('upper')].shift(1)) )\n",
    "else:\n",
    "    mask_hmax = (  (dfs_tail9[('high')] >= dfs_tail9[('high')].shift(1)) & \n",
    "                 (dfs_tail9[('high')].shift(1) >= dfs_tail9[('high')].shift(2)) &\n",
    "                (dfs_tail9[('close')] >= dfs_tail9[('upper')].shift(1)) )\n",
    "\n",
    "df_mask_hmax = dfs_tail9.loc[idx[mask_hmax, :]]\n",
    "\n",
    "#站上Upper\n",
    "# df_mask_hmax = df_mask_hmax[ (df_mask_hmax[('close')] > df_mask_hmax.upper)]\n",
    "\n",
    "df_mask_hmax = get_multi_code_count(df_mask_hmax)\n",
    "df_mask_hmax = df_mask_hmax.groupby(level=[0]).tail(\n",
    "    1).reset_index().set_index('code')\n",
    "\n",
    "\n",
    "\n",
    "df_mask_hmax = df_mask_hmax[df_mask_hmax.date >= lastday]\n",
    "# df_mask_hmax = get_sina_data_cname(df_mask_hmax, dm,realtime=True)\n",
    "df_mask_hmax = get_sina_data_cname(df_mask_hmax, realtime=True)\n",
    "\n",
    "df_mask_hmax = clean_688(df_mask_hmax)\n",
    "\n",
    "# show_tdx_data(df_mask_hmax[df_mask_hmax.couts == 9])\n",
    "\n",
    "# by=['perc', 'perc5d', 'perc1d'],\n",
    "# code_t = '000534'\n",
    "df_mask_hmax = df_mask_hmax.sort_values(\n",
    "    by=['couts', 'idx', 'hat', 'perc1d'],\n",
    "    ascending=[0, 0, 0, 0])\n",
    " # by=['volsum5d', 'idx', 'hat', 'perc1d'],\n",
    "print(df_mask_hmax.couts[:1], df_mask_hmax.shape)\n",
    "# show_tdx_data(df_mask_hmax.loc['000039'])\n",
    "df_mask_hmax.couts[:1], df_mask_hmax.shape\n",
    "\n",
    "# show_tdx_data(df_mask_hmax).T\n",
    "# show_tdx_data(df_mask_hmax[(df_mask_hmax.couts > 1) & (df_mask_hmax.volsum5d > 10) & (df_mask_hmax.volsum5d < 150)])\n",
    "show_tdx_data(df_mask_hmax.query('couts >= 1 and perc >2  and   low < ma5 ') )[:10]"
   ]
  },
  {
   "cell_type": "code",
   "execution_count": null,
   "id": "df945fbf-26b5-4f9d-a9a9-afc687061e93",
   "metadata": {
    "ExecuteTime": {
     "end_time": "2023-08-22T12:21:20.075951Z",
     "start_time": "2023-08-22T12:21:20.067973Z"
    },
    "tags": []
   },
   "outputs": [],
   "source": [
    "# show_tdx_data(df_mask_hmax.loc['600103'][-5:])"
   ]
  },
  {
   "cell_type": "markdown",
   "id": "591b0829-09bf-442f-a1b3-47b5fc62b1da",
   "metadata": {},
   "source": [
    "##### sort_values"
   ]
  },
  {
   "cell_type": "code",
   "execution_count": null,
   "id": "f6195553-86ca-43d2-a91f-651482e3801a",
   "metadata": {
    "ExecuteTime": {
     "end_time": "2023-08-22T12:21:21.124596Z",
     "start_time": "2023-08-22T12:21:21.080678Z"
    },
    "tags": []
   },
   "outputs": [],
   "source": [
    "show_tdx_data(\n",
    "    df_mask_hmax.query('perc > 1').sort_values(\n",
    "        by=['ra_diff', 'couts', 'idx'],\n",
    "        ascending=[0, 0, 0]),col='ra_diff')[:20]"
   ]
  },
  {
   "cell_type": "code",
   "execution_count": null,
   "id": "a649124b-a6a1-42cc-87a3-f19043582adf",
   "metadata": {
    "ExecuteTime": {
     "end_time": "2023-08-22T12:21:25.017585Z",
     "start_time": "2023-08-22T12:21:24.635018Z"
    },
    "tags": []
   },
   "outputs": [],
   "source": [
    "show_ohlc_upper(dfsRoot.loc['300540'][-60:],code='300540')"
   ]
  },
  {
   "cell_type": "markdown",
   "id": "a9cd409b-f33f-4580-b9fe-a76f484310d5",
   "metadata": {},
   "source": [
    "### !!! df_mask250 upper xratio"
   ]
  },
  {
   "cell_type": "code",
   "execution_count": null,
   "id": "fa2737bf-ba68-4891-9bdf-a86fb5e1c8dd",
   "metadata": {
    "ExecuteTime": {
     "end_time": "2023-08-22T12:21:28.015531Z",
     "start_time": "2023-08-22T12:21:27.878896Z"
    },
    "tags": []
   },
   "outputs": [],
   "source": [
    "\n",
    "if resample.upper() =='D':\n",
    "    mask250 = ((dfs_tail9[('high')] > dfs_tail9.upper) &\n",
    "               (dfs_tail9[('close')] > dfs_tail9[('ma5')])\n",
    "               & (dfs_tail9[('ma5')] > dfs_tail9[('ma20')])\n",
    "               & ((dfs_tail9[('vol1d')] > 0) | (dfs_tail9.close > dfs_tail9.close.shift( 1)*0.99))\n",
    "               & ((dfs_tail9[('vol2d')] > 0) | (dfs_tail9.close.shift(1) > dfs_tail9.close.shift(2)*0.99))\n",
    "               & (dfs_tail9['close'] > dfs_tail9[('hmax')]) &\n",
    "                (dfs_tail9[('close')] > dfs_tail9[('ma250')]) | ((dfs_tail9[('high')] > dfs_tail9.upper) &\n",
    "                                                                 (dfs_tail9[('close')] > dfs_tail9[('ma5')])) &\n",
    "               (dfs_tail9[('ma5')] > dfs_tail9[('ma20')])\n",
    "               & ((dfs_tail9[('vol1d')] > 0) | (dfs_tail9.close > dfs_tail9.close.shift(1)*0.99))\n",
    "               & ((dfs_tail9[('vol2d')] > 0) | (dfs_tail9.close.shift(1) > dfs_tail9.close.shift(2)*0.99))\n",
    "               & (dfs_tail9['low'] > dfs_tail9[('low')].shift(1))\n",
    "               & (dfs_tail9[('close')] > dfs_tail9[('ma250')])\n",
    "               & (dfs_tail9[('xratio')] > dfs_tail9[('xratio')].shift(1))\n",
    "               & (dfs_tail9[('xratio')].shift(1) > dfs_tail9[('xratio')].shift(2))\n",
    "              )\n",
    "elif resample.upper() =='W' or resample == 'W-FRI':\n",
    "    mask250 = (\n",
    "               (dfs_tail9[('close')] > dfs_tail9[('ma5')])\n",
    "               & (dfs_tail9[('ma5')] > dfs_tail9[('ma20')])\n",
    "               & ((dfs_tail9[('vol1d')] > 0) | (dfs_tail9.close > dfs_tail9.close.shift(1)*0.99))\n",
    "               & ((dfs_tail9[('vol2d')] > 0) | (dfs_tail9.close.shift(1) > dfs_tail9.close.shift(2)*0.99))\n",
    "               & (dfs_tail9['low'] > dfs_tail9[('low')].shift(1))\n",
    "               & (dfs_tail9[('xratio')] > dfs_tail9[('xratio')].shift(1))\n",
    "               & (dfs_tail9[('xratio')].shift(1) > dfs_tail9[('xratio')].shift(2))\n",
    "              )\n",
    "else:\n",
    "    mask250 = (\n",
    "               (dfs_tail9[('close')] > dfs_tail9[('ma5')])\n",
    "               & (dfs_tail9[('ma5')] > dfs_tail9[('ma20')])\n",
    "               & ((dfs_tail9[('vol1d')] > 0) | (dfs_tail9.close > dfs_tail9.close.shift(1)*0.99))\n",
    "               & ((dfs_tail9[('vol2d')] > 0) | (dfs_tail9.close.shift(1) > dfs_tail9.close.shift(2)*0.99))\n",
    "               & (dfs_tail9['low'] > dfs_tail9[('low')].shift(1))\n",
    "              )\n",
    "\n",
    "# & (dfs_tail9[('close')] < dfs_tail9[('ma20'  )]*1.1))\n",
    "idx = pd.IndexSlice\n",
    "df_mask250 = dfs_tail9.loc[idx[mask250, :]]\n",
    "df_mask250.shape\n",
    "#站上Upper\n",
    "df_mask250 = df_mask250[ (df_mask250[('close')] > df_mask250.upper)]\n",
    "\n",
    "df_mask250 = get_multi_code_count(df_mask250)\n",
    "\n",
    "\n",
    "code_t = '603131'\n",
    "print((df_mask250.couts[:3], df_mask250.shape))\n",
    "# df_mask250.loc[code_t]\n",
    "groupd250 = df_mask250.groupby(level=[0])\n",
    "df_mask250 = groupd250.tail(1).reset_index().set_index('code')\n",
    "# df_mask250 = get_sina_data_cname(df_mask250, dm,realtime=True)\n",
    "\n",
    "\n",
    "\n",
    "# df_mask250.loc[code_t].close\n",
    "df_mask250 = get_sina_data_cname(df_mask250, realtime=True)\n",
    "# df_mask250.loc[code_t].close\n",
    "\n",
    "df_mask250 = clean_688(df_mask250)\n",
    "# df_masklastd.loc['002722']\n",
    "\n",
    "df_mask250 = df_mask250.sort_values(\n",
    "    by=['idx','xratio',  'hat', 'perc1d'],\n",
    "    ascending=[0, 0, 0, 0])\n",
    "    # by=['xratio', 'idx', 'hat', 'perc1d'],\n",
    "\n",
    "# by=['perc', 'perc5d', 'perc1d'],\n",
    "# ascending=[0, 0, 0])\n",
    "print(\"df_mask250:%s df_mask_hmax:%s\"%(len(df_mask250),len(df_mask_hmax)))\n",
    "cross_hmax_250 = [co for co in df_mask250.index.get_level_values(\n",
    "    'code') if co in df_mask_hmax.index.get_level_values('code')]\n",
    "# df_mask250.loc[code_t]\n",
    "print(\"cross_hamx:%s\" % (len(cross_hmax_250)))\n",
    "show_tdx_data(df_mask250.loc[cross_hmax_250].query('couts > 1 and perc > 0')[:20])\n",
    "# show_tdx_data(df_mask250.query('couts > 1 and perc > 0')[:20])\n",
    "# show_tdx_data(df_mask250.loc[code_t])"
   ]
  },
  {
   "cell_type": "code",
   "execution_count": null,
   "id": "188cbe8c-4adb-4a13-a68d-9251a0a68f39",
   "metadata": {
    "ExecuteTime": {
     "end_time": "2023-08-22T12:21:36.572046Z",
     "start_time": "2023-08-22T12:21:32.281671Z"
    },
    "tags": []
   },
   "outputs": [],
   "source": [
    "print(\"df_mask250:%s\"%(len(df_mask250.query('couts > 1 and perc > 0'))))\n",
    "for co in df_mask250.query('couts > 1 and perc > 0').index[:10]:\n",
    "    print(co,dfs.loc[co].ra_diff[-1])\n",
    "    show_ohlc_upper(dfsRoot.loc[co][-60:],code=co)"
   ]
  },
  {
   "cell_type": "markdown",
   "id": "c05de983-befd-443a-a747-d5323c216367",
   "metadata": {
    "tags": []
   },
   "source": [
    "### Tail1 Show Top 主升浪df_masklastd"
   ]
  },
  {
   "cell_type": "code",
   "execution_count": null,
   "id": "2bb30b41-510c-44e7-a1d0-a4f70921cb71",
   "metadata": {
    "ExecuteTime": {
     "end_time": "2023-08-22T12:23:47.923770Z",
     "start_time": "2023-08-22T12:23:47.896336Z"
    },
    "tags": []
   },
   "outputs": [],
   "source": [
    "df_mask250[(df_mask250.date >= lastday_week)][:2]\n",
    "df_mask250[df_mask250.ra_diff > 1.3].shape"
   ]
  },
  {
   "cell_type": "code",
   "execution_count": null,
   "id": "78a42497-4529-463c-ba0d-c0984b7a00e5",
   "metadata": {
    "ExecuteTime": {
     "end_time": "2023-08-22T12:23:49.187918Z",
     "start_time": "2023-08-22T12:23:49.096165Z"
    },
    "tags": []
   },
   "outputs": [],
   "source": [
    "# df_masklastd = df_mask250[(df_mask250.date >= '2023-02-06') & (df_mask250.perc1d < 21) & (df_mask250.perc2d > 0) &\n",
    "if resample.upper() =='D':\n",
    "    df_masklastd = df_mask250[(df_mask250.date >= lastday) & (df_mask250.perc1d < 21) & (df_mask250.perc2d > 0)\n",
    "                          & ((df_mask250.volsum5d > 10) & (df_mask250.close > df_mask250.ma5) )\n",
    "                          ]\n",
    "                          # & ((df_mask250.perc3d > 0) | ((df_mask250.close.shift(2) > df_mask250.ma5.shift(2))) )\n",
    "else:\n",
    "    df_masklastd = df_mask250[(df_mask250.date >= lastday_week) & (df_mask250.perc1d < 21) & (df_mask250.perc2d > 0)\n",
    "                          & ((df_mask250.volsum5d > 20) & (df_mask250.close > df_mask250.ma5) )\n",
    "                          ]\n",
    "# (df_mask250.couts == 1) & (df_mask250.perc1d < 21)]\n",
    "\n",
    "#当下大于上轨\n",
    "df_masklastd = df_masklastd[df_masklastd.close > df_masklastd.ma5]\n",
    "\n",
    "print(\"src:%s  lastd:%s \" % (df_mask250.shape, df_masklastd.shape))\n",
    "\n",
    "\n",
    "if resample.upper() =='M':\n",
    "    df_masklastd = df_masklastd.sort_values(\n",
    "        by=['perc1d', 'perc3d'],\n",
    "        ascending=[0, 0])\n",
    "else:\n",
    "    df_masklastd = df_masklastd.sort_values(\n",
    "        by=['perc3d', 'perc1d'],\n",
    "        ascending=[0, 0])\n",
    "\n",
    "# print(\n",
    "#     (df_masklastd.loc\n",
    "#      [:, ['name', 'couts', 'date', 'perc1d', 'perc3d', 'perc5d']][:10],\n",
    "#      df_masklastd.shape,))\n",
    "\n",
    "# show_tdx_data(df_masklastd)\n",
    "print(df_masklastd.name.T[:20])\n",
    "# show_tdx_data(df_masklastd[-10:])\n",
    "\n",
    "\n",
    "code_t = '300675'\n",
    "code_t = '605268'\n",
    "code_t = '002828'\n",
    "code_t = '300418'\n",
    "code_t = df_masklastd.index[0]\n",
    "\n",
    "\n",
    "# df_masklastd.loc[code_t, ['name', 'couts',\n",
    "#                           'date', 'perc1d', 'perc3d', 'perc5d']]\n",
    "\n",
    "# df_masklastd.loc[code_t].date\n",
    "\n",
    "\n",
    "# df_mask250 = groupd250.head(1)\n",
    "\n",
    "# df_masklastd.loc[code_t].date\n",
    "# show_tdx_data(df_masklastd.loc[code_t])\n",
    "\n",
    "\n",
    "# show_tdx_data(df_masklastd.loc[code_t])"
   ]
  },
  {
   "cell_type": "code",
   "execution_count": null,
   "id": "f5e6d649-2eca-4e3e-8cff-9378c9db95a9",
   "metadata": {},
   "outputs": [],
   "source": []
  },
  {
   "cell_type": "markdown",
   "id": "cab552fd-00a9-4022-b10c-10ca9e91056f",
   "metadata": {},
   "source": [
    "### !!! df_mask_hmax 061"
   ]
  },
  {
   "cell_type": "code",
   "execution_count": null,
   "id": "8370a779-d3a3-47b5-b046-dcd86a1feffd",
   "metadata": {
    "ExecuteTime": {
     "end_time": "2023-08-22T12:25:40.774658Z",
     "start_time": "2023-08-22T12:25:36.906110Z"
    },
    "tags": []
   },
   "outputs": [],
   "source": [
    "print(\"df_mask_hmax:%s\"%(len(df_mask_hmax)))\n",
    "for co in df_mask_hmax.index[:10]:\n",
    "    print(co,dfs.loc[co].ra_diff[-1])\n",
    "    show_ohlc_upper(dfsRoot.loc[co][-60:],code=co)"
   ]
  },
  {
   "cell_type": "markdown",
   "id": "d5d46266-e302-419a-bb56-82f128b5fdb0",
   "metadata": {
    "tags": []
   },
   "source": [
    "###  df_masklastd 068\n",
    "    show_ohlc_upper(dfs.loc[co][-60:])"
   ]
  },
  {
   "cell_type": "code",
   "execution_count": null,
   "id": "56436756-a22c-49bb-8a76-b05f825d44ae",
   "metadata": {
    "ExecuteTime": {
     "end_time": "2023-08-22T12:25:46.878520Z",
     "start_time": "2023-08-22T12:25:42.390012Z"
    },
    "tags": []
   },
   "outputs": [],
   "source": [
    "print(\"df_masklastd:%s\"%(len(df_masklastd)))\n",
    "for co in df_masklastd.index[:10]:\n",
    "    print(co,dfs.loc[co].ra_diff[-1])\n",
    "    show_ohlc_upper(dfsRoot.loc[co][-60:],code=co)"
   ]
  },
  {
   "cell_type": "markdown",
   "id": "7a00681f-91b4-4307-8e09-d369692e92e7",
   "metadata": {},
   "source": [
    "### Cross_hmax_250 068"
   ]
  },
  {
   "cell_type": "code",
   "execution_count": null,
   "id": "bd57d57a-5724-4f41-a9b2-9f15c03bbaa6",
   "metadata": {
    "ExecuteTime": {
     "end_time": "2023-08-22T12:25:48.294242Z",
     "start_time": "2023-08-22T12:25:48.230381Z"
    },
    "tags": []
   },
   "outputs": [],
   "source": [
    "# dfs.loc[code_t].ma5\n",
    "cross_hmax_250 = [co for co in df_masklastd.index.get_level_values(\n",
    "    'code') if co in df_mask_hmax.index.get_level_values('code')]\n",
    "# df_mask250.loc[code_t]\n",
    "print(\"cross_hamx:%s\" % (len(cross_hmax_250)))\n",
    "show_tdx_data(df_masklastd.loc[cross_hmax_250][:5])"
   ]
  },
  {
   "cell_type": "code",
   "execution_count": null,
   "id": "ce592024-63c8-404b-afff-bf8b0a0b401d",
   "metadata": {
    "ExecuteTime": {
     "end_time": "2023-08-22T12:25:53.858750Z",
     "start_time": "2023-08-22T12:25:49.542670Z"
    },
    "tags": []
   },
   "outputs": [],
   "source": [
    "print(\"df_mask250:%s\"%(len(cross_hmax_250)))\n",
    "# dfs.loc['000002'].shape\n",
    "for co in cross_hmax_250[-10:]:\n",
    "    print(co,dfs.loc[co].ra_diff[-1])\n",
    "    show_ohlc_upper(dfsRoot.loc[co][-60:],code=co)"
   ]
  },
  {
   "cell_type": "markdown",
   "id": "2552024c-67c8-49ea-a652-1f989c7eefb5",
   "metadata": {},
   "source": [
    "## 写入061"
   ]
  },
  {
   "cell_type": "code",
   "execution_count": null,
   "id": "2cf514bd-2c2c-474a-86b7-52da0abc74f3",
   "metadata": {
    "ExecuteTime": {
     "end_time": "2023-08-22T12:26:30.307426Z",
     "start_time": "2023-08-22T12:26:26.194707Z"
    },
    "tags": []
   },
   "outputs": [],
   "source": [
    "# write_code_to_blk(df_masklastd.index.tolist(),'061')\n",
    "# hmax_code = df_mask_hmax[(df_mask_hmax.couts > 1) & (df_mask_hmax.volsum5d > 10) & (df_mask_hmax.volsum5d < 150)].index.tolist()\n",
    "hmax_code = df_mask_hmax[(df_mask_hmax.couts > 1) ].index.tolist()\n",
    "\n",
    "# write_code_to_blk(cross_hmax_250,'068')\n",
    "# write_code_to_blk(hmax_code,'061')"
   ]
  },
  {
   "cell_type": "code",
   "execution_count": null,
   "id": "bc6c6c95-d02b-4847-bc56-15b1c7608561",
   "metadata": {
    "tags": []
   },
   "outputs": [],
   "source": [
    "# print(df_masklastd.loc['301255'].date)"
   ]
  },
  {
   "cell_type": "markdown",
   "id": "e93b572b-2743-4bee-a153-d2b211929920",
   "metadata": {},
   "source": [
    "# 默认年线筛选"
   ]
  },
  {
   "cell_type": "code",
   "execution_count": null,
   "id": "2cf71b93-63b0-483f-a393-0d7eb05fa35d",
   "metadata": {
    "ExecuteTime": {
     "end_time": "2023-08-22T12:26:36.613448Z",
     "start_time": "2023-08-22T12:26:36.605470Z"
    },
    "tags": []
   },
   "outputs": [],
   "source": [
    "top_temp.shape\n",
    "top_temp.index"
   ]
  },
  {
   "cell_type": "markdown",
   "id": "c47595fd-7932-4f53-af6e-bff675c6326a",
   "metadata": {},
   "source": [
    "## plt.close('all')"
   ]
  },
  {
   "cell_type": "code",
   "execution_count": null,
   "id": "611f7fb6-28b0-40be-b6e0-b448b368443e",
   "metadata": {
    "ExecuteTime": {
     "end_time": "2023-08-22T12:26:39.290740Z",
     "start_time": "2023-08-22T12:26:39.275778Z"
    },
    "tags": []
   },
   "outputs": [],
   "source": [
    "# plt.close('all')"
   ]
  },
  {
   "cell_type": "markdown",
   "id": "efea7ae4-2207-47f9-b33b-9ee6bf7ca875",
   "metadata": {},
   "source": [
    "# 写入060"
   ]
  },
  {
   "cell_type": "raw",
   "id": "0fd9fcb1-f9f4-476a-9e0c-1d077cab05c9",
   "metadata": {
    "execution": {
     "iopub.execute_input": "2023-02-10T07:32:48.586601Z",
     "iopub.status.busy": "2023-02-10T07:32:48.585604Z",
     "iopub.status.idle": "2023-02-10T07:32:52.224872Z",
     "shell.execute_reply": "2023-02-10T07:32:52.223875Z",
     "shell.execute_reply.started": "2023-02-10T07:32:48.586601Z"
    },
    "tags": []
   },
   "source": [
    "if app:\n",
    "    print(\"Write blk:%s\" % (block_path))\n",
    "    hdf5_wri = cct.cct_raw_input(\"rewrite code [Y] or append [N]:\")\n",
    "    if len(hdf5_wri) == 0:\n",
    "        pass\n",
    "    elif hdf5_wri == 'y' or hdf5_wri == 'Y':\n",
    "        append_status = False\n",
    "    else:\n",
    "        append_status = True\n",
    "else:\n",
    "    append_status = False\n",
    "\n",
    "if hdf5_wri == 'y' and len(codew) > 10:\n",
    "    cct.write_to_blocknew(\n",
    "        block_path, codew, append_status, doubleFile=False, keep_last=0)\n",
    "    print(\"write:%s block_path:%s\" % (len(codew), block_path))\n",
    "else:\n",
    "    print(\"write error:%s block_path:%s\" % (len(codew), block_path))"
   ]
  },
  {
   "cell_type": "code",
   "execution_count": null,
   "id": "0e04cba1-4cf6-449d-8ee3-7aa0c5187ed1",
   "metadata": {},
   "outputs": [],
   "source": []
  },
  {
   "cell_type": "code",
   "execution_count": null,
   "id": "e1a52399-7736-43fd-a996-72e7e7cdac32",
   "metadata": {
    "tags": []
   },
   "outputs": [],
   "source": []
  }
 ],
 "metadata": {
  "kernelspec": {
   "display_name": "python3.9",
   "language": "python",
   "name": "python3"
  },
  "language_info": {
   "codemirror_mode": {
    "name": "ipython",
    "version": 3
   },
   "file_extension": ".py",
   "mimetype": "text/x-python",
   "name": "python",
   "nbconvert_exporter": "python",
   "pygments_lexer": "ipython3",
   "version": "3.9.13"
  },
  "nbTranslate": {
   "displayLangs": [
    "*"
   ],
   "hotkey": "alt-t",
   "langInMainMenu": true,
   "sourceLang": "en",
   "targetLang": "fr",
   "useGoogleTranslate": true
  },
  "toc": {
   "colors": {
    "hover_highlight": "#DAA520",
    "running_highlight": "#FF0000",
    "selected_highlight": "#FFD700"
   },
   "moveMenuLeft": true,
   "nav_menu": {
    "height": "511.467px",
    "width": "251.467px"
   },
   "navigate_menu": true,
   "number_sections": true,
   "sideBar": true,
   "threshold": 4,
   "toc_cell": false,
   "toc_position": {
    "height": "502.6px",
    "left": "0px",
    "right": "915.667px",
    "top": "158.4px",
    "width": "265px"
   },
   "toc_section_display": "block",
   "toc_window_display": true,
   "widenNotebook": false
  },
  "varInspector": {
   "cols": {
    "lenName": 16,
    "lenType": 16,
    "lenVar": 40
   },
   "kernels_config": {
    "python": {
     "delete_cmd_postfix": "",
     "delete_cmd_prefix": "del ",
     "library": "var_list.py",
     "varRefreshCmd": "print(var_dic_list())"
    },
    "r": {
     "delete_cmd_postfix": ") ",
     "delete_cmd_prefix": "rm(",
     "library": "var_list.r",
     "varRefreshCmd": "cat(var_dic_list()) "
    }
   },
   "position": {
    "height": "349.85px",
    "left": "820.667px",
    "right": "20px",
    "top": "122px",
    "width": "350px"
   },
   "types_to_exclude": [
    "module",
    "function",
    "builtin_function_or_method",
    "instance",
    "_Feature"
   ],
   "window_display": true
  },
  "widgets": {
   "application/vnd.jupyter.widget-state+json": {
    "state": {},
    "version_major": 2,
    "version_minor": 0
   }
  }
 },
 "nbformat": 4,
 "nbformat_minor": 5
}
