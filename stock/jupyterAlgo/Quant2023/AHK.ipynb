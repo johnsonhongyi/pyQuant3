{
 "cells": [
  {
   "cell_type": "markdown",
   "id": "8736d9eb-1ffe-4099-8d3b-a68136fd5d93",
   "metadata": {},
   "source": [
    "# AHK"
   ]
  },
  {
   "cell_type": "code",
   "execution_count": 1,
   "id": "b9feb3d1-7d10-4f7f-a013-28bd4c47f0a3",
   "metadata": {
    "execution": {
     "iopub.execute_input": "2025-09-02T11:52:13.184834Z",
     "iopub.status.busy": "2025-09-02T11:52:13.183836Z",
     "iopub.status.idle": "2025-09-02T11:52:13.265617Z",
     "shell.execute_reply": "2025-09-02T11:52:13.264883Z",
     "shell.execute_reply.started": "2025-09-02T11:52:13.184834Z"
    },
    "tags": []
   },
   "outputs": [],
   "source": [
    "from ahk import AHK\n",
    "import time"
   ]
  },
  {
   "cell_type": "code",
   "execution_count": 2,
   "id": "85836711-adf3-45fe-b90f-11f47d09e9f2",
   "metadata": {
    "execution": {
     "iopub.execute_input": "2025-09-02T11:52:14.026951Z",
     "iopub.status.busy": "2025-09-02T11:52:14.026951Z",
     "iopub.status.idle": "2025-09-02T11:52:14.349090Z",
     "shell.execute_reply": "2025-09-02T11:52:14.349090Z",
     "shell.execute_reply.started": "2025-09-02T11:52:14.026951Z"
    },
    "tags": []
   },
   "outputs": [
    {
     "name": "stdout",
     "output_type": "stream",
     "text": [
      "AHK.ipynb (3) - JupyterLab 和另外 121 个页面 - 个人 - Microsoft​ Edge\n",
      "<Window ahk_id='0x91318'>\n"
     ]
    }
   ],
   "source": [
    "ahk = AHK()\n",
    "print(ahk.active_window.title)\n",
    "print(ahk.active_window)"
   ]
  },
  {
   "cell_type": "code",
   "execution_count": 3,
   "id": "3c9e8c2f-3c63-457f-a4f8-cacf9340a09c",
   "metadata": {
    "execution": {
     "iopub.execute_input": "2025-09-02T11:52:15.760870Z",
     "iopub.status.busy": "2025-09-02T11:52:15.759873Z",
     "iopub.status.idle": "2025-09-02T11:52:15.779820Z",
     "shell.execute_reply": "2025-09-02T11:52:15.779820Z",
     "shell.execute_reply.started": "2025-09-02T11:52:15.760870Z"
    },
    "tags": []
   },
   "outputs": [
    {
     "name": "stdout",
     "output_type": "stream",
     "text": [
      "<class 'ahk._sync.window.Window'>\n"
     ]
    }
   ],
   "source": [
    "print(type(ahk.active_window))\n"
   ]
  },
  {
   "cell_type": "code",
   "execution_count": 6,
   "id": "a57d971b-8a5a-492a-bae7-caa6071f553a",
   "metadata": {
    "execution": {
     "iopub.execute_input": "2025-09-02T11:53:55.197779Z",
     "iopub.status.busy": "2025-09-02T11:53:55.196781Z",
     "iopub.status.idle": "2025-09-02T11:53:55.214732Z",
     "shell.execute_reply": "2025-09-02T11:53:55.213775Z",
     "shell.execute_reply.started": "2025-09-02T11:53:55.197779Z"
    },
    "tags": []
   },
   "outputs": [
    {
     "name": "stdout",
     "output_type": "stream",
     "text": [
      "0x40eee\n"
     ]
    }
   ],
   "source": [
    "print(ahk.find_window_by_class('TdxW_MainFrame_Class').id)\n",
    "# print(ahk.find_window_by_class('TdxW_SecondFrame_Class'))\n",
    "# print(ahk.find_window_by_class('Afx:00690000:b:00010007:00000006:00380F7B'))"
   ]
  },
  {
   "cell_type": "code",
   "execution_count": 68,
   "id": "66fed445-ec7e-4396-a5e6-e96640ea2c71",
   "metadata": {
    "execution": {
     "iopub.execute_input": "2025-08-27T15:27:48.454394Z",
     "iopub.status.busy": "2025-08-27T15:27:48.453397Z",
     "iopub.status.idle": "2025-08-27T15:27:48.466363Z",
     "shell.execute_reply": "2025-08-27T15:27:48.465394Z",
     "shell.execute_reply.started": "2025-08-27T15:27:48.454394Z"
    },
    "tags": []
   },
   "outputs": [],
   "source": [
    "# all_windows=ahk.windows()\n",
    "# all_windows = ahk.list_windows()\n"
   ]
  },
  {
   "cell_type": "code",
   "execution_count": 25,
   "id": "5e7bd15d-3831-4ea7-aa0f-c3c0702acad6",
   "metadata": {
    "execution": {
     "iopub.execute_input": "2025-08-28T08:51:25.002928Z",
     "iopub.status.busy": "2025-08-28T08:51:25.002928Z",
     "iopub.status.idle": "2025-08-28T08:51:25.794811Z",
     "shell.execute_reply": "2025-08-28T08:51:25.794811Z",
     "shell.execute_reply.started": "2025-08-28T08:51:25.002928Z"
    },
    "tags": []
   },
   "outputs": [
    {
     "name": "stdout",
     "output_type": "stream",
     "text": [
      "class_name:Afx:009A0000:8:00010007:00000000:00020BAF\n",
      "title:东方财富终端\n",
      "Position(x=198, y=123, width=1691, height=960)\n",
      "0x20b6c\n",
      "10148\n",
      "D:\\MacTools\\WinTools\\eastmoney\\swc8\\mainfree.exe\n",
      "....................\n",
      "\n",
      "\n"
     ]
    }
   ],
   "source": [
    "# applist=['东方财富','同花顺','通达信']\n",
    "# applist=['东方财富']\n",
    "applist='通达信']\n",
    "for window in ahk.list_windows():\n",
    "    # print(window.__doc__)\n",
    "    for app in applist:\n",
    "        if window.title.find(app) >= 0:\n",
    "            print(f'class_name:{window.get_class()}')\n",
    "            print(f'title:{window.title}')\n",
    "            # Some more attributes\n",
    "            # print(f'text:{window.text}')\n",
    "            # print(window.text)           # window text -- or .get_text()\n",
    "            print(window.get_position()) # (x, y, width, height)\n",
    "            print(window.id)             # the ahk_id of the window\n",
    "            print(window.pid)            # process ID -- or .get_pid()\n",
    "            print(window.process_path)   # or .get_process_path()\n",
    "            print('....................\\n\\n')\n",
    "            window.activate()\n",
    "            # ahk.setKeyDelay(50)\n",
    "            time.sleep(0.2)\n",
    "            ahk.send('000008')\n",
    "            # ahk.win_get(title=f'ahk_pid {window.pid}')\n",
    "            # print(f'{window.pid} title:{window.text}')\n",
    "            time.sleep(0.3)\n",
    "            ahk.send('{Enter}')"
   ]
  },
  {
   "cell_type": "code",
   "execution_count": 26,
   "id": "769f05c1-ed9d-4274-8579-defa1109a5a9",
   "metadata": {
    "execution": {
     "iopub.execute_input": "2025-08-28T08:51:31.119127Z",
     "iopub.status.busy": "2025-08-28T08:51:31.119127Z",
     "iopub.status.idle": "2025-08-28T08:51:31.142065Z",
     "shell.execute_reply": "2025-08-28T08:51:31.141069Z",
     "shell.execute_reply.started": "2025-08-28T08:51:31.119127Z"
    },
    "tags": []
   },
   "outputs": [],
   "source": [
    "appdict = {'通达信金融终端(开心果交易版) 副屏三':'龙头战法', '通达信金融终端(开心果交易版) 副屏一':'上证指数','通达信金融终端(开心果交易版) 副屏二':'科创50ETF'}\n",
    "runkey = {'龙头战法':'ltzf','上证指数':'03','科创50ETF':'090 588000'}\n",
    "# applist = []\n",
    "def set_tdx_screen_show(appdict=appdict):\n",
    "    for window in ahk.list_windows():\n",
    "        # print(window.__doc__)\n",
    "        for app in appdict.keys():\n",
    "            if window.title.find(app) >= 0:\n",
    "                print(f'class_name:{window.get_class()}')\n",
    "                # print(f'title:{window.title}')\n",
    "                if window.title.find(appdict[app]) < 0:\n",
    "                    # Some more attributes\n",
    "                    # print(f'text:{window.text}')\n",
    "                    # print(window.text)           # window text -- or .get_text()\n",
    "                    # print(window.get_position()) # (x, y, width, height)\n",
    "                    # print(window.id)             # the ahk_id of the window\n",
    "                    # print(window.pid)            # process ID -- or .get_pid()\n",
    "                    # print(window.process_path)   # or .get_process_path()\n",
    "                    print(f'Not Find title:{window.title} Run {runkey[appdict[app]].split()}....................')\n",
    "                    if appdict[app] in runkey.keys():\n",
    "                        for inputKey in runkey[appdict[app]].split():\n",
    "                            window.activate()\n",
    "                            # ahk.setKeyDelay(50)\n",
    "                            time.sleep(0.3)\n",
    "                            ahk.send(inputKey)\n",
    "                            print(f'key:{inputKey}')\n",
    "                            # ahk.win_get(title=f'ahk_pid {window.pid}')\n",
    "                            # print(f'{window.pid} title:{window.text}')\n",
    "                            time.sleep(0.5)\n",
    "                            ahk.send('{Enter}')\n",
    "                            time.sleep(0.5)\n",
    "                            if len(runkey[appdict[app]].split()) > 1:\n",
    "                                ahk.send('{Enter}')\n",
    "                                time.sleep(0.5)\n",
    "                    # if len(runkey[appdict[app]].split()) > 1:\n",
    "                        print(f'check:{app} : {appdict[app]}')\n",
    "                        set_tdx_screen_show({app:appdict[app]})\n",
    "\n",
    "                    else:\n",
    "                        print(f'not find {app} {appdict[app]} in {runkey.keys()}')\n",
    "                else:\n",
    "                    print(f'Find title:{window.title} {appdict[app]}')\n",
    "                    "
   ]
  },
  {
   "cell_type": "code",
   "execution_count": 27,
   "id": "a3a89692-ebae-40c4-a244-22df9ad8d360",
   "metadata": {
    "execution": {
     "iopub.execute_input": "2025-08-28T08:51:31.873113Z",
     "iopub.status.busy": "2025-08-28T08:51:31.873113Z",
     "iopub.status.idle": "2025-08-28T08:51:40.176849Z",
     "shell.execute_reply": "2025-08-28T08:51:40.175890Z",
     "shell.execute_reply.started": "2025-08-28T08:51:31.873113Z"
    },
    "tags": []
   },
   "outputs": [
    {
     "name": "stdout",
     "output_type": "stream",
     "text": [
      "class_name:TdxW_SecondFrame_Class\n",
      "Find title:通达信金融终端(开心果交易版) 副屏一(分组2) - [分析图表-上证指数] 上证指数\n",
      "class_name:TdxW_SecondFrame_Class\n",
      "Find title:通达信金融终端(开心果交易版) 副屏三 - [版面-龙头战法] 龙头战法\n",
      "class_name:TdxW_SecondFrame_Class\n",
      "Not Find title:通达信金融终端(开心果交易版) 副屏二(分组1) - [分析图表-神州高铁] Run ['090', '588000']....................\n",
      "key:090\n",
      "key:588000\n",
      "check:通达信金融终端(开心果交易版) 副屏二 : 科创50ETF\n",
      "class_name:TdxW_SecondFrame_Class\n",
      "Not Find title:通达信金融终端(开心果交易版) 副屏二(分组1) - [分析图表-上证指数] Run ['090', '588000']....................\n",
      "key:090\n",
      "key:588000\n",
      "check:通达信金融终端(开心果交易版) 副屏二 : 科创50ETF\n",
      "class_name:TdxW_SecondFrame_Class\n",
      "Find title:通达信金融终端(开心果交易版) 副屏二(分组1) - [分析图表-科创50ETF] 科创50ETF\n"
     ]
    }
   ],
   "source": [
    "set_tdx_screen_show()"
   ]
  },
  {
   "cell_type": "code",
   "execution_count": 18,
   "id": "ffea8f6b-18bb-4dc9-a71f-7f08fe934d81",
   "metadata": {
    "execution": {
     "iopub.execute_input": "2025-08-28T07:49:56.461675Z",
     "iopub.status.busy": "2025-08-28T07:49:56.460679Z",
     "iopub.status.idle": "2025-08-28T07:49:57.193304Z",
     "shell.execute_reply": "2025-08-28T07:49:57.192344Z",
     "shell.execute_reply.started": "2025-08-28T07:49:56.461675Z"
    },
    "tags": []
   },
   "outputs": [
    {
     "name": "stdout",
     "output_type": "stream",
     "text": [
      "class_name:TdxW_SecondFrame_Class\n",
      "....................\n",
      "\n",
      "\n",
      "key:03\n",
      "class_name:TdxW_SecondFrame_Class\n",
      "Find title:通达信金融终端(开心果交易版) 副屏三 - [版面-龙头战法] 龙头战法\n"
     ]
    }
   ],
   "source": [
    "# # window = ahk.find_window_by_class('TdxW_MainFrame_Class')\n",
    "# appdict = {'通达信金融终端(开心果交易版) 副屏三':'龙头战法', '通达信金融终端(开心果交易版) 副屏一':'上证指数'}\n",
    "# runkey = {'龙头战法':'ltzf','上证指数':'03'}\n",
    "\n",
    "# for window in ahk.list_windows():\n",
    "#     # print(window.__doc__)\n",
    "#     for app in appdict.keys():\n",
    "#         if window.title.find(app) >= 0:\n",
    "#             print(f'class_name:{window.get_class()}')\n",
    "#             # print(f'title:{window.title}')\n",
    "#             if window.title.find(appdict[app]) < 0:\n",
    "#                 # Some more attributes\n",
    "#                 # print(f'text:{window.text}')\n",
    "#                 # print(window.text)           # window text -- or .get_text()\n",
    "#                 # print(window.get_position()) # (x, y, width, height)\n",
    "#                 # print(window.id)             # the ahk_id of the window\n",
    "#                 # print(window.pid)            # process ID -- or .get_pid()\n",
    "#                 # print(window.process_path)   # or .get_process_path()\n",
    "#                 print('....................')\n",
    "#                 if appdict[app] in runkey.keys():\n",
    "#                     window.activate()\n",
    "#                     # ahk.setKeyDelay(50)\n",
    "#                     time.sleep(0.2)\n",
    "#                     ahk.send(runkey[appdict[app]])\n",
    "#                     print(f'key:{runkey[appdict[app]]}')\n",
    "#                     # ahk.win_get(title=f'ahk_pid {window.pid}')\n",
    "#                     # print(f'{window.pid} title:{window.text}')\n",
    "#                     time.sleep(0.3)\n",
    "#                     ahk.send('{Enter}')\n",
    "#                 else:\n",
    "#                     print(f'not find {app} {appdict[app]} in {runkey.keys()}')\n",
    "#             else:\n",
    "#                 print(f'Find title:{window.title} {appdict[app]}')"
   ]
  },
  {
   "cell_type": "code",
   "execution_count": 7,
   "id": "a5ffc409-ed76-42b5-8983-dff605d727c8",
   "metadata": {
    "execution": {
     "iopub.execute_input": "2025-08-28T07:31:45.006878Z",
     "iopub.status.busy": "2025-08-28T07:31:45.006878Z",
     "iopub.status.idle": "2025-08-28T07:31:45.453842Z",
     "shell.execute_reply": "2025-08-28T07:31:45.453842Z",
     "shell.execute_reply.started": "2025-08-28T07:31:45.006878Z"
    },
    "tags": []
   },
   "outputs": [
    {
     "name": "stdout",
     "output_type": "stream",
     "text": [
      "找到窗口，句柄为：0x30d2c\n",
      "脚本执行结果：\n"
     ]
    }
   ],
   "source": [
    "window = ahk.find_window_by_class('TdxW_MainFrame_Class')\n",
    "if window:\n",
    "    # 3. 如果窗口找到，获取其句柄\n",
    "    hwnd = window.id\n",
    "    print(f\"找到窗口，句柄为：{hwnd}\")\n",
    "    window.activate()\n",
    "    time.sleep(0.1)\n",
    "    # 4. 构造 AHK 脚本字符串\n",
    "    # 使用 f-string 插入句柄，确保 SendMessage 发送到正确的窗口\n",
    "    ahk_script = f\"\"\"\n",
    "        SendMessage, 0x111, 3361, 0, , ahk_class TdxW_MainFrame_Class\n",
    "    \"\"\"\n",
    "    # 5. 运行 AHK 脚本发送消息\n",
    "    result = ahk.run_script(ahk_script)\n",
    "    print(f\"脚本执行结果：{result}\")\n",
    "else:\n",
    "    print(\"未找到匹配 'ahk_class TdxW_MainFrame_Class' 的窗口。\")"
   ]
  },
  {
   "cell_type": "markdown",
   "id": "22ae12e9-8a60-4e7d-9539-0b978c26e5f9",
   "metadata": {},
   "source": [
    "## ths"
   ]
  },
  {
   "cell_type": "markdown",
   "id": "65cab811-39e5-4fea-9303-b75445003840",
   "metadata": {},
   "source": []
  },
  {
   "cell_type": "code",
   "execution_count": 8,
   "id": "a03ae195-156b-43c0-a807-49c3b6539bf9",
   "metadata": {
    "execution": {
     "iopub.execute_input": "2025-08-29T00:50:08.209262Z",
     "iopub.status.busy": "2025-08-29T00:50:08.208265Z",
     "iopub.status.idle": "2025-08-29T00:50:10.493525Z",
     "shell.execute_reply": "2025-08-29T00:50:10.493525Z",
     "shell.execute_reply.started": "2025-08-29T00:50:08.209262Z"
    },
    "tags": []
   },
   "outputs": [
    {
     "name": "stdout",
     "output_type": "stream",
     "text": [
      "class_name:#32770\n",
      "title:持股机构    (基金双击可以查看详细内容) - 理工能科(002322)\n",
      "Position(x=569, y=-740, width=664, height=500)\n",
      "0x201600\n",
      "17020\n",
      "D:\\MacTools\\WinTools\\同花顺\\hexin.exe\n",
      "....................\n",
      "\n",
      "\n",
      "stock: 理工能科(002322) stockCode:002322\n",
      "class_name:Afx:006C0000:b:00010005:00000006:00010C2F\n",
      "title:同花顺(9.50.20) - A股技术分析\n",
      "Position(x=0, y=-981, width=1800, height=981)\n",
      "0x10c80\n",
      "17020\n",
      "D:\\MacTools\\WinTools\\同花顺\\hexin.exe\n",
      "....................\n",
      "\n",
      "\n",
      "stock: 理工能科(002322) stockCode:002322\n"
     ]
    }
   ],
   "source": [
    "# applist=['东方财富','同花顺','通达信']\n",
    "applist=['同花顺','持股机构']\n",
    "import re\n",
    "\n",
    "# applist=['同花顺']\n",
    "pattern = re.compile(r'\\d{6}')\n",
    "for window in ahk.list_windows():\n",
    "    # print(window.__doc__)\n",
    "    for app in applist:\n",
    "        if window.title.find(app) >= 0:\n",
    "            print(f'class_name:{window.get_class()}')\n",
    "            print(f'title:{window.title}')\n",
    "            # Some more attributes\n",
    "            # print(f'text:{window.text}')\n",
    "            # print(window.text)           # window text -- or .get_text()\n",
    "            print(window.get_position()) # (x, y, width, height)\n",
    "            print(window.id)             # the ahk_id of the window\n",
    "            print(window.pid)            # process ID -- or .get_pid()\n",
    "            print(window.process_path)   # or .get_process_path()\n",
    "            print('....................\\n\\n')\n",
    "            window.activate()\n",
    "            # # ahk.setKeyDelay(50)\n",
    "            # time.sleep(0.2)\n",
    "            # ahk.send('000008')\n",
    "            # # ahk.win_get(title=f'ahk_pid {window.pid}')\n",
    "            # # print(f'{window.pid} title:{window.text}')\n",
    "            # time.sleep(0.3)\n",
    "            # ahk.send('{Enter}')\n",
    "            \n",
    "            ahk_script = f\"\"\"\n",
    "                    SendMessage, 0x111, 31067, 0, , a\n",
    "                    \"\"\"\n",
    "                    # SendMessage, 0x111, 31067, 0, , ahk_class TdxW_MainFrame_Class\n",
    "            \n",
    "            # PostMessage,0x111,31067,0,,a   #打开 持股机构\n",
    "            \n",
    "            result = ahk.run_script(ahk_script)\n",
    "            # print(f\"脚本执行结果：{result}\")\n",
    "            title = ahk.find_window_by_class('#32770').title\n",
    "            # ahk.send('{Esc}')\n",
    "            stock = title.split('-')[-1]\n",
    "            stockCode=pattern.findall(stock)[0] \n",
    "            print(f'stock:{stock} stockCode:{stockCode}')\n",
    "            \n",
    "            tdx = ahk.find_window_by_class('TdxW_MainFrame_Class')\n",
    "            tdx.activate()\n",
    "            time.sleep(0.2)\n",
    "            ahk.send(stockCode)\n",
    "            # ahk.win_get(title=f'ahk_pid {window.pid}')\n",
    "            # print(f'{window.pid} title:{window.text}')\n",
    "            time.sleep(0.3)\n",
    "            ahk.send('{Enter}')\n",
    "            # WinActivate,持股机构\n",
    "            # WinWaitActive,持股机构, , 2\n",
    "            # if !ErrorLevel\n",
    "            # {\n",
    "            #     WinGetActiveTitle,title\n",
    "            #     Send {Esc}  ;关闭标记股票窗口\n",
    "            #     stock:=StrSplit(title,\"-\")\n",
    "            #     MsgBox % stock[2]\n",
    "            # }\n",
    "\n",
    "\n"
   ]
  },
  {
   "cell_type": "code",
   "execution_count": null,
   "id": "e579e490-5e55-4915-80e9-84ed7a934b45",
   "metadata": {},
   "outputs": [],
   "source": []
  }
 ],
 "metadata": {
  "kernelspec": {
   "display_name": "python3.9",
   "language": "python",
   "name": "python3"
  },
  "language_info": {
   "codemirror_mode": {
    "name": "ipython",
    "version": 3
   },
   "file_extension": ".py",
   "mimetype": "text/x-python",
   "name": "python",
   "nbconvert_exporter": "python",
   "pygments_lexer": "ipython3",
   "version": "3.9.13"
  }
 },
 "nbformat": 4,
 "nbformat_minor": 5
}
