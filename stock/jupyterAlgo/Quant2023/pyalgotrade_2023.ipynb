{
 "cells": [
  {
   "cell_type": "markdown",
   "id": "de58730f-c3aa-4265-a30d-5abd597ec56c",
   "metadata": {},
   "source": [
    "# tradeView PivotHigh"
   ]
  },
  {
   "cell_type": "code",
   "execution_count": 49,
   "id": "aae1b518-1689-4508-b18d-cb7bd24dd518",
   "metadata": {
    "execution": {
     "iopub.execute_input": "2023-01-27T07:50:06.662555Z",
     "iopub.status.busy": "2023-01-27T07:50:06.661559Z",
     "iopub.status.idle": "2023-01-27T07:50:06.682502Z",
     "shell.execute_reply": "2023-01-27T07:50:06.681505Z",
     "shell.execute_reply.started": "2023-01-27T07:50:06.662555Z"
    },
    "tags": []
   },
   "outputs": [
    {
     "data": {
      "text/plain": [
       "'枢轴点 最高价'"
      ]
     },
     "execution_count": 49,
     "metadata": {},
     "output_type": "execute_result"
    },
    {
     "data": {
      "text/plain": [
       "'枢轴点 最低价'"
      ]
     },
     "execution_count": 49,
     "metadata": {},
     "output_type": "execute_result"
    }
   ],
   "source": [
    "\"\"\"枢轴点 最高价\"\"\"\n",
    "\n",
    "\n",
    "def PivotHigh(df, left, right=0):\n",
    "    right = right if right else left\n",
    "    df['pivot'] = 0.0\n",
    "    for i in range(len(df)):\n",
    "        if i >= left + right:\n",
    "            # print(df['high'][i - right - left:i + 1].values)\n",
    "            rolling = df['high'][i - right - left:i + 1].values\n",
    "            m = max(rolling)\n",
    "            # print(GetTime(df['Time'][i], \"%m-%d %H:%M\"), df['High'][i-right], m, rolling)\n",
    "            if df['high'][i - right] == m:\n",
    "                df['pivot'].values[i] = m\n",
    "    return df['pivot']\n",
    "\n",
    "\n",
    "\"\"\"枢轴点 最低价\"\"\"\n",
    "\n",
    "\n",
    "def PivotLow(df, left, right=0):\n",
    "    right = right if right else left\n",
    "    df['rollingLow'] = df['low'].rolling(left + right).min()\n",
    "    df['pivot'] = 0.0\n",
    "    for i in range(len(df)):\n",
    "        if i >= left + right:\n",
    "            rolling = df['low'][i - right - left:i + 1].values\n",
    "            m = min(rolling)\n",
    "            if df['low'][i - right] == m:\n",
    "                df['pivot'].values[i] = m\n",
    "    \n",
    "    return df['pivot']"
   ]
  },
  {
   "cell_type": "code",
   "execution_count": 54,
   "id": "b0b724e8-81bf-4efd-8faf-b83cad4345ee",
   "metadata": {
    "execution": {
     "iopub.execute_input": "2023-01-27T07:51:58.892010Z",
     "iopub.status.busy": "2023-01-27T07:51:58.892010Z",
     "iopub.status.idle": "2023-01-27T07:51:58.985337Z",
     "shell.execute_reply": "2023-01-27T07:51:58.984369Z",
     "shell.execute_reply.started": "2023-01-27T07:51:58.892010Z"
    },
    "tags": []
   },
   "outputs": [
    {
     "data": {
      "text/html": [
       "<div>\n",
       "<style scoped>\n",
       "    .dataframe tbody tr th:only-of-type {\n",
       "        vertical-align: middle;\n",
       "    }\n",
       "\n",
       "    .dataframe tbody tr th {\n",
       "        vertical-align: top;\n",
       "    }\n",
       "\n",
       "    .dataframe thead th {\n",
       "        text-align: right;\n",
       "    }\n",
       "</style>\n",
       "<table border=\"1\" class=\"dataframe\">\n",
       "  <thead>\n",
       "    <tr style=\"text-align: right;\">\n",
       "      <th></th>\n",
       "      <th>open</th>\n",
       "      <th>high</th>\n",
       "      <th>close</th>\n",
       "      <th>low</th>\n",
       "      <th>volume</th>\n",
       "      <th>price_change</th>\n",
       "      <th>p_change</th>\n",
       "      <th>ma5</th>\n",
       "      <th>ma10</th>\n",
       "      <th>ma20</th>\n",
       "      <th>v_ma5</th>\n",
       "      <th>v_ma10</th>\n",
       "      <th>v_ma20</th>\n",
       "      <th>turnover</th>\n",
       "    </tr>\n",
       "    <tr>\n",
       "      <th>date</th>\n",
       "      <th></th>\n",
       "      <th></th>\n",
       "      <th></th>\n",
       "      <th></th>\n",
       "      <th></th>\n",
       "      <th></th>\n",
       "      <th></th>\n",
       "      <th></th>\n",
       "      <th></th>\n",
       "      <th></th>\n",
       "      <th></th>\n",
       "      <th></th>\n",
       "      <th></th>\n",
       "      <th></th>\n",
       "    </tr>\n",
       "  </thead>\n",
       "  <tbody>\n",
       "    <tr>\n",
       "      <th>2023-01-20</th>\n",
       "      <td>18.49</td>\n",
       "      <td>18.65</td>\n",
       "      <td>18.58</td>\n",
       "      <td>18.35</td>\n",
       "      <td>504114.09</td>\n",
       "      <td>0.03</td>\n",
       "      <td>0.16</td>\n",
       "      <td>18.61</td>\n",
       "      <td>18.7</td>\n",
       "      <td>18.673</td>\n",
       "      <td>574055.33</td>\n",
       "      <td>580051.01</td>\n",
       "      <td>591951.44</td>\n",
       "      <td>0.52</td>\n",
       "    </tr>\n",
       "  </tbody>\n",
       "</table>\n",
       "</div>"
      ],
      "text/plain": [
       "             open   high  close    low     volume  price_change  p_change  \\\n",
       "date                                                                        \n",
       "2023-01-20  18.49  18.65  18.58  18.35  504114.09          0.03      0.16   \n",
       "\n",
       "              ma5  ma10    ma20      v_ma5     v_ma10     v_ma20  turnover  \n",
       "date                                                                        \n",
       "2023-01-20  18.61  18.7  18.673  574055.33  580051.01  591951.44      0.52  "
      ]
     },
     "execution_count": 54,
     "metadata": {},
     "output_type": "execute_result"
    },
    {
     "data": {
      "text/plain": [
       "date\n",
       "2022-12-16    20.63\n",
       "2023-01-13    19.69\n",
       "Name: PivotHigh, dtype: float64"
      ]
     },
     "execution_count": 54,
     "metadata": {},
     "output_type": "execute_result"
    },
    {
     "data": {
      "text/plain": [
       "date\n",
       "2023-01-10    17.88\n",
       "Name: PivotLow, dtype: float64"
      ]
     },
     "execution_count": 54,
     "metadata": {},
     "output_type": "execute_result"
    }
   ],
   "source": [
    "# import pandas as pd\n",
    "\n",
    "import tushare as ts\n",
    "from IPython.core.interactiveshell import InteractiveShell\n",
    "\n",
    "InteractiveShell.ast_node_interactivity = \"all\"\n",
    "%matplotlib widget\n",
    "import sys\n",
    "sys.path.append(\"../../\")\n",
    "import JSONData.tdx_data_Day as tdd\n",
    "\n",
    "# df = pd.DataFrame(r) #r为K线数据\n",
    "code = '000002'\n",
    "# df = tdd.get_tdx_Exp_day_to_df(code, dl=60).sort_index(ascending=True)\n",
    "\n",
    "df = ts.get_hist_data(code, start='2022-12-01').sort_index(ascending=True)\n",
    "df[-1:]\n",
    "\n",
    "df['PivotHigh'] = PivotHigh(df.copy(), 5, 5)\n",
    "df['PivotLow'] = PivotLow(df.copy(), 5, 5)\n",
    "df[df['PivotHigh'] > 0]['PivotHigh']\n",
    "df[df['PivotLow'] > 0]['PivotLow']"
   ]
  },
  {
   "cell_type": "code",
   "execution_count": 56,
   "id": "d903b15d-c435-45d1-81b2-cef913e241ba",
   "metadata": {
    "execution": {
     "iopub.execute_input": "2023-01-27T07:58:10.906592Z",
     "iopub.status.busy": "2023-01-27T07:58:10.905595Z",
     "iopub.status.idle": "2023-01-27T07:58:10.912576Z",
     "shell.execute_reply": "2023-01-27T07:58:10.911579Z",
     "shell.execute_reply.started": "2023-01-27T07:58:10.906592Z"
    },
    "tags": []
   },
   "outputs": [
    {
     "ename": "SyntaxError",
     "evalue": "invalid syntax (<ipython-input-56-95339ce0e40a>, line 2)",
     "output_type": "error",
     "traceback": [
      "\u001b[1;36m  File \u001b[1;32m\"<ipython-input-56-95339ce0e40a>\"\u001b[1;36m, line \u001b[1;32m2\u001b[0m\n\u001b[1;33m    a ? b : 'na'\u001b[0m\n\u001b[1;37m      ^\u001b[0m\n\u001b[1;31mSyntaxError\u001b[0m\u001b[1;31m:\u001b[0m invalid syntax\n"
     ]
    }
   ],
   "source": [
    "a,b,c = 1,2,3\n",
    "# a ? b : 'na'\n",
    "# variable = exper ? b : c;即：如果exper表达式的值为true则variable = b，否则，variable = c"
   ]
  },
  {
   "cell_type": "code",
   "execution_count": 55,
   "id": "6ce4b853-5e40-46e0-a6aa-b6e9b79898bb",
   "metadata": {
    "execution": {
     "iopub.execute_input": "2023-01-27T07:52:03.951702Z",
     "iopub.status.busy": "2023-01-27T07:52:03.951702Z",
     "iopub.status.idle": "2023-01-27T07:52:04.046412Z",
     "shell.execute_reply": "2023-01-27T07:52:04.045452Z",
     "shell.execute_reply.started": "2023-01-27T07:52:03.951702Z"
    },
    "tags": []
   },
   "outputs": [
    {
     "data": {
      "text/plain": [
       "<AxesSubplot:xlabel='date'>"
      ]
     },
     "execution_count": 55,
     "metadata": {},
     "output_type": "execute_result"
    },
    {
     "data": {
      "application/vnd.jupyter.widget-view+json": {
       "model_id": "f70966fe70b347b18ca105501dcf9ee0",
       "version_major": 2,
       "version_minor": 0
      },
      "image/png": "[encoded data removed]",
      "text/html": [
       "\n",
       "            <div style=\"display: inline-block;\">\n",
       "                <div class=\"jupyter-widgets widget-label\" style=\"text-align: center;\">\n",
       "                    Figure\n",
       "                </div>\n",
       "                <img src='data:image/png;base64,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' width=640.0/>\n",
       "            </div>\n",
       "        "
      ],
      "text/plain": [
       "Canvas(toolbar=Toolbar(toolitems=[('Home', 'Reset original view', 'home', 'home'), ('Back', 'Back to previous …"
      ]
     },
     "metadata": {},
     "output_type": "display_data"
    }
   ],
   "source": [
    "# df['PivotHigh']\n",
    "df.loc[:,['close','PivotHigh','PivotLow']].plot()"
   ]
  },
  {
   "cell_type": "code",
   "execution_count": null,
   "id": "cc49102a-4156-4a8f-a9c5-b22e4512435d",
   "metadata": {},
   "outputs": [],
   "source": []
  },
  {
   "cell_type": "markdown",
   "id": "0ba33290-f4bc-47f7-bdb6-56409d286ce7",
   "metadata": {},
   "source": [
    "# boll 双均线\n",
    "作者：苏慕白\n",
    "链接：https://zhuanlan.zhihu.com/p/447240848\n",
    "来源：知乎\n",
    "著作权归作者所有。商业转载请联系作者获得授权，非商业转载请注明出处。"
   ]
  },
  {
   "cell_type": "code",
   "execution_count": null,
   "id": "bd10db12-0910-497f-9ced-291f4a8d744b",
   "metadata": {},
   "outputs": [],
   "source": [
    "\n",
    "\n",
    "seting = {'name': 'BBv3', 'symbol': 'BTCUSDT', 'kTime': '15m', 'bb_len': 7,\n",
    "          'buy_len': 44, 'buy_mult': 2.664, 'sell_len': 20, 'sell_mult': 2.54,\n",
    "          'buy': 1, 'buyZhiying': 12.704, 'buyZhisun': 7.525, 'sell': 1,\n",
    "          'sellZhiying': 6.112, 'sellZhisun': 1.52}\n",
    "\n",
    "\"\"\"\n",
    "布林带升级版定向策略\n",
    "\"\"\"\n",
    "\n",
    "\n",
    "def BBv3(r, df, seting):\n",
    "    df['ma'] = SMA(r, seting['bb_len'], 'Close')\n",
    "\n",
    "    df['upper'] = df['ma'] + seting['sell_mult'] * \\\n",
    "        talib.STDDEV(df['Close'], timeperiod=seting['sell_len'])\n",
    "    df['lower'] = df['ma'] - seting['buy_mult'] * \\\n",
    "        talib.STDDEV(df['Close'], timeperiod=seting['buy_len'])\n",
    "\n",
    "    c = len(df)\n",
    "    for i in range(c):\n",
    "        if i > seting['sell_len'] and i + 1 < c:\n",
    "            if df['Close'][i] > df['lower'][i] and df['Close'][\n",
    "                    i - 1] < df['lower'][\n",
    "                    i - 1]:  # and df['Close'][i] > df['ma2'][i]\n",
    "                df['side'].values[i] = 'BUY'\n",
    "\n",
    "            if df['Close'][i] < df['upper'][i] and df['Close'][\n",
    "                    i - 1] > df['upper'][\n",
    "                    i - 1]:  # and df['Close'][i] < df['ma2'][i]\n",
    "                df['side'].values[i] = 'SELL'\n",
    "\n",
    "    return df"
   ]
  },
  {
   "cell_type": "markdown",
   "id": "09aafdbd-e971-4098-beb1-e047b575429a",
   "metadata": {},
   "source": [
    "# tradingview-ta的Python项目\n",
    "https://pypi.org/search/?q=tradingview&o="
   ]
  },
  {
   "cell_type": "code",
   "execution_count": 4,
   "id": "d30b91ff-6733-44cf-93d4-346205547852",
   "metadata": {
    "execution": {
     "iopub.execute_input": "2023-01-27T04:15:21.035677Z",
     "iopub.status.busy": "2023-01-27T04:15:21.035677Z",
     "iopub.status.idle": "2023-01-27T04:15:21.645643Z",
     "shell.execute_reply": "2023-01-27T04:15:21.644676Z",
     "shell.execute_reply.started": "2023-01-27T04:15:21.035677Z"
    },
    "jupyter": {
     "source_hidden": true
    },
    "tags": []
   },
   "outputs": [
    {
     "name": "stdout",
     "output_type": "stream",
     "text": [
      "{'RECOMMENDATION': 'BUY', 'BUY': 13, 'SELL': 4, 'NEUTRAL': 9}\n"
     ]
    }
   ],
   "source": [
    "from tradingview_ta import Interval, TA_Handler\n",
    "\n",
    "tesla = TA_Handler()\n",
    "tesla.set_symbol_as(\"TSLA\")\n",
    "tesla.set_exchange_as_crypto_or_stock(\"NASDAQ\")\n",
    "tesla.set_screener_as_stock(\"america\")\n",
    "tesla.set_interval_as(Interval.INTERVAL_1_DAY)\n",
    "print(tesla.get_analysis().summary)\n",
    "# Example output: {\"RECOMMENDATION\": \"BUY\", \"BUY\": 8, \"NEUTRAL\": 6, \"SELL\": 3}"
   ]
  },
  {
   "cell_type": "code",
   "execution_count": 1,
   "id": "3211858a-dfab-4d28-94dd-553a64a2bbfb",
   "metadata": {
    "execution": {
     "iopub.execute_input": "2023-01-27T03:26:20.184017Z",
     "iopub.status.busy": "2023-01-27T03:26:20.183020Z",
     "iopub.status.idle": "2023-01-27T03:26:20.229896Z",
     "shell.execute_reply": "2023-01-27T03:26:20.228947Z",
     "shell.execute_reply.started": "2023-01-27T03:26:20.184017Z"
    },
    "tags": []
   },
   "outputs": [
    {
     "ename": "AttributeError",
     "evalue": "module 'talib' has no attribute 'pivotlow'",
     "output_type": "error",
     "traceback": [
      "\u001b[1;31m---------------------------------------------------------------------------\u001b[0m",
      "\u001b[1;31mAttributeError\u001b[0m                            Traceback (most recent call last)",
      "\u001b[1;32m<ipython-input-1-bd5d435f6751>\u001b[0m in \u001b[0;36m<module>\u001b[1;34m\u001b[0m\n\u001b[0;32m      1\u001b[0m \u001b[1;32mimport\u001b[0m \u001b[0mtalib\u001b[0m \u001b[1;32mas\u001b[0m \u001b[0mta\u001b[0m\u001b[1;33m\u001b[0m\u001b[1;33m\u001b[0m\u001b[0m\n\u001b[1;32m----> 2\u001b[1;33m \u001b[0mta\u001b[0m\u001b[1;33m.\u001b[0m\u001b[0mpivotlow\u001b[0m\u001b[1;33m(\u001b[0m\u001b[1;33m)\u001b[0m\u001b[1;33m\u001b[0m\u001b[1;33m\u001b[0m\u001b[0m\n\u001b[0m",
      "\u001b[1;31mAttributeError\u001b[0m: module 'talib' has no attribute 'pivotlow'"
     ]
    }
   ],
   "source": [
    "import talib as ta\n",
    "\n",
    "ta.pivotlow()"
   ]
  },
  {
   "cell_type": "code",
   "execution_count": 1,
   "id": "17ca7d09-e0a5-4aea-9804-38cf126d8b68",
   "metadata": {
    "execution": {
     "iopub.execute_input": "2023-01-24T06:13:07.250435Z",
     "iopub.status.busy": "2023-01-24T06:13:07.250435Z",
     "iopub.status.idle": "2023-01-24T06:13:07.279359Z",
     "shell.execute_reply": "2023-01-24T06:13:07.276368Z",
     "shell.execute_reply.started": "2023-01-24T06:13:07.250435Z"
    },
    "tags": []
   },
   "outputs": [
    {
     "ename": "ModuleNotFoundError",
     "evalue": "No module named 'pyalgotrade'",
     "output_type": "error",
     "traceback": [
      "\u001b[1;31m---------------------------------------------------------------------------\u001b[0m",
      "\u001b[1;31mModuleNotFoundError\u001b[0m                       Traceback (most recent call last)",
      "\u001b[1;32m<ipython-input-1-4358fff18ee2>\u001b[0m in \u001b[0;36m<module>\u001b[1;34m\u001b[0m\n\u001b[1;32m----> 1\u001b[1;33m \u001b[1;32mfrom\u001b[0m \u001b[0mpyalgotrade\u001b[0m \u001b[1;32mimport\u001b[0m \u001b[0mstrategy\u001b[0m\u001b[1;33m\u001b[0m\u001b[1;33m\u001b[0m\u001b[0m\n\u001b[0m\u001b[0;32m      2\u001b[0m \u001b[1;32mfrom\u001b[0m \u001b[0mpyalgotrade\u001b[0m\u001b[1;33m.\u001b[0m\u001b[0mtechnical\u001b[0m \u001b[1;32mimport\u001b[0m \u001b[0mmacd\u001b[0m\u001b[1;33m\u001b[0m\u001b[1;33m\u001b[0m\u001b[0m\n\u001b[0;32m      3\u001b[0m \u001b[1;32mfrom\u001b[0m \u001b[0mpyalgotrade\u001b[0m\u001b[1;33m.\u001b[0m\u001b[0mbarfeed\u001b[0m \u001b[1;32mimport\u001b[0m \u001b[0myahoofeed\u001b[0m\u001b[1;33m\u001b[0m\u001b[1;33m\u001b[0m\u001b[0m\n\u001b[0;32m      4\u001b[0m \u001b[1;32mfrom\u001b[0m \u001b[0mpyalgotrade\u001b[0m\u001b[1;33m.\u001b[0m\u001b[0mbar\u001b[0m \u001b[1;32mimport\u001b[0m \u001b[0mFrequency\u001b[0m\u001b[1;33m\u001b[0m\u001b[1;33m\u001b[0m\u001b[0m\n\u001b[0;32m      5\u001b[0m \u001b[1;33m\u001b[0m\u001b[0m\n",
      "\u001b[1;31mModuleNotFoundError\u001b[0m: No module named 'pyalgotrade'"
     ]
    }
   ],
   "source": [
    "from pyalgotrade import strategy\n",
    "from pyalgotrade.bar import Frequency\n",
    "from pyalgotrade.barfeed import yahoofeed\n",
    "from pyalgotrade.technical import macd\n",
    "\n",
    "\n",
    "class MyStrategy(strategy.BacktestingStrategy):\n",
    "    def __init__(self, feed, instrument):\n",
    "        super(MyStrategy, self).__init__(feed)\n",
    "        self.__instrument = instrument\n",
    "        self.__macd = macd.MACD(\n",
    "            feed[instrument].getCloseDataSeries(),\n",
    "            12, 26, 9)\n",
    "\n",
    "    def onBars(self, bars):\n",
    "        macdValue = self.__macd[-1]\n",
    "        signalValue = self.__macd.getSignal()[-1]\n",
    "        if macdValue > signalValue and self.__macd[-2] < self.__macd.getSignal()[-2]:\n",
    "            self.info(\"Buy %s\" % (bars[self.__instrument].getClose()))\n",
    "        elif macdValue < signalValue and self.__macd[-2] > self.__macd.getSignal()[-2]:\n",
    "            self.info(\"Sell %s\" % (bars[self.__instrument].getClose()))\n",
    "\n",
    "\n",
    "feed = yahoofeed.Feed()\n",
    "feed.addBarsFromCSV(\"orcl\", \"orcl-2000.csv\")\n",
    "\n",
    "strategy = MyStrategy(feed, \"orcl\")\n",
    "strategy.run()"
   ]
  },
  {
   "cell_type": "markdown",
   "id": "b9b3ff7d-7f82-4263-b318-b216b9747b63",
   "metadata": {},
   "source": [
    "# macd的相邻的两个下降趋势作为背离信号\n",
    "两个相邻的上升趋势也作为背离信号的策略代码如和写"
   ]
  },
  {
   "cell_type": "code",
   "execution_count": null,
   "id": "db003788-b842-466a-9bad-33f086830df1",
   "metadata": {},
   "outputs": [],
   "source": [
    "from pyalgotrade import strategy\n",
    "from pyalgotrade.bar import Frequency\n",
    "from pyalgotrade.barfeed import yahoofeed\n",
    "from pyalgotrade.technical import macd\n",
    "\n",
    "\n",
    "class MyStrategy(strategy.BacktestingStrategy):\n",
    "    def __init__(self, feed, instrument):\n",
    "        super(MyStrategy, self).__init__(feed)\n",
    "        self.__instrument = instrument\n",
    "        self.__macd = macd.MACD(\n",
    "            feed[instrument].getCloseDataSeries(),\n",
    "            12, 26, 9)\n",
    "        self.__macdTrend = None\n",
    "\n",
    "    def onBars(self, bars):\n",
    "        macdValue = self.__macd[-1]\n",
    "        signalValue = self.__macd.getSignal()[-1]\n",
    "        # Determine the current trend\n",
    "        if macdValue > signalValue:\n",
    "            currentTrend = \"up\"\n",
    "        else:\n",
    "            currentTrend = \"down\"\n",
    "\n",
    "        # Check for a change in trend\n",
    "        if self.__macdTrend is None:\n",
    "            self.__macdTrend = currentTrend\n",
    "        elif self.__macdTrend != currentTrend:\n",
    "            self.__macdTrend = currentTrend\n",
    "            if currentTrend == \"up\":\n",
    "                self.info(\"Buy %s\" % (bars[self.__instrument].getClose()))\n",
    "            elif currentTrend == \"down\":\n",
    "                self.info(\"Sell %s\" % (bars[self.__instrument].getClose()))\n",
    "\n",
    "\n",
    "feed = yahoofeed.Feed()\n",
    "feed.addBarsFromCSV(\"orcl\", \"orcl-2000.csv\")\n",
    "\n",
    "strategy = MyStrategy(feed, \"orcl\")\n",
    "strategy.run()"
   ]
  }
 ],
 "metadata": {
  "kernelspec": {
   "display_name": "pytorch_gpu",
   "language": "python",
   "name": "pytorch_gpu"
  },
  "language_info": {
   "codemirror_mode": {
    "name": "ipython",
    "version": 3
   },
   "file_extension": ".py",
   "mimetype": "text/x-python",
   "name": "python",
   "nbconvert_exporter": "python",
   "pygments_lexer": "ipython3",
   "version": "3.7.7"
  },
  "widgets": {
   "application/vnd.jupyter.widget-state+json": {
    "state": {
     "01ea5632e9bd466a9a67da0882a83636": {
      "model_module": "@jupyter-widgets/base",
      "model_module_version": "2.0.0",
      "model_name": "LayoutModel",
      "state": {}
     },
     "07596f9b2686489181dba81fd45a9aff": {
      "model_module": "jupyter-matplotlib",
      "model_module_version": "^0.11",
      "model_name": "ToolbarModel",
      "state": {
       "_model_module_version": "^0.11",
       "_view_module_version": "^0.11",
       "collapsed": true,
       "layout": "IPY_MODEL_68e007f6def747e1b2294f5c99d723b7",
       "orientation": "vertical",
       "toolitems": [
        [
         "Home",
         "Reset original view",
         "home",
         "home"
        ],
        [
         "Back",
         "Back to previous view",
         "arrow-left",
         "back"
        ],
        [
         "Forward",
         "Forward to next view",
         "arrow-right",
         "forward"
        ],
        [
         "Pan",
         "Left button pans, Right button zooms\nx/y fixes axis, CTRL fixes aspect",
         "arrows",
         "pan"
        ],
        [
         "Zoom",
         "Zoom to rectangle\nx/y fixes axis",
         "square-o",
         "zoom"
        ],
        [
         "Download",
         "Download plot",
         "floppy-o",
         "save_figure"
        ]
       ]
      }
     },
     "199b37cb77ee46ceab77c6fc650510c3": {
      "model_module": "@jupyter-widgets/base",
      "model_module_version": "2.0.0",
      "model_name": "LayoutModel",
      "state": {}
     },
     "1ef2dafc46374422b7ed47480cf14722": {
      "model_module": "jupyter-matplotlib",
      "model_module_version": "^0.11",
      "model_name": "ToolbarModel",
      "state": {
       "_model_module_version": "^0.11",
       "_view_module_version": "^0.11",
       "collapsed": true,
       "layout": "IPY_MODEL_71a2b1fb6ebf45aeb7def5d2a6c0c242",
       "orientation": "vertical",
       "toolitems": [
        [
         "Home",
         "Reset original view",
         "home",
         "home"
        ],
        [
         "Back",
         "Back to previous view",
         "arrow-left",
         "back"
        ],
        [
         "Forward",
         "Forward to next view",
         "arrow-right",
         "forward"
        ],
        [
         "Pan",
         "Left button pans, Right button zooms\nx/y fixes axis, CTRL fixes aspect",
         "arrows",
         "pan"
        ],
        [
         "Zoom",
         "Zoom to rectangle\nx/y fixes axis",
         "square-o",
         "zoom"
        ],
        [
         "Download",
         "Download plot",
         "floppy-o",
         "save_figure"
        ]
       ]
      }
     },
     "23c445d7910f4a969aa9368b52b1877e": {
      "model_module": "@jupyter-widgets/base",
      "model_module_version": "2.0.0",
      "model_name": "LayoutModel",
      "state": {}
     },
     "3e1b41186b7c4d38ab37ec304bb97ca3": {
      "model_module": "jupyter-matplotlib",
      "model_module_version": "^0.11",
      "model_name": "ToolbarModel",
      "state": {
       "_model_module_version": "^0.11",
       "_view_module_version": "^0.11",
       "collapsed": true,
       "layout": "IPY_MODEL_72fab30c6c364e679a274da530d5f9a1",
       "orientation": "vertical",
       "toolitems": [
        [
         "Home",
         "Reset original view",
         "home",
         "home"
        ],
        [
         "Back",
         "Back to previous view",
         "arrow-left",
         "back"
        ],
        [
         "Forward",
         "Forward to next view",
         "arrow-right",
         "forward"
        ],
        [
         "Pan",
         "Left button pans, Right button zooms\nx/y fixes axis, CTRL fixes aspect",
         "arrows",
         "pan"
        ],
        [
         "Zoom",
         "Zoom to rectangle\nx/y fixes axis",
         "square-o",
         "zoom"
        ],
        [
         "Download",
         "Download plot",
         "floppy-o",
         "save_figure"
        ]
       ]
      }
     },
     "3fa3d3e4f6f64811aacdf99a6856bad2": {
      "model_module": "jupyter-matplotlib",
      "model_module_version": "^0.11",
      "model_name": "ToolbarModel",
      "state": {
       "_model_module_version": "^0.11",
       "_view_module_version": "^0.11",
       "collapsed": true,
       "layout": "IPY_MODEL_01ea5632e9bd466a9a67da0882a83636",
       "orientation": "vertical",
       "toolitems": [
        [
         "Home",
         "Reset original view",
         "home",
         "home"
        ],
        [
         "Back",
         "Back to previous view",
         "arrow-left",
         "back"
        ],
        [
         "Forward",
         "Forward to next view",
         "arrow-right",
         "forward"
        ],
        [
         "Pan",
         "Left button pans, Right button zooms\nx/y fixes axis, CTRL fixes aspect",
         "arrows",
         "pan"
        ],
        [
         "Zoom",
         "Zoom to rectangle\nx/y fixes axis",
         "square-o",
         "zoom"
        ],
        [
         "Download",
         "Download plot",
         "floppy-o",
         "save_figure"
        ]
       ]
      }
     },
     "610010646cc6485eb5e7a34b1aaa8332": {
      "model_module": "@jupyter-widgets/base",
      "model_module_version": "2.0.0",
      "model_name": "LayoutModel",
      "state": {}
     },
     "6567981146f141469138816676152a8f": {
      "model_module": "@jupyter-widgets/base",
      "model_module_version": "2.0.0",
      "model_name": "LayoutModel",
      "state": {}
     },
     "68347447339742979d57b0cfc926c164": {
      "model_module": "@jupyter-widgets/base",
      "model_module_version": "2.0.0",
      "model_name": "LayoutModel",
      "state": {}
     },
     "68e007f6def747e1b2294f5c99d723b7": {
      "model_module": "@jupyter-widgets/base",
      "model_module_version": "2.0.0",
      "model_name": "LayoutModel",
      "state": {}
     },
     "71a2b1fb6ebf45aeb7def5d2a6c0c242": {
      "model_module": "@jupyter-widgets/base",
      "model_module_version": "2.0.0",
      "model_name": "LayoutModel",
      "state": {}
     },
     "72fab30c6c364e679a274da530d5f9a1": {
      "model_module": "@jupyter-widgets/base",
      "model_module_version": "2.0.0",
      "model_name": "LayoutModel",
      "state": {}
     },
     "76b372d853564c32bfe647c2847c7ae0": {
      "model_module": "@jupyter-widgets/base",
      "model_module_version": "2.0.0",
      "model_name": "LayoutModel",
      "state": {}
     },
     "85a3ab59ef5f4c3b908eea04beab7af5": {
      "model_module": "@jupyter-widgets/base",
      "model_module_version": "2.0.0",
      "model_name": "LayoutModel",
      "state": {}
     },
     "8a5aefae1e134386acf024d48d811f54": {
      "model_module": "@jupyter-widgets/base",
      "model_module_version": "2.0.0",
      "model_name": "LayoutModel",
      "state": {}
     },
     "a211ec28678d462ea2450d5350c3f550": {
      "model_module": "@jupyter-widgets/base",
      "model_module_version": "2.0.0",
      "model_name": "LayoutModel",
      "state": {}
     },
     "a451a64d611245c0bf69888479149d1b": {
      "model_module": "jupyter-matplotlib",
      "model_module_version": "^0.11",
      "model_name": "ToolbarModel",
      "state": {
       "_model_module_version": "^0.11",
       "_view_module_version": "^0.11",
       "collapsed": true,
       "layout": "IPY_MODEL_76b372d853564c32bfe647c2847c7ae0",
       "orientation": "vertical",
       "toolitems": [
        [
         "Home",
         "Reset original view",
         "home",
         "home"
        ],
        [
         "Back",
         "Back to previous view",
         "arrow-left",
         "back"
        ],
        [
         "Forward",
         "Forward to next view",
         "arrow-right",
         "forward"
        ],
        [
         "Pan",
         "Left button pans, Right button zooms\nx/y fixes axis, CTRL fixes aspect",
         "arrows",
         "pan"
        ],
        [
         "Zoom",
         "Zoom to rectangle\nx/y fixes axis",
         "square-o",
         "zoom"
        ],
        [
         "Download",
         "Download plot",
         "floppy-o",
         "save_figure"
        ]
       ]
      }
     },
     "c0bedb881ae34aada488ef94487dc0fd": {
      "model_module": "jupyter-matplotlib",
      "model_module_version": "^0.11",
      "model_name": "ToolbarModel",
      "state": {
       "_model_module_version": "^0.11",
       "_view_module_version": "^0.11",
       "collapsed": true,
       "layout": "IPY_MODEL_a211ec28678d462ea2450d5350c3f550",
       "orientation": "vertical",
       "toolitems": [
        [
         "Home",
         "Reset original view",
         "home",
         "home"
        ],
        [
         "Back",
         "Back to previous view",
         "arrow-left",
         "back"
        ],
        [
         "Forward",
         "Forward to next view",
         "arrow-right",
         "forward"
        ],
        [
         "Pan",
         "Left button pans, Right button zooms\nx/y fixes axis, CTRL fixes aspect",
         "arrows",
         "pan"
        ],
        [
         "Zoom",
         "Zoom to rectangle\nx/y fixes axis",
         "square-o",
         "zoom"
        ],
        [
         "Download",
         "Download plot",
         "floppy-o",
         "save_figure"
        ]
       ]
      }
     },
     "d3715af8414c400b801f45a78d229824": {
      "model_module": "@jupyter-widgets/base",
      "model_module_version": "2.0.0",
      "model_name": "LayoutModel",
      "state": {}
     },
     "d96fd03906a84901ae7a41da66df3b9a": {
      "model_module": "@jupyter-widgets/base",
      "model_module_version": "2.0.0",
      "model_name": "LayoutModel",
      "state": {}
     },
     "daae88567c6c4837abbae478a7ce7f33": {
      "model_module": "jupyter-matplotlib",
      "model_module_version": "^0.11",
      "model_name": "ToolbarModel",
      "state": {
       "_model_module_version": "^0.11",
       "_view_module_version": "^0.11",
       "collapsed": true,
       "layout": "IPY_MODEL_68347447339742979d57b0cfc926c164",
       "orientation": "vertical",
       "toolitems": [
        [
         "Home",
         "Reset original view",
         "home",
         "home"
        ],
        [
         "Back",
         "Back to previous view",
         "arrow-left",
         "back"
        ],
        [
         "Forward",
         "Forward to next view",
         "arrow-right",
         "forward"
        ],
        [
         "Pan",
         "Left button pans, Right button zooms\nx/y fixes axis, CTRL fixes aspect",
         "arrows",
         "pan"
        ],
        [
         "Zoom",
         "Zoom to rectangle\nx/y fixes axis",
         "square-o",
         "zoom"
        ],
        [
         "Download",
         "Download plot",
         "floppy-o",
         "save_figure"
        ]
       ]
      }
     },
     "ebbbfce298d04b99a0b75af709c168ce": {
      "model_module": "jupyter-matplotlib",
      "model_module_version": "^0.11",
      "model_name": "ToolbarModel",
      "state": {
       "_model_module_version": "^0.11",
       "_view_module_version": "^0.11",
       "collapsed": true,
       "layout": "IPY_MODEL_85a3ab59ef5f4c3b908eea04beab7af5",
       "orientation": "vertical",
       "toolitems": [
        [
         "Home",
         "Reset original view",
         "home",
         "home"
        ],
        [
         "Back",
         "Back to previous view",
         "arrow-left",
         "back"
        ],
        [
         "Forward",
         "Forward to next view",
         "arrow-right",
         "forward"
        ],
        [
         "Pan",
         "Left button pans, Right button zooms\nx/y fixes axis, CTRL fixes aspect",
         "arrows",
         "pan"
        ],
        [
         "Zoom",
         "Zoom to rectangle\nx/y fixes axis",
         "square-o",
         "zoom"
        ],
        [
         "Download",
         "Download plot",
         "floppy-o",
         "save_figure"
        ]
       ]
      }
     },
     "f70966fe70b347b18ca105501dcf9ee0": {
      "model_module": "jupyter-matplotlib",
      "model_module_version": "^0.11",
      "model_name": "MPLCanvasModel",
      "state": {
       "_cursor": "default",
       "_data_url": "data:image/png;base64,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",
       "_figure_label": "Figure 1",
       "_message": "x= y=10.93",
       "_model_module_version": "^0.11",
       "_size": [
        640,
        479.99999999999994
       ],
       "_view_module_version": "^0.11",
       "layout": "IPY_MODEL_8a5aefae1e134386acf024d48d811f54",
       "toolbar": "IPY_MODEL_a451a64d611245c0bf69888479149d1b",
       "toolbar_position": "left"
      }
     },
     "fce09b97a2d04a3fac2e8457eb396402": {
      "model_module": "jupyter-matplotlib",
      "model_module_version": "^0.11",
      "model_name": "ToolbarModel",
      "state": {
       "_model_module_version": "^0.11",
       "_view_module_version": "^0.11",
       "collapsed": true,
       "layout": "IPY_MODEL_23c445d7910f4a969aa9368b52b1877e",
       "orientation": "vertical",
       "toolitems": [
        [
         "Home",
         "Reset original view",
         "home",
         "home"
        ],
        [
         "Back",
         "Back to previous view",
         "arrow-left",
         "back"
        ],
        [
         "Forward",
         "Forward to next view",
         "arrow-right",
         "forward"
        ],
        [
         "Pan",
         "Left button pans, Right button zooms\nx/y fixes axis, CTRL fixes aspect",
         "arrows",
         "pan"
        ],
        [
         "Zoom",
         "Zoom to rectangle\nx/y fixes axis",
         "square-o",
         "zoom"
        ],
        [
         "Download",
         "Download plot",
         "floppy-o",
         "save_figure"
        ]
       ]
      }
     },
     "fec4e2a90b364f60a6525f8f31716468": {
      "model_module": "jupyter-matplotlib",
      "model_module_version": "^0.11",
      "model_name": "ToolbarModel",
      "state": {
       "_model_module_version": "^0.11",
       "_view_module_version": "^0.11",
       "collapsed": true,
       "layout": "IPY_MODEL_d96fd03906a84901ae7a41da66df3b9a",
       "orientation": "vertical",
       "toolitems": [
        [
         "Home",
         "Reset original view",
         "home",
         "home"
        ],
        [
         "Back",
         "Back to previous view",
         "arrow-left",
         "back"
        ],
        [
         "Forward",
         "Forward to next view",
         "arrow-right",
         "forward"
        ],
        [
         "Pan",
         "Left button pans, Right button zooms\nx/y fixes axis, CTRL fixes aspect",
         "arrows",
         "pan"
        ],
        [
         "Zoom",
         "Zoom to rectangle\nx/y fixes axis",
         "square-o",
         "zoom"
        ],
        [
         "Download",
         "Download plot",
         "floppy-o",
         "save_figure"
        ]
       ]
      }
     }
    },
    "version_major": 2,
    "version_minor": 0
   }
  }
 },
 "nbformat": 4,
 "nbformat_minor": 5
}
