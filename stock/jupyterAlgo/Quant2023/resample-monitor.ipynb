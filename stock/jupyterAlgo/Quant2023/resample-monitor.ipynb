{
 "cells": [
  {
   "cell_type": "markdown",
   "id": "76010d4d",
   "metadata": {},
   "source": [
    "# import def func"
   ]
  },
  {
   "cell_type": "code",
   "execution_count": 1,
   "id": "a547812c-f835-4e27-ac46-12430da81ca1",
   "metadata": {
    "ExecuteTime": {
     "end_time": "2025-06-22T00:30:43.842437Z",
     "start_time": "2025-06-22T00:30:42.199065Z"
    },
    "cell_style": "center",
    "execution": {
     "iopub.execute_input": "2025-06-22T13:58:55.459597Z",
     "iopub.status.busy": "2025-06-22T13:58:55.459597Z",
     "iopub.status.idle": "2025-06-22T13:58:59.072703Z",
     "shell.execute_reply": "2025-06-22T13:58:59.071703Z",
     "shell.execute_reply.started": "2025-06-22T13:58:55.459597Z"
    }
   },
   "outputs": [],
   "source": [
    "# import logging\n",
    "import sys\n",
    "# stdout=sys.stdout\n",
    "sys.path.append('../../')\n",
    "import os\n",
    "import random\n",
    "import time\n",
    "\n",
    "# import matplotlib\n",
    "# import matplotlib.pyplot as plt\n",
    "# import mplfinance as mpf\n",
    "# sys.stdout=stdout\n",
    "import numpy as np\n",
    "import pandas as pd\n",
    "from JohnsonUtil import commonTips as cct\n",
    "from JohnsonUtil import johnson_cons as ct\n",
    "from JSONData import sina_data\n",
    "from JSONData import tdx_data_Day as tdd\n",
    "from JSONData import tdx_hdf5_api as h5a\n",
    "\n",
    "# from mplfinance.original_flavor import candlestick_ohlc\n",
    "# from JSONData import tdx_hdf5_api as h5a\n",
    "\n",
    "# %matplotlib widget\n",
    "# plt.rc('font', family='SimHei', size=13)\n",
    "# matplotlib.get_backend()\n",
    "# jupyter nbextension enable --py widgetsnbextension\n",
    "\n",
    "os.environ['NUMEXPR_MAX_THREADS'] = '12'\n",
    "from IPython.core.interactiveshell import InteractiveShell\n",
    "\n",
    "InteractiveShell.ast_node_interactivity = \"all\"\n",
    "import nest_asyncio\n",
    "nest_asyncio.apply()"
   ]
  },
  {
   "cell_type": "code",
   "execution_count": 2,
   "id": "2e698804",
   "metadata": {
    "ExecuteTime": {
     "end_time": "2025-06-22T02:50:05.834678Z",
     "start_time": "2025-06-22T02:50:05.798244Z"
    },
    "execution": {
     "iopub.execute_input": "2025-06-22T13:58:59.076691Z",
     "iopub.status.busy": "2025-06-22T13:58:59.075712Z",
     "iopub.status.idle": "2025-06-22T13:58:59.133539Z",
     "shell.execute_reply": "2025-06-22T13:58:59.132582Z",
     "shell.execute_reply.started": "2025-06-22T13:58:59.076691Z"
    },
    "tags": []
   },
   "outputs": [],
   "source": [
    "def show_tdx_data(df, codelist=None, market_value='3', col=None,limit=20,orderby='percent'):\n",
    "    col_src = [\n",
    "        \"name\",'percent', \"couts\", \"date\", \"perc\", \"ra_diff\",\"xratio\", \"idx\", \"hat\", \"close\",\n",
    "        \"volsum5d\", \"hmax\", \"lmin\", \"perc1d\", \"ma20\", \"ma250\", \"nclose\",\n",
    "        \"llow\", 'vol1d', 'vol2d', 'vol3d', 'vol4d', 'vol5d', \"perc%sd\" %\n",
    "        (market_value),\n",
    "        \"perc5d\"]\n",
    "\n",
    "    if isinstance(df, pd.Series):\n",
    "        col_name = [co for co in col_src if co in df.index]\n",
    "        # col_name.insert(1,'date')\n",
    "    else:\n",
    "        col_name = [co for co in col_src if co in df.columns]\n",
    "\n",
    "    # print(col_name)\n",
    "    # if isinstance(df, pd.DataFrame) and 'name' in df.columns:\n",
    "    #     columns_ = col_name\n",
    "    # else:\n",
    "    #     if isinstance(df, pd.Series) and 'name' in df.index:\n",
    "    #         columns_ = col_name.insert(1, \"date\")\n",
    "    #     else:\n",
    "    #         columns_ = col_name.remove(\"name\")\n",
    "    if orderby in df.columns:\n",
    "        df=df.sort_values('percent', ascending=False)\n",
    "    if isinstance(col,list):\n",
    "        col_name.extend(col)\n",
    "    elif col is not None:\n",
    "        col_name.insert(4, col)\n",
    "\n",
    "    if codelist is None:\n",
    "        if isinstance(df, pd.Series):\n",
    "            print(\"Count:1\")\n",
    "            temp = df.loc[col_name][:limit]\n",
    "        else:\n",
    "            print(\"Count:%s %s\" % (df.shape))\n",
    "            temp = df.loc[:, col_name][:limit]\n",
    "    else:\n",
    "        temp = df.loc[[x for x in codelist if x in df.index], col_name][:limit]\n",
    "    return temp\n",
    "\n",
    "def clean_sina_dm(dd):\n",
    "    if (cct.get_now_time_int() > 915 and cct.get_now_time_int() < 926):\n",
    "        dd = dd[dd.close > 0]\n",
    "    else:\n",
    "        dd = dd[dd.open > 0]\n",
    "    return dd\n",
    "\n",
    "global sina_dm\n",
    "sina_dm = None\n",
    "\n",
    "\n",
    "def get_sina_data_cname(df, dm=None, index=False, realtime=False):\n",
    "    # index_status=False\n",
    "    global sina_dm\n",
    "    if dm is None:\n",
    "        if sina_dm is None:\n",
    "            dm = sina_data.Sina().market('all')\n",
    "        else:\n",
    "            dm = sina_dm.copy()\n",
    "\n",
    "    if 'ticktime' in df.columns:\n",
    "        time_l = time.mktime(dm.loc[:, 'ticktime'][-1].timetuple())\n",
    "        dur = round((time.time() - time_l) / 60, 2)\n",
    "        if dur > 5:\n",
    "            print(\"timel > 5,renew dm\")\n",
    "            dm = sina_data.Sina().market('all')\n",
    "            sina_dm = dm.copy()\n",
    "\n",
    "    if realtime:\n",
    "        print(\"compute percent\")\n",
    "        df.rename(columns={'low': 'llow',\n",
    "                  'high': 'lhigh', 'open': 'lopen'}, inplace=True)\n",
    "        if 'nclose' in dm.columns:\n",
    "            dd = cct.combine_dataFrame(\n",
    "                df, dm.loc\n",
    "                [:,\n",
    "                 ['nclose', 'close', 'name', 'open', 'high', 'low', 'llastp',\n",
    "                  'ticktime']],\n",
    "                clean=True)\n",
    "        else:\n",
    "            dd = cct.combine_dataFrame(\n",
    "                df, dm.loc\n",
    "                [:, ['close', 'name', 'open', 'high', 'low', 'llastp', 'ticktime']],\n",
    "                clean=True)\n",
    "        dd['perc'] = ((dd['close'] - dd['llastp']) / dd['llastp'] *\n",
    "                      100).map(lambda x: round(x, 2))\n",
    "        # dd = cct.combine_dataFrame(df, dm['name'])\n",
    "\n",
    "    else:\n",
    "        dd = cct.combine_dataFrame(df, dm['name'])\n",
    "    # cname = sina_data.Sina().get_code_cname(code)\n",
    "    return dd\n",
    "\n",
    "# from JSONData import tdx_hdf5_api as h5a\n",
    "names = locals()\n",
    "def get_tdx_all_now(resample='d',market_blk='all',showtable=True):\n",
    "    top_now = tdd.getSinaAlldf(market=market_blk, vol=ct.json_countVol, vtype=ct.json_countType)\n",
    "    if resample=='d' or resample=='3d':\n",
    "        dl='60'\n",
    "    elif  resample=='w':\n",
    "        dl='200'\n",
    "    else:\n",
    "        dl='300'\n",
    "    filter='y'\n",
    "#     tdx_df = f'lastpTDX_DF_{resample}'\n",
    "    if not f'lastpTDX_DF_{resample}' in names:\n",
    "        print(f'lastpTDX_DF_{resample} not in locals')\n",
    "        top_all, lastpTDX_DF = tdd.get_append_lastp_to_df(top_now, dl=dl,resample=resample,showtable=showtable)\n",
    "        names[f'lastpTDX_DF_{resample}'] = lastpTDX_DF\n",
    "    else:\n",
    "        print(f'lastpTDX_DF_{resample} in locals')\n",
    "        top_all = tdd.get_append_lastp_to_df(top_now, eval(f'lastpTDX_DF_{resample}'))\n",
    "    return top_all\n",
    "\n",
    "def get_tdx_all_from_h5_old(resample='d',showtable=True):\n",
    "    #sina_monitor\n",
    "    h5_fname = 'tdx_last_df'\n",
    "    resample=resample\n",
    "    if resample=='d' or resample=='3d':\n",
    "        dl='60'\n",
    "    elif  resample=='w':\n",
    "        dl='200'\n",
    "    else:\n",
    "        dl='300'\n",
    "    filter='y'\n",
    "    h5_table = 'low' + '_' + resample + '_' + str(dl) + '_' + filter + '_' + 'all'\n",
    "    h5 = h5a.load_hdf_db(h5_fname, table=h5_table,code_l=None, timelimit=False,showtable=showtable)\n",
    "    if h5 is None:\n",
    "        h5,tdx = tdd.get_append_lastp_to_df(sina_data.Sina().market('all'),dl=dl,resample=resample)\n",
    "    return h5\n",
    "\n",
    "\n",
    "# def get_tdx_all_from_h5_old(resample='d',dl=ct.duration_date_day, end=None, ptype='low', filter='y',showtable=True):\n",
    "#     if end is not None:\n",
    "#         h5_table = ptype + '_' + resample + '_' + str(dl) + '_' + filter + \\\n",
    "#             '_' + end.replace('-', '') + '_' + 'all'\n",
    "#     else:\n",
    "#         h5_table = ptype + '_' + resample + '_' + str(dl) + '_' + filter + '_' + 'all'\n",
    "#     #sina_monitor\n",
    "#     h5_fname = 'tdx_last_df'\n",
    "#     resample=resample\n",
    "#     if resample=='d' or resample=='3d':\n",
    "#         dl='60'\n",
    "#     elif  resample=='w':\n",
    "#         dl='200'\n",
    "#     else:\n",
    "#         dl='300'\n",
    "#     filter='y'\n",
    "#     h5_table = 'low' + '_' + resample + '_' + str(dl) + '_' + filter + '_' + 'all'\n",
    "#     h5 = h5a.load_hdf_db(h5_fname, table=h5_table,code_l=None, timelimit=False,showtable=showtable)\n",
    "#     return h5\n",
    "\n",
    "def write_code_to_blk(codew, blk='077',rewrite=False):\n",
    "    block_path = tdd.get_tdx_dir_blocknew() + '%s.blk' % (blk)\n",
    "    write_blk = 'n'\n",
    "    if not rewrite:\n",
    "        write_blk = cct.cct_raw_input(\"write blk [Y] or [N]:\")\n",
    "        if write_blk == 'y' or write_blk == 'Y':\n",
    "            hdf5_wri = cct.cct_raw_input(\n",
    "                \"Rewrite code [Y] or append [N](defalut:N):\")\n",
    "            if hdf5_wri == 'y' or hdf5_wri == 'Y':\n",
    "                append_status = False\n",
    "            else:\n",
    "                append_status = True\n",
    "            if len(codew) > 3:\n",
    "                cct.write_to_blocknew(block_path, codew, append=append_status,\n",
    "                                      doubleFile=False, keep_last=0)\n",
    "                print(\"write:%s block_path:%s\" % (len(codew), block_path))\n",
    "            else:\n",
    "                print(\"write error:%s block_path:%s\" % (len(codew), block_path))\n",
    "    else:\n",
    "        if len(codew) > 3:\n",
    "                cct.write_to_blocknew(block_path, codew, append=False,\n",
    "                                      doubleFile=False, keep_last=0)\n",
    "                print(\"write:%s block_path:%s\" % (len(codew), block_path))\n",
    "        else:\n",
    "            print(\"write error:%s block_path:%s\" % (len(codew), block_path))\n",
    "\n",
    "def apply_col_toint(df, col=None):\n",
    "    if col is None:\n",
    "        co2int = ['boll', 'op', 'ratio', 'fib', 'fibl', 'df2']\n",
    "    # co2int.extend([co for co in df.columns.tolist()\n",
    "    #                if co.startswith('perc') and co.endswith('d')])\n",
    "        co2int.extend(['top10', 'topR'])\n",
    "    else:\n",
    "        co2int = col\n",
    "    co2int = [inx for inx in co2int if inx in df.columns]\n",
    "\n",
    "    for co in co2int:\n",
    "        df[co] = df[co].astype(int)\n",
    "\n",
    "    return df\n",
    "\n",
    "def readHdf5(fpath, root=None):\n",
    "    if not os.path.exists(fpath):\n",
    "        print(f'fpath is not exists')\n",
    "        return None\n",
    "    store = pd.HDFStore(fpath, \"r\")\n",
    "    print(store.keys())\n",
    "    if len(store.keys()) > 0 and root is None and store is not None:\n",
    "        root = store.keys()[0].replace(\"/\", \"\")\n",
    "        df = store[root]\n",
    "        df = apply_col_toint(df)\n",
    "    else:\n",
    "        df = None\n",
    "    store.close()\n",
    "    return df"
   ]
  },
  {
   "cell_type": "code",
   "execution_count": 3,
   "id": "4954d038",
   "metadata": {
    "ExecuteTime": {
     "end_time": "2025-06-22T00:30:43.898481Z",
     "start_time": "2025-06-22T00:30:43.886310Z"
    },
    "execution": {
     "iopub.execute_input": "2025-06-22T13:58:59.135534Z",
     "iopub.status.busy": "2025-06-22T13:58:59.135534Z",
     "iopub.status.idle": "2025-06-22T13:58:59.163459Z",
     "shell.execute_reply": "2025-06-22T13:58:59.162462Z",
     "shell.execute_reply.started": "2025-06-22T13:58:59.135534Z"
    }
   },
   "outputs": [
    {
     "data": {
      "text/plain": [
       "False"
      ]
     },
     "execution_count": 3,
     "metadata": {},
     "output_type": "execute_result"
    },
    {
     "data": {
      "text/plain": [
       "False"
      ]
     },
     "execution_count": 3,
     "metadata": {},
     "output_type": "execute_result"
    }
   ],
   "source": [
    "f'lastpTDX_DF_d' in names\n",
    "f'lastpTDX_DF_d' in locals()\n",
    "# eval(f'lastpTDX_DF_d')"
   ]
  },
  {
   "cell_type": "markdown",
   "id": "5a45d7a7",
   "metadata": {},
   "source": [
    "## init data"
   ]
  },
  {
   "cell_type": "markdown",
   "id": "ef938827",
   "metadata": {},
   "source": [
    "### get_tdx_all"
   ]
  },
  {
   "cell_type": "code",
   "execution_count": 4,
   "id": "26124559-db9b-48f7-aa4b-1a3e91ed5f8c",
   "metadata": {
    "ExecuteTime": {
     "end_time": "2025-06-22T00:30:43.906126Z",
     "start_time": "2025-06-22T00:30:43.902281Z"
    },
    "execution": {
     "iopub.execute_input": "2025-06-22T13:58:59.169443Z",
     "iopub.status.busy": "2025-06-22T13:58:59.168446Z",
     "iopub.status.idle": "2025-06-22T13:58:59.179418Z",
     "shell.execute_reply": "2025-06-22T13:58:59.177422Z",
     "shell.execute_reply.started": "2025-06-22T13:58:59.169443Z"
    }
   },
   "outputs": [],
   "source": [
    "# h5_day=get_tdx_all_now(resample='d')"
   ]
  },
  {
   "cell_type": "markdown",
   "id": "2b1db239",
   "metadata": {},
   "source": [
    "### sina"
   ]
  },
  {
   "cell_type": "markdown",
   "id": "0a650384",
   "metadata": {},
   "source": [
    "### sina_all"
   ]
  },
  {
   "cell_type": "code",
   "execution_count": 5,
   "id": "eacdcd3e",
   "metadata": {
    "ExecuteTime": {
     "end_time": "2025-06-22T00:30:44.822401Z",
     "start_time": "2025-06-22T00:30:43.908482Z"
    },
    "execution": {
     "iopub.execute_input": "2025-06-22T13:58:59.182410Z",
     "iopub.status.busy": "2025-06-22T13:58:59.181412Z",
     "iopub.status.idle": "2025-06-22T13:59:00.978183Z",
     "shell.execute_reply": "2025-06-22T13:59:00.977183Z",
     "shell.execute_reply.started": "2025-06-22T13:58:59.182410Z"
    },
    "run_control": {
     "marked": true
    }
   },
   "outputs": [
    {
     "data": {
      "text/plain": [
       "('2025-06-20',\n",
       " code\n",
       " 300763    锦浪科技\n",
       " Name: name, dtype: object)"
      ]
     },
     "execution_count": 5,
     "metadata": {},
     "output_type": "execute_result"
    }
   ],
   "source": [
    "sina_dm = sina_data.Sina().market('all')\n",
    "lastday = cct.last_tddate()\n",
    "lastday,sina_dm.name[:1]\n",
    "sina_dm = clean_sina_dm(sina_dm)"
   ]
  },
  {
   "cell_type": "code",
   "execution_count": 6,
   "id": "0c973adf",
   "metadata": {
    "ExecuteTime": {
     "end_time": "2025-06-22T00:30:44.840711Z",
     "start_time": "2025-06-22T00:30:44.824928Z"
    },
    "execution": {
     "iopub.execute_input": "2025-06-22T13:59:00.981174Z",
     "iopub.status.busy": "2025-06-22T13:59:00.980178Z",
     "iopub.status.idle": "2025-06-22T13:59:01.010096Z",
     "shell.execute_reply": "2025-06-22T13:59:01.008104Z",
     "shell.execute_reply.started": "2025-06-22T13:59:00.981174Z"
    }
   },
   "outputs": [
    {
     "data": {
      "text/plain": [
       "'2025-06/22/25 21:59:00'"
      ]
     },
     "execution_count": 6,
     "metadata": {},
     "output_type": "execute_result"
    },
    {
     "data": {
      "text/plain": [
       "code\n",
       "839493   2025-06-22 15:30:00\n",
       "603119   2025-06-22 15:00:03\n",
       "Name: ticktime, dtype: datetime64[ns]"
      ]
     },
     "execution_count": 6,
     "metadata": {},
     "output_type": "execute_result"
    },
    {
     "data": {
      "text/plain": [
       "418.96660226980845"
      ]
     },
     "execution_count": 6,
     "metadata": {},
     "output_type": "execute_result"
    }
   ],
   "source": [
    "cct.get_time_to_date(time.time(), format='%Y-%D %H:%M:%S')\n",
    "\n",
    "# abc=dm.loc[:,'ticktime'][-1]\n",
    "sina_dm.ticktime[-2:]\n",
    "# dm.ticktime[:1]\n",
    "# sina_dm.loc[:, 'ticktime'][-1]\n",
    "# time.strptime(abc,format='%Y-%m-%d %H:%M:%S')\n",
    "# (time.mktime(abc.timetuple()))\n",
    "(time.time() - time.mktime(sina_dm.loc[:, 'ticktime'][-1].timetuple())) / 60"
   ]
  },
  {
   "cell_type": "markdown",
   "id": "8e36c9a3",
   "metadata": {},
   "source": [
    "#### 实时成交"
   ]
  },
  {
   "cell_type": "code",
   "execution_count": 7,
   "id": "a38f56d8",
   "metadata": {
    "ExecuteTime": {
     "end_time": "2025-06-22T00:30:52.377293Z",
     "start_time": "2025-06-22T00:30:44.846017Z"
    },
    "execution": {
     "iopub.execute_input": "2025-06-22T13:59:01.020070Z",
     "iopub.status.busy": "2025-06-22T13:59:01.013089Z",
     "iopub.status.idle": "2025-06-22T13:59:01.087563Z",
     "shell.execute_reply": "2025-06-22T13:59:01.086020Z",
     "shell.execute_reply.started": "2025-06-22T13:59:01.020070Z"
    },
    "tags": []
   },
   "outputs": [
    {
     "name": "stdout",
     "output_type": "stream",
     "text": [
      "sina_MultiD_path:G:\\sina_MultiIndex_data.h5\n",
      "[]\n",
      "G:\\sina_MultiIndex_data.h5\n"
     ]
    }
   ],
   "source": [
    "# tdx_path = \"G:\\\\tdx_last_df.h5\"\n",
    "# from JohnsonUtil import commonTips as cct\n",
    "sina_MultiD_path = f\"{cct.get_ramdisk_dir()}\\\\sina_MultiIndex_data.h5\".replace('\\\\',os.sep)\n",
    "print(f'sina_MultiD_path:{sina_MultiD_path}')\n",
    "h5 = readHdf5(sina_MultiD_path)\n",
    "print(sina_MultiD_path)\n",
    "if h5 is not None:\n",
    "    h5.shape\n",
    "    h5code='603019'\n",
    "    h5.loc[h5code][-3:]\n",
    "    code_muti = '603019'\n",
    "    # h5.loc[code_muti][:2]\n",
    "\n",
    "    freq = 'D'\n",
    "    # freq = '5M'\n",
    "    startime = '09:25:00'\n",
    "    endtime = '15:01:00'\n",
    "\n",
    "    time_ratio = cct.get_work_time_ratio()\n",
    "    time_ratio\n",
    "    run_col = ['close', 'volume']\n",
    "    # run_col = ['close']\n",
    "    mdf = cct.get_limit_multiIndex_freq(\n",
    "        h5, freq=freq.upper(),\n",
    "        col=run_col, start=startime, end=endtime, code=None)\n",
    "    allvol = mdf.volume.sum()\n",
    "    allvol = round(allvol / 10 / 1000 / 1000,2)\n",
    "    print(\"总量:%s 亿\"%(allvol))\n",
    "    mdf['vol']=mdf['volume'].apply(lambda x: round(x /1000/1000,2)) \n",
    "    mdf['amount']=(mdf.volume * mdf.close).map(lambda x: round(x/100/1000/1000, 2))\n",
    "    #全局占比\n",
    "    mdf['volume'] = mdf.amount.apply(\n",
    "        lambda x: round(x / allvol * 100 / time_ratio, 2))\n",
    "    mdf=mdf.reset_index().set_index('code')\n",
    "    mdf.loc[h5code]\n",
    "    str(h5.index.get_level_values(1)[-1])[:10]\n",
    "else:\n",
    "    mdf = None"
   ]
  },
  {
   "cell_type": "markdown",
   "id": "611dc8ac",
   "metadata": {},
   "source": [
    "#### 读取实时成交个股"
   ]
  },
  {
   "cell_type": "code",
   "execution_count": 8,
   "id": "203b1873",
   "metadata": {
    "ExecuteTime": {
     "end_time": "2025-06-22T00:30:52.402979Z",
     "start_time": "2025-06-22T00:30:52.379657Z"
    },
    "execution": {
     "iopub.execute_input": "2025-06-22T13:59:01.091046Z",
     "iopub.status.busy": "2025-06-22T13:59:01.090521Z",
     "iopub.status.idle": "2025-06-22T13:59:01.107171Z",
     "shell.execute_reply": "2025-06-22T13:59:01.101041Z",
     "shell.execute_reply.started": "2025-06-22T13:59:01.091046Z"
    },
    "lang": "en"
   },
   "outputs": [],
   "source": [
    "if mdf is not None:\n",
    "    nowdf = mdf.sort_values(by=['volume'], ascending=[0])\n",
    "    # nowdf.shape, df.shape, code_idx.shape\n",
    "    # top20_nd = nowdf.reset_index().loc[:, ['code', 'volume']][:20]\n",
    "    top20_nd = nowdf.reset_index().loc[:, ['code', 'volume']][:20]\n",
    "    top20_nd = get_sina_data_cname(top20_nd)\n",
    "    nowdf.shape, top20_nd"
   ]
  },
  {
   "cell_type": "markdown",
   "id": "7c81f9f6",
   "metadata": {},
   "source": [
    "##### 合并实时成交量及SinaDM"
   ]
  },
  {
   "cell_type": "code",
   "execution_count": 9,
   "id": "130319a8",
   "metadata": {
    "ExecuteTime": {
     "end_time": "2025-06-22T00:30:52.462142Z",
     "start_time": "2025-06-22T00:30:52.405645Z"
    },
    "execution": {
     "iopub.execute_input": "2025-06-22T13:59:01.111048Z",
     "iopub.status.busy": "2025-06-22T13:59:01.110088Z",
     "iopub.status.idle": "2025-06-22T13:59:01.133760Z",
     "shell.execute_reply": "2025-06-22T13:59:01.131767Z",
     "shell.execute_reply.started": "2025-06-22T13:59:01.111048Z"
    },
    "tags": []
   },
   "outputs": [],
   "source": [
    "# mdf[:1]\n",
    "if mdf is not None:\n",
    "    sinadm = cct.combine_dataFrame(sina_dm, mdf[['vol','amount']])\n",
    "else:\n",
    "    sinadm = sina_dm\n",
    "sinadm['percent']=((sinadm['close']-sinadm['llastp'])/(sinadm['llastp'])*100).round(1)\n"
   ]
  },
  {
   "cell_type": "markdown",
   "id": "5e811e71",
   "metadata": {},
   "source": [
    "## resample 多周期"
   ]
  },
  {
   "cell_type": "markdown",
   "id": "76cb8e8c",
   "metadata": {},
   "source": [
    "### filterKey"
   ]
  },
  {
   "cell_type": "code",
   "execution_count": 10,
   "id": "da7aeb35",
   "metadata": {
    "ExecuteTime": {
     "end_time": "2025-06-22T02:46:23.993772Z",
     "start_time": "2025-06-22T02:46:23.989188Z"
    },
    "execution": {
     "iopub.execute_input": "2025-06-22T13:59:01.144730Z",
     "iopub.status.busy": "2025-06-22T13:59:01.144730Z",
     "iopub.status.idle": "2025-06-22T13:59:01.164675Z",
     "shell.execute_reply": "2025-06-22T13:59:01.163678Z",
     "shell.execute_reply.started": "2025-06-22T13:59:01.144730Z"
    }
   },
   "outputs": [],
   "source": [
    "filter_query={'2周期上冲上轨And涨幅新高': 'lasth1d > upper1 and lasth2d >upper2 and high >boll and percent > maxp',\n",
    "             '3周期新高上轨':'lastp1d > lastp2d > lastp3d and lasth1d > upper1 and lasth2d > upper2 and lasth3d > upper3',\n",
    "             '3周期新高大于Ma5': 'lastp1d > lastp2d and lasth2d > lasth3d and lastl2d > lastl3d and lastp1d > ma51d',\n",
    "             '新高上upper':'lasth1d  >lasth2d  and lastp1d > ma51d and lastp1d > lastp2d*0.99 and lasth2d > lasth3d  and lasth1d >upper',\n",
    "            }   \n",
    "filter_keys=list(filter_query.keys())"
   ]
  },
  {
   "cell_type": "code",
   "execution_count": 11,
   "id": "1e9b8e62",
   "metadata": {
    "ExecuteTime": {
     "end_time": "2025-06-22T02:46:24.018321Z",
     "start_time": "2025-06-22T02:46:24.014684Z"
    },
    "execution": {
     "iopub.execute_input": "2025-06-22T13:59:01.168664Z",
     "iopub.status.busy": "2025-06-22T13:59:01.168664Z",
     "iopub.status.idle": "2025-06-22T13:59:01.179635Z",
     "shell.execute_reply": "2025-06-22T13:59:01.178637Z",
     "shell.execute_reply.started": "2025-06-22T13:59:01.168664Z"
    }
   },
   "outputs": [],
   "source": [
    "def get_filter(idx=0):\n",
    "    filter_key=filter_query[filter_keys[idx]]\n",
    "    print(f'{filter_keys[idx]}: {filter_key}')\n",
    "    return filter_key"
   ]
  },
  {
   "cell_type": "code",
   "execution_count": 12,
   "id": "0505a3c6",
   "metadata": {
    "ExecuteTime": {
     "end_time": "2025-06-22T02:46:24.037277Z",
     "start_time": "2025-06-22T02:46:24.034006Z"
    },
    "execution": {
     "iopub.execute_input": "2025-06-22T13:59:01.183625Z",
     "iopub.status.busy": "2025-06-22T13:59:01.182627Z",
     "iopub.status.idle": "2025-06-22T13:59:01.196591Z",
     "shell.execute_reply": "2025-06-22T13:59:01.194595Z",
     "shell.execute_reply.started": "2025-06-22T13:59:01.183625Z"
    }
   },
   "outputs": [],
   "source": [
    "filterIDX=3\n",
    "# h5_3d=None,h5_d=None,h5_w=None,h5_m=None"
   ]
  },
  {
   "cell_type": "markdown",
   "id": "d02d9218",
   "metadata": {},
   "source": [
    "### resample 3d"
   ]
  },
  {
   "cell_type": "code",
   "execution_count": 13,
   "id": "cc7efd64",
   "metadata": {
    "ExecuteTime": {
     "end_time": "2025-06-22T02:46:26.753020Z",
     "start_time": "2025-06-22T02:46:24.064673Z"
    },
    "execution": {
     "iopub.execute_input": "2025-06-22T13:59:01.199759Z",
     "iopub.status.busy": "2025-06-22T13:59:01.198584Z",
     "iopub.status.idle": "2025-06-22T13:59:13.225534Z",
     "shell.execute_reply": "2025-06-22T13:59:13.223705Z",
     "shell.execute_reply.started": "2025-06-22T13:59:01.199759Z"
    },
    "tags": []
   },
   "outputs": [
    {
     "name": "stdout",
     "output_type": "stream",
     "text": [
      "initdx :0 b1>:5184 it:0.5 lastpTDX_DF_3d not in locals\n",
      "keys:['/low_3d_60_y_all', '/low_d_60_y_all', '/low_m_300_y_all', '/low_w_200_y_all']\n"
     ]
    },
    {
     "name": "stderr",
     "output_type": "stream",
     "text": [
      "[2025-06-22 21:59:05,686] ERROR:tdx_data_Day.py(get_append_lastp_to_df:4379): tdx Out:3 code:['601028', '600837']\n"
     ]
    },
    {
     "name": "stdout",
     "output_type": "stream",
     "text": [
      "tdxdataT:3.21\n",
      "DLTDXE:3.21 "
     ]
    }
   ],
   "source": [
    "# h5_3d = get_tdx_all_from_h5(resample='3d') if h5_3d is None else h5_3d\n",
    "h5_3d = get_tdx_all_now(resample='3d')\n",
    "# tdx_3d = cct.combine_dataFrame(h5_3d,sinadm)"
   ]
  },
  {
   "cell_type": "code",
   "execution_count": 39,
   "id": "51e3d74c",
   "metadata": {
    "ExecuteTime": {
     "end_time": "2025-06-22T02:46:26.817108Z",
     "start_time": "2025-06-22T02:46:26.756506Z"
    },
    "execution": {
     "iopub.execute_input": "2025-06-22T14:04:03.829253Z",
     "iopub.status.busy": "2025-06-22T14:04:03.829150Z",
     "iopub.status.idle": "2025-06-22T14:04:03.886429Z",
     "shell.execute_reply": "2025-06-22T14:04:03.884436Z",
     "shell.execute_reply.started": "2025-06-22T14:04:03.829253Z"
    },
    "tags": []
   },
   "outputs": [
    {
     "name": "stdout",
     "output_type": "stream",
     "text": [
      "Count:1214 216\n"
     ]
    },
    {
     "data": {
      "text/html": [
       "<div>\n",
       "<style scoped>\n",
       "    .dataframe tbody tr th:only-of-type {\n",
       "        vertical-align: middle;\n",
       "    }\n",
       "\n",
       "    .dataframe tbody tr th {\n",
       "        vertical-align: top;\n",
       "    }\n",
       "\n",
       "    .dataframe thead th {\n",
       "        text-align: right;\n",
       "    }\n",
       "</style>\n",
       "<table border=\"1\" class=\"dataframe\">\n",
       "  <thead>\n",
       "    <tr style=\"text-align: right;\">\n",
       "      <th></th>\n",
       "      <th>name</th>\n",
       "      <th>percent</th>\n",
       "      <th>couts</th>\n",
       "      <th>date</th>\n",
       "      <th>close</th>\n",
       "      <th>hmax</th>\n",
       "      <th>lmin</th>\n",
       "      <th>perc1d</th>\n",
       "      <th>llow</th>\n",
       "      <th>perc3d</th>\n",
       "      <th>perc5d</th>\n",
       "    </tr>\n",
       "    <tr>\n",
       "      <th>code</th>\n",
       "      <th></th>\n",
       "      <th></th>\n",
       "      <th></th>\n",
       "      <th></th>\n",
       "      <th></th>\n",
       "      <th></th>\n",
       "      <th></th>\n",
       "      <th></th>\n",
       "      <th></th>\n",
       "      <th></th>\n",
       "      <th></th>\n",
       "    </tr>\n",
       "  </thead>\n",
       "  <tbody>\n",
       "    <tr>\n",
       "      <th>872895</th>\n",
       "      <td>花溪科技</td>\n",
       "      <td>29.98</td>\n",
       "      <td>0</td>\n",
       "      <td>2025-04-02</td>\n",
       "      <td>52.53</td>\n",
       "      <td>43.47</td>\n",
       "      <td>13.18</td>\n",
       "      <td>50.31</td>\n",
       "      <td>15.33</td>\n",
       "      <td>0.0</td>\n",
       "      <td>63.19</td>\n",
       "    </tr>\n",
       "    <tr>\n",
       "      <th>301038</th>\n",
       "      <td>深水规院</td>\n",
       "      <td>20.09</td>\n",
       "      <td>23</td>\n",
       "      <td>2025-04-08</td>\n",
       "      <td>17.27</td>\n",
       "      <td>14.98</td>\n",
       "      <td>11.53</td>\n",
       "      <td>57.31</td>\n",
       "      <td>11.53</td>\n",
       "      <td>0.1</td>\n",
       "      <td>0.00</td>\n",
       "    </tr>\n",
       "    <tr>\n",
       "      <th>301292</th>\n",
       "      <td>海科新源</td>\n",
       "      <td>20.06</td>\n",
       "      <td>60</td>\n",
       "      <td>2025-04-08</td>\n",
       "      <td>23.52</td>\n",
       "      <td>15.50</td>\n",
       "      <td>10.95</td>\n",
       "      <td>63.59</td>\n",
       "      <td>11.46</td>\n",
       "      <td>0.0</td>\n",
       "      <td>1.30</td>\n",
       "    </tr>\n",
       "    <tr>\n",
       "      <th>300480</th>\n",
       "      <td>光力科技</td>\n",
       "      <td>20.02</td>\n",
       "      <td>85</td>\n",
       "      <td>2025-04-08</td>\n",
       "      <td>15.59</td>\n",
       "      <td>14.28</td>\n",
       "      <td>10.36</td>\n",
       "      <td>40.31</td>\n",
       "      <td>10.98</td>\n",
       "      <td>0.0</td>\n",
       "      <td>0.20</td>\n",
       "    </tr>\n",
       "    <tr>\n",
       "      <th>300589</th>\n",
       "      <td>江龙船艇</td>\n",
       "      <td>20.00</td>\n",
       "      <td>114</td>\n",
       "      <td>2025-04-08</td>\n",
       "      <td>15.12</td>\n",
       "      <td>13.02</td>\n",
       "      <td>10.10</td>\n",
       "      <td>60.41</td>\n",
       "      <td>10.10</td>\n",
       "      <td>0.1</td>\n",
       "      <td>-0.10</td>\n",
       "    </tr>\n",
       "    <tr>\n",
       "      <th>300340</th>\n",
       "      <td>科恒股份</td>\n",
       "      <td>20.00</td>\n",
       "      <td>236</td>\n",
       "      <td>2025-04-08</td>\n",
       "      <td>20.64</td>\n",
       "      <td>18.86</td>\n",
       "      <td>7.66</td>\n",
       "      <td>35.31</td>\n",
       "      <td>7.90</td>\n",
       "      <td>0.0</td>\n",
       "      <td>64.31</td>\n",
       "    </tr>\n",
       "    <tr>\n",
       "      <th>300410</th>\n",
       "      <td>正业科技</td>\n",
       "      <td>19.97</td>\n",
       "      <td>83</td>\n",
       "      <td>2025-04-08</td>\n",
       "      <td>7.45</td>\n",
       "      <td>6.12</td>\n",
       "      <td>4.00</td>\n",
       "      <td>46.41</td>\n",
       "      <td>4.12</td>\n",
       "      <td>0.0</td>\n",
       "      <td>1.30</td>\n",
       "    </tr>\n",
       "    <tr>\n",
       "      <th>300485</th>\n",
       "      <td>赛升药业</td>\n",
       "      <td>19.97</td>\n",
       "      <td>138</td>\n",
       "      <td>2025-04-17</td>\n",
       "      <td>13.94</td>\n",
       "      <td>13.69</td>\n",
       "      <td>6.95</td>\n",
       "      <td>1.10</td>\n",
       "      <td>7.38</td>\n",
       "      <td>0.1</td>\n",
       "      <td>42.59</td>\n",
       "    </tr>\n",
       "    <tr>\n",
       "      <th>301150</th>\n",
       "      <td>中一科技</td>\n",
       "      <td>18.56</td>\n",
       "      <td>26</td>\n",
       "      <td>2025-04-08</td>\n",
       "      <td>21.91</td>\n",
       "      <td>17.03</td>\n",
       "      <td>12.01</td>\n",
       "      <td>58.09</td>\n",
       "      <td>12.35</td>\n",
       "      <td>0.0</td>\n",
       "      <td>7.30</td>\n",
       "    </tr>\n",
       "    <tr>\n",
       "      <th>839719</th>\n",
       "      <td>宁新新材</td>\n",
       "      <td>15.72</td>\n",
       "      <td>0</td>\n",
       "      <td>2025-04-08</td>\n",
       "      <td>23.70</td>\n",
       "      <td>16.16</td>\n",
       "      <td>8.90</td>\n",
       "      <td>48.69</td>\n",
       "      <td>8.90</td>\n",
       "      <td>0.0</td>\n",
       "      <td>15.40</td>\n",
       "    </tr>\n",
       "  </tbody>\n",
       "</table>\n",
       "</div>"
      ],
      "text/plain": [
       "        name  percent  couts        date  close   hmax   lmin  perc1d   llow  \\\n",
       "code                                                                           \n",
       "872895  花溪科技    29.98      0  2025-04-02  52.53  43.47  13.18   50.31  15.33   \n",
       "301038  深水规院    20.09     23  2025-04-08  17.27  14.98  11.53   57.31  11.53   \n",
       "301292  海科新源    20.06     60  2025-04-08  23.52  15.50  10.95   63.59  11.46   \n",
       "300480  光力科技    20.02     85  2025-04-08  15.59  14.28  10.36   40.31  10.98   \n",
       "300589  江龙船艇    20.00    114  2025-04-08  15.12  13.02  10.10   60.41  10.10   \n",
       "300340  科恒股份    20.00    236  2025-04-08  20.64  18.86   7.66   35.31   7.90   \n",
       "300410  正业科技    19.97     83  2025-04-08   7.45   6.12   4.00   46.41   4.12   \n",
       "300485  赛升药业    19.97    138  2025-04-17  13.94  13.69   6.95    1.10   7.38   \n",
       "301150  中一科技    18.56     26  2025-04-08  21.91  17.03  12.01   58.09  12.35   \n",
       "839719  宁新新材    15.72      0  2025-04-08  23.70  16.16   8.90   48.69   8.90   \n",
       "\n",
       "        perc3d  perc5d  \n",
       "code                    \n",
       "872895     0.0   63.19  \n",
       "301038     0.1    0.00  \n",
       "301292     0.0    1.30  \n",
       "300480     0.0    0.20  \n",
       "300589     0.1   -0.10  \n",
       "300340     0.0   64.31  \n",
       "300410     0.0    1.30  \n",
       "300485     0.1   42.59  \n",
       "301150     0.0    7.30  \n",
       "839719     0.0   15.40  "
      ]
     },
     "execution_count": 39,
     "metadata": {},
     "output_type": "execute_result"
    }
   ],
   "source": [
    "# tdx_now.query('close >  lastp1d  and lastl1d < ma51d and close > ma51d and lastp1d < upper and lastp1d > lastp2d and lasth1d >high4 and boll > 0 and volume < 1')\n",
    "# tdx_select = tdx_3d.query('close > lastp1d and percent < 3')\n",
    "# tdx_select = tdx_3d.query('lastp1d > lastp2d > lastp3d and lasth1d > upper1 and lasth2d > upper2 and lasth3d > upper3')\n",
    "# tdx_select = tdx_3d.query('lastp1d > lastp2d  and lasth2d > lasth3d and (lasth2d > upper2 or lasth3d > upper3) and lasth2d < hmax')\n",
    "# tdx_select = tdx_3d.query('lastp1d > lastp2d  and lasth2d > lasth3d and lasth3d > lasth4d and lastl1d > lastl2d and lastl2d > lastl3d')\n",
    "# t3d_code = h5_3d.query(f'{get_filter(filterIDX)}')\n",
    "t3d_code = h5_3d.query('lasth1d > ma51d and lasth2d > ma52d and lasth3d > ma53d and ma51d > ma201d and ma52d >ma202d and ma53d > ma203d and macd > 0 and macddif > macddea')\n",
    "show_tdx_data(t3d_code,limit=10)"
   ]
  },
  {
   "cell_type": "code",
   "execution_count": 15,
   "id": "35329e16",
   "metadata": {
    "ExecuteTime": {
     "end_time": "2025-06-22T03:06:41.675782Z",
     "start_time": "2025-06-22T03:06:41.665990Z"
    },
    "execution": {
     "iopub.execute_input": "2025-06-22T13:59:13.318285Z",
     "iopub.status.busy": "2025-06-22T13:59:13.318285Z",
     "iopub.status.idle": "2025-06-22T13:59:13.346214Z",
     "shell.execute_reply": "2025-06-22T13:59:13.345215Z",
     "shell.execute_reply.started": "2025-06-22T13:59:13.318285Z"
    }
   },
   "outputs": [
    {
     "data": {
      "text/plain": [
       "lastdu4       1.07\n",
       "boll             1\n",
       "ral             10\n",
       "fib              1\n",
       "percmax        4.0\n",
       "macd          0.59\n",
       "macddif       0.26\n",
       "macddea      -0.04\n",
       "macdlast2     0.28\n",
       "macdlast3     0.37\n",
       "lasth1d      17.27\n",
       "lastl1d       14.4\n",
       "lastl2d      13.92\n",
       "lastl3d      14.67\n",
       "lastp1d      17.27\n",
       "ma51d        15.13\n",
       "ma52d        14.59\n",
       "ma53d        14.61\n",
       "ma54d         14.6\n",
       "Name: 301038, dtype: object"
      ]
     },
     "execution_count": 15,
     "metadata": {},
     "output_type": "execute_result"
    }
   ],
   "source": [
    "if '301038' in t3d_code.index:\n",
    "    h5_3d.loc['301038',['lastdu4','boll','ral','fib','percmax','macd','macddif','macddea','macdlast2','macdlast3','lasth1d','lastl1d','lastl2d','lastl3d','lastp1d','ma51d','ma52d','ma53d','ma54d']]"
   ]
  },
  {
   "cell_type": "code",
   "execution_count": 16,
   "id": "3e9533b9",
   "metadata": {
    "ExecuteTime": {
     "end_time": "2025-06-22T02:46:26.836961Z",
     "start_time": "2025-06-22T02:46:26.833655Z"
    },
    "execution": {
     "iopub.execute_input": "2025-06-22T13:59:13.349203Z",
     "iopub.status.busy": "2025-06-22T13:59:13.348208Z",
     "iopub.status.idle": "2025-06-22T13:59:13.363167Z",
     "shell.execute_reply": "2025-06-22T13:59:13.361172Z",
     "shell.execute_reply.started": "2025-06-22T13:59:13.349203Z"
    },
    "tags": []
   },
   "outputs": [],
   "source": [
    "# t3d_code = tdx_3d.query('lasth1d > lasth2d > lasth3d and close >= high4')\n",
    "# t3d_code = h5_3d.query(f'{get_filter(1)}')\n",
    "# show_tdx_data(t3d_code)"
   ]
  },
  {
   "cell_type": "markdown",
   "id": "81ea8f45",
   "metadata": {},
   "source": [
    "### resample W"
   ]
  },
  {
   "cell_type": "code",
   "execution_count": 17,
   "id": "07310ac1",
   "metadata": {
    "ExecuteTime": {
     "end_time": "2025-06-22T02:46:29.389827Z",
     "start_time": "2025-06-22T02:46:26.840826Z"
    },
    "execution": {
     "iopub.execute_input": "2025-06-22T13:59:13.366213Z",
     "iopub.status.busy": "2025-06-22T13:59:13.365162Z",
     "iopub.status.idle": "2025-06-22T13:59:23.347054Z",
     "shell.execute_reply": "2025-06-22T13:59:23.345059Z",
     "shell.execute_reply.started": "2025-06-22T13:59:13.366213Z"
    },
    "tags": []
   },
   "outputs": [
    {
     "name": "stdout",
     "output_type": "stream",
     "text": [
      "initdx :0 b1>:5184 it:0.7 lastpTDX_DF_w not in locals\n",
      "keys:['/low_3d_60_y_all', '/low_d_60_y_all', '/low_m_300_y_all', '/low_w_200_y_all']\n"
     ]
    }
   ],
   "source": [
    "# h5_w = get_tdx_all_from_h5(resample='w') if h5_w is None else h5_w\n",
    "\n",
    "h5_w = get_tdx_all_now(resample='w') \n",
    "# tdx_w = cct.combine_dataFrame(h5_w,sinadm)"
   ]
  },
  {
   "cell_type": "code",
   "execution_count": 45,
   "id": "8c7f50c7",
   "metadata": {
    "ExecuteTime": {
     "end_time": "2025-06-22T03:06:54.288323Z",
     "start_time": "2025-06-22T03:06:54.212607Z"
    },
    "execution": {
     "iopub.execute_input": "2025-06-22T14:05:20.044465Z",
     "iopub.status.busy": "2025-06-22T14:05:20.044050Z",
     "iopub.status.idle": "2025-06-22T14:05:20.100487Z",
     "shell.execute_reply": "2025-06-22T14:05:20.099488Z",
     "shell.execute_reply.started": "2025-06-22T14:05:20.044050Z"
    },
    "scrolled": true,
    "tags": []
   },
   "outputs": [
    {
     "name": "stdout",
     "output_type": "stream",
     "text": [
      "新高上upper: lasth1d  >lasth2d  and lastp1d > ma51d and lastp1d > lastp2d*0.99 and lasth2d > lasth3d  and lasth1d >upper\n",
      "Count:288 218\n"
     ]
    },
    {
     "data": {
      "text/html": [
       "<div>\n",
       "<style scoped>\n",
       "    .dataframe tbody tr th:only-of-type {\n",
       "        vertical-align: middle;\n",
       "    }\n",
       "\n",
       "    .dataframe tbody tr th {\n",
       "        vertical-align: top;\n",
       "    }\n",
       "\n",
       "    .dataframe thead th {\n",
       "        text-align: right;\n",
       "    }\n",
       "</style>\n",
       "<table border=\"1\" class=\"dataframe\">\n",
       "  <thead>\n",
       "    <tr style=\"text-align: right;\">\n",
       "      <th></th>\n",
       "      <th>name</th>\n",
       "      <th>percent</th>\n",
       "      <th>couts</th>\n",
       "      <th>date</th>\n",
       "      <th>close</th>\n",
       "      <th>hmax</th>\n",
       "      <th>lmin</th>\n",
       "      <th>perc1d</th>\n",
       "      <th>llow</th>\n",
       "      <th>perc3d</th>\n",
       "      <th>perc5d</th>\n",
       "    </tr>\n",
       "    <tr>\n",
       "      <th>code</th>\n",
       "      <th></th>\n",
       "      <th></th>\n",
       "      <th></th>\n",
       "      <th></th>\n",
       "      <th></th>\n",
       "      <th></th>\n",
       "      <th></th>\n",
       "      <th></th>\n",
       "      <th></th>\n",
       "      <th></th>\n",
       "      <th></th>\n",
       "    </tr>\n",
       "  </thead>\n",
       "  <tbody>\n",
       "    <tr>\n",
       "      <th>872895</th>\n",
       "      <td>花溪科技</td>\n",
       "      <td>29.98</td>\n",
       "      <td>0</td>\n",
       "      <td>2025-01-27</td>\n",
       "      <td>52.53</td>\n",
       "      <td>30.20</td>\n",
       "      <td>11.71</td>\n",
       "      <td>74.69</td>\n",
       "      <td>11.91</td>\n",
       "      <td>1.2</td>\n",
       "      <td>1.20</td>\n",
       "    </tr>\n",
       "    <tr>\n",
       "      <th>301038</th>\n",
       "      <td>深水规院</td>\n",
       "      <td>20.09</td>\n",
       "      <td>23</td>\n",
       "      <td>2025-01-03</td>\n",
       "      <td>17.27</td>\n",
       "      <td>17.41</td>\n",
       "      <td>11.53</td>\n",
       "      <td>41.59</td>\n",
       "      <td>12.98</td>\n",
       "      <td>0.1</td>\n",
       "      <td>1.20</td>\n",
       "    </tr>\n",
       "    <tr>\n",
       "      <th>301292</th>\n",
       "      <td>海科新源</td>\n",
       "      <td>20.06</td>\n",
       "      <td>60</td>\n",
       "      <td>2025-01-10</td>\n",
       "      <td>23.52</td>\n",
       "      <td>15.37</td>\n",
       "      <td>10.95</td>\n",
       "      <td>80.19</td>\n",
       "      <td>11.83</td>\n",
       "      <td>0.1</td>\n",
       "      <td>1.20</td>\n",
       "    </tr>\n",
       "    <tr>\n",
       "      <th>300429</th>\n",
       "      <td>强力新材</td>\n",
       "      <td>20.02</td>\n",
       "      <td>259</td>\n",
       "      <td>2025-01-27</td>\n",
       "      <td>14.27</td>\n",
       "      <td>14.76</td>\n",
       "      <td>9.70</td>\n",
       "      <td>48.91</td>\n",
       "      <td>10.63</td>\n",
       "      <td>0.1</td>\n",
       "      <td>0.00</td>\n",
       "    </tr>\n",
       "    <tr>\n",
       "      <th>300410</th>\n",
       "      <td>正业科技</td>\n",
       "      <td>19.97</td>\n",
       "      <td>83</td>\n",
       "      <td>2025-04-18</td>\n",
       "      <td>7.45</td>\n",
       "      <td>7.09</td>\n",
       "      <td>4.00</td>\n",
       "      <td>43.91</td>\n",
       "      <td>4.67</td>\n",
       "      <td>27.3</td>\n",
       "      <td>0.00</td>\n",
       "    </tr>\n",
       "    <tr>\n",
       "      <th>301150</th>\n",
       "      <td>中一科技</td>\n",
       "      <td>18.56</td>\n",
       "      <td>26</td>\n",
       "      <td>2025-04-11</td>\n",
       "      <td>21.91</td>\n",
       "      <td>18.88</td>\n",
       "      <td>12.01</td>\n",
       "      <td>52.91</td>\n",
       "      <td>12.01</td>\n",
       "      <td>1.3</td>\n",
       "      <td>0.00</td>\n",
       "    </tr>\n",
       "    <tr>\n",
       "      <th>839719</th>\n",
       "      <td>宁新新材</td>\n",
       "      <td>15.72</td>\n",
       "      <td>0</td>\n",
       "      <td>2025-01-27</td>\n",
       "      <td>23.70</td>\n",
       "      <td>15.48</td>\n",
       "      <td>8.75</td>\n",
       "      <td>77.38</td>\n",
       "      <td>8.81</td>\n",
       "      <td>0.0</td>\n",
       "      <td>40.59</td>\n",
       "    </tr>\n",
       "    <tr>\n",
       "      <th>300269</th>\n",
       "      <td>联建光电</td>\n",
       "      <td>13.21</td>\n",
       "      <td>532</td>\n",
       "      <td>2025-04-11</td>\n",
       "      <td>6.17</td>\n",
       "      <td>5.41</td>\n",
       "      <td>2.80</td>\n",
       "      <td>71.88</td>\n",
       "      <td>2.80</td>\n",
       "      <td>20.3</td>\n",
       "      <td>-0.10</td>\n",
       "    </tr>\n",
       "    <tr>\n",
       "      <th>300950</th>\n",
       "      <td>德固特</td>\n",
       "      <td>12.71</td>\n",
       "      <td>6</td>\n",
       "      <td>2025-01-03</td>\n",
       "      <td>21.20</td>\n",
       "      <td>18.02</td>\n",
       "      <td>12.74</td>\n",
       "      <td>44.41</td>\n",
       "      <td>14.62</td>\n",
       "      <td>0.1</td>\n",
       "      <td>1.30</td>\n",
       "    </tr>\n",
       "    <tr>\n",
       "      <th>300483</th>\n",
       "      <td>首华燃气</td>\n",
       "      <td>10.99</td>\n",
       "      <td>139</td>\n",
       "      <td>2025-04-11</td>\n",
       "      <td>14.85</td>\n",
       "      <td>10.33</td>\n",
       "      <td>6.68</td>\n",
       "      <td>71.88</td>\n",
       "      <td>6.68</td>\n",
       "      <td>1.2</td>\n",
       "      <td>1.20</td>\n",
       "    </tr>\n",
       "  </tbody>\n",
       "</table>\n",
       "</div>"
      ],
      "text/plain": [
       "        name  percent  couts        date  close   hmax   lmin  perc1d   llow  \\\n",
       "code                                                                           \n",
       "872895  花溪科技    29.98      0  2025-01-27  52.53  30.20  11.71   74.69  11.91   \n",
       "301038  深水规院    20.09     23  2025-01-03  17.27  17.41  11.53   41.59  12.98   \n",
       "301292  海科新源    20.06     60  2025-01-10  23.52  15.37  10.95   80.19  11.83   \n",
       "300429  强力新材    20.02    259  2025-01-27  14.27  14.76   9.70   48.91  10.63   \n",
       "300410  正业科技    19.97     83  2025-04-18   7.45   7.09   4.00   43.91   4.67   \n",
       "301150  中一科技    18.56     26  2025-04-11  21.91  18.88  12.01   52.91  12.01   \n",
       "839719  宁新新材    15.72      0  2025-01-27  23.70  15.48   8.75   77.38   8.81   \n",
       "300269  联建光电    13.21    532  2025-04-11   6.17   5.41   2.80   71.88   2.80   \n",
       "300950   德固特    12.71      6  2025-01-03  21.20  18.02  12.74   44.41  14.62   \n",
       "300483  首华燃气    10.99    139  2025-04-11  14.85  10.33   6.68   71.88   6.68   \n",
       "\n",
       "        perc3d  perc5d  \n",
       "code                    \n",
       "872895     1.2    1.20  \n",
       "301038     0.1    1.20  \n",
       "301292     0.1    1.20  \n",
       "300429     0.1    0.00  \n",
       "300410    27.3    0.00  \n",
       "301150     1.3    0.00  \n",
       "839719     0.0   40.59  \n",
       "300269    20.3   -0.10  \n",
       "300950     0.1    1.30  \n",
       "300483     1.2    1.20  "
      ]
     },
     "execution_count": 45,
     "metadata": {},
     "output_type": "execute_result"
    }
   ],
   "source": [
    "# tw_code = tdx_w.query('lasth1d > lasth2d > lasth3d and close >= high4')\n",
    "# tw_code = tdx_w.query('lasth1d > lasth2d and lasth2d >lasth3d and lasth2d > upper1')\n",
    "# tw_code = tdx_w.query ('lastp1d > lastp2d and lasth2d > lasth3d and lastl2d > lastl3d and lastp1d > ma51d')\n",
    "# tw_code = tdx_w.query(f'{get_filter(0)}')\n",
    "# tw_code = tdx_w.query(f'{get_filter(filterIDX)}')\n",
    "tw_code = h5_w.query(f'{get_filter(filterIDX)}')\n",
    "# tw_code = h5_w.query('lastp2d > ma51d and lastp3d > ma51d and macd > 0 and macddif > macddea')\n",
    "show_tdx_data(tw_code,limit=10)"
   ]
  },
  {
   "cell_type": "code",
   "execution_count": 19,
   "id": "da84ee8a",
   "metadata": {
    "ExecuteTime": {
     "end_time": "2025-06-22T02:46:29.460213Z",
     "start_time": "2025-06-22T02:46:29.449802Z"
    },
    "execution": {
     "iopub.execute_input": "2025-06-22T13:59:23.493240Z",
     "iopub.status.busy": "2025-06-22T13:59:23.493240Z",
     "iopub.status.idle": "2025-06-22T13:59:23.517361Z",
     "shell.execute_reply": "2025-06-22T13:59:23.513373Z",
     "shell.execute_reply.started": "2025-06-22T13:59:23.493240Z"
    }
   },
   "outputs": [],
   "source": [
    "if '301038' in tw_code.index:\n",
    "    h5_w.loc['301038',['macd','macddif','macddea','macdlast2','macdlast3','lasth1d','lastl1d','lastl2d','lastl3d','lastp1d','ma51d','ma52d','ma53d','ma54d']]"
   ]
  },
  {
   "cell_type": "markdown",
   "id": "a1f7e30c",
   "metadata": {},
   "source": [
    "### resample M"
   ]
  },
  {
   "cell_type": "code",
   "execution_count": 20,
   "id": "58bbd8dc",
   "metadata": {
    "ExecuteTime": {
     "end_time": "2025-06-22T02:46:31.897472Z",
     "start_time": "2025-06-22T02:46:29.462747Z"
    },
    "execution": {
     "iopub.execute_input": "2025-06-22T13:59:23.524343Z",
     "iopub.status.busy": "2025-06-22T13:59:23.520354Z",
     "iopub.status.idle": "2025-06-22T13:59:34.414423Z",
     "shell.execute_reply": "2025-06-22T13:59:34.413579Z",
     "shell.execute_reply.started": "2025-06-22T13:59:23.522467Z"
    },
    "tags": []
   },
   "outputs": [
    {
     "name": "stdout",
     "output_type": "stream",
     "text": [
      "initdx :0 b1>:5184 it:0.7 lastpTDX_DF_m not in locals\n",
      "keys:['/low_3d_60_y_all', '/low_d_60_y_all', '/low_m_300_y_all', '/low_w_200_y_all']\n"
     ]
    }
   ],
   "source": [
    "# h5_m = get_tdx_all_from_h5(resample='m') if h5_m is None else h5_m\n",
    "h5_m = get_tdx_all_now(resample='m')\n",
    "# tdx_m = cct.combine_dataFrame(h5_m,sinadm)"
   ]
  },
  {
   "cell_type": "code",
   "execution_count": 41,
   "id": "ef69f616",
   "metadata": {
    "ExecuteTime": {
     "end_time": "2025-06-22T02:46:31.960429Z",
     "start_time": "2025-06-22T02:46:31.900199Z"
    },
    "execution": {
     "iopub.execute_input": "2025-06-22T14:04:14.785328Z",
     "iopub.status.busy": "2025-06-22T14:04:14.784364Z",
     "iopub.status.idle": "2025-06-22T14:04:14.849062Z",
     "shell.execute_reply": "2025-06-22T14:04:14.847066Z",
     "shell.execute_reply.started": "2025-06-22T14:04:14.785296Z"
    },
    "tags": []
   },
   "outputs": [
    {
     "name": "stdout",
     "output_type": "stream",
     "text": [
      "Count:1876 216\n"
     ]
    },
    {
     "data": {
      "text/html": [
       "<div>\n",
       "<style scoped>\n",
       "    .dataframe tbody tr th:only-of-type {\n",
       "        vertical-align: middle;\n",
       "    }\n",
       "\n",
       "    .dataframe tbody tr th {\n",
       "        vertical-align: top;\n",
       "    }\n",
       "\n",
       "    .dataframe thead th {\n",
       "        text-align: right;\n",
       "    }\n",
       "</style>\n",
       "<table border=\"1\" class=\"dataframe\">\n",
       "  <thead>\n",
       "    <tr style=\"text-align: right;\">\n",
       "      <th></th>\n",
       "      <th>name</th>\n",
       "      <th>percent</th>\n",
       "      <th>couts</th>\n",
       "      <th>date</th>\n",
       "      <th>close</th>\n",
       "      <th>hmax</th>\n",
       "      <th>lmin</th>\n",
       "      <th>perc1d</th>\n",
       "      <th>llow</th>\n",
       "      <th>perc3d</th>\n",
       "      <th>perc5d</th>\n",
       "    </tr>\n",
       "    <tr>\n",
       "      <th>code</th>\n",
       "      <th></th>\n",
       "      <th></th>\n",
       "      <th></th>\n",
       "      <th></th>\n",
       "      <th></th>\n",
       "      <th></th>\n",
       "      <th></th>\n",
       "      <th></th>\n",
       "      <th></th>\n",
       "      <th></th>\n",
       "      <th></th>\n",
       "    </tr>\n",
       "  </thead>\n",
       "  <tbody>\n",
       "    <tr>\n",
       "      <th>872895</th>\n",
       "      <td>花溪科技</td>\n",
       "      <td>29.98</td>\n",
       "      <td>0</td>\n",
       "      <td>2024-09-30</td>\n",
       "      <td>52.53</td>\n",
       "      <td>20.06</td>\n",
       "      <td>6.20</td>\n",
       "      <td>135.25</td>\n",
       "      <td>6.65</td>\n",
       "      <td>0.0</td>\n",
       "      <td>39.00</td>\n",
       "    </tr>\n",
       "    <tr>\n",
       "      <th>301038</th>\n",
       "      <td>深水规院</td>\n",
       "      <td>20.09</td>\n",
       "      <td>23</td>\n",
       "      <td>2025-04-30</td>\n",
       "      <td>17.27</td>\n",
       "      <td>16.12</td>\n",
       "      <td>9.53</td>\n",
       "      <td>1.30</td>\n",
       "      <td>11.53</td>\n",
       "      <td>-1.0</td>\n",
       "      <td>0.20</td>\n",
       "    </tr>\n",
       "    <tr>\n",
       "      <th>301292</th>\n",
       "      <td>海科新源</td>\n",
       "      <td>20.06</td>\n",
       "      <td>60</td>\n",
       "      <td>2025-01-27</td>\n",
       "      <td>23.52</td>\n",
       "      <td>16.92</td>\n",
       "      <td>10.86</td>\n",
       "      <td>73.19</td>\n",
       "      <td>11.73</td>\n",
       "      <td>0.0</td>\n",
       "      <td>30.80</td>\n",
       "    </tr>\n",
       "    <tr>\n",
       "      <th>300429</th>\n",
       "      <td>强力新材</td>\n",
       "      <td>20.02</td>\n",
       "      <td>259</td>\n",
       "      <td>2025-01-27</td>\n",
       "      <td>14.27</td>\n",
       "      <td>14.86</td>\n",
       "      <td>9.02</td>\n",
       "      <td>1.30</td>\n",
       "      <td>10.50</td>\n",
       "      <td>-1.1</td>\n",
       "      <td>37.59</td>\n",
       "    </tr>\n",
       "    <tr>\n",
       "      <th>300340</th>\n",
       "      <td>科恒股份</td>\n",
       "      <td>20.00</td>\n",
       "      <td>236</td>\n",
       "      <td>2025-04-30</td>\n",
       "      <td>20.64</td>\n",
       "      <td>11.83</td>\n",
       "      <td>6.26</td>\n",
       "      <td>123.50</td>\n",
       "      <td>7.66</td>\n",
       "      <td>-1.1</td>\n",
       "      <td>31.91</td>\n",
       "    </tr>\n",
       "    <tr>\n",
       "      <th>300589</th>\n",
       "      <td>江龙船艇</td>\n",
       "      <td>20.00</td>\n",
       "      <td>114</td>\n",
       "      <td>2025-04-30</td>\n",
       "      <td>15.12</td>\n",
       "      <td>13.57</td>\n",
       "      <td>10.03</td>\n",
       "      <td>1.30</td>\n",
       "      <td>10.10</td>\n",
       "      <td>-1.1</td>\n",
       "      <td>0.10</td>\n",
       "    </tr>\n",
       "    <tr>\n",
       "      <th>300485</th>\n",
       "      <td>赛升药业</td>\n",
       "      <td>19.97</td>\n",
       "      <td>138</td>\n",
       "      <td>2025-01-27</td>\n",
       "      <td>13.94</td>\n",
       "      <td>8.10</td>\n",
       "      <td>5.73</td>\n",
       "      <td>79.62</td>\n",
       "      <td>6.31</td>\n",
       "      <td>0.1</td>\n",
       "      <td>1.20</td>\n",
       "    </tr>\n",
       "    <tr>\n",
       "      <th>300410</th>\n",
       "      <td>正业科技</td>\n",
       "      <td>19.97</td>\n",
       "      <td>83</td>\n",
       "      <td>2025-01-27</td>\n",
       "      <td>7.45</td>\n",
       "      <td>6.71</td>\n",
       "      <td>4.30</td>\n",
       "      <td>1.30</td>\n",
       "      <td>4.67</td>\n",
       "      <td>0.0</td>\n",
       "      <td>23.30</td>\n",
       "    </tr>\n",
       "    <tr>\n",
       "      <th>301150</th>\n",
       "      <td>中一科技</td>\n",
       "      <td>18.56</td>\n",
       "      <td>26</td>\n",
       "      <td>2025-04-30</td>\n",
       "      <td>21.91</td>\n",
       "      <td>18.88</td>\n",
       "      <td>12.45</td>\n",
       "      <td>52.00</td>\n",
       "      <td>12.01</td>\n",
       "      <td>-1.1</td>\n",
       "      <td>34.09</td>\n",
       "    </tr>\n",
       "    <tr>\n",
       "      <th>839719</th>\n",
       "      <td>宁新新材</td>\n",
       "      <td>15.72</td>\n",
       "      <td>0</td>\n",
       "      <td>2025-01-27</td>\n",
       "      <td>23.70</td>\n",
       "      <td>15.25</td>\n",
       "      <td>5.82</td>\n",
       "      <td>105.50</td>\n",
       "      <td>8.81</td>\n",
       "      <td>0.0</td>\n",
       "      <td>48.00</td>\n",
       "    </tr>\n",
       "  </tbody>\n",
       "</table>\n",
       "</div>"
      ],
      "text/plain": [
       "        name  percent  couts        date  close   hmax   lmin  perc1d   llow  \\\n",
       "code                                                                           \n",
       "872895  花溪科技    29.98      0  2024-09-30  52.53  20.06   6.20  135.25   6.65   \n",
       "301038  深水规院    20.09     23  2025-04-30  17.27  16.12   9.53    1.30  11.53   \n",
       "301292  海科新源    20.06     60  2025-01-27  23.52  16.92  10.86   73.19  11.73   \n",
       "300429  强力新材    20.02    259  2025-01-27  14.27  14.86   9.02    1.30  10.50   \n",
       "300340  科恒股份    20.00    236  2025-04-30  20.64  11.83   6.26  123.50   7.66   \n",
       "300589  江龙船艇    20.00    114  2025-04-30  15.12  13.57  10.03    1.30  10.10   \n",
       "300485  赛升药业    19.97    138  2025-01-27  13.94   8.10   5.73   79.62   6.31   \n",
       "300410  正业科技    19.97     83  2025-01-27   7.45   6.71   4.30    1.30   4.67   \n",
       "301150  中一科技    18.56     26  2025-04-30  21.91  18.88  12.45   52.00  12.01   \n",
       "839719  宁新新材    15.72      0  2025-01-27  23.70  15.25   5.82  105.50   8.81   \n",
       "\n",
       "        perc3d  perc5d  \n",
       "code                    \n",
       "872895     0.0   39.00  \n",
       "301038    -1.0    0.20  \n",
       "301292     0.0   30.80  \n",
       "300429    -1.1   37.59  \n",
       "300340    -1.1   31.91  \n",
       "300589    -1.1    0.10  \n",
       "300485     0.1    1.20  \n",
       "300410     0.0   23.30  \n",
       "301150    -1.1   34.09  \n",
       "839719     0.0   48.00  "
      ]
     },
     "execution_count": 41,
     "metadata": {},
     "output_type": "execute_result"
    }
   ],
   "source": [
    "# tm_code = tdx_m.query('lastp1d > lastp2d and lasth2d > lasth3d and lastp1d > ma51d')\n",
    "# tm_code = tdx_m.query('lastp1d > lastp2d and lasth2d > lasth3d and lastl2d > lastl3d and lastp1d > ma51d')\n",
    "#月线站上,3月反弹,2月新高\n",
    "tm_code = h5_m.query('lastl1d > lastl2d > lastl3d and lasth1d > lastp2d > lastp3d and  ma51d > ma52d and macd > 0 and macddif > macddea')   \n",
    "# tm_code = h5_m.query(f'{get_filter(filterIDX)}')\n",
    "show_tdx_data(tm_code,limit=10)"
   ]
  },
  {
   "cell_type": "code",
   "execution_count": 22,
   "id": "5677aac6",
   "metadata": {
    "ExecuteTime": {
     "end_time": "2025-06-22T02:46:31.974415Z",
     "start_time": "2025-06-22T02:46:31.965542Z"
    },
    "execution": {
     "iopub.execute_input": "2025-06-22T13:59:34.510865Z",
     "iopub.status.busy": "2025-06-22T13:59:34.510865Z",
     "iopub.status.idle": "2025-06-22T13:59:34.539733Z",
     "shell.execute_reply": "2025-06-22T13:59:34.537737Z",
     "shell.execute_reply.started": "2025-06-22T13:59:34.510865Z"
    },
    "tags": []
   },
   "outputs": [
    {
     "data": {
      "text/plain": [
       "lasth1d    17.27\n",
       "lastl1d    13.92\n",
       "lastl2d    13.39\n",
       "lastl3d    11.53\n",
       "lastp1d    17.27\n",
       "ma51d       14.7\n",
       "ma52d      13.97\n",
       "ma53d      13.92\n",
       "ma54d      14.48\n",
       "Name: 301038, dtype: object"
      ]
     },
     "execution_count": 22,
     "metadata": {},
     "output_type": "execute_result"
    }
   ],
   "source": [
    "if '301038' in tm_code.index:\n",
    "    h5_m.loc['301038',['lasth1d','lastl1d','lastl2d','lastl3d','lastp1d','ma51d','ma52d','ma53d','ma54d']]\n",
    "    \n",
    "# h5_m.loc['301038',['lasth1d','lastp2d','lastp3d','lastp1d','ma51d','ma52d','ma53d','ma54d']]    "
   ]
  },
  {
   "cell_type": "markdown",
   "id": "14d02e0c",
   "metadata": {},
   "source": [
    "### resample D"
   ]
  },
  {
   "cell_type": "code",
   "execution_count": 23,
   "id": "4406acdc",
   "metadata": {
    "ExecuteTime": {
     "end_time": "2025-06-22T02:46:34.433116Z",
     "start_time": "2025-06-22T02:46:31.976942Z"
    },
    "execution": {
     "iopub.execute_input": "2025-06-22T13:59:34.541727Z",
     "iopub.status.busy": "2025-06-22T13:59:34.541727Z",
     "iopub.status.idle": "2025-06-22T13:59:47.016869Z",
     "shell.execute_reply": "2025-06-22T13:59:47.015544Z",
     "shell.execute_reply.started": "2025-06-22T13:59:34.541727Z"
    },
    "tags": []
   },
   "outputs": [
    {
     "name": "stdout",
     "output_type": "stream",
     "text": [
      "initdx :0 b1>:5184 it:0.6 lastpTDX_DF_d not in locals\n",
      "keys:['/low_3d_60_y_all', '/low_d_60_y_all', '/low_m_300_y_all', '/low_w_200_y_all']\n"
     ]
    },
    {
     "name": "stderr",
     "output_type": "stream",
     "text": [
      "[2025-06-22 21:59:39,311] ERROR:tdx_data_Day.py(get_append_lastp_to_df:4379): tdx Out:3 code:['601028', '600837']\n"
     ]
    },
    {
     "name": "stdout",
     "output_type": "stream",
     "text": [
      "tdxdataT:3.67\n",
      "DLTDXE:3.67 "
     ]
    },
    {
     "data": {
      "text/plain": [
       "(5180, 218)"
      ]
     },
     "execution_count": 23,
     "metadata": {},
     "output_type": "execute_result"
    }
   ],
   "source": [
    "# h5_d = get_tdx_all_from_h5(resample='d') if h5_d is None else h5_d\n",
    "h5_d = get_tdx_all_now(resample='d')\n",
    "# tdx_d = cct.combine_dataFrame(h5_d,sinadm)\n",
    "h5_d.shape"
   ]
  },
  {
   "cell_type": "code",
   "execution_count": 42,
   "id": "22c03d97",
   "metadata": {
    "ExecuteTime": {
     "end_time": "2025-06-22T03:24:24.370827Z",
     "start_time": "2025-06-22T03:24:24.308793Z"
    },
    "execution": {
     "iopub.execute_input": "2025-06-22T14:04:22.604415Z",
     "iopub.status.busy": "2025-06-22T14:04:22.603282Z",
     "iopub.status.idle": "2025-06-22T14:04:22.680624Z",
     "shell.execute_reply": "2025-06-22T14:04:22.678625Z",
     "shell.execute_reply.started": "2025-06-22T14:04:22.604415Z"
    },
    "scrolled": true,
    "tags": []
   },
   "outputs": [
    {
     "name": "stdout",
     "output_type": "stream",
     "text": [
      "Count:63 218\n"
     ]
    },
    {
     "data": {
      "text/html": [
       "<div>\n",
       "<style scoped>\n",
       "    .dataframe tbody tr th:only-of-type {\n",
       "        vertical-align: middle;\n",
       "    }\n",
       "\n",
       "    .dataframe tbody tr th {\n",
       "        vertical-align: top;\n",
       "    }\n",
       "\n",
       "    .dataframe thead th {\n",
       "        text-align: right;\n",
       "    }\n",
       "</style>\n",
       "<table border=\"1\" class=\"dataframe\">\n",
       "  <thead>\n",
       "    <tr style=\"text-align: right;\">\n",
       "      <th></th>\n",
       "      <th>name</th>\n",
       "      <th>percent</th>\n",
       "      <th>couts</th>\n",
       "      <th>date</th>\n",
       "      <th>close</th>\n",
       "      <th>hmax</th>\n",
       "      <th>lmin</th>\n",
       "      <th>perc1d</th>\n",
       "      <th>llow</th>\n",
       "      <th>perc3d</th>\n",
       "      <th>perc5d</th>\n",
       "    </tr>\n",
       "    <tr>\n",
       "      <th>code</th>\n",
       "      <th></th>\n",
       "      <th></th>\n",
       "      <th></th>\n",
       "      <th></th>\n",
       "      <th></th>\n",
       "      <th></th>\n",
       "      <th></th>\n",
       "      <th></th>\n",
       "      <th></th>\n",
       "      <th></th>\n",
       "      <th></th>\n",
       "    </tr>\n",
       "  </thead>\n",
       "  <tbody>\n",
       "    <tr>\n",
       "      <th>872895</th>\n",
       "      <td>花溪科技</td>\n",
       "      <td>29.98</td>\n",
       "      <td>0</td>\n",
       "      <td>2025-04-07</td>\n",
       "      <td>52.53</td>\n",
       "      <td>43.47</td>\n",
       "      <td>18.44</td>\n",
       "      <td>52.31</td>\n",
       "      <td>13.18</td>\n",
       "      <td>0.2</td>\n",
       "      <td>0.0</td>\n",
       "    </tr>\n",
       "    <tr>\n",
       "      <th>301038</th>\n",
       "      <td>深水规院</td>\n",
       "      <td>20.09</td>\n",
       "      <td>23</td>\n",
       "      <td>2025-04-07</td>\n",
       "      <td>17.27</td>\n",
       "      <td>15.36</td>\n",
       "      <td>13.51</td>\n",
       "      <td>40.31</td>\n",
       "      <td>11.53</td>\n",
       "      <td>0.0</td>\n",
       "      <td>-0.1</td>\n",
       "    </tr>\n",
       "    <tr>\n",
       "      <th>301292</th>\n",
       "      <td>海科新源</td>\n",
       "      <td>20.06</td>\n",
       "      <td>60</td>\n",
       "      <td>2025-04-07</td>\n",
       "      <td>23.52</td>\n",
       "      <td>16.33</td>\n",
       "      <td>14.52</td>\n",
       "      <td>64.50</td>\n",
       "      <td>11.46</td>\n",
       "      <td>0.1</td>\n",
       "      <td>0.0</td>\n",
       "    </tr>\n",
       "    <tr>\n",
       "      <th>300429</th>\n",
       "      <td>强力新材</td>\n",
       "      <td>20.02</td>\n",
       "      <td>259</td>\n",
       "      <td>2025-04-28</td>\n",
       "      <td>14.27</td>\n",
       "      <td>12.72</td>\n",
       "      <td>10.92</td>\n",
       "      <td>40.31</td>\n",
       "      <td>10.44</td>\n",
       "      <td>0.0</td>\n",
       "      <td>0.1</td>\n",
       "    </tr>\n",
       "    <tr>\n",
       "      <th>300485</th>\n",
       "      <td>赛升药业</td>\n",
       "      <td>19.97</td>\n",
       "      <td>138</td>\n",
       "      <td>2025-04-07</td>\n",
       "      <td>13.94</td>\n",
       "      <td>13.89</td>\n",
       "      <td>7.99</td>\n",
       "      <td>28.30</td>\n",
       "      <td>7.03</td>\n",
       "      <td>0.0</td>\n",
       "      <td>0.1</td>\n",
       "    </tr>\n",
       "    <tr>\n",
       "      <th>300410</th>\n",
       "      <td>正业科技</td>\n",
       "      <td>19.97</td>\n",
       "      <td>83</td>\n",
       "      <td>2025-04-07</td>\n",
       "      <td>7.45</td>\n",
       "      <td>6.21</td>\n",
       "      <td>5.58</td>\n",
       "      <td>45.91</td>\n",
       "      <td>4.12</td>\n",
       "      <td>0.0</td>\n",
       "      <td>0.0</td>\n",
       "    </tr>\n",
       "    <tr>\n",
       "      <th>301150</th>\n",
       "      <td>中一科技</td>\n",
       "      <td>18.56</td>\n",
       "      <td>26</td>\n",
       "      <td>2025-04-07</td>\n",
       "      <td>21.91</td>\n",
       "      <td>17.03</td>\n",
       "      <td>15.16</td>\n",
       "      <td>55.41</td>\n",
       "      <td>12.35</td>\n",
       "      <td>0.1</td>\n",
       "      <td>0.0</td>\n",
       "    </tr>\n",
       "    <tr>\n",
       "      <th>839719</th>\n",
       "      <td>宁新新材</td>\n",
       "      <td>15.72</td>\n",
       "      <td>0</td>\n",
       "      <td>2025-04-07</td>\n",
       "      <td>23.70</td>\n",
       "      <td>18.86</td>\n",
       "      <td>11.26</td>\n",
       "      <td>41.81</td>\n",
       "      <td>8.90</td>\n",
       "      <td>1.1</td>\n",
       "      <td>0.0</td>\n",
       "    </tr>\n",
       "    <tr>\n",
       "      <th>603616</th>\n",
       "      <td>韩建河山</td>\n",
       "      <td>10.12</td>\n",
       "      <td>27</td>\n",
       "      <td>2025-04-08</td>\n",
       "      <td>4.46</td>\n",
       "      <td>4.27</td>\n",
       "      <td>3.72</td>\n",
       "      <td>40.41</td>\n",
       "      <td>2.94</td>\n",
       "      <td>0.0</td>\n",
       "      <td>0.1</td>\n",
       "    </tr>\n",
       "    <tr>\n",
       "      <th>002067</th>\n",
       "      <td>景兴纸业</td>\n",
       "      <td>10.06</td>\n",
       "      <td>160</td>\n",
       "      <td>2025-04-08</td>\n",
       "      <td>3.83</td>\n",
       "      <td>3.76</td>\n",
       "      <td>3.49</td>\n",
       "      <td>1.30</td>\n",
       "      <td>3.29</td>\n",
       "      <td>-0.1</td>\n",
       "      <td>0.0</td>\n",
       "    </tr>\n",
       "    <tr>\n",
       "      <th>603209</th>\n",
       "      <td>兴通股份</td>\n",
       "      <td>10.04</td>\n",
       "      <td>50</td>\n",
       "      <td>2025-04-08</td>\n",
       "      <td>16.44</td>\n",
       "      <td>15.30</td>\n",
       "      <td>14.17</td>\n",
       "      <td>35.69</td>\n",
       "      <td>13.46</td>\n",
       "      <td>1.2</td>\n",
       "      <td>-0.1</td>\n",
       "    </tr>\n",
       "    <tr>\n",
       "      <th>603022</th>\n",
       "      <td>新通联</td>\n",
       "      <td>10.02</td>\n",
       "      <td>10</td>\n",
       "      <td>2025-04-08</td>\n",
       "      <td>9.33</td>\n",
       "      <td>9.34</td>\n",
       "      <td>8.37</td>\n",
       "      <td>1.30</td>\n",
       "      <td>6.95</td>\n",
       "      <td>0.0</td>\n",
       "      <td>0.1</td>\n",
       "    </tr>\n",
       "    <tr>\n",
       "      <th>002235</th>\n",
       "      <td>安妮股份</td>\n",
       "      <td>9.99</td>\n",
       "      <td>463</td>\n",
       "      <td>2025-04-08</td>\n",
       "      <td>9.03</td>\n",
       "      <td>7.33</td>\n",
       "      <td>5.17</td>\n",
       "      <td>38.00</td>\n",
       "      <td>4.33</td>\n",
       "      <td>22.3</td>\n",
       "      <td>10.5</td>\n",
       "    </tr>\n",
       "    <tr>\n",
       "      <th>000995</th>\n",
       "      <td>皇台酒业</td>\n",
       "      <td>9.98</td>\n",
       "      <td>32</td>\n",
       "      <td>2025-04-07</td>\n",
       "      <td>14.65</td>\n",
       "      <td>14.09</td>\n",
       "      <td>12.72</td>\n",
       "      <td>1.30</td>\n",
       "      <td>11.88</td>\n",
       "      <td>1.3</td>\n",
       "      <td>0.0</td>\n",
       "    </tr>\n",
       "    <tr>\n",
       "      <th>603948</th>\n",
       "      <td>建业股份</td>\n",
       "      <td>9.98</td>\n",
       "      <td>5</td>\n",
       "      <td>2025-04-08</td>\n",
       "      <td>19.61</td>\n",
       "      <td>19.02</td>\n",
       "      <td>17.66</td>\n",
       "      <td>0.10</td>\n",
       "      <td>14.81</td>\n",
       "      <td>-0.1</td>\n",
       "      <td>-0.1</td>\n",
       "    </tr>\n",
       "    <tr>\n",
       "      <th>002930</th>\n",
       "      <td>宏川智慧</td>\n",
       "      <td>9.97</td>\n",
       "      <td>40</td>\n",
       "      <td>2025-04-30</td>\n",
       "      <td>11.91</td>\n",
       "      <td>11.66</td>\n",
       "      <td>9.21</td>\n",
       "      <td>28.30</td>\n",
       "      <td>9.04</td>\n",
       "      <td>1.2</td>\n",
       "      <td>1.3</td>\n",
       "    </tr>\n",
       "    <tr>\n",
       "      <th>002940</th>\n",
       "      <td>昂利康</td>\n",
       "      <td>9.95</td>\n",
       "      <td>26</td>\n",
       "      <td>2025-04-08</td>\n",
       "      <td>31.94</td>\n",
       "      <td>29.02</td>\n",
       "      <td>13.25</td>\n",
       "      <td>17.09</td>\n",
       "      <td>12.12</td>\n",
       "      <td>-1.1</td>\n",
       "      <td>15.3</td>\n",
       "    </tr>\n",
       "    <tr>\n",
       "      <th>301511</th>\n",
       "      <td>德福科技</td>\n",
       "      <td>9.61</td>\n",
       "      <td>67</td>\n",
       "      <td>2025-04-07</td>\n",
       "      <td>16.88</td>\n",
       "      <td>16.72</td>\n",
       "      <td>13.98</td>\n",
       "      <td>39.81</td>\n",
       "      <td>11.09</td>\n",
       "      <td>0.0</td>\n",
       "      <td>0.1</td>\n",
       "    </tr>\n",
       "    <tr>\n",
       "      <th>300647</th>\n",
       "      <td>超频三</td>\n",
       "      <td>7.09</td>\n",
       "      <td>130</td>\n",
       "      <td>2025-04-07</td>\n",
       "      <td>6.65</td>\n",
       "      <td>6.02</td>\n",
       "      <td>5.53</td>\n",
       "      <td>34.19</td>\n",
       "      <td>4.60</td>\n",
       "      <td>1.3</td>\n",
       "      <td>0.0</td>\n",
       "    </tr>\n",
       "    <tr>\n",
       "      <th>300841</th>\n",
       "      <td>康华生物</td>\n",
       "      <td>6.84</td>\n",
       "      <td>2</td>\n",
       "      <td>2025-04-30</td>\n",
       "      <td>61.84</td>\n",
       "      <td>60.66</td>\n",
       "      <td>51.00</td>\n",
       "      <td>1.30</td>\n",
       "      <td>49.25</td>\n",
       "      <td>0.0</td>\n",
       "      <td>0.0</td>\n",
       "    </tr>\n",
       "  </tbody>\n",
       "</table>\n",
       "</div>"
      ],
      "text/plain": [
       "        name  percent  couts        date  close   hmax   lmin  perc1d   llow  \\\n",
       "code                                                                           \n",
       "872895  花溪科技    29.98      0  2025-04-07  52.53  43.47  18.44   52.31  13.18   \n",
       "301038  深水规院    20.09     23  2025-04-07  17.27  15.36  13.51   40.31  11.53   \n",
       "301292  海科新源    20.06     60  2025-04-07  23.52  16.33  14.52   64.50  11.46   \n",
       "300429  强力新材    20.02    259  2025-04-28  14.27  12.72  10.92   40.31  10.44   \n",
       "300485  赛升药业    19.97    138  2025-04-07  13.94  13.89   7.99   28.30   7.03   \n",
       "300410  正业科技    19.97     83  2025-04-07   7.45   6.21   5.58   45.91   4.12   \n",
       "301150  中一科技    18.56     26  2025-04-07  21.91  17.03  15.16   55.41  12.35   \n",
       "839719  宁新新材    15.72      0  2025-04-07  23.70  18.86  11.26   41.81   8.90   \n",
       "603616  韩建河山    10.12     27  2025-04-08   4.46   4.27   3.72   40.41   2.94   \n",
       "002067  景兴纸业    10.06    160  2025-04-08   3.83   3.76   3.49    1.30   3.29   \n",
       "603209  兴通股份    10.04     50  2025-04-08  16.44  15.30  14.17   35.69  13.46   \n",
       "603022   新通联    10.02     10  2025-04-08   9.33   9.34   8.37    1.30   6.95   \n",
       "002235  安妮股份     9.99    463  2025-04-08   9.03   7.33   5.17   38.00   4.33   \n",
       "000995  皇台酒业     9.98     32  2025-04-07  14.65  14.09  12.72    1.30  11.88   \n",
       "603948  建业股份     9.98      5  2025-04-08  19.61  19.02  17.66    0.10  14.81   \n",
       "002930  宏川智慧     9.97     40  2025-04-30  11.91  11.66   9.21   28.30   9.04   \n",
       "002940   昂利康     9.95     26  2025-04-08  31.94  29.02  13.25   17.09  12.12   \n",
       "301511  德福科技     9.61     67  2025-04-07  16.88  16.72  13.98   39.81  11.09   \n",
       "300647   超频三     7.09    130  2025-04-07   6.65   6.02   5.53   34.19   4.60   \n",
       "300841  康华生物     6.84      2  2025-04-30  61.84  60.66  51.00    1.30  49.25   \n",
       "\n",
       "        perc3d  perc5d  \n",
       "code                    \n",
       "872895     0.2     0.0  \n",
       "301038     0.0    -0.1  \n",
       "301292     0.1     0.0  \n",
       "300429     0.0     0.1  \n",
       "300485     0.0     0.1  \n",
       "300410     0.0     0.0  \n",
       "301150     0.1     0.0  \n",
       "839719     1.1     0.0  \n",
       "603616     0.0     0.1  \n",
       "002067    -0.1     0.0  \n",
       "603209     1.2    -0.1  \n",
       "603022     0.0     0.1  \n",
       "002235    22.3    10.5  \n",
       "000995     1.3     0.0  \n",
       "603948    -0.1    -0.1  \n",
       "002930     1.2     1.3  \n",
       "002940    -1.1    15.3  \n",
       "301511     0.0     0.1  \n",
       "300647     1.3     0.0  \n",
       "300841     0.0     0.0  "
      ]
     },
     "execution_count": 42,
     "metadata": {},
     "output_type": "execute_result"
    }
   ],
   "source": [
    "# td_code = tdx_d.query('lasth1d > lasth2d > lasth3d and close >= high4')\n",
    "# td_code = tdx_d.query('ma51d > ma10d and ral > 3 and lastp1d >ma20d and low > lastl1d and vol > 2' )\n",
    "# td_code = tdx_d.query('lastp1d > lastp2d  and lasth1d > lasth2d and lasth2d > lasth3d and lastl1d > lastl2d and lastl2d > lastl3d and close > open')\n",
    "\n",
    "# td_code = h5_d.query(f'{get_filter(filterIDX)}')\n",
    "# td_code = h5_d.query(f'lasth1d > lasth2d and close > lastp1d and ral > 10 and fib > 0 and boll > 0')\n",
    "td_code = h5_d.query(f'lasth1d > lasth2d  and ral > 10 and fib > 0 and boll > 0  and percent > lastdu4 \\\n",
    "and close >high4  and (low > open*0.99 or (per1d > 4 and low >= lastp1d))')\n",
    "\n",
    "show_tdx_data(td_code,limit=20)\n",
    "if len(td_code) < 30:\n",
    "    write_code_to_blk(td_code.sort_values('percent', ascending=False).index,'065',rewrite=True)"
   ]
  },
  {
   "cell_type": "code",
   "execution_count": 25,
   "id": "3ac7891e",
   "metadata": {
    "ExecuteTime": {
     "end_time": "2025-06-22T03:05:09.334556Z",
     "start_time": "2025-06-22T03:05:09.323867Z"
    },
    "execution": {
     "iopub.execute_input": "2025-06-22T13:59:47.126834Z",
     "iopub.status.busy": "2025-06-22T13:59:47.125832Z",
     "iopub.status.idle": "2025-06-22T13:59:47.154794Z",
     "shell.execute_reply": "2025-06-22T13:59:47.152892Z",
     "shell.execute_reply.started": "2025-06-22T13:59:47.126834Z"
    },
    "tags": []
   },
   "outputs": [
    {
     "data": {
      "text/plain": [
       "lastdu4       1.05\n",
       "close        17.27\n",
       "boll             1\n",
       "ral             15\n",
       "fib              2\n",
       "percmax        5.0\n",
       "macd          0.24\n",
       "macddif       0.34\n",
       "macddea       0.22\n",
       "macdlast1     0.24\n",
       "macdlast2    -0.12\n",
       "macdlast3    -0.09\n",
       "lasth1d      17.27\n",
       "lastl1d       14.4\n",
       "lastl2d      14.22\n",
       "lastl3d      13.92\n",
       "lastp1d      17.27\n",
       "ma51d        15.03\n",
       "ma52d        14.57\n",
       "ma53d        14.76\n",
       "ma54d        14.82\n",
       "Name: 301038, dtype: object"
      ]
     },
     "execution_count": 25,
     "metadata": {},
     "output_type": "execute_result"
    }
   ],
   "source": [
    "if '301038' in td_code.index:\n",
    "    h5_d.loc['301038',['lastdu4','close','boll','ral','fib','percmax','macd','macddif','macddea','macdlast1','macdlast2','macdlast3','lasth1d','lastl1d','lastl2d','lastl3d','lastp1d','ma51d','ma52d','ma53d','ma54d']]"
   ]
  },
  {
   "cell_type": "markdown",
   "id": "103ccc62",
   "metadata": {},
   "source": [
    "#### filter test"
   ]
  },
  {
   "cell_type": "code",
   "execution_count": 34,
   "id": "1f09d0a1",
   "metadata": {
    "ExecuteTime": {
     "end_time": "2025-06-22T03:00:58.617099Z",
     "start_time": "2025-06-22T03:00:58.579065Z"
    },
    "execution": {
     "iopub.execute_input": "2025-06-22T14:03:34.711370Z",
     "iopub.status.busy": "2025-06-22T14:03:34.710478Z",
     "iopub.status.idle": "2025-06-22T14:03:34.770027Z",
     "shell.execute_reply": "2025-06-22T14:03:34.767036Z",
     "shell.execute_reply.started": "2025-06-22T14:03:34.711370Z"
    },
    "scrolled": true,
    "tags": []
   },
   "outputs": [
    {
     "name": "stdout",
     "output_type": "stream",
     "text": [
      "Count:219 216\n"
     ]
    },
    {
     "data": {
      "text/html": [
       "<div>\n",
       "<style scoped>\n",
       "    .dataframe tbody tr th:only-of-type {\n",
       "        vertical-align: middle;\n",
       "    }\n",
       "\n",
       "    .dataframe tbody tr th {\n",
       "        vertical-align: top;\n",
       "    }\n",
       "\n",
       "    .dataframe thead th {\n",
       "        text-align: right;\n",
       "    }\n",
       "</style>\n",
       "<table border=\"1\" class=\"dataframe\">\n",
       "  <thead>\n",
       "    <tr style=\"text-align: right;\">\n",
       "      <th></th>\n",
       "      <th>name</th>\n",
       "      <th>percent</th>\n",
       "      <th>couts</th>\n",
       "      <th>date</th>\n",
       "      <th>close</th>\n",
       "      <th>hmax</th>\n",
       "      <th>lmin</th>\n",
       "      <th>perc1d</th>\n",
       "      <th>llow</th>\n",
       "      <th>perc3d</th>\n",
       "      <th>perc5d</th>\n",
       "    </tr>\n",
       "    <tr>\n",
       "      <th>code</th>\n",
       "      <th></th>\n",
       "      <th></th>\n",
       "      <th></th>\n",
       "      <th></th>\n",
       "      <th></th>\n",
       "      <th></th>\n",
       "      <th></th>\n",
       "      <th></th>\n",
       "      <th></th>\n",
       "      <th></th>\n",
       "      <th></th>\n",
       "    </tr>\n",
       "  </thead>\n",
       "  <tbody>\n",
       "    <tr>\n",
       "      <th>300804</th>\n",
       "      <td>广康生化</td>\n",
       "      <td>7.87</td>\n",
       "      <td>1</td>\n",
       "      <td>2025-04-11</td>\n",
       "      <td>60.88</td>\n",
       "      <td>57.91</td>\n",
       "      <td>20.86</td>\n",
       "      <td>1.10</td>\n",
       "      <td>21.44</td>\n",
       "      <td>1.10</td>\n",
       "      <td>1.2</td>\n",
       "    </tr>\n",
       "    <tr>\n",
       "      <th>688313</th>\n",
       "      <td>仕佳光子</td>\n",
       "      <td>6.93</td>\n",
       "      <td>57</td>\n",
       "      <td>2025-04-08</td>\n",
       "      <td>38.59</td>\n",
       "      <td>35.91</td>\n",
       "      <td>12.74</td>\n",
       "      <td>33.19</td>\n",
       "      <td>13.55</td>\n",
       "      <td>1.20</td>\n",
       "      <td>1.2</td>\n",
       "    </tr>\n",
       "    <tr>\n",
       "      <th>300204</th>\n",
       "      <td>舒泰神</td>\n",
       "      <td>5.45</td>\n",
       "      <td>18</td>\n",
       "      <td>2025-04-08</td>\n",
       "      <td>35.00</td>\n",
       "      <td>36.94</td>\n",
       "      <td>5.90</td>\n",
       "      <td>1.10</td>\n",
       "      <td>6.05</td>\n",
       "      <td>20.91</td>\n",
       "      <td>0.0</td>\n",
       "    </tr>\n",
       "    <tr>\n",
       "      <th>688185</th>\n",
       "      <td>康希诺</td>\n",
       "      <td>5.13</td>\n",
       "      <td>0</td>\n",
       "      <td>2025-04-08</td>\n",
       "      <td>60.81</td>\n",
       "      <td>62.03</td>\n",
       "      <td>48.50</td>\n",
       "      <td>1.10</td>\n",
       "      <td>48.50</td>\n",
       "      <td>0.00</td>\n",
       "      <td>27.3</td>\n",
       "    </tr>\n",
       "    <tr>\n",
       "      <th>688379</th>\n",
       "      <td>华光新材</td>\n",
       "      <td>4.96</td>\n",
       "      <td>0</td>\n",
       "      <td>2025-04-08</td>\n",
       "      <td>31.95</td>\n",
       "      <td>33.75</td>\n",
       "      <td>17.38</td>\n",
       "      <td>1.10</td>\n",
       "      <td>18.78</td>\n",
       "      <td>0.00</td>\n",
       "      <td>0.0</td>\n",
       "    </tr>\n",
       "  </tbody>\n",
       "</table>\n",
       "</div>"
      ],
      "text/plain": [
       "        name  percent  couts        date  close   hmax   lmin  perc1d   llow  \\\n",
       "code                                                                           \n",
       "300804  广康生化     7.87      1  2025-04-11  60.88  57.91  20.86    1.10  21.44   \n",
       "688313  仕佳光子     6.93     57  2025-04-08  38.59  35.91  12.74   33.19  13.55   \n",
       "300204   舒泰神     5.45     18  2025-04-08  35.00  36.94   5.90    1.10   6.05   \n",
       "688185   康希诺     5.13      0  2025-04-08  60.81  62.03  48.50    1.10  48.50   \n",
       "688379  华光新材     4.96      0  2025-04-08  31.95  33.75  17.38    1.10  18.78   \n",
       "\n",
       "        perc3d  perc5d  \n",
       "code                    \n",
       "300804    1.10     1.2  \n",
       "688313    1.20     1.2  \n",
       "300204   20.91     0.0  \n",
       "688185    0.00    27.3  \n",
       "688379    0.00     0.0  "
      ]
     },
     "execution_count": 34,
     "metadata": {},
     "output_type": "execute_result"
    }
   ],
   "source": [
    "# h5_t_code=h5_w.query('lasth1d > upper1 and lasth1d >lasth2d   and high >boll and percent > maxp')\n",
    "# h5_t_code=h5_d.query('lasth1d  >lasth2d  and lastp1d > ma51d and lastp1d > lastp2d*0.99 and lasth2d > lasth3d and lastp2d < upper2 and lasth1d >upper')\n",
    "code_3f=  list(set(tm_code.index) & set(tw_code.index) & set(t3d_code.index))\n",
    "\n",
    "show_tdx_data(t3d_code.loc[code_3f],limit=5)"
   ]
  },
  {
   "cell_type": "code",
   "execution_count": 35,
   "id": "039561bb",
   "metadata": {
    "ExecuteTime": {
     "end_time": "2025-06-22T02:46:34.566550Z",
     "start_time": "2025-06-22T02:46:34.562910Z"
    },
    "execution": {
     "iopub.execute_input": "2025-06-22T14:03:34.774018Z",
     "iopub.status.busy": "2025-06-22T14:03:34.773021Z",
     "iopub.status.idle": "2025-06-22T14:03:34.786985Z",
     "shell.execute_reply": "2025-06-22T14:03:34.782994Z",
     "shell.execute_reply.started": "2025-06-22T14:03:34.774018Z"
    },
    "tags": []
   },
   "outputs": [],
   "source": [
    "# td_code2 = tdx_d.query(f'{get_filter(2)}')\n",
    "# td_code2 = h5_d.query('lastp1d > lastp2d  and lasth1d > lasth2d and lasth2d > lasth3d and lastl1d > lastl2d and lastl2d > lastl3d and close > open')\n",
    "# show_tdx_data(td_code2,limit=10)\n"
   ]
  },
  {
   "cell_type": "markdown",
   "id": "079416bf",
   "metadata": {},
   "source": [
    "#### 多周期筛选"
   ]
  },
  {
   "cell_type": "code",
   "execution_count": 46,
   "id": "f4919a87",
   "metadata": {
    "ExecuteTime": {
     "end_time": "2025-06-22T03:18:24.475854Z",
     "start_time": "2025-06-22T03:18:24.440042Z"
    },
    "execution": {
     "iopub.execute_input": "2025-06-22T14:05:41.936599Z",
     "iopub.status.busy": "2025-06-22T14:05:41.936011Z",
     "iopub.status.idle": "2025-06-22T14:05:41.978489Z",
     "shell.execute_reply": "2025-06-22T14:05:41.977491Z",
     "shell.execute_reply.started": "2025-06-22T14:05:41.936599Z"
    },
    "tags": []
   },
   "outputs": [
    {
     "name": "stdout",
     "output_type": "stream",
     "text": [
      "tm_code:1876\n",
      "tw_code:288\n",
      "t3d_code:1214\n",
      "td_code:63\n",
      "Count:20 218\n"
     ]
    },
    {
     "data": {
      "text/html": [
       "<div>\n",
       "<style scoped>\n",
       "    .dataframe tbody tr th:only-of-type {\n",
       "        vertical-align: middle;\n",
       "    }\n",
       "\n",
       "    .dataframe tbody tr th {\n",
       "        vertical-align: top;\n",
       "    }\n",
       "\n",
       "    .dataframe thead th {\n",
       "        text-align: right;\n",
       "    }\n",
       "</style>\n",
       "<table border=\"1\" class=\"dataframe\">\n",
       "  <thead>\n",
       "    <tr style=\"text-align: right;\">\n",
       "      <th></th>\n",
       "      <th>name</th>\n",
       "      <th>percent</th>\n",
       "      <th>couts</th>\n",
       "      <th>date</th>\n",
       "      <th>close</th>\n",
       "      <th>hmax</th>\n",
       "      <th>lmin</th>\n",
       "      <th>perc1d</th>\n",
       "      <th>llow</th>\n",
       "      <th>perc3d</th>\n",
       "      <th>perc5d</th>\n",
       "    </tr>\n",
       "    <tr>\n",
       "      <th>code</th>\n",
       "      <th></th>\n",
       "      <th></th>\n",
       "      <th></th>\n",
       "      <th></th>\n",
       "      <th></th>\n",
       "      <th></th>\n",
       "      <th></th>\n",
       "      <th></th>\n",
       "      <th></th>\n",
       "      <th></th>\n",
       "      <th></th>\n",
       "    </tr>\n",
       "  </thead>\n",
       "  <tbody>\n",
       "    <tr>\n",
       "      <th>872895</th>\n",
       "      <td>花溪科技</td>\n",
       "      <td>29.98</td>\n",
       "      <td>0</td>\n",
       "      <td>2025-04-07</td>\n",
       "      <td>52.53</td>\n",
       "      <td>43.47</td>\n",
       "      <td>18.44</td>\n",
       "      <td>52.31</td>\n",
       "      <td>13.18</td>\n",
       "      <td>0.2</td>\n",
       "      <td>0.0</td>\n",
       "    </tr>\n",
       "    <tr>\n",
       "      <th>301038</th>\n",
       "      <td>深水规院</td>\n",
       "      <td>20.09</td>\n",
       "      <td>23</td>\n",
       "      <td>2025-04-07</td>\n",
       "      <td>17.27</td>\n",
       "      <td>15.36</td>\n",
       "      <td>13.51</td>\n",
       "      <td>40.31</td>\n",
       "      <td>11.53</td>\n",
       "      <td>0.0</td>\n",
       "      <td>-0.1</td>\n",
       "    </tr>\n",
       "    <tr>\n",
       "      <th>301292</th>\n",
       "      <td>海科新源</td>\n",
       "      <td>20.06</td>\n",
       "      <td>60</td>\n",
       "      <td>2025-04-07</td>\n",
       "      <td>23.52</td>\n",
       "      <td>16.33</td>\n",
       "      <td>14.52</td>\n",
       "      <td>64.50</td>\n",
       "      <td>11.46</td>\n",
       "      <td>0.1</td>\n",
       "      <td>0.0</td>\n",
       "    </tr>\n",
       "    <tr>\n",
       "      <th>300410</th>\n",
       "      <td>正业科技</td>\n",
       "      <td>19.97</td>\n",
       "      <td>83</td>\n",
       "      <td>2025-04-07</td>\n",
       "      <td>7.45</td>\n",
       "      <td>6.21</td>\n",
       "      <td>5.58</td>\n",
       "      <td>45.91</td>\n",
       "      <td>4.12</td>\n",
       "      <td>0.0</td>\n",
       "      <td>0.0</td>\n",
       "    </tr>\n",
       "    <tr>\n",
       "      <th>301150</th>\n",
       "      <td>中一科技</td>\n",
       "      <td>18.56</td>\n",
       "      <td>26</td>\n",
       "      <td>2025-04-07</td>\n",
       "      <td>21.91</td>\n",
       "      <td>17.03</td>\n",
       "      <td>15.16</td>\n",
       "      <td>55.41</td>\n",
       "      <td>12.35</td>\n",
       "      <td>0.1</td>\n",
       "      <td>0.0</td>\n",
       "    </tr>\n",
       "    <tr>\n",
       "      <th>839719</th>\n",
       "      <td>宁新新材</td>\n",
       "      <td>15.72</td>\n",
       "      <td>0</td>\n",
       "      <td>2025-04-07</td>\n",
       "      <td>23.70</td>\n",
       "      <td>18.86</td>\n",
       "      <td>11.26</td>\n",
       "      <td>41.81</td>\n",
       "      <td>8.90</td>\n",
       "      <td>1.1</td>\n",
       "      <td>0.0</td>\n",
       "    </tr>\n",
       "    <tr>\n",
       "      <th>603616</th>\n",
       "      <td>韩建河山</td>\n",
       "      <td>10.12</td>\n",
       "      <td>27</td>\n",
       "      <td>2025-04-08</td>\n",
       "      <td>4.46</td>\n",
       "      <td>4.27</td>\n",
       "      <td>3.72</td>\n",
       "      <td>40.41</td>\n",
       "      <td>2.94</td>\n",
       "      <td>0.0</td>\n",
       "      <td>0.1</td>\n",
       "    </tr>\n",
       "    <tr>\n",
       "      <th>002235</th>\n",
       "      <td>安妮股份</td>\n",
       "      <td>9.99</td>\n",
       "      <td>463</td>\n",
       "      <td>2025-04-08</td>\n",
       "      <td>9.03</td>\n",
       "      <td>7.33</td>\n",
       "      <td>5.17</td>\n",
       "      <td>38.00</td>\n",
       "      <td>4.33</td>\n",
       "      <td>22.3</td>\n",
       "      <td>10.5</td>\n",
       "    </tr>\n",
       "    <tr>\n",
       "      <th>603948</th>\n",
       "      <td>建业股份</td>\n",
       "      <td>9.98</td>\n",
       "      <td>5</td>\n",
       "      <td>2025-04-08</td>\n",
       "      <td>19.61</td>\n",
       "      <td>19.02</td>\n",
       "      <td>17.66</td>\n",
       "      <td>0.10</td>\n",
       "      <td>14.81</td>\n",
       "      <td>-0.1</td>\n",
       "      <td>-0.1</td>\n",
       "    </tr>\n",
       "    <tr>\n",
       "      <th>002940</th>\n",
       "      <td>昂利康</td>\n",
       "      <td>9.95</td>\n",
       "      <td>26</td>\n",
       "      <td>2025-04-08</td>\n",
       "      <td>31.94</td>\n",
       "      <td>29.02</td>\n",
       "      <td>13.25</td>\n",
       "      <td>17.09</td>\n",
       "      <td>12.12</td>\n",
       "      <td>-1.1</td>\n",
       "      <td>15.3</td>\n",
       "    </tr>\n",
       "  </tbody>\n",
       "</table>\n",
       "</div>"
      ],
      "text/plain": [
       "        name  percent  couts        date  close   hmax   lmin  perc1d   llow  \\\n",
       "code                                                                           \n",
       "872895  花溪科技    29.98      0  2025-04-07  52.53  43.47  18.44   52.31  13.18   \n",
       "301038  深水规院    20.09     23  2025-04-07  17.27  15.36  13.51   40.31  11.53   \n",
       "301292  海科新源    20.06     60  2025-04-07  23.52  16.33  14.52   64.50  11.46   \n",
       "300410  正业科技    19.97     83  2025-04-07   7.45   6.21   5.58   45.91   4.12   \n",
       "301150  中一科技    18.56     26  2025-04-07  21.91  17.03  15.16   55.41  12.35   \n",
       "839719  宁新新材    15.72      0  2025-04-07  23.70  18.86  11.26   41.81   8.90   \n",
       "603616  韩建河山    10.12     27  2025-04-08   4.46   4.27   3.72   40.41   2.94   \n",
       "002235  安妮股份     9.99    463  2025-04-08   9.03   7.33   5.17   38.00   4.33   \n",
       "603948  建业股份     9.98      5  2025-04-08  19.61  19.02  17.66    0.10  14.81   \n",
       "002940   昂利康     9.95     26  2025-04-08  31.94  29.02  13.25   17.09  12.12   \n",
       "\n",
       "        perc3d  perc5d  \n",
       "code                    \n",
       "872895     0.2     0.0  \n",
       "301038     0.0    -0.1  \n",
       "301292     0.1     0.0  \n",
       "300410     0.0     0.0  \n",
       "301150     0.1     0.0  \n",
       "839719     1.1     0.0  \n",
       "603616     0.0     0.1  \n",
       "002235    22.3    10.5  \n",
       "603948    -0.1    -0.1  \n",
       "002940    -1.1    15.3  "
      ]
     },
     "execution_count": 46,
     "metadata": {},
     "output_type": "execute_result"
    }
   ],
   "source": [
    "for co in ['tm_code','tw_code','t3d_code','td_code']:\n",
    "    print(f'{co}:{len(eval(co))}')\n",
    "code_f=  list(set(tm_code.index) & set(tw_code.index) & set(t3d_code.index)  & set(td_code.index))\n",
    "# code_f=  list(set(tm_code.index) & set(tw_code.index) & set(td_code.index))\n",
    "code_f =td_code.loc[code_f].sort_values('percent', ascending=False).index.tolist()\n",
    "if len(code_f) > 0:\n",
    "    show_tdx_data(td_code.loc[code_f],limit=10)\n",
    "else:\n",
    "    print('no code')"
   ]
  },
  {
   "cell_type": "markdown",
   "id": "4971264f",
   "metadata": {
    "run_control": {
     "marked": true
    }
   },
   "source": [
    "#### check data"
   ]
  },
  {
   "cell_type": "code",
   "execution_count": 37,
   "id": "95ffd469",
   "metadata": {
    "ExecuteTime": {
     "end_time": "2025-06-22T02:46:34.617694Z",
     "start_time": "2025-06-22T02:46:34.607001Z"
    },
    "execution": {
     "iopub.execute_input": "2025-06-22T14:03:41.794682Z",
     "iopub.status.busy": "2025-06-22T14:03:41.793685Z",
     "iopub.status.idle": "2025-06-22T14:03:41.822610Z",
     "shell.execute_reply": "2025-06-22T14:03:41.820616Z",
     "shell.execute_reply.started": "2025-06-22T14:03:41.794650Z"
    },
    "tags": []
   },
   "outputs": [
    {
     "data": {
      "text/plain": [
       "False"
      ]
     },
     "execution_count": 37,
     "metadata": {},
     "output_type": "execute_result"
    },
    {
     "data": {
      "text/plain": [
       "3"
      ]
     },
     "execution_count": 37,
     "metadata": {},
     "output_type": "execute_result"
    }
   ],
   "source": [
    "'300998' in code_f\n",
    "code_check = [co for co in code_f if co in h5_3d.index]\n",
    "len(code_check)"
   ]
  },
  {
   "cell_type": "code",
   "execution_count": 30,
   "id": "39c1fcd2",
   "metadata": {
    "ExecuteTime": {
     "end_time": "2025-06-22T02:46:34.648062Z",
     "start_time": "2025-06-22T02:46:34.621259Z"
    },
    "execution": {
     "iopub.execute_input": "2025-06-22T13:59:47.390124Z",
     "iopub.status.busy": "2025-06-22T13:59:47.389133Z",
     "iopub.status.idle": "2025-06-22T13:59:47.443979Z",
     "shell.execute_reply": "2025-06-22T13:59:47.441987Z",
     "shell.execute_reply.started": "2025-06-22T13:59:47.389133Z"
    },
    "tags": []
   },
   "outputs": [
    {
     "name": "stdout",
     "output_type": "stream",
     "text": [
      "Count:3 218\n"
     ]
    },
    {
     "data": {
      "text/html": [
       "<div>\n",
       "<style scoped>\n",
       "    .dataframe tbody tr th:only-of-type {\n",
       "        vertical-align: middle;\n",
       "    }\n",
       "\n",
       "    .dataframe tbody tr th {\n",
       "        vertical-align: top;\n",
       "    }\n",
       "\n",
       "    .dataframe thead th {\n",
       "        text-align: right;\n",
       "    }\n",
       "</style>\n",
       "<table border=\"1\" class=\"dataframe\">\n",
       "  <thead>\n",
       "    <tr style=\"text-align: right;\">\n",
       "      <th></th>\n",
       "      <th>name</th>\n",
       "      <th>percent</th>\n",
       "      <th>couts</th>\n",
       "      <th>date</th>\n",
       "      <th>close</th>\n",
       "      <th>hmax</th>\n",
       "      <th>lmin</th>\n",
       "      <th>perc1d</th>\n",
       "      <th>llow</th>\n",
       "      <th>perc3d</th>\n",
       "      <th>perc5d</th>\n",
       "    </tr>\n",
       "    <tr>\n",
       "      <th>code</th>\n",
       "      <th></th>\n",
       "      <th></th>\n",
       "      <th></th>\n",
       "      <th></th>\n",
       "      <th></th>\n",
       "      <th></th>\n",
       "      <th></th>\n",
       "      <th></th>\n",
       "      <th></th>\n",
       "      <th></th>\n",
       "      <th></th>\n",
       "    </tr>\n",
       "  </thead>\n",
       "  <tbody>\n",
       "    <tr>\n",
       "      <th>300816</th>\n",
       "      <td>艾可蓝</td>\n",
       "      <td>3.07</td>\n",
       "      <td>1</td>\n",
       "      <td>2025-04-07</td>\n",
       "      <td>35.62</td>\n",
       "      <td>34.66</td>\n",
       "      <td>29.45</td>\n",
       "      <td>1.2</td>\n",
       "      <td>24.34</td>\n",
       "      <td>1.3</td>\n",
       "      <td>1.1</td>\n",
       "    </tr>\n",
       "    <tr>\n",
       "      <th>600926</th>\n",
       "      <td>杭州银行</td>\n",
       "      <td>2.75</td>\n",
       "      <td>142</td>\n",
       "      <td>2025-04-07</td>\n",
       "      <td>17.16</td>\n",
       "      <td>16.88</td>\n",
       "      <td>14.86</td>\n",
       "      <td>1.3</td>\n",
       "      <td>13.58</td>\n",
       "      <td>0.0</td>\n",
       "      <td>0.0</td>\n",
       "    </tr>\n",
       "    <tr>\n",
       "      <th>601555</th>\n",
       "      <td>东吴证券</td>\n",
       "      <td>2.57</td>\n",
       "      <td>229</td>\n",
       "      <td>2025-04-07</td>\n",
       "      <td>8.77</td>\n",
       "      <td>8.76</td>\n",
       "      <td>7.57</td>\n",
       "      <td>1.3</td>\n",
       "      <td>6.77</td>\n",
       "      <td>-1.1</td>\n",
       "      <td>31.8</td>\n",
       "    </tr>\n",
       "  </tbody>\n",
       "</table>\n",
       "</div>"
      ],
      "text/plain": [
       "        name  percent  couts        date  close   hmax   lmin  perc1d   llow  \\\n",
       "code                                                                           \n",
       "300816   艾可蓝     3.07      1  2025-04-07  35.62  34.66  29.45     1.2  24.34   \n",
       "600926  杭州银行     2.75    142  2025-04-07  17.16  16.88  14.86     1.3  13.58   \n",
       "601555  东吴证券     2.57    229  2025-04-07   8.77   8.76   7.57     1.3   6.77   \n",
       "\n",
       "        perc3d  perc5d  \n",
       "code                    \n",
       "300816     1.3     1.1  \n",
       "600926     0.0     0.0  \n",
       "601555    -1.1    31.8  "
      ]
     },
     "execution_count": 30,
     "metadata": {},
     "output_type": "execute_result"
    }
   ],
   "source": [
    "show_tdx_data(td_code.loc[code_f])"
   ]
  },
  {
   "cell_type": "markdown",
   "id": "b6e4f618-d3cb-43bb-b592-60e54a84aba5",
   "metadata": {},
   "source": [
    "### Write toblk"
   ]
  },
  {
   "cell_type": "code",
   "execution_count": 31,
   "id": "19ab69a9-1482-4b80-9fb6-20f751e8d885",
   "metadata": {
    "ExecuteTime": {
     "end_time": "2025-06-22T02:46:34.655322Z",
     "start_time": "2025-06-22T02:46:34.650892Z"
    },
    "execution": {
     "iopub.execute_input": "2025-06-22T13:59:47.446974Z",
     "iopub.status.busy": "2025-06-22T13:59:47.445978Z",
     "iopub.status.idle": "2025-06-22T13:59:47.458940Z",
     "shell.execute_reply": "2025-06-22T13:59:47.457942Z",
     "shell.execute_reply.started": "2025-06-22T13:59:47.446974Z"
    },
    "tags": []
   },
   "outputs": [],
   "source": [
    "# write_code_to_blk(code_f,'077',rewrite=False)"
   ]
  },
  {
   "cell_type": "code",
   "execution_count": null,
   "id": "1903b698-b6da-4396-bda3-61ceda41d88f",
   "metadata": {},
   "outputs": [],
   "source": []
  }
 ],
 "metadata": {
  "kernelspec": {
   "display_name": "python3.9",
   "language": "python",
   "name": "python3"
  },
  "language_info": {
   "codemirror_mode": {
    "name": "ipython",
    "version": 3
   },
   "file_extension": ".py",
   "mimetype": "text/x-python",
   "name": "python",
   "nbconvert_exporter": "python",
   "pygments_lexer": "ipython3",
   "version": "3.9.13"
  },
  "nbTranslate": {
   "displayLangs": [
    "zh-tw"
   ],
   "hotkey": "alt-t",
   "langInMainMenu": true,
   "sourceLang": "en",
   "targetLang": "zh-tw",
   "useGoogleTranslate": true
  },
  "toc": {
   "base_numbering": 1,
   "nav_menu": {},
   "number_sections": true,
   "sideBar": true,
   "skip_h1_title": false,
   "title_cell": "Table of Contents",
   "title_sidebar": "Contents",
   "toc_cell": false,
   "toc_position": {
    "height": "calc(100% - 180px)",
    "left": "10px",
    "top": "150px",
    "width": "190.467px"
   },
   "toc_section_display": true,
   "toc_window_display": true
  }
 },
 "nbformat": 4,
 "nbformat_minor": 5
}
