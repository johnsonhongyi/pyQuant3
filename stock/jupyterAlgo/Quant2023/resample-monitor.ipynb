{
 "cells": [
  {
   "cell_type": "markdown",
   "id": "76010d4d",
   "metadata": {},
   "source": [
    "# import def func"
   ]
  },
  {
   "cell_type": "code",
   "execution_count": 1,
   "id": "a547812c-f835-4e27-ac46-12430da81ca1",
   "metadata": {
    "ExecuteTime": {
     "end_time": "2025-06-19T12:58:58.083899Z",
     "start_time": "2025-06-19T12:58:56.430206Z"
    },
    "cell_style": "center",
    "execution": {
     "iopub.execute_input": "2025-06-18T16:02:51.902331Z",
     "iopub.status.busy": "2025-06-18T16:02:51.902331Z",
     "iopub.status.idle": "2025-06-18T16:02:53.168973Z",
     "shell.execute_reply": "2025-06-18T16:02:53.168973Z",
     "shell.execute_reply.started": "2025-06-18T16:02:51.902331Z"
    }
   },
   "outputs": [],
   "source": [
    "# import logging\n",
    "import sys\n",
    "# stdout=sys.stdout\n",
    "sys.path.append('../../')\n",
    "import os\n",
    "import random\n",
    "import time\n",
    "\n",
    "# import matplotlib\n",
    "# import matplotlib.pyplot as plt\n",
    "# import mplfinance as mpf\n",
    "# sys.stdout=stdout\n",
    "import numpy as np\n",
    "import pandas as pd\n",
    "from JohnsonUtil import commonTips as cct\n",
    "from JohnsonUtil import johnson_cons as ct\n",
    "from JSONData import sina_data\n",
    "from JSONData import tdx_data_Day as tdd\n",
    "from JSONData import tdx_hdf5_api as h5a\n",
    "\n",
    "# from mplfinance.original_flavor import candlestick_ohlc\n",
    "# from JSONData import tdx_hdf5_api as h5a\n",
    "\n",
    "# %matplotlib widget\n",
    "# plt.rc('font', family='SimHei', size=13)\n",
    "# matplotlib.get_backend()\n",
    "# jupyter nbextension enable --py widgetsnbextension\n",
    "\n",
    "os.environ['NUMEXPR_MAX_THREADS'] = '12'\n",
    "from IPython.core.interactiveshell import InteractiveShell\n",
    "\n",
    "InteractiveShell.ast_node_interactivity = \"all\"\n",
    "import nest_asyncio\n",
    "nest_asyncio.apply()"
   ]
  },
  {
   "cell_type": "code",
   "execution_count": 2,
   "id": "2e698804",
   "metadata": {
    "ExecuteTime": {
     "end_time": "2025-06-19T12:58:58.124467Z",
     "start_time": "2025-06-19T12:58:58.087624Z"
    },
    "execution": {
     "iopub.execute_input": "2025-06-18T16:23:33.843615Z",
     "iopub.status.busy": "2025-06-18T16:23:33.843615Z",
     "iopub.status.idle": "2025-06-18T16:23:33.878520Z",
     "shell.execute_reply": "2025-06-18T16:23:33.877524Z",
     "shell.execute_reply.started": "2025-06-18T16:23:33.843615Z"
    },
    "tags": []
   },
   "outputs": [],
   "source": [
    "def show_tdx_data(df, codelist=None, market_value='3', col=None,limit=20):\n",
    "    col_src = [\n",
    "        \"name\", \"couts\", \"date\", \"perc\", \"ra_diff\",\"xratio\", \"idx\", \"hat\", \"close\",\n",
    "        \"volsum5d\", \"hmax\", \"lmin\", \"perc1d\", \"ma20\", \"ma250\", \"nclose\",\n",
    "        \"llow\", 'vol1d', 'vol2d', 'vol3d', 'vol4d', 'vol5d', \"perc%sd\" %\n",
    "        (market_value),\n",
    "        \"perc5d\"]\n",
    "\n",
    "    if isinstance(df, pd.Series):\n",
    "        col_name = [co for co in col_src if co in df.index]\n",
    "        # col_name.insert(1,'date')\n",
    "    else:\n",
    "        col_name = [co for co in col_src if co in df.columns]\n",
    "\n",
    "    # print(col_name)\n",
    "    # if isinstance(df, pd.DataFrame) and 'name' in df.columns:\n",
    "    #     columns_ = col_name\n",
    "    # else:\n",
    "    #     if isinstance(df, pd.Series) and 'name' in df.index:\n",
    "    #         columns_ = col_name.insert(1, \"date\")\n",
    "    #     else:\n",
    "    #         columns_ = col_name.remove(\"name\")\n",
    "    \n",
    "    if isinstance(col,list):\n",
    "        col_name.extend(col)\n",
    "    elif col is not None:\n",
    "        col_name.insert(4, col)\n",
    "\n",
    "    if codelist is None:\n",
    "        if isinstance(df, pd.Series):\n",
    "            print(\"Count:1\")\n",
    "            temp = df.loc[col_name][:limit]\n",
    "        else:\n",
    "            print(\"Count:%s %s\" % (df.shape))\n",
    "            temp = df.loc[:, col_name][:limit]\n",
    "    else:\n",
    "        temp = df.loc[[x for x in codelist if x in df.index], col_name][:limit]\n",
    "    return temp\n",
    "\n",
    "def clean_sina_dm(dd):\n",
    "    if (cct.get_now_time_int() > 915 and cct.get_now_time_int() < 926):\n",
    "        dd = dd[dd.close > 0]\n",
    "    else:\n",
    "        dd = dd[dd.open > 0]\n",
    "    return dd\n",
    "\n",
    "global sina_dm\n",
    "sina_dm = None\n",
    "\n",
    "\n",
    "def get_sina_data_cname(df, dm=None, index=False, realtime=False):\n",
    "    # index_status=False\n",
    "    global sina_dm\n",
    "    if dm is None:\n",
    "        if sina_dm is None:\n",
    "            dm = sina_data.Sina().market('all')\n",
    "        else:\n",
    "            dm = sina_dm.copy()\n",
    "\n",
    "    if 'ticktime' in df.columns:\n",
    "        time_l = time.mktime(dm.loc[:, 'ticktime'][-1].timetuple())\n",
    "        dur = round((time.time() - time_l) / 60, 2)\n",
    "        if dur > 5:\n",
    "            print(\"timel > 5,renew dm\")\n",
    "            dm = sina_data.Sina().market('all')\n",
    "            sina_dm = dm.copy()\n",
    "\n",
    "    if realtime:\n",
    "        print(\"compute percent\")\n",
    "        df.rename(columns={'low': 'llow',\n",
    "                  'high': 'lhigh', 'open': 'lopen'}, inplace=True)\n",
    "        if 'nclose' in dm.columns:\n",
    "            dd = cct.combine_dataFrame(\n",
    "                df, dm.loc\n",
    "                [:,\n",
    "                 ['nclose', 'close', 'name', 'open', 'high', 'low', 'llastp',\n",
    "                  'ticktime']],\n",
    "                clean=True)\n",
    "        else:\n",
    "            dd = cct.combine_dataFrame(\n",
    "                df, dm.loc\n",
    "                [:, ['close', 'name', 'open', 'high', 'low', 'llastp', 'ticktime']],\n",
    "                clean=True)\n",
    "        dd['perc'] = ((dd['close'] - dd['llastp']) / dd['llastp'] *\n",
    "                      100).map(lambda x: round(x, 2))\n",
    "        # dd = cct.combine_dataFrame(df, dm['name'])\n",
    "\n",
    "    else:\n",
    "        dd = cct.combine_dataFrame(df, dm['name'])\n",
    "    # cname = sina_data.Sina().get_code_cname(code)\n",
    "    return dd\n",
    "\n",
    "from JSONData import tdx_hdf5_api as h5a\n",
    "def get_tdx_all_from_h5(resample='d',showtable=True):\n",
    "    #sina_monitor\n",
    "    h5_fname = 'tdx_last_df'\n",
    "    resample=resample\n",
    "    if resample=='d':\n",
    "        dl='60'\n",
    "    else:\n",
    "        dl='200'\n",
    "    filter='y'\n",
    "    h5_table = 'low' + '_' + resample + '_' + str(dl) + '_' + filter + '_' + 'all'\n",
    "    h5 = h5a.load_hdf_db(h5_fname, table=h5_table,code_l=None, timelimit=False,showtable=showtable)\n",
    "    if h5 is None:\n",
    "        h5,tdx = get_append_lastp_to_df(sina_data.Sina().market('all'),dl=dl,resample=resample)\n",
    "    return h5\n",
    "\n",
    "\n",
    "def get_tdx_all_from_h5(resample='d',dl=ct.duration_date_day, end=None, ptype='low', filter='y',showtable=True):\n",
    "    if end is not None:\n",
    "        h5_table = ptype + '_' + resample + '_' + str(dl) + '_' + filter + \\\n",
    "            '_' + end.replace('-', '') + '_' + 'all'\n",
    "    else:\n",
    "        h5_table = ptype + '_' + resample + '_' + str(dl) + '_' + filter + '_' + 'all'\n",
    "    #sina_monitor\n",
    "    h5_fname = 'tdx_last_df'\n",
    "    resample=resample\n",
    "    if resample=='d' or resample=='3d':\n",
    "        dl='60'\n",
    "    elif  resample=='w':\n",
    "        dl='200'\n",
    "    else:\n",
    "        dl='300'\n",
    "    filter='y'\n",
    "    h5_table = 'low' + '_' + resample + '_' + str(dl) + '_' + filter + '_' + 'all'\n",
    "    h5 = h5a.load_hdf_db(h5_fname, table=h5_table,code_l=None, timelimit=False,showtable=showtable)\n",
    "    return h5\n",
    "\n",
    "def write_code_to_blk(codew, blk='077',rewrite=False):\n",
    "    block_path = tdd.get_tdx_dir_blocknew() + '%s.blk' % (blk)\n",
    "    write_blk = 'n'\n",
    "    if not rewrite:\n",
    "        write_blk = cct.cct_raw_input(\"write blk [Y] or [N]:\")\n",
    "        if write_blk == 'y' or write_blk == 'Y':\n",
    "            hdf5_wri = cct.cct_raw_input(\n",
    "                \"Rewrite code [Y] or append [N](defalut:N):\")\n",
    "            if hdf5_wri == 'y' or hdf5_wri == 'Y':\n",
    "                append_status = False\n",
    "            else:\n",
    "                append_status = True\n",
    "            if len(codew) > 3:\n",
    "                cct.write_to_blocknew(block_path, codew, append=append_status,\n",
    "                                      doubleFile=False, keep_last=0)\n",
    "                print(\"write:%s block_path:%s\" % (len(codew), block_path))\n",
    "            else:\n",
    "                print(\"write error:%s block_path:%s\" % (len(codew), block_path))\n",
    "    else:\n",
    "        if len(codew) > 3:\n",
    "                cct.write_to_blocknew(block_path, codew, append=False,\n",
    "                                      doubleFile=False, keep_last=0)\n",
    "                print(\"write:%s block_path:%s\" % (len(codew), block_path))\n",
    "        else:\n",
    "            print(\"write error:%s block_path:%s\" % (len(codew), block_path))\n",
    "\n",
    "def apply_col_toint(df, col=None):\n",
    "    if col is None:\n",
    "        co2int = ['boll', 'op', 'ratio', 'fib', 'fibl', 'df2']\n",
    "    # co2int.extend([co for co in df.columns.tolist()\n",
    "    #                if co.startswith('perc') and co.endswith('d')])\n",
    "        co2int.extend(['top10', 'topR'])\n",
    "    else:\n",
    "        co2int = col\n",
    "    co2int = [inx for inx in co2int if inx in df.columns]\n",
    "\n",
    "    for co in co2int:\n",
    "        df[co] = df[co].astype(int)\n",
    "\n",
    "    return df\n",
    "\n",
    "def readHdf5(fpath, root=None):\n",
    "    if not os.path.exists(fpath):\n",
    "        print(f'fpath is not exists')\n",
    "        return None\n",
    "    store = pd.HDFStore(fpath, \"r\")\n",
    "    print(store.keys())\n",
    "    if len(store.keys()) > 0 and root is None and store is not None:\n",
    "        root = store.keys()[0].replace(\"/\", \"\")\n",
    "        df = store[root]\n",
    "        df = apply_col_toint(df)\n",
    "    else:\n",
    "        df = None\n",
    "    store.close()\n",
    "    return df"
   ]
  },
  {
   "cell_type": "markdown",
   "id": "5a45d7a7",
   "metadata": {},
   "source": [
    "## init data"
   ]
  },
  {
   "cell_type": "markdown",
   "id": "ef938827",
   "metadata": {},
   "source": [
    "### get_tdx_all"
   ]
  },
  {
   "cell_type": "code",
   "execution_count": 3,
   "id": "26124559-db9b-48f7-aa4b-1a3e91ed5f8c",
   "metadata": {
    "ExecuteTime": {
     "end_time": "2025-06-19T12:59:01.121758Z",
     "start_time": "2025-06-19T12:58:58.127717Z"
    },
    "execution": {
     "iopub.execute_input": "2025-06-18T16:02:53.200862Z",
     "iopub.status.busy": "2025-06-18T16:02:53.200862Z",
     "iopub.status.idle": "2025-06-18T16:02:54.755737Z",
     "shell.execute_reply": "2025-06-18T16:02:54.755737Z",
     "shell.execute_reply.started": "2025-06-18T16:02:53.200862Z"
    }
   },
   "outputs": [
    {
     "name": "stdout",
     "output_type": "stream",
     "text": [
      "keys:['/low_d_60_y_all', '/low_m_300_y_all', '/low_w_200_y_all']\n"
     ]
    }
   ],
   "source": [
    "h5_day=get_tdx_all_from_h5(resample='d')"
   ]
  },
  {
   "cell_type": "markdown",
   "id": "2b1db239",
   "metadata": {},
   "source": [
    "### sina"
   ]
  },
  {
   "cell_type": "markdown",
   "id": "0a650384",
   "metadata": {},
   "source": [
    "### sina_all"
   ]
  },
  {
   "cell_type": "code",
   "execution_count": 4,
   "id": "eacdcd3e",
   "metadata": {
    "ExecuteTime": {
     "end_time": "2025-06-19T12:59:01.854853Z",
     "start_time": "2025-06-19T12:59:01.126010Z"
    },
    "execution": {
     "iopub.execute_input": "2025-06-18T16:02:54.757736Z",
     "iopub.status.busy": "2025-06-18T16:02:54.757736Z",
     "iopub.status.idle": "2025-06-18T16:02:55.327177Z",
     "shell.execute_reply": "2025-06-18T16:02:55.326207Z",
     "shell.execute_reply.started": "2025-06-18T16:02:54.757736Z"
    },
    "run_control": {
     "marked": true
    }
   },
   "outputs": [
    {
     "data": {
      "text/plain": [
       "('2025-06-18',\n",
       " code\n",
       " 300184    力源信息\n",
       " Name: name, dtype: object)"
      ]
     },
     "execution_count": 4,
     "metadata": {},
     "output_type": "execute_result"
    }
   ],
   "source": [
    "sina_dm = sina_data.Sina().market('all')\n",
    "lastday = cct.last_tddate()\n",
    "lastday,sina_dm.name[:1]\n",
    "sina_dm = clean_sina_dm(sina_dm)"
   ]
  },
  {
   "cell_type": "code",
   "execution_count": 5,
   "id": "0c973adf",
   "metadata": {
    "ExecuteTime": {
     "end_time": "2025-06-19T12:59:01.872913Z",
     "start_time": "2025-06-19T12:59:01.857659Z"
    },
    "execution": {
     "iopub.execute_input": "2025-06-18T16:02:55.329171Z",
     "iopub.status.busy": "2025-06-18T16:02:55.329171Z",
     "iopub.status.idle": "2025-06-18T16:02:55.357098Z",
     "shell.execute_reply": "2025-06-18T16:02:55.356100Z",
     "shell.execute_reply.started": "2025-06-18T16:02:55.329171Z"
    }
   },
   "outputs": [
    {
     "data": {
      "text/plain": [
       "'2025-06/19/25 20:59:01'"
      ]
     },
     "execution_count": 5,
     "metadata": {},
     "output_type": "execute_result"
    },
    {
     "data": {
      "text/plain": [
       "code\n",
       "300374   2025-06-19 15:35:30\n",
       "600967   2025-06-19 15:00:00\n",
       "Name: ticktime, dtype: datetime64[ns]"
      ]
     },
     "execution_count": 5,
     "metadata": {},
     "output_type": "execute_result"
    },
    {
     "data": {
      "text/plain": [
       "359.03113781611125"
      ]
     },
     "execution_count": 5,
     "metadata": {},
     "output_type": "execute_result"
    }
   ],
   "source": [
    "cct.get_time_to_date(time.time(), format='%Y-%D %H:%M:%S')\n",
    "\n",
    "# abc=dm.loc[:,'ticktime'][-1]\n",
    "sina_dm.ticktime[-2:]\n",
    "# dm.ticktime[:1]\n",
    "# sina_dm.loc[:, 'ticktime'][-1]\n",
    "# time.strptime(abc,format='%Y-%m-%d %H:%M:%S')\n",
    "# (time.mktime(abc.timetuple()))\n",
    "(time.time() - time.mktime(sina_dm.loc[:, 'ticktime'][-1].timetuple())) / 60"
   ]
  },
  {
   "cell_type": "markdown",
   "id": "8e36c9a3",
   "metadata": {},
   "source": [
    "#### 实时成交"
   ]
  },
  {
   "cell_type": "code",
   "execution_count": 6,
   "id": "a38f56d8",
   "metadata": {
    "ExecuteTime": {
     "end_time": "2025-06-19T12:59:01.896191Z",
     "start_time": "2025-06-19T12:59:01.876400Z"
    },
    "execution": {
     "iopub.execute_input": "2025-06-18T16:09:17.215633Z",
     "iopub.status.busy": "2025-06-18T16:09:17.214603Z",
     "iopub.status.idle": "2025-06-18T16:09:17.236544Z",
     "shell.execute_reply": "2025-06-18T16:09:17.235547Z",
     "shell.execute_reply.started": "2025-06-18T16:09:17.215633Z"
    },
    "tags": []
   },
   "outputs": [
    {
     "name": "stdout",
     "output_type": "stream",
     "text": [
      "sina_MultiD_path:/Volumes/RamDisk/sina_MultiIndex_data.h5\n",
      "[]\n",
      "/Volumes/RamDisk/sina_MultiIndex_data.h5\n"
     ]
    }
   ],
   "source": [
    "# tdx_path = \"G:\\\\tdx_last_df.h5\"\n",
    "# from JohnsonUtil import commonTips as cct\n",
    "sina_MultiD_path = f\"{cct.get_ramdisk_dir()}\\\\sina_MultiIndex_data.h5\".replace('\\\\',os.sep)\n",
    "print(f'sina_MultiD_path:{sina_MultiD_path}')\n",
    "h5 = readHdf5(sina_MultiD_path)\n",
    "print(sina_MultiD_path)\n",
    "if h5 is not None:\n",
    "    h5.shape\n",
    "    h5code='603019'\n",
    "    h5.loc[h5code][-3:]\n",
    "    code_muti = '603019'\n",
    "    # h5.loc[code_muti][:2]\n",
    "\n",
    "    freq = 'D'\n",
    "    # freq = '5M'\n",
    "    startime = '09:25:00'\n",
    "    endtime = '15:01:00'\n",
    "\n",
    "    time_ratio = cct.get_work_time_ratio()\n",
    "    time_ratio\n",
    "    run_col = ['close', 'volume']\n",
    "    # run_col = ['close']\n",
    "    mdf = cct.get_limit_multiIndex_freq(\n",
    "        h5, freq=freq.upper(),\n",
    "        col=run_col, start=startime, end=endtime, code=None)\n",
    "    allvol = mdf.volume.sum()\n",
    "    allvol = round(allvol / 10 / 1000 / 1000,2)\n",
    "    print(\"总量:%s 亿\"%(allvol))\n",
    "    mdf['vol']=mdf['volume'].apply(lambda x: round(x /1000/1000,2)) \n",
    "    mdf['amount']=(mdf.volume * mdf.close).map(lambda x: round(x/100/1000/1000, 2))\n",
    "    #全局占比\n",
    "    mdf['volume'] = mdf.amount.apply(\n",
    "        lambda x: round(x / allvol * 100 / time_ratio, 2))\n",
    "    mdf=mdf.reset_index().set_index('code')\n",
    "    mdf.loc[h5code]\n",
    "    str(h5.index.get_level_values(1)[-1])[:10]\n",
    "else:\n",
    "    mdf = None"
   ]
  },
  {
   "cell_type": "markdown",
   "id": "611dc8ac",
   "metadata": {},
   "source": [
    "#### 读取实时成交个股"
   ]
  },
  {
   "cell_type": "code",
   "execution_count": 7,
   "id": "203b1873",
   "metadata": {
    "ExecuteTime": {
     "end_time": "2025-06-19T12:59:01.908849Z",
     "start_time": "2025-06-19T12:59:01.902654Z"
    },
    "execution": {
     "iopub.status.busy": "2025-06-18T16:02:55.885713Z",
     "iopub.status.idle": "2025-06-18T16:02:55.885713Z",
     "shell.execute_reply": "2025-06-18T16:02:55.885713Z",
     "shell.execute_reply.started": "2025-06-18T16:02:55.885713Z"
    },
    "lang": "en"
   },
   "outputs": [],
   "source": [
    "if mdf is not None:\n",
    "    nowdf = mdf.sort_values(by=['volume'], ascending=[0])\n",
    "    # nowdf.shape, df.shape, code_idx.shape\n",
    "    # top20_nd = nowdf.reset_index().loc[:, ['code', 'volume']][:20]\n",
    "    top20_nd = nowdf.reset_index().loc[:, ['code', 'volume']][:20]\n",
    "    top20_nd = get_sina_data_cname(top20_nd)\n",
    "    nowdf.shape, top20_nd"
   ]
  },
  {
   "cell_type": "markdown",
   "id": "7c81f9f6",
   "metadata": {},
   "source": [
    "##### 合并实时成交量及SinaDM"
   ]
  },
  {
   "cell_type": "code",
   "execution_count": 8,
   "id": "130319a8",
   "metadata": {
    "ExecuteTime": {
     "end_time": "2025-06-19T12:59:01.920757Z",
     "start_time": "2025-06-19T12:59:01.911601Z"
    },
    "execution": {
     "iopub.execute_input": "2025-06-18T16:10:50.070366Z",
     "iopub.status.busy": "2025-06-18T16:10:50.070366Z",
     "iopub.status.idle": "2025-06-18T16:10:50.091310Z",
     "shell.execute_reply": "2025-06-18T16:10:50.090312Z",
     "shell.execute_reply.started": "2025-06-18T16:10:50.070366Z"
    },
    "tags": []
   },
   "outputs": [],
   "source": [
    "# mdf[:1]\n",
    "if mdf is not None:\n",
    "    sinadm = cct.combine_dataFrame(sina_dm, mdf[['vol','amount']])\n",
    "else:\n",
    "    sinadm = sina_dm\n",
    "sinadm['percent']=((sinadm['close']-sinadm['llastp'])/(sinadm['llastp'])*100).round(1)\n"
   ]
  },
  {
   "cell_type": "markdown",
   "id": "5e811e71",
   "metadata": {},
   "source": [
    "## resample 多周期"
   ]
  },
  {
   "cell_type": "markdown",
   "id": "d02d9218",
   "metadata": {},
   "source": [
    "### resample 3d"
   ]
  },
  {
   "cell_type": "code",
   "execution_count": 9,
   "id": "cc7efd64",
   "metadata": {
    "ExecuteTime": {
     "end_time": "2025-06-19T12:59:02.243541Z",
     "start_time": "2025-06-19T12:59:01.924988Z"
    },
    "execution": {
     "iopub.execute_input": "2025-06-18T16:17:18.859847Z",
     "iopub.status.busy": "2025-06-18T16:17:18.859847Z",
     "iopub.status.idle": "2025-06-18T16:17:20.315955Z",
     "shell.execute_reply": "2025-06-18T16:17:20.314997Z",
     "shell.execute_reply.started": "2025-06-18T16:17:18.859847Z"
    },
    "tags": []
   },
   "outputs": [
    {
     "name": "stderr",
     "output_type": "stream",
     "text": [
      "[2025-06-19 20:59:01,942] ERROR:tdx_hdf5_api.py(load_hdf_db:842): tdx_last_df is not find low_3d_60_y_all\n"
     ]
    },
    {
     "name": "stdout",
     "output_type": "stream",
     "text": [
      "keys:['/low_d_60_y_all', '/low_m_300_y_all', '/low_w_200_y_all']\n"
     ]
    },
    {
     "ename": "AttributeError",
     "evalue": "'NoneType' object has no attribute 'columns'",
     "output_type": "error",
     "traceback": [
      "\u001b[0;31m---------------------------------------------------------------------------\u001b[0m",
      "\u001b[0;31mAttributeError\u001b[0m                            Traceback (most recent call last)",
      "\u001b[0;32m/var/folders/7f/spryjd9n3qd9hsrgqjhyqn000000gp/T/ipykernel_5378/1641508854.py\u001b[0m in \u001b[0;36m<module>\u001b[0;34m\u001b[0m\n\u001b[1;32m      1\u001b[0m \u001b[0mh5_3d\u001b[0m \u001b[0;34m=\u001b[0m \u001b[0mget_tdx_all_from_h5\u001b[0m\u001b[0;34m(\u001b[0m\u001b[0mresample\u001b[0m\u001b[0;34m=\u001b[0m\u001b[0;34m'3d'\u001b[0m\u001b[0;34m)\u001b[0m\u001b[0;34m\u001b[0m\u001b[0;34m\u001b[0m\u001b[0m\n\u001b[0;32m----> 2\u001b[0;31m \u001b[0mtdx_3d\u001b[0m \u001b[0;34m=\u001b[0m \u001b[0mcct\u001b[0m\u001b[0;34m.\u001b[0m\u001b[0mcombine_dataFrame\u001b[0m\u001b[0;34m(\u001b[0m\u001b[0mh5_3d\u001b[0m\u001b[0;34m,\u001b[0m\u001b[0msinadm\u001b[0m\u001b[0;34m)\u001b[0m\u001b[0;34m\u001b[0m\u001b[0;34m\u001b[0m\u001b[0m\n\u001b[0m",
      "\u001b[0;32m~/Documents/Quant/pyQuant3/stock/jupyterAlgo/Quant2023/../../JohnsonUtil/commonTips.py\u001b[0m in \u001b[0;36mcombine_dataFrame\u001b[0;34m(maindf, subdf, col, compare, append, clean)\u001b[0m\n\u001b[1;32m   5345\u001b[0m     \u001b[0;32mif\u001b[0m \u001b[0;34m(\u001b[0m\u001b[0misinstance\u001b[0m\u001b[0;34m(\u001b[0m\u001b[0msubdf\u001b[0m\u001b[0;34m,\u001b[0m\u001b[0mpd\u001b[0m\u001b[0;34m.\u001b[0m\u001b[0mSeries\u001b[0m\u001b[0;34m)\u001b[0m\u001b[0;34m)\u001b[0m\u001b[0;34m:\u001b[0m\u001b[0;34m\u001b[0m\u001b[0;34m\u001b[0m\u001b[0m\n\u001b[1;32m   5346\u001b[0m         \u001b[0msubdf\u001b[0m \u001b[0;34m=\u001b[0m \u001b[0msubdf\u001b[0m\u001b[0;34m.\u001b[0m\u001b[0mto_frame\u001b[0m\u001b[0;34m(\u001b[0m\u001b[0;34m)\u001b[0m\u001b[0;34m\u001b[0m\u001b[0;34m\u001b[0m\u001b[0m\n\u001b[0;32m-> 5347\u001b[0;31m     \u001b[0mmaindf_co\u001b[0m \u001b[0;34m=\u001b[0m \u001b[0mmaindf\u001b[0m\u001b[0;34m.\u001b[0m\u001b[0mcolumns\u001b[0m\u001b[0;34m\u001b[0m\u001b[0;34m\u001b[0m\u001b[0m\n\u001b[0m\u001b[1;32m   5348\u001b[0m     \u001b[0msubdf_co\u001b[0m \u001b[0;34m=\u001b[0m \u001b[0msubdf\u001b[0m\u001b[0;34m.\u001b[0m\u001b[0mcolumns\u001b[0m\u001b[0;34m\u001b[0m\u001b[0;34m\u001b[0m\u001b[0m\n\u001b[1;32m   5349\u001b[0m     \u001b[0mmaindf\u001b[0m \u001b[0;34m=\u001b[0m \u001b[0mmaindf\u001b[0m\u001b[0;34m.\u001b[0m\u001b[0mfillna\u001b[0m\u001b[0;34m(\u001b[0m\u001b[0;36m0\u001b[0m\u001b[0;34m)\u001b[0m\u001b[0;34m\u001b[0m\u001b[0;34m\u001b[0m\u001b[0m\n",
      "\u001b[0;31mAttributeError\u001b[0m: 'NoneType' object has no attribute 'columns'"
     ]
    }
   ],
   "source": [
    "h5_3d = get_tdx_all_from_h5(resample='3d')\n",
    "tdx_3d = cct.combine_dataFrame(h5_3d,sinadm)"
   ]
  },
  {
   "cell_type": "code",
   "execution_count": null,
   "id": "dd30f5cf",
   "metadata": {
    "ExecuteTime": {
     "end_time": "2025-06-19T12:59:02.247813Z",
     "start_time": "2025-06-19T12:59:02.247786Z"
    }
   },
   "outputs": [],
   "source": [
    "tdx_3d.loc['000002'].close"
   ]
  },
  {
   "cell_type": "code",
   "execution_count": null,
   "id": "51e3d74c",
   "metadata": {
    "ExecuteTime": {
     "end_time": "2025-06-19T12:59:02.250419Z",
     "start_time": "2025-06-19T12:59:02.250392Z"
    },
    "execution": {
     "iopub.execute_input": "2025-06-18T16:17:21.288746Z",
     "iopub.status.busy": "2025-06-18T16:17:21.288746Z",
     "iopub.status.idle": "2025-06-18T16:17:21.319691Z",
     "shell.execute_reply": "2025-06-18T16:17:21.319691Z",
     "shell.execute_reply.started": "2025-06-18T16:17:21.288746Z"
    },
    "scrolled": true,
    "tags": []
   },
   "outputs": [],
   "source": [
    "tdx_3d.shape\n",
    "# tdx_now.query('close >  lastp1d  and lastl1d < ma51d and close > ma51d and lastp1d < upper and lastp1d > lastp2d and lasth1d >high4 and boll > 0 and volume < 1')\n",
    "# tdx_select = tdx_3d.query('close > lastp1d and percent < 3')\n",
    "# tdx_select = tdx_3d.query('lastp1d > lastp2d > lastp3d and lasth1d > upper1 and lasth2d > upper2 and lasth3d > upper3')\n",
    "# tdx_select = tdx_3d.query('lastp1d > lastp2d  and lasth2d > lasth3d and (lasth2d > upper2 or lasth3d > upper3) and lasth2d < hmax')\n",
    "tdx_select = tdx_3d.query('lastp1d > lastp2d  and lasth2d > lasth3d and lasth3d > lasth4d and lastl1d > lastl2d and lastl2d > lastl3d')\n",
    "\n",
    "show_tdx_data(tdx_select,limit=10)"
   ]
  },
  {
   "cell_type": "code",
   "execution_count": null,
   "id": "3e9533b9",
   "metadata": {
    "ExecuteTime": {
     "end_time": "2025-06-19T12:59:02.252408Z",
     "start_time": "2025-06-19T12:59:02.252384Z"
    },
    "execution": {
     "iopub.execute_input": "2025-06-18T16:17:22.649509Z",
     "iopub.status.busy": "2025-06-18T16:17:22.649509Z",
     "iopub.status.idle": "2025-06-18T16:17:22.665507Z",
     "shell.execute_reply": "2025-06-18T16:17:22.664504Z",
     "shell.execute_reply.started": "2025-06-18T16:17:22.649509Z"
    },
    "tags": []
   },
   "outputs": [],
   "source": [
    "# t3d_code = tdx_3d.query('lasth1d > lasth2d > lasth3d and close >= high4')\n",
    "tdx_3d.shape\n",
    "t3d_code = tdx_3d.query('lastp1d > lastp2d > lastp3d and lasth1d > upper1 and lasth2d > upper2 and lasth3d > upper3')\n",
    "show_tdx_data(t3d_code)"
   ]
  },
  {
   "cell_type": "markdown",
   "id": "81ea8f45",
   "metadata": {},
   "source": [
    "### resample W"
   ]
  },
  {
   "cell_type": "code",
   "execution_count": null,
   "id": "07310ac1",
   "metadata": {
    "ExecuteTime": {
     "end_time": "2025-06-19T12:59:02.254289Z",
     "start_time": "2025-06-19T12:59:02.254264Z"
    },
    "execution": {
     "iopub.execute_input": "2025-06-18T16:18:19.431895Z",
     "iopub.status.busy": "2025-06-18T16:18:19.430898Z",
     "iopub.status.idle": "2025-06-18T16:18:20.876035Z",
     "shell.execute_reply": "2025-06-18T16:18:20.875337Z",
     "shell.execute_reply.started": "2025-06-18T16:18:19.431895Z"
    },
    "tags": []
   },
   "outputs": [],
   "source": [
    "h5_w = get_tdx_all_from_h5(resample='w')\n",
    "tdx_w = cct.combine_dataFrame(h5_w,sinadm)"
   ]
  },
  {
   "cell_type": "code",
   "execution_count": null,
   "id": "71f866f2",
   "metadata": {
    "ExecuteTime": {
     "end_time": "2025-06-19T12:59:02.257448Z",
     "start_time": "2025-06-19T12:59:02.257420Z"
    },
    "execution": {
     "iopub.execute_input": "2025-06-18T16:18:20.914931Z",
     "iopub.status.busy": "2025-06-18T16:18:20.913932Z",
     "iopub.status.idle": "2025-06-18T16:18:20.953825Z",
     "shell.execute_reply": "2025-06-18T16:18:20.952831Z",
     "shell.execute_reply.started": "2025-06-18T16:18:20.914931Z"
    },
    "tags": []
   },
   "outputs": [],
   "source": [
    "tdx_w.shape\n",
    "# tdx_now.query('close >  lastp1d  and lastl1d < ma51d and close > ma51d and lastp1d < upper and lastp1d > lastp2d and lasth1d >high4 and boll > 0 and volume < 1')\n",
    "# tdx_select_w = tdx_w.query('lasth1d > lasth2d and lasth2d >lasth3d and lasth2d > upper1')\n",
    "# show_tdx_data(tdx_select_w)"
   ]
  },
  {
   "cell_type": "code",
   "execution_count": null,
   "id": "8c7f50c7",
   "metadata": {
    "ExecuteTime": {
     "end_time": "2025-06-19T12:59:02.259134Z",
     "start_time": "2025-06-19T12:59:02.259112Z"
    },
    "execution": {
     "iopub.execute_input": "2025-06-18T16:18:25.318247Z",
     "iopub.status.busy": "2025-06-18T16:18:25.317206Z",
     "iopub.status.idle": "2025-06-18T16:18:25.355104Z",
     "shell.execute_reply": "2025-06-18T16:18:25.354106Z",
     "shell.execute_reply.started": "2025-06-18T16:18:25.318247Z"
    },
    "scrolled": true,
    "tags": []
   },
   "outputs": [],
   "source": [
    "# tw_code = tdx_w.query('lasth1d > lasth2d > lasth3d and close >= high4')\n",
    "# tw_code = tdx_w.query('lasth1d > lasth2d and lasth2d >lasth3d and lasth2d > upper1')\n",
    "tw_code = tdx_w.query ('lastp1d > lastp2d and lasth2d > lasth3d and lastl2d > lastl3d and lastp1d > ma51d')\n",
    "show_tdx_data(tw_code,limit=10)"
   ]
  },
  {
   "cell_type": "markdown",
   "id": "a1f7e30c",
   "metadata": {},
   "source": [
    "### resample M"
   ]
  },
  {
   "cell_type": "code",
   "execution_count": null,
   "id": "58bbd8dc",
   "metadata": {
    "ExecuteTime": {
     "end_time": "2025-06-19T12:59:02.261609Z",
     "start_time": "2025-06-19T12:59:02.261580Z"
    },
    "execution": {
     "iopub.execute_input": "2025-06-18T16:18:28.097160Z",
     "iopub.status.busy": "2025-06-18T16:18:28.096164Z",
     "iopub.status.idle": "2025-06-18T16:18:29.560286Z",
     "shell.execute_reply": "2025-06-18T16:18:29.560286Z",
     "shell.execute_reply.started": "2025-06-18T16:18:28.097160Z"
    },
    "tags": []
   },
   "outputs": [],
   "source": [
    "h5_m = get_tdx_all_from_h5(resample='m')\n",
    "tdx_m = cct.combine_dataFrame(h5_m,sinadm)"
   ]
  },
  {
   "cell_type": "code",
   "execution_count": null,
   "id": "ef69f616",
   "metadata": {
    "ExecuteTime": {
     "end_time": "2025-06-19T12:59:02.264314Z",
     "start_time": "2025-06-19T12:59:02.264257Z"
    },
    "execution": {
     "iopub.execute_input": "2025-06-18T16:18:29.609118Z",
     "iopub.status.busy": "2025-06-18T16:18:29.609118Z",
     "iopub.status.idle": "2025-06-18T16:18:29.654000Z",
     "shell.execute_reply": "2025-06-18T16:18:29.653011Z",
     "shell.execute_reply.started": "2025-06-18T16:18:29.609118Z"
    },
    "tags": []
   },
   "outputs": [],
   "source": [
    "# tm_code = tdx_m.query('lastp1d > lastp2d and lasth2d > lasth3d and lastp1d > ma51d')\n",
    "tm_code = tdx_m.query('lastp1d > lastp2d and lasth2d > lasth3d and lastl2d > lastl3d and lastp1d > ma51d')\n",
    "show_tdx_data(tm_code)"
   ]
  },
  {
   "cell_type": "markdown",
   "id": "14d02e0c",
   "metadata": {},
   "source": [
    "### resample D"
   ]
  },
  {
   "cell_type": "code",
   "execution_count": null,
   "id": "4406acdc",
   "metadata": {
    "ExecuteTime": {
     "end_time": "2025-06-19T12:59:02.266594Z",
     "start_time": "2025-06-19T12:59:02.266512Z"
    },
    "execution": {
     "iopub.execute_input": "2025-06-18T16:18:40.720807Z",
     "iopub.status.busy": "2025-06-18T16:18:40.720807Z",
     "iopub.status.idle": "2025-06-18T16:18:42.162950Z",
     "shell.execute_reply": "2025-06-18T16:18:42.162242Z",
     "shell.execute_reply.started": "2025-06-18T16:18:40.720807Z"
    },
    "tags": []
   },
   "outputs": [],
   "source": [
    "h5_d = get_tdx_all_from_h5(resample='d')\n",
    "tdx_d = cct.combine_dataFrame(h5_d,sinadm)"
   ]
  },
  {
   "cell_type": "code",
   "execution_count": null,
   "id": "22c03d97",
   "metadata": {
    "ExecuteTime": {
     "end_time": "2025-06-19T12:59:02.269102Z",
     "start_time": "2025-06-19T12:59:02.269073Z"
    },
    "execution": {
     "iopub.execute_input": "2025-06-18T16:18:42.224969Z",
     "iopub.status.busy": "2025-06-18T16:18:42.224969Z",
     "iopub.status.idle": "2025-06-18T16:18:42.272842Z",
     "shell.execute_reply": "2025-06-18T16:18:42.270849Z",
     "shell.execute_reply.started": "2025-06-18T16:18:42.224969Z"
    },
    "scrolled": true,
    "tags": []
   },
   "outputs": [],
   "source": [
    "# td_code = tdx_d.query('lasth1d > lasth2d > lasth3d and close >= high4')\n",
    "# td_code = tdx_d.query('ma51d > ma10d and ral > 3 and lastp1d >ma20d and low > lastl1d and vol > 2' )\n",
    "td_code = tdx_d.query('lastp1d > lastp2d  and lasth1d > lasth2d and lasth2d > lasth3d and lastl1d > lastl2d and lastl2d > lastl3d and close > open')\n",
    "show_tdx_data(td_code,limit=10)\n",
    "if len(td_code) < 30:\n",
    "    write_code_to_blk(td_code.index,'065',rewrite=True)"
   ]
  },
  {
   "cell_type": "code",
   "execution_count": null,
   "id": "4a919703",
   "metadata": {
    "ExecuteTime": {
     "end_time": "2025-06-19T12:59:02.272758Z",
     "start_time": "2025-06-19T12:59:02.272719Z"
    }
   },
   "outputs": [],
   "source": [
    "'002476' in td_code"
   ]
  },
  {
   "cell_type": "code",
   "execution_count": null,
   "id": "f4919a87",
   "metadata": {
    "ExecuteTime": {
     "end_time": "2025-06-19T12:59:02.275599Z",
     "start_time": "2025-06-19T12:59:02.275568Z"
    },
    "execution": {
     "iopub.execute_input": "2025-06-18T16:18:42.409477Z",
     "iopub.status.busy": "2025-06-18T16:18:42.408479Z",
     "iopub.status.idle": "2025-06-18T16:18:42.424436Z",
     "shell.execute_reply": "2025-06-18T16:18:42.424436Z",
     "shell.execute_reply.started": "2025-06-18T16:18:42.409477Z"
    },
    "tags": []
   },
   "outputs": [],
   "source": [
    "code_f=  list(set(tm_code.index) & set(tw_code.index) & set(t3d_code.index)  & set(td_code.index))"
   ]
  },
  {
   "cell_type": "markdown",
   "id": "4971264f",
   "metadata": {
    "run_control": {
     "marked": true
    }
   },
   "source": [
    "### check data"
   ]
  },
  {
   "cell_type": "code",
   "execution_count": null,
   "id": "95ffd469",
   "metadata": {
    "ExecuteTime": {
     "end_time": "2025-06-19T12:59:02.279093Z",
     "start_time": "2025-06-19T12:59:02.279026Z"
    }
   },
   "outputs": [],
   "source": [
    "code_check = [co for co in code_f if co in tdx_3d.index]\n",
    "len(code_check)"
   ]
  },
  {
   "cell_type": "code",
   "execution_count": null,
   "id": "39c1fcd2",
   "metadata": {
    "ExecuteTime": {
     "end_time": "2025-06-19T12:59:02.283116Z",
     "start_time": "2025-06-19T12:59:02.283083Z"
    },
    "execution": {
     "iopub.execute_input": "2025-06-18T16:18:43.739236Z",
     "iopub.status.busy": "2025-06-18T16:18:43.739236Z",
     "iopub.status.idle": "2025-06-18T16:18:43.759181Z",
     "shell.execute_reply": "2025-06-18T16:18:43.758212Z",
     "shell.execute_reply.started": "2025-06-18T16:18:43.739236Z"
    },
    "tags": []
   },
   "outputs": [],
   "source": [
    "show_tdx_data(td_code.loc[code_f])"
   ]
  },
  {
   "cell_type": "markdown",
   "id": "b6e4f618-d3cb-43bb-b592-60e54a84aba5",
   "metadata": {},
   "source": [
    "### Write toblk"
   ]
  },
  {
   "cell_type": "code",
   "execution_count": null,
   "id": "19ab69a9-1482-4b80-9fb6-20f751e8d885",
   "metadata": {
    "ExecuteTime": {
     "end_time": "2025-06-19T12:59:02.286471Z",
     "start_time": "2025-06-19T12:59:02.286438Z"
    },
    "execution": {
     "iopub.execute_input": "2025-06-18T16:27:22.851545Z",
     "iopub.status.busy": "2025-06-18T16:27:22.851545Z",
     "iopub.status.idle": "2025-06-18T16:27:27.576986Z",
     "shell.execute_reply": "2025-06-18T16:27:27.575991Z",
     "shell.execute_reply.started": "2025-06-18T16:27:22.851545Z"
    },
    "tags": []
   },
   "outputs": [],
   "source": [
    "# write_code_to_blk(code_f,'077',rewrite=False)"
   ]
  },
  {
   "cell_type": "code",
   "execution_count": null,
   "id": "1903b698-b6da-4396-bda3-61ceda41d88f",
   "metadata": {},
   "outputs": [],
   "source": []
  }
 ],
 "metadata": {
  "kernelspec": {
   "display_name": "Python 3",
   "language": "python",
   "name": "python3"
  },
  "language_info": {
   "codemirror_mode": {
    "name": "ipython",
    "version": 3
   },
   "file_extension": ".py",
   "mimetype": "text/x-python",
   "name": "python",
   "nbconvert_exporter": "python",
   "pygments_lexer": "ipython3",
   "version": "3.9.13"
  },
  "nbTranslate": {
   "displayLangs": [
    "zh-tw"
   ],
   "hotkey": "alt-t",
   "langInMainMenu": true,
   "sourceLang": "en",
   "targetLang": "zh-tw",
   "useGoogleTranslate": true
  },
  "toc": {
   "base_numbering": 1,
   "nav_menu": {},
   "number_sections": true,
   "sideBar": true,
   "skip_h1_title": false,
   "title_cell": "Table of Contents",
   "title_sidebar": "Contents",
   "toc_cell": false,
   "toc_position": {
    "height": "calc(100% - 180px)",
    "left": "10px",
    "top": "150px",
    "width": "223.067px"
   },
   "toc_section_display": true,
   "toc_window_display": true
  }
 },
 "nbformat": 4,
 "nbformat_minor": 5
}
