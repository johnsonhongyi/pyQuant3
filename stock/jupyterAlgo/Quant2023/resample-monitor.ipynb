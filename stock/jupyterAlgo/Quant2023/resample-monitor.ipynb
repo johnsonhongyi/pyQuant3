{
 "cells": [
  {
   "cell_type": "markdown",
   "id": "76010d4d",
   "metadata": {},
   "source": [
    "# import 定义"
   ]
  },
  {
   "cell_type": "code",
   "execution_count": 2,
   "id": "a547812c-f835-4e27-ac46-12430da81ca1",
   "metadata": {
    "ExecuteTime": {
     "end_time": "2025-06-16T00:27:25.910317Z",
     "start_time": "2025-06-16T00:27:24.313467Z"
    },
    "cell_style": "center",
    "execution": {
     "iopub.execute_input": "2025-06-13T12:00:02.297784Z",
     "iopub.status.busy": "2025-06-13T12:00:02.297784Z",
     "iopub.status.idle": "2025-06-13T12:00:03.440785Z",
     "shell.execute_reply": "2025-06-13T12:00:03.438837Z",
     "shell.execute_reply.started": "2025-06-13T12:00:02.297784Z"
    }
   },
   "outputs": [],
   "source": [
    "# import logging\n",
    "import sys\n",
    "# stdout=sys.stdout\n",
    "sys.path.append('../../')\n",
    "import os\n",
    "import random\n",
    "import time\n",
    "\n",
    "# import matplotlib\n",
    "# import matplotlib.pyplot as plt\n",
    "# import mplfinance as mpf\n",
    "# sys.stdout=stdout\n",
    "import numpy as np\n",
    "import pandas as pd\n",
    "from JohnsonUtil import commonTips as cct\n",
    "from JohnsonUtil import johnson_cons as ct\n",
    "from JSONData import sina_data\n",
    "from JSONData import tdx_data_Day as tdd\n",
    "# from mplfinance.original_flavor import candlestick_ohlc\n",
    "# from JSONData import tdx_hdf5_api as h5a\n",
    "\n",
    "# %matplotlib widget\n",
    "# plt.rc('font', family='SimHei', size=13)\n",
    "# matplotlib.get_backend()\n",
    "# jupyter nbextension enable --py widgetsnbextension\n",
    "\n",
    "os.environ['NUMEXPR_MAX_THREADS'] = '12'\n",
    "from IPython.core.interactiveshell import InteractiveShell\n",
    "\n",
    "InteractiveShell.ast_node_interactivity = \"all\"\n",
    "import nest_asyncio\n",
    "nest_asyncio.apply()"
   ]
  },
  {
   "cell_type": "markdown",
   "id": "5a45d7a7",
   "metadata": {},
   "source": [
    "## init data"
   ]
  },
  {
   "cell_type": "markdown",
   "id": "ef938827",
   "metadata": {},
   "source": [
    "### get_tdx_all"
   ]
  },
  {
   "cell_type": "code",
   "execution_count": 9,
   "id": "a1f720e3-33e9-4f1c-b767-fb4c68dc39ef",
   "metadata": {
    "ExecuteTime": {
     "end_time": "2025-06-16T00:28:14.591980Z",
     "start_time": "2025-06-16T00:28:14.582746Z"
    },
    "execution": {
     "iopub.execute_input": "2025-06-13T12:00:03.456736Z",
     "iopub.status.busy": "2025-06-13T12:00:03.455739Z",
     "iopub.status.idle": "2025-06-13T12:00:03.469702Z",
     "shell.execute_reply": "2025-06-13T12:00:03.469702Z",
     "shell.execute_reply.started": "2025-06-13T12:00:03.456736Z"
    }
   },
   "outputs": [],
   "source": [
    "from JSONData import tdx_hdf5_api as h5a\n",
    "def get_tdx_all_from_h5(resample='d',dl=ct.duration_date_day, end=None, ptype='low', filter='y',showtable=True):\n",
    "    if end is not None:\n",
    "        h5_table = ptype + '_' + resample + '_' + str(dl) + '_' + filter + \\\n",
    "            '_' + end.replace('-', '') + '_' + 'all'\n",
    "    else:\n",
    "        h5_table = ptype + '_' + resample + '_' + str(dl) + '_' + filter + '_' + 'all'\n",
    "    #sina_monitor\n",
    "    h5_fname = 'tdx_last_df'\n",
    "    resample=resample\n",
    "    if resample=='d' or resample=='3d':\n",
    "        dl='60'\n",
    "    else:\n",
    "        dl='200'\n",
    "    filter='y'\n",
    "    h5_table = 'low' + '_' + resample + '_' + str(dl) + '_' + filter + '_' + 'all'\n",
    "    h5 = h5a.load_hdf_db(h5_fname, table=h5_table,code_l=None, timelimit=False,showtable=showtable)\n",
    "    return h5"
   ]
  },
  {
   "cell_type": "code",
   "execution_count": 10,
   "id": "26124559-db9b-48f7-aa4b-1a3e91ed5f8c",
   "metadata": {
    "ExecuteTime": {
     "end_time": "2025-06-16T00:28:17.576686Z",
     "start_time": "2025-06-16T00:28:15.219050Z"
    }
   },
   "outputs": [
    {
     "name": "stdout",
     "output_type": "stream",
     "text": [
      "keys:['/low_3d_60_y_all', '/low_d_60_y_all', '/low_m_300_y_all', '/low_w_200_y_all']\n"
     ]
    }
   ],
   "source": [
    "h5_day=get_tdx_all_from_h5(resample='d')"
   ]
  },
  {
   "cell_type": "markdown",
   "id": "81ea8f45",
   "metadata": {},
   "source": [
    "## resample 3D"
   ]
  },
  {
   "cell_type": "code",
   "execution_count": 11,
   "id": "07310ac1",
   "metadata": {
    "ExecuteTime": {
     "end_time": "2025-06-16T00:28:20.249420Z",
     "start_time": "2025-06-16T00:28:17.579147Z"
    }
   },
   "outputs": [
    {
     "name": "stdout",
     "output_type": "stream",
     "text": [
      "keys:['/low_3d_60_y_all', '/low_d_60_y_all', '/low_m_300_y_all', '/low_w_200_y_all']\n"
     ]
    }
   ],
   "source": [
    "h5_day_3d=get_tdx_all_from_h5(resample='3d')"
   ]
  },
  {
   "cell_type": "code",
   "execution_count": null,
   "id": "e23454d5",
   "metadata": {},
   "outputs": [],
   "source": []
  }
 ],
 "metadata": {
  "kernelspec": {
   "display_name": "Python 3",
   "language": "python",
   "name": "python3"
  },
  "language_info": {
   "codemirror_mode": {
    "name": "ipython",
    "version": 3
   },
   "file_extension": ".py",
   "mimetype": "text/x-python",
   "name": "python",
   "nbconvert_exporter": "python",
   "pygments_lexer": "ipython3",
   "version": "3.9.13"
  },
  "nbTranslate": {
   "displayLangs": [
    "*"
   ],
   "hotkey": "alt-t",
   "langInMainMenu": true,
   "sourceLang": "en",
   "targetLang": "fr",
   "useGoogleTranslate": true
  },
  "toc": {
   "base_numbering": 1,
   "nav_menu": {},
   "number_sections": true,
   "sideBar": true,
   "skip_h1_title": false,
   "title_cell": "Table of Contents",
   "title_sidebar": "Contents",
   "toc_cell": false,
   "toc_position": {},
   "toc_section_display": true,
   "toc_window_display": true
  }
 },
 "nbformat": 4,
 "nbformat_minor": 5
}
