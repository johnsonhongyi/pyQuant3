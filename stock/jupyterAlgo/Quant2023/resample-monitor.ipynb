{
 "cells": [
  {
   "cell_type": "code",
   "execution_count": 1,
   "id": "a547812c-f835-4e27-ac46-12430da81ca1",
   "metadata": {
    "execution": {
     "iopub.execute_input": "2025-06-13T12:00:02.297784Z",
     "iopub.status.busy": "2025-06-13T12:00:02.297784Z",
     "iopub.status.idle": "2025-06-13T12:00:03.440785Z",
     "shell.execute_reply": "2025-06-13T12:00:03.438837Z",
     "shell.execute_reply.started": "2025-06-13T12:00:02.297784Z"
    }
   },
   "outputs": [],
   "source": [
    "# import logging\n",
    "import sys\n",
    "# stdout=sys.stdout\n",
    "sys.path.append('../../')\n",
    "import os\n",
    "import random\n",
    "import time\n",
    "\n",
    "# import matplotlib\n",
    "# import matplotlib.pyplot as plt\n",
    "# import mplfinance as mpf\n",
    "# sys.stdout=stdout\n",
    "import numpy as np\n",
    "import pandas as pd\n",
    "from JohnsonUtil import commonTips as cct\n",
    "from JohnsonUtil import johnson_cons as ct\n",
    "from JSONData import sina_data\n",
    "from JSONData import tdx_data_Day as tdd\n",
    "# from mplfinance.original_flavor import candlestick_ohlc\n",
    "# from JSONData import tdx_hdf5_api as h5a\n",
    "\n",
    "# %matplotlib widget\n",
    "# plt.rc('font', family='SimHei', size=13)\n",
    "# matplotlib.get_backend()\n",
    "# jupyter nbextension enable --py widgetsnbextension\n",
    "\n",
    "os.environ['NUMEXPR_MAX_THREADS'] = '12'\n",
    "from IPython.core.interactiveshell import InteractiveShell\n",
    "\n",
    "InteractiveShell.ast_node_interactivity = \"all\"\n",
    "import nest_asyncio\n",
    "nest_asyncio.apply()"
   ]
  },
  {
   "cell_type": "code",
   "execution_count": 2,
   "id": "a1f720e3-33e9-4f1c-b767-fb4c68dc39ef",
   "metadata": {
    "execution": {
     "iopub.execute_input": "2025-06-13T12:00:03.456736Z",
     "iopub.status.busy": "2025-06-13T12:00:03.455739Z",
     "iopub.status.idle": "2025-06-13T12:00:03.469702Z",
     "shell.execute_reply": "2025-06-13T12:00:03.469702Z",
     "shell.execute_reply.started": "2025-06-13T12:00:03.456736Z"
    }
   },
   "outputs": [],
   "source": [
    "from JSONData import tdx_hdf5_api as h5a\n",
    "def get_tdx_all_from_h5(resample='d',dl=ct.duration_date_day, end=None, ptype='low', filter='y',showtable=True):\n",
    "    if end is not None:\n",
    "        h5_table = ptype + '_' + resample + '_' + str(dl) + '_' + filter + \\\n",
    "            '_' + end.replace('-', '') + '_' + 'all'\n",
    "    else:\n",
    "        h5_table = ptype + '_' + resample + '_' + str(dl) + '_' + filter + '_' + 'all'\n",
    "    #sina_monitor\n",
    "    h5_fname = 'tdx_last_df'\n",
    "    resample=resample\n",
    "    if resample=='d':\n",
    "        dl='80'\n",
    "    else:\n",
    "        dl='200'\n",
    "    filter='y'\n",
    "    h5_table = 'low' + '_' + resample + '_' + str(dl) + '_' + filter + '_' + 'all'\n",
    "    h5 = h5a.load_hdf_db(h5_fname, table=h5_table,code_l=None, timelimit=False,showtable=showtable)\n",
    "    return h5"
   ]
  },
  {
   "cell_type": "code",
   "execution_count": null,
   "id": "26124559-db9b-48f7-aa4b-1a3e91ed5f8c",
   "metadata": {},
   "outputs": [],
   "source": [
    "h5_day=get_tdx_all_from_h5()"
   ]
  }
 ],
 "metadata": {
  "kernelspec": {
   "display_name": "python3.9",
   "language": "python",
   "name": "python3"
  },
  "language_info": {
   "codemirror_mode": {
    "name": "ipython",
    "version": 3
   },
   "file_extension": ".py",
   "mimetype": "text/x-python",
   "name": "python",
   "nbconvert_exporter": "python",
   "pygments_lexer": "ipython3",
   "version": "3.9.13"
  }
 },
 "nbformat": 4,
 "nbformat_minor": 5
}
