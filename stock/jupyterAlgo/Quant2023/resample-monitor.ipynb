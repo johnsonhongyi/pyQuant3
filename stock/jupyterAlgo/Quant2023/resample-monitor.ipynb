{
 "cells": [
  {
   "cell_type": "markdown",
   "id": "76010d4d",
   "metadata": {},
   "source": [
    "# import def func"
   ]
  },
  {
   "cell_type": "code",
   "execution_count": 40,
   "id": "a547812c-f835-4e27-ac46-12430da81ca1",
   "metadata": {
    "ExecuteTime": {
     "end_time": "2025-06-17T02:26:08.346183Z",
     "start_time": "2025-06-17T02:26:08.338372Z"
    },
    "cell_style": "center",
    "execution": {
     "iopub.execute_input": "2025-06-13T12:00:02.297784Z",
     "iopub.status.busy": "2025-06-13T12:00:02.297784Z",
     "iopub.status.idle": "2025-06-13T12:00:03.440785Z",
     "shell.execute_reply": "2025-06-13T12:00:03.438837Z",
     "shell.execute_reply.started": "2025-06-13T12:00:02.297784Z"
    }
   },
   "outputs": [],
   "source": [
    "# import logging\n",
    "import sys\n",
    "# stdout=sys.stdout\n",
    "sys.path.append('../../')\n",
    "import os\n",
    "import random\n",
    "import time\n",
    "\n",
    "# import matplotlib\n",
    "# import matplotlib.pyplot as plt\n",
    "# import mplfinance as mpf\n",
    "# sys.stdout=stdout\n",
    "import numpy as np\n",
    "import pandas as pd\n",
    "from JohnsonUtil import commonTips as cct\n",
    "from JohnsonUtil import johnson_cons as ct\n",
    "from JSONData import sina_data\n",
    "from JSONData import tdx_data_Day as tdd\n",
    "from JSONData import tdx_hdf5_api as h5a\n",
    "\n",
    "# from mplfinance.original_flavor import candlestick_ohlc\n",
    "# from JSONData import tdx_hdf5_api as h5a\n",
    "\n",
    "# %matplotlib widget\n",
    "# plt.rc('font', family='SimHei', size=13)\n",
    "# matplotlib.get_backend()\n",
    "# jupyter nbextension enable --py widgetsnbextension\n",
    "\n",
    "os.environ['NUMEXPR_MAX_THREADS'] = '12'\n",
    "from IPython.core.interactiveshell import InteractiveShell\n",
    "\n",
    "InteractiveShell.ast_node_interactivity = \"all\"\n",
    "import nest_asyncio\n",
    "nest_asyncio.apply()"
   ]
  },
  {
   "cell_type": "code",
   "execution_count": 41,
   "id": "2e698804",
   "metadata": {
    "ExecuteTime": {
     "end_time": "2025-06-17T02:26:09.225181Z",
     "start_time": "2025-06-17T02:26:09.196789Z"
    }
   },
   "outputs": [],
   "source": [
    "def show_tdx_data(df, codelist=None, market_value='3', col=None):\n",
    "    col_src = [\n",
    "        \"name\", \"couts\", \"date\", \"perc\", \"ra_diff\",\"xratio\", \"idx\", \"hat\", \"close\",\n",
    "        \"volsum5d\", \"hmax\", \"lmin\", \"perc1d\", \"ma20\", \"ma250\", \"nclose\",\n",
    "        \"llow\", 'vol1d', 'vol2d', 'vol3d', 'vol4d', 'vol5d', \"perc%sd\" %\n",
    "        (market_value),\n",
    "        \"perc5d\"]\n",
    "\n",
    "    if isinstance(df, pd.Series):\n",
    "        col_name = [co for co in col_src if co in df.index]\n",
    "        # col_name.insert(1,'date')\n",
    "    else:\n",
    "        col_name = [co for co in col_src if co in df.columns]\n",
    "\n",
    "    # print(col_name)\n",
    "    # if isinstance(df, pd.DataFrame) and 'name' in df.columns:\n",
    "    #     columns_ = col_name\n",
    "    # else:\n",
    "    #     if isinstance(df, pd.Series) and 'name' in df.index:\n",
    "    #         columns_ = col_name.insert(1, \"date\")\n",
    "    #     else:\n",
    "    #         columns_ = col_name.remove(\"name\")\n",
    "    \n",
    "    if isinstance(col,list):\n",
    "        col_name.extend(col)\n",
    "    elif col is not None:\n",
    "        col_name.insert(4, col)\n",
    "\n",
    "    if codelist is None:\n",
    "        if isinstance(df, pd.Series):\n",
    "            print(\"Count:1\")\n",
    "            temp = df.loc[col_name]\n",
    "        else:\n",
    "            print(\"Count:%s %s\" % (df.shape))\n",
    "            temp = df.loc[:, col_name]\n",
    "    else:\n",
    "        temp = df.loc[[x for x in codelist if x in df.index], col_name]\n",
    "    return temp\n",
    "\n",
    "def clean_sina_dm(dd):\n",
    "    if (cct.get_now_time_int() > 915 and cct.get_now_time_int() < 926):\n",
    "        dd = dd[dd.close > 0]\n",
    "    else:\n",
    "        dd = dd[dd.open > 0]\n",
    "    return dd\n",
    "\n",
    "global sina_dm\n",
    "sina_dm = None\n",
    "\n",
    "\n",
    "def get_sina_data_cname(df, dm=None, index=False, realtime=False):\n",
    "    # index_status=False\n",
    "    global sina_dm\n",
    "    if dm is None:\n",
    "        if sina_dm is None:\n",
    "            dm = sina_data.Sina().market('all')\n",
    "        else:\n",
    "            dm = sina_dm.copy()\n",
    "\n",
    "    if 'ticktime' in df.columns:\n",
    "        time_l = time.mktime(dm.loc[:, 'ticktime'][-1].timetuple())\n",
    "        dur = round((time.time() - time_l) / 60, 2)\n",
    "        if dur > 5:\n",
    "            print(\"timel > 5,renew dm\")\n",
    "            dm = sina_data.Sina().market('all')\n",
    "            sina_dm = dm.copy()\n",
    "\n",
    "    if realtime:\n",
    "        print(\"compute percent\")\n",
    "        df.rename(columns={'low': 'llow',\n",
    "                  'high': 'lhigh', 'open': 'lopen'}, inplace=True)\n",
    "        if 'nclose' in dm.columns:\n",
    "            dd = cct.combine_dataFrame(\n",
    "                df, dm.loc\n",
    "                [:,\n",
    "                 ['nclose', 'close', 'name', 'open', 'high', 'low', 'llastp',\n",
    "                  'ticktime']],\n",
    "                clean=True)\n",
    "        else:\n",
    "            dd = cct.combine_dataFrame(\n",
    "                df, dm.loc\n",
    "                [:, ['close', 'name', 'open', 'high', 'low', 'llastp', 'ticktime']],\n",
    "                clean=True)\n",
    "        dd['perc'] = ((dd['close'] - dd['llastp']) / dd['llastp'] *\n",
    "                      100).map(lambda x: round(x, 2))\n",
    "        # dd = cct.combine_dataFrame(df, dm['name'])\n",
    "\n",
    "    else:\n",
    "        dd = cct.combine_dataFrame(df, dm['name'])\n",
    "    # cname = sina_data.Sina().get_code_cname(code)\n",
    "    return dd\n",
    "\n",
    "from JSONData import tdx_hdf5_api as h5a\n",
    "def get_tdx_all_from_h5(resample='d',showtable=True):\n",
    "    #sina_monitor\n",
    "    h5_fname = 'tdx_last_df'\n",
    "    resample=resample\n",
    "    if resample=='d':\n",
    "        dl='60'\n",
    "    else:\n",
    "        dl='200'\n",
    "    filter='y'\n",
    "    h5_table = 'low' + '_' + resample + '_' + str(dl) + '_' + filter + '_' + 'all'\n",
    "    h5 = h5a.load_hdf_db(h5_fname, table=h5_table,code_l=None, timelimit=False,showtable=showtable)\n",
    "    return h5\n",
    "\n",
    "\n",
    "def get_tdx_all_from_h5(resample='d',dl=ct.duration_date_day, end=None, ptype='low', filter='y',showtable=True):\n",
    "    if end is not None:\n",
    "        h5_table = ptype + '_' + resample + '_' + str(dl) + '_' + filter + \\\n",
    "            '_' + end.replace('-', '') + '_' + 'all'\n",
    "    else:\n",
    "        h5_table = ptype + '_' + resample + '_' + str(dl) + '_' + filter + '_' + 'all'\n",
    "    #sina_monitor\n",
    "    h5_fname = 'tdx_last_df'\n",
    "    resample=resample\n",
    "    if resample=='d' or resample=='3d':\n",
    "        dl='60'\n",
    "    else:\n",
    "        dl='200'\n",
    "    filter='y'\n",
    "    h5_table = 'low' + '_' + resample + '_' + str(dl) + '_' + filter + '_' + 'all'\n",
    "    h5 = h5a.load_hdf_db(h5_fname, table=h5_table,code_l=None, timelimit=False,showtable=showtable)\n",
    "    return h5"
   ]
  },
  {
   "cell_type": "markdown",
   "id": "5a45d7a7",
   "metadata": {},
   "source": [
    "## init data"
   ]
  },
  {
   "cell_type": "markdown",
   "id": "ef938827",
   "metadata": {},
   "source": [
    "### get_tdx_all"
   ]
  },
  {
   "cell_type": "code",
   "execution_count": 42,
   "id": "26124559-db9b-48f7-aa4b-1a3e91ed5f8c",
   "metadata": {
    "ExecuteTime": {
     "end_time": "2025-06-17T02:26:23.558909Z",
     "start_time": "2025-06-17T02:26:20.789391Z"
    }
   },
   "outputs": [
    {
     "name": "stdout",
     "output_type": "stream",
     "text": [
      "keys:['/low_3d_60_y_all', '/low_d_60_y_all', '/low_m_300_y_all', '/low_w_200_y_all']\n"
     ]
    }
   ],
   "source": [
    "h5_day=get_tdx_all_from_h5(resample='d')"
   ]
  },
  {
   "cell_type": "markdown",
   "id": "2b1db239",
   "metadata": {},
   "source": [
    "### sina"
   ]
  },
  {
   "cell_type": "code",
   "execution_count": 27,
   "id": "eacdcd3e",
   "metadata": {
    "ExecuteTime": {
     "end_time": "2025-06-17T02:24:37.139546Z",
     "start_time": "2025-06-17T02:24:36.514374Z"
    }
   },
   "outputs": [
    {
     "data": {
      "text/plain": [
       "('2025-06-16',\n",
       " code\n",
       " 300426    华智数媒\n",
       " Name: name, dtype: object)"
      ]
     },
     "execution_count": 27,
     "metadata": {},
     "output_type": "execute_result"
    }
   ],
   "source": [
    "sina_dm = sina_data.Sina().market('all')\n",
    "lastday = cct.last_tddate()\n",
    "lastday,sina_dm.name[:1]\n",
    "sina_dm = clean_sina_dm(sina_dm)"
   ]
  },
  {
   "cell_type": "code",
   "execution_count": 28,
   "id": "0c973adf",
   "metadata": {
    "ExecuteTime": {
     "end_time": "2025-06-17T02:24:37.392580Z",
     "start_time": "2025-06-17T02:24:37.375983Z"
    }
   },
   "outputs": [
    {
     "data": {
      "text/plain": [
       "'2025-06/17/25 10:24:37'"
      ]
     },
     "execution_count": 28,
     "metadata": {},
     "output_type": "execute_result"
    },
    {
     "data": {
      "text/plain": [
       "code\n",
       "688147   2025-06-17 10:24:00\n",
       "600185   2025-06-17 10:24:05\n",
       "Name: ticktime, dtype: datetime64[ns]"
      ]
     },
     "execution_count": 28,
     "metadata": {},
     "output_type": "execute_result"
    },
    {
     "data": {
      "text/plain": [
       "0.539786167939504"
      ]
     },
     "execution_count": 28,
     "metadata": {},
     "output_type": "execute_result"
    }
   ],
   "source": [
    "cct.get_time_to_date(time.time(), format='%Y-%D %H:%M:%S')\n",
    "\n",
    "# abc=dm.loc[:,'ticktime'][-1]\n",
    "sina_dm.ticktime[-2:]\n",
    "# dm.ticktime[:1]\n",
    "# sina_dm.loc[:, 'ticktime'][-1]\n",
    "# time.strptime(abc,format='%Y-%m-%d %H:%M:%S')\n",
    "# (time.mktime(abc.timetuple()))\n",
    "(time.time() - time.mktime(sina_dm.loc[:, 'ticktime'][-1].timetuple())) / 60"
   ]
  },
  {
   "cell_type": "markdown",
   "id": "8e36c9a3",
   "metadata": {},
   "source": [
    "#### 实时成交"
   ]
  },
  {
   "cell_type": "code",
   "execution_count": 30,
   "id": "c41c30d4",
   "metadata": {
    "ExecuteTime": {
     "end_time": "2025-06-17T02:24:52.803995Z",
     "start_time": "2025-06-17T02:24:52.796034Z"
    }
   },
   "outputs": [],
   "source": [
    "def apply_col_toint(df, col=None):\n",
    "    if col is None:\n",
    "        co2int = ['boll', 'op', 'ratio', 'fib', 'fibl', 'df2']\n",
    "    # co2int.extend([co for co in df.columns.tolist()\n",
    "    #                if co.startswith('perc') and co.endswith('d')])\n",
    "        co2int.extend(['top10', 'topR'])\n",
    "    else:\n",
    "        co2int = col\n",
    "    co2int = [inx for inx in co2int if inx in df.columns]\n",
    "\n",
    "    for co in co2int:\n",
    "        df[co] = df[co].astype(int)\n",
    "\n",
    "    return df\n",
    "\n",
    "def readHdf5(fpath, root=None):\n",
    "    store = pd.HDFStore(fpath, \"r\")\n",
    "    print(store.keys())\n",
    "    if root is None and store is not None:\n",
    "        root = store.keys()[0].replace(\"/\", \"\")\n",
    "    df = store[root]\n",
    "    df = apply_col_toint(df)\n",
    "    store.close()\n",
    "    return df"
   ]
  },
  {
   "cell_type": "code",
   "execution_count": 31,
   "id": "a38f56d8",
   "metadata": {
    "ExecuteTime": {
     "end_time": "2025-06-17T02:24:55.640357Z",
     "start_time": "2025-06-17T02:24:53.658132Z"
    }
   },
   "outputs": [
    {
     "name": "stdout",
     "output_type": "stream",
     "text": [
      "sina_MultiD_path:/Volumes/RamDisk/sina_MultiIndex_data.h5\n",
      "['/all_30']\n",
      "/Volumes/RamDisk/sina_MultiIndex_data.h5\n"
     ]
    },
    {
     "data": {
      "text/plain": [
       "(700855, 6)"
      ]
     },
     "execution_count": 31,
     "metadata": {},
     "output_type": "execute_result"
    },
    {
     "data": {
      "text/html": [
       "<div>\n",
       "<style scoped>\n",
       "    .dataframe tbody tr th:only-of-type {\n",
       "        vertical-align: middle;\n",
       "    }\n",
       "\n",
       "    .dataframe tbody tr th {\n",
       "        vertical-align: top;\n",
       "    }\n",
       "\n",
       "    .dataframe thead th {\n",
       "        text-align: right;\n",
       "    }\n",
       "</style>\n",
       "<table border=\"1\" class=\"dataframe\">\n",
       "  <thead>\n",
       "    <tr style=\"text-align: right;\">\n",
       "      <th></th>\n",
       "      <th>close</th>\n",
       "      <th>high</th>\n",
       "      <th>low</th>\n",
       "      <th>llastp</th>\n",
       "      <th>volume</th>\n",
       "      <th>lastbuy</th>\n",
       "    </tr>\n",
       "    <tr>\n",
       "      <th>ticktime</th>\n",
       "      <th></th>\n",
       "      <th></th>\n",
       "      <th></th>\n",
       "      <th></th>\n",
       "      <th></th>\n",
       "      <th></th>\n",
       "    </tr>\n",
       "  </thead>\n",
       "  <tbody>\n",
       "    <tr>\n",
       "      <th>2025-06-17 10:23:24</th>\n",
       "      <td>67.84</td>\n",
       "      <td>68.79</td>\n",
       "      <td>67.81</td>\n",
       "      <td>68.82</td>\n",
       "      <td>11235340</td>\n",
       "      <td>68.5</td>\n",
       "    </tr>\n",
       "    <tr>\n",
       "      <th>2025-06-17 10:23:45</th>\n",
       "      <td>67.87</td>\n",
       "      <td>68.79</td>\n",
       "      <td>67.81</td>\n",
       "      <td>68.82</td>\n",
       "      <td>11287540</td>\n",
       "      <td>68.5</td>\n",
       "    </tr>\n",
       "    <tr>\n",
       "      <th>2025-06-17 10:24:06</th>\n",
       "      <td>67.89</td>\n",
       "      <td>68.79</td>\n",
       "      <td>67.81</td>\n",
       "      <td>68.82</td>\n",
       "      <td>11324140</td>\n",
       "      <td>68.5</td>\n",
       "    </tr>\n",
       "  </tbody>\n",
       "</table>\n",
       "</div>"
      ],
      "text/plain": [
       "                     close   high    low  llastp    volume  lastbuy\n",
       "ticktime                                                           \n",
       "2025-06-17 10:23:24  67.84  68.79  67.81   68.82  11235340     68.5\n",
       "2025-06-17 10:23:45  67.87  68.79  67.81   68.82  11287540     68.5\n",
       "2025-06-17 10:24:06  67.89  68.79  67.81   68.82  11324140     68.5"
      ]
     },
     "execution_count": 31,
     "metadata": {},
     "output_type": "execute_result"
    },
    {
     "data": {
      "text/plain": [
       "0.508"
      ]
     },
     "execution_count": 31,
     "metadata": {},
     "output_type": "execute_result"
    },
    {
     "name": "stdout",
     "output_type": "stream",
     "text": [
      "总量:4250.19 亿\n"
     ]
    },
    {
     "data": {
      "text/plain": [
       "ticktime    2025-06-18 00:00:00\n",
       "close                 68.134667\n",
       "volume                     0.36\n",
       "vol                       11.32\n",
       "amount                     7.72\n",
       "Name: 603019, dtype: object"
      ]
     },
     "execution_count": 31,
     "metadata": {},
     "output_type": "execute_result"
    },
    {
     "data": {
      "text/plain": [
       "'2025-06-17'"
      ]
     },
     "execution_count": 31,
     "metadata": {},
     "output_type": "execute_result"
    }
   ],
   "source": [
    "# tdx_path = \"G:\\\\tdx_last_df.h5\"\n",
    "# from JohnsonUtil import commonTips as cct\n",
    "sina_MultiD_path = f\"{cct.get_ramdisk_dir()}\\\\sina_MultiIndex_data.h5\".replace('\\\\',os.sep)\n",
    "print(f'sina_MultiD_path:{sina_MultiD_path}')\n",
    "h5 = readHdf5(sina_MultiD_path)\n",
    "print(sina_MultiD_path)\n",
    "h5.shape\n",
    "h5code='603019'\n",
    "h5.loc[h5code][-3:]\n",
    "code_muti = '603019'\n",
    "# h5.loc[code_muti][:2]\n",
    "\n",
    "freq = 'D'\n",
    "# freq = '5M'\n",
    "startime = '09:25:00'\n",
    "endtime = '15:01:00'\n",
    "\n",
    "time_ratio = cct.get_work_time_ratio()\n",
    "time_ratio\n",
    "run_col = ['close', 'volume']\n",
    "# run_col = ['close']\n",
    "mdf = cct.get_limit_multiIndex_freq(\n",
    "    h5, freq=freq.upper(),\n",
    "    col=run_col, start=startime, end=endtime, code=None)\n",
    "allvol = mdf.volume.sum()\n",
    "allvol = round(allvol / 10 / 1000 / 1000,2)\n",
    "print(\"总量:%s 亿\"%(allvol))\n",
    "mdf['vol']=mdf['volume'].apply(lambda x: round(x /1000/1000,2)) \n",
    "mdf['amount']=(mdf.volume * mdf.close).map(lambda x: round(x/100/1000/1000, 2))\n",
    "#全局占比\n",
    "mdf['volume'] = mdf.amount.apply(\n",
    "    lambda x: round(x / allvol * 100 / time_ratio, 2))\n",
    "mdf=mdf.reset_index().set_index('code')\n",
    "mdf.loc[h5code]\n",
    "str(h5.index.get_level_values(1)[-1])[:10]"
   ]
  },
  {
   "cell_type": "markdown",
   "id": "611dc8ac",
   "metadata": {},
   "source": [
    "#### 读取实时成交个股"
   ]
  },
  {
   "cell_type": "code",
   "execution_count": 32,
   "id": "203b1873",
   "metadata": {
    "ExecuteTime": {
     "end_time": "2025-06-17T02:24:56.640605Z",
     "start_time": "2025-06-17T02:24:56.614994Z"
    },
    "lang": "en"
   },
   "outputs": [
    {
     "data": {
      "text/plain": [
       "((5410, 5),\n",
       "         volume  name\n",
       " code                \n",
       " 300468    1.96  四方精创\n",
       " 300251    1.75  光线传媒\n",
       " 300773    1.65   拉卡拉\n",
       " 002104    1.20  恒宝股份\n",
       " 002195    1.19  岩山科技\n",
       " 600570    1.19  恒生电子\n",
       " 300872    1.07  天阳科技\n",
       " 002475    1.01  立讯精密\n",
       " 600366    1.01  宁波韵升\n",
       " 300682    0.92  朗新集团\n",
       " 300308    0.91  中际旭创\n",
       " 300502    0.88   新易盛\n",
       " 002366    0.80  融发核电\n",
       " 688256    0.80   寒武纪\n",
       " 002241    0.78  歌尔股份\n",
       " 300199    0.78  翰宇药业\n",
       " 002384    0.77  东山精密\n",
       " 300476    0.76  胜宏科技\n",
       " 002537    0.75  海联金汇\n",
       " 600519    0.73  贵州茅台)"
      ]
     },
     "execution_count": 32,
     "metadata": {},
     "output_type": "execute_result"
    }
   ],
   "source": [
    "nowdf = mdf.sort_values(by=['volume'], ascending=[0])\n",
    "# nowdf.shape, df.shape, code_idx.shape\n",
    "# top20_nd = nowdf.reset_index().loc[:, ['code', 'volume']][:20]\n",
    "top20_nd = nowdf.reset_index().loc[:, ['code', 'volume']][:20]\n",
    "top20_nd = get_sina_data_cname(top20_nd)\n",
    "nowdf.shape, top20_nd"
   ]
  },
  {
   "cell_type": "markdown",
   "id": "7c81f9f6",
   "metadata": {},
   "source": [
    "##### 合并实时成交量及SinaDM"
   ]
  },
  {
   "cell_type": "code",
   "execution_count": 33,
   "id": "858b544b",
   "metadata": {
    "ExecuteTime": {
     "end_time": "2025-06-17T02:24:58.364029Z",
     "start_time": "2025-06-17T02:24:58.358248Z"
    }
   },
   "outputs": [
    {
     "data": {
      "text/plain": [
       "(5180, 41)"
      ]
     },
     "execution_count": 33,
     "metadata": {},
     "output_type": "execute_result"
    }
   ],
   "source": [
    "sina_dm.shape"
   ]
  },
  {
   "cell_type": "code",
   "execution_count": 34,
   "id": "130319a8",
   "metadata": {
    "ExecuteTime": {
     "end_time": "2025-06-17T02:24:59.233944Z",
     "start_time": "2025-06-17T02:24:59.164263Z"
    }
   },
   "outputs": [],
   "source": [
    "# mdf[:1]\n",
    "sinadm = cct.combine_dataFrame(sina_dm, mdf[['vol','amount']])\n",
    "sinadm['percent']=((sinadm['close']-sinadm['llastp'])/(sinadm['llastp'])*100).round(1)"
   ]
  },
  {
   "cell_type": "markdown",
   "id": "5e811e71",
   "metadata": {},
   "source": [
    "## resample 3D"
   ]
  },
  {
   "cell_type": "code",
   "execution_count": 43,
   "id": "cc7efd64",
   "metadata": {
    "ExecuteTime": {
     "end_time": "2025-06-17T02:28:16.209441Z",
     "start_time": "2025-06-17T02:28:13.100605Z"
    }
   },
   "outputs": [
    {
     "name": "stdout",
     "output_type": "stream",
     "text": [
      "keys:['/low_3d_60_y_all', '/low_d_60_y_all', '/low_m_300_y_all', '/low_w_200_y_all']\n"
     ]
    }
   ],
   "source": [
    "h5_3d = get_tdx_all_from_h5(resample='3d')\n",
    "tdx_3d = cct.combine_dataFrame(h5_3d,sinadm)"
   ]
  },
  {
   "cell_type": "code",
   "execution_count": 44,
   "id": "51e3d74c",
   "metadata": {
    "ExecuteTime": {
     "end_time": "2025-06-17T02:28:25.110478Z",
     "start_time": "2025-06-17T02:28:25.024105Z"
    }
   },
   "outputs": [
    {
     "data": {
      "text/plain": [
       "(5177, 217)"
      ]
     },
     "execution_count": 44,
     "metadata": {},
     "output_type": "execute_result"
    },
    {
     "name": "stdout",
     "output_type": "stream",
     "text": [
      "Count:10 217\n"
     ]
    },
    {
     "data": {
      "text/html": [
       "<div>\n",
       "<style scoped>\n",
       "    .dataframe tbody tr th:only-of-type {\n",
       "        vertical-align: middle;\n",
       "    }\n",
       "\n",
       "    .dataframe tbody tr th {\n",
       "        vertical-align: top;\n",
       "    }\n",
       "\n",
       "    .dataframe thead th {\n",
       "        text-align: right;\n",
       "    }\n",
       "</style>\n",
       "<table border=\"1\" class=\"dataframe\">\n",
       "  <thead>\n",
       "    <tr style=\"text-align: right;\">\n",
       "      <th></th>\n",
       "      <th>name</th>\n",
       "      <th>date</th>\n",
       "      <th>close</th>\n",
       "      <th>hmax</th>\n",
       "      <th>lmin</th>\n",
       "      <th>perc1d</th>\n",
       "      <th>nclose</th>\n",
       "      <th>llow</th>\n",
       "      <th>perc3d</th>\n",
       "      <th>perc5d</th>\n",
       "    </tr>\n",
       "    <tr>\n",
       "      <th>code</th>\n",
       "      <th></th>\n",
       "      <th></th>\n",
       "      <th></th>\n",
       "      <th></th>\n",
       "      <th></th>\n",
       "      <th></th>\n",
       "      <th></th>\n",
       "      <th></th>\n",
       "      <th></th>\n",
       "      <th></th>\n",
       "    </tr>\n",
       "  </thead>\n",
       "  <tbody>\n",
       "    <tr>\n",
       "      <th>000001</th>\n",
       "      <td>平安银行</td>\n",
       "      <td>2025-04-07</td>\n",
       "      <td>11.8</td>\n",
       "      <td>11.5</td>\n",
       "      <td>10.1</td>\n",
       "      <td>0.1</td>\n",
       "      <td>11.8</td>\n",
       "      <td>10.1</td>\n",
       "      <td>0.0</td>\n",
       "      <td>1.3</td>\n",
       "    </tr>\n",
       "    <tr>\n",
       "      <th>000002</th>\n",
       "      <td>万 科Ａ</td>\n",
       "      <td>2025-06-13</td>\n",
       "      <td>6.5</td>\n",
       "      <td>7.3</td>\n",
       "      <td>6.5</td>\n",
       "      <td>-0.1</td>\n",
       "      <td>6.5</td>\n",
       "      <td>6.4</td>\n",
       "      <td>0.1</td>\n",
       "      <td>-0.1</td>\n",
       "    </tr>\n",
       "    <tr>\n",
       "      <th>000004</th>\n",
       "      <td>*ST国华</td>\n",
       "      <td>2025-05-07</td>\n",
       "      <td>9.5</td>\n",
       "      <td>10.4</td>\n",
       "      <td>7.2</td>\n",
       "      <td>-1.1</td>\n",
       "      <td>9.5</td>\n",
       "      <td>7.2</td>\n",
       "      <td>0.0</td>\n",
       "      <td>1.2</td>\n",
       "    </tr>\n",
       "    <tr>\n",
       "      <th>000020</th>\n",
       "      <td>深华发Ａ</td>\n",
       "      <td>2025-04-10</td>\n",
       "      <td>12.5</td>\n",
       "      <td>12.6</td>\n",
       "      <td>9.2</td>\n",
       "      <td>-0.1</td>\n",
       "      <td>12.5</td>\n",
       "      <td>9.2</td>\n",
       "      <td>1.3</td>\n",
       "      <td>0.0</td>\n",
       "    </tr>\n",
       "    <tr>\n",
       "      <th>000021</th>\n",
       "      <td>深科技</td>\n",
       "      <td>2025-04-07</td>\n",
       "      <td>17.2</td>\n",
       "      <td>19.3</td>\n",
       "      <td>14.7</td>\n",
       "      <td>-0.1</td>\n",
       "      <td>17.2</td>\n",
       "      <td>16.5</td>\n",
       "      <td>0.1</td>\n",
       "      <td>0.0</td>\n",
       "    </tr>\n",
       "    <tr>\n",
       "      <th>000032</th>\n",
       "      <td>深桑达Ａ</td>\n",
       "      <td>2025-06-13</td>\n",
       "      <td>19.2</td>\n",
       "      <td>23.2</td>\n",
       "      <td>18.0</td>\n",
       "      <td>-1.1</td>\n",
       "      <td>19.2</td>\n",
       "      <td>19.0</td>\n",
       "      <td>0.1</td>\n",
       "      <td>0.2</td>\n",
       "    </tr>\n",
       "    <tr>\n",
       "      <th>000034</th>\n",
       "      <td>神州数码</td>\n",
       "      <td>2025-04-10</td>\n",
       "      <td>36.2</td>\n",
       "      <td>42.8</td>\n",
       "      <td>31.3</td>\n",
       "      <td>-1.1</td>\n",
       "      <td>36.3</td>\n",
       "      <td>31.3</td>\n",
       "      <td>1.2</td>\n",
       "      <td>0.0</td>\n",
       "    </tr>\n",
       "    <tr>\n",
       "      <th>000042</th>\n",
       "      <td>中洲控股</td>\n",
       "      <td>2025-04-07</td>\n",
       "      <td>7.0</td>\n",
       "      <td>7.2</td>\n",
       "      <td>5.9</td>\n",
       "      <td>0.1</td>\n",
       "      <td>7.0</td>\n",
       "      <td>5.9</td>\n",
       "      <td>0.0</td>\n",
       "      <td>0.0</td>\n",
       "    </tr>\n",
       "    <tr>\n",
       "      <th>000048</th>\n",
       "      <td>京基智农</td>\n",
       "      <td>2025-04-18</td>\n",
       "      <td>16.1</td>\n",
       "      <td>18.0</td>\n",
       "      <td>14.5</td>\n",
       "      <td>-0.1</td>\n",
       "      <td>16.0</td>\n",
       "      <td>14.9</td>\n",
       "      <td>0.1</td>\n",
       "      <td>0.1</td>\n",
       "    </tr>\n",
       "    <tr>\n",
       "      <th>000049</th>\n",
       "      <td>德赛电池</td>\n",
       "      <td>2025-04-11</td>\n",
       "      <td>21.4</td>\n",
       "      <td>23.2</td>\n",
       "      <td>17.9</td>\n",
       "      <td>-0.1</td>\n",
       "      <td>21.3</td>\n",
       "      <td>19.5</td>\n",
       "      <td>1.3</td>\n",
       "      <td>-0.1</td>\n",
       "    </tr>\n",
       "  </tbody>\n",
       "</table>\n",
       "</div>"
      ],
      "text/plain": [
       "         name        date  close  hmax  lmin  perc1d  nclose  llow  perc3d  \\\n",
       "code                                                                         \n",
       "000001   平安银行  2025-04-07   11.8  11.5  10.1     0.1    11.8  10.1     0.0   \n",
       "000002   万 科Ａ  2025-06-13    6.5   7.3   6.5    -0.1     6.5   6.4     0.1   \n",
       "000004  *ST国华  2025-05-07    9.5  10.4   7.2    -1.1     9.5   7.2     0.0   \n",
       "000020   深华发Ａ  2025-04-10   12.5  12.6   9.2    -0.1    12.5   9.2     1.3   \n",
       "000021    深科技  2025-04-07   17.2  19.3  14.7    -0.1    17.2  16.5     0.1   \n",
       "000032   深桑达Ａ  2025-06-13   19.2  23.2  18.0    -1.1    19.2  19.0     0.1   \n",
       "000034   神州数码  2025-04-10   36.2  42.8  31.3    -1.1    36.3  31.3     1.2   \n",
       "000042   中洲控股  2025-04-07    7.0   7.2   5.9     0.1     7.0   5.9     0.0   \n",
       "000048   京基智农  2025-04-18   16.1  18.0  14.5    -0.1    16.0  14.9     0.1   \n",
       "000049   德赛电池  2025-04-11   21.4  23.2  17.9    -0.1    21.3  19.5     1.3   \n",
       "\n",
       "        perc5d  \n",
       "code            \n",
       "000001     1.3  \n",
       "000002    -0.1  \n",
       "000004     1.2  \n",
       "000020     0.0  \n",
       "000021     0.0  \n",
       "000032     0.2  \n",
       "000034     0.0  \n",
       "000042     0.0  \n",
       "000048     0.1  \n",
       "000049    -0.1  "
      ]
     },
     "execution_count": 44,
     "metadata": {},
     "output_type": "execute_result"
    }
   ],
   "source": [
    "tdx_3d.shape\n",
    "# tdx_now.query('close >  lastp1d  and lastl1d < ma51d and close > ma51d and lastp1d < upper and lastp1d > lastp2d and lasth1d >high4 and boll > 0 and volume < 1')\n",
    "tdx_select = tdx_3d.query('close > lastp1d and percent < 3')[:10]\n",
    "show_tdx_data(tdx_select)"
   ]
  },
  {
   "cell_type": "markdown",
   "id": "81ea8f45",
   "metadata": {},
   "source": [
    "## resample W"
   ]
  },
  {
   "cell_type": "code",
   "execution_count": 45,
   "id": "07310ac1",
   "metadata": {
    "ExecuteTime": {
     "end_time": "2025-06-17T02:29:50.272787Z",
     "start_time": "2025-06-17T02:29:47.076934Z"
    }
   },
   "outputs": [
    {
     "name": "stdout",
     "output_type": "stream",
     "text": [
      "keys:['/low_3d_60_y_all', '/low_d_60_y_all', '/low_m_300_y_all', '/low_w_200_y_all']\n"
     ]
    }
   ],
   "source": [
    "h5_w = get_tdx_all_from_h5(resample='w')\n",
    "tdx_w = cct.combine_dataFrame(h5_w,sinadm)"
   ]
  },
  {
   "cell_type": "code",
   "execution_count": 46,
   "id": "71f866f2",
   "metadata": {
    "ExecuteTime": {
     "end_time": "2025-06-17T02:29:50.359413Z",
     "start_time": "2025-06-17T02:29:50.276627Z"
    }
   },
   "outputs": [
    {
     "data": {
      "text/plain": [
       "(5180, 219)"
      ]
     },
     "execution_count": 46,
     "metadata": {},
     "output_type": "execute_result"
    },
    {
     "name": "stdout",
     "output_type": "stream",
     "text": [
      "Count:10 219\n"
     ]
    },
    {
     "data": {
      "text/html": [
       "<div>\n",
       "<style scoped>\n",
       "    .dataframe tbody tr th:only-of-type {\n",
       "        vertical-align: middle;\n",
       "    }\n",
       "\n",
       "    .dataframe tbody tr th {\n",
       "        vertical-align: top;\n",
       "    }\n",
       "\n",
       "    .dataframe thead th {\n",
       "        text-align: right;\n",
       "    }\n",
       "</style>\n",
       "<table border=\"1\" class=\"dataframe\">\n",
       "  <thead>\n",
       "    <tr style=\"text-align: right;\">\n",
       "      <th></th>\n",
       "      <th>name</th>\n",
       "      <th>date</th>\n",
       "      <th>close</th>\n",
       "      <th>hmax</th>\n",
       "      <th>lmin</th>\n",
       "      <th>perc1d</th>\n",
       "      <th>nclose</th>\n",
       "      <th>llow</th>\n",
       "      <th>perc3d</th>\n",
       "      <th>perc5d</th>\n",
       "    </tr>\n",
       "    <tr>\n",
       "      <th>code</th>\n",
       "      <th></th>\n",
       "      <th></th>\n",
       "      <th></th>\n",
       "      <th></th>\n",
       "      <th></th>\n",
       "      <th></th>\n",
       "      <th></th>\n",
       "      <th></th>\n",
       "      <th></th>\n",
       "      <th></th>\n",
       "    </tr>\n",
       "  </thead>\n",
       "  <tbody>\n",
       "    <tr>\n",
       "      <th>000029</th>\n",
       "      <td>深深房Ａ</td>\n",
       "      <td>2025-01-10</td>\n",
       "      <td>19.8</td>\n",
       "      <td>18.0</td>\n",
       "      <td>12.8</td>\n",
       "      <td>1.2</td>\n",
       "      <td>20.0</td>\n",
       "      <td>13.9</td>\n",
       "      <td>23.8</td>\n",
       "      <td>1.3</td>\n",
       "    </tr>\n",
       "    <tr>\n",
       "      <th>000513</th>\n",
       "      <td>丽珠集团</td>\n",
       "      <td>2025-03-07</td>\n",
       "      <td>36.0</td>\n",
       "      <td>38.2</td>\n",
       "      <td>32.9</td>\n",
       "      <td>1.2</td>\n",
       "      <td>36.4</td>\n",
       "      <td>34.1</td>\n",
       "      <td>0.1</td>\n",
       "      <td>1.2</td>\n",
       "    </tr>\n",
       "    <tr>\n",
       "      <th>000533</th>\n",
       "      <td>顺钠股份</td>\n",
       "      <td>2024-11-22</td>\n",
       "      <td>7.2</td>\n",
       "      <td>7.4</td>\n",
       "      <td>3.9</td>\n",
       "      <td>1.2</td>\n",
       "      <td>7.2</td>\n",
       "      <td>3.9</td>\n",
       "      <td>1.2</td>\n",
       "      <td>1.2</td>\n",
       "    </tr>\n",
       "    <tr>\n",
       "      <th>000599</th>\n",
       "      <td>青岛双星</td>\n",
       "      <td>2025-01-10</td>\n",
       "      <td>5.0</td>\n",
       "      <td>5.3</td>\n",
       "      <td>4.1</td>\n",
       "      <td>1.2</td>\n",
       "      <td>5.0</td>\n",
       "      <td>4.1</td>\n",
       "      <td>0.1</td>\n",
       "      <td>1.3</td>\n",
       "    </tr>\n",
       "    <tr>\n",
       "      <th>000701</th>\n",
       "      <td>厦门信达</td>\n",
       "      <td>2025-01-03</td>\n",
       "      <td>7.7</td>\n",
       "      <td>5.7</td>\n",
       "      <td>3.7</td>\n",
       "      <td>50.6</td>\n",
       "      <td>7.7</td>\n",
       "      <td>4.3</td>\n",
       "      <td>10.1</td>\n",
       "      <td>0.0</td>\n",
       "    </tr>\n",
       "    <tr>\n",
       "      <th>000766</th>\n",
       "      <td>通化金马</td>\n",
       "      <td>2024-11-22</td>\n",
       "      <td>27.1</td>\n",
       "      <td>20.0</td>\n",
       "      <td>13.6</td>\n",
       "      <td>46.5</td>\n",
       "      <td>27.2</td>\n",
       "      <td>13.7</td>\n",
       "      <td>1.3</td>\n",
       "      <td>20.5</td>\n",
       "    </tr>\n",
       "    <tr>\n",
       "      <th>000831</th>\n",
       "      <td>中国稀土</td>\n",
       "      <td>2025-01-03</td>\n",
       "      <td>36.9</td>\n",
       "      <td>34.2</td>\n",
       "      <td>26.9</td>\n",
       "      <td>1.2</td>\n",
       "      <td>36.8</td>\n",
       "      <td>26.9</td>\n",
       "      <td>1.1</td>\n",
       "      <td>1.3</td>\n",
       "    </tr>\n",
       "    <tr>\n",
       "      <th>000919</th>\n",
       "      <td>金陵药业</td>\n",
       "      <td>2025-01-10</td>\n",
       "      <td>6.9</td>\n",
       "      <td>7.1</td>\n",
       "      <td>5.9</td>\n",
       "      <td>1.2</td>\n",
       "      <td>6.9</td>\n",
       "      <td>6.3</td>\n",
       "      <td>0.0</td>\n",
       "      <td>0.1</td>\n",
       "    </tr>\n",
       "    <tr>\n",
       "      <th>000963</th>\n",
       "      <td>华东医药</td>\n",
       "      <td>2025-01-10</td>\n",
       "      <td>42.7</td>\n",
       "      <td>42.8</td>\n",
       "      <td>30.4</td>\n",
       "      <td>1.2</td>\n",
       "      <td>43.4</td>\n",
       "      <td>30.4</td>\n",
       "      <td>28.4</td>\n",
       "      <td>8.9</td>\n",
       "    </tr>\n",
       "    <tr>\n",
       "      <th>001222</th>\n",
       "      <td>源飞宠物</td>\n",
       "      <td>2025-04-11</td>\n",
       "      <td>21.0</td>\n",
       "      <td>18.8</td>\n",
       "      <td>11.3</td>\n",
       "      <td>51.0</td>\n",
       "      <td>21.2</td>\n",
       "      <td>11.3</td>\n",
       "      <td>-0.9</td>\n",
       "      <td>1.3</td>\n",
       "    </tr>\n",
       "  </tbody>\n",
       "</table>\n",
       "</div>"
      ],
      "text/plain": [
       "        name        date  close  hmax  lmin  perc1d  nclose  llow  perc3d  \\\n",
       "code                                                                        \n",
       "000029  深深房Ａ  2025-01-10   19.8  18.0  12.8     1.2    20.0  13.9    23.8   \n",
       "000513  丽珠集团  2025-03-07   36.0  38.2  32.9     1.2    36.4  34.1     0.1   \n",
       "000533  顺钠股份  2024-11-22    7.2   7.4   3.9     1.2     7.2   3.9     1.2   \n",
       "000599  青岛双星  2025-01-10    5.0   5.3   4.1     1.2     5.0   4.1     0.1   \n",
       "000701  厦门信达  2025-01-03    7.7   5.7   3.7    50.6     7.7   4.3    10.1   \n",
       "000766  通化金马  2024-11-22   27.1  20.0  13.6    46.5    27.2  13.7     1.3   \n",
       "000831  中国稀土  2025-01-03   36.9  34.2  26.9     1.2    36.8  26.9     1.1   \n",
       "000919  金陵药业  2025-01-10    6.9   7.1   5.9     1.2     6.9   6.3     0.0   \n",
       "000963  华东医药  2025-01-10   42.7  42.8  30.4     1.2    43.4  30.4    28.4   \n",
       "001222  源飞宠物  2025-04-11   21.0  18.8  11.3    51.0    21.2  11.3    -0.9   \n",
       "\n",
       "        perc5d  \n",
       "code            \n",
       "000029     1.3  \n",
       "000513     1.2  \n",
       "000533     1.2  \n",
       "000599     1.3  \n",
       "000701     0.0  \n",
       "000766    20.5  \n",
       "000831     1.3  \n",
       "000919     0.1  \n",
       "000963     8.9  \n",
       "001222     1.3  "
      ]
     },
     "execution_count": 46,
     "metadata": {},
     "output_type": "execute_result"
    }
   ],
   "source": [
    "tdx_w.shape\n",
    "# tdx_now.query('close >  lastp1d  and lastl1d < ma51d and close > ma51d and lastp1d < upper and lastp1d > lastp2d and lasth1d >high4 and boll > 0 and volume < 1')\n",
    "tdx_select_w = tdx_w.query('lasth1d > lasth2d and lasth2d >lasth3d and lasth2d > upper1')[:10]\n",
    "show_tdx_data(tdx_select_w)"
   ]
  },
  {
   "cell_type": "code",
   "execution_count": null,
   "id": "58bbd8dc",
   "metadata": {},
   "outputs": [],
   "source": []
  }
 ],
 "metadata": {
  "kernelspec": {
   "display_name": "Python 3",
   "language": "python",
   "name": "python3"
  },
  "language_info": {
   "codemirror_mode": {
    "name": "ipython",
    "version": 3
   },
   "file_extension": ".py",
   "mimetype": "text/x-python",
   "name": "python",
   "nbconvert_exporter": "python",
   "pygments_lexer": "ipython3",
   "version": "3.9.13"
  },
  "nbTranslate": {
   "displayLangs": [
    "zh-tw"
   ],
   "hotkey": "alt-t",
   "langInMainMenu": true,
   "sourceLang": "en",
   "targetLang": "zh-tw",
   "useGoogleTranslate": true
  },
  "toc": {
   "base_numbering": 1,
   "nav_menu": {},
   "number_sections": true,
   "sideBar": true,
   "skip_h1_title": false,
   "title_cell": "Table of Contents",
   "title_sidebar": "Contents",
   "toc_cell": false,
   "toc_position": {
    "height": "calc(100% - 180px)",
    "left": "10px",
    "top": "150px",
    "width": "245.867px"
   },
   "toc_section_display": true,
   "toc_window_display": true
  }
 },
 "nbformat": 4,
 "nbformat_minor": 5
}
