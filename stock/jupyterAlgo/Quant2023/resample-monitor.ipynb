{
 "cells": [
  {
   "cell_type": "markdown",
   "id": "76010d4d",
   "metadata": {},
   "source": [
    "# import def func"
   ]
  },
  {
   "cell_type": "code",
   "execution_count": 1,
   "id": "a547812c-f835-4e27-ac46-12430da81ca1",
   "metadata": {
    "ExecuteTime": {
     "end_time": "2025-06-23T07:24:28.831684Z",
     "start_time": "2025-06-23T07:24:28.822554Z"
    },
    "cell_style": "center",
    "execution": {
     "iopub.execute_input": "2025-09-17T13:23:05.383056Z",
     "iopub.status.busy": "2025-09-17T13:23:05.383056Z",
     "iopub.status.idle": "2025-09-17T13:23:06.930915Z",
     "shell.execute_reply": "2025-09-17T13:23:06.929917Z",
     "shell.execute_reply.started": "2025-09-17T13:23:05.383056Z"
    }
   },
   "outputs": [],
   "source": [
    "import sys\n",
    "# stdout=sys.stdout\n",
    "sys.path.append('../../')\n",
    "import os\n",
    "import random\n",
    "import time\n",
    "\n",
    "# import matplotlib\n",
    "# import matplotlib.pyplot as plt\n",
    "# import mplfinance as mpf\n",
    "# sys.stdout=stdout\n",
    "import numpy as np\n",
    "import pandas as pd\n",
    "from JohnsonUtil import commonTips as cct\n",
    "from JohnsonUtil import johnson_cons as ct\n",
    "from JSONData import sina_data\n",
    "from JSONData import tdx_data_Day as tdd\n",
    "from JSONData import tdx_hdf5_api as h5a\n",
    "\n",
    "from JohnsonUtil import LoggerFactory\n",
    "log = LoggerFactory.log\n",
    "# log_level = LoggerFactory.DEBUG\n",
    "# log_level = LoggerFactory.INFO\n",
    "log_level = LoggerFactory.ERROR\n",
    "log.setLevel(log_level)\n",
    "# from mplfinance.original_flavor import candlestick_ohlc\n",
    "# from JSONData import tdx_hdf5_api as h5a\n",
    "\n",
    "# %matplotlib widget\n",
    "# plt.rc('font', family='SimHei', size=13)\n",
    "# matplotlib.get_backend()\n",
    "# jupyter nbextension enable --py widgetsnbextension\n",
    "\n",
    "os.environ['NUMEXPR_MAX_THREADS'] = '12'\n",
    "from IPython.core.interactiveshell import InteractiveShell\n",
    "\n",
    "InteractiveShell.ast_node_interactivity = \"all\"\n",
    "import nest_asyncio\n",
    "nest_asyncio.apply()\n",
    "\n",
    "log = LoggerFactory.log"
   ]
  },
  {
   "cell_type": "code",
   "execution_count": 2,
   "id": "2e698804",
   "metadata": {
    "ExecuteTime": {
     "end_time": "2025-06-23T07:24:28.924905Z",
     "start_time": "2025-06-23T07:24:28.883880Z"
    },
    "execution": {
     "iopub.execute_input": "2025-09-17T13:23:06.932909Z",
     "iopub.status.busy": "2025-09-17T13:23:06.932909Z",
     "iopub.status.idle": "2025-09-17T13:23:06.976793Z",
     "shell.execute_reply": "2025-09-17T13:23:06.975796Z",
     "shell.execute_reply.started": "2025-09-17T13:23:06.932909Z"
    },
    "tags": []
   },
   "outputs": [],
   "source": [
    "def show_tdx_data(df, codelist=None, market_value='3', col=None,limit=20,orderby='percent'):\n",
    "    col_src = [\n",
    "        \"name\",'percent', \"couts\", \"date\", \"perc\", \"ra_diff\",\"xratio\", \"idx\", \"hat\", \"close\",\n",
    "        \"volsum5d\", \"hmax\", \"lmin\", \"perc1d\", \"ma20\", \"ma250\", \"nclose\",\n",
    "        \"llow\", 'vol1d', 'vol2d', 'vol3d', 'vol4d', 'vol5d', \"perc%sd\" %\n",
    "        (market_value),\n",
    "        \"perc5d\"]\n",
    "\n",
    "    if isinstance(df, pd.Series):\n",
    "        col_name = [co for co in col_src if co in df.index]\n",
    "        # col_name.insert(1,'date')\n",
    "    else:\n",
    "        col_name = [co for co in col_src if co in df.columns]\n",
    "\n",
    "    # print(col_name)\n",
    "    # if isinstance(df, pd.DataFrame) and 'name' in df.columns:\n",
    "    #     columns_ = col_name\n",
    "    # else:\n",
    "    #     if isinstance(df, pd.Series) and 'name' in df.index:\n",
    "    #         columns_ = col_name.insert(1, \"date\")\n",
    "    #     else:\n",
    "    #         columns_ = col_name.remove(\"name\")\n",
    "    if orderby in df.columns:\n",
    "        df=df.sort_values('percent', ascending=False)\n",
    "    if isinstance(col,list):\n",
    "        col_name.extend(col)\n",
    "    elif col is not None:\n",
    "        col_name.insert(4, col)\n",
    "\n",
    "    if codelist is None:\n",
    "        if isinstance(df, pd.Series):\n",
    "            print(\"Count:1\")\n",
    "            temp = df.loc[col_name][:limit]\n",
    "        else:\n",
    "            print(\"Count:%s %s\" % (df.shape))\n",
    "            temp = df.loc[:, col_name][:limit]\n",
    "    else:\n",
    "        temp = df.loc[[x for x in codelist if x in df.index], col_name][:limit]\n",
    "    return temp\n",
    "\n",
    "def clean_sina_dm(dd):\n",
    "    if (cct.get_now_time_int() > 915 and cct.get_now_time_int() < 926):\n",
    "        dd = dd[dd.close > 0]\n",
    "    else:\n",
    "        dd = dd[dd.open > 0]\n",
    "    return dd\n",
    "\n",
    "global sina_dm\n",
    "sina_dm = None\n",
    "\n",
    "\n",
    "def get_sina_data_cname(df, dm=None, index=False, realtime=False):\n",
    "    # index_status=False\n",
    "    global sina_dm\n",
    "    if dm is None:\n",
    "        if sina_dm is None:\n",
    "            dm = sina_data.Sina().market('all')\n",
    "        else:\n",
    "            dm = sina_dm.copy()\n",
    "\n",
    "    if 'ticktime' in df.columns:\n",
    "        time_l = time.mktime(dm.loc[:, 'ticktime'][-1].timetuple())\n",
    "        dur = round((time.time() - time_l) / 60, 2)\n",
    "        if dur > 5:\n",
    "            print(\"timel > 5,renew dm\")\n",
    "            dm = sina_data.Sina().market('all')\n",
    "            sina_dm = dm.copy()\n",
    "\n",
    "    if realtime:\n",
    "        print(\"compute percent\")\n",
    "        df.rename(columns={'low': 'llow',\n",
    "                  'high': 'lhigh', 'open': 'lopen'}, inplace=True)\n",
    "        if 'nclose' in dm.columns:\n",
    "            dd = cct.combine_dataFrame(\n",
    "                df, dm.loc\n",
    "                [:,\n",
    "                 ['nclose', 'close', 'name', 'open', 'high', 'low', 'llastp',\n",
    "                  'ticktime']],\n",
    "                clean=True)\n",
    "        else:\n",
    "            dd = cct.combine_dataFrame(\n",
    "                df, dm.loc\n",
    "                [:, ['close', 'name', 'open', 'high', 'low', 'llastp', 'ticktime']],\n",
    "                clean=True)\n",
    "        dd['perc'] = ((dd['close'] - dd['llastp']) / dd['llastp'] *\n",
    "                      100).map(lambda x: round(x, 2))\n",
    "        # dd = cct.combine_dataFrame(df, dm['name'])\n",
    "\n",
    "    else:\n",
    "        dd = cct.combine_dataFrame(df, dm['name'])\n",
    "    # cname = sina_data.Sina().get_code_cname(code)\n",
    "    return dd\n",
    "\n",
    "# from JSONData import tdx_hdf5_api as h5a\n",
    "names = locals()\n",
    "def get_tdx_all_now(resample='d',market_blk='all',showtable=True):\n",
    "    top_now = tdd.getSinaAlldf(market=market_blk, vol=ct.json_countVol, vtype=ct.json_countType)\n",
    "    if resample=='d' or resample=='3d':\n",
    "        dl=ct.Resample_LABELS_Days[resample]\n",
    "    elif  resample=='w':\n",
    "        #200\n",
    "        dl=ct.Resample_LABELS_Days[resample]\n",
    "    else:\n",
    "        #300\n",
    "        dl=ct.Resample_LABELS_Days[resample]\n",
    "    filter='y'\n",
    "#     import pdb;pdb.set_trace()\n",
    "    if not f'lastpTDX_DF_{resample}' in names:\n",
    "        print(f'lastpTDX_DF_{resample} not in locals')\n",
    "        top_all, lastpTDX_DF = tdd.get_append_lastp_to_df(top_now, dl=dl,resample=resample,showtable=showtable)\n",
    "        names[f'lastpTDX_DF_{resample}'] = lastpTDX_DF\n",
    "    else:\n",
    "        print(f'lastpTDX_DF_{resample} in locals')\n",
    "        print(eval(f'lastpTDX_DF_{resample}.shape'))\n",
    "        top_all = tdd.get_append_lastp_to_df(top_now, eval(f'lastpTDX_DF_{resample}'))\n",
    "    return top_all\n",
    "\n",
    "def get_tdx_all_from_h5_old(resample='d',showtable=True):\n",
    "    #sina_monitor\n",
    "    h5_fname = 'tdx_last_df'\n",
    "    # resample=resample\n",
    "    # if resample=='d' or resample=='3d':\n",
    "    #     dl='60'\n",
    "    # elif  resample=='w':\n",
    "    #     dl='200'\n",
    "    # else:\n",
    "    #     dl='300'\n",
    "    if resample=='d' or resample=='3d':\n",
    "        dl=ct.Resample_LABELS_Days[resample]\n",
    "    elif  resample=='w':\n",
    "        #200\n",
    "        dl=ct.Resample_LABELS_Days[resample]\n",
    "    else:\n",
    "        #300\n",
    "        dl=ct.Resample_LABELS_Days[resample]\n",
    "        \n",
    "    filter='y'\n",
    "    h5_table = 'low' + '_' + resample + '_' + str(dl) + '_' + filter + '_' + 'all'\n",
    "    h5 = h5a.load_hdf_db(h5_fname, table=h5_table,code_l=None, timelimit=False,showtable=showtable)\n",
    "    if h5 is None:\n",
    "        h5,tdx = tdd.get_append_lastp_to_df(sina_data.Sina().market('all'),dl=dl,resample=resample)\n",
    "    return h5\n",
    "\n",
    "\n",
    "# def get_tdx_all_from_h5_old(resample='d',dl=ct.duration_date_day, end=None, ptype='low', filter='y',showtable=True):\n",
    "#     if end is not None:\n",
    "#         h5_table = ptype + '_' + resample + '_' + str(dl) + '_' + filter + \\\n",
    "#             '_' + end.replace('-', '') + '_' + 'all'\n",
    "#     else:\n",
    "#         h5_table = ptype + '_' + resample + '_' + str(dl) + '_' + filter + '_' + 'all'\n",
    "#     #sina_monitor\n",
    "#     h5_fname = 'tdx_last_df'\n",
    "#     resample=resample\n",
    "#     if resample=='d' or resample=='3d':\n",
    "#         dl='60'\n",
    "#     elif  resample=='w':\n",
    "#         dl='200'\n",
    "#     else:\n",
    "#         dl='300'\n",
    "#     filter='y'\n",
    "#     h5_table = 'low' + '_' + resample + '_' + str(dl) + '_' + filter + '_' + 'all'\n",
    "#     h5 = h5a.load_hdf_db(h5_fname, table=h5_table,code_l=None, timelimit=False,showtable=showtable)\n",
    "#     return h5\n",
    "\n",
    "def write_code_to_blk(codew, blk='077',rewrite=False):\n",
    "    block_path = tdd.get_tdx_dir_blocknew() + '%s.blk' % (blk)\n",
    "    write_blk = 'n'\n",
    "    if not rewrite:\n",
    "        write_blk = cct.cct_raw_input(\"write blk [Y] or [N]:\")\n",
    "        if write_blk == 'y' or write_blk == 'Y':\n",
    "            hdf5_wri = cct.cct_raw_input(\n",
    "                \"Rewrite code [Y] or append [N](defalut:N):\")\n",
    "            if hdf5_wri == 'y' or hdf5_wri == 'Y':\n",
    "                append_status = False\n",
    "            else:\n",
    "                append_status = True\n",
    "            if len(codew) > 3:\n",
    "                cct.write_to_blocknew(block_path, codew, append=append_status,\n",
    "                                      doubleFile=False, keep_last=0)\n",
    "                print(\"write:%s block_path:%s\" % (len(codew), block_path))\n",
    "            else:\n",
    "                print(\"write error:%s block_path:%s\" % (len(codew), block_path))\n",
    "    else:\n",
    "        if len(codew) > 3:\n",
    "                cct.write_to_blocknew(block_path, codew, append=False,\n",
    "                                      doubleFile=False, keep_last=0)\n",
    "                print(\"write:%s block_path:%s\" % (len(codew), block_path))\n",
    "        else:\n",
    "            print(\"write error:%s block_path:%s\" % (len(codew), block_path))\n",
    "\n",
    "def apply_col_toint(df, col=None):\n",
    "    if col is None:\n",
    "        co2int = ['boll', 'op', 'ratio', 'fib', 'fibl', 'df2']\n",
    "    # co2int.extend([co for co in df.columns.tolist()\n",
    "    #                if co.startswith('perc') and co.endswith('d')])\n",
    "        co2int.extend(['top10', 'topR'])\n",
    "    else:\n",
    "        co2int = col\n",
    "    co2int = [inx for inx in co2int if inx in df.columns]\n",
    "\n",
    "    for co in co2int:\n",
    "        df[co] = df[co].astype(int)\n",
    "\n",
    "    return df\n",
    "\n",
    "def readHdf5(fpath, root=None):\n",
    "    if not os.path.exists(fpath):\n",
    "        print(f'fpath is not exists')\n",
    "        return None\n",
    "    store = pd.HDFStore(fpath, \"r\")\n",
    "    print(store.keys())\n",
    "    if len(store.keys()) > 0 and root is None and store is not None:\n",
    "        root = store.keys()[0].replace(\"/\", \"\")\n",
    "        df = store[root]\n",
    "        df = apply_col_toint(df)\n",
    "    else:\n",
    "        df = None\n",
    "    store.close()\n",
    "    return df"
   ]
  },
  {
   "cell_type": "code",
   "execution_count": 3,
   "id": "4954d038",
   "metadata": {
    "ExecuteTime": {
     "end_time": "2025-06-23T07:24:28.947175Z",
     "start_time": "2025-06-23T07:24:28.933359Z"
    },
    "execution": {
     "iopub.execute_input": "2025-09-17T13:23:06.977790Z",
     "iopub.status.busy": "2025-09-17T13:23:06.977790Z",
     "iopub.status.idle": "2025-09-17T13:23:06.992750Z",
     "shell.execute_reply": "2025-09-17T13:23:06.991755Z",
     "shell.execute_reply.started": "2025-09-17T13:23:06.977790Z"
    }
   },
   "outputs": [
    {
     "data": {
      "text/plain": [
       "False"
      ]
     },
     "execution_count": 3,
     "metadata": {},
     "output_type": "execute_result"
    },
    {
     "data": {
      "text/plain": [
       "False"
      ]
     },
     "execution_count": 3,
     "metadata": {},
     "output_type": "execute_result"
    }
   ],
   "source": [
    "f'lastpTDX_DF_d' in names\n",
    "f'lastpTDX_DF_d' in locals()\n",
    "# eval(f'lastpTDX_DF_d')"
   ]
  },
  {
   "cell_type": "markdown",
   "id": "5a45d7a7",
   "metadata": {},
   "source": [
    "## init data"
   ]
  },
  {
   "cell_type": "markdown",
   "id": "ef938827",
   "metadata": {},
   "source": [
    "### get_tdx_all"
   ]
  },
  {
   "cell_type": "code",
   "execution_count": 4,
   "id": "26124559-db9b-48f7-aa4b-1a3e91ed5f8c",
   "metadata": {
    "ExecuteTime": {
     "end_time": "2025-06-23T07:24:28.986032Z",
     "start_time": "2025-06-23T07:24:28.981754Z"
    },
    "execution": {
     "iopub.execute_input": "2025-09-17T13:23:06.996740Z",
     "iopub.status.busy": "2025-09-17T13:23:06.995742Z",
     "iopub.status.idle": "2025-09-17T13:23:07.007709Z",
     "shell.execute_reply": "2025-09-17T13:23:07.006712Z",
     "shell.execute_reply.started": "2025-09-17T13:23:06.996740Z"
    }
   },
   "outputs": [],
   "source": [
    "# h5_day=get_tdx_all_now(resample='d')"
   ]
  },
  {
   "cell_type": "markdown",
   "id": "2b1db239",
   "metadata": {},
   "source": [
    "### sina"
   ]
  },
  {
   "cell_type": "markdown",
   "id": "0a650384",
   "metadata": {},
   "source": [
    "### sina_all"
   ]
  },
  {
   "cell_type": "code",
   "execution_count": 5,
   "id": "eacdcd3e",
   "metadata": {
    "ExecuteTime": {
     "end_time": "2025-06-23T07:24:29.950340Z",
     "start_time": "2025-06-23T07:24:29.031281Z"
    },
    "execution": {
     "iopub.execute_input": "2025-09-17T13:23:07.010702Z",
     "iopub.status.busy": "2025-09-17T13:23:07.009705Z",
     "iopub.status.idle": "2025-09-17T13:23:07.413625Z",
     "shell.execute_reply": "2025-09-17T13:23:07.413160Z",
     "shell.execute_reply.started": "2025-09-17T13:23:07.010702Z"
    },
    "run_control": {
     "marked": true
    }
   },
   "outputs": [
    {
     "data": {
      "text/plain": [
       "('2025-09-17',\n",
       " code\n",
       " 600186    莲花控股\n",
       " Name: name, dtype: object)"
      ]
     },
     "execution_count": 5,
     "metadata": {},
     "output_type": "execute_result"
    }
   ],
   "source": [
    "sina_dm = sina_data.Sina().market('all')\n",
    "lastday = cct.last_tddate()\n",
    "lastday,sina_dm.name[:1]\n",
    "sina_dm = clean_sina_dm(sina_dm)"
   ]
  },
  {
   "cell_type": "code",
   "execution_count": 6,
   "id": "0c973adf",
   "metadata": {
    "ExecuteTime": {
     "end_time": "2025-06-23T07:24:29.978486Z",
     "start_time": "2025-06-23T07:24:29.955183Z"
    },
    "execution": {
     "iopub.execute_input": "2025-09-17T13:23:07.414621Z",
     "iopub.status.busy": "2025-09-17T13:23:07.414621Z",
     "iopub.status.idle": "2025-09-17T13:23:07.429580Z",
     "shell.execute_reply": "2025-09-17T13:23:07.428583Z",
     "shell.execute_reply.started": "2025-09-17T13:23:07.414621Z"
    }
   },
   "outputs": [
    {
     "data": {
      "text/plain": [
       "'2025-09/17/25 21:23:07'"
      ]
     },
     "execution_count": 6,
     "metadata": {},
     "output_type": "execute_result"
    },
    {
     "data": {
      "text/plain": [
       "code\n",
       "600776   2025-09-17 15:00:04\n",
       "002434   2025-09-17 15:00:00\n",
       "Name: ticktime, dtype: datetime64[ns]"
      ]
     },
     "execution_count": 6,
     "metadata": {},
     "output_type": "execute_result"
    },
    {
     "data": {
      "text/plain": [
       "383.12369336684543"
      ]
     },
     "execution_count": 6,
     "metadata": {},
     "output_type": "execute_result"
    }
   ],
   "source": [
    "cct.get_time_to_date(time.time(), format='%Y-%D %H:%M:%S')\n",
    "\n",
    "# abc=dm.loc[:,'ticktime'][-1]\n",
    "sina_dm.ticktime[-2:]\n",
    "# dm.ticktime[:1]\n",
    "# sina_dm.loc[:, 'ticktime'][-1]\n",
    "# time.strptime(abc,format='%Y-%m-%d %H:%M:%S')\n",
    "# (time.mktime(abc.timetuple()))\n",
    "(time.time() - time.mktime(sina_dm.loc[:, 'ticktime'][-1].timetuple())) / 60"
   ]
  },
  {
   "cell_type": "markdown",
   "id": "8e36c9a3",
   "metadata": {},
   "source": [
    "#### 实时成交"
   ]
  },
  {
   "cell_type": "code",
   "execution_count": 7,
   "id": "a38f56d8",
   "metadata": {
    "ExecuteTime": {
     "end_time": "2025-06-23T07:24:40.440664Z",
     "start_time": "2025-06-23T07:24:29.982630Z"
    },
    "execution": {
     "iopub.execute_input": "2025-09-17T13:23:07.430578Z",
     "iopub.status.busy": "2025-09-17T13:23:07.430578Z",
     "iopub.status.idle": "2025-09-17T13:23:08.467803Z",
     "shell.execute_reply": "2025-09-17T13:23:08.466845Z",
     "shell.execute_reply.started": "2025-09-17T13:23:07.430578Z"
    },
    "tags": []
   },
   "outputs": [
    {
     "name": "stdout",
     "output_type": "stream",
     "text": [
      "sina_MultiD_path:G:\\sina_MultiIndex_data.h5\n",
      "['/all_30']\n",
      "G:\\sina_MultiIndex_data.h5\n"
     ]
    },
    {
     "data": {
      "text/plain": [
       "(634034, 6)"
      ]
     },
     "execution_count": 7,
     "metadata": {},
     "output_type": "execute_result"
    },
    {
     "data": {
      "text/html": [
       "<div>\n",
       "<style scoped>\n",
       "    .dataframe tbody tr th:only-of-type {\n",
       "        vertical-align: middle;\n",
       "    }\n",
       "\n",
       "    .dataframe tbody tr th {\n",
       "        vertical-align: top;\n",
       "    }\n",
       "\n",
       "    .dataframe thead th {\n",
       "        text-align: right;\n",
       "    }\n",
       "</style>\n",
       "<table border=\"1\" class=\"dataframe\">\n",
       "  <thead>\n",
       "    <tr style=\"text-align: right;\">\n",
       "      <th></th>\n",
       "      <th>close</th>\n",
       "      <th>high</th>\n",
       "      <th>low</th>\n",
       "      <th>llastp</th>\n",
       "      <th>volume</th>\n",
       "      <th>lastbuy</th>\n",
       "    </tr>\n",
       "    <tr>\n",
       "      <th>ticktime</th>\n",
       "      <th></th>\n",
       "      <th></th>\n",
       "      <th></th>\n",
       "      <th></th>\n",
       "      <th></th>\n",
       "      <th></th>\n",
       "    </tr>\n",
       "  </thead>\n",
       "  <tbody>\n",
       "    <tr>\n",
       "      <th>2025-09-17 14:59:53</th>\n",
       "      <td>108.38</td>\n",
       "      <td>109.75</td>\n",
       "      <td>105.25</td>\n",
       "      <td>111.5</td>\n",
       "      <td>117269514</td>\n",
       "      <td>108.75</td>\n",
       "    </tr>\n",
       "    <tr>\n",
       "      <th>2025-09-17 15:00:02</th>\n",
       "      <td>108.50</td>\n",
       "      <td>109.75</td>\n",
       "      <td>105.25</td>\n",
       "      <td>111.5</td>\n",
       "      <td>118721114</td>\n",
       "      <td>108.75</td>\n",
       "    </tr>\n",
       "    <tr>\n",
       "      <th>2025-09-17 15:00:02</th>\n",
       "      <td>108.50</td>\n",
       "      <td>109.75</td>\n",
       "      <td>105.25</td>\n",
       "      <td>111.5</td>\n",
       "      <td>118721114</td>\n",
       "      <td>108.50</td>\n",
       "    </tr>\n",
       "  </tbody>\n",
       "</table>\n",
       "</div>"
      ],
      "text/plain": [
       "                      close    high     low  llastp     volume  lastbuy\n",
       "ticktime                                                               \n",
       "2025-09-17 14:59:53  108.38  109.75  105.25   111.5  117269514   108.75\n",
       "2025-09-17 15:00:02  108.50  109.75  105.25   111.5  118721114   108.75\n",
       "2025-09-17 15:00:02  108.50  109.75  105.25   111.5  118721114   108.50"
      ]
     },
     "execution_count": 7,
     "metadata": {},
     "output_type": "execute_result"
    },
    {
     "data": {
      "text/plain": [
       "1.0"
      ]
     },
     "execution_count": 7,
     "metadata": {},
     "output_type": "execute_result"
    },
    {
     "name": "stdout",
     "output_type": "stream",
     "text": [
      "总量:14434.21 亿\n"
     ]
    },
    {
     "data": {
      "text/plain": [
       "ticktime    2025-09-18 00:00:00\n",
       "close                108.686885\n",
       "volume                     0.89\n",
       "vol                      118.72\n",
       "amount                   129.03\n",
       "Name: 603019, dtype: object"
      ]
     },
     "execution_count": 7,
     "metadata": {},
     "output_type": "execute_result"
    },
    {
     "data": {
      "text/plain": [
       "'2025-09-17'"
      ]
     },
     "execution_count": 7,
     "metadata": {},
     "output_type": "execute_result"
    }
   ],
   "source": [
    "# tdx_path = \"G:\\\\tdx_last_df.h5\"\n",
    "# from JohnsonUtil import commonTips as cct\n",
    "sina_MultiD_path = f\"{cct.get_ramdisk_dir()}\\\\sina_MultiIndex_data.h5\".replace('\\\\',os.sep)\n",
    "print(f'sina_MultiD_path:{sina_MultiD_path}')\n",
    "h5 = readHdf5(sina_MultiD_path)\n",
    "print(sina_MultiD_path)\n",
    "if h5 is not None:\n",
    "    h5.shape\n",
    "    h5code='603019'\n",
    "    h5.loc[h5code][-3:]\n",
    "    code_muti = '603019'\n",
    "    # h5.loc[code_muti][:2]\n",
    "\n",
    "    freq = 'D'\n",
    "    # freq = '5M'\n",
    "    startime = '09:25:00'\n",
    "    endtime = '15:01:00'\n",
    "\n",
    "    time_ratio = cct.get_work_time_ratio()\n",
    "    time_ratio\n",
    "    run_col = ['close', 'volume']\n",
    "    # run_col = ['close']\n",
    "    mdf = cct.get_limit_multiIndex_freq(\n",
    "        h5, freq=freq.upper(),\n",
    "        col=run_col, start=startime, end=endtime, code=None)\n",
    "    allvol = mdf.volume.sum()\n",
    "    allvol = round(allvol / 10 / 1000 / 1000,2)\n",
    "    print(\"总量:%s 亿\"%(allvol))\n",
    "    mdf['vol']=mdf['volume'].apply(lambda x: round(x /1000/1000,2)) \n",
    "    mdf['amount']=(mdf.volume * mdf.close).map(lambda x: round(x/100/1000/1000, 2))\n",
    "    #全局占比\n",
    "    mdf['volume'] = mdf.amount.apply(\n",
    "        lambda x: round(x / allvol * 100 / time_ratio, 2))\n",
    "    mdf=mdf.reset_index().set_index('code')\n",
    "    mdf.loc[h5code]\n",
    "    str(h5.index.get_level_values(1)[-1])[:10]\n",
    "else:\n",
    "    mdf = None"
   ]
  },
  {
   "cell_type": "markdown",
   "id": "611dc8ac",
   "metadata": {},
   "source": [
    "#### 读取实时成交个股"
   ]
  },
  {
   "cell_type": "code",
   "execution_count": 8,
   "id": "203b1873",
   "metadata": {
    "ExecuteTime": {
     "end_time": "2025-06-23T07:24:40.484477Z",
     "start_time": "2025-06-23T07:24:40.453563Z"
    },
    "execution": {
     "iopub.execute_input": "2025-09-17T13:23:08.468800Z",
     "iopub.status.busy": "2025-09-17T13:23:08.467803Z",
     "iopub.status.idle": "2025-09-17T13:23:08.497722Z",
     "shell.execute_reply": "2025-09-17T13:23:08.497722Z",
     "shell.execute_reply.started": "2025-09-17T13:23:08.468800Z"
    },
    "lang": "en"
   },
   "outputs": [
    {
     "data": {
      "text/plain": [
       "((5188, 5),\n",
       "         volume  name\n",
       " code                \n",
       " 300476    1.48  胜宏科技\n",
       " 300750    1.42  宁德时代\n",
       " 300059    1.33  东方财富\n",
       " 688981    1.24  中芯国际\n",
       " 002050    1.06  三花智控\n",
       " 601138    1.02  工业富联\n",
       " 688256    0.98   寒武纪\n",
       " 300274    0.91  阳光电源\n",
       " 300308    0.91  中际旭创\n",
       " 603019    0.89  中科曙光\n",
       " 600580    0.89  卧龙电驱\n",
       " 300502    0.83   新易盛\n",
       " 688041    0.83  海光信息\n",
       " 300803    0.79   指南针\n",
       " 002594    0.75   比亚迪\n",
       " 002475    0.71  立讯精密\n",
       " 600410    0.67  华胜天成\n",
       " 600030    0.61  中信证券\n",
       " 300115    0.56  长盈精密\n",
       " 601689    0.55  拓普集团)"
      ]
     },
     "execution_count": 8,
     "metadata": {},
     "output_type": "execute_result"
    }
   ],
   "source": [
    "if mdf is not None:\n",
    "    nowdf = mdf.sort_values(by=['volume'], ascending=[0])\n",
    "    # nowdf.shape, df.shape, code_idx.shape\n",
    "    # top20_nd = nowdf.reset_index().loc[:, ['code', 'volume']][:20]\n",
    "    top20_nd = nowdf.reset_index().loc[:, ['code', 'volume']][:20]\n",
    "    top20_nd = get_sina_data_cname(top20_nd)\n",
    "    nowdf.shape, top20_nd"
   ]
  },
  {
   "cell_type": "markdown",
   "id": "7c81f9f6",
   "metadata": {},
   "source": [
    "##### 合并实时成交量及SinaDM"
   ]
  },
  {
   "cell_type": "code",
   "execution_count": 9,
   "id": "130319a8",
   "metadata": {
    "ExecuteTime": {
     "end_time": "2025-06-23T07:24:40.594616Z",
     "start_time": "2025-06-23T07:24:40.489254Z"
    },
    "execution": {
     "iopub.execute_input": "2025-09-17T13:23:08.499717Z",
     "iopub.status.busy": "2025-09-17T13:23:08.498720Z",
     "iopub.status.idle": "2025-09-17T13:23:08.561552Z",
     "shell.execute_reply": "2025-09-17T13:23:08.560555Z",
     "shell.execute_reply.started": "2025-09-17T13:23:08.499717Z"
    },
    "tags": []
   },
   "outputs": [],
   "source": [
    "# mdf[:1]\n",
    "if mdf is not None:\n",
    "    sinadm = cct.combine_dataFrame(sina_dm, mdf[['vol','amount']])\n",
    "else:\n",
    "    sinadm = sina_dm\n",
    "sinadm['percent']=((sinadm['close']-sinadm['llastp'])/(sinadm['llastp'])*100).round(1)\n"
   ]
  },
  {
   "cell_type": "markdown",
   "id": "5e811e71",
   "metadata": {},
   "source": [
    "## resample 多周期"
   ]
  },
  {
   "cell_type": "markdown",
   "id": "76cb8e8c",
   "metadata": {},
   "source": [
    "### filterKey!!!"
   ]
  },
  {
   "cell_type": "code",
   "execution_count": 10,
   "id": "da7aeb35",
   "metadata": {
    "ExecuteTime": {
     "end_time": "2025-06-23T07:24:40.605288Z",
     "start_time": "2025-06-23T07:24:40.597918Z"
    },
    "execution": {
     "iopub.execute_input": "2025-09-17T13:23:08.566542Z",
     "iopub.status.busy": "2025-09-17T13:23:08.565541Z",
     "iopub.status.idle": "2025-09-17T13:23:08.575515Z",
     "shell.execute_reply": "2025-09-17T13:23:08.575515Z",
     "shell.execute_reply.started": "2025-09-17T13:23:08.566542Z"
    }
   },
   "outputs": [],
   "source": [
    "filter_query={'2周期上冲上轨And涨幅新高': 'lasth1d > upper1 and lasth2d >upper2 and high >boll and percent > maxp',\n",
    "             '3周期新高上轨':'lastp1d > lastp2d > lastp3d and lasth1d > upper1 and lasth2d > upper2 and lasth3d > upper3',\n",
    "             '3周期新高大于Ma5': 'lastp1d > lastp2d and lasth2d > lasth3d and lastl2d > lastl3d and lastp1d > ma51d',\n",
    "             '新高上upper':'lasth1d  >lasth2d  and lastp1d > ma51d and lastp1d > lastp2d*0.99 and lasth2d > lasth3d  and lasth1d >upper',\n",
    "            }   \n",
    "filter_keys=list(filter_query.keys())"
   ]
  },
  {
   "cell_type": "code",
   "execution_count": 11,
   "id": "1e9b8e62",
   "metadata": {
    "ExecuteTime": {
     "end_time": "2025-06-23T07:24:40.616568Z",
     "start_time": "2025-06-23T07:24:40.611043Z"
    },
    "execution": {
     "iopub.execute_input": "2025-09-17T13:23:08.577510Z",
     "iopub.status.busy": "2025-09-17T13:23:08.577510Z",
     "iopub.status.idle": "2025-09-17T13:23:08.591471Z",
     "shell.execute_reply": "2025-09-17T13:23:08.590476Z",
     "shell.execute_reply.started": "2025-09-17T13:23:08.577510Z"
    }
   },
   "outputs": [],
   "source": [
    "def get_filter(idx=0):\n",
    "    filter_key=filter_query[filter_keys[idx]]\n",
    "    print(f'{filter_keys[idx]}: {filter_key}')\n",
    "    return filter_key"
   ]
  },
  {
   "cell_type": "code",
   "execution_count": 12,
   "id": "0505a3c6",
   "metadata": {
    "ExecuteTime": {
     "end_time": "2025-06-23T07:24:40.635428Z",
     "start_time": "2025-06-23T07:24:40.622235Z"
    },
    "execution": {
     "iopub.execute_input": "2025-09-17T13:23:08.593468Z",
     "iopub.status.busy": "2025-09-17T13:23:08.592471Z",
     "iopub.status.idle": "2025-09-17T13:23:08.607429Z",
     "shell.execute_reply": "2025-09-17T13:23:08.606433Z",
     "shell.execute_reply.started": "2025-09-17T13:23:08.593468Z"
    },
    "tags": []
   },
   "outputs": [],
   "source": [
    "filterIDX=3\n",
    "# h5_3d=None,h5_d=None,h5_w=None,h5_m=None"
   ]
  },
  {
   "cell_type": "markdown",
   "id": "d02d9218",
   "metadata": {},
   "source": [
    "### resample 3d"
   ]
  },
  {
   "cell_type": "code",
   "execution_count": 13,
   "id": "cc7efd64",
   "metadata": {
    "ExecuteTime": {
     "end_time": "2025-06-23T08:03:45.195181Z",
     "start_time": "2025-06-23T07:24:58.557148Z"
    },
    "execution": {
     "iopub.execute_input": "2025-09-17T13:23:08.608427Z",
     "iopub.status.busy": "2025-09-17T13:23:08.608427Z",
     "iopub.status.idle": "2025-09-17T13:23:14.122719Z",
     "shell.execute_reply": "2025-09-17T13:23:14.121754Z",
     "shell.execute_reply.started": "2025-09-17T13:23:08.608427Z"
    },
    "tags": []
   },
   "outputs": [
    {
     "name": "stdout",
     "output_type": "stream",
     "text": [
      "initdx :0 b1>:5197 it:0.3 lastpTDX_DF_3d not in locals\n",
      "fname: tdx_last_df keys:['/low_3d_120_y_all', '/low_d_60_y_all', '/low_m_300_y_all', '/low_w_200_y_all']\n"
     ]
    },
    {
     "name": "stderr",
     "output_type": "stream",
     "text": [
      "[2025-09-17 21:23:11,069] ERROR:tdx_data_Day.py(get_append_lastp_to_df:4587): tdx Out:1 code:['300280']\n"
     ]
    },
    {
     "name": "stdout",
     "output_type": "stream",
     "text": [
      "tdxdataT:0.8\n",
      "DLTDXE:0.80 "
     ]
    }
   ],
   "source": [
    "# h5_3d = get_tdx_all_from_h5(resample='3d') if h5_3d is None else h5_3d\n",
    "h5_3d = get_tdx_all_now(resample='3d')\n",
    "# tdx_3d = cct.combine_dataFrame(h5_3d,sinadm)"
   ]
  },
  {
   "cell_type": "code",
   "execution_count": 14,
   "id": "51e3d74c",
   "metadata": {
    "ExecuteTime": {
     "end_time": "2025-06-23T05:24:15.337199Z",
     "start_time": "2025-06-23T05:24:15.231244Z"
    },
    "execution": {
     "iopub.execute_input": "2025-09-17T13:23:14.124715Z",
     "iopub.status.busy": "2025-09-17T13:23:14.124715Z",
     "iopub.status.idle": "2025-09-17T13:23:14.201508Z",
     "shell.execute_reply": "2025-09-17T13:23:14.200547Z",
     "shell.execute_reply.started": "2025-09-17T13:23:14.124715Z"
    },
    "tags": []
   },
   "outputs": [
    {
     "name": "stdout",
     "output_type": "stream",
     "text": [
      "Count:79 251\n"
     ]
    },
    {
     "data": {
      "text/html": [
       "<div>\n",
       "<style scoped>\n",
       "    .dataframe tbody tr th:only-of-type {\n",
       "        vertical-align: middle;\n",
       "    }\n",
       "\n",
       "    .dataframe tbody tr th {\n",
       "        vertical-align: top;\n",
       "    }\n",
       "\n",
       "    .dataframe thead th {\n",
       "        text-align: right;\n",
       "    }\n",
       "</style>\n",
       "<table border=\"1\" class=\"dataframe\">\n",
       "  <thead>\n",
       "    <tr style=\"text-align: right;\">\n",
       "      <th></th>\n",
       "      <th>name</th>\n",
       "      <th>percent</th>\n",
       "      <th>couts</th>\n",
       "      <th>date</th>\n",
       "      <th>close</th>\n",
       "      <th>hmax</th>\n",
       "      <th>lmin</th>\n",
       "      <th>perc1d</th>\n",
       "      <th>nclose</th>\n",
       "      <th>llow</th>\n",
       "      <th>perc3d</th>\n",
       "      <th>perc5d</th>\n",
       "    </tr>\n",
       "    <tr>\n",
       "      <th>code</th>\n",
       "      <th></th>\n",
       "      <th></th>\n",
       "      <th></th>\n",
       "      <th></th>\n",
       "      <th></th>\n",
       "      <th></th>\n",
       "      <th></th>\n",
       "      <th></th>\n",
       "      <th></th>\n",
       "      <th></th>\n",
       "      <th></th>\n",
       "      <th></th>\n",
       "    </tr>\n",
       "  </thead>\n",
       "  <tbody>\n",
       "    <tr>\n",
       "      <th>000981</th>\n",
       "      <td>山子高科</td>\n",
       "      <td>10.12</td>\n",
       "      <td>136</td>\n",
       "      <td>2025-04-28</td>\n",
       "      <td>3.70</td>\n",
       "      <td>2.77</td>\n",
       "      <td>2.00</td>\n",
       "      <td>96.0</td>\n",
       "      <td>3.70</td>\n",
       "      <td>1.68</td>\n",
       "      <td>69.0</td>\n",
       "      <td>24.0</td>\n",
       "    </tr>\n",
       "    <tr>\n",
       "      <th>600376</th>\n",
       "      <td>首开股份</td>\n",
       "      <td>10.04</td>\n",
       "      <td>723</td>\n",
       "      <td>2025-04-07</td>\n",
       "      <td>7.34</td>\n",
       "      <td>5.51</td>\n",
       "      <td>2.27</td>\n",
       "      <td>49.0</td>\n",
       "      <td>7.34</td>\n",
       "      <td>2.26</td>\n",
       "      <td>84.0</td>\n",
       "      <td>79.0</td>\n",
       "    </tr>\n",
       "    <tr>\n",
       "      <th>603786</th>\n",
       "      <td>科博达</td>\n",
       "      <td>9.98</td>\n",
       "      <td>1</td>\n",
       "      <td>2025-06-20</td>\n",
       "      <td>76.50</td>\n",
       "      <td>61.66</td>\n",
       "      <td>49.91</td>\n",
       "      <td>84.0</td>\n",
       "      <td>76.50</td>\n",
       "      <td>50.59</td>\n",
       "      <td>46.0</td>\n",
       "      <td>-22.0</td>\n",
       "    </tr>\n",
       "    <tr>\n",
       "      <th>002059</th>\n",
       "      <td>云南旅游</td>\n",
       "      <td>9.96</td>\n",
       "      <td>391</td>\n",
       "      <td>2025-05-23</td>\n",
       "      <td>6.07</td>\n",
       "      <td>5.37</td>\n",
       "      <td>5.01</td>\n",
       "      <td>43.0</td>\n",
       "      <td>6.07</td>\n",
       "      <td>5.02</td>\n",
       "      <td>26.0</td>\n",
       "      <td>41.0</td>\n",
       "    </tr>\n",
       "    <tr>\n",
       "      <th>603843</th>\n",
       "      <td>*ST正平</td>\n",
       "      <td>4.98</td>\n",
       "      <td>0</td>\n",
       "      <td>2025-05-07</td>\n",
       "      <td>4.22</td>\n",
       "      <td>3.65</td>\n",
       "      <td>2.57</td>\n",
       "      <td>102.0</td>\n",
       "      <td>4.22</td>\n",
       "      <td>2.17</td>\n",
       "      <td>40.0</td>\n",
       "      <td>40.0</td>\n",
       "    </tr>\n",
       "    <tr>\n",
       "      <th>871634</th>\n",
       "      <td>新威凌</td>\n",
       "      <td>4.17</td>\n",
       "      <td>0</td>\n",
       "      <td>2025-04-07</td>\n",
       "      <td>35.22</td>\n",
       "      <td>34.12</td>\n",
       "      <td>26.11</td>\n",
       "      <td>29.0</td>\n",
       "      <td>33.50</td>\n",
       "      <td>20.09</td>\n",
       "      <td>21.0</td>\n",
       "      <td>11.0</td>\n",
       "    </tr>\n",
       "    <tr>\n",
       "      <th>600026</th>\n",
       "      <td>中远海能</td>\n",
       "      <td>3.50</td>\n",
       "      <td>81</td>\n",
       "      <td>2025-04-07</td>\n",
       "      <td>12.73</td>\n",
       "      <td>12.09</td>\n",
       "      <td>9.99</td>\n",
       "      <td>28.0</td>\n",
       "      <td>12.70</td>\n",
       "      <td>9.68</td>\n",
       "      <td>89.0</td>\n",
       "      <td>-1.0</td>\n",
       "    </tr>\n",
       "    <tr>\n",
       "      <th>600007</th>\n",
       "      <td>中国国贸</td>\n",
       "      <td>3.43</td>\n",
       "      <td>0</td>\n",
       "      <td>2025-04-07</td>\n",
       "      <td>22.33</td>\n",
       "      <td>21.52</td>\n",
       "      <td>20.20</td>\n",
       "      <td>35.0</td>\n",
       "      <td>22.28</td>\n",
       "      <td>19.77</td>\n",
       "      <td>8.0</td>\n",
       "      <td>9.0</td>\n",
       "    </tr>\n",
       "    <tr>\n",
       "      <th>600103</th>\n",
       "      <td>青山纸业</td>\n",
       "      <td>2.95</td>\n",
       "      <td>1094</td>\n",
       "      <td>2025-04-07</td>\n",
       "      <td>4.54</td>\n",
       "      <td>4.18</td>\n",
       "      <td>2.12</td>\n",
       "      <td>39.0</td>\n",
       "      <td>4.51</td>\n",
       "      <td>2.00</td>\n",
       "      <td>99.0</td>\n",
       "      <td>11.0</td>\n",
       "    </tr>\n",
       "    <tr>\n",
       "      <th>832145</th>\n",
       "      <td>恒合股份</td>\n",
       "      <td>2.86</td>\n",
       "      <td>0</td>\n",
       "      <td>2025-04-07</td>\n",
       "      <td>23.75</td>\n",
       "      <td>24.34</td>\n",
       "      <td>19.95</td>\n",
       "      <td>-6.0</td>\n",
       "      <td>23.66</td>\n",
       "      <td>15.10</td>\n",
       "      <td>2.0</td>\n",
       "      <td>-27.0</td>\n",
       "    </tr>\n",
       "  </tbody>\n",
       "</table>\n",
       "</div>"
      ],
      "text/plain": [
       "         name  percent  couts        date  close   hmax   lmin  perc1d  \\\n",
       "code                                                                     \n",
       "000981   山子高科    10.12    136  2025-04-28   3.70   2.77   2.00    96.0   \n",
       "600376   首开股份    10.04    723  2025-04-07   7.34   5.51   2.27    49.0   \n",
       "603786    科博达     9.98      1  2025-06-20  76.50  61.66  49.91    84.0   \n",
       "002059   云南旅游     9.96    391  2025-05-23   6.07   5.37   5.01    43.0   \n",
       "603843  *ST正平     4.98      0  2025-05-07   4.22   3.65   2.57   102.0   \n",
       "871634    新威凌     4.17      0  2025-04-07  35.22  34.12  26.11    29.0   \n",
       "600026   中远海能     3.50     81  2025-04-07  12.73  12.09   9.99    28.0   \n",
       "600007   中国国贸     3.43      0  2025-04-07  22.33  21.52  20.20    35.0   \n",
       "600103   青山纸业     2.95   1094  2025-04-07   4.54   4.18   2.12    39.0   \n",
       "832145   恒合股份     2.86      0  2025-04-07  23.75  24.34  19.95    -6.0   \n",
       "\n",
       "        nclose   llow  perc3d  perc5d  \n",
       "code                                   \n",
       "000981    3.70   1.68    69.0    24.0  \n",
       "600376    7.34   2.26    84.0    79.0  \n",
       "603786   76.50  50.59    46.0   -22.0  \n",
       "002059    6.07   5.02    26.0    41.0  \n",
       "603843    4.22   2.17    40.0    40.0  \n",
       "871634   33.50  20.09    21.0    11.0  \n",
       "600026   12.70   9.68    89.0    -1.0  \n",
       "600007   22.28  19.77     8.0     9.0  \n",
       "600103    4.51   2.00    99.0    11.0  \n",
       "832145   23.66  15.10     2.0   -27.0  "
      ]
     },
     "execution_count": 14,
     "metadata": {},
     "output_type": "execute_result"
    }
   ],
   "source": [
    "# tdx_now.query('close >  lastp1d  and lastl1d < ma51d and close > ma51d and lastp1d < upper and lastp1d > lastp2d and lasth1d >high4 and boll > 0 and volume < 1')\n",
    "# tdx_select = tdx_3d.query('close > lastp1d and percent < 3')\n",
    "# tdx_select = tdx_3d.query('lastp1d > lastp2d > lastp3d and lasth1d > upper1 and lasth2d > upper2 and lasth3d > upper3')\n",
    "# tdx_select = tdx_3d.query('lastp1d > lastp2d  and lasth2d > lasth3d and (lasth2d > upper2 or lasth3d > upper3) and lasth2d < hmax')\n",
    "# tdx_select = tdx_3d.query('lastp1d > lastp2d  and lasth2d > lasth3d and lasth3d > lasth4d and lastl1d > lastl2d and lastl2d > lastl3d')\n",
    "# t3d_code = h5_3d.query(f'{get_filter(filterIDX)}')\n",
    "t3d_code = h5_3d.query('lasth1d > ma51d and lasth2d > ma52d and lasth3d > ma53d and ma51d > ma201d and ma52d >ma202d and ma53d > ma203d and macd > 0 and macddif > macddea')\n",
    "show_tdx_data(t3d_code,limit=10)"
   ]
  },
  {
   "cell_type": "code",
   "execution_count": 15,
   "id": "35329e16",
   "metadata": {
    "ExecuteTime": {
     "end_time": "2025-06-23T05:24:15.349264Z",
     "start_time": "2025-06-23T05:24:15.342488Z"
    },
    "execution": {
     "iopub.execute_input": "2025-09-17T13:23:14.202506Z",
     "iopub.status.busy": "2025-09-17T13:23:14.201508Z",
     "iopub.status.idle": "2025-09-17T13:23:14.215506Z",
     "shell.execute_reply": "2025-09-17T13:23:14.215506Z",
     "shell.execute_reply.started": "2025-09-17T13:23:14.202506Z"
    }
   },
   "outputs": [],
   "source": [
    "if '301038' in t3d_code.index:\n",
    "    h5_3d.loc['301038',['lastdu4','boll','ral','fib','percmax','macd','macddif','macddea','macdlast2','macdlast3','lasth1d','lastl1d','lastl2d','lastl3d','lastp1d','ma51d','ma52d','ma53d','ma54d']]"
   ]
  },
  {
   "cell_type": "code",
   "execution_count": 16,
   "id": "3e9533b9",
   "metadata": {
    "ExecuteTime": {
     "end_time": "2025-06-23T05:24:15.356643Z",
     "start_time": "2025-06-23T05:24:15.352440Z"
    },
    "execution": {
     "iopub.execute_input": "2025-09-17T13:23:14.217466Z",
     "iopub.status.busy": "2025-09-17T13:23:14.217466Z",
     "iopub.status.idle": "2025-09-17T13:23:14.232425Z",
     "shell.execute_reply": "2025-09-17T13:23:14.231429Z",
     "shell.execute_reply.started": "2025-09-17T13:23:14.217466Z"
    },
    "tags": []
   },
   "outputs": [],
   "source": [
    "# t3d_code = tdx_3d.query('lasth1d > lasth2d > lasth3d and close >= high4')\n",
    "# t3d_code = h5_3d.query(f'{get_filter(1)}')\n",
    "# show_tdx_data(t3d_code)"
   ]
  },
  {
   "cell_type": "markdown",
   "id": "81ea8f45",
   "metadata": {},
   "source": [
    "### resample W"
   ]
  },
  {
   "cell_type": "code",
   "execution_count": 17,
   "id": "07310ac1",
   "metadata": {
    "ExecuteTime": {
     "end_time": "2025-06-23T05:30:21.044955Z",
     "start_time": "2025-06-23T05:24:15.359967Z"
    },
    "execution": {
     "iopub.execute_input": "2025-09-17T13:23:14.234419Z",
     "iopub.status.busy": "2025-09-17T13:23:14.233424Z",
     "iopub.status.idle": "2025-09-17T13:23:18.908914Z",
     "shell.execute_reply": "2025-09-17T13:23:18.907916Z",
     "shell.execute_reply.started": "2025-09-17T13:23:14.234419Z"
    },
    "tags": []
   },
   "outputs": [
    {
     "name": "stdout",
     "output_type": "stream",
     "text": [
      "initdx :0 b1>:5197 it:0.3 lastpTDX_DF_w not in locals\n",
      "fname: tdx_last_df keys:['/low_3d_120_y_all', '/low_d_60_y_all', '/low_m_300_y_all', '/low_w_200_y_all']\n"
     ]
    }
   ],
   "source": [
    "# h5_w = get_tdx_all_from_h5(resample='w') if h5_w is None else h5_w\n",
    "\n",
    "h5_w = get_tdx_all_now(resample='w') \n",
    "# tdx_w = cct.combine_dataFrame(h5_w,sinadm)"
   ]
  },
  {
   "cell_type": "code",
   "execution_count": 18,
   "id": "8c7f50c7",
   "metadata": {
    "ExecuteTime": {
     "end_time": "2025-06-23T05:30:21.202337Z",
     "start_time": "2025-06-23T05:30:21.057753Z"
    },
    "execution": {
     "iopub.execute_input": "2025-09-17T13:23:18.909911Z",
     "iopub.status.busy": "2025-09-17T13:23:18.909911Z",
     "iopub.status.idle": "2025-09-17T13:23:18.972744Z",
     "shell.execute_reply": "2025-09-17T13:23:18.971784Z",
     "shell.execute_reply.started": "2025-09-17T13:23:18.909911Z"
    },
    "scrolled": true,
    "tags": []
   },
   "outputs": [
    {
     "name": "stdout",
     "output_type": "stream",
     "text": [
      "新高上upper: lasth1d  >lasth2d  and lastp1d > ma51d and lastp1d > lastp2d*0.99 and lasth2d > lasth3d  and lasth1d >upper\n",
      "Count:449 251\n"
     ]
    },
    {
     "data": {
      "text/html": [
       "<div>\n",
       "<style scoped>\n",
       "    .dataframe tbody tr th:only-of-type {\n",
       "        vertical-align: middle;\n",
       "    }\n",
       "\n",
       "    .dataframe tbody tr th {\n",
       "        vertical-align: top;\n",
       "    }\n",
       "\n",
       "    .dataframe thead th {\n",
       "        text-align: right;\n",
       "    }\n",
       "</style>\n",
       "<table border=\"1\" class=\"dataframe\">\n",
       "  <thead>\n",
       "    <tr style=\"text-align: right;\">\n",
       "      <th></th>\n",
       "      <th>name</th>\n",
       "      <th>percent</th>\n",
       "      <th>couts</th>\n",
       "      <th>date</th>\n",
       "      <th>close</th>\n",
       "      <th>hmax</th>\n",
       "      <th>lmin</th>\n",
       "      <th>perc1d</th>\n",
       "      <th>nclose</th>\n",
       "      <th>llow</th>\n",
       "      <th>perc3d</th>\n",
       "      <th>perc5d</th>\n",
       "    </tr>\n",
       "    <tr>\n",
       "      <th>code</th>\n",
       "      <th></th>\n",
       "      <th></th>\n",
       "      <th></th>\n",
       "      <th></th>\n",
       "      <th></th>\n",
       "      <th></th>\n",
       "      <th></th>\n",
       "      <th></th>\n",
       "      <th></th>\n",
       "      <th></th>\n",
       "      <th></th>\n",
       "      <th></th>\n",
       "    </tr>\n",
       "  </thead>\n",
       "  <tbody>\n",
       "    <tr>\n",
       "      <th>300959</th>\n",
       "      <td>线上线下</td>\n",
       "      <td>18.94</td>\n",
       "      <td>1</td>\n",
       "      <td>2025-04-11</td>\n",
       "      <td>82.00</td>\n",
       "      <td>48.38</td>\n",
       "      <td>30.17</td>\n",
       "      <td>76.0</td>\n",
       "      <td>81.94</td>\n",
       "      <td>30.17</td>\n",
       "      <td>-22.0</td>\n",
       "      <td>5.0</td>\n",
       "    </tr>\n",
       "    <tr>\n",
       "      <th>301488</th>\n",
       "      <td>豪恩汽电</td>\n",
       "      <td>14.21</td>\n",
       "      <td>0</td>\n",
       "      <td>2025-01-03</td>\n",
       "      <td>218.00</td>\n",
       "      <td>159.12</td>\n",
       "      <td>46.50</td>\n",
       "      <td>39.0</td>\n",
       "      <td>217.12</td>\n",
       "      <td>49.97</td>\n",
       "      <td>46.0</td>\n",
       "      <td>26.0</td>\n",
       "    </tr>\n",
       "    <tr>\n",
       "      <th>300684</th>\n",
       "      <td>中石科技</td>\n",
       "      <td>14.15</td>\n",
       "      <td>24</td>\n",
       "      <td>2025-01-03</td>\n",
       "      <td>44.62</td>\n",
       "      <td>36.75</td>\n",
       "      <td>16.38</td>\n",
       "      <td>54.0</td>\n",
       "      <td>44.28</td>\n",
       "      <td>20.16</td>\n",
       "      <td>-37.0</td>\n",
       "      <td>41.0</td>\n",
       "    </tr>\n",
       "    <tr>\n",
       "      <th>300469</th>\n",
       "      <td>信息发展</td>\n",
       "      <td>10.85</td>\n",
       "      <td>1</td>\n",
       "      <td>2025-01-10</td>\n",
       "      <td>88.81</td>\n",
       "      <td>68.88</td>\n",
       "      <td>24.25</td>\n",
       "      <td>54.0</td>\n",
       "      <td>88.62</td>\n",
       "      <td>20.38</td>\n",
       "      <td>64.0</td>\n",
       "      <td>71.0</td>\n",
       "    </tr>\n",
       "    <tr>\n",
       "      <th>601388</th>\n",
       "      <td>怡球资源</td>\n",
       "      <td>10.14</td>\n",
       "      <td>1681</td>\n",
       "      <td>2025-04-11</td>\n",
       "      <td>3.26</td>\n",
       "      <td>2.86</td>\n",
       "      <td>2.06</td>\n",
       "      <td>43.0</td>\n",
       "      <td>3.26</td>\n",
       "      <td>2.06</td>\n",
       "      <td>28.0</td>\n",
       "      <td>5.0</td>\n",
       "    </tr>\n",
       "    <tr>\n",
       "      <th>000981</th>\n",
       "      <td>山子高科</td>\n",
       "      <td>10.12</td>\n",
       "      <td>136</td>\n",
       "      <td>2025-04-25</td>\n",
       "      <td>3.70</td>\n",
       "      <td>2.77</td>\n",
       "      <td>1.52</td>\n",
       "      <td>94.0</td>\n",
       "      <td>3.70</td>\n",
       "      <td>1.71</td>\n",
       "      <td>39.0</td>\n",
       "      <td>21.0</td>\n",
       "    </tr>\n",
       "    <tr>\n",
       "      <th>600162</th>\n",
       "      <td>香江控股</td>\n",
       "      <td>10.08</td>\n",
       "      <td>65</td>\n",
       "      <td>2025-06-20</td>\n",
       "      <td>2.62</td>\n",
       "      <td>1.96</td>\n",
       "      <td>1.47</td>\n",
       "      <td>94.0</td>\n",
       "      <td>2.62</td>\n",
       "      <td>1.56</td>\n",
       "      <td>1.0</td>\n",
       "      <td>5.0</td>\n",
       "    </tr>\n",
       "    <tr>\n",
       "      <th>600376</th>\n",
       "      <td>首开股份</td>\n",
       "      <td>10.04</td>\n",
       "      <td>723</td>\n",
       "      <td>2025-01-24</td>\n",
       "      <td>7.34</td>\n",
       "      <td>5.51</td>\n",
       "      <td>2.12</td>\n",
       "      <td>49.0</td>\n",
       "      <td>7.34</td>\n",
       "      <td>2.24</td>\n",
       "      <td>78.0</td>\n",
       "      <td>14.0</td>\n",
       "    </tr>\n",
       "    <tr>\n",
       "      <th>000737</th>\n",
       "      <td>北方铜业</td>\n",
       "      <td>10.03</td>\n",
       "      <td>1217</td>\n",
       "      <td>2024-12-27</td>\n",
       "      <td>15.25</td>\n",
       "      <td>13.63</td>\n",
       "      <td>7.37</td>\n",
       "      <td>23.0</td>\n",
       "      <td>14.79</td>\n",
       "      <td>7.79</td>\n",
       "      <td>15.0</td>\n",
       "      <td>-15.0</td>\n",
       "    </tr>\n",
       "    <tr>\n",
       "      <th>000700</th>\n",
       "      <td>模塑科技</td>\n",
       "      <td>10.02</td>\n",
       "      <td>94</td>\n",
       "      <td>2025-01-10</td>\n",
       "      <td>12.41</td>\n",
       "      <td>10.24</td>\n",
       "      <td>5.67</td>\n",
       "      <td>59.0</td>\n",
       "      <td>12.41</td>\n",
       "      <td>6.29</td>\n",
       "      <td>-9.0</td>\n",
       "      <td>31.0</td>\n",
       "    </tr>\n",
       "  </tbody>\n",
       "</table>\n",
       "</div>"
      ],
      "text/plain": [
       "        name  percent  couts        date   close    hmax   lmin  perc1d  \\\n",
       "code                                                                      \n",
       "300959  线上线下    18.94      1  2025-04-11   82.00   48.38  30.17    76.0   \n",
       "301488  豪恩汽电    14.21      0  2025-01-03  218.00  159.12  46.50    39.0   \n",
       "300684  中石科技    14.15     24  2025-01-03   44.62   36.75  16.38    54.0   \n",
       "300469  信息发展    10.85      1  2025-01-10   88.81   68.88  24.25    54.0   \n",
       "601388  怡球资源    10.14   1681  2025-04-11    3.26    2.86   2.06    43.0   \n",
       "000981  山子高科    10.12    136  2025-04-25    3.70    2.77   1.52    94.0   \n",
       "600162  香江控股    10.08     65  2025-06-20    2.62    1.96   1.47    94.0   \n",
       "600376  首开股份    10.04    723  2025-01-24    7.34    5.51   2.12    49.0   \n",
       "000737  北方铜业    10.03   1217  2024-12-27   15.25   13.63   7.37    23.0   \n",
       "000700  模塑科技    10.02     94  2025-01-10   12.41   10.24   5.67    59.0   \n",
       "\n",
       "        nclose   llow  perc3d  perc5d  \n",
       "code                                   \n",
       "300959   81.94  30.17   -22.0     5.0  \n",
       "301488  217.12  49.97    46.0    26.0  \n",
       "300684   44.28  20.16   -37.0    41.0  \n",
       "300469   88.62  20.38    64.0    71.0  \n",
       "601388    3.26   2.06    28.0     5.0  \n",
       "000981    3.70   1.71    39.0    21.0  \n",
       "600162    2.62   1.56     1.0     5.0  \n",
       "600376    7.34   2.24    78.0    14.0  \n",
       "000737   14.79   7.79    15.0   -15.0  \n",
       "000700   12.41   6.29    -9.0    31.0  "
      ]
     },
     "execution_count": 18,
     "metadata": {},
     "output_type": "execute_result"
    }
   ],
   "source": [
    "# tw_code = tdx_w.query('lasth1d > lasth2d > lasth3d and close >= high4')\n",
    "# tw_code = tdx_w.query('lasth1d > lasth2d and lasth2d >lasth3d and lasth2d > upper1')\n",
    "# tw_code = tdx_w.query ('lastp1d > lastp2d and lasth2d > lasth3d and lastl2d > lastl3d and lastp1d > ma51d')\n",
    "# tw_code = tdx_w.query(f'{get_filter(0)}')\n",
    "# tw_code = tdx_w.query(f'{get_filter(filterIDX)}')\n",
    "tw_code = h5_w.query(f'{get_filter(filterIDX)}')\n",
    "# tw_code = h5_w.query('lastp2d > ma51d and lastp3d > ma51d and macd > 0 and macddif > macddea')\n",
    "show_tdx_data(tw_code,limit=10)"
   ]
  },
  {
   "cell_type": "code",
   "execution_count": 19,
   "id": "da84ee8a",
   "metadata": {
    "ExecuteTime": {
     "end_time": "2025-06-23T05:30:21.228043Z",
     "start_time": "2025-06-23T05:30:21.213218Z"
    },
    "execution": {
     "iopub.execute_input": "2025-09-17T13:23:18.973741Z",
     "iopub.status.busy": "2025-09-17T13:23:18.973741Z",
     "iopub.status.idle": "2025-09-17T13:23:18.988701Z",
     "shell.execute_reply": "2025-09-17T13:23:18.987704Z",
     "shell.execute_reply.started": "2025-09-17T13:23:18.973741Z"
    }
   },
   "outputs": [],
   "source": [
    "if '301038' in tw_code.index:\n",
    "    h5_w.loc['301038',['macd','macddif','macddea','macdlast2','macdlast3','lasth1d','lastl1d','lastl2d','lastl3d','lastp1d','ma51d','ma52d','ma53d','ma54d']]"
   ]
  },
  {
   "cell_type": "markdown",
   "id": "a1f7e30c",
   "metadata": {},
   "source": [
    "### resample M"
   ]
  },
  {
   "cell_type": "code",
   "execution_count": 20,
   "id": "58bbd8dc",
   "metadata": {
    "ExecuteTime": {
     "end_time": "2025-06-23T05:35:21.979041Z",
     "start_time": "2025-06-23T05:30:21.237881Z"
    },
    "execution": {
     "iopub.execute_input": "2025-09-17T13:23:18.989697Z",
     "iopub.status.busy": "2025-09-17T13:23:18.989697Z",
     "iopub.status.idle": "2025-09-17T13:23:23.585403Z",
     "shell.execute_reply": "2025-09-17T13:23:23.584441Z",
     "shell.execute_reply.started": "2025-09-17T13:23:18.989697Z"
    },
    "tags": []
   },
   "outputs": [
    {
     "name": "stdout",
     "output_type": "stream",
     "text": [
      "initdx :0 b1>:5197 it:0.2 lastpTDX_DF_m not in locals\n",
      "fname: tdx_last_df keys:['/low_3d_120_y_all', '/low_d_60_y_all', '/low_m_300_y_all', '/low_w_200_y_all']\n"
     ]
    }
   ],
   "source": [
    "# h5_m = get_tdx_all_from_h5(resample='m') if h5_m is None else h5_m\n",
    "h5_m = get_tdx_all_now(resample='m')\n",
    "# tdx_m = cct.combine_dataFrame(h5_m,sinadm)"
   ]
  },
  {
   "cell_type": "code",
   "execution_count": 21,
   "id": "ef69f616",
   "metadata": {
    "ExecuteTime": {
     "end_time": "2025-06-23T05:35:22.117424Z",
     "start_time": "2025-06-23T05:35:21.990382Z"
    },
    "execution": {
     "iopub.execute_input": "2025-09-17T13:23:23.586400Z",
     "iopub.status.busy": "2025-09-17T13:23:23.586400Z",
     "iopub.status.idle": "2025-09-17T13:23:23.663194Z",
     "shell.execute_reply": "2025-09-17T13:23:23.662539Z",
     "shell.execute_reply.started": "2025-09-17T13:23:23.586400Z"
    },
    "tags": []
   },
   "outputs": [
    {
     "name": "stdout",
     "output_type": "stream",
     "text": [
      "Count:390 251\n"
     ]
    },
    {
     "data": {
      "text/html": [
       "<div>\n",
       "<style scoped>\n",
       "    .dataframe tbody tr th:only-of-type {\n",
       "        vertical-align: middle;\n",
       "    }\n",
       "\n",
       "    .dataframe tbody tr th {\n",
       "        vertical-align: top;\n",
       "    }\n",
       "\n",
       "    .dataframe thead th {\n",
       "        text-align: right;\n",
       "    }\n",
       "</style>\n",
       "<table border=\"1\" class=\"dataframe\">\n",
       "  <thead>\n",
       "    <tr style=\"text-align: right;\">\n",
       "      <th></th>\n",
       "      <th>name</th>\n",
       "      <th>percent</th>\n",
       "      <th>couts</th>\n",
       "      <th>date</th>\n",
       "      <th>close</th>\n",
       "      <th>hmax</th>\n",
       "      <th>lmin</th>\n",
       "      <th>perc1d</th>\n",
       "      <th>nclose</th>\n",
       "      <th>llow</th>\n",
       "      <th>perc3d</th>\n",
       "      <th>perc5d</th>\n",
       "    </tr>\n",
       "    <tr>\n",
       "      <th>code</th>\n",
       "      <th></th>\n",
       "      <th></th>\n",
       "      <th></th>\n",
       "      <th></th>\n",
       "      <th></th>\n",
       "      <th></th>\n",
       "      <th></th>\n",
       "      <th></th>\n",
       "      <th></th>\n",
       "      <th></th>\n",
       "      <th></th>\n",
       "      <th></th>\n",
       "    </tr>\n",
       "  </thead>\n",
       "  <tbody>\n",
       "    <tr>\n",
       "      <th>688135</th>\n",
       "      <td>利扬芯片</td>\n",
       "      <td>19.94</td>\n",
       "      <td>17</td>\n",
       "      <td>2024-08-30</td>\n",
       "      <td>33.62</td>\n",
       "      <td>0.0</td>\n",
       "      <td>12.20</td>\n",
       "      <td>24.0</td>\n",
       "      <td>32.00</td>\n",
       "      <td>13.35</td>\n",
       "      <td>36.0</td>\n",
       "      <td>29.0</td>\n",
       "    </tr>\n",
       "    <tr>\n",
       "      <th>301488</th>\n",
       "      <td>豪恩汽电</td>\n",
       "      <td>14.21</td>\n",
       "      <td>0</td>\n",
       "      <td>2024-08-30</td>\n",
       "      <td>218.00</td>\n",
       "      <td>0.0</td>\n",
       "      <td>43.06</td>\n",
       "      <td>31.0</td>\n",
       "      <td>217.12</td>\n",
       "      <td>45.19</td>\n",
       "      <td>6.0</td>\n",
       "      <td>44.0</td>\n",
       "    </tr>\n",
       "    <tr>\n",
       "      <th>300843</th>\n",
       "      <td>胜蓝股份</td>\n",
       "      <td>12.11</td>\n",
       "      <td>21</td>\n",
       "      <td>2024-08-30</td>\n",
       "      <td>60.19</td>\n",
       "      <td>0.0</td>\n",
       "      <td>21.17</td>\n",
       "      <td>-4.0</td>\n",
       "      <td>60.47</td>\n",
       "      <td>22.61</td>\n",
       "      <td>-7.0</td>\n",
       "      <td>-18.0</td>\n",
       "    </tr>\n",
       "    <tr>\n",
       "      <th>301502</th>\n",
       "      <td>华阳智能</td>\n",
       "      <td>10.51</td>\n",
       "      <td>0</td>\n",
       "      <td>2025-04-30</td>\n",
       "      <td>57.50</td>\n",
       "      <td>0.0</td>\n",
       "      <td>28.95</td>\n",
       "      <td>-5.0</td>\n",
       "      <td>57.34</td>\n",
       "      <td>28.95</td>\n",
       "      <td>8.0</td>\n",
       "      <td>39.0</td>\n",
       "    </tr>\n",
       "    <tr>\n",
       "      <th>600089</th>\n",
       "      <td>特变电工</td>\n",
       "      <td>10.08</td>\n",
       "      <td>2303</td>\n",
       "      <td>2025-04-30</td>\n",
       "      <td>16.16</td>\n",
       "      <td>0.0</td>\n",
       "      <td>10.60</td>\n",
       "      <td>11.0</td>\n",
       "      <td>16.16</td>\n",
       "      <td>10.60</td>\n",
       "      <td>29.0</td>\n",
       "      <td>13.0</td>\n",
       "    </tr>\n",
       "    <tr>\n",
       "      <th>603219</th>\n",
       "      <td>富佳股份</td>\n",
       "      <td>10.06</td>\n",
       "      <td>21</td>\n",
       "      <td>2024-10-31</td>\n",
       "      <td>21.44</td>\n",
       "      <td>0.0</td>\n",
       "      <td>11.42</td>\n",
       "      <td>5.0</td>\n",
       "      <td>21.44</td>\n",
       "      <td>12.31</td>\n",
       "      <td>5.0</td>\n",
       "      <td>-16.0</td>\n",
       "    </tr>\n",
       "    <tr>\n",
       "      <th>001234</th>\n",
       "      <td>泰慕士</td>\n",
       "      <td>10.05</td>\n",
       "      <td>0</td>\n",
       "      <td>2024-08-30</td>\n",
       "      <td>33.19</td>\n",
       "      <td>0.0</td>\n",
       "      <td>13.48</td>\n",
       "      <td>39.0</td>\n",
       "      <td>33.19</td>\n",
       "      <td>14.13</td>\n",
       "      <td>28.0</td>\n",
       "      <td>15.0</td>\n",
       "    </tr>\n",
       "    <tr>\n",
       "      <th>600376</th>\n",
       "      <td>首开股份</td>\n",
       "      <td>10.04</td>\n",
       "      <td>723</td>\n",
       "      <td>2024-08-30</td>\n",
       "      <td>7.34</td>\n",
       "      <td>0.0</td>\n",
       "      <td>1.94</td>\n",
       "      <td>44.0</td>\n",
       "      <td>7.34</td>\n",
       "      <td>1.96</td>\n",
       "      <td>29.0</td>\n",
       "      <td>2.0</td>\n",
       "    </tr>\n",
       "    <tr>\n",
       "      <th>000737</th>\n",
       "      <td>北方铜业</td>\n",
       "      <td>10.03</td>\n",
       "      <td>1217</td>\n",
       "      <td>2024-12-31</td>\n",
       "      <td>15.25</td>\n",
       "      <td>0.0</td>\n",
       "      <td>7.37</td>\n",
       "      <td>19.0</td>\n",
       "      <td>14.79</td>\n",
       "      <td>7.69</td>\n",
       "      <td>1.0</td>\n",
       "      <td>-10.0</td>\n",
       "    </tr>\n",
       "    <tr>\n",
       "      <th>600699</th>\n",
       "      <td>均胜电子</td>\n",
       "      <td>10.01</td>\n",
       "      <td>14</td>\n",
       "      <td>2024-08-30</td>\n",
       "      <td>33.53</td>\n",
       "      <td>0.0</td>\n",
       "      <td>13.07</td>\n",
       "      <td>41.0</td>\n",
       "      <td>33.53</td>\n",
       "      <td>13.07</td>\n",
       "      <td>36.0</td>\n",
       "      <td>31.0</td>\n",
       "    </tr>\n",
       "  </tbody>\n",
       "</table>\n",
       "</div>"
      ],
      "text/plain": [
       "        name  percent  couts        date   close  hmax   lmin  perc1d  nclose  \\\n",
       "code                                                                            \n",
       "688135  利扬芯片    19.94     17  2024-08-30   33.62   0.0  12.20    24.0   32.00   \n",
       "301488  豪恩汽电    14.21      0  2024-08-30  218.00   0.0  43.06    31.0  217.12   \n",
       "300843  胜蓝股份    12.11     21  2024-08-30   60.19   0.0  21.17    -4.0   60.47   \n",
       "301502  华阳智能    10.51      0  2025-04-30   57.50   0.0  28.95    -5.0   57.34   \n",
       "600089  特变电工    10.08   2303  2025-04-30   16.16   0.0  10.60    11.0   16.16   \n",
       "603219  富佳股份    10.06     21  2024-10-31   21.44   0.0  11.42     5.0   21.44   \n",
       "001234   泰慕士    10.05      0  2024-08-30   33.19   0.0  13.48    39.0   33.19   \n",
       "600376  首开股份    10.04    723  2024-08-30    7.34   0.0   1.94    44.0    7.34   \n",
       "000737  北方铜业    10.03   1217  2024-12-31   15.25   0.0   7.37    19.0   14.79   \n",
       "600699  均胜电子    10.01     14  2024-08-30   33.53   0.0  13.07    41.0   33.53   \n",
       "\n",
       "         llow  perc3d  perc5d  \n",
       "code                           \n",
       "688135  13.35    36.0    29.0  \n",
       "301488  45.19     6.0    44.0  \n",
       "300843  22.61    -7.0   -18.0  \n",
       "301502  28.95     8.0    39.0  \n",
       "600089  10.60    29.0    13.0  \n",
       "603219  12.31     5.0   -16.0  \n",
       "001234  14.13    28.0    15.0  \n",
       "600376   1.96    29.0     2.0  \n",
       "000737   7.69     1.0   -10.0  \n",
       "600699  13.07    36.0    31.0  "
      ]
     },
     "execution_count": 21,
     "metadata": {},
     "output_type": "execute_result"
    }
   ],
   "source": [
    "# tm_code = tdx_m.query('lastp1d > lastp2d and lasth2d > lasth3d and lastp1d > ma51d')\n",
    "# tm_code = tdx_m.query('lastp1d > lastp2d and lasth2d > lasth3d and lastl2d > lastl3d and lastp1d > ma51d')\n",
    "#月线站上,3月反弹,2月新高\n",
    "tm_code = h5_m.query('lastl1d > lastl2d > lastl3d and lasth1d > lastp2d > lastp3d and  ma51d > ma52d and macd > 0 and macddif > macddea')   \n",
    "# tm_code = h5_m.query(f'{get_filter(filterIDX)}')\n",
    "show_tdx_data(tm_code,limit=10)"
   ]
  },
  {
   "cell_type": "code",
   "execution_count": 22,
   "id": "5677aac6",
   "metadata": {
    "ExecuteTime": {
     "end_time": "2025-06-23T05:35:22.133444Z",
     "start_time": "2025-06-23T05:35:22.122222Z"
    },
    "execution": {
     "iopub.execute_input": "2025-09-17T13:23:23.664191Z",
     "iopub.status.busy": "2025-09-17T13:23:23.664191Z",
     "iopub.status.idle": "2025-09-17T13:23:23.678192Z",
     "shell.execute_reply": "2025-09-17T13:23:23.678192Z",
     "shell.execute_reply.started": "2025-09-17T13:23:23.664191Z"
    },
    "tags": []
   },
   "outputs": [],
   "source": [
    "if '301038' in tm_code.index:\n",
    "    h5_m.loc['301038',['lasth1d','lastl1d','lastl2d','lastl3d','lastp1d','ma51d','ma52d','ma53d','ma54d']]\n",
    "    \n",
    "# h5_m.loc['301038',['lasth1d','lastp2d','lastp3d','lastp1d','ma51d','ma52d','ma53d','ma54d']]    "
   ]
  },
  {
   "cell_type": "markdown",
   "id": "14d02e0c",
   "metadata": {},
   "source": [
    "### resample D"
   ]
  },
  {
   "cell_type": "code",
   "execution_count": 23,
   "id": "4406acdc",
   "metadata": {
    "ExecuteTime": {
     "end_time": "2025-06-23T05:41:19.310425Z",
     "start_time": "2025-06-23T05:35:22.139035Z"
    },
    "execution": {
     "iopub.execute_input": "2025-09-17T13:23:23.680149Z",
     "iopub.status.busy": "2025-09-17T13:23:23.680149Z",
     "iopub.status.idle": "2025-09-17T13:23:28.279877Z",
     "shell.execute_reply": "2025-09-17T13:23:28.279877Z",
     "shell.execute_reply.started": "2025-09-17T13:23:23.680149Z"
    },
    "tags": []
   },
   "outputs": [
    {
     "name": "stdout",
     "output_type": "stream",
     "text": [
      "initdx :0 b1>:5197 it:0.2 lastpTDX_DF_d not in locals\n",
      "fname: tdx_last_df keys:['/low_3d_120_y_all', '/low_d_60_y_all', '/low_m_300_y_all', '/low_w_200_y_all']\n"
     ]
    },
    {
     "data": {
      "text/plain": [
       "(5178, 251)"
      ]
     },
     "execution_count": 23,
     "metadata": {},
     "output_type": "execute_result"
    }
   ],
   "source": [
    "# h5_d = get_tdx_all_from_h5(resample='d') if h5_d is None else h5_d\n",
    "h5_d = get_tdx_all_now(resample='d')\n",
    "# tdx_d = cct.combine_dataFrame(h5_d,sinadm)\n",
    "h5_d.shape"
   ]
  },
  {
   "cell_type": "code",
   "execution_count": 24,
   "id": "22c03d97",
   "metadata": {
    "ExecuteTime": {
     "end_time": "2025-06-23T05:41:19.431171Z",
     "start_time": "2025-06-23T05:41:19.315869Z"
    },
    "execution": {
     "iopub.execute_input": "2025-09-17T13:23:28.280840Z",
     "iopub.status.busy": "2025-09-17T13:23:28.280840Z",
     "iopub.status.idle": "2025-09-17T13:23:28.342674Z",
     "shell.execute_reply": "2025-09-17T13:23:28.341715Z",
     "shell.execute_reply.started": "2025-09-17T13:23:28.280840Z"
    },
    "scrolled": true,
    "tags": []
   },
   "outputs": [
    {
     "name": "stdout",
     "output_type": "stream",
     "text": [
      "Count:8 251\n"
     ]
    },
    {
     "data": {
      "text/html": [
       "<div>\n",
       "<style scoped>\n",
       "    .dataframe tbody tr th:only-of-type {\n",
       "        vertical-align: middle;\n",
       "    }\n",
       "\n",
       "    .dataframe tbody tr th {\n",
       "        vertical-align: top;\n",
       "    }\n",
       "\n",
       "    .dataframe thead th {\n",
       "        text-align: right;\n",
       "    }\n",
       "</style>\n",
       "<table border=\"1\" class=\"dataframe\">\n",
       "  <thead>\n",
       "    <tr style=\"text-align: right;\">\n",
       "      <th></th>\n",
       "      <th>name</th>\n",
       "      <th>percent</th>\n",
       "      <th>couts</th>\n",
       "      <th>date</th>\n",
       "      <th>close</th>\n",
       "      <th>hmax</th>\n",
       "      <th>lmin</th>\n",
       "      <th>perc1d</th>\n",
       "      <th>nclose</th>\n",
       "      <th>llow</th>\n",
       "      <th>perc3d</th>\n",
       "      <th>perc5d</th>\n",
       "    </tr>\n",
       "    <tr>\n",
       "      <th>code</th>\n",
       "      <th></th>\n",
       "      <th></th>\n",
       "      <th></th>\n",
       "      <th></th>\n",
       "      <th></th>\n",
       "      <th></th>\n",
       "      <th></th>\n",
       "      <th></th>\n",
       "      <th></th>\n",
       "      <th></th>\n",
       "      <th></th>\n",
       "      <th></th>\n",
       "    </tr>\n",
       "  </thead>\n",
       "  <tbody>\n",
       "    <tr>\n",
       "      <th>603013</th>\n",
       "      <td>亚普股份</td>\n",
       "      <td>9.98</td>\n",
       "      <td>18</td>\n",
       "      <td>2025-06-26</td>\n",
       "      <td>27.55</td>\n",
       "      <td>25.95</td>\n",
       "      <td>20.62</td>\n",
       "      <td>9.0</td>\n",
       "      <td>27.55</td>\n",
       "      <td>16.45</td>\n",
       "      <td>-28.0</td>\n",
       "      <td>14.0</td>\n",
       "    </tr>\n",
       "    <tr>\n",
       "      <th>836270</th>\n",
       "      <td>天铭科技</td>\n",
       "      <td>9.03</td>\n",
       "      <td>0</td>\n",
       "      <td>2025-07-09</td>\n",
       "      <td>22.45</td>\n",
       "      <td>23.98</td>\n",
       "      <td>16.69</td>\n",
       "      <td>-24.0</td>\n",
       "      <td>22.53</td>\n",
       "      <td>16.70</td>\n",
       "      <td>-10.0</td>\n",
       "      <td>-4.0</td>\n",
       "    </tr>\n",
       "    <tr>\n",
       "      <th>603486</th>\n",
       "      <td>科沃斯</td>\n",
       "      <td>7.01</td>\n",
       "      <td>0</td>\n",
       "      <td>2025-06-27</td>\n",
       "      <td>105.00</td>\n",
       "      <td>100.44</td>\n",
       "      <td>84.50</td>\n",
       "      <td>8.0</td>\n",
       "      <td>105.12</td>\n",
       "      <td>54.44</td>\n",
       "      <td>9.0</td>\n",
       "      <td>19.0</td>\n",
       "    </tr>\n",
       "    <tr>\n",
       "      <th>605222</th>\n",
       "      <td>起帆电缆</td>\n",
       "      <td>6.28</td>\n",
       "      <td>3</td>\n",
       "      <td>2025-06-26</td>\n",
       "      <td>19.11</td>\n",
       "      <td>17.77</td>\n",
       "      <td>15.64</td>\n",
       "      <td>29.0</td>\n",
       "      <td>19.03</td>\n",
       "      <td>14.83</td>\n",
       "      <td>-19.0</td>\n",
       "      <td>25.0</td>\n",
       "    </tr>\n",
       "    <tr>\n",
       "      <th>688683</th>\n",
       "      <td>莱尔科技</td>\n",
       "      <td>5.98</td>\n",
       "      <td>0</td>\n",
       "      <td>2025-07-11</td>\n",
       "      <td>38.28</td>\n",
       "      <td>36.50</td>\n",
       "      <td>26.41</td>\n",
       "      <td>22.0</td>\n",
       "      <td>38.28</td>\n",
       "      <td>24.06</td>\n",
       "      <td>13.0</td>\n",
       "      <td>21.0</td>\n",
       "    </tr>\n",
       "    <tr>\n",
       "      <th>603699</th>\n",
       "      <td>纽威股份</td>\n",
       "      <td>5.95</td>\n",
       "      <td>1</td>\n",
       "      <td>2025-07-31</td>\n",
       "      <td>37.38</td>\n",
       "      <td>36.34</td>\n",
       "      <td>32.00</td>\n",
       "      <td>5.0</td>\n",
       "      <td>37.25</td>\n",
       "      <td>28.77</td>\n",
       "      <td>18.0</td>\n",
       "      <td>24.0</td>\n",
       "    </tr>\n",
       "    <tr>\n",
       "      <th>002531</th>\n",
       "      <td>天顺风能</td>\n",
       "      <td>5.68</td>\n",
       "      <td>145</td>\n",
       "      <td>2025-07-31</td>\n",
       "      <td>7.81</td>\n",
       "      <td>7.72</td>\n",
       "      <td>6.51</td>\n",
       "      <td>1.0</td>\n",
       "      <td>7.76</td>\n",
       "      <td>6.48</td>\n",
       "      <td>-14.0</td>\n",
       "      <td>-3.0</td>\n",
       "    </tr>\n",
       "    <tr>\n",
       "      <th>600029</th>\n",
       "      <td>南方航空</td>\n",
       "      <td>2.98</td>\n",
       "      <td>524</td>\n",
       "      <td>2025-07-15</td>\n",
       "      <td>6.23</td>\n",
       "      <td>6.14</td>\n",
       "      <td>5.68</td>\n",
       "      <td>25.0</td>\n",
       "      <td>6.23</td>\n",
       "      <td>5.65</td>\n",
       "      <td>-6.0</td>\n",
       "      <td>-19.0</td>\n",
       "    </tr>\n",
       "  </tbody>\n",
       "</table>\n",
       "</div>"
      ],
      "text/plain": [
       "        name  percent  couts        date   close    hmax   lmin  perc1d  \\\n",
       "code                                                                      \n",
       "603013  亚普股份     9.98     18  2025-06-26   27.55   25.95  20.62     9.0   \n",
       "836270  天铭科技     9.03      0  2025-07-09   22.45   23.98  16.69   -24.0   \n",
       "603486   科沃斯     7.01      0  2025-06-27  105.00  100.44  84.50     8.0   \n",
       "605222  起帆电缆     6.28      3  2025-06-26   19.11   17.77  15.64    29.0   \n",
       "688683  莱尔科技     5.98      0  2025-07-11   38.28   36.50  26.41    22.0   \n",
       "603699  纽威股份     5.95      1  2025-07-31   37.38   36.34  32.00     5.0   \n",
       "002531  天顺风能     5.68    145  2025-07-31    7.81    7.72   6.51     1.0   \n",
       "600029  南方航空     2.98    524  2025-07-15    6.23    6.14   5.68    25.0   \n",
       "\n",
       "        nclose   llow  perc3d  perc5d  \n",
       "code                                   \n",
       "603013   27.55  16.45   -28.0    14.0  \n",
       "836270   22.53  16.70   -10.0    -4.0  \n",
       "603486  105.12  54.44     9.0    19.0  \n",
       "605222   19.03  14.83   -19.0    25.0  \n",
       "688683   38.28  24.06    13.0    21.0  \n",
       "603699   37.25  28.77    18.0    24.0  \n",
       "002531    7.76   6.48   -14.0    -3.0  \n",
       "600029    6.23   5.65    -6.0   -19.0  "
      ]
     },
     "execution_count": 24,
     "metadata": {},
     "output_type": "execute_result"
    }
   ],
   "source": [
    "# td_code = tdx_d.query('lasth1d > lasth2d > lasth3d and close >= high4')\n",
    "# td_code = tdx_d.query('ma51d > ma10d and ral > 3 and lastp1d >ma20d and low > lastl1d and vol > 2' )\n",
    "# td_code = tdx_d.query('lastp1d > lastp2d  and lasth1d > lasth2d and lasth2d > lasth3d and lastl1d > lastl2d and lastl2d > lastl3d and close > open')\n",
    "\n",
    "# td_code = h5_d.query(f'{get_filter(filterIDX)}')\n",
    "# td_code = h5_d.query(f'lasth1d > lasth2d and close > lastp1d and ral > 10 and fib > 0 and boll > 0')\n",
    "td_code = h5_d.query(f'lasth1d > lasth2d  and ral > 10 and fib > 0 and boll > 0  and percent > lastdu4 \\\n",
    "and close >high4  and (low > open*0.99 or (per1d > 4 and low >= lastp1d))')\n",
    "\n",
    "show_tdx_data(td_code,limit=20)\n",
    "# if len(td_code) < 30:\n",
    "#     write_code_to_blk(td_code.sort_values('percent', ascending=False).index,'065',rewrite=True)"
   ]
  },
  {
   "cell_type": "code",
   "execution_count": 25,
   "id": "3ac7891e",
   "metadata": {
    "ExecuteTime": {
     "end_time": "2025-06-23T05:41:19.441674Z",
     "start_time": "2025-06-23T05:41:19.435724Z"
    },
    "execution": {
     "iopub.execute_input": "2025-09-17T13:23:28.343672Z",
     "iopub.status.busy": "2025-09-17T13:23:28.342674Z",
     "iopub.status.idle": "2025-09-17T13:23:28.357685Z",
     "shell.execute_reply": "2025-09-17T13:23:28.356638Z",
     "shell.execute_reply.started": "2025-09-17T13:23:28.343672Z"
    },
    "tags": []
   },
   "outputs": [],
   "source": [
    "if '301038' in td_code.index:\n",
    "    h5_d.loc['301038',['lastdu4','close','boll','ral','fib','percmax','macd','macddif','macddea','macdlast1','macdlast2','macdlast3','lasth1d','lastl1d','lastl2d','lastl3d','lastp1d','ma51d','ma52d','ma53d','ma54d']]"
   ]
  },
  {
   "cell_type": "markdown",
   "id": "103ccc62",
   "metadata": {},
   "source": [
    "#### filter test"
   ]
  },
  {
   "cell_type": "code",
   "execution_count": 26,
   "id": "1f09d0a1",
   "metadata": {
    "ExecuteTime": {
     "end_time": "2025-06-23T05:41:19.502268Z",
     "start_time": "2025-06-23T05:41:19.446450Z"
    },
    "execution": {
     "iopub.execute_input": "2025-09-17T13:23:28.358671Z",
     "iopub.status.busy": "2025-09-17T13:23:28.358671Z",
     "iopub.status.idle": "2025-09-17T13:23:28.389547Z",
     "shell.execute_reply": "2025-09-17T13:23:28.388552Z",
     "shell.execute_reply.started": "2025-09-17T13:23:28.358671Z"
    },
    "scrolled": true,
    "tags": []
   },
   "outputs": [
    {
     "name": "stdout",
     "output_type": "stream",
     "text": [
      "Count:1 251\n"
     ]
    },
    {
     "data": {
      "text/html": [
       "<div>\n",
       "<style scoped>\n",
       "    .dataframe tbody tr th:only-of-type {\n",
       "        vertical-align: middle;\n",
       "    }\n",
       "\n",
       "    .dataframe tbody tr th {\n",
       "        vertical-align: top;\n",
       "    }\n",
       "\n",
       "    .dataframe thead th {\n",
       "        text-align: right;\n",
       "    }\n",
       "</style>\n",
       "<table border=\"1\" class=\"dataframe\">\n",
       "  <thead>\n",
       "    <tr style=\"text-align: right;\">\n",
       "      <th></th>\n",
       "      <th>name</th>\n",
       "      <th>percent</th>\n",
       "      <th>couts</th>\n",
       "      <th>date</th>\n",
       "      <th>close</th>\n",
       "      <th>hmax</th>\n",
       "      <th>lmin</th>\n",
       "      <th>perc1d</th>\n",
       "      <th>nclose</th>\n",
       "      <th>llow</th>\n",
       "      <th>perc3d</th>\n",
       "      <th>perc5d</th>\n",
       "    </tr>\n",
       "    <tr>\n",
       "      <th>code</th>\n",
       "      <th></th>\n",
       "      <th></th>\n",
       "      <th></th>\n",
       "      <th></th>\n",
       "      <th></th>\n",
       "      <th></th>\n",
       "      <th></th>\n",
       "      <th></th>\n",
       "      <th></th>\n",
       "      <th></th>\n",
       "      <th></th>\n",
       "      <th></th>\n",
       "    </tr>\n",
       "  </thead>\n",
       "  <tbody>\n",
       "    <tr>\n",
       "      <th>600376</th>\n",
       "      <td>首开股份</td>\n",
       "      <td>10.04</td>\n",
       "      <td>723</td>\n",
       "      <td>2025-04-07</td>\n",
       "      <td>7.34</td>\n",
       "      <td>5.51</td>\n",
       "      <td>2.27</td>\n",
       "      <td>49.0</td>\n",
       "      <td>7.34</td>\n",
       "      <td>2.26</td>\n",
       "      <td>84.0</td>\n",
       "      <td>79.0</td>\n",
       "    </tr>\n",
       "  </tbody>\n",
       "</table>\n",
       "</div>"
      ],
      "text/plain": [
       "        name  percent  couts        date  close  hmax  lmin  perc1d  nclose  \\\n",
       "code                                                                          \n",
       "600376  首开股份    10.04    723  2025-04-07   7.34  5.51  2.27    49.0    7.34   \n",
       "\n",
       "        llow  perc3d  perc5d  \n",
       "code                          \n",
       "600376  2.26    84.0    79.0  "
      ]
     },
     "execution_count": 26,
     "metadata": {},
     "output_type": "execute_result"
    }
   ],
   "source": [
    "# h5_t_code=h5_w.query('lasth1d > upper1 and lasth1d >lasth2d   and high >boll and percent > maxp')\n",
    "# h5_t_code=h5_d.query('lasth1d  >lasth2d  and lastp1d > ma51d and lastp1d > lastp2d*0.99 and lasth2d > lasth3d and lastp2d < upper2 and lasth1d >upper')\n",
    "code_3f=  list(set(tm_code.index) & set(tw_code.index) & set(t3d_code.index))\n",
    "\n",
    "show_tdx_data(t3d_code.loc[code_3f],limit=10)"
   ]
  },
  {
   "cell_type": "code",
   "execution_count": 27,
   "id": "039561bb",
   "metadata": {
    "ExecuteTime": {
     "end_time": "2025-06-23T05:41:19.515842Z",
     "start_time": "2025-06-23T05:41:19.507451Z"
    },
    "execution": {
     "iopub.execute_input": "2025-09-17T13:23:28.391543Z",
     "iopub.status.busy": "2025-09-17T13:23:28.390545Z",
     "iopub.status.idle": "2025-09-17T13:23:28.404510Z",
     "shell.execute_reply": "2025-09-17T13:23:28.403512Z",
     "shell.execute_reply.started": "2025-09-17T13:23:28.390545Z"
    },
    "tags": []
   },
   "outputs": [],
   "source": [
    "# td_code2 = tdx_d.query(f'{get_filter(2)}')\n",
    "# td_code2 = h5_d.query('lastp1d > lastp2d  and lasth1d > lasth2d and lasth2d > lasth3d and lastl1d > lastl2d and lastl2d > lastl3d and close > open')\n",
    "# show_tdx_data(td_code2,limit=10)\n"
   ]
  },
  {
   "cell_type": "markdown",
   "id": "079416bf",
   "metadata": {},
   "source": [
    "#### 多周期筛选"
   ]
  },
  {
   "cell_type": "code",
   "execution_count": 28,
   "id": "f4919a87",
   "metadata": {
    "ExecuteTime": {
     "end_time": "2025-06-23T05:41:19.556289Z",
     "start_time": "2025-06-23T05:41:19.519059Z"
    },
    "execution": {
     "iopub.execute_input": "2025-09-17T13:23:28.411491Z",
     "iopub.status.busy": "2025-09-17T13:23:28.411491Z",
     "iopub.status.idle": "2025-09-17T13:23:28.436424Z",
     "shell.execute_reply": "2025-09-17T13:23:28.435427Z",
     "shell.execute_reply.started": "2025-09-17T13:23:28.411491Z"
    },
    "tags": []
   },
   "outputs": [
    {
     "name": "stdout",
     "output_type": "stream",
     "text": [
      "tm_code:390\n",
      "tw_code:449\n",
      "t3d_code:79\n",
      "td_code:8\n",
      "Count:1 251\n"
     ]
    },
    {
     "data": {
      "text/html": [
       "<div>\n",
       "<style scoped>\n",
       "    .dataframe tbody tr th:only-of-type {\n",
       "        vertical-align: middle;\n",
       "    }\n",
       "\n",
       "    .dataframe tbody tr th {\n",
       "        vertical-align: top;\n",
       "    }\n",
       "\n",
       "    .dataframe thead th {\n",
       "        text-align: right;\n",
       "    }\n",
       "</style>\n",
       "<table border=\"1\" class=\"dataframe\">\n",
       "  <thead>\n",
       "    <tr style=\"text-align: right;\">\n",
       "      <th></th>\n",
       "      <th>name</th>\n",
       "      <th>percent</th>\n",
       "      <th>couts</th>\n",
       "      <th>date</th>\n",
       "      <th>close</th>\n",
       "      <th>hmax</th>\n",
       "      <th>lmin</th>\n",
       "      <th>perc1d</th>\n",
       "      <th>nclose</th>\n",
       "      <th>llow</th>\n",
       "      <th>perc3d</th>\n",
       "      <th>perc5d</th>\n",
       "    </tr>\n",
       "    <tr>\n",
       "      <th>code</th>\n",
       "      <th></th>\n",
       "      <th></th>\n",
       "      <th></th>\n",
       "      <th></th>\n",
       "      <th></th>\n",
       "      <th></th>\n",
       "      <th></th>\n",
       "      <th></th>\n",
       "      <th></th>\n",
       "      <th></th>\n",
       "      <th></th>\n",
       "      <th></th>\n",
       "    </tr>\n",
       "  </thead>\n",
       "  <tbody>\n",
       "    <tr>\n",
       "      <th>600376</th>\n",
       "      <td>首开股份</td>\n",
       "      <td>10.04</td>\n",
       "      <td>723</td>\n",
       "      <td>2025-04-07</td>\n",
       "      <td>7.34</td>\n",
       "      <td>5.51</td>\n",
       "      <td>2.27</td>\n",
       "      <td>49.0</td>\n",
       "      <td>7.34</td>\n",
       "      <td>2.26</td>\n",
       "      <td>84.0</td>\n",
       "      <td>79.0</td>\n",
       "    </tr>\n",
       "  </tbody>\n",
       "</table>\n",
       "</div>"
      ],
      "text/plain": [
       "        name  percent  couts        date  close  hmax  lmin  perc1d  nclose  \\\n",
       "code                                                                          \n",
       "600376  首开股份    10.04    723  2025-04-07   7.34  5.51  2.27    49.0    7.34   \n",
       "\n",
       "        llow  perc3d  perc5d  \n",
       "code                          \n",
       "600376  2.26    84.0    79.0  "
      ]
     },
     "execution_count": 28,
     "metadata": {},
     "output_type": "execute_result"
    }
   ],
   "source": [
    "for co in ['tm_code','tw_code','t3d_code','td_code']:\n",
    "    print(f'{co}:{len(eval(co))}')\n",
    "# code_f=  list(set(tm_code.index) & set(tw_code.index) & set(t3d_code.index)  & set(td_code.index))\n",
    "code_f=  list(set(tm_code.index) & set(tw_code.index) & set(t3d_code.index)  )\n",
    "# code_f=  list(set(tm_code.index) & set(tw_code.index) & set(td_code.index))\n",
    "# code_f =td_code.loc[code_f].sort_values('percent', ascending=False).index.tolist()\n",
    "code_f =t3d_code.loc[code_f].sort_values('percent', ascending=False).index.tolist()\n",
    "\n",
    "if len(code_f) > 0:\n",
    "    show_tdx_data(t3d_code.loc[code_f],limit=10)\n",
    "else:\n",
    "    print('no code')"
   ]
  },
  {
   "cell_type": "markdown",
   "id": "4971264f",
   "metadata": {
    "run_control": {
     "marked": true
    }
   },
   "source": [
    "#### check data"
   ]
  },
  {
   "cell_type": "code",
   "execution_count": 29,
   "id": "95ffd469",
   "metadata": {
    "ExecuteTime": {
     "end_time": "2025-06-23T05:41:19.586302Z",
     "start_time": "2025-06-23T05:41:19.560828Z"
    },
    "execution": {
     "iopub.execute_input": "2025-09-17T13:23:28.437422Z",
     "iopub.status.busy": "2025-09-17T13:23:28.437422Z",
     "iopub.status.idle": "2025-09-17T13:23:28.452380Z",
     "shell.execute_reply": "2025-09-17T13:23:28.451384Z",
     "shell.execute_reply.started": "2025-09-17T13:23:28.437422Z"
    },
    "tags": []
   },
   "outputs": [
    {
     "data": {
      "text/plain": [
       "False"
      ]
     },
     "execution_count": 29,
     "metadata": {},
     "output_type": "execute_result"
    },
    {
     "data": {
      "text/plain": [
       "1"
      ]
     },
     "execution_count": 29,
     "metadata": {},
     "output_type": "execute_result"
    }
   ],
   "source": [
    "'300998' in code_f\n",
    "code_check = [co for co in code_f if co in h5_3d.index]\n",
    "len(code_check)"
   ]
  },
  {
   "cell_type": "code",
   "execution_count": 30,
   "id": "39c1fcd2",
   "metadata": {
    "ExecuteTime": {
     "end_time": "2025-06-23T05:41:19.622226Z",
     "start_time": "2025-06-23T05:41:19.590029Z"
    },
    "execution": {
     "iopub.execute_input": "2025-09-17T13:23:28.454376Z",
     "iopub.status.busy": "2025-09-17T13:23:28.454376Z",
     "iopub.status.idle": "2025-09-17T13:23:28.484297Z",
     "shell.execute_reply": "2025-09-17T13:23:28.483301Z",
     "shell.execute_reply.started": "2025-09-17T13:23:28.454376Z"
    },
    "tags": []
   },
   "outputs": [
    {
     "name": "stdout",
     "output_type": "stream",
     "text": [
      "Count:1 251\n"
     ]
    },
    {
     "data": {
      "text/html": [
       "<div>\n",
       "<style scoped>\n",
       "    .dataframe tbody tr th:only-of-type {\n",
       "        vertical-align: middle;\n",
       "    }\n",
       "\n",
       "    .dataframe tbody tr th {\n",
       "        vertical-align: top;\n",
       "    }\n",
       "\n",
       "    .dataframe thead th {\n",
       "        text-align: right;\n",
       "    }\n",
       "</style>\n",
       "<table border=\"1\" class=\"dataframe\">\n",
       "  <thead>\n",
       "    <tr style=\"text-align: right;\">\n",
       "      <th></th>\n",
       "      <th>name</th>\n",
       "      <th>percent</th>\n",
       "      <th>couts</th>\n",
       "      <th>date</th>\n",
       "      <th>close</th>\n",
       "      <th>hmax</th>\n",
       "      <th>lmin</th>\n",
       "      <th>perc1d</th>\n",
       "      <th>nclose</th>\n",
       "      <th>llow</th>\n",
       "      <th>perc3d</th>\n",
       "      <th>perc5d</th>\n",
       "    </tr>\n",
       "    <tr>\n",
       "      <th>code</th>\n",
       "      <th></th>\n",
       "      <th></th>\n",
       "      <th></th>\n",
       "      <th></th>\n",
       "      <th></th>\n",
       "      <th></th>\n",
       "      <th></th>\n",
       "      <th></th>\n",
       "      <th></th>\n",
       "      <th></th>\n",
       "      <th></th>\n",
       "      <th></th>\n",
       "    </tr>\n",
       "  </thead>\n",
       "  <tbody>\n",
       "    <tr>\n",
       "      <th>600376</th>\n",
       "      <td>首开股份</td>\n",
       "      <td>10.04</td>\n",
       "      <td>723</td>\n",
       "      <td>2025-04-07</td>\n",
       "      <td>7.34</td>\n",
       "      <td>5.51</td>\n",
       "      <td>2.27</td>\n",
       "      <td>49.0</td>\n",
       "      <td>7.34</td>\n",
       "      <td>2.26</td>\n",
       "      <td>84.0</td>\n",
       "      <td>79.0</td>\n",
       "    </tr>\n",
       "  </tbody>\n",
       "</table>\n",
       "</div>"
      ],
      "text/plain": [
       "        name  percent  couts        date  close  hmax  lmin  perc1d  nclose  \\\n",
       "code                                                                          \n",
       "600376  首开股份    10.04    723  2025-04-07   7.34  5.51  2.27    49.0    7.34   \n",
       "\n",
       "        llow  perc3d  perc5d  \n",
       "code                          \n",
       "600376  2.26    84.0    79.0  "
      ]
     },
     "execution_count": 30,
     "metadata": {},
     "output_type": "execute_result"
    }
   ],
   "source": [
    "show_tdx_data(t3d_code.loc[code_f])"
   ]
  },
  {
   "cell_type": "markdown",
   "id": "b6e4f618-d3cb-43bb-b592-60e54a84aba5",
   "metadata": {},
   "source": [
    "### Write toblk"
   ]
  },
  {
   "cell_type": "code",
   "execution_count": 31,
   "id": "19ab69a9-1482-4b80-9fb6-20f751e8d885",
   "metadata": {
    "ExecuteTime": {
     "end_time": "2025-06-23T05:41:19.631978Z",
     "start_time": "2025-06-23T05:41:19.625668Z"
    },
    "execution": {
     "iopub.execute_input": "2025-09-17T13:23:28.486290Z",
     "iopub.status.busy": "2025-09-17T13:23:28.485294Z",
     "iopub.status.idle": "2025-09-17T13:23:28.500254Z",
     "shell.execute_reply": "2025-09-17T13:23:28.499254Z",
     "shell.execute_reply.started": "2025-09-17T13:23:28.486290Z"
    },
    "tags": []
   },
   "outputs": [],
   "source": [
    "# write_code_to_blk(code_f,'077',rewrite=False)"
   ]
  },
  {
   "cell_type": "code",
   "execution_count": null,
   "id": "1903b698-b6da-4396-bda3-61ceda41d88f",
   "metadata": {},
   "outputs": [],
   "source": []
  }
 ],
 "metadata": {
  "kernelspec": {
   "display_name": "python3.9",
   "language": "python",
   "name": "python3"
  },
  "language_info": {
   "codemirror_mode": {
    "name": "ipython",
    "version": 3
   },
   "file_extension": ".py",
   "mimetype": "text/x-python",
   "name": "python",
   "nbconvert_exporter": "python",
   "pygments_lexer": "ipython3",
   "version": "3.9.13"
  },
  "nbTranslate": {
   "displayLangs": [
    "zh-tw"
   ],
   "hotkey": "alt-t",
   "langInMainMenu": true,
   "sourceLang": "en",
   "targetLang": "zh-tw",
   "useGoogleTranslate": true
  },
  "toc": {
   "base_numbering": 1,
   "nav_menu": {},
   "number_sections": true,
   "sideBar": true,
   "skip_h1_title": false,
   "title_cell": "Table of Contents",
   "title_sidebar": "Contents",
   "toc_cell": false,
   "toc_position": {
    "height": "calc(100% - 180px)",
    "left": "10px",
    "top": "150px",
    "width": "190.467px"
   },
   "toc_section_display": true,
   "toc_window_display": true
  }
 },
 "nbformat": 4,
 "nbformat_minor": 5
}
