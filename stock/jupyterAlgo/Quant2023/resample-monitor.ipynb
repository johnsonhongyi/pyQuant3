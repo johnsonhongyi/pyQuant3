{
 "cells": [
  {
   "cell_type": "markdown",
   "id": "76010d4d",
   "metadata": {},
   "source": [
    "# import def func"
   ]
  },
  {
   "cell_type": "code",
   "execution_count": 1,
   "id": "a547812c-f835-4e27-ac46-12430da81ca1",
   "metadata": {
    "ExecuteTime": {
     "end_time": "2025-06-20T08:25:35.981181Z",
     "start_time": "2025-06-20T08:25:34.097024Z"
    },
    "cell_style": "center",
    "execution": {
     "iopub.execute_input": "2025-06-18T16:02:51.902331Z",
     "iopub.status.busy": "2025-06-18T16:02:51.902331Z",
     "iopub.status.idle": "2025-06-18T16:02:53.168973Z",
     "shell.execute_reply": "2025-06-18T16:02:53.168973Z",
     "shell.execute_reply.started": "2025-06-18T16:02:51.902331Z"
    }
   },
   "outputs": [],
   "source": [
    "# import logging\n",
    "import sys\n",
    "# stdout=sys.stdout\n",
    "sys.path.append('../../')\n",
    "import os\n",
    "import random\n",
    "import time\n",
    "\n",
    "# import matplotlib\n",
    "# import matplotlib.pyplot as plt\n",
    "# import mplfinance as mpf\n",
    "# sys.stdout=stdout\n",
    "import numpy as np\n",
    "import pandas as pd\n",
    "from JohnsonUtil import commonTips as cct\n",
    "from JohnsonUtil import johnson_cons as ct\n",
    "from JSONData import sina_data\n",
    "from JSONData import tdx_data_Day as tdd\n",
    "from JSONData import tdx_hdf5_api as h5a\n",
    "\n",
    "# from mplfinance.original_flavor import candlestick_ohlc\n",
    "# from JSONData import tdx_hdf5_api as h5a\n",
    "\n",
    "# %matplotlib widget\n",
    "# plt.rc('font', family='SimHei', size=13)\n",
    "# matplotlib.get_backend()\n",
    "# jupyter nbextension enable --py widgetsnbextension\n",
    "\n",
    "os.environ['NUMEXPR_MAX_THREADS'] = '12'\n",
    "from IPython.core.interactiveshell import InteractiveShell\n",
    "\n",
    "InteractiveShell.ast_node_interactivity = \"all\"\n",
    "import nest_asyncio\n",
    "nest_asyncio.apply()"
   ]
  },
  {
   "cell_type": "code",
   "execution_count": 2,
   "id": "2e698804",
   "metadata": {
    "ExecuteTime": {
     "end_time": "2025-06-20T08:25:36.019900Z",
     "start_time": "2025-06-20T08:25:35.984970Z"
    },
    "execution": {
     "iopub.execute_input": "2025-06-18T16:23:33.843615Z",
     "iopub.status.busy": "2025-06-18T16:23:33.843615Z",
     "iopub.status.idle": "2025-06-18T16:23:33.878520Z",
     "shell.execute_reply": "2025-06-18T16:23:33.877524Z",
     "shell.execute_reply.started": "2025-06-18T16:23:33.843615Z"
    },
    "tags": []
   },
   "outputs": [],
   "source": [
    "def show_tdx_data(df, codelist=None, market_value='3', col=None,limit=20):\n",
    "    col_src = [\n",
    "        \"name\", \"couts\", \"date\", \"perc\", \"ra_diff\",\"xratio\", \"idx\", \"hat\", \"close\",\n",
    "        \"volsum5d\", \"hmax\", \"lmin\", \"perc1d\", \"ma20\", \"ma250\", \"nclose\",\n",
    "        \"llow\", 'vol1d', 'vol2d', 'vol3d', 'vol4d', 'vol5d', \"perc%sd\" %\n",
    "        (market_value),\n",
    "        \"perc5d\"]\n",
    "\n",
    "    if isinstance(df, pd.Series):\n",
    "        col_name = [co for co in col_src if co in df.index]\n",
    "        # col_name.insert(1,'date')\n",
    "    else:\n",
    "        col_name = [co for co in col_src if co in df.columns]\n",
    "\n",
    "    # print(col_name)\n",
    "    # if isinstance(df, pd.DataFrame) and 'name' in df.columns:\n",
    "    #     columns_ = col_name\n",
    "    # else:\n",
    "    #     if isinstance(df, pd.Series) and 'name' in df.index:\n",
    "    #         columns_ = col_name.insert(1, \"date\")\n",
    "    #     else:\n",
    "    #         columns_ = col_name.remove(\"name\")\n",
    "    \n",
    "    if isinstance(col,list):\n",
    "        col_name.extend(col)\n",
    "    elif col is not None:\n",
    "        col_name.insert(4, col)\n",
    "\n",
    "    if codelist is None:\n",
    "        if isinstance(df, pd.Series):\n",
    "            print(\"Count:1\")\n",
    "            temp = df.loc[col_name][:limit]\n",
    "        else:\n",
    "            print(\"Count:%s %s\" % (df.shape))\n",
    "            temp = df.loc[:, col_name][:limit]\n",
    "    else:\n",
    "        temp = df.loc[[x for x in codelist if x in df.index], col_name][:limit]\n",
    "    return temp\n",
    "\n",
    "def clean_sina_dm(dd):\n",
    "    if (cct.get_now_time_int() > 915 and cct.get_now_time_int() < 926):\n",
    "        dd = dd[dd.close > 0]\n",
    "    else:\n",
    "        dd = dd[dd.open > 0]\n",
    "    return dd\n",
    "\n",
    "global sina_dm\n",
    "sina_dm = None\n",
    "\n",
    "\n",
    "def get_sina_data_cname(df, dm=None, index=False, realtime=False):\n",
    "    # index_status=False\n",
    "    global sina_dm\n",
    "    if dm is None:\n",
    "        if sina_dm is None:\n",
    "            dm = sina_data.Sina().market('all')\n",
    "        else:\n",
    "            dm = sina_dm.copy()\n",
    "\n",
    "    if 'ticktime' in df.columns:\n",
    "        time_l = time.mktime(dm.loc[:, 'ticktime'][-1].timetuple())\n",
    "        dur = round((time.time() - time_l) / 60, 2)\n",
    "        if dur > 5:\n",
    "            print(\"timel > 5,renew dm\")\n",
    "            dm = sina_data.Sina().market('all')\n",
    "            sina_dm = dm.copy()\n",
    "\n",
    "    if realtime:\n",
    "        print(\"compute percent\")\n",
    "        df.rename(columns={'low': 'llow',\n",
    "                  'high': 'lhigh', 'open': 'lopen'}, inplace=True)\n",
    "        if 'nclose' in dm.columns:\n",
    "            dd = cct.combine_dataFrame(\n",
    "                df, dm.loc\n",
    "                [:,\n",
    "                 ['nclose', 'close', 'name', 'open', 'high', 'low', 'llastp',\n",
    "                  'ticktime']],\n",
    "                clean=True)\n",
    "        else:\n",
    "            dd = cct.combine_dataFrame(\n",
    "                df, dm.loc\n",
    "                [:, ['close', 'name', 'open', 'high', 'low', 'llastp', 'ticktime']],\n",
    "                clean=True)\n",
    "        dd['perc'] = ((dd['close'] - dd['llastp']) / dd['llastp'] *\n",
    "                      100).map(lambda x: round(x, 2))\n",
    "        # dd = cct.combine_dataFrame(df, dm['name'])\n",
    "\n",
    "    else:\n",
    "        dd = cct.combine_dataFrame(df, dm['name'])\n",
    "    # cname = sina_data.Sina().get_code_cname(code)\n",
    "    return dd\n",
    "\n",
    "# from JSONData import tdx_hdf5_api as h5a\n",
    "def get_tdx_all_from_h5(resample='d',showtable=True):\n",
    "    #sina_monitor\n",
    "    h5_fname = 'tdx_last_df'\n",
    "    resample=resample\n",
    "    if resample=='d' or resample=='3d':\n",
    "        dl='60'\n",
    "    elif  resample=='w':\n",
    "        dl='200'\n",
    "    else:\n",
    "        dl='300'\n",
    "    filter='y'\n",
    "    h5_table = 'low' + '_' + resample + '_' + str(dl) + '_' + filter + '_' + 'all'\n",
    "    h5 = h5a.load_hdf_db(h5_fname, table=h5_table,code_l=None, timelimit=False,showtable=showtable)\n",
    "    if h5 is None:\n",
    "        h5,tdx = tdd.get_append_lastp_to_df(sina_data.Sina().market('all'),dl=dl,resample=resample)\n",
    "    return h5\n",
    "\n",
    "\n",
    "# def get_tdx_all_from_h5_old(resample='d',dl=ct.duration_date_day, end=None, ptype='low', filter='y',showtable=True):\n",
    "#     if end is not None:\n",
    "#         h5_table = ptype + '_' + resample + '_' + str(dl) + '_' + filter + \\\n",
    "#             '_' + end.replace('-', '') + '_' + 'all'\n",
    "#     else:\n",
    "#         h5_table = ptype + '_' + resample + '_' + str(dl) + '_' + filter + '_' + 'all'\n",
    "#     #sina_monitor\n",
    "#     h5_fname = 'tdx_last_df'\n",
    "#     resample=resample\n",
    "#     if resample=='d' or resample=='3d':\n",
    "#         dl='60'\n",
    "#     elif  resample=='w':\n",
    "#         dl='200'\n",
    "#     else:\n",
    "#         dl='300'\n",
    "#     filter='y'\n",
    "#     h5_table = 'low' + '_' + resample + '_' + str(dl) + '_' + filter + '_' + 'all'\n",
    "#     h5 = h5a.load_hdf_db(h5_fname, table=h5_table,code_l=None, timelimit=False,showtable=showtable)\n",
    "#     return h5\n",
    "\n",
    "def write_code_to_blk(codew, blk='077',rewrite=False):\n",
    "    block_path = tdd.get_tdx_dir_blocknew() + '%s.blk' % (blk)\n",
    "    write_blk = 'n'\n",
    "    if not rewrite:\n",
    "        write_blk = cct.cct_raw_input(\"write blk [Y] or [N]:\")\n",
    "        if write_blk == 'y' or write_blk == 'Y':\n",
    "            hdf5_wri = cct.cct_raw_input(\n",
    "                \"Rewrite code [Y] or append [N](defalut:N):\")\n",
    "            if hdf5_wri == 'y' or hdf5_wri == 'Y':\n",
    "                append_status = False\n",
    "            else:\n",
    "                append_status = True\n",
    "            if len(codew) > 3:\n",
    "                cct.write_to_blocknew(block_path, codew, append=append_status,\n",
    "                                      doubleFile=False, keep_last=0)\n",
    "                print(\"write:%s block_path:%s\" % (len(codew), block_path))\n",
    "            else:\n",
    "                print(\"write error:%s block_path:%s\" % (len(codew), block_path))\n",
    "    else:\n",
    "        if len(codew) > 3:\n",
    "                cct.write_to_blocknew(block_path, codew, append=False,\n",
    "                                      doubleFile=False, keep_last=0)\n",
    "                print(\"write:%s block_path:%s\" % (len(codew), block_path))\n",
    "        else:\n",
    "            print(\"write error:%s block_path:%s\" % (len(codew), block_path))\n",
    "\n",
    "def apply_col_toint(df, col=None):\n",
    "    if col is None:\n",
    "        co2int = ['boll', 'op', 'ratio', 'fib', 'fibl', 'df2']\n",
    "    # co2int.extend([co for co in df.columns.tolist()\n",
    "    #                if co.startswith('perc') and co.endswith('d')])\n",
    "        co2int.extend(['top10', 'topR'])\n",
    "    else:\n",
    "        co2int = col\n",
    "    co2int = [inx for inx in co2int if inx in df.columns]\n",
    "\n",
    "    for co in co2int:\n",
    "        df[co] = df[co].astype(int)\n",
    "\n",
    "    return df\n",
    "\n",
    "def readHdf5(fpath, root=None):\n",
    "    if not os.path.exists(fpath):\n",
    "        print(f'fpath is not exists')\n",
    "        return None\n",
    "    store = pd.HDFStore(fpath, \"r\")\n",
    "    print(store.keys())\n",
    "    if len(store.keys()) > 0 and root is None and store is not None:\n",
    "        root = store.keys()[0].replace(\"/\", \"\")\n",
    "        df = store[root]\n",
    "        df = apply_col_toint(df)\n",
    "    else:\n",
    "        df = None\n",
    "    store.close()\n",
    "    return df"
   ]
  },
  {
   "cell_type": "markdown",
   "id": "5a45d7a7",
   "metadata": {},
   "source": [
    "## init data"
   ]
  },
  {
   "cell_type": "markdown",
   "id": "ef938827",
   "metadata": {},
   "source": [
    "### get_tdx_all"
   ]
  },
  {
   "cell_type": "code",
   "execution_count": 3,
   "id": "26124559-db9b-48f7-aa4b-1a3e91ed5f8c",
   "metadata": {
    "ExecuteTime": {
     "end_time": "2025-06-20T08:25:38.987901Z",
     "start_time": "2025-06-20T08:25:36.023249Z"
    },
    "execution": {
     "iopub.execute_input": "2025-06-18T16:02:53.200862Z",
     "iopub.status.busy": "2025-06-18T16:02:53.200862Z",
     "iopub.status.idle": "2025-06-18T16:02:54.755737Z",
     "shell.execute_reply": "2025-06-18T16:02:54.755737Z",
     "shell.execute_reply.started": "2025-06-18T16:02:53.200862Z"
    }
   },
   "outputs": [
    {
     "name": "stdout",
     "output_type": "stream",
     "text": [
      "keys:['/low_3d_60_y_all', '/low_d_60_y_all', '/low_m_300_y_all', '/low_w_200_y_all']\n"
     ]
    }
   ],
   "source": [
    "h5_day=get_tdx_all_from_h5(resample='d')"
   ]
  },
  {
   "cell_type": "markdown",
   "id": "2b1db239",
   "metadata": {},
   "source": [
    "### sina"
   ]
  },
  {
   "cell_type": "markdown",
   "id": "0a650384",
   "metadata": {},
   "source": [
    "### sina_all"
   ]
  },
  {
   "cell_type": "code",
   "execution_count": 4,
   "id": "eacdcd3e",
   "metadata": {
    "ExecuteTime": {
     "end_time": "2025-06-20T08:25:39.884364Z",
     "start_time": "2025-06-20T08:25:38.991652Z"
    },
    "execution": {
     "iopub.execute_input": "2025-06-18T16:02:54.757736Z",
     "iopub.status.busy": "2025-06-18T16:02:54.757736Z",
     "iopub.status.idle": "2025-06-18T16:02:55.327177Z",
     "shell.execute_reply": "2025-06-18T16:02:55.326207Z",
     "shell.execute_reply.started": "2025-06-18T16:02:54.757736Z"
    },
    "run_control": {
     "marked": true
    }
   },
   "outputs": [
    {
     "data": {
      "text/plain": [
       "('2025-06-19',\n",
       " code\n",
       " 301013    利和兴\n",
       " Name: name, dtype: object)"
      ]
     },
     "execution_count": 4,
     "metadata": {},
     "output_type": "execute_result"
    }
   ],
   "source": [
    "sina_dm = sina_data.Sina().market('all')\n",
    "lastday = cct.last_tddate()\n",
    "lastday,sina_dm.name[:1]\n",
    "sina_dm = clean_sina_dm(sina_dm)"
   ]
  },
  {
   "cell_type": "code",
   "execution_count": 5,
   "id": "0c973adf",
   "metadata": {
    "ExecuteTime": {
     "end_time": "2025-06-20T08:25:39.901171Z",
     "start_time": "2025-06-20T08:25:39.887128Z"
    },
    "execution": {
     "iopub.execute_input": "2025-06-18T16:02:55.329171Z",
     "iopub.status.busy": "2025-06-18T16:02:55.329171Z",
     "iopub.status.idle": "2025-06-18T16:02:55.357098Z",
     "shell.execute_reply": "2025-06-18T16:02:55.356100Z",
     "shell.execute_reply.started": "2025-06-18T16:02:55.329171Z"
    }
   },
   "outputs": [
    {
     "data": {
      "text/plain": [
       "'2025-06/20/25 16:25:39'"
      ]
     },
     "execution_count": 5,
     "metadata": {},
     "output_type": "execute_result"
    },
    {
     "data": {
      "text/plain": [
       "code\n",
       "600302   2025-06-20 15:00:01\n",
       "002167   2025-06-20 15:00:00\n",
       "Name: ticktime, dtype: datetime64[ns]"
      ]
     },
     "execution_count": 5,
     "metadata": {},
     "output_type": "execute_result"
    },
    {
     "data": {
      "text/plain": [
       "85.6649484316508"
      ]
     },
     "execution_count": 5,
     "metadata": {},
     "output_type": "execute_result"
    }
   ],
   "source": [
    "cct.get_time_to_date(time.time(), format='%Y-%D %H:%M:%S')\n",
    "\n",
    "# abc=dm.loc[:,'ticktime'][-1]\n",
    "sina_dm.ticktime[-2:]\n",
    "# dm.ticktime[:1]\n",
    "# sina_dm.loc[:, 'ticktime'][-1]\n",
    "# time.strptime(abc,format='%Y-%m-%d %H:%M:%S')\n",
    "# (time.mktime(abc.timetuple()))\n",
    "(time.time() - time.mktime(sina_dm.loc[:, 'ticktime'][-1].timetuple())) / 60"
   ]
  },
  {
   "cell_type": "markdown",
   "id": "8e36c9a3",
   "metadata": {},
   "source": [
    "#### 实时成交"
   ]
  },
  {
   "cell_type": "code",
   "execution_count": 6,
   "id": "a38f56d8",
   "metadata": {
    "ExecuteTime": {
     "end_time": "2025-06-20T08:25:48.623593Z",
     "start_time": "2025-06-20T08:25:39.904264Z"
    },
    "execution": {
     "iopub.execute_input": "2025-06-18T16:09:17.215633Z",
     "iopub.status.busy": "2025-06-18T16:09:17.214603Z",
     "iopub.status.idle": "2025-06-18T16:09:17.236544Z",
     "shell.execute_reply": "2025-06-18T16:09:17.235547Z",
     "shell.execute_reply.started": "2025-06-18T16:09:17.215633Z"
    },
    "tags": []
   },
   "outputs": [
    {
     "name": "stdout",
     "output_type": "stream",
     "text": [
      "sina_MultiD_path:/Volumes/RamDisk/sina_MultiIndex_data.h5\n",
      "['/all_30']\n",
      "/Volumes/RamDisk/sina_MultiIndex_data.h5\n"
     ]
    },
    {
     "data": {
      "text/plain": [
       "(2767032, 6)"
      ]
     },
     "execution_count": 6,
     "metadata": {},
     "output_type": "execute_result"
    },
    {
     "data": {
      "text/html": [
       "<div>\n",
       "<style scoped>\n",
       "    .dataframe tbody tr th:only-of-type {\n",
       "        vertical-align: middle;\n",
       "    }\n",
       "\n",
       "    .dataframe tbody tr th {\n",
       "        vertical-align: top;\n",
       "    }\n",
       "\n",
       "    .dataframe thead th {\n",
       "        text-align: right;\n",
       "    }\n",
       "</style>\n",
       "<table border=\"1\" class=\"dataframe\">\n",
       "  <thead>\n",
       "    <tr style=\"text-align: right;\">\n",
       "      <th></th>\n",
       "      <th>close</th>\n",
       "      <th>high</th>\n",
       "      <th>low</th>\n",
       "      <th>llastp</th>\n",
       "      <th>volume</th>\n",
       "      <th>lastbuy</th>\n",
       "    </tr>\n",
       "    <tr>\n",
       "      <th>ticktime</th>\n",
       "      <th></th>\n",
       "      <th></th>\n",
       "      <th></th>\n",
       "      <th></th>\n",
       "      <th></th>\n",
       "      <th></th>\n",
       "    </tr>\n",
       "  </thead>\n",
       "  <tbody>\n",
       "    <tr>\n",
       "      <th>2025-06-20 14:58:58</th>\n",
       "      <td>66.9</td>\n",
       "      <td>67.88</td>\n",
       "      <td>66.75</td>\n",
       "      <td>67.55</td>\n",
       "      <td>16223684</td>\n",
       "      <td>67.11</td>\n",
       "    </tr>\n",
       "    <tr>\n",
       "      <th>2025-06-20 14:59:40</th>\n",
       "      <td>66.9</td>\n",
       "      <td>67.88</td>\n",
       "      <td>66.75</td>\n",
       "      <td>67.55</td>\n",
       "      <td>16223684</td>\n",
       "      <td>67.18</td>\n",
       "    </tr>\n",
       "    <tr>\n",
       "      <th>2025-06-20 15:00:01</th>\n",
       "      <td>66.9</td>\n",
       "      <td>67.88</td>\n",
       "      <td>66.75</td>\n",
       "      <td>67.55</td>\n",
       "      <td>16398684</td>\n",
       "      <td>67.07</td>\n",
       "    </tr>\n",
       "  </tbody>\n",
       "</table>\n",
       "</div>"
      ],
      "text/plain": [
       "                     close   high    low  llastp    volume  lastbuy\n",
       "ticktime                                                           \n",
       "2025-06-20 14:58:58   66.9  67.88  66.75   67.55  16223684    67.11\n",
       "2025-06-20 14:59:40   66.9  67.88  66.75   67.55  16223684    67.18\n",
       "2025-06-20 15:00:01   66.9  67.88  66.75   67.55  16398684    67.07"
      ]
     },
     "execution_count": 6,
     "metadata": {},
     "output_type": "execute_result"
    },
    {
     "data": {
      "text/plain": [
       "1.0"
      ]
     },
     "execution_count": 6,
     "metadata": {},
     "output_type": "execute_result"
    },
    {
     "name": "stdout",
     "output_type": "stream",
     "text": [
      "总量:8715.97 亿\n"
     ]
    },
    {
     "data": {
      "text/plain": [
       "ticktime    2025-06-21 00:00:00\n",
       "close                  67.21773\n",
       "volume                     0.13\n",
       "vol                        16.4\n",
       "amount                    11.02\n",
       "Name: 603019, dtype: object"
      ]
     },
     "execution_count": 6,
     "metadata": {},
     "output_type": "execute_result"
    },
    {
     "data": {
      "text/plain": [
       "'2025-06-20'"
      ]
     },
     "execution_count": 6,
     "metadata": {},
     "output_type": "execute_result"
    }
   ],
   "source": [
    "# tdx_path = \"G:\\\\tdx_last_df.h5\"\n",
    "# from JohnsonUtil import commonTips as cct\n",
    "sina_MultiD_path = f\"{cct.get_ramdisk_dir()}\\\\sina_MultiIndex_data.h5\".replace('\\\\',os.sep)\n",
    "print(f'sina_MultiD_path:{sina_MultiD_path}')\n",
    "h5 = readHdf5(sina_MultiD_path)\n",
    "print(sina_MultiD_path)\n",
    "if h5 is not None:\n",
    "    h5.shape\n",
    "    h5code='603019'\n",
    "    h5.loc[h5code][-3:]\n",
    "    code_muti = '603019'\n",
    "    # h5.loc[code_muti][:2]\n",
    "\n",
    "    freq = 'D'\n",
    "    # freq = '5M'\n",
    "    startime = '09:25:00'\n",
    "    endtime = '15:01:00'\n",
    "\n",
    "    time_ratio = cct.get_work_time_ratio()\n",
    "    time_ratio\n",
    "    run_col = ['close', 'volume']\n",
    "    # run_col = ['close']\n",
    "    mdf = cct.get_limit_multiIndex_freq(\n",
    "        h5, freq=freq.upper(),\n",
    "        col=run_col, start=startime, end=endtime, code=None)\n",
    "    allvol = mdf.volume.sum()\n",
    "    allvol = round(allvol / 10 / 1000 / 1000,2)\n",
    "    print(\"总量:%s 亿\"%(allvol))\n",
    "    mdf['vol']=mdf['volume'].apply(lambda x: round(x /1000/1000,2)) \n",
    "    mdf['amount']=(mdf.volume * mdf.close).map(lambda x: round(x/100/1000/1000, 2))\n",
    "    #全局占比\n",
    "    mdf['volume'] = mdf.amount.apply(\n",
    "        lambda x: round(x / allvol * 100 / time_ratio, 2))\n",
    "    mdf=mdf.reset_index().set_index('code')\n",
    "    mdf.loc[h5code]\n",
    "    str(h5.index.get_level_values(1)[-1])[:10]\n",
    "else:\n",
    "    mdf = None"
   ]
  },
  {
   "cell_type": "markdown",
   "id": "611dc8ac",
   "metadata": {},
   "source": [
    "#### 读取实时成交个股"
   ]
  },
  {
   "cell_type": "code",
   "execution_count": 7,
   "id": "203b1873",
   "metadata": {
    "ExecuteTime": {
     "end_time": "2025-06-20T08:25:48.659236Z",
     "start_time": "2025-06-20T08:25:48.628561Z"
    },
    "execution": {
     "iopub.status.busy": "2025-06-18T16:02:55.885713Z",
     "iopub.status.idle": "2025-06-18T16:02:55.885713Z",
     "shell.execute_reply": "2025-06-18T16:02:55.885713Z",
     "shell.execute_reply.started": "2025-06-18T16:02:55.885713Z"
    },
    "lang": "en"
   },
   "outputs": [
    {
     "data": {
      "text/plain": [
       "((5420, 5),\n",
       "         volume   name\n",
       " code                 \n",
       " 300308    0.73   中际旭创\n",
       " 300468    0.71   四方精创\n",
       " 600519    0.57   贵州茅台\n",
       " 300476    0.55   胜宏科技\n",
       " 300502    0.54    新易盛\n",
       " 601318    0.53   中国平安\n",
       " 300773    0.49    拉卡拉\n",
       " 002475    0.45   立讯精密\n",
       " 002463    0.45   沪电股份\n",
       " 002104    0.43   恒宝股份\n",
       " 000858    0.41  五 粮 液\n",
       " 300059    0.39   东方财富\n",
       " 300750    0.38   宁德时代\n",
       " 003040    0.36    楚天龙\n",
       " 002384    0.35   东山精密\n",
       " 002017    0.33   东信和平\n",
       " 603300    0.32   海南华铁\n",
       " 300255    0.31   常山药业\n",
       " 002050    0.31   三花智控\n",
       " 002594    0.29    比亚迪)"
      ]
     },
     "execution_count": 7,
     "metadata": {},
     "output_type": "execute_result"
    }
   ],
   "source": [
    "if mdf is not None:\n",
    "    nowdf = mdf.sort_values(by=['volume'], ascending=[0])\n",
    "    # nowdf.shape, df.shape, code_idx.shape\n",
    "    # top20_nd = nowdf.reset_index().loc[:, ['code', 'volume']][:20]\n",
    "    top20_nd = nowdf.reset_index().loc[:, ['code', 'volume']][:20]\n",
    "    top20_nd = get_sina_data_cname(top20_nd)\n",
    "    nowdf.shape, top20_nd"
   ]
  },
  {
   "cell_type": "markdown",
   "id": "7c81f9f6",
   "metadata": {},
   "source": [
    "##### 合并实时成交量及SinaDM"
   ]
  },
  {
   "cell_type": "code",
   "execution_count": 8,
   "id": "130319a8",
   "metadata": {
    "ExecuteTime": {
     "end_time": "2025-06-20T08:25:48.719455Z",
     "start_time": "2025-06-20T08:25:48.662500Z"
    },
    "execution": {
     "iopub.execute_input": "2025-06-18T16:10:50.070366Z",
     "iopub.status.busy": "2025-06-18T16:10:50.070366Z",
     "iopub.status.idle": "2025-06-18T16:10:50.091310Z",
     "shell.execute_reply": "2025-06-18T16:10:50.090312Z",
     "shell.execute_reply.started": "2025-06-18T16:10:50.070366Z"
    },
    "tags": []
   },
   "outputs": [],
   "source": [
    "# mdf[:1]\n",
    "if mdf is not None:\n",
    "    sinadm = cct.combine_dataFrame(sina_dm, mdf[['vol','amount']])\n",
    "else:\n",
    "    sinadm = sina_dm\n",
    "sinadm['percent']=((sinadm['close']-sinadm['llastp'])/(sinadm['llastp'])*100).round(1)\n"
   ]
  },
  {
   "cell_type": "markdown",
   "id": "5e811e71",
   "metadata": {},
   "source": [
    "## resample 多周期"
   ]
  },
  {
   "cell_type": "markdown",
   "id": "76cb8e8c",
   "metadata": {},
   "source": [
    "### filterKey"
   ]
  },
  {
   "cell_type": "code",
   "execution_count": 9,
   "id": "1e9b8e62",
   "metadata": {
    "ExecuteTime": {
     "end_time": "2025-06-20T08:25:48.727315Z",
     "start_time": "2025-06-20T08:25:48.722549Z"
    }
   },
   "outputs": [],
   "source": [
    "def get_filter(idx=0):\n",
    "    filter_key=filter_query[filter_keys[idx]]\n",
    "    print(f'{filter_keys[idx]}: {filter_key}')\n",
    "    return filter_key"
   ]
  },
  {
   "cell_type": "code",
   "execution_count": 63,
   "id": "0505a3c6",
   "metadata": {
    "ExecuteTime": {
     "end_time": "2025-06-20T08:38:24.837637Z",
     "start_time": "2025-06-20T08:38:24.834336Z"
    }
   },
   "outputs": [],
   "source": [
    "filterIDX=2"
   ]
  },
  {
   "cell_type": "markdown",
   "id": "d02d9218",
   "metadata": {},
   "source": [
    "### resample 3d"
   ]
  },
  {
   "cell_type": "code",
   "execution_count": 64,
   "id": "da7aeb35",
   "metadata": {
    "ExecuteTime": {
     "end_time": "2025-06-20T08:38:24.874022Z",
     "start_time": "2025-06-20T08:38:24.869594Z"
    }
   },
   "outputs": [],
   "source": [
    "filter_query={'2周期上冲上轨And涨幅新高': 'lasth1d > upper1 and lasth2d >upper2 and high >boll and percent > maxp',\n",
    "             '3周期新高上轨':'lastp1d > lastp2d > lastp3d and lasth1d > upper1 and lasth2d > upper2 and lasth3d > upper3',\n",
    "             '3周期新高大于Ma5': 'lastp1d > lastp2d and lasth2d > lasth3d and lastl2d > lastl3d and lastp1d > ma51d'}\n",
    "filter_keys=list(filter_query.keys())"
   ]
  },
  {
   "cell_type": "code",
   "execution_count": 82,
   "id": "cc7efd64",
   "metadata": {
    "ExecuteTime": {
     "end_time": "2025-06-20T08:39:06.656270Z",
     "start_time": "2025-06-20T08:39:06.559953Z"
    },
    "execution": {
     "iopub.execute_input": "2025-06-18T16:17:18.859847Z",
     "iopub.status.busy": "2025-06-18T16:17:18.859847Z",
     "iopub.status.idle": "2025-06-18T16:17:20.315955Z",
     "shell.execute_reply": "2025-06-18T16:17:20.314997Z",
     "shell.execute_reply.started": "2025-06-18T16:17:18.859847Z"
    },
    "tags": []
   },
   "outputs": [],
   "source": [
    "h5_3d = get_tdx_all_from_h5(resample='3d') if h5_3d is None else h5_3d\n",
    "tdx_3d = cct.combine_dataFrame(h5_3d,sinadm)"
   ]
  },
  {
   "cell_type": "code",
   "execution_count": 83,
   "id": "dd30f5cf",
   "metadata": {
    "ExecuteTime": {
     "end_time": "2025-06-20T08:39:13.583187Z",
     "start_time": "2025-06-20T08:39:13.556364Z"
    }
   },
   "outputs": [
    {
     "data": {
      "text/plain": [
       "6.29"
      ]
     },
     "execution_count": 83,
     "metadata": {},
     "output_type": "execute_result"
    }
   ],
   "source": [
    "tdx_3d.loc['000002'].close"
   ]
  },
  {
   "cell_type": "code",
   "execution_count": 67,
   "id": "51e3d74c",
   "metadata": {
    "ExecuteTime": {
     "end_time": "2025-06-20T08:38:28.016091Z",
     "start_time": "2025-06-20T08:38:27.968792Z"
    },
    "execution": {
     "iopub.execute_input": "2025-06-18T16:17:21.288746Z",
     "iopub.status.busy": "2025-06-18T16:17:21.288746Z",
     "iopub.status.idle": "2025-06-18T16:17:21.319691Z",
     "shell.execute_reply": "2025-06-18T16:17:21.319691Z",
     "shell.execute_reply.started": "2025-06-18T16:17:21.288746Z"
    },
    "scrolled": true,
    "tags": []
   },
   "outputs": [
    {
     "data": {
      "text/plain": [
       "(5188, 218)"
      ]
     },
     "execution_count": 67,
     "metadata": {},
     "output_type": "execute_result"
    },
    {
     "name": "stdout",
     "output_type": "stream",
     "text": [
      "3周期新高大于Ma5: lastp1d > lastp2d and lasth2d > lasth3d and lastl2d > lastl3d and lastp1d > ma51d\n",
      "Count:192 218\n"
     ]
    },
    {
     "data": {
      "text/html": [
       "<div>\n",
       "<style scoped>\n",
       "    .dataframe tbody tr th:only-of-type {\n",
       "        vertical-align: middle;\n",
       "    }\n",
       "\n",
       "    .dataframe tbody tr th {\n",
       "        vertical-align: top;\n",
       "    }\n",
       "\n",
       "    .dataframe thead th {\n",
       "        text-align: right;\n",
       "    }\n",
       "</style>\n",
       "<table border=\"1\" class=\"dataframe\">\n",
       "  <thead>\n",
       "    <tr style=\"text-align: right;\">\n",
       "      <th></th>\n",
       "      <th>name</th>\n",
       "      <th>date</th>\n",
       "      <th>close</th>\n",
       "      <th>hmax</th>\n",
       "      <th>lmin</th>\n",
       "      <th>perc1d</th>\n",
       "      <th>nclose</th>\n",
       "      <th>llow</th>\n",
       "      <th>perc3d</th>\n",
       "      <th>perc5d</th>\n",
       "    </tr>\n",
       "    <tr>\n",
       "      <th>code</th>\n",
       "      <th></th>\n",
       "      <th></th>\n",
       "      <th></th>\n",
       "      <th></th>\n",
       "      <th></th>\n",
       "      <th></th>\n",
       "      <th></th>\n",
       "      <th></th>\n",
       "      <th></th>\n",
       "      <th></th>\n",
       "    </tr>\n",
       "  </thead>\n",
       "  <tbody>\n",
       "    <tr>\n",
       "      <th>600156</th>\n",
       "      <td>NaN</td>\n",
       "      <td>2025-04-08</td>\n",
       "      <td>NaN</td>\n",
       "      <td>7.00</td>\n",
       "      <td>4.05</td>\n",
       "      <td>1.20</td>\n",
       "      <td>NaN</td>\n",
       "      <td>4.42</td>\n",
       "      <td>22.5</td>\n",
       "      <td>14.3</td>\n",
       "    </tr>\n",
       "    <tr>\n",
       "      <th>000159</th>\n",
       "      <td>国际实业</td>\n",
       "      <td>2025-04-08</td>\n",
       "      <td>6.54</td>\n",
       "      <td>5.68</td>\n",
       "      <td>4.21</td>\n",
       "      <td>34.31</td>\n",
       "      <td>6.61</td>\n",
       "      <td>4.50</td>\n",
       "      <td>4.1</td>\n",
       "      <td>12.3</td>\n",
       "    </tr>\n",
       "    <tr>\n",
       "      <th>000408</th>\n",
       "      <td>藏格矿业</td>\n",
       "      <td>2025-04-08</td>\n",
       "      <td>40.81</td>\n",
       "      <td>38.28</td>\n",
       "      <td>31.00</td>\n",
       "      <td>0.10</td>\n",
       "      <td>40.78</td>\n",
       "      <td>31.20</td>\n",
       "      <td>22.3</td>\n",
       "      <td>1.3</td>\n",
       "    </tr>\n",
       "    <tr>\n",
       "      <th>000554</th>\n",
       "      <td>泰山石油</td>\n",
       "      <td>2025-04-08</td>\n",
       "      <td>7.52</td>\n",
       "      <td>6.46</td>\n",
       "      <td>5.00</td>\n",
       "      <td>29.41</td>\n",
       "      <td>7.68</td>\n",
       "      <td>5.24</td>\n",
       "      <td>18.0</td>\n",
       "      <td>1.3</td>\n",
       "    </tr>\n",
       "    <tr>\n",
       "      <th>000682</th>\n",
       "      <td>东方电子</td>\n",
       "      <td>2025-04-08</td>\n",
       "      <td>10.21</td>\n",
       "      <td>10.22</td>\n"
      ],
      "text/plain": [
       "        name        date  close   hmax   lmin  perc1d  nclose   llow  perc3d  \\\n",
       "code                                                                           \n",
       "600156   NaN  2025-04-08    NaN   7.00   4.05    1.20     NaN   4.42    22.5   \n",
       "000159  国际实业  2025-04-08   6.54   5.68   4.21   34.31    6.61   4.50     4.1   \n",
       "000408  藏格矿业  2025-04-08  40.81  38.28  31.00    0.10   40.78  31.20    22.3   \n",
       "000554  泰山石油  2025-04-08   7.52   6.46   5.00   29.41    7.68   5.24    18.0   \n",
       "000682  东方电子  2025-04-08  10.21  10.22   8.69    1.20   10.24   8.82    22.3   \n",
       "000697  ST炼石  2025-04-29   7.09   8.01   6.10    1.30    7.16   6.19     0.0   \n",
       "000731  四川美丰  2025-04-30   6.86   7.19   6.41    1.30    6.88   6.53     0.1   \n",
       "000852  石化机械  2025-04-30   6.64   8.10   5.53    0.00    6.71   5.95    20.3   \n",
       "000968  蓝焰控股  2025-04-08   8.10   6.73   5.62   48.81    8.20   5.84    20.3   \n",
       "001314  亿道信息  2025-04-08  45.31  49.59  34.59    1.20   46.44  37.81     1.3   \n",
       "\n",
       "        perc5d  \n",
       "code            \n",
       "600156    14.3  \n",
       "000159    12.3  \n",
       "000408     1.3  \n",
       "000554     1.3  \n",
       "000682     1.3  \n",
       "000697    27.3  \n",
       "000731     1.3  \n",
       "000852     1.2  \n",
       "000968     1.3  \n",
       "001314     1.3  "
      ]
     },
     "execution_count": 67,
     "metadata": {},
     "output_type": "execute_result"
    },
    {
     "data": {
      "text/html": [
       "<b>limit_output extension: Maximum message size of 2000 exceeded with 3390 characters</b>"
      ]
     },
     "metadata": {},
     "output_type": "display_data"
    }
   ],
   "source": [
    "tdx_3d.shape\n",
    "# tdx_now.query('close >  lastp1d  and lastl1d < ma51d and close > ma51d and lastp1d < upper and lastp1d > lastp2d and lasth1d >high4 and boll > 0 and volume < 1')\n",
    "# tdx_select = tdx_3d.query('close > lastp1d and percent < 3')\n",
    "# tdx_select = tdx_3d.query('lastp1d > lastp2d > lastp3d and lasth1d > upper1 and lasth2d > upper2 and lasth3d > upper3')\n",
    "# tdx_select = tdx_3d.query('lastp1d > lastp2d  and lasth2d > lasth3d and (lasth2d > upper2 or lasth3d > upper3) and lasth2d < hmax')\n",
    "# tdx_select = tdx_3d.query('lastp1d > lastp2d  and lasth2d > lasth3d and lasth3d > lasth4d and lastl1d > lastl2d and lastl2d > lastl3d')\n",
    "tdx_select = tdx_3d.query(f'{get_filter(filterIDX)}')\n",
    "\n",
    "show_tdx_data(tdx_select,limit=10)"
   ]
  },
  {
   "cell_type": "code",
   "execution_count": 68,
   "id": "3e9533b9",
   "metadata": {
    "ExecuteTime": {
     "end_time": "2025-06-20T08:38:28.067982Z",
     "start_time": "2025-06-20T08:38:28.020679Z"
    },
    "execution": {
     "iopub.execute_input": "2025-06-18T16:17:22.649509Z",
     "iopub.status.busy": "2025-06-18T16:17:22.649509Z",
     "iopub.status.idle": "2025-06-18T16:17:22.665507Z",
     "shell.execute_reply": "2025-06-18T16:17:22.664504Z",
     "shell.execute_reply.started": "2025-06-18T16:17:22.649509Z"
    },
    "tags": []
   },
   "outputs": [
    {
     "data": {
      "text/plain": [
       "(5188, 218)"
      ]
     },
     "execution_count": 68,
     "metadata": {},
     "output_type": "execute_result"
    },
    {
     "name": "stdout",
     "output_type": "stream",
     "text": [
      "3周期新高上轨: lastp1d > lastp2d > lastp3d and lasth1d > upper1 and lasth2d > upper2 and lasth3d > upper3\n",
      "Count:80 218\n"
     ]
    },
    {
     "data": {
      "text/html": [
       "<div>\n",
       "<style scoped>\n",
       "    .dataframe tbody tr th:only-of-type {\n",
       "        vertical-align: middle;\n",
       "    }\n",
       "\n",
       "    .dataframe tbody tr th {\n",
       "        vertical-align: top;\n",
       "    }\n",
       "\n",
       "    .dataframe thead th {\n",
       "        text-align: right;\n",
       "    }\n",
       "</style>\n",
       "<table border=\"1\" class=\"dataframe\">\n",
       "  <thead>\n",
       "    <tr style=\"text-align: right;\">\n",
       "      <th></th>\n",
       "      <th>name</th>\n",
       "      <th>date</th>\n",
       "      <th>close</th>\n",
       "      <th>hmax</th>\n",
       "      <th>lmin</th>\n",
       "      <th>perc1d</th>\n",
       "      <th>nclose</th>\n",
       "      <th>llow</th>\n",
       "      <th>perc3d</th>\n",
       "      <th>perc5d</th>\n",
       "    </tr>\n",
       "    <tr>\n",
       "      <th>code</th>\n",
       "      <th></th>\n",
       "      <th></th>\n",
       "      <th></th>\n",
       "      <th></th>\n",
       "      <th></th>\n",
       "      <th></th>\n",
       "      <th></th>\n",
       "      <th></th>\n",
       "      <th></th>\n",
       "      <th></th>\n",
       "    </tr>\n",
       "  </thead>\n",
       "  <tbody>\n",
       "    <tr>\n",
       "      <th>600156</th>\n",
       "      <td>NaN</td>\n",
       "      <td>2025-04-08</td>\n",
       "      <td>NaN</td>\n",
       "      <td>7.00</td>\n",
       "      <td>4.05</td>\n",
       "      <td>1.20</td>\n",
       "      <td>NaN</td>\n",
       "      <td>4.42</td>\n",
       "      <td>22.50</td>\n",
       "      <td>14.30</td>\n",
       "    </tr>\n",
       "    <tr>\n",
       "      <th>000504</th>\n",
       "      <td>*ST生物</td>\n",
       "      <td>2025-04-30</td>\n",
       "      <td>8.98</td>\n",
       "      <td>10.00</td>\n",
       "      <td>5.43</td>\n",
       "      <td>1.30</td>\n",
       "      <td>8.90</td>\n",
       "      <td>5.46</td>\n",
       "      <td>1.20</td>\n",
       "      <td>12.30</td>\n",
       "    </tr>\n",
       "    <tr>\n",
       "      <th>000554</th>\n",
       "      <td>泰山石油</td>\n",
       "      <td>2025-04-08</td>\n",
       "      <td>7.52</td>\n",
       "      <td>6.46</td>\n",
       "      <td>5.00</td>\n",
       "      <td>29.41</td>\n",
       "      <td>7.68</td>\n",
       "      <td>5.24</td>\n",
       "      <td>18.00</td>\n",
       "      <td>1.30</td>\n",
       "    </tr>\n",
       "    <tr>\n",
       "      <th>001389</th>\n",
       "      <td>广合科技</td>\n",
       "      <td>2025-04-08</td>\n",
       "      <td>56.09</td>\n",
       "      <td>58.38</td>\n",
       "      <td>37.38</td>\n",
       "      <td>0.00</td>\n",
       "      <td>57.19</td>\n",
       "      <td>40.50</td>\n",
       "      <td>0.10</td>\n",
       "      <td>17.20</td>\n",
       "    </tr>\n",
       "    <tr>\n",
       "      <th>002015</th>\n",
       "      <td>协鑫能科</td>\n",
       "      <td>2025-04-08</td>\n",
       "      <td>10.68</td>\n",
       "      <"
      ],
      "text/plain": [
       "         name        date  close   hmax   lmin  perc1d  nclose   llow  perc3d  \\\n",
       "code                                                                            \n",
       "600156    NaN  2025-04-08    NaN   7.00   4.05    1.20     NaN   4.42   22.50   \n",
       "000504  *ST生物  2025-04-30   8.98  10.00   5.43    1.30    8.90   5.46    1.20   \n",
       "000554   泰山石油  2025-04-08   7.52   6.46   5.00   29.41    7.68   5.24   18.00   \n",
       "001389   广合科技  2025-04-08  56.09  58.38  37.38    0.00   57.19  40.50    0.10   \n",
       "002015   协鑫能科  2025-04-08  10.68   8.70   6.34   31.09   10.86   6.67   16.09   \n",
       "002017   东信和平  2025-04-08  15.64  11.53   8.07   57.41   15.61   8.24    0.00   \n",
       "002104   恒宝股份  2025-03-28  14.70  11.06   6.42   33.09   14.62   6.71   14.00   \n",
       "002130   沃尔核材  2025-04-08  22.86  21.80  14.80    0.00   22.98  16.05    0.00   \n",
       "002199  *ST东晶  2025-04-08   9.04   7.61   4.50   28.20    8.80   4.74   22.20   \n",
       "002207   准油股份  2025-04-08   9.62   6.11   4.42   55.41   10.20   4.68   19.80   \n",
       "002235   安妮股份  2025-04-08   9.03   5.72   4.12   37.31    8.88   4.33   26.09   \n",
       "002366   融发核电  2025-04-08   7.49   8.24   4.10   22.80    7.72   4.34   23.70   \n",
       "002463   沪电股份  2025-04-08  43.22  36.88  23.08   35.41   42.97  24.44   17.00   \n",
       "002558   巨人网络  2025-04-08  21.19  16.16  11.49    1.20   20.91  11.94   25.70   \n",
       "002741   光华科技  2025-04-08  19.41  17.55  12.47    1.30   19.41  13.03    0.10   \n",
       "002826   易明医药  2025-04-08  24.70  19.61   8.18    1.30   24.23   9.03   28.80   \n",
       "002898  *ST赛隆  2025-04-29  12.66  12.99   5.77    1.30   12.66   5.77   10.00   \n",
       "002916   深南电路  2025-04-08  99.25  97.00  75.00   32.41   99.38  76.19    1.20   \n",
       "002940    昂利康  2025-04-08  31.94  23.73  11.44    1.30   31.53  12.12   18.30   \n",
       "003040    楚天龙  2025-04-08  23.33  17.45  10.23   45.09   21.95  10.71   -1.10   \n",
       "\n",
       "        perc5d  \n",
       "code            \n",
       "600156   14.30  \n",
       "000504   12.30  \n",
       "000554    1.30  \n",
       "001389  "
      ]
     },
     "execution_count": 68,
     "metadata": {},
     "output_type": "execute_result"
    },
    {
     "data": {
      "text/html": [
       "<b>limit_output extension: Maximum message size of 2000 exceeded with 5956 characters</b>"
      ]
     },
     "metadata": {},
     "output_type": "display_data"
    }
   ],
   "source": [
    "# t3d_code = tdx_3d.query('lasth1d > lasth2d > lasth3d and close >= high4')\n",
    "tdx_3d.shape\n",
    "t3d_code = tdx_3d.query(f'{get_filter(1)}')\n",
    "show_tdx_data(t3d_code)"
   ]
  },
  {
   "cell_type": "markdown",
   "id": "81ea8f45",
   "metadata": {},
   "source": [
    "### resample W"
   ]
  },
  {
   "cell_type": "code",
   "execution_count": 84,
   "id": "07310ac1",
   "metadata": {
    "ExecuteTime": {
     "end_time": "2025-06-20T08:39:31.388685Z",
     "start_time": "2025-06-20T08:39:31.292490Z"
    },
    "execution": {
     "iopub.execute_input": "2025-06-18T16:18:19.431895Z",
     "iopub.status.busy": "2025-06-18T16:18:19.430898Z",
     "iopub.status.idle": "2025-06-18T16:18:20.876035Z",
     "shell.execute_reply": "2025-06-18T16:18:20.875337Z",
     "shell.execute_reply.started": "2025-06-18T16:18:19.431895Z"
    },
    "tags": []
   },
   "outputs": [],
   "source": [
    "h5_w = get_tdx_all_from_h5(resample='w') if h5_w is None else h5_w\n",
    "tdx_w = cct.combine_dataFrame(h5_w,sinadm)"
   ]
  },
  {
   "cell_type": "code",
   "execution_count": 70,
   "id": "71f866f2",
   "metadata": {
    "ExecuteTime": {
     "end_time": "2025-06-20T08:38:31.027758Z",
     "start_time": "2025-06-20T08:38:31.021232Z"
    },
    "execution": {
     "iopub.execute_input": "2025-06-18T16:18:20.914931Z",
     "iopub.status.busy": "2025-06-18T16:18:20.913932Z",
     "iopub.status.idle": "2025-06-18T16:18:20.953825Z",
     "shell.execute_reply": "2025-06-18T16:18:20.952831Z",
     "shell.execute_reply.started": "2025-06-18T16:18:20.914931Z"
    },
    "tags": []
   },
   "outputs": [
    {
     "data": {
      "text/plain": [
       "(5186, 220)"
      ]
     },
     "execution_count": 70,
     "metadata": {},
     "output_type": "execute_result"
    }
   ],
   "source": [
    "tdx_w.shape\n",
    "# tdx_now.query('close >  lastp1d  and lastl1d < ma51d and close > ma51d and lastp1d < upper and lastp1d > lastp2d and lasth1d >high4 and boll > 0 and volume < 1')\n",
    "# tdx_select_w = tdx_w.query('lasth1d > lasth2d and lasth2d >lasth3d and lasth2d > upper1')\n",
    "# show_tdx_data(tdx_select_w)"
   ]
  },
  {
   "cell_type": "code",
   "execution_count": 71,
   "id": "8c7f50c7",
   "metadata": {
    "ExecuteTime": {
     "end_time": "2025-06-20T08:38:31.098893Z",
     "start_time": "2025-06-20T08:38:31.030619Z"
    },
    "execution": {
     "iopub.execute_input": "2025-06-18T16:18:25.318247Z",
     "iopub.status.busy": "2025-06-18T16:18:25.317206Z",
     "iopub.status.idle": "2025-06-18T16:18:25.355104Z",
     "shell.execute_reply": "2025-06-18T16:18:25.354106Z",
     "shell.execute_reply.started": "2025-06-18T16:18:25.318247Z"
    },
    "scrolled": true,
    "tags": []
   },
   "outputs": [
    {
     "name": "stdout",
     "output_type": "stream",
     "text": [
      "3周期新高大于Ma5: lastp1d > lastp2d and lasth2d > lasth3d and lastl2d > lastl3d and lastp1d > ma51d\n",
      "Count:651 220\n"
     ]
    },
    {
     "data": {
      "text/html": [
       "<div>\n",
       "<style scoped>\n",
       "    .dataframe tbody tr th:only-of-type {\n",
       "        vertical-align: middle;\n",
       "    }\n",
       "\n",
       "    .dataframe tbody tr th {\n",
       "        vertical-align: top;\n",
       "    }\n",
       "\n",
       "    .dataframe thead th {\n",
       "        text-align: right;\n",
       "    }\n",
       "</style>\n",
       "<table border=\"1\" class=\"dataframe\">\n",
       "  <thead>\n",
       "    <tr style=\"text-align: right;\">\n",
       "      <th></th>\n",
       "      <th>name</th>\n",
       "      <th>date</th>\n",
       "      <th>close</th>\n",
       "      <th>hmax</th>\n",
       "      <th>lmin</th>\n",
       "      <th>perc1d</th>\n",
       "      <th>nclose</th>\n",
       "      <th>llow</th>\n",
       "      <th>perc3d</th>\n",
       "      <th>perc5d</th>\n",
       "    </tr>\n",
       "    <tr>\n",
       "      <th>code</th>\n",
       "      <th></th>\n",
       "      <th></th>\n",
       "      <th></th>\n",
       "      <th></th>\n",
       "      <th></th>\n",
       "      <th></th>\n",
       "      <th></th>\n",
       "      <th></th>\n",
       "      <th></th>\n",
       "      <th></th>\n",
       "    </tr>\n",
       "  </thead>\n",
       "  <tbody>\n",
       "    <tr>\n",
       "      <th>300959</th>\n",
       "      <td>NaN</td>\n",
       "      <td>2025-04-11</td>\n",
       "      <td>NaN</td>\n",
       "      <td>52.47</td>\n",
       "      <td>30.17</td>\n",
       "      <td>1.30</td>\n",
       "      <td>NaN</td>\n",
       "      <td>30.17</td>\n",
       "      <td>5.3</td>\n",
       "      <td>-0.9</td>\n",
       "    </tr>\n",
       "    <tr>\n",
       "      <th>600156</th>\n",
       "      <td>NaN</td>\n",
       "      <td>2025-01-10</td>\n",
       "      <td>NaN</td>\n",
       "      <td>6.39</td>\n",
       "      <td>4.05</td>\n",
       "      <td>1.20</td>\n",
       "      <td>NaN</td>\n",
       "      <td>4.31</td>\n",
       "      <td>21.7</td>\n",
       "      <td>1.2</td>\n",
       "    </tr>\n",
       "    <tr>\n",
       "      <th>000001</th>\n",
       "      <td>平安银行</td>\n",
       "      <td>2025-04-11</td>\n",
       "      <td>11.84</td>\n",
       "      <td>11.61</td>\n",
       "      <td>10.12</td>\n",
       "      <td>1.20</td>\n",
       "      <td>11.80</td>\n",
       "      <td>10.12</td>\n",
       "      <td>1.3</td>\n",
       "      <td>1.2</td>\n",
       "    </tr>\n",
       "    <tr>\n",
       "      <th>000020</th>\n",
       "      <td>深华发Ａ</td>\n",
       "      <td>2025-04-11</td>\n",
       "      <td>13.65</td>\n",
       "      <td>14.71</td>\n",
       "      <td>9.22</td>\n",
       "      <td>44.91</td>\n",
       "      <td>14.01</td>\n",
       "      <td>9.22</td>\n",
       "      <td>1.1</td>\n",
       "      <td>1.2</td>\n",
       "    </tr>\n",
       "    <tr>\n",
       "      <th>000049</th>\n",
       "      <td>德赛电池</td>\n",
       "      <td>2025-04-11</td>\n",
       "      <td>21.58</td>\n",
       "      <td>24.81</td>\n",
       "      <td>17"
      ],
      "text/plain": [
       "         name        date  close   hmax   lmin  perc1d  nclose   llow  perc3d  \\\n",
       "code                                                                            \n",
       "300959    NaN  2025-04-11    NaN  52.47  30.17    1.30     NaN  30.17     5.3   \n",
       "600156    NaN  2025-01-10    NaN   6.39   4.05    1.20     NaN   4.31    21.7   \n",
       "000001   平安银行  2025-04-11  11.84  11.61  10.12    1.20   11.80  10.12     1.3   \n",
       "000020   深华发Ａ  2025-04-11  13.65  14.71   9.22   44.91   14.01   9.22     1.1   \n",
       "000049   德赛电池  2025-04-11  21.58  24.81  17.91    0.00   21.72  17.91     0.0   \n",
       "000159   国际实业  2025-04-11   6.54   7.67   4.21   39.41    6.61   4.21     4.1   \n",
       "000407   胜利股份  2025-04-11   3.58   3.72   2.76   28.91    3.58   2.76     0.1   \n",
       "000408   藏格矿业  2024-12-20  40.81  36.81  26.75    1.20   40.78  26.75     0.0   \n",
       "000428   华天酒店  2025-01-10   3.21   3.94   2.73    0.00    3.24   2.90     1.3   \n",
       "000430  ST张家界  2025-01-03   7.92   9.17   5.56   27.30    7.97   5.80     1.2   \n",
       "\n",
       "        perc5d  \n",
       "code            \n",
       "300959    -0.9  \n",
       "600156     1.2  \n",
       "000001     1.2  \n",
       "000020     1.2  \n",
       "000049     0.0  \n",
       "000159    -0.1  \n",
       "000407    -0.1  \n",
       "000408     0.0  \n",
       "000428    -0.1  \n",
       "000430     0.1  "
      ]
     },
     "execution_count": 71,
     "metadata": {},
     "output_type": "execute_result"
    },
    {
     "data": {
      "text/html": [
       "<b>limit_output extension: Maximum message size of 2000 exceeded with 3382 characters</b>"
      ]
     },
     "metadata": {},
     "output_type": "display_data"
    }
   ],
   "source": [
    "# tw_code = tdx_w.query('lasth1d > lasth2d > lasth3d and close >= high4')\n",
    "# tw_code = tdx_w.query('lasth1d > lasth2d and lasth2d >lasth3d and lasth2d > upper1')\n",
    "# tw_code = tdx_w.query ('lastp1d > lastp2d and lasth2d > lasth3d and lastl2d > lastl3d and lastp1d > ma51d')\n",
    "# tw_code = tdx_w.query(f'{get_filter(0)}')\n",
    "tw_code = tdx_w.query(f'{get_filter(filterIDX)}')\n",
    "\n",
    "show_tdx_data(tw_code,limit=10)"
   ]
  },
  {
   "cell_type": "markdown",
   "id": "a1f7e30c",
   "metadata": {},
   "source": [
    "### resample M"
   ]
  },
  {
   "cell_type": "code",
   "execution_count": 85,
   "id": "58bbd8dc",
   "metadata": {
    "ExecuteTime": {
     "end_time": "2025-06-20T08:39:43.455906Z",
     "start_time": "2025-06-20T08:39:43.351275Z"
    },
    "execution": {
     "iopub.execute_input": "2025-06-18T16:18:28.097160Z",
     "iopub.status.busy": "2025-06-18T16:18:28.096164Z",
     "iopub.status.idle": "2025-06-18T16:18:29.560286Z",
     "shell.execute_reply": "2025-06-18T16:18:29.560286Z",
     "shell.execute_reply.started": "2025-06-18T16:18:28.097160Z"
    },
    "tags": []
   },
   "outputs": [],
   "source": [
    "h5_m = get_tdx_all_from_h5(resample='m') if h5_m is None else h5_m\n",
    "tdx_m = cct.combine_dataFrame(h5_m,sinadm)"
   ]
  },
  {
   "cell_type": "code",
   "execution_count": 86,
   "id": "ef69f616",
   "metadata": {
    "ExecuteTime": {
     "end_time": "2025-06-20T08:39:48.518857Z",
     "start_time": "2025-06-20T08:39:48.429602Z"
    },
    "execution": {
     "iopub.execute_input": "2025-06-18T16:18:29.609118Z",
     "iopub.status.busy": "2025-06-18T16:18:29.609118Z",
     "iopub.status.idle": "2025-06-18T16:18:29.654000Z",
     "shell.execute_reply": "2025-06-18T16:18:29.653011Z",
     "shell.execute_reply.started": "2025-06-18T16:18:29.609118Z"
    },
    "tags": []
   },
   "outputs": [
    {
     "name": "stdout",
     "output_type": "stream",
     "text": [
      "3周期新高大于Ma5: lastp1d > lastp2d and lasth2d > lasth3d and lastl2d > lastl3d and lastp1d > ma51d\n",
      "Count:946 218\n"
     ]
    },
    {
     "data": {
      "text/html": [
       "<div>\n",
       "<style scoped>\n",
       "    .dataframe tbody tr th:only-of-type {\n",
       "        vertical-align: middle;\n",
       "    }\n",
       "\n",
       "    .dataframe tbody tr th {\n",
       "        vertical-align: top;\n",
       "    }\n",
       "\n",
       "    .dataframe thead th {\n",
       "        text-align: right;\n",
       "    }\n",
       "</style>\n",
       "<table border=\"1\" class=\"dataframe\">\n",
       "  <thead>\n",
       "    <tr style=\"text-align: right;\">\n",
       "      <th></th>\n",
       "      <th>name</th>\n",
       "      <th>date</th>\n",
       "      <th>close</th>\n",
       "      <th>hmax</th>\n",
       "      <th>lmin</th>\n",
       "      <th>perc1d</th>\n",
       "      <th>nclose</th>\n",
       "      <th>llow</th>\n",
       "      <th>perc3d</th>\n",
       "      <th>perc5d</th>\n",
       "    </tr>\n",
       "    <tr>\n",
       "      <th>code</th>\n",
       "      <th></th>\n",
       "      <th></th>\n",
       "      <th></th>\n",
       "      <th></th>\n",
       "      <th></th>\n",
       "      <th></th>\n",
       "      <th></th>\n",
       "      <th></th>\n",
       "      <th></th>\n",
       "      <th></th>\n",
       "    </tr>\n",
       "  </thead>\n",
       "  <tbody>\n",
       "    <tr>\n",
       "      <th>999999</th>\n",
       "      <td>NaN</td>\n",
       "      <td>2025-01-27</td>\n",
       "      <td>NaN</td>\n",
       "      <td>3352.00</td>\n",
       "      <td>2690.00</td>\n",
       "      <td>0.10</td>\n",
       "      <td>NaN</td>\n",
       "      <td>3140.00</td>\n",
       "      <td>-0.10</td>\n",
       "      <td>1.20</td>\n",
       "    </tr>\n",
       "    <tr>\n",
       "      <th>601028</th>\n",
       "      <td>NaN</td>\n",
       "      <td>2025-02-28</td>\n",
       "      <td>NaN</td>\n",
       "      <td>14.58</td>\n",
       "      <td>10.52</td>\n",
       "      <td>1.10</td>\n",
       "      <td>NaN</td>\n",
       "      <td>11.14</td>\n",
       "      <td>1.10</td>\n",
       "      <td>0.00</td>\n",
       "    </tr>\n",
       "    <tr>\n",
       "      <th>600156</th>\n",
       "      <td>NaN</td>\n",
       "      <td>2024-09-30</td>\n",
       "      <td>NaN</td>\n",
       "      <td>5.48</td>\n",
       "      <td>2.71</td>\n",
       "      <td>54.31</td>\n",
       "      <td>NaN</td>\n",
       "      <td>3.24</td>\n",
       "      <td>0.00</td>\n",
       "      <td>37.50</td>\n",
       "    </tr>\n",
       "    <tr>\n",
       "      <th>000001</th>\n",
       "      <td>平安银行</td>\n",
       "      <td>2025-04-30</td>\n",
       "      <td>11.84</td>\n",
       "      <td>11.60</td>\n",
       "      <td>9.00</td>\n",
       "      <td>1.30</td>\n",
       "      <td>11.80</td>\n",
       "      <td>10.12</td>\n",
       "      <td>-1.10</td>\n",
       "      <td>1.20</td>\n",
       "    </tr>\n",
       "    <tr>\n",
       "      <th>000010</th>\n",
       "      <td>美丽生态</td>\n",
       "      <td>2024-09-30</td>\n",
       "      <td>2.90</td>\n",
       "      <td>3.03</td>\n",
       "   "
      ],
      "text/plain": [
       "        name        date  close     hmax     lmin  perc1d  nclose     llow  \\\n",
       "code                                                                         \n",
       "999999   NaN  2025-01-27    NaN  3352.00  2690.00    0.10     NaN  3140.00   \n",
       "601028   NaN  2025-02-28    NaN    14.58    10.52    1.10     NaN    11.14   \n",
       "600156   NaN  2024-09-30    NaN     5.48     2.71   54.31     NaN     3.24   \n",
       "000001  平安银行  2025-04-30  11.84    11.60     9.00    1.30   11.80    10.12   \n",
       "000010  美丽生态  2024-09-30   2.90     3.03     1.38    1.20    2.91     1.64   \n",
       "000020  深华发Ａ  2025-04-30  13.65    15.72     9.00    1.30   14.01     9.22   \n",
       "000059  华锦股份  2025-01-27   5.08     5.37     3.58    1.10    5.14     4.28   \n",
       "000159  国际实业  2025-04-30   6.54     7.44     4.83    1.30    6.61     4.21   \n",
       "000407  胜利股份  2024-09-30   3.58     3.45     2.47   35.81    3.58     2.60   \n",
       "000408  藏格矿业  2024-12-31  40.81    35.84    21.14   36.09   40.78    26.75   \n",
       "000426  兴业银锡  2024-12-31  15.04    14.21     9.50   37.59   15.15    11.10   \n",
       "000513  丽珠集团  2025-02-28  35.88    39.56    32.97    1.30   36.06    32.97   \n",
       "000519  中兵红箭  2025-01-27  17.66    16.97    11.14    1.10   17.88    13.18   \n",
       "000520  凤凰航运  2024-09-30   5.35     6.41     2.00    1.10    5.43     2.00   \n",
       "000533  顺钠股份  2024-09-30   6.65     6.55     2.98    1.20    6.62     3.07   \n",
       "000546  金圆股份  2025-04-30   4.68     6.34     3.73    1.20    4.81     3.67   \n",
       "000553  安道麦A  2024-09-30   6.97     7.37     4.10    1.20    7.04     4.10   \n",
       "000555  神州信息  2025-04-30  12.31    13.48     7.87    1.20   12.26     9.33   \n",
       "000561  烽火电子  2025-04-30   8.53    10.93     5.62    0.10    8.62     6.58   \n",
       "000576  甘化科工  2024-09-30   8.39     7.55     5.21    1.10    8.44     5.21   \n",
       "\n",
       "        perc3d  perc5d  \n",
       "code                    \n",
       "999999   -0.10    1.20  \n",
       "601028    1.10    0.00  \n",
       "600156    0.00   37.50  \n",
       "000001   -1.10    1.20  \n",
       "000010   -1.10    1.10  \n"
      ]
     },
     "execution_count": 86,
     "metadata": {},
     "output_type": "execute_result"
    },
    {
     "data": {
      "text/html": [
       "<b>limit_output extension: Maximum message size of 2000 exceeded with 5902 characters</b>"
      ]
     },
     "metadata": {},
     "output_type": "display_data"
    }
   ],
   "source": [
    "# tm_code = tdx_m.query('lastp1d > lastp2d and lasth2d > lasth3d and lastp1d > ma51d')\n",
    "# tm_code = tdx_m.query('lastp1d > lastp2d and lasth2d > lasth3d and lastl2d > lastl3d and lastp1d > ma51d')\n",
    "# tm_code = tdx_m.query('lasth1d > upper1 and lasth2d >upper2 and high >boll and percent > maxp')\n",
    "tm_code = tdx_m.query(f'{get_filter(filterIDX)}')\n",
    "show_tdx_data(tm_code)"
   ]
  },
  {
   "cell_type": "markdown",
   "id": "14d02e0c",
   "metadata": {},
   "source": [
    "### resample D"
   ]
  },
  {
   "cell_type": "code",
   "execution_count": 88,
   "id": "4406acdc",
   "metadata": {
    "ExecuteTime": {
     "end_time": "2025-06-20T08:40:01.941472Z",
     "start_time": "2025-06-20T08:40:01.852997Z"
    },
    "execution": {
     "iopub.execute_input": "2025-06-18T16:18:40.720807Z",
     "iopub.status.busy": "2025-06-18T16:18:40.720807Z",
     "iopub.status.idle": "2025-06-18T16:18:42.162950Z",
     "shell.execute_reply": "2025-06-18T16:18:42.162242Z",
     "shell.execute_reply.started": "2025-06-18T16:18:40.720807Z"
    },
    "tags": []
   },
   "outputs": [],
   "source": [
    "h5_d = get_tdx_all_from_h5(resample='d') if h5_d is None else h5_d\n",
    "tdx_d = cct.combine_dataFrame(h5_d,sinadm)"
   ]
  },
  {
   "cell_type": "code",
   "execution_count": 89,
   "id": "22c03d97",
   "metadata": {
    "ExecuteTime": {
     "end_time": "2025-06-20T08:40:03.505268Z",
     "start_time": "2025-06-20T08:40:03.433696Z"
    },
    "execution": {
     "iopub.execute_input": "2025-06-18T16:18:42.224969Z",
     "iopub.status.busy": "2025-06-18T16:18:42.224969Z",
     "iopub.status.idle": "2025-06-18T16:18:42.272842Z",
     "shell.execute_reply": "2025-06-18T16:18:42.270849Z",
     "shell.execute_reply.started": "2025-06-18T16:18:42.224969Z"
    },
    "scrolled": true,
    "tags": []
   },
   "outputs": [
    {
     "name": "stdout",
     "output_type": "stream",
     "text": [
      "3周期新高大于Ma5: lastp1d > lastp2d and lasth2d > lasth3d and lastl2d > lastl3d and lastp1d > ma51d\n",
      "Count:206 221\n"
     ]
    },
    {
     "data": {
      "text/html": [
       "<div>\n",
       "<style scoped>\n",
       "    .dataframe tbody tr th:only-of-type {\n",
       "        vertical-align: middle;\n",
       "    }\n",
       "\n",
       "    .dataframe tbody tr th {\n",
       "        vertical-align: top;\n",
       "    }\n",
       "\n",
       "    .dataframe thead th {\n",
       "        text-align: right;\n",
       "    }\n",
       "</style>\n",
       "<table border=\"1\" class=\"dataframe\">\n",
       "  <thead>\n",
       "    <tr style=\"text-align: right;\">\n",
       "      <th></th>\n",
       "      <th>name</th>\n",
       "      <th>date</th>\n",
       "      <th>close</th>\n",
       "      <th>hmax</th>\n",
       "      <th>lmin</th>\n",
       "      <th>perc1d</th>\n",
       "      <th>nclose</th>\n",
       "      <th>llow</th>\n",
       "      <th>perc3d</th>\n",
       "      <th>perc5d</th>\n",
       "    </tr>\n",
       "    <tr>\n",
       "      <th>code</th>\n",
       "      <th></th>\n",
       "      <th></th>\n",
       "      <th></th>\n",
       "      <th></th>\n",
       "      <th></th>\n",
       "      <th></th>\n",
       "      <th></th>\n",
       "      <th></th>\n",
       "      <th></th>\n",
       "      <th></th>\n",
       "    </tr>\n",
       "  </thead>\n",
       "  <tbody>\n",
       "    <tr>\n",
       "      <th>600156</th>\n",
       "      <td>NaN</td>\n",
       "      <td>2025-04-08</td>\n",
       "      <td>NaN</td>\n",
       "      <td>7.50</td>\n",
       "      <td>5.14</td>\n",
       "      <td>1.20</td>\n",
       "      <td>NaN</td>\n",
       "      <td>4.42</td>\n",
       "      <td>0.00</td>\n",
       "      <td>33.41</td>\n",
       "    </tr>\n",
       "    <tr>\n",
       "      <th>001277</th>\n",
       "      <td>NaN</td>\n",
       "      <td>2025-04-08</td>\n",
       "      <td>NaN</td>\n",
       "      <td>45.44</td>\n",
       "      <td>37.00</td>\n",
       "      <td>1.30</td>\n",
       "      <td>NaN</td>\n",
       "      <td>31.19</td>\n",
       "      <td>1.30</td>\n",
       "      <td>0.00</td>\n",
       "    </tr>\n",
       "    <tr>\n",
       "      <th>002141</th>\n",
       "      <td>NaN</td>\n",
       "      <td>2025-04-08</td>\n",
       "      <td>NaN</td>\n",
       "      <td>4.07</td>\n",
       "      <td>2.30</td>\n",
       "      <td>33.19</td>\n",
       "      <td>NaN</td>\n",
       "      <td>1.56</td>\n",
       "      <td>0.00</td>\n",
       "      <td>11.90</td>\n",
       "    </tr>\n",
       "    <tr>\n",
       "      <th>002200</th>\n",
       "      <td>NaN</td>\n",
       "      <td>2025-04-08</td>\n",
       "      <td>NaN</td>\n",
       "      <td>9.03</td>\n",
       "      <td>7.67</td>\n",
       "      <td>1.30</td>\n",
       "      <td>NaN</td>\n",
       "      <td>5.13</td>\n",
       "      <td>-1.10</td>\n",
       "      <td>1.30</td>\n",
       "    </tr>\n",
       "    <tr>\n",
       "      <th>002490</th>\n",
       "      <td>NaN</td>\n",
       "      <td>2025-03-28</td>\n",
       "      <td>NaN</td>\n",
       "      <td>5.27</td>\n",
       "      <td>3.90</td>\n",
       " "
      ],
      "text/plain": [
       "       name        date  close   hmax   lmin  perc1d  nclose   llow  perc3d  \\\n",
       "code                                                                          \n",
       "600156  NaN  2025-04-08    NaN   7.50   5.14    1.20     NaN   4.42    0.00   \n",
       "001277  NaN  2025-04-08    NaN  45.44  37.00    1.30     NaN  31.19    1.30   \n",
       "002141  NaN  2025-04-08    NaN   4.07   2.30   33.19     NaN   1.56    0.00   \n",
       "002200  NaN  2025-04-08    NaN   9.03   7.67    1.30     NaN   5.13   -1.10   \n",
       "002490  NaN  2025-03-28    NaN   5.27   3.90   27.30     NaN   3.07   17.41   \n",
       "002650  NaN  2025-04-08    NaN   8.07   5.88    1.30     NaN   4.47   -1.10   \n",
       "002700  NaN  2025-04-07    NaN   9.18   8.43    0.00     NaN   8.12    1.20   \n",
       "002742  NaN  2025-04-07    NaN   4.87   3.79    0.00     NaN   3.54   30.59   \n",
       "002951  NaN  2025-04-07    NaN  14.88   7.84    1.30     NaN   6.79    5.30   \n",
       "300029  NaN  2025-04-07    NaN   5.61   4.74    1.20     NaN   4.19    0.00   \n",
       "\n",
       "        perc5d  \n",
       "code            \n",
       "600156   33.41  \n",
       "001277    0.00  \n",
       "002141   11.90  \n",
       "002200    1.30  \n",
       "002490    0.10  \n",
       "002650    0.20  \n",
       "002700    0.10  \n",
       "002742   12.20  \n",
       "002951   -0.90  \n",
       "300029    0.10  "
      ]
     },
     "execution_count": 89,
     "metadata": {},
     "output_type": "execute_result"
    },
    {
     "data": {
      "text/html": [
       "<b>limit_output extension: Maximum message size of 2000 exceeded with 3361 characters</b>"
      ]
     },
     "metadata": {},
     "output_type": "display_data"
    }
   ],
   "source": [
    "# td_code = tdx_d.query('lasth1d > lasth2d > lasth3d and close >= high4')\n",
    "# td_code = tdx_d.query('ma51d > ma10d and ral > 3 and lastp1d >ma20d and low > lastl1d and vol > 2' )\n",
    "# td_code = tdx_d.query('lastp1d > lastp2d  and lasth1d > lasth2d and lasth2d > lasth3d and lastl1d > lastl2d and lastl2d > lastl3d and close > open')\n",
    "td_code = tdx_d.query(f'{get_filter(filterIDX)}')\n",
    "show_tdx_data(td_code,limit=10)\n",
    "if len(td_code) < 30:\n",
    "    write_code_to_blk(td_code.index,'065',rewrite=True)"
   ]
  },
  {
   "cell_type": "code",
   "execution_count": 90,
   "id": "039561bb",
   "metadata": {
    "ExecuteTime": {
     "end_time": "2025-06-20T08:40:05.691942Z",
     "start_time": "2025-06-20T08:40:05.644033Z"
    }
   },
   "outputs": [
    {
     "name": "stdout",
     "output_type": "stream",
     "text": [
      "Count:40 221\n"
     ]
    },
    {
     "data": {
      "text/html": [
       "<div>\n",
       "<style scoped>\n",
       "    .dataframe tbody tr th:only-of-type {\n",
       "        vertical-align: middle;\n",
       "    }\n",
       "\n",
       "    .dataframe tbody tr th {\n",
       "        vertical-align: top;\n",
       "    }\n",
       "\n",
       "    .dataframe thead th {\n",
       "        text-align: right;\n",
       "    }\n",
       "</style>\n",
       "<table border=\"1\" class=\"dataframe\">\n",
       "  <thead>\n",
       "    <tr style=\"text-align: right;\">\n",
       "      <th></th>\n",
       "      <th>name</th>\n",
       "      <th>date</th>\n",
       "      <th>close</th>\n",
       "      <th>hmax</th>\n",
       "      <th>lmin</th>\n",
       "      <th>perc1d</th>\n",
       "      <th>nclose</th>\n",
       "      <th>llow</th>\n",
       "      <th>perc3d</th>\n",
       "      <th>perc5d</th>\n",
       "    </tr>\n",
       "    <tr>\n",
       "      <th>code</th>\n",
       "      <th></th>\n",
       "      <th></th>\n",
       "      <th></th>\n",
       "      <th></th>\n",
       "      <th></th>\n",
       "      <th></th>\n",
       "      <th></th>\n",
       "      <th></th>\n",
       "      <th></th>\n",
       "      <th></th>\n",
       "    </tr>\n",
       "  </thead>\n",
       "  <tbody>\n",
       "    <tr>\n",
       "      <th>002080</th>\n",
       "      <td>中材科技</td>\n",
       "      <td>2025-04-08</td>\n",
       "      <td>17.58</td>\n",
       "      <td>17.52</td>\n",
       "      <td>14.03</td>\n",
       "      <td>1.30</td>\n",
       "      <td>17.58</td>\n",
       "      <td>12.58</td>\n",
       "      <td>1.3</td>\n",
       "      <td>-1.1</td>\n",
       "    </tr>\n",
       "    <tr>\n",
       "      <th>002235</th>\n",
       "      <td>安妮股份</td>\n",
       "      <td>2025-04-08</td>\n",
       "      <td>9.03</td>\n",
       "      <td>7.12</td>\n",
       "      <td>5.17</td>\n",
       "      <td>1.30</td>\n",
       "      <td>8.88</td>\n",
       "      <td>4.33</td>\n",
       "      <td>0.0</td>\n",
       "      <td>17.3</td>\n",
       "    </tr>\n",
       "    <tr>\n",
       "      <th>002374</th>\n",
       "      <td>中锐股份</td>\n",
       "      <td>2025-04-08</td>\n",
       "      <td>3.11</td>\n",
       "      <td>2.83</td>\n",
       "      <td>2.61</td>\n",
       "      <td>1.30</td>\n",
       "      <td>3.05</td>\n",
       "      <td>2.12</td>\n",
       "      <td>0.2</td>\n",
       "      <td>-1.1</td>\n",
       "    </tr>\n",
       "    <tr>\n",
       "      <th>002558</th>\n",
       "      <td>巨人网络</td>\n",
       "      <td>2025-04-08</td>\n",
       "      <td>21.19</td>\n",
       "      <td>20.92</td>\n",
       "      <td>13.39</td>\n",
       "      <td>1.30</td>\n",
       "      <td>20.91</td>\n",
       "      <td>11.94</td>\n",
       "      <td>-0.9</td>\n",
       "      <td>16.2</td>\n",
       "    </tr>\n",
       "    <tr>\n",
       "      <th>002676</th>\n",
       "      <td>顺威股份</td>\n",
       "      <td>2025-04-17</td>\n",
       "      <td>6.39</td>\n",
       "      <td>6.05</td>\n",
       "      <td>5.54</td>\n",
       "      <td>1.30</td>\n",
       "      <td>6.30</td>\n",
       "      <td>5.51</td>\n",
       "      <td>0.0</td>\n",
       "   "
      ],
      "text/plain": [
       "        name        date  close   hmax   lmin  perc1d  nclose   llow  perc3d  \\\n",
       "code                                                                           \n",
       "002080  中材科技  2025-04-08  17.58  17.52  14.03    1.30   17.58  12.58     1.3   \n",
       "002235  安妮股份  2025-04-08   9.03   7.12   5.17    1.30    8.88   4.33     0.0   \n",
       "002374  中锐股份  2025-04-08   3.11   2.83   2.61    1.30    3.05   2.12     0.2   \n",
       "002558  巨人网络  2025-04-08  21.19  20.92  13.39    1.30   20.91  11.94    -0.9   \n",
       "002676  顺威股份  2025-04-17   6.39   6.05   5.54    1.30    6.30   5.51     0.0   \n",
       "002685  华东重机  2025-04-08   7.36   8.17   6.52    1.30    7.12   4.97     0.3   \n",
       "002807  江阴银行  2025-04-07   4.92   4.75   4.16    1.30    4.92   3.88     1.3   \n",
       "002826  易明医药  2025-04-08  24.70  23.73  10.26    1.20   24.23   9.03    27.3   \n",
       "003040   楚天龙  2025-04-08  23.33  19.20  12.37   47.81   21.95  10.71     0.3   \n",
       "300269  联建光电  2025-04-07   6.17   4.18   3.83   52.09    6.01   2.95     1.2   \n",
       "\n",
       "        perc5d  \n",
       "code            \n",
       "002080    -1.1  \n",
       "002235    17.3  \n",
       "002374    -1.1  \n",
       "002558    16.2  \n",
       "002676    -1.1  \n",
       "002685    -0.1  \n",
       "002807     1.2  \n",
       "002826    -0.9  \n",
       "003040    -1.1  \n",
       "300269    -1.1  "
      ]
     },
     "execution_count": 90,
     "metadata": {},
     "output_type": "execute_result"
    },
    {
     "data": {
      "text/html": [
       "<b>limit_output extension: Maximum message size of 2000 exceeded with 3293 characters</b>"
      ]
     },
     "metadata": {},
     "output_type": "display_data"
    }
   ],
   "source": [
    "# td_code2 = tdx_d.query(f'{get_filter(2)}')\n",
    "td_code2 = tdx_d.query('lastp1d > lastp2d  and lasth1d > lasth2d and lasth2d > lasth3d and lastl1d > lastl2d and lastl2d > lastl3d and close > open')\n",
    "show_tdx_data(td_code2,limit=10)\n"
   ]
  },
  {
   "cell_type": "markdown",
   "id": "079416bf",
   "metadata": {},
   "source": [
    "#### 多周期筛选"
   ]
  },
  {
   "cell_type": "code",
   "execution_count": 92,
   "id": "4a919703",
   "metadata": {
    "ExecuteTime": {
     "end_time": "2025-06-20T08:40:15.434560Z",
     "start_time": "2025-06-20T08:40:15.427434Z"
    }
   },
   "outputs": [
    {
     "data": {
      "text/plain": [
       "False"
      ]
     },
     "execution_count": 92,
     "metadata": {},
     "output_type": "execute_result"
    }
   ],
   "source": [
    "# '002476' in td_code"
   ]
  },
  {
   "cell_type": "code",
   "execution_count": 93,
   "id": "f4919a87",
   "metadata": {
    "ExecuteTime": {
     "end_time": "2025-06-20T08:40:21.240229Z",
     "start_time": "2025-06-20T08:40:21.208963Z"
    },
    "execution": {
     "iopub.execute_input": "2025-06-18T16:18:42.409477Z",
     "iopub.status.busy": "2025-06-18T16:18:42.408479Z",
     "iopub.status.idle": "2025-06-18T16:18:42.424436Z",
     "shell.execute_reply": "2025-06-18T16:18:42.424436Z",
     "shell.execute_reply.started": "2025-06-18T16:18:42.409477Z"
    },
    "tags": []
   },
   "outputs": [
    {
     "name": "stdout",
     "output_type": "stream",
     "text": [
      "tm_code:946\n",
      "tw_code:651\n",
      "t3d_code:80\n",
      "td_code:206\n",
      "Count:13 220\n"
     ]
    },
    {
     "data": {
      "text/html": [
       "<div>\n",
       "<style scoped>\n",
       "    .dataframe tbody tr th:only-of-type {\n",
       "        vertical-align: middle;\n",
       "    }\n",
       "\n",
       "    .dataframe tbody tr th {\n",
       "        vertical-align: top;\n",
       "    }\n",
       "\n",
       "    .dataframe thead th {\n",
       "        text-align: right;\n",
       "    }\n",
       "</style>\n",
       "<table border=\"1\" class=\"dataframe\">\n",
       "  <thead>\n",
       "    <tr style=\"text-align: right;\">\n",
       "      <th></th>\n",
       "      <th>name</th>\n",
       "      <th>date</th>\n",
       "      <th>close</th>\n",
       "      <th>hmax</th>\n",
       "      <th>lmin</th>\n",
       "      <th>perc1d</th>\n",
       "      <th>nclose</th>\n",
       "      <th>llow</th>\n",
       "      <th>perc3d</th>\n",
       "      <th>perc5d</th>\n",
       "    </tr>\n",
       "    <tr>\n",
       "      <th>code</th>\n",
       "      <th></th>\n",
       "      <th></th>\n",
       "      <th></th>\n",
       "      <th></th>\n",
       "      <th></th>\n",
       "      <th></th>\n",
       "      <th></th>\n",
       "      <th></th>\n",
       "      <th></th>\n",
       "      <th></th>\n",
       "    </tr>\n",
       "  </thead>\n",
       "  <tbody>\n",
       "    <tr>\n",
       "      <th>600156</th>\n",
       "      <td>NaN</td>\n",
       "      <td>2025-01-10</td>\n",
       "      <td>NaN</td>\n",
       "      <td>6.39</td>\n",
       "      <td>4.05</td>\n",
       "      <td>1.20</td>\n",
       "      <td>NaN</td>\n",
       "      <td>4.31</td>\n",
       "      <td>21.70</td>\n",
       "      <td>1.20</td>\n",
       "    </tr>\n",
       "    <tr>\n",
       "      <th>002558</th>\n",
       "      <td>巨人网络</td>\n",
       "      <td>2025-01-10</td>\n",
       "      <td>21.19</td>\n",
       "      <td>16.67</td>\n",
       "      <td>10.97</td>\n",
       "      <td>52.00</td>\n",
       "      <td>20.91</td>\n",
       "      <td>10.97</td>\n",
       "      <td>7.30</td>\n",
       "      <td>0.00</td>\n",
       "    </tr>\n",
       "    <tr>\n",
       "      <th>300157</th>\n",
       "      <td>新锦动力</td>\n",
       "      <td>2025-04-25</td>\n",
       "      <td>5.44</td>\n",
       "      <td>4.01</td>\n",
       "      <td>2.28</td>\n",
       "      <td>66.88</td>\n",
       "      <td>5.65</td>\n",
       "      <td>2.66</td>\n",
       "      <td>4.10</td>\n",
       "      <td>-0.90</td>\n",
       "    </tr>\n",
       "    <tr>\n",
       "      <th>002235</th>\n",
       "      <td>安妮股份</td>\n",
       "      <td>2025-04-11</td>\n",
       "      <td>9.03</td>\n",
       "      <td>7.29</td>\n",
       "      <td>4.12</td>\n",
       "      <td>34.31</td>\n",
       "      <td>8.88</td>\n",
       "      <td>4.12</td>\n",
       "      <td>1.20</td>\n",
       "      <td>-0.10</td>\n",
       "    </tr>\n",
       "    <tr>\n",
       "      <th>688619</th>\n",
       "      <td>罗普特</td>\n",
       "      <td>2025-01-10</td>\n",
       "      <td>12.12</td>\n",
       "      <td>10.25</td>\n",
       "      <td>7.10</td>\n",
       "      <td>1.10</td>\n",
       "      <td>12"
      ],
      "text/plain": [
       "        name        date  close   hmax   lmin  perc1d  nclose   llow  perc3d  \\\n",
       "code                                                                           \n",
       "600156   NaN  2025-01-10    NaN   6.39   4.05    1.20     NaN   4.31   21.70   \n",
       "002558  巨人网络  2025-01-10  21.19  16.67  10.97   52.00   20.91  10.97    7.30   \n",
       "300157  新锦动力  2025-04-25   5.44   4.01   2.28   66.88    5.65   2.66    4.10   \n",
       "002235  安妮股份  2025-04-11   9.03   7.29   4.12   34.31    8.88   4.12    1.20   \n",
       "688619   罗普特  2025-01-10  12.12  10.25   7.10    1.10   12.36   7.80    1.30   \n",
       "002826  易明医药  2025-01-10  24.70  12.71   8.18   51.91   24.23   9.55   40.41   \n",
       "301357  北方长龙  2025-01-27  60.00  39.66  26.45   87.69   62.38  28.48    0.00   \n",
       "872895  花溪科技  2025-01-27  52.53  30.20  11.71    1.10   48.81  11.91    1.20   \n",
       "839719  宁新新材  2025-01-27  23.70  15.48   8.75   55.50   22.64   8.81    0.00   \n",
       "003040   楚天龙  2025-04-11  23.33  16.64  10.23   42.81   21.95  10.23   22.50   \n",
       "\n",
       "        perc5d  \n",
       "code            \n",
       "600156    1.20  \n",
       "002558    0.00  \n",
       "300157   -0.90  \n",
       "002235   -0.10  \n",
       "688619   -0.90  \n",
       "002826    1.10  \n",
       "301357    1.30  \n",
       "872895    1.20  \n",
       "839719   40.59  \n",
       "003040   -0.10  "
      ]
     },
     "execution_count": 93,
     "metadata": {},
     "output_type": "execute_result"
    },
    {
     "data": {
      "text/html": [
       "<b>limit_output extension: Maximum message size of 2000 exceeded with 3369 characters</b>"
      ]
     },
     "metadata": {},
     "output_type": "display_data"
    }
   ],
   "source": [
    "for co in ['tm_code','tw_code','t3d_code','td_code']:\n",
    "    print(f'{co}:{len(eval(co))}')\n",
    "code_f=  list(set(tm_code.index) & set(tw_code.index) & set(t3d_code.index)  & set(td_code.index))\n",
    "\n",
    "if len(code_f) > 0:\n",
    "    show_tdx_data(tw_code.loc[code_f],limit=10)\n",
    "else:\n",
    "    print('no code')"
   ]
  },
  {
   "cell_type": "markdown",
   "id": "4971264f",
   "metadata": {
    "run_control": {
     "marked": true
    }
   },
   "source": [
    "#### check data"
   ]
  },
  {
   "cell_type": "code",
   "execution_count": 79,
   "id": "95ffd469",
   "metadata": {
    "ExecuteTime": {
     "end_time": "2025-06-20T08:38:37.515107Z",
     "start_time": "2025-06-20T08:38:37.509466Z"
    }
   },
   "outputs": [
    {
     "data": {
      "text/plain": [
       "13"
      ]
     },
     "execution_count": 79,
     "metadata": {},
     "output_type": "execute_result"
    }
   ],
   "source": [
    "code_check = [co for co in code_f if co in tdx_3d.index]\n",
    "len(code_check)"
   ]
  },
  {
   "cell_type": "code",
   "execution_count": 80,
   "id": "39c1fcd2",
   "metadata": {
    "ExecuteTime": {
     "end_time": "2025-06-20T08:38:37.554647Z",
     "start_time": "2025-06-20T08:38:37.518857Z"
    },
    "execution": {
     "iopub.execute_input": "2025-06-18T16:18:43.739236Z",
     "iopub.status.busy": "2025-06-18T16:18:43.739236Z",
     "iopub.status.idle": "2025-06-18T16:18:43.759181Z",
     "shell.execute_reply": "2025-06-18T16:18:43.758212Z",
     "shell.execute_reply.started": "2025-06-18T16:18:43.739236Z"
    },
    "tags": []
   },
   "outputs": [
    {
     "name": "stdout",
     "output_type": "stream",
     "text": [
      "Count:13 221\n"
     ]
    },
    {
     "data": {
      "text/html": [
       "<div>\n",
       "<style scoped>\n",
       "    .dataframe tbody tr th:only-of-type {\n",
       "        vertical-align: middle;\n",
       "    }\n",
       "\n",
       "    .dataframe tbody tr th {\n",
       "        vertical-align: top;\n",
       "    }\n",
       "\n",
       "    .dataframe thead th {\n",
       "        text-align: right;\n",
       "    }\n",
       "</style>\n",
       "<table border=\"1\" class=\"dataframe\">\n",
       "  <thead>\n",
       "    <tr style=\"text-align: right;\">\n",
       "      <th></th>\n",
       "      <th>name</th>\n",
       "      <th>date</th>\n",
       "      <th>close</th>\n",
       "      <th>hmax</th>\n",
       "      <th>lmin</th>\n",
       "      <th>perc1d</th>\n",
       "      <th>nclose</th>\n",
       "      <th>llow</th>\n",
       "      <th>perc3d</th>\n",
       "      <th>perc5d</th>\n",
       "    </tr>\n",
       "    <tr>\n",
       "      <th>code</th>\n",
       "      <th></th>\n",
       "      <th></th>\n",
       "      <th></th>\n",
       "      <th></th>\n",
       "      <th></th>\n",
       "      <th></th>\n",
       "      <th></th>\n",
       "      <th></th>\n",
       "      <th></th>\n",
       "      <th></th>\n",
       "    </tr>\n",
       "  </thead>\n",
       "  <tbody>\n",
       "    <tr>\n",
       "      <th>600156</th>\n",
       "      <td>NaN</td>\n",
       "      <td>2025-04-08</td>\n",
       "      <td>NaN</td>\n",
       "      <td>7.50</td>\n",
       "      <td>5.14</td>\n",
       "      <td>1.20</td>\n",
       "      <td>NaN</td>\n",
       "      <td>4.42</td>\n",
       "      <td>0.00</td>\n",
       "      <td>33.41</td>\n",
       "    </tr>\n",
       "    <tr>\n",
       "      <th>002558</th>\n",
       "      <td>巨人网络</td>\n",
       "      <td>2025-04-08</td>\n",
       "      <td>21.19</td>\n",
       "      <td>20.92</td>\n",
       "      <td>13.39</td>\n",
       "      <td>1.30</td>\n",
       "      <td>20.91</td>\n",
       "      <td>11.94</td>\n",
       "      <td>-0.90</td>\n",
       "      <td>16.20</td>\n",
       "    </tr>\n",
       "    <tr>\n",
       "      <th>300157</th>\n",
       "      <td>新锦动力</td>\n",
       "      <td>2025-04-07</td>\n",
       "      <td>5.44</td>\n",
       "      <td>5.07</td>\n",
       "      <td>3.55</td>\n",
       "      <td>0.00</td>\n",
       "      <td>5.65</td>\n",
       "      <td>2.42</td>\n",
       "      <td>38.91</td>\n",
       "      <td>25.41</td>\n",
       "    </tr>\n",
       "    <tr>\n",
       "      <th>002235</th>\n",
       "      <td>安妮股份</td>\n",
       "      <td>2025-04-08</td>\n",
       "      <td>9.03</td>\n",
       "      <td>7.12</td>\n",
       "      <td>5.17</td>\n",
       "      <td>1.30</td>\n",
       "      <td>8.88</td>\n",
       "      <td>4.33</td>\n",
       "      <td>0.00</td>\n",
       "      <td>17.30</td>\n",
       "    </tr>\n",
       "    <tr>\n",
       "      <th>688619</th>\n",
       "      <td>罗普特</td>\n",
       "      <td>2025-04-07</td>\n",
       "      <td>12.12</td>\n",
       "      <td>12.43</td>\n",
       "      <td>9.60</td>\n",
       "      <td>1.10</td>\n",
       "      <td>12.36</td>\n",
       "      <td>7.10</td>\n",
       "      <td>-0.90</td"
      ],
      "text/plain": [
       "        name        date  close   hmax   lmin  perc1d  nclose   llow  perc3d  \\\n",
       "code                                                                           \n",
       "600156   NaN  2025-04-08    NaN   7.50   5.14    1.20     NaN   4.42    0.00   \n",
       "002558  巨人网络  2025-04-08  21.19  20.92  13.39    1.30   20.91  11.94   -0.90   \n",
       "300157  新锦动力  2025-04-07   5.44   5.07   3.55    0.00    5.65   2.42   38.91   \n",
       "002235  安妮股份  2025-04-08   9.03   7.12   5.17    1.30    8.88   4.33    0.00   \n",
       "688619   罗普特  2025-04-07  12.12  12.43   9.60    1.10   12.36   7.10   -0.90   \n",
       "002826  易明医药  2025-04-08  24.70  23.73  10.26    1.20   24.23   9.03   27.30   \n",
       "301357  北方长龙  2025-04-07  60.00  45.00  30.70   62.00   62.38  26.45    0.00   \n",
       "872895  花溪科技  2025-04-07  52.53  43.47  18.39    1.20   48.81  13.18    0.30   \n",
       "839719  宁新新材  2025-04-07  23.70  17.45  11.23    1.20   22.64   8.90    0.00   \n",
       "003040   楚天龙  2025-04-08  23.33  19.20  12.37   47.81   21.95  10.71    0.30   \n",
       "002207  准油股份  2025-04-08   9.62   7.55   5.69   30.30   10.20   4.68   17.41   \n",
       "002017  东信和平  2025-04-08  15.64  13.27   9.54   42.09   15.61   8.24   17.30   \n",
       "300940   南极光  2025-04-07  24.20  20.91  16.14    1.20   24.39  12.55    5.30   \n",
       "\n",
       "        perc5d  \n",
       "code            \n",
       "600156   33.41  \n",
       "002558   16.20  \n",
       "300157   25.41  \n",
       "002235   17.30  \n",
       "688619    1.30  \n",
       "002826   -0.90  \n",
       "301357   27.30  \n",
       "872895   -1.00  \n",
       "839719    1.20  \n",
       "003040   -1.10  \n",
       "002207   15.20  \n",
       "002017    1.20  \n",
       "300940    8.80  "
      ]
     },
     "execution_count": 80,
     "metadata": {},
     "output_type": "execute_result"
    },
    {
     "data": {
      "text/html": [
       "<b>limit_output extension: Maximum message size of 2000 exceeded with 4076 characters</b>"
      ]
     },
     "metadata": {},
     "output_type": "display_data"
    }
   ],
   "source": [
    "show_tdx_data(td_code.loc[code_f])"
   ]
  },
  {
   "cell_type": "markdown",
   "id": "b6e4f618-d3cb-43bb-b592-60e54a84aba5",
   "metadata": {},
   "source": [
    "### Write toblk"
   ]
  },
  {
   "cell_type": "code",
   "execution_count": 81,
   "id": "19ab69a9-1482-4b80-9fb6-20f751e8d885",
   "metadata": {
    "ExecuteTime": {
     "end_time": "2025-06-20T08:38:37.563146Z",
     "start_time": "2025-06-20T08:38:37.558308Z"
    },
    "execution": {
     "iopub.execute_input": "2025-06-18T16:27:22.851545Z",
     "iopub.status.busy": "2025-06-18T16:27:22.851545Z",
     "iopub.status.idle": "2025-06-18T16:27:27.576986Z",
     "shell.execute_reply": "2025-06-18T16:27:27.575991Z",
     "shell.execute_reply.started": "2025-06-18T16:27:22.851545Z"
    },
    "tags": []
   },
   "outputs": [],
   "source": [
    "# write_code_to_blk(code_f,'077',rewrite=False)"
   ]
  },
  {
   "cell_type": "code",
   "execution_count": null,
   "id": "1903b698-b6da-4396-bda3-61ceda41d88f",
   "metadata": {},
   "outputs": [],
   "source": []
  }
 ],
 "metadata": {
  "kernelspec": {
   "display_name": "Python 3",
   "language": "python",
   "name": "python3"
  },
  "language_info": {
   "codemirror_mode": {
    "name": "ipython",
    "version": 3
   },
   "file_extension": ".py",
   "mimetype": "text/x-python",
   "name": "python",
   "nbconvert_exporter": "python",
   "pygments_lexer": "ipython3",
   "version": "3.9.13"
  },
  "nbTranslate": {
   "displayLangs": [
    "zh-tw"
   ],
   "hotkey": "alt-t",
   "langInMainMenu": true,
   "sourceLang": "en",
   "targetLang": "zh-tw",
   "useGoogleTranslate": true
  },
  "toc": {
   "base_numbering": 1,
   "nav_menu": {},
   "number_sections": true,
   "sideBar": true,
   "skip_h1_title": false,
   "title_cell": "Table of Contents",
   "title_sidebar": "Contents",
   "toc_cell": false,
   "toc_position": {
    "height": "calc(100% - 180px)",
    "left": "10px",
    "top": "150px",
    "width": "223.067px"
   },
   "toc_section_display": true,
   "toc_window_display": true
  }
 },
 "nbformat": 4,
 "nbformat_minor": 5
}
