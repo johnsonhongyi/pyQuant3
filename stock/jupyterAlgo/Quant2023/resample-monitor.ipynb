{
 "cells": [
  {
   "cell_type": "markdown",
   "id": "76010d4d",
   "metadata": {},
   "source": [
    "# import def func"
   ]
  },
  {
   "cell_type": "code",
   "execution_count": 1,
   "id": "a547812c-f835-4e27-ac46-12430da81ca1",
   "metadata": {
    "ExecuteTime": {
     "end_time": "2025-06-23T07:24:28.831684Z",
     "start_time": "2025-06-23T07:24:28.822554Z"
    },
    "cell_style": "center",
    "execution": {
     "iopub.execute_input": "2025-08-10T07:59:27.224517Z",
     "iopub.status.busy": "2025-08-10T07:59:27.224517Z",
     "iopub.status.idle": "2025-08-10T07:59:28.607770Z",
     "shell.execute_reply": "2025-08-10T07:59:28.606778Z",
     "shell.execute_reply.started": "2025-08-10T07:59:27.224517Z"
    }
   },
   "outputs": [],
   "source": [
    "import sys\n",
    "# stdout=sys.stdout\n",
    "sys.path.append('../../')\n",
    "import os\n",
    "import random\n",
    "import time\n",
    "\n",
    "# import matplotlib\n",
    "# import matplotlib.pyplot as plt\n",
    "# import mplfinance as mpf\n",
    "# sys.stdout=stdout\n",
    "import numpy as np\n",
    "import pandas as pd\n",
    "from JohnsonUtil import commonTips as cct\n",
    "from JohnsonUtil import johnson_cons as ct\n",
    "from JSONData import sina_data\n",
    "from JSONData import tdx_data_Day as tdd\n",
    "from JSONData import tdx_hdf5_api as h5a\n",
    "\n",
    "from JohnsonUtil import LoggerFactory\n",
    "log = LoggerFactory.log\n",
    "# log_level = LoggerFactory.DEBUG\n",
    "# log_level = LoggerFactory.INFO\n",
    "log_level = LoggerFactory.ERROR\n",
    "log.setLevel(log_level)\n",
    "# from mplfinance.original_flavor import candlestick_ohlc\n",
    "# from JSONData import tdx_hdf5_api as h5a\n",
    "\n",
    "# %matplotlib widget\n",
    "# plt.rc('font', family='SimHei', size=13)\n",
    "# matplotlib.get_backend()\n",
    "# jupyter nbextension enable --py widgetsnbextension\n",
    "\n",
    "os.environ['NUMEXPR_MAX_THREADS'] = '12'\n",
    "from IPython.core.interactiveshell import InteractiveShell\n",
    "\n",
    "InteractiveShell.ast_node_interactivity = \"all\"\n",
    "import nest_asyncio\n",
    "nest_asyncio.apply()\n",
    "\n",
    "log = LoggerFactory.log"
   ]
  },
  {
   "cell_type": "code",
   "execution_count": 2,
   "id": "2e698804",
   "metadata": {
    "ExecuteTime": {
     "end_time": "2025-06-23T07:24:28.924905Z",
     "start_time": "2025-06-23T07:24:28.883880Z"
    },
    "execution": {
     "iopub.execute_input": "2025-08-10T07:59:28.608769Z",
     "iopub.status.busy": "2025-08-10T07:59:28.608769Z",
     "iopub.status.idle": "2025-08-10T07:59:28.639686Z",
     "shell.execute_reply": "2025-08-10T07:59:28.638688Z",
     "shell.execute_reply.started": "2025-08-10T07:59:28.608769Z"
    },
    "tags": []
   },
   "outputs": [],
   "source": [
    "def show_tdx_data(df, codelist=None, market_value='3', col=None,limit=20,orderby='percent'):\n",
    "    col_src = [\n",
    "        \"name\",'percent', \"couts\", \"date\", \"perc\", \"ra_diff\",\"xratio\", \"idx\", \"hat\", \"close\",\n",
    "        \"volsum5d\", \"hmax\", \"lmin\", \"perc1d\", \"ma20\", \"ma250\", \"nclose\",\n",
    "        \"llow\", 'vol1d', 'vol2d', 'vol3d', 'vol4d', 'vol5d', \"perc%sd\" %\n",
    "        (market_value),\n",
    "        \"perc5d\"]\n",
    "\n",
    "    if isinstance(df, pd.Series):\n",
    "        col_name = [co for co in col_src if co in df.index]\n",
    "        # col_name.insert(1,'date')\n",
    "    else:\n",
    "        col_name = [co for co in col_src if co in df.columns]\n",
    "\n",
    "    # print(col_name)\n",
    "    # if isinstance(df, pd.DataFrame) and 'name' in df.columns:\n",
    "    #     columns_ = col_name\n",
    "    # else:\n",
    "    #     if isinstance(df, pd.Series) and 'name' in df.index:\n",
    "    #         columns_ = col_name.insert(1, \"date\")\n",
    "    #     else:\n",
    "    #         columns_ = col_name.remove(\"name\")\n",
    "    if orderby in df.columns:\n",
    "        df=df.sort_values('percent', ascending=False)\n",
    "    if isinstance(col,list):\n",
    "        col_name.extend(col)\n",
    "    elif col is not None:\n",
    "        col_name.insert(4, col)\n",
    "\n",
    "    if codelist is None:\n",
    "        if isinstance(df, pd.Series):\n",
    "            print(\"Count:1\")\n",
    "            temp = df.loc[col_name][:limit]\n",
    "        else:\n",
    "            print(\"Count:%s %s\" % (df.shape))\n",
    "            temp = df.loc[:, col_name][:limit]\n",
    "    else:\n",
    "        temp = df.loc[[x for x in codelist if x in df.index], col_name][:limit]\n",
    "    return temp\n",
    "\n",
    "def clean_sina_dm(dd):\n",
    "    if (cct.get_now_time_int() > 915 and cct.get_now_time_int() < 926):\n",
    "        dd = dd[dd.close > 0]\n",
    "    else:\n",
    "        dd = dd[dd.open > 0]\n",
    "    return dd\n",
    "\n",
    "global sina_dm\n",
    "sina_dm = None\n",
    "\n",
    "\n",
    "def get_sina_data_cname(df, dm=None, index=False, realtime=False):\n",
    "    # index_status=False\n",
    "    global sina_dm\n",
    "    if dm is None:\n",
    "        if sina_dm is None:\n",
    "            dm = sina_data.Sina().market('all')\n",
    "        else:\n",
    "            dm = sina_dm.copy()\n",
    "\n",
    "    if 'ticktime' in df.columns:\n",
    "        time_l = time.mktime(dm.loc[:, 'ticktime'][-1].timetuple())\n",
    "        dur = round((time.time() - time_l) / 60, 2)\n",
    "        if dur > 5:\n",
    "            print(\"timel > 5,renew dm\")\n",
    "            dm = sina_data.Sina().market('all')\n",
    "            sina_dm = dm.copy()\n",
    "\n",
    "    if realtime:\n",
    "        print(\"compute percent\")\n",
    "        df.rename(columns={'low': 'llow',\n",
    "                  'high': 'lhigh', 'open': 'lopen'}, inplace=True)\n",
    "        if 'nclose' in dm.columns:\n",
    "            dd = cct.combine_dataFrame(\n",
    "                df, dm.loc\n",
    "                [:,\n",
    "                 ['nclose', 'close', 'name', 'open', 'high', 'low', 'llastp',\n",
    "                  'ticktime']],\n",
    "                clean=True)\n",
    "        else:\n",
    "            dd = cct.combine_dataFrame(\n",
    "                df, dm.loc\n",
    "                [:, ['close', 'name', 'open', 'high', 'low', 'llastp', 'ticktime']],\n",
    "                clean=True)\n",
    "        dd['perc'] = ((dd['close'] - dd['llastp']) / dd['llastp'] *\n",
    "                      100).map(lambda x: round(x, 2))\n",
    "        # dd = cct.combine_dataFrame(df, dm['name'])\n",
    "\n",
    "    else:\n",
    "        dd = cct.combine_dataFrame(df, dm['name'])\n",
    "    # cname = sina_data.Sina().get_code_cname(code)\n",
    "    return dd\n",
    "\n",
    "# from JSONData import tdx_hdf5_api as h5a\n",
    "names = locals()\n",
    "def get_tdx_all_now(resample='d',market_blk='all',showtable=True):\n",
    "    top_now = tdd.getSinaAlldf(market=market_blk, vol=ct.json_countVol, vtype=ct.json_countType)\n",
    "    if resample=='d' or resample=='3d':\n",
    "        dl=ct.Resample_LABELS_Days[resample]\n",
    "    elif  resample=='w':\n",
    "        #200\n",
    "        dl=ct.Resample_LABELS_Days[resample]\n",
    "    else:\n",
    "        #300\n",
    "        dl=ct.Resample_LABELS_Days[resample]\n",
    "    filter='y'\n",
    "#     import pdb;pdb.set_trace()\n",
    "    if not f'lastpTDX_DF_{resample}' in names:\n",
    "        print(f'lastpTDX_DF_{resample} not in locals')\n",
    "        top_all, lastpTDX_DF = tdd.get_append_lastp_to_df(top_now, dl=dl,resample=resample,showtable=showtable)\n",
    "        names[f'lastpTDX_DF_{resample}'] = lastpTDX_DF\n",
    "    else:\n",
    "        print(f'lastpTDX_DF_{resample} in locals')\n",
    "        print(eval(f'lastpTDX_DF_{resample}.shape'))\n",
    "        top_all = tdd.get_append_lastp_to_df(top_now, eval(f'lastpTDX_DF_{resample}'))\n",
    "    return top_all\n",
    "\n",
    "def get_tdx_all_from_h5_old(resample='d',showtable=True):\n",
    "    #sina_monitor\n",
    "    h5_fname = 'tdx_last_df'\n",
    "    resample=resample\n",
    "    if resample=='d' or resample=='3d':\n",
    "        dl='60'\n",
    "    elif  resample=='w':\n",
    "        dl='200'\n",
    "    else:\n",
    "        dl='300'\n",
    "    filter='y'\n",
    "    h5_table = 'low' + '_' + resample + '_' + str(dl) + '_' + filter + '_' + 'all'\n",
    "    h5 = h5a.load_hdf_db(h5_fname, table=h5_table,code_l=None, timelimit=False,showtable=showtable)\n",
    "    if h5 is None:\n",
    "        h5,tdx = tdd.get_append_lastp_to_df(sina_data.Sina().market('all'),dl=dl,resample=resample)\n",
    "    return h5\n",
    "\n",
    "\n",
    "# def get_tdx_all_from_h5_old(resample='d',dl=ct.duration_date_day, end=None, ptype='low', filter='y',showtable=True):\n",
    "#     if end is not None:\n",
    "#         h5_table = ptype + '_' + resample + '_' + str(dl) + '_' + filter + \\\n",
    "#             '_' + end.replace('-', '') + '_' + 'all'\n",
    "#     else:\n",
    "#         h5_table = ptype + '_' + resample + '_' + str(dl) + '_' + filter + '_' + 'all'\n",
    "#     #sina_monitor\n",
    "#     h5_fname = 'tdx_last_df'\n",
    "#     resample=resample\n",
    "#     if resample=='d' or resample=='3d':\n",
    "#         dl='60'\n",
    "#     elif  resample=='w':\n",
    "#         dl='200'\n",
    "#     else:\n",
    "#         dl='300'\n",
    "#     filter='y'\n",
    "#     h5_table = 'low' + '_' + resample + '_' + str(dl) + '_' + filter + '_' + 'all'\n",
    "#     h5 = h5a.load_hdf_db(h5_fname, table=h5_table,code_l=None, timelimit=False,showtable=showtable)\n",
    "#     return h5\n",
    "\n",
    "def write_code_to_blk(codew, blk='077',rewrite=False):\n",
    "    block_path = tdd.get_tdx_dir_blocknew() + '%s.blk' % (blk)\n",
    "    write_blk = 'n'\n",
    "    if not rewrite:\n",
    "        write_blk = cct.cct_raw_input(\"write blk [Y] or [N]:\")\n",
    "        if write_blk == 'y' or write_blk == 'Y':\n",
    "            hdf5_wri = cct.cct_raw_input(\n",
    "                \"Rewrite code [Y] or append [N](defalut:N):\")\n",
    "            if hdf5_wri == 'y' or hdf5_wri == 'Y':\n",
    "                append_status = False\n",
    "            else:\n",
    "                append_status = True\n",
    "            if len(codew) > 3:\n",
    "                cct.write_to_blocknew(block_path, codew, append=append_status,\n",
    "                                      doubleFile=False, keep_last=0)\n",
    "                print(\"write:%s block_path:%s\" % (len(codew), block_path))\n",
    "            else:\n",
    "                print(\"write error:%s block_path:%s\" % (len(codew), block_path))\n",
    "    else:\n",
    "        if len(codew) > 3:\n",
    "                cct.write_to_blocknew(block_path, codew, append=False,\n",
    "                                      doubleFile=False, keep_last=0)\n",
    "                print(\"write:%s block_path:%s\" % (len(codew), block_path))\n",
    "        else:\n",
    "            print(\"write error:%s block_path:%s\" % (len(codew), block_path))\n",
    "\n",
    "def apply_col_toint(df, col=None):\n",
    "    if col is None:\n",
    "        co2int = ['boll', 'op', 'ratio', 'fib', 'fibl', 'df2']\n",
    "    # co2int.extend([co for co in df.columns.tolist()\n",
    "    #                if co.startswith('perc') and co.endswith('d')])\n",
    "        co2int.extend(['top10', 'topR'])\n",
    "    else:\n",
    "        co2int = col\n",
    "    co2int = [inx for inx in co2int if inx in df.columns]\n",
    "\n",
    "    for co in co2int:\n",
    "        df[co] = df[co].astype(int)\n",
    "\n",
    "    return df\n",
    "\n",
    "def readHdf5(fpath, root=None):\n",
    "    if not os.path.exists(fpath):\n",
    "        print(f'fpath is not exists')\n",
    "        return None\n",
    "    store = pd.HDFStore(fpath, \"r\")\n",
    "    print(store.keys())\n",
    "    if len(store.keys()) > 0 and root is None and store is not None:\n",
    "        root = store.keys()[0].replace(\"/\", \"\")\n",
    "        df = store[root]\n",
    "        df = apply_col_toint(df)\n",
    "    else:\n",
    "        df = None\n",
    "    store.close()\n",
    "    return df"
   ]
  },
  {
   "cell_type": "code",
   "execution_count": 3,
   "id": "4954d038",
   "metadata": {
    "ExecuteTime": {
     "end_time": "2025-06-23T07:24:28.947175Z",
     "start_time": "2025-06-23T07:24:28.933359Z"
    },
    "execution": {
     "iopub.execute_input": "2025-08-10T07:59:28.640684Z",
     "iopub.status.busy": "2025-08-10T07:59:28.640684Z",
     "iopub.status.idle": "2025-08-10T07:59:28.655646Z",
     "shell.execute_reply": "2025-08-10T07:59:28.654647Z",
     "shell.execute_reply.started": "2025-08-10T07:59:28.640684Z"
    }
   },
   "outputs": [
    {
     "data": {
      "text/plain": [
       "False"
      ]
     },
     "execution_count": 3,
     "metadata": {},
     "output_type": "execute_result"
    },
    {
     "data": {
      "text/plain": [
       "False"
      ]
     },
     "execution_count": 3,
     "metadata": {},
     "output_type": "execute_result"
    }
   ],
   "source": [
    "f'lastpTDX_DF_d' in names\n",
    "f'lastpTDX_DF_d' in locals()\n",
    "# eval(f'lastpTDX_DF_d')"
   ]
  },
  {
   "cell_type": "markdown",
   "id": "5a45d7a7",
   "metadata": {},
   "source": [
    "## init data"
   ]
  },
  {
   "cell_type": "markdown",
   "id": "ef938827",
   "metadata": {},
   "source": [
    "### get_tdx_all"
   ]
  },
  {
   "cell_type": "code",
   "execution_count": 4,
   "id": "26124559-db9b-48f7-aa4b-1a3e91ed5f8c",
   "metadata": {
    "ExecuteTime": {
     "end_time": "2025-06-23T07:24:28.986032Z",
     "start_time": "2025-06-23T07:24:28.981754Z"
    },
    "execution": {
     "iopub.execute_input": "2025-08-10T07:59:28.657640Z",
     "iopub.status.busy": "2025-08-10T07:59:28.656642Z",
     "iopub.status.idle": "2025-08-10T07:59:28.671601Z",
     "shell.execute_reply": "2025-08-10T07:59:28.670637Z",
     "shell.execute_reply.started": "2025-08-10T07:59:28.657640Z"
    }
   },
   "outputs": [],
   "source": [
    "# h5_day=get_tdx_all_now(resample='d')"
   ]
  },
  {
   "cell_type": "markdown",
   "id": "2b1db239",
   "metadata": {},
   "source": [
    "### sina"
   ]
  },
  {
   "cell_type": "markdown",
   "id": "0a650384",
   "metadata": {},
   "source": [
    "### sina_all"
   ]
  },
  {
   "cell_type": "code",
   "execution_count": 5,
   "id": "eacdcd3e",
   "metadata": {
    "ExecuteTime": {
     "end_time": "2025-06-23T07:24:29.950340Z",
     "start_time": "2025-06-23T07:24:29.031281Z"
    },
    "execution": {
     "iopub.execute_input": "2025-08-10T07:59:28.672597Z",
     "iopub.status.busy": "2025-08-10T07:59:28.672597Z",
     "iopub.status.idle": "2025-08-10T07:59:29.002715Z",
     "shell.execute_reply": "2025-08-10T07:59:29.001753Z",
     "shell.execute_reply.started": "2025-08-10T07:59:28.672597Z"
    },
    "run_control": {
     "marked": true
    }
   },
   "outputs": [
    {
     "data": {
      "text/plain": [
       "('2025-08-08',\n",
       " code\n",
       " 002059    云南旅游\n",
       " Name: name, dtype: object)"
      ]
     },
     "execution_count": 5,
     "metadata": {},
     "output_type": "execute_result"
    }
   ],
   "source": [
    "sina_dm = sina_data.Sina().market('all')\n",
    "lastday = cct.last_tddate()\n",
    "lastday,sina_dm.name[:1]\n",
    "sina_dm = clean_sina_dm(sina_dm)"
   ]
  },
  {
   "cell_type": "code",
   "execution_count": 6,
   "id": "0c973adf",
   "metadata": {
    "ExecuteTime": {
     "end_time": "2025-06-23T07:24:29.978486Z",
     "start_time": "2025-06-23T07:24:29.955183Z"
    },
    "execution": {
     "iopub.execute_input": "2025-08-10T07:59:29.003713Z",
     "iopub.status.busy": "2025-08-10T07:59:29.002715Z",
     "iopub.status.idle": "2025-08-10T07:59:29.018674Z",
     "shell.execute_reply": "2025-08-10T07:59:29.017676Z",
     "shell.execute_reply.started": "2025-08-10T07:59:29.003713Z"
    }
   },
   "outputs": [
    {
     "data": {
      "text/plain": [
       "'2025-08/10/25 15:59:29'"
      ]
     },
     "execution_count": 6,
     "metadata": {},
     "output_type": "execute_result"
    },
    {
     "data": {
      "text/plain": [
       "code\n",
       "603018   2025-08-10 15:00:03\n",
       "601956   2025-08-10 15:00:03\n",
       "Name: ticktime, dtype: datetime64[ns]"
      ]
     },
     "execution_count": 6,
     "metadata": {},
     "output_type": "execute_result"
    },
    {
     "data": {
      "text/plain": [
       "59.433494973182675"
      ]
     },
     "execution_count": 6,
     "metadata": {},
     "output_type": "execute_result"
    }
   ],
   "source": [
    "cct.get_time_to_date(time.time(), format='%Y-%D %H:%M:%S')\n",
    "\n",
    "# abc=dm.loc[:,'ticktime'][-1]\n",
    "sina_dm.ticktime[-2:]\n",
    "# dm.ticktime[:1]\n",
    "# sina_dm.loc[:, 'ticktime'][-1]\n",
    "# time.strptime(abc,format='%Y-%m-%d %H:%M:%S')\n",
    "# (time.mktime(abc.timetuple()))\n",
    "(time.time() - time.mktime(sina_dm.loc[:, 'ticktime'][-1].timetuple())) / 60"
   ]
  },
  {
   "cell_type": "markdown",
   "id": "8e36c9a3",
   "metadata": {},
   "source": [
    "#### 实时成交"
   ]
  },
  {
   "cell_type": "code",
   "execution_count": 7,
   "id": "a38f56d8",
   "metadata": {
    "ExecuteTime": {
     "end_time": "2025-06-23T07:24:40.440664Z",
     "start_time": "2025-06-23T07:24:29.982630Z"
    },
    "execution": {
     "iopub.execute_input": "2025-08-10T07:59:29.019670Z",
     "iopub.status.busy": "2025-08-10T07:59:29.019670Z",
     "iopub.status.idle": "2025-08-10T07:59:29.033634Z",
     "shell.execute_reply": "2025-08-10T07:59:29.032659Z",
     "shell.execute_reply.started": "2025-08-10T07:59:29.019670Z"
    },
    "tags": []
   },
   "outputs": [
    {
     "name": "stdout",
     "output_type": "stream",
     "text": [
      "sina_MultiD_path:G:\\sina_MultiIndex_data.h5\n",
      "[]\n",
      "G:\\sina_MultiIndex_data.h5\n"
     ]
    }
   ],
   "source": [
    "# tdx_path = \"G:\\\\tdx_last_df.h5\"\n",
    "# from JohnsonUtil import commonTips as cct\n",
    "sina_MultiD_path = f\"{cct.get_ramdisk_dir()}\\\\sina_MultiIndex_data.h5\".replace('\\\\',os.sep)\n",
    "print(f'sina_MultiD_path:{sina_MultiD_path}')\n",
    "h5 = readHdf5(sina_MultiD_path)\n",
    "print(sina_MultiD_path)\n",
    "if h5 is not None:\n",
    "    h5.shape\n",
    "    h5code='603019'\n",
    "    h5.loc[h5code][-3:]\n",
    "    code_muti = '603019'\n",
    "    # h5.loc[code_muti][:2]\n",
    "\n",
    "    freq = 'D'\n",
    "    # freq = '5M'\n",
    "    startime = '09:25:00'\n",
    "    endtime = '15:01:00'\n",
    "\n",
    "    time_ratio = cct.get_work_time_ratio()\n",
    "    time_ratio\n",
    "    run_col = ['close', 'volume']\n",
    "    # run_col = ['close']\n",
    "    mdf = cct.get_limit_multiIndex_freq(\n",
    "        h5, freq=freq.upper(),\n",
    "        col=run_col, start=startime, end=endtime, code=None)\n",
    "    allvol = mdf.volume.sum()\n",
    "    allvol = round(allvol / 10 / 1000 / 1000,2)\n",
    "    print(\"总量:%s 亿\"%(allvol))\n",
    "    mdf['vol']=mdf['volume'].apply(lambda x: round(x /1000/1000,2)) \n",
    "    mdf['amount']=(mdf.volume * mdf.close).map(lambda x: round(x/100/1000/1000, 2))\n",
    "    #全局占比\n",
    "    mdf['volume'] = mdf.amount.apply(\n",
    "        lambda x: round(x / allvol * 100 / time_ratio, 2))\n",
    "    mdf=mdf.reset_index().set_index('code')\n",
    "    mdf.loc[h5code]\n",
    "    str(h5.index.get_level_values(1)[-1])[:10]\n",
    "else:\n",
    "    mdf = None"
   ]
  },
  {
   "cell_type": "markdown",
   "id": "611dc8ac",
   "metadata": {},
   "source": [
    "#### 读取实时成交个股"
   ]
  },
  {
   "cell_type": "code",
   "execution_count": 8,
   "id": "203b1873",
   "metadata": {
    "ExecuteTime": {
     "end_time": "2025-06-23T07:24:40.484477Z",
     "start_time": "2025-06-23T07:24:40.453563Z"
    },
    "execution": {
     "iopub.execute_input": "2025-08-10T07:59:29.034659Z",
     "iopub.status.busy": "2025-08-10T07:59:29.033634Z",
     "iopub.status.idle": "2025-08-10T07:59:29.049589Z",
     "shell.execute_reply": "2025-08-10T07:59:29.048593Z",
     "shell.execute_reply.started": "2025-08-10T07:59:29.034659Z"
    },
    "lang": "en"
   },
   "outputs": [],
   "source": [
    "if mdf is not None:\n",
    "    nowdf = mdf.sort_values(by=['volume'], ascending=[0])\n",
    "    # nowdf.shape, df.shape, code_idx.shape\n",
    "    # top20_nd = nowdf.reset_index().loc[:, ['code', 'volume']][:20]\n",
    "    top20_nd = nowdf.reset_index().loc[:, ['code', 'volume']][:20]\n",
    "    top20_nd = get_sina_data_cname(top20_nd)\n",
    "    nowdf.shape, top20_nd"
   ]
  },
  {
   "cell_type": "markdown",
   "id": "7c81f9f6",
   "metadata": {},
   "source": [
    "##### 合并实时成交量及SinaDM"
   ]
  },
  {
   "cell_type": "code",
   "execution_count": 9,
   "id": "130319a8",
   "metadata": {
    "ExecuteTime": {
     "end_time": "2025-06-23T07:24:40.594616Z",
     "start_time": "2025-06-23T07:24:40.489254Z"
    },
    "execution": {
     "iopub.execute_input": "2025-08-10T07:59:29.050588Z",
     "iopub.status.busy": "2025-08-10T07:59:29.050588Z",
     "iopub.status.idle": "2025-08-10T07:59:29.064549Z",
     "shell.execute_reply": "2025-08-10T07:59:29.064549Z",
     "shell.execute_reply.started": "2025-08-10T07:59:29.050588Z"
    },
    "tags": []
   },
   "outputs": [],
   "source": [
    "# mdf[:1]\n",
    "if mdf is not None:\n",
    "    sinadm = cct.combine_dataFrame(sina_dm, mdf[['vol','amount']])\n",
    "else:\n",
    "    sinadm = sina_dm\n",
    "sinadm['percent']=((sinadm['close']-sinadm['llastp'])/(sinadm['llastp'])*100).round(1)\n"
   ]
  },
  {
   "cell_type": "markdown",
   "id": "5e811e71",
   "metadata": {},
   "source": [
    "## resample 多周期"
   ]
  },
  {
   "cell_type": "markdown",
   "id": "76cb8e8c",
   "metadata": {},
   "source": [
    "### filterKey!!!"
   ]
  },
  {
   "cell_type": "code",
   "execution_count": 10,
   "id": "da7aeb35",
   "metadata": {
    "ExecuteTime": {
     "end_time": "2025-06-23T07:24:40.605288Z",
     "start_time": "2025-06-23T07:24:40.597918Z"
    },
    "execution": {
     "iopub.execute_input": "2025-08-10T07:59:29.068540Z",
     "iopub.status.busy": "2025-08-10T07:59:29.067543Z",
     "iopub.status.idle": "2025-08-10T07:59:29.080507Z",
     "shell.execute_reply": "2025-08-10T07:59:29.079508Z",
     "shell.execute_reply.started": "2025-08-10T07:59:29.068540Z"
    }
   },
   "outputs": [],
   "source": [
    "filter_query={'2周期上冲上轨And涨幅新高': 'lasth1d > upper1 and lasth2d >upper2 and high >boll and percent > maxp',\n",
    "             '3周期新高上轨':'lastp1d > lastp2d > lastp3d and lasth1d > upper1 and lasth2d > upper2 and lasth3d > upper3',\n",
    "             '3周期新高大于Ma5': 'lastp1d > lastp2d and lasth2d > lasth3d and lastl2d > lastl3d and lastp1d > ma51d',\n",
    "             '新高上upper':'lasth1d  >lasth2d  and lastp1d > ma51d and lastp1d > lastp2d*0.99 and lasth2d > lasth3d  and lasth1d >upper',\n",
    "            }   \n",
    "filter_keys=list(filter_query.keys())"
   ]
  },
  {
   "cell_type": "code",
   "execution_count": 11,
   "id": "1e9b8e62",
   "metadata": {
    "ExecuteTime": {
     "end_time": "2025-06-23T07:24:40.616568Z",
     "start_time": "2025-06-23T07:24:40.611043Z"
    },
    "execution": {
     "iopub.execute_input": "2025-08-10T07:59:29.081504Z",
     "iopub.status.busy": "2025-08-10T07:59:29.081504Z",
     "iopub.status.idle": "2025-08-10T07:59:29.096464Z",
     "shell.execute_reply": "2025-08-10T07:59:29.095468Z",
     "shell.execute_reply.started": "2025-08-10T07:59:29.081504Z"
    }
   },
   "outputs": [],
   "source": [
    "def get_filter(idx=0):\n",
    "    filter_key=filter_query[filter_keys[idx]]\n",
    "    print(f'{filter_keys[idx]}: {filter_key}')\n",
    "    return filter_key"
   ]
  },
  {
   "cell_type": "code",
   "execution_count": 12,
   "id": "0505a3c6",
   "metadata": {
    "ExecuteTime": {
     "end_time": "2025-06-23T07:24:40.635428Z",
     "start_time": "2025-06-23T07:24:40.622235Z"
    },
    "execution": {
     "iopub.execute_input": "2025-08-10T07:59:29.098460Z",
     "iopub.status.busy": "2025-08-10T07:59:29.098460Z",
     "iopub.status.idle": "2025-08-10T07:59:29.112423Z",
     "shell.execute_reply": "2025-08-10T07:59:29.111425Z",
     "shell.execute_reply.started": "2025-08-10T07:59:29.098460Z"
    },
    "tags": []
   },
   "outputs": [],
   "source": [
    "filterIDX=3\n",
    "# h5_3d=None,h5_d=None,h5_w=None,h5_m=None"
   ]
  },
  {
   "cell_type": "markdown",
   "id": "d02d9218",
   "metadata": {},
   "source": [
    "### resample 3d"
   ]
  },
  {
   "cell_type": "code",
   "execution_count": 13,
   "id": "cc7efd64",
   "metadata": {
    "ExecuteTime": {
     "end_time": "2025-06-23T08:03:45.195181Z",
     "start_time": "2025-06-23T07:24:58.557148Z"
    },
    "execution": {
     "iopub.execute_input": "2025-08-10T07:59:29.113421Z",
     "iopub.status.busy": "2025-08-10T07:59:29.113421Z",
     "iopub.status.idle": "2025-08-10T07:59:35.748882Z",
     "shell.execute_reply": "2025-08-10T07:59:35.747925Z",
     "shell.execute_reply.started": "2025-08-10T07:59:29.113421Z"
    },
    "tags": []
   },
   "outputs": [
    {
     "name": "stdout",
     "output_type": "stream",
     "text": [
      "initdx :0 b1>:5194 it:0.3 lastpTDX_DF_3d not in locals\n",
      "fname: tdx_last_df keys:['/low_3d_120_y_all', '/low_3d_60_y_all', '/low_d_60_y_all', '/low_m_300_y_all', '/low_w_200_y_all']\n"
     ]
    },
    {
     "name": "stderr",
     "output_type": "stream",
     "text": [
      "[2025-08-10 15:59:31,263] ERROR:tdx_data_Day.py(get_append_lastp_to_df:4572): tdx Out:4 code:['600837', '600225']\n"
     ]
    },
    {
     "name": "stdout",
     "output_type": "stream",
     "text": [
      "tdxdataT:2.75\n",
      "DLTDXE:2.75 "
     ]
    }
   ],
   "source": [
    "# h5_3d = get_tdx_all_from_h5(resample='3d') if h5_3d is None else h5_3d\n",
    "h5_3d = get_tdx_all_now(resample='3d')\n",
    "# tdx_3d = cct.combine_dataFrame(h5_3d,sinadm)"
   ]
  },
  {
   "cell_type": "code",
   "execution_count": 14,
   "id": "51e3d74c",
   "metadata": {
    "ExecuteTime": {
     "end_time": "2025-06-23T05:24:15.337199Z",
     "start_time": "2025-06-23T05:24:15.231244Z"
    },
    "execution": {
     "iopub.execute_input": "2025-08-10T07:59:35.749877Z",
     "iopub.status.busy": "2025-08-10T07:59:35.749877Z",
     "iopub.status.idle": "2025-08-10T07:59:35.795755Z",
     "shell.execute_reply": "2025-08-10T07:59:35.795755Z",
     "shell.execute_reply.started": "2025-08-10T07:59:35.749877Z"
    },
    "tags": []
   },
   "outputs": [
    {
     "name": "stdout",
     "output_type": "stream",
     "text": [
      "Count:473 220\n"
     ]
    },
    {
     "data": {
      "text/html": [
       "<div>\n",
       "<style scoped>\n",
       "    .dataframe tbody tr th:only-of-type {\n",
       "        vertical-align: middle;\n",
       "    }\n",
       "\n",
       "    .dataframe tbody tr th {\n",
       "        vertical-align: top;\n",
       "    }\n",
       "\n",
       "    .dataframe thead th {\n",
       "        text-align: right;\n",
       "    }\n",
       "</style>\n",
       "<table border=\"1\" class=\"dataframe\">\n",
       "  <thead>\n",
       "    <tr style=\"text-align: right;\">\n",
       "      <th></th>\n",
       "      <th>name</th>\n",
       "      <th>percent</th>\n",
       "      <th>couts</th>\n",
       "      <th>date</th>\n",
       "      <th>close</th>\n",
       "      <th>hmax</th>\n",
       "      <th>lmin</th>\n",
       "      <th>perc1d</th>\n",
       "      <th>llow</th>\n",
       "      <th>perc3d</th>\n",
       "      <th>perc5d</th>\n",
       "    </tr>\n",
       "    <tr>\n",
       "      <th>code</th>\n",
       "      <th></th>\n",
       "      <th></th>\n",
       "      <th></th>\n",
       "      <th></th>\n",
       "      <th></th>\n",
       "      <th></th>\n",
       "      <th></th>\n",
       "      <th></th>\n",
       "      <th></th>\n",
       "      <th></th>\n",
       "      <th></th>\n",
       "    </tr>\n",
       "  </thead>\n",
       "  <tbody>\n",
       "    <tr>\n",
       "      <th>300780</th>\n",
       "      <td>德恩精工</td>\n",
       "      <td>20.03</td>\n",
       "      <td>50</td>\n",
       "      <td>2025-04-09</td>\n",
       "      <td>21.27</td>\n",
       "      <td>16.70</td>\n",
       "      <td>14.25</td>\n",
       "      <td>48.91</td>\n",
       "      <td>11.28</td>\n",
       "      <td>7.30</td>\n",
       "      <td>1.3</td>\n",
       "    </tr>\n",
       "    <tr>\n",
       "      <th>688551</th>\n",
       "      <td>科威尔</td>\n",
       "      <td>19.97</td>\n",
       "      <td>16</td>\n",
       "      <td>2025-04-09</td>\n",
       "      <td>43.19</td>\n",
       "      <td>31.62</td>\n",
       "      <td>26.91</td>\n",
       "      <td>56.91</td>\n",
       "      <td>22.69</td>\n",
       "      <td>1.10</td>\n",
       "      <td>1.3</td>\n",
       "    </tr>\n",
       "    <tr>\n",
       "      <th>300218</th>\n",
       "      <td>安利股份</td>\n",
       "      <td>13.27</td>\n",
       "      <td>28</td>\n",
       "      <td>2025-04-09</td>\n",
       "      <td>23.73</td>\n",
       "      <td>16.20</td>\n",
       "      <td>13.97</td>\n",
       "      <td>45.59</td>\n",
       "      <td>11.72</td>\n",
       "      <td>14.80</td>\n",
       "      <td>0.1</td>\n",
       "    </tr>\n",
       "    <tr>\n",
       "      <th>300289</th>\n",
       "      <td>利德曼</td>\n",
       "      <td>11.87</td>\n",
       "      <td>381</td>\n",
       "      <td>2025-04-09</td>\n",
       "      <td>10.93</td>\n",
       "      <td>8.45</td>\n",
       "      <td>4.76</td>\n",
       "      <td>31.30</td>\n",
       "      <td>3.85</td>\n",
       "      <td>39.31</td>\n",
       "      <td>1.3</td>\n",
       "    </tr>\n",
       "    <tr>\n",
       "      <th>688349</th>\n",
       "      <td>三一重能</td>\n",
       "      <td>11.09</td>\n",
       "      <td>6</td>\n",
       "      <td>2025-04-30</td>\n",
       "      <td>27.84</td>\n",
       "      <td>25.53</td>\n",
       "      <td>22.31</td>\n",
       "      <td>38.41</td>\n",
       "      <td>21.41</td>\n",
       "      <td>0.10</td>\n",
       "      <td>0.1</td>\n",
       "    </tr>\n",
       "    <tr>\n",
       "      <th>300455</th>\n",
       "      <td>航天智装</td>\n",
       "      <td>10.71</td>\n",
       "      <td>245</td>\n",
       "      <td>2025-04-25</td>\n",
       "      <td>19.75</td>\n",
       "      <td>14.53</td>\n",
       "      <td>12.26</td>\n",
       "      <td>50.91</td>\n",
       "      <td>11.73</td>\n",
       "      <td>1.10</td>\n",
       "      <td>1.3</td>\n",
       "    </tr>\n",
       "    <tr>\n",
       "      <th>601929</th>\n",
       "      <td>吉视传媒</td>\n",
       "      <td>10.20</td>\n",
       "      <td>236</td>\n",
       "      <td>2025-04-09</td>\n",
       "      <td>2.70</td>\n",
       "      <td>2.00</td>\n",
       "      <td>1.72</td>\n",
       "      <td>37.41</td>\n",
       "      <td>1.50</td>\n",
       "      <td>0.10</td>\n",
       "      <td>17.0</td>\n",
       "    </tr>\n",
       "    <tr>\n",
       "      <th>605169</th>\n",
       "      <td>洪通燃气</td>\n",
       "      <td>10.09</td>\n",
       "      <td>11</td>\n",
       "      <td>2025-04-09</td>\n",
       "      <td>16.91</td>\n",
       "      <td>12.26</td>\n",
       "      <td>9.89</td>\n",
       "      <td>55.19</td>\n",
       "      <td>8.13</td>\n",
       "      <td>1.30</td>\n",
       "      <td>0.0</td>\n",
       "    </tr>\n",
       "    <tr>\n",
       "      <th>603800</th>\n",
       "      <td>洪田股份</td>\n",
       "      <td>10.05</td>\n",
       "      <td>28</td>\n",
       "      <td>2025-05-23</td>\n",
       "      <td>42.47</td>\n",
       "      <td>31.70</td>\n",
       "      <td>20.97</td>\n",
       "      <td>48.31</td>\n",
       "      <td>20.97</td>\n",
       "      <td>1.20</td>\n",
       "      <td>21.2</td>\n",
       "    </tr>\n",
       "    <tr>\n",
       "      <th>000534</th>\n",
       "      <td>万泽股份</td>\n",
       "      <td>10.01</td>\n",
       "      <td>89</td>\n",
       "      <td>2025-06-23</td>\n",
       "      <td>17.25</td>\n",
       "      <td>15.74</td>\n",
       "      <td>12.91</td>\n",
       "      <td>0.00</td>\n",
       "      <td>12.91</td>\n",
       "      <td>32.31</td>\n",
       "      <td>0.1</td>\n",
       "    </tr>\n",
       "  </tbody>\n",
       "</table>\n",
       "</div>"
      ],
      "text/plain": [
       "        name  percent  couts        date  close   hmax   lmin  perc1d   llow  \\\n",
       "code                                                                           \n",
       "300780  德恩精工    20.03     50  2025-04-09  21.27  16.70  14.25   48.91  11.28   \n",
       "688551   科威尔    19.97     16  2025-04-09  43.19  31.62  26.91   56.91  22.69   \n",
       "300218  安利股份    13.27     28  2025-04-09  23.73  16.20  13.97   45.59  11.72   \n",
       "300289   利德曼    11.87    381  2025-04-09  10.93   8.45   4.76   31.30   3.85   \n",
       "688349  三一重能    11.09      6  2025-04-30  27.84  25.53  22.31   38.41  21.41   \n",
       "300455  航天智装    10.71    245  2025-04-25  19.75  14.53  12.26   50.91  11.73   \n",
       "601929  吉视传媒    10.20    236  2025-04-09   2.70   2.00   1.72   37.41   1.50   \n",
       "605169  洪通燃气    10.09     11  2025-04-09  16.91  12.26   9.89   55.19   8.13   \n",
       "603800  洪田股份    10.05     28  2025-05-23  42.47  31.70  20.97   48.31  20.97   \n",
       "000534  万泽股份    10.01     89  2025-06-23  17.25  15.74  12.91    0.00  12.91   \n",
       "\n",
       "        perc3d  perc5d  \n",
       "code                    \n",
       "300780    7.30     1.3  \n",
       "688551    1.10     1.3  \n",
       "300218   14.80     0.1  \n",
       "300289   39.31     1.3  \n",
       "688349    0.10     0.1  \n",
       "300455    1.10     1.3  \n",
       "601929    0.10    17.0  \n",
       "605169    1.30     0.0  \n",
       "603800    1.20    21.2  \n",
       "000534   32.31     0.1  "
      ]
     },
     "execution_count": 14,
     "metadata": {},
     "output_type": "execute_result"
    }
   ],
   "source": [
    "# tdx_now.query('close >  lastp1d  and lastl1d < ma51d and close > ma51d and lastp1d < upper and lastp1d > lastp2d and lasth1d >high4 and boll > 0 and volume < 1')\n",
    "# tdx_select = tdx_3d.query('close > lastp1d and percent < 3')\n",
    "# tdx_select = tdx_3d.query('lastp1d > lastp2d > lastp3d and lasth1d > upper1 and lasth2d > upper2 and lasth3d > upper3')\n",
    "# tdx_select = tdx_3d.query('lastp1d > lastp2d  and lasth2d > lasth3d and (lasth2d > upper2 or lasth3d > upper3) and lasth2d < hmax')\n",
    "# tdx_select = tdx_3d.query('lastp1d > lastp2d  and lasth2d > lasth3d and lasth3d > lasth4d and lastl1d > lastl2d and lastl2d > lastl3d')\n",
    "# t3d_code = h5_3d.query(f'{get_filter(filterIDX)}')\n",
    "t3d_code = h5_3d.query('lasth1d > ma51d and lasth2d > ma52d and lasth3d > ma53d and ma51d > ma201d and ma52d >ma202d and ma53d > ma203d and macd > 0 and macddif > macddea')\n",
    "show_tdx_data(t3d_code,limit=10)"
   ]
  },
  {
   "cell_type": "code",
   "execution_count": 15,
   "id": "35329e16",
   "metadata": {
    "ExecuteTime": {
     "end_time": "2025-06-23T05:24:15.349264Z",
     "start_time": "2025-06-23T05:24:15.342488Z"
    },
    "execution": {
     "iopub.execute_input": "2025-08-10T07:59:35.796752Z",
     "iopub.status.busy": "2025-08-10T07:59:35.796752Z",
     "iopub.status.idle": "2025-08-10T07:59:35.812709Z",
     "shell.execute_reply": "2025-08-10T07:59:35.811712Z",
     "shell.execute_reply.started": "2025-08-10T07:59:35.796752Z"
    }
   },
   "outputs": [],
   "source": [
    "if '301038' in t3d_code.index:\n",
    "    h5_3d.loc['301038',['lastdu4','boll','ral','fib','percmax','macd','macddif','macddea','macdlast2','macdlast3','lasth1d','lastl1d','lastl2d','lastl3d','lastp1d','ma51d','ma52d','ma53d','ma54d']]"
   ]
  },
  {
   "cell_type": "code",
   "execution_count": 16,
   "id": "3e9533b9",
   "metadata": {
    "ExecuteTime": {
     "end_time": "2025-06-23T05:24:15.356643Z",
     "start_time": "2025-06-23T05:24:15.352440Z"
    },
    "execution": {
     "iopub.execute_input": "2025-08-10T07:59:35.813707Z",
     "iopub.status.busy": "2025-08-10T07:59:35.812709Z",
     "iopub.status.idle": "2025-08-10T07:59:35.828666Z",
     "shell.execute_reply": "2025-08-10T07:59:35.827670Z",
     "shell.execute_reply.started": "2025-08-10T07:59:35.813707Z"
    },
    "tags": []
   },
   "outputs": [],
   "source": [
    "# t3d_code = tdx_3d.query('lasth1d > lasth2d > lasth3d and close >= high4')\n",
    "# t3d_code = h5_3d.query(f'{get_filter(1)}')\n",
    "# show_tdx_data(t3d_code)"
   ]
  },
  {
   "cell_type": "markdown",
   "id": "81ea8f45",
   "metadata": {},
   "source": [
    "### resample W"
   ]
  },
  {
   "cell_type": "code",
   "execution_count": 17,
   "id": "07310ac1",
   "metadata": {
    "ExecuteTime": {
     "end_time": "2025-06-23T05:30:21.044955Z",
     "start_time": "2025-06-23T05:24:15.359967Z"
    },
    "execution": {
     "iopub.execute_input": "2025-08-10T07:59:35.829664Z",
     "iopub.status.busy": "2025-08-10T07:59:35.829664Z",
     "iopub.status.idle": "2025-08-10T07:59:40.896365Z",
     "shell.execute_reply": "2025-08-10T07:59:40.896365Z",
     "shell.execute_reply.started": "2025-08-10T07:59:35.829664Z"
    },
    "tags": []
   },
   "outputs": [
    {
     "name": "stdout",
     "output_type": "stream",
     "text": [
      "initdx :0 b1>:5194 it:0.3 lastpTDX_DF_w not in locals\n",
      "fname: tdx_last_df keys:['/low_3d_120_y_all', '/low_3d_60_y_all', '/low_d_60_y_all', '/low_m_300_y_all', '/low_w_200_y_all']\n"
     ]
    },
    {
     "name": "stderr",
     "output_type": "stream",
     "text": [
      "[2025-08-10 15:59:37,761] ERROR:tdx_data_Day.py(get_append_lastp_to_df:4572): tdx Out:2 code:['600297', '600321']\n"
     ]
    },
    {
     "name": "stdout",
     "output_type": "stream",
     "text": [
      "tdxdataT:1.39\n",
      "DLTDXE:1.39 "
     ]
    }
   ],
   "source": [
    "# h5_w = get_tdx_all_from_h5(resample='w') if h5_w is None else h5_w\n",
    "\n",
    "h5_w = get_tdx_all_now(resample='w') \n",
    "# tdx_w = cct.combine_dataFrame(h5_w,sinadm)"
   ]
  },
  {
   "cell_type": "code",
   "execution_count": 18,
   "id": "8c7f50c7",
   "metadata": {
    "ExecuteTime": {
     "end_time": "2025-06-23T05:30:21.202337Z",
     "start_time": "2025-06-23T05:30:21.057753Z"
    },
    "execution": {
     "iopub.execute_input": "2025-08-10T07:59:40.898362Z",
     "iopub.status.busy": "2025-08-10T07:59:40.898362Z",
     "iopub.status.idle": "2025-08-10T07:59:40.945272Z",
     "shell.execute_reply": "2025-08-10T07:59:40.944238Z",
     "shell.execute_reply.started": "2025-08-10T07:59:40.898362Z"
    },
    "scrolled": true,
    "tags": []
   },
   "outputs": [
    {
     "name": "stdout",
     "output_type": "stream",
     "text": [
      "新高上upper: lasth1d  >lasth2d  and lastp1d > ma51d and lastp1d > lastp2d*0.99 and lasth2d > lasth3d  and lasth1d >upper\n",
      "Count:879 220\n"
     ]
    },
    {
     "data": {
      "text/html": [
       "<div>\n",
       "<style scoped>\n",
       "    .dataframe tbody tr th:only-of-type {\n",
       "        vertical-align: middle;\n",
       "    }\n",
       "\n",
       "    .dataframe tbody tr th {\n",
       "        vertical-align: top;\n",
       "    }\n",
       "\n",
       "    .dataframe thead th {\n",
       "        text-align: right;\n",
       "    }\n",
       "</style>\n",
       "<table border=\"1\" class=\"dataframe\">\n",
       "  <thead>\n",
       "    <tr style=\"text-align: right;\">\n",
       "      <th></th>\n",
       "      <th>name</th>\n",
       "      <th>percent</th>\n",
       "      <th>couts</th>\n",
       "      <th>date</th>\n",
       "      <th>close</th>\n",
       "      <th>hmax</th>\n",
       "      <th>lmin</th>\n",
       "      <th>perc1d</th>\n",
       "      <th>llow</th>\n",
       "      <th>perc3d</th>\n",
       "      <th>perc5d</th>\n",
       "    </tr>\n",
       "    <tr>\n",
       "      <th>code</th>\n",
       "      <th></th>\n",
       "      <th></th>\n",
       "      <th></th>\n",
       "      <th></th>\n",
       "      <th></th>\n",
       "      <th></th>\n",
       "      <th></th>\n",
       "      <th></th>\n",
       "      <th></th>\n",
       "      <th></th>\n",
       "      <th></th>\n",
       "    </tr>\n",
       "  </thead>\n",
       "  <tbody>\n",
       "    <tr>\n",
       "      <th>301112</th>\n",
       "      <td>信邦智能</td>\n",
       "      <td>20.05</td>\n",
       "      <td>2</td>\n",
       "      <td>2025-01-03</td>\n",
       "      <td>51.25</td>\n",
       "      <td>41.12</td>\n",
       "      <td>18.50</td>\n",
       "      <td>56.31</td>\n",
       "      <td>21.23</td>\n",
       "      <td>1.30</td>\n",
       "      <td>0.0</td>\n",
       "    </tr>\n",
       "    <tr>\n",
       "      <th>688577</th>\n",
       "      <td>浙海德曼</td>\n",
       "      <td>20.03</td>\n",
       "      <td>2</td>\n",
       "      <td>2024-11-22</td>\n",
       "      <td>69.81</td>\n",
       "      <td>47.25</td>\n",
       "      <td>26.50</td>\n",
       "      <td>71.62</td>\n",
       "      <td>23.78</td>\n",
       "      <td>34.91</td>\n",
       "      <td>-1.0</td>\n",
       "    </tr>\n",
       "    <tr>\n",
       "      <th>688108</th>\n",
       "      <td>赛诺医疗</td>\n",
       "      <td>20.02</td>\n",
       "      <td>13</td>\n",
       "      <td>2025-04-18</td>\n",
       "      <td>20.44</td>\n",
       "      <td>12.12</td>\n",
       "      <td>8.20</td>\n",
       "      <td>72.00</td>\n",
       "      <td>8.89</td>\n",
       "      <td>13.90</td>\n",
       "      <td>-0.9</td>\n",
       "    </tr>\n",
       "    <tr>\n",
       "      <th>688551</th>\n",
       "      <td>科威尔</td>\n",
       "      <td>19.97</td>\n",
       "      <td>16</td>\n",
       "      <td>2025-04-18</td>\n",
       "      <td>43.19</td>\n",
       "      <td>31.34</td>\n",
       "      <td>22.69</td>\n",
       "      <td>66.00</td>\n",
       "      <td>25.14</td>\n",
       "      <td>1.30</td>\n",
       "      <td>0.1</td>\n",
       "    </tr>\n",
       "    <tr>\n",
       "      <th>301232</th>\n",
       "      <td>飞沃科技</td>\n",
       "      <td>19.95</td>\n",
       "      <td>18</td>\n",
       "      <td>2025-01-03</td>\n",
       "      <td>42.09</td>\n",
       "      <td>32.06</td>\n",
       "      <td>20.02</td>\n",
       "      <td>56.81</td>\n",
       "      <td>22.77</td>\n",
       "      <td>0.10</td>\n",
       "      <td>0.0</td>\n",
       "    </tr>\n",
       "    <tr>\n",
       "      <th>688379</th>\n",
       "      <td>华光新材</td>\n",
       "      <td>16.84</td>\n",
       "      <td>10</td>\n",
       "      <td>2025-01-03</td>\n",
       "      <td>51.19</td>\n",
       "      <td>40.91</td>\n",
       "      <td>17.38</td>\n",
       "      <td>61.91</td>\n",
       "      <td>19.81</td>\n",
       "      <td>-0.90</td>\n",
       "      <td>0.0</td>\n",
       "    </tr>\n",
       "    <tr>\n",
       "      <th>301399</th>\n",
       "      <td>英特科技</td>\n",
       "      <td>13.21</td>\n",
       "      <td>10</td>\n",
       "      <td>2024-11-15</td>\n",
       "      <td>23.91</td>\n",
       "      <td>20.48</td>\n",
       "      <td>11.97</td>\n",
       "      <td>43.41</td>\n",
       "      <td>14.21</td>\n",
       "      <td>1.20</td>\n",
       "      <td>0.0</td>\n",
       "    </tr>\n",
       "    <tr>\n",
       "      <th>300732</th>\n",
       "      <td>设研院</td>\n",
       "      <td>12.78</td>\n",
       "      <td>114</td>\n",
       "      <td>2025-04-11</td>\n",
       "      <td>12.18</td>\n",
       "      <td>7.48</td>\n",
       "      <td>5.24</td>\n",
       "      <td>1.20</td>\n",
       "      <td>5.24</td>\n",
       "      <td>19.70</td>\n",
       "      <td>11.3</td>\n",
       "    </tr>\n",
       "    <tr>\n",
       "      <th>300289</th>\n",
       "      <td>利德曼</td>\n",
       "      <td>11.87</td>\n",
       "      <td>381</td>\n",
       "      <td>2025-04-11</td>\n",
       "      <td>10.93</td>\n",
       "      <td>5.56</td>\n",
       "      <td>3.85</td>\n",
       "      <td>80.31</td>\n",
       "      <td>3.85</td>\n",
       "      <td>11.10</td>\n",
       "      <td>1.3</td>\n",
       "    </tr>\n",
       "    <tr>\n",
       "      <th>688349</th>\n",
       "      <td>三一重能</td>\n",
       "      <td>11.09</td>\n",
       "      <td>6</td>\n",
       "      <td>2025-04-30</td>\n",
       "      <td>27.84</td>\n",
       "      <td>28.69</td>\n",
       "      <td>21.41</td>\n",
       "      <td>36.31</td>\n",
       "      <td>21.41</td>\n",
       "      <td>20.30</td>\n",
       "      <td>0.0</td>\n",
       "    </tr>\n",
       "  </tbody>\n",
       "</table>\n",
       "</div>"
      ],
      "text/plain": [
       "        name  percent  couts        date  close   hmax   lmin  perc1d   llow  \\\n",
       "code                                                                           \n",
       "301112  信邦智能    20.05      2  2025-01-03  51.25  41.12  18.50   56.31  21.23   \n",
       "688577  浙海德曼    20.03      2  2024-11-22  69.81  47.25  26.50   71.62  23.78   \n",
       "688108  赛诺医疗    20.02     13  2025-04-18  20.44  12.12   8.20   72.00   8.89   \n",
       "688551   科威尔    19.97     16  2025-04-18  43.19  31.34  22.69   66.00  25.14   \n",
       "301232  飞沃科技    19.95     18  2025-01-03  42.09  32.06  20.02   56.81  22.77   \n",
       "688379  华光新材    16.84     10  2025-01-03  51.19  40.91  17.38   61.91  19.81   \n",
       "301399  英特科技    13.21     10  2024-11-15  23.91  20.48  11.97   43.41  14.21   \n",
       "300732   设研院    12.78    114  2025-04-11  12.18   7.48   5.24    1.20   5.24   \n",
       "300289   利德曼    11.87    381  2025-04-11  10.93   5.56   3.85   80.31   3.85   \n",
       "688349  三一重能    11.09      6  2025-04-30  27.84  28.69  21.41   36.31  21.41   \n",
       "\n",
       "        perc3d  perc5d  \n",
       "code                    \n",
       "301112    1.30     0.0  \n",
       "688577   34.91    -1.0  \n",
       "688108   13.90    -0.9  \n",
       "688551    1.30     0.1  \n",
       "301232    0.10     0.0  \n",
       "688379   -0.90     0.0  \n",
       "301399    1.20     0.0  \n",
       "300732   19.70    11.3  \n",
       "300289   11.10     1.3  \n",
       "688349   20.30     0.0  "
      ]
     },
     "execution_count": 18,
     "metadata": {},
     "output_type": "execute_result"
    }
   ],
   "source": [
    "# tw_code = tdx_w.query('lasth1d > lasth2d > lasth3d and close >= high4')\n",
    "# tw_code = tdx_w.query('lasth1d > lasth2d and lasth2d >lasth3d and lasth2d > upper1')\n",
    "# tw_code = tdx_w.query ('lastp1d > lastp2d and lasth2d > lasth3d and lastl2d > lastl3d and lastp1d > ma51d')\n",
    "# tw_code = tdx_w.query(f'{get_filter(0)}')\n",
    "# tw_code = tdx_w.query(f'{get_filter(filterIDX)}')\n",
    "tw_code = h5_w.query(f'{get_filter(filterIDX)}')\n",
    "# tw_code = h5_w.query('lastp2d > ma51d and lastp3d > ma51d and macd > 0 and macddif > macddea')\n",
    "show_tdx_data(tw_code,limit=10)"
   ]
  },
  {
   "cell_type": "code",
   "execution_count": 19,
   "id": "da84ee8a",
   "metadata": {
    "ExecuteTime": {
     "end_time": "2025-06-23T05:30:21.228043Z",
     "start_time": "2025-06-23T05:30:21.213218Z"
    },
    "execution": {
     "iopub.execute_input": "2025-08-10T07:59:40.946234Z",
     "iopub.status.busy": "2025-08-10T07:59:40.945272Z",
     "iopub.status.idle": "2025-08-10T07:59:40.959231Z",
     "shell.execute_reply": "2025-08-10T07:59:40.959231Z",
     "shell.execute_reply.started": "2025-08-10T07:59:40.946234Z"
    }
   },
   "outputs": [],
   "source": [
    "if '301038' in tw_code.index:\n",
    "    h5_w.loc['301038',['macd','macddif','macddea','macdlast2','macdlast3','lasth1d','lastl1d','lastl2d','lastl3d','lastp1d','ma51d','ma52d','ma53d','ma54d']]"
   ]
  },
  {
   "cell_type": "markdown",
   "id": "a1f7e30c",
   "metadata": {},
   "source": [
    "### resample M"
   ]
  },
  {
   "cell_type": "code",
   "execution_count": 20,
   "id": "58bbd8dc",
   "metadata": {
    "ExecuteTime": {
     "end_time": "2025-06-23T05:35:21.979041Z",
     "start_time": "2025-06-23T05:30:21.237881Z"
    },
    "execution": {
     "iopub.execute_input": "2025-08-10T07:59:40.961192Z",
     "iopub.status.busy": "2025-08-10T07:59:40.960196Z",
     "iopub.status.idle": "2025-08-10T07:59:46.514872Z",
     "shell.execute_reply": "2025-08-10T07:59:46.513912Z",
     "shell.execute_reply.started": "2025-08-10T07:59:40.961192Z"
    },
    "tags": []
   },
   "outputs": [
    {
     "name": "stdout",
     "output_type": "stream",
     "text": [
      "initdx :0 b1>:5194 it:0.3 lastpTDX_DF_m not in locals\n",
      "fname: tdx_last_df keys:['/low_3d_120_y_all', '/low_3d_60_y_all', '/low_d_60_y_all', '/low_m_300_y_all', '/low_w_200_y_all']\n"
     ]
    },
    {
     "name": "stderr",
     "output_type": "stream",
     "text": [
      "[2025-08-10 15:59:42,911] ERROR:tdx_data_Day.py(get_append_lastp_to_df:4572): tdx Out:2 code:['600321', '600297']\n"
     ]
    },
    {
     "name": "stdout",
     "output_type": "stream",
     "text": [
      "tdxdataT:1.61\n",
      "DLTDXE:1.61 "
     ]
    }
   ],
   "source": [
    "# h5_m = get_tdx_all_from_h5(resample='m') if h5_m is None else h5_m\n",
    "h5_m = get_tdx_all_now(resample='m')\n",
    "# tdx_m = cct.combine_dataFrame(h5_m,sinadm)"
   ]
  },
  {
   "cell_type": "code",
   "execution_count": 21,
   "id": "ef69f616",
   "metadata": {
    "ExecuteTime": {
     "end_time": "2025-06-23T05:35:22.117424Z",
     "start_time": "2025-06-23T05:35:21.990382Z"
    },
    "execution": {
     "iopub.execute_input": "2025-08-10T07:59:46.515869Z",
     "iopub.status.busy": "2025-08-10T07:59:46.515869Z",
     "iopub.status.idle": "2025-08-10T07:59:46.560894Z",
     "shell.execute_reply": "2025-08-10T07:59:46.559896Z",
     "shell.execute_reply.started": "2025-08-10T07:59:46.515869Z"
    },
    "tags": []
   },
   "outputs": [
    {
     "name": "stdout",
     "output_type": "stream",
     "text": [
      "Count:885 220\n"
     ]
    },
    {
     "data": {
      "text/html": [
       "<div>\n",
       "<style scoped>\n",
       "    .dataframe tbody tr th:only-of-type {\n",
       "        vertical-align: middle;\n",
       "    }\n",
       "\n",
       "    .dataframe tbody tr th {\n",
       "        vertical-align: top;\n",
       "    }\n",
       "\n",
       "    .dataframe thead th {\n",
       "        text-align: right;\n",
       "    }\n",
       "</style>\n",
       "<table border=\"1\" class=\"dataframe\">\n",
       "  <thead>\n",
       "    <tr style=\"text-align: right;\">\n",
       "      <th></th>\n",
       "      <th>name</th>\n",
       "      <th>percent</th>\n",
       "      <th>couts</th>\n",
       "      <th>date</th>\n",
       "      <th>close</th>\n",
       "      <th>hmax</th>\n",
       "      <th>lmin</th>\n",
       "      <th>perc1d</th>\n",
       "      <th>llow</th>\n",
       "      <th>perc3d</th>\n",
       "      <th>perc5d</th>\n",
       "    </tr>\n",
       "    <tr>\n",
       "      <th>code</th>\n",
       "      <th></th>\n",
       "      <th></th>\n",
       "      <th></th>\n",
       "      <th></th>\n",
       "      <th></th>\n",
       "      <th></th>\n",
       "      <th></th>\n",
       "      <th></th>\n",
       "      <th></th>\n",
       "      <th></th>\n",
       "      <th></th>\n",
       "    </tr>\n",
       "  </thead>\n",
       "  <tbody>\n",
       "    <tr>\n",
       "      <th>300780</th>\n",
       "      <td>德恩精工</td>\n",
       "      <td>20.03</td>\n",
       "      <td>50</td>\n",
       "      <td>2024-08-30</td>\n",
       "      <td>21.27</td>\n",
       "      <td>18.56</td>\n",
       "      <td>11.28</td>\n",
       "      <td>44.69</td>\n",
       "      <td>12.00</td>\n",
       "      <td>0.1</td>\n",
       "      <td>-1.1</td>\n",
       "    </tr>\n",
       "    <tr>\n",
       "      <th>688577</th>\n",
       "      <td>浙海德曼</td>\n",
       "      <td>20.03</td>\n",
       "      <td>2</td>\n",
       "      <td>2024-08-30</td>\n",
       "      <td>69.81</td>\n",
       "      <td>42.62</td>\n",
       "      <td>18.69</td>\n",
       "      <td>64.12</td>\n",
       "      <td>18.95</td>\n",
       "      <td>0.0</td>\n",
       "      <td>0.0</td>\n",
       "    </tr>\n",
       "    <tr>\n",
       "      <th>688108</th>\n",
       "      <td>赛诺医疗</td>\n",
       "      <td>20.02</td>\n",
       "      <td>13</td>\n",
       "      <td>2024-07-31</td>\n",
       "      <td>20.44</td>\n",
       "      <td>11.05</td>\n",
       "      <td>7.27</td>\n",
       "      <td>86.50</td>\n",
       "      <td>7.51</td>\n",
       "      <td>1.2</td>\n",
       "      <td>-1.1</td>\n",
       "    </tr>\n",
       "    <tr>\n",
       "      <th>301048</th>\n",
       "      <td>金鹰重工</td>\n",
       "      <td>20.00</td>\n",
       "      <td>77</td>\n",
       "      <td>2024-08-30</td>\n",
       "      <td>13.56</td>\n",
       "      <td>10.07</td>\n",
       "      <td>7.26</td>\n",
       "      <td>42.19</td>\n",
       "      <td>7.29</td>\n",
       "      <td>1.1</td>\n",
       "      <td>0.0</td>\n",
       "    </tr>\n",
       "    <tr>\n",
       "      <th>688265</th>\n",
       "      <td>南模生物</td>\n",
       "      <td>19.94</td>\n",
       "      <td>2</td>\n",
       "      <td>2024-08-30</td>\n",
       "      <td>51.91</td>\n",
       "      <td>27.55</td>\n",
       "      <td>19.42</td>\n",
       "      <td>73.69</td>\n",
       "      <td>19.59</td>\n",
       "      <td>24.7</td>\n",
       "      <td>-1.1</td>\n",
       "    </tr>\n",
       "    <tr>\n",
       "      <th>301038</th>\n",
       "      <td>深水规院</td>\n",
       "      <td>19.92</td>\n",
       "      <td>27</td>\n",
       "      <td>2024-08-30</td>\n",
       "      <td>34.97</td>\n",
       "      <td>16.12</td>\n",
       "      <td>9.53</td>\n",
       "      <td>1.10</td>\n",
       "      <td>9.53</td>\n",
       "      <td>1.3</td>\n",
       "      <td>-1.0</td>\n",
       "    </tr>\n",
       "    <tr>\n",
       "      <th>300218</th>\n",
       "      <td>安利股份</td>\n",
       "      <td>13.27</td>\n",
       "      <td>28</td>\n",
       "      <td>2025-04-30</td>\n",
       "      <td>23.73</td>\n",
       "      <td>17.38</td>\n",
       "      <td>11.72</td>\n",
       "      <td>66.00</td>\n",
       "      <td>11.72</td>\n",
       "      <td>1.2</td>\n",
       "      <td>-1.1</td>\n",
       "    </tr>\n",
       "    <tr>\n",
       "      <th>300732</th>\n",
       "      <td>设研院</td>\n",
       "      <td>12.78</td>\n",
       "      <td>114</td>\n",
       "      <td>2025-01-27</td>\n",
       "      <td>12.18</td>\n",
       "      <td>8.53</td>\n",
       "      <td>5.24</td>\n",
       "      <td>1.20</td>\n",
       "      <td>5.95</td>\n",
       "      <td>1.3</td>\n",
       "      <td>0.0</td>\n",
       "    </tr>\n",
       "    <tr>\n",
       "      <th>300289</th>\n",
       "      <td>利德曼</td>\n",
       "      <td>11.87</td>\n",
       "      <td>381</td>\n",
       "      <td>2024-06-28</td>\n",
       "      <td>10.93</td>\n",
       "      <td>5.52</td>\n",
       "      <td>3.56</td>\n",
       "      <td>100.62</td>\n",
       "      <td>3.70</td>\n",
       "      <td>1.3</td>\n",
       "      <td>0.0</td>\n",
       "    </tr>\n",
       "    <tr>\n",
       "      <th>300717</th>\n",
       "      <td>华信新材</td>\n",
       "      <td>11.07</td>\n",
       "      <td>23</td>\n",
       "      <td>2024-08-30</td>\n",
       "      <td>24.09</td>\n",
       "      <td>16.98</td>\n",
       "      <td>11.85</td>\n",
       "      <td>50.19</td>\n",
       "      <td>12.17</td>\n",
       "      <td>19.3</td>\n",
       "      <td>0.0</td>\n",
       "    </tr>\n",
       "  </tbody>\n",
       "</table>\n",
       "</div>"
      ],
      "text/plain": [
       "        name  percent  couts        date  close   hmax   lmin  perc1d   llow  \\\n",
       "code                                                                           \n",
       "300780  德恩精工    20.03     50  2024-08-30  21.27  18.56  11.28   44.69  12.00   \n",
       "688577  浙海德曼    20.03      2  2024-08-30  69.81  42.62  18.69   64.12  18.95   \n",
       "688108  赛诺医疗    20.02     13  2024-07-31  20.44  11.05   7.27   86.50   7.51   \n",
       "301048  金鹰重工    20.00     77  2024-08-30  13.56  10.07   7.26   42.19   7.29   \n",
       "688265  南模生物    19.94      2  2024-08-30  51.91  27.55  19.42   73.69  19.59   \n",
       "301038  深水规院    19.92     27  2024-08-30  34.97  16.12   9.53    1.10   9.53   \n",
       "300218  安利股份    13.27     28  2025-04-30  23.73  17.38  11.72   66.00  11.72   \n",
       "300732   设研院    12.78    114  2025-01-27  12.18   8.53   5.24    1.20   5.95   \n",
       "300289   利德曼    11.87    381  2024-06-28  10.93   5.52   3.56  100.62   3.70   \n",
       "300717  华信新材    11.07     23  2024-08-30  24.09  16.98  11.85   50.19  12.17   \n",
       "\n",
       "        perc3d  perc5d  \n",
       "code                    \n",
       "300780     0.1    -1.1  \n",
       "688577     0.0     0.0  \n",
       "688108     1.2    -1.1  \n",
       "301048     1.1     0.0  \n",
       "688265    24.7    -1.1  \n",
       "301038     1.3    -1.0  \n",
       "300218     1.2    -1.1  \n",
       "300732     1.3     0.0  \n",
       "300289     1.3     0.0  \n",
       "300717    19.3     0.0  "
      ]
     },
     "execution_count": 21,
     "metadata": {},
     "output_type": "execute_result"
    }
   ],
   "source": [
    "# tm_code = tdx_m.query('lastp1d > lastp2d and lasth2d > lasth3d and lastp1d > ma51d')\n",
    "# tm_code = tdx_m.query('lastp1d > lastp2d and lasth2d > lasth3d and lastl2d > lastl3d and lastp1d > ma51d')\n",
    "#月线站上,3月反弹,2月新高\n",
    "tm_code = h5_m.query('lastl1d > lastl2d > lastl3d and lasth1d > lastp2d > lastp3d and  ma51d > ma52d and macd > 0 and macddif > macddea')   \n",
    "# tm_code = h5_m.query(f'{get_filter(filterIDX)}')\n",
    "show_tdx_data(tm_code,limit=10)"
   ]
  },
  {
   "cell_type": "code",
   "execution_count": 22,
   "id": "5677aac6",
   "metadata": {
    "ExecuteTime": {
     "end_time": "2025-06-23T05:35:22.133444Z",
     "start_time": "2025-06-23T05:35:22.122222Z"
    },
    "execution": {
     "iopub.execute_input": "2025-08-10T07:59:46.560894Z",
     "iopub.status.busy": "2025-08-10T07:59:46.560894Z",
     "iopub.status.idle": "2025-08-10T07:59:46.576851Z",
     "shell.execute_reply": "2025-08-10T07:59:46.575883Z",
     "shell.execute_reply.started": "2025-08-10T07:59:46.560894Z"
    },
    "tags": []
   },
   "outputs": [
    {
     "data": {
      "text/plain": [
       "lasth1d    34.97\n",
       "lastl1d    27.95\n",
       "lastl2d    15.37\n",
       "lastl3d    13.92\n",
       "lastp1d    34.97\n",
       "ma51d      22.03\n",
       "ma52d       18.0\n",
       "ma53d      14.59\n",
       "ma54d      13.97\n",
       "Name: 301038, dtype: object"
      ]
     },
     "execution_count": 22,
     "metadata": {},
     "output_type": "execute_result"
    }
   ],
   "source": [
    "if '301038' in tm_code.index:\n",
    "    h5_m.loc['301038',['lasth1d','lastl1d','lastl2d','lastl3d','lastp1d','ma51d','ma52d','ma53d','ma54d']]\n",
    "    \n",
    "# h5_m.loc['301038',['lasth1d','lastp2d','lastp3d','lastp1d','ma51d','ma52d','ma53d','ma54d']]    "
   ]
  },
  {
   "cell_type": "markdown",
   "id": "14d02e0c",
   "metadata": {},
   "source": [
    "### resample D"
   ]
  },
  {
   "cell_type": "code",
   "execution_count": 23,
   "id": "4406acdc",
   "metadata": {
    "ExecuteTime": {
     "end_time": "2025-06-23T05:41:19.310425Z",
     "start_time": "2025-06-23T05:35:22.139035Z"
    },
    "execution": {
     "iopub.execute_input": "2025-08-10T07:59:46.577849Z",
     "iopub.status.busy": "2025-08-10T07:59:46.576851Z",
     "iopub.status.idle": "2025-08-10T07:59:56.113665Z",
     "shell.execute_reply": "2025-08-10T07:59:56.113103Z",
     "shell.execute_reply.started": "2025-08-10T07:59:46.577849Z"
    },
    "tags": []
   },
   "outputs": [
    {
     "name": "stdout",
     "output_type": "stream",
     "text": [
      "initdx :0 b1>:5194 it:0.3 lastpTDX_DF_d not in locals\n",
      "fname: tdx_last_df keys:['/low_3d_120_y_all', '/low_3d_60_y_all', '/low_d_60_y_all', '/low_m_300_y_all', '/low_w_200_y_all']\n"
     ]
    },
    {
     "name": "stderr",
     "output_type": "stream",
     "text": [
      "[2025-08-10 15:59:48,788] ERROR:tdx_data_Day.py(get_append_lastp_to_df:4572): tdx Out:8 code:['600837', '600705']\n"
     ]
    },
    {
     "name": "stdout",
     "output_type": "stream",
     "text": [
      "tdxdataT:5.45\n",
      "DLTDXE:5.45 "
     ]
    },
    {
     "data": {
      "text/plain": [
       "(5186, 220)"
      ]
     },
     "execution_count": 23,
     "metadata": {},
     "output_type": "execute_result"
    }
   ],
   "source": [
    "# h5_d = get_tdx_all_from_h5(resample='d') if h5_d is None else h5_d\n",
    "h5_d = get_tdx_all_now(resample='d')\n",
    "# tdx_d = cct.combine_dataFrame(h5_d,sinadm)\n",
    "h5_d.shape"
   ]
  },
  {
   "cell_type": "code",
   "execution_count": 24,
   "id": "22c03d97",
   "metadata": {
    "ExecuteTime": {
     "end_time": "2025-06-23T05:41:19.431171Z",
     "start_time": "2025-06-23T05:41:19.315869Z"
    },
    "execution": {
     "iopub.execute_input": "2025-08-10T07:59:56.114662Z",
     "iopub.status.busy": "2025-08-10T07:59:56.114662Z",
     "iopub.status.idle": "2025-08-10T07:59:56.174540Z",
     "shell.execute_reply": "2025-08-10T07:59:56.174540Z",
     "shell.execute_reply.started": "2025-08-10T07:59:56.114662Z"
    },
    "scrolled": true,
    "tags": []
   },
   "outputs": [
    {
     "name": "stdout",
     "output_type": "stream",
     "text": [
      "Count:255 220\n"
     ]
    },
    {
     "data": {
      "text/html": [
       "<div>\n",
       "<style scoped>\n",
       "    .dataframe tbody tr th:only-of-type {\n",
       "        vertical-align: middle;\n",
       "    }\n",
       "\n",
       "    .dataframe tbody tr th {\n",
       "        vertical-align: top;\n",
       "    }\n",
       "\n",
       "    .dataframe thead th {\n",
       "        text-align: right;\n",
       "    }\n",
       "</style>\n",
       "<table border=\"1\" class=\"dataframe\">\n",
       "  <thead>\n",
       "    <tr style=\"text-align: right;\">\n",
       "      <th></th>\n",
       "      <th>name</th>\n",
       "      <th>percent</th>\n",
       "      <th>couts</th>\n",
       "      <th>date</th>\n",
       "      <th>close</th>\n",
       "      <th>hmax</th>\n",
       "      <th>lmin</th>\n",
       "      <th>perc1d</th>\n",
       "      <th>llow</th>\n",
       "      <th>perc3d</th>\n",
       "      <th>perc5d</th>\n",
       "    </tr>\n",
       "    <tr>\n",
       "      <th>code</th>\n",
       "      <th></th>\n",
       "      <th></th>\n",
       "      <th></th>\n",
       "      <th></th>\n",
       "      <th></th>\n",
       "      <th></th>\n",
       "      <th></th>\n",
       "      <th></th>\n",
       "      <th></th>\n",
       "      <th></th>\n",
       "      <th></th>\n",
       "    </tr>\n",
       "  </thead>\n",
       "  <tbody>\n",
       "    <tr>\n",
       "      <th>688577</th>\n",
       "      <td>浙海德曼</td>\n",
       "      <td>20.03</td>\n",
       "      <td>2</td>\n",
       "      <td>2025-06-23</td>\n",
       "      <td>69.81</td>\n",
       "      <td>54.81</td>\n",
       "      <td>43.22</td>\n",
       "      <td>45.91</td>\n",
       "      <td>41.59</td>\n",
       "      <td>11.20</td>\n",
       "      <td>4.1</td>\n",
       "    </tr>\n",
       "    <tr>\n",
       "      <th>688108</th>\n",
       "      <td>赛诺医疗</td>\n",
       "      <td>20.02</td>\n",
       "      <td>13</td>\n",
       "      <td>2025-05-19</td>\n",
       "      <td>20.44</td>\n",
       "      <td>14.65</td>\n",
       "      <td>10.65</td>\n",
       "      <td>42.31</td>\n",
       "      <td>9.71</td>\n",
       "      <td>-1.10</td>\n",
       "      <td>0.1</td>\n",
       "    </tr>\n",
       "    <tr>\n",
       "      <th>301048</th>\n",
       "      <td>金鹰重工</td>\n",
       "      <td>20.00</td>\n",
       "      <td>77</td>\n",
       "      <td>2025-05-23</td>\n",
       "      <td>13.56</td>\n",
       "      <td>11.38</td>\n",
       "      <td>10.34</td>\n",
       "      <td>42.31</td>\n",
       "      <td>9.82</td>\n",
       "      <td>1.20</td>\n",
       "      <td>1.3</td>\n",
       "    </tr>\n",
       "    <tr>\n",
       "      <th>688551</th>\n",
       "      <td>科威尔</td>\n",
       "      <td>19.97</td>\n",
       "      <td>16</td>\n",
       "      <td>2025-05-16</td>\n",
       "      <td>43.19</td>\n",
       "      <td>31.75</td>\n",
       "      <td>28.72</td>\n",
       "      <td>61.19</td>\n",
       "      <td>26.94</td>\n",
       "      <td>1.30</td>\n",
       "      <td>1.3</td>\n",
       "    </tr>\n",
       "    <tr>\n",
       "      <th>301232</th>\n",
       "      <td>飞沃科技</td>\n",
       "      <td>19.95</td>\n",
       "      <td>18</td>\n",
       "      <td>2025-05-23</td>\n",
       "      <td>42.09</td>\n",
       "      <td>33.59</td>\n",
       "      <td>29.50</td>\n",
       "      <td>55.00</td>\n",
       "      <td>27.05</td>\n",
       "      <td>1.30</td>\n",
       "      <td>1.3</td>\n",
       "    </tr>\n",
       "    <tr>\n",
       "      <th>301038</th>\n",
       "      <td>深水规院</td>\n",
       "      <td>19.92</td>\n",
       "      <td>27</td>\n",
       "      <td>2025-05-16</td>\n",
       "      <td>34.97</td>\n",
       "      <td>34.00</td>\n",
       "      <td>15.37</td>\n",
       "      <td>20.30</td>\n",
       "      <td>13.51</td>\n",
       "      <td>-1.00</td>\n",
       "      <td>-0.9</td>\n",
       "    </tr>\n",
       "    <tr>\n",
       "      <th>301399</th>\n",
       "      <td>英特科技</td>\n",
       "      <td>13.21</td>\n",
       "      <td>10</td>\n",
       "      <td>2025-05-30</td>\n",
       "      <td>23.91</td>\n",
       "      <td>20.38</td>\n",
       "      <td>18.31</td>\n",
       "      <td>39.19</td>\n",
       "      <td>16.34</td>\n",
       "      <td>24.91</td>\n",
       "      <td>1.3</td>\n",
       "    </tr>\n",
       "    <tr>\n",
       "      <th>688349</th>\n",
       "      <td>三一重能</td>\n",
       "      <td>11.09</td>\n",
       "      <td>6</td>\n",
       "      <td>2025-05-23</td>\n",
       "      <td>27.84</td>\n",
       "      <td>25.53</td>\n",
       "      <td>23.78</td>\n",
       "      <td>33.41</td>\n",
       "      <td>22.45</td>\n",
       "      <td>0.10</td>\n",
       "      <td>0.1</td>\n",
       "    </tr>\n",
       "    <tr>\n",
       "      <th>300455</th>\n",
       "      <td>航天智装</td>\n",
       "      <td>10.71</td>\n",
       "      <td>245</td>\n",
       "      <td>2025-05-23</td>\n",
       "      <td>19.75</td>\n",
       "      <td>17.03</td>\n",
       "      <td>13.47</td>\n",
       "      <td>45.09</td>\n",
       "      <td>12.29</td>\n",
       "      <td>0.10</td>\n",
       "      <td>16.0</td>\n",
       "    </tr>\n",
       "    <tr>\n",
       "      <th>688630</th>\n",
       "      <td>芯碁微装</td>\n",
       "      <td>10.55</td>\n",
       "      <td>0</td>\n",
       "      <td>2025-05-26</td>\n",
       "      <td>135.00</td>\n",
       "      <td>126.62</td>\n",
       "      <td>76.50</td>\n",
       "      <td>27.30</td>\n",
       "      <td>67.06</td>\n",
       "      <td>0.00</td>\n",
       "      <td>-1.1</td>\n",
       "    </tr>\n",
       "    <tr>\n",
       "      <th>688569</th>\n",
       "      <td>铁科轨道</td>\n",
       "      <td>10.37</td>\n",
       "      <td>2</td>\n",
       "      <td>2025-06-20</td>\n",
       "      <td>23.95</td>\n",
       "      <td>21.95</td>\n",
       "      <td>20.39</td>\n",
       "      <td>31.50</td>\n",
       "      <td>19.95</td>\n",
       "      <td>1.30</td>\n",
       "      <td>0.0</td>\n",
       "    </tr>\n",
       "    <tr>\n",
       "      <th>600581</th>\n",
       "      <td>八一钢铁</td>\n",
       "      <td>10.13</td>\n",
       "      <td>227</td>\n",
       "      <td>2025-06-20</td>\n",
       "      <td>4.24</td>\n",
       "      <td>4.48</td>\n",
       "      <td>3.03</td>\n",
       "      <td>1.30</td>\n",
       "      <td>2.94</td>\n",
       "      <td>-1.10</td>\n",
       "      <td>0.0</td>\n",
       "    </tr>\n",
       "    <tr>\n",
       "      <th>600503</th>\n",
       "      <td>华丽家族</td>\n",
       "      <td>10.11</td>\n",
       "      <td>403</td>\n",
       "      <td>2025-06-20</td>\n",
       "      <td>2.94</td>\n",
       "      <td>2.71</td>\n",
       "      <td>2.47</td>\n",
       "      <td>32.41</td>\n",
       "      <td>2.37</td>\n",
       "      <td>0.00</td>\n",
       "      <td>0.0</td>\n",
       "    </tr>\n",
       "    <tr>\n",
       "      <th>605169</th>\n",
       "      <td>洪通燃气</td>\n",
       "      <td>10.09</td>\n",
       "      <td>11</td>\n",
       "      <td>2025-05-23</td>\n",
       "      <td>16.91</td>\n",
       "      <td>12.69</td>\n",
       "      <td>10.55</td>\n",
       "      <td>39.50</td>\n",
       "      <td>10.28</td>\n",
       "      <td>17.30</td>\n",
       "      <td>1.3</td>\n",
       "    </tr>\n",
       "    <tr>\n",
       "      <th>603176</th>\n",
       "      <td>汇通集团</td>\n",
       "      <td>10.06</td>\n",
       "      <td>55</td>\n",
       "      <td>2025-06-19</td>\n",
       "      <td>7.33</td>\n",
       "      <td>7.74</td>\n",
       "      <td>4.73</td>\n",
       "      <td>1.30</td>\n",
       "      <td>4.53</td>\n",
       "      <td>1.30</td>\n",
       "      <td>-0.1</td>\n",
       "    </tr>\n",
       "    <tr>\n",
       "      <th>000702</th>\n",
       "      <td>正虹科技</td>\n",
       "      <td>10.05</td>\n",
       "      <td>155</td>\n",
       "      <td>2025-05-16</td>\n",
       "      <td>8.43</td>\n",
       "      <td>8.48</td>\n",
       "      <td>7.13</td>\n",
       "      <td>32.41</td>\n",
       "      <td>6.60</td>\n",
       "      <td>0.00</td>\n",
       "      <td>0.0</td>\n",
       "    </tr>\n",
       "    <tr>\n",
       "      <th>002941</th>\n",
       "      <td>新疆交建</td>\n",
       "      <td>10.04</td>\n",
       "      <td>80</td>\n",
       "      <td>2025-06-19</td>\n",
       "      <td>13.81</td>\n",
       "      <td>12.93</td>\n",
       "      <td>10.94</td>\n",
       "      <td>37.31</td>\n",
       "      <td>10.55</td>\n",
       "      <td>1.30</td>\n",
       "      <td>0.1</td>\n",
       "    </tr>\n",
       "    <tr>\n",
       "      <th>002205</th>\n",
       "      <td>国统股份</td>\n",
       "      <td>10.03</td>\n",
       "      <td>9</td>\n",
       "      <td>2025-05-23</td>\n",
       "      <td>14.37</td>\n",
       "      <td>14.63</td>\n",
       "      <td>11.03</td>\n",
       "      <td>1.30</td>\n",
       "      <td>9.62</td>\n",
       "      <td>-0.10</td>\n",
       "      <td>0.0</td>\n",
       "    </tr>\n",
       "    <tr>\n",
       "      <th>603500</th>\n",
       "      <td>祥和实业</td>\n",
       "      <td>10.03</td>\n",
       "      <td>44</td>\n",
       "      <td>2025-06-20</td>\n",
       "      <td>10.86</td>\n",
       "      <td>9.82</td>\n",
       "      <td>8.74</td>\n",
       "      <td>34.50</td>\n",
       "      <td>8.47</td>\n",
       "      <td>1.30</td>\n",
       "      <td>1.3</td>\n",
       "    </tr>\n",
       "    <tr>\n",
       "      <th>002307</th>\n",
       "      <td>北新路桥</td>\n",
       "      <td>10.02</td>\n",
       "      <td>342</td>\n",
       "      <td>2025-06-19</td>\n",
       "      <td>4.61</td>\n",
       "      <td>4.48</td>\n",
       "      <td>3.81</td>\n",
       "      <td>40.31</td>\n",
       "      <td>3.73</td>\n",
       "      <td>1.20</td>\n",
       "      <td>0.0</td>\n",
       "    </tr>\n",
       "  </tbody>\n",
       "</table>\n",
       "</div>"
      ],
      "text/plain": [
       "        name  percent  couts        date   close    hmax   lmin  perc1d  \\\n",
       "code                                                                      \n",
       "688577  浙海德曼    20.03      2  2025-06-23   69.81   54.81  43.22   45.91   \n",
       "688108  赛诺医疗    20.02     13  2025-05-19   20.44   14.65  10.65   42.31   \n",
       "301048  金鹰重工    20.00     77  2025-05-23   13.56   11.38  10.34   42.31   \n",
       "688551   科威尔    19.97     16  2025-05-16   43.19   31.75  28.72   61.19   \n",
       "301232  飞沃科技    19.95     18  2025-05-23   42.09   33.59  29.50   55.00   \n",
       "301038  深水规院    19.92     27  2025-05-16   34.97   34.00  15.37   20.30   \n",
       "301399  英特科技    13.21     10  2025-05-30   23.91   20.38  18.31   39.19   \n",
       "688349  三一重能    11.09      6  2025-05-23   27.84   25.53  23.78   33.41   \n",
       "300455  航天智装    10.71    245  2025-05-23   19.75   17.03  13.47   45.09   \n",
       "688630  芯碁微装    10.55      0  2025-05-26  135.00  126.62  76.50   27.30   \n",
       "688569  铁科轨道    10.37      2  2025-06-20   23.95   21.95  20.39   31.50   \n",
       "600581  八一钢铁    10.13    227  2025-06-20    4.24    4.48   3.03    1.30   \n",
       "600503  华丽家族    10.11    403  2025-06-20    2.94    2.71   2.47   32.41   \n",
       "605169  洪通燃气    10.09     11  2025-05-23   16.91   12.69  10.55   39.50   \n",
       "603176  汇通集团    10.06     55  2025-06-19    7.33    7.74   4.73    1.30   \n",
       "000702  正虹科技    10.05    155  2025-05-16    8.43    8.48   7.13   32.41   \n",
       "002941  新疆交建    10.04     80  2025-06-19   13.81   12.93  10.94   37.31   \n",
       "002205  国统股份    10.03      9  2025-05-23   14.37   14.63  11.03    1.30   \n",
       "603500  祥和实业    10.03     44  2025-06-20   10.86    9.82   8.74   34.50   \n",
       "002307  北新路桥    10.02    342  2025-06-19    4.61    4.48   3.81   40.31   \n",
       "\n",
       "         llow  perc3d  perc5d  \n",
       "code                           \n",
       "688577  41.59   11.20     4.1  \n",
       "688108   9.71   -1.10     0.1  \n",
       "301048   9.82    1.20     1.3  \n",
       "688551  26.94    1.30     1.3  \n",
       "301232  27.05    1.30     1.3  \n",
       "301038  13.51   -1.00    -0.9  \n",
       "301399  16.34   24.91     1.3  \n",
       "688349  22.45    0.10     0.1  \n",
       "300455  12.29    0.10    16.0  \n",
       "688630  67.06    0.00    -1.1  \n",
       "688569  19.95    1.30     0.0  \n",
       "600581   2.94   -1.10     0.0  \n",
       "600503   2.37    0.00     0.0  \n",
       "605169  10.28   17.30     1.3  \n",
       "603176   4.53    1.30    -0.1  \n",
       "000702   6.60    0.00     0.0  \n",
       "002941  10.55    1.30     0.1  \n",
       "002205   9.62   -0.10     0.0  \n",
       "603500   8.47    1.30     1.3  \n",
       "002307   3.73    1.20     0.0  "
      ]
     },
     "execution_count": 24,
     "metadata": {},
     "output_type": "execute_result"
    }
   ],
   "source": [
    "# td_code = tdx_d.query('lasth1d > lasth2d > lasth3d and close >= high4')\n",
    "# td_code = tdx_d.query('ma51d > ma10d and ral > 3 and lastp1d >ma20d and low > lastl1d and vol > 2' )\n",
    "# td_code = tdx_d.query('lastp1d > lastp2d  and lasth1d > lasth2d and lasth2d > lasth3d and lastl1d > lastl2d and lastl2d > lastl3d and close > open')\n",
    "\n",
    "# td_code = h5_d.query(f'{get_filter(filterIDX)}')\n",
    "# td_code = h5_d.query(f'lasth1d > lasth2d and close > lastp1d and ral > 10 and fib > 0 and boll > 0')\n",
    "td_code = h5_d.query(f'lasth1d > lasth2d  and ral > 10 and fib > 0 and boll > 0  and percent > lastdu4 \\\n",
    "and close >high4  and (low > open*0.99 or (per1d > 4 and low >= lastp1d))')\n",
    "\n",
    "show_tdx_data(td_code,limit=20)\n",
    "# if len(td_code) < 30:\n",
    "#     write_code_to_blk(td_code.sort_values('percent', ascending=False).index,'065',rewrite=True)"
   ]
  },
  {
   "cell_type": "code",
   "execution_count": 25,
   "id": "3ac7891e",
   "metadata": {
    "ExecuteTime": {
     "end_time": "2025-06-23T05:41:19.441674Z",
     "start_time": "2025-06-23T05:41:19.435724Z"
    },
    "execution": {
     "iopub.execute_input": "2025-08-10T07:59:56.176499Z",
     "iopub.status.busy": "2025-08-10T07:59:56.175500Z",
     "iopub.status.idle": "2025-08-10T07:59:56.191459Z",
     "shell.execute_reply": "2025-08-10T07:59:56.190496Z",
     "shell.execute_reply.started": "2025-08-10T07:59:56.176499Z"
    },
    "tags": []
   },
   "outputs": [
    {
     "data": {
      "text/plain": [
       "lastdu4       1.15\n",
       "close        34.97\n",
       "boll             1\n",
       "ral             16\n",
       "fib              5\n",
       "percmax       19.0\n",
       "macd          3.95\n",
       "macddif       0.29\n",
       "macddea       3.66\n",
       "macdlast1     3.95\n",
       "macdlast2     3.71\n",
       "macdlast3     3.94\n",
       "lasth1d      34.97\n",
       "lastl1d      28.81\n",
       "lastl2d       28.2\n",
       "lastl3d      27.95\n",
       "lastp1d      34.97\n",
       "ma51d        31.16\n",
       "ma52d        30.48\n",
       "ma53d        30.77\n",
       "ma54d        31.75\n",
       "Name: 301038, dtype: object"
      ]
     },
     "execution_count": 25,
     "metadata": {},
     "output_type": "execute_result"
    }
   ],
   "source": [
    "if '301038' in td_code.index:\n",
    "    h5_d.loc['301038',['lastdu4','close','boll','ral','fib','percmax','macd','macddif','macddea','macdlast1','macdlast2','macdlast3','lasth1d','lastl1d','lastl2d','lastl3d','lastp1d','ma51d','ma52d','ma53d','ma54d']]"
   ]
  },
  {
   "cell_type": "markdown",
   "id": "103ccc62",
   "metadata": {},
   "source": [
    "#### filter test"
   ]
  },
  {
   "cell_type": "code",
   "execution_count": 32,
   "id": "1f09d0a1",
   "metadata": {
    "ExecuteTime": {
     "end_time": "2025-06-23T05:41:19.502268Z",
     "start_time": "2025-06-23T05:41:19.446450Z"
    },
    "execution": {
     "iopub.execute_input": "2025-08-10T08:00:51.589325Z",
     "iopub.status.busy": "2025-08-10T08:00:51.589325Z",
     "iopub.status.idle": "2025-08-10T08:00:51.618209Z",
     "shell.execute_reply": "2025-08-10T08:00:51.617212Z",
     "shell.execute_reply.started": "2025-08-10T08:00:51.589325Z"
    },
    "scrolled": true,
    "tags": []
   },
   "outputs": [
    {
     "name": "stdout",
     "output_type": "stream",
     "text": [
      "Count:24 220\n"
     ]
    },
    {
     "data": {
      "text/html": [
       "<div>\n",
       "<style scoped>\n",
       "    .dataframe tbody tr th:only-of-type {\n",
       "        vertical-align: middle;\n",
       "    }\n",
       "\n",
       "    .dataframe tbody tr th {\n",
       "        vertical-align: top;\n",
       "    }\n",
       "\n",
       "    .dataframe thead th {\n",
       "        text-align: right;\n",
       "    }\n",
       "</style>\n",
       "<table border=\"1\" class=\"dataframe\">\n",
       "  <thead>\n",
       "    <tr style=\"text-align: right;\">\n",
       "      <th></th>\n",
       "      <th>name</th>\n",
       "      <th>percent</th>\n",
       "      <th>couts</th>\n",
       "      <th>date</th>\n",
       "      <th>close</th>\n",
       "      <th>hmax</th>\n",
       "      <th>lmin</th>\n",
       "      <th>perc1d</th>\n",
       "      <th>llow</th>\n",
       "      <th>perc3d</th>\n",
       "      <th>perc5d</th>\n",
       "    </tr>\n",
       "    <tr>\n",
       "      <th>code</th>\n",
       "      <th></th>\n",
       "      <th></th>\n",
       "      <th></th>\n",
       "      <th></th>\n",
       "      <th></th>\n",
       "      <th></th>\n",
       "      <th></th>\n",
       "      <th></th>\n",
       "      <th></th>\n",
       "      <th></th>\n",
       "      <th></th>\n",
       "    </tr>\n",
       "  </thead>\n",
       "  <tbody>\n",
       "    <tr>\n",
       "      <th>300289</th>\n",
       "      <td>利德曼</td>\n",
       "      <td>11.87</td>\n",
       "      <td>381</td>\n",
       "      <td>2025-04-09</td>\n",
       "      <td>10.93</td>\n",
       "      <td>8.45</td>\n",
       "      <td>4.76</td>\n",
       "      <td>31.30</td>\n",
       "      <td>3.85</td>\n",
       "      <td>39.31</td>\n",
       "      <td>1.3</td>\n",
       "    </tr>\n",
       "    <tr>\n",
       "      <th>605169</th>\n",
       "      <td>洪通燃气</td>\n",
       "      <td>10.09</td>\n",
       "      <td>11</td>\n",
       "      <td>2025-04-09</td>\n",
       "      <td>16.91</td>\n",
       "      <td>12.26</td>\n",
       "      <td>9.89</td>\n",
       "      <td>55.19</td>\n",
       "      <td>8.13</td>\n",
       "      <td>1.30</td>\n",
       "      <td>0.0</td>\n",
       "    </tr>\n",
       "    <tr>\n",
       "      <th>603800</th>\n",
       "      <td>洪田股份</td>\n",
       "      <td>10.05</td>\n",
       "      <td>28</td>\n",
       "      <td>2025-05-23</td>\n",
       "      <td>42.47</td>\n",
       "      <td>31.70</td>\n",
       "      <td>20.97</td>\n",
       "      <td>48.31</td>\n",
       "      <td>20.97</td>\n",
       "      <td>1.20</td>\n",
       "      <td>21.2</td>\n",
       "    </tr>\n",
       "    <tr>\n",
       "      <th>002046</th>\n",
       "      <td>国机精工</td>\n",
       "      <td>9.99</td>\n",
       "      <td>289</td>\n",
       "      <td>2025-04-09</td>\n",
       "      <td>31.05</td>\n",
       "      <td>19.28</td>\n",
       "      <td>15.06</td>\n",
       "      <td>55.41</td>\n",
       "      <td>11.65</td>\n",
       "      <td>15.30</td>\n",
       "      <td>16.2</td>\n",
       "    </tr>\n",
       "    <tr>\n",
       "      <th>603131</th>\n",
       "      <td>上海沪工</td>\n",
       "      <td>9.97</td>\n",
       "      <td>127</td>\n",
       "      <td>2025-04-09</td>\n",
       "      <td>21.62</td>\n",
       "      <td>18.16</td>\n",
       "      <td>16.38</td>\n",
       "      <td>42.91</td>\n",
       "      <td>14.38</td>\n",
       "      <td>0.00</td>\n",
       "      <td>1.3</td>\n",
       "    </tr>\n",
       "    <tr>\n",
       "      <th>301397</th>\n",
       "      <td>溯联股份</td>\n",
       "      <td>7.56</td>\n",
       "      <td>2</td>\n",
       "      <td>2025-04-09</td>\n",
       "      <td>41.00</td>\n",
       "      <td>31.23</td>\n",
       "      <td>25.08</td>\n",
       "      <td>45.59</td>\n",
       "      <td>17.92</td>\n",
       "      <td>0.10</td>\n",
       "      <td>15.4</td>\n",
       "    </tr>\n",
       "    <tr>\n",
       "      <th>603516</th>\n",
       "      <td>淳中科技</td>\n",
       "      <td>3.67</td>\n",
       "      <td>19</td>\n",
       "      <td>2025-04-25</td>\n",
       "      <td>90.00</td>\n",
       "      <td>66.50</td>\n",
       "      <td>32.44</td>\n",
       "      <td>45.69</td>\n",
       "      <td>32.84</td>\n",
       "      <td>1.20</td>\n",
       "      <td>1.1</td>\n",
       "    </tr>\n",
       "    <tr>\n",
       "      <th>300342</th>\n",
       "      <td>天银机电</td>\n",
       "      <td>3.00</td>\n",
       "      <td>119</td>\n",
       "      <td>2025-04-09</td>\n",
       "      <td>19.20</td>\n",
       "      <td>17.89</td>\n",
       "      <td>15.32</td>\n",
       "      <td>1.20</td>\n",
       "      <td>12.94</td>\n",
       "      <td>1.30</td>\n",
       "      <td>11.4</td>\n",
       "    </tr>\n",
       "    <tr>\n",
       "      <th>002068</th>\n",
       "      <td>黑猫股份</td>\n",
       "      <td>2.62</td>\n",
       "      <td>29</td>\n",
       "      <td>2025-06-13</td>\n",
       "      <td>12.13</td>\n",
       "      <td>12.16</td>\n",
       "      <td>9.37</td>\n",
       "      <td>1.10</td>\n",
       "      <td>9.45</td>\n",
       "      <td>28.41</td>\n",
       "      <td>0.0</td>\n",
       "    </tr>\n",
       "    <tr>\n",
       "      <th>603757</th>\n",
       "      <td>大元泵业</td>\n",
       "      <td>1.63</td>\n",
       "      <td>2</td>\n",
       "      <td>2025-04-09</td>\n",
       "      <td>29.27</td>\n",
       "      <td>26.41</td>\n",
       "      <td>21.34</td>\n",
       "      <td>1.20</td>\n",
       "      <td>17.97</td>\n",
       "      <td>0.10</td>\n",
       "      <td>0.0</td>\n",
       "    </tr>\n",
       "  </tbody>\n",
       "</table>\n",
       "</div>"
      ],
      "text/plain": [
       "        name  percent  couts        date  close   hmax   lmin  perc1d   llow  \\\n",
       "code                                                                           \n",
       "300289   利德曼    11.87    381  2025-04-09  10.93   8.45   4.76   31.30   3.85   \n",
       "605169  洪通燃气    10.09     11  2025-04-09  16.91  12.26   9.89   55.19   8.13   \n",
       "603800  洪田股份    10.05     28  2025-05-23  42.47  31.70  20.97   48.31  20.97   \n",
       "002046  国机精工     9.99    289  2025-04-09  31.05  19.28  15.06   55.41  11.65   \n",
       "603131  上海沪工     9.97    127  2025-04-09  21.62  18.16  16.38   42.91  14.38   \n",
       "301397  溯联股份     7.56      2  2025-04-09  41.00  31.23  25.08   45.59  17.92   \n",
       "603516  淳中科技     3.67     19  2025-04-25  90.00  66.50  32.44   45.69  32.84   \n",
       "300342  天银机电     3.00    119  2025-04-09  19.20  17.89  15.32    1.20  12.94   \n",
       "002068  黑猫股份     2.62     29  2025-06-13  12.13  12.16   9.37    1.10   9.45   \n",
       "603757  大元泵业     1.63      2  2025-04-09  29.27  26.41  21.34    1.20  17.97   \n",
       "\n",
       "        perc3d  perc5d  \n",
       "code                    \n",
       "300289   39.31     1.3  \n",
       "605169    1.30     0.0  \n",
       "603800    1.20    21.2  \n",
       "002046   15.30    16.2  \n",
       "603131    0.00     1.3  \n",
       "301397    0.10    15.4  \n",
       "603516    1.20     1.1  \n",
       "300342    1.30    11.4  \n",
       "002068   28.41     0.0  \n",
       "603757    0.10     0.0  "
      ]
     },
     "execution_count": 32,
     "metadata": {},
     "output_type": "execute_result"
    }
   ],
   "source": [
    "# h5_t_code=h5_w.query('lasth1d > upper1 and lasth1d >lasth2d   and high >boll and percent > maxp')\n",
    "# h5_t_code=h5_d.query('lasth1d  >lasth2d  and lastp1d > ma51d and lastp1d > lastp2d*0.99 and lasth2d > lasth3d and lastp2d < upper2 and lasth1d >upper')\n",
    "code_3f=  list(set(tm_code.index) & set(tw_code.index) & set(t3d_code.index))\n",
    "\n",
    "show_tdx_data(t3d_code.loc[code_3f],limit=10)"
   ]
  },
  {
   "cell_type": "code",
   "execution_count": 27,
   "id": "039561bb",
   "metadata": {
    "ExecuteTime": {
     "end_time": "2025-06-23T05:41:19.515842Z",
     "start_time": "2025-06-23T05:41:19.507451Z"
    },
    "execution": {
     "iopub.execute_input": "2025-08-10T07:59:56.224370Z",
     "iopub.status.busy": "2025-08-10T07:59:56.224370Z",
     "iopub.status.idle": "2025-08-10T07:59:56.239330Z",
     "shell.execute_reply": "2025-08-10T07:59:56.238333Z",
     "shell.execute_reply.started": "2025-08-10T07:59:56.224370Z"
    },
    "tags": []
   },
   "outputs": [],
   "source": [
    "# td_code2 = tdx_d.query(f'{get_filter(2)}')\n",
    "# td_code2 = h5_d.query('lastp1d > lastp2d  and lasth1d > lasth2d and lasth2d > lasth3d and lastl1d > lastl2d and lastl2d > lastl3d and close > open')\n",
    "# show_tdx_data(td_code2,limit=10)\n"
   ]
  },
  {
   "cell_type": "markdown",
   "id": "079416bf",
   "metadata": {},
   "source": [
    "#### 多周期筛选"
   ]
  },
  {
   "cell_type": "code",
   "execution_count": 28,
   "id": "f4919a87",
   "metadata": {
    "ExecuteTime": {
     "end_time": "2025-06-23T05:41:19.556289Z",
     "start_time": "2025-06-23T05:41:19.519059Z"
    },
    "execution": {
     "iopub.execute_input": "2025-08-10T07:59:56.244317Z",
     "iopub.status.busy": "2025-08-10T07:59:56.244317Z",
     "iopub.status.idle": "2025-08-10T07:59:56.271243Z",
     "shell.execute_reply": "2025-08-10T07:59:56.270246Z",
     "shell.execute_reply.started": "2025-08-10T07:59:56.244317Z"
    },
    "tags": []
   },
   "outputs": [
    {
     "name": "stdout",
     "output_type": "stream",
     "text": [
      "tm_code:885\n",
      "tw_code:879\n",
      "t3d_code:473\n",
      "td_code:255\n",
      "Count:3 220\n"
     ]
    },
    {
     "data": {
      "text/html": [
       "<div>\n",
       "<style scoped>\n",
       "    .dataframe tbody tr th:only-of-type {\n",
       "        vertical-align: middle;\n",
       "    }\n",
       "\n",
       "    .dataframe tbody tr th {\n",
       "        vertical-align: top;\n",
       "    }\n",
       "\n",
       "    .dataframe thead th {\n",
       "        text-align: right;\n",
       "    }\n",
       "</style>\n",
       "<table border=\"1\" class=\"dataframe\">\n",
       "  <thead>\n",
       "    <tr style=\"text-align: right;\">\n",
       "      <th></th>\n",
       "      <th>name</th>\n",
       "      <th>percent</th>\n",
       "      <th>couts</th>\n",
       "      <th>date</th>\n",
       "      <th>close</th>\n",
       "      <th>hmax</th>\n",
       "      <th>lmin</th>\n",
       "      <th>perc1d</th>\n",
       "      <th>llow</th>\n",
       "      <th>perc3d</th>\n",
       "      <th>perc5d</th>\n",
       "    </tr>\n",
       "    <tr>\n",
       "      <th>code</th>\n",
       "      <th></th>\n",
       "      <th></th>\n",
       "      <th></th>\n",
       "      <th></th>\n",
       "      <th></th>\n",
       "      <th></th>\n",
       "      <th></th>\n",
       "      <th></th>\n",
       "      <th></th>\n",
       "      <th></th>\n",
       "      <th></th>\n",
       "    </tr>\n",
       "  </thead>\n",
       "  <tbody>\n",
       "    <tr>\n",
       "      <th>605169</th>\n",
       "      <td>洪通燃气</td>\n",
       "      <td>10.09</td>\n",
       "      <td>11</td>\n",
       "      <td>2025-05-23</td>\n",
       "      <td>16.91</td>\n",
       "      <td>12.69</td>\n",
       "      <td>10.55</td>\n",
       "      <td>39.50</td>\n",
       "      <td>10.28</td>\n",
       "      <td>17.3</td>\n",
       "      <td>1.3</td>\n",
       "    </tr>\n",
       "    <tr>\n",
       "      <th>603131</th>\n",
       "      <td>上海沪工</td>\n",
       "      <td>9.97</td>\n",
       "      <td>127</td>\n",
       "      <td>2025-05-23</td>\n",
       "      <td>21.62</td>\n",
       "      <td>18.73</td>\n",
       "      <td>17.17</td>\n",
       "      <td>39.09</td>\n",
       "      <td>16.41</td>\n",
       "      <td>1.3</td>\n",
       "      <td>0.1</td>\n",
       "    </tr>\n",
       "    <tr>\n",
       "      <th>300342</th>\n",
       "      <td>天银机电</td>\n",
       "      <td>3.00</td>\n",
       "      <td>119</td>\n",
       "      <td>2025-05-23</td>\n",
       "      <td>19.20</td>\n",
       "      <td>18.44</td>\n",
       "      <td>16.39</td>\n",
       "      <td>1.20</td>\n",
       "      <td>15.37</td>\n",
       "      <td>0.0</td>\n",
       "      <td>1.3</td>\n",
       "    </tr>\n",
       "  </tbody>\n",
       "</table>\n",
       "</div>"
      ],
      "text/plain": [
       "        name  percent  couts        date  close   hmax   lmin  perc1d   llow  \\\n",
       "code                                                                           \n",
       "605169  洪通燃气    10.09     11  2025-05-23  16.91  12.69  10.55   39.50  10.28   \n",
       "603131  上海沪工     9.97    127  2025-05-23  21.62  18.73  17.17   39.09  16.41   \n",
       "300342  天银机电     3.00    119  2025-05-23  19.20  18.44  16.39    1.20  15.37   \n",
       "\n",
       "        perc3d  perc5d  \n",
       "code                    \n",
       "605169    17.3     1.3  \n",
       "603131     1.3     0.1  \n",
       "300342     0.0     1.3  "
      ]
     },
     "execution_count": 28,
     "metadata": {},
     "output_type": "execute_result"
    }
   ],
   "source": [
    "for co in ['tm_code','tw_code','t3d_code','td_code']:\n",
    "    print(f'{co}:{len(eval(co))}')\n",
    "code_f=  list(set(tm_code.index) & set(tw_code.index) & set(t3d_code.index)  & set(td_code.index))\n",
    "# code_f=  list(set(tm_code.index) & set(tw_code.index) & set(td_code.index))\n",
    "code_f =td_code.loc[code_f].sort_values('percent', ascending=False).index.tolist()\n",
    "if len(code_f) > 0:\n",
    "    show_tdx_data(td_code.loc[code_f],limit=10)\n",
    "else:\n",
    "    print('no code')"
   ]
  },
  {
   "cell_type": "markdown",
   "id": "4971264f",
   "metadata": {
    "run_control": {
     "marked": true
    }
   },
   "source": [
    "#### check data"
   ]
  },
  {
   "cell_type": "code",
   "execution_count": 29,
   "id": "95ffd469",
   "metadata": {
    "ExecuteTime": {
     "end_time": "2025-06-23T05:41:19.586302Z",
     "start_time": "2025-06-23T05:41:19.560828Z"
    },
    "execution": {
     "iopub.execute_input": "2025-08-10T07:59:56.274237Z",
     "iopub.status.busy": "2025-08-10T07:59:56.274237Z",
     "iopub.status.idle": "2025-08-10T07:59:56.287200Z",
     "shell.execute_reply": "2025-08-10T07:59:56.286205Z",
     "shell.execute_reply.started": "2025-08-10T07:59:56.274237Z"
    },
    "tags": []
   },
   "outputs": [
    {
     "data": {
      "text/plain": [
       "False"
      ]
     },
     "execution_count": 29,
     "metadata": {},
     "output_type": "execute_result"
    },
    {
     "data": {
      "text/plain": [
       "3"
      ]
     },
     "execution_count": 29,
     "metadata": {},
     "output_type": "execute_result"
    }
   ],
   "source": [
    "'300998' in code_f\n",
    "code_check = [co for co in code_f if co in h5_3d.index]\n",
    "len(code_check)"
   ]
  },
  {
   "cell_type": "code",
   "execution_count": 30,
   "id": "39c1fcd2",
   "metadata": {
    "ExecuteTime": {
     "end_time": "2025-06-23T05:41:19.622226Z",
     "start_time": "2025-06-23T05:41:19.590029Z"
    },
    "execution": {
     "iopub.execute_input": "2025-08-10T07:59:56.289197Z",
     "iopub.status.busy": "2025-08-10T07:59:56.288199Z",
     "iopub.status.idle": "2025-08-10T07:59:56.318118Z",
     "shell.execute_reply": "2025-08-10T07:59:56.318118Z",
     "shell.execute_reply.started": "2025-08-10T07:59:56.289197Z"
    },
    "tags": []
   },
   "outputs": [
    {
     "name": "stdout",
     "output_type": "stream",
     "text": [
      "Count:3 220\n"
     ]
    },
    {
     "data": {
      "text/html": [
       "<div>\n",
       "<style scoped>\n",
       "    .dataframe tbody tr th:only-of-type {\n",
       "        vertical-align: middle;\n",
       "    }\n",
       "\n",
       "    .dataframe tbody tr th {\n",
       "        vertical-align: top;\n",
       "    }\n",
       "\n",
       "    .dataframe thead th {\n",
       "        text-align: right;\n",
       "    }\n",
       "</style>\n",
       "<table border=\"1\" class=\"dataframe\">\n",
       "  <thead>\n",
       "    <tr style=\"text-align: right;\">\n",
       "      <th></th>\n",
       "      <th>name</th>\n",
       "      <th>percent</th>\n",
       "      <th>couts</th>\n",
       "      <th>date</th>\n",
       "      <th>close</th>\n",
       "      <th>hmax</th>\n",
       "      <th>lmin</th>\n",
       "      <th>perc1d</th>\n",
       "      <th>llow</th>\n",
       "      <th>perc3d</th>\n",
       "      <th>perc5d</th>\n",
       "    </tr>\n",
       "    <tr>\n",
       "      <th>code</th>\n",
       "      <th></th>\n",
       "      <th></th>\n",
       "      <th></th>\n",
       "      <th></th>\n",
       "      <th></th>\n",
       "      <th></th>\n",
       "      <th></th>\n",
       "      <th></th>\n",
       "      <th></th>\n",
       "      <th></th>\n",
       "      <th></th>\n",
       "    </tr>\n",
       "  </thead>\n",
       "  <tbody>\n",
       "    <tr>\n",
       "      <th>605169</th>\n",
       "      <td>洪通燃气</td>\n",
       "      <td>10.09</td>\n",
       "      <td>11</td>\n",
       "      <td>2025-05-23</td>\n",
       "      <td>16.91</td>\n",
       "      <td>12.69</td>\n",
       "      <td>10.55</td>\n",
       "      <td>39.50</td>\n",
       "      <td>10.28</td>\n",
       "      <td>17.3</td>\n",
       "      <td>1.3</td>\n",
       "    </tr>\n",
       "    <tr>\n",
       "      <th>603131</th>\n",
       "      <td>上海沪工</td>\n",
       "      <td>9.97</td>\n",
       "      <td>127</td>\n",
       "      <td>2025-05-23</td>\n",
       "      <td>21.62</td>\n",
       "      <td>18.73</td>\n",
       "      <td>17.17</td>\n",
       "      <td>39.09</td>\n",
       "      <td>16.41</td>\n",
       "      <td>1.3</td>\n",
       "      <td>0.1</td>\n",
       "    </tr>\n",
       "    <tr>\n",
       "      <th>300342</th>\n",
       "      <td>天银机电</td>\n",
       "      <td>3.00</td>\n",
       "      <td>119</td>\n",
       "      <td>2025-05-23</td>\n",
       "      <td>19.20</td>\n",
       "      <td>18.44</td>\n",
       "      <td>16.39</td>\n",
       "      <td>1.20</td>\n",
       "      <td>15.37</td>\n",
       "      <td>0.0</td>\n",
       "      <td>1.3</td>\n",
       "    </tr>\n",
       "  </tbody>\n",
       "</table>\n",
       "</div>"
      ],
      "text/plain": [
       "        name  percent  couts        date  close   hmax   lmin  perc1d   llow  \\\n",
       "code                                                                           \n",
       "605169  洪通燃气    10.09     11  2025-05-23  16.91  12.69  10.55   39.50  10.28   \n",
       "603131  上海沪工     9.97    127  2025-05-23  21.62  18.73  17.17   39.09  16.41   \n",
       "300342  天银机电     3.00    119  2025-05-23  19.20  18.44  16.39    1.20  15.37   \n",
       "\n",
       "        perc3d  perc5d  \n",
       "code                    \n",
       "605169    17.3     1.3  \n",
       "603131     1.3     0.1  \n",
       "300342     0.0     1.3  "
      ]
     },
     "execution_count": 30,
     "metadata": {},
     "output_type": "execute_result"
    }
   ],
   "source": [
    "show_tdx_data(td_code.loc[code_f])"
   ]
  },
  {
   "cell_type": "markdown",
   "id": "b6e4f618-d3cb-43bb-b592-60e54a84aba5",
   "metadata": {},
   "source": [
    "### Write toblk"
   ]
  },
  {
   "cell_type": "code",
   "execution_count": 31,
   "id": "19ab69a9-1482-4b80-9fb6-20f751e8d885",
   "metadata": {
    "ExecuteTime": {
     "end_time": "2025-06-23T05:41:19.631978Z",
     "start_time": "2025-06-23T05:41:19.625668Z"
    },
    "execution": {
     "iopub.execute_input": "2025-08-10T07:59:56.320114Z",
     "iopub.status.busy": "2025-08-10T07:59:56.320114Z",
     "iopub.status.idle": "2025-08-10T07:59:56.334077Z",
     "shell.execute_reply": "2025-08-10T07:59:56.334077Z",
     "shell.execute_reply.started": "2025-08-10T07:59:56.320114Z"
    },
    "tags": []
   },
   "outputs": [],
   "source": [
    "# write_code_to_blk(code_f,'077',rewrite=False)"
   ]
  },
  {
   "cell_type": "code",
   "execution_count": null,
   "id": "1903b698-b6da-4396-bda3-61ceda41d88f",
   "metadata": {},
   "outputs": [],
   "source": []
  }
 ],
 "metadata": {
  "kernelspec": {
   "display_name": "python3.9",
   "language": "python",
   "name": "python3"
  },
  "language_info": {
   "codemirror_mode": {
    "name": "ipython",
    "version": 3
   },
   "file_extension": ".py",
   "mimetype": "text/x-python",
   "name": "python",
   "nbconvert_exporter": "python",
   "pygments_lexer": "ipython3",
   "version": "3.9.13"
  },
  "nbTranslate": {
   "displayLangs": [
    "zh-tw"
   ],
   "hotkey": "alt-t",
   "langInMainMenu": true,
   "sourceLang": "en",
   "targetLang": "zh-tw",
   "useGoogleTranslate": true
  },
  "toc": {
   "base_numbering": 1,
   "nav_menu": {},
   "number_sections": true,
   "sideBar": true,
   "skip_h1_title": false,
   "title_cell": "Table of Contents",
   "title_sidebar": "Contents",
   "toc_cell": false,
   "toc_position": {
    "height": "calc(100% - 180px)",
    "left": "10px",
    "top": "150px",
    "width": "190.467px"
   },
   "toc_section_display": true,
   "toc_window_display": true
  }
 },
 "nbformat": 4,
 "nbformat_minor": 5
}
