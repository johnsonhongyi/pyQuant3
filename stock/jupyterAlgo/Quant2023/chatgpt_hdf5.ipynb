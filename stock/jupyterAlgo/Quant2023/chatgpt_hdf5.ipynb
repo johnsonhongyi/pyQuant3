{
 "cells": [
  {
   "cell_type": "markdown",
   "id": "78d14d33-a2b2-46b7-b348-ef9d8039522e",
   "metadata": {},
   "source": [
    "# chatgpt test hdf5"
   ]
  },
  {
   "cell_type": "code",
   "execution_count": 8,
   "id": "5b12a937-3701-4588-8503-1d5de7a6da35",
   "metadata": {
    "execution": {
     "iopub.execute_input": "2025-09-15T13:31:23.505440Z",
     "iopub.status.busy": "2025-09-15T13:31:23.505440Z",
     "iopub.status.idle": "2025-09-15T13:31:23.527401Z",
     "shell.execute_reply": "2025-09-15T13:31:23.527401Z",
     "shell.execute_reply.started": "2025-09-15T13:31:23.505440Z"
    },
    "tags": []
   },
   "outputs": [],
   "source": [
    "import os\n",
    "import time\n",
    "import numpy as np\n",
    "import pandas as pd\n",
    "from pandas import HDFStore\n",
    "import logging\n",
    "\n",
    "log = logging.getLogger(__name__)\n",
    "# 假设 SafeHDFStore 已经定义好\n",
    "\n",
    "def load_hdf_db(\n",
    "    fname,\n",
    "    table=\"all\",\n",
    "    code_l=None,\n",
    "    timelimit=True,\n",
    "    index=False,\n",
    "    limit_time=300,\n",
    "    dratio_limit=0.5,\n",
    "    MultiIndex=False,\n",
    "    showtable=False,\n",
    "):\n",
    "    \"\"\"\n",
    "    精简版 HDF5 读取函数，路径处理跨平台\n",
    "    \"\"\"\n",
    "    t0 = time.time()\n",
    "    df, dd = None, None\n",
    "\n",
    "    if not os.path.exists(fname):\n",
    "        log.error(\"HDF5 file not found: %s\", fname)\n",
    "        return None\n",
    "\n",
    "    # 读取表\n",
    "    with SafeHDFStore(fname, mode=\"r\") as store:\n",
    "        if store is None:\n",
    "            return None\n",
    "        keys = list(store.keys())\n",
    "        if showtable:\n",
    "            print(f\"fname: {fname}, keys: {keys}\")\n",
    "\n",
    "        if \"/\" + table not in keys:\n",
    "            log.error(\"%s not found in %s\", table, fname)\n",
    "            return None\n",
    "\n",
    "        dd = store[table]\n",
    "\n",
    "    if dd is None or len(dd) == 0:\n",
    "        log.warning(\"Empty table %s in %s\", table, fname)\n",
    "        return None\n",
    "\n",
    "    # --- 按 code_l 过滤 ---\n",
    "    if code_l is not None:\n",
    "        if not MultiIndex:\n",
    "            if index:\n",
    "                code_l = [str(1000000 - int(x)) if x.startswith(\"0\") else x for x in code_l]\n",
    "            dif_co = list(set(dd.index) & set(code_l))\n",
    "\n",
    "            if len(code_l) > 0:\n",
    "                dratio = (len(code_l) - len(dif_co)) / float(len(code_l))\n",
    "            else:\n",
    "                dratio = 0.0\n",
    "\n",
    "            log.info(\"find all:%s missing:%s dratio:%.2f\",\n",
    "                     len(code_l), len(code_l) - len(dif_co), dratio)\n",
    "\n",
    "            # 时间限制\n",
    "            if timelimit and \"timel\" in dd.columns:\n",
    "                dd = dd.loc[dif_co]\n",
    "                o_time = [time.time() - t for t in dd[dd.timel != 0].timel.tolist()]\n",
    "                if len(o_time) > 0:\n",
    "                    l_time = np.mean(o_time)\n",
    "                    return_hdf_status = l_time < limit_time\n",
    "                    log.info(\"return_hdf_status:%s mean_time:%.2f limit:%.2f\",\n",
    "                             return_hdf_status, l_time, limit_time)\n",
    "                    if return_hdf_status:\n",
    "                        df = dd\n",
    "            else:\n",
    "                df = dd.loc[dif_co]\n",
    "\n",
    "            if dratio > dratio_limit:\n",
    "                log.warning(\"Too many codes missing: %.2f > %.2f\",\n",
    "                            dratio, dratio_limit)\n",
    "                return None\n",
    "        else:\n",
    "            # 多层索引\n",
    "            df = dd.loc[dd.index.isin(code_l, level=\"code\")]\n",
    "    else:\n",
    "        df = dd\n",
    "\n",
    "    # --- 统一清理 ---\n",
    "    if df is not None and len(df) > 0:\n",
    "        df = df.fillna(0)\n",
    "        df = df[~df.index.duplicated(keep=\"last\")]\n",
    "\n",
    "        # MultiIndex 去重逻辑\n",
    "        if MultiIndex and \"volume\" in df.columns:\n",
    "            count_before = len(df)\n",
    "            df = df.drop_duplicates()\n",
    "            dratio = len(df) / float(count_before)\n",
    "            log.debug(\"MultiIndex drop_duplicates: before=%d after=%d ratio=%.2f\",\n",
    "                      count_before, len(df), dratio)\n",
    "\n",
    "    log.info(\"load_hdf_time: %.2f sec\", time.time() - t0)\n",
    "    return df"
   ]
  },
  {
   "cell_type": "code",
   "execution_count": 11,
   "id": "03977e5e-4f3f-473e-b486-64026c713e62",
   "metadata": {
    "execution": {
     "iopub.execute_input": "2025-09-15T13:32:17.204065Z",
     "iopub.status.busy": "2025-09-15T13:32:17.204065Z",
     "iopub.status.idle": "2025-09-15T13:32:17.223050Z",
     "shell.execute_reply": "2025-09-15T13:32:17.223050Z",
     "shell.execute_reply.started": "2025-09-15T13:32:17.204065Z"
    },
    "tags": []
   },
   "outputs": [
    {
     "ename": "NameError",
     "evalue": "name 'SafeHDFStore' is not defined",
     "output_type": "error",
     "traceback": [
      "\u001b[1;31m---------------------------------------------------------------------------\u001b[0m",
      "\u001b[1;31mNameError\u001b[0m                                 Traceback (most recent call last)",
      "\u001b[1;32mG:\\Temp\\ipykernel_15024\\3175337975.py\u001b[0m in \u001b[0;36m<module>\u001b[1;34m\u001b[0m\n\u001b[0;32m     36\u001b[0m \u001b[1;33m\u001b[0m\u001b[0m\n\u001b[0;32m     37\u001b[0m \u001b[1;31m# 读取数据\u001b[0m\u001b[1;33m\u001b[0m\u001b[1;33m\u001b[0m\u001b[0m\n\u001b[1;32m---> 38\u001b[1;33m \u001b[0mdf\u001b[0m \u001b[1;33m=\u001b[0m \u001b[0mload_hdf_db\u001b[0m\u001b[1;33m(\u001b[0m\u001b[0mfname\u001b[0m\u001b[1;33m,\u001b[0m \u001b[0mtable\u001b[0m\u001b[1;33m=\u001b[0m\u001b[0mtable\u001b[0m\u001b[1;33m,\u001b[0m \u001b[0mMultiIndex\u001b[0m\u001b[1;33m=\u001b[0m\u001b[1;32mTrue\u001b[0m\u001b[1;33m)\u001b[0m\u001b[1;33m\u001b[0m\u001b[1;33m\u001b[0m\u001b[0m\n\u001b[0m\u001b[0;32m     39\u001b[0m \u001b[1;33m\u001b[0m\u001b[0m\n\u001b[0;32m     40\u001b[0m \u001b[0mfname_data_col\u001b[0m \u001b[1;33m=\u001b[0m \u001b[0mos\u001b[0m\u001b[1;33m.\u001b[0m\u001b[0mpath\u001b[0m\u001b[1;33m.\u001b[0m\u001b[0mjoin\u001b[0m\u001b[1;33m(\u001b[0m\u001b[0mbasedir\u001b[0m\u001b[1;33m,\u001b[0m \u001b[1;34m\"sina_MultiIndex_data_columns.h5\"\u001b[0m\u001b[1;33m)\u001b[0m\u001b[1;33m\u001b[0m\u001b[1;33m\u001b[0m\u001b[0m\n",
      "\u001b[1;32mG:\\Temp\\ipykernel_15024\\2136072822.py\u001b[0m in \u001b[0;36mload_hdf_db\u001b[1;34m(fname, table, code_l, timelimit, index, limit_time, dratio_limit, MultiIndex, showtable)\u001b[0m\n\u001b[0;32m     31\u001b[0m \u001b[1;33m\u001b[0m\u001b[0m\n\u001b[0;32m     32\u001b[0m     \u001b[1;31m# 读取表\u001b[0m\u001b[1;33m\u001b[0m\u001b[1;33m\u001b[0m\u001b[0m\n\u001b[1;32m---> 33\u001b[1;33m     \u001b[1;32mwith\u001b[0m \u001b[0mSafeHDFStore\u001b[0m\u001b[1;33m(\u001b[0m\u001b[0mfname\u001b[0m\u001b[1;33m,\u001b[0m \u001b[0mmode\u001b[0m\u001b[1;33m=\u001b[0m\u001b[1;34m\"r\"\u001b[0m\u001b[1;33m)\u001b[0m \u001b[1;32mas\u001b[0m \u001b[0mstore\u001b[0m\u001b[1;33m:\u001b[0m\u001b[1;33m\u001b[0m\u001b[1;33m\u001b[0m\u001b[0m\n\u001b[0m\u001b[0;32m     34\u001b[0m         \u001b[1;32mif\u001b[0m \u001b[0mstore\u001b[0m \u001b[1;32mis\u001b[0m \u001b[1;32mNone\u001b[0m\u001b[1;33m:\u001b[0m\u001b[1;33m\u001b[0m\u001b[1;33m\u001b[0m\u001b[0m\n\u001b[0;32m     35\u001b[0m             \u001b[1;32mreturn\u001b[0m \u001b[1;32mNone\u001b[0m\u001b[1;33m\u001b[0m\u001b[1;33m\u001b[0m\u001b[0m\n",
      "\u001b[1;31mNameError\u001b[0m: name 'SafeHDFStore' is not defined"
     ]
    }
   ],
   "source": [
    "\n",
    "def write_hdf_with_code(fname, table, df, index=True, complib='zlib', complevel=9):\n",
    "    \"\"\"\n",
    "    写入 HDF5 并把 code 加入 data_columns\n",
    "    \"\"\"\n",
    "    if df is None or len(df) == 0:\n",
    "        print(\"Empty DataFrame, skip write\")\n",
    "        return\n",
    "\n",
    "    # 如果是 MultiIndex，确保 code 是列\n",
    "    if isinstance(df.index, pd.MultiIndex) and 'code' in df.index.names:\n",
    "        df_reset = df.reset_index(level='code')\n",
    "    elif 'code' not in df.columns:\n",
    "        # 单索引，假设 index 是 code\n",
    "        df_reset = df.copy()\n",
    "        df_reset['code'] = df_reset.index\n",
    "    else:\n",
    "        df_reset = df.copy()\n",
    "\n",
    "    # 确保 code 在 data_columns\n",
    "    df_reset.to_hdf(\n",
    "        fname,\n",
    "        key=table,\n",
    "        mode='a',\n",
    "        format='table',          # table 格式才能用 data_columns\n",
    "        data_columns=['code'],   # 指定 code 可筛选\n",
    "        complevel=complevel,\n",
    "        complib=complib,\n",
    "        index=index\n",
    "    )\n",
    "    print(f\"Wrote table {table} to {fname}, rows: {len(df_reset)}\")\n",
    "\n",
    "# --- 示例 ---\n",
    "basedir = os.path.join(\"G:\",os.sep )\n",
    "fname = os.path.join(basedir, \"sina_MultiIndex_data.h5\")\n",
    "table = 'sina_MultiIndex'\n",
    "\n",
    "# 读取数据\n",
    "df = load_hdf_db(fname, table=table, MultiIndex=True)\n",
    "\n",
    "fname_data_col = os.path.join(basedir, \"sina_MultiIndex_data_columns.h5\") \n",
    "# 写入 HDF5，带 code data_column\n",
    "write_hdf_with_code(fname_data_col, table, df)\n"
   ]
  },
  {
   "cell_type": "code",
   "execution_count": 6,
   "id": "a3753a1f-3123-4ebf-adb8-deb68c02b196",
   "metadata": {
    "execution": {
     "iopub.execute_input": "2025-09-15T13:28:00.799605Z",
     "iopub.status.busy": "2025-09-15T13:28:00.799605Z",
     "iopub.status.idle": "2025-09-15T13:28:03.778636Z",
     "shell.execute_reply": "2025-09-15T13:28:03.777674Z",
     "shell.execute_reply.started": "2025-09-15T13:28:00.799605Z"
    },
    "tags": []
   },
   "outputs": [
    {
     "name": "stdout",
     "output_type": "stream",
     "text": [
      "[全表读取] rows: 2323059, time: 2.7696 s\n",
      "[全表筛选 code=002258] rows: 447, time: 0.1845 s\n"
     ]
    },
    {
     "ename": "OSError",
     "evalue": "``G:\\sina_MultiIndex_data_columns.h5`` does not exist",
     "output_type": "error",
     "traceback": [
      "\u001b[1;31m---------------------------------------------------------------------------\u001b[0m",
      "\u001b[1;31mOSError\u001b[0m                                   Traceback (most recent call last)",
      "\u001b[1;32mG:\\Temp\\ipykernel_15024\\4212397947.py\u001b[0m in \u001b[0;36m<module>\u001b[1;34m\u001b[0m\n\u001b[0;32m     35\u001b[0m \u001b[1;31m# -------- select 查询（data_columns） --------\u001b[0m\u001b[1;33m\u001b[0m\u001b[1;33m\u001b[0m\u001b[0m\n\u001b[0;32m     36\u001b[0m \u001b[0mt0\u001b[0m \u001b[1;33m=\u001b[0m \u001b[0mtime\u001b[0m\u001b[1;33m.\u001b[0m\u001b[0mtime\u001b[0m\u001b[1;33m(\u001b[0m\u001b[1;33m)\u001b[0m\u001b[1;33m\u001b[0m\u001b[1;33m\u001b[0m\u001b[0m\n\u001b[1;32m---> 37\u001b[1;33m \u001b[1;32mwith\u001b[0m \u001b[0mpd\u001b[0m\u001b[1;33m.\u001b[0m\u001b[0mHDFStore\u001b[0m\u001b[1;33m(\u001b[0m\u001b[0mfname_data_col\u001b[0m\u001b[1;33m,\u001b[0m \u001b[0mmode\u001b[0m\u001b[1;33m=\u001b[0m\u001b[1;34m\"r\"\u001b[0m\u001b[1;33m)\u001b[0m \u001b[1;32mas\u001b[0m \u001b[0mstore\u001b[0m\u001b[1;33m:\u001b[0m\u001b[1;33m\u001b[0m\u001b[1;33m\u001b[0m\u001b[0m\n\u001b[0m\u001b[0;32m     38\u001b[0m     \u001b[0mdf_select\u001b[0m \u001b[1;33m=\u001b[0m \u001b[0mstore\u001b[0m\u001b[1;33m.\u001b[0m\u001b[0mselect\u001b[0m\u001b[1;33m(\u001b[0m\u001b[0mtable\u001b[0m\u001b[1;33m,\u001b[0m \u001b[0mwhere\u001b[0m\u001b[1;33m=\u001b[0m\u001b[1;34mf'code=\"{test_code}\"'\u001b[0m\u001b[1;33m)\u001b[0m\u001b[1;33m\u001b[0m\u001b[1;33m\u001b[0m\u001b[0m\n\u001b[0;32m     39\u001b[0m \u001b[0mt1\u001b[0m \u001b[1;33m=\u001b[0m \u001b[0mtime\u001b[0m\u001b[1;33m.\u001b[0m\u001b[0mtime\u001b[0m\u001b[1;33m(\u001b[0m\u001b[1;33m)\u001b[0m\u001b[1;33m\u001b[0m\u001b[1;33m\u001b[0m\u001b[0m\n",
      "\u001b[1;32m~\\anaconda3\\lib\\site-packages\\pandas\\io\\pytables.py\u001b[0m in \u001b[0;36m__init__\u001b[1;34m(self, path, mode, complevel, complib, fletcher32, **kwargs)\u001b[0m\n\u001b[0;32m    589\u001b[0m         \u001b[0mself\u001b[0m\u001b[1;33m.\u001b[0m\u001b[0m_fletcher32\u001b[0m \u001b[1;33m=\u001b[0m \u001b[0mfletcher32\u001b[0m\u001b[1;33m\u001b[0m\u001b[1;33m\u001b[0m\u001b[0m\n\u001b[0;32m    590\u001b[0m         \u001b[0mself\u001b[0m\u001b[1;33m.\u001b[0m\u001b[0m_filters\u001b[0m \u001b[1;33m=\u001b[0m \u001b[1;32mNone\u001b[0m\u001b[1;33m\u001b[0m\u001b[1;33m\u001b[0m\u001b[0m\n\u001b[1;32m--> 591\u001b[1;33m         \u001b[0mself\u001b[0m\u001b[1;33m.\u001b[0m\u001b[0mopen\u001b[0m\u001b[1;33m(\u001b[0m\u001b[0mmode\u001b[0m\u001b[1;33m=\u001b[0m\u001b[0mmode\u001b[0m\u001b[1;33m,\u001b[0m \u001b[1;33m**\u001b[0m\u001b[0mkwargs\u001b[0m\u001b[1;33m)\u001b[0m\u001b[1;33m\u001b[0m\u001b[1;33m\u001b[0m\u001b[0m\n\u001b[0m\u001b[0;32m    592\u001b[0m \u001b[1;33m\u001b[0m\u001b[0m\n\u001b[0;32m    593\u001b[0m     \u001b[1;32mdef\u001b[0m \u001b[0m__fspath__\u001b[0m\u001b[1;33m(\u001b[0m\u001b[0mself\u001b[0m\u001b[1;33m)\u001b[0m\u001b[1;33m:\u001b[0m\u001b[1;33m\u001b[0m\u001b[1;33m\u001b[0m\u001b[0m\n",
      "\u001b[1;32m~\\anaconda3\\lib\\site-packages\\pandas\\io\\pytables.py\u001b[0m in \u001b[0;36mopen\u001b[1;34m(self, mode, **kwargs)\u001b[0m\n\u001b[0;32m    738\u001b[0m             \u001b[1;32mraise\u001b[0m \u001b[0mValueError\u001b[0m\u001b[1;33m(\u001b[0m\u001b[0mmsg\u001b[0m\u001b[1;33m)\u001b[0m\u001b[1;33m\u001b[0m\u001b[1;33m\u001b[0m\u001b[0m\n\u001b[0;32m    739\u001b[0m \u001b[1;33m\u001b[0m\u001b[0m\n\u001b[1;32m--> 740\u001b[1;33m         \u001b[0mself\u001b[0m\u001b[1;33m.\u001b[0m\u001b[0m_handle\u001b[0m \u001b[1;33m=\u001b[0m \u001b[0mtables\u001b[0m\u001b[1;33m.\u001b[0m\u001b[0mopen_file\u001b[0m\u001b[1;33m(\u001b[0m\u001b[0mself\u001b[0m\u001b[1;33m.\u001b[0m\u001b[0m_path\u001b[0m\u001b[1;33m,\u001b[0m \u001b[0mself\u001b[0m\u001b[1;33m.\u001b[0m\u001b[0m_mode\u001b[0m\u001b[1;33m,\u001b[0m \u001b[1;33m**\u001b[0m\u001b[0mkwargs\u001b[0m\u001b[1;33m)\u001b[0m\u001b[1;33m\u001b[0m\u001b[1;33m\u001b[0m\u001b[0m\n\u001b[0m\u001b[0;32m    741\u001b[0m \u001b[1;33m\u001b[0m\u001b[0m\n\u001b[0;32m    742\u001b[0m     \u001b[1;32mdef\u001b[0m \u001b[0mclose\u001b[0m\u001b[1;33m(\u001b[0m\u001b[0mself\u001b[0m\u001b[1;33m)\u001b[0m\u001b[1;33m:\u001b[0m\u001b[1;33m\u001b[0m\u001b[1;33m\u001b[0m\u001b[0m\n",
      "\u001b[1;32m~\\anaconda3\\lib\\site-packages\\tables\\file.py\u001b[0m in \u001b[0;36mopen_file\u001b[1;34m(filename, mode, title, root_uep, filters, **kwargs)\u001b[0m\n\u001b[0;32m    313\u001b[0m \u001b[1;33m\u001b[0m\u001b[0m\n\u001b[0;32m    314\u001b[0m     \u001b[1;31m# Finally, create the File instance, and return it\u001b[0m\u001b[1;33m\u001b[0m\u001b[1;33m\u001b[0m\u001b[0m\n\u001b[1;32m--> 315\u001b[1;33m     \u001b[1;32mreturn\u001b[0m \u001b[0mFile\u001b[0m\u001b[1;33m(\u001b[0m\u001b[0mfilename\u001b[0m\u001b[1;33m,\u001b[0m \u001b[0mmode\u001b[0m\u001b[1;33m,\u001b[0m \u001b[0mtitle\u001b[0m\u001b[1;33m,\u001b[0m \u001b[0mroot_uep\u001b[0m\u001b[1;33m,\u001b[0m \u001b[0mfilters\u001b[0m\u001b[1;33m,\u001b[0m \u001b[1;33m**\u001b[0m\u001b[0mkwargs\u001b[0m\u001b[1;33m)\u001b[0m\u001b[1;33m\u001b[0m\u001b[1;33m\u001b[0m\u001b[0m\n\u001b[0m\u001b[0;32m    316\u001b[0m \u001b[1;33m\u001b[0m\u001b[0m\n\u001b[0;32m    317\u001b[0m \u001b[1;33m\u001b[0m\u001b[0m\n",
      "\u001b[1;32m~\\anaconda3\\lib\\site-packages\\tables\\file.py\u001b[0m in \u001b[0;36m__init__\u001b[1;34m(self, filename, mode, title, root_uep, filters, **kwargs)\u001b[0m\n\u001b[0;32m    776\u001b[0m \u001b[1;33m\u001b[0m\u001b[0m\n\u001b[0;32m    777\u001b[0m         \u001b[1;31m# Now, it is time to initialize the File extension\u001b[0m\u001b[1;33m\u001b[0m\u001b[1;33m\u001b[0m\u001b[0m\n\u001b[1;32m--> 778\u001b[1;33m         \u001b[0mself\u001b[0m\u001b[1;33m.\u001b[0m\u001b[0m_g_new\u001b[0m\u001b[1;33m(\u001b[0m\u001b[0mfilename\u001b[0m\u001b[1;33m,\u001b[0m \u001b[0mmode\u001b[0m\u001b[1;33m,\u001b[0m \u001b[1;33m**\u001b[0m\u001b[0mparams\u001b[0m\u001b[1;33m)\u001b[0m\u001b[1;33m\u001b[0m\u001b[1;33m\u001b[0m\u001b[0m\n\u001b[0m\u001b[0;32m    779\u001b[0m \u001b[1;33m\u001b[0m\u001b[0m\n\u001b[0;32m    780\u001b[0m         \u001b[1;31m# Check filters and set PyTables format version for new files.\u001b[0m\u001b[1;33m\u001b[0m\u001b[1;33m\u001b[0m\u001b[0m\n",
      "\u001b[1;32mtables\\hdf5extension.pyx\u001b[0m in \u001b[0;36mtables.hdf5extension.File._g_new\u001b[1;34m()\u001b[0m\n",
      "\u001b[1;32m~\\anaconda3\\lib\\site-packages\\tables\\utils.py\u001b[0m in \u001b[0;36mcheck_file_access\u001b[1;34m(filename, mode)\u001b[0m\n\u001b[0;32m    152\u001b[0m         \u001b[1;31m# The file should be readable.\u001b[0m\u001b[1;33m\u001b[0m\u001b[1;33m\u001b[0m\u001b[0m\n\u001b[0;32m    153\u001b[0m         \u001b[1;32mif\u001b[0m \u001b[1;32mnot\u001b[0m \u001b[0mos\u001b[0m\u001b[1;33m.\u001b[0m\u001b[0maccess\u001b[0m\u001b[1;33m(\u001b[0m\u001b[0mfilename\u001b[0m\u001b[1;33m,\u001b[0m \u001b[0mos\u001b[0m\u001b[1;33m.\u001b[0m\u001b[0mF_OK\u001b[0m\u001b[1;33m)\u001b[0m\u001b[1;33m:\u001b[0m\u001b[1;33m\u001b[0m\u001b[1;33m\u001b[0m\u001b[0m\n\u001b[1;32m--> 154\u001b[1;33m             \u001b[1;32mraise\u001b[0m \u001b[0mIOError\u001b[0m\u001b[1;33m(\u001b[0m\u001b[1;34m\"``%s`` does not exist\"\u001b[0m \u001b[1;33m%\u001b[0m \u001b[1;33m(\u001b[0m\u001b[0mfilename\u001b[0m\u001b[1;33m,\u001b[0m\u001b[1;33m)\u001b[0m\u001b[1;33m)\u001b[0m\u001b[1;33m\u001b[0m\u001b[1;33m\u001b[0m\u001b[0m\n\u001b[0m\u001b[0;32m    155\u001b[0m         \u001b[1;32mif\u001b[0m \u001b[1;32mnot\u001b[0m \u001b[0mos\u001b[0m\u001b[1;33m.\u001b[0m\u001b[0mpath\u001b[0m\u001b[1;33m.\u001b[0m\u001b[0misfile\u001b[0m\u001b[1;33m(\u001b[0m\u001b[0mfilename\u001b[0m\u001b[1;33m)\u001b[0m\u001b[1;33m:\u001b[0m\u001b[1;33m\u001b[0m\u001b[1;33m\u001b[0m\u001b[0m\n\u001b[0;32m    156\u001b[0m             \u001b[1;32mraise\u001b[0m \u001b[0mIOError\u001b[0m\u001b[1;33m(\u001b[0m\u001b[1;34m\"``%s`` is not a regular file\"\u001b[0m \u001b[1;33m%\u001b[0m \u001b[1;33m(\u001b[0m\u001b[0mfilename\u001b[0m\u001b[1;33m,\u001b[0m\u001b[1;33m)\u001b[0m\u001b[1;33m)\u001b[0m\u001b[1;33m\u001b[0m\u001b[1;33m\u001b[0m\u001b[0m\n",
      "\u001b[1;31mOSError\u001b[0m: ``G:\\sina_MultiIndex_data_columns.h5`` does not exist"
     ]
    }
   ],
   "source": [
    "import pandas as pd\n",
    "import time\n",
    "import os\n",
    "\n",
    "basedir = \"G:\" + os.sep  # 或者 basedir = os.path.join(\"G:\", \"\")\n",
    "\n",
    "# config_ini = os.path.join(basedir, \"h5config.txt\")\n",
    "# temp_file = os.path.join(basedir, \"tmpfile.h5\")\n",
    "# 示例文件路径\n",
    "# fname = os.path.join(basedir, \"test.h5\")\n",
    "# table = \"all\"\n",
    "\n",
    "# MultiIndex 示例路径\n",
    "# multi_fname = os.path.join(basedir, \"sina_MultiIndex.h5\")\n",
    "\n",
    "fname_normal = os.path.join(basedir, \"sina_MultiIndex_data.h5\")             # 原始 HDF5\n",
    "fname_data_col = os.path.join(basedir, \"sina_MultiIndex_data_columns.h5\")  # 写入了 data_columns 的 HDF5\n",
    "table = \"all_30\"\n",
    "test_code = \"002258\"\n",
    "\n",
    "# -------- 全表读取 --------\n",
    "t0 = time.time()\n",
    "with pd.HDFStore(fname_normal, mode=\"r\") as store:\n",
    "    df_all = store[table]\n",
    "t1 = time.time()\n",
    "print(f\"[全表读取] rows: {len(df_all)}, time: {t1-t0:.4f} s\")\n",
    "\n",
    "# 筛选指定 code\n",
    "t0 = time.time()\n",
    "df_code = df_all.loc[df_all.index.get_level_values(\"code\") == test_code]\n",
    "t1 = time.time()\n",
    "print(f\"[全表筛选 code={test_code}] rows: {len(df_code)}, time: {t1-t0:.4f} s\")\n",
    "\n",
    "\n",
    "# -------- select 查询（data_columns） --------\n",
    "t0 = time.time()\n",
    "with pd.HDFStore(fname_data_col, mode=\"r\") as store:\n",
    "    df_select = store.select(table, where=f'code=\"{test_code}\"')\n",
    "t1 = time.time()\n",
    "print(f\"[select code={test_code}] rows: {len(df_select)}, time: {t1-t0:.4f} s\")\n"
   ]
  },
  {
   "cell_type": "code",
   "execution_count": 13,
   "id": "74d39af9-fc1b-4390-8290-18e78de9e94e",
   "metadata": {
    "execution": {
     "iopub.execute_input": "2025-09-15T13:44:37.558821Z",
     "iopub.status.busy": "2025-09-15T13:44:37.558821Z",
     "iopub.status.idle": "2025-09-15T13:44:37.578768Z",
     "shell.execute_reply": "2025-09-15T13:44:37.578768Z",
     "shell.execute_reply.started": "2025-09-15T13:44:37.558821Z"
    },
    "tags": []
   },
   "outputs": [
    {
     "name": "stdout",
     "output_type": "stream",
     "text": [
      "['code']\n"
     ]
    }
   ],
   "source": [
    "with pd.HDFStore(r\"G:\\sina_MultiIndex_data_columns.h5\") as store:\n",
    "    print(store.get_storer('all_30').data_columns)"
   ]
  }
 ],
 "metadata": {
  "kernelspec": {
   "display_name": "python3.9",
   "language": "python",
   "name": "python3"
  },
  "language_info": {
   "codemirror_mode": {
    "name": "ipython",
    "version": 3
   },
   "file_extension": ".py",
   "mimetype": "text/x-python",
   "name": "python",
   "nbconvert_exporter": "python",
   "pygments_lexer": "ipython3",
   "version": "3.9.13"
  }
 },
 "nbformat": 4,
 "nbformat_minor": 5
}
