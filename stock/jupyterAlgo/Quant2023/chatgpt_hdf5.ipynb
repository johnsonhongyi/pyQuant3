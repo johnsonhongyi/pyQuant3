{
 "cells": [
  {
   "cell_type": "markdown",
   "id": "78d14d33-a2b2-46b7-b348-ef9d8039522e",
   "metadata": {},
   "source": [
    "# chatgpt test hdf5"
   ]
  },
  {
   "cell_type": "code",
   "execution_count": 1,
   "id": "5b12a937-3701-4588-8503-1d5de7a6da35",
   "metadata": {
    "execution": {
     "iopub.execute_input": "2025-09-15T15:40:48.349893Z",
     "iopub.status.busy": "2025-09-15T15:40:48.349893Z",
     "iopub.status.idle": "2025-09-15T15:40:48.958265Z",
     "shell.execute_reply": "2025-09-15T15:40:48.957307Z",
     "shell.execute_reply.started": "2025-09-15T15:40:48.349893Z"
    },
    "tags": []
   },
   "outputs": [],
   "source": [
    "import os\n",
    "import time\n",
    "import numpy as np\n",
    "import pandas as pd\n",
    "from pandas import HDFStore\n",
    "import logging\n",
    "\n",
    "log = logging.getLogger(__name__)\n",
    "# 假设 SafeHDFStore 已经定义好\n",
    "\n",
    "def load_hdf_db(\n",
    "    fname,\n",
    "    table=\"all\",\n",
    "    code_l=None,\n",
    "    timelimit=True,\n",
    "    index=False,\n",
    "    limit_time=300,\n",
    "    dratio_limit=0.5,\n",
    "    MultiIndex=False,\n",
    "    showtable=False,\n",
    "):\n",
    "    \"\"\"\n",
    "    精简版 HDF5 读取函数，路径处理跨平台\n",
    "    \"\"\"\n",
    "    t0 = time.time()\n",
    "    df, dd = None, None\n",
    "\n",
    "    if not os.path.exists(fname):\n",
    "        log.error(\"HDF5 file not found: %s\", fname)\n",
    "        return None\n",
    "\n",
    "    # 读取表\n",
    "    with SafeHDFStore(fname, mode=\"r\") as store:\n",
    "        if store is None:\n",
    "            return None\n",
    "        keys = list(store.keys())\n",
    "        if showtable:\n",
    "            print(f\"fname: {fname}, keys: {keys}\")\n",
    "\n",
    "        if \"/\" + table not in keys:\n",
    "            log.error(\"%s not found in %s\", table, fname)\n",
    "            return None\n",
    "\n",
    "        dd = store[table]\n",
    "\n",
    "    if dd is None or len(dd) == 0:\n",
    "        log.warning(\"Empty table %s in %s\", table, fname)\n",
    "        return None\n",
    "\n",
    "    # --- 按 code_l 过滤 ---\n",
    "    if code_l is not None:\n",
    "        if not MultiIndex:\n",
    "            if index:\n",
    "                code_l = [str(1000000 - int(x)) if x.startswith(\"0\") else x for x in code_l]\n",
    "            dif_co = list(set(dd.index) & set(code_l))\n",
    "\n",
    "            if len(code_l) > 0:\n",
    "                dratio = (len(code_l) - len(dif_co)) / float(len(code_l))\n",
    "            else:\n",
    "                dratio = 0.0\n",
    "\n",
    "            log.info(\"find all:%s missing:%s dratio:%.2f\",\n",
    "                     len(code_l), len(code_l) - len(dif_co), dratio)\n",
    "\n",
    "            # 时间限制\n",
    "            if timelimit and \"timel\" in dd.columns:\n",
    "                dd = dd.loc[dif_co]\n",
    "                o_time = [time.time() - t for t in dd[dd.timel != 0].timel.tolist()]\n",
    "                if len(o_time) > 0:\n",
    "                    l_time = np.mean(o_time)\n",
    "                    return_hdf_status = l_time < limit_time\n",
    "                    log.info(\"return_hdf_status:%s mean_time:%.2f limit:%.2f\",\n",
    "                             return_hdf_status, l_time, limit_time)\n",
    "                    if return_hdf_status:\n",
    "                        df = dd\n",
    "            else:\n",
    "                df = dd.loc[dif_co]\n",
    "\n",
    "            if dratio > dratio_limit:\n",
    "                log.warning(\"Too many codes missing: %.2f > %.2f\",\n",
    "                            dratio, dratio_limit)\n",
    "                return None\n",
    "        else:\n",
    "            # 多层索引\n",
    "            df = dd.loc[dd.index.isin(code_l, level=\"code\")]\n",
    "    else:\n",
    "        df = dd\n",
    "\n",
    "    # --- 统一清理 ---\n",
    "    if df is not None and len(df) > 0:\n",
    "        df = df.fillna(0)\n",
    "        df = df[~df.index.duplicated(keep=\"last\")]\n",
    "\n",
    "        # MultiIndex 去重逻辑\n",
    "        if MultiIndex and \"volume\" in df.columns:\n",
    "            count_before = len(df)\n",
    "            df = df.drop_duplicates()\n",
    "            dratio = len(df) / float(count_before)\n",
    "            log.debug(\"MultiIndex drop_duplicates: before=%d after=%d ratio=%.2f\",\n",
    "                      count_before, len(df), dratio)\n",
    "\n",
    "    log.info(\"load_hdf_time: %.2f sec\", time.time() - t0)\n",
    "    return df"
   ]
  },
  {
   "cell_type": "code",
   "execution_count": 11,
   "id": "03977e5e-4f3f-473e-b486-64026c713e62",
   "metadata": {
    "execution": {
     "iopub.execute_input": "2025-09-15T13:32:17.204065Z",
     "iopub.status.busy": "2025-09-15T13:32:17.204065Z",
     "iopub.status.idle": "2025-09-15T13:32:17.223050Z",
     "shell.execute_reply": "2025-09-15T13:32:17.223050Z",
     "shell.execute_reply.started": "2025-09-15T13:32:17.204065Z"
    },
    "tags": []
   },
   "outputs": [
    {
     "name": "stderr",
     "output_type": "stream",
     "text": [
      "HDF5 file not found: G:\\sina_MultiIndex_data.h5\n"
     ]
    },
    {
     "name": "stdout",
     "output_type": "stream",
     "text": [
      "Empty DataFrame, skip write\n"
     ]
    }
   ],
   "source": [
    "\n",
    "def write_hdf_with_code(fname, table, df, index=True, complib='zlib', complevel=9):\n",
    "    \"\"\"\n",
    "    写入 HDF5 并把 code 加入 data_columns\n",
    "    \"\"\"\n",
    "    if df is None or len(df) == 0:\n",
    "        print(\"Empty DataFrame, skip write\")\n",
    "        return\n",
    "\n",
    "    # 如果是 MultiIndex，确保 code 是列\n",
    "    if isinstance(df.index, pd.MultiIndex) and 'code' in df.index.names:\n",
    "        df_reset = df.reset_index(level='code')\n",
    "    elif 'code' not in df.columns:\n",
    "        # 单索引，假设 index 是 code\n",
    "        df_reset = df.copy()\n",
    "        df_reset['code'] = df_reset.index\n",
    "    else:\n",
    "        df_reset = df.copy()\n",
    "\n",
    "    # 确保 code 在 data_columns\n",
    "    df_reset.to_hdf(\n",
    "        fname,\n",
    "        key=table,\n",
    "        mode='a',\n",
    "        format='table',          # table 格式才能用 data_columns\n",
    "        data_columns=['code'],   # 指定 code 可筛选\n",
    "        complevel=complevel,\n",
    "        complib=complib,\n",
    "        index=index\n",
    "    )\n",
    "    print(f\"Wrote table {table} to {fname}, rows: {len(df_reset)}\")\n",
    "\n",
    "# --- 示例 ---\n",
    "basedir = os.path.join(\"G:\",os.sep )\n",
    "fname = os.path.join(basedir, \"sina_MultiIndex_data.h5\")\n",
    "table = 'sina_MultiIndex'\n",
    "\n",
    "# 读取数据\n",
    "df = load_hdf_db(fname, table=table, MultiIndex=True)\n",
    "\n",
    "fname_data_col = os.path.join(basedir, \"sina_MultiIndex_data_columns.h5\") \n",
    "# 写入 HDF5，带 code data_column\n",
    "write_hdf_with_code(fname_data_col, table, df)\n"
   ]
  },
  {
   "cell_type": "code",
   "execution_count": 3,
   "id": "a3753a1f-3123-4ebf-adb8-deb68c02b196",
   "metadata": {
    "execution": {
     "iopub.execute_input": "2025-09-15T15:41:33.560971Z",
     "iopub.status.busy": "2025-09-15T15:41:33.559973Z",
     "iopub.status.idle": "2025-09-15T15:41:33.599867Z",
     "shell.execute_reply": "2025-09-15T15:41:33.597872Z",
     "shell.execute_reply.started": "2025-09-15T15:41:33.560971Z"
    },
    "tags": []
   },
   "outputs": [
    {
     "name": "stdout",
     "output_type": "stream",
     "text": [
      "[全表读取] rows: 5201, time: 0.0928 s\n"
     ]
    },
    {
     "ename": "KeyError",
     "evalue": "'Requested level (code) does not match index name (None)'",
     "output_type": "error",
     "traceback": [
      "\u001b[1;31m---------------------------------------------------------------------------\u001b[0m",
      "\u001b[1;31mKeyError\u001b[0m                                  Traceback (most recent call last)",
      "\u001b[1;32mG:\\Temp\\ipykernel_21124\\616492675.py\u001b[0m in \u001b[0;36m<module>\u001b[1;34m\u001b[0m\n\u001b[0;32m     35\u001b[0m \u001b[1;31m# 筛选指定 code\u001b[0m\u001b[1;33m\u001b[0m\u001b[1;33m\u001b[0m\u001b[0m\n\u001b[0;32m     36\u001b[0m \u001b[0mt0\u001b[0m \u001b[1;33m=\u001b[0m \u001b[0mtime\u001b[0m\u001b[1;33m.\u001b[0m\u001b[0mtime\u001b[0m\u001b[1;33m(\u001b[0m\u001b[1;33m)\u001b[0m\u001b[1;33m\u001b[0m\u001b[1;33m\u001b[0m\u001b[0m\n\u001b[1;32m---> 37\u001b[1;33m \u001b[0mdf_code\u001b[0m \u001b[1;33m=\u001b[0m \u001b[0mdf_all\u001b[0m\u001b[1;33m.\u001b[0m\u001b[0mloc\u001b[0m\u001b[1;33m[\u001b[0m\u001b[0mdf_all\u001b[0m\u001b[1;33m.\u001b[0m\u001b[0mindex\u001b[0m\u001b[1;33m.\u001b[0m\u001b[0mget_level_values\u001b[0m\u001b[1;33m(\u001b[0m\u001b[1;34m\"code\"\u001b[0m\u001b[1;33m)\u001b[0m \u001b[1;33m==\u001b[0m \u001b[0mtest_code\u001b[0m\u001b[1;33m]\u001b[0m\u001b[1;33m\u001b[0m\u001b[1;33m\u001b[0m\u001b[0m\n\u001b[0m\u001b[0;32m     38\u001b[0m \u001b[0mt1\u001b[0m \u001b[1;33m=\u001b[0m \u001b[0mtime\u001b[0m\u001b[1;33m.\u001b[0m\u001b[0mtime\u001b[0m\u001b[1;33m(\u001b[0m\u001b[1;33m)\u001b[0m\u001b[1;33m\u001b[0m\u001b[1;33m\u001b[0m\u001b[0m\n\u001b[0;32m     39\u001b[0m \u001b[0mprint\u001b[0m\u001b[1;33m(\u001b[0m\u001b[1;34mf\"[全表筛选 code={test_code}] rows: {len(df_code)}, time: {t1-t0:.4f} s\"\u001b[0m\u001b[1;33m)\u001b[0m\u001b[1;33m\u001b[0m\u001b[1;33m\u001b[0m\u001b[0m\n",
      "\u001b[1;32m~\\anaconda3\\lib\\site-packages\\pandas\\core\\indexes\\base.py\u001b[0m in \u001b[0;36m_get_level_values\u001b[1;34m(self, level)\u001b[0m\n\u001b[0;32m   2014\u001b[0m         \u001b[0mIndex\u001b[0m\u001b[1;33m(\u001b[0m\u001b[1;33m[\u001b[0m\u001b[1;34m'a'\u001b[0m\u001b[1;33m,\u001b[0m \u001b[1;34m'b'\u001b[0m\u001b[1;33m,\u001b[0m \u001b[1;34m'c'\u001b[0m\u001b[1;33m]\u001b[0m\u001b[1;33m,\u001b[0m \u001b[0mdtype\u001b[0m\u001b[1;33m=\u001b[0m\u001b[1;34m'object'\u001b[0m\u001b[1;33m)\u001b[0m\u001b[1;33m\u001b[0m\u001b[1;33m\u001b[0m\u001b[0m\n\u001b[0;32m   2015\u001b[0m         \"\"\"\n\u001b[1;32m-> 2016\u001b[1;33m         \u001b[0mself\u001b[0m\u001b[1;33m.\u001b[0m\u001b[0m_validate_index_level\u001b[0m\u001b[1;33m(\u001b[0m\u001b[0mlevel\u001b[0m\u001b[1;33m)\u001b[0m\u001b[1;33m\u001b[0m\u001b[1;33m\u001b[0m\u001b[0m\n\u001b[0m\u001b[0;32m   2017\u001b[0m         \u001b[1;32mreturn\u001b[0m \u001b[0mself\u001b[0m\u001b[1;33m\u001b[0m\u001b[1;33m\u001b[0m\u001b[0m\n\u001b[0;32m   2018\u001b[0m \u001b[1;33m\u001b[0m\u001b[0m\n",
      "\u001b[1;32m~\\anaconda3\\lib\\site-packages\\pandas\\core\\indexes\\base.py\u001b[0m in \u001b[0;36m_validate_index_level\u001b[1;34m(self, level)\u001b[0m\n\u001b[0;32m   1937\u001b[0m                 )\n\u001b[0;32m   1938\u001b[0m         \u001b[1;32melif\u001b[0m \u001b[0mlevel\u001b[0m \u001b[1;33m!=\u001b[0m \u001b[0mself\u001b[0m\u001b[1;33m.\u001b[0m\u001b[0mname\u001b[0m\u001b[1;33m:\u001b[0m\u001b[1;33m\u001b[0m\u001b[1;33m\u001b[0m\u001b[0m\n\u001b[1;32m-> 1939\u001b[1;33m             raise KeyError(\n\u001b[0m\u001b[0;32m   1940\u001b[0m                 \u001b[1;34mf\"Requested level ({level}) does not match index name ({self.name})\"\u001b[0m\u001b[1;33m\u001b[0m\u001b[1;33m\u001b[0m\u001b[0m\n\u001b[0;32m   1941\u001b[0m             )\n",
      "\u001b[1;31mKeyError\u001b[0m: 'Requested level (code) does not match index name (None)'"
     ]
    }
   ],
   "source": [
    "import pandas as pd\n",
    "import time\n",
    "import os\n",
    "\n",
    "basedir = \"G:\" + os.sep  # 或者 basedir = os.path.join(\"G:\", \"\")\n",
    "\n",
    "# config_ini = os.path.join(basedir, \"h5config.txt\")\n",
    "# temp_file = os.path.join(basedir, \"tmpfile.h5\")\n",
    "# 示例文件路径\n",
    "# fname = os.path.join(basedir, \"test.h5\")\n",
    "# table = \"all\"\n",
    "\n",
    "# MultiIndex 示例路径\n",
    "# multi_fname = os.path.join(basedir, \"sina_MultiIndex.h5\")\n",
    "\n",
    "fname_normal = os.path.join(basedir, \"sina_MultiIndex_data.h5\")             # 原始 HDF5\n",
    "fname_data_col = os.path.join(basedir, \"sina_MultiIndex_data_columns.h5\")  # 写入了 data_columns 的 HDF5\n",
    "table = \"all\"\n",
    "test_code = \"002258\"\n",
    "\n",
    "\n",
    "fname_normal = os.path.join(basedir, \"sina_data.h5\")             # 原始 HDF5\n",
    "fname_data_col = os.path.join(basedir, \"sina_data_columns.h5\")  # 写入了 data_columns 的 HDF5\n",
    "# table = \"all_30\"\n",
    "table = \"all\"\n",
    "\n",
    "test_code = \"002258\"\n",
    "# -------- 全表读取 --------\n",
    "t0 = time.time()\n",
    "with pd.HDFStore(fname_normal, mode=\"r\") as store:\n",
    "    df_all = store[table]\n",
    "t1 = time.time()\n",
    "print(f\"[全表读取] rows: {len(df_all)}, time: {t1-t0:.4f} s\")\n",
    "\n",
    "# 筛选指定 code\n",
    "t0 = time.time()\n",
    "df_code = df_all.loc[df_all.index.get_level_values(\"code\") == test_code]\n",
    "t1 = time.time()\n",
    "print(f\"[全表筛选 code={test_code}] rows: {len(df_code)}, time: {t1-t0:.4f} s\")\n",
    "\n",
    "\n",
    "# -------- select 查询（data_columns） --------\n",
    "t0 = time.time()\n",
    "with pd.HDFStore(fname_data_col, mode=\"r\") as store:\n",
    "    df_select = store.select(table, where=f'code=\"{test_code}\"')\n",
    "t1 = time.time()\n",
    "print(f\"[select code={test_code}] rows: {len(df_select)}, time: {t1-t0:.4f} s\")\n"
   ]
  },
  {
   "cell_type": "code",
   "execution_count": 15,
   "id": "748d4b3a-baa4-4b74-bb7c-d1e670d7b867",
   "metadata": {
    "execution": {
     "iopub.execute_input": "2025-09-15T16:07:51.898585Z",
     "iopub.status.busy": "2025-09-15T16:07:51.897586Z",
     "iopub.status.idle": "2025-09-15T16:07:51.914539Z",
     "shell.execute_reply": "2025-09-15T16:07:51.913542Z",
     "shell.execute_reply.started": "2025-09-15T16:07:51.897586Z"
    },
    "tags": []
   },
   "outputs": [],
   "source": [
    " dd = df_all.loc[test_code]"
   ]
  },
  {
   "cell_type": "code",
   "execution_count": 13,
   "id": "74d39af9-fc1b-4390-8290-18e78de9e94e",
   "metadata": {
    "execution": {
     "iopub.execute_input": "2025-09-15T13:44:37.558821Z",
     "iopub.status.busy": "2025-09-15T13:44:37.558821Z",
     "iopub.status.idle": "2025-09-15T13:44:37.578768Z",
     "shell.execute_reply": "2025-09-15T13:44:37.578768Z",
     "shell.execute_reply.started": "2025-09-15T13:44:37.558821Z"
    },
    "tags": []
   },
   "outputs": [
    {
     "name": "stdout",
     "output_type": "stream",
     "text": [
      "['code']\n"
     ]
    }
   ],
   "source": [
    "# with pd.HDFStore(r\"G:\\sina_MultiIndex_data_columns.h5\") as store:\n",
    "    # print(store.get_storer('all_30').data_columns"
   ]
  },
  {
   "cell_type": "code",
   "execution_count": 17,
   "id": "2ef2136a-8e2c-4a25-8d0d-421119ab1326",
   "metadata": {
    "execution": {
     "iopub.execute_input": "2025-09-15T16:08:36.560380Z",
     "iopub.status.busy": "2025-09-15T16:08:36.560380Z",
     "iopub.status.idle": "2025-09-15T16:08:36.580368Z",
     "shell.execute_reply": "2025-09-15T16:08:36.580368Z",
     "shell.execute_reply.started": "2025-09-15T16:08:36.560380Z"
    },
    "tags": []
   },
   "outputs": [
    {
     "data": {
      "text/plain": [
       "-2.3"
      ]
     },
     "execution_count": 17,
     "metadata": {},
     "output_type": "execute_result"
    }
   ],
   "source": [
    "round((dd.close - dd.llastp) / dd.llastp *100,1)"
   ]
  },
  {
   "cell_type": "code",
   "execution_count": 26,
   "id": "fb8210dd-2f39-42e4-977b-f6e5024d2935",
   "metadata": {
    "execution": {
     "iopub.execute_input": "2025-09-15T16:12:24.970791Z",
     "iopub.status.busy": "2025-09-15T16:12:24.970791Z",
     "iopub.status.idle": "2025-09-15T16:12:24.984754Z",
     "shell.execute_reply": "2025-09-15T16:12:24.983794Z",
     "shell.execute_reply.started": "2025-09-15T16:12:24.970791Z"
    },
    "tags": []
   },
   "outputs": [
    {
     "data": {
      "text/plain": [
       "(1.6,\n",
       " name               利尔化学\n",
       " open              12.45\n",
       " llastp            12.51\n",
       " now               12.22\n",
       " trade               0.0\n",
       " high              12.49\n",
       " low               12.17\n",
       " buy               12.21\n",
       " sell              12.22\n",
       " volume         13458640\n",
       " turnover    164729444.2\n",
       " b1_v              84100\n",
       " b1                12.21\n",
       " b2_v             127000\n",
       " b2                 12.2\n",
       " b3_v             121800\n",
       " b3                12.19\n",
       " b4_v             216900\n",
       " b4                12.18\n",
       " b5_v             143920\n",
       " b5                12.17\n",
       " a1_v              23700\n",
       " a1                12.22\n",
       " a2_v              23100\n",
       " a2                12.23\n",
       " a3_v              18300\n",
       " a3                12.24\n",
       " a4_v              80500\n",
       " a4                12.25\n",
       " a5_v              13700\n",
       " a5                12.26\n",
       " dt           2025-09-15\n",
       " ticktime       15:00:00\n",
       " b1_vv                 0\n",
       " close             12.22\n",
       " nvol           13458640\n",
       " code             002258\n",
       " Name: 002258, dtype: object)"
      ]
     },
     "execution_count": 26,
     "metadata": {},
     "output_type": "execute_result"
    }
   ],
   "source": [
    "round(dd.turnover/100/10000/100,1),dd"
   ]
  },
  {
   "cell_type": "code",
   "execution_count": 42,
   "id": "e8f8d882-bf0d-475e-9a0d-fbae21bb3d82",
   "metadata": {
    "execution": {
     "iopub.execute_input": "2025-09-15T16:35:23.028322Z",
     "iopub.status.busy": "2025-09-15T16:35:23.027325Z",
     "iopub.status.idle": "2025-09-15T16:35:23.050264Z",
     "shell.execute_reply": "2025-09-15T16:35:23.050264Z",
     "shell.execute_reply.started": "2025-09-15T16:35:23.028322Z"
    },
    "tags": []
   },
   "outputs": [
    {
     "name": "stdout",
     "output_type": "stream",
     "text": [
      "603768 603768 12.8 12.8 常青股份 name              常青股份\n",
      "open              12.8\n",
      "llastp            12.8\n",
      "now               12.8\n",
      "trade              0.0\n",
      "high             13.03\n",
      "low              12.78\n",
      "buy               12.8\n",
      "sell             12.81\n",
      "volume         3045600\n",
      "turnover    39205795.0\n",
      "b1_v               400\n",
      "b1                12.8\n",
      "b2_v              7700\n",
      "b2               12.79\n",
      "b3_v              4900\n",
      "b3               12.78\n",
      "b4_v              1100\n",
      "b4               12.77\n",
      "b5_v              1600\n",
      "b5               12.76\n",
      "a1_v               200\n",
      "a1               12.81\n",
      "a2_v              2500\n",
      "a2               12.83\n",
      "a3_v               100\n",
      "a3               12.84\n",
      "a4_v              4500\n",
      "a4               12.85\n",
      "a5_v              4500\n",
      "a5               12.86\n",
      "dt          2025-09-15\n",
      "ticktime      15:00:02\n",
      "b1_vv                0\n",
      "close             12.8\n",
      "nvol           3045600\n",
      "code            603768\n",
      "Name: 603768, dtype: object\n"
     ]
    }
   ],
   "source": [
    "for code, row in df_all.iterrows():\n",
    "    print(code,row.name,row.close,row.llastp,row['name'],row)\n",
    "    break"
   ]
  },
  {
   "cell_type": "code",
   "execution_count": 5,
   "id": "25166b60-a782-4f1a-8afe-b0ace88c34bb",
   "metadata": {
    "execution": {
     "iopub.execute_input": "2025-09-16T08:13:16.231941Z",
     "iopub.status.busy": "2025-09-16T08:13:16.230944Z",
     "iopub.status.idle": "2025-09-16T08:13:16.263858Z",
     "shell.execute_reply": "2025-09-16T08:13:16.262860Z",
     "shell.execute_reply.started": "2025-09-16T08:13:16.231941Z"
    }
   },
   "outputs": [
    {
     "ename": "TypeError",
     "evalue": "Accessing a group is done with bytes or str,  not <class 'slice'>",
     "output_type": "error",
     "traceback": [
      "\u001b[1;31m---------------------------------------------------------------------------\u001b[0m",
      "\u001b[1;31mTypeError\u001b[0m                                 Traceback (most recent call last)",
      "\u001b[1;32mG:\\Temp\\ipykernel_22232\\4230606335.py\u001b[0m in \u001b[0;36m<module>\u001b[1;34m\u001b[0m\n\u001b[0;32m     27\u001b[0m \u001b[1;33m\u001b[0m\u001b[0m\n\u001b[0;32m     28\u001b[0m \u001b[0mfname\u001b[0m \u001b[1;33m=\u001b[0m \u001b[1;34mr'G:\\sina_data.h5'\u001b[0m\u001b[1;33m\u001b[0m\u001b[1;33m\u001b[0m\u001b[0m\n\u001b[1;32m---> 29\u001b[1;33m \u001b[0mdf\u001b[0m \u001b[1;33m=\u001b[0m \u001b[0mread_hdf_h5py\u001b[0m\u001b[1;33m(\u001b[0m\u001b[0mfname\u001b[0m\u001b[1;33m,\u001b[0m \u001b[0mtable\u001b[0m\u001b[1;33m=\u001b[0m\u001b[1;34m'all'\u001b[0m\u001b[1;33m)\u001b[0m\u001b[1;33m\u001b[0m\u001b[1;33m\u001b[0m\u001b[0m\n\u001b[0m\u001b[0;32m     30\u001b[0m \u001b[0mprint\u001b[0m\u001b[1;33m(\u001b[0m\u001b[0mdf\u001b[0m\u001b[1;33m.\u001b[0m\u001b[0mshape\u001b[0m\u001b[1;33m)\u001b[0m\u001b[1;33m\u001b[0m\u001b[1;33m\u001b[0m\u001b[0m\n\u001b[0;32m     31\u001b[0m \u001b[0mprint\u001b[0m\u001b[1;33m(\u001b[0m\u001b[0mdf\u001b[0m\u001b[1;33m.\u001b[0m\u001b[0mhead\u001b[0m\u001b[1;33m(\u001b[0m\u001b[1;33m)\u001b[0m\u001b[1;33m)\u001b[0m\u001b[1;33m\u001b[0m\u001b[1;33m\u001b[0m\u001b[0m\n",
      "\u001b[1;32mG:\\Temp\\ipykernel_22232\\4230606335.py\u001b[0m in \u001b[0;36mread_hdf_h5py\u001b[1;34m(fname, table)\u001b[0m\n\u001b[0;32m     15\u001b[0m             \u001b[0mdata_dict\u001b[0m \u001b[1;33m=\u001b[0m \u001b[1;33m{\u001b[0m\u001b[1;33m}\u001b[0m\u001b[1;33m\u001b[0m\u001b[1;33m\u001b[0m\u001b[0m\n\u001b[0;32m     16\u001b[0m             \u001b[1;32mfor\u001b[0m \u001b[0mkey\u001b[0m \u001b[1;32min\u001b[0m \u001b[0mobj\u001b[0m\u001b[1;33m.\u001b[0m\u001b[0mkeys\u001b[0m\u001b[1;33m(\u001b[0m\u001b[1;33m)\u001b[0m\u001b[1;33m:\u001b[0m\u001b[1;33m\u001b[0m\u001b[1;33m\u001b[0m\u001b[0m\n\u001b[1;32m---> 17\u001b[1;33m                 \u001b[0mdata_dict\u001b[0m\u001b[1;33m[\u001b[0m\u001b[0mkey\u001b[0m\u001b[1;33m]\u001b[0m \u001b[1;33m=\u001b[0m \u001b[0mobj\u001b[0m\u001b[1;33m[\u001b[0m\u001b[0mkey\u001b[0m\u001b[1;33m]\u001b[0m\u001b[1;33m[\u001b[0m\u001b[1;33m:\u001b[0m\u001b[1;33m]\u001b[0m\u001b[1;33m\u001b[0m\u001b[1;33m\u001b[0m\u001b[0m\n\u001b[0m\u001b[0;32m     18\u001b[0m             \u001b[0mdf\u001b[0m \u001b[1;33m=\u001b[0m \u001b[0mpd\u001b[0m\u001b[1;33m.\u001b[0m\u001b[0mDataFrame\u001b[0m\u001b[1;33m(\u001b[0m\u001b[0mdata_dict\u001b[0m\u001b[1;33m)\u001b[0m\u001b[1;33m\u001b[0m\u001b[1;33m\u001b[0m\u001b[0m\n\u001b[0;32m     19\u001b[0m         \u001b[1;32melse\u001b[0m\u001b[1;33m:\u001b[0m\u001b[1;33m\u001b[0m\u001b[1;33m\u001b[0m\u001b[0m\n",
      "\u001b[1;32mh5py\\_objects.pyx\u001b[0m in \u001b[0;36mh5py._objects.with_phil.wrapper\u001b[1;34m()\u001b[0m\n",
      "\u001b[1;32mh5py\\_objects.pyx\u001b[0m in \u001b[0;36mh5py._objects.with_phil.wrapper\u001b[1;34m()\u001b[0m\n",
      "\u001b[1;32m~\\anaconda3\\lib\\site-packages\\h5py\\_hl\\group.py\u001b[0m in \u001b[0;36m__getitem__\u001b[1;34m(self, name)\u001b[0m\n\u001b[0;32m    328\u001b[0m             \u001b[0moid\u001b[0m \u001b[1;33m=\u001b[0m \u001b[0mh5o\u001b[0m\u001b[1;33m.\u001b[0m\u001b[0mopen\u001b[0m\u001b[1;33m(\u001b[0m\u001b[0mself\u001b[0m\u001b[1;33m.\u001b[0m\u001b[0mid\u001b[0m\u001b[1;33m,\u001b[0m \u001b[0mself\u001b[0m\u001b[1;33m.\u001b[0m\u001b[0m_e\u001b[0m\u001b[1;33m(\u001b[0m\u001b[0mname\u001b[0m\u001b[1;33m)\u001b[0m\u001b[1;33m,\u001b[0m \u001b[0mlapl\u001b[0m\u001b[1;33m=\u001b[0m\u001b[0mself\u001b[0m\u001b[1;33m.\u001b[0m\u001b[0m_lapl\u001b[0m\u001b[1;33m)\u001b[0m\u001b[1;33m\u001b[0m\u001b[1;33m\u001b[0m\u001b[0m\n\u001b[0;32m    329\u001b[0m         \u001b[1;32melse\u001b[0m\u001b[1;33m:\u001b[0m\u001b[1;33m\u001b[0m\u001b[1;33m\u001b[0m\u001b[0m\n\u001b[1;32m--> 330\u001b[1;33m             raise TypeError(\"Accessing a group is done with bytes or str, \"\n\u001b[0m\u001b[0;32m    331\u001b[0m                             \" not {}\".format(type(name)))\n\u001b[0;32m    332\u001b[0m \u001b[1;33m\u001b[0m\u001b[0m\n",
      "\u001b[1;31mTypeError\u001b[0m: Accessing a group is done with bytes or str,  not <class 'slice'>"
     ]
    }
   ],
   "source": [
    "import h5py\n",
    "import pandas as pd\n",
    "\n",
    "def read_hdf_h5py(fname, table='all'):\n",
    "    with h5py.File(fname, 'r') as f:\n",
    "        if table not in f:\n",
    "            raise KeyError(f\"Table '{table}' not found in {fname}\")\n",
    "\n",
    "        obj = f[table]\n",
    "\n",
    "        # 如果是 group，尝试遍历 fields\n",
    "        if isinstance(obj, h5py.Group):\n",
    "            # PyTables Table 通常存储在 'data' 或 'table' 下\n",
    "            # 这里直接尝试按字段读取\n",
    "            data_dict = {}\n",
    "            for key in obj.keys():\n",
    "                data_dict[key] = obj[key][:]\n",
    "            df = pd.DataFrame(data_dict)\n",
    "        else:\n",
    "            # 普通 dataset\n",
    "            data = obj[:]\n",
    "            if hasattr(data, 'dtype') and data.dtype.names is not None:\n",
    "                df = pd.DataFrame.from_records(data)\n",
    "            else:\n",
    "                df = pd.DataFrame(data)\n",
    "    return df\n",
    "\n",
    "fname = r'G:\\sina_data.h5'\n",
    "df = read_hdf_h5py(fname, table='all')\n",
    "print(df.shape)\n",
    "print(df.head())\n"
   ]
  },
  {
   "cell_type": "code",
   "execution_count": 8,
   "id": "7dc3a5d6-415b-49e2-9430-1a0ff904f236",
   "metadata": {
    "execution": {
     "iopub.execute_input": "2025-09-16T08:15:02.455487Z",
     "iopub.status.busy": "2025-09-16T08:15:02.454490Z",
     "iopub.status.idle": "2025-09-16T08:15:02.488398Z",
     "shell.execute_reply": "2025-09-16T08:15:02.487402Z",
     "shell.execute_reply.started": "2025-09-16T08:15:02.455487Z"
    },
    "tags": []
   },
   "outputs": [
    {
     "name": "stdout",
     "output_type": "stream",
     "text": [
      "dset: <HDF5 group \"/all\" (2 members)>\n",
      "list(dset.keys()): ['_i_table', 'table']\n"
     ]
    },
    {
     "ename": "TypeError",
     "evalue": "Accessing a group is done with bytes or str,  not <class 'slice'>",
     "output_type": "error",
     "traceback": [
      "\u001b[1;31m---------------------------------------------------------------------------\u001b[0m",
      "\u001b[1;31mTypeError\u001b[0m                                 Traceback (most recent call last)",
      "\u001b[1;32mG:\\Temp\\ipykernel_22232\\4125087717.py\u001b[0m in \u001b[0;36m<module>\u001b[1;34m\u001b[0m\n\u001b[0;32m     28\u001b[0m \u001b[1;31m# 使用示例\u001b[0m\u001b[1;33m\u001b[0m\u001b[1;33m\u001b[0m\u001b[0m\n\u001b[0;32m     29\u001b[0m \u001b[0mfname\u001b[0m \u001b[1;33m=\u001b[0m \u001b[1;34mr'G:\\sina_data.h5'\u001b[0m\u001b[1;33m\u001b[0m\u001b[1;33m\u001b[0m\u001b[0m\n\u001b[1;32m---> 30\u001b[1;33m \u001b[0mdf\u001b[0m \u001b[1;33m=\u001b[0m \u001b[0mread_hdf_h5py\u001b[0m\u001b[1;33m(\u001b[0m\u001b[0mfname\u001b[0m\u001b[1;33m,\u001b[0m \u001b[0mtable\u001b[0m\u001b[1;33m=\u001b[0m\u001b[1;34m'all'\u001b[0m\u001b[1;33m)\u001b[0m\u001b[1;33m\u001b[0m\u001b[1;33m\u001b[0m\u001b[0m\n\u001b[0m\u001b[0;32m     31\u001b[0m \u001b[0mprint\u001b[0m\u001b[1;33m(\u001b[0m\u001b[0mdf\u001b[0m\u001b[1;33m.\u001b[0m\u001b[0mshape\u001b[0m\u001b[1;33m)\u001b[0m\u001b[1;33m\u001b[0m\u001b[1;33m\u001b[0m\u001b[0m\n\u001b[0;32m     32\u001b[0m \u001b[0mprint\u001b[0m\u001b[1;33m(\u001b[0m\u001b[0mdf\u001b[0m\u001b[1;33m.\u001b[0m\u001b[0mhead\u001b[0m\u001b[1;33m(\u001b[0m\u001b[1;33m)\u001b[0m\u001b[1;33m)\u001b[0m\u001b[1;33m\u001b[0m\u001b[1;33m\u001b[0m\u001b[0m\n",
      "\u001b[1;32mG:\\Temp\\ipykernel_22232\\4125087717.py\u001b[0m in \u001b[0;36mread_hdf_h5py\u001b[1;34m(fname, table)\u001b[0m\n\u001b[0;32m     18\u001b[0m         \u001b[0mprint\u001b[0m\u001b[1;33m(\u001b[0m\u001b[1;34m'dset:'\u001b[0m\u001b[1;33m,\u001b[0m\u001b[0mdset\u001b[0m\u001b[1;33m)\u001b[0m\u001b[1;33m\u001b[0m\u001b[1;33m\u001b[0m\u001b[0m\n\u001b[0;32m     19\u001b[0m         \u001b[0mprint\u001b[0m\u001b[1;33m(\u001b[0m\u001b[1;34mf'list(dset.keys()): {list(dset.keys())}'\u001b[0m\u001b[1;33m)\u001b[0m\u001b[1;33m\u001b[0m\u001b[1;33m\u001b[0m\u001b[0m\n\u001b[1;32m---> 20\u001b[1;33m         \u001b[0mdata\u001b[0m \u001b[1;33m=\u001b[0m \u001b[0mdset\u001b[0m\u001b[1;33m[\u001b[0m\u001b[1;33m:\u001b[0m\u001b[1;33m]\u001b[0m\u001b[1;33m\u001b[0m\u001b[1;33m\u001b[0m\u001b[0m\n\u001b[0m\u001b[0;32m     21\u001b[0m         \u001b[1;32mif\u001b[0m \u001b[0mhasattr\u001b[0m\u001b[1;33m(\u001b[0m\u001b[0mdata\u001b[0m\u001b[1;33m,\u001b[0m \u001b[1;34m'dtype'\u001b[0m\u001b[1;33m)\u001b[0m \u001b[1;32mand\u001b[0m \u001b[0mdata\u001b[0m\u001b[1;33m.\u001b[0m\u001b[0mdtype\u001b[0m\u001b[1;33m.\u001b[0m\u001b[0mnames\u001b[0m \u001b[1;32mis\u001b[0m \u001b[1;32mnot\u001b[0m \u001b[1;32mNone\u001b[0m\u001b[1;33m:\u001b[0m\u001b[1;33m\u001b[0m\u001b[1;33m\u001b[0m\u001b[0m\n\u001b[0;32m     22\u001b[0m             \u001b[0mdf\u001b[0m \u001b[1;33m=\u001b[0m \u001b[0mpd\u001b[0m\u001b[1;33m.\u001b[0m\u001b[0mDataFrame\u001b[0m\u001b[1;33m.\u001b[0m\u001b[0mfrom_records\u001b[0m\u001b[1;33m(\u001b[0m\u001b[0mdata\u001b[0m\u001b[1;33m)\u001b[0m\u001b[1;33m\u001b[0m\u001b[1;33m\u001b[0m\u001b[0m\n",
      "\u001b[1;32mh5py\\_objects.pyx\u001b[0m in \u001b[0;36mh5py._objects.with_phil.wrapper\u001b[1;34m()\u001b[0m\n",
      "\u001b[1;32mh5py\\_objects.pyx\u001b[0m in \u001b[0;36mh5py._objects.with_phil.wrapper\u001b[1;34m()\u001b[0m\n",
      "\u001b[1;32m~\\anaconda3\\lib\\site-packages\\h5py\\_hl\\group.py\u001b[0m in \u001b[0;36m__getitem__\u001b[1;34m(self, name)\u001b[0m\n\u001b[0;32m    328\u001b[0m             \u001b[0moid\u001b[0m \u001b[1;33m=\u001b[0m \u001b[0mh5o\u001b[0m\u001b[1;33m.\u001b[0m\u001b[0mopen\u001b[0m\u001b[1;33m(\u001b[0m\u001b[0mself\u001b[0m\u001b[1;33m.\u001b[0m\u001b[0mid\u001b[0m\u001b[1;33m,\u001b[0m \u001b[0mself\u001b[0m\u001b[1;33m.\u001b[0m\u001b[0m_e\u001b[0m\u001b[1;33m(\u001b[0m\u001b[0mname\u001b[0m\u001b[1;33m)\u001b[0m\u001b[1;33m,\u001b[0m \u001b[0mlapl\u001b[0m\u001b[1;33m=\u001b[0m\u001b[0mself\u001b[0m\u001b[1;33m.\u001b[0m\u001b[0m_lapl\u001b[0m\u001b[1;33m)\u001b[0m\u001b[1;33m\u001b[0m\u001b[1;33m\u001b[0m\u001b[0m\n\u001b[0;32m    329\u001b[0m         \u001b[1;32melse\u001b[0m\u001b[1;33m:\u001b[0m\u001b[1;33m\u001b[0m\u001b[1;33m\u001b[0m\u001b[0m\n\u001b[1;32m--> 330\u001b[1;33m             raise TypeError(\"Accessing a group is done with bytes or str, \"\n\u001b[0m\u001b[0;32m    331\u001b[0m                             \" not {}\".format(type(name)))\n\u001b[0;32m    332\u001b[0m \u001b[1;33m\u001b[0m\u001b[0m\n",
      "\u001b[1;31mTypeError\u001b[0m: Accessing a group is done with bytes or str,  not <class 'slice'>"
     ]
    }
   ],
   "source": [
    "import h5py\n",
    "import pandas as pd\n",
    "\n",
    "def read_hdf_h5py(fname, table='all'):\n",
    "    \"\"\"\n",
    "    使用 h5py 读取 HDF5 文件，返回 pandas DataFrame\n",
    "    fname: HDF5 文件路径\n",
    "    table: 数据集名称，通常是 '/all'\n",
    "    \"\"\"\n",
    "    with h5py.File(fname, 'r') as f:\n",
    "        # 检查 table 是否存在\n",
    "        if table not in f:\n",
    "            raise KeyError(f\"Table '{table}' not found in {fname}\")\n",
    "        \n",
    "        dset = f[table]\n",
    "        # 如果是表格形式，直接转换为 DataFrame\n",
    "        # h5py 数据集通常是 numpy structured array\n",
    "        print('dset:',dset)\n",
    "        print(f'list(dset.keys()): {list(dset.keys())}')\n",
    "        data = dset[:]\n",
    "        if hasattr(data, 'dtype') and data.dtype.names is not None:\n",
    "            df = pd.DataFrame.from_records(data)\n",
    "        else:\n",
    "            # 如果是普通数组，生成默认列名\n",
    "            df = pd.DataFrame(data)\n",
    "    return df\n",
    "\n",
    "# 使用示例\n",
    "fname = r'G:\\sina_data.h5'\n",
    "df = read_hdf_h5py(fname, table='all')\n",
    "print(df.shape)\n",
    "print(df.head())\n"
   ]
  },
  {
   "cell_type": "code",
   "execution_count": 11,
   "id": "7af09df9-95c3-4753-839f-8eb8226764d7",
   "metadata": {
    "execution": {
     "iopub.execute_input": "2025-09-16T08:18:19.622708Z",
     "iopub.status.busy": "2025-09-16T08:18:19.622708Z",
     "iopub.status.idle": "2025-09-16T08:18:19.669580Z",
     "shell.execute_reply": "2025-09-16T08:18:19.668614Z",
     "shell.execute_reply.started": "2025-09-16T08:18:19.622708Z"
    },
    "tags": []
   },
   "outputs": [
    {
     "ename": "OSError",
     "evalue": "Can't read data (can't open directory)",
     "output_type": "error",
     "traceback": [
      "\u001b[1;31m---------------------------------------------------------------------------\u001b[0m",
      "\u001b[1;31mOSError\u001b[0m                                   Traceback (most recent call last)",
      "\u001b[1;32mG:\\Temp\\ipykernel_22232\\2243621527.py\u001b[0m in \u001b[0;36m<module>\u001b[1;34m\u001b[0m\n\u001b[0;32m     16\u001b[0m \u001b[1;33m\u001b[0m\u001b[0m\n\u001b[0;32m     17\u001b[0m \u001b[1;32mwith\u001b[0m \u001b[0mh5py\u001b[0m\u001b[1;33m.\u001b[0m\u001b[0mFile\u001b[0m\u001b[1;33m(\u001b[0m\u001b[0mfname\u001b[0m\u001b[1;33m,\u001b[0m \u001b[1;34m\"r\"\u001b[0m\u001b[1;33m)\u001b[0m \u001b[1;32mas\u001b[0m \u001b[0mf\u001b[0m\u001b[1;33m:\u001b[0m\u001b[1;33m\u001b[0m\u001b[1;33m\u001b[0m\u001b[0m\n\u001b[1;32m---> 18\u001b[1;33m     \u001b[0mdata\u001b[0m \u001b[1;33m=\u001b[0m \u001b[0mf\u001b[0m\u001b[1;33m[\u001b[0m\u001b[1;34m\"all\"\u001b[0m\u001b[1;33m]\u001b[0m\u001b[1;33m[\u001b[0m\u001b[1;34m\"table\"\u001b[0m\u001b[1;33m]\u001b[0m\u001b[1;33m[\u001b[0m\u001b[1;33m:\u001b[0m\u001b[1;33m]\u001b[0m  \u001b[1;31m# fixed 格式可以直接读取\u001b[0m\u001b[1;33m\u001b[0m\u001b[1;33m\u001b[0m\u001b[0m\n\u001b[0m\u001b[0;32m     19\u001b[0m     \u001b[0mdf\u001b[0m \u001b[1;33m=\u001b[0m \u001b[0mpd\u001b[0m\u001b[1;33m.\u001b[0m\u001b[0mDataFrame\u001b[0m\u001b[1;33m(\u001b[0m\u001b[0mdata\u001b[0m\u001b[1;33m)\u001b[0m\u001b[1;33m\u001b[0m\u001b[1;33m\u001b[0m\u001b[0m\n\u001b[0;32m     20\u001b[0m     \u001b[0mprint\u001b[0m\u001b[1;33m(\u001b[0m\u001b[1;34mf'df: {df}'\u001b[0m\u001b[1;33m)\u001b[0m\u001b[1;33m\u001b[0m\u001b[1;33m\u001b[0m\u001b[0m\n",
      "\u001b[1;32mh5py\\_objects.pyx\u001b[0m in \u001b[0;36mh5py._objects.with_phil.wrapper\u001b[1;34m()\u001b[0m\n",
      "\u001b[1;32mh5py\\_objects.pyx\u001b[0m in \u001b[0;36mh5py._objects.with_phil.wrapper\u001b[1;34m()\u001b[0m\n",
      "\u001b[1;32m~\\anaconda3\\lib\\site-packages\\h5py\\_hl\\dataset.py\u001b[0m in \u001b[0;36m__getitem__\u001b[1;34m(self, args, new_dtype)\u001b[0m\n\u001b[0;32m    822\u001b[0m         \u001b[0mmspace\u001b[0m \u001b[1;33m=\u001b[0m \u001b[0mh5s\u001b[0m\u001b[1;33m.\u001b[0m\u001b[0mcreate_simple\u001b[0m\u001b[1;33m(\u001b[0m\u001b[0mselection\u001b[0m\u001b[1;33m.\u001b[0m\u001b[0mmshape\u001b[0m\u001b[1;33m)\u001b[0m\u001b[1;33m\u001b[0m\u001b[1;33m\u001b[0m\u001b[0m\n\u001b[0;32m    823\u001b[0m         \u001b[0mfspace\u001b[0m \u001b[1;33m=\u001b[0m \u001b[0mselection\u001b[0m\u001b[1;33m.\u001b[0m\u001b[0mid\u001b[0m\u001b[1;33m\u001b[0m\u001b[1;33m\u001b[0m\u001b[0m\n\u001b[1;32m--> 824\u001b[1;33m         \u001b[0mself\u001b[0m\u001b[1;33m.\u001b[0m\u001b[0mid\u001b[0m\u001b[1;33m.\u001b[0m\u001b[0mread\u001b[0m\u001b[1;33m(\u001b[0m\u001b[0mmspace\u001b[0m\u001b[1;33m,\u001b[0m \u001b[0mfspace\u001b[0m\u001b[1;33m,\u001b[0m \u001b[0marr\u001b[0m\u001b[1;33m,\u001b[0m \u001b[0mmtype\u001b[0m\u001b[1;33m,\u001b[0m \u001b[0mdxpl\u001b[0m\u001b[1;33m=\u001b[0m\u001b[0mself\u001b[0m\u001b[1;33m.\u001b[0m\u001b[0m_dxpl\u001b[0m\u001b[1;33m)\u001b[0m\u001b[1;33m\u001b[0m\u001b[1;33m\u001b[0m\u001b[0m\n\u001b[0m\u001b[0;32m    825\u001b[0m \u001b[1;33m\u001b[0m\u001b[0m\n\u001b[0;32m    826\u001b[0m         \u001b[1;31m# Patch up the output for NumPy\u001b[0m\u001b[1;33m\u001b[0m\u001b[1;33m\u001b[0m\u001b[0m\n",
      "\u001b[1;32mh5py\\_objects.pyx\u001b[0m in \u001b[0;36mh5py._objects.with_phil.wrapper\u001b[1;34m()\u001b[0m\n",
      "\u001b[1;32mh5py\\_objects.pyx\u001b[0m in \u001b[0;36mh5py._objects.with_phil.wrapper\u001b[1;34m()\u001b[0m\n",
      "\u001b[1;32mh5py\\h5d.pyx\u001b[0m in \u001b[0;36mh5py.h5d.DatasetID.read\u001b[1;34m()\u001b[0m\n",
      "\u001b[1;32mh5py\\_proxy.pyx\u001b[0m in \u001b[0;36mh5py._proxy.dset_rw\u001b[1;34m()\u001b[0m\n",
      "\u001b[1;31mOSError\u001b[0m: Can't read data (can't open directory)"
     ]
    }
   ],
   "source": [
    "import h5py\n",
    "import os\n",
    "\n",
    "basedir = \"G:\" + os.sep \n",
    "fname = os.path.join(basedir, \"sina_data.h5\")             # 原始 HDF5\n",
    "# table = \"all_30\"\n",
    "table = \"all\"\n",
    "test_code = \"002258\"\n",
    "import h5py\n",
    "import pandas as pd\n",
    "\n",
    "fname = r\"G:\\sina_data.h5\"\n",
    "\n",
    "import h5py\n",
    "import pandas as pd\n",
    "\n",
    "with h5py.File(fname, \"r\") as f:\n",
    "    data = f[\"all\"][\"table\"][:]  # fixed 格式可以直接读取\n",
    "    df = pd.DataFrame(data)\n",
    "    print(f'df: {df}')\n",
    "\n"
   ]
  },
  {
   "cell_type": "code",
   "execution_count": 13,
   "id": "52ef68f7-634f-4ae7-8c1b-038b0f7cf450",
   "metadata": {
    "execution": {
     "iopub.execute_input": "2025-09-16T08:24:03.182332Z",
     "iopub.status.busy": "2025-09-16T08:24:03.181334Z",
     "iopub.status.idle": "2025-09-16T08:24:03.403739Z",
     "shell.execute_reply": "2025-09-16T08:24:03.403034Z",
     "shell.execute_reply.started": "2025-09-16T08:24:03.182332Z"
    },
    "tags": []
   },
   "outputs": [],
   "source": [
    "df = pd.read_hdf(fname, key='all')"
   ]
  },
  {
   "cell_type": "code",
   "execution_count": 15,
   "id": "13b43421-d48c-43da-81b5-0d97f601e257",
   "metadata": {
    "execution": {
     "iopub.execute_input": "2025-09-16T08:24:48.879956Z",
     "iopub.status.busy": "2025-09-16T08:24:48.879956Z",
     "iopub.status.idle": "2025-09-16T08:24:48.899901Z",
     "shell.execute_reply": "2025-09-16T08:24:48.899901Z",
     "shell.execute_reply.started": "2025-09-16T08:24:48.879956Z"
    },
    "tags": []
   },
   "outputs": [
    {
     "name": "stdout",
     "output_type": "stream",
     "text": [
      "name                       利尔化学\n",
      "open                       12.2\n",
      "llastp                    12.22\n",
      "now                       12.25\n",
      "trade                       0.0\n",
      "high                      12.36\n",
      "low                       12.04\n",
      "buy                       12.24\n",
      "sell                      12.25\n",
      "volume                 13639443\n",
      "turnover            166071488.0\n",
      "b1_v                      49600\n",
      "b1                        12.24\n",
      "b2_v                      79900\n",
      "b2                        12.23\n",
      "b3_v                      16400\n",
      "b3                        12.22\n",
      "b4_v                      10000\n",
      "b4                        12.21\n",
      "b5_v                      36300\n",
      "b5                         12.2\n",
      "a1_v                      48000\n",
      "a1                        12.25\n",
      "a2_v                      51400\n",
      "a2                        12.26\n",
      "a3_v                      51800\n",
      "a3                        12.27\n",
      "a4_v                      42200\n",
      "a4                        12.28\n",
      "a5_v                      43700\n",
      "a5                        12.29\n",
      "dt                   2025-09-16\n",
      "ticktime    2025-09-16 15:00:00\n",
      "b1_vv                         0\n",
      "close                     12.25\n",
      "nvol                   13639443\n",
      "lastbuy                    -2.0\n",
      "nlow                      12.04\n",
      "nhigh                     12.36\n",
      "nclose                    12.23\n",
      "timel              1758006144.0\n",
      "Name: 002258, dtype: object\n"
     ]
    }
   ],
   "source": [
    "print(df.loc[test_code])"
   ]
  },
  {
   "cell_type": "code",
   "execution_count": null,
   "id": "8a00e78d-1f61-4f29-b143-62a0ac063917",
   "metadata": {},
   "outputs": [],
   "source": []
  }
 ],
 "metadata": {
  "kernelspec": {
   "display_name": "python3.9",
   "language": "python",
   "name": "python3"
  },
  "language_info": {
   "codemirror_mode": {
    "name": "ipython",
    "version": 3
   },
   "file_extension": ".py",
   "mimetype": "text/x-python",
   "name": "python",
   "nbconvert_exporter": "python",
   "pygments_lexer": "ipython3",
   "version": "3.9.13"
  }
 },
 "nbformat": 4,
 "nbformat_minor": 5
}
