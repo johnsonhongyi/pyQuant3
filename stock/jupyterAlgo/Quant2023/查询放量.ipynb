{
 "cells": [
  {
   "cell_type": "markdown",
   "metadata": {},
   "source": [
    "# debug web\n",
    "#https://pythononpow.medium.com/debugging-a-tornado-pythononwheels-web-application-with-vscode-d9f5c5e5603f"
   ]
  },
  {
   "cell_type": "code",
   "execution_count": 1,
   "metadata": {
    "execution": {
     "iopub.execute_input": "2023-09-27T08:51:00.524910Z",
     "iopub.status.busy": "2023-09-27T08:51:00.524910Z",
     "iopub.status.idle": "2023-09-27T08:51:00.534883Z",
     "shell.execute_reply": "2023-09-27T08:51:00.534883Z",
     "shell.execute_reply.started": "2023-09-27T08:51:00.524910Z"
    },
    "jupyter": {
     "source_hidden": true
    },
    "tags": []
   },
   "outputs": [],
   "source": [
    "# {\n",
    "#     // 使用 IntelliSense 了解相关属性。 \n",
    "#     // 悬停以查看现有属性的描述。\n",
    "#     // 欲了解更多信息，请访问: https://go.microsoft.com/fwlink/?linkid=830387\n",
    "#     \"version\": \"0.2.0\",\n",
    "#     \"configurations\": [\n",
    "        \n",
    "#         {  \n",
    "#             \"name\": \"Python: PoW\",  \n",
    "#             \"type\": \"python\",  \n",
    "#             \"request\": \"launch\",  \n",
    "#             \"program\": \"${workspaceFolder}/instock/web/web_service.py\",  \n",
    "#             \"args\": [],  \n",
    "#             \"console\": \"integratedTerminal\"  \n",
    "#         }\n",
    "            \n",
    "#     ]\n",
    "# }"
   ]
  },
  {
   "cell_type": "code",
   "execution_count": 2,
   "metadata": {
    "ExecuteTime": {
     "end_time": "2023-08-22T12:08:03.265658Z",
     "start_time": "2023-08-22T12:08:02.024601Z"
    },
    "execution": {
     "iopub.execute_input": "2023-09-27T08:51:00.536878Z",
     "iopub.status.busy": "2023-09-27T08:51:00.536878Z",
     "iopub.status.idle": "2023-09-27T08:51:01.829421Z",
     "shell.execute_reply": "2023-09-27T08:51:01.827478Z",
     "shell.execute_reply.started": "2023-09-27T08:51:00.536878Z"
    },
    "tags": []
   },
   "outputs": [],
   "source": [
    "import logging\n",
    "import os\n",
    "import pymysql\n",
    "from sqlalchemy import create_engine\n",
    "from sqlalchemy.types import NVARCHAR\n",
    "from sqlalchemy import inspect\n",
    "import datetime\n",
    "\n",
    "import sys\n",
    "\n",
    "# stdout=sys.stdout\n",
    "sys.path.append('../../')\n",
    "from JohnsonUtil import commonTips as cct\n",
    "from JSONData import tdx_data_Day as tdd"
   ]
  },
  {
   "cell_type": "markdown",
   "metadata": {},
   "source": [
    "# 初始化db"
   ]
  },
  {
   "cell_type": "code",
   "execution_count": 3,
   "metadata": {
    "ExecuteTime": {
     "end_time": "2023-08-22T12:08:04.139936Z",
     "start_time": "2023-08-22T12:08:04.131925Z"
    },
    "execution": {
     "iopub.execute_input": "2023-09-27T08:51:01.832412Z",
     "iopub.status.busy": "2023-09-27T08:51:01.831420Z",
     "iopub.status.idle": "2023-09-27T08:51:01.843382Z",
     "shell.execute_reply": "2023-09-27T08:51:01.843382Z",
     "shell.execute_reply.started": "2023-09-27T08:51:01.832412Z"
    },
    "tags": []
   },
   "outputs": [],
   "source": [
    "db_host = \"192.168.50.60\"  # 数据库服务主机\n",
    "db_user = \"root\"  # 数据库访问用户\n",
    "db_password = \"mariadb\"  # 数据库访问密码\n",
    "db_database = \"instockdb\"  # 数据库名称\n",
    "db_port = 3306  # 数据库服务端口\n",
    "db_charset = \"utf8mb4\"  # 数据库字符集\n",
    "\n",
    "# 使用环境变量获得数据库,docker -e 传递\n",
    "_db_host = os.environ.get('db_host')\n",
    "if _db_host is not None:\n",
    "    db_host = _db_host\n",
    "_db_user = os.environ.get('db_user')\n",
    "if _db_user is not None:\n",
    "    db_user = _db_user\n",
    "_db_password = os.environ.get('db_password')\n",
    "if _db_password is not None:\n",
    "    db_password = _db_password\n",
    "_db_database = os.environ.get('db_database')\n",
    "if _db_database is not None:\n",
    "    db_database = _db_database\n",
    "_db_port = os.environ.get('db_port')\n",
    "if _db_port is not None:\n",
    "    db_port = int(_db_port)\n",
    "\n",
    "MYSQL_CONN_URL = \"mysql+pymysql://%s:%s@%s:%s/%s?charset=%s\" % (\n",
    "    db_user, db_password, db_host, db_port, db_database, db_charset)\n",
    "\n",
    "MYSQL_CONN_DBAPI = {'host': db_host, 'user': db_user, 'password': db_password, 'database': db_database,\n",
    "                    'charset': db_charset, 'port': db_port, 'autocommit': True}\n",
    "\n"
   ]
  },
  {
   "cell_type": "markdown",
   "metadata": {},
   "source": [
    "## def func"
   ]
  },
  {
   "cell_type": "code",
   "execution_count": 4,
   "metadata": {
    "ExecuteTime": {
     "end_time": "2023-08-22T12:08:06.758735Z",
     "start_time": "2023-08-22T12:08:06.747764Z"
    },
    "execution": {
     "iopub.execute_input": "2023-09-27T08:51:01.846374Z",
     "iopub.status.busy": "2023-09-27T08:51:01.846374Z",
     "iopub.status.idle": "2023-09-27T08:51:01.858342Z",
     "shell.execute_reply": "2023-09-27T08:51:01.858342Z",
     "shell.execute_reply.started": "2023-09-27T08:51:01.846374Z"
    },
    "tags": []
   },
   "outputs": [],
   "source": [
    "def write_code_to_blk(codew, blk='060'):\n",
    "    block_path = tdd.get_tdx_dir_blocknew() + '%s.blk' % (blk)\n",
    "    write_blk = 'n'\n",
    "    write_blk = cct.cct_raw_input(\"write blk [Y] or [N]:\")\n",
    "    if write_blk == 'y' or write_blk == 'Y':\n",
    "        hdf5_wri = cct.cct_raw_input(\n",
    "            \"Rewrite code [Y] or append [N](defalut:N):\")\n",
    "        if hdf5_wri == 'y' or hdf5_wri == 'Y':\n",
    "            append_status = False\n",
    "        else:\n",
    "            append_status = True\n",
    "        if len(codew) > 3:\n",
    "            cct.write_to_blocknew(block_path, codew, append_status,\n",
    "                                  doubleFile=False, keep_last=0)\n",
    "            print(\"write:%s block_path:%s\" % (len(codew), block_path))\n",
    "        else:\n",
    "            print(\"write No:%s block_path:%s\" % (len(codew), block_path))\n",
    "            # (\"write error:%s block_path:%s\" % (len(codew), block_path))\n",
    "    return True\n",
    "\n",
    "#allday\n",
    "def groupby_count_code(df):\n",
    "    df['couts'] = df.groupby('code')['code'].transform('count')\n",
    "    if 'date' in df.columns:\n",
    "        df = df.sort_values(by=['couts','date'],ascending=[0,1])\n",
    "    else:\n",
    "        df = df.sort_values(by=['couts'],ascending=[0])\n",
    "    return df"
   ]
  },
  {
   "cell_type": "code",
   "execution_count": 5,
   "metadata": {
    "ExecuteTime": {
     "end_time": "2023-08-22T12:08:08.999024Z",
     "start_time": "2023-08-22T12:08:08.983067Z"
    },
    "execution": {
     "iopub.execute_input": "2023-09-27T08:51:01.860337Z",
     "iopub.status.busy": "2023-09-27T08:51:01.860337Z",
     "iopub.status.idle": "2023-09-27T08:51:01.890257Z",
     "shell.execute_reply": "2023-09-27T08:51:01.890257Z",
     "shell.execute_reply.started": "2023-09-27T08:51:01.860337Z"
    },
    "tags": []
   },
   "outputs": [],
   "source": [
    "def get_today(sep='-'):\n",
    "    TODAY = datetime.date.today()\n",
    "    fstr = \"%Y\" + sep + \"%m\" + sep + \"%d\"\n",
    "    today = TODAY.strftime(fstr)\n",
    "    return today\n",
    "\n",
    "#前一日\n",
    "def day_last_days(daynow,last=-1):\n",
    "    return str(datetime.datetime.strptime(daynow, '%Y-%m-%d').date() + datetime.timedelta(last))\n",
    "\n",
    "#上一个工作日\n",
    "def last_tddate(days=1):\n",
    "    # today = datetime.datetime.today().date() + datetime.timedelta(-days)\n",
    "    if days is None:\n",
    "        return days\n",
    "    today = datetime.datetime.today().date()\n",
    "    # log.debug(\"today:%s \" % (today))\n",
    "    # return str(today)\n",
    "\n",
    "    def get_work_day(today):\n",
    "        day_n = int(today.strftime(\"%w\"))\n",
    "        if day_n == 0:\n",
    "            lastd = today + datetime.timedelta(-2)\n",
    "            # log.debug(\"0:%s\" % lastd)\n",
    "        elif day_n == 1:\n",
    "            lastd = today + datetime.timedelta(-3)\n",
    "            # log.debug(\"1:%s\" % lastd)\n",
    "        else:\n",
    "            lastd = today + datetime.timedelta(-1)\n",
    "            # log.debug(\"2-6:%s\" % lastd)\n",
    "        return lastd\n",
    "        # if days==0:\n",
    "        # return str(lasd)\n",
    "    lastday = today\n",
    "    for x in range(int(days)):\n",
    "        # print x\n",
    "        lastday = get_work_day(today)\n",
    "        today = lastday\n",
    "    return str(lastday)\n",
    "\n",
    "# 通过数据库链接 engine\n",
    "def engine():\n",
    "    return create_engine(MYSQL_CONN_URL)\n",
    "\n",
    "\n",
    "def engine_to_db(to_db):\n",
    "    _engine = create_engine(MYSQL_CONN_URL.replace(f'/{db_database}?', f'/{to_db}?'))\n",
    "    return _engine\n",
    "\n",
    "\n",
    "# DB Api -数据库连接对象connection，有游标\n",
    "def conn_with_cursor():\n",
    "    return conn_not_cursor().cursor()\n",
    "\n",
    "# DB Api -数据库连接对象connection，无游标\n",
    "def conn_not_cursor():\n",
    "    try:\n",
    "        _db = pymysql.connect(**MYSQL_CONN_DBAPI)\n",
    "    except Exception as e:\n",
    "        logging.error(f\"database.conn_not_cursor处理异常：{MYSQL_CONN_DBAPI}{e}\")\n",
    "    return _db\n",
    "\n",
    "# 查询数据\n",
    "def executeSqlFetch(sql, params=()):\n",
    "    with conn_with_cursor() as db:\n",
    "        try:\n",
    "            db.execute(sql, params)\n",
    "        except Exception as e:\n",
    "            logging.error(f\"database.executeSqlFetch处理异常：{sql}{e}\")\n",
    "\n",
    "        result = db.fetchall()\n",
    "        db.close()\n",
    "        return result\n",
    "    \n",
    "# 计算数量\n",
    "def executeSqlCount(sql, params=()):\n",
    "    with conn_with_cursor() as db:\n",
    "        try:\n",
    "            db.execute(sql, params)\n",
    "        except Exception as e:\n",
    "            logging.error(f\"database.select_count计算数量处理异常：{e}\")\n",
    "\n",
    "        result = db.fetchall()\n",
    "        db.close()\n",
    "        # 只有一个数组中的第一个数据\n",
    "        if len(result) == 1:\n",
    "            return int(result[0][0])\n",
    "        else:\n",
    "            return 0"
   ]
  },
  {
   "cell_type": "markdown",
   "metadata": {},
   "source": []
  },
  {
   "cell_type": "code",
   "execution_count": 6,
   "metadata": {
    "ExecuteTime": {
     "end_time": "2023-08-22T12:08:10.888380Z",
     "start_time": "2023-08-22T12:08:10.851442Z"
    },
    "execution": {
     "iopub.execute_input": "2023-09-27T08:51:01.892251Z",
     "iopub.status.busy": "2023-09-27T08:51:01.892251Z",
     "iopub.status.idle": "2023-09-27T08:51:01.906215Z",
     "shell.execute_reply": "2023-09-27T08:51:01.906215Z",
     "shell.execute_reply.started": "2023-09-27T08:51:01.892251Z"
    },
    "tags": []
   },
   "outputs": [],
   "source": [
    "try:\n",
    "    with pymysql.connect(**MYSQL_CONN_DBAPI) as mydb:\n",
    "        mydb.cursor().execute(\" select 1 \")\n",
    "except Exception as e:\n",
    "        logging.error(\"执行信息：数据库不存在，将创建。\")"
   ]
  },
  {
   "cell_type": "markdown",
   "metadata": {},
   "source": [
    "## 放量上涨table \n",
    "cn_stock_strategy_entercn_stock_strategy_enter"
   ]
  },
  {
   "cell_type": "code",
   "execution_count": 7,
   "metadata": {
    "ExecuteTime": {
     "end_time": "2023-08-22T12:08:14.037651Z",
     "start_time": "2023-08-22T12:08:14.022690Z"
    },
    "execution": {
     "iopub.execute_input": "2023-09-27T08:51:01.907213Z",
     "iopub.status.busy": "2023-09-27T08:51:01.907213Z",
     "iopub.status.idle": "2023-09-27T08:51:01.921207Z",
     "shell.execute_reply": "2023-09-27T08:51:01.921207Z",
     "shell.execute_reply.started": "2023-09-27T08:51:01.907213Z"
    },
    "tags": []
   },
   "outputs": [],
   "source": [
    "import pandas as pd\n",
    "import warnings\n",
    "\n",
    "warnings.filterwarnings('ignore')\n",
    "\n",
    "\n",
    "def panda_df(conn,sql):\n",
    "    df = pd.read_sql(sql, conn)\n",
    "    print(df.shape)\n",
    "    return df\n",
    "\n",
    "from pandas import DataFrame as df\n",
    "def exe_sql_select(conn,sql):\n",
    "\tcur = conn.cursor() \n",
    "\tdata = None\n",
    "\ttry: # 使用异常处理，以防程序无法正常运行\n",
    "\t\tcur.execute(sql) \n",
    "\t\tdata = df(cur.fetchall(), columns = [col[0] for col in cur.description]) \n",
    "\texcept Exception as e:\n",
    "\t\tconn.rollback() # 发生错误时回滚\n",
    "\t\tprint('事务处理失败', e)\n",
    "\telse:\n",
    "\t\t# conn.commit() # 事务提交\n",
    "\t\tprint('事务处理成功', cur.rowcount)\n",
    "\t# cur.close()\n",
    "\treturn data\n",
    "\n"
   ]
  },
  {
   "cell_type": "markdown",
   "metadata": {},
   "source": [
    "### 读取SQL数据"
   ]
  },
  {
   "cell_type": "code",
   "execution_count": 13,
   "metadata": {
    "ExecuteTime": {
     "end_time": "2023-08-22T12:08:17.748460Z",
     "start_time": "2023-08-22T12:08:17.646520Z"
    },
    "execution": {
     "iopub.execute_input": "2023-09-27T09:41:39.430566Z",
     "iopub.status.busy": "2023-09-27T09:41:39.430566Z",
     "iopub.status.idle": "2023-09-27T09:41:39.466468Z",
     "shell.execute_reply": "2023-09-27T09:41:39.466468Z",
     "shell.execute_reply.started": "2023-09-27T09:41:39.430566Z"
    },
    "tags": []
   },
   "outputs": [
    {
     "name": "stdout",
     "output_type": "stream",
     "text": [
      "SELECT  `code`,`name`,`rate_1`  FROM `cn_stock_strategy_enter` WHERE `date` = '2023-09-26' AND rate_1 > 0 \n",
      "SELECT  `code`,`name`,`rate_1`  FROM `cn_stock_strategy_enter` WHERE `date` = '2023-09-27' \n",
      "事务处理失败 'DataFrame' object is not callable\n",
      "(27, 3)\n",
      "(167, 4)\n"
     ]
    }
   ],
   "source": [
    "conn = pymysql.connect(**MYSQL_CONN_DBAPI)\n",
    "\n",
    "_selcolall = f''' `date`,`code`,`name`,`rate_1` '''\n",
    "_selcol = f''' `code`,`name`,`rate_1` '''\n",
    "\n",
    "_table_name = 'cn_stock_strategy_enter'\n",
    "\n",
    "lastday = last_tddate(1)\n",
    "\n",
    "today_now = last_tddate(0)\n",
    "\n",
    "\n",
    "\n",
    "sql = f'''SELECT '{_selcol}' FROM `{_table_name}` WHERE `date` = '{today_now}' and \n",
    "\t\t\t\t\t\t\t\t`kdjk` >= 80 and `kdjd` >= 70 and `kdjj` >= 100 and `rsi_6` >= 80 and \n",
    "\t\t\t\t\t\t\t\t`cci` >= 100 and `cr` >= 300 and `wr_6` >= -20 and `vr` >= 160'''\n",
    "\n",
    "sql_now_price = f'''SELECT {_selcol} FROM `{_table_name}` WHERE `date` = '{lastday}' AND rate_1 > 0 '''\n",
    "\n",
    "sql_now_today = f'''SELECT {_selcol} FROM `{_table_name}` WHERE `date` = '{today_now}' '''\n",
    "\n",
    "# sql_now_today = f'''SELECT {_selcol} FROM `{_table_name}` WHERE `date` = '{lastday}' '''\n",
    "\n",
    "\n",
    "sql_now_last7day = f'''SELECT {_selcolall} FROM `{_table_name}` WHERE `date` >= '{last_tddate(7)}' '''\n",
    "\n",
    "sql_now_alltoday = f'''SELECT {_selcolall} FROM `{_table_name}`  '''\n",
    "\n",
    "sql_tables_name =f'''select table_name from information_schema.tables where table_schema=`{db_database}` '''\n",
    "# sql_columns = f'''select COLUMN_NAME from information_schema.COLUMNS where TABLE_SCHEMA=`{db_database}` and table_name = `{_table_name}`'''\n",
    "\n",
    "sql_tables_name ='SHOW DATABASES'\n",
    "# print('当前库下所有表的名称')\n",
    "# sql_columns = \"select COLUMN_NAME from information_schema.COLUMNS where table_name = '%s'\"%(_table_name)\n",
    "sql_columns = f'''select COLUMN_NAME from information_schema.COLUMNS where table_name = '{_table_name}' '''\n",
    "print(sql_now_price)\n",
    "print(sql_now_today)\n",
    "\n",
    "mycursor = conn.cursor()\n",
    "# mycursor.execute(sql_now_price)\n",
    "# print(_selcol)\n",
    "# count = 0\n",
    "# for field in mycursor.fetchall():\n",
    "# \t\t# print(field[0],end='  ')\n",
    "# \t\t# print(field[1:4])\n",
    "# \t\t# print(field)\n",
    "# \t\tcount +=1\n",
    "# print(\"all:%s\"%(count))\n",
    "\n",
    "\n",
    "#lastday \n",
    "# df = exe_sql_select(conn,sql_now_price)\n",
    "\n",
    "#today:\n",
    "df = exe_sql_select(conn,sql_now_today)\n",
    "\n",
    "# mycursor2 = pymysql.connect(**MYSQL_CONN_DBAPI)\n",
    "df2 = panda_df(conn,sql_now_today)\n",
    "\n",
    "# df3all = panda_df(conn,sql_now_alltoday)\n",
    "\n",
    "dflast7d = panda_df(conn,sql_now_last7day)\n",
    "\n",
    "# mycursor.execute(sql_columns)\n",
    "# mycursor.execute(sql_now)\n",
    "\n",
    "# myresult = mycursor.fetchall()\n",
    "# for x in myresult:\n",
    "#   print(x)\n",
    "\t\n",
    "conn.close()"
   ]
  },
  {
   "cell_type": "code",
   "execution_count": 9,
   "metadata": {
    "ExecuteTime": {
     "end_time": "2023-08-22T12:08:21.921364Z",
     "start_time": "2023-08-22T12:08:21.897403Z"
    },
    "execution": {
     "iopub.execute_input": "2023-09-27T08:51:02.016920Z",
     "iopub.status.busy": "2023-09-27T08:51:02.016920Z",
     "iopub.status.idle": "2023-09-27T08:51:02.030881Z",
     "shell.execute_reply": "2023-09-27T08:51:02.030881Z",
     "shell.execute_reply.started": "2023-09-27T08:51:02.016920Z"
    },
    "tags": []
   },
   "outputs": [
    {
     "name": "stdout",
     "output_type": "stream",
     "text": [
      "     code  name  rate_1\n",
      "0  000813  德展健康    9.93\n",
      "1  002300  太阳电缆    3.94 (27, 3)\n"
     ]
    },
    {
     "data": {
      "text/html": [
       "<div>\n",
       "<style scoped>\n",
       "    .dataframe tbody tr th:only-of-type {\n",
       "        vertical-align: middle;\n",
       "    }\n",
       "\n",
       "    .dataframe tbody tr th {\n",
       "        vertical-align: top;\n",
       "    }\n",
       "\n",
       "    .dataframe thead th {\n",
       "        text-align: right;\n",
       "    }\n",
       "</style>\n",
       "<table border=\"1\" class=\"dataframe\">\n",
       "  <thead>\n",
       "    <tr style=\"text-align: right;\">\n",
       "      <th></th>\n",
       "      <th>date</th>\n",
       "      <th>code</th>\n",
       "      <th>name</th>\n",
       "      <th>rate_1</th>\n",
       "    </tr>\n",
       "  </thead>\n",
       "  <tbody>\n",
       "    <tr>\n",
       "      <th>0</th>\n",
       "      <td>2023-09-18</td>\n",
       "      <td>000610</td>\n",
       "      <td>西安旅游</td>\n",
       "      <td>-4.38</td>\n",
       "    </tr>\n",
       "    <tr>\n",
       "      <th>1</th>\n",
       "      <td>2023-09-18</td>\n",
       "      <td>002184</td>\n",
       "      <td>海得控制</td>\n",
       "      <td>-1.12</td>\n",
       "    </tr>\n",
       "  </tbody>\n",
       "</table>\n",
       "</div>"
      ],
      "text/plain": [
       "         date    code  name  rate_1\n",
       "0  2023-09-18  000610  西安旅游   -4.38\n",
       "1  2023-09-18  002184  海得控制   -1.12"
      ]
     },
     "execution_count": 9,
     "metadata": {},
     "output_type": "execute_result"
    }
   ],
   "source": [
    "#today\n",
    "print(df2[:2],df2.shape)\n",
    "vol_code = df2.code.tolist()[:2]\n",
    "#allday\n",
    "df2[:2]\n",
    "dflast7d[:2]\n"
   ]
  },
  {
   "cell_type": "code",
   "execution_count": 10,
   "metadata": {
    "ExecuteTime": {
     "end_time": "2023-08-22T12:08:27.087699Z",
     "start_time": "2023-08-22T12:08:27.081716Z"
    },
    "execution": {
     "iopub.execute_input": "2023-09-27T08:51:02.033873Z",
     "iopub.status.busy": "2023-09-27T08:51:02.033873Z",
     "iopub.status.idle": "2023-09-27T08:51:02.045842Z",
     "shell.execute_reply": "2023-09-27T08:51:02.045842Z",
     "shell.execute_reply.started": "2023-09-27T08:51:02.033873Z"
    },
    "jupyter": {
     "source_hidden": true
    },
    "tags": []
   },
   "outputs": [],
   "source": [
    "# df3all = groupby_count_code(df3all)\n",
    "dflast7d = groupby_count_code(dflast7d)"
   ]
  },
  {
   "cell_type": "markdown",
   "metadata": {},
   "source": [
    "### show couts"
   ]
  },
  {
   "cell_type": "code",
   "execution_count": 11,
   "metadata": {
    "ExecuteTime": {
     "end_time": "2023-08-22T12:08:29.580435Z",
     "start_time": "2023-08-22T12:08:29.576446Z"
    },
    "execution": {
     "iopub.execute_input": "2023-09-27T08:51:02.047835Z",
     "iopub.status.busy": "2023-09-27T08:51:02.047835Z",
     "iopub.status.idle": "2023-09-27T08:51:02.060801Z",
     "shell.execute_reply": "2023-09-27T08:51:02.060801Z",
     "shell.execute_reply.started": "2023-09-27T08:51:02.047835Z"
    },
    "tags": []
   },
   "outputs": [],
   "source": [
    "filter_date = '2023-04-28'\n",
    "filter_date = today_now\n",
    "# last_tddate(0)\n",
    "# filter_date = lastday"
   ]
  },
  {
   "cell_type": "code",
   "execution_count": 12,
   "metadata": {
    "ExecuteTime": {
     "end_time": "2023-08-22T12:08:30.735317Z",
     "start_time": "2023-08-22T12:08:30.712379Z"
    },
    "execution": {
     "iopub.execute_input": "2023-09-27T08:51:02.061812Z",
     "iopub.status.busy": "2023-09-27T08:51:02.061812Z",
     "iopub.status.idle": "2023-09-27T08:51:02.076759Z",
     "shell.execute_reply": "2023-09-27T08:51:02.076759Z",
     "shell.execute_reply.started": "2023-09-27T08:51:02.061812Z"
    },
    "tags": []
   },
   "outputs": [],
   "source": [
    "df7multiIndex = dflast7d.reset_index().set_index(['code','date'])\n",
    "df7multiIndex[:5]\n",
    "df7tail = df7multiIndex.groupby(level=[0]).tail(1)\n",
    "# df7tail.reset_index().code\n",
    "df7tail =  df7tail.sort_values(by=['rate_1'],ascending=[0])"
   ]
  },
  {
   "cell_type": "markdown",
   "metadata": {},
   "source": [
    "### show Today"
   ]
  },
  {
   "cell_type": "code",
   "execution_count": 14,
   "metadata": {
    "ExecuteTime": {
     "end_time": "2023-08-22T12:08:33.826734Z",
     "start_time": "2023-08-22T12:08:33.803798Z"
    },
    "execution": {
     "iopub.execute_input": "2023-09-21T09:02:47.315931Z",
     "iopub.status.busy": "2023-09-21T09:02:47.314933Z",
     "iopub.status.idle": "2023-09-21T09:02:47.329893Z",
     "shell.execute_reply": "2023-09-21T09:02:47.328896Z",
     "shell.execute_reply.started": "2023-09-21T09:02:47.315931Z"
    },
    "tags": []
   },
   "outputs": [
    {
     "data": {
      "text/html": [
       "<div>\n",
       "<style scoped>\n",
       "    .dataframe tbody tr th:only-of-type {\n",
       "        vertical-align: middle;\n",
       "    }\n",
       "\n",
       "    .dataframe tbody tr th {\n",
       "        vertical-align: top;\n",
       "    }\n",
       "\n",
       "    .dataframe thead th {\n",
       "        text-align: right;\n",
       "    }\n",
       "</style>\n",
       "<table border=\"1\" class=\"dataframe\">\n",
       "  <thead>\n",
       "    <tr style=\"text-align: right;\">\n",
       "      <th></th>\n",
       "      <th>date</th>\n",
       "      <th>index</th>\n",
       "      <th>name</th>\n",
       "      <th>rate_1</th>\n",
       "      <th>couts</th>\n",
       "    </tr>\n",
       "    <tr>\n",
       "      <th>code</th>\n",
       "      <th></th>\n",
       "      <th></th>\n",
       "      <th></th>\n",
       "      <th></th>\n",
       "      <th></th>\n",
       "    </tr>\n",
       "  </thead>\n",
       "  <tbody>\n",
       "    <tr>\n",
       "      <th>300735</th>\n",
       "      <td>2023-09-21</td>\n",
       "      <td>126</td>\n",
       "      <td>光弘科技</td>\n",
       "      <td>19.97</td>\n",
       "      <td>2</td>\n",
       "    </tr>\n",
       "    <tr>\n",
       "      <th>300200</th>\n",
       "      <td>2023-09-21</td>\n",
       "      <td>124</td>\n",
       "      <td>高盟新材</td>\n",
       "      <td>16.19</td>\n",
       "      <td>2</td>\n",
       "    </tr>\n",
       "    <tr>\n",
       "      <th>600355</th>\n",
       "      <td>2023-09-21</td>\n",
       "      <td>128</td>\n",
       "      <td>精伦电子</td>\n",
       "      <td>10.08</td>\n",
       "      <td>2</td>\n",
       "    </tr>\n",
       "  </tbody>\n",
       "</table>\n",
       "</div>"
      ],
      "text/plain": [
       "              date  index  name  rate_1  couts\n",
       "code                                          \n",
       "300735  2023-09-21    126  光弘科技   19.97      2\n",
       "300200  2023-09-21    124  高盟新材   16.19      2\n",
       "600355  2023-09-21    128  精伦电子   10.08      2"
      ]
     },
     "execution_count": 14,
     "metadata": {},
     "output_type": "execute_result"
    }
   ],
   "source": [
    "df7tail =  df7tail.reset_index().set_index('code')\n",
    "# df7tail[ df7tail.rate_1 ] \n",
    "df7tail[(df7tail.couts >1) & (df7tail.date >= datetime.datetime.strptime(filter_date, '%Y-%m-%d').date())][:6]"
   ]
  },
  {
   "cell_type": "code",
   "execution_count": 15,
   "metadata": {
    "ExecuteTime": {
     "end_time": "2023-08-22T12:08:40.783458Z",
     "start_time": "2023-08-22T12:08:40.765507Z"
    },
    "execution": {
     "iopub.execute_input": "2023-09-21T09:02:47.331888Z",
     "iopub.status.busy": "2023-09-21T09:02:47.331888Z",
     "iopub.status.idle": "2023-09-21T09:02:47.358848Z",
     "shell.execute_reply": "2023-09-21T09:02:47.358848Z",
     "shell.execute_reply.started": "2023-09-21T09:02:47.331888Z"
    },
    "jupyter": {
     "source_hidden": true
    },
    "tags": []
   },
   "outputs": [
    {
     "data": {
      "text/html": [
       "<div>\n",
       "<style scoped>\n",
       "    .dataframe tbody tr th:only-of-type {\n",
       "        vertical-align: middle;\n",
       "    }\n",
       "\n",
       "    .dataframe tbody tr th {\n",
       "        vertical-align: top;\n",
       "    }\n",
       "\n",
       "    .dataframe thead th {\n",
       "        text-align: right;\n",
       "    }\n",
       "</style>\n",
       "<table border=\"1\" class=\"dataframe\">\n",
       "  <thead>\n",
       "    <tr style=\"text-align: right;\">\n",
       "      <th></th>\n",
       "      <th>date</th>\n",
       "      <th>index</th>\n",
       "      <th>name</th>\n",
       "      <th>rate_1</th>\n",
       "      <th>couts</th>\n",
       "    </tr>\n",
       "    <tr>\n",
       "      <th>code</th>\n",
       "      <th></th>\n",
       "      <th></th>\n",
       "      <th></th>\n",
       "      <th></th>\n",
       "      <th></th>\n",
       "    </tr>\n",
       "  </thead>\n",
       "  <tbody>\n",
       "    <tr>\n",
       "      <th>300735</th>\n",
       "      <td>2023-09-21</td>\n",
       "      <td>126</td>\n",
       "      <td>光弘科技</td>\n",
       "      <td>19.97</td>\n",
       "      <td>2</td>\n",
       "    </tr>\n",
       "    <tr>\n",
       "      <th>300200</th>\n",
       "      <td>2023-09-21</td>\n",
       "      <td>124</td>\n",
       "      <td>高盟新材</td>\n",
       "      <td>16.19</td>\n",
       "      <td>2</td>\n",
       "    </tr>\n",
       "    <tr>\n",
       "      <th>300504</th>\n",
       "      <td>2023-09-21</td>\n",
       "      <td>125</td>\n",
       "      <td>天邑股份</td>\n",
       "      <td>10.23</td>\n",
       "      <td>1</td>\n",
       "    </tr>\n",
       "    <tr>\n",
       "      <th>600355</th>\n",
       "      <td>2023-09-21</td>\n",
       "      <td>128</td>\n",
       "      <td>精伦电子</td>\n",
       "      <td>10.08</td>\n",
       "      <td>2</td>\n",
       "    </tr>\n",
       "    <tr>\n",
       "      <th>002333</th>\n",
       "      <td>2023-09-21</td>\n",
       "      <td>121</td>\n",
       "      <td>罗普斯金</td>\n",
       "      <td>10.05</td>\n",
       "      <td>1</td>\n",
       "    </tr>\n",
       "    <tr>\n",
       "      <th>003015</th>\n",
       "      <td>2023-09-21</td>\n",
       "      <td>123</td>\n",
       "      <td>日久光电</td>\n",
       "      <td>10.01</td>\n",
       "      <td>1</td>\n",
       "    </tr>\n",
       "    <tr>\n",
       "      <th>000158</th>\n",
       "      <td>2023-09-21</td>\n",
       "      <td>120</td>\n",
       "      <td>常山北明</td>\n",
       "      <td>9.99</td>\n",
       "      <td>1</td>\n",
       "    </tr>\n",
       "    <tr>\n",
       "      <th>300968</th>\n",
       "      <td>2023-09-21</td>\n",
       "      <td>127</td>\n",
       "      <td>格林精密</td>\n",
       "      <td>7.87</td>\n",
       "      <td>1</td>\n",
       "    </tr>\n",
       "    <tr>\n",
       "      <th>601872</th>\n",
       "      <td>2023-09-21</td>\n",
       "      <td>129</td>\n",
       "      <td>招商轮船</td>\n",
       "      <td>7.29</td>\n",
       "      <td>1</td>\n",
       "    </tr>\n",
       "    <tr>\n",
       "      <th>002892</th>\n",
       "      <td>2023-09-21</td>\n",
       "      <td>122</td>\n",
       "      <td>科力尔</td>\n",
       "      <td>4.99</td>\n",
       "      <td>1</td>\n",
       "    </tr>\n",
       "  </tbody>\n",
       "</table>\n",
       "</div>"
      ],
      "text/plain": [
       "              date  index  name  rate_1  couts\n",
       "code                                          \n",
       "300735  2023-09-21    126  光弘科技   19.97      2\n",
       "300200  2023-09-21    124  高盟新材   16.19      2\n",
       "300504  2023-09-21    125  天邑股份   10.23      1\n",
       "600355  2023-09-21    128  精伦电子   10.08      2\n",
       "002333  2023-09-21    121  罗普斯金   10.05      1\n",
       "003015  2023-09-21    123  日久光电   10.01      1\n",
       "000158  2023-09-21    120  常山北明    9.99      1\n",
       "300968  2023-09-21    127  格林精密    7.87      1\n",
       "601872  2023-09-21    129  招商轮船    7.29      1\n",
       "002892  2023-09-21    122   科力尔    4.99      1"
      ]
     },
     "execution_count": 15,
     "metadata": {},
     "output_type": "execute_result"
    }
   ],
   "source": [
    "df7tail[(df7tail.date >= datetime.datetime.strptime(filter_date, '%Y-%m-%d').date()) ][:10]"
   ]
  },
  {
   "cell_type": "code",
   "execution_count": 16,
   "metadata": {
    "ExecuteTime": {
     "end_time": "2023-08-22T12:08:56.263723Z",
     "start_time": "2023-08-22T12:08:56.256742Z"
    },
    "execution": {
     "iopub.execute_input": "2023-09-21T09:02:47.359812Z",
     "iopub.status.busy": "2023-09-21T09:02:47.359812Z",
     "iopub.status.idle": "2023-09-21T09:02:47.374806Z",
     "shell.execute_reply": "2023-09-21T09:02:47.374806Z",
     "shell.execute_reply.started": "2023-09-21T09:02:47.359812Z"
    },
    "jupyter": {
     "source_hidden": true
    },
    "tags": []
   },
   "outputs": [],
   "source": [
    "# df7tail =  df7tail.sort_values(by=['rate_1'],ascending=[0])\n",
    "# df7tail"
   ]
  },
  {
   "cell_type": "markdown",
   "metadata": {},
   "source": [
    "### 写入放量上涨061"
   ]
  },
  {
   "cell_type": "code",
   "execution_count": 17,
   "metadata": {
    "ExecuteTime": {
     "end_time": "2023-08-22T12:08:58.141496Z",
     "start_time": "2023-08-22T12:08:58.133482Z"
    },
    "execution": {
     "iopub.execute_input": "2023-09-21T09:02:47.376767Z",
     "iopub.status.busy": "2023-09-21T09:02:47.376767Z",
     "iopub.status.idle": "2023-09-21T09:02:47.391727Z",
     "shell.execute_reply": "2023-09-21T09:02:47.390764Z",
     "shell.execute_reply.started": "2023-09-21T09:02:47.376767Z"
    },
    "jupyter": {
     "source_hidden": true
    },
    "tags": []
   },
   "outputs": [
    {
     "data": {
      "text/plain": [
       "10"
      ]
     },
     "execution_count": 17,
     "metadata": {},
     "output_type": "execute_result"
    }
   ],
   "source": [
    "# df7code = df7tail[df7tail.couts >1].index.get_level_values('code')\n",
    "# filter_date = '2023-04-28' couts >1\n",
    "\n",
    "df7code = df7tail[(df7tail.couts >1) & (df7tail.date >= datetime.datetime.strptime(filter_date, '%Y-%m-%d').date())].index\n",
    "\n",
    "#nowday\n",
    "df7code = df7tail[(df7tail.date >= datetime.datetime.strptime(filter_date, '%Y-%m-%d').date()) ].index\n",
    "df7code\n",
    "len(df7code)"
   ]
  },
  {
   "cell_type": "code",
   "execution_count": 18,
   "metadata": {
    "ExecuteTime": {
     "end_time": "2023-08-22T12:10:54.974346Z",
     "start_time": "2023-08-22T12:10:45.074706Z"
    },
    "execution": {
     "iopub.execute_input": "2023-09-21T09:02:47.392727Z",
     "iopub.status.busy": "2023-09-21T09:02:47.391727Z",
     "iopub.status.idle": "2023-09-21T09:02:47.406687Z",
     "shell.execute_reply": "2023-09-21T09:02:47.406687Z",
     "shell.execute_reply.started": "2023-09-21T09:02:47.392727Z"
    },
    "tags": []
   },
   "outputs": [],
   "source": [
    "\n",
    "# hdf5_wri = cct.cct_raw_input(\"rewrite code [Y] or append [N]:\")\n",
    "# if len(hdf5_wri) == 0:\n",
    "#     pass\n",
    "# elif hdf5_wri == 'y' or hdf5_wri == 'Y':\n",
    "#     append_status = False\n",
    "# else:\n",
    "#     append_status = True\n",
    "# df2.code.values\n",
    "#today:\n",
    "# write_code_to_blk(df7code,'061')\n",
    "\n",
    "# write_code_to_blk(df7code,'062')\n",
    "\n",
    "# write_code_to_blk(df7code,'064')\n"
   ]
  },
  {
   "cell_type": "markdown",
   "metadata": {},
   "source": [
    "## 读取cn_stock_strategy_keep_increasing"
   ]
  },
  {
   "cell_type": "code",
   "execution_count": 19,
   "metadata": {
    "ExecuteTime": {
     "end_time": "2023-08-22T12:09:01.702420Z",
     "start_time": "2023-08-22T12:09:01.378288Z"
    },
    "execution": {
     "iopub.execute_input": "2023-09-21T09:02:47.408685Z",
     "iopub.status.busy": "2023-09-21T09:02:47.407694Z",
     "iopub.status.idle": "2023-09-21T09:02:47.780061Z",
     "shell.execute_reply": "2023-09-21T09:02:47.779493Z",
     "shell.execute_reply.started": "2023-09-21T09:02:47.408685Z"
    },
    "tags": []
   },
   "outputs": [
    {
     "name": "stdout",
     "output_type": "stream",
     "text": [
      "2023-09-21\n",
      "(4, 103)\n",
      "(15, 103)\n"
     ]
    }
   ],
   "source": [
    "# conn = pymysql.connect(**MYSQL_CONN_DBAPI)\n",
    "\n",
    "# _selcolall = f''' `date`,`code`,`name`,`rate_1` '''\n",
    "# _selcol = f''' `code`,`name`,`rate_1` '''\n",
    "_selcol = f''' *'''\n",
    "_table_name = 'cn_stock_strategy_keep_increasing'\n",
    "# date = last_tddate(1)\n",
    "today_now = last_tddate(0)\n",
    "print(today_now)\n",
    "# conn = pymysql.connect(**MYSQL_CONN_DBAPI)\n",
    "start_d = '2023-05-08'\n",
    "start_d = last_tddate(5)\n",
    "# sql_now_today = f'''SELECT {_selcol} FROM `{_table_name}` WHERE `date` >= '{start_d}' '''\n",
    "\n",
    "sql_now_today = f'''SELECT {_selcol} FROM `{_table_name}` WHERE `date` = '{today_now}' '''\n",
    "\n",
    "#mutildate\n",
    "sql_now_allday = f'''SELECT {_selcol} FROM `{_table_name}` WHERE `date` > '{today_now}'- INTERVAL 5 DAY '''\n",
    "\n",
    "# mycursor2 = pymysql.connect(**MYSQL_CONN_DBAPI)\n",
    "df_increas = panda_df(engine(),sql_now_today)\n",
    "\n",
    "df_increasA = panda_df(engine(),sql_now_allday)"
   ]
  },
  {
   "cell_type": "code",
   "execution_count": 20,
   "metadata": {
    "ExecuteTime": {
     "end_time": "2023-08-22T12:09:04.738990Z",
     "start_time": "2023-08-22T12:09:04.709070Z"
    },
    "execution": {
     "iopub.execute_input": "2023-09-21T09:02:47.781059Z",
     "iopub.status.busy": "2023-09-21T09:02:47.781059Z",
     "iopub.status.idle": "2023-09-21T09:02:47.810979Z",
     "shell.execute_reply": "2023-09-21T09:02:47.810979Z",
     "shell.execute_reply.started": "2023-09-21T09:02:47.781059Z"
    },
    "jupyter": {
     "source_hidden": true
    },
    "tags": []
   },
   "outputs": [
    {
     "data": {
      "text/html": [
       "<div>\n",
       "<style scoped>\n",
       "    .dataframe tbody tr th:only-of-type {\n",
       "        vertical-align: middle;\n",
       "    }\n",
       "\n",
       "    .dataframe tbody tr th {\n",
       "        vertical-align: top;\n",
       "    }\n",
       "\n",
       "    .dataframe thead th {\n",
       "        text-align: right;\n",
       "    }\n",
       "</style>\n",
       "<table border=\"1\" class=\"dataframe\">\n",
       "  <thead>\n",
       "    <tr style=\"text-align: right;\">\n",
       "      <th></th>\n",
       "      <th>date</th>\n",
       "      <th>code</th>\n",
       "      <th>name</th>\n",
       "      <th>rate_1</th>\n",
       "      <th>rate_2</th>\n",
       "      <th>rate_3</th>\n",
       "      <th>rate_4</th>\n",
       "      <th>rate_5</th>\n",
       "      <th>rate_6</th>\n",
       "      <th>rate_7</th>\n",
       "      <th>...</th>\n",
       "      <th>rate_91</th>\n",
       "      <th>rate_92</th>\n",
       "      <th>rate_93</th>\n",
       "      <th>rate_94</th>\n",
       "      <th>rate_95</th>\n",
       "      <th>rate_96</th>\n",
       "      <th>rate_97</th>\n",
       "      <th>rate_98</th>\n",
       "      <th>rate_99</th>\n",
       "      <th>rate_100</th>\n",
       "    </tr>\n",
       "  </thead>\n",
       "  <tbody>\n",
       "    <tr>\n",
       "      <th>2</th>\n",
       "      <td>2023-09-21</td>\n",
       "      <td>600243</td>\n",
       "      <td>青海华鼎</td>\n",
       "      <td>4.54</td>\n",
       "      <td>None</td>\n",
       "      <td>None</td>\n",
       "      <td>None</td>\n",
       "      <td>None</td>\n",
       "      <td>None</td>\n",
       "      <td>None</td>\n",
       "      <td>...</td>\n",
       "      <td>None</td>\n",
       "      <td>None</td>\n",
       "      <td>None</td>\n",
       "      <td>None</td>\n",
       "      <td>None</td>\n",
       "      <td>None</td>\n",
       "      <td>None</td>\n",
       "      <td>None</td>\n",
       "      <td>None</td>\n",
       "      <td>None</td>\n",
       "    </tr>\n",
       "    <tr>\n",
       "      <th>3</th>\n",
       "      <td>2023-09-21</td>\n",
       "      <td>601872</td>\n",
       "      <td>招商轮船</td>\n",
       "      <td>7.29</td>\n",
       "      <td>None</td>\n",
       "      <td>None</td>\n",
       "      <td>None</td>\n",
       "      <td>None</td>\n",
       "      <td>None</td>\n",
       "      <td>None</td>\n",
       "      <td>...</td>\n",
       "      <td>None</td>\n",
       "      <td>None</td>\n",
       "      <td>None</td>\n",
       "      <td>None</td>\n",
       "      <td>None</td>\n",
       "      <td>None</td>\n",
       "      <td>None</td>\n",
       "      <td>None</td>\n",
       "      <td>None</td>\n",
       "      <td>None</td>\n",
       "    </tr>\n",
       "    <tr>\n",
       "      <th>0</th>\n",
       "      <td>2023-09-21</td>\n",
       "      <td>002855</td>\n",
       "      <td>捷荣技术</td>\n",
       "      <td>10.00</td>\n",
       "      <td>None</td>\n",
       "      <td>None</td>\n",
       "      <td>None</td>\n",
       "      <td>None</td>\n",
       "      <td>None</td>\n",
       "      <td>None</td>\n",
       "      <td>...</td>\n",
       "      <td>None</td>\n",
       "      <td>None</td>\n",
       "      <td>None</td>\n",
       "      <td>None</td>\n",
       "      <td>None</td>\n",
       "      <td>None</td>\n",
       "      <td>None</td>\n",
       "      <td>None</td>\n",
       "      <td>None</td>\n",
       "      <td>None</td>\n",
       "    </tr>\n",
       "    <tr>\n",
       "      <th>1</th>\n",
       "      <td>2023-09-21</td>\n",
       "      <td>300504</td>\n",
       "      <td>天邑股份</td>\n",
       "      <td>10.23</td>\n",
       "      <td>None</td>\n",
       "      <td>None</td>\n",
       "      <td>None</td>\n",
       "      <td>None</td>\n",
       "      <td>None</td>\n",
       "      <td>None</td>\n",
       "      <td>...</td>\n",
       "      <td>None</td>\n",
       "      <td>None</td>\n",
       "      <td>None</td>\n",
       "      <td>None</td>\n",
       "      <td>None</td>\n",
       "      <td>None</td>\n",
       "      <td>None</td>\n",
       "      <td>None</td>\n",
       "      <td>None</td>\n",
       "      <td>None</td>\n",
       "    </tr>\n",
       "  </tbody>\n",
       "</table>\n",
       "<p>4 rows × 103 columns</p>\n",
       "</div>"
      ],
      "text/plain": [
       "         date    code  name  rate_1 rate_2 rate_3 rate_4 rate_5 rate_6 rate_7  \\\n",
       "2  2023-09-21  600243  青海华鼎    4.54   None   None   None   None   None   None   \n",
       "3  2023-09-21  601872  招商轮船    7.29   None   None   None   None   None   None   \n",
       "0  2023-09-21  002855  捷荣技术   10.00   None   None   None   None   None   None   \n",
       "1  2023-09-21  300504  天邑股份   10.23   None   None   None   None   None   None   \n",
       "\n",
       "   ... rate_91 rate_92 rate_93 rate_94 rate_95 rate_96 rate_97 rate_98  \\\n",
       "2  ...    None    None    None    None    None    None    None    None   \n",
       "3  ...    None    None    None    None    None    None    None    None   \n",
       "0  ...    None    None    None    None    None    None    None    None   \n",
       "1  ...    None    None    None    None    None    None    None    None   \n",
       "\n",
       "  rate_99 rate_100  \n",
       "2    None     None  \n",
       "3    None     None  \n",
       "0    None     None  \n",
       "1    None     None  \n",
       "\n",
       "[4 rows x 103 columns]"
      ]
     },
     "execution_count": 20,
     "metadata": {},
     "output_type": "execute_result"
    }
   ],
   "source": [
    "df_increas = df_increas.sort_values(by=['rate_1'],ascending=[1])\n",
    "df_increas"
   ]
  },
  {
   "cell_type": "markdown",
   "metadata": {},
   "source": [
    "## 写入周063"
   ]
  },
  {
   "cell_type": "code",
   "execution_count": 21,
   "metadata": {
    "execution": {
     "iopub.execute_input": "2023-09-21T09:02:47.811978Z",
     "iopub.status.busy": "2023-09-21T09:02:47.811978Z",
     "iopub.status.idle": "2023-09-21T09:02:47.826936Z",
     "shell.execute_reply": "2023-09-21T09:02:47.825972Z",
     "shell.execute_reply.started": "2023-09-21T09:02:47.811978Z"
    },
    "jupyter": {
     "source_hidden": true
    },
    "tags": []
   },
   "outputs": [],
   "source": [
    "# write_code_to_blk(df_increas.code.tolist(),'063')"
   ]
  },
  {
   "cell_type": "markdown",
   "metadata": {},
   "source": [
    "### Filter Day多日"
   ]
  },
  {
   "cell_type": "code",
   "execution_count": 22,
   "metadata": {
    "execution": {
     "iopub.execute_input": "2023-09-21T09:02:47.826936Z",
     "iopub.status.busy": "2023-09-21T09:02:47.826936Z",
     "iopub.status.idle": "2023-09-21T09:02:47.857855Z",
     "shell.execute_reply": "2023-09-21T09:02:47.857855Z",
     "shell.execute_reply.started": "2023-09-21T09:02:47.826936Z"
    },
    "jupyter": {
     "source_hidden": true
    },
    "tags": []
   },
   "outputs": [
    {
     "data": {
      "text/html": [
       "<div>\n",
       "<style scoped>\n",
       "    .dataframe tbody tr th:only-of-type {\n",
       "        vertical-align: middle;\n",
       "    }\n",
       "\n",
       "    .dataframe tbody tr th {\n",
       "        vertical-align: top;\n",
       "    }\n",
       "\n",
       "    .dataframe thead th {\n",
       "        text-align: right;\n",
       "    }\n",
       "</style>\n",
       "<table border=\"1\" class=\"dataframe\">\n",
       "  <thead>\n",
       "    <tr style=\"text-align: right;\">\n",
       "      <th></th>\n",
       "      <th></th>\n",
       "      <th>index</th>\n",
       "      <th>name</th>\n",
       "      <th>rate_1</th>\n",
       "      <th>rate_2</th>\n",
       "      <th>rate_3</th>\n",
       "      <th>rate_4</th>\n",
       "      <th>rate_5</th>\n",
       "      <th>rate_6</th>\n",
       "      <th>rate_7</th>\n",
       "      <th>rate_8</th>\n",
       "      <th>...</th>\n",
       "      <th>rate_92</th>\n",
       "      <th>rate_93</th>\n",
       "      <th>rate_94</th>\n",
       "      <th>rate_95</th>\n",
       "      <th>rate_96</th>\n",
       "      <th>rate_97</th>\n",
       "      <th>rate_98</th>\n",
       "      <th>rate_99</th>\n",
       "      <th>rate_100</th>\n",
       "      <th>couts</th>\n",
       "    </tr>\n",
       "    <tr>\n",
       "      <th>code</th>\n",
       "      <th>date</th>\n",
       "      <th></th>\n",
       "      <th></th>\n",
       "      <th></th>\n",
       "      <th></th>\n",
       "      <th></th>\n",
       "      <th></th>\n",
       "      <th></th>\n",
       "      <th></th>\n",
       "      <th></th>\n",
       "      <th></th>\n",
       "      <th></th>\n",
       "      <th></th>\n",
       "      <th></th>\n",
       "      <th></th>\n",
       "      <th></th>\n",
       "      <th></th>\n",
       "      <th></th>\n",
       "      <th></th>\n",
       "      <th></th>\n",
       "      <th></th>\n",
       "      <th></th>\n",
       "    </tr>\n",
       "  </thead>\n",
       "  <tbody>\n",
       "  </tbody>\n",
       "</table>\n",
       "<p>0 rows × 103 columns</p>\n",
       "</div>"
      ],
      "text/plain": [
       "Empty DataFrame\n",
       "Columns: [index, name, rate_1, rate_2, rate_3, rate_4, rate_5, rate_6, rate_7, rate_8, rate_9, rate_10, rate_11, rate_12, rate_13, rate_14, rate_15, rate_16, rate_17, rate_18, rate_19, rate_20, rate_21, rate_22, rate_23, rate_24, rate_25, rate_26, rate_27, rate_28, rate_29, rate_30, rate_31, rate_32, rate_33, rate_34, rate_35, rate_36, rate_37, rate_38, rate_39, rate_40, rate_41, rate_42, rate_43, rate_44, rate_45, rate_46, rate_47, rate_48, rate_49, rate_50, rate_51, rate_52, rate_53, rate_54, rate_55, rate_56, rate_57, rate_58, rate_59, rate_60, rate_61, rate_62, rate_63, rate_64, rate_65, rate_66, rate_67, rate_68, rate_69, rate_70, rate_71, rate_72, rate_73, rate_74, rate_75, rate_76, rate_77, rate_78, rate_79, rate_80, rate_81, rate_82, rate_83, rate_84, rate_85, rate_86, rate_87, rate_88, rate_89, rate_90, rate_91, rate_92, rate_93, rate_94, rate_95, rate_96, rate_97, rate_98, ...]\n",
       "Index: []\n",
       "\n",
       "[0 rows x 103 columns]"
      ]
     },
     "execution_count": 22,
     "metadata": {},
     "output_type": "execute_result"
    }
   ],
   "source": [
    "df_increas.shape\n",
    "df_increasA.shape\n",
    "df_increasA.columns[:10]\n",
    "# df_iA = df_increasA.groupby(level=[0]).tail(1)\n",
    "df_iA = groupby_count_code(df_increas)\n",
    "df_iA_multiIndex = df_iA.reset_index().set_index(['code','date'])\n",
    "df_iA_multiIndex.shape\n",
    "# df_iA_multiIndex[:10]\n",
    "# df_iA_multiIndex[-10:]\n",
    "# df_iA.loc[df_iA.code == '000028']\n",
    "df_iA_multiIndex[df_iA_multiIndex.index.get_level_values('code') == '000028'][:2]"
   ]
  },
  {
   "cell_type": "code",
   "execution_count": 23,
   "metadata": {
    "execution": {
     "iopub.execute_input": "2023-09-21T09:02:47.858885Z",
     "iopub.status.busy": "2023-09-21T09:02:47.858885Z",
     "iopub.status.idle": "2023-09-21T09:02:47.873620Z",
     "shell.execute_reply": "2023-09-21T09:02:47.873620Z",
     "shell.execute_reply.started": "2023-09-21T09:02:47.858885Z"
    },
    "jupyter": {
     "source_hidden": true
    },
    "tags": []
   },
   "outputs": [
    {
     "data": {
      "text/html": [
       "<div>\n",
       "<style scoped>\n",
       "    .dataframe tbody tr th:only-of-type {\n",
       "        vertical-align: middle;\n",
       "    }\n",
       "\n",
       "    .dataframe tbody tr th {\n",
       "        vertical-align: top;\n",
       "    }\n",
       "\n",
       "    .dataframe thead th {\n",
       "        text-align: right;\n",
       "    }\n",
       "</style>\n",
       "<table border=\"1\" class=\"dataframe\">\n",
       "  <thead>\n",
       "    <tr style=\"text-align: right;\">\n",
       "      <th></th>\n",
       "      <th>date</th>\n",
       "      <th>name</th>\n",
       "      <th>couts</th>\n",
       "    </tr>\n",
       "    <tr>\n",
       "      <th>code</th>\n",
       "      <th></th>\n",
       "      <th></th>\n",
       "      <th></th>\n",
       "    </tr>\n",
       "  </thead>\n",
       "  <tbody>\n",
       "    <tr>\n",
       "      <th>600243</th>\n",
       "      <td>2023-09-21</td>\n",
       "      <td>青海华鼎</td>\n",
       "      <td>1</td>\n",
       "    </tr>\n",
       "    <tr>\n",
       "      <th>601872</th>\n",
       "      <td>2023-09-21</td>\n",
       "      <td>招商轮船</td>\n",
       "      <td>1</td>\n",
       "    </tr>\n",
       "    <tr>\n",
       "      <th>002855</th>\n",
       "      <td>2023-09-21</td>\n",
       "      <td>捷荣技术</td>\n",
       "      <td>1</td>\n",
       "    </tr>\n",
       "    <tr>\n",
       "      <th>300504</th>\n",
       "      <td>2023-09-21</td>\n",
       "      <td>天邑股份</td>\n",
       "      <td>1</td>\n",
       "    </tr>\n",
       "  </tbody>\n",
       "</table>\n",
       "</div>"
      ],
      "text/plain": [
       "              date  name  couts\n",
       "code                           \n",
       "600243  2023-09-21  青海华鼎      1\n",
       "601872  2023-09-21  招商轮船      1\n",
       "002855  2023-09-21  捷荣技术      1\n",
       "300504  2023-09-21  天邑股份      1"
      ]
     },
     "execution_count": 23,
     "metadata": {},
     "output_type": "execute_result"
    }
   ],
   "source": [
    "df_iAtail = df_iA_multiIndex.groupby(level=[0]).tail(1)\n",
    "# df7tail.reset_index().code\n",
    "df_iAtail =  df_iAtail.reset_index().set_index('code')\n",
    "df_iAtail.loc[:,['date','name','couts']][:5]\n",
    "# df_iA.loc[:,['date','code','name','couts']][:50]\n",
    "\n",
    "# df_iAtail[df_iAtail.couts < 3].loc[:,['date','name','couts']]"
   ]
  },
  {
   "cell_type": "markdown",
   "metadata": {},
   "source": [
    "### show Couts"
   ]
  },
  {
   "cell_type": "code",
   "execution_count": 24,
   "metadata": {
    "execution": {
     "iopub.execute_input": "2023-09-21T09:02:47.874610Z",
     "iopub.status.busy": "2023-09-21T09:02:47.874610Z",
     "iopub.status.idle": "2023-09-21T09:02:47.889570Z",
     "shell.execute_reply": "2023-09-21T09:02:47.889570Z",
     "shell.execute_reply.started": "2023-09-21T09:02:47.874610Z"
    },
    "jupyter": {
     "source_hidden": true
    },
    "tags": []
   },
   "outputs": [
    {
     "data": {
      "text/html": [
       "<div>\n",
       "<style scoped>\n",
       "    .dataframe tbody tr th:only-of-type {\n",
       "        vertical-align: middle;\n",
       "    }\n",
       "\n",
       "    .dataframe tbody tr th {\n",
       "        vertical-align: top;\n",
       "    }\n",
       "\n",
       "    .dataframe thead th {\n",
       "        text-align: right;\n",
       "    }\n",
       "</style>\n",
       "<table border=\"1\" class=\"dataframe\">\n",
       "  <thead>\n",
       "    <tr style=\"text-align: right;\">\n",
       "      <th></th>\n",
       "      <th>date</th>\n",
       "      <th>code</th>\n",
       "      <th>name</th>\n",
       "      <th>couts</th>\n",
       "    </tr>\n",
       "  </thead>\n",
       "  <tbody>\n",
       "    <tr>\n",
       "      <th>2</th>\n",
       "      <td>2023-09-21</td>\n",
       "      <td>600243</td>\n",
       "      <td>青海华鼎</td>\n",
       "      <td>1</td>\n",
       "    </tr>\n",
       "    <tr>\n",
       "      <th>3</th>\n",
       "      <td>2023-09-21</td>\n",
       "      <td>601872</td>\n",
       "      <td>招商轮船</td>\n",
       "      <td>1</td>\n",
       "    </tr>\n",
       "    <tr>\n",
       "      <th>0</th>\n",
       "      <td>2023-09-21</td>\n",
       "      <td>002855</td>\n",
       "      <td>捷荣技术</td>\n",
       "      <td>1</td>\n",
       "    </tr>\n",
       "    <tr>\n",
       "      <th>1</th>\n",
       "      <td>2023-09-21</td>\n",
       "      <td>300504</td>\n",
       "      <td>天邑股份</td>\n",
       "      <td>1</td>\n",
       "    </tr>\n",
       "  </tbody>\n",
       "</table>\n",
       "</div>"
      ],
      "text/plain": [
       "         date    code  name  couts\n",
       "2  2023-09-21  600243  青海华鼎      1\n",
       "3  2023-09-21  601872  招商轮船      1\n",
       "0  2023-09-21  002855  捷荣技术      1\n",
       "1  2023-09-21  300504  天邑股份      1"
      ]
     },
     "execution_count": 24,
     "metadata": {},
     "output_type": "execute_result"
    }
   ],
   "source": [
    "df_iA.loc[:,['date','code','name','couts']]"
   ]
  },
  {
   "cell_type": "markdown",
   "metadata": {},
   "source": [
    "## cn_stock_indicators MutilIndex"
   ]
  },
  {
   "cell_type": "markdown",
   "metadata": {},
   "source": [
    "### 读取SQL数据表"
   ]
  },
  {
   "cell_type": "code",
   "execution_count": 25,
   "metadata": {
    "execution": {
     "iopub.execute_input": "2023-09-21T09:02:47.891565Z",
     "iopub.status.busy": "2023-09-21T09:02:47.890567Z",
     "iopub.status.idle": "2023-09-21T09:02:50.901482Z",
     "shell.execute_reply": "2023-09-21T09:02:50.901482Z",
     "shell.execute_reply.started": "2023-09-21T09:02:47.891565Z"
    },
    "jupyter": {
     "source_hidden": true
    },
    "tags": []
   },
   "outputs": [
    {
     "name": "stdout",
     "output_type": "stream",
     "text": [
      "2023-09-21\n",
      "(22482, 77)\n"
     ]
    }
   ],
   "source": [
    "# conn = pymysql.connect(**MYSQL_CONN_DBAPI)\n",
    "\n",
    "# _selcolall = f''' `date`,`code`,`name`,`rate_1` '''\n",
    "# _selcol = f''' `code`,`name`,`rate_1` '''\n",
    "_selcol = f''' *'''\n",
    "_table_name = 'cn_stock_indicators'\n",
    "# date = last_tddate(1)\n",
    "today_now = last_tddate(0)\n",
    "print(today_now)\n",
    "# conn = pymysql.connect(**MYSQL_CONN_DBAPI)\n",
    "start_d = last_tddate(5)\n",
    "\n",
    "sql_now_today = f'''SELECT {_selcol} FROM `{_table_name}` WHERE `date` >= '{start_d}' '''\n",
    "\n",
    "#mutildate\n",
    "sql_now_allday = f'''SELECT {_selcol} FROM `{_table_name}` '''\n",
    "\n",
    "# mycursor2 = pymysql.connect(**MYSQL_CONN_DBAPI)\n",
    "df2 = panda_df(engine(),sql_now_today)\n",
    "\n",
    "# df2 = panda_df(engine(),sql_now_allday)\n",
    "\n",
    "\n",
    "\n",
    "# conn.close()"
   ]
  },
  {
   "cell_type": "code",
   "execution_count": 26,
   "metadata": {
    "execution": {
     "iopub.execute_input": "2023-09-21T09:02:50.902446Z",
     "iopub.status.busy": "2023-09-21T09:02:50.902446Z",
     "iopub.status.idle": "2023-09-21T09:02:50.933376Z",
     "shell.execute_reply": "2023-09-21T09:02:50.933376Z",
     "shell.execute_reply.started": "2023-09-21T09:02:50.902446Z"
    },
    "jupyter": {
     "source_hidden": true
    },
    "tags": []
   },
   "outputs": [
    {
     "data": {
      "text/html": [
       "<div>\n",
       "<style scoped>\n",
       "    .dataframe tbody tr th:only-of-type {\n",
       "        vertical-align: middle;\n",
       "    }\n",
       "\n",
       "    .dataframe tbody tr th {\n",
       "        vertical-align: top;\n",
       "    }\n",
       "\n",
       "    .dataframe thead th {\n",
       "        text-align: right;\n",
       "    }\n",
       "</style>\n",
       "<table border=\"1\" class=\"dataframe\">\n",
       "  <thead>\n",
       "    <tr style=\"text-align: right;\">\n",
       "      <th></th>\n",
       "      <th>date</th>\n",
       "      <th>code</th>\n",
       "      <th>name</th>\n",
       "      <th>close</th>\n",
       "      <th>macd</th>\n",
       "      <th>macds</th>\n",
       "      <th>macdh</th>\n",
       "      <th>kdjk</th>\n",
       "      <th>kdjd</th>\n",
       "      <th>kdjj</th>\n",
       "      <th>...</th>\n",
       "      <th>rvi</th>\n",
       "      <th>rvis</th>\n",
       "      <th>fi</th>\n",
       "      <th>force_2</th>\n",
       "      <th>force_13</th>\n",
       "      <th>ene_ue</th>\n",
       "      <th>ene</th>\n",
       "      <th>ene_le</th>\n",
       "      <th>stochrsi_k</th>\n",
       "      <th>stochrsi_d</th>\n",
       "    </tr>\n",
       "  </thead>\n",
       "  <tbody>\n",
       "    <tr>\n",
       "      <th>43</th>\n",
       "      <td>2023-09-14</td>\n",
       "      <td>000061</td>\n",
       "      <td>农 产 品</td>\n",
       "      <td>6.84</td>\n",
       "      <td>0.003391</td>\n",
       "      <td>0.008593</td>\n",
       "      <td>-0.005202</td>\n",
       "      <td>47.7138</td>\n",
       "      <td>43.5225</td>\n",
       "      <td>56.0962</td>\n",
       "      <td>...</td>\n",
       "      <td>0.020792</td>\n",
       "      <td>0.007394</td>\n",
       "      <td>172761.0</td>\n",
       "      <td>17098.1</td>\n",
       "      <td>33136.9</td>\n",
       "      <td>7.58019</td>\n",
       "      <td>6.89729</td>\n",
       "      <td>6.21439</td>\n",
       "      <td>53.6437</td>\n",
       "      <td>56.7608</td>\n",
       "    </tr>\n",
       "    <tr>\n",
       "      <th>4539</th>\n",
       "      <td>2023-09-15</td>\n",
       "      <td>000061</td>\n",
       "      <td>农 产 品</td>\n",
       "      <td>6.82</td>\n",
       "      <td>0.001955</td>\n",
       "      <td>0.007406</td>\n",
       "      <td>-0.005451</td>\n",
       "      <td>46.4433</td>\n",
       "      <td>44.4961</td>\n",
       "      <td>50.3377</td>\n",
       "      <td>...</td>\n",
       "      <td>-0.022111</td>\n",
       "      <td>0.017544</td>\n",
       "      <td>-185164.0</td>\n",
       "      <td>-117743.0</td>\n",
       "      <td>1949.2</td>\n",
       "      <td>7.56243</td>\n",
       "      <td>6.88113</td>\n",
       "      <td>6.19983</td>\n",
       "      <td>47.1366</td>\n",
       "      <td>48.4056</td>\n",
       "    </tr>\n",
       "    <tr>\n",
       "      <th>9035</th>\n",
       "      <td>2023-09-18</td>\n",
       "      <td>000061</td>\n",
       "      <td>农 产 品</td>\n",
       "      <td>6.76</td>\n",
       "      <td>-0.003951</td>\n",
       "      <td>0.005289</td>\n",
       "      <td>-0.009240</td>\n",
       "      <td>42.3258</td>\n",
       "      <td>43.7727</td>\n",
       "      <td>39.4321</td>\n",
       "      <td>...</td>\n",
       "      <td>-0.052104</td>\n",
       "      <td>-0.002521</td>\n",
       "      <td>-802836.0</td>\n",
       "      <td>-574472.0</td>\n",
       "      <td>-113020.0</td>\n",
       "      <td>7.55133</td>\n",
       "      <td>6.87103</td>\n",
       "      <td>6.19073</td>\n",
       "      <td>28.4712</td>\n",
       "      <td>43.0702</td>\n",
       "    </tr>\n",
       "    <tr>\n",
       "      <th>13531</th>\n",
       "      <td>2023-09-19</td>\n",
       "      <td>000061</td>\n",
       "      <td>农 产 品</td>\n",
       "      <td>6.82</td>\n",
       "      <td>-0.003780</td>\n",
       "      <td>0.003565</td>\n",
       "      <td>-0.007345</td>\n",
       "      <td>44.1263</td>\n",
       "      <td>43.8906</td>\n",
       "      <td>44.5978</td>\n",
       "      <td>...</td>\n",
       "      <td>-0.073386</td>\n",
       "      <td>-0.033504</td>\n",
       "      <td>569814.0</td>\n",
       "      <td>188385.0</td>\n",
       "      <td>-15472.6</td>\n",
       "      <td>7.55022</td>\n",
       "      <td>6.87002</td>\n",
       "      <td>6.18982</td>\n",
       "      <td>52.0852</td>\n",
       "      <td>42.5909</td>\n",
       "    </tr>\n",
       "    <tr>\n",
       "      <th>18028</th>\n",
       "      <td>2023-09-20</td>\n",
       "      <td>000061</td>\n",
       "      <td>农 产 品</td>\n",
       "      <td>6.87</td>\n",
       "      <td>0.000378</td>\n",
       "      <td>0.002995</td>\n",
       "      <td>-0.002617</td>\n",
       "      <td>49.1145</td>\n",
       "      <td>45.6319</td>\n",
       "      <td>56.0798</td>\n",
       "      <td>...</td>\n",
       "      <td>-0.062559</td>\n",
       "      <td>-0.055941</td>\n",
       "      <td>411980.0</td>\n",
       "      <td>337448.0</td>\n",
       "      <td>45592.0</td>\n",
       "      <td>7.57242</td>\n",
       "      <td>6.89022</td>\n",
       "      <td>6.20802</td>\n",
       "      <td>71.0211</td>\n",
       "      <td>50.5218</td>\n",
       "    </tr>\n",
       "  </tbody>\n",
       "</table>\n",
       "<p>5 rows × 77 columns</p>\n",
       "</div>"
      ],
      "text/plain": [
       "             date    code   name  close      macd     macds     macdh  \\\n",
       "43     2023-09-14  000061  农 产 品   6.84  0.003391  0.008593 -0.005202   \n",
       "4539   2023-09-15  000061  农 产 品   6.82  0.001955  0.007406 -0.005451   \n",
       "9035   2023-09-18  000061  农 产 品   6.76 -0.003951  0.005289 -0.009240   \n",
       "13531  2023-09-19  000061  农 产 品   6.82 -0.003780  0.003565 -0.007345   \n",
       "18028  2023-09-20  000061  农 产 品   6.87  0.000378  0.002995 -0.002617   \n",
       "\n",
       "          kdjk     kdjd     kdjj  ...       rvi      rvis        fi   force_2  \\\n",
       "43     47.7138  43.5225  56.0962  ...  0.020792  0.007394  172761.0   17098.1   \n",
       "4539   46.4433  44.4961  50.3377  ... -0.022111  0.017544 -185164.0 -117743.0   \n",
       "9035   42.3258  43.7727  39.4321  ... -0.052104 -0.002521 -802836.0 -574472.0   \n",
       "13531  44.1263  43.8906  44.5978  ... -0.073386 -0.033504  569814.0  188385.0   \n",
       "18028  49.1145  45.6319  56.0798  ... -0.062559 -0.055941  411980.0  337448.0   \n",
       "\n",
       "       force_13   ene_ue      ene   ene_le  stochrsi_k  stochrsi_d  \n",
       "43      33136.9  7.58019  6.89729  6.21439     53.6437     56.7608  \n",
       "4539     1949.2  7.56243  6.88113  6.19983     47.1366     48.4056  \n",
       "9035  -113020.0  7.55133  6.87103  6.19073     28.4712     43.0702  \n",
       "13531  -15472.6  7.55022  6.87002  6.18982     52.0852     42.5909  \n",
       "18028   45592.0  7.57242  6.89022  6.20802     71.0211     50.5218  \n",
       "\n",
       "[5 rows x 77 columns]"
      ]
     },
     "execution_count": 26,
     "metadata": {},
     "output_type": "execute_result"
    }
   ],
   "source": [
    "df2.columns\n",
    "df2.loc[df2.code =='000061'][:5]"
   ]
  },
  {
   "cell_type": "code",
   "execution_count": 27,
   "metadata": {
    "execution": {
     "iopub.execute_input": "2023-09-21T09:02:50.934360Z",
     "iopub.status.busy": "2023-09-21T09:02:50.934360Z",
     "iopub.status.idle": "2023-09-21T09:02:50.981234Z",
     "shell.execute_reply": "2023-09-21T09:02:50.980241Z",
     "shell.execute_reply.started": "2023-09-21T09:02:50.934360Z"
    },
    "jupyter": {
     "source_hidden": true
    },
    "tags": []
   },
   "outputs": [
    {
     "data": {
      "text/html": [
       "<div>\n",
       "<style scoped>\n",
       "    .dataframe tbody tr th:only-of-type {\n",
       "        vertical-align: middle;\n",
       "    }\n",
       "\n",
       "    .dataframe tbody tr th {\n",
       "        vertical-align: top;\n",
       "    }\n",
       "\n",
       "    .dataframe thead th {\n",
       "        text-align: right;\n",
       "    }\n",
       "</style>\n",
       "<table border=\"1\" class=\"dataframe\">\n",
       "  <thead>\n",
       "    <tr style=\"text-align: right;\">\n",
       "      <th></th>\n",
       "      <th>date</th>\n",
       "      <th>code</th>\n",
       "      <th>name</th>\n",
       "      <th>close</th>\n",
       "      <th>macd</th>\n",
       "      <th>macds</th>\n",
       "      <th>macdh</th>\n",
       "      <th>kdjk</th>\n",
       "      <th>kdjd</th>\n",
       "      <th>kdjj</th>\n",
       "      <th>...</th>\n",
       "      <th>rvi</th>\n",
       "      <th>rvis</th>\n",
       "      <th>fi</th>\n",
       "      <th>force_2</th>\n",
       "      <th>force_13</th>\n",
       "      <th>ene_ue</th>\n",
       "      <th>ene</th>\n",
       "      <th>ene_le</th>\n",
       "      <th>stochrsi_k</th>\n",
       "      <th>stochrsi_d</th>\n",
       "    </tr>\n",
       "  </thead>\n",
       "  <tbody>\n",
       "    <tr>\n",
       "      <th>34</th>\n",
       "      <td>2023-09-14</td>\n",
       "      <td>000046</td>\n",
       "      <td>*ST泛海</td>\n",
       "      <td>2.58</td>\n",
       "      <td>0.240521</td>\n",
       "      <td>0.191615</td>\n",
       "      <td>0.048906</td>\n",
       "      <td>92.7322</td>\n",
       "      <td>88.2246</td>\n",
       "      <td>101.7470</td>\n",
       "      <td>...</td>\n",
       "      <td>0.155096</td>\n",
       "      <td>0.173345</td>\n",
       "      <td>18987600.0</td>\n",
       "      <td>18576000.0</td>\n",
       "      <td>8711240.0</td>\n",
       "      <td>2.46864</td>\n",
       "      <td>2.24624</td>\n",
       "      <td>2.02384</td>\n",
       "      <td>97.2637</td>\n",
       "      <td>88.0510</td>\n",
       "    </tr>\n",
       "    <tr>\n",
       "      <th>40</th>\n",
       "      <td>2023-09-14</td>\n",
       "      <td>000058</td>\n",
       "      <td>深 赛 格</td>\n",
       "      <td>7.73</td>\n",
       "      <td>0.235000</td>\n",
       "      <td>0.109670</td>\n",
       "      <td>0.125330</td>\n",
       "      <td>68.7638</td>\n",
       "      <td>61.5814</td>\n",
       "      <td>83.1286</td>\n",
       "      <td>...</td>\n",
       "      <td>0.165354</td>\n",
       "      <td>0.102017</td>\n",
       "      <td>-25487600.0</td>\n",
       "      <td>-4692570.0</td>\n",
       "      <td>5119210.0</td>\n",
       "      <td>7.79553</td>\n",
       "      <td>7.09323</td>\n",
       "      <td>6.39093</td>\n",
       "      <td>81.1077</td>\n",
       "      <td>90.8597</td>\n",
       "    </tr>\n",
       "    <tr>\n",
       "      <th>91</th>\n",
       "      <td>2023-09-14</td>\n",
       "      <td>000429</td>\n",
       "      <td>粤高速Ａ</td>\n",
       "      <td>8.07</td>\n",
       "      <td>0.101198</td>\n",
       "      <td>0.081554</td>\n",
       "      <td>0.019645</td>\n",
       "      <td>81.3169</td>\n",
       "      <td>74.1953</td>\n",
       "      <td>95.5603</td>\n",
       "      <td>...</td>\n",
       "      <td>0.131633</td>\n",
       "      <td>0.016956</td>\n",
       "      <td>1905760.0</td>\n",
       "      <td>1380440.0</td>\n",
       "      <td>484592.0</td>\n",
       "      <td>8.72460</td>\n",
       "      <td>7.93860</td>\n",
       "      <td>7.15260</td>\n",
       "      <td>100.0000</td>\n",
       "      <td>76.3930</td>\n",
       "    </tr>\n",
       "    <tr>\n",
       "      <th>99</th>\n",
       "      <td>2023-09-14</td>\n",
       "      <td>000506</td>\n",
       "      <td>中润资源</td>\n",
       "      <td>5.40</td>\n",
       "      <td>0.153453</td>\n",
       "      <td>0.130519</td>\n",
       "      <td>0.022933</td>\n",
       "      <td>57.9871</td>\n",
       "      <td>50.0217</td>\n",
       "      <td>73.9179</td>\n",
       "      <td>...</td>\n",
       "      <td>0.166092</td>\n",
       "      <td>0.104405</td>\n",
       "      <td>62795000.0</td>\n",
       "      <td>50227100.0</td>\n",
       "      <td>14701500.0</td>\n",
       "      <td>5.55333</td>\n",
       "      <td>5.05303</td>\n",
       "      <td>4.55273</td>\n",
       "      <td>100.0000</td>\n",
       "      <td>52.1102</td>\n",
       "    </tr>\n",
       "    <tr>\n",
       "      <th>122</th>\n",
       "      <td>2023-09-14</td>\n",
       "      <td>000536</td>\n",
       "      <td>华映科技</td>\n",
       "      <td>3.65</td>\n",
       "      <td>0.396068</td>\n",
       "      <td>0.236270</td>\n",
       "      <td>0.159798</td>\n",
       "      <td>89.3482</td>\n",
       "      <td>87.7679</td>\n",
       "      <td>92.5089</td>\n",
       "      <td>...</td>\n",
       "      <td>0.364213</td>\n",
       "      <td>0.401461</td>\n",
       "      <td>91033600.0</td>\n",
       "      <td>90489600.0</td>\n",
       "      <td>50798300.0</td>\n",
       "      <td>3.17127</td>\n",
       "      <td>2.88557</td>\n",
       "      <td>2.59987</td>\n",
       "      <td>86.8899</td>\n",
       "      <td>84.8038</td>\n",
       "    </tr>\n",
       "    <tr>\n",
       "      <th>...</th>\n",
       "      <td>...</td>\n",
       "      <td>...</td>\n",
       "      <td>...</td>\n",
       "      <td>...</td>\n",
       "      <td>...</td>\n",
       "      <td>...</td>\n",
       "      <td>...</td>\n",
       "      <td>...</td>\n",
       "      <td>...</td>\n",
       "      <td>...</td>\n",
       "      <td>...</td>\n",
       "      <td>...</td>\n",
       "      <td>...</td>\n",
       "      <td>...</td>\n",
       "      <td>...</td>\n",
       "      <td>...</td>\n",
       "      <td>...</td>\n",
       "      <td>...</td>\n",
       "      <td>...</td>\n",
       "      <td>...</td>\n",
       "      <td>...</td>\n",
       "    </tr>\n",
       "    <tr>\n",
       "      <th>22122</th>\n",
       "      <td>2023-09-20</td>\n",
       "      <td>603557</td>\n",
       "      <td>ST起步</td>\n",
       "      <td>2.60</td>\n",
       "      <td>0.015187</td>\n",
       "      <td>0.000855</td>\n",
       "      <td>0.014332</td>\n",
       "      <td>74.9307</td>\n",
       "      <td>69.2501</td>\n",
       "      <td>86.2919</td>\n",
       "      <td>...</td>\n",
       "      <td>0.077810</td>\n",
       "      <td>0.023075</td>\n",
       "      <td>792840.0</td>\n",
       "      <td>546964.0</td>\n",
       "      <td>145854.0</td>\n",
       "      <td>2.76723</td>\n",
       "      <td>2.51793</td>\n",
       "      <td>2.26863</td>\n",
       "      <td>100.0000</td>\n",
       "      <td>100.0000</td>\n",
       "    </tr>\n",
       "    <tr>\n",
       "      <th>22124</th>\n",
       "      <td>2023-09-20</td>\n",
       "      <td>603559</td>\n",
       "      <td>ST通脉</td>\n",
       "      <td>7.55</td>\n",
       "      <td>0.111081</td>\n",
       "      <td>0.032707</td>\n",
       "      <td>0.078374</td>\n",
       "      <td>69.9732</td>\n",
       "      <td>57.7877</td>\n",
       "      <td>94.3441</td>\n",
       "      <td>...</td>\n",
       "      <td>0.270270</td>\n",
       "      <td>0.131034</td>\n",
       "      <td>728196.0</td>\n",
       "      <td>1385480.0</td>\n",
       "      <td>788801.0</td>\n",
       "      <td>7.75446</td>\n",
       "      <td>7.05586</td>\n",
       "      <td>6.35726</td>\n",
       "      <td>100.0000</td>\n",
       "      <td>100.0000</td>\n",
       "    </tr>\n",
       "    <tr>\n",
       "      <th>22285</th>\n",
       "      <td>2023-09-20</td>\n",
       "      <td>603863</td>\n",
       "      <td>松炀资源</td>\n",
       "      <td>22.60</td>\n",
       "      <td>0.348027</td>\n",
       "      <td>0.094791</td>\n",
       "      <td>0.253236</td>\n",
       "      <td>85.1396</td>\n",
       "      <td>78.4694</td>\n",
       "      <td>98.4800</td>\n",
       "      <td>...</td>\n",
       "      <td>0.238780</td>\n",
       "      <td>0.126549</td>\n",
       "      <td>7747190.0</td>\n",
       "      <td>5522120.0</td>\n",
       "      <td>2283040.0</td>\n",
       "      <td>23.08580</td>\n",
       "      <td>21.00600</td>\n",
       "      <td>18.92620</td>\n",
       "      <td>100.0000</td>\n",
       "      <td>92.2164</td>\n",
       "    </tr>\n",
       "    <tr>\n",
       "      <th>22330</th>\n",
       "      <td>2023-09-20</td>\n",
       "      <td>603933</td>\n",
       "      <td>睿能科技</td>\n",
       "      <td>20.36</td>\n",
       "      <td>0.642599</td>\n",
       "      <td>0.290827</td>\n",
       "      <td>0.351772</td>\n",
       "      <td>77.1538</td>\n",
       "      <td>71.5254</td>\n",
       "      <td>88.4108</td>\n",
       "      <td>...</td>\n",
       "      <td>0.380751</td>\n",
       "      <td>0.365444</td>\n",
       "      <td>40904900.0</td>\n",
       "      <td>26445500.0</td>\n",
       "      <td>9368200.0</td>\n",
       "      <td>20.46620</td>\n",
       "      <td>18.62240</td>\n",
       "      <td>16.77860</td>\n",
       "      <td>89.3296</td>\n",
       "      <td>75.6186</td>\n",
       "    </tr>\n",
       "    <tr>\n",
       "      <th>22428</th>\n",
       "      <td>2023-09-20</td>\n",
       "      <td>605198</td>\n",
       "      <td>安德利</td>\n",
       "      <td>20.40</td>\n",
       "      <td>0.175119</td>\n",
       "      <td>0.020138</td>\n",
       "      <td>0.154981</td>\n",
       "      <td>84.0136</td>\n",
       "      <td>78.5993</td>\n",
       "      <td>94.8422</td>\n",
       "      <td>...</td>\n",
       "      <td>0.372499</td>\n",
       "      <td>0.335306</td>\n",
       "      <td>2112420.0</td>\n",
       "      <td>1720990.0</td>\n",
       "      <td>567286.0</td>\n",
       "      <td>21.38190</td>\n",
       "      <td>19.45560</td>\n",
       "      <td>17.52930</td>\n",
       "      <td>100.0000</td>\n",
       "      <td>98.0198</td>\n",
       "    </tr>\n",
       "  </tbody>\n",
       "</table>\n",
       "<p>308 rows × 77 columns</p>\n",
       "</div>"
      ],
      "text/plain": [
       "             date    code   name  close      macd     macds     macdh  \\\n",
       "34     2023-09-14  000046  *ST泛海   2.58  0.240521  0.191615  0.048906   \n",
       "40     2023-09-14  000058  深 赛 格   7.73  0.235000  0.109670  0.125330   \n",
       "91     2023-09-14  000429   粤高速Ａ   8.07  0.101198  0.081554  0.019645   \n",
       "99     2023-09-14  000506   中润资源   5.40  0.153453  0.130519  0.022933   \n",
       "122    2023-09-14  000536   华映科技   3.65  0.396068  0.236270  0.159798   \n",
       "...           ...     ...    ...    ...       ...       ...       ...   \n",
       "22122  2023-09-20  603557   ST起步   2.60  0.015187  0.000855  0.014332   \n",
       "22124  2023-09-20  603559   ST通脉   7.55  0.111081  0.032707  0.078374   \n",
       "22285  2023-09-20  603863   松炀资源  22.60  0.348027  0.094791  0.253236   \n",
       "22330  2023-09-20  603933   睿能科技  20.36  0.642599  0.290827  0.351772   \n",
       "22428  2023-09-20  605198    安德利  20.40  0.175119  0.020138  0.154981   \n",
       "\n",
       "          kdjk     kdjd      kdjj  ...       rvi      rvis          fi  \\\n",
       "34     92.7322  88.2246  101.7470  ...  0.155096  0.173345  18987600.0   \n",
       "40     68.7638  61.5814   83.1286  ...  0.165354  0.102017 -25487600.0   \n",
       "91     81.3169  74.1953   95.5603  ...  0.131633  0.016956   1905760.0   \n",
       "99     57.9871  50.0217   73.9179  ...  0.166092  0.104405  62795000.0   \n",
       "122    89.3482  87.7679   92.5089  ...  0.364213  0.401461  91033600.0   \n",
       "...        ...      ...       ...  ...       ...       ...         ...   \n",
       "22122  74.9307  69.2501   86.2919  ...  0.077810  0.023075    792840.0   \n",
       "22124  69.9732  57.7877   94.3441  ...  0.270270  0.131034    728196.0   \n",
       "22285  85.1396  78.4694   98.4800  ...  0.238780  0.126549   7747190.0   \n",
       "22330  77.1538  71.5254   88.4108  ...  0.380751  0.365444  40904900.0   \n",
       "22428  84.0136  78.5993   94.8422  ...  0.372499  0.335306   2112420.0   \n",
       "\n",
       "          force_2    force_13    ene_ue       ene    ene_le  stochrsi_k  \\\n",
       "34     18576000.0   8711240.0   2.46864   2.24624   2.02384     97.2637   \n",
       "40     -4692570.0   5119210.0   7.79553   7.09323   6.39093     81.1077   \n",
       "91      1380440.0    484592.0   8.72460   7.93860   7.15260    100.0000   \n",
       "99     50227100.0  14701500.0   5.55333   5.05303   4.55273    100.0000   \n",
       "122    90489600.0  50798300.0   3.17127   2.88557   2.59987     86.8899   \n",
       "...           ...         ...       ...       ...       ...         ...   \n",
       "22122    546964.0    145854.0   2.76723   2.51793   2.26863    100.0000   \n",
       "22124   1385480.0    788801.0   7.75446   7.05586   6.35726    100.0000   \n",
       "22285   5522120.0   2283040.0  23.08580  21.00600  18.92620    100.0000   \n",
       "22330  26445500.0   9368200.0  20.46620  18.62240  16.77860     89.3296   \n",
       "22428   1720990.0    567286.0  21.38190  19.45560  17.52930    100.0000   \n",
       "\n",
       "       stochrsi_d  \n",
       "34        88.0510  \n",
       "40        90.8597  \n",
       "91        76.3930  \n",
       "99        52.1102  \n",
       "122       84.8038  \n",
       "...           ...  \n",
       "22122    100.0000  \n",
       "22124    100.0000  \n",
       "22285     92.2164  \n",
       "22330     75.6186  \n",
       "22428     98.0198  \n",
       "\n",
       "[308 rows x 77 columns]"
      ]
     },
     "execution_count": 27,
     "metadata": {},
     "output_type": "execute_result"
    }
   ],
   "source": [
    "df2[ (df2.close >= df2.boll_ub) & (df2.close * 0.95  <= df2.boll_ub) & (df2.macdh > 0)& (df2.macd > 0)& (df2.macds > 0)]\n",
    "# .loc[:,['rsi_6','rsi_12','rsi_24','rsi']]"
   ]
  },
  {
   "cell_type": "markdown",
   "metadata": {},
   "source": [
    "# inStock 序列化数据测试"
   ]
  },
  {
   "cell_type": "markdown",
   "metadata": {},
   "source": [
    "## 定义参数"
   ]
  },
  {
   "cell_type": "code",
   "execution_count": 28,
   "metadata": {
    "execution": {
     "iopub.execute_input": "2023-09-21T09:02:50.981895Z",
     "iopub.status.busy": "2023-09-21T09:02:50.981895Z",
     "iopub.status.idle": "2023-09-21T09:02:50.996827Z",
     "shell.execute_reply": "2023-09-21T09:02:50.995861Z",
     "shell.execute_reply.started": "2023-09-21T09:02:50.981895Z"
    },
    "jupyter": {
     "source_hidden": true
    },
    "tags": []
   },
   "outputs": [
    {
     "data": {
      "text/plain": [
       "'Y:\\\\dockerf\\\\stock\\\\instockcache\\\\hist\\\\202009\\\\20200921'"
      ]
     },
     "execution_count": 28,
     "metadata": {},
     "output_type": "execute_result"
    }
   ],
   "source": [
    "stock_hist_cache_path='Y:\\\\dockerf\\\\stock\\\\instockcache\\\\hist\\\\2020'+get_today(sep='')[-4:-2]+'\\\\2020'+get_today(sep='')[-4:]\n",
    "stock_hist_cache_path"
   ]
  },
  {
   "cell_type": "code",
   "execution_count": 29,
   "metadata": {
    "execution": {
     "iopub.execute_input": "2023-09-21T09:02:51.001812Z",
     "iopub.status.busy": "2023-09-21T09:02:51.001812Z",
     "iopub.status.idle": "2023-09-21T09:02:51.310871Z",
     "shell.execute_reply": "2023-09-21T09:02:51.309873Z",
     "shell.execute_reply.started": "2023-09-21T09:02:51.001812Z"
    },
    "jupyter": {
     "source_hidden": true
    },
    "tags": []
   },
   "outputs": [
    {
     "name": "stdout",
     "output_type": "stream",
     "text": [
      "Y:\\dockerf\\stock\\instockcache\\hist\\202009\\20200921\\601336qfq.gzip.pickle\n"
     ]
    },
    {
     "ename": "FileNotFoundError",
     "evalue": "[Errno 2] No such file or directory: 'Y:\\\\dockerf\\\\stock\\\\instockcache\\\\hist\\\\202009\\\\20200921\\\\601336qfq.gzip.pickle'",
     "output_type": "error",
     "traceback": [
      "\u001b[1;31m---------------------------------------------------------------------------\u001b[0m",
      "\u001b[1;31mFileNotFoundError\u001b[0m                         Traceback (most recent call last)",
      "\u001b[1;32mG:\\Temp\\ipykernel_15708\\4101731577.py\u001b[0m in \u001b[0;36m<module>\u001b[1;34m\u001b[0m\n\u001b[0;32m     17\u001b[0m \u001b[0mcache_file\u001b[0m \u001b[1;33m=\u001b[0m \u001b[0mos\u001b[0m\u001b[1;33m.\u001b[0m\u001b[0mpath\u001b[0m\u001b[1;33m.\u001b[0m\u001b[0mjoin\u001b[0m\u001b[1;33m(\u001b[0m\u001b[0mstock_hist_cache_path\u001b[0m\u001b[1;33m,\u001b[0m \u001b[1;34m\"%s%s.gzip.pickle\"\u001b[0m \u001b[1;33m%\u001b[0m \u001b[1;33m(\u001b[0m\u001b[0mcode\u001b[0m\u001b[1;33m,\u001b[0m \u001b[0madjust\u001b[0m\u001b[1;33m)\u001b[0m\u001b[1;33m)\u001b[0m\u001b[1;33m\u001b[0m\u001b[1;33m\u001b[0m\u001b[0m\n\u001b[0;32m     18\u001b[0m \u001b[0mprint\u001b[0m\u001b[1;33m(\u001b[0m\u001b[0mcache_file\u001b[0m\u001b[1;33m)\u001b[0m\u001b[1;33m\u001b[0m\u001b[1;33m\u001b[0m\u001b[0m\n\u001b[1;32m---> 19\u001b[1;33m \u001b[0mdf\u001b[0m \u001b[1;33m=\u001b[0m \u001b[0mpd\u001b[0m\u001b[1;33m.\u001b[0m\u001b[0mread_pickle\u001b[0m\u001b[1;33m(\u001b[0m\u001b[0mcache_file\u001b[0m\u001b[1;33m,\u001b[0m \u001b[0mcompression\u001b[0m\u001b[1;33m=\u001b[0m\u001b[1;34m\"gzip\"\u001b[0m\u001b[1;33m)\u001b[0m\u001b[1;33m\u001b[0m\u001b[1;33m\u001b[0m\u001b[0m\n\u001b[0m",
      "\u001b[1;32m~\\anaconda3\\lib\\site-packages\\pandas\\io\\pickle.py\u001b[0m in \u001b[0;36mread_pickle\u001b[1;34m(filepath_or_buffer, compression, storage_options)\u001b[0m\n\u001b[0;32m    185\u001b[0m     \"\"\"  # noqa: E501\n\u001b[0;32m    186\u001b[0m     \u001b[0mexcs_to_catch\u001b[0m \u001b[1;33m=\u001b[0m \u001b[1;33m(\u001b[0m\u001b[0mAttributeError\u001b[0m\u001b[1;33m,\u001b[0m \u001b[0mImportError\u001b[0m\u001b[1;33m,\u001b[0m \u001b[0mModuleNotFoundError\u001b[0m\u001b[1;33m,\u001b[0m \u001b[0mTypeError\u001b[0m\u001b[1;33m)\u001b[0m\u001b[1;33m\u001b[0m\u001b[1;33m\u001b[0m\u001b[0m\n\u001b[1;32m--> 187\u001b[1;33m     with get_handle(\n\u001b[0m\u001b[0;32m    188\u001b[0m         \u001b[0mfilepath_or_buffer\u001b[0m\u001b[1;33m,\u001b[0m\u001b[1;33m\u001b[0m\u001b[1;33m\u001b[0m\u001b[0m\n\u001b[0;32m    189\u001b[0m         \u001b[1;34m\"rb\"\u001b[0m\u001b[1;33m,\u001b[0m\u001b[1;33m\u001b[0m\u001b[1;33m\u001b[0m\u001b[0m\n",
      "\u001b[1;32m~\\anaconda3\\lib\\site-packages\\pandas\\io\\common.py\u001b[0m in \u001b[0;36mget_handle\u001b[1;34m(path_or_buf, mode, encoding, compression, memory_map, is_text, errors, storage_options)\u001b[0m\n\u001b[0;32m    709\u001b[0m                 \u001b[1;31m# error: Incompatible types in assignment (expression has type\u001b[0m\u001b[1;33m\u001b[0m\u001b[1;33m\u001b[0m\u001b[0m\n\u001b[0;32m    710\u001b[0m                 \u001b[1;31m# \"GzipFile\", variable has type \"Union[str, BaseBuffer]\")\u001b[0m\u001b[1;33m\u001b[0m\u001b[1;33m\u001b[0m\u001b[0m\n\u001b[1;32m--> 711\u001b[1;33m                 handle = gzip.GzipFile(  # type: ignore[assignment]\n\u001b[0m\u001b[0;32m    712\u001b[0m                     \u001b[0mfilename\u001b[0m\u001b[1;33m=\u001b[0m\u001b[0mhandle\u001b[0m\u001b[1;33m,\u001b[0m\u001b[1;33m\u001b[0m\u001b[1;33m\u001b[0m\u001b[0m\n\u001b[0;32m    713\u001b[0m                     \u001b[0mmode\u001b[0m\u001b[1;33m=\u001b[0m\u001b[0mioargs\u001b[0m\u001b[1;33m.\u001b[0m\u001b[0mmode\u001b[0m\u001b[1;33m,\u001b[0m\u001b[1;33m\u001b[0m\u001b[1;33m\u001b[0m\u001b[0m\n",
      "\u001b[1;32m~\\anaconda3\\lib\\gzip.py\u001b[0m in \u001b[0;36m__init__\u001b[1;34m(self, filename, mode, compresslevel, fileobj, mtime)\u001b[0m\n\u001b[0;32m    171\u001b[0m             \u001b[0mmode\u001b[0m \u001b[1;33m+=\u001b[0m \u001b[1;34m'b'\u001b[0m\u001b[1;33m\u001b[0m\u001b[1;33m\u001b[0m\u001b[0m\n\u001b[0;32m    172\u001b[0m         \u001b[1;32mif\u001b[0m \u001b[0mfileobj\u001b[0m \u001b[1;32mis\u001b[0m \u001b[1;32mNone\u001b[0m\u001b[1;33m:\u001b[0m\u001b[1;33m\u001b[0m\u001b[1;33m\u001b[0m\u001b[0m\n\u001b[1;32m--> 173\u001b[1;33m             \u001b[0mfileobj\u001b[0m \u001b[1;33m=\u001b[0m \u001b[0mself\u001b[0m\u001b[1;33m.\u001b[0m\u001b[0mmyfileobj\u001b[0m \u001b[1;33m=\u001b[0m \u001b[0mbuiltins\u001b[0m\u001b[1;33m.\u001b[0m\u001b[0mopen\u001b[0m\u001b[1;33m(\u001b[0m\u001b[0mfilename\u001b[0m\u001b[1;33m,\u001b[0m \u001b[0mmode\u001b[0m \u001b[1;32mor\u001b[0m \u001b[1;34m'rb'\u001b[0m\u001b[1;33m)\u001b[0m\u001b[1;33m\u001b[0m\u001b[1;33m\u001b[0m\u001b[0m\n\u001b[0m\u001b[0;32m    174\u001b[0m         \u001b[1;32mif\u001b[0m \u001b[0mfilename\u001b[0m \u001b[1;32mis\u001b[0m \u001b[1;32mNone\u001b[0m\u001b[1;33m:\u001b[0m\u001b[1;33m\u001b[0m\u001b[1;33m\u001b[0m\u001b[0m\n\u001b[0;32m    175\u001b[0m             \u001b[0mfilename\u001b[0m \u001b[1;33m=\u001b[0m \u001b[0mgetattr\u001b[0m\u001b[1;33m(\u001b[0m\u001b[0mfileobj\u001b[0m\u001b[1;33m,\u001b[0m \u001b[1;34m'name'\u001b[0m\u001b[1;33m,\u001b[0m \u001b[1;34m''\u001b[0m\u001b[1;33m)\u001b[0m\u001b[1;33m\u001b[0m\u001b[1;33m\u001b[0m\u001b[0m\n",
      "\u001b[1;31mFileNotFoundError\u001b[0m: [Errno 2] No such file or directory: 'Y:\\\\dockerf\\\\stock\\\\instockcache\\\\hist\\\\202009\\\\20200921\\\\601336qfq.gzip.pickle'"
     ]
    }
   ],
   "source": [
    "import logging\n",
    "import os.path\n",
    "#  import os.sep\n",
    "import datetime\n",
    "import numpy as np\n",
    "import pandas as pd\n",
    "import talib as tl\n",
    "\n",
    "os.environ['NUMEXPR_MAX_THREADS'] = '12'\n",
    "from IPython.core.interactiveshell import InteractiveShell\n",
    "\n",
    "InteractiveShell.ast_node_interactivity = \"all\"\n",
    "adjust='qfq'\n",
    "get_today()\n",
    "# stock_hist_cache_path='Y:\\\\dockerf\\\\stock\\\\instockcache\\\\hist\\\\202005\\\\2020'+get_today(sep='')[-4:]\n",
    "code = '601336'\n",
    "cache_file = os.path.join(stock_hist_cache_path, \"%s%s.gzip.pickle\" % (code, adjust))\n",
    "print(cache_file)\n",
    "df = pd.read_pickle(cache_file, compression=\"gzip\")\n"
   ]
  },
  {
   "cell_type": "code",
   "execution_count": null,
   "metadata": {
    "execution": {
     "iopub.status.busy": "2023-09-21T09:02:51.310871Z",
     "iopub.status.idle": "2023-09-21T09:02:51.310871Z",
     "shell.execute_reply": "2023-09-21T09:02:51.310871Z",
     "shell.execute_reply.started": "2023-09-21T09:02:51.310871Z"
    },
    "jupyter": {
     "source_hidden": true
    },
    "tags": []
   },
   "outputs": [],
   "source": [
    "df.shape\n",
    "df[-2:]\n",
    "# df.columns\n",
    "lastday=df.date.values[-1]\n",
    "lastday\n",
    "data = df.copy()\n",
    "# macd\n",
    "data.loc[:, 'diff'], data.loc[:, 'dea'], data.loc[:, 'macd'] = tl.MACD(\n",
    "    data['close'].values, fastperiod=12, slowperiod=26, signalperiod=9)\n",
    "data['diff'].values[np.isnan(data['diff'].values)] = 0.0\n",
    "data['dea'].values[np.isnan(data['dea'].values)] = 0.0\n",
    "data['macd'].values[np.isnan(data['macd'].values)] = 0.0\n",
    "\n",
    "data.loc[:, 'boll_ub'], data.loc[:, 'boll'], data.loc[:, 'boll_lb'] = tl.BBANDS \\\n",
    "    (data['close'].values, timeperiod=20, nbdevup=2, nbdevdn=2, matype=0)\n",
    "data['boll_ub'].values[np.isnan(data['boll_ub'].values)] = 0.0\n",
    "data['boll'].values[np.isnan(data['boll'].values)] = 0.0\n",
    "data['boll_lb'].values[np.isnan(data['boll_lb'].values)] = 0.0\n",
    "data.iloc[-60:]['macd'].max()\n",
    "# DIFF:=EMA(CLOSE,12) - EMA(CLOSE,26);  256 \n",
    "# DEA := EMA(DIFF,9); 1.52\n",
    "# MACD := 2*(DIFF-DEA); 2.08\n",
    "print(not False)"
   ]
  },
  {
   "cell_type": "markdown",
   "metadata": {},
   "source": [
    "## stock_period_to_typ Resample 'W-FRI'"
   ]
  },
  {
   "cell_type": "code",
   "execution_count": null,
   "metadata": {
    "execution": {
     "iopub.status.busy": "2023-09-21T09:02:51.312865Z",
     "iopub.status.idle": "2023-09-21T09:02:51.313865Z",
     "shell.execute_reply": "2023-09-21T09:02:51.313865Z",
     "shell.execute_reply.started": "2023-09-21T09:02:51.313865Z"
    },
    "jupyter": {
     "source_hidden": true
    },
    "tags": []
   },
   "outputs": [],
   "source": [
    "def get_tdx_stock_period_to_type(stock_data, period_day='W-FRI', periods=5, ncol=None, ratiodays=True):\n",
    "    \"\"\"_周期转换周K,月K_\n",
    "\n",
    "    Returns:\n",
    "        _type_: _description_\n",
    "    \"\"\"\n",
    "    #快速日期处理\n",
    "    #https://www.likecs.com/show-204682607.html\n",
    "\n",
    "    period_type = period_day\n",
    "    if 'date' in stock_data.columns:\n",
    "        stock_data.set_index('date', inplace=True)\n",
    "    stock_data['date'] = stock_data.index\n",
    "    lastday = stock_data.date.values[-1]\n",
    "    lastday2 = stock_data.date.values[-2]\n",
    "    indextype = True if stock_data.index.dtype == 'datetime64[ns]' else False\n",
    "    # if cct.get_work_day_status() and 915 < cct.get_now_time_int() < 1500:\n",
    "    #     stock_data = stock_data[stock_data.index < cct.get_today()]\n",
    "\n",
    "    if stock_data.index.name == 'date':\n",
    "        stock_data.index = pd.to_datetime(stock_data.index, format='%Y-%m-%d')\n",
    "    elif 'date' in stock_data.columns:\n",
    "        stock_data.set_index('date', inplace=True)\n",
    "        stock_data.sort_index(ascending=True, inplace=True)\n",
    "        stock_data.index = pd.to_datetime(stock_data.index, format='%Y-%m-%d')\n",
    "    # else:\n",
    "    #     log.error(\"index.name not date,pls check:%s\" % (stock_data[:1]))\n",
    "\n",
    "    period_stock_data = stock_data.resample(period_type).last()\n",
    "    # period_stock_data['percent']=stock_data['percent'].resample(period_type,how=lambda x:(x+1.0).prod()-1.0)\n",
    "    # print stock_data.index[0],stock_data.index[-1]\n",
    "    # period_stock_data.index =\n",
    "    # pd.DatetimeIndex(start=stock_data.index.values[0],end=stock_data.index.values[-1],freq='BM')\n",
    "\n",
    "    period_stock_data['open'] = stock_data[\n",
    "        'open'].resample(period_type).last()\n",
    "    period_stock_data['high'] = stock_data[\n",
    "        'high'].resample(period_type).max()\n",
    "    period_stock_data['low'] = stock_data[\n",
    "        'low'].resample(period_type).min()\n",
    "    \n",
    "    lastWeek1 = str(period_stock_data['open'].index.values[-1])[:10]\n",
    "    lastweek2 = str(period_stock_data['open'].index.values[-2])[:10]\n",
    "    if ratiodays:\n",
    "        if period_day == 'W-FRI':\n",
    "            print(lastWeek1,lastweek2,lastday,lastday2)\n",
    "            duratio = int(str(datetime.datetime.strptime(lastWeek1, '%Y-%m-%d').date() - datetime.datetime.strptime(lastday, '%Y-%m-%d').date())[0])\n",
    "            ratio_d =(5-(duratio%5))/5\n",
    "            print(\"ratio_d:%s %s\"%(ratio_d,lastday))\n",
    "        elif period_day.find('W') >= 0:\n",
    "            print(lastWeek1,lastweek2,lastday,lastday2)\n",
    "            duratio = int(str(datetime.datetime.strptime(lastday, '%Y-%m-%d').date() - datetime.datetime.strptime(lastweek2, '%Y-%m-%d').date())[0])\n",
    "            ratio_d =(duratio)/5\n",
    "            print(\"ratio_d:%s %s\"%(ratio_d,lastday))\n",
    "        elif period_day == 'BM':\n",
    "            # daynow = '2023-04-26'\n",
    "            # lastday = '2023-04-23'\n",
    "            print(lastWeek1,lastweek2,lastday,lastday2)\n",
    "            # print((str(datetime.datetime.strptime(lastWeek1, '%Y-%m-%d').date() - datetime.datetime.strptime(lastday, '%Y-%m-%d').date())[:2]))\n",
    "            duratio = int(str(datetime.datetime.strptime(lastWeek1, '%Y-%m-%d').date() - datetime.datetime.strptime(lastday, '%Y-%m-%d').date())[:2])\n",
    "            ratio_d =(30-(duratio%30))/30\n",
    "            print(\"ratio_d:%s %s dura:%s\"%(ratio_d,lastday,duratio))\n",
    "        elif period_day.find('M') >= 0:\n",
    "            ratio_d = 1\n",
    "            \n",
    "    else:\n",
    "        ratio_d = 1\n",
    "        print(ratio_d)\n",
    "        \n",
    "    if ncol is not None:\n",
    "        for co in ncol:\n",
    "            period_stock_data[co] = stock_data[co].resample(period_type).sum()\n",
    "            if ratiodays:\n",
    "                period_stock_data[co] = period_stock_data[co].apply(lambda x: round(x / ratio_d, 1))\n",
    "                \n",
    "    # else:\n",
    "    period_stock_data['amount'] = stock_data[\n",
    "        'amount'].resample(period_type).sum()\n",
    "    period_stock_data['volume'] = stock_data[\n",
    "        'volume'].resample(period_type).sum()\n",
    "    if ratiodays and ratio_d != 1:\n",
    "        period_stock_data['amount'] = period_stock_data['amount'].apply(lambda x: round(x / ratio_d, 1))\n",
    "        period_stock_data['volume'] = period_stock_data['volume'].apply(lambda x: round(x / ratio_d, 1))\n",
    "                \n",
    "    # period_stock_data['turnover']=period_stock_data['vol']/(period_stock_data['traded_market_value'])/period_stock_data['close']\n",
    "    period_stock_data.index = stock_data['date'].resample(period_type).last().index\n",
    "    # print period_stock_data.index[:1]\n",
    "    if 'code' in period_stock_data.columns:\n",
    "        period_stock_data = period_stock_data[period_stock_data['code'].notnull()]\n",
    "    period_stock_data = period_stock_data.dropna()\n",
    "    # period_stock_data.reset_index(inplace=True)\n",
    "    # period_stock_data.set_index('date',inplace=True)\n",
    "    # print period_stock_data.columns,period_stock_data.index.name\n",
    "    # and period_stock_data.index.dtype != 'datetime64[ns]')\n",
    "    if not indextype and period_stock_data.index.name == 'date':\n",
    "        # stock_data.index = pd.to_datetime(stock_data.index, format='%Y-%m-%d')\n",
    "        period_stock_data.index = [str(x)[:10] for x in period_stock_data.index]\n",
    "        period_stock_data.index.name = 'date'\n",
    "    else:\n",
    "        if 'date' in period_stock_data.columns:\n",
    "            period_stock_data = period_stock_data.drop(['date'], axis=1)\n",
    "    # print period_stock_data\n",
    "    return period_stock_data\n"
   ]
  },
  {
   "cell_type": "markdown",
   "metadata": {},
   "source": [
    "### Resample Week W-FRI"
   ]
  },
  {
   "cell_type": "code",
   "execution_count": null,
   "metadata": {
    "execution": {
     "iopub.status.busy": "2023-09-21T09:02:51.315858Z",
     "iopub.status.idle": "2023-09-21T09:02:51.315858Z",
     "shell.execute_reply": "2023-09-21T09:02:51.315858Z",
     "shell.execute_reply.started": "2023-09-21T09:02:51.315858Z"
    },
    "jupyter": {
     "source_hidden": true
    },
    "tags": []
   },
   "outputs": [],
   "source": [
    "# dfw = get_tdx_stock_period_to_type(data.copy(), period_day='W-FRI', ncol=['turnover', 'amplitude', 'quote_change'],ratiodays=False)\n",
    "# dfw[-3:]\n",
    "dfw = get_tdx_stock_period_to_type(data.copy(), period_day='W-FRI', ncol=['turnover', 'amplitude', 'quote_change'],ratiodays=True)\n",
    "dfw[-3:]\n",
    "dfw = get_tdx_stock_period_to_type(data.copy(), period_day='W', ncol=['turnover', 'amplitude', 'quote_change'],ratiodays=True)\n",
    "dfw[-3:]\n",
    "# data[-5:]"
   ]
  },
  {
   "cell_type": "markdown",
   "metadata": {},
   "source": [
    "### Resample Month BM\n",
    "https://note.nkmk.me/python-pandas-time-series-freq/\n",
    "\n",
    "    BM: 月末最終営業日ごと\n",
    "    MS: 毎月の開始日ごと\n",
    "    BMS: 毎月の最初の営業日ごと\n"
   ]
  },
  {
   "cell_type": "code",
   "execution_count": null,
   "metadata": {
    "execution": {
     "iopub.status.busy": "2023-09-21T09:02:51.316856Z",
     "iopub.status.idle": "2023-09-21T09:02:51.317852Z",
     "shell.execute_reply": "2023-09-21T09:02:51.316856Z",
     "shell.execute_reply.started": "2023-09-21T09:02:51.316856Z"
    },
    "jupyter": {
     "source_hidden": true
    },
    "tags": []
   },
   "outputs": [],
   "source": [
    "dfw = get_tdx_stock_period_to_type(data.copy(), period_day='BM', ncol=['turnover', 'amplitude', 'quote_change'],ratiodays=False)\n",
    "dfw[-2:]\n",
    "dfw = get_tdx_stock_period_to_type(data.copy(), period_day='BM', ncol=['turnover', 'amplitude', 'quote_change'],ratiodays=True)\n",
    "dfw[-3:]"
   ]
  },
  {
   "cell_type": "code",
   "execution_count": null,
   "metadata": {
    "execution": {
     "iopub.status.busy": "2023-09-21T09:02:51.318849Z",
     "iopub.status.idle": "2023-09-21T09:02:51.318849Z",
     "shell.execute_reply": "2023-09-21T09:02:51.318849Z",
     "shell.execute_reply.started": "2023-09-21T09:02:51.318849Z"
    },
    "jupyter": {
     "source_hidden": true
    },
    "tags": []
   },
   "outputs": [],
   "source": [
    "daynow=dfw.index.values[-1]\n",
    "str(datetime.datetime.strptime(daynow, '%Y-%m-%d').date() - datetime.datetime.strptime(lastday, '%Y-%m-%d').date())[0]\n",
    "int(str(datetime.datetime.strptime(daynow, '%Y-%m-%d').date() - datetime.datetime.strptime(lastday, '%Y-%m-%d').date())[0])\n"
   ]
  },
  {
   "cell_type": "code",
   "execution_count": null,
   "metadata": {
    "jupyter": {
     "source_hidden": true
    }
   },
   "outputs": [],
   "source": []
  },
  {
   "cell_type": "markdown",
   "metadata": {},
   "source": [
    "# inStock RSI"
   ]
  },
  {
   "cell_type": "code",
   "execution_count": null,
   "metadata": {
    "execution": {
     "iopub.status.busy": "2023-09-21T09:02:51.319848Z",
     "iopub.status.idle": "2023-09-21T09:02:51.320879Z",
     "shell.execute_reply": "2023-09-21T09:02:51.320879Z",
     "shell.execute_reply.started": "2023-09-21T09:02:51.320879Z"
    },
    "jupyter": {
     "source_hidden": true
    },
    "tags": []
   },
   "outputs": [],
   "source": [
    "import logging\n",
    "import os.path\n",
    "#  import os.sep\n",
    "import datetime\n",
    "import numpy as np\n",
    "import pandas as pd\n",
    "import talib as tl\n",
    "\n",
    "os.environ['NUMEXPR_MAX_THREADS'] = '12'\n",
    "from IPython.core.interactiveshell import InteractiveShell\n",
    "\n",
    "InteractiveShell.ast_node_interactivity = \"all\"\n",
    "adjust='qfq'\n",
    "# stock_hist_cache_path='Y:\\\\dockerf\\\\stock\\\\instockcache\\\\hist\\\\202005\\\\20200530'\n",
    "code = '000002'\n",
    "cache_file = os.path.join(stock_hist_cache_path, \"%s%s.gzip.pickle\" % (code, adjust))\n",
    "print(cache_file)\n",
    "df = pd.read_pickle(cache_file, compression=\"gzip\")"
   ]
  },
  {
   "cell_type": "code",
   "execution_count": null,
   "metadata": {
    "execution": {
     "iopub.status.busy": "2023-09-21T09:02:51.321841Z",
     "iopub.status.idle": "2023-09-21T09:02:51.322839Z",
     "shell.execute_reply": "2023-09-21T09:02:51.321841Z",
     "shell.execute_reply.started": "2023-09-21T09:02:51.321841Z"
    },
    "jupyter": {
     "source_hidden": true
    },
    "tags": []
   },
   "outputs": [],
   "source": [
    "df.shape\n",
    "df[-5:]\n",
    "df[:1]\n",
    "# df.columns\n",
    "lastday=df.date.values[-1]\n",
    "lastday"
   ]
  },
  {
   "cell_type": "code",
   "execution_count": null,
   "metadata": {
    "execution": {
     "iopub.status.busy": "2023-09-21T09:02:51.323835Z",
     "iopub.status.idle": "2023-09-21T09:02:51.323835Z",
     "shell.execute_reply": "2023-09-21T09:02:51.323835Z",
     "shell.execute_reply.started": "2023-09-21T09:02:51.323835Z"
    },
    "jupyter": {
     "source_hidden": true
    },
    "tags": []
   },
   "outputs": [],
   "source": [
    "data=df.copy()"
   ]
  },
  {
   "cell_type": "code",
   "execution_count": null,
   "metadata": {
    "execution": {
     "iopub.status.busy": "2023-09-21T09:02:51.324833Z",
     "iopub.status.idle": "2023-09-21T09:02:51.325830Z",
     "shell.execute_reply": "2023-09-21T09:02:51.325830Z",
     "shell.execute_reply.started": "2023-09-21T09:02:51.325830Z"
    },
    "jupyter": {
     "source_hidden": true
    },
    "tags": []
   },
   "outputs": [],
   "source": [
    "def check_rsi_status(df,threshold=60,period_day=False):\n",
    "    # macd\n",
    "    data = df.copy()\n",
    "    # cci 计算方法和结果和stockstats不同，stockstats典型价采用均价(总额/成交量)计算\n",
    "    data.loc[:, 'cci'] = tl.CCI(data['high'].values, data['low'].values, data['close'].values, timeperiod=14)\n",
    "    data['cci'].values[np.isnan(data['cci'].values)] = 0.0\n",
    "    # data.loc[:, 'cci_84'] = tl.CCI(data['high'].values, data['low'].values, data['close'].values, timeperiod=84)\n",
    "    # data['cci_84'].values[np.isnan(data['cci_84'].values)] = 0.0\n",
    "    rsilast5 = data.iloc[-6:-1]['cci']\n",
    "    rsilast5max = rsilast5.max()\n",
    "    rsilast = data.iloc[-1]['cci']\n",
    "\n",
    "    if rsilast5max < 0 and rsilast > rsilast5max and rsilast5.iloc[-1] < rsilast5max:\n",
    "        return True\n",
    "    else:\n",
    "        return False"
   ]
  },
  {
   "cell_type": "code",
   "execution_count": null,
   "metadata": {
    "execution": {
     "iopub.status.busy": "2023-09-21T09:02:51.326829Z",
     "iopub.status.idle": "2023-09-21T09:02:51.327825Z",
     "shell.execute_reply": "2023-09-21T09:02:51.326829Z",
     "shell.execute_reply.started": "2023-09-21T09:02:51.326829Z"
    },
    "jupyter": {
     "source_hidden": true
    },
    "tags": []
   },
   "outputs": [],
   "source": [
    "# data.loc[:, 'cci'] = tl.CCI(data['high'].values, data['low'].values, data['close'].values, timeperiod=14)\n",
    "# data['cci'].values[np.isnan(data['cci'].values)] = 0.0\n",
    "# # data.loc[:, 'cci_84'] = tl.CCI(data['high'].values, data['low'].values, data['close'].values, timeperiod=84)\n",
    "# # data['cci_84'].values[np.isnan(data['cci_84'].values)] = 0.0\n",
    "# rsilast5 = data.iloc[-6:-1]['cci']\n",
    "# rsilast5max = rsilast5.max()\n",
    "# rsilast = data.iloc[-1]['cci']\n",
    "# data['cci'][-6:]\n",
    "# rsilast5.iloc[-1]\n",
    "# rsilast5,rsilast\n",
    "# rsilast5max < 0 and rsilast > rsilast5max and rsilast5.iloc[-1] < rsilast5max\n",
    "check_rsi_status(df)"
   ]
  }
 ],
 "metadata": {
  "kernelspec": {
   "display_name": "python3.9",
   "language": "python",
   "name": "python3"
  },
  "language_info": {
   "codemirror_mode": {
    "name": "ipython",
    "version": 3
   },
   "file_extension": ".py",
   "mimetype": "text/x-python",
   "name": "python",
   "nbconvert_exporter": "python",
   "pygments_lexer": "ipython3",
   "version": "3.9.13"
  },
  "nbTranslate": {
   "displayLangs": [
    "*"
   ],
   "hotkey": "alt-t",
   "langInMainMenu": true,
   "sourceLang": "en",
   "targetLang": "fr",
   "useGoogleTranslate": true
  },
  "toc": {
   "colors": {
    "hover_highlight": "#DAA520",
    "running_highlight": "#FF0000",
    "selected_highlight": "#FFD700"
   },
   "moveMenuLeft": true,
   "nav_menu": {
    "height": "398.2px",
    "width": "251.467px"
   },
   "navigate_menu": true,
   "number_sections": true,
   "sideBar": true,
   "threshold": 4,
   "toc_cell": false,
   "toc_section_display": "block",
   "toc_window_display": true,
   "widenNotebook": false
  },
  "toc-autonumbering": true,
  "toc-showmarkdowntxt": false,
  "varInspector": {
   "cols": {
    "lenName": 16,
    "lenType": 16,
    "lenVar": 40
   },
   "kernels_config": {
    "python": {
     "delete_cmd_postfix": "",
     "delete_cmd_prefix": "del ",
     "library": "var_list.py",
     "varRefreshCmd": "print(var_dic_list())"
    },
    "r": {
     "delete_cmd_postfix": ") ",
     "delete_cmd_prefix": "rm(",
     "library": "var_list.r",
     "varRefreshCmd": "cat(var_dic_list()) "
    }
   },
   "position": {
    "height": "284.85px",
    "left": "838.133px",
    "right": "20px",
    "top": "104px",
    "width": "338.533px"
   },
   "types_to_exclude": [
    "module",
    "function",
    "builtin_function_or_method",
    "instance",
    "_Feature"
   ],
   "window_display": true
  }
 },
 "nbformat": 4,
 "nbformat_minor": 4
}
