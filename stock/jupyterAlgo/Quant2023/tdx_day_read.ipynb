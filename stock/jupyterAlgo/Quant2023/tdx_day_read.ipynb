{
 "cells": [
  {
   "cell_type": "markdown",
   "id": "ea342d23-82cb-4c32-b09e-5e78fc047777",
   "metadata": {},
   "source": [
    "# Dayfile read"
   ]
  },
  {
   "cell_type": "code",
   "execution_count": 1,
   "id": "4bc98dc6-2b9d-4770-ad47-d1c5e7f0139c",
   "metadata": {
    "execution": {
     "iopub.execute_input": "2023-02-05T04:35:26.384047Z",
     "iopub.status.busy": "2023-02-05T04:35:26.384047Z",
     "iopub.status.idle": "2023-02-05T04:35:27.248729Z",
     "shell.execute_reply": "2023-02-05T04:35:27.247773Z",
     "shell.execute_reply.started": "2023-02-05T04:35:26.384047Z"
    },
    "tags": []
   },
   "outputs": [],
   "source": [
    "import os\n",
    "import struct\n",
    "import sys\n",
    "\n",
    "import pandas as pd\n",
    "\n",
    "sys.path.append('../../')\n",
    "from JohnsonUtil import commonTips as cct\n",
    "from JSONData import tdx_data_Day as tdd\n",
    "\n"
   ]
  },
  {
   "cell_type": "code",
   "execution_count": 136,
   "id": "fd6697bf-6df7-49d9-9cd2-2e4952151405",
   "metadata": {
    "execution": {
     "iopub.execute_input": "2023-02-05T03:39:20.109120Z",
     "iopub.status.busy": "2023-02-05T03:39:20.108083Z",
     "iopub.status.idle": "2023-02-05T03:39:20.140994Z",
     "shell.execute_reply": "2023-02-05T03:39:20.140299Z",
     "shell.execute_reply.started": "2023-02-05T03:39:20.109120Z"
    },
    "tags": []
   },
   "outputs": [
    {
     "name": "stdout",
     "output_type": "stream",
     "text": [
      "          code   tradeDate   open   high    low  close       amount       vol\n",
      "1800  sh601628  2023-02-02  33.88  34.08  33.35  33.89  686049600.0  20307045\n",
      "1801  sh601628  2023-02-03  33.85  33.85  33.15  33.51  526803712.0  15771846\n"
     ]
    }
   ],
   "source": [
    "def readTdxLdayFile(fname=\"D:\\\\MacTools\\\\WinTools\\\\new_tdx\\\\vipdoc\\\\sh\\\\lday\\\\sh601628.day\"):\n",
    "    dataSet = []\n",
    "    with open(fname, 'rb') as fl:\n",
    "        buffer = fl.read()  # 读取数据到缓存\n",
    "        size = len(buffer)\n",
    "        rowSize = 32  # 通信达day数据，每32个字节一组数据\n",
    "        code = os.path.basename(fname).replace('.day', '')\n",
    "        for i in range(0, size, rowSize):  # 步长为32遍历buffer\n",
    "            row = list(struct.unpack('IIIIIfII', buffer[i:i + rowSize]))\n",
    "            row[0] = (cct.day8_to_day10(row[0]))\n",
    "            row[1] = row[1] / 100\n",
    "            row[2] = row[2] / 100\n",
    "            row[3] = row[3] / 100\n",
    "            row[4] = row[4] / 100\n",
    "            row.pop()  # 移除最后无意义字段\n",
    "            row.insert(0, code)\n",
    "            dataSet.append(row)\n",
    "    data = pd.DataFrame(data=dataSet, columns=[\n",
    "                        'code', 'tradeDate', 'open', 'high', 'low', 'close', 'amount', 'vol'])\n",
    "    print(data[-2:])\n",
    "\n"
   ]
  },
  {
   "cell_type": "code",
   "execution_count": 164,
   "id": "5b835400-85c8-448a-a1e7-87b03d5b70ab",
   "metadata": {
    "execution": {
     "iopub.execute_input": "2023-02-05T03:39:44.633538Z",
     "iopub.status.busy": "2023-02-05T03:39:44.632571Z",
     "iopub.status.idle": "2023-02-05T03:39:44.658473Z",
     "shell.execute_reply": "2023-02-05T03:39:44.657475Z",
     "shell.execute_reply.started": "2023-02-05T03:39:44.633538Z"
    },
    "tags": []
   },
   "outputs": [
    {
     "name": "stdout",
     "output_type": "stream",
     "text": [
      "          code   tradeDate   open   high    low  close       amount       vol\n",
      "1800  sh601628  2023-02-02  33.88  34.08  33.35  33.89  686049600.0  20307045\n",
      "1801  sh601628  2023-02-03  33.85  33.85  33.15  33.51  526803712.0  15771846\n"
     ]
    }
   ],
   "source": [
    "readTdxLdayFile()"
   ]
  },
  {
   "cell_type": "code",
   "execution_count": 124,
   "id": "1ea73920-acc5-4586-b227-a66510c01db1",
   "metadata": {
    "execution": {
     "iopub.execute_input": "2023-02-05T03:39:11.130747Z",
     "iopub.status.busy": "2023-02-05T03:39:11.130747Z",
     "iopub.status.idle": "2023-02-05T03:39:11.211530Z",
     "shell.execute_reply": "2023-02-05T03:39:11.210793Z",
     "shell.execute_reply.started": "2023-02-05T03:39:11.130747Z"
    },
    "tags": []
   },
   "outputs": [
    {
     "name": "stdout",
     "output_type": "stream",
     "text": [
      "              code   open   high    low  close         vol       amount  \\\n",
      "date                                                                      \n",
      "2023-02-03  601628  33.85  33.85  33.15  33.51  15771846.0  526803712.0   \n",
      "\n",
      "             ma5d  ma10d  ma20d  ...  top10  ma5dcum  ra   hmax   max5   lmin  \\\n",
      "date                             ...                                            \n",
      "2023-02-03  34.04   35.2  36.22  ...      0     35.8  10  50.67  37.43  33.35   \n",
      "\n",
      "             min5  cmean          hv         lv  \n",
      "date                                             \n",
      "2023-02-03  34.61  34.17  25729948.0  8805922.0  \n",
      "\n",
      "[1 rows x 111 columns] (800, 111)\n"
     ]
    }
   ],
   "source": [
    "df= tdd.get_tdx_Exp_day_to_df_AllRead_('601628', dl=800, resample='d').sort_index(ascending=True)\n",
    "\n",
    "print(df[-1:],df.shape)"
   ]
  },
  {
   "cell_type": "code",
   "execution_count": 109,
   "id": "025f9be0-f701-4c62-963e-470ce030f4e3",
   "metadata": {
    "execution": {
     "iopub.execute_input": "2023-02-05T03:39:02.061286Z",
     "iopub.status.busy": "2023-02-05T03:39:02.061286Z",
     "iopub.status.idle": "2023-02-05T03:39:02.126077Z",
     "shell.execute_reply": "2023-02-05T03:39:02.125112Z",
     "shell.execute_reply.started": "2023-02-05T03:39:02.061286Z"
    },
    "tags": []
   },
   "outputs": [
    {
     "name": "stdout",
     "output_type": "stream",
     "text": [
      "              code   open   high    low  close         vol       amount  \\\n",
      "date                                                                      \n",
      "2023-02-03  601628  33.85  33.85  33.15  33.51  15771846.0  526803712.0   \n",
      "\n",
      "             ma5d  ma10d  ma20d  ...  top10  ma5dcum  ra   hmax   max5   lmin  \\\n",
      "date                             ...                                            \n",
      "2023-02-03  34.04   35.2  36.22  ...      0     35.8  10  38.05  37.43  33.35   \n",
      "\n",
      "             min5  cmean          hv         lv  \n",
      "date                                             \n",
      "2023-02-03  34.61  34.17  25729948.0  8805922.0  \n",
      "\n",
      "[1 rows x 111 columns] (79, 111)\n"
     ]
    }
   ],
   "source": [
    "df= tdd.get_tdx_Exp_day_to_df('601628', dl=80, resample='d').sort_index(ascending=True)\n",
    "print(df[-1:],df.shape)"
   ]
  },
  {
   "cell_type": "markdown",
   "id": "dc062787-0f26-4062-bfc0-c947ef222aeb",
   "metadata": {},
   "source": [
    "# tdx 2\n",
    "https://gist.github.com/WMJi/f5fe3083961d26fbfbcc\n",
    "https://www.cnblogs.com/yuyanc/p/16867362.html"
   ]
  },
  {
   "cell_type": "code",
   "execution_count": 34,
   "id": "9a79cbaa-79af-4841-a88d-e1a35f2d6839",
   "metadata": {
    "execution": {
     "iopub.execute_input": "2023-02-04T12:41:22.733754Z",
     "iopub.status.busy": "2023-02-04T12:41:22.732783Z",
     "iopub.status.idle": "2023-02-04T12:41:22.767873Z",
     "shell.execute_reply": "2023-02-04T12:41:22.766870Z",
     "shell.execute_reply.started": "2023-02-04T12:41:22.733754Z"
    },
    "jupyter": {
     "source_hidden": true
    },
    "tags": []
   },
   "outputs": [
    {
     "name": "stdout",
     "output_type": "stream",
     "text": [
      "          code  tradeDate   open   high    low  close        amount        vol\n",
      "0     sh601628   20150902  24.60  26.44  24.50  26.43  2.650394e+09  102231049\n",
      "1     sh601628   20150907  25.90  26.28  24.51  24.53  8.093017e+08   31744690\n",
      "2     sh601628   20150908  24.30  25.58  24.10  25.46  6.499078e+08   25788785\n",
      "3     sh601628   20150909  25.48  25.86  24.98  25.58  7.447775e+08   29322307\n",
      "4     sh601628   20150910  25.29  25.48  25.04  25.40  4.120328e+08   16288522\n",
      "...        ...        ...    ...    ...    ...    ...           ...        ...\n",
      "1797  sh601628   20230130  36.84  36.87  34.61  34.80  8.439583e+08   24022646\n",
      "1798  sh601628   20230131  34.86  35.23  33.96  34.04  6.805075e+08   19794678\n",
      "1799  sh601628   20230201  34.12  34.26  33.35  33.94  8.301546e+08   24688664\n",
      "1800  sh601628   20230202  33.88  34.08  33.35  33.89  6.860496e+08   20307045\n",
      "1801  sh601628   20230203  33.85  33.85  33.15  33.51  5.268037e+08   15771846\n",
      "\n",
      "[1802 rows x 8 columns]\n"
     ]
    }
   ],
   "source": [
    "from struct import *\n",
    "\n",
    "fname = \"D:\\\\MacTools\\\\WinTools\\\\new_tdx\\\\vipdoc\\\\sh\\\\lday\\\\sh601628.day\"\n",
    "ofile = open(fname, 'rb')\n",
    "buf = ofile.read()\n",
    "ofile.close()\n",
    "\n",
    "# ifile=open('sz000680.txt','w')\n",
    "num = len(buf)\n",
    "no = num / 32\n",
    "b = 0\n",
    "e = 32\n",
    "line = ''\n",
    "dataSet = []\n",
    "# row=[]\n",
    "for i in range(int(no)):\n",
    "    code = os.path.basename(fname).replace('.day', '')\n",
    "    a = list(unpack('IIIIIfII', buf[b:e]))\n",
    "    # line=str(a[0])+' '+str(a[1]/100.0)+' '+str(a[2]/100.0)+' '+str(a[3]/100.0)+' '+str(a[4]/100.0)+' '+str(a[5]/10.0)+' '+str(a[6])+' '+str(a[7])+' '+'\\n'\n",
    "    # print(line)\n",
    "    row = a\n",
    "    row[0] = (a[0])\n",
    "    row[1] = (a[1] / 100.0)\n",
    "    row[2] = (a[2] / 100.0)\n",
    "    row[3] = (a[3] / 100.0)\n",
    "    row[4] = (a[4] / 100.0)\n",
    "    row.pop()\n",
    "    row.insert(0, code)\n",
    "    # ifile.write(line)\n",
    "    b = b + 32\n",
    "    e = e + 32\n",
    "    dataSet.append(row)\n",
    "data = pd.DataFrame(data=dataSet, columns=[\n",
    "                    'code', 'tradeDate', 'open', 'high', 'low', 'close', 'amount', 'vol'])\n",
    "print(data)"
   ]
  },
  {
   "cell_type": "raw",
   "id": "799ccbd5-63ce-4a38-97c6-15126c0703b2",
   "metadata": {},
   "source": [
    "from struct import *\n",
    "ofile=open('sz000680.day','rb')\n",
    "buf=ofile.read()\n",
    "ofile.close()\n",
    "\n",
    "ifile=open('sz000680.txt','w')\n",
    "num=len(buf)\n",
    "no=num/32\n",
    "b=0\n",
    "e=32\n",
    "line=''\n",
    "\n",
    "for i in xrange(no):\n",
    "   a=unpack('IIIIIfII',buf[b:e])\n",
    "   line=str(a[0])+' '+str(a[1]/100.0)+' '+str(a[2]/100.0)+' '+str(a[3]/100.0)+' '+str(a[4]/100.0)+' '+str(a[5]/10.0)+' '+str(a[6])+' '+str(a[7])+' '+'\\n'\n",
    "   print line\n",
    "   ifile.write(line)\n",
    "   b=b+32\n",
    "   e=e+32\n",
    "ifile.close()\n",
    "\n",
    "将文件保存为： tdx.py\n",
    "然后再到通达信文件路径下：c:\\tdx\\Vipdoc\\sz\\lday将所要下载的股票代码COPY到当前路径下与tdx.py文件在同一路径下。\n",
    "最后，运行：python tdx.py 即可在当前路径下生成TXT格式的数据文件。\n",
    "\n",
    "\n",
    "--------------------------\n",
    "一、通达信日线*.day文件\n",
    "    文件名即股票代码\n",
    "    每32个字节为一天数据\n",
    "    每4个字节为一个字段，每个字段内低字节在前\n",
    "    00 ~ 03 字节：年月日, 整型\n",
    "    04 ~ 07 字节：开盘价*100， 整型\n",
    "    08 ~ 11 字节：最高价*100,  整型\n",
    "    12 ~ 15 字节：最低价*100,  整型\n",
    "    16 ~ 19 字节：收盘价*100,  整型\n",
    "    20 ~ 23 字节：成交额（元），float型\n",
    "    24 ~ 27 字节：成交量（股），整型\n",
    "    28 ~ 31 字节：上日收盘*100, 整型\n",
    "\n",
    "\n",
    "二、通达信5分钟线*.5文件\n",
    "    文件名即股票代码\n",
    "    每32个字节为一个5分钟数据，每字段内低字节在前\n",
    "    00 ~ 01 字节：日期，整型，设其值为num，则日期计算方法为：\n",
    "                  year=floor(num/2048)+2004;\n",
    "                  month=floor(mod(num,2048)/100);\n",
    "                  day=mod(mod(num,2048),100);\n",
    "    02 ~ 03 字节： 从0点开始至目前的分钟数，整型\n",
    "    04 ~ 07 字节：开盘价*100，整型\n",
    "    08 ~ 11 字节：最高价*100，整型\n",
    "    12 ~ 15 字节：最低价*100，整型\n",
    "    16 ~ 19 字节：收盘价*100，整型\n",
    "    20 ~ 23 字节：成交额*100，float型\n",
    "    24 ~ 27 字节：成交量（股），整型\n",
    "    28 ~ 31 字节：（保留）"
   ]
  },
  {
   "cell_type": "code",
   "execution_count": null,
   "id": "a5e2544a-bbf3-4359-8872-1028979688a6",
   "metadata": {},
   "outputs": [],
   "source": []
  }
 ],
 "metadata": {
  "kernelspec": {
   "display_name": "python3.9",
   "language": "python",
   "name": "python3"
  },
  "language_info": {
   "codemirror_mode": {
    "name": "ipython",
    "version": 3
   },
   "file_extension": ".py",
   "mimetype": "text/x-python",
   "name": "python",
   "nbconvert_exporter": "python",
   "pygments_lexer": "ipython3",
   "version": "3.9.13"
  },
  "widgets": {
   "application/vnd.jupyter.widget-state+json": {
    "state": {},
    "version_major": 2,
    "version_minor": 0
   }
  }
 },
 "nbformat": 4,
 "nbformat_minor": 5
}
