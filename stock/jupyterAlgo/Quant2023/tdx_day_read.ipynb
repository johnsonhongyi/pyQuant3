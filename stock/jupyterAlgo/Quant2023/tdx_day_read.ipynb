{
 "cells": [
  {
   "cell_type": "markdown",
   "id": "ea342d23-82cb-4c32-b09e-5e78fc047777",
   "metadata": {},
   "source": [
    "# Dayfile read"
   ]
  },
  {
   "cell_type": "code",
   "execution_count": null,
   "id": "430f602b-660e-42d7-a15e-c4de0b8dec03",
   "metadata": {
    "tags": []
   },
   "outputs": [],
   "source": [
    "import tkinter as tk\n",
    "from tkinter import ttk, messagebox, simpledialog\n",
    "\n",
    "class QueryHistoryManager:\n",
    "    def __init__(self, root):\n",
    "        self.root = root\n",
    "        self.root.title(\"Query History Manager\")\n",
    "\n",
    "        # 历史记录 [{query, starred, note}]\n",
    "        self.history = []\n",
    "\n",
    "        # --- 输入区 ---\n",
    "        frame_input = tk.Frame(root)\n",
    "        frame_input.pack(fill=\"x\", padx=5, pady=5)\n",
    "\n",
    "        tk.Label(frame_input, text=\"Query:\").pack(side=\"left\")\n",
    "        self.entry_query = tk.Entry(frame_input, width=60)\n",
    "        self.entry_query.pack(side=\"left\", padx=5)\n",
    "\n",
    "        btn_add = tk.Button(frame_input, text=\"保存\", command=self.add_query)\n",
    "        btn_add.pack(side=\"left\", padx=5)\n",
    "\n",
    "        # --- Treeview ---\n",
    "        self.tree = ttk.Treeview(root, columns=(\"query\", \"star\", \"note\"), show=\"headings\", height=12)\n",
    "        self.tree.heading(\"query\", text=\"Query\")\n",
    "        self.tree.heading(\"star\", text=\"⭐\")\n",
    "        self.tree.heading(\"note\", text=\"备注\")\n",
    "        self.tree.column(\"query\", width=400, anchor=\"w\")\n",
    "        self.tree.column(\"star\", width=40, anchor=\"center\")\n",
    "        self.tree.column(\"note\", width=200, anchor=\"w\")\n",
    "        self.tree.pack(fill=\"both\", expand=True, padx=5, pady=5)\n",
    "\n",
    "        # 单击星标\n",
    "        self.tree.bind(\"<Button-1>\", self.on_click_star)\n",
    "\n",
    "        # 双击修改\n",
    "        self.tree.bind(\"<Double-1>\", self.on_double_click)\n",
    "\n",
    "        # --- 操作按钮 ---\n",
    "        frame_btn = tk.Frame(root)\n",
    "        frame_btn.pack(fill=\"x\", padx=5, pady=5)\n",
    "\n",
    "        tk.Button(frame_btn, text=\"使用选中Query\", command=self.use_query).pack(side=\"left\", padx=5)\n",
    "\n",
    "    def add_query(self):\n",
    "        query = self.entry_query.get().strip()\n",
    "        if not query:\n",
    "            messagebox.showwarning(\"提示\", \"请输入 Query\")\n",
    "            return\n",
    "        self.history.append({\"query\": query, \"starred\": False, \"note\": \"\"})\n",
    "        self.refresh_tree()\n",
    "        self.entry_query.delete(0, tk.END)\n",
    "\n",
    "    def on_click_star(self, event):\n",
    "        \"\"\"单击星标列切换\"\"\"\n",
    "        region = self.tree.identify(\"region\", event.x, event.y)\n",
    "        if region != \"cell\":\n",
    "            return\n",
    "        col = self.tree.identify_column(event.x)\n",
    "        if col != \"#2\":  # 第二列是 star\n",
    "            return\n",
    "        row_id = self.tree.identify_row(event.y)\n",
    "        if not row_id:\n",
    "            return\n",
    "        idx = int(row_id) - 1\n",
    "        if 0 <= idx < len(self.history):\n",
    "            self.history[idx][\"starred\"] = not self.history[idx][\"starred\"]\n",
    "            self.refresh_tree()\n",
    "\n",
    "    def on_double_click(self, event):\n",
    "        \"\"\"双击修改 Query 或 Note\"\"\"\n",
    "        region = self.tree.identify(\"region\", event.x, event.y)\n",
    "        if region != \"cell\":\n",
    "            return\n",
    "\n",
    "        col = self.tree.identify_column(event.x)\n",
    "        row_id = self.tree.identify_row(event.y)\n",
    "        if not row_id:\n",
    "            return\n",
    "        idx = int(row_id) - 1\n",
    "        record = self.history[idx]\n",
    "\n",
    "        if col == \"#1\":  # Query 列\n",
    "            new_q = simpledialog.askstring(\"修改 Query\", \"请输入新的 Query：\", initialvalue=record[\"query\"])\n",
    "            if new_q is not None and new_q.strip():\n",
    "                record[\"query\"] = new_q.strip()\n",
    "                self.refresh_tree()\n",
    "        elif col == \"#3\":  # Note 列\n",
    "            new_note = simpledialog.askstring(\"修改备注\", \"请输入新的备注：\", initialvalue=record[\"note\"])\n",
    "            if new_note is not None:\n",
    "                record[\"note\"] = new_note\n",
    "                self.refresh_tree()\n",
    "\n",
    "    def use_query(self):\n",
    "        item = self.tree.selection()\n",
    "        if not item:\n",
    "            return\n",
    "        idx = int(item[0]) - 1\n",
    "        query = self.history[idx][\"query\"]\n",
    "        messagebox.showinfo(\"使用 Query\", f\"使用：\\n{query}\")\n",
    "\n",
    "    def refresh_tree(self):\n",
    "        self.tree.delete(*self.tree.get_children())\n",
    "        for idx, record in enumerate(self.history, start=1):\n",
    "            star = \"⭐\" if record[\"starred\"] else \"\"\n",
    "            self.tree.insert(\"\", \"end\", iid=str(idx), values=(record[\"query\"], star, record[\"note\"]))\n",
    "\n",
    "\n",
    "if __name__ == \"__main__\":\n",
    "    root = tk.Tk()\n",
    "    app = QueryHistoryManager(root)\n",
    "    root.mainloop()\n"
   ]
  },
  {
   "cell_type": "code",
   "execution_count": 65,
   "id": "4bc98dc6-2b9d-4770-ad47-d1c5e7f0139c",
   "metadata": {
    "execution": {
     "iopub.execute_input": "2025-09-25T14:31:18.588405Z",
     "iopub.status.busy": "2025-09-25T14:31:18.588405Z",
     "iopub.status.idle": "2025-09-25T14:31:18.607356Z",
     "shell.execute_reply": "2025-09-25T14:31:18.607356Z",
     "shell.execute_reply.started": "2025-09-25T14:31:18.588405Z"
    },
    "tags": []
   },
   "outputs": [],
   "source": [
    "import os\n",
    "import struct\n",
    "import sys\n",
    "\n",
    "import pandas as pd\n",
    "\n",
    "sys.path.append('../../')\n",
    "from JohnsonUtil import commonTips as cct\n",
    "from JohnsonUtil import johnson_cons as ct\n",
    "from JSONData import tdx_data_Day as tdd\n",
    "from JSONData import sina_data\n"
   ]
  },
  {
   "cell_type": "code",
   "execution_count": 93,
   "id": "b92d388c-c22e-4a61-95a8-60b33bb18540",
   "metadata": {
    "execution": {
     "iopub.execute_input": "2025-09-25T15:24:46.824683Z",
     "iopub.status.busy": "2025-09-25T15:24:46.824683Z",
     "iopub.status.idle": "2025-09-25T15:24:46.837648Z",
     "shell.execute_reply": "2025-09-25T15:24:46.837648Z",
     "shell.execute_reply.started": "2025-09-25T15:24:46.824683Z"
    },
    "tags": []
   },
   "outputs": [],
   "source": [
    "import pandas as pd\n",
    "\n",
    "def detect_bullish_breakout(df, \n",
    "                            price_col='close', \n",
    "                            high_col='high', \n",
    "                            low_col='low', \n",
    "                            upper_col='upper', \n",
    "                            mid_col='ene', \n",
    "                            ma26_col='ma20d',\n",
    "                            lookback=60):\n",
    "    \"\"\"\n",
    "    识别多头爆发形态：\n",
    "    1. 最近 lookback 天内至少一次冲击过上轨 upper\n",
    "    2. 回落时没有有效跌破 mid\n",
    "    3. 当前价格重新突破 upper（二次突破）\n",
    "    4. 站上 ma26，且突破近期高点\n",
    "    \n",
    "    返回: 一个 Series，标记每个交易日是否符合形态\n",
    "    \"\"\"\n",
    "\n",
    "    price = df[price_col]\n",
    "    high = df[high_col]\n",
    "    low = df[low_col]\n",
    "    upper = df[upper_col]\n",
    "    mid = df[mid_col]\n",
    "    ma26 = df[ma26_col]\n",
    "\n",
    "    signals = pd.Series(False, index=df.index)\n",
    "\n",
    "    for i in range(lookback, len(df)):\n",
    "        window = df.iloc[i-lookback:i+1]\n",
    "\n",
    "        # Step 1: 曾经冲击过上轨\n",
    "        cond1 = (window[high_col].iloc[:-5] > window[upper_col].iloc[:-5]).any()\n",
    "\n",
    "        # Step 2: 回落时守住 mid\n",
    "        cond2 = (window[low_col].iloc[:-5].min() > window[mid_col].iloc[:-5].min())\n",
    "\n",
    "        # Step 3: 当前突破 upper\n",
    "        cond3 = window[price_col].iloc[-1] > window[upper_col].iloc[-1]\n",
    "\n",
    "        # Step 4: 当前在 ma26 上方\n",
    "        cond4 = window[price_col].iloc[-1] > window[ma26_col].iloc[-1]\n",
    "\n",
    "        # Step 5: 突破近期高点\n",
    "        recent_high = window[high_col].iloc[:-1].max()\n",
    "        cond5 = window[price_col].iloc[-1] > recent_high\n",
    "\n",
    "        if cond1 and cond2 and cond3 and cond4 and cond5:\n",
    "            signals.iloc[i] = True\n",
    "\n",
    "    return signals\n"
   ]
  },
  {
   "cell_type": "code",
   "execution_count": 98,
   "id": "ffd6497f-578c-42e6-938c-7ac296140a93",
   "metadata": {
    "execution": {
     "iopub.execute_input": "2025-09-25T15:25:31.091335Z",
     "iopub.status.busy": "2025-09-25T15:25:31.090338Z",
     "iopub.status.idle": "2025-09-25T15:25:31.268861Z",
     "shell.execute_reply": "2025-09-25T15:25:31.268295Z",
     "shell.execute_reply.started": "2025-09-25T15:25:31.091335Z"
    },
    "tags": []
   },
   "outputs": [],
   "source": [
    "# code='000009'\n",
    "code='600895'\n",
    "df = tdd.get_tdx_Exp_day_to_df(code,dl=ct.duration_date_day*2,resample='d',lastday=None )"
   ]
  },
  {
   "cell_type": "code",
   "execution_count": 99,
   "id": "e01ce942-f222-453c-a887-2a6bc0e990ef",
   "metadata": {
    "execution": {
     "iopub.execute_input": "2025-09-25T15:25:31.763539Z",
     "iopub.status.busy": "2025-09-25T15:25:31.762541Z",
     "iopub.status.idle": "2025-09-25T15:25:31.817396Z",
     "shell.execute_reply": "2025-09-25T15:25:31.816398Z",
     "shell.execute_reply.started": "2025-09-25T15:25:31.763539Z"
    },
    "tags": []
   },
   "outputs": [],
   "source": [
    "df['bullish_breakout'] = detect_bullish_breakout(df)"
   ]
  },
  {
   "cell_type": "code",
   "execution_count": 100,
   "id": "01d3c9e7-6690-4124-b446-aa793456cb9b",
   "metadata": {
    "execution": {
     "iopub.execute_input": "2025-09-25T15:25:32.498573Z",
     "iopub.status.busy": "2025-09-25T15:25:32.498573Z",
     "iopub.status.idle": "2025-09-25T15:25:32.520515Z",
     "shell.execute_reply": "2025-09-25T15:25:32.519519Z",
     "shell.execute_reply.started": "2025-09-25T15:25:32.498573Z"
    },
    "tags": []
   },
   "outputs": [],
   "source": [
    "# df.bullish_breakout[-60:]\n",
    "# df\n",
    "# df.loc[:,['open','high','close','low','upper','ene','lower']][-60:]\n",
    "df['volume'] = df['vol']\n",
    "print(df[df['bullish_breakout']])"
   ]
  },
  {
   "cell_type": "code",
   "execution_count": 101,
   "id": "a0d8ef7c-2042-4e66-b3ea-1ab33b04884f",
   "metadata": {
    "execution": {
     "iopub.execute_input": "2025-09-25T15:25:33.596639Z",
     "iopub.status.busy": "2025-09-25T15:25:33.595642Z",
     "iopub.status.idle": "2025-09-25T15:25:34.051433Z",
     "shell.execute_reply": "2025-09-25T15:25:34.051433Z",
     "shell.execute_reply.started": "2025-09-25T15:25:33.596639Z"
    },
    "tags": []
   },
   "outputs": [],
   "source": [
    "import pandas as pd\n",
    "import numpy as np\n",
    "import mplfinance as mpf\n",
    "\n",
    "def plot_bullish_breakout(df, bullish_col='bullish_breakout', gap=5, offset=0.3, min_size=80, max_size=200):\n",
    "    \"\"\"\n",
    "    绘制多头爆发信号，红色表示第一次冲击，蓝色表示第二次爆发。\n",
    "    箭头大小随成交量变化。\n",
    "    \n",
    "    df: 日K线数据，必须包含 'open','high','low','close','vol' 和 bullish_col\n",
    "    bullish_col: 信号列，True表示信号\n",
    "    gap: 两次信号间隔交易日数区分第一次/第二次\n",
    "    offset: 箭头在K线上方偏移量\n",
    "    min_size, max_size: 箭头最小和最大大小\n",
    "    \"\"\"\n",
    "    df_plot = df.copy()\n",
    "    df_plot.index = pd.to_datetime(df_plot.index)\n",
    "\n",
    "    mc = mpf.make_marketcolors(up='red', down='green', edge='i', wick='i', volume='in')\n",
    "    s = mpf.make_mpf_style(marketcolors=mc)\n",
    "\n",
    "    # 找到信号点索引\n",
    "    signal_idx = df_plot[df_plot[bullish_col]].index\n",
    "    signal_pos = df_plot.index.get_indexer(signal_idx)\n",
    "    \n",
    "    if len(signal_idx) == 0:\n",
    "        # 没有信号直接绘制K线\n",
    "        mpf.plot(df_plot, type='candle', style=s, volume=True,\n",
    "                 title=\"Bullish Breakout Signals\", ylabel=\"Price\", ylabel_lower=\"Volume\")\n",
    "        return\n",
    "\n",
    "    # 计算每个信号的箭头大小\n",
    "    vol_signal = df_plot.loc[signal_idx, 'vol']\n",
    "    vol_min, vol_max = vol_signal.min(), vol_signal.max()\n",
    "    markersizes = min_size + (vol_signal - vol_min) / (vol_max - vol_min) * (max_size - min_size)\n",
    "\n",
    "    # 根据 gap 区分第一次/第二次突破\n",
    "    colors = []\n",
    "    last_pos = -gap*2\n",
    "    for pos in signal_pos:\n",
    "        if pos - last_pos > gap:\n",
    "            colors.append('r')  # 第一次冲击\n",
    "        else:\n",
    "            colors.append('b')  # 第二次爆发\n",
    "        last_pos = pos\n",
    "\n",
    "    # 生成 addplot，每个信号点对应一个 scatter\n",
    "    ap = []\n",
    "    for i, idx in enumerate(signal_idx):\n",
    "        price_series = pd.Series(np.nan, index=df_plot.index)\n",
    "        price_series[idx] = df_plot.loc[idx, 'high'] + offset\n",
    "        ap.append(\n",
    "            mpf.make_addplot(price_series, type='scatter',\n",
    "                             markersize=markersizes.iloc[i], marker='^', color=colors[i])\n",
    "        )\n",
    "\n",
    "    # 绘制\n",
    "    mpf.plot(df_plot, type='candle', style=s, addplot=ap,\n",
    "             volume=True, title=\"Bullish Breakout Signals (Volume Scaled)\",\n",
    "             ylabel=\"Price\", ylabel_lower=\"Volume\")\n",
    "\n",
    "\n",
    "\n",
    "\n",
    "# 使用示例\n",
    "plot_bullish_breakout(df)\n"
   ]
  },
  {
   "cell_type": "code",
   "execution_count": 56,
   "id": "e0a2d539-bde8-4456-9d25-b0654b3fbfcd",
   "metadata": {
    "execution": {
     "iopub.execute_input": "2025-09-25T14:13:12.113485Z",
     "iopub.status.busy": "2025-09-25T14:13:12.112489Z",
     "iopub.status.idle": "2025-09-25T14:13:12.139414Z",
     "shell.execute_reply": "2025-09-25T14:13:12.138417Z",
     "shell.execute_reply.started": "2025-09-25T14:13:12.113485Z"
    },
    "tags": []
   },
   "outputs": [],
   "source": [
    "import pandas as pd\n",
    "import numpy as np\n",
    "\n",
    "def track_bullish_strategy(df, bullish_col='bullish_breakout', gap=5, stop_loss_pct=0.05, take_profit_pct=0.15):\n",
    "    \"\"\"\n",
    "    df: 日K线数据，必须包含 ['open','high','low','close','vol', bullish_col]\n",
    "    bullish_col: 信号列\n",
    "    gap: 两次信号交易日间隔区分第一次/第二次突破\n",
    "    stop_loss_pct: 止损比例\n",
    "    take_profit_pct: 止盈比例\n",
    "    \"\"\"\n",
    "    df = df.copy()\n",
    "    df.index = pd.to_datetime(df.index)\n",
    "\n",
    "    # 初始化信号列\n",
    "    df['bullish_first'] = False\n",
    "    df['bullish_second'] = False\n",
    "    df['signal_status'] = None\n",
    "    df['entry_price'] = np.nan\n",
    "    df['stop_loss'] = np.nan\n",
    "    df['take_profit'] = np.nan\n",
    "    df['alert'] = False\n",
    "\n",
    "    # 找到所有信号点\n",
    "    signal_idx = df[df[bullish_col]].index\n",
    "    signal_pos = df.index.get_indexer(signal_idx)\n",
    "\n",
    "    if len(signal_idx) == 0:\n",
    "        return df\n",
    "\n",
    "    # 根据 gap 区分第一次/第二次突破\n",
    "    last_pos = -gap*2\n",
    "    for pos, idx in zip(signal_pos, signal_idx):\n",
    "        if pos - last_pos > gap:\n",
    "            df.loc[idx, 'bullish_first'] = True\n",
    "            df.loc[idx, 'signal_status'] = 'observing'\n",
    "        else:\n",
    "            df.loc[idx, 'bullish_second'] = True\n",
    "            df.loc[idx, 'signal_status'] = 'holding'\n",
    "            entry_price = df.loc[idx, 'close']\n",
    "            df.loc[idx, 'entry_price'] = entry_price\n",
    "            df.loc[idx, 'stop_loss'] = entry_price * (1 - stop_loss_pct)\n",
    "            df.loc[idx, 'take_profit'] = entry_price * (1 + take_profit_pct)\n",
    "            df.loc[idx, 'alert'] = True  # 触发买入预警\n",
    "        last_pos = pos\n",
    "\n",
    "    # 持仓跟踪\n",
    "    holding = False\n",
    "    entry_price = None\n",
    "    stop_loss = None\n",
    "    take_profit = None\n",
    "    for idx, row in df.iterrows():\n",
    "        # 持仓状态更新\n",
    "        if row['signal_status'] == 'holding':\n",
    "            holding = True\n",
    "            entry_price = row['entry_price']\n",
    "            stop_loss = row['stop_loss']\n",
    "            take_profit = row['take_profit']\n",
    "\n",
    "        if holding:\n",
    "            # 检查止损\n",
    "            if row['low'] <= stop_loss:\n",
    "                df.loc[idx, 'signal_status'] = 'closed'\n",
    "                df.loc[idx, 'alert'] = True  # 止损提醒\n",
    "                holding = False\n",
    "            # 检查止盈\n",
    "            elif row['high'] >= take_profit:\n",
    "                df.loc[idx, 'signal_status'] = 'closed'\n",
    "                df.loc[idx, 'alert'] = True  # 止盈提醒\n",
    "                holding = False\n",
    "\n",
    "    return df\n"
   ]
  },
  {
   "cell_type": "code",
   "execution_count": 57,
   "id": "7df5f35e-bf6a-4962-ac7a-bfba645d7c0b",
   "metadata": {
    "execution": {
     "iopub.execute_input": "2025-09-25T14:13:12.791671Z",
     "iopub.status.busy": "2025-09-25T14:13:12.791671Z",
     "iopub.status.idle": "2025-09-25T14:13:12.808652Z",
     "shell.execute_reply": "2025-09-25T14:13:12.808652Z",
     "shell.execute_reply.started": "2025-09-25T14:13:12.791671Z"
    },
    "tags": []
   },
   "outputs": [],
   "source": [
    "# print(df.columns.tolist())"
   ]
  },
  {
   "cell_type": "code",
   "execution_count": 58,
   "id": "a044874d-4ea0-4d80-9280-57a8b78ef6d4",
   "metadata": {
    "execution": {
     "iopub.execute_input": "2025-09-25T14:13:13.383090Z",
     "iopub.status.busy": "2025-09-25T14:13:13.382093Z",
     "iopub.status.idle": "2025-09-25T14:13:13.407025Z",
     "shell.execute_reply": "2025-09-25T14:13:13.406066Z",
     "shell.execute_reply.started": "2025-09-25T14:13:13.383090Z"
    },
    "tags": []
   },
   "outputs": [],
   "source": [
    "# df 是你的日K线数据，包含 bullish_breakout 列\n",
    "df_tracked = track_bullish_strategy(df)\n",
    "\n",
    "# 查看触发预警的日期\n",
    "alerts = df_tracked[df_tracked['alert']]\n",
    "print(alerts[['bullish_first','bullish_second','signal_status','entry_price','stop_loss','take_profit']])\n"
   ]
  },
  {
   "cell_type": "code",
   "execution_count": 59,
   "id": "90015e0d-eb03-43fc-8e0f-e16c42fc9265",
   "metadata": {
    "execution": {
     "iopub.execute_input": "2025-09-25T14:13:14.024048Z",
     "iopub.status.busy": "2025-09-25T14:13:14.024048Z",
     "iopub.status.idle": "2025-09-25T14:13:14.044030Z",
     "shell.execute_reply": "2025-09-25T14:13:14.044030Z",
     "shell.execute_reply.started": "2025-09-25T14:13:14.024048Z"
    },
    "tags": []
   },
   "outputs": [],
   "source": [
    "import pandas as pd\n",
    "import numpy as np\n",
    "\n",
    "def track_bullish_signals(df, breakout_col='bullish_breakout', gap=5, stop_loss_pct=0.05, take_profit_pct=0.15):\n",
    "    \"\"\"\n",
    "    自动识别第一次冲击（观察期）和第二次爆发（建仓期），并持续跟踪持仓\n",
    "    df: 日K线数据，必须包含 ['open','high','low','close', breakout_col]\n",
    "    breakout_col: 原始突破信号列\n",
    "    gap: 两次突破的最小间隔天数，用于区分第一次/第二次突破\n",
    "    stop_loss_pct: 止损比例\n",
    "    take_profit_pct: 止盈比例\n",
    "    \"\"\"\n",
    "    df = df.copy()\n",
    "    df.index = pd.to_datetime(df.index)\n",
    "\n",
    "    # 初始化列\n",
    "    df['bullish_first'] = False\n",
    "    df['bullish_second'] = False\n",
    "    df['signal_status'] = None\n",
    "    df['entry_price'] = np.nan\n",
    "    df['stop_loss'] = np.nan\n",
    "    df['take_profit'] = np.nan\n",
    "    df['alert'] = False\n",
    "\n",
    "    # 找到所有突破信号\n",
    "    signal_idx = df[df[breakout_col]].index\n",
    "    signal_pos = df.index.get_indexer(signal_idx)\n",
    "    last_pos = -gap*2\n",
    "\n",
    "    # 区分第一次和第二次突破\n",
    "    for pos, idx in zip(signal_pos, signal_idx):\n",
    "        if pos - last_pos > gap:\n",
    "            df.loc[idx, 'bullish_first'] = True\n",
    "            df.loc[idx, 'signal_status'] = 'observing'\n",
    "            df.loc[idx, 'alert'] = True  # 观察预警\n",
    "        else:\n",
    "            df.loc[idx, 'bullish_second'] = True\n",
    "            df.loc[idx, 'signal_status'] = 'holding'\n",
    "            entry_price = df.loc[idx, 'close']\n",
    "            df.loc[idx, 'entry_price'] = entry_price\n",
    "            df.loc[idx, 'stop_loss'] = entry_price * (1 - stop_loss_pct)\n",
    "            df.loc[idx, 'take_profit'] = entry_price * (1 + take_profit_pct)\n",
    "            df.loc[idx, 'alert'] = True  # 建仓预警\n",
    "        last_pos = pos\n",
    "\n",
    "    # 持仓跟踪\n",
    "    holding = False\n",
    "    entry_price = None\n",
    "    stop_loss = None\n",
    "    take_profit = None\n",
    "\n",
    "    for idx, row in df.iterrows():\n",
    "        if row['bullish_second']:\n",
    "            holding = True\n",
    "            entry_price = row['entry_price']\n",
    "            stop_loss = row['stop_loss']\n",
    "            take_profit = row['take_profit']\n",
    "\n",
    "        if holding:\n",
    "            # 检查止损\n",
    "            if row['low'] <= stop_loss:\n",
    "                df.loc[idx, 'signal_status'] = 'closed'\n",
    "                df.loc[idx, 'alert'] = True\n",
    "                holding = False\n",
    "            # 检查止盈\n",
    "            elif row['high'] >= take_profit:\n",
    "                df.loc[idx, 'signal_status'] = 'closed'\n",
    "                df.loc[idx, 'alert'] = True\n",
    "                holding = False\n",
    "\n",
    "    return df\n"
   ]
  },
  {
   "cell_type": "code",
   "execution_count": 60,
   "id": "f53b7faa-4a6c-46a2-a4fb-30f7da3407c7",
   "metadata": {
    "execution": {
     "iopub.execute_input": "2025-09-25T14:13:14.793031Z",
     "iopub.status.busy": "2025-09-25T14:13:14.792032Z",
     "iopub.status.idle": "2025-09-25T14:13:14.821952Z",
     "shell.execute_reply": "2025-09-25T14:13:14.820992Z",
     "shell.execute_reply.started": "2025-09-25T14:13:14.793031Z"
    },
    "tags": []
   },
   "outputs": [],
   "source": [
    "# df 是你的日K线数据，包含 bullish_breakout 列\n",
    "df_tracked = track_bullish_signals(df)\n",
    "\n",
    "# 查看触发预警的日期\n",
    "alerts = df_tracked[df_tracked['alert']]\n",
    "print(alerts[['bullish_first','bullish_second','signal_status','entry_price','stop_loss','take_profit']])\n"
   ]
  },
  {
   "cell_type": "code",
   "execution_count": 61,
   "id": "c2a5af1d-c796-45fe-b16b-a0a4ce8e0019",
   "metadata": {
    "execution": {
     "iopub.execute_input": "2025-09-25T14:14:41.507706Z",
     "iopub.status.busy": "2025-09-25T14:14:41.506708Z",
     "iopub.status.idle": "2025-09-25T14:14:41.524660Z",
     "shell.execute_reply": "2025-09-25T14:14:41.523663Z",
     "shell.execute_reply.started": "2025-09-25T14:14:41.507706Z"
    }
   },
   "outputs": [],
   "source": [
    "print(df[df['bullish_breakout']])"
   ]
  },
  {
   "cell_type": "markdown",
   "id": "077b4310-510f-409e-9aeb-caaa5561db4a",
   "metadata": {
    "execution": {
     "iopub.execute_input": "2025-09-25T14:09:59.944057Z",
     "iopub.status.busy": "2025-09-25T14:09:59.943061Z",
     "iopub.status.idle": "2025-09-25T14:09:59.971982Z",
     "shell.execute_reply": "2025-09-25T14:09:59.971024Z",
     "shell.execute_reply.started": "2025-09-25T14:09:59.944057Z"
    },
    "tags": []
   },
   "source": [
    "import pandas as pd\n",
    "import numpy as np\n",
    "\n",
    "def track_bullish_signals1(df,  breakout_col='bullish_breakout', gap=5, stop_loss_pct=0.05, take_profit_pct=0.15):\n",
    "    \"\"\"\n",
    "    持续跟踪 bullish_first 和 bullish_second 信号，生成持仓状态和预警\n",
    "    df: 日K线数据，必须包含 ['open','high','low','close','bullish_first','bullish_second']\n",
    "    stop_loss_pct: 止损比例\n",
    "    take_profit_pct: 止盈比例\n",
    "    \"\"\"\n",
    "    df = df.copy()\n",
    "    df.index = pd.to_datetime(df.index)\n",
    "\n",
    "    # 初始化\n",
    "    df['signal_status'] = None\n",
    "    df['entry_price'] = np.nan\n",
    "    df['stop_loss'] = np.nan\n",
    "    df['take_profit'] = np.nan\n",
    "    df['alert'] = False\n",
    "\n",
    "    holding = False\n",
    "    entry_price = None\n",
    "    stop_loss = None\n",
    "    take_profit = None\n",
    "    \n",
    "        # 找到所有突破信号\n",
    "    signal_idx = df[df[breakout_col]].index\n",
    "    signal_pos = df.index.get_indexer(signal_idx)\n",
    "    last_pos = -gap*2\n",
    "    # 区分第一次和第二次突破\n",
    "    for pos, idx in zip(signal_pos, signal_idx):\n",
    "        if pos - last_pos > gap:\n",
    "            df.loc[idx, 'bullish_first'] = True\n",
    "            df.loc[idx, 'signal_status'] = 'observing'\n",
    "            df.loc[idx, 'alert'] = True  # 观察预警\n",
    "        else:\n",
    "            df.loc[idx, 'bullish_second'] = True\n",
    "            df.loc[idx, 'signal_status'] = 'holding'\n",
    "            entry_price = df.loc[idx, 'close']\n",
    "            df.loc[idx, 'entry_price'] = entry_price\n",
    "            df.loc[idx, 'stop_loss'] = entry_price * (1 - stop_loss_pct)\n",
    "            df.loc[idx, 'take_profit'] = entry_price * (1 + take_profit_pct)\n",
    "            df.loc[idx, 'alert'] = True  # 建仓预警\n",
    "        last_pos = pos\n",
    "    for idx, row in df.iterrows():\n",
    "        # 第一次冲击 → 观察期\n",
    "        if row['bullish_first']:\n",
    "            df.loc[idx, 'signal_status'] = 'observing'\n",
    "            df.loc[idx, 'alert'] = True  # 观察预警\n",
    "\n",
    "        # 第二次爆发 → 建仓\n",
    "        if row['bullish_second']:\n",
    "            df.loc[idx, 'signal_status'] = 'holding'\n",
    "            entry_price = row['close']\n",
    "            stop_loss = entry_price * (1 - stop_loss_pct)\n",
    "            take_profit = entry_price * (1 + take_profit_pct)\n",
    "            df.loc[idx, 'entry_price'] = entry_price\n",
    "            df.loc[idx, 'stop_loss'] = stop_loss\n",
    "            df.loc[idx, 'take_profit'] = take_profit\n",
    "            df.loc[idx, 'alert'] = True  # 建仓预警\n",
    "            holding = True\n",
    "\n",
    "        # 持仓跟踪\n",
    "        if holding:\n",
    "            # 检查止损\n",
    "            if row['low'] <= stop_loss:\n",
    "                df.loc[idx, 'signal_status'] = 'closed'\n",
    "                df.loc[idx, 'alert'] = True  # 止损提醒\n",
    "                holding = False\n",
    "            # 检查止盈\n",
    "            elif row['high'] >= take_profit:\n",
    "                df.loc[idx, 'signal_status'] = 'closed'\n",
    "                df.loc[idx, 'alert'] = True  # 止盈提醒\n",
    "                holding = False\n",
    "\n",
    "    return df\n"
   ]
  },
  {
   "cell_type": "markdown",
   "id": "5f4e1d28-cff5-44ce-a7c7-c29b8a630c93",
   "metadata": {
    "execution": {
     "iopub.execute_input": "2025-09-25T14:11:53.300897Z",
     "iopub.status.busy": "2025-09-25T14:11:53.299897Z",
     "iopub.status.idle": "2025-09-25T14:11:53.432542Z",
     "shell.execute_reply": "2025-09-25T14:11:53.431579Z",
     "shell.execute_reply.started": "2025-09-25T14:11:53.300897Z"
    },
    "tags": []
   },
   "source": [
    "# df 是你已有的 DataFrame，包含 bullish_first 和 bullish_second\n",
    "df_tracked = track_bullish_signals(df)\n",
    "\n",
    "# 查看触发预警的日期和状态\n",
    "alerts = df_tracked[df_tracked['alert']]\n",
    "print(alerts[['bullish_first','bullish_second','signal_status','entry_price','stop_loss','take_profit']])\n"
   ]
  },
  {
   "cell_type": "markdown",
   "id": "6082cc7c-8f81-44d0-832f-86d081581fc9",
   "metadata": {},
   "source": []
  },
  {
   "cell_type": "code",
   "execution_count": null,
   "id": "1e1af2da-1300-4db8-860d-85710b8c0b30",
   "metadata": {},
   "outputs": [],
   "source": []
  },
  {
   "cell_type": "markdown",
   "id": "14bdd8e9-335e-455e-83eb-4cde997c7a87",
   "metadata": {
    "execution": {
     "iopub.execute_input": "2025-09-25T13:56:52.867028Z",
     "iopub.status.busy": "2025-09-25T13:56:52.866173Z",
     "iopub.status.idle": "2025-09-25T13:56:52.878994Z",
     "shell.execute_reply": "2025-09-25T13:56:52.878994Z",
     "shell.execute_reply.started": "2025-09-25T13:56:52.867028Z"
    },
    "tags": []
   },
   "source": [
    "def readTdxLdayFile(fname=\"D:\\\\MacTools\\\\WinTools\\\\new_tdx\\\\vipdoc\\\\sh\\\\lday\\\\sh601628.day\"):\n",
    "    dataSet = []\n",
    "    with open(fname, 'rb') as fl:\n",
    "        buffer = fl.read()  # 读取数据到缓存\n",
    "        size = len(buffer)\n",
    "        rowSize = 32  # 通信达day数据，每32个字节一组数据\n",
    "        code = os.path.basename(fname).replace('.day', '')\n",
    "        for i in range(0, size, rowSize):  # 步长为32遍历buffer\n",
    "            row = list(struct.unpack('IIIIIfII', buffer[i:i + rowSize]))\n",
    "            row[0] = (cct.day8_to_day10(row[0]))\n",
    "            row[1] = row[1] / 100\n",
    "            row[2] = row[2] / 100\n",
    "            row[3] = row[3] / 100\n",
    "            row[4] = row[4] / 100\n",
    "            row.pop()  # 移除最后无意义字段\n",
    "            row.insert(0, code)\n",
    "            dataSet.append(row)\n",
    "    data = pd.DataFrame(data=dataSet, columns=[\n",
    "                        'code', 'tradeDate', 'open', 'high', 'low', 'close', 'amount', 'vol'])\n",
    "    print(data[-2:])\n",
    "\n"
   ]
  },
  {
   "cell_type": "code",
   "execution_count": 13,
   "id": "5b835400-85c8-448a-a1e7-87b03d5b70ab",
   "metadata": {
    "execution": {
     "iopub.execute_input": "2025-09-25T13:51:14.290043Z",
     "iopub.status.busy": "2025-09-25T13:51:14.290043Z",
     "iopub.status.idle": "2025-09-25T13:51:14.307033Z",
     "shell.execute_reply": "2025-09-25T13:51:14.307033Z",
     "shell.execute_reply.started": "2025-09-25T13:51:14.290043Z"
    },
    "tags": []
   },
   "outputs": [],
   "source": [
    "# readTdxLdayFile()"
   ]
  },
  {
   "cell_type": "code",
   "execution_count": 14,
   "id": "1ea73920-acc5-4586-b227-a66510c01db1",
   "metadata": {
    "execution": {
     "iopub.execute_input": "2025-09-25T13:51:15.302336Z",
     "iopub.status.busy": "2025-09-25T13:51:15.302336Z",
     "iopub.status.idle": "2025-09-25T13:51:15.619488Z",
     "shell.execute_reply": "2025-09-25T13:51:15.618494Z",
     "shell.execute_reply.started": "2025-09-25T13:51:15.302336Z"
    },
    "tags": []
   },
   "outputs": [],
   "source": [
    "# df= tdd.get_tdx_Exp_day_to_df_AllRead_('601628', dl=800, resample='d').sort_index(ascending=True)\n",
    "\n",
    "# print(df[-1:],df.shape)"
   ]
  },
  {
   "cell_type": "code",
   "execution_count": 15,
   "id": "025f9be0-f701-4c62-963e-470ce030f4e3",
   "metadata": {
    "execution": {
     "iopub.execute_input": "2025-09-25T13:51:24.776729Z",
     "iopub.status.busy": "2025-09-25T13:51:24.776729Z",
     "iopub.status.idle": "2025-09-25T13:51:24.980184Z",
     "shell.execute_reply": "2025-09-25T13:51:24.979225Z",
     "shell.execute_reply.started": "2025-09-25T13:51:24.776729Z"
    },
    "tags": []
   },
   "outputs": [],
   "source": [
    "df= tdd.get_tdx_Exp_day_to_df('601628', dl=80, resample='d').sort_index(ascending=True)\n",
    "print(df[-1:],df.shape)"
   ]
  },
  {
   "cell_type": "markdown",
   "id": "dc062787-0f26-4062-bfc0-c947ef222aeb",
   "metadata": {},
   "source": [
    "# tdx 2\n",
    "https://gist.github.com/WMJi/f5fe3083961d26fbfbcc\n",
    "https://www.cnblogs.com/yuyanc/p/16867362.html"
   ]
  },
  {
   "cell_type": "code",
   "execution_count": null,
   "id": "9a79cbaa-79af-4841-a88d-e1a35f2d6839",
   "metadata": {
    "execution": {
     "iopub.status.busy": "2025-09-25T13:48:37.769874Z",
     "iopub.status.idle": "2025-09-25T13:48:37.769874Z",
     "shell.execute_reply": "2025-09-25T13:48:37.769874Z",
     "shell.execute_reply.started": "2025-09-25T13:48:37.769874Z"
    },
    "tags": []
   },
   "outputs": [],
   "source": [
    "from struct import *\n",
    "\n",
    "fname = \"D:\\\\MacTools\\\\WinTools\\\\new_tdx\\\\vipdoc\\\\sh\\\\lday\\\\sh601628.day\"\n",
    "ofile = open(fname, 'rb')\n",
    "buf = ofile.read()\n",
    "ofile.close()\n",
    "\n",
    "# ifile=open('sz000680.txt','w')\n",
    "num = len(buf)\n",
    "no = num / 32\n",
    "b = 0\n",
    "e = 32\n",
    "line = ''\n",
    "dataSet = []\n",
    "# row=[]\n",
    "for i in range(int(no)):\n",
    "    code = os.path.basename(fname).replace('.day', '')\n",
    "    a = list(unpack('IIIIIfII', buf[b:e]))\n",
    "    # line=str(a[0])+' '+str(a[1]/100.0)+' '+str(a[2]/100.0)+' '+str(a[3]/100.0)+' '+str(a[4]/100.0)+' '+str(a[5]/10.0)+' '+str(a[6])+' '+str(a[7])+' '+'\\n'\n",
    "    # print(line)\n",
    "    row = a\n",
    "    row[0] = (a[0])\n",
    "    row[1] = (a[1] / 100.0)\n",
    "    row[2] = (a[2] / 100.0)\n",
    "    row[3] = (a[3] / 100.0)\n",
    "    row[4] = (a[4] / 100.0)\n",
    "    row.pop()\n",
    "    row.insert(0, code)\n",
    "    # ifile.write(line)\n",
    "    b = b + 32\n",
    "    e = e + 32\n",
    "    dataSet.append(row)\n",
    "data = pd.DataFrame(data=dataSet, columns=[\n",
    "                    'code', 'tradeDate', 'open', 'high', 'low', 'close', 'amount', 'vol'])\n",
    "print(data)"
   ]
  },
  {
   "cell_type": "raw",
   "id": "799ccbd5-63ce-4a38-97c6-15126c0703b2",
   "metadata": {},
   "source": [
    "from struct import *\n",
    "ofile=open('sz000680.day','rb')\n",
    "buf=ofile.read()\n",
    "ofile.close()\n",
    "\n",
    "ifile=open('sz000680.txt','w')\n",
    "num=len(buf)\n",
    "no=num/32\n",
    "b=0\n",
    "e=32\n",
    "line=''\n",
    "\n",
    "for i in xrange(no):\n",
    "   a=unpack('IIIIIfII',buf[b:e])\n",
    "   line=str(a[0])+' '+str(a[1]/100.0)+' '+str(a[2]/100.0)+' '+str(a[3]/100.0)+' '+str(a[4]/100.0)+' '+str(a[5]/10.0)+' '+str(a[6])+' '+str(a[7])+' '+'\\n'\n",
    "   print line\n",
    "   ifile.write(line)\n",
    "   b=b+32\n",
    "   e=e+32\n",
    "ifile.close()\n",
    "\n",
    "将文件保存为： tdx.py\n",
    "然后再到通达信文件路径下：c:\\tdx\\Vipdoc\\sz\\lday将所要下载的股票代码COPY到当前路径下与tdx.py文件在同一路径下。\n",
    "最后，运行：python tdx.py 即可在当前路径下生成TXT格式的数据文件。\n",
    "\n",
    "\n",
    "--------------------------\n",
    "一、通达信日线*.day文件\n",
    "    文件名即股票代码\n",
    "    每32个字节为一天数据\n",
    "    每4个字节为一个字段，每个字段内低字节在前\n",
    "    00 ~ 03 字节：年月日, 整型\n",
    "    04 ~ 07 字节：开盘价*100， 整型\n",
    "    08 ~ 11 字节：最高价*100,  整型\n",
    "    12 ~ 15 字节：最低价*100,  整型\n",
    "    16 ~ 19 字节：收盘价*100,  整型\n",
    "    20 ~ 23 字节：成交额（元），float型\n",
    "    24 ~ 27 字节：成交量（股），整型\n",
    "    28 ~ 31 字节：上日收盘*100, 整型\n",
    "\n",
    "\n",
    "二、通达信5分钟线*.5文件\n",
    "    文件名即股票代码\n",
    "    每32个字节为一个5分钟数据，每字段内低字节在前\n",
    "    00 ~ 01 字节：日期，整型，设其值为num，则日期计算方法为：\n",
    "                  year=floor(num/2048)+2004;\n",
    "                  month=floor(mod(num,2048)/100);\n",
    "                  day=mod(mod(num,2048),100);\n",
    "    02 ~ 03 字节： 从0点开始至目前的分钟数，整型\n",
    "    04 ~ 07 字节：开盘价*100，整型\n",
    "    08 ~ 11 字节：最高价*100，整型\n",
    "    12 ~ 15 字节：最低价*100，整型\n",
    "    16 ~ 19 字节：收盘价*100，整型\n",
    "    20 ~ 23 字节：成交额*100，float型\n",
    "    24 ~ 27 字节：成交量（股），整型\n",
    "    28 ~ 31 字节：（保留）"
   ]
  },
  {
   "cell_type": "markdown",
   "id": "d6f2515d-a0c7-444e-9d09-ee9c4defc66a",
   "metadata": {},
   "source": [
    "## 多索引日线数据"
   ]
  },
  {
   "cell_type": "code",
   "execution_count": 66,
   "id": "673da002-7114-49e5-824a-2e7b7e97cfec",
   "metadata": {
    "execution": {
     "iopub.execute_input": "2025-09-25T14:31:26.215155Z",
     "iopub.status.busy": "2025-09-25T14:31:26.214157Z",
     "iopub.status.idle": "2025-09-25T14:31:38.022594Z",
     "shell.execute_reply": "2025-09-25T14:31:38.021634Z",
     "shell.execute_reply.started": "2025-09-25T14:31:26.215155Z"
    },
    "tags": []
   },
   "outputs": [],
   "source": [
    "code_list = sina_data.Sina().market('all').index.tolist()\n",
    "code_list.extend(['999999','399001','399006'])\n",
    "print(\"all code:\",len(code_list))\n",
    "duration = 300\n",
    "\n",
    "if duration <= 300 :\n",
    "    h5_fname = 'tdx_all_df' + '_' + str(300)\n",
    "    h5_table = 'all' + '_' + str(300)\n",
    "else:\n",
    "    h5_fname = 'tdx_all_df' + '_' + str(900)\n",
    "    h5_table = 'all' + '_' + str(900) \n",
    "    \n",
    "    \n",
    "df = tdd.search_Tdx_multi_data_duration(h5_fname, h5_table, df=None,code_l=code_list, start=None, end=None, freq=None, col=None, index='date')"
   ]
  },
  {
   "cell_type": "markdown",
   "id": "adcc669c-afe1-482d-ad70-ebb379111660",
   "metadata": {},
   "source": [
    "### 处理"
   ]
  },
  {
   "cell_type": "code",
   "execution_count": 67,
   "id": "e352a181-364b-4495-aa11-b0350856b310",
   "metadata": {
    "execution": {
     "iopub.execute_input": "2025-09-25T14:32:03.911712Z",
     "iopub.status.busy": "2025-09-25T14:32:03.911712Z",
     "iopub.status.idle": "2025-09-25T14:32:17.068542Z",
     "shell.execute_reply": "2025-09-25T14:32:17.067822Z",
     "shell.execute_reply.started": "2025-09-25T14:32:03.911712Z"
    }
   },
   "outputs": [],
   "source": [
    "import pandas as pd\n",
    "\n",
    "# 假设 df 是大表，index=['code','date']\n",
    "df = df.sort_index(level=['code','date'])\n",
    "\n",
    "# 批量计算简单移动平均\n",
    "for ma in [5,10,20,60]:\n",
    "    df[f'ma{ma}'] = df.groupby(level='code')['close'].transform(lambda x: x.rolling(ma).mean())\n",
    "\n",
    "# 批量计算 MACD\n",
    "def calc_macd(series, fast=12, slow=26, signal=9):\n",
    "    ema_fast = series.ewm(span=fast).mean()\n",
    "    ema_slow = series.ewm(span=slow).mean()\n",
    "    dif = ema_fast - ema_slow\n",
    "    dea = dif.ewm(span=signal).mean()\n",
    "    macd = 2*(dif - dea)\n",
    "    return macd\n",
    "\n",
    "df['macd'] = df.groupby(level='code')['close'].transform(calc_macd)\n",
    "\n",
    "# 批量生成 macdlast1~6\n",
    "for i in range(6):\n",
    "    df[f'macdlast{i+1}'] = df.groupby(level='code')['macd'].shift(i)\n"
   ]
  },
  {
   "cell_type": "code",
   "execution_count": 69,
   "id": "878ed5f7-33bb-424c-8bf0-d5772cb3294e",
   "metadata": {
    "execution": {
     "iopub.execute_input": "2025-09-25T14:32:50.217257Z",
     "iopub.status.busy": "2025-09-25T14:32:50.217257Z",
     "iopub.status.idle": "2025-09-25T14:32:50.411736Z",
     "shell.execute_reply": "2025-09-25T14:32:50.410738Z",
     "shell.execute_reply.started": "2025-09-25T14:32:50.217257Z"
    },
    "tags": []
   },
   "outputs": [],
   "source": [
    "# df.loc['000001']"
   ]
  },
  {
   "cell_type": "code",
   "execution_count": 77,
   "id": "cd937265-a1be-4491-ba66-1892f24ed020",
   "metadata": {
    "execution": {
     "iopub.execute_input": "2025-09-25T14:41:41.574648Z",
     "iopub.status.busy": "2025-09-25T14:41:41.574648Z",
     "iopub.status.idle": "2025-09-25T14:41:41.583624Z",
     "shell.execute_reply": "2025-09-25T14:41:41.583624Z",
     "shell.execute_reply.started": "2025-09-25T14:41:41.574648Z"
    },
    "tags": []
   },
   "outputs": [],
   "source": [
    "def compute_bollinger(df, n=20, k=2):\n",
    "    \"\"\"\n",
    "    df: 单只股票日线数据，必须包含 'close'\n",
    "    n: 计算均线窗口\n",
    "    k: 标准差倍数\n",
    "    返回带有 ['ma', 'upper', 'lower'] 的 df\n",
    "    \"\"\"\n",
    "    df = df.copy()\n",
    "    df['ma'] = df['close'].rolling(n).mean()\n",
    "    df['std'] = df['close'].rolling(n).std()\n",
    "    df['upper'] = df['ma'] + k * df['std']\n",
    "    df['lower'] = df['ma'] - k * df['std']\n",
    "    return df.drop(columns=['std'])\n",
    "\n",
    "\n",
    "def compute_bullish_breakout(df_stock):\n",
    "    df_stock = df_stock.copy()\n",
    "    df_stock = compute_bollinger(df_stock, n=20, k=2)  # 先计算 upper\n",
    "    # 示例：高点突破上轨 或者 高于最近4日高点\n",
    "    df_stock['high4'] = df_stock['high'].rolling(4).max()\n",
    "    df_stock['bullish_breakout'] = (df_stock['high'] > df_stock['high4']) | (df_stock['high'] > df_stock['upper'])\n",
    "    return df_stock\n",
    "\n"
   ]
  },
  {
   "cell_type": "code",
   "execution_count": 79,
   "id": "bb70fb07-24ea-42bd-88d0-e38093a874ca",
   "metadata": {
    "execution": {
     "iopub.execute_input": "2025-09-25T14:42:05.329987Z",
     "iopub.status.busy": "2025-09-25T14:42:05.328988Z",
     "iopub.status.idle": "2025-09-25T14:42:26.219146Z",
     "shell.execute_reply": "2025-09-25T14:42:26.218477Z",
     "shell.execute_reply.started": "2025-09-25T14:42:05.329987Z"
    },
    "tags": []
   },
   "outputs": [],
   "source": [
    "def generate_bullish_breakout_multi(df):\n",
    "    df_signal = []\n",
    "    for code, df_stock in df.groupby(level='code'):\n",
    "        df_tracked = compute_bullish_breakout(df_stock)\n",
    "        df_signal.append(df_tracked[['upper','high4','bullish_breakout']])\n",
    "    return pd.concat(df_signal)\n",
    "\n",
    "df_signal = generate_bullish_breakout_multi(df)\n",
    "df = df.join(df_signal)\n"
   ]
  },
  {
   "cell_type": "code",
   "execution_count": 87,
   "id": "68a377a0-9f71-48ca-b817-b70ce8c5f6f4",
   "metadata": {
    "execution": {
     "iopub.execute_input": "2025-09-25T14:56:59.712882Z",
     "iopub.status.busy": "2025-09-25T14:56:59.711885Z",
     "iopub.status.idle": "2025-09-25T14:56:59.723880Z",
     "shell.execute_reply": "2025-09-25T14:56:59.723880Z",
     "shell.execute_reply.started": "2025-09-25T14:56:59.712882Z"
    },
    "tags": []
   },
   "outputs": [],
   "source": [
    "def track_bullish_signals2(df, breakout_col='bullish_breakout', gap=5, stop_loss_pct=0.05, take_profit_pct=0.15):\n",
    "    df = df.copy()\n",
    "\n",
    "    # 如果是 MultiIndex\n",
    "    if isinstance(df.index, pd.MultiIndex):\n",
    "        # 假设索引顺序是 ['code','date']\n",
    "        df = df.reset_index()\n",
    "        df['date'] = pd.to_datetime(df['date'])\n",
    "        df = df.set_index(['code','date'])\n",
    "    else:\n",
    "        df.index = pd.to_datetime(df.index)\n",
    "\n",
    "    # 后面初始化列和信号跟踪逻辑不变\n",
    "    df['bullish_first'] = False\n",
    "    df['bullish_second'] = False\n",
    "    df['signal_status'] = None\n",
    "    df['entry_price'] = np.nan\n",
    "    df['stop_loss'] = np.nan\n",
    "    df['take_profit'] = np.nan\n",
    "    df['alert'] = False\n",
    "\n",
    "    holding = False\n",
    "    entry_price = None\n",
    "    stop_loss = None\n",
    "    take_profit = None\n",
    "    \n",
    "    # 找到所有突破信号\n",
    "    signal_idx = df[df[breakout_col]].index\n",
    "    signal_pos = df.index.get_indexer(signal_idx)\n",
    "    last_pos = -gap*2\n",
    "\n",
    "    # 区分第一次和第二次突破\n",
    "    for pos, idx in zip(signal_pos, signal_idx):\n",
    "        if pos - last_pos > gap:\n",
    "            df.loc[idx, 'bullish_first'] = True\n",
    "            df.loc[idx, 'signal_status'] = 'observing'\n",
    "            df.loc[idx, 'alert'] = True\n",
    "        else:\n",
    "            df.loc[idx, 'bullish_second'] = True\n",
    "            df.loc[idx, 'signal_status'] = 'holding'\n",
    "            entry_price = df.loc[idx, 'close']\n",
    "            df.loc[idx, 'entry_price'] = entry_price\n",
    "            df.loc[idx, 'stop_loss'] = entry_price * (1 - stop_loss_pct)\n",
    "            df.loc[idx, 'take_profit'] = entry_price * (1 + take_profit_pct)\n",
    "            df.loc[idx, 'alert'] = True\n",
    "        last_pos = pos\n",
    "\n",
    "    return df\n"
   ]
  },
  {
   "cell_type": "code",
   "execution_count": 81,
   "id": "42a5430c-c425-4a45-ab5d-447db5644dd9",
   "metadata": {
    "execution": {
     "iopub.execute_input": "2025-09-25T14:43:05.879522Z",
     "iopub.status.busy": "2025-09-25T14:43:05.879522Z",
     "iopub.status.idle": "2025-09-25T14:43:05.899466Z",
     "shell.execute_reply": "2025-09-25T14:43:05.898470Z",
     "shell.execute_reply.started": "2025-09-25T14:43:05.879522Z"
    },
    "tags": []
   },
   "outputs": [],
   "source": [
    "def track_bullish_signals_multi(df):\n",
    "    df = df.copy()\n",
    "    for code, df_stock in df.groupby(level='code'):\n",
    "        df_tracked = track_bullish_signals(df_stock, breakout_col='bullish_breakout')\n",
    "        for col in ['bullish_first','bullish_second','signal_status','entry_price','stop_loss','take_profit','alert']:\n",
    "            df.loc[df_tracked.index, col] = df_tracked[col]\n",
    "    return df\n"
   ]
  },
  {
   "cell_type": "code",
   "execution_count": 92,
   "id": "64ac0ecb-089a-45ef-8b0e-68589c3ab3ee",
   "metadata": {
    "execution": {
     "iopub.execute_input": "2025-09-25T14:59:01.819879Z",
     "iopub.status.busy": "2025-09-25T14:59:01.819879Z",
     "iopub.status.idle": "2025-09-25T15:04:25.467203Z",
     "shell.execute_reply": "2025-09-25T15:04:25.467203Z",
     "shell.execute_reply.started": "2025-09-25T14:59:01.819879Z"
    },
    "tags": []
   },
   "outputs": [],
   "source": [
    "df = track_bullish_signals_multi(df)"
   ]
  },
  {
   "cell_type": "code",
   "execution_count": 91,
   "id": "1e2c1153-4743-4197-b42f-18c853eaa11e",
   "metadata": {
    "execution": {
     "iopub.execute_input": "2025-09-25T14:58:14.603520Z",
     "iopub.status.busy": "2025-09-25T14:58:14.603520Z",
     "iopub.status.idle": "2025-09-25T14:58:14.623467Z",
     "shell.execute_reply": "2025-09-25T14:58:14.622469Z",
     "shell.execute_reply.started": "2025-09-25T14:58:14.603520Z"
    },
    "tags": []
   },
   "outputs": [],
   "source": [
    "# df_signals = df[(df['bullish_first']) | (df['bullish_second'])]\n",
    "df.loc['600895'].columns"
   ]
  },
  {
   "cell_type": "code",
   "execution_count": 85,
   "id": "3ef51a64-974d-48da-9b3b-891599f7e5b4",
   "metadata": {
    "execution": {
     "iopub.execute_input": "2025-09-25T14:51:48.314124Z",
     "iopub.status.busy": "2025-09-25T14:51:48.313128Z",
     "iopub.status.idle": "2025-09-25T14:51:48.336066Z",
     "shell.execute_reply": "2025-09-25T14:51:48.335069Z",
     "shell.execute_reply.started": "2025-09-25T14:51:48.314124Z"
    }
   },
   "outputs": [],
   "source": [
    "print(f'df_signals : {df_signals}')"
   ]
  },
  {
   "cell_type": "code",
   "execution_count": null,
   "id": "18b78613-3af9-49b2-baa6-17edab1a9109",
   "metadata": {},
   "outputs": [],
   "source": []
  }
 ],
 "metadata": {
  "kernelspec": {
   "display_name": "python3.9",
   "language": "python",
   "name": "python3"
  },
  "language_info": {
   "codemirror_mode": {
    "name": "ipython",
    "version": 3
   },
   "file_extension": ".py",
   "mimetype": "text/x-python",
   "name": "python",
   "nbconvert_exporter": "python",
   "pygments_lexer": "ipython3",
   "version": "3.9.13"
  },
  "widgets": {
   "application/vnd.jupyter.widget-state+json": {
    "state": {},
    "version_major": 2,
    "version_minor": 0
   }
  }
 },
 "nbformat": 4,
 "nbformat_minor": 5
}
