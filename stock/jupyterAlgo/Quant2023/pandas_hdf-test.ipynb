{
 "cells": [
  {
   "cell_type": "markdown",
   "id": "a5c41ea6-1335-4446-98fa-e4cd2f3d316d",
   "metadata": {},
   "source": [
    "# 同花顺行业概念信息"
   ]
  },
  {
   "cell_type": "code",
   "execution_count": 1,
   "id": "af1c3414-ff5e-456f-b9b6-80268db66e38",
   "metadata": {
    "execution": {
     "iopub.execute_input": "2023-11-17T13:08:26.588571Z",
     "iopub.status.busy": "2023-11-17T13:08:26.588571Z",
     "iopub.status.idle": "2023-11-17T13:08:27.349838Z",
     "shell.execute_reply": "2023-11-17T13:08:27.348840Z",
     "shell.execute_reply.started": "2023-11-17T13:08:26.588571Z"
    },
    "jupyter": {
     "source_hidden": true
    },
    "tags": []
   },
   "outputs": [],
   "source": [
    "\n",
    "import pandas as pd\n",
    "\n",
    "fpath = r'../../JohnsonUtil\\wencai\\同花顺板块行业.xls'\n",
    "thsgn = pd.read_excel(fpath)\n",
    "thsgn = thsgn.set_index('股票代码')"
   ]
  },
  {
   "cell_type": "markdown",
   "id": "1533234e-28bf-4490-b7d6-5e058cb76b5b",
   "metadata": {},
   "source": [
    "## 查询信息"
   ]
  },
  {
   "cell_type": "code",
   "execution_count": 2,
   "id": "1a1cb58e-944e-4884-a365-8dba2c28bb1f",
   "metadata": {
    "execution": {
     "iopub.execute_input": "2023-11-17T13:08:27.353831Z",
     "iopub.status.busy": "2023-11-17T13:08:27.352830Z",
     "iopub.status.idle": "2023-11-17T13:08:27.363800Z",
     "shell.execute_reply": "2023-11-17T13:08:27.363800Z",
     "shell.execute_reply.started": "2023-11-17T13:08:27.353831Z"
    },
    "jupyter": {
     "source_hidden": true
    },
    "tags": []
   },
   "outputs": [
    {
     "data": {
      "text/plain": [
       "股票简称                                                                  景嘉微\n",
       "现价(元)                                                                  60\n",
       "涨跌幅(%)                                                              -1.06\n",
       "主营产品名称                  图形显控领域产品||小型专用化雷达领域产品||小型专业化雷达||图形显控模块产品||加固类产...\n",
       "所属概念                    显卡;AI芯片;军民融合;雷达;深股通;人工智能;芯片设计;芯片概念;集成电路概念;军工;超...\n",
       "所属同花顺行业                                                    国防军工-国防军工-军工电子\n",
       "经营范围                    电子产品（不含电子出版物）、计算机软件的研究、开发、生产和销售及其相关的技术服务，集成电路设...\n",
       "公司网站                                                 www.jingjiamicro.com\n",
       "所属概念数量(个)                                                              19\n",
       "a股流通市值 (元)2023.01.31                                          19023863000\n",
       "Name: 300474.SZ, dtype: object"
      ]
     },
     "execution_count": 2,
     "metadata": {},
     "output_type": "execute_result"
    }
   ],
   "source": [
    "thsgn[:1]\n",
    "thsgn.columns\n",
    "thsgn.loc['300474.SZ']"
   ]
  },
  {
   "cell_type": "markdown",
   "id": "d5a74f6c-5315-4034-8aa4-6ac40fa731f8",
   "metadata": {},
   "source": [
    "# Debug开启"
   ]
  },
  {
   "cell_type": "code",
   "execution_count": 3,
   "id": "de0bba45-e65d-4760-b0b1-89f6264d91bc",
   "metadata": {
    "execution": {
     "iopub.execute_input": "2023-11-17T13:08:27.364797Z",
     "iopub.status.busy": "2023-11-17T13:08:27.364797Z",
     "iopub.status.idle": "2023-11-17T13:08:28.066702Z",
     "shell.execute_reply": "2023-11-17T13:08:28.066702Z",
     "shell.execute_reply.started": "2023-11-17T13:08:27.364797Z"
    },
    "jupyter": {
     "source_hidden": true
    },
    "tags": []
   },
   "outputs": [
    {
     "name": "stdout",
     "output_type": "stream",
     "text": [
      "nb not handlers\n",
      "nb: <ipykernel.iostream.OutStream object at 0x000002318A035CD0>\n"
     ]
    }
   ],
   "source": [
    "\n",
    "# Delete Jupyter notebook root logger handler\n",
    "# Set Debug\n",
    "import logging\n",
    "import sys\n",
    "\n",
    "# %matplotlib inline\n",
    "%matplotlib widget\n",
    "# stdi, stdo, stde = sys.stdin, sys.stdout, sys.stderr\n",
    "# # # reload(sys)\n",
    "# # # sys.setdefaultencoding('utf-8')\n",
    "# sys.stdin, sys.stdout, sys.stderr = stdi, stdo, stde\n",
    "\n",
    "# stdout = sys.stdout\n",
    "# sys.path.append('../')\n",
    "# import JSONData.tdx_data_Day as tdd\n",
    "# sys.stdout = stdout\n",
    "\n",
    "\n",
    "mylogger = logging.getLogger()\n",
    "if len(mylogger.handlers) > 0:\n",
    "    for ix in mylogger.handlers:\n",
    "        print(\"handlers:%s std:%s\" % (ix.stream, sys.stdout))\n",
    "else:\n",
    "    print(\"nb not handlers\")\n",
    "#     mylogger.propagate = False\n",
    "mylogger.setLevel(logging.ERROR)\n",
    "# mylogger.setLevel(logging.DEBUG)\n",
    "\n",
    "print(\"nb:\", sys.stderr)\n",
    "# # Create logger as usual\n",
    "import nest_asyncio\n",
    "\n",
    "nest_asyncio.apply()"
   ]
  },
  {
   "cell_type": "markdown",
   "id": "87c4b89d-c167-41be-884c-68b96335ed00",
   "metadata": {},
   "source": [
    "# TDX多日数据分析"
   ]
  },
  {
   "cell_type": "markdown",
   "id": "e0880801-5f68-4c7e-a48f-01601ecdf336",
   "metadata": {
    "execution": {
     "iopub.execute_input": "2023-01-17T14:30:05.848000+08:00",
     "iopub.status.busy": "2023-01-17T14:30:05.847000+08:00",
     "iopub.status.idle": "2023-01-17T14:30:05.850000+08:00",
     "shell.execute_reply": "2023-01-17T14:30:05.849000+08:00",
     "shell.execute_reply.started": "2023-01-17T14:30:05.848000"
    },
    "tags": []
   },
   "source": [
    "## 定义 TDX-Path"
   ]
  },
  {
   "cell_type": "code",
   "execution_count": 4,
   "id": "445b9bab-7963-4cb6-8081-df794d74144a",
   "metadata": {
    "execution": {
     "iopub.execute_input": "2023-11-17T13:08:28.068670Z",
     "iopub.status.busy": "2023-11-17T13:08:28.068670Z",
     "iopub.status.idle": "2023-11-17T13:08:28.082633Z",
     "shell.execute_reply": "2023-11-17T13:08:28.082633Z",
     "shell.execute_reply.started": "2023-11-17T13:08:28.068670Z"
    },
    "jupyter": {
     "source_hidden": true
    },
    "tags": []
   },
   "outputs": [],
   "source": [
    "# encoding:utf-8\n",
    "from IPython.core.interactiveshell import InteractiveShell\n",
    "\n",
    "InteractiveShell.ast_node_interactivity = \"all\"\n",
    "# InteractiveShell.ast_node_interactivity = \"last_expr\"\n",
    "\n",
    "import sys\n",
    "\n",
    "import pandas as pd\n",
    "from pandas import HDFStore\n",
    "\n",
    "stdi, stdo, stde = sys.stdin, sys.stdout, sys.stderr\n",
    "# print(stdi, stdo, stde)\n",
    "# reload(sys)\n",
    "# sys.setdefaultencoding('utf-8')\n",
    "# sys.stdin, sys.stdout, sys.stderr = stdi, stdo, stde\n",
    "\n",
    "# print(sys.stdout,sys.stderr,sys.stderr)\n",
    "\n",
    "# print(stdi, stdo, stde)\n",
    "\n",
    "# sys.stdin, sys.stdout, sys.stderr = stdi, stdo, stde\n",
    "# print(stdi, stdo, stde)"
   ]
  },
  {
   "cell_type": "code",
   "execution_count": 5,
   "id": "ffe756f6-e677-4268-9408-a41b7b6d8cfb",
   "metadata": {
    "execution": {
     "iopub.execute_input": "2023-11-17T13:08:28.084628Z",
     "iopub.status.busy": "2023-11-17T13:08:28.083631Z",
     "iopub.status.idle": "2023-11-17T13:08:28.896667Z",
     "shell.execute_reply": "2023-11-17T13:08:28.896667Z",
     "shell.execute_reply.started": "2023-11-17T13:08:28.083631Z"
    },
    "jupyter": {
     "source_hidden": true
    },
    "tags": []
   },
   "outputs": [],
   "source": [
    "sys.path.append(\"../../\")\n",
    "import os\n",
    "\n",
    "import JSONData.tdx_data_Day as tdd\n",
    "# import win_unicode_console\n",
    "from JohnsonUtil import commonTips as cct\n",
    "from JSONData import sina_data\n",
    "\n",
    "os.environ['NUMEXPR_MAX_THREADS'] = '12'\n",
    "\n",
    "# import nest_asyncio\n",
    "# nest_asyncio.apply()\n",
    "# 查阅资料后发现，发现使用 jupyter notebook 环境，其连接着 IPython 内核，而 IPython 内核本身在事件循环上运行，而 asyncio 不允许嵌套其事件​​循环，因此会出现如上图的错误信息。\n",
    "# nest_asyncio 作为异步操作的补丁而存在，具体内容请参考\n",
    "# win_unicode_console.disable()\n",
    "tdx_path = \"G:\\\\tdx_last_df.h5\"\n",
    "sina_MultiD_path = \"G:\\\\sina_MultiIndex_data.h5\"\n",
    "sina_d_path = \"G:\\\\sina_data.h5\"\n",
    "sina_dd_path = \"G:\\\\get_sina_all_dd.h5\"\n",
    "# print(stdi, stdo, stde)\n",
    "sys.stdin, sys.stdout, sys.stderr = stdi, stdo, stde\n",
    "\n",
    "# # 显示所有列\n",
    "pd.set_option(\"display.max_columns\", None)\n",
    "# # 显示所有行\n",
    "# pd.set_option('display.max_rows', None)\n",
    "# # 设置 value 的显示长度为 100，默认为 50\n",
    "# pd.set_option('max_colwidth',100)\n",
    "# pd.set_option?\n",
    "# df.columns.tolist()"
   ]
  },
  {
   "cell_type": "code",
   "execution_count": 6,
   "id": "caac3868-645d-4025-a501-31fe918d87ce",
   "metadata": {
    "execution": {
     "iopub.execute_input": "2023-11-17T13:08:28.898662Z",
     "iopub.status.busy": "2023-11-17T13:08:28.897664Z",
     "iopub.status.idle": "2023-11-17T13:08:28.912624Z",
     "shell.execute_reply": "2023-11-17T13:08:28.912624Z",
     "shell.execute_reply.started": "2023-11-17T13:08:28.898662Z"
    },
    "jupyter": {
     "source_hidden": true
    },
    "tags": []
   },
   "outputs": [
    {
     "data": {
      "text/plain": [
       "'000002.SZ'"
      ]
     },
     "execution_count": 6,
     "metadata": {},
     "output_type": "execute_result"
    }
   ],
   "source": [
    "cct.code_to_symbol_ths('000002')"
   ]
  },
  {
   "cell_type": "markdown",
   "id": "8d40df31-5175-4789-b415-67c70444b8d7",
   "metadata": {},
   "source": [
    "### 功能定义"
   ]
  },
  {
   "cell_type": "code",
   "execution_count": 7,
   "id": "5fb15690-a5e7-4c1f-a78b-b46e07111776",
   "metadata": {
    "execution": {
     "iopub.execute_input": "2023-11-17T13:08:28.914620Z",
     "iopub.status.busy": "2023-11-17T13:08:28.913623Z",
     "iopub.status.idle": "2023-11-17T13:08:28.944539Z",
     "shell.execute_reply": "2023-11-17T13:08:28.944539Z",
     "shell.execute_reply.started": "2023-11-17T13:08:28.914620Z"
    },
    "jupyter": {
     "source_hidden": true
    },
    "tags": []
   },
   "outputs": [],
   "source": [
    "def apply_col_toint(df, col=None):\n",
    "    if col is None:\n",
    "        co2int = ['boll', 'op', 'ratio', 'fib', 'fibl', 'df2']\n",
    "    # co2int.extend([co for co in df.columns.tolist()\n",
    "    #                if co.startswith('perc') and co.endswith('d')])\n",
    "        co2int.extend(['top10', 'topR'])\n",
    "    else:\n",
    "        co2int = col\n",
    "    co2int = [inx for inx in co2int if inx in df.columns]\n",
    "\n",
    "    for co in co2int:\n",
    "        df[co] = df[co].astype(int)\n",
    "\n",
    "    return df\n",
    "\n",
    "\n",
    "def readHdf5(fpath, root=None):\n",
    "    store = pd.HDFStore(fpath, \"r\")\n",
    "    print(store.keys())\n",
    "    if root is None:\n",
    "        root = store.keys()[0].replace(\"/\", \"\")\n",
    "    df = store[root]\n",
    "    df = apply_col_toint(df)\n",
    "    store.close()\n",
    "    return df\n",
    "\n",
    "\n",
    "def write_code_to_blk(codew, blk='090'):\n",
    "    block_path = tdd.get_tdx_dir_blocknew() + '%s.blk' % (blk)\n",
    "    write_blk = 'n'\n",
    "    write_blk = cct.cct_raw_input(\"write blk [Y] or [N]:\")\n",
    "    if write_blk == 'y' or write_blk == 'Y':\n",
    "        hdf5_wri = cct.cct_raw_input(\n",
    "            \"Rewrite code [Y] or append [N](defalut:N):\")\n",
    "        if hdf5_wri == 'y' or hdf5_wri == 'Y':\n",
    "            append_status = False\n",
    "        else:\n",
    "            append_status = True\n",
    "        if len(codew) > 3:\n",
    "            cct.write_to_blocknew(block_path, codew, append_status,\n",
    "                                  doubleFile=False, keep_last=0)\n",
    "            (\"write:%s block_path:%s\" % (len(codew), block_path))\n",
    "        else:\n",
    "            (\"write error:%s block_path:%s\" % (len(codew), block_path))\n",
    "\n",
    "\n",
    "def show_tdx_data(df, codelist=None, market_value='3', col=None):\n",
    "\n",
    "    columns_ = [\n",
    "        \"name\", \"category\", \"close\", \"percent\",'volra', 'topR', \"lastp1d\", \"ma5dcum\",\n",
    "        \"ma20d\", \"fib\", \"fibl\", \"ra\", \"ral\", \"df2\", \"per1d\", \"hmax\", \"lmin\",\n",
    "        \"per%sd\" % (market_value),\n",
    "        \"perc%sd\" % (market_value)]\n",
    "    if isinstance(df, pd.Series):\n",
    "        columns_ = [co for co in columns_ if co in df.index]\n",
    "    else:\n",
    "        columns_ = [co for co in columns_ if co in df.columns]\n",
    "    if col is not None:\n",
    "        columns_.insert(4, col)\n",
    "\n",
    "    if codelist is None:\n",
    "        if isinstance(df, pd.Series):\n",
    "            # print(\"Count:1\")\n",
    "            temp = df.loc[columns_]\n",
    "        else:\n",
    "            print(\"Count:%s %s\" % (df.shape))\n",
    "            temp = df.loc[:, columns_]\n",
    "    else:\n",
    "        temp = df.loc[[x for x in codelist if x in df.index], columns_]\n",
    "    return temp\n",
    "\n",
    "\n",
    "def compute_perd_value(df, market_value=3, col=\"per\"):\n",
    "\n",
    "    # if market_value == None or market_value < \"2\":\n",
    "    #     market_value = 3\n",
    "    # if market_value > 1 and len(df[ df[\"%s%sd\" % (col, market_value)] > 2])   :\n",
    "    market_value = str(market_value)\n",
    "    if market_value > str(1):\n",
    "        temp = df[\n",
    "            df.columns[\n",
    "                (df.columns >= \"%s1d\" % (col))\n",
    "                & (df.columns <= \"%s%sd\" % (col, market_value))\n",
    "            ]\n",
    "        ]\n",
    "\n",
    "        df['%s%sd' % (col, market_value)] = temp.T.sum().apply(\n",
    "            lambda x: round(x, 1))\n",
    "    else:\n",
    "        print(\"market_value <= 1,No Compute\")\n",
    "\n",
    "    return df\n",
    "\n",
    "\n",
    "def clean_688(df):\n",
    "    df = df[(~df.index.str.contains(\"688\"))]\n",
    "    return df\n",
    "\n",
    "\n",
    "from collections import Counter, OrderedDict\n",
    "\n",
    "\n",
    "def counterCategory(df):\n",
    "    top5 = dict()\n",
    "    if len(df) > 0:\n",
    "        categoryl = df.category[:20].tolist()\n",
    "        dicSort = []\n",
    "        for i in categoryl:\n",
    "            if isinstance(i, str):\n",
    "                # dicSort.extend([ co.decode('utf8') for co in i.split(';')])\n",
    "                dicSort.extend(i.split(';'))\n",
    "                # cate_list = i.split(';')\n",
    "                # for co in cate_list:\n",
    "                #     dicSort.append(to_str(co))\n",
    "        topSort = Counter(dicSort)\n",
    "        top5 = OrderedDict(topSort.most_common(5))\n",
    "        # for i in top5.keys():\n",
    "        # print(i, top5[i]),\n",
    "        # print('')\n",
    "    # for i in top5.keys():\n",
    "    #     # print(u\"板块:%s %s \" % (i.decode('utf8'), (topSort[i]))),\n",
    "    #     # print(u\"板块:%s count:%s\" % (i, (topSort[i]))),\n",
    "    #     print(i, (topSort[i]))\n",
    "\n",
    "    return top5\n",
    "\n",
    "\n",
    "def get_runtime_percent(df, perd=None):\n",
    "    if \"percent\" not in df.columns and \"lastp1d\" in df.columns:\n",
    "        # print('init percent')\n",
    "        df = df.fillna(0)\n",
    "        df['percent'] = list(\n",
    "            map(\n",
    "                lambda x, y, z: round((x - y) / y * 100, 1)\n",
    "                if x != y else round((x - z) / z * 100, 1),\n",
    "                df.close, df.lastp1d, df.lastp2d))\n",
    "        # df['percent'] = df.apply(lambda x: round((x.close - x.lastp1d) /(x.lastp1d) * 100, 1),axis=1)\n",
    "    # else:\n",
    "    #     print('Percent in columns')\n",
    "    if not perd is None:\n",
    "        df[perd] = list(map(lambda x, y: round((x + y), 1)\n",
    "                            if int(y) > 0 else 0, df.perd, df.percent))\n",
    "    return df\n",
    "\n",
    "\n",
    "def get_realtime_ratio(df, market='all'):\n",
    "    if 'ratio' in df.columns:\n",
    "        df.drop('ratio', axis=1, inplace=True)\n",
    "    ratio_df = tdd.getSinaJsondf(market)\n",
    "    df = cct.combine_dataFrame(\n",
    "        df, ratio_df.ratio, col=None, compare=None, append=False, clean=False)\n",
    "    return df\n",
    "\n",
    "\n",
    "def get_ths_info(code):\n",
    "    code = cct.code_to_symbol_ths(code)\n",
    "    return thsgn.loc[code]"
   ]
  },
  {
   "cell_type": "markdown",
   "id": "f36b3dcd-f840-425a-b3dd-a0c2d085ce7c",
   "metadata": {},
   "source": [
    "### 还原Cell输出信息"
   ]
  },
  {
   "cell_type": "code",
   "execution_count": 8,
   "id": "6e404c37-8070-4387-8ade-4bb2f0154a32",
   "metadata": {
    "execution": {
     "iopub.execute_input": "2023-11-17T13:08:28.945535Z",
     "iopub.status.busy": "2023-11-17T13:08:28.945535Z",
     "iopub.status.idle": "2023-11-17T13:08:28.960532Z",
     "shell.execute_reply": "2023-11-17T13:08:28.960532Z",
     "shell.execute_reply.started": "2023-11-17T13:08:28.945535Z"
    },
    "jupyter": {
     "source_hidden": true
    },
    "tags": []
   },
   "outputs": [],
   "source": [
    "# sys.stdin, sys.stdout, sys.stderr = stdi, stdo, stde\n",
    "# print(stdi, stdo, stde)"
   ]
  },
  {
   "cell_type": "markdown",
   "id": "2c2392ba-d8ae-4b32-9ec3-53234f6ee84c",
   "metadata": {
    "tags": []
   },
   "source": [
    "## 初始化 hdf5的tdx数据"
   ]
  },
  {
   "cell_type": "code",
   "execution_count": 9,
   "id": "26f7e77b-360c-4999-aa84-47a9855585a4",
   "metadata": {
    "execution": {
     "iopub.execute_input": "2023-11-17T13:08:28.962491Z",
     "iopub.status.busy": "2023-11-17T13:08:28.961493Z",
     "iopub.status.idle": "2023-11-17T13:08:30.000593Z",
     "shell.execute_reply": "2023-11-17T13:08:29.999537Z",
     "shell.execute_reply.started": "2023-11-17T13:08:28.962491Z"
    },
    "jupyter": {
     "source_hidden": true
    },
    "tags": []
   },
   "outputs": [
    {
     "name": "stdout",
     "output_type": "stream",
     "text": [
      "['/low_d_60_y_all']\n",
      "lastb:0.0 "
     ]
    },
    {
     "data": {
      "text/plain": [
       "(57, 182)"
      ]
     },
     "execution_count": 9,
     "metadata": {},
     "output_type": "execute_result"
    },
    {
     "data": {
      "text/plain": [
       "code\n",
       "605319   -1.9\n",
       "Name: percent, dtype: float64"
      ]
     },
     "execution_count": 9,
     "metadata": {},
     "output_type": "execute_result"
    },
    {
     "data": {
      "text/plain": [
       "Series([], Name: last6vol, dtype: float64)"
      ]
     },
     "execution_count": 9,
     "metadata": {},
     "output_type": "execute_result"
    },
    {
     "data": {
      "text/plain": [
       "code\n",
       "300608    21.7\n",
       "605319    10.1\n",
       "Name: ratio, dtype: float64"
      ]
     },
     "execution_count": 9,
     "metadata": {},
     "output_type": "execute_result"
    }
   ],
   "source": [
    "\n",
    "market_value = \"3\"\n",
    "df = readHdf5(tdx_path)\n",
    "df = tdd.get_sina_datadf_cnamedf(df.index.tolist(), df)\n",
    "df = compute_perd_value(df, market_value, \"perc\")\n",
    "df = compute_perd_value(df, market_value, \"per\")\n",
    "\n",
    "df = get_realtime_ratio(df)\n",
    "# df=get_runtime_percent(df)\n",
    "\n",
    "df = get_runtime_percent(df, \"per%sd\" % (market_value))\n",
    "\n",
    "# filter 科创\n",
    "df = clean_688(df)\n",
    "\n",
    "df.shape\n",
    "df[-1:].percent\n",
    "df[~(df.last6vol > 0)][:10].last6vol\n",
    "df.ratio[-2:]"
   ]
  },
  {
   "cell_type": "markdown",
   "id": "1a600cfc-43c5-4be7-a04b-4d5457d6c7f1",
   "metadata": {},
   "source": [
    "### test InStock"
   ]
  },
  {
   "cell_type": "code",
   "execution_count": 10,
   "id": "799723ff-728e-45b5-9156-873593c023ad",
   "metadata": {
    "execution": {
     "iopub.execute_input": "2023-11-17T13:08:30.002590Z",
     "iopub.status.busy": "2023-11-17T13:08:30.002590Z",
     "iopub.status.idle": "2023-11-17T13:08:30.015585Z",
     "shell.execute_reply": "2023-11-17T13:08:30.015585Z",
     "shell.execute_reply.started": "2023-11-17T13:08:30.002590Z"
    },
    "jupyter": {
     "source_hidden": true
    },
    "tags": []
   },
   "outputs": [
    {
     "data": {
      "text/plain": [
       "Index(['lopen', 'lhigh', 'llow', 'lastp', 'lvol', 'lamount', 'ma5d', 'ma10d',\n",
       "       'ma20d', 'truer',\n",
       "       ...\n",
       "       'lv', 'date', 'lowvol', 'last6vol', 'category', 'timel', 'close',\n",
       "       'name', 'ratio', 'percent'],\n",
       "      dtype='object', length=182)"
      ]
     },
     "execution_count": 10,
     "metadata": {},
     "output_type": "execute_result"
    }
   ],
   "source": [
    "df.columns"
   ]
  },
  {
   "cell_type": "markdown",
   "id": "a09fe269-b7a2-40bf-901b-cc96db572c0b",
   "metadata": {},
   "source": [
    "## 个股数据查看"
   ]
  },
  {
   "cell_type": "code",
   "execution_count": 11,
   "id": "c7d2814c-52b8-48c5-94b5-13d319c1357d",
   "metadata": {
    "execution": {
     "iopub.execute_input": "2023-11-17T13:08:30.016553Z",
     "iopub.status.busy": "2023-11-17T13:08:30.016553Z",
     "iopub.status.idle": "2023-11-17T13:08:30.031513Z",
     "shell.execute_reply": "2023-11-17T13:08:30.031513Z",
     "shell.execute_reply.started": "2023-11-17T13:08:30.016553Z"
    },
    "jupyter": {
     "source_hidden": true
    },
    "tags": []
   },
   "outputs": [
    {
     "data": {
      "text/plain": [
       "code\n",
       "999999    3020.48\n",
       "Name: ma203d, dtype: float64"
      ]
     },
     "execution_count": 11,
     "metadata": {},
     "output_type": "execute_result"
    }
   ],
   "source": [
    "df.ma203d[:1]\n",
    "# df.loc['003042'].loc[[\"category\", \"close\"]]"
   ]
  },
  {
   "cell_type": "code",
   "execution_count": 12,
   "id": "dde02348-84f5-4fb2-ad1b-7dc83230b249",
   "metadata": {
    "execution": {
     "iopub.execute_input": "2023-11-17T13:08:30.032510Z",
     "iopub.status.busy": "2023-11-17T13:08:30.032510Z",
     "iopub.status.idle": "2023-11-17T13:08:30.620774Z",
     "shell.execute_reply": "2023-11-17T13:08:30.615824Z",
     "shell.execute_reply.started": "2023-11-17T13:08:30.032510Z"
    },
    "jupyter": {
     "source_hidden": true
    },
    "tags": []
   },
   "outputs": [
    {
     "ename": "KeyError",
     "evalue": "'003042'",
     "output_type": "error",
     "traceback": [
      "\u001b[1;31m---------------------------------------------------------------------------\u001b[0m",
      "\u001b[1;31mKeyError\u001b[0m                                  Traceback (most recent call last)",
      "\u001b[1;32m~\\anaconda3\\lib\\site-packages\\pandas\\core\\indexes\\base.py\u001b[0m in \u001b[0;36mget_loc\u001b[1;34m(self, key, method, tolerance)\u001b[0m\n\u001b[0;32m   3628\u001b[0m             \u001b[1;32mtry\u001b[0m\u001b[1;33m:\u001b[0m\u001b[1;33m\u001b[0m\u001b[1;33m\u001b[0m\u001b[0m\n\u001b[1;32m-> 3629\u001b[1;33m                 \u001b[1;32mreturn\u001b[0m \u001b[0mself\u001b[0m\u001b[1;33m.\u001b[0m\u001b[0m_engine\u001b[0m\u001b[1;33m.\u001b[0m\u001b[0mget_loc\u001b[0m\u001b[1;33m(\u001b[0m\u001b[0mcasted_key\u001b[0m\u001b[1;33m)\u001b[0m\u001b[1;33m\u001b[0m\u001b[1;33m\u001b[0m\u001b[0m\n\u001b[0m\u001b[0;32m   3630\u001b[0m             \u001b[1;32mexcept\u001b[0m \u001b[0mKeyError\u001b[0m \u001b[1;32mas\u001b[0m \u001b[0merr\u001b[0m\u001b[1;33m:\u001b[0m\u001b[1;33m\u001b[0m\u001b[1;33m\u001b[0m\u001b[0m\n",
      "\u001b[1;32m~\\anaconda3\\lib\\site-packages\\pandas\\_libs\\index.pyx\u001b[0m in \u001b[0;36mpandas._libs.index.IndexEngine.get_loc\u001b[1;34m()\u001b[0m\n",
      "\u001b[1;32m~\\anaconda3\\lib\\site-packages\\pandas\\_libs\\index.pyx\u001b[0m in \u001b[0;36mpandas._libs.index.IndexEngine.get_loc\u001b[1;34m()\u001b[0m\n",
      "\u001b[1;32mpandas\\_libs\\hashtable_class_helper.pxi\u001b[0m in \u001b[0;36mpandas._libs.hashtable.PyObjectHashTable.get_item\u001b[1;34m()\u001b[0m\n",
      "\u001b[1;32mpandas\\_libs\\hashtable_class_helper.pxi\u001b[0m in \u001b[0;36mpandas._libs.hashtable.PyObjectHashTable.get_item\u001b[1;34m()\u001b[0m\n",
      "\u001b[1;31mKeyError\u001b[0m: '003042'",
      "\nThe above exception was the direct cause of the following exception:\n",
      "\u001b[1;31mKeyError\u001b[0m                                  Traceback (most recent call last)",
      "\u001b[1;32mG:\\Temp\\ipykernel_9384\\796188751.py\u001b[0m in \u001b[0;36m<module>\u001b[1;34m\u001b[0m\n\u001b[1;32m----> 1\u001b[1;33m \u001b[0mshow_tdx_data\u001b[0m\u001b[1;33m(\u001b[0m\u001b[0mdf\u001b[0m\u001b[1;33m.\u001b[0m\u001b[0mloc\u001b[0m\u001b[1;33m[\u001b[0m\u001b[1;34m'003042'\u001b[0m\u001b[1;33m]\u001b[0m\u001b[1;33m)\u001b[0m\u001b[1;33m\u001b[0m\u001b[1;33m\u001b[0m\u001b[0m\n\u001b[0m\u001b[0;32m      2\u001b[0m \u001b[0mget_ths_info\u001b[0m\u001b[1;33m(\u001b[0m\u001b[1;34m'003042'\u001b[0m\u001b[1;33m)\u001b[0m\u001b[1;33m\u001b[0m\u001b[1;33m\u001b[0m\u001b[0m\n",
      "\u001b[1;32m~\\anaconda3\\lib\\site-packages\\pandas\\core\\indexing.py\u001b[0m in \u001b[0;36m__getitem__\u001b[1;34m(self, key)\u001b[0m\n\u001b[0;32m    965\u001b[0m \u001b[1;33m\u001b[0m\u001b[0m\n\u001b[0;32m    966\u001b[0m             \u001b[0mmaybe_callable\u001b[0m \u001b[1;33m=\u001b[0m \u001b[0mcom\u001b[0m\u001b[1;33m.\u001b[0m\u001b[0mapply_if_callable\u001b[0m\u001b[1;33m(\u001b[0m\u001b[0mkey\u001b[0m\u001b[1;33m,\u001b[0m \u001b[0mself\u001b[0m\u001b[1;33m.\u001b[0m\u001b[0mobj\u001b[0m\u001b[1;33m)\u001b[0m\u001b[1;33m\u001b[0m\u001b[1;33m\u001b[0m\u001b[0m\n\u001b[1;32m--> 967\u001b[1;33m             \u001b[1;32mreturn\u001b[0m \u001b[0mself\u001b[0m\u001b[1;33m.\u001b[0m\u001b[0m_getitem_axis\u001b[0m\u001b[1;33m(\u001b[0m\u001b[0mmaybe_callable\u001b[0m\u001b[1;33m,\u001b[0m \u001b[0maxis\u001b[0m\u001b[1;33m=\u001b[0m\u001b[0maxis\u001b[0m\u001b[1;33m)\u001b[0m\u001b[1;33m\u001b[0m\u001b[1;33m\u001b[0m\u001b[0m\n\u001b[0m\u001b[0;32m    968\u001b[0m \u001b[1;33m\u001b[0m\u001b[0m\n\u001b[0;32m    969\u001b[0m     \u001b[1;32mdef\u001b[0m \u001b[0m_is_scalar_access\u001b[0m\u001b[1;33m(\u001b[0m\u001b[0mself\u001b[0m\u001b[1;33m,\u001b[0m \u001b[0mkey\u001b[0m\u001b[1;33m:\u001b[0m \u001b[0mtuple\u001b[0m\u001b[1;33m)\u001b[0m\u001b[1;33m:\u001b[0m\u001b[1;33m\u001b[0m\u001b[1;33m\u001b[0m\u001b[0m\n",
      "\u001b[1;32m~\\anaconda3\\lib\\site-packages\\pandas\\core\\indexing.py\u001b[0m in \u001b[0;36m_getitem_axis\u001b[1;34m(self, key, axis)\u001b[0m\n\u001b[0;32m   1203\u001b[0m         \u001b[1;31m# fall thru to straight lookup\u001b[0m\u001b[1;33m\u001b[0m\u001b[1;33m\u001b[0m\u001b[0m\n\u001b[0;32m   1204\u001b[0m         \u001b[0mself\u001b[0m\u001b[1;33m.\u001b[0m\u001b[0m_validate_key\u001b[0m\u001b[1;33m(\u001b[0m\u001b[0mkey\u001b[0m\u001b[1;33m,\u001b[0m \u001b[0maxis\u001b[0m\u001b[1;33m)\u001b[0m\u001b[1;33m\u001b[0m\u001b[1;33m\u001b[0m\u001b[0m\n\u001b[1;32m-> 1205\u001b[1;33m         \u001b[1;32mreturn\u001b[0m \u001b[0mself\u001b[0m\u001b[1;33m.\u001b[0m\u001b[0m_get_label\u001b[0m\u001b[1;33m(\u001b[0m\u001b[0mkey\u001b[0m\u001b[1;33m,\u001b[0m \u001b[0maxis\u001b[0m\u001b[1;33m=\u001b[0m\u001b[0maxis\u001b[0m\u001b[1;33m)\u001b[0m\u001b[1;33m\u001b[0m\u001b[1;33m\u001b[0m\u001b[0m\n\u001b[0m\u001b[0;32m   1206\u001b[0m \u001b[1;33m\u001b[0m\u001b[0m\n\u001b[0;32m   1207\u001b[0m     \u001b[1;32mdef\u001b[0m \u001b[0m_get_slice_axis\u001b[0m\u001b[1;33m(\u001b[0m\u001b[0mself\u001b[0m\u001b[1;33m,\u001b[0m \u001b[0mslice_obj\u001b[0m\u001b[1;33m:\u001b[0m \u001b[0mslice\u001b[0m\u001b[1;33m,\u001b[0m \u001b[0maxis\u001b[0m\u001b[1;33m:\u001b[0m \u001b[0mint\u001b[0m\u001b[1;33m)\u001b[0m\u001b[1;33m:\u001b[0m\u001b[1;33m\u001b[0m\u001b[1;33m\u001b[0m\u001b[0m\n",
      "\u001b[1;32m~\\anaconda3\\lib\\site-packages\\pandas\\core\\indexing.py\u001b[0m in \u001b[0;36m_get_label\u001b[1;34m(self, label, axis)\u001b[0m\n\u001b[0;32m   1151\u001b[0m     \u001b[1;32mdef\u001b[0m \u001b[0m_get_label\u001b[0m\u001b[1;33m(\u001b[0m\u001b[0mself\u001b[0m\u001b[1;33m,\u001b[0m \u001b[0mlabel\u001b[0m\u001b[1;33m,\u001b[0m \u001b[0maxis\u001b[0m\u001b[1;33m:\u001b[0m \u001b[0mint\u001b[0m\u001b[1;33m)\u001b[0m\u001b[1;33m:\u001b[0m\u001b[1;33m\u001b[0m\u001b[1;33m\u001b[0m\u001b[0m\n\u001b[0;32m   1152\u001b[0m         \u001b[1;31m# GH#5667 this will fail if the label is not present in the axis.\u001b[0m\u001b[1;33m\u001b[0m\u001b[1;33m\u001b[0m\u001b[0m\n\u001b[1;32m-> 1153\u001b[1;33m         \u001b[1;32mreturn\u001b[0m \u001b[0mself\u001b[0m\u001b[1;33m.\u001b[0m\u001b[0mobj\u001b[0m\u001b[1;33m.\u001b[0m\u001b[0mxs\u001b[0m\u001b[1;33m(\u001b[0m\u001b[0mlabel\u001b[0m\u001b[1;33m,\u001b[0m \u001b[0maxis\u001b[0m\u001b[1;33m=\u001b[0m\u001b[0maxis\u001b[0m\u001b[1;33m)\u001b[0m\u001b[1;33m\u001b[0m\u001b[1;33m\u001b[0m\u001b[0m\n\u001b[0m\u001b[0;32m   1154\u001b[0m \u001b[1;33m\u001b[0m\u001b[0m\n\u001b[0;32m   1155\u001b[0m     \u001b[1;32mdef\u001b[0m \u001b[0m_handle_lowerdim_multi_index_axis0\u001b[0m\u001b[1;33m(\u001b[0m\u001b[0mself\u001b[0m\u001b[1;33m,\u001b[0m \u001b[0mtup\u001b[0m\u001b[1;33m:\u001b[0m \u001b[0mtuple\u001b[0m\u001b[1;33m)\u001b[0m\u001b[1;33m:\u001b[0m\u001b[1;33m\u001b[0m\u001b[1;33m\u001b[0m\u001b[0m\n",
      "\u001b[1;32m~\\anaconda3\\lib\\site-packages\\pandas\\core\\generic.py\u001b[0m in \u001b[0;36mxs\u001b[1;34m(self, key, axis, level, drop_level)\u001b[0m\n\u001b[0;32m   3862\u001b[0m                     \u001b[0mnew_index\u001b[0m \u001b[1;33m=\u001b[0m \u001b[0mindex\u001b[0m\u001b[1;33m[\u001b[0m\u001b[0mloc\u001b[0m\u001b[1;33m]\u001b[0m\u001b[1;33m\u001b[0m\u001b[1;33m\u001b[0m\u001b[0m\n\u001b[0;32m   3863\u001b[0m         \u001b[1;32melse\u001b[0m\u001b[1;33m:\u001b[0m\u001b[1;33m\u001b[0m\u001b[1;33m\u001b[0m\u001b[0m\n\u001b[1;32m-> 3864\u001b[1;33m             \u001b[0mloc\u001b[0m \u001b[1;33m=\u001b[0m \u001b[0mindex\u001b[0m\u001b[1;33m.\u001b[0m\u001b[0mget_loc\u001b[0m\u001b[1;33m(\u001b[0m\u001b[0mkey\u001b[0m\u001b[1;33m)\u001b[0m\u001b[1;33m\u001b[0m\u001b[1;33m\u001b[0m\u001b[0m\n\u001b[0m\u001b[0;32m   3865\u001b[0m \u001b[1;33m\u001b[0m\u001b[0m\n\u001b[0;32m   3866\u001b[0m             \u001b[1;32mif\u001b[0m \u001b[0misinstance\u001b[0m\u001b[1;33m(\u001b[0m\u001b[0mloc\u001b[0m\u001b[1;33m,\u001b[0m \u001b[0mnp\u001b[0m\u001b[1;33m.\u001b[0m\u001b[0mndarray\u001b[0m\u001b[1;33m)\u001b[0m\u001b[1;33m:\u001b[0m\u001b[1;33m\u001b[0m\u001b[1;33m\u001b[0m\u001b[0m\n",
      "\u001b[1;32m~\\anaconda3\\lib\\site-packages\\pandas\\core\\indexes\\base.py\u001b[0m in \u001b[0;36mget_loc\u001b[1;34m(self, key, method, tolerance)\u001b[0m\n\u001b[0;32m   3629\u001b[0m                 \u001b[1;32mreturn\u001b[0m \u001b[0mself\u001b[0m\u001b[1;33m.\u001b[0m\u001b[0m_engine\u001b[0m\u001b[1;33m.\u001b[0m\u001b[0mget_loc\u001b[0m\u001b[1;33m(\u001b[0m\u001b[0mcasted_key\u001b[0m\u001b[1;33m)\u001b[0m\u001b[1;33m\u001b[0m\u001b[1;33m\u001b[0m\u001b[0m\n\u001b[0;32m   3630\u001b[0m             \u001b[1;32mexcept\u001b[0m \u001b[0mKeyError\u001b[0m \u001b[1;32mas\u001b[0m \u001b[0merr\u001b[0m\u001b[1;33m:\u001b[0m\u001b[1;33m\u001b[0m\u001b[1;33m\u001b[0m\u001b[0m\n\u001b[1;32m-> 3631\u001b[1;33m                 \u001b[1;32mraise\u001b[0m \u001b[0mKeyError\u001b[0m\u001b[1;33m(\u001b[0m\u001b[0mkey\u001b[0m\u001b[1;33m)\u001b[0m \u001b[1;32mfrom\u001b[0m \u001b[0merr\u001b[0m\u001b[1;33m\u001b[0m\u001b[1;33m\u001b[0m\u001b[0m\n\u001b[0m\u001b[0;32m   3632\u001b[0m             \u001b[1;32mexcept\u001b[0m \u001b[0mTypeError\u001b[0m\u001b[1;33m:\u001b[0m\u001b[1;33m\u001b[0m\u001b[1;33m\u001b[0m\u001b[0m\n\u001b[0;32m   3633\u001b[0m                 \u001b[1;31m# If we have a listlike key, _check_indexing_error will raise\u001b[0m\u001b[1;33m\u001b[0m\u001b[1;33m\u001b[0m\u001b[0m\n",
      "\u001b[1;31mKeyError\u001b[0m: '003042'"
     ]
    }
   ],
   "source": [
    "show_tdx_data(df.loc['003042'])\n",
    "get_ths_info('003042')"
   ]
  },
  {
   "cell_type": "code",
   "execution_count": null,
   "id": "4b56a0ba-876a-488c-9196-236ede5930bd",
   "metadata": {
    "execution": {
     "iopub.status.busy": "2023-11-17T13:08:30.620774Z",
     "iopub.status.idle": "2023-11-17T13:08:30.621771Z",
     "shell.execute_reply": "2023-11-17T13:08:30.621771Z",
     "shell.execute_reply.started": "2023-11-17T13:08:30.620774Z"
    },
    "jupyter": {
     "source_hidden": true
    },
    "tags": []
   },
   "outputs": [],
   "source": [
    "# df[(df.close > df.ma20d * 0.99) & (df.close < df.ma20d * 1.05)]\n",
    "\n",
    "def filter_ma_range_df(df, ma='20', days='3'):\n",
    "    dd = []\n",
    "    for da in range(int(days), 0, -1):\n",
    "        # print(da, ma)\n",
    "        # df1 = df[ (df['lastp%sd'%(da)] > df['ma%s%sd'%(ma,da)]) & (df['lastp%sd'%(days)] < df['ma%s%sd'%(ma,da)] * 1.1)]\n",
    "        df1 = df[(df['lastp%sd' % (da)] > df['ma%s%sd' % (ma, da)] * 0.99)]\n",
    "        if da == days:\n",
    "            dd = df1.index.tolist()\n",
    "        else:\n",
    "            dd = [x for x in dd if x in df1.index]\n",
    "\n",
    "    return [x for x in set(dd)]\n",
    "\n",
    "\n",
    "def get_union_list(maind, subd):\n",
    "    # 筛选Main存在后切在新Sub出现\n",
    "    return [x for x in maind if x in subd]"
   ]
  },
  {
   "cell_type": "markdown",
   "id": "20e9f1bb-94bf-4099-a8bc-7e83016fe346",
   "metadata": {},
   "source": [
    "### 新农联合筛选"
   ]
  },
  {
   "cell_type": "code",
   "execution_count": null,
   "id": "1caa3f0a-26b1-4fb3-aa2f-e0fa75bc7047",
   "metadata": {
    "execution": {
     "iopub.status.busy": "2023-11-17T13:08:30.622768Z",
     "iopub.status.idle": "2023-11-17T13:08:30.622768Z",
     "shell.execute_reply": "2023-11-17T13:08:30.622768Z",
     "shell.execute_reply.started": "2023-11-17T13:08:30.622768Z"
    },
    "jupyter": {
     "source_hidden": true
    },
    "tags": []
   },
   "outputs": [],
   "source": [
    "code_fs = '003042'\n",
    "# show_tdx_data(df.loc['003042'])\n",
    "# get_ths_info('003042')\n",
    "\n",
    "df_f_t = df[(df.fib < 30) & (df.fibl > 6) & (df.df2 > 2) & (df.ral < -15) &\n",
    "            (df.close >= df.ma5dcum) & (df.perc3d > 1.1) & (df.lastv1d > df.lastv2d) & (df.close > df.ma5d) ]\n",
    "\n",
    "df_f_t.shape\n",
    "# df_f_t.loc[code_fs][:1]\n",
    "show_tdx_data(df_f_t)[:5]\n"
   ]
  },
  {
   "cell_type": "markdown",
   "id": "145d2a0a-a639-4e66-8830-5d6e1b926d3f",
   "metadata": {},
   "source": [
    "#### 写入069"
   ]
  },
  {
   "cell_type": "code",
   "execution_count": null,
   "id": "930886cd-dae9-4e5f-bc5b-351ddf0841f3",
   "metadata": {
    "execution": {
     "iopub.status.busy": "2023-11-17T13:08:30.623763Z",
     "iopub.status.idle": "2023-11-17T13:08:30.623763Z",
     "shell.execute_reply": "2023-11-17T13:08:30.623763Z",
     "shell.execute_reply.started": "2023-11-17T13:08:30.623763Z"
    },
    "tags": []
   },
   "outputs": [],
   "source": [
    "# write_code_to_blk(df_f_t.index, '069')"
   ]
  },
  {
   "cell_type": "code",
   "execution_count": null,
   "id": "aa67d121-3605-4893-8757-3d5cb2c4ac7b",
   "metadata": {
    "execution": {
     "iopub.status.busy": "2023-11-17T13:08:30.624761Z",
     "iopub.status.idle": "2023-11-17T13:08:30.624761Z",
     "shell.execute_reply": "2023-11-17T13:08:30.624761Z",
     "shell.execute_reply.started": "2023-11-17T13:08:30.624761Z"
    },
    "jupyter": {
     "source_hidden": true
    },
    "tags": []
   },
   "outputs": [],
   "source": [
    "df_ma26d = filter_ma_range_df(df, ma=20, days=5)\n",
    "# 连续3日在生命线上\n",
    "# df_ma26d = df[(df.fibl > 1) & (df.ra > 5)]\n",
    "len(df_ma26d)\n",
    "df_ma5d = filter_ma_range_df(df, ma=5, days=5)\n",
    "\n",
    "# 连续3日在生命线上\n",
    "len(df_ma5d)\n",
    "df_x = get_union_list(df_ma26d, df_ma5d)\n",
    "df_5dx_20d = get_union_list(df_x, df[df.ma5d < df.ma20d].index)\n",
    "\n",
    "show_tdx_data(df.loc[df_5dx_20d])"
   ]
  },
  {
   "cell_type": "code",
   "execution_count": null,
   "id": "0425fce1-40ef-4381-b610-4c203f90737e",
   "metadata": {
    "execution": {
     "iopub.status.busy": "2023-11-17T13:08:30.625758Z",
     "iopub.status.idle": "2023-11-17T13:08:30.626756Z",
     "shell.execute_reply": "2023-11-17T13:08:30.626756Z",
     "shell.execute_reply.started": "2023-11-17T13:08:30.626756Z"
    },
    "jupyter": {
     "source_hidden": true
    },
    "tags": []
   },
   "outputs": [],
   "source": [
    "df.loc[[\"603068\", '601377', '000725'],\n",
    "       [\"date\", \"name\", \"category\", \"percent\", \"close\", \"lastp1d\", \"ma5d\",\n",
    "        \"ma5dcum\", \"ma20d\", \"fib\", \"fibl\", \"df2\", \"per1d\", \"hmax\", \"lmin\",\n",
    "        \"ra\", \"ral\", \"vcall\", \"vcra\", \"vchange\", \"lvol\", 'lv', 'lowvol',\n",
    "        'last6vol', 'per%sd' % (market_value),\n",
    "        'perc%sd' % (market_value),\n",
    "        'perc4d']][: 3]"
   ]
  },
  {
   "cell_type": "code",
   "execution_count": null,
   "id": "791a7da1-2c2d-4276-8d64-a2b9cad50e83",
   "metadata": {
    "jupyter": {
     "source_hidden": true
    }
   },
   "outputs": [],
   "source": []
  },
  {
   "cell_type": "code",
   "execution_count": null,
   "id": "4067506b-f9a9-491e-bc7b-42201d532521",
   "metadata": {
    "execution": {
     "iopub.status.busy": "2023-11-17T13:08:30.628750Z",
     "iopub.status.idle": "2023-11-17T13:08:30.628750Z",
     "shell.execute_reply": "2023-11-17T13:08:30.628750Z",
     "shell.execute_reply.started": "2023-11-17T13:08:30.628750Z"
    },
    "jupyter": {
     "source_hidden": true
    },
    "tags": []
   },
   "outputs": [],
   "source": [
    "\n",
    "sort_key2 = \"per%sd\" % (market_value)\n",
    "df = df.sort_values(\n",
    "    by=[\"perc%sd\" % (market_value), sort_key2, \"fib\"], ascending=[0, 0, 1]\n",
    ")\n",
    "show_tdx_data(df)[: 5]\n",
    "\n",
    "show_tdx_data(df)[-5:]\n",
    "# df = df.sort_values(by=['perc%sd'%(market_value), 'per%sd'%(market_value),'fib'],ascending=[0,0,1])"
   ]
  },
  {
   "cell_type": "markdown",
   "id": "ddd4fb3c-a2bf-4392-b9d4-961cdc26aa3f",
   "metadata": {},
   "source": [
    "## filter 20D 涨幅榜 "
   ]
  },
  {
   "cell_type": "code",
   "execution_count": null,
   "id": "2d986e78-e067-4a72-9015-3d5b693fa250",
   "metadata": {
    "execution": {
     "iopub.status.busy": "2023-11-17T13:08:30.629749Z",
     "iopub.status.idle": "2023-11-17T13:08:30.630746Z",
     "shell.execute_reply": "2023-11-17T13:08:30.630746Z",
     "shell.execute_reply.started": "2023-11-17T13:08:30.630746Z"
    },
    "jupyter": {
     "source_hidden": true
    },
    "tags": []
   },
   "outputs": [],
   "source": [
    "# df = df[(df['close'] > df['ma20d'] * 0.98) & (df['close'] < df['ma20d'] * 1.03)]\n",
    "f20df = df[(df['close'] > df['ma20d'] * 0.98)\n",
    "           & (df['df2'] > 0) & (df['lastp1d'] > df['ma5d']) & (df['lasth1d'] >= df['lasth2d']) ]\n",
    "\n",
    "f20df.shape\n",
    "show_tdx_data(f20df)[: 3]\n",
    "show_tdx_data(f20df)[-3:]"
   ]
  },
  {
   "cell_type": "code",
   "execution_count": null,
   "id": "06ac0177-01c6-45b4-b49c-dac30f5cf5fb",
   "metadata": {
    "execution": {
     "iopub.status.busy": "2023-11-17T13:08:30.631743Z",
     "iopub.status.idle": "2023-11-17T13:08:30.631743Z",
     "shell.execute_reply": "2023-11-17T13:08:30.631743Z",
     "shell.execute_reply.started": "2023-11-17T13:08:30.631743Z"
    },
    "jupyter": {
     "source_hidden": true
    },
    "tags": []
   },
   "outputs": [],
   "source": [
    "\n",
    "sort_key2 = \"per%sd\" % (market_value)\n",
    "\n",
    "f20df = f20df.sort_values(\n",
    "    by=[sort_key2, \"perc%sd\" % (market_value), \"fib\"], ascending=[0, 0, 1]\n",
    ")\n",
    "f20df.shape\n",
    "show_tdx_data(f20df)[: 5]\n",
    "\n",
    "show_tdx_data(f20df)[-5:]\n",
    "\n",
    "\n",
    "# df.loc[:, [\"name\"]].T"
   ]
  },
  {
   "cell_type": "code",
   "execution_count": null,
   "id": "d473ab3b-8dad-4bb9-87c0-2f592c421dfe",
   "metadata": {
    "execution": {
     "iopub.status.busy": "2023-11-17T13:08:30.633739Z",
     "iopub.status.idle": "2023-11-17T13:08:30.633739Z",
     "shell.execute_reply": "2023-11-17T13:08:30.633739Z",
     "shell.execute_reply.started": "2023-11-17T13:08:30.633739Z"
    },
    "jupyter": {
     "source_hidden": true
    },
    "tags": []
   },
   "outputs": [],
   "source": [
    "# code = [\"000725\"]\n",
    "# f20df.loc[code,\n",
    "#           [\"name\", \"close\", \"percent\", \"lastp1d\", \"ma5dcum\", \"ma20d\", \"fib\",\n",
    "#            \"fibl\", \"ra\", \"df2\", \"per1d\", \"hmax\", \"lmin\", \"per%sd\" %\n",
    "#            (market_value),\n",
    "#               \"perc%sd\" % (market_value)]]"
   ]
  },
  {
   "cell_type": "markdown",
   "id": "dccc98eb-9660-4855-93e8-7ac2399249f9",
   "metadata": {},
   "source": [
    "## Write code to blk "
   ]
  },
  {
   "cell_type": "code",
   "execution_count": null,
   "id": "7d80aaa8-8939-40d1-964d-99e944a6bdb8",
   "metadata": {
    "execution": {
     "iopub.status.busy": "2023-11-17T13:08:30.635732Z",
     "iopub.status.idle": "2023-11-17T13:08:30.635732Z",
     "shell.execute_reply": "2023-11-17T13:08:30.635732Z",
     "shell.execute_reply.started": "2023-11-17T13:08:30.635732Z"
    },
    "jupyter": {
     "source_hidden": true
    },
    "tags": []
   },
   "outputs": [],
   "source": [
    "\n",
    "\n",
    "# codew = df.index.tolist()\n",
    "# write_code_to_blk(codew)"
   ]
  },
  {
   "cell_type": "markdown",
   "id": "efe79db7-a34d-4e59-a22d-0e1ffbc7142d",
   "metadata": {
    "tags": []
   },
   "source": [
    "# TDX参数数据信息"
   ]
  },
  {
   "cell_type": "raw",
   "id": "dc2ceb16-df6e-4256-b8b3-424b72bc28c0",
   "metadata": {
    "tags": []
   },
   "source": [
    "# tdx参数数据信息\n",
    "df2: 上轨统计个数\n",
    "    dd['upperT'] = dd.close[ (dd.upper > 0) & (dd.high > dd.upper)].count()\n",
    "    \n",
    "fibl: 统计最近9days最低的距离\n",
    "    tdx_df.low.argmin() len(tdx_df[tdx_df.index >= idxh])\n",
    "fib:  统计周期内低点距离 \n",
    "    len(dd[dd.index >= idx_min])\n",
    "hmax: 统计tdx_max_int_end内高点:def->10\n",
    "    df['hmax'] = df.close[:-ct.tdx_max_int_end].max()\n",
    "vchange: 前后交易日的交易量比率\n",
    "vcra: 交易量大于1的统计天数\n",
    "vcall: 最大交易量\n",
    "lowvol:统计周期内最低收盘价的交易量(放量下跌后放量反弹底,会大于近期地量.交投不活跃)\n",
    "lv:   只关心最低成交量数据,后持续增大可关注\n",
    "lvol: 上一个交易日成交量\n",
    "last6vol: 最近6天的地量ct.lastdays * 3\n",
    "max5 : df['max5'] = df.close[-10:-4].max()\n",
    "min5 : df['min5'] = df.low[-10:-4].min()df['min5'] = df.low[-10:-4].min()"
   ]
  },
  {
   "cell_type": "raw",
   "id": "5b01b48b-1ef8-49a9-8b07-c4f7327c32f4",
   "metadata": {
    "execution": {
     "iopub.execute_input": "2023-01-23T13:52:40.769000+08:00",
     "iopub.status.busy": "2023-01-23T13:52:40.768000+08:00",
     "iopub.status.idle": "2023-01-23T13:52:40.846000+08:00",
     "shell.execute_reply": "2023-01-23T13:52:40.846000+08:00",
     "shell.execute_reply.started": "2023-01-23T13:52:40.768000"
    },
    "tags": []
   },
   "source": [
    "# from JohnsonUtil import commonTips as cct\n",
    "# pd.set_option('mode.chained_assignment', None)\n",
    "# df.shape\n",
    "\n",
    "# h5.iloc[:1, 0:1]\n",
    "# https://stackoverflow.com/questions/11285613/selecting-multiple-columns-in-a-pandas-dataframe?rq=1\n",
    "# As of version 0.11.0, columns can be sliced in the manner you tried using the .loc indexer:\n",
    "\n",
    "# df.loc[:, 'C':'E']\n",
    "\n",
    "# gets the same columns as\n",
    "\n",
    "# df[['C', 'D', 'E']] # Mind, this makes a copy.\n",
    "\n",
    "# or\n",
    "\n",
    "# df.loc[:, ['C', 'D', 'E']] # T\n",
    "# h5.loc[:, 'C':'E']\n",
    "\n",
    "# 计算多Index 切片\n",
    "all_func = {'low': 'nlow', 'high': 'nhigh', 'close': 'nclose'}\n",
    "\n",
    "\n",
    "\n",
    "\n",
    "def get_now_func(run_col):\n",
    "    if isinstance(run_col, list):\n",
    "        now_col = [all_func[co] for co in run_col if co in all_func.keys()]\n",
    "    else:\n",
    "        now_col = [all_func[co]\n",
    "                   for co in run_col.keys() if co in all_func.keys()]\n",
    "    now_func = cct.from_list_to_dict(run_col, all_func)\n",
    "    return now_func\n",
    "\n",
    "\n",
    "# #nlow\n",
    "# run_col = ['low']\n",
    "# run_col = 'all'\n",
    "\n",
    "# startime = '09:24:00'\n",
    "# # endtime = '10:00:00'\n",
    "# endtime = '09:45:00'\n",
    "\n",
    "freq = '30T'\n",
    "startime = '09:25:00'\n",
    "endtime = '15:01:00'\n",
    "\n",
    "# (h5.loc[[df.index.get_level_values(0),:],[]]))\n",
    "# idx=pd.IndexSlice\n",
    "\n",
    "# mdd = sina.get_col_agg_df(h5, mdd, run_col, all_func, startime, endtime)\n",
    "# cct.get_limit_multiIndex_freq(h5, freq=freq.upper(), col=run_col, start=startime, end=endtime)\n",
    "# mdf = cct.get_limit_multiIndex_freq(h5, freq=freq.upper(),  col='all', start=startime, end=endtime, code=None)\n",
    "# https://www.jb51.cc/faq/3195413.html\n",
    "# SettingWithCopyWarning\n",
    "\n",
    "# https://qiita.com/nkay/items/322eebbe3bacfc451269\n",
    "# https://stackoverflow.com/questions/42487762/pandas-timeseries-groupby-using-timegrouper\n",
    "# df1 = df.groupby([df.index.year, df.index.hour]).mean()\n",
    "# df1.index = pd.to_datetime(df1.index.get_level_values(0).astype(str) +\n",
    "#                            df1.index.get_level_values(1).astype(str), format='%Y%H')\n",
    "\n",
    "# '''\n",
    "# mdf = cct.get_limit_multiIndex_freq(\n",
    "#     h5, freq=freq.upper(),\n",
    "#     col=run_col, start=startime, end=endtime, code=None)\n",
    "\n",
    "# # mdf.loc['000002'][:10]\n",
    "\n",
    "# # h5.loc['000002'].groupby(pd.TimeGrouper('30Min'))['low'].last()\n",
    "\n",
    "# # h5.loc['000002', ['close', 'low', 'high']]\n",
    "\n",
    "# mdf.loc['000099']\n",
    "# '''\n",
    "\n",
    "# h5.loc['000002'].groupby(pd.Grouper(freq='30M')).transform(np.cumsum).resample('30M', how='ohlc')\n",
    "# h5.loc['000002', ['close', 'low', 'high']].groupby(pd.TimeGrouper('30M')).transform(np.cumsum).resample('30M', how='ohlc')\n",
    "\n",
    "\n",
    "# f = {2: {'O':'first',\n",
    "#          'H':'max',\n",
    "#          'L':'min',\n",
    "#          'C':'last'}}\n",
    "\n",
    "# import numpy as np\n",
    "\n",
    "\n",
    "\n",
    "# h5_ohlc[:30]\n",
    "# h5_ohlc.groupby(pd.Grouper(freq='30M')).transform(np.cumsum).resample('30T', how={'low': 'min', 'close':'mean'})\n",
    "\n",
    "\n",
    "\n",
    "# mdf2.loc['000099']\n",
    "# run_col = ['high']\n",
    "# startime = '09:24:00'\n",
    "# endtime = '10:30:00'\n",
    "# mdd = self.get_col_agg_df(h5, mdd, run_col, all_func, startime, endtime)\n",
    "\n",
    "# startime = '09:24:00'\n",
    "# endtime = '15:01:00'\n",
    "# run_col = ['close']\n",
    "# # h5 = cct.get_limit_multiIndex_Group(h5, freq='15T', col=run_col,start=startime, end=endtime)\n",
    "# # time_s=time.time()\n",
    "# mdd = sina.get_col_agg_df(h5, mdd, run_col, all_func, startime, endtime)\n",
    "\n",
    "# mdf2=cct.select_multiIndex_index(mdf, index='ticktime', start=None, end=None, datev=None, code=code[0])\n",
    "\n",
    "# mdf2 = cct.select_multiIndex_index(\n",
    "#     mdf, index='ticktime', start=startime, end=endtime, datev=None, code=None)\n",
    "# groupd = mdf2.groupby(level=[0])\n",
    "\n",
    "\n",
    "# dfs = groupd['close'].agg({'median':'median','mean':'mean'})\n",
    "\n",
    "# mdm = groupd.tail(1).reset_index().set_index(['code'])\n",
    "# mdm = groupd.apply().reset_index().set_index(['code'])\n",
    "\n",
    "# mdf2.loc['000099']\n",
    "# dfs = mdf2.reset_index().melt(id_vars='ticktime')"
   ]
  },
  {
   "cell_type": "code",
   "execution_count": null,
   "id": "c582b3fa-8a79-4523-9e1f-923ce0ee2720",
   "metadata": {
    "execution": {
     "iopub.status.busy": "2023-11-17T13:08:30.636728Z",
     "iopub.status.idle": "2023-11-17T13:08:30.637726Z",
     "shell.execute_reply": "2023-11-17T13:08:30.636728Z",
     "shell.execute_reply.started": "2023-11-17T13:08:30.636728Z"
    },
    "jupyter": {
     "source_hidden": true
    },
    "tags": []
   },
   "outputs": [],
   "source": [
    "# code = '002670'\n",
    "# tdf = tdd.get_tdx_Exp_day_to_df(code, dl=60).sort_index(ascending=True)\n",
    "# tdf.dropna(inplace=True)\n",
    "# tdf.loc[:, [\"close\", \"ma5d\", \"ma10d\",\n",
    "#             \"ma20d\", \"upper\", \"lower\", \"hmax\", \"lmin\"]].plot()\n",
    "# tdf = compute_perd_value(tdf, market_value, \"per\")"
   ]
  },
  {
   "cell_type": "markdown",
   "id": "e7ff48d9-bf97-4154-9aff-e9a3d0a910ef",
   "metadata": {
    "tags": []
   },
   "source": [
    "# 实时sina_MultiIndex 分析"
   ]
  },
  {
   "cell_type": "markdown",
   "id": "396aedc3-11bb-40b2-828a-37b1281f88dc",
   "metadata": {
    "tags": []
   },
   "source": [
    "## 初始化当日Multi"
   ]
  },
  {
   "cell_type": "code",
   "execution_count": null,
   "id": "dcd83028-9e2e-4741-aaed-5b113ee18a40",
   "metadata": {
    "execution": {
     "iopub.status.busy": "2023-11-17T13:08:30.638724Z",
     "iopub.status.idle": "2023-11-17T13:08:30.638724Z",
     "shell.execute_reply": "2023-11-17T13:08:30.638724Z",
     "shell.execute_reply.started": "2023-11-17T13:08:30.638724Z"
    },
    "jupyter": {
     "source_hidden": true
    },
    "tags": []
   },
   "outputs": [],
   "source": [
    "# ohlc_dict = {'open': 'first',\n",
    "#              'high': 'max',\n",
    "#              'low': 'min',\n",
    "#              'close': 'last'}\n",
    "\n",
    "ohlc_dict = {\n",
    "    'volume': 'sum',\n",
    "    'high': 'max',\n",
    "    'low': 'min',\n",
    "    'close': 'last'}\n",
    "\n",
    "\n",
    "def minmax_norm(df):\n",
    "    return ((df - df.min()) / (df.max() - df.min())).apply(lambda x: round(x, 2))\n",
    "\n",
    "# def apply_round(df):\n",
    "#     return df.apply(lambda x:round(x,2))\n",
    "\n",
    "\n",
    "import pandas as pd\n",
    "from pandas import HDFStore\n",
    "\n",
    "# sina_MultiD_path = \"G:\\\\sina_MultiIndex_data.h5\"\n",
    "# freq='30T'\n",
    "# startime = '09:25:00'\n",
    "# endtime = '15:01:00'\n",
    "# def readHdf5(fpath, root=None):\n",
    "#     store = pd.HDFStore(fpath, \"r\")\n",
    "#     print((store.keys()))\n",
    "#     if root is None:\n",
    "#         root = list(store.keys())[0].replace(\"/\", \"\")\n",
    "#     df = store[root]\n",
    "#     store.close()\n",
    "#     return df\n",
    "\n",
    "h5 = readHdf5(sina_MultiD_path)\n",
    "print(sina_MultiD_path)\n",
    "h5.shape\n",
    "# h5[:1]\n",
    "code_muti = '600519'\n",
    "h5.loc[code_muti][:2]\n",
    "h5.loc[code_muti][-1:]"
   ]
  },
  {
   "cell_type": "markdown",
   "id": "21df5c76-0413-4a01-9b1f-1373f323cb43",
   "metadata": {},
   "source": [
    "## Now freq = 'D' 总量占比"
   ]
  },
  {
   "cell_type": "code",
   "execution_count": null,
   "id": "ec22779e-fcb9-4cc1-bc4d-8002b9cc21a9",
   "metadata": {
    "execution": {
     "iopub.status.busy": "2023-11-17T13:08:30.639721Z",
     "iopub.status.idle": "2023-11-17T13:08:30.639721Z",
     "shell.execute_reply": "2023-11-17T13:08:30.639721Z",
     "shell.execute_reply.started": "2023-11-17T13:08:30.639721Z"
    },
    "jupyter": {
     "source_hidden": true
    },
    "tags": []
   },
   "outputs": [],
   "source": [
    "# h5_ohlc = h5.loc[code_muti, ['close', 'volume']]\n",
    "# h5_ohlc_Day = h5_ohlc.groupby(pd.Grouper(\n",
    "#     freq='1D', closed='right', label='right')).agg(\n",
    "#     ohlc_dict).dropna()\n",
    "# freq = '30T'\n",
    "freq = 'D'\n",
    "startime = '09:25:00'\n",
    "endtime = '15:01:00'\n",
    "\n",
    "time_ratio = cct.get_work_time_ratio()\n",
    "\n",
    "run_col = ['close', 'volume']\n",
    "mdf = cct.get_limit_multiIndex_freq(\n",
    "    h5, freq=freq.upper(),\n",
    "    col=run_col, start=startime, end=endtime, code=None)\n",
    "allvol = mdf.volume.sum()\n",
    "allvol / 1000 / 1000 / 1000\n",
    "mdf.loc['002195'].volume / mdf.loc['600705'].volume\n",
    "ndf = mdf.copy()\n",
    "ndf.info(show_counts=True)\n",
    "ndf.describe()"
   ]
  },
  {
   "cell_type": "markdown",
   "id": "d0e88f3a-1936-457a-947a-3f450fa7656d",
   "metadata": {},
   "source": [
    "### TDX filter Vol and fibl"
   ]
  },
  {
   "cell_type": "markdown",
   "id": "325bd4a4-a614-4dd2-bbb1-992a8eb139dc",
   "metadata": {},
   "source": [
    "####  9日交易量nvol_idx "
   ]
  },
  {
   "cell_type": "code",
   "execution_count": null,
   "id": "b427ce9b-c89f-4739-9da9-c16fca159f02",
   "metadata": {
    "execution": {
     "iopub.status.busy": "2023-11-17T13:08:30.641717Z",
     "iopub.status.idle": "2023-11-17T13:08:30.642713Z",
     "shell.execute_reply": "2023-11-17T13:08:30.641717Z",
     "shell.execute_reply.started": "2023-11-17T13:08:30.641717Z"
    },
    "jupyter": {
     "source_hidden": true
    },
    "tags": []
   },
   "outputs": [],
   "source": [
    "# 9日交易量Mean\n",
    "temp = df[df.columns[((df.columns >= 'lastv1d') & (df.columns <= 'lastv9d'))]]\n",
    "temp.shape, temp.columns\n",
    "temp['volmean'] = temp.mean(axis=1)\n",
    "# temp[:1]\n",
    "temp['volnow'] = round(temp['lastv1d'] / temp['volmean'], 2)\n",
    "nvol_idx = temp.sort_values(by=['volnow'], ascending=[0])\n",
    "# nvol_idx.index\n",
    "nvol_idx.loc[:, ['volnow']].T[:20]\n",
    "df = get_realtime_ratio(df)\n",
    "\n",
    "show_tdx_data(df, nvol_idx.index[:20], col='ratio').T\n",
    "nvol_idx.shape"
   ]
  },
  {
   "cell_type": "code",
   "execution_count": null,
   "id": "11adde13-b49e-440b-8971-2aa9da3e5d62",
   "metadata": {
    "execution": {
     "iopub.status.busy": "2023-11-17T13:08:30.643711Z",
     "iopub.status.idle": "2023-11-17T13:08:30.643711Z",
     "shell.execute_reply": "2023-11-17T13:08:30.643711Z",
     "shell.execute_reply.started": "2023-11-17T13:08:30.643711Z"
    },
    "jupyter": {
     "source_hidden": true
    },
    "tags": []
   },
   "outputs": [],
   "source": [
    "df.shape\n",
    "df.loc['002197'].per3d"
   ]
  },
  {
   "cell_type": "markdown",
   "id": "840043a8-79f2-4c42-96d4-f379da4c1b36",
   "metadata": {},
   "source": [
    "##### TDX Filter Vol 写入090"
   ]
  },
  {
   "cell_type": "markdown",
   "id": "b3d245dd-4fba-46d4-b552-55f2a9eb579e",
   "metadata": {},
   "source": [
    "write_code_to_blk(vdf.index.tolist())"
   ]
  },
  {
   "cell_type": "markdown",
   "id": "a119a2b3-efcd-4c4d-896b-b6986bedff9c",
   "metadata": {},
   "source": [
    "#### 连续放量4日v_idx"
   ]
  },
  {
   "cell_type": "code",
   "execution_count": null,
   "id": "81d3ab4c-5053-45a9-8e08-9155d36abca8",
   "metadata": {
    "execution": {
     "iopub.status.busy": "2023-11-17T13:08:30.644709Z",
     "iopub.status.idle": "2023-11-17T13:08:30.645705Z",
     "shell.execute_reply": "2023-11-17T13:08:30.645705Z",
     "shell.execute_reply.started": "2023-11-17T13:08:30.644709Z"
    },
    "jupyter": {
     "source_hidden": true
    },
    "tags": []
   },
   "outputs": [],
   "source": [
    "# print(\"连续增量:%s\"%(v_idx.shape))\n",
    "v4_idx = nvol_idx[(nvol_idx.lastv1d > nvol_idx.lastv2d) &\n",
    "                  (nvol_idx.lastv2d > nvol_idx.lastv3d) &\n",
    "                  (nvol_idx.lastv3d > nvol_idx.lastv4d)]\n",
    "v4_idx.shape\n",
    "v4_idx.loc[:, ['volnow']][:20].T\n",
    "df = get_realtime_ratio(df)\n",
    "show_tdx_data(df, v4_idx.index[:10], col='ratio')"
   ]
  },
  {
   "cell_type": "markdown",
   "id": "96c31bc5-4065-4f18-9130-3bbf22e568a9",
   "metadata": {},
   "source": [
    "##### 连续放量写入064"
   ]
  },
  {
   "cell_type": "markdown",
   "id": "956a2e1b-e294-41bb-89a3-9868ecc186a8",
   "metadata": {},
   "source": [
    "write_code_to_blk(v_idx.index.tolist(),'064')"
   ]
  },
  {
   "cell_type": "markdown",
   "id": "2b9e0818-2fb7-434a-9a53-ab408c2cd493",
   "metadata": {},
   "source": [
    "##### 连续3日放量"
   ]
  },
  {
   "cell_type": "code",
   "execution_count": null,
   "id": "fb0c230c-7575-4658-8c5b-cd2798215b74",
   "metadata": {
    "execution": {
     "iopub.status.busy": "2023-11-17T13:08:30.646703Z",
     "iopub.status.idle": "2023-11-17T13:08:30.646703Z",
     "shell.execute_reply": "2023-11-17T13:08:30.646703Z",
     "shell.execute_reply.started": "2023-11-17T13:08:30.646703Z"
    },
    "jupyter": {
     "source_hidden": true
    },
    "tags": []
   },
   "outputs": [],
   "source": [
    "\n",
    "v3_idx = df[(df.lastv1d > df.lastv2d) & (df.lastv1d / df.lastv2d > 1.5) &\n",
    "            (df.close > df.ma20d) & (df.close < df.ma5d * 1.05) & (df.fibl > 3)  & (df.perc3d > 2) ]\n",
    "# & (df.close > df.ma20d) & (df.close < df.ma5d * 1.05) & (df.fibl > 3) & (df.df2 > 0) & (df.close > df.hmax) & (df.perc3d >3) ]\n",
    "\n",
    "v3_idx.shape\n",
    "v3_idx[:1]"
   ]
  },
  {
   "cell_type": "markdown",
   "id": "33edcefa-3335-406b-a003-4ec5064adae3",
   "metadata": {
    "tags": []
   },
   "source": [
    "## Realtime 总量Vol占比"
   ]
  },
  {
   "cell_type": "code",
   "execution_count": null,
   "id": "9c38f8c5-3595-475e-a86b-9455a516cd19",
   "metadata": {
    "execution": {
     "iopub.status.busy": "2023-11-17T13:08:30.647701Z",
     "iopub.status.idle": "2023-11-17T13:08:30.647701Z",
     "shell.execute_reply": "2023-11-17T13:08:30.647701Z",
     "shell.execute_reply.started": "2023-11-17T13:08:30.647701Z"
    },
    "jupyter": {
     "source_hidden": true
    },
    "tags": []
   },
   "outputs": [],
   "source": [
    "nowdf = ndf.copy()\n",
    "nowdf['volume'] = ndf.volume.apply(\n",
    "    lambda x: round(x / allvol * 100 / time_ratio, 2))\n",
    "# 交易量排序"
   ]
  },
  {
   "cell_type": "code",
   "execution_count": null,
   "id": "0b63e320-38ae-402e-b60b-2ef42f67c330",
   "metadata": {
    "execution": {
     "iopub.status.busy": "2023-11-17T13:08:30.648697Z",
     "iopub.status.idle": "2023-11-17T13:08:30.649695Z",
     "shell.execute_reply": "2023-11-17T13:08:30.648697Z",
     "shell.execute_reply.started": "2023-11-17T13:08:30.648697Z"
    },
    "jupyter": {
     "source_hidden": true
    },
    "tags": []
   },
   "outputs": [],
   "source": [
    "nowdf = nowdf.sort_values(by=['volume'], ascending=[0])\n",
    "# nowdf.shape, df.shape, code_idx.shape\n",
    "top20_nd = nowdf.reset_index().loc[:, ['code', 'volume']][:20]\n",
    "# code_idx = top20_nd.code\n",
    "# top20_nd.T\n",
    "# df.loc['600705']\n",
    "# show_tdx_data(df, code_idx)[:10]"
   ]
  },
  {
   "cell_type": "markdown",
   "id": "308f2151-82df-4257-9820-f53afda1c15a",
   "metadata": {},
   "source": [
    "### 交易量排序写入077\n"
   ]
  },
  {
   "cell_type": "markdown",
   "id": "36b292ba-8ff9-417f-aadb-11cb3e8b1194",
   "metadata": {},
   "source": [
    "write_code_to_blk(code_idx,'077')"
   ]
  },
  {
   "cell_type": "code",
   "execution_count": null,
   "id": "df5884dc-eeae-4a0b-8e21-9abbe9c09121",
   "metadata": {
    "execution": {
     "iopub.status.busy": "2023-11-17T13:08:30.650692Z",
     "iopub.status.idle": "2023-11-17T13:08:30.650692Z",
     "shell.execute_reply": "2023-11-17T13:08:30.650692Z",
     "shell.execute_reply.started": "2023-11-17T13:08:30.650692Z"
    },
    "jupyter": {
     "source_hidden": true
    },
    "tags": []
   },
   "outputs": [],
   "source": [
    "# 30M"
   ]
  },
  {
   "cell_type": "code",
   "execution_count": null,
   "id": "59e7856a-db34-4f59-bd6b-0f3a6103e290",
   "metadata": {
    "execution": {
     "iopub.status.busy": "2023-11-17T13:08:30.652686Z",
     "iopub.status.idle": "2023-11-17T13:08:30.652686Z",
     "shell.execute_reply": "2023-11-17T13:08:30.652686Z",
     "shell.execute_reply.started": "2023-11-17T13:08:30.652686Z"
    },
    "jupyter": {
     "source_hidden": true
    },
    "tags": []
   },
   "outputs": [],
   "source": [
    "h5_ohlc = h5.loc[code_muti, ['close', 'volume']]\n",
    "h5_ohlc['low'] = h5_ohlc['close']\n",
    "# h5_ohlc['open'] = h5_ohlc['close']\n",
    "h5_ohlc['high'] = h5_ohlc['close']\n",
    "\n",
    "h5_ohlc_30M = h5_ohlc.groupby(pd.Grouper(\n",
    "    freq='30Min', closed='right', label='right')).agg(\n",
    "    ohlc_dict).dropna()\n",
    "# h5_ohlc_30M['volume'] = h5_ohlc_30M['volume'].apply(lambda x:round(x/100100,1))\n",
    "h5_ohlc_30M['volume'] = minmax_norm(h5_ohlc_30M['volume'])\n",
    "h5_ohlc_30M[:1], h5_ohlc_30M[-1:]"
   ]
  },
  {
   "cell_type": "code",
   "execution_count": null,
   "id": "9d643c7c-2a59-4a63-8fca-eb7a1123a1e2",
   "metadata": {
    "execution": {
     "iopub.status.busy": "2023-11-17T13:08:30.654682Z",
     "iopub.status.idle": "2023-11-17T13:08:30.654682Z",
     "shell.execute_reply": "2023-11-17T13:08:30.654682Z",
     "shell.execute_reply.started": "2023-11-17T13:08:30.654682Z"
    },
    "jupyter": {
     "source_hidden": true
    },
    "tags": []
   },
   "outputs": [],
   "source": [
    "df.shape"
   ]
  },
  {
   "cell_type": "markdown",
   "id": "f347ff5d-1605-435c-8abf-90eaf52982c2",
   "metadata": {},
   "source": [
    "# 当日Sina数据分析"
   ]
  },
  {
   "cell_type": "markdown",
   "id": "e8660688-0d37-4b1f-ae9e-e4828302ff78",
   "metadata": {},
   "source": [
    "## Sina_Data"
   ]
  },
  {
   "cell_type": "code",
   "execution_count": null,
   "id": "a9ebf9d1-2554-4b33-9d62-8656141fd869",
   "metadata": {
    "execution": {
     "iopub.status.busy": "2023-11-17T13:08:30.655679Z",
     "iopub.status.idle": "2023-11-17T13:08:30.656677Z",
     "shell.execute_reply": "2023-11-17T13:08:30.656677Z",
     "shell.execute_reply.started": "2023-11-17T13:08:30.656677Z"
    },
    "jupyter": {
     "source_hidden": true
    },
    "tags": []
   },
   "outputs": [],
   "source": [
    "# tdf = readHdf5(tdx_path)\n",
    "tdf = tdd.get_sina_datadf_cnamedf(df.index.tolist(), df)\n",
    "# tdf[ (tdf.last6vol > 0)].shape\n",
    "tdf = clean_688(tdf)\n",
    "# tdf[ (tdf.last6vol > 0)].shape\n",
    "# market_value = '5'\n",
    "\n",
    "# 统计连续数据\n",
    "for i in range(9, 1, -1):\n",
    "    # print(i),\n",
    "    tdf = compute_perd_value(tdf, i, \"perc\")\n",
    "    tdf = compute_perd_value(tdf, i, \"per\")\n",
    "    # tdf = get_runtime_percent(tdf,\"per%sd\"%(i))\n",
    "\n",
    "tdf = get_runtime_percent(tdf)\n",
    "\n",
    "tdf[(tdf.last6vol > 0)].shape\n",
    "tdf.loc[:, ['percent', 'perc1d', 'perc2d', 'perc3d', 'perc9d',\n",
    "            'per1d', 'per2d', 'per3d', 'per9d']][:5]"
   ]
  },
  {
   "cell_type": "code",
   "execution_count": null,
   "id": "56c28ed8-51b3-4f4f-a6e4-6dac2d59b5ad",
   "metadata": {
    "execution": {
     "iopub.status.busy": "2023-11-17T13:08:30.657674Z",
     "iopub.status.idle": "2023-11-17T13:08:30.657674Z",
     "shell.execute_reply": "2023-11-17T13:08:30.657674Z",
     "shell.execute_reply.started": "2023-11-17T13:08:30.657674Z"
    },
    "jupyter": {
     "source_hidden": true
    },
    "tags": []
   },
   "outputs": [],
   "source": [
    "sina = sina_data.Sina()\n",
    "dd = sina.all\n",
    "# dd.loc['300250'].close\n",
    "if (cct.get_now_time_int() > 915 and cct.get_now_time_int() < 926):\n",
    "    dd = dd[dd.close > 0]\n",
    "else:\n",
    "    dd = dd[dd.open > 0]\n",
    "\n",
    "if 'percent' not in dd.columns:\n",
    "    print(\"compute percent\")\n",
    "    dd['percent'] = ((dd['close'] - dd['llastp']) / dd['llastp']\n",
    "                     * 100).map(lambda x: round(x, 2))\n",
    "\n",
    "# # dd.shape\n",
    "# dd.loc[:, ['percent', 'close']][:1]\n",
    "# dd = clean_688(dd)\n",
    "print(dd.shape)\n",
    "if 'nclose' in dd.columns:\n",
    "    for co in ['nclose']:\n",
    "        dd[co] = dd[co].apply(lambda x: round(x, 2))\n",
    "\n",
    "dd = get_realtime_ratio(dd)\n",
    "# dd = tdd.getSinaAlldf(market='all')\n",
    "dd = clean_688(dd)\n",
    "# get_sina_Market_json 获取 Ratio数据\n",
    "# df.shape\n",
    "# h5 = readHdf5(sina_MultiD_path)\n",
    "# h5.shape\n",
    "# h5[:1]\n",
    "# tdf['last6vol'][:2]\n",
    "\n",
    "# dd=cct.combine_dataFrame(dd, df['last6vol'])\n",
    "# dd=cct.combine_dataFrame(dd, tdf['last6vol'], col=None, compare=None, append=False, clean=True)"
   ]
  },
  {
   "cell_type": "code",
   "execution_count": null,
   "id": "56f7b495-4008-479f-8a21-d3be099eacce",
   "metadata": {
    "execution": {
     "iopub.status.busy": "2023-11-17T13:08:30.658670Z",
     "iopub.status.idle": "2023-11-17T13:08:30.659668Z",
     "shell.execute_reply": "2023-11-17T13:08:30.658670Z",
     "shell.execute_reply.started": "2023-11-17T13:08:30.658670Z"
    },
    "jupyter": {
     "source_hidden": true
    },
    "tags": []
   },
   "outputs": [],
   "source": [
    "'ratio' in dd.columns\n",
    "dd.columns\n",
    "dd.shape\n",
    "dd.percent[:1]\n",
    "dd.loc['300250'].close, dd.loc['300250'].percent"
   ]
  },
  {
   "cell_type": "markdown",
   "id": "9db2da8d-e830-496a-82ba-01f1d8836801",
   "metadata": {},
   "source": [
    "### 设置周期时间"
   ]
  },
  {
   "cell_type": "code",
   "execution_count": null,
   "id": "39a4c194-31ce-4751-b88a-1237ac150a19",
   "metadata": {
    "jupyter": {
     "source_hidden": true
    },
    "tags": []
   },
   "outputs": [],
   "source": []
  },
  {
   "cell_type": "code",
   "execution_count": null,
   "id": "a222c904-b2c2-4e09-a3d8-8d2bcc2330ea",
   "metadata": {
    "execution": {
     "iopub.status.busy": "2023-11-17T13:08:30.660666Z",
     "iopub.status.idle": "2023-11-17T13:08:30.661663Z",
     "shell.execute_reply": "2023-11-17T13:08:30.660666Z",
     "shell.execute_reply.started": "2023-11-17T13:08:30.660666Z"
    },
    "jupyter": {
     "source_hidden": true
    },
    "tags": []
   },
   "outputs": [],
   "source": [
    "tdf.loc[:, ['perc1d', 'perc2d', 'perc3d', 'perc9d',\n",
    "            'per1d', 'per2d', 'per3d', 'per9d']][-5:]\n",
    "tdf.loc['300250'].close, tdf.loc['300250'].percent\n",
    "# tdf = compute_perd_value(tdf, market_value, \"perc\")\n",
    "# tdf = compute_perd_value(tdf, market_value, \"per\")"
   ]
  },
  {
   "cell_type": "code",
   "execution_count": null,
   "id": "b5375375-e818-4949-a7c4-ef8edb0c8bfc",
   "metadata": {
    "execution": {
     "iopub.status.busy": "2023-11-17T13:08:30.663657Z",
     "iopub.status.idle": "2023-11-17T13:08:30.664654Z",
     "shell.execute_reply": "2023-11-17T13:08:30.663657Z",
     "shell.execute_reply.started": "2023-11-17T13:08:30.663657Z"
    },
    "jupyter": {
     "source_hidden": true
    },
    "tags": []
   },
   "outputs": [],
   "source": [
    "# dd=cct.combine_dataFrame(dd, tdf['last6vol'], col=None, compare=None, append=False, clean=True)\n",
    "# dd.loc[:,['percent']][:1]\n",
    "dd = cct.combine_dataFrame(dd, df, append=False, clean=False)\n",
    "\n",
    "dd.loc[:, ['percent']][:1]\n",
    "dd[~(dd.last6vol > 0)].shape\n",
    "dd.loc['300250'].close, dd.loc['300250'].percent\n",
    "# dd[:1]"
   ]
  },
  {
   "cell_type": "code",
   "execution_count": null,
   "id": "8c576d11-c2c5-40db-9a26-4336b8d6702a",
   "metadata": {
    "execution": {
     "iopub.status.busy": "2023-11-17T13:08:30.665651Z",
     "iopub.status.idle": "2023-11-17T13:08:30.666649Z",
     "shell.execute_reply": "2023-11-17T13:08:30.666649Z",
     "shell.execute_reply.started": "2023-11-17T13:08:30.666649Z"
    },
    "jupyter": {
     "source_hidden": true
    },
    "tags": []
   },
   "outputs": [],
   "source": [
    "dd_clean = dd[~(dd.last6vol > 0)]\n",
    "display(dd_clean.shape, dd_clean.index.tolist()[:5])\n",
    "dd = dd[(dd.last6vol > 0)]\n",
    "dd.shape"
   ]
  },
  {
   "cell_type": "code",
   "execution_count": null,
   "id": "fa643bbf-85e1-49cc-afeb-c9fe9798e7b4",
   "metadata": {
    "execution": {
     "iopub.status.busy": "2023-11-17T13:08:30.668644Z",
     "iopub.status.idle": "2023-11-17T13:08:30.668644Z",
     "shell.execute_reply": "2023-11-17T13:08:30.668644Z",
     "shell.execute_reply.started": "2023-11-17T13:08:30.668644Z"
    },
    "jupyter": {
     "source_hidden": true
    },
    "tags": []
   },
   "outputs": [],
   "source": [
    "# display(dd_clean.shape, dd_clean.index)\n",
    "# adf = df.copy()\n",
    "# %timeit -r 5 adf['upper'] = map(lambda x: round((1 + 11.0 / 100) * x, 1), df.ma10d)\n",
    "# %timeit -r 5 adf['lower'] = map(lambda x: round((1 - 9.0 / 100) * x, 1), df.ma10d)\n",
    "# %timeit -r 5 adf['ene'] = map(lambda x, y: round((x + y) / 2, 1), adf.upper, adf.lower)"
   ]
  },
  {
   "cell_type": "markdown",
   "id": "691861a1-7b58-4abf-90b3-5553dc01fc42",
   "metadata": {},
   "source": [
    "### 计算Vol Ratio倍率"
   ]
  },
  {
   "cell_type": "code",
   "execution_count": null,
   "id": "5bf6e9cc-19e4-44e9-8ed7-7527fb52a243",
   "metadata": {
    "execution": {
     "iopub.status.busy": "2023-11-17T13:08:30.670639Z",
     "iopub.status.idle": "2023-11-17T13:08:30.671636Z",
     "shell.execute_reply": "2023-11-17T13:08:30.671636Z",
     "shell.execute_reply.started": "2023-11-17T13:08:30.671636Z"
    },
    "jupyter": {
     "source_hidden": true
    },
    "tags": []
   },
   "outputs": [],
   "source": [
    "# store = pd.HDFStore(sina_MultiD_path, \"r\")\n",
    "# (store.keys())\n",
    "# store.close()\n",
    "# dd.columns\n",
    "# dd.loc[:, ['open', 'llastp', 'nlow', 'low', 'nhigh', 'nhigh',\n",
    "#        'low', 'volume', 'lastbuy','last6vol']][:1]\n",
    "# dd.shape\n",
    "time_ratio = cct.get_work_time_ratio()\n",
    "time_ratio\n",
    "dd['volra'] = list(map(lambda x, y: round((x / y), 1),\n",
    "                       dd.volume / time_ratio, dd.last6vol))\n",
    "\n",
    "dd.shape\n",
    "dd[~(dd.volra > 0)].shape\n",
    "dd.loc['301227', ['volra', 'vchange']]\n",
    "# nldf.loc[:, ['close', 'nclose', 'llastp', 'open', 'nlow', 'low', 'nhigh',\n",
    "#              'nhigh', 'low', 'volra', 'last6vol', 'volume', 'ticktime']][:2]"
   ]
  },
  {
   "cell_type": "markdown",
   "id": "ca5047e4-9522-446a-be7d-9f872975a345",
   "metadata": {},
   "source": [
    "### open > nlow and UP "
   ]
  },
  {
   "cell_type": "code",
   "execution_count": null,
   "id": "01ddb179-ad48-4864-8a0b-9f938782933e",
   "metadata": {
    "execution": {
     "iopub.status.busy": "2023-11-17T13:08:30.672632Z",
     "iopub.status.idle": "2023-11-17T13:08:30.672632Z",
     "shell.execute_reply": "2023-11-17T13:08:30.672632Z",
     "shell.execute_reply.started": "2023-11-17T13:08:30.672632Z"
    },
    "tags": []
   },
   "outputs": [],
   "source": [
    "if 'nlow' in dd.columns:\n",
    "    dd_open = dd[(dd.open == dd.nlow) & (dd.close >= dd.open) & (dd['volra'] > 1.2)]\n",
    "else:\n",
    "    dd_open = dd[(dd.open == dd.low) & (dd.close >= dd.open) & (dd['volra'] > 1.2)]\n",
    "dd_open.shape"
   ]
  },
  {
   "cell_type": "markdown",
   "id": "884f9696-a06f-446d-8d63-94b664c76701",
   "metadata": {},
   "source": [
    "#### 低开高走大于1 写入067"
   ]
  },
  {
   "cell_type": "code",
   "execution_count": null,
   "id": "d0436fd2-0ae8-4ec3-971d-5e46b4d6d457",
   "metadata": {
    "execution": {
     "iopub.status.busy": "2023-11-17T13:08:30.673631Z",
     "iopub.status.idle": "2023-11-17T13:08:30.674627Z",
     "shell.execute_reply": "2023-11-17T13:08:30.674627Z",
     "shell.execute_reply.started": "2023-11-17T13:08:30.674627Z"
    },
    "tags": []
   },
   "outputs": [],
   "source": [
    "# dd.columns[ (dd.columns >= 'perc1d') &  (dd.columns <= 'perc9d')]\n",
    "# dd_open.columns.tolist()\n",
    "dd_low2high = dd_open[(dd_open.per1d >= 0.5) & (dd_open.close > dd_open.ene)]\n",
    "show_tdx_data(dd_low2high).T"
   ]
  },
  {
   "cell_type": "code",
   "execution_count": null,
   "id": "0989b3a7-6057-49d8-994d-e9b1e5e126b9",
   "metadata": {
    "execution": {
     "iopub.status.busy": "2023-11-17T13:08:30.675629Z",
     "iopub.status.idle": "2023-11-17T13:08:30.676624Z",
     "shell.execute_reply": "2023-11-17T13:08:30.676624Z",
     "shell.execute_reply.started": "2023-11-17T13:08:30.676624Z"
    },
    "tags": []
   },
   "outputs": [],
   "source": [
    "# write_code_to_blk(dd_low2high.index, '067')"
   ]
  },
  {
   "cell_type": "code",
   "execution_count": null,
   "id": "42d6b819-302b-4c13-bb54-d8ff79796eed",
   "metadata": {
    "execution": {
     "iopub.status.busy": "2023-11-17T13:08:30.677620Z",
     "iopub.status.idle": "2023-11-17T13:08:30.678617Z",
     "shell.execute_reply": "2023-11-17T13:08:30.677620Z",
     "shell.execute_reply.started": "2023-11-17T13:08:30.677620Z"
    },
    "jupyter": {
     "source_hidden": true
    },
    "tags": []
   },
   "outputs": [],
   "source": [
    "dd_open_ma5d = dd_open[(dd_open.ma5d >= dd_open.ma20d) & (dd_open.low >= dd_open.open) &(dd_open.close >= dd_open.ma5d) & (dd_open.close >= dd_open.ma20d)  & (dd_open.percent >= 2)]"
   ]
  },
  {
   "cell_type": "code",
   "execution_count": null,
   "id": "902f06bd-912d-4415-b887-a9bb3b91b6da",
   "metadata": {
    "execution": {
     "iopub.status.busy": "2023-11-17T13:08:30.679614Z",
     "iopub.status.idle": "2023-11-17T13:08:30.679614Z",
     "shell.execute_reply": "2023-11-17T13:08:30.679614Z",
     "shell.execute_reply.started": "2023-11-17T13:08:30.679614Z"
    },
    "jupyter": {
     "source_hidden": true
    },
    "tags": []
   },
   "outputs": [],
   "source": [
    "# dd_open_ma5d.loc['002875']\n",
    "dd_open_ma5d=dd_open_ma5d.sort_values(by=['percent'],ascending=[0])"
   ]
  },
  {
   "cell_type": "markdown",
   "id": "b76cdfdc-814c-416e-a0a9-4276de420ed4",
   "metadata": {},
   "source": [
    "#### 领涨个股 !!!"
   ]
  },
  {
   "cell_type": "code",
   "execution_count": null,
   "id": "a7a59ae7-89bb-4789-8c1f-f6df7b0a246e",
   "metadata": {
    "execution": {
     "iopub.status.busy": "2023-11-17T13:08:30.680613Z",
     "iopub.status.idle": "2023-11-17T13:08:30.681609Z",
     "shell.execute_reply": "2023-11-17T13:08:30.681609Z",
     "shell.execute_reply.started": "2023-11-17T13:08:30.681609Z"
    },
    "jupyter": {
     "source_hidden": true
    },
    "tags": []
   },
   "outputs": [],
   "source": [
    "counterCategory(dd_open_ma5d)"
   ]
  },
  {
   "cell_type": "code",
   "execution_count": null,
   "id": "e8db4dd5-b390-4aeb-bfe9-c3554d754be2",
   "metadata": {
    "execution": {
     "iopub.status.busy": "2023-11-17T13:08:30.682608Z",
     "iopub.status.idle": "2023-11-17T13:08:30.683605Z",
     "shell.execute_reply": "2023-11-17T13:08:30.682608Z",
     "shell.execute_reply.started": "2023-11-17T13:08:30.682608Z"
    },
    "jupyter": {
     "source_hidden": true
    },
    "tags": []
   },
   "outputs": [],
   "source": [
    "show_tdx_data(dd_open_ma5d).T"
   ]
  },
  {
   "cell_type": "markdown",
   "id": "617de318-3fde-40f2-bc01-7d3096d9ab3a",
   "metadata": {
    "execution": {
     "iopub.execute_input": "2023-01-19T14:05:09.428000+08:00",
     "iopub.status.busy": "2023-01-19T14:05:09.428000+08:00",
     "iopub.status.idle": "2023-01-19T14:05:09.429000+08:00",
     "shell.execute_reply": "2023-01-19T14:05:09.429000+08:00",
     "shell.execute_reply.started": "2023-01-19T14:05:09.428000"
    },
    "tags": []
   },
   "source": [
    "### 突破左侧Hmax "
   ]
  },
  {
   "cell_type": "code",
   "execution_count": null,
   "id": "f86adf7d-eb5e-4380-bd36-b3cc3c6b377e",
   "metadata": {
    "execution": {
     "iopub.status.busy": "2023-11-17T13:08:30.684602Z",
     "iopub.status.idle": "2023-11-17T13:08:30.684602Z",
     "shell.execute_reply": "2023-11-17T13:08:30.684602Z",
     "shell.execute_reply.started": "2023-11-17T13:08:30.684602Z"
    },
    "jupyter": {
     "source_hidden": true
    },
    "tags": []
   },
   "outputs": [],
   "source": [
    "# dz = dd[ ((dd.open > dd.llastp) | (dd.close > dd.nlow)) & (dd.close > dd.open) & ((dd.close > dd.hmax))].copy()\n",
    "# dz = dd[  ((dd.lastl2d > dd.hmax)) & (dd.lastl2d >= dd.ma52d) ].copy()\n",
    "dz = dd[((dd.close > dd.hmax)) & (dd.close >= dd.ma20d)].copy()\n",
    "\n",
    "market_value = 3\n",
    "\n",
    "sort_key1 = \"perc%sd\" % (market_value)\n",
    "sort_key2 = \"per%sd\" % (market_value)\n",
    "\n",
    "dz = get_runtime_percent(dz, \"per%sd\" % (market_value))\n",
    "# 连阳排序\n",
    "dz = dz.sort_values(\n",
    "    by=[sort_key2, 'volra', sort_key1,\n",
    "        \"fib\"],\n",
    "    ascending=[0, 0, 0, 1])\n",
    "\n",
    "dz.shape\n",
    "\n",
    "# dz.loc[:,\n",
    "#        [\"name\", 'close', \"percent\", 'volra', 'vchange', \"perc%sd\" %\n",
    "#         (market_value),\n",
    "#         sort_key2, \"fib\", \"fibl\", 'ra', 'ral', 'topR', 'top10', 'close',\n",
    "#         'max5', 'lasth1d', 'hmax', 'lmin']][: 10].T\n",
    "# show_tdx_data(dz)[:20].T\n",
    "# dz.loc[:,\n",
    "#        [\"name\", 'close', \"percent\", 'volra', 'vchange', \"perc%sd\" %\n",
    "#         (market_value),\n",
    "#         sort_key2, \"fib\", \"fibl\", 'ra', 'ral', 'topR', 'top10', 'close',\n",
    "#         'max5', 'lasth1d', 'hmax', 'lmin']][-10:].T"
   ]
  },
  {
   "cell_type": "markdown",
   "id": "ae82dd70-c9a6-40fc-a78a-0647ff117a40",
   "metadata": {},
   "source": [
    "#### 放量Top !!!"
   ]
  },
  {
   "cell_type": "code",
   "execution_count": null,
   "id": "8df4b83f-4391-41fc-8167-c27a6648876e",
   "metadata": {
    "execution": {
     "iopub.status.busy": "2023-11-17T13:08:30.685599Z",
     "iopub.status.idle": "2023-11-17T13:08:30.686596Z",
     "shell.execute_reply": "2023-11-17T13:08:30.685599Z",
     "shell.execute_reply.started": "2023-11-17T13:08:30.685599Z"
    },
    "jupyter": {
     "source_hidden": true
    }
   },
   "outputs": [],
   "source": [
    "show_tdx_data(dz)[:20].T"
   ]
  },
  {
   "cell_type": "code",
   "execution_count": null,
   "id": "98c37ae5-382a-4118-a5e6-19b3512410d8",
   "metadata": {
    "execution": {
     "iopub.status.busy": "2023-11-17T13:08:30.687592Z",
     "iopub.status.idle": "2023-11-17T13:08:30.687592Z",
     "shell.execute_reply": "2023-11-17T13:08:30.687592Z",
     "shell.execute_reply.started": "2023-11-17T13:08:30.687592Z"
    },
    "jupyter": {
     "source_hidden": true
    },
    "tags": []
   },
   "outputs": [],
   "source": [
    "code = '002209'\n",
    "code_t = cct.code_to_symbol_ths(code)\n",
    "thsgn.loc[code_t]"
   ]
  },
  {
   "cell_type": "markdown",
   "id": "09408c5a-5706-4817-acf7-9480e0928f11",
   "metadata": {},
   "source": [
    "### 原始数据排序 "
   ]
  },
  {
   "cell_type": "code",
   "execution_count": null,
   "id": "414ed576-133f-4ae3-9a6f-4550d565c5f0",
   "metadata": {
    "execution": {
     "iopub.status.busy": "2023-11-17T13:08:30.688591Z",
     "iopub.status.idle": "2023-11-17T13:08:30.690586Z",
     "shell.execute_reply": "2023-11-17T13:08:30.690586Z",
     "shell.execute_reply.started": "2023-11-17T13:08:30.690586Z"
    },
    "jupyter": {
     "source_hidden": true
    },
    "tags": []
   },
   "outputs": [],
   "source": [
    "dd_vol = dd.copy()\n",
    "\n",
    "market_value = 3\n",
    "\n",
    "sort_key2 = \"per%sd\" % (market_value)\n",
    "\n",
    "# 连阳排序\n",
    "dd_vol = dd_vol.sort_values(\n",
    "    by=[sort_key2, 'volra', 'vchange', \"perc%sd\" % (market_value),\n",
    "        \"fib\"],\n",
    "    ascending=[0, 0, 0, 0, 1])\n",
    "\n",
    "dd_vol.shape"
   ]
  },
  {
   "cell_type": "markdown",
   "id": "98aba527-67e4-4186-ba55-ab91a9b5c261",
   "metadata": {},
   "source": [
    "#### filter per3d >5"
   ]
  },
  {
   "cell_type": "code",
   "execution_count": null,
   "id": "307eb30e-c1da-49ef-8b74-f5176730f341",
   "metadata": {
    "execution": {
     "iopub.status.busy": "2023-11-17T13:08:30.691582Z",
     "iopub.status.idle": "2023-11-17T13:08:30.692579Z",
     "shell.execute_reply": "2023-11-17T13:08:30.692579Z",
     "shell.execute_reply.started": "2023-11-17T13:08:30.691582Z"
    },
    "jupyter": {
     "source_hidden": true
    },
    "tags": []
   },
   "outputs": [],
   "source": [
    "df_per3d = dd_vol[(dd_vol[sort_key2] > 5)]\n",
    "df_per3d.shape"
   ]
  },
  {
   "cell_type": "markdown",
   "id": "dce8e07d-7d9f-4dcc-bc2d-df7b6c0f0425",
   "metadata": {},
   "source": [
    "##### 放量Top"
   ]
  },
  {
   "cell_type": "code",
   "execution_count": null,
   "id": "eaac059f-e7a2-4b8b-8f10-85847202030c",
   "metadata": {
    "execution": {
     "iopub.status.busy": "2023-11-17T13:08:30.693577Z",
     "iopub.status.idle": "2023-11-17T13:08:30.693577Z",
     "shell.execute_reply": "2023-11-17T13:08:30.693577Z",
     "shell.execute_reply.started": "2023-11-17T13:08:30.693577Z"
    },
    "jupyter": {
     "source_hidden": true
    },
    "tags": []
   },
   "outputs": [],
   "source": [
    "\n",
    "\n",
    "# df = df[df.volra > 1.2]\n",
    "# df = df[(df.volra > 1.5) & (df.volra < 5)]\n",
    "\n",
    "display(\"KEY: perc%s %s ,%s\" % (market_value, sort_key2, df.shape))\n",
    "\n",
    "# 交易量排序\n",
    "# df = df.sort_values(\n",
    "#     by=['volra', \"perc%sd\" % (market_value),\n",
    "#         sort_key2, \"fib\"],\n",
    "#     ascending=[0, 0, 0, 1])\n",
    "\n",
    "\n",
    "# 涨幅排序:\n",
    "# df = df.sort_values(\n",
    "#     by=[sort_key2,\"perc%sd\" % (market_value),'volra',\n",
    "#          \"fib\"],\n",
    "#     ascending=[0, 0, 0, 1])\n",
    "\n",
    "df_per3d.loc[:, ['volra', 'perc%sd' % (market_value), sort_key2]][:2]\n",
    "df_per3d.shape\n",
    "# df_per3d.loc[:,\n",
    "#              [\"name\", \"category\", 'percent', 'close', 'llastp', 'open', 'nlow',\n",
    "#               'low', 'nhigh', 'nhigh', 'low', 'volra', 'vchange', 'last6vol',\n",
    "#               'volume', \"ma5dcum\", \"ma20d\", \"fib\", \"fibl\", \"df2\", \"per1d\",\n",
    "#               \"hmax\", \"lmin\", \"ra\", \"ral\", \"per%sd\" % (market_value),\n",
    "#               \"perc%sd\" % (market_value),\n",
    "#               sort_key2, 'perc1d', 'perc2d', 'perc3d', 'perc9d', 'per1d',\n",
    "#               'per2d', 'per3d', 'per9d']][:20].T\n",
    "\n",
    "show_tdx_data(df_per3d)[:20].T\n",
    "\n",
    "# df_per3d.loc[:,\n",
    "#              [\"name\", \"category\", 'percent', 'close', 'llastp', 'open', 'nlow',\n",
    "#               'low', 'nhigh', 'nhigh', 'low', 'volra', 'vchange', 'last6vol',\n",
    "#               'volume', \"ma5dcum\", \"ma20d\", \"fib\", \"fibl\", \"df2\", \"per1d\",\n",
    "#               \"hmax\", \"lmin\", \"ra\", \"ral\", \"per%sd\" % (market_value),\n",
    "#               \"perc%sd\" % (market_value),\n",
    "#               sort_key2, 'perc1d', 'perc2d', 'perc3d', 'perc9d', 'per1d',\n",
    "#               'per2d', 'per3d', 'per9d']][-20:].T\n",
    "show_tdx_data(df_per3d[-10:]).T\n",
    "# df.loc[:,\n",
    "#        [\"name\", \"category\", \"close\", 'close', 'nclose', 'llastp', 'open',\n",
    "#         'nlow', 'low', 'nhigh', 'nhigh', 'low', 'volra', 'last6vol', 'volume',\n",
    "#         \"ma5dcum\", \"ma20d\", \"fib\", \"fibl\", \"df2\", \"per1d\", \"hmax\", \"lmin\",\n",
    "#         \"ra\", \"ral\", \"per%sd\" % (market_value),\n",
    "#         \"perc%sd\" % (market_value),\n",
    "#         sort_key2, 'perc1d', 'perc2d', 'perc3d', 'perc9d', 'per1d', 'per2d',\n",
    "#         'per3d', 'per9d']][-5:]\n",
    "\n",
    "# '600536'  in df.index"
   ]
  },
  {
   "cell_type": "markdown",
   "id": "67dac42b-7118-4f1f-bd49-5a2f0d502f73",
   "metadata": {
    "tags": []
   },
   "source": [
    "#### 高开高走数据排序前5 Volra <8"
   ]
  },
  {
   "cell_type": "code",
   "execution_count": null,
   "id": "7730809d-8604-4b1e-af8b-9ad0d670c25d",
   "metadata": {
    "execution": {
     "iopub.status.busy": "2023-11-17T13:08:30.695571Z",
     "iopub.status.idle": "2023-11-17T13:08:30.695571Z",
     "shell.execute_reply": "2023-11-17T13:08:30.695571Z",
     "shell.execute_reply.started": "2023-11-17T13:08:30.695571Z"
    },
    "jupyter": {
     "source_hidden": true
    },
    "tags": []
   },
   "outputs": [],
   "source": [
    "\n",
    "\n",
    "code_samp = '600771'\n",
    "\n",
    "# if code_samp  in df.index:\n",
    "#     df.loc[code_samp,['open','llastp','close','nclose','nlow','lasth1d','hmax','lmin','open','percent','fibl','ra','volra']]\n",
    "\n",
    "\n",
    "if (cct.get_now_time_int() > 915 and cct.get_now_time_int() < 926):\n",
    "    df_gkgz = dd[(dd.open > dd.llastp) & (dd.close > dd.nlow) &\n",
    "                 (dd.close > dd.open)].copy()\n",
    "else:\n",
    "    if not 'nclose' in dd.columns:\n",
    "        df_gkgz = dd[((dd.open >= dd.llastp))\n",
    "                     & (dd.close > dd.open) & ((dd.percent > 1))].copy()\n",
    "    else:\n",
    "        df_gkgz = dd[((dd.open > dd.llastp) | (dd.close > dd.nlow)) &\n",
    "                     (dd.close > dd.open) &\n",
    "                     ((dd.percent > 1) &\n",
    "                        ((dd.close > dd.nclose) | (dd.close > dd.lasth1d)) &\n",
    "                      (dd.ra == 0)\n",
    "                      & (dd.fibl > 1) )].copy()\n",
    "        # df = dd[ ((dd.open > dd.llastp) | (dd.close > dd.nlow)) & (dd.close > dd.open) & ( (dd.percent > 1) & (dd.close > dd.lasth1d) & (dd.ra == 0))].copy()\n",
    "\n",
    "\n",
    "market_value = 3\n",
    "sort_key1 = \"perc%sd\" % (market_value)\n",
    "sort_key2 = \"per%sd\" % (market_value)\n",
    "# 连阳排序\n",
    "df_gkgz = df_gkgz.sort_values(\n",
    "    by=[sort_key1, 'volra', 'vchange',\n",
    "        sort_key2, \"fib\"],\n",
    "    ascending=[0, 0, 0, 0, 1])\n",
    "\n",
    "\n",
    "# df = df[df.volra > 1.2]\n",
    "# if not (cct.get_now_time_int() > 915 and cct.get_now_time_int() < 1030):\n",
    "#     df = df[(df.volra > 1.5) & (df.volra < 8)]\n",
    "\n",
    "display(\"KEY: perc%sd %s ,%s\" % (market_value, sort_key2, df_gkgz.shape))\n",
    "\n",
    "# 交易量排序\n",
    "# df = df.sort_values(\n",
    "#     by=['volra', \"perc%sd\" % (market_value),\n",
    "#         sort_key2, \"fib\"],\n",
    "#     ascending=[0, 0, 0, 1])\n",
    "\n",
    "\n",
    "# if 'percent' not in df.columns:\n",
    "#     print(\"compute percent\")\n",
    "#     df['percent'] = ((df['close'] - df['llastp']) / df['llastp'] * 100).map(lambda x: round(x, 2))\n",
    "\n",
    "# 涨幅排序:\n",
    "# df = df.sort_values(\n",
    "#     by=[sort_key2,\"perc%sd\" % (market_value),'volra',\n",
    "#          \"fib\"],\n",
    "#     ascending=[0, 0, 0, 1])\n",
    "# dfbak = df_gkgz.copy()\n",
    "\n",
    "df_gkgz_volra = df_gkgz[((df_gkgz.close > df_gkgz.max5))\n",
    "                        & (df_gkgz.close >= df_gkgz.ma20d)\n",
    "                        & (df_gkgz.vchange >= 50)]\n",
    "                        # & (df_gkgz.volra >= 2) & (df_gkgz.vchange >= 50)]\n",
    "\n",
    "\n",
    "display(\"volra: %s %s\" % (df_gkgz_volra.shape))\n",
    "df_gkgz_volra.loc[:, ['perc%sd' % (market_value), sort_key2,'volra']][:2]\n",
    "\n",
    "# df_gkgz_volra.loc[:,\n",
    "#                   [\"name\", \"percent\", 'volra', 'vchange', \"perc%sd\" %\n",
    "#                    (market_value),\n",
    "#                    sort_key2, \"volra\", 'vchange', \"fib\", \"fibl\", 'ra', 'ral',\n",
    "#                    'topR', 'top10', 'close', 'nclose', 'lasth1d', 'hmax',\n",
    "#                    'lmin']][: 20].T\n",
    "\n",
    "show_tdx_data(df_gkgz_volra)[:20].T\n",
    "\n",
    "# df_gkgz_volra.loc[:,\n",
    "#                   [\"name\", \"percent\", 'volra', 'vchange', \"perc%sd\" % (market_value),\n",
    "#                    sort_key2, \"volra\", \"fib\", \"fibl\", 'ra', 'ral', 'topR', 'top10',\n",
    "#                    'close', 'nclose', 'lasth1d', 'hmax', 'lmin']][-20:].T\n",
    "# show_tdx_data(df_gkgz_volra[-10:]).T\n",
    "# df.loc[:,\n",
    "#        [\"name\", \"category\", 'close', 'nclose', 'llastp', 'open', 'nlow', 'low',\n",
    "#         'nhigh', 'nhigh', 'low', 'volra', 'last6vol', 'volume', \"ma5dcum\",\n",
    "#         \"ma20d\", \"fib\", \"fibl\", \"df2\", \"per1d\", \"hmax\", \"lmin\", \"ra\", \"ral\",\n",
    "#         \"per%sd\" % (market_value),\n",
    "#         \"perc%sd\" % (market_value),\n",
    "#         sort_key2, 'perc1d', 'perc2d', 'perc3d', 'perc9d', 'per1d', 'per2d',\n",
    "#         'per3d', 'per9d']][: 5]\n",
    "\n",
    "\n",
    "# df.loc[:,\n",
    "#        [\"name\", \"category\", \"close\", 'close', 'nclose', 'llastp', 'open',\n",
    "#         'nlow', 'low', 'nhigh', 'nhigh', 'low', 'volra', 'last6vol', 'volume',\n",
    "#         \"ma5dcum\", \"ma20d\", \"fib\", \"fibl\", \"df2\", \"per1d\", \"hmax\", \"lmin\",\n",
    "#         \"ra\", \"ral\", \"per%sd\" % (market_value),\n",
    "#         \"perc%sd\" % (market_value),\n",
    "#         sort_key2, 'perc1d', 'perc2d', 'perc3d', 'perc9d', 'per1d', 'per2d',\n",
    "#         'per3d', 'per9d']][-5:]"
   ]
  },
  {
   "cell_type": "markdown",
   "id": "0b6691e2-2ce5-43be-93ab-42dd52f8857b",
   "metadata": {
    "tags": []
   },
   "source": [
    "#### 高开高走+成交量Ratio-OK\n"
   ]
  },
  {
   "cell_type": "code",
   "execution_count": null,
   "id": "3ee7820e-2ba8-46fe-a34c-fb9b97d51d4b",
   "metadata": {
    "execution": {
     "iopub.status.busy": "2023-11-17T13:08:30.697567Z",
     "iopub.status.idle": "2023-11-17T13:08:30.697567Z",
     "shell.execute_reply": "2023-11-17T13:08:30.697567Z",
     "shell.execute_reply.started": "2023-11-17T13:08:30.697567Z"
    },
    "jupyter": {
     "source_hidden": true
    },
    "tags": []
   },
   "outputs": [],
   "source": [
    "df_gkgz.shape, df_gkgz_volra.shape"
   ]
  },
  {
   "cell_type": "code",
   "execution_count": null,
   "id": "be8576d4-846a-4e1c-93d9-9011e69c111a",
   "metadata": {
    "execution": {
     "iopub.status.busy": "2023-11-17T13:08:30.698563Z",
     "iopub.status.idle": "2023-11-17T13:08:30.699561Z",
     "shell.execute_reply": "2023-11-17T13:08:30.698563Z",
     "shell.execute_reply.started": "2023-11-17T13:08:30.698563Z"
    },
    "jupyter": {
     "source_hidden": true
    },
    "tags": []
   },
   "outputs": [],
   "source": [
    "# 连续放量4日v4_idx\n",
    "# gkgz_nvol_code = [x for x in df_gkgz_volra.index if x in v4_idx.index]\n",
    "# 连续单日 v3_idx\n",
    "gkgz_nvol_code = [x for x in df_gkgz_volra.index if x in v3_idx.index]\n",
    "\n",
    "gkgz_nvol_df = df_gkgz.loc[gkgz_nvol_code].sort_values(\n",
    "    by=['ratio', 'volra', 'percent'], ascending=[0, 0, 0])\n",
    "show_tdx_data(gkgz_nvol_df, col='ratio')[:10].T"
   ]
  },
  {
   "cell_type": "code",
   "execution_count": null,
   "id": "40bd081e-c03a-48bf-8ec7-b4b44132cbb4",
   "metadata": {
    "execution": {
     "iopub.status.busy": "2023-11-17T13:08:30.700558Z",
     "iopub.status.idle": "2023-11-17T13:08:30.700558Z",
     "shell.execute_reply": "2023-11-17T13:08:30.700558Z",
     "shell.execute_reply.started": "2023-11-17T13:08:30.700558Z"
    },
    "jupyter": {
     "source_hidden": true
    },
    "tags": []
   },
   "outputs": [],
   "source": [
    "# show_tdx_data(gkgz_nvol_df, col='ratio')[-10:]"
   ]
  },
  {
   "cell_type": "markdown",
   "id": "2e9503cc-6787-42b9-9b9e-d9baa8a6cff9",
   "metadata": {},
   "source": [
    "##### 高开高走写入068"
   ]
  },
  {
   "cell_type": "code",
   "execution_count": null,
   "id": "20a55db4-8450-4b5d-934f-ee907f2f6caa",
   "metadata": {
    "execution": {
     "iopub.status.busy": "2023-11-17T13:08:30.701555Z",
     "iopub.status.idle": "2023-11-17T13:08:30.701555Z",
     "shell.execute_reply": "2023-11-17T13:08:30.701555Z",
     "shell.execute_reply.started": "2023-11-17T13:08:30.701555Z"
    },
    "tags": []
   },
   "outputs": [],
   "source": [
    "# aLL\n",
    "# write_code_to_blk(df.index,'068')\n",
    "# aLL AND gkgz_nvol_code\n",
    "gkgz_nvol_df.shape\n",
    "# write_code_to_blk(gkgz_nvol_df.index, '068')"
   ]
  },
  {
   "cell_type": "code",
   "execution_count": null,
   "id": "f4c582ba-7ac8-43ec-a523-f6273bd314d1",
   "metadata": {
    "jupyter": {
     "source_hidden": true
    },
    "tags": []
   },
   "outputs": [],
   "source": []
  },
  {
   "cell_type": "code",
   "execution_count": null,
   "id": "76efd06a-6f9b-4dce-9223-24423dc8de7f",
   "metadata": {
    "execution": {
     "iopub.status.busy": "2023-11-17T13:08:30.703594Z",
     "iopub.status.idle": "2023-11-17T13:08:30.703594Z",
     "shell.execute_reply": "2023-11-17T13:08:30.703594Z",
     "shell.execute_reply.started": "2023-11-17T13:08:30.703594Z"
    },
    "jupyter": {
     "source_hidden": true
    },
    "tags": []
   },
   "outputs": [],
   "source": [
    "\n",
    "name_loc = df.columns.get_loc(\"name\")\n",
    "perc_loc = df.columns.get_loc(\"percent\")\n",
    "\n",
    "# if code_samp  in df.index:\n",
    "#     iloc = df.index.get_indexer_for((df[df.index == code_samp].index)).tolist()[0]\n",
    "#     print(\"%s pos:%s percent:%s\"%(df.iloc[iloc,name_loc],iloc,df.iloc[iloc,perc_loc]))\n",
    "#     df.loc[code_samp,\n",
    "#        [\"name\", \"category\",\"volra\", \"close\", 'close', 'nclose', 'llastp', 'open',\n",
    "#         'nlow', 'low', 'nhigh', 'nhigh', 'low', 'volra', 'last6vol', 'volume',\n",
    "#         \"ma5dcum\", \"ma20d\", \"fib\", \"fibl\", \"df2\", \"per1d\", \"hmax\", \"lmin\",\n",
    "#         \"ra\", \"ral\", \"per%sd\" % (market_value),\n",
    "#         \"perc%sd\" % (market_value),\n",
    "#         sort_key2, 'perc1d', 'perc2d', 'perc3d', 'perc9d', 'per1d', 'per2d',\n",
    "#         'per3d', 'per9d']].T"
   ]
  },
  {
   "cell_type": "markdown",
   "id": "8043abd5-e796-4e81-8c14-4347a418b9a0",
   "metadata": {},
   "source": [
    "### 优势板块统计"
   ]
  },
  {
   "cell_type": "code",
   "execution_count": null,
   "id": "88a59b8d-460f-4d4b-a5d8-e23fa5c45320",
   "metadata": {
    "execution": {
     "iopub.status.busy": "2023-11-17T13:08:30.705546Z",
     "iopub.status.idle": "2023-11-17T13:08:30.705546Z",
     "shell.execute_reply": "2023-11-17T13:08:30.705546Z",
     "shell.execute_reply.started": "2023-11-17T13:08:30.705546Z"
    },
    "jupyter": {
     "source_hidden": true
    },
    "tags": []
   },
   "outputs": [],
   "source": [
    "# df = df[df.high >= df.upper]\n",
    "\n",
    "# topSort = counterCategory(df)\n",
    "\n",
    "# topSort.keys()\n",
    "\n",
    "# for i in topSort.keys():\n",
    "#     # print(u\"板块:%s %s \" % (i.decode('utf8'), (topSort[i]))),\n",
    "#     # print(u\"板块:%s count:%s\" % (i, (topSort[i]))),\n",
    "#     print(i, (topSort[i]))\n",
    "#     # print('')\n",
    "#     # unicode(i.encode('utf8'), 'utf-8').encode('utf-8')\n",
    "#     # unicode(i, 'utf-8').encode('gbk')\n",
    "#     # display(i.decode('utf8'))\n",
    "#     # (i.encode('utf8'))\n",
    "#     # (i.decode('unicode_escape'))\n",
    "#     # print((u'[' + u','.join((i.decode('utf8'))) + u']'))\n",
    "\n",
    "counterCategory(df)\n",
    "df.shape\n",
    "df[:10].name\n",
    "# topSort.keys()"
   ]
  },
  {
   "cell_type": "markdown",
   "id": "fc081808-06e6-42dc-be9e-320da2df38f8",
   "metadata": {
    "tags": []
   },
   "source": [
    "### XXX  高开高走VOl 1.5-6 "
   ]
  },
  {
   "cell_type": "code",
   "execution_count": null,
   "id": "ad398d57-a426-4fb8-bdf2-ae7bdf0d8f24",
   "metadata": {
    "execution": {
     "iopub.status.busy": "2023-11-17T13:08:30.706542Z",
     "iopub.status.idle": "2023-11-17T13:08:30.707539Z",
     "shell.execute_reply": "2023-11-17T13:08:30.707539Z",
     "shell.execute_reply.started": "2023-11-17T13:08:30.707539Z"
    },
    "jupyter": {
     "source_hidden": true
    },
    "tags": []
   },
   "outputs": [],
   "source": [
    "\n",
    "\n",
    "filter_day = '1'\n",
    "\n",
    "if filter_day < str(2):\n",
    "    # print(filter_day)\n",
    "    df_gkgz_vol = df[(df.lasth1d >= df.upper) & (\n",
    "        df.close > df.ma20d) & (df.ma5d > df.ma20d)]\n",
    "    # df_gkgz_vol = [(df.lasth1d >= df.upper) &(\n",
    "    #     df.close > df.ma20d) & (df.ma5d > df.ma20d)]\n",
    "else:\n",
    "    df_gkgz_vol = df[(df['lastp%sd' % (filter_day)] >= df.upper)\n",
    "            & (df['lastp%sd' % (filter_day)] > df['ma20%sd' % (filter_day)])\n",
    "            & (df['ma5%sd' % (filter_day)] > df['ma20%sd' % (filter_day)])]\n",
    "\n",
    "topSort = counterCategory(df_gkgz_vol)\n",
    "\n",
    "for i in topSort.keys():\n",
    "    # print(\"板块:%s %s \" % (i, (topSort[i]))),\n",
    "    print(i, (topSort[i]))\n",
    "    # print('')\n",
    "    # unicode(i.encode('utf8'), 'utf-8').encode('utf-8')\n",
    "    # unicode(i, 'utf-8').encode('gbk')\n",
    "    # display(i.decode('utf8'))\n",
    "    # (i.encode('utf8'))\n",
    "    # (i.decode('unicode_escape'))\n",
    "    # print((u'[' + u','.join((i.decode('utf8'))) + u']'))\n",
    "df_gkgz_vol.shape\n",
    "# print(repr(topSort.keys()).decode('unicode_escape'))\n",
    "# df.loc[:,[\"name\",]]\n",
    "# df_gkgz_vol[:10].name\n",
    "# topSort.keys()"
   ]
  },
  {
   "cell_type": "markdown",
   "id": "06642b8b-1d9a-4173-baab-fe7aa203d0c2",
   "metadata": {},
   "source": [
    "#### 高开高走强势股"
   ]
  },
  {
   "cell_type": "code",
   "execution_count": null,
   "id": "f07751af-ca8f-4982-94bd-ac69f74ec61d",
   "metadata": {
    "execution": {
     "iopub.status.busy": "2023-11-17T13:08:30.708536Z",
     "iopub.status.idle": "2023-11-17T13:08:30.708536Z",
     "shell.execute_reply": "2023-11-17T13:08:30.708536Z",
     "shell.execute_reply.started": "2023-11-17T13:08:30.708536Z"
    },
    "jupyter": {
     "source_hidden": true
    },
    "tags": []
   },
   "outputs": [],
   "source": [
    "# df.loc[:,\n",
    "#        [\"name\", \"category\",'close','nclose', 'llastp','open', 'nlow', 'low', 'nhigh', 'nhigh',\n",
    "#        'low',  'lastbuy','volra','last6vol','volume', \"ma5dcum\", \"ma20d\", \"fib\",\n",
    "#         \"fibl\", \"df2\", \"per1d\", \"hmax\", \"lmin\", \"ra\", \"ral\", \"per%sd\" %\n",
    "#         (market_value),\n",
    "#         \"perc%sd\" % (market_value),\n",
    "#         sort_key2,],]\n",
    "\n",
    "# df_gkgz_vol.loc[:,\n",
    "#                 ['name', \"category\", 'close', 'percent', 'vchange', \"ma5dcum\",\n",
    "#                  'lastp%sd' % (filter_day),\n",
    "#                  'ma5%sd' % (filter_day),\n",
    "#                  'ma20%sd' % (filter_day),\n",
    "#                  \"fib\", \"fibl\", \"df2\", \"per1d\", \"hmax\", \"lmin\", \"ra\", \"ral\",\n",
    "#                  \"per%sd\" % (market_value),\n",
    "#                  \"perc%sd\" % (market_value),\n",
    "#                  sort_key2]][: 10].T\n",
    "show_tdx_data(df_gkgz_vol)[:20].T\n",
    "\n",
    "# df_gkgz_vol.loc[:,\n",
    "#                 ['name', \"category\", 'close', 'percent', 'vchange', \"ma5dcum\",\n",
    "#                  \"ma20d\", \"fib\", \"fibl\", \"df2\", \"per1d\", \"hmax\", \"lmin\", \"ra\",\n",
    "#                  \"ral\", \"per%sd\" % (market_value),\n",
    "#                  \"perc%sd\" % (market_value),\n",
    "#                  sort_key2]][-5:]\n",
    "\n",
    "# show_tdx_data(df_gkgz_vol[-10:]).T"
   ]
  },
  {
   "cell_type": "markdown",
   "id": "15411632-9c77-411b-94ee-a13938f0c91c",
   "metadata": {},
   "source": [
    "#### 高开高走Vol1.5写入063"
   ]
  },
  {
   "cell_type": "markdown",
   "id": "9aaedd55-14df-4c01-a32a-d21c6d5e3d88",
   "metadata": {},
   "source": [
    "write_code_to_blk(df.index,'063')"
   ]
  },
  {
   "cell_type": "code",
   "execution_count": null,
   "id": "ae73132f-81e0-4208-867e-eef9ffbcd460",
   "metadata": {
    "execution": {
     "iopub.status.busy": "2023-11-17T13:08:30.710533Z",
     "iopub.status.idle": "2023-11-17T13:08:30.710533Z",
     "shell.execute_reply": "2023-11-17T13:08:30.710533Z",
     "shell.execute_reply.started": "2023-11-17T13:08:30.710533Z"
    },
    "jupyter": {
     "source_hidden": true
    },
    "tags": []
   },
   "outputs": [],
   "source": [
    "# df.loc[code_samp,\n",
    "#        [\"name\", \"category\", \"volra\", 'vchange', \"close\", 'close', 'nclose',\n",
    "#         'llastp', 'open', 'nlow', 'low', 'nhigh', 'nhigh', 'low', 'volra',\n",
    "#         'last6vol', 'volume', \"ma5dcum\", \"ma20d\", \"fib\", \"fibl\", \"df2\",\n",
    "#         \"per1d\", \"hmax\", \"lmin\", \"ra\", \"ral\", \"per%sd\" % (market_value),\n",
    "#         \"perc%sd\" % (market_value),\n",
    "#         sort_key2, 'perc1d', 'perc2d', 'perc3d', 'perc9d', 'per1d', 'per2d',\n",
    "#         'per3d', 'per9d']].T"
   ]
  },
  {
   "cell_type": "code",
   "execution_count": null,
   "id": "3c2498d3-6259-4629-84fe-9fd88ceaafb8",
   "metadata": {
    "execution": {
     "iopub.status.busy": "2023-11-17T13:08:30.711529Z",
     "iopub.status.idle": "2023-11-17T13:08:30.712526Z",
     "shell.execute_reply": "2023-11-17T13:08:30.712526Z",
     "shell.execute_reply.started": "2023-11-17T13:08:30.712526Z"
    },
    "jupyter": {
     "source_hidden": true
    },
    "tags": []
   },
   "outputs": [],
   "source": [
    "# VectorBT 回测"
   ]
  },
  {
   "cell_type": "markdown",
   "id": "8cedf5e7-2a00-49bb-bb28-26263ce47d00",
   "metadata": {
    "execution": {
     "iopub.execute_input": "2023-01-24T16:58:33.604647Z",
     "iopub.status.busy": "2023-01-24T16:58:33.604647Z",
     "iopub.status.idle": "2023-01-24T16:58:37.040323Z",
     "shell.execute_reply": "2023-01-24T16:58:37.039369Z",
     "shell.execute_reply.started": "2023-01-24T16:58:33.604647Z"
    },
    "tags": []
   },
   "source": [
    "import vectorbt as vbt"
   ]
  },
  {
   "cell_type": "markdown",
   "id": "dc0e3057-9c3f-4c84-99fe-3231886f397b",
   "metadata": {
    "execution": {
     "iopub.execute_input": "2023-01-24T16:59:02.427290Z",
     "iopub.status.busy": "2023-01-24T16:59:02.426294Z",
     "iopub.status.idle": "2023-01-24T16:59:02.450230Z",
     "shell.execute_reply": "2023-01-24T16:59:02.449293Z",
     "shell.execute_reply.started": "2023-01-24T16:59:02.427290Z"
    },
    "tags": []
   },
   "source": [
    "# Matplotlib Scatter Plot\n",
    "plt.scatter(‘total_bill’, ‘tip’,data=df.close)\n",
    "plt.xlabel(‘Total Bill’)\n",
    "plt.ylabel(‘Tip’)\n",
    "plt.show()"
   ]
  },
  {
   "cell_type": "code",
   "execution_count": null,
   "id": "16c3bad7-a8ed-4942-b44a-e20eeb60ad7f",
   "metadata": {
    "execution": {
     "iopub.status.busy": "2023-11-17T13:08:30.713523Z",
     "iopub.status.idle": "2023-11-17T13:08:30.713523Z",
     "shell.execute_reply": "2023-11-17T13:08:30.713523Z",
     "shell.execute_reply.started": "2023-11-17T13:08:30.713523Z"
    },
    "jupyter": {
     "source_hidden": true
    },
    "tags": []
   },
   "outputs": [],
   "source": [
    "tdf.shape\n",
    "tdf.loc[:,\n",
    "        [\"close\", \"ma5d\", \"ma10d\", \"ma20d\", \"upper\", \"lower\", \"lastp1d\",\n",
    "         \"ma5dcum\", \"ma20d\", \"fib\", \"fibl\", \"ra\", \"df2\", \"per1d\", \"hmax\",\n",
    "         'lmin', \"per%sd\" % (market_value),\n",
    "         \"perc%sd\" % (market_value),\n",
    "         sort_key2, ]][-1:]\n",
    "# df.columns"
   ]
  },
  {
   "cell_type": "code",
   "execution_count": null,
   "id": "89c108cb-9f33-4452-8bec-28b3e20f9377",
   "metadata": {
    "execution": {
     "iopub.status.busy": "2023-11-17T13:08:30.714520Z",
     "iopub.status.idle": "2023-11-17T13:08:30.714520Z",
     "shell.execute_reply": "2023-11-17T13:08:30.714520Z",
     "shell.execute_reply.started": "2023-11-17T13:08:30.714520Z"
    },
    "jupyter": {
     "source_hidden": true
    },
    "tags": []
   },
   "outputs": [],
   "source": [
    "tdf[tdf.columns[(tdf.columns >= \"per1d\") & (tdf.columns <= \"per9d\")]][-1:]\n",
    "tdf[tdf.columns[(tdf.columns >= \"perc1d\") & (tdf.columns <= \"perc9d\")]][-1:]"
   ]
  },
  {
   "cell_type": "code",
   "execution_count": null,
   "id": "8232ed34-8119-4ef9-8848-54d1b4babad5",
   "metadata": {
    "execution": {
     "iopub.status.busy": "2023-11-17T13:08:30.715518Z",
     "iopub.status.idle": "2023-11-17T13:08:30.716515Z",
     "shell.execute_reply": "2023-11-17T13:08:30.715518Z",
     "shell.execute_reply.started": "2023-11-17T13:08:30.715518Z"
    },
    "jupyter": {
     "source_hidden": true
    },
    "tags": []
   },
   "outputs": [],
   "source": [
    "tdf[tdf.columns[(tdf.columns >= \"per1d\") & (tdf.columns <= \"per9d\")]][:1]\n",
    "tdf[tdf.columns[(tdf.columns >= \"perc1d\") & (tdf.columns <= \"perc9d\")]][:1]"
   ]
  },
  {
   "cell_type": "code",
   "execution_count": null,
   "id": "cd2bd72f-2d4e-4e68-92ed-f9bc3299b394",
   "metadata": {
    "execution": {
     "iopub.status.busy": "2023-11-17T13:08:30.717513Z",
     "iopub.status.idle": "2023-11-17T13:08:30.717513Z",
     "shell.execute_reply": "2023-11-17T13:08:30.717513Z",
     "shell.execute_reply.started": "2023-11-17T13:08:30.717513Z"
    },
    "jupyter": {
     "source_hidden": true
    },
    "tags": []
   },
   "outputs": [],
   "source": [
    "code\n",
    "tdf = tdd.get_tdx_Exp_day_to_df(code, dl=60).sort_index(ascending=True)\n",
    "cname = tdd.get_sina_data_code(code)\n",
    "# plt.title(\n",
    "#     stock_code + \" | \" + cname + \" | \" + str(quotes.index[-1])[: 10],\n",
    "#     fontsize=14)\n",
    "tdf.loc[:, [\"close\", \"ma5d\", \"ma10d\", \"ma20d\",\n",
    "            \"upper\", \"lower\", \"hmax\", 'lmin', 'cmean']].plot()"
   ]
  },
  {
   "cell_type": "code",
   "execution_count": null,
   "id": "ebd23bb1-512c-4ddc-a5ec-442b17105bf1",
   "metadata": {
    "execution": {
     "iopub.status.busy": "2023-11-17T13:08:30.718510Z",
     "iopub.status.idle": "2023-11-17T13:08:30.719508Z",
     "shell.execute_reply": "2023-11-17T13:08:30.719508Z",
     "shell.execute_reply.started": "2023-11-17T13:08:30.719508Z"
    },
    "jupyter": {
     "source_hidden": true
    },
    "tags": []
   },
   "outputs": [],
   "source": [
    "tdf[tdf.columns[(tdf.columns >= \"perc1d\") & (tdf.columns <= \"perc9d\")]][-1:]"
   ]
  },
  {
   "cell_type": "code",
   "execution_count": null,
   "id": "3f76d8f9-523b-427b-8687-eeefe6519091",
   "metadata": {
    "execution": {
     "iopub.status.busy": "2023-11-17T13:08:30.720505Z",
     "iopub.status.idle": "2023-11-17T13:08:30.720505Z",
     "shell.execute_reply": "2023-11-17T13:08:30.720505Z",
     "shell.execute_reply.started": "2023-11-17T13:08:30.720505Z"
    },
    "jupyter": {
     "source_hidden": true
    },
    "tags": []
   },
   "outputs": [],
   "source": [
    "tdf[tdf.columns[(tdf.columns >= \"per1d\") & (tdf.columns <= \"per9d\")]][-1:]"
   ]
  },
  {
   "cell_type": "code",
   "execution_count": null,
   "id": "8e6f3a64-2a81-4c48-9145-44c193f878b0",
   "metadata": {
    "jupyter": {
     "source_hidden": true
    },
    "tags": []
   },
   "outputs": [],
   "source": []
  },
  {
   "cell_type": "code",
   "execution_count": null,
   "id": "377947d5-f68f-4851-b990-6f5cb668d528",
   "metadata": {
    "jupyter": {
     "source_hidden": true
    },
    "tags": []
   },
   "outputs": [],
   "source": []
  }
 ],
 "metadata": {
  "kernelspec": {
   "display_name": "python3.9",
   "language": "python",
   "name": "python3"
  },
  "language_info": {
   "codemirror_mode": {
    "name": "ipython",
    "version": 3
   },
   "file_extension": ".py",
   "mimetype": "text/x-python",
   "name": "python",
   "nbconvert_exporter": "python",
   "pygments_lexer": "ipython3",
   "version": "3.9.13"
  },
  "toc-autonumbering": false,
  "widgets": {
   "application/vnd.jupyter.widget-state+json": {
    "state": {},
    "version_major": 2,
    "version_minor": 0
   }
  }
 },
 "nbformat": 4,
 "nbformat_minor": 5
}
