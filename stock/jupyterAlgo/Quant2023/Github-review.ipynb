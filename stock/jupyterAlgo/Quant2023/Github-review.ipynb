{
 "cells": [
  {
   "cell_type": "markdown",
   "id": "56129d2f-1926-45a1-9ef4-9db13c9c3ed6",
   "metadata": {},
   "source": [
    "# 获取Github\n",
    "https://blog.csdn.net/cqijidehaqiqi/article/details/127757402"
   ]
  },
  {
   "cell_type": "code",
   "execution_count": 1,
   "id": "8812d3bb-7409-4130-83ed-799549be2e07",
   "metadata": {
    "execution": {
     "iopub.execute_input": "2023-01-28T04:00:11.266589Z",
     "iopub.status.busy": "2023-01-28T04:00:11.266589Z",
     "iopub.status.idle": "2023-01-28T04:00:16.326821Z",
     "shell.execute_reply": "2023-01-28T04:00:16.325867Z",
     "shell.execute_reply.started": "2023-01-28T04:00:11.266589Z"
    },
    "tags": []
   },
   "outputs": [
    {
     "name": "stderr",
     "output_type": "stream",
     "text": [
      "Cloning into 'TradingTutorial'...\n"
     ]
    }
   ],
   "source": [
    "! git clone https://github.com/johnsonhongyi/TradingTutorial.git"
   ]
  }
 ],
 "metadata": {
  "kernelspec": {
   "display_name": "pytorch_gpu",
   "language": "python",
   "name": "pytorch_gpu"
  },
  "language_info": {
   "codemirror_mode": {
    "name": "ipython",
    "version": 3
   },
   "file_extension": ".py",
   "mimetype": "text/x-python",
   "name": "python",
   "nbconvert_exporter": "python",
   "pygments_lexer": "ipython3",
   "version": "3.7.7"
  },
  "widgets": {
   "application/vnd.jupyter.widget-state+json": {
    "state": {},
    "version_major": 2,
    "version_minor": 0
   }
  }
 },
 "nbformat": 4,
 "nbformat_minor": 5
}
